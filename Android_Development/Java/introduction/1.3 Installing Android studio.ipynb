{
  "nbformat": 4,
  "nbformat_minor": 0,
  "metadata": {
    "colab": {
      "name": "java_INSTALLATION.ipynb",
      "provenance": [],
      "collapsed_sections": []
    },
    "kernelspec": {
      "name": "python3",
      "display_name": "Python 3"
    },
    "language_info": {
      "name": "python"
    }
  },
  "cells": [
    {
      "cell_type": "markdown",
      "metadata": {
        "id": "zX-h1IcZU6-J"
      },
      "source": [
        "#<B>Installing Android Studio</B>\n",
        "\n",
        "Download Android studio to here: https://developer.android.com/studio#downloads\n",
        "as per your operating system.\n",
        "here <b>.exe</b> and <b>.zip</b> both are available. <br>\n",
        "If you download <b>.zip</b> then unzip it (using write click on those file and select option \"extrect here\").\n",
        "open android-studio > bin folder here 2 <b>.exe</b> file  presant. studio64.exe (for 64-bit machine) and studio.exe (for 32-bit machine).\n",
        "\n",
        "#Installation Android studio in system. \n",
        "\n",
        "1. For windows user:-<br>\n",
        "\n",
        "      1. launch Android studio --> click on <b>.exe</b> file.<br> then you find this interface.\n",
        "      ![Picture](https://drive.google.com/uc?export=view&id=1V9_6th_5Q67M43Ole9N-m32ht8Foz6HG)\n",
        "\n",
        "      2. continue with next.\n",
        "\n",
        "      ![picture](https://drive.google.com/uc?export=view&id=1VSBvcf4gEGz3FWliaFFGbt54jko4W-QZ)\n",
        "      \n",
        "      3. Click next\n",
        "      \n",
        "      ![picture](https://drive.google.com/uc?export=view&id=1pouggp9DMpjDAbdAUIaImi-4oqRT6ReJ)\n",
        "      \n",
        "      4. choose path and click next.\n",
        "      \n",
        "      ![picture](https://drive.google.com/uc?export=view&id=1bXowczn9w2DPswfqi71xxzy6etjGXa6Z)\n",
        "\n",
        "      5. Click Install\n",
        "      \n",
        "      ![picture](https://drive.google.com/uc?export=view&id=1HQaR5BMICir03wP0s6ms6L4yCeKW1tB5)\n",
        "      \n",
        "      6. Installing start\n",
        "      \n",
        "      ![picture](https://drive.google.com/uc?export=view&id=1yUbhWF8aHtq6lkRpA6i83gZOh46iCAeC)\n",
        "      \n",
        "      7. Click next\n",
        "      \n",
        "      ![picture](https://drive.google.com/uc?export=view&id=1zaVnwt3NSgBJVY1xC41YoYS7Qj91ZPdQ)\n",
        "      \n",
        "      8. Click finish\n",
        "      \n",
        "      ![picture](https://drive.google.com/uc?export=view&id=11iyo3ViJclYnkyY8V16NGKywMoDul7hH)\n",
        "\n"
      ]
    },
    {
      "cell_type": "markdown",
      "metadata": {
        "id": "Pn7BbBURI8kM"
      },
      "source": [
        "2. For MAC user :-<br>\n",
        "    \n",
        "      1. Launch the Android Studio DMG file.(double click on DMG file)\n",
        "\n",
        "      ![picture](https://drive.google.com/uc?export=view&id=1EWVePbCO_Q2Zoa2XLvq-WH677jwVZqvc)\n",
        "\n",
        "      2. Drag and drop Android Studio into the Applications folder, then launch Android Studio.\n",
        "\n",
        "      ![picture](https://drive.google.com/uc?export=view&id=1G_IEm3vnl2RThYMRmVIHqxubNSAs7qR4)\n",
        "\n",
        "      3. click OK.\n",
        "\n",
        "      ![picture](https://drive.google.com/uc?export=view&id=1vZHEP1ZCosI1-JoWA-AVbHX-8IrfPkdo)\n",
        "\n",
        "      4. click next.\n",
        "\n",
        "      ![picture](https://drive.google.com/uc?export=view&id=1fR7m3-MWp2cZm8xjQVfor6trjaiUAWvR)\n",
        "\n",
        "      5. click next.\n",
        "\n",
        "      ![picture](https://drive.google.com/uc?export=view&id=1e6Y3r_MYQHnCRUIwBZhX8C4QIi9aj9kH).\n",
        "\n",
        "      ![picture](https://drive.google.com/uc?export=view&id=1yxf2IPAZQE9isZwF2e2Jq2B2M7BPWVzK)\n",
        ". \n",
        "      ![picture](https://drive.google.com/uc?export=view&id=1hYCEk0O_X65qdhymNMO1s9X6GPOyAXaN)\n",
        " .\n",
        "      ![picture](https://drive.google.com/uc?export=view&id=1DyrVCemBeJicj-oZRKxdg5IuNaaQ_vLI)\n",
        ".\n",
        "      ![picture](https://drive.google.com/uc?export=view&id=1wmQhug-o_3fXmxzNqlQS-29-CrKY3idU)\n"
      ]
    },
    {
      "cell_type": "markdown",
      "metadata": {
        "id": "4dQZpz2_J3dG"
      },
      "source": [
        "3.For Linux user: <br>\n",
        "\n",
        "     1. unzip file using this command\n",
        "             \"tar –xvzf android-studio-2020.3.1.24-linux.tar.gz\"\n",
        "     2. Go in (/Downloads/android-studio/bin) this directory\n",
        "     3. Run \"./android.sh\" then start android-studio ..\n",
        "  ![picture](https://drive.google.com/uc?export=view&id=1uxqSae0b5TrSGrlANvUQYqJuTV7mvqDx)   \n",
        "     \n",
        " ![picture](https://drive.google.com/uc?export=view&id=1lkmsa-G0cr07pNLZhwnn9uCTZzb_fFMj)     \n",
        "     \n",
        " ![picture](https://drive.google.com/uc?export=view&id=1ftJkNL2h9nSDA5dW5lMUwRoE4Emn_TaB)     \n",
        "\n",
        " ![picture](https://drive.google.com/uc?export=view&id=1SWfVtcuod-wJJ0jZ6gAaMeyMgxb7tAaH)     \n",
        "\n",
        " ![picture](https://drive.google.com/uc?export=view&id=1E72XZ_SA4GJtiGnaJSICBTksaex7LRcQ)     \n",
        "\n",
        " ![picture](https://drive.google.com/uc?export=view&id=1qprqRLtjqfLYn0eGCotWxud2Svb0Qoxw)     \n",
        "\n",
        " ![picture](https://drive.google.com/uc?export=view&id=12YQ8wPHTUPumVr9Ac9iqJAWakqd1OgTz)     \n",
        "\n",
        " ![picture](https://drive.google.com/uc?export=view&id=1wDGX2eIiIU_tyBReCIxCFteY4wUstL90)     \n",
        "\n",
        " ![picture](https://drive.google.com/uc?export=view&id=14pf1QnCb7QkUOPnEGDZiAbyumyZL1-4N)     \n",
        "\n",
        " ![picture](https://drive.google.com/uc?export=view&id=1z3jJy5QMfLpOLtWyO3EezCgriyF3asqT)     \n",
        "\n"
      ]
    }
  ]
}