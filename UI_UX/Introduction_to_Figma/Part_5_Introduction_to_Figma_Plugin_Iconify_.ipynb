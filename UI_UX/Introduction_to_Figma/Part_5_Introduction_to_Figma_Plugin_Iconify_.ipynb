{
  "nbformat": 4,
  "nbformat_minor": 0,
  "metadata": {
    "colab": {
      "name": "Part_5_Introduction_to_Figma_Plugin_Iconify .ipynb",
      "provenance": [],
      "collapsed_sections": []
    },
    "kernelspec": {
      "name": "python3",
      "display_name": "Python 3"
    },
    "language_info": {
      "name": "python"
    }
  },
  "cells": [
    {
      "cell_type": "markdown",
      "metadata": {
        "id": "AoTGpS1SSyme"
      },
      "source": [
        "<h2>Introduction to Figma and Iconify plugin\n",
        "\n",
        "---\n"
      ]
    },
    {
      "cell_type": "markdown",
      "metadata": {
        "id": "tcLHVVcZS3ev"
      },
      "source": [
        "\n",
        "*   Figma is basically used for the designing of UI & UX of various website,Mobile application,etc\n",
        "*   Iconify is one of mostly use used and most useful plugin for add icon to our UI and make the UI more Attractive\n"
      ]
    },
    {
      "cell_type": "markdown",
      "metadata": {
        "id": "9kQIgO6Hsmxb"
      },
      "source": [
        "<img src=\"https://www.figma.com/community/plugin/735098390272716381/thumbnail\" width=\"2000\"/><"
      ]
    },
    {
      "cell_type": "markdown",
      "metadata": {
        "id": "qWOY28_vTjuw"
      },
      "source": [
        "<h2>Installation\n",
        "\n",
        "---\n",
        "\n"
      ]
    },
    {
      "cell_type": "markdown",
      "metadata": {
        "id": "3WMkI49sTj4h"
      },
      "source": [
        "We can install the Iconify plugin from [Iconify plugin Page](https://www.figma.com/community/plugin/735098390272716381/Iconify)\n",
        "\n"
      ]
    },
    {
      "cell_type": "markdown",
      "metadata": {
        "id": "OrXyY7qfTkBm"
      },
      "source": [
        "<h2>Features\n",
        "\n",
        "---\n",
        "\n"
      ]
    },
    {
      "cell_type": "markdown",
      "metadata": {
        "id": "evx1D-CyTkEr"
      },
      "source": [
        "\n",
        "\n",
        "1.   can import icons ( also import  by drag and drop method)\n",
        "2.   Customize the icons property like color , size , dimentions ,etc\n",
        "3.   Import custom `SVG ICONS` to it by URL \n",
        "\n"
      ]
    },
    {
      "cell_type": "markdown",
      "metadata": {
        "id": "eo9QGGAjTkIQ"
      },
      "source": [
        "<h2>Usage\n",
        "\n",
        "---\n",
        "\n"
      ]
    },
    {
      "cell_type": "markdown",
      "metadata": {
        "id": "gp-wFPMfTkL2"
      },
      "source": [
        "\n",
        "`step 1 :`    First install the plugin from [Iconify plugin Page](https://www.figma.com/community/plugin/735098390272716381/Iconify) \n",
        "\n",
        "`step 2 :`    In figma menu select \"plugin\" , then select \"Iconify\"\n",
        "\n",
        "`step 3 :`    Browse the required icon by there relevant name\n",
        "\n",
        "`step 4 :`    Then adjust required property of that icon like color , height , flip , rotate. \n",
        "\n",
        "`step 5 :`    Then click on import icon button and use that icon ( we can also import that by drag and drop methol as told earlier )\n",
        "\n",
        "\n",
        "\n",
        "\n",
        "\n"
      ]
    },
    {
      "cell_type": "markdown",
      "metadata": {
        "id": "KAO157p9qRuO"
      },
      "source": [
        "<img src=\"https://user-images.githubusercontent.com/73134736/134555043-aa58a5c7-0c6d-4b03-806d-b80d8f977be9.png\" width=\"100%\" />\n",
        "<img src=\"https://user-images.githubusercontent.com/73134736/134553711-203631ef-e130-4696-b549-a29ef669578c.JPG\" width=\"100%\"/>\n",
        "<img src=\"https://user-images.githubusercontent.com/73134736/134553712-da0129f8-fcc4-4c13-a084-52e7bd53287f.JPG\" width=\"100%\"/>"
      ]
    },
    {
      "cell_type": "code",
      "metadata": {
        "id": "QJKsCJqNmUVj"
      },
      "source": [
        ""
      ],
      "execution_count": null,
      "outputs": []
    }
  ]
}