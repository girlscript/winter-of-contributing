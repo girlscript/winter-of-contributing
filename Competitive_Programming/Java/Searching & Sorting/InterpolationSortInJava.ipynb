{
  "nbformat": 4,
  "nbformat_minor": 0,
  "metadata": {
    "colab": {
      "name": "InterpolationSortInJava.ipynb",
      "provenance": [],
      "collapsed_sections": []
    },
    "kernelspec": {
      "name": "python3",
      "display_name": "Python 3"
    },
    "language_info": {
      "name": "python"
    }
  },
  "cells": [
    {
      "cell_type": "markdown",
      "metadata": {
        "id": "dBgJiXM0tYpR"
      },
      "source": [
        "# Introduction:\n",
        "\n",
        "---\n",
        "\n"
      ]
    },
    {
      "cell_type": "markdown",
      "metadata": {
        "id": "b_cN452WtjFb"
      },
      "source": [
        "There are two kinds of sorting algorithms, O(n²) and O(n*log(n)).  O(n²) takes more time but comparatively less space while O(n*log(n)) algorithms take less time but comparatively more space as described by <a href=\"https://www.computer.org/profiles/donald-knuth\"><b>Knuth</b></a>.\n",
        "So, O(n²) is preferred over small arrays and O(n*log(n)) is preferred over large arrays."
      ]
    },
    {
      "cell_type": "markdown",
      "metadata": {
        "id": "0otz-95Fuq9S"
      },
      "source": [
        "The most commonly used sorting algorithms are.\n",
        "* Quick Sort `O(nlog(n))`\n",
        "* Bubble Sort `O(n²)`\n",
        "* Merge Sort `O(nlog(n))`\n",
        "* Insertion Sort `O(n²)`\n",
        "* Selection Sort `O(n²)`\n",
        "* Heap Sort `O(nlog(n))`\n",
        "* Radix Sort `O(d*(n+b))` (where d is the number of digits in the given list, n is the number of elements in the list)\n",
        "* Bucket Sort `O(n + k)`"
      ]
    },
    {
      "cell_type": "markdown",
      "metadata": {
        "id": "bOj10j1w5Adb"
      },
      "source": [
        "But this time, the sorting algorithm which we are going to discuss is not present in this list. Let's start it."
      ]
    },
    {
      "cell_type": "markdown",
      "metadata": {
        "id": "5J5hosTB5E8u"
      },
      "source": [
        "# **Interpolation Sort:**\n",
        "\n",
        "\n",
        "---\n",
        "\n"
      ]
    },
    {
      "cell_type": "markdown",
      "metadata": {
        "id": "EtHMP2FY5-Z8"
      },
      "source": [
        "Before starting anything, it is important to know why it is necessary for us."
      ]
    },
    {
      "cell_type": "markdown",
      "metadata": {
        "id": "djXnl5oQBu2X"
      },
      "source": [
        "Interpolation sort is a new sorting algorithm that derives its motivation from the Interpolation search. It shows a high probability to show O(n) time complexity for well-distributed data."
      ]
    },
    {
      "cell_type": "markdown",
      "metadata": {
        "id": "whEAtXxyBxMN"
      },
      "source": [
        "## **Explanation of the Algotithm:**\n",
        "\n",
        "\n"
      ]
    },
    {
      "cell_type": "markdown",
      "metadata": {
        "id": "zQH_QGCBC0Z7"
      },
      "source": [
        "The algorithm can be better understood if preceded by an example. So this section will aim at explaining the algorithm with an example and then discuss how to implement the same in reality. \n",
        "\n",
        "Consider the following unsorted array of size 15:\n",
        "\n",
        "\n",
        "```\n",
        "[61 , 53 , 42 , 14 , 64 , 2 , -2 , 6 , 17 , 9 , 11 , 3 , 3 , 4 , 7]\n",
        "```\n",
        "\n",
        "The backbone of the sorting algorithm is the interpolation formula:\n"
      ]
    },
    {
      "cell_type": "markdown",
      "metadata": {
        "id": "RwiQLFV7EvnI"
      },
      "source": [
        "![Screenshot (249).png](data:image/png;base64,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)"
      ]
    },
    {
      "cell_type": "markdown",
      "metadata": {
        "id": "kLQTiMV-E103"
      },
      "source": [
        "Where,\n",
        "\n",
        "* IPOS[i] -> Interpolated position of the ith element of the\n",
        "unsorted array.\n",
        "* SPOS -> Starting index of the array.\n",
        "*   N -> Number of the elements in the array.\n",
        "*   DATA[i] -> Data at the ith position of the array.\n",
        "*   DATA[MIN] -> Smallest data of the array.\n",
        "*   DATA[MAX] -> Largest data of the array.\n",
        "\n",
        "(It should be noted that the division performed in the formula is integer division (decimal part ignored).)"
      ]
    },
    {
      "cell_type": "markdown",
      "metadata": {
        "id": "QAgnOOQvHoPb"
      },
      "source": [
        "For the given array,\n",
        "* SPOS = 1\n",
        "* N= 15\n",
        "* DATA[MIN]= -2\n",
        "* DATA[MAX]= 64\n",
        "\n",
        "Substituting these values in the interpolation formula we\n",
        "get the interpolated positions of the elements as.\n",
        "\n"
      ]
    },
    {
      "cell_type": "markdown",
      "metadata": {
        "id": "-Q3zL0rrQOkq"
      },
      "source": [
        "![Screenshot (253).png](data:image/png;base64,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)"
      ]
    },
    {
      "cell_type": "markdown",
      "metadata": {
        "id": "bvyL3c_RQYUr"
      },
      "source": [
        "Rearranging the array from smaller to bigger IPOS we get:"
      ]
    },
    {
      "cell_type": "markdown",
      "metadata": {
        "id": "RaCilSSBQZ24"
      },
      "source": [
        "![Screenshot (254).png](data:image/png;base64,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)"
      ]
    },
    {
      "cell_type": "markdown",
      "metadata": {
        "id": "ToNtkbRMQfDp"
      },
      "source": [
        "So we see that most of the elements got sorted but there are few groups of elements whose IPOS values turned out to be the same. These groups of elements are treated as sub-arrays. **The above technique is applied on each of these sub-arrays until we get no further sub-arrays.**"
      ]
    },
    {
      "cell_type": "markdown",
      "metadata": {
        "id": "eZk65CvIQu16"
      },
      "source": [
        "## **Implementation:**\n",
        "\n",
        "\n",
        "---\n",
        "\n"
      ]
    },
    {
      "cell_type": "markdown",
      "metadata": {
        "id": "5lu5W8mtRNvh"
      },
      "source": [
        "* **Input** : The unsorted array, size of the array.\n",
        "* **Output**: Sorted array.\n",
        "\n"
      ]
    },
    {
      "cell_type": "code",
      "metadata": {
        "id": "YQRhdcCiZgKW"
      },
      "source": [
        "/*\n",
        "  Java program\n",
        "  Interpolation Sort\n",
        "*/\n",
        "import java.util.*;\n",
        "public class InterpolationSort {\n",
        "\n",
        "\t// Display elements of given sequence\n",
        "\n",
        "\tpublic static void display(int[] sequence, int size) {\n",
        "\t\tfor (int i = 0; i < size; ++i) {\n",
        "\t\t\tSystem.out.print(\"  \" + sequence[i]);\n",
        "\t\t}\n",
        "\t\tSystem.out.print(\"\\n\");\n",
        "\t}\n",
        "\n",
        "\n",
        "\t// Sort elements using interpolation sort\n",
        "\n",
        "\tpublic static void interpolationSort(int[] sequence, int size) {\n",
        "\n",
        "\t\tif (size <= 0) {\n",
        "\t\t\treturn;\n",
        "\t\t}\n",
        "\n",
        "\t\tint start = 0;\n",
        "\t\tint end = size;\n",
        "\t\tint location = 0;\n",
        "\t\tint slot = 0;\n",
        "\n",
        "\t\t// Loop controlling variables\n",
        "\t\tint i = 0;\n",
        "\t\tint j = 0;\n",
        "\n",
        "\t\t// Define min max variable\n",
        "\t\tint min = 0;\n",
        "\t\tint max = 0;\n",
        "\n",
        "\t\tArrayList<Integer> process = new ArrayList<Integer>();\n",
        "\t\tArrayList<ArrayList<Integer>> bucket = new ArrayList<ArrayList<Integer>>();\n",
        "\n",
        "\t\t// Assign the memory of each slot\n",
        "\n",
        "\t\tfor (i = 0; i < size; ++i) {\n",
        "\t\t\t// Allocate memory\n",
        "\t\t\tbucket.add(new ArrayList<Integer>());\n",
        "\t\t}\n",
        "\n",
        "\t\t// Add the size of array\n",
        "\t\tprocess.add(size);\n",
        "\n",
        "\t\twhile (process.size() > 0) {\n",
        "\n",
        "\t\t\t// Get last size\n",
        "\n",
        "\t\t\tlocation = process.get(process.size() - 1);\n",
        "\n",
        "\t\t\t// Remove the last element of process\n",
        "\t\t\tprocess.remove(process.size() - 1);\n",
        "\n",
        "\t\t\t// Get start location\n",
        "\t\t\tstart = end - location;\n",
        "\n",
        "\t\t\t// Get starting element\n",
        "\t\t\tmax = sequence[start];\n",
        "\t\t\tmin = sequence[start];\n",
        "\n",
        "\t\t\t// Find minimum and maximum\n",
        "\t\t\tfor (i = start + 1; i < end; i++) {\n",
        "\n",
        "\t\t\t\tif (sequence[i] > max) {\n",
        "\t\t\t\t\tmax = sequence[i];\n",
        "\t\t\t\t} else if (sequence[i] < min) {\n",
        "\t\t\t\t\tmin = sequence[i];\n",
        "\t\t\t\t}\n",
        "\t\t\t}\n",
        "\n",
        "\t\t\tif (min == max) {\n",
        "\n",
        "\t\t\t\t// Change last element\n",
        "\t\t\t\tend = end - location;\n",
        "\t\t\t} else {\n",
        "\t\t\t\tfor (i = start; i < end; ++i) {\n",
        "\n",
        "\t\t\t\t\t// Calculate slot\n",
        "\n",
        "\t\t\t\t\tslot = (int) Math.floor(((sequence[i] - min) / (double) (max - min)) * (location - 1));\n",
        "\t\t\t\t\tbucket.get(slot).add(sequence[i]);\n",
        "\t\t\t\t}\n",
        "\t\t\t\tfor (i = 0; i < location; ++i) {\n",
        "\t\t\t\t\tif (bucket.get(i).isEmpty() == false) {\n",
        "\n",
        "\t\t\t\t\t\t// When bucket slot not empty\n",
        "\t\t\t\t\t\t// Assign the bucket element into actual array\n",
        "\n",
        "\t\t\t\t\t\tfor (j = 0; j < bucket.get(i).size(); j++) {\n",
        "\t\t\t\t\t\t\tsequence[start] = bucket.get(i).get(j);\n",
        "\t\t\t\t\t\t\tstart++;\n",
        "\t\t\t\t\t\t}\n",
        "\n",
        "\t\t\t\t\t\t// This is useful to trace the sort slot elements\n",
        "\t\t\t\t\t\tprocess.add(bucket.get(i).size());\n",
        "\t\t\t\t\t}\n",
        "\t\t\t\t}\n",
        "\n",
        "\t\t\t\t// Remove the existing bucket element\n",
        "\t\t\t\tfor (i = 0; i < size; ++i) {\n",
        "\t\t\t\t\tbucket.get(i).clear();\n",
        "\t\t\t\t}\n",
        "\t\t\t}\n",
        "\t\t}\n",
        "\t}\n",
        "\n",
        "\tpublic static void main(String[] args) {\n",
        "\n",
        "\t\t// Define array of positive integer elements\n",
        "\n",
        "\t\tint[] s1 =  { 61, 53, 42, 14, 64, 2, -2, 6, 17, 9, 11, 3, 3, 4, 7};\n",
        "\t\tint[] s2 =  {16, 12, 6, 2, 8, 5, 9, 3, 5, 21, 22};\n",
        "\n",
        "\t\t// Test case A\n",
        "\n",
        "\t\tint size = s1.length;\n",
        "\t\tSystem.out.print(\"  Before Sort \\n\");\n",
        "\t\tdisplay(s1, size);\n",
        "\t\tSystem.out.print(\"  After Sorted \\n\");\n",
        "\t\tinterpolationSort(s1, size);\n",
        "\t\tdisplay(s1, size);\n",
        "\n",
        "\t\t// Test case B\n",
        "\n",
        "\t\tsize = s2.length;\n",
        "\t\tSystem.out.print(\"\\n  Array \\n\");\n",
        "\t\tdisplay(s2, size);\n",
        "\t\tinterpolationSort(s2, size);\n",
        "\t\tSystem.out.print(\"  After Sorted \\n\");\n",
        "\t\tdisplay(s2, size);\n",
        "\t}\n",
        "}"
      ],
      "execution_count": null,
      "outputs": []
    },
    {
      "cell_type": "markdown",
      "metadata": {
        "id": "_2G0f9G3Z9n3"
      },
      "source": [
        "\n",
        "\n",
        "---\n",
        "**Output:**\n",
        "\n",
        "\n",
        "```\n",
        " Before Sort \n",
        "  61  53  42  14  64  2  -2  6  17  9  11  3  3  4  7\n",
        "  After Sorted \n",
        "  -2  2  3  3  4  6  7  9  11  14  17  42  53  61  64\n",
        "\n",
        "  Array \n",
        "  16  12  6  2  8  5  9  3  5  21  22\n",
        "  After Sorted \n",
        "  2  3  5  5  6  8  9  12  16  21  22\n",
        "\n",
        "Process finished with exit code 0\n",
        "\n",
        "\n",
        "```\n",
        "\n",
        "\n"
      ]
    },
    {
      "cell_type": "markdown",
      "metadata": {
        "id": "2_Ro8MzTp_yF"
      },
      "source": [
        "## **Time and Space Complexity:** \n",
        "\n",
        "---\n",
        "\n"
      ]
    },
    {
      "cell_type": "markdown",
      "metadata": {
        "id": "niwitedWqwhc"
      },
      "source": [
        " * **Worst case performance:**      `O(n²)`\n",
        " * **Best case performance:**       `O(n)`\n",
        " * **Average case performance:**    `O(n+k)`\n",
        "\n",
        " * **Worst case space complexity:** `O(n*3)`"
      ]
    },
    {
      "cell_type": "markdown",
      "metadata": {
        "id": "FlL8TgRIsBQj"
      },
      "source": [
        "## **Limitations:**\n",
        "\n",
        "\n",
        "---\n",
        "\n"
      ]
    },
    {
      "cell_type": "markdown",
      "metadata": {
        "id": "UBi817kGyVB_"
      },
      "source": [
        "*  Large code size \n",
        "*  Taking a lot of RAM for sorting.\n",
        "*  It can't be used to sort large strings. "
      ]
    }
  ]
}