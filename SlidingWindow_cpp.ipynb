{
  "nbformat": 4,
  "nbformat_minor": 0,
  "metadata": {
    "colab": {
      "name": "SlidingWindow.cpp",
      "provenance": [],
      "collapsed_sections": [],
      "authorship_tag": "ABX9TyNjt0CUM+rvhDsN9BmhWY++",
      "include_colab_link": true
    },
    "kernelspec": {
      "name": "python3",
      "display_name": "Python 3"
    },
    "language_info": {
      "name": "python"
    },
    "accelerator": "GPU"
  },
  "cells": [
    {
      "cell_type": "markdown",
      "metadata": {
        "id": "view-in-github",
        "colab_type": "text"
      },
      "source": [
        "<a href=\"https://colab.research.google.com/github/areenoverclouds/winter-of-contributing/blob/Competitive_Programming/SlidingWindow_cpp.ipynb\" target=\"_parent\"><img src=\"https://colab.research.google.com/assets/colab-badge.svg\" alt=\"Open In Colab\"/></a>"
      ]
    },
    {
      "cell_type": "markdown",
      "metadata": {
        "id": "ZsZ5UUMT56to"
      },
      "source": [
        "**Sliding Window Maximum (Maximum of all subarrays of size k)**\n",
        "\n",
        "Language : C++\n",
        "\n",
        "Time Complexity : O(n*k)\n",
        "\n",
        "Space Complexity : O(1)\n",
        "\n",
        "Code :\n",
        "\n",
        "```\n",
        "#include <bits/stdc++.h>\n",
        "using namespace std;\n",
        "\n",
        "\n",
        "void printKMax(int a[], int n, int k){\n",
        "    int j, i, max;\n",
        " \n",
        "    for(i=0; i<=n-k; i++){              //outer loop to mark starting of subarray of size k\n",
        "\n",
        "        max=a[i];\n",
        "        for(j=1; j<k; j++){            //inner loop for traversing subarray\n",
        "            if (a[i+j] > max)\n",
        "                max=a[i+j];        //max stores maximum element of subarray of size k\n",
        "        }\n",
        "        cout<<max<<' ';\n",
        "    }\n",
        "}\n",
        " \n",
        "\n",
        "int main(){\n",
        "    int n, i, k;\n",
        "\n",
        "    cout<<\"\\nEnter size of array : \";\n",
        "    cin>>n;\n",
        "\n",
        "    int a[n];\n",
        "    cout<<\"\\nEnter \"<<n<<\" elements : \\n\";\n",
        "    for(i=0; i<n; i++)\n",
        "      cin>>a[i];\n",
        "\n",
        "    cout<<\"\\nEnter the value of k : \";\n",
        "    cin>>k;\n",
        "\n",
        "    printKMax(a, n, k);\n",
        "\n",
        "    return 0;\n",
        "}\n",
        "```\n",
        "\n",
        "\n",
        " \n"
      ]
    }
  ]
}