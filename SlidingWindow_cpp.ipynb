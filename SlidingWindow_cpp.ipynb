{
  "nbformat": 4,
  "nbformat_minor": 0,
  "metadata": {
    "colab": {
      "name": "SlidingWindow.cpp",
      "provenance": [],
      "collapsed_sections": [],
      "authorship_tag": "ABX9TyN2MJ8BPoorAwgQjb+v9fVs",
      "include_colab_link": true
    },
    "kernelspec": {
      "name": "python3",
      "display_name": "Python 3"
    },
    "language_info": {
      "name": "python"
    },
    "accelerator": "GPU"
  },
  "cells": [
    {
      "cell_type": "markdown",
      "metadata": {
        "id": "view-in-github",
        "colab_type": "text"
      },
      "source": [
        "<a href=\"https://colab.research.google.com/github/areenoverclouds/winter-of-contributing/blob/Competitive_Programming/SlidingWindow_cpp.ipynb\" target=\"_parent\"><img src=\"https://colab.research.google.com/assets/colab-badge.svg\" alt=\"Open In Colab\"/></a>"
      ]
    },
    {
      "cell_type": "markdown",
      "metadata": {
        "id": "R-czRwqusIdz"
      },
      "source": [
        ""
      ]
    },
    {
      "cell_type": "markdown",
      "metadata": {
        "id": "tWTacKQHLUUP"
      },
      "source": [
        "# Sliding Window Maximum (Maximum Element of all Subarrays of Size 'k')\n",
        "\n",
        "\n",
        "**Problem:**\n",
        "\n",
        "Given an array of integers 'a', there is a sliding window of size 'k' which is moving from the very left of the array to the very right. You can only see the k numbers in the window. Each time the sliding window moves right by one position.\n",
        "Return the max sliding window.\n",
        "\n",
        "\n",
        "**Example:**\n",
        "\n",
        "Input: array = {1, 2, 3, 1, 4, 5, 2, 3, 6}, K = 3 \n",
        "\n",
        "Output: 3 3 4 5 5 5 6\n",
        "\n",
        "Explanation: \n",
        "\n",
        "Maximum of 1, 2, 3 is 3\n",
        "\n",
        "Maximum of 2, 3, 1 is 3\n",
        "\n",
        "Maximum of 3, 1, 4 is 4\n",
        "\n",
        "Maximum of 1, 4, 5 is 5\n",
        "\n",
        "Maximum of 4, 5, 2 is 5\n",
        "\n",
        "Maximum of 5, 2, 3 is 5\n",
        "\n",
        "Maximum of 2, 3, 6 is 6\n",
        "\n",
        "\n",
        "**Approach:**\n",
        "\n",
        "*   In the function, a nested loop will run. The outer loop will mark the starting point of the subarray of length k and the inner loop will run from the starting index to index+k.\n",
        "*   Maximum element among these k elements will be found in the inner loop and printed.\n",
        "\n",
        "*   The outer loop will then run for the next k elements.\n",
        "\n",
        "**Complexity**\n",
        "\n",
        "\n",
        "1. Time Complexity: O(N * K).\n",
        "\n",
        "   The outer loop runs n-k+1 times and the inner loop runs k times for every iteration of outer loop. So time complexity is O((n-k+1)*k) that is, O(N * K).\n",
        "\n",
        "2. Space Complexity: O(1)\n",
        "\n",
        "   No extra space is required.\n",
        "\n"
      ]
    },
    {
      "cell_type": "code",
      "metadata": {
        "id": "hxm00QIbH4AV"
      },
      "source": [
        "\n",
        "#include <bits/stdc++.h>\n",
        "using namespace std;\n",
        "\n",
        "\n",
        "void printKMax(int a[], int n, int k){\n",
        "    int j, i, max;\n",
        " \n",
        "    for(i=0; i<=n-k; i++){              //outer loop to mark starting of subarray of size k\n",
        "\n",
        "        max=a[i];\n",
        "        for(j=1; j<k; j++){            //inner loop for traversing subarray\n",
        "            if (a[i+j] > max)\n",
        "                max=a[i+j];        //max stores maximum element of subarray of size k\n",
        "        }\n",
        "        cout<<max<<' ';\n",
        "    }\n",
        "}\n",
        " \n",
        "\n",
        "int main(){\n",
        "    int n, i, k;\n",
        "\n",
        "    cout<<\"\\nEnter size of array : \";\n",
        "    cin>>n;\n",
        "\n",
        "    int a[n];\n",
        "    cout<<\"\\nEnter \"<<n<<\" elements : \\n\";\n",
        "    for(i=0; i<n; i++)\n",
        "      cin>>a[i];\n",
        "\n",
        "    cout<<\"\\nEnter the value of k : \";\n",
        "    cin>>k;\n",
        "\n",
        "    printKMax(a, n, k);\n",
        "\n",
        "    return 0;\n",
        "}\n"
      ],
      "execution_count": null,
      "outputs": []
    }
  ]
}