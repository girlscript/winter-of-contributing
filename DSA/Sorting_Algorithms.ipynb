{
  "nbformat": 4,
  "nbformat_minor": 0,
  "metadata": {
    "colab": {
      "name": "Sorting_Algorithms.ipynb",
      "provenance": [],
      "collapsed_sections": []
    },
    "kernelspec": {
      "name": "python3",
      "display_name": "Python 3"
    },
    "language_info": {
      "name": "python"
    }
  },
  "cells": [
    {
      "cell_type": "markdown",
      "metadata": {
        "id": "WtXgdfVlO3cM"
      },
      "source": [
        "## What is Sorting?\n",
        "\n",
        "Sorting is a technique that is implemented to arrange the data in a specific order. Sorting is required to ensure that the data which we use is in a particular order so that we can easily retrieve the required piece of information from the pile of data.\n",
        "\n",
        "If the data is unkempt and unsorted, when we want a particular piece of information, then we will have to search it one by one every time to retrieve the data.\n",
        "\n",
        "List of various sorting techniques in C++\n",
        "\n",
        "* Bubble Sort\n",
        "* Selection Sort\n",
        "* Insertion Sort\n",
        "* Quick Sort\n",
        "* Merge Sort\n",
        "* Shell Sort\n",
        "* Heap Sort\n"
      ]
    },
    {
      "cell_type": "markdown",
      "metadata": {
        "id": "aeCNWj1Uaykh"
      },
      "source": [
        "### 1. Bubble Sort :\n",
        "Bubble Sort Algorithm is used to arrange N elements in ascending order, and for that, you have to begin with 0th element and compare it with the first element. If the 0th element is found greater than the 1st element, then the swapping operation will be performed, i.e., the two values will get interchanged. In this way, all the elements of the array get compared.\n",
        "\n",
        "**Bubble Sort Algorithm**\n",
        "\n",
        "```\n",
        "Step 1: Repeat Step 2 For i = 0 to N-1\n",
        "Step 2: Repeat For J = i + 1 to N - I\n",
        "Step 3: IF A[J] > A[i]\n",
        "SWAP A[J] and A[i]\n",
        "[END OF INNER LOOP]\n",
        "[END OF OUTER LOOP\n",
        "Step 4: EXIT\n",
        "```"
      ]
    },
    {
      "cell_type": "code",
      "metadata": {
        "colab": {
          "base_uri": "https://localhost:8080/"
        },
        "id": "KtTVkahMZ80D",
        "outputId": "8ddc1c33-f50d-4444-f920-07e71d93d196"
      },
      "source": [
        "%%writefile bubbleSort.cpp\n",
        "\n",
        "#include<iostream>\n",
        "using namespace std;\n",
        "void bubbleSort(int []);\n",
        "int n;\n",
        "int main()\n",
        "{\n",
        "    int i, arr[20];\n",
        "    cout<<\"Enter the size of array (max 20) :\";\n",
        "    cin >> n;\n",
        "    cout<<\"Enter \" <<n<< \" Elements: \";\n",
        "    for(i=0; i<n; i++)\n",
        "        cin>>arr[i];\n",
        "    bubbleSort(arr);\n",
        "    cout<<\"\\nThe New Sorted Array is: \\n\";\n",
        "    for(i=0; i<n; i++)\n",
        "        cout<<arr[i]<<\" \";\n",
        "    cout<<endl;\n",
        "    return 0;\n",
        "}\n",
        "void bubbleSort(int arr[])\n",
        "{\n",
        "    int i, j, temp;\n",
        "    for(i=0; i<n-1; i++)\n",
        "    {\n",
        "        for(j=0; j<(n-i-1); j++)\n",
        "        {\n",
        "            if(arr[j]>arr[j+1])\n",
        "            {\n",
        "                temp = arr[j];\n",
        "                arr[j] = arr[j+1];\n",
        "                arr[j+1] = temp;\n",
        "            }\n",
        "        }\n",
        "    }\n",
        "}"
      ],
      "execution_count": null,
      "outputs": [
        {
          "output_type": "stream",
          "name": "stdout",
          "text": [
            "Overwriting bubbleSort.cpp\n"
          ]
        }
      ]
    },
    {
      "cell_type": "code",
      "metadata": {
        "colab": {
          "base_uri": "https://localhost:8080/"
        },
        "id": "Q6G56NOOaSfD",
        "outputId": "4431bb06-e232-402a-8bf4-8b9b1f72a475"
      },
      "source": [
        "%%shell \n",
        "g++ bubbleSort.cpp -o output\n",
        "./output"
      ],
      "execution_count": null,
      "outputs": [
        {
          "output_type": "stream",
          "name": "stdout",
          "text": [
            "Enter the size of array (max 20) :6\n",
            "Enter 6 Elements: 12 5 55 6 99 556\n",
            "\n",
            "The New Sorted Array is: \n",
            "5 6 12 55 99 556 \n"
          ]
        },
        {
          "output_type": "execute_result",
          "data": {
            "text/plain": [
              ""
            ]
          },
          "metadata": {},
          "execution_count": 6
        }
      ]
    },
    {
      "cell_type": "markdown",
      "metadata": {
        "id": "6uwx6iTyc-2y"
      },
      "source": [
        "### 2. Selection Sort :\n",
        "\n",
        "The selection sort algorithm sorts an array by repeatedly finding the minimum element (considering ascending order) from unsorted part and putting it at the beginning. The algorithm maintains two subarrays in a given array.\n",
        "\n",
        "* The subarray which is already sorted. \n",
        "* Remaining subarray which is unsorted.\n",
        "\n",
        "In every iteration of selection sort, the minimum element (considering ascending order) from the unsorted subarray is picked and moved to the sorted subarray. \n",
        "\n",
        "**Selection Sort Algorithm**\n",
        "\n",
        "```\n",
        "SELECTION SORT(ARR, N)\n",
        "\n",
        "Step 1: Repeat Steps 2 and 3 for K = 1 to N-1\n",
        "Step 2: CALL SMALLEST(ARR, K, N, POS)\n",
        "Step 3: SWAP A[K] with ARR[POS]\n",
        "[END OF LOOP]\n",
        "Step 4: EXIT\n",
        "\n",
        "SMALLEST (ARR, K, N, POS)\n",
        "\n",
        "Step 1: [INITIALIZE] SET SMALL = ARR[K]\n",
        "Step 2: [INITIALIZE] SET POS = K\n",
        "\n",
        "Step 3: Repeat for J = K+1 to N -1\n",
        "IF SMALL > ARR[J]\n",
        "SET SMALL = ARR[J]\n",
        "SET POS = J\n",
        "[END OF IF]\n",
        "[END OF LOOP]\n",
        "\n",
        "Step 4: RETURN POS\n",
        "```"
      ]
    },
    {
      "cell_type": "code",
      "metadata": {
        "colab": {
          "base_uri": "https://localhost:8080/"
        },
        "id": "8s43MRp9dv3h",
        "outputId": "3d777440-f5d4-4da6-e937-2ede7d869430"
      },
      "source": [
        "%%writefile selectionSort.cpp\n",
        "\n",
        "#include<iostream>\n",
        "using namespace std;\n",
        "void selSort(int [], int);\n",
        "int main()\n",
        "{\n",
        "    int tot, arr[50], i;\n",
        "    cout<<\"Enter the Size of Array: \";\n",
        "    cin>>tot;\n",
        "    cout<<\"Enter \"<<tot<<\" Array Elements: \";\n",
        "    for(i=0; i<tot; i++)\n",
        "        cin>>arr[i];\n",
        "    selSort(arr, tot);\n",
        "    cout<<\"\\nSorted Array is:\\n\";\n",
        "    for(i=0; i<tot; i++)\n",
        "        cout<<arr[i]<<\" \";\n",
        "    cout<<endl;\n",
        "    return 0;\n",
        "}\n",
        "void selSort(int arr[], int tot)\n",
        "{\n",
        "    int i, j, temp, small, chk, index;\n",
        "    for(i=0; i<(tot-1); i++)\n",
        "    {\n",
        "        chk=0;\n",
        "        small = arr[i];\n",
        "        for(j=(i+1); j<tot; j++)\n",
        "        {\n",
        "            if(small>arr[j])\n",
        "            {\n",
        "                small = arr[j];\n",
        "                chk++;\n",
        "                index = j;\n",
        "            }\n",
        "        }\n",
        "        if(chk!=0)\n",
        "        {\n",
        "            temp = arr[i];\n",
        "            arr[i] = small;\n",
        "            arr[index] = temp;\n",
        "        }\n",
        "    }\n",
        "}"
      ],
      "execution_count": null,
      "outputs": [
        {
          "output_type": "stream",
          "name": "stdout",
          "text": [
            "Writing selectionSort.cpp\n"
          ]
        }
      ]
    },
    {
      "cell_type": "code",
      "metadata": {
        "colab": {
          "base_uri": "https://localhost:8080/"
        },
        "id": "XJL_8gVGeKmC",
        "outputId": "6378c982-70ca-45c2-d611-536265a2fa46"
      },
      "source": [
        "%%shell \n",
        "g++ selectionSort.cpp -o output\n",
        "./output"
      ],
      "execution_count": null,
      "outputs": [
        {
          "output_type": "stream",
          "name": "stdout",
          "text": [
            "Enter the Size of Array: 5\n",
            "Enter 5 Array Elements: 12 22 55 8 45\n",
            "\n",
            "Sorted Array is:\n",
            "8 12 22 45 55 \n"
          ]
        },
        {
          "output_type": "execute_result",
          "data": {
            "text/plain": [
              ""
            ]
          },
          "metadata": {},
          "execution_count": 10
        }
      ]
    },
    {
      "cell_type": "markdown",
      "metadata": {
        "id": "bNzxx6kKekGM"
      },
      "source": [
        "### 3. Insertion Sort :\n",
        "\n",
        "This is an in-place comparison-based sorting algorithm. Here, a sub-list is maintained which is always sorted. For example, the lower part of an array is maintained to be sorted. An element which is to be 'insert'ed in this sorted sub-list, has to find its appropriate place and then it has to be inserted there. Hence the name, insertion sort.\n",
        "\n",
        "The array is searched sequentially and unsorted items are moved and inserted into the sorted sub-list (in the same array). This algorithm is not suitable for large data sets as its average and worst case complexity are of Ο(n2), where n is the number of items.\n",
        "\n",
        "**Insertion Sort Algorithm**\n",
        "\n",
        "```\n",
        "Step 1: Repeat Steps 2 to 5 for K = 1 to N-1\n",
        "Step 2: SET TEMP = ARR[K]\n",
        "Step 3: SET J = K - 1\n",
        "Step 4: Repeat while TEMP <=ARR[J]\n",
        " SET ARR[J + 1] = ARR[J]\n",
        " SET J = J - 1\n",
        "[END OF INNER LOOP]\n",
        "Step 5: SET ARR[J + 1] = TEMP\n",
        "[END OF LOOP]\n",
        "Step 6: EXIT\n",
        "```"
      ]
    },
    {
      "cell_type": "code",
      "metadata": {
        "colab": {
          "base_uri": "https://localhost:8080/"
        },
        "id": "z6cLnrMPe-an",
        "outputId": "23413193-969d-4a9f-df57-3eb1d410e266"
      },
      "source": [
        "%%writefile insertionSort.cpp\n",
        "\n",
        "#include<iostream>\n",
        "using namespace std;\n",
        "void insertionSort(int [], int);\n",
        "int main()\n",
        "{\n",
        "    int arr[50], tot, i;\n",
        "    cout<<\"Enter the Size for Array: \";\n",
        "    cin>>tot;\n",
        "    cout<<\"Enter \"<<tot<<\" Array Elements: \";\n",
        "    for(i=0; i<tot; i++)\n",
        "        cin>>arr[i];\n",
        "    insertionSort(arr, tot);\n",
        "    cout<<\"\\nThe New Array (Sorted Array):\\n\";\n",
        "    for(i=0; i<tot; i++)\n",
        "        cout<<arr[i]<<\"  \";\n",
        "    cout<<endl;\n",
        "    return 0;\n",
        "}\n",
        "void insertionSort(int arr[], int tot)\n",
        "{\n",
        "    int i, elem, j;\n",
        "    for(i=1; i<tot; i++)\n",
        "    {\n",
        "        elem = arr[i];\n",
        "        j = i-1;\n",
        "        while((elem<arr[j]) && (j>=0))\n",
        "        {\n",
        "            arr[j+1] = arr[j];\n",
        "            j--;\n",
        "        }\n",
        "        arr[j+1] = elem;\n",
        "    }\n",
        "}"
      ],
      "execution_count": null,
      "outputs": [
        {
          "output_type": "stream",
          "name": "stdout",
          "text": [
            "Writing insertionSort.cpp\n"
          ]
        }
      ]
    },
    {
      "cell_type": "code",
      "metadata": {
        "colab": {
          "base_uri": "https://localhost:8080/"
        },
        "id": "QkFh-yd2fJmY",
        "outputId": "3a1ece49-ea31-4c2c-c53f-9852837c7540"
      },
      "source": [
        "%%shell \n",
        "g++ insertionSort.cpp -o output\n",
        "./output"
      ],
      "execution_count": null,
      "outputs": [
        {
          "output_type": "stream",
          "name": "stdout",
          "text": [
            "Enter the Size for Array: 6\n",
            "Enter 6 Array Elements: 45 12 55 69 33\n",
            "455\n",
            "\n",
            "The New Array (Sorted Array):\n",
            "12  33  45  55  69  455  \n"
          ]
        },
        {
          "output_type": "execute_result",
          "data": {
            "text/plain": [
              ""
            ]
          },
          "metadata": {},
          "execution_count": 12
        }
      ]
    },
    {
      "cell_type": "markdown",
      "metadata": {
        "id": "1QGThbxqgiew"
      },
      "source": [
        "### 4. Quick Sort :\n",
        "\n",
        "Divides the array elements in two halves or partitions. On dividing, the quick sort procedure is recursively called to sort the two halves. A “pivot” is used as the center point and elements less than the pivot are moved to the left or before the pivot and elements greater than pivot are moved to the right.\n",
        "\n",
        "**Quick Sort Algorithm**\n",
        "\n",
        "```\n",
        "PARTITION (ARR, BEG, END, LOC)\n",
        "\n",
        "Step 1: [INITIALIZE] SET LEFT = BEG, RIGHT = END, LOC = BEG, FLAG \n",
        "\n",
        "Step 2: Repeat Steps 3 to 6 while FLAG =\n",
        "\n",
        "Step 3: Repeat while ARR[LOC] <=ARR[RIGHT]\n",
        "AND LOC != RIGHT\n",
        "SET RIGHT = RIGHT - 1\n",
        "[END OF LOOP]\n",
        "\n",
        "Step 4: IF LOC = RIGHT\n",
        "SET FLAG = 1\n",
        "ELSE IF ARR[LOC] > ARR[RIGHT]\n",
        "SWAP ARR[LOC] with ARR[RIGHT]\n",
        "SET LOC = RIGHT\n",
        "[END OF IF]\n",
        "\n",
        "Step 5: IF FLAG = 0\n",
        "Repeat while ARR[LOC] >= ARR[LEFT] AND LOC != LEFT\n",
        "SET LEFT = LEFT + 1\n",
        "[END OF LOOP]\n",
        "\n",
        "Step 6:IF LOC = LEFT\n",
        "SET FLAG = 1\n",
        "ELSE IF ARR[LOC] < ARR[LEFT]\n",
        "SWAP ARR[LOC] with ARR[LEFT]\n",
        "SET LOC = LEFT\n",
        "[END OF IF]\n",
        "[END OF IF]\n",
        "\n",
        "Step 7: [END OF LOOP]\n",
        "\n",
        "Step 8: END\n",
        "\n",
        "QUICK_SORT (ARR, BEG, END)\n",
        "\n",
        "Step 1: IF (BEG < END)\n",
        "CALL PARTITION (ARR, BEG, END, LOC)\n",
        "CALL QUICKSORT(ARR, BEG, LOC - 1)\n",
        "CALL QUICKSORT(ARR, LOC + 1, END)\n",
        "[END OF IF]\n",
        "\n",
        "Step 2: END\n"
      ]
    },
    {
      "cell_type": "code",
      "metadata": {
        "colab": {
          "base_uri": "https://localhost:8080/"
        },
        "id": "SuVrn31tieqv",
        "outputId": "b04b930e-6ad1-4e06-9e8d-41b0527be37c"
      },
      "source": [
        "%%writefile quickSort.cpp\n",
        "\n",
        "#include<iostream>\n",
        "using namespace std;\n",
        "int partition(int *a,int start,int end)\n",
        "{\n",
        "    int pivot=a[end];\n",
        "    //P-index indicates the pivot value index\n",
        "    \n",
        "    int P_index=start;\n",
        "    int i,t; //t is temporary variable\n",
        "    \n",
        "    //Here we will check if array value is \n",
        "    //less than pivot\n",
        "    //then we will place it at left side\n",
        "    //by swapping \n",
        "    \n",
        "    for(i=start;i<end;i++)\n",
        "    {\n",
        "    \tif(a[i]<=pivot)\n",
        "        {\n",
        "            t=a[i];\n",
        "            a[i]=a[P_index];\n",
        "            a[P_index]=t;\n",
        "            P_index++;\n",
        "        }\n",
        "     }\n",
        "     //Now exchanging value of\n",
        "     //pivot and P-index\n",
        "      t=a[end];\n",
        "      a[end]=a[P_index];\n",
        "      a[P_index]=t;\n",
        "    \n",
        "     //at last returning the pivot value index\n",
        "     return P_index;\n",
        " }\n",
        " void Quicksort(int *a,int start,int end)\n",
        " {\n",
        "    if(start<end)\n",
        "    {\n",
        "         int P_index=partition(a,start,end);\n",
        "             Quicksort(a,start,P_index-1);\n",
        "             Quicksort(a,P_index+1,end);\n",
        "    }\n",
        "}\n",
        "int main()\n",
        "{\n",
        "    int n;\n",
        "        cout<<\"Enter number of elements: \";\n",
        "        cin>>n;\n",
        "        int a[n];\n",
        "        cout<<\"Enter the array elements:\\n\";\n",
        "        for(int i=0;i<n;i++)\n",
        "       {\n",
        "    \t cin>>a[i];\n",
        "       }\n",
        "      Quicksort(a,0,n-1);\n",
        "      cout<<\"After Quick Sort the array is:\\n\";\n",
        "      for(int i=0;i<n;i++)\n",
        "      {\n",
        "    \t cout<<a[i]<<\" \";\n",
        "      }\n",
        "    return 0;\n",
        "}"
      ],
      "execution_count": null,
      "outputs": [
        {
          "output_type": "stream",
          "name": "stdout",
          "text": [
            "Writing quickSort.cpp\n"
          ]
        }
      ]
    },
    {
      "cell_type": "code",
      "metadata": {
        "colab": {
          "base_uri": "https://localhost:8080/"
        },
        "id": "mAQ_N2TLisRC",
        "outputId": "2fa8a99e-d729-46ea-8e84-b26e5f1ea6f3"
      },
      "source": [
        "%%shell \n",
        "g++ quickSort.cpp -o output\n",
        "./output"
      ],
      "execution_count": null,
      "outputs": [
        {
          "output_type": "stream",
          "name": "stdout",
          "text": [
            "Enter number of elements: 5 \n",
            "Enter the array elements:\n",
            "12 22 55 44 2 \n",
            "After Quick Sort the array is:\n",
            "2 12 22 44 55 "
          ]
        },
        {
          "output_type": "execute_result",
          "data": {
            "text/plain": [
              ""
            ]
          },
          "metadata": {},
          "execution_count": 6
        }
      ]
    },
    {
      "cell_type": "markdown",
      "metadata": {
        "id": "RJ_tKf9ai4Lc"
      },
      "source": [
        "### 5. Merge Sort :\n",
        "\n",
        "This is another technique that uses the “Divide and conquer” strategy. In this technique, we divide the list first into equal halves. Then we perform merge sort technique on these lists independently so that both the lists are sorted. Finally, we merge both the lists to get a complete sorted list.\n",
        "\n",
        "Merge sort and quick sort are faster than most other sorting techniques. Their performance remains intact even when the list grows bigger in size.\n",
        "\n",
        "**Merge Sort Algorithm**\n",
        "\n",
        "```\n",
        "Step 1: [INITIALIZE] SET I = BEG, J = MID + 1, INDEX = 0\n",
        "\n",
        "Step 2: Repeat while (I <= MID) AND (J<=END)\n",
        "IF ARR[I] < ARR[J]\n",
        "SET TEMP[INDEX] = ARR[I]\n",
        "SET I = I + 1\n",
        "ELSE\n",
        "SET TEMP[INDEX] = ARR[J]\n",
        "SET J = J + 1\n",
        "[END OF IF]\n",
        "SET INDEX = INDEX + 1\n",
        "[END OF LOOP]\n",
        "\n",
        "Step 3: [Copy the remaining\n",
        "elements of right sub-array, if\n",
        "any]\n",
        "IF I > MID\n",
        "Repeat while J <= END\n",
        "SET TEMP[INDEX] = ARR[J]\n",
        "SET INDEX = INDEX + 1, SET J = J + 1\n",
        "[END OF LOOP]\n",
        "[Copy the remaining elements of\n",
        "left sub-array, if any]\n",
        "ELSE\n",
        "Repeat while I <= MID\n",
        "SET TEMP[INDEX] = ARR[I]\n",
        "SET INDEX = INDEX + 1, SET I = I + 1\n",
        "[END OF LOOP]\n",
        "[END OF IF]\n",
        "\n",
        "Step 4: [Copy the contents of TEMP back to ARR] SET K = 0\n",
        "\n",
        "Step 5: Repeat while K < INDEX\n",
        "SET ARR[K] = TEMP[K]\n",
        "SET K = K + 1\n",
        "[END OF LOOP]\n",
        "Step 6: Exit\n",
        "\n",
        "MERGE_SORT(ARR, BEG, END)\n",
        "\n",
        "Step 1: IF BEG < END\n",
        "SET MID = (BEG + END)/2\n",
        "CALL MERGE_SORT (ARR, BEG, MID)\n",
        "CALL MERGE_SORT (ARR, MID + 1, END)\n",
        "MERGE (ARR, BEG, MID, END)\n",
        "[END OF IF]\n",
        "\n",
        "Step 2: END\n",
        "```"
      ]
    },
    {
      "cell_type": "code",
      "metadata": {
        "colab": {
          "base_uri": "https://localhost:8080/"
        },
        "id": "MUF3EDv8jokS",
        "outputId": "2fecbb05-78cd-41b6-9ff6-92d86875ed7e"
      },
      "source": [
        "%%writefile mergeSort.cpp\n",
        "\n",
        "#include <iostream>\n",
        "\n",
        "using namespace std;\n",
        "int Merge(int A[],int p, int q,int r)     \n",
        "{\n",
        "\n",
        "    int n1,n2,i,j,k; \n",
        "    //size of left array=n1\n",
        "    //size of right array=n2       \n",
        "    n1=q-p+1;\n",
        "    n2=r-q;             \n",
        "    int L[n1],R[n2];\n",
        "    //initializing the value of Left part to L[]\n",
        "    for(i=0;i<n1;i++)\n",
        "    {\n",
        "        L[i]=A[p+i];\n",
        "    }\n",
        "    //initializing the value of Right Part to R[]\n",
        "    for(j=0;j<n2;j++)\n",
        "    {\n",
        "        R[j]=A[q+j+1];\n",
        "    }\n",
        "    i=0,j=0;\n",
        "    //Comparing and merging them\n",
        "    //into new array in sorted order \n",
        "    for(k=p;i<n1&&j<n2;k++)\n",
        "    {\n",
        "        if(L[i]<R[j])\n",
        "        {\n",
        "            A[k]=L[i++];\n",
        "        }\n",
        "        else\n",
        "        {\n",
        "            A[k]=R[j++];\n",
        "        }\n",
        "    }\n",
        "    //If Left Array L[] has more elements than Right Array R[]\n",
        "    //then it will put all the\n",
        "    // reamining elements of L[] into A[]\n",
        "    while(i<n1)             \n",
        "    {\n",
        "        A[k++]=L[i++];\n",
        "    }\n",
        "    //If Right Array R[] has more elements than Left Array L[]\n",
        "    //then it will put all the\n",
        "    // reamining elements of L[] into A[]\n",
        "    while(j<n2)\n",
        "    {\n",
        "        A[k++]=R[j++];\n",
        "    }\n",
        "}\n",
        "//This is Divide Part\n",
        "//This part will Divide the array into \n",
        "//Sub array and then will Merge them\n",
        "//by calling Merge()\n",
        "int MergeSort(int A[],int p,int r)    \n",
        "{\n",
        "    int q;                                \n",
        "    if(p<r)\n",
        "    {\n",
        "        q=(p+r)/2;\n",
        "        MergeSort(A,p,q);\n",
        "        MergeSort(A,q+1,r);\n",
        "        Merge(A,p,q,r);\n",
        "    }\n",
        "}\n",
        "int main()\n",
        "{\n",
        "    int n;\n",
        "    cout<<\"Enter size of the Array: \";\n",
        "    cin>>n;\n",
        "    int A[n],i;\n",
        "    cout<<\"Enter array values:\\n\";\n",
        "    for(i=0;i<n;i++)\n",
        "    cin>>A[i];\n",
        "    //Calling the MergeSort()\n",
        "    //First we are passing the array\n",
        "    //the start index that is 0\n",
        "    //and the size of the array n\n",
        "    \n",
        "    MergeSort(A,0,n-1);\n",
        "    cout<<\"The Sorted List is\\n\";\n",
        "    for(i=0;i<n;i++)\n",
        "    {\n",
        "        cout<<A[i]<<\" \";\n",
        "    }\n",
        "    return 0;\n",
        "}"
      ],
      "execution_count": null,
      "outputs": [
        {
          "output_type": "stream",
          "name": "stdout",
          "text": [
            "Overwriting mergeSort.cpp\n"
          ]
        }
      ]
    },
    {
      "cell_type": "code",
      "metadata": {
        "colab": {
          "base_uri": "https://localhost:8080/"
        },
        "id": "Acvu-lv3j6HK",
        "outputId": "4fc02292-605f-47dd-b4db-bb04f1213c82"
      },
      "source": [
        "%%shell \n",
        "g++ mergeSort.cpp -o output\n",
        "./output"
      ],
      "execution_count": null,
      "outputs": [
        {
          "output_type": "stream",
          "name": "stdout",
          "text": [
            "Enter size of the Array: 5\n",
            "Enter array values:\n",
            "12\n",
            "22\n",
            "99\n",
            "56\n",
            "33\n",
            "The Sorted List is\n",
            "12 22 33 56 99 "
          ]
        },
        {
          "output_type": "execute_result",
          "data": {
            "text/plain": [
              ""
            ]
          },
          "metadata": {},
          "execution_count": 4
        }
      ]
    },
    {
      "cell_type": "markdown",
      "metadata": {
        "id": "XoA8W6uukCQr"
      },
      "source": [
        "### 6. Shell Sort\n",
        "\n",
        "Shell Sort is mainly a variation of Insertion Sort. In insertion sort, we move elements only one position ahead. When an element has to be moved far ahead, many movements are involved. The idea of shell sort is to allow exchange of far items. In shell sort, we make the array h-sorted for a large value of h. We keep reducing the value of h until it becomes 1. An array is said to be h-sorted if all sublists of every h’th element is sorted.\n",
        "\n",
        "**Shell Sort Algorithm**\n",
        "\n",
        "```\n",
        "Shell_Sort(Arr, n)\n",
        "\n",
        "Step 1: SET FLAG = 1, GAP_SIZE = N\n",
        "Step 2: Repeat Steps 3 to 6 while FLAG = 1 OR GAP_SIZE > 1\n",
        "Step 3:SET FLAG = 0\n",
        "Step 4:SET GAP_SIZE = (GAP_SIZE + 1) / 2\n",
        "Step 5:Repeat Step 6 for I = 0 to I < (N -GAP_SIZE)\n",
        "\n",
        "Step 6:IF Arr[I + GAP_SIZE] > Arr[I]\n",
        "SWAP Arr[I + GAP_SIZE], Arr[I]\n",
        "SET FLAG = 0\n",
        "\n",
        "Step 7: END\n",
        "```"
      ]
    },
    {
      "cell_type": "code",
      "metadata": {
        "colab": {
          "base_uri": "https://localhost:8080/"
        },
        "id": "G5iV1YuFkqJy",
        "outputId": "cac18144-6d00-4de7-da32-2c16ab5d8803"
      },
      "source": [
        "%%writefile shellSort.cpp\n",
        "\n",
        "#include<iostream>\n",
        "using namespace std;\n",
        "void swapping(int &a, int &b) {        //swap the content of a and b\n",
        "   int temp;\n",
        "   temp = a;\n",
        "   a = b;\n",
        "   b = temp;\n",
        "}\n",
        "void display(int *array, int size) {\n",
        "   for(int i = 0; i<size; i++)\n",
        "      cout << array[i] << \" \";\n",
        "   cout << endl;\n",
        "}\n",
        "void shellSort(int *arr, int n) {\n",
        "   int gap, j, k;\n",
        "   for(gap = n/2; gap > 0; gap = gap / 2) {        //initially gap = n/2, decreasing by gap /2\n",
        "\n",
        "      for(j = gap; j<n; j++) {\n",
        "         for(k = j-gap; k>=0; k -= gap) {\n",
        "            if(arr[k+gap] >= arr[k])\n",
        "               break;\n",
        "            else\n",
        "               swapping(arr[k+gap], arr[k]);\n",
        "         }\n",
        "      }\n",
        "   }\n",
        "}\n",
        "int main() {\n",
        "   int n;\n",
        "   cout << \"Enter the number of elements: \";\n",
        "   cin >> n;\n",
        "   int arr[n];     //create an array with given number of elements\n",
        "   cout << \"Enter elements:\" << endl;\n",
        "   for(int i = 0; i<n; i++) {\n",
        "      cin >> arr[i];\n",
        "   }\n",
        "   shellSort(arr, n);\n",
        "   cout << \"Array after Sorting: \";\n",
        "   display(arr, n);\n",
        "}"
      ],
      "execution_count": null,
      "outputs": [
        {
          "output_type": "stream",
          "name": "stdout",
          "text": [
            "Overwriting shellSort.cpp\n"
          ]
        }
      ]
    },
    {
      "cell_type": "code",
      "metadata": {
        "colab": {
          "base_uri": "https://localhost:8080/"
        },
        "id": "Xu0EdOGRk1Lw",
        "outputId": "f593d83a-e648-49d5-c2c9-e42bb0df4b6d"
      },
      "source": [
        "%%shell \n",
        "g++ shellSort.cpp -o output\n",
        "./output"
      ],
      "execution_count": null,
      "outputs": [
        {
          "output_type": "stream",
          "name": "stdout",
          "text": [
            "Enter the number of elements: 3\n",
            "Enter elements:\n",
            "22\n",
            "65\n",
            "1\n",
            "Array after Sorting: 1 22 65 \n"
          ]
        },
        {
          "output_type": "execute_result",
          "data": {
            "text/plain": [
              ""
            ]
          },
          "metadata": {},
          "execution_count": 14
        }
      ]
    },
    {
      "cell_type": "markdown",
      "metadata": {
        "id": "vq_KtDYJlCey"
      },
      "source": [
        "### 7. Heap Sort\n",
        "\n",
        "Heaps can be used in sorting an array. In max-heaps, maximum element will always be at the root. Heap Sort uses this property of heap to sort the array.\n",
        "Consider an array Arr which is to be sorted using Heap Sort.\n",
        "\n",
        "*\tInitially build a max heap of elements in Arr.\n",
        "\n",
        "*\tThe root element, that is Arr[1], will contain maximum element of Arr. After that, swap this element with the last element of Arr and heapify the max heap excluding the last element which is already in its correct position and then decrease the length of heap by one.\n",
        "\n",
        "*\tRepeat the step 2, until all the elements are in their correct position.\n",
        "\n",
        "**Heap Sort Algorithm**\n",
        "\n",
        "```\n",
        "HEAP_SORT(ARR, N)\n",
        "\n",
        "Step 1: [Build Heap H]\n",
        "Repeat for i=0 to N-1\n",
        "CALL INSERT_HEAP(ARR, N, ARR[i])\n",
        "[END OF LOOP]\n",
        "\n",
        "Step 2: Repeatedly Delete the root element\n",
        "Repeat while N > 0\n",
        "CALL Delete_Heap(ARR,N,VAL)\n",
        "SET N = N+1\n",
        "[END OF LOOP]\n",
        "\n",
        "Step 3: END\n",
        "```\n"
      ]
    },
    {
      "cell_type": "code",
      "metadata": {
        "colab": {
          "base_uri": "https://localhost:8080/"
        },
        "id": "nYjicV4Olfua",
        "outputId": "e16d6e79-21ab-46a9-8908-ffb09f41544c"
      },
      "source": [
        "%%writefile heapSort.cpp\n",
        "\n",
        "#include <iostream>\n",
        " \n",
        "using namespace std;\n",
        " \n",
        "// A function to heapify the array.\n",
        "void MaxHeapify(int a[], int i, int n)\n",
        "{\n",
        "\tint j, temp;\n",
        "\ttemp = a[i];\n",
        "\tj = 2*i;\n",
        " \n",
        " \twhile (j <= n)\n",
        "\t{\n",
        "\t\tif (j < n && a[j+1] > a[j])\n",
        "\t\tj = j+1;\n",
        "\t\t// Break if parent value is already greater than child value.\n",
        "\t\tif (temp > a[j])\n",
        "\t\t\tbreak;\n",
        "\t\t// Switching value with the parent node if temp < a[j].\n",
        "\t\telse if (temp <= a[j])\n",
        "\t\t{\n",
        "\t\t\ta[j/2] = a[j];\n",
        "\t\t\tj = 2*j;\n",
        "\t\t}\n",
        "\t}\n",
        "\ta[j/2] = temp;\n",
        "\treturn;\n",
        "}\n",
        "void HeapSort(int a[], int n)\n",
        "{\n",
        "\tint i, temp;\n",
        "\tfor (i = n; i >= 2; i--)\n",
        "\t{\n",
        "\t\t// Storing maximum value at the end.\n",
        "\t\ttemp = a[i];\n",
        "\t\ta[i] = a[1];\n",
        "\t\ta[1] = temp;\n",
        "\t\t// Building max heap of remaining element.\n",
        "\t\tMaxHeapify(a, 1, i - 1);\n",
        "\t}\n",
        "}\n",
        "void Build_MaxHeap(int a[], int n)\n",
        "{\n",
        "\tint i;\n",
        "\tfor(i = n/2; i >= 1; i--)\n",
        "\t\tMaxHeapify(a, i, n);\n",
        "}\n",
        "int main()\n",
        "{\n",
        "\tint n , i, arr[20];\n",
        "\tcout<<\"\\nEnter the number of elements (max 20): \";\n",
        "\tcin>>n;\n",
        "\tn++;\n",
        "    cout<<\"Enter elements : \";\n",
        "\tfor(i = 1; i < n; i++)\n",
        "\t{\n",
        "\t\tcin>>arr[i];\n",
        "\t}\n",
        "\t// Building max heap.\n",
        "\tBuild_MaxHeap(arr, n-1);\n",
        "\tHeapSort(arr, n-1);\n",
        " \n",
        "\t// Printing the sorted data.\n",
        "\tcout<<\"\\nSorted Data : \";\n",
        " \n",
        "\tfor (i = 1; i < n; i++)\n",
        "\t\tcout<<\" \"<<arr[i];\n",
        " \n",
        "\treturn 0;\n",
        "}"
      ],
      "execution_count": null,
      "outputs": [
        {
          "output_type": "stream",
          "name": "stdout",
          "text": [
            "Writing heapSort.cpp\n"
          ]
        }
      ]
    },
    {
      "cell_type": "code",
      "metadata": {
        "colab": {
          "base_uri": "https://localhost:8080/"
        },
        "id": "yDn6sBd8lwJO",
        "outputId": "c2e89915-5de3-4cb5-8aab-6f17aacc5efb"
      },
      "source": [
        "%%shell \n",
        "g++ heapSort.cpp -o output\n",
        "./output"
      ],
      "execution_count": null,
      "outputs": [
        {
          "output_type": "stream",
          "name": "stdout",
          "text": [
            "\n",
            "Enter the number of elements (max 20): 5\n",
            "Enter elements : 12\n",
            "22 55 9 23\n",
            "\n",
            "Sorted Data :  9 12 22 23 55"
          ]
        },
        {
          "output_type": "execute_result",
          "data": {
            "text/plain": [
              ""
            ]
          },
          "metadata": {},
          "execution_count": 16
        }
      ]
    }
  ]
}