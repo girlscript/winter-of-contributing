{
 "cells": [
  {
   "cell_type": "markdown",
   "source": [
    "Explain how to find the Kth smallest/largest element in Unsorted arrays."
   ],
   "metadata": {}
  },
  {
   "cell_type": "markdown",
   "source": [
    "Input: arr[] = {7, 10, 4, 3, 20, 15} \r\n",
    "k = 3 \r\n",
    "Output: 7\r\n",
    "\r\n",
    "Input: arr[] = {7, 10, 4, 3, 20, 15} \r\n",
    "k = 4 \r\n",
    "Output: 10 \r\n"
   ],
   "metadata": {}
  },
  {
   "cell_type": "markdown",
   "source": [
    "Method 1 (Simple Solution) :\r\n",
    "\r\n",
    "A simple solution is to sort the given array using a O(N log N) sorting algorithm like Merge Sort, Heap Sort, etc, and return the element at index k-1 in the sorted array. \r\n",
    "\r\n",
    "Time Complexity of this solution is O(N Log N).\r\n",
    "\r\n"
   ],
   "metadata": {}
  },
  {
   "cell_type": "code",
   "execution_count": 1,
   "source": [
    "# Python3 program to find k'th smallest\r\n",
    "# element\r\n",
    " \r\n",
    "# Function to return k'th smallest\r\n",
    "# element in a given array\r\n",
    "def kthSmallest(arr, n, k):\r\n",
    " \r\n",
    "    # Sort the given array\r\n",
    "    arr.sort()\r\n",
    " \r\n",
    "    # Return k'th element in the\r\n",
    "    # sorted array\r\n",
    "    return arr[k-1]\r\n",
    " \r\n",
    "if __name__=='__main__':\r\n",
    "    arr = [12, 3, 5, 7, 19]\r\n",
    "    n = len(arr)\r\n",
    "    k = 2\r\n",
    "    print(\"K'th smallest element is\",\r\n",
    "          kthSmallest(arr, n, k))\r\n",
    " "
   ],
   "outputs": [
    {
     "output_type": "stream",
     "name": "stdout",
     "text": [
      "K'th smallest element is 5\n"
     ]
    }
   ],
   "metadata": {}
  },
  {
   "cell_type": "markdown",
   "source": [
    "Method 2 (QuickSelect) :\r\n",
    "\r\n",
    "This is an optimization over Method 1 if QuickSort is used as a sorting algorithm in first step.\r\n",
    "In QuickSort, we pick a pivot element, then move the pivot element to its correct position and partition the surrounding array. \r\n",
    "The idea is, not to do complete quicksort, but stop at the point where pivot itself is k’th smallest element.\r\n",
    "Also, not to recur for both left and right sides of pivot, but recur for one of them according to the position of pivot. \r\n",
    "The worst case time complexity of this method is O(n2), but it works in O(n) on average. \r\n",
    "\r\n"
   ],
   "metadata": {}
  },
  {
   "cell_type": "code",
   "execution_count": 2,
   "source": [
    "# This function returns k'th smallest element\r\n",
    "# in arr[l..r] using QuickSort based method.\r\n",
    "# ASSUMPTION: ALL ELEMENTS IN ARR[] ARE DISTINCT\r\n",
    "import sys\r\n",
    "\r\n",
    "\r\n",
    "def kthSmallest(arr, l, r, k):\r\n",
    "\r\n",
    "    # If k is smaller than number of\r\n",
    "    # elements in array\r\n",
    "    if (k > 0 and k <= r - l + 1):\r\n",
    "\r\n",
    "        # Partition the array around last\r\n",
    "        # element and get position of pivot\r\n",
    "        # element in sorted array\r\n",
    "        pos = partition(arr, l, r)\r\n",
    "\r\n",
    "        # If position is same as k\r\n",
    "        if (pos - l == k - 1):\r\n",
    "            return arr[pos]\r\n",
    "        if (pos - l > k - 1):  # If position is more,\r\n",
    "            # recur for left subarray\r\n",
    "            return kthSmallest(arr, l, pos - 1, k)\r\n",
    "\r\n",
    "        # Else recur for right subarray\r\n",
    "        return kthSmallest(arr, pos + 1, r,\r\n",
    "                           k - pos + l - 1)\r\n",
    "\r\n",
    "    # If k is more than number of\r\n",
    "    # elements in array\r\n",
    "    return sys.maxsize\r\n",
    "\r\n",
    "# Standard partition process of QuickSort().\r\n",
    "# It considers the last element as pivot and\r\n",
    "# moves all smaller element to left of it\r\n",
    "# and greater elements to right\r\n",
    "\r\n",
    "\r\n",
    "def partition(arr, l, r):\r\n",
    "\r\n",
    "    x = arr[r]\r\n",
    "    i = l\r\n",
    "    for j in range(l, r):\r\n",
    "        if (arr[j] <= x):\r\n",
    "            arr[i], arr[j] = arr[j], arr[i]\r\n",
    "            i += 1\r\n",
    "    arr[i], arr[r] = arr[r], arr[i]\r\n",
    "    return i\r\n",
    "\r\n",
    "\r\n",
    "# Driver Code\r\n",
    "if __name__ == \"__main__\":\r\n",
    "\r\n",
    "    arr = [12, 3, 5, 7, 4, 19, 26]\r\n",
    "    n = len(arr)\r\n",
    "    k = 3\r\n",
    "    print(\"K'th smallest element is\",\r\n",
    "          kthSmallest(arr, 0, n - 1, k))\r\n"
   ],
   "outputs": [
    {
     "output_type": "stream",
     "name": "stdout",
     "text": [
      "K'th smallest element is 5\n"
     ]
    }
   ],
   "metadata": {}
  },
  {
   "cell_type": "code",
   "execution_count": null,
   "source": [],
   "outputs": [],
   "metadata": {}
  }
 ],
 "metadata": {
  "orig_nbformat": 4,
  "language_info": {
   "name": "python",
   "version": "3.9.0",
   "mimetype": "text/x-python",
   "codemirror_mode": {
    "name": "ipython",
    "version": 3
   },
   "pygments_lexer": "ipython3",
   "nbconvert_exporter": "python",
   "file_extension": ".py"
  },
  "kernelspec": {
   "name": "python3",
   "display_name": "Python 3.9.0 64-bit"
  },
  "interpreter": {
   "hash": "06cb67651ce969e244f20f184e33f4ddb1106793adfe07cf7ddc131c95c4012f"
  }
 },
 "nbformat": 4,
 "nbformat_minor": 2
}