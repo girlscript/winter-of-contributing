{
 "cells": [
  {
   "cell_type": "markdown",
   "id": "698929b8",
   "metadata": {},
   "source": [
    "# Strings in Python\n",
    "Strings in Python are instances of class <’str’>. This is an inbuilt class with many helper functions to operate on strings. Strings are immutable i.e. a string in Python cannot be modified once created. If you modify a string, it creates a new string in memory to store the modified string."
   ]
  },
  {
   "cell_type": "markdown",
   "id": "44831b29",
   "metadata": {},
   "source": [
    "# Find out the type of a literal string: Function type() returns type of a variable in python"
   ]
  },
  {
   "cell_type": "code",
   "execution_count": 3,
   "id": "28570976",
   "metadata": {},
   "outputs": [
    {
     "name": "stdout",
     "output_type": "stream",
     "text": [
      "<class 'str'>\n"
     ]
    }
   ],
   "source": [
    "s1 = \"Hello There!\"\n",
    "print(type(s1))"
   ]
  },
  {
   "cell_type": "markdown",
   "id": "c884f47a",
   "metadata": {},
   "source": [
    "# Indexing and Slicing"
   ]
  },
  {
   "cell_type": "markdown",
   "id": "6744c4d5",
   "metadata": {},
   "source": [
    "1] Indexing is used to point to a \n",
    "<b>single character in a string  </b>\n",
    "\n",
    "2] Splicing can be used to pick <b>substring or a sequence of characters   </b> according to splice rules\n",
    "\n",
    "3]Indexing uses notation: str[index] where index is a number from 0 to len(str) – 1\n",
    "\n",
    "4]Slicing uses notation: <b>str[start : stop : step] </b>:\n"
   ]
  },
  {
   "cell_type": "markdown",
   "id": "ff7a678f",
   "metadata": {},
   "source": [
    "<b>Start </b>:\n",
    "The beginning index of the slice, it will include the element at this index unless it is the same as stop, defaults to 0, i.e. the first index. If it’s negative, it means to start n items from the end."
   ]
  },
  {
   "cell_type": "markdown",
   "id": "efc41d60",
   "metadata": {},
   "source": [
    "<b>Stop </b>:\n",
    "The ending index of the slice, it does not include the element at this index, defaults to the length of the sequence being sliced, that is, up to and including the end.\n",
    "\n",
    "<b>Step </b>:\n",
    "The amount by which the index increases, defaults to 1. If it’s negative, you’re slicing over the iterable in reverse."
   ]
  },
  {
   "cell_type": "code",
   "execution_count": 7,
   "id": "a5c61c70",
   "metadata": {},
   "outputs": [
    {
     "name": "stdout",
     "output_type": "stream",
     "text": [
      "str1:  India, a nation of billion people\n",
      "Index 0:  I\n",
      "Index -1:  e\n",
      "Slice [1:5] =  ndia\n",
      "Slice [0:-2] =  India, a nation of billion peop\n",
      "Even index:  Ida  aino ilo epe\n",
      "Odd index:  ni,anto fblinpol\n",
      "Reverse using slicing:  elpoep noillib fo noitan a ,aidnI\n"
     ]
    }
   ],
   "source": [
    "str1 = 'India, a nation of billion people'\n",
    "print('str1: ', str1)\n",
    "  \n",
    "# print first character\n",
    "print('Index 0: ', str1[0])\n",
    "  \n",
    "# print last character\n",
    "print('Index -1: ', str1[-1])\n",
    "  \n",
    "# Slicing syntax [start : end : step]\n",
    "# Slicing from 2nd to 4th character\n",
    "print('Slice [1:5] = ', str1[1:5])\n",
    "  \n",
    "# Slicing 1st to 2nd last character\n",
    "print('Slice [0:-2] = ', str1[0:-2])\n",
    "  \n",
    "# Splice a string to get characters at even index\n",
    "print(\"Even index: \", str1[::2])\n",
    "  \n",
    "# Splice a string to get characters at odd index\n",
    "print(\"Odd index: \", str1[1::2])\n",
    "  \n",
    "# Shortcut slicing to reverse a string\n",
    "print('Reverse using slicing: ', str1[::-1])"
   ]
  },
  {
   "cell_type": "markdown",
   "id": "5ffdf2aa",
   "metadata": {},
   "source": [
    "# Splitting and Concatenating Strings"
   ]
  },
  {
   "cell_type": "code",
   "execution_count": 9,
   "id": "848aa25a",
   "metadata": {},
   "outputs": [
    {
     "name": "stdout",
     "output_type": "stream",
     "text": [
      "['This', 'is', 'the', 'string', 'we', 'will', 'split', 'into', 'a', 'list', 'of', 'words']\n"
     ]
    }
   ],
   "source": [
    "str1 = \"This is the string we will split into a list of words\"\n",
    "# By default, split function splits on space \n",
    "list_of_words = str1.split()\n",
    "print(list_of_words)"
   ]
  },
  {
   "cell_type": "markdown",
   "id": "2e150dde",
   "metadata": {},
   "source": [
    "# Concatenating Strings"
   ]
  },
  {
   "cell_type": "code",
   "execution_count": 10,
   "id": "5be771e7",
   "metadata": {},
   "outputs": [
    {
     "name": "stdout",
     "output_type": "stream",
     "text": [
      "PythonIs Fun\n",
      "Python Is Fun\n"
     ]
    }
   ],
   "source": [
    "str1 = 'Python'\n",
    "str2 = 'Is Fun'\n",
    "# Concatenate two strings\n",
    "print(str1 + str2)\n",
    "# More readable, concatenate 3 strings, str1, a space ' ' and str3\n",
    "print(str1 + ' ' + str2)"
   ]
  },
  {
   "cell_type": "markdown",
   "id": "fe644eae",
   "metadata": {},
   "source": [
    "# Operations on String in Python"
   ]
  },
  {
   "cell_type": "markdown",
   "id": "9b914bdb",
   "metadata": {},
   "source": [
    "<b>str.upper() </b>\n",
    "\n",
    "<b>str.lower() </b>\n",
    "\n",
    "<b>str.find() </b>\n",
    "\n",
    "<b>str.replace()</b>\n",
    "\n",
    "<b>str.join() </b>\n",
    "\n",
    "<b>str.split()</b>\n",
    "\n",
    "Many more"
   ]
  },
  {
   "cell_type": "markdown",
   "id": "3807918e",
   "metadata": {},
   "source": [
    "# join() function"
   ]
  },
  {
   "cell_type": "code",
   "execution_count": 12,
   "id": "09a3c1f6",
   "metadata": {},
   "outputs": [
    {
     "name": "stdout",
     "output_type": "stream",
     "text": [
      "Thisisthestringwewillsplitintoalistofwords\n",
      "This is the string we will split into a list of words\n",
      "This-is-the-string-we-will-split-into-a-list-of-words\n"
     ]
    }
   ],
   "source": [
    "list_of_words = ['This', 'is', 'the', 'string', 'we', 'will', 'split', 'into', 'a', 'list', 'of', 'words']\n",
    "# Start with empty string and use join function which is available on objects of type 'str' \n",
    "sentence = \"\".join(list_of_words)\n",
    "print(sentence)\n",
    "# Use a string with one space this time\n",
    "sentence = \" \".join(list_of_words)\n",
    "print(sentence)\n",
    "# Use a string with one hyphen/dash this time\n",
    "sentence = \"-\".join(list_of_words)\n",
    "print(sentence)"
   ]
  },
  {
   "cell_type": "markdown",
   "id": "b09ee492",
   "metadata": {},
   "source": [
    "# upper() function"
   ]
  },
  {
   "cell_type": "code",
   "execution_count": 17,
   "id": "09b61024",
   "metadata": {},
   "outputs": [
    {
     "name": "stdout",
     "output_type": "stream",
     "text": [
      "PYTHON\n"
     ]
    }
   ],
   "source": [
    "# convert to upper case\n",
    "print(\"python\".upper())\n"
   ]
  },
  {
   "cell_type": "markdown",
   "id": "5a7a74d3",
   "metadata": {},
   "source": [
    "# lower()function"
   ]
  },
  {
   "cell_type": "code",
   "execution_count": 14,
   "id": "1939b663",
   "metadata": {},
   "outputs": [
    {
     "name": "stdout",
     "output_type": "stream",
     "text": [
      "python\n"
     ]
    }
   ],
   "source": [
    "print(\"PYTHON\".lower())\n"
   ]
  },
  {
   "cell_type": "markdown",
   "id": "ff659ad6",
   "metadata": {},
   "source": [
    "# find() function"
   ]
  },
  {
   "cell_type": "code",
   "execution_count": 20,
   "id": "c69aec59",
   "metadata": {},
   "outputs": [
    {
     "name": "stdout",
     "output_type": "stream",
     "text": [
      "2\n"
     ]
    }
   ],
   "source": [
    "print('Python'.find('th'))\n"
   ]
  },
  {
   "cell_type": "markdown",
   "id": "4badeef1",
   "metadata": {},
   "source": [
    "# replace() fuction"
   ]
  },
  {
   "cell_type": "code",
   "execution_count": 16,
   "id": "f6d3ab73",
   "metadata": {},
   "outputs": [
    {
     "name": "stdout",
     "output_type": "stream",
     "text": [
      "Python Is Fun 100 Percent\n"
     ]
    }
   ],
   "source": [
    "print('Python Is Fun 0 Percent'.replace('0','100'))"
   ]
  },
  {
   "cell_type": "code",
   "execution_count": null,
   "id": "cfb2f549",
   "metadata": {},
   "outputs": [],
   "source": []
  }
 ],
 "metadata": {
  "kernelspec": {
   "display_name": "Python 3",
   "language": "python",
   "name": "python3"
  },
  "language_info": {
   "codemirror_mode": {
    "name": "ipython",
    "version": 3
   },
   "file_extension": ".py",
   "mimetype": "text/x-python",
   "name": "python",
   "nbconvert_exporter": "python",
   "pygments_lexer": "ipython3",
   "version": "3.8.8"
  }
 },
 "nbformat": 4,
 "nbformat_minor": 5
}
