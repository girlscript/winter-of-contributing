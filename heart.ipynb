{
 "cells": [
  {
   "cell_type": "markdown",
   "metadata": {
    "execution": {
     "iopub.execute_input": "2021-08-23T10:45:21.501686Z",
     "iopub.status.busy": "2021-08-23T10:45:21.501466Z",
     "iopub.status.idle": "2021-08-23T10:45:21.504053Z",
     "shell.execute_reply": "2021-08-23T10:45:21.503573Z",
     "shell.execute_reply.started": "2021-08-23T10:45:21.501664Z"
    }
   },
   "source": [
    "# Load modules"
   ]
  },
  {
   "cell_type": "code",
   "execution_count": 2,
   "metadata": {
    "execution": {
     "iopub.execute_input": "2021-09-09T06:18:39.312761Z",
     "iopub.status.busy": "2021-09-09T06:18:39.312540Z",
     "iopub.status.idle": "2021-09-09T06:18:39.315439Z",
     "shell.execute_reply": "2021-09-09T06:18:39.314895Z",
     "shell.execute_reply.started": "2021-09-09T06:18:39.312740Z"
    }
   },
   "outputs": [],
   "source": [
    "import pandas as pd\n",
    "import numpy as np\n",
    "import tensorflow as tf"
   ]
  },
  {
   "cell_type": "code",
   "execution_count": 3,
   "metadata": {
    "execution": {
     "iopub.execute_input": "2021-09-09T06:18:39.316479Z",
     "iopub.status.busy": "2021-09-09T06:18:39.316320Z",
     "iopub.status.idle": "2021-09-09T06:18:39.698537Z",
     "shell.execute_reply": "2021-09-09T06:18:39.697876Z",
     "shell.execute_reply.started": "2021-09-09T06:18:39.316462Z"
    }
   },
   "outputs": [
    {
     "name": "stdout",
     "output_type": "stream",
     "text": [
      "--2021-09-09 06:18:39--  https://cainvas.ai-tech.systems:9000/hub/user-redirect/lab/tree/hrt/Heart-Failure-Prediction-main.zip\n",
      "Resolving cainvas.ai-tech.systems (cainvas.ai-tech.systems)... 65.1.254.242\n",
      "Connecting to cainvas.ai-tech.systems (cainvas.ai-tech.systems)|65.1.254.242|:9000... connected.\n",
      "HTTP request sent, awaiting response... 302 Found\n",
      "Location: /hub/login?next=%2Fhub%2Fuser-redirect%2Flab%2Ftree%2Fhrt%2FHeart-Failure-Prediction-main.zip [following]\n",
      "--2021-09-09 06:18:39--  https://cainvas.ai-tech.systems:9000/hub/login?next=%2Fhub%2Fuser-redirect%2Flab%2Ftree%2Fhrt%2FHeart-Failure-Prediction-main.zip\n",
      "Reusing existing connection to cainvas.ai-tech.systems:9000.\n",
      "HTTP request sent, awaiting response... 200 OK\n",
      "Length: 4423 (4.3K) [text/html]\n",
      "Saving to: ‘Heart-Failure-Prediction-main.zip.3’\n",
      "\n",
      "Heart-Failure-Predi 100%[===================>]   4.32K  --.-KB/s    in 0s      \n",
      "\n",
      "2021-09-09 06:18:39 (115 MB/s) - ‘Heart-Failure-Prediction-main.zip.3’ saved [4423/4423]\n",
      "\n"
     ]
    }
   ],
   "source": [
    "!wget 'https://cainvas.ai-tech.systems:9000/hub/user-redirect/lab/tree/hrt/Heart-Failure-Prediction-main.zip'\n",
    "!unzip -qo Heart-Failure-Prediction-main.zip"
   ]
  },
  {
   "cell_type": "markdown",
   "metadata": {},
   "source": [
    "## Reading csv file"
   ]
  },
  {
   "cell_type": "code",
   "execution_count": 4,
   "metadata": {
    "execution": {
     "iopub.execute_input": "2021-09-09T06:18:39.700056Z",
     "iopub.status.busy": "2021-09-09T06:18:39.699848Z",
     "iopub.status.idle": "2021-09-09T06:18:39.716581Z",
     "shell.execute_reply": "2021-09-09T06:18:39.716131Z",
     "shell.execute_reply.started": "2021-09-09T06:18:39.700035Z"
    }
   },
   "outputs": [
    {
     "data": {
      "text/html": [
       "<div>\n",
       "<style scoped>\n",
       "    .dataframe tbody tr th:only-of-type {\n",
       "        vertical-align: middle;\n",
       "    }\n",
       "\n",
       "    .dataframe tbody tr th {\n",
       "        vertical-align: top;\n",
       "    }\n",
       "\n",
       "    .dataframe thead th {\n",
       "        text-align: right;\n",
       "    }\n",
       "</style>\n",
       "<table border=\"1\" class=\"dataframe\">\n",
       "  <thead>\n",
       "    <tr style=\"text-align: right;\">\n",
       "      <th></th>\n",
       "      <th>age</th>\n",
       "      <th>anaemia</th>\n",
       "      <th>creatinine_phosphokinase</th>\n",
       "      <th>diabetes</th>\n",
       "      <th>ejection_fraction</th>\n",
       "      <th>high_blood_pressure</th>\n",
       "      <th>platelets</th>\n",
       "      <th>serum_creatinine</th>\n",
       "      <th>serum_sodium</th>\n",
       "      <th>sex</th>\n",
       "      <th>smoking</th>\n",
       "      <th>time</th>\n",
       "      <th>DEATH_EVENT</th>\n",
       "    </tr>\n",
       "  </thead>\n",
       "  <tbody>\n",
       "    <tr>\n",
       "      <th>0</th>\n",
       "      <td>75.0</td>\n",
       "      <td>0</td>\n",
       "      <td>582</td>\n",
       "      <td>0</td>\n",
       "      <td>20</td>\n",
       "      <td>1</td>\n",
       "      <td>265000.00</td>\n",
       "      <td>1.9</td>\n",
       "      <td>130</td>\n",
       "      <td>1</td>\n",
       "      <td>0</td>\n",
       "      <td>4</td>\n",
       "      <td>1</td>\n",
       "    </tr>\n",
       "    <tr>\n",
       "      <th>1</th>\n",
       "      <td>55.0</td>\n",
       "      <td>0</td>\n",
       "      <td>7861</td>\n",
       "      <td>0</td>\n",
       "      <td>38</td>\n",
       "      <td>0</td>\n",
       "      <td>263358.03</td>\n",
       "      <td>1.1</td>\n",
       "      <td>136</td>\n",
       "      <td>1</td>\n",
       "      <td>0</td>\n",
       "      <td>6</td>\n",
       "      <td>1</td>\n",
       "    </tr>\n",
       "    <tr>\n",
       "      <th>2</th>\n",
       "      <td>65.0</td>\n",
       "      <td>0</td>\n",
       "      <td>146</td>\n",
       "      <td>0</td>\n",
       "      <td>20</td>\n",
       "      <td>0</td>\n",
       "      <td>162000.00</td>\n",
       "      <td>1.3</td>\n",
       "      <td>129</td>\n",
       "      <td>1</td>\n",
       "      <td>1</td>\n",
       "      <td>7</td>\n",
       "      <td>1</td>\n",
       "    </tr>\n",
       "    <tr>\n",
       "      <th>3</th>\n",
       "      <td>50.0</td>\n",
       "      <td>1</td>\n",
       "      <td>111</td>\n",
       "      <td>0</td>\n",
       "      <td>20</td>\n",
       "      <td>0</td>\n",
       "      <td>210000.00</td>\n",
       "      <td>1.9</td>\n",
       "      <td>137</td>\n",
       "      <td>1</td>\n",
       "      <td>0</td>\n",
       "      <td>7</td>\n",
       "      <td>1</td>\n",
       "    </tr>\n",
       "    <tr>\n",
       "      <th>4</th>\n",
       "      <td>65.0</td>\n",
       "      <td>1</td>\n",
       "      <td>160</td>\n",
       "      <td>1</td>\n",
       "      <td>20</td>\n",
       "      <td>0</td>\n",
       "      <td>327000.00</td>\n",
       "      <td>2.7</td>\n",
       "      <td>116</td>\n",
       "      <td>0</td>\n",
       "      <td>0</td>\n",
       "      <td>8</td>\n",
       "      <td>1</td>\n",
       "    </tr>\n",
       "  </tbody>\n",
       "</table>\n",
       "</div>"
      ],
      "text/plain": [
       "    age  anaemia  creatinine_phosphokinase  diabetes  ejection_fraction  \\\n",
       "0  75.0        0                       582         0                 20   \n",
       "1  55.0        0                      7861         0                 38   \n",
       "2  65.0        0                       146         0                 20   \n",
       "3  50.0        1                       111         0                 20   \n",
       "4  65.0        1                       160         1                 20   \n",
       "\n",
       "   high_blood_pressure  platelets  serum_creatinine  serum_sodium  sex  \\\n",
       "0                    1  265000.00               1.9           130    1   \n",
       "1                    0  263358.03               1.1           136    1   \n",
       "2                    0  162000.00               1.3           129    1   \n",
       "3                    0  210000.00               1.9           137    1   \n",
       "4                    0  327000.00               2.7           116    0   \n",
       "\n",
       "   smoking  time  DEATH_EVENT  \n",
       "0        0     4            1  \n",
       "1        0     6            1  \n",
       "2        1     7            1  \n",
       "3        0     7            1  \n",
       "4        0     8            1  "
      ]
     },
     "execution_count": 4,
     "metadata": {},
     "output_type": "execute_result"
    }
   ],
   "source": [
    "train = pd.read_csv('heart_failure_clinical_records_dataset.csv')\n",
    "train.head()"
   ]
  },
  {
   "cell_type": "markdown",
   "metadata": {},
   "source": [
    "# analysis data"
   ]
  },
  {
   "cell_type": "code",
   "execution_count": 5,
   "metadata": {
    "execution": {
     "iopub.execute_input": "2021-09-09T06:18:39.717641Z",
     "iopub.status.busy": "2021-09-09T06:18:39.717484Z",
     "iopub.status.idle": "2021-09-09T06:18:41.186987Z",
     "shell.execute_reply": "2021-09-09T06:18:41.186460Z",
     "shell.execute_reply.started": "2021-09-09T06:18:39.717624Z"
    }
   },
   "outputs": [
    {
     "data": {
      "image/png": "[encoded data removed]",
      "text/plain": [
       "<Figure size 1080x1080 with 16 Axes>"
      ]
     },
     "metadata": {
      "needs_background": "light"
     },
     "output_type": "display_data"
    }
   ],
   "source": [
    "train.hist(figsize=(15,15),edgecolor='black');\n"
   ]
  },
  {
   "cell_type": "code",
   "execution_count": 6,
   "metadata": {
    "execution": {
     "iopub.execute_input": "2021-09-09T06:18:41.187999Z",
     "iopub.status.busy": "2021-09-09T06:18:41.187829Z",
     "iopub.status.idle": "2021-09-09T06:18:41.687800Z",
     "shell.execute_reply": "2021-09-09T06:18:41.687275Z",
     "shell.execute_reply.started": "2021-09-09T06:18:41.187981Z"
    }
   },
   "outputs": [
    {
     "name": "stdout",
     "output_type": "stream",
     "text": [
      "[0.09748272 0.02599132 0.07833639 0.02823616 0.13528    0.02408101\n",
      " 0.07360975 0.1154081  0.0856119  0.024411   0.03023874 0.28131291]\n"
     ]
    },
    {
     "data": {
      "image/png": "[encoded data removed]",
      "text/plain": [
       "<Figure size 1080x432 with 1 Axes>"
      ]
     },
     "metadata": {},
     "output_type": "display_data"
    }
   ],
   "source": [
    "import matplotlib.pyplot as plt\n",
    "import seaborn as sns \n",
    "\n",
    "plt.rcParams['figure.figsize']=15,6 \n",
    "sns.set_style(\"darkgrid\")\n",
    "\n",
    "x = train.iloc[:, :-1]\n",
    "y = train.iloc[:,-1]\n",
    "from sklearn.ensemble import ExtraTreesClassifier\n",
    "\n",
    "model = ExtraTreesClassifier()\n",
    "model.fit(x,y)\n",
    "print(model.feature_importances_) \n",
    "feat_importances = pd.Series(model.feature_importances_, index=x.columns)\n",
    "feat_importances.nlargest(12).plot(kind='barh')\n",
    "plt.show()"
   ]
  },
  {
   "cell_type": "markdown",
   "metadata": {},
   "source": [
    "### Drop some parameters because it had a corrolation almost aqual to 0"
   ]
  },
  {
   "cell_type": "code",
   "execution_count": 7,
   "metadata": {
    "execution": {
     "iopub.execute_input": "2021-09-09T06:18:41.688779Z",
     "iopub.status.busy": "2021-09-09T06:18:41.688614Z",
     "iopub.status.idle": "2021-09-09T06:18:41.692119Z",
     "shell.execute_reply": "2021-09-09T06:18:41.691641Z",
     "shell.execute_reply.started": "2021-09-09T06:18:41.688760Z"
    }
   },
   "outputs": [],
   "source": [
    "train=train.drop(['anaemia','creatinine_phosphokinase','diabetes','high_blood_pressure','platelets','sex','smoking','age'],axis=1)"
   ]
  },
  {
   "cell_type": "markdown",
   "metadata": {
    "execution": {
     "iopub.execute_input": "2021-08-23T10:48:03.459021Z",
     "iopub.status.busy": "2021-08-23T10:48:03.458856Z",
     "iopub.status.idle": "2021-08-23T10:48:03.461526Z",
     "shell.execute_reply": "2021-08-23T10:48:03.460898Z",
     "shell.execute_reply.started": "2021-08-23T10:48:03.459002Z"
    }
   },
   "source": [
    "# split data into training and testing"
   ]
  },
  {
   "cell_type": "code",
   "execution_count": 8,
   "metadata": {
    "execution": {
     "iopub.execute_input": "2021-09-09T06:18:41.693010Z",
     "iopub.status.busy": "2021-09-09T06:18:41.692856Z",
     "iopub.status.idle": "2021-09-09T06:18:41.700391Z",
     "shell.execute_reply": "2021-09-09T06:18:41.699893Z",
     "shell.execute_reply.started": "2021-09-09T06:18:41.692993Z"
    }
   },
   "outputs": [],
   "source": [
    " from sklearn.model_selection import train_test_split\n",
    "x=train.drop('DEATH_EVENT',axis=1)\n",
    "y=train.DEATH_EVENT\n",
    "x_train,x_test,y_train,y_test = train_test_split(x,y,test_size=0.3)"
   ]
  },
  {
   "cell_type": "markdown",
   "metadata": {},
   "source": [
    "# creating model "
   ]
  },
  {
   "cell_type": "code",
   "execution_count": 9,
   "metadata": {
    "execution": {
     "iopub.execute_input": "2021-09-09T06:18:41.701848Z",
     "iopub.status.busy": "2021-09-09T06:18:41.701692Z",
     "iopub.status.idle": "2021-09-09T06:18:42.359243Z",
     "shell.execute_reply": "2021-09-09T06:18:42.358658Z",
     "shell.execute_reply.started": "2021-09-09T06:18:41.701831Z"
    }
   },
   "outputs": [],
   "source": [
    "ann = tf.keras.models.Sequential()"
   ]
  },
  {
   "cell_type": "code",
   "execution_count": 10,
   "metadata": {
    "execution": {
     "iopub.execute_input": "2021-09-09T06:18:42.360529Z",
     "iopub.status.busy": "2021-09-09T06:18:42.360339Z",
     "iopub.status.idle": "2021-09-09T06:18:42.369045Z",
     "shell.execute_reply": "2021-09-09T06:18:42.368437Z",
     "shell.execute_reply.started": "2021-09-09T06:18:42.360509Z"
    }
   },
   "outputs": [],
   "source": [
    "ann.add(tf.keras.layers.Dense(units = 7, activation = 'relu'))\n",
    "ann.add(tf.keras.layers.Dense(units = 7, activation = 'relu'))\n",
    "ann.add(tf.keras.layers.Dense(units = 7, activation = 'relu'))\n",
    "ann.add(tf.keras.layers.Dense(units = 7, activation = 'relu'))\n",
    "\n",
    "ann.add(tf.keras.layers.Dense(units = 1, activation = 'sigmoid'))"
   ]
  },
  {
   "cell_type": "markdown",
   "metadata": {},
   "source": [
    "# compile model"
   ]
  },
  {
   "cell_type": "code",
   "execution_count": 11,
   "metadata": {
    "execution": {
     "iopub.execute_input": "2021-09-09T06:18:42.369881Z",
     "iopub.status.busy": "2021-09-09T06:18:42.369718Z",
     "iopub.status.idle": "2021-09-09T06:18:42.379808Z",
     "shell.execute_reply": "2021-09-09T06:18:42.379354Z",
     "shell.execute_reply.started": "2021-09-09T06:18:42.369861Z"
    }
   },
   "outputs": [],
   "source": [
    "val_accuracy=ann.compile(optimizer = 'adam', loss = 'binary_crossentropy' , metrics = ['accuracy'] )"
   ]
  },
  {
   "cell_type": "markdown",
   "metadata": {},
   "source": [
    "# train our model"
   ]
  },
  {
   "cell_type": "code",
   "execution_count": 12,
   "metadata": {
    "execution": {
     "iopub.execute_input": "2021-09-09T06:18:42.380633Z",
     "iopub.status.busy": "2021-09-09T06:18:42.380487Z",
     "iopub.status.idle": "2021-09-09T06:18:49.163663Z",
     "shell.execute_reply": "2021-09-09T06:18:49.163157Z",
     "shell.execute_reply.started": "2021-09-09T06:18:42.380616Z"
    }
   },
   "outputs": [
    {
     "name": "stdout",
     "output_type": "stream",
     "text": [
      "Epoch 1/150\n",
      "WARNING:tensorflow:Layer dense is casting an input tensor from dtype float64 to the layer's dtype of float32, which is new behavior in TensorFlow 2.  The layer has dtype float32 because its dtype defaults to floatx.\n",
      "\n",
      "If you intended to run this layer in float32, you can safely ignore this warning. If in doubt, this warning is likely only an issue if you are porting a TensorFlow 1.X model to TensorFlow 2.\n",
      "\n",
      "To change all layers to have dtype float64 by default, call `tf.keras.backend.set_floatx('float64')`. To change just this layer, pass dtype='float64' to the layer constructor. If you are the author of this layer, you can disable autocasting by passing autocast=False to the base Layer constructor.\n",
      "\n",
      "14/14 [==============================] - 0s 11ms/step - loss: 25.5082 - accuracy: 0.3397 - val_loss: 25.9624 - val_accuracy: 0.2778\n",
      "Epoch 2/150\n",
      "14/14 [==============================] - 0s 3ms/step - loss: 18.7489 - accuracy: 0.3397 - val_loss: 18.7977 - val_accuracy: 0.2778\n",
      "Epoch 3/150\n",
      "14/14 [==============================] - 0s 3ms/step - loss: 13.2043 - accuracy: 0.3397 - val_loss: 12.9596 - val_accuracy: 0.2778\n",
      "Epoch 4/150\n",
      "14/14 [==============================] - 0s 3ms/step - loss: 8.7954 - accuracy: 0.3397 - val_loss: 8.5125 - val_accuracy: 0.2778\n",
      "Epoch 5/150\n",
      "14/14 [==============================] - 0s 3ms/step - loss: 5.4885 - accuracy: 0.3397 - val_loss: 4.9952 - val_accuracy: 0.2778\n",
      "Epoch 6/150\n",
      "14/14 [==============================] - 0s 3ms/step - loss: 3.0190 - accuracy: 0.3062 - val_loss: 2.4018 - val_accuracy: 0.2000\n",
      "Epoch 7/150\n",
      "14/14 [==============================] - 0s 3ms/step - loss: 1.4762 - accuracy: 0.4163 - val_loss: 1.0706 - val_accuracy: 0.3778\n",
      "Epoch 8/150\n",
      "14/14 [==============================] - 0s 3ms/step - loss: 0.7631 - accuracy: 0.5646 - val_loss: 0.5793 - val_accuracy: 0.6889\n",
      "Epoch 9/150\n",
      "14/14 [==============================] - 0s 3ms/step - loss: 0.5881 - accuracy: 0.6459 - val_loss: 0.5185 - val_accuracy: 0.7111\n",
      "Epoch 10/150\n",
      "14/14 [==============================] - 0s 3ms/step - loss: 0.5669 - accuracy: 0.6699 - val_loss: 0.5033 - val_accuracy: 0.7111\n",
      "Epoch 11/150\n",
      "14/14 [==============================] - 0s 3ms/step - loss: 0.5679 - accuracy: 0.6651 - val_loss: 0.5015 - val_accuracy: 0.7111\n",
      "Epoch 12/150\n",
      "14/14 [==============================] - 0s 3ms/step - loss: 0.5667 - accuracy: 0.6651 - val_loss: 0.5010 - val_accuracy: 0.7111\n",
      "Epoch 13/150\n",
      "14/14 [==============================] - 0s 3ms/step - loss: 0.5665 - accuracy: 0.6699 - val_loss: 0.4979 - val_accuracy: 0.7111\n",
      "Epoch 14/150\n",
      "14/14 [==============================] - 0s 3ms/step - loss: 0.5644 - accuracy: 0.6699 - val_loss: 0.5018 - val_accuracy: 0.7111\n",
      "Epoch 15/150\n",
      "14/14 [==============================] - 0s 3ms/step - loss: 0.5637 - accuracy: 0.6699 - val_loss: 0.5080 - val_accuracy: 0.7111\n",
      "Epoch 16/150\n",
      "14/14 [==============================] - 0s 3ms/step - loss: 0.5647 - accuracy: 0.6699 - val_loss: 0.5085 - val_accuracy: 0.7111\n",
      "Epoch 17/150\n",
      "14/14 [==============================] - 0s 3ms/step - loss: 0.5633 - accuracy: 0.6699 - val_loss: 0.5030 - val_accuracy: 0.7111\n",
      "Epoch 18/150\n",
      "14/14 [==============================] - 0s 3ms/step - loss: 0.5613 - accuracy: 0.6699 - val_loss: 0.4975 - val_accuracy: 0.7111\n",
      "Epoch 19/150\n",
      "14/14 [==============================] - 0s 3ms/step - loss: 0.5597 - accuracy: 0.6699 - val_loss: 0.4972 - val_accuracy: 0.7111\n",
      "Epoch 20/150\n",
      "14/14 [==============================] - 0s 3ms/step - loss: 0.5582 - accuracy: 0.6699 - val_loss: 0.4952 - val_accuracy: 0.7111\n",
      "Epoch 21/150\n",
      "14/14 [==============================] - 0s 3ms/step - loss: 0.5571 - accuracy: 0.6699 - val_loss: 0.4914 - val_accuracy: 0.7111\n",
      "Epoch 22/150\n",
      "14/14 [==============================] - 0s 3ms/step - loss: 0.5571 - accuracy: 0.6699 - val_loss: 0.4898 - val_accuracy: 0.7111\n",
      "Epoch 23/150\n",
      "14/14 [==============================] - 0s 3ms/step - loss: 0.5547 - accuracy: 0.6699 - val_loss: 0.4910 - val_accuracy: 0.7111\n",
      "Epoch 24/150\n",
      "14/14 [==============================] - 0s 3ms/step - loss: 0.5540 - accuracy: 0.6699 - val_loss: 0.4911 - val_accuracy: 0.7111\n",
      "Epoch 25/150\n",
      "14/14 [==============================] - 0s 3ms/step - loss: 0.5528 - accuracy: 0.6699 - val_loss: 0.4891 - val_accuracy: 0.7111\n",
      "Epoch 26/150\n",
      "14/14 [==============================] - 0s 3ms/step - loss: 0.5519 - accuracy: 0.6699 - val_loss: 0.4871 - val_accuracy: 0.7111\n",
      "Epoch 27/150\n",
      "14/14 [==============================] - 0s 3ms/step - loss: 0.5514 - accuracy: 0.6699 - val_loss: 0.4867 - val_accuracy: 0.7111\n",
      "Epoch 28/150\n",
      "14/14 [==============================] - 0s 3ms/step - loss: 0.5501 - accuracy: 0.6651 - val_loss: 0.4858 - val_accuracy: 0.7111\n",
      "Epoch 29/150\n",
      "14/14 [==============================] - 0s 3ms/step - loss: 0.5490 - accuracy: 0.6651 - val_loss: 0.4852 - val_accuracy: 0.7111\n",
      "Epoch 30/150\n",
      "14/14 [==============================] - 0s 3ms/step - loss: 0.5481 - accuracy: 0.6651 - val_loss: 0.4837 - val_accuracy: 0.7111\n",
      "Epoch 31/150\n",
      "14/14 [==============================] - 0s 3ms/step - loss: 0.5478 - accuracy: 0.6699 - val_loss: 0.4817 - val_accuracy: 0.7111\n",
      "Epoch 32/150\n",
      "14/14 [==============================] - 0s 3ms/step - loss: 0.5460 - accuracy: 0.6699 - val_loss: 0.4826 - val_accuracy: 0.7111\n",
      "Epoch 33/150\n",
      "14/14 [==============================] - 0s 3ms/step - loss: 0.5453 - accuracy: 0.6651 - val_loss: 0.4840 - val_accuracy: 0.7111\n",
      "Epoch 34/150\n",
      "14/14 [==============================] - 0s 3ms/step - loss: 0.5462 - accuracy: 0.6699 - val_loss: 0.4786 - val_accuracy: 0.7111\n",
      "Epoch 35/150\n",
      "14/14 [==============================] - 0s 3ms/step - loss: 0.5444 - accuracy: 0.6651 - val_loss: 0.4836 - val_accuracy: 0.7111\n",
      "Epoch 36/150\n",
      "14/14 [==============================] - 0s 3ms/step - loss: 0.5420 - accuracy: 0.6699 - val_loss: 0.4807 - val_accuracy: 0.7111\n",
      "Epoch 37/150\n",
      "14/14 [==============================] - 0s 3ms/step - loss: 0.5402 - accuracy: 0.6651 - val_loss: 0.4779 - val_accuracy: 0.7111\n",
      "Epoch 38/150\n",
      "14/14 [==============================] - 0s 3ms/step - loss: 0.5392 - accuracy: 0.6651 - val_loss: 0.4755 - val_accuracy: 0.7111\n",
      "Epoch 39/150\n",
      "14/14 [==============================] - 0s 3ms/step - loss: 0.5388 - accuracy: 0.6651 - val_loss: 0.4756 - val_accuracy: 0.7111\n",
      "Epoch 40/150\n",
      "14/14 [==============================] - 0s 3ms/step - loss: 0.5367 - accuracy: 0.6699 - val_loss: 0.4737 - val_accuracy: 0.7111\n",
      "Epoch 41/150\n",
      "14/14 [==============================] - 0s 3ms/step - loss: 0.5368 - accuracy: 0.6699 - val_loss: 0.4734 - val_accuracy: 0.7111\n",
      "Epoch 42/150\n",
      "14/14 [==============================] - 0s 3ms/step - loss: 0.5337 - accuracy: 0.6699 - val_loss: 0.4759 - val_accuracy: 0.7111\n",
      "Epoch 43/150\n",
      "14/14 [==============================] - 0s 3ms/step - loss: 0.5337 - accuracy: 0.6746 - val_loss: 0.4729 - val_accuracy: 0.7111\n",
      "Epoch 44/150\n",
      "14/14 [==============================] - 0s 3ms/step - loss: 0.5327 - accuracy: 0.6746 - val_loss: 0.4739 - val_accuracy: 0.7111\n",
      "Epoch 45/150\n",
      "14/14 [==============================] - 0s 3ms/step - loss: 0.5299 - accuracy: 0.6746 - val_loss: 0.4755 - val_accuracy: 0.7111\n",
      "Epoch 46/150\n",
      "14/14 [==============================] - 0s 3ms/step - loss: 0.5354 - accuracy: 0.6746 - val_loss: 0.4933 - val_accuracy: 0.7222\n",
      "Epoch 47/150\n",
      "14/14 [==============================] - 0s 3ms/step - loss: 0.5161 - accuracy: 0.6842 - val_loss: 0.4713 - val_accuracy: 0.7444\n",
      "Epoch 48/150\n",
      "14/14 [==============================] - 0s 3ms/step - loss: 0.5066 - accuracy: 0.6986 - val_loss: 0.4579 - val_accuracy: 0.7444\n",
      "Epoch 49/150\n",
      "14/14 [==============================] - 0s 3ms/step - loss: 0.5004 - accuracy: 0.7081 - val_loss: 0.4620 - val_accuracy: 0.7222\n",
      "Epoch 50/150\n",
      "14/14 [==============================] - 0s 3ms/step - loss: 0.4920 - accuracy: 0.7129 - val_loss: 0.4615 - val_accuracy: 0.7000\n",
      "Epoch 51/150\n",
      "14/14 [==============================] - 0s 3ms/step - loss: 0.4899 - accuracy: 0.7081 - val_loss: 0.4552 - val_accuracy: 0.7111\n",
      "Epoch 52/150\n",
      "14/14 [==============================] - 0s 3ms/step - loss: 0.4882 - accuracy: 0.7225 - val_loss: 0.4592 - val_accuracy: 0.7000\n",
      "Epoch 53/150\n",
      "14/14 [==============================] - 0s 3ms/step - loss: 0.4850 - accuracy: 0.7273 - val_loss: 0.4592 - val_accuracy: 0.7111\n",
      "Epoch 54/150\n",
      "14/14 [==============================] - 0s 3ms/step - loss: 0.4846 - accuracy: 0.7416 - val_loss: 0.4647 - val_accuracy: 0.7333\n",
      "Epoch 55/150\n",
      "14/14 [==============================] - 0s 3ms/step - loss: 0.4819 - accuracy: 0.7608 - val_loss: 0.4559 - val_accuracy: 0.7222\n",
      "Epoch 56/150\n",
      "14/14 [==============================] - 0s 3ms/step - loss: 0.4805 - accuracy: 0.7560 - val_loss: 0.4608 - val_accuracy: 0.7222\n",
      "Epoch 57/150\n",
      "14/14 [==============================] - 0s 3ms/step - loss: 0.4778 - accuracy: 0.7512 - val_loss: 0.4527 - val_accuracy: 0.7222\n",
      "Epoch 58/150\n",
      "14/14 [==============================] - 0s 3ms/step - loss: 0.4760 - accuracy: 0.7608 - val_loss: 0.4599 - val_accuracy: 0.7444\n",
      "Epoch 59/150\n",
      "14/14 [==============================] - 0s 3ms/step - loss: 0.4730 - accuracy: 0.7656 - val_loss: 0.4588 - val_accuracy: 0.7444\n",
      "Epoch 60/150\n",
      "14/14 [==============================] - 0s 3ms/step - loss: 0.4721 - accuracy: 0.7703 - val_loss: 0.4556 - val_accuracy: 0.7444\n",
      "Epoch 61/150\n",
      "14/14 [==============================] - 0s 3ms/step - loss: 0.4715 - accuracy: 0.7751 - val_loss: 0.4588 - val_accuracy: 0.7444\n",
      "Epoch 62/150\n",
      "14/14 [==============================] - 0s 3ms/step - loss: 0.4710 - accuracy: 0.7656 - val_loss: 0.4528 - val_accuracy: 0.7444\n",
      "Epoch 63/150\n",
      "14/14 [==============================] - 0s 3ms/step - loss: 0.4695 - accuracy: 0.7703 - val_loss: 0.4634 - val_accuracy: 0.7444\n",
      "Epoch 64/150\n",
      "14/14 [==============================] - 0s 3ms/step - loss: 0.4653 - accuracy: 0.7751 - val_loss: 0.4554 - val_accuracy: 0.7444\n",
      "Epoch 65/150\n",
      "14/14 [==============================] - 0s 3ms/step - loss: 0.4649 - accuracy: 0.7703 - val_loss: 0.4587 - val_accuracy: 0.7444\n",
      "Epoch 66/150\n",
      "14/14 [==============================] - 0s 3ms/step - loss: 0.4655 - accuracy: 0.7751 - val_loss: 0.4545 - val_accuracy: 0.7444\n",
      "Epoch 67/150\n",
      "14/14 [==============================] - 0s 3ms/step - loss: 0.4597 - accuracy: 0.7751 - val_loss: 0.4816 - val_accuracy: 0.7444\n",
      "Epoch 68/150\n",
      "14/14 [==============================] - 0s 3ms/step - loss: 0.4784 - accuracy: 0.7799 - val_loss: 0.5002 - val_accuracy: 0.7778\n",
      "Epoch 69/150\n",
      "14/14 [==============================] - 0s 3ms/step - loss: 0.4540 - accuracy: 0.8038 - val_loss: 0.4474 - val_accuracy: 0.7889\n",
      "Epoch 70/150\n",
      "14/14 [==============================] - 0s 3ms/step - loss: 0.4443 - accuracy: 0.8038 - val_loss: 0.4414 - val_accuracy: 0.8000\n",
      "Epoch 71/150\n",
      "14/14 [==============================] - 0s 3ms/step - loss: 0.4447 - accuracy: 0.8086 - val_loss: 0.4542 - val_accuracy: 0.8000\n",
      "Epoch 72/150\n",
      "14/14 [==============================] - 0s 3ms/step - loss: 0.4390 - accuracy: 0.8134 - val_loss: 0.4502 - val_accuracy: 0.8000\n",
      "Epoch 73/150\n",
      "14/14 [==============================] - 0s 3ms/step - loss: 0.4390 - accuracy: 0.8325 - val_loss: 0.4556 - val_accuracy: 0.8000\n",
      "Epoch 74/150\n",
      "14/14 [==============================] - 0s 3ms/step - loss: 0.4339 - accuracy: 0.8134 - val_loss: 0.4547 - val_accuracy: 0.8000\n",
      "Epoch 75/150\n",
      "14/14 [==============================] - 0s 3ms/step - loss: 0.4366 - accuracy: 0.8086 - val_loss: 0.4497 - val_accuracy: 0.8111\n",
      "Epoch 76/150\n",
      "14/14 [==============================] - 0s 3ms/step - loss: 0.4391 - accuracy: 0.7990 - val_loss: 0.4480 - val_accuracy: 0.8000\n",
      "Epoch 77/150\n",
      "14/14 [==============================] - 0s 3ms/step - loss: 0.4335 - accuracy: 0.8230 - val_loss: 0.4617 - val_accuracy: 0.8000\n",
      "Epoch 78/150\n",
      "14/14 [==============================] - 0s 3ms/step - loss: 0.4377 - accuracy: 0.8182 - val_loss: 0.4365 - val_accuracy: 0.8000\n",
      "Epoch 79/150\n",
      "14/14 [==============================] - 0s 3ms/step - loss: 0.4266 - accuracy: 0.8230 - val_loss: 0.4608 - val_accuracy: 0.8000\n",
      "Epoch 80/150\n",
      "14/14 [==============================] - 0s 3ms/step - loss: 0.4207 - accuracy: 0.8278 - val_loss: 0.4511 - val_accuracy: 0.8000\n",
      "Epoch 81/150\n",
      "14/14 [==============================] - 0s 3ms/step - loss: 0.4221 - accuracy: 0.8325 - val_loss: 0.4481 - val_accuracy: 0.8222\n",
      "Epoch 82/150\n",
      "14/14 [==============================] - 0s 3ms/step - loss: 0.4164 - accuracy: 0.8278 - val_loss: 0.4521 - val_accuracy: 0.8111\n",
      "Epoch 83/150\n",
      "14/14 [==============================] - 0s 3ms/step - loss: 0.4182 - accuracy: 0.8230 - val_loss: 0.4613 - val_accuracy: 0.8000\n",
      "Epoch 84/150\n",
      "14/14 [==============================] - 0s 3ms/step - loss: 0.4203 - accuracy: 0.8278 - val_loss: 0.4508 - val_accuracy: 0.8111\n",
      "Epoch 85/150\n",
      "14/14 [==============================] - 0s 3ms/step - loss: 0.4126 - accuracy: 0.8325 - val_loss: 0.4478 - val_accuracy: 0.8222\n",
      "Epoch 86/150\n",
      "14/14 [==============================] - 0s 3ms/step - loss: 0.4140 - accuracy: 0.8182 - val_loss: 0.4506 - val_accuracy: 0.8111\n",
      "Epoch 87/150\n",
      "14/14 [==============================] - 0s 3ms/step - loss: 0.4141 - accuracy: 0.8278 - val_loss: 0.4366 - val_accuracy: 0.8222\n",
      "Epoch 88/150\n",
      "14/14 [==============================] - 0s 3ms/step - loss: 0.4063 - accuracy: 0.8325 - val_loss: 0.4566 - val_accuracy: 0.8111\n",
      "Epoch 89/150\n",
      "14/14 [==============================] - 0s 3ms/step - loss: 0.4074 - accuracy: 0.8325 - val_loss: 0.4560 - val_accuracy: 0.8111\n",
      "Epoch 90/150\n",
      "14/14 [==============================] - 0s 3ms/step - loss: 0.4102 - accuracy: 0.8325 - val_loss: 0.4511 - val_accuracy: 0.8222\n",
      "Epoch 91/150\n",
      "14/14 [==============================] - 0s 3ms/step - loss: 0.4065 - accuracy: 0.8278 - val_loss: 0.4509 - val_accuracy: 0.8222\n",
      "Epoch 92/150\n",
      "14/14 [==============================] - 0s 3ms/step - loss: 0.4275 - accuracy: 0.8230 - val_loss: 0.4783 - val_accuracy: 0.8000\n",
      "Epoch 93/150\n",
      "14/14 [==============================] - 0s 3ms/step - loss: 0.4033 - accuracy: 0.8421 - val_loss: 0.4348 - val_accuracy: 0.8222\n",
      "Epoch 94/150\n",
      "14/14 [==============================] - 0s 3ms/step - loss: 0.4098 - accuracy: 0.8325 - val_loss: 0.4590 - val_accuracy: 0.8111\n",
      "Epoch 95/150\n",
      "14/14 [==============================] - 0s 3ms/step - loss: 0.3997 - accuracy: 0.8230 - val_loss: 0.4269 - val_accuracy: 0.8111\n",
      "Epoch 96/150\n",
      "14/14 [==============================] - 0s 3ms/step - loss: 0.4055 - accuracy: 0.8278 - val_loss: 0.4272 - val_accuracy: 0.8222\n",
      "Epoch 97/150\n",
      "14/14 [==============================] - 0s 3ms/step - loss: 0.3973 - accuracy: 0.8373 - val_loss: 0.4458 - val_accuracy: 0.8222\n",
      "Epoch 98/150\n",
      "14/14 [==============================] - 0s 3ms/step - loss: 0.3924 - accuracy: 0.8373 - val_loss: 0.4468 - val_accuracy: 0.8222\n",
      "Epoch 99/150\n",
      "14/14 [==============================] - 0s 3ms/step - loss: 0.3924 - accuracy: 0.8325 - val_loss: 0.4484 - val_accuracy: 0.8222\n",
      "Epoch 100/150\n",
      "14/14 [==============================] - 0s 3ms/step - loss: 0.3934 - accuracy: 0.8421 - val_loss: 0.4377 - val_accuracy: 0.8222\n",
      "Epoch 101/150\n",
      "14/14 [==============================] - 0s 3ms/step - loss: 0.3899 - accuracy: 0.8517 - val_loss: 0.4506 - val_accuracy: 0.8222\n",
      "Epoch 102/150\n",
      "14/14 [==============================] - 0s 3ms/step - loss: 0.3903 - accuracy: 0.8230 - val_loss: 0.4400 - val_accuracy: 0.8222\n",
      "Epoch 103/150\n",
      "14/14 [==============================] - 0s 3ms/step - loss: 0.3955 - accuracy: 0.8325 - val_loss: 0.4355 - val_accuracy: 0.8222\n",
      "Epoch 104/150\n",
      "14/14 [==============================] - 0s 3ms/step - loss: 0.3856 - accuracy: 0.8278 - val_loss: 0.4513 - val_accuracy: 0.8111\n",
      "Epoch 105/150\n",
      "14/14 [==============================] - 0s 3ms/step - loss: 0.3875 - accuracy: 0.8373 - val_loss: 0.4360 - val_accuracy: 0.8222\n",
      "Epoch 106/150\n",
      "14/14 [==============================] - 0s 3ms/step - loss: 0.3914 - accuracy: 0.8373 - val_loss: 0.4393 - val_accuracy: 0.8222\n",
      "Epoch 107/150\n",
      "14/14 [==============================] - 0s 3ms/step - loss: 0.3836 - accuracy: 0.8325 - val_loss: 0.4356 - val_accuracy: 0.8222\n",
      "Epoch 108/150\n",
      "14/14 [==============================] - 0s 3ms/step - loss: 0.3845 - accuracy: 0.8325 - val_loss: 0.4403 - val_accuracy: 0.8222\n",
      "Epoch 109/150\n",
      "14/14 [==============================] - 0s 3ms/step - loss: 0.3896 - accuracy: 0.8469 - val_loss: 0.4427 - val_accuracy: 0.8222\n",
      "Epoch 110/150\n",
      "14/14 [==============================] - 0s 3ms/step - loss: 0.3802 - accuracy: 0.8469 - val_loss: 0.4427 - val_accuracy: 0.8222\n",
      "Epoch 111/150\n",
      "14/14 [==============================] - 0s 3ms/step - loss: 0.3828 - accuracy: 0.8421 - val_loss: 0.4444 - val_accuracy: 0.8222\n",
      "Epoch 112/150\n",
      "14/14 [==============================] - 0s 3ms/step - loss: 0.3839 - accuracy: 0.8421 - val_loss: 0.4336 - val_accuracy: 0.8222\n",
      "Epoch 113/150\n",
      "14/14 [==============================] - 0s 3ms/step - loss: 0.3845 - accuracy: 0.8421 - val_loss: 0.4377 - val_accuracy: 0.8222\n",
      "Epoch 114/150\n",
      "14/14 [==============================] - 0s 3ms/step - loss: 0.3797 - accuracy: 0.8421 - val_loss: 0.4365 - val_accuracy: 0.8222\n",
      "Epoch 115/150\n",
      "14/14 [==============================] - 0s 3ms/step - loss: 0.3839 - accuracy: 0.8373 - val_loss: 0.4369 - val_accuracy: 0.8222\n",
      "Epoch 116/150\n",
      "14/14 [==============================] - 0s 3ms/step - loss: 0.3984 - accuracy: 0.8182 - val_loss: 0.4574 - val_accuracy: 0.8111\n",
      "Epoch 117/150\n",
      "14/14 [==============================] - 0s 3ms/step - loss: 0.3914 - accuracy: 0.8325 - val_loss: 0.4502 - val_accuracy: 0.8222\n",
      "Epoch 118/150\n",
      "14/14 [==============================] - 0s 3ms/step - loss: 0.3804 - accuracy: 0.8469 - val_loss: 0.4386 - val_accuracy: 0.8222\n",
      "Epoch 119/150\n",
      "14/14 [==============================] - 0s 3ms/step - loss: 0.3791 - accuracy: 0.8421 - val_loss: 0.4519 - val_accuracy: 0.8222\n",
      "Epoch 120/150\n",
      "14/14 [==============================] - 0s 3ms/step - loss: 0.3795 - accuracy: 0.8325 - val_loss: 0.4395 - val_accuracy: 0.8222\n",
      "Epoch 121/150\n",
      "14/14 [==============================] - 0s 3ms/step - loss: 0.3793 - accuracy: 0.8421 - val_loss: 0.4517 - val_accuracy: 0.8222\n",
      "Epoch 122/150\n",
      "14/14 [==============================] - 0s 3ms/step - loss: 0.3899 - accuracy: 0.8373 - val_loss: 0.4401 - val_accuracy: 0.8222\n",
      "Epoch 123/150\n",
      "14/14 [==============================] - 0s 3ms/step - loss: 0.3749 - accuracy: 0.8469 - val_loss: 0.4363 - val_accuracy: 0.8222\n",
      "Epoch 124/150\n",
      "14/14 [==============================] - 0s 3ms/step - loss: 0.3742 - accuracy: 0.8373 - val_loss: 0.4405 - val_accuracy: 0.8222\n",
      "Epoch 125/150\n",
      "14/14 [==============================] - 0s 3ms/step - loss: 0.3741 - accuracy: 0.8469 - val_loss: 0.4405 - val_accuracy: 0.8222\n",
      "Epoch 126/150\n",
      "14/14 [==============================] - 0s 3ms/step - loss: 0.3872 - accuracy: 0.8373 - val_loss: 0.4430 - val_accuracy: 0.8222\n",
      "Epoch 127/150\n",
      "14/14 [==============================] - 0s 3ms/step - loss: 0.3830 - accuracy: 0.8278 - val_loss: 0.4509 - val_accuracy: 0.8000\n",
      "Epoch 128/150\n",
      "14/14 [==============================] - 0s 3ms/step - loss: 0.4093 - accuracy: 0.8278 - val_loss: 0.4441 - val_accuracy: 0.8333\n",
      "Epoch 129/150\n",
      "14/14 [==============================] - 0s 3ms/step - loss: 0.3755 - accuracy: 0.8373 - val_loss: 0.4321 - val_accuracy: 0.8222\n",
      "Epoch 130/150\n",
      "14/14 [==============================] - 0s 3ms/step - loss: 0.3782 - accuracy: 0.8469 - val_loss: 0.4605 - val_accuracy: 0.8111\n",
      "Epoch 131/150\n",
      "14/14 [==============================] - 0s 3ms/step - loss: 0.3778 - accuracy: 0.8517 - val_loss: 0.4167 - val_accuracy: 0.8222\n",
      "Epoch 132/150\n",
      "14/14 [==============================] - 0s 3ms/step - loss: 0.3959 - accuracy: 0.8325 - val_loss: 0.4186 - val_accuracy: 0.8333\n",
      "Epoch 133/150\n",
      "14/14 [==============================] - 0s 3ms/step - loss: 0.3690 - accuracy: 0.8373 - val_loss: 0.4486 - val_accuracy: 0.8111\n",
      "Epoch 134/150\n",
      "14/14 [==============================] - 0s 3ms/step - loss: 0.3727 - accuracy: 0.8373 - val_loss: 0.4319 - val_accuracy: 0.8222\n",
      "Epoch 135/150\n",
      "14/14 [==============================] - 0s 3ms/step - loss: 0.3656 - accuracy: 0.8517 - val_loss: 0.4307 - val_accuracy: 0.8222\n",
      "Epoch 136/150\n",
      "14/14 [==============================] - 0s 3ms/step - loss: 0.3685 - accuracy: 0.8421 - val_loss: 0.4253 - val_accuracy: 0.8222\n",
      "Epoch 137/150\n",
      "14/14 [==============================] - 0s 3ms/step - loss: 0.3631 - accuracy: 0.8517 - val_loss: 0.4391 - val_accuracy: 0.8333\n",
      "Epoch 138/150\n",
      "14/14 [==============================] - 0s 3ms/step - loss: 0.3682 - accuracy: 0.8469 - val_loss: 0.4301 - val_accuracy: 0.8222\n",
      "Epoch 139/150\n",
      "14/14 [==============================] - 0s 3ms/step - loss: 0.3654 - accuracy: 0.8421 - val_loss: 0.4278 - val_accuracy: 0.8222\n",
      "Epoch 140/150\n",
      "14/14 [==============================] - 0s 3ms/step - loss: 0.3635 - accuracy: 0.8517 - val_loss: 0.4281 - val_accuracy: 0.8222\n",
      "Epoch 141/150\n",
      "14/14 [==============================] - 0s 3ms/step - loss: 0.3626 - accuracy: 0.8612 - val_loss: 0.4254 - val_accuracy: 0.8222\n",
      "Epoch 142/150\n",
      "14/14 [==============================] - 0s 3ms/step - loss: 0.3652 - accuracy: 0.8517 - val_loss: 0.4335 - val_accuracy: 0.8222\n",
      "Epoch 143/150\n",
      "14/14 [==============================] - 0s 3ms/step - loss: 0.3651 - accuracy: 0.8565 - val_loss: 0.4243 - val_accuracy: 0.8222\n",
      "Epoch 144/150\n",
      "14/14 [==============================] - 0s 3ms/step - loss: 0.3690 - accuracy: 0.8421 - val_loss: 0.4317 - val_accuracy: 0.8333\n",
      "Epoch 145/150\n",
      "14/14 [==============================] - 0s 3ms/step - loss: 0.3660 - accuracy: 0.8469 - val_loss: 0.4249 - val_accuracy: 0.8222\n",
      "Epoch 146/150\n",
      "14/14 [==============================] - 0s 3ms/step - loss: 0.3639 - accuracy: 0.8517 - val_loss: 0.4349 - val_accuracy: 0.8333\n",
      "Epoch 147/150\n",
      "14/14 [==============================] - 0s 3ms/step - loss: 0.3638 - accuracy: 0.8517 - val_loss: 0.4266 - val_accuracy: 0.8222\n",
      "Epoch 148/150\n",
      "14/14 [==============================] - 0s 3ms/step - loss: 0.3651 - accuracy: 0.8421 - val_loss: 0.4259 - val_accuracy: 0.8222\n",
      "Epoch 149/150\n",
      "14/14 [==============================] - 0s 3ms/step - loss: 0.3699 - accuracy: 0.8517 - val_loss: 0.4224 - val_accuracy: 0.8222\n",
      "Epoch 150/150\n",
      "14/14 [==============================] - 0s 3ms/step - loss: 0.3630 - accuracy: 0.8517 - val_loss: 0.4270 - val_accuracy: 0.8222\n"
     ]
    }
   ],
   "source": [
    "history=ann.fit(x_train, y_train,validation_data = (x_test, y_test), batch_size = 16, epochs = 150)"
   ]
  },
  {
   "cell_type": "code",
   "execution_count": 15,
   "metadata": {
    "execution": {
     "iopub.execute_input": "2021-09-09T06:20:27.188387Z",
     "iopub.status.busy": "2021-09-09T06:20:27.188159Z",
     "iopub.status.idle": "2021-09-09T06:20:27.230938Z",
     "shell.execute_reply": "2021-09-09T06:20:27.230391Z",
     "shell.execute_reply.started": "2021-09-09T06:20:27.188365Z"
    }
   },
   "outputs": [
    {
     "name": "stdout",
     "output_type": "stream",
     "text": [
      "3/3 [==============================] - 0s 1ms/step - loss: 0.4270 - accuracy: 0.8222\n",
      "Test Loss 0.4269659221172333\n",
      "Test Accuracy 0.8222222328186035\n"
     ]
    }
   ],
   "source": [
    "score = ann.evaluate(x_test,y_test)\n",
    "print('Test Loss',score[0])\n",
    "print(\"Test Accuracy\",score[1])"
   ]
  },
  {
   "cell_type": "markdown",
   "metadata": {},
   "source": [
    "# Summary of model"
   ]
  },
  {
   "cell_type": "code",
   "execution_count": 16,
   "metadata": {
    "execution": {
     "iopub.execute_input": "2021-08-27T09:22:54.063193Z",
     "iopub.status.busy": "2021-08-27T09:22:54.063027Z",
     "iopub.status.idle": "2021-08-27T09:22:54.068399Z",
     "shell.execute_reply": "2021-08-27T09:22:54.067892Z",
     "shell.execute_reply.started": "2021-08-27T09:22:54.063174Z"
    }
   },
   "outputs": [
    {
     "name": "stdout",
     "output_type": "stream",
     "text": [
      "Model: \"sequential\"\n",
      "_________________________________________________________________\n",
      "Layer (type)                 Output Shape              Param #   \n",
      "=================================================================\n",
      "dense (Dense)                (None, 7)                 35        \n",
      "_________________________________________________________________\n",
      "dense_1 (Dense)              (None, 7)                 56        \n",
      "_________________________________________________________________\n",
      "dense_2 (Dense)              (None, 7)                 56        \n",
      "_________________________________________________________________\n",
      "dense_3 (Dense)              (None, 7)                 56        \n",
      "_________________________________________________________________\n",
      "dense_4 (Dense)              (None, 1)                 8         \n",
      "=================================================================\n",
      "Total params: 211\n",
      "Trainable params: 211\n",
      "Non-trainable params: 0\n",
      "_________________________________________________________________\n"
     ]
    }
   ],
   "source": [
    "ann.summary()"
   ]
  },
  {
   "cell_type": "code",
   "execution_count": 17,
   "metadata": {
    "execution": {
     "iopub.execute_input": "2021-08-27T09:22:54.069263Z",
     "iopub.status.busy": "2021-08-27T09:22:54.069090Z",
     "iopub.status.idle": "2021-08-27T09:22:54.224157Z",
     "shell.execute_reply": "2021-08-27T09:22:54.223620Z",
     "shell.execute_reply.started": "2021-08-27T09:22:54.069244Z"
    }
   },
   "outputs": [
    {
     "data": {
      "image/png": "[encoded data removed]",
      "text/plain": [
       "<Figure size 1080x432 with 1 Axes>"
      ]
     },
     "metadata": {},
     "output_type": "display_data"
    }
   ],
   "source": [
    "plt.plot(history.history['accuracy'])\n",
    "plt.plot(history.history['val_accuracy'])\n",
    "\n",
    "plt.title('Model Accuracy')\n",
    "plt.ylabel('accuracy')\n",
    "plt.xlabel('test accuracy')\n",
    "\n",
    "\n",
    "plt.show()"
   ]
  },
  {
   "cell_type": "code",
   "execution_count": 18,
   "metadata": {
    "execution": {
     "iopub.execute_input": "2021-08-27T09:22:54.225022Z",
     "iopub.status.busy": "2021-08-27T09:22:54.224868Z",
     "iopub.status.idle": "2021-08-27T09:22:54.394291Z",
     "shell.execute_reply": "2021-08-27T09:22:54.393773Z",
     "shell.execute_reply.started": "2021-08-27T09:22:54.225003Z"
    }
   },
   "outputs": [
    {
     "data": {
      "image/png": "[encoded data removed]",
      "text/plain": [
       "<Figure size 1080x432 with 1 Axes>"
      ]
     },
     "metadata": {},
     "output_type": "display_data"
    }
   ],
   "source": [
    "plt.plot(history.history['loss'])\n",
    "plt.plot(history.history['val_loss'])\n",
    "plt.title('model loss')\n",
    "plt.ylabel('loss')\n",
    "plt.xlabel('epoch')\n",
    "plt.legend(['train', 'test'], loc='upper left')\n",
    "plt.show()"
   ]
  },
  {
   "cell_type": "code",
   "execution_count": 19,
   "metadata": {
    "execution": {
     "iopub.execute_input": "2021-08-27T09:22:54.395165Z",
     "iopub.status.busy": "2021-08-27T09:22:54.395010Z",
     "iopub.status.idle": "2021-08-27T09:22:54.415099Z",
     "shell.execute_reply": "2021-08-27T09:22:54.414574Z",
     "shell.execute_reply.started": "2021-08-27T09:22:54.395147Z"
    }
   },
   "outputs": [],
   "source": [
    "ann.save('hrt.h5')"
   ]
  },
  {
   "cell_type": "markdown",
   "metadata": {},
   "source": [
    "# Model prediction"
   ]
  },
  {
   "cell_type": "code",
   "execution_count": 20,
   "metadata": {
    "execution": {
     "iopub.execute_input": "2021-08-27T09:22:54.415886Z",
     "iopub.status.busy": "2021-08-27T09:22:54.415737Z",
     "iopub.status.idle": "2021-08-27T09:22:54.571038Z",
     "shell.execute_reply": "2021-08-27T09:22:54.570505Z",
     "shell.execute_reply.started": "2021-08-27T09:22:54.415869Z"
    }
   },
   "outputs": [
    {
     "data": {
      "text/plain": [
       "array([[0],\n",
       "       [0],\n",
       "       [1],\n",
       "       [1],\n",
       "       [0],\n",
       "       [1],\n",
       "       [1],\n",
       "       [0],\n",
       "       [0],\n",
       "       [0],\n",
       "       [0],\n",
       "       [0],\n",
       "       [1],\n",
       "       [0],\n",
       "       [1],\n",
       "       [1],\n",
       "       [0],\n",
       "       [0],\n",
       "       [1],\n",
       "       [0],\n",
       "       [0],\n",
       "       [0],\n",
       "       [0],\n",
       "       [0],\n",
       "       [0],\n",
       "       [0],\n",
       "       [1],\n",
       "       [0],\n",
       "       [0],\n",
       "       [0],\n",
       "       [0],\n",
       "       [1],\n",
       "       [1],\n",
       "       [0],\n",
       "       [0],\n",
       "       [0],\n",
       "       [1],\n",
       "       [0],\n",
       "       [0],\n",
       "       [1],\n",
       "       [0],\n",
       "       [1],\n",
       "       [0],\n",
       "       [0],\n",
       "       [0],\n",
       "       [0],\n",
       "       [0],\n",
       "       [0],\n",
       "       [0],\n",
       "       [0],\n",
       "       [0],\n",
       "       [0],\n",
       "       [0],\n",
       "       [1],\n",
       "       [0],\n",
       "       [0],\n",
       "       [0],\n",
       "       [0],\n",
       "       [0],\n",
       "       [0],\n",
       "       [1],\n",
       "       [1],\n",
       "       [1],\n",
       "       [0],\n",
       "       [0],\n",
       "       [0],\n",
       "       [1],\n",
       "       [0],\n",
       "       [0],\n",
       "       [0],\n",
       "       [0],\n",
       "       [0],\n",
       "       [1],\n",
       "       [0],\n",
       "       [1],\n",
       "       [1],\n",
       "       [0],\n",
       "       [0],\n",
       "       [0],\n",
       "       [0],\n",
       "       [0],\n",
       "       [0],\n",
       "       [0],\n",
       "       [0],\n",
       "       [0],\n",
       "       [0],\n",
       "       [1],\n",
       "       [0],\n",
       "       [1],\n",
       "       [0]], dtype=int32)"
      ]
     },
     "execution_count": 20,
     "metadata": {},
     "output_type": "execute_result"
    }
   ],
   "source": [
    "from tensorflow.keras.models import load_model\n",
    "m = load_model('hrt.h5')\n",
    "m.predict_classes(x_test)"
   ]
  },
  {
   "cell_type": "code",
   "execution_count": null,
   "metadata": {},
   "outputs": [],
   "source": []
  }
 ],
 "metadata": {
  "kernelspec": {
   "display_name": "Python 3",
   "language": "python",
   "name": "python3"
  },
  "language_info": {
   "codemirror_mode": {
    "name": "ipython",
    "version": 3
   },
   "file_extension": ".py",
   "mimetype": "text/x-python",
   "name": "python",
   "nbconvert_exporter": "python",
   "pygments_lexer": "ipython3",
   "version": "3.7.3"
  }
 },
 "nbformat": 4,
 "nbformat_minor": 4
}
