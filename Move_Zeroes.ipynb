{
  "nbformat": 4,
  "nbformat_minor": 0,
  "metadata": {
    "colab": {
      "name": "Move_Zeroes.ipynb",
      "provenance": [],
      "authorship_tag": "ABX9TyORhFoTLESU0L0nrpPaWtd7",
      "include_colab_link": true
    },
    "kernelspec": {
      "name": "python3",
      "display_name": "Python 3"
    },
    "language_info": {
      "name": "python"
    }
  },
  "cells": [
    {
      "cell_type": "markdown",
      "metadata": {
        "id": "view-in-github",
        "colab_type": "text"
      },
      "source": [
        "<a href=\"https://colab.research.google.com/github/sarav18302/winter-of-contributing/blob/Competitive_Programming/Move_Zeroes.ipynb\" target=\"_parent\"><img src=\"https://colab.research.google.com/assets/colab-badge.svg\" alt=\"Open In Colab\"/></a>"
      ]
    },
    {
      "cell_type": "markdown",
      "metadata": {
        "id": "8cXKxyrZV_JP"
      },
      "source": [
        "**Solution 1**: Using Two pointer solution\n",
        "\n",
        "\n"
      ]
    },
    {
      "cell_type": "code",
      "metadata": {
        "id": "T01T442FWHeA"
      },
      "source": [
        "class Solution {\n",
        "public:\n",
        "    void moveZeroes(vector<int>& nums) {\n",
        "  int n=nums.size(),left=0,right=0,i=0; \n",
        "        while(i<n)\n",
        "        {\n",
        "            if(nums[right]==0)\n",
        "            {\n",
        "                right++;\n",
        "                \n",
        "            }\n",
        "            else\n",
        "            {\n",
        "                swap(nums[left],nums[right]);\n",
        "                left++;\n",
        "               right++;\n",
        "            }\n",
        "            i++;\n",
        "        }\n",
        "        \n",
        "    }\n",
        "};"
      ],
      "execution_count": null,
      "outputs": []
    },
    {
      "cell_type": "markdown",
      "metadata": {
        "id": "PRqYp3ZyXYUG"
      },
      "source": [
        "**Solution 2:** Swapping numbers when nums[i] is not equal to 0"
      ]
    },
    {
      "cell_type": "code",
      "metadata": {
        "id": "A_Cv2sw0XdnD"
      },
      "source": [
        "void moveZeroes(vector<int>& nums) {\n",
        "\tint k = 0;\n",
        "\t// Swap the non-zero elements with the zeros\n",
        "\tfor (int i = 0; i < nums.size(); i++) {\n",
        "\tif (nums[i] != 0) {           \n",
        "\t\t\tswap(nums[k], nums[i]);\n",
        "\t\t\tk++;\n",
        "\t\t}\n",
        "\t}\n",
        "}"
      ],
      "execution_count": null,
      "outputs": []
    },
    {
      "cell_type": "markdown",
      "metadata": {
        "id": "MP4Oa0ikXg5l"
      },
      "source": [
        "**Solution 3:**\n"
      ]
    },
    {
      "cell_type": "code",
      "metadata": {
        "colab": {
          "base_uri": "https://localhost:8080/",
          "height": 130
        },
        "id": "X_O4E3vmbKDL",
        "outputId": "a0e44958-576e-41da-9fe6-70cc1de0f947"
      },
      "source": [
        "class Solution {\n",
        "public:\n",
        "    void moveZeroes(vector<int>& nums) {\n",
        "        \n",
        "      //Without loss of generality if we travel and modify the array as we go along the pass the   \n",
        "\t // non zeroes come to the front and the remaining can be filled wit zeroes\n",
        "  \n",
        "       int lastzeroindex = 0;\n",
        "       int n = nums.size();\n",
        "        \n",
        "       for(int i = 0 ; i < n ; i++) {\n",
        "\t   // Non Zero numbers are added keeping the order same\n",
        "           if(nums[i]){\n",
        "               nums[lastzeroindex++] = nums[i]; \n",
        "           }\n",
        "              \n",
        "       }\n",
        "\t   //Zeroes are added till the array is not completely filled as number of elements in array remain constant just the order changes \n",
        "        for (int i = lastzeroindex; i < nums.size(); i++) {\n",
        "                           nums[i] = 0;\n",
        "        }\n",
        "    }\n",
        "};"
      ],
      "execution_count": 1,
      "outputs": [
        {
          "output_type": "error",
          "ename": "SyntaxError",
          "evalue": "ignored",
          "traceback": [
            "\u001b[0;36m  File \u001b[0;32m\"<ipython-input-1-8488bdfb51e5>\"\u001b[0;36m, line \u001b[0;32m1\u001b[0m\n\u001b[0;31m    class Solution {\u001b[0m\n\u001b[0m                   ^\u001b[0m\n\u001b[0;31mSyntaxError\u001b[0m\u001b[0;31m:\u001b[0m invalid syntax\n"
          ]
        }
      ]
    }
  ]
}