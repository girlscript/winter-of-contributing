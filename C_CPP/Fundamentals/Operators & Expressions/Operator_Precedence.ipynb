{
  "nbformat": 4,
  "nbformat_minor": 0,
  "metadata": {
    "colab": {
      "name": "Untitled3.ipynb",
      "provenance": [],
      "collapsed_sections": [],
      "toc_visible": true
    },
    "kernelspec": {
      "name": "python3",
      "display_name": "Python 3"
    },
    "language_info": {
      "name": "python"
    }
  },
  "cells": [
    {
      "cell_type": "markdown",
      "metadata": {
        "id": "XW2_1GZXEr5E"
      },
      "source": [
        "# Hierarchy Of Operations\n",
        "\n",
        "\n",
        "> If an arithmetic expression has many operators, then during its execution there might be some confusion about their evaluation.\n",
        "\n",
        "> Eg. Does the expression A*B/C correspond to (A * B)/C or to A * (B/C) ? To answer this, let's understand hierarchy of operations.\n",
        "\n",
        "The precedence/order in which the operations in an arithmetic expression are performed is called **The Hierarchy of Operations**.\n",
        "\n",
        "\n",
        "\n",
        "\n",
        "\n"
      ]
    },
    {
      "cell_type": "markdown",
      "metadata": {
        "id": "H9qhonCyHlRa"
      },
      "source": [
        "# Operator Precedence\n",
        "\n",
        "\n",
        "1.   It describes the order in which 'C' reads the expression.\n",
        "2.   Operators higher in the chart/table have higher precedence,meaning that the 'C' compiler evaluates them first.\n",
        "3.   Operators on the same line in the table have the same precedence.\n",
        "4.   Associativity gives the evaluation orders.\n",
        "\n"
      ]
    },
    {
      "cell_type": "markdown",
      "metadata": {
        "id": "A7KUOLr7Jaeg"
      },
      "source": [
        "# Associativity Of Operators\n",
        "When there is a tie between operators of the same priority, it is settled by using Associativity of Operators. All operators either have **Left to Right** or **Right to Left** associativity."
      ]
    },
    {
      "cell_type": "markdown",
      "metadata": {
        "id": "4sutw1E_KPso"
      },
      "source": [
        "# Operator Precedence Table\n",
        "| PRECEDENCE |  | OPERATOR    |  | DESCRIPTION                         |  | ASSOCIATIVITY |\n",
        "|------------|--|-------------|--|-------------------------------------|--|---------------|\n",
        "| 1          |  | ( ) [ ] .   |  | Parenthesis, Brackets, Dot operator |  | Left to Right |\n",
        "|            |  | -> ++ --    |  | Postfix Increment/Decrement         |  |               |\n",
        "|            |  |             |  |                                     |  |               |\n",
        "| 2          |  | ++ --       |  | Prefix Inc. /Dec.                   |  |               |\n",
        "|            |  | + -         |  | Unary plus minus                    |  |               |\n",
        "|            |  | ! ~         |  | logical not, bitwise compliment     |  | Right to Left |\n",
        "|            |  | (type)  *   |  | casting, dereference                 |  |               |\n",
        "|            |  | &,  size of |  | address, size of n bytes            |  |               |\n",
        "|            |  |             |  |                                     |  |               |\n",
        "| 3          |  | * / %       |  | Multiplication, Division, Modulus  |  | L to R        |\n",
        "|            |  |             |  |                                     |  |               |\n",
        "| 4          |  | + -         |  | Addition, Subtraction               |  | L to R        |\n",
        "|            |  |             |  |                                     |  |               |\n",
        "| 5          |  | << >>       |  | Bitwise shift                       |  | L to R        |\n",
        "|            |  |             |  |                                     |  |               |\n",
        "| 6          |  | < > <= >=   |  | Relational                          |  | L to R        |\n",
        "|            |  |             |  |                                     |  |               |\n",
        "| 7          |  | == !=       |  | Relational equal/not equal          |  | L to R        |\n",
        "|            |  |             |  |                                     |  |               |\n",
        "| 8          |  | &           |  | Bitwise AND                         |  |               |\n",
        "|            |  | ^           |  | Bitwise XOR                         |  |               |\n",
        "|            |  | l           |  | Bitwise OR                          |  | L to R        |\n",
        "|            |  | &&          |  | Logical AND                         |  |               |\n",
        "|            |  |  l          |  | Logical OR                          |  |               |\n",
        "|            |  |             |  |                                     |  |               |\n",
        "| 9          |  | ?:          |  | Ternary operator                    |  | R to L        |\n",
        "|            |  |             |  |                                     |  |               |\n",
        "| 10         |  | = *= /= %=  |  | Simple and compound assignment      |  | R to L        |\n",
        "|            |  | += -= <<=   |  |                                     |  |               |\n",
        "|            |  | >>= &= ^= l=|  |                                     |  |               |\n",
        "|            |  |             |  |                                     |  |               |\n",
        "| 11         |  | ,           |  | Sequential evaluation               |  | L to R        |\n"
      ]
    },
    {
      "cell_type": "markdown",
      "metadata": {
        "id": "V06XKTefib4j"
      },
      "source": [
        "Let's take an example for better understanding."
      ]
    },
    {
      "cell_type": "code",
      "metadata": {
        "id": "oPxULLB_ih56"
      },
      "source": [
        "k = 3 / 2 * 4 + 3 / 8 ;"
      ],
      "execution_count": null,
      "outputs": []
    },
    {
      "cell_type": "markdown",
      "metadata": {
        "id": "QU5-v0CfisCA"
      },
      "source": [
        "Stepwise evaluation of this expression is shown below:"
      ]
    },
    {
      "cell_type": "code",
      "metadata": {
        "id": "8nAHebApizme"
      },
      "source": [
        "k = 3 / 2 * 4 + 3 / 8 ;\n",
        "k = 1 * 4 + 3 / 8 ;                   /* (operation 1: / ) */\n",
        "k = 4 + 3 / 8 ;                       /* (operation 2: * ) */\n",
        "k = 4 + 0 ;                           /* (operation 3: / ) */\n",
        "k = 4 ;                               /* (operation 4: + ) */"
      ],
      "execution_count": null,
      "outputs": []
    },
    {
      "cell_type": "markdown",
      "metadata": {
        "id": "hf38avWqk9yw"
      },
      "source": [
        "In the above example, there is a tie between / and *. So, the tie is settled using the associativity of / and * ,i.e., Left to Right. \n",
        "\n",
        "\n",
        "1.   Firstly, / operation is performed between 3 and 2 which gives us 1.\n",
        "2.   Next, * operation is performed between 1 and 4 which gives us 4.\n",
        "3.   Among + and /, / has the highest precedence. Therefore, / operation is performed between 3 and 8 which gives us 0.\n",
        "4.   Finally, + operation is performed between 4 and 0 which leaves us with final output 4.\n",
        "\n"
      ]
    },
    {
      "cell_type": "markdown",
      "metadata": {
        "id": "FDUFN_UGm1Dx"
      },
      "source": [
        "\n",
        "\n",
        "Happy learning!"
      ]
    }
  ]
}