{
  "nbformat": 4,
  "nbformat_minor": 0,
  "metadata": {
    "colab": {
      "name": "Untitled0.ipynb",
      "provenance": [],
      "authorship_tag": "ABX9TyPhUd098fmgJFXzNLL5vc4L",
      "include_colab_link": true
    },
    "kernelspec": {
      "name": "python3",
      "display_name": "Python 3"
    },
    "language_info": {
      "name": "python"
    }
  },
  "cells": [
    {
      "cell_type": "markdown",
      "metadata": {
        "id": "view-in-github",
        "colab_type": "text"
      },
      "source": [
        "<a href=\"https://colab.research.google.com/github/Palak-Srivastava/winter-of-contributing/blob/Java/Iteration%20Statement/For%20and%20For-Each/For%20%26%20For-each%20Loop%20Audio.ipynb\" target=\"_parent\"><img src=\"https://colab.research.google.com/assets/colab-badge.svg\" alt=\"Open In Colab\"/></a>"
      ]
    },
    {
      "cell_type": "code",
      "metadata": {
        "id": "m0fGSlHaADQh"
      },
      "source": [
        ""
      ],
      "execution_count": null,
      "outputs": []
    },
    {
      "cell_type": "markdown",
      "metadata": {
        "id": "27IwJuGKAEXu"
      },
      "source": [
        "**For Loop** : \n",
        "https://drive.google.com/file/d/1ZAgbnbIO7TmrSVeWuJaKfQv-SD1Pntpr/view?usp=sharing\n",
        "\n",
        "\n",
        "**For Loop Syntax**: https://drive.google.com/file/d/1ZA0XNfMJFjotv9LtIfneI-3Jpqhn7ro1/view?usp=sharing\n",
        "\n",
        "**For-each Loop** : https://drive.google.com/file/d/1ZRBgpS-qcUE04HiLudNJd04I9c-WHMOH/view?usp=sharing\n",
        "\n",
        "**Difference between For & For-each Loop :** https://drive.google.com/file/d/1ZK1_VmsVyDb6kbioBdm4KyaQyXMBGBtr/view?usp=sharing\n"
      ]
    }
  ]
}