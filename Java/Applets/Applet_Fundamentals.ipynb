{
  "cells": [
    {
      "cell_type": "markdown",
      "metadata": {
        "id": "SFMlVHYiUljf"
      },
      "source": [
        "# **Applets**\n",
        "\n",
        "---\n",
        "\n",
        "\n",
        "An Applet is a special type of Java program which can be accessed on an internet server and works at client side. It is a fully functional small size Java application which are used to generate dynamic content.\n"
      ]
    },
    {
      "cell_type": "markdown",
      "metadata": {
        "id": "sa9VXKEVnIKe"
      },
      "source": [
        "### **Key Points:**\n",
        "\n",
        "---\n",
        "\n",
        "\n",
        "\n",
        "\n",
        "\n",
        "*   All applets are sub-classes of ```java.applet.Applet``` class either directly or indirectly.\n",
        "*   Output of an applet window is handled with various methods of `AWT`such as *drawString()* instead of *System.out.println()*.\n",
        "\n",
        "*   An Applet class is viewed using JVM as JVM can use either a plug-in of the web browser or a distinct environement.\n",
        "*   These are designed to embed into an HTML page.\n",
        "\n",
        "*    The JVM creates an instance of the applet class on the user's machine and invokes `init()` method to initialize an Applet.\n"
      ]
    },
    {
      "cell_type": "markdown",
      "metadata": {
        "id": "vjPqfWj6BkTQ"
      },
      "source": [
        "### **Life Cycle of an Applet :**\n",
        "\n",
        "---\n",
        "\n",
        "\n",
        "\n",
        "![Applets](https://drive.google.com/uc?export=view&id=18uG3Jn-3qhOJ7znD1sqSG2-f9Ab64QTB)\n",
        "\n",
        "- Pay attention to above image to understand the order in which the various methods are shown.        \n",
        "The following methods are called when an applet begins in this sequence:\n",
        "\n",
        "\n",
        "`1.init()`: This is the first technique where you initialize the variable. This method is only called **once** during the applet runtime.    \n",
        "`2.start()`: This is called after `init()`. Unlike `init()`, this is called each time an applet's HTML document is displayed onscreen. After it has been stopped, this method is called to restart an applet.   \n",
        "`3.paint()`: This method is parametrized and called after the `start()` method. It is inherited from the *java.awt*.   \n",
        "   \n",
        "- The following sequence of method is called after an applet is terminated:  \n",
        "\n",
        "`1.stop()`: This method is used to suspend threads that don't need to run when the applet is not noticeable to you. In simple words, it is used to stop the Applet.  \n",
        "`2.destroy()`: This technique is used to remove applet from memory space when no longer needed. It is also called only **once** like `init()` method.\n",
        "\n",
        "\n",
        "\n"
      ]
    },
    {
      "cell_type": "markdown",
      "metadata": {
        "id": "LczaupGKUfHa"
      },
      "source": [
        "### **Example of an Applet Skeleton :**\n",
        "\n",
        "```\n",
        "import java.awt.*; \n",
        "import java.applet.*; \n",
        "public class AppletTest extends Applet \n",
        "{ \n",
        "public void init() \n",
        " { \n",
        "//initialization \n",
        " } \n",
        "public void start () \n",
        " { \n",
        "//start or resume execution \n",
        " } \n",
        "public void stop() \n",
        " { \n",
        "//suspend execution \n",
        " { \n",
        "public void destroy() \n",
        " { \n",
        "//perform shutdown activity \n",
        " } \n",
        "public void paint (Graphics g) \n",
        " { \n",
        "//display the content of window \n",
        " } \n",
        "}\n",
        "```\n",
        "  \n",
        "### **Example of an Applet :**\n",
        "\n",
        "\n",
        "\n",
        "```\n",
        "import java.applet.*; \n",
        "import java.awt.*; \n",
        "public class MyApplet extends Applet \n",
        "{ \n",
        "int height, width; \n",
        "public void init() \n",
        " { \n",
        "  height = getSize().height; \n",
        "  width = getSize().width; \n",
        "setName(\"MyApplet\"); \n",
        " } \n",
        "public void paint(Graphics g) \n",
        " { \n",
        "  g.drawRoundRect(10, 30, 120, 120, 2, 3); \n",
        " } \n",
        "} \n",
        "```\n",
        "![Image](https://drive.google.com/uc?export=view&id=1vLzqltVBdRiBxxow4sj3O4exX27V5Fzq)\n",
        "\n"
      ]
    },
    {
      "cell_type": "markdown",
      "metadata": {
        "id": "J-cs_N9aXgiy"
      },
      "source": [
        "## **How to run an Applet?**\n",
        "\n",
        "---\n",
        "\n",
        "\n",
        "There are two ways to run an applet\n",
        "\n",
        "\n",
        "\n",
        "*   By html file.\n",
        "*   By appletViewer tool \n",
        "\n",
        "\n",
        "\n"
      ]
    },
    {
      "cell_type": "markdown",
      "metadata": {
        "id": "rV0mHYyDYYUv"
      },
      "source": [
        "### **Advantages of Applet :** \n",
        "\n",
        "\n",
        "\n",
        "*   It takes less response time as it works on the client-side.\n",
        "*   It is useful in providing a secure interaction between web pages.\n",
        "\n",
        "### **Disadvantages of Applet :**\n",
        "\n",
        "\n",
        "*   It is not able to read some system properties and write ordinary files on the execution host.\n",
        "\n",
        "\n",
        "\n",
        "\n",
        "\n",
        "\n",
        "\n",
        "\n"
      ]
    },
    {
      "cell_type": "markdown",
      "metadata": {
        "id": "5HMYpJYsbhq2"
      },
      "source": [
        "### **References :**\n",
        "1. [knowledgehut](https://www.knowledgehut.com/tutorials/java-tutorial/java-applet) \n",
        "2. [javatpoint](https://www.javatpoint.com/java-applet)"
      ]
    },
    {
      "cell_type": "markdown",
      "metadata": {
        "id": "pagmWvErai8r"
      },
      "source": [
        "## **Conclusion**\n",
        "You've successfully learnt about __Applets__.\n",
        "\n",
        "Keep exploring Java :)\n",
        "\n",
        "Contributor : [Binita Kumari](https://github.com/Binita-tech) "
      ]
    }
  ],
  "metadata": {
    "colab": {
      "name": "Untitled3.ipynb",
      "provenance": []
    },
    "kernelspec": {
      "display_name": "Python 3",
      "name": "python3"
    },
    "language_info": {
      "name": "python"
    }
  },
  "nbformat": 4,
  "nbformat_minor": 0
}
