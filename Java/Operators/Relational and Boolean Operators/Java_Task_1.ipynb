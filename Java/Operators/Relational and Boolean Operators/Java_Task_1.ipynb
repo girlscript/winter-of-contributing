{
  "nbformat": 4,
  "nbformat_minor": 0,
  "metadata": {
    "colab": {
      "name": "Java-Task-1",
      "provenance": [],
      "authorship_tag": "ABX9TyPCEqtShpt/o4wJHFPKhuzw",
      "include_colab_link": true
    },
    "kernelspec": {
      "name": "python3",
      "display_name": "Python 3"
    },
    "language_info": {
      "name": "python"
    }
  },
  "cells": [
    {
      "cell_type": "markdown",
      "metadata": {
        "id": "view-in-github",
        "colab_type": "text"
      },
      "source": [
        "<a href=\"https://colab.research.google.com/github/pragmatic-philosopher09/winter-of-contributing/blob/Java/Java/Operators/Relational%20and%20Boolean%20Operators/Java_Task_1.ipynb\" target=\"_parent\"><img src=\"https://colab.research.google.com/assets/colab-badge.svg\" alt=\"Open In Colab\"/></a>"
      ]
    },
    {
      "cell_type": "markdown",
      "metadata": {
        "id": "H0O9bIGadtLv"
      },
      "source": [
        "#**Relational & Boolean Operators In Java**\n",
        "\n",
        "\n",
        "\n"
      ]
    },
    {
      "cell_type": "markdown",
      "metadata": {
        "id": "ciqkuUlIejnz"
      },
      "source": [
        "**Relational operators** in Java are primarily used to compare two values in an expression. The result of the evaluation is returned either as boolean **`true`** or **`false`**. \n",
        "\n",
        "They're also referred to as ***boolean*** operators, since they can deal with Boolean values and can be instrumental in control flow statements like **`if-else`** to alter flow of the program execution.\n",
        "\n",
        "There are six relational operators in Java. They're enlisted below:"
      ]
    },
    {
      "cell_type": "markdown",
      "metadata": {
        "id": "YF70iKXV9brO"
      },
      "source": [
        "\n",
        "\n",
        "*   **```==``` (Equality Operator)**: This operator checks for equality on two sides and returns boolean `true` if the results holds, else `false`. It is not to be confused with `=` (assignment) operator which is used for assignment of values to variables. *Example:* \n",
        "\n",
        "  `System.out.println(\"satish\"==\"satish\"); //returns true`\n",
        "\n",
        "\n",
        "*   **```<``` (Less Than):** This operator is responsible for making comparisons and checks whether the expression's/operand's value on left hand side is lesser than the right hand side and accordingly, returns `true` and `false`. *Example:*\n",
        " \n",
        " `System.out.println((3*4+3)<(3*3+4)); //returns false`\n",
        "\n",
        "*   **```>``` (Greater Than):** Akin to the previous operator, this too makes comparison analysis, with the only difference being is that it checks for RHS expression/operand being lesser than the LHS. *Example:* \n",
        "\n",
        " `System.out.println(4/3>1); //returns false` *(4/3 = 1 by virtue of integer    division property of Java)*\n",
        "\n",
        "\n",
        "*   **```>=``` (Greater Than Or Equal To):** This operator performs the same function as that of `>` with the additional check constraint of equality for expressions/operands on LHS & RHS. It returns true if either of these conditions is sufficed. Example:\n",
        "\n",
        " `System.out.println(8>=3); //returns true`\n",
        "\n",
        "*   **```<=``` (Less Than Or Equal To):** Similar in functionality to the `>=` discussed above, it will perform the check for `<` or `=` for expressions/operands on LHS & RHS. Returns `true` if any one of the conditions is sufficed. *Example:*\n",
        "\n",
        " `System.out.println(8%3<=2); //returns true`\n",
        "\n",
        "*   **```!=``` (Not Equal To):** Checks for inequality of expressions/operands on LHS and RHS of the operator and returns `true` if the condition holds. Example:\n",
        "\n",
        " `System.out.println(!(3!=3)); //returns true` *(The `!` not operator in front of the expression negates the result computed within inner paranthesis.)*\n",
        "\n",
        " \n",
        " \n",
        "\n",
        "\n",
        "We also have some logical operators (which aren't counted as relational but can be considered as boolean operators). They're as follows:\n",
        "\n",
        "\n",
        "\n",
        "*   **`&&`** **(Logical AND)**: Checks for operands/expressions and returns `true` if and only if both of them evaluate to `true` or 1.\n",
        "\n",
        " `System.out.println((8%2==0) && (2%3==0)); //false`\n",
        "\n",
        "*   **`||` (Logical OR)**: Checks for operands/expressions and returns `true` if either of them evaluate to `true` or 1. Example:\n",
        "\n",
        " `System.out.println((3>2) || (2<3)); //true`\n",
        "\n",
        "\n",
        "\n",
        "*   **`!` (Logical NOT):** It reverses the logical state of the operand upon which it operates. Example:\n",
        "\n",
        " `System.out.println(!(true)); //returns false`\n",
        "\n",
        "\n",
        "\n",
        "\n",
        "\n",
        "\n",
        "\n",
        "\n",
        "\n",
        "\n",
        "\n",
        "\n",
        "\n"
      ]
    },
    {
      "cell_type": "markdown",
      "metadata": {
        "id": "pQMIr9Bmx25W"
      },
      "source": [
        "\n",
        "###**Some Properties Of These Operators**\n",
        "\n"
      ]
    },
    {
      "cell_type": "markdown",
      "metadata": {
        "id": "PbbAFUPryO52"
      },
      "source": [
        "\n",
        "\n",
        "1.   All of them work well with primitive data types predefined in Java libraries (**`int, short, byte, long, float, char, boolean, double`**).\n",
        "\n",
        "2.  Only the **`==`** and **`!=`** can work with objects. Rest of them may give either dubious exceptions or ambiguity-ridden results, which are incorrect.\n",
        "\n",
        "3. Unlike C++, Java doesn't support user-defined operator overloading. However, most of these operators are already overloaded to handle a variety of expressions and/or operands.\n"
      ]
    }
  ]
}