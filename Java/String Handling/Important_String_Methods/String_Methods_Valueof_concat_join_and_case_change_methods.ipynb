{
  "nbformat": 4,
  "nbformat_minor": 0,
  "metadata": {
    "colab": {
      "name": "String_Methods_Valueof_concat_join_and_case_change_methods.ipynb",
      "provenance": [],
      "collapsed_sections": []
    },
    "kernelspec": {
      "name": "python3",
      "display_name": "Python 3"
    },
    "language_info": {
      "name": "python"
    }
  },
  "cells": [
    {
      "cell_type": "markdown",
      "metadata": {
        "id": "WpgBNM_gXke6"
      },
      "source": [
        "# **Valueof, concat, join and case change methods** "
      ]
    },
    {
      "cell_type": "markdown",
      "metadata": {
        "id": "26YGDhTQX44E"
      },
      "source": [
        "\n",
        "\n",
        "#### **Different methods makes java functions easy , some of them are mentioned below :**\n",
        "\n",
        "## **valueOf**\n",
        "The java string valueOf() method converts different types of values into string. By the help of string valueOf() method, you can convert int to string, long to string, boolean to string, character to string, float to string, double to string, object to string and char array to string.\n",
        "\n",
        "This method is a static method. The method can take two arguments, where one is a String and the other is a radix."
      ]
    },
    {
      "cell_type": "markdown",
      "metadata": {
        "id": "WcfLi1vHvbDU"
      },
      "source": [
        "####**Signature**"
      ]
    },
    {
      "cell_type": "code",
      "metadata": {
        "id": "oXgD02yZdnIi"
      },
      "source": [
        "String.valueOf(boolean b)\n",
        "String.valueOf(char c)\n",
        "String.valueOf(char[] data)\n",
        "String.valueOf(double d)\n",
        "String.valueOf(float f)\n",
        "String.valueOf(int b)\n",
        "String.valueOf(long l)\n",
        "String.valueOf(Object o)"
      ],
      "execution_count": null,
      "outputs": []
    },
    {
      "cell_type": "markdown",
      "metadata": {
        "id": "PqR3ZtWyeI9-"
      },
      "source": [
        "###**Parameters**\n",
        "Here is the detail of parameters −\n",
        "\n",
        "**i** − An int for which Integer representation would be returned.\n",
        "\n",
        "**s** − A String for which Integer representation would be returned.\n",
        "\n",
        "**radix** − This would be used to decide the value of returned Integer based on the passed String.\n",
        "\n",
        "<br>\n",
        "\n",
        "###**Return Value** \n",
        "\n",
        "It returns string representation of given value\n",
        "\n",
        "**valueOf(iNum)**; // Returns the string representation of int iNum.\n",
        "\n",
        "**String.valueOf(sta)**; // Returns the string representation of the \n",
        "boolean argument.\n",
        "\n",
        "**String.valueOf(fNum)**; // Returns the string representation of the float fnum.\n",
        "\n",
        "**String.valueOf(data, 0, 10)**; // Returns the string representation of a specific subarray of the chararray argument.\n",
        "\n",
        "**String.valueOf(data, 0, 10)**; // Returns the string of charArray 0 to 10\n",
        "\n",
        "**String.valueOf(data, 7, 9)**; // Returns the string of charArray starting index 7 and total count from 7 is 9"
      ]
    },
    {
      "cell_type": "markdown",
      "metadata": {
        "id": "8DqqUDz8ghE3"
      },
      "source": [
        "Example of valueOf method is mentioned below :"
      ]
    },
    {
      "cell_type": "code",
      "metadata": {
        "id": "Cdj_zYPZgH3J"
      },
      "source": [
        "class ValueOfExample {\n",
        "  public static void main(String[] args) {\n",
        "    int a = 50;\n",
        "    long l = -3343834L;\n",
        "    float f = 53.4f;\n",
        "    double d = 923.234d;\n",
        "\n",
        "    // convert numbers to strings\n",
        "    System.out.println(String.valueOf(a));  // \"50\"\n",
        "    System.out.println(String.valueOf(l));  // \"-3343834\"\n",
        "    System.out.println(String.valueOf(f));  // \"53.4\"\n",
        "\n",
        "    System.out.println(String.valueOf(d));  // \"923.234\"\n",
        "  }\n",
        "}"
      ],
      "execution_count": null,
      "outputs": []
    },
    {
      "cell_type": "markdown",
      "metadata": {
        "id": "gnvcvc3Rg99k"
      },
      "source": [
        "##**concat**\n",
        "\n",
        "The Java String concat() method concatenates one string to the end of another string. This method returns a string with the value of the string passed into the method, appended to the end of the string.\n",
        "\n",
        "####**Signature**\n",
        "The signature of the string concat() method is given below:\n",
        "\n",
        "**public String concat(String anotherString)**\n",
        "\n",
        "<br>\n",
        "\n",
        "\n",
        "####**Parameter**\n",
        "anotherString : another string i.e., to be combined at the end of this string.\n",
        "\n",
        "####**Returns**\n",
        "combined string"
      ]
    },
    {
      "cell_type": "code",
      "metadata": {
        "id": "iLPRdOE5ibIZ"
      },
      "source": [
        "//have a look at example below\n",
        "\n",
        "public class ConcatExample {  \n",
        "    public static void main(String[] args) {      \n",
        "        String str1 = \"Hello\";  \n",
        "        String str2 = \"Java\";  \n",
        "        String str3 = \"Learnerr\";  \n",
        "        // Concatenating one string   \n",
        "        String str4 = str1.concat(str2);          \n",
        "        System.out.println(str4);  \n",
        "        // Concatenating multiple strings  \n",
        "        String str5 = str1.concat(str2).concat(str3);  \n",
        "        System.out.println(str5);  \n",
        "    }  \n",
        "}  \n",
        "\n",
        "//gives output as follow :\n",
        "//Hello Java\n",
        "//Hello Java Learner"
      ],
      "execution_count": null,
      "outputs": []
    },
    {
      "cell_type": "markdown",
      "metadata": {
        "id": "ySzJCcqhiJZC"
      },
      "source": [
        "##**Join**\n",
        "\n",
        "The join() method returns a new string with the given elements joined with the specified delimiter.\n",
        "\n",
        "Note that if an element is null, then null is added.\n",
        "\n",
        "\n",
        "####**Signature**\n",
        "The signature or syntax of the join() method is given below:\n",
        "\n",
        "**public static String join(CharSequence delimiter, CharSequence... elements)**    \n",
        "and    \n",
        "**public static String join(CharSequence delimiter, Iterable<? extends CharSequence> elements)**\n",
        "\n",
        "<br>\n",
        "\n",
        "####**Parameters :**\n",
        "**deli**- delimiter to be attached with each element \n",
        "\n",
        "**ele**- string or char to be attached with delimiter\n",
        "####**Returns :**  \n",
        "string joined with delimiter.\n",
        "\n",
        "\n"
      ]
    },
    {
      "cell_type": "code",
      "metadata": {
        "id": "GUoNhawoql2Y"
      },
      "source": [
        "import java.util.List;\n",
        "import java.util.Arrays;\n",
        "public class JoinExample{  \n",
        "   public static void main(String args[]){  \n",
        "\t//Converting an array of String to the list\n",
        "\tList list<String> = Arrays.asList(\"GirlScript\", \"Winter\", \"Of\", \"Coding\");\n",
        "\tString names = String.join(\" | \", list);\n",
        "\tSystem.out.println(names);\n",
        "   }\n",
        "}\n",
        "\n",
        "//gives Output :\n",
        "//GirlScript | Winter | Of | Coding"
      ],
      "execution_count": null,
      "outputs": []
    },
    {
      "cell_type": "markdown",
      "metadata": {
        "id": "gH26xEbqrJCl"
      },
      "source": [
        "##**Case Change**\n",
        "\n",
        "To swap the case of a string, use.\n",
        "\n",
        "* toLowerCase() for string to be converted to lowerCase string.\n",
        "* toUpperCase() for string to be converted to uppercase string.\n",
        "\n",
        "####**Syntax**\n",
        "**public String toUpperCase()**\n",
        "\n",
        "**public String toLowerCase()**\n",
        "\n",
        "####**Parameters**\n",
        "None.\n",
        "\n",
        "\n",
        "####**Returns:**\tA String value, representing the new string converted to upper case"
      ]
    },
    {
      "cell_type": "code",
      "metadata": {
        "id": "FTxzmAexu7WK"
      },
      "source": [
        "//hence the example for uppercase and lowercase is as follow\n",
        "public class Demo {\n",
        "   public static void main(String []args){\n",
        "      char c = 0;\n",
        "      String str = \"jack\";\n",
        "      System.out.println(\"String in lowercase: \"+str);\n",
        "      // length of string\n",
        "      int len = str.length();\n",
        "      StringBuffer strBuffer = new StringBuffer(len);\n",
        "      for (int i = 0; i < len; i++) {\n",
        "         c = str.charAt(i);\n",
        "         // title case converted to lower case\n",
        "         if (Character.isTitleCase(c)) {\n",
        "            c = Character.toLowerCase(c);\n",
        "         }\n",
        "         // upper case converted to lower case\n",
        "         if (Character.isUpperCase(c)) {\n",
        "            c = Character.toLowerCase(c);\n",
        "         }\n",
        "         // lower case converted to upper case\n",
        "         if (Character.isLowerCase(c)) {\n",
        "            c = Character.toUpperCase(c);\n",
        "         }\n",
        "         strBuffer.append(c);\n",
        "      }\n",
        "      System.out.println(\"Converting case: \"+strBuffer.toString());\n",
        "   }\n",
        "}\n",
        "//Output\n",
        "//String in lowercase: jack\n",
        "//Converting case: JACK"
      ],
      "execution_count": null,
      "outputs": []
    },
    {
      "cell_type": "markdown",
      "metadata": {
        "id": "iYSouEBIvmNL"
      },
      "source": [
        "####**Conclusion**\n",
        "\n",
        "Hope this Documentation would have given a proper brief about several methods in JAVA.\n",
        "\n",
        "####**references:**\n",
        "\n",
        "w3schools\n",
        "\n",
        "javatpoint"
      ]
    }
  ]
}