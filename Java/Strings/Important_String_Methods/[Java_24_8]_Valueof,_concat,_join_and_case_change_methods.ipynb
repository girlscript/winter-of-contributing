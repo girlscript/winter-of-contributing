{
  "nbformat": 4,
  "nbformat_minor": 0,
  "metadata": {
    "colab": {
      "name": "[Java 24.8]: Valueof, concat, join and case change methods.ipynb",
      "provenance": [],
      "collapsed_sections": []
    },
    "kernelspec": {
      "name": "python3",
      "display_name": "Python 3"
    },
    "language_info": {
      "name": "python"
    }
  },
  "cells": [
    {
      "cell_type": "markdown",
      "metadata": {
        "id": "WpgBNM_gXke6"
      },
      "source": [
        "# **Valueof, concat, join and case change methods** "
      ]
    },
    {
      "cell_type": "markdown",
      "metadata": {
        "id": "26YGDhTQX44E"
      },
      "source": [
        "## **What is Java?**\n",
        "Java is a popular programming language, created in 1995.\n",
        "\n",
        "It is owned by Oracle, and more than 3 billion devices run Java.\n",
        "\n",
        "It is used for:\n",
        "\n",
        "* Mobile applications (specially Android apps)\n",
        "* Desktop applications\n",
        "* Web applications\n",
        "* Web servers and application servers\n",
        "* Games\n",
        "* Database connection\n",
        "And much, much more!\n",
        "\n",
        "## **Why Use Java?**\n",
        "Java works on different platforms (Windows, Mac, Linux, Raspberry Pi, etc.)\n",
        "* It is one of the most popular programming language in the world\n",
        "* It is easy to learn and simple to use\n",
        "* It is open-source and free\n",
        "* It is secure, fast and powerful\n",
        "* It has a huge community support (tens of millions of developers)\n",
        "* Java is an object oriented language which gives a clear structure to programs and allows code to be reused, lowering development costs\n",
        "As Java is close to C++ and C#, it makes it easy for programmers to switch to Java or vice versa\n",
        "\n",
        "#### **Different methods makes java functions easy , some of them are mentioned below :**\n",
        "\n",
        "## **valueOf**\n",
        "The valueOf method returns the relevant Number Object holding the value of the argument passed. The argument can be a primitive data type, String, etc.\n",
        "\n",
        "This method is a static method. The method can take two arguments, where one is a String and the other is a radix."
      ]
    },
    {
      "cell_type": "markdown",
      "metadata": {
        "id": "WcfLi1vHvbDU"
      },
      "source": [
        "####**Syntax**"
      ]
    },
    {
      "cell_type": "code",
      "metadata": {
        "id": "oXgD02yZdnIi"
      },
      "source": [
        "static String valueOf(int num)\n",
        "static String valueOf(float num)\n",
        "static String valueOf(boolean sta)\n",
        "static String valueOf(double num)\n",
        "static String valueOf(char[] data, int offset, int count)\n",
        "static String valueOf(long num)\n",
        "static String valueOf(Object ob)\n",
        "static String valueOf(char chars[])"
      ],
      "execution_count": null,
      "outputs": []
    },
    {
      "cell_type": "markdown",
      "metadata": {
        "id": "PqR3ZtWyeI9-"
      },
      "source": [
        "###**Parameters**\n",
        "Here is the detail of parameters −\n",
        "\n",
        "**i** − An int for which Integer representation would be returned.\n",
        "\n",
        "**s** − A String for which Integer representation would be returned.\n",
        "\n",
        "**radix** − This would be used to decide the value of returned Integer based on the passed String.\n",
        "\n",
        "<br>\n",
        "\n",
        "###**Return Value** \n",
        "\n",
        "It returns string representation of given value\n",
        "\n",
        "**valueOf(iNum)**; // Returns the string representation of int iNum.\n",
        "\n",
        "**String.valueOf(sta)**; // Returns the string representation of the \n",
        "boolean argument.\n",
        "\n",
        "**String.valueOf(fNum)**; // Returns the string representation of the float fnum.\n",
        "\n",
        "**String.valueOf(data, 0, 15)**; // Returns the string representation of a specific subarray of the chararray argument.\n",
        "\n",
        "**String.valueOf(data, 0, 5)**; // Returns the string of charArray 0 to 5\n",
        "\n",
        "**String.valueOf(data, 7, 9)**; // Returns the string of charArray starting index 7 and total count from 7 is 9"
      ]
    },
    {
      "cell_type": "markdown",
      "metadata": {
        "id": "8DqqUDz8ghE3"
      },
      "source": [
        "Example of valueOf method is mentioned below :"
      ]
    },
    {
      "cell_type": "code",
      "metadata": {
        "id": "Cdj_zYPZgH3J"
      },
      "source": [
        "public class StringValueOf {  \n",
        "    public static void main(String[] args) {  \n",
        "        // Float and Double to String  \n",
        "        float f  = 10.03f;    \n",
        "        double d = 10.04;  \n",
        "        String s1 = String.valueOf(f);    \n",
        "        String s2 = String.valueOf(d);  \n",
        "        System.out.println(s1);  \n",
        "        System.out.println(s2);  \n",
        "    }  \n",
        "}  \n",
        "\n",
        "//output is as string dtype\n",
        "//10.03\n",
        "//10.04"
      ],
      "execution_count": null,
      "outputs": []
    },
    {
      "cell_type": "markdown",
      "metadata": {
        "id": "gnvcvc3Rg99k"
      },
      "source": [
        "##**concat**\n",
        "\n",
        "The Java String concat() method concatenates one string to the end of another string. This method returns a string with the value of the string passed into the method, appended to the end of the string.\n",
        "\n",
        "####**Signature**\n",
        "The signature of the string concat() method is given below:\n",
        "\n",
        "**public String concat(String anotherString)**\n",
        "\n",
        "<br>\n",
        "\n",
        "\n",
        "####**Parameter**\n",
        "anotherString : another string i.e., to be combined at the end of this string.\n",
        "\n",
        "####**Returns**\n",
        "combined string"
      ]
    },
    {
      "cell_type": "code",
      "metadata": {
        "id": "iLPRdOE5ibIZ"
      },
      "source": [
        "//have a look at example below\n",
        "\n",
        "public class ConcatExample {  \n",
        "    public static void main(String[] args) {      \n",
        "        String str1 = \"Hello\";  \n",
        "        String str2 = \"Java\";  \n",
        "        String str3 = \"Learnerr\";  \n",
        "        // Concatenating one string   \n",
        "        String str4 = str1.concat(str2);          \n",
        "        System.out.println(str4);  \n",
        "        // Concatenating multiple strings  \n",
        "        String str5 = str1.concat(str2).concat(str3);  \n",
        "        System.out.println(str5);  \n",
        "    }  \n",
        "}  \n",
        "\n",
        "//gives output as follow :\n",
        "//Hello Java\n",
        "//Hello Java Learner"
      ],
      "execution_count": null,
      "outputs": []
    },
    {
      "cell_type": "markdown",
      "metadata": {
        "id": "ySzJCcqhiJZC"
      },
      "source": [
        "##**Join**\n",
        "\n",
        "The java.lang.string.join() method concatenates the given elements with the delimiter and returns the concatenated string.Note that if an element is null, then null is added.The join() method is included in java string since JDK 1.8.\n",
        "\n",
        "There are two types of join() methods in java string.\n",
        "\n",
        "####**Signature**\n",
        "The signature or syntax of the join() method is given below:\n",
        "\n",
        "**public static String join(CharSequence delimiter, CharSequence... elements)**    \n",
        "and    \n",
        "**public static String join(CharSequence delimiter, Iterable<? extends CharSequence> elements)**\n",
        "\n",
        "####**Parameters :**\n",
        "**deli**- delimiter to be attached with each element \n",
        "\n",
        "**ele**- string or char to be attached with delimiter\n",
        "####**Returns :**  \n",
        "string joined with delimiter.\n",
        "\n",
        "####**Exception Throws**\n",
        "\n",
        "**NullPointerException** if element or delimiter is null."
      ]
    },
    {
      "cell_type": "code",
      "metadata": {
        "id": "GUoNhawoql2Y"
      },
      "source": [
        "// Java program to demonstrate\n",
        "// working of join() method\n",
        "\n",
        "class joinExample {\n",
        "\tpublic static void main(String args[])\n",
        "\t{\n",
        "\t\t// delimiter is \"->\" and elements are \"Wake up\",\n",
        "\t\t// \"Eat\", \"Play\", \"Sleep\", \"Wake up\"\n",
        "\n",
        "\t\tString gfg3 = String.join(\"-> \", \"Wake up\", \"Eat\",\n",
        "\t\t\t\t\t\"Play\", \"Sleep\", \"Wake up\");\n",
        "\n",
        "\t\tSystem.out.println(gfg3);\n",
        "\t}\n",
        "}\n",
        "\n",
        "\n",
        "//gives output:\n",
        "//Wake up-> Eat-> Play-> Sleep-> Wake up"
      ],
      "execution_count": null,
      "outputs": []
    },
    {
      "cell_type": "markdown",
      "metadata": {
        "id": "gH26xEbqrJCl"
      },
      "source": [
        "##**Case Change**\n",
        "\n",
        "To swap the case of a string, use.\n",
        "\n",
        "* toLowerCase() for string to be converted to lowerCase string.\n",
        "* toUpperCase() for string to be converted to uppercase string.\n",
        "\n",
        "####**Syntax**\n",
        "**public String toUpperCase()**\n",
        "\n",
        "####**Parameters**\n",
        "None.\n",
        "\n",
        "\n",
        "####**Returns:**\tA String value, representing the new string converted to upper case"
      ]
    },
    {
      "cell_type": "code",
      "metadata": {
        "id": "FTxzmAexu7WK"
      },
      "source": [
        "//hence the example for uppercase and lowercase is as follow\n",
        "public class Demo {\n",
        "   public static void main(String []args){\n",
        "      char c = 0;\n",
        "      String str = \"jack\";\n",
        "      System.out.println(\"String in lowercase: \"+str);\n",
        "      // length of string\n",
        "      int len = str.length();\n",
        "      StringBuffer strBuffer = new StringBuffer(len);\n",
        "      for (int i = 0; i < len; i++) {\n",
        "         c = str.charAt(i);\n",
        "         // title case converted to lower case\n",
        "         if (Character.isTitleCase(c)) {\n",
        "            c = Character.toLowerCase(c);\n",
        "         }\n",
        "         // upper case converted to lower case\n",
        "         if (Character.isUpperCase(c)) {\n",
        "            c = Character.toLowerCase(c);\n",
        "         }\n",
        "         // lower case converted to upper case\n",
        "         if (Character.isLowerCase(c)) {\n",
        "            c = Character.toUpperCase(c);\n",
        "         }\n",
        "         strBuffer.append(c);\n",
        "      }\n",
        "      System.out.println(\"Converting case: \"+strBuffer.toString());\n",
        "   }\n",
        "}\n",
        "//Output\n",
        "//String in lowercase: jack\n",
        "//Converting case: JACK"
      ],
      "execution_count": null,
      "outputs": []
    },
    {
      "cell_type": "markdown",
      "metadata": {
        "id": "iYSouEBIvmNL"
      },
      "source": [
        "####**Conclusion**\n",
        "\n",
        "Hope this Documentation would have given a proper brief about several methods in JAVA.\n",
        "\n",
        "####**references:**\n",
        "\n",
        "w3schools\n",
        "\n",
        "javatpoint"
      ]
    }
  ]
}