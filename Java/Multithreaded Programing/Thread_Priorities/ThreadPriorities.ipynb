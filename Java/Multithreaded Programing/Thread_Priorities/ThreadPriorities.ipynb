{
  "nbformat": 4,
  "nbformat_minor": 0,
  "metadata": {
    "colab": {
      "name": "ThreadPriorities.ipynb",
      "provenance": [],
      "collapsed_sections": []
    },
    "kernelspec": {
      "name": "python3",
      "display_name": "Python 3"
    },
    "language_info": {
      "name": "python"
    }
  },
  "cells": [
    {
      "cell_type": "markdown",
      "metadata": {
        "id": "8qZEBpC2DE17"
      },
      "source": [
        "## Thread Priorities\n",
        "\n",
        "---\n",
        "\n"
      ]
    },
    {
      "cell_type": "markdown",
      "metadata": {
        "id": "jyYEVdtAv-oX"
      },
      "source": [
        "A thread is a single sequential flow of control within a program which can be used to perform complicated tasks in the background without interrupting the main program. Each thread has a priority. Java works within a multithreading environment where it can have multiple threads running simultaneously. Based on the priority of the thread, the thread scheduler assigns the processor to a thread.\n",
        "\n"
      ]
    },
    {
      "cell_type": "markdown",
      "metadata": {
        "id": "f-qcnlcN0fL0"
      },
      "source": [
        "Priority is an integer value given by JVM between 1 and 10 where 1 is the lowest and 10 is the highest. It can also be given by the programmer. Higher priority threads are executed prior to the lower priority ones.\n",
        "\n",
        "If two threads have the same priority then it depends on the thread scheduler's algorithm to decide which one to execute first. "
      ]
    },
    {
      "cell_type": "markdown",
      "metadata": {
        "id": "A2PE7CWqFO22"
      },
      "source": [
        "### Static varibles for Thread Priority\n",
        "\n",
        "---\n",
        "\n"
      ]
    },
    {
      "cell_type": "markdown",
      "metadata": {
        "id": "U1fyuYlRFW3X"
      },
      "source": [
        "*  **MAX_PRIORITY** − The maximum priority that a thread can have, whose default value is 10.\n",
        "```\n",
        "public static int MIN_PRIORITY\n",
        "```\n",
        "\n",
        "\n",
        "* **NORM_PRIORITY** − The default priority that is assigned to a thread, whose default value is 5.\n",
        "```\n",
        "public static int NORM_PRIORITY\n",
        "```\n",
        "\n",
        "\n",
        "* **MIN_PRIORITY** − The minimum priority that a thread can have, whose default value is 1.\n",
        "```\n",
        "public static int MAX_PRIORITY\n",
        "```\n",
        "\n"
      ]
    },
    {
      "cell_type": "markdown",
      "metadata": {
        "id": "L9vsKm-sHdOg"
      },
      "source": [
        "### Getter and Setter methods for Thread Priority\n",
        "---"
      ]
    },
    {
      "cell_type": "markdown",
      "metadata": {
        "id": "M2QZJWZST1L-"
      },
      "source": [
        "There are two methods in java.lang.Thread class associated to the priority of a thread. They are `getPriority()` and `setPriority()`. The Thread scheduler decides the order of thread execution based on the priorities.\n",
        "\n",
        "**1.   getPriority**\n",
        "```\n",
        "public final int getPriority()\n",
        "```\n",
        ">This method returns an interger value representing the current priority value for a thread.\n",
        "\n",
        "\n",
        "**2.   setPriority**\n",
        "```\n",
        "public final void setPriority(int newPriority)\n",
        "```\n",
        ">This method changes the priority value of the thread to newPriority. It accepts an integer value as a parameter, sets the new priority value to the thread. It also throws the IllegalArgumentException when the thread priority is less than 1 or greater than 10."
      ]
    },
    {
      "cell_type": "markdown",
      "metadata": {
        "id": "GtGXF-qUOVdV"
      },
      "source": [
        "### Illustrations\n",
        "\n",
        "---\n",
        "\n"
      ]
    },
    {
      "cell_type": "markdown",
      "metadata": {
        "id": "GdL3aS_MpTNy"
      },
      "source": [
        "1. **Java Program to illustrate getPriority() and setPriority() methods**\n",
        "\n",
        "```\n",
        "import java.lang.*;\n",
        "class TrDemo extends Thread\n",
        "{\n",
        "    public void run(){\n",
        "        System.out.println(\"Hello from Run\");\n",
        "    }\n",
        "}\n",
        "\n",
        "public class Java_Threads\n",
        "{\n",
        "    public static void main(String[] args){\n",
        "\n",
        "        TrDemo t1=new TrDemo();\n",
        "        t1.start();\n",
        "        System.out.println(\"Priority: \"+ t1.getPriority()); //displaying priority\n",
        "        t1.setPriority(3);//changing priority \n",
        "        //t1.setPriority(15) will throws IllegalArgumentException\n",
        "        \n",
        "\t\tSystem.out.println(\"Changed Priority: \"+ t1.getPriority());// displaying changed priority\n",
        "        \n",
        "        //static variables\n",
        "        System.out.println(t1.MIN_PRIORITY);\n",
        "        System.out.println(t1.NORM_PRIORITY);\n",
        "        System.out.println(t1.MAX_PRIORITY);\n",
        "    }\n",
        "}\n",
        "```\n",
        "Output:\n",
        "```\n",
        "Priority: 5\n",
        "Changed Priority: 3\n",
        "1\n",
        "5\n",
        "10\n",
        "Hello from Run\n",
        "```"
      ]
    },
    {
      "cell_type": "markdown",
      "metadata": {
        "id": "6k6n5MRPVeZj"
      },
      "source": [
        "2. **Java program to demonstrate the getPriority() and setPriority() methods in main thread**\n",
        "```\n",
        "public class Java_Threads\n",
        "{\n",
        "    public static void main(String[] args)\n",
        "    {\n",
        "        Thread t = Thread.currentThread();\n",
        "        \n",
        "        System.out.println(t.getName());//getting name from reference of the thread\n",
        "        System.out.println(t.getPriority());//displaying priority\n",
        "        \n",
        "        t.setPriority(8);//changing priority\n",
        "        System.out.println(t.getPriority());\n",
        "    }\n",
        "}\n",
        "```\n",
        "Output:-\n",
        "```\n",
        "main\n",
        "5\n",
        "8\n",
        "```\n"
      ]
    },
    {
      "cell_type": "markdown",
      "metadata": {
        "id": "Cp97eMl9UohC"
      },
      "source": [
        "3. **Java program to demonstrate that a Child \n",
        "thread gets same priority as Parent thread**\n",
        "\n",
        "```\n",
        "import java.lang.*;\n",
        "\n",
        "class TrDemo extends Thread\n",
        "{\n",
        "    public void run(){\n",
        "        System.out.println(\"Hello from Run\");\n",
        "    }\n",
        "}\n",
        "\n",
        "public class Java_Threads\n",
        "{\n",
        "    public static void main(String[] args)\n",
        "    {\n",
        "        // main thread priority is set to 9\n",
        "        Thread.currentThread().setPriority(9);\n",
        "        System.out.println(\"main thread priority : \"+Thread.currentThread().getPriority());\n",
        "        \n",
        "        // t is the child of main thread\n",
        "        TrDemo t = new TrDemo();\n",
        "        System.out.println(\"Child thread priority : \" +t.getPriority());\n",
        "    }\n",
        "}\n",
        "```\n",
        "\n",
        "Output:\n",
        "\n",
        "```\n",
        "main thread priority : 9\n",
        "Child thread priority : 9\n",
        "```\n",
        "---\n",
        "\n",
        "\n",
        "\n"
      ]
    },
    {
      "cell_type": "markdown",
      "metadata": {
        "id": "phC9sz4xMfmP"
      },
      "source": [
        "References: [GeeksforGeeks](https://www.geeksforgeeks.org/java-thread-priority-multithreading/#:~:text=The%20default%20priority%20for%20the,it%20can%20be%20changed%20later.)\n",
        "[Oracle](https://docs.oracle.com/javase/7/docs/technotes/guides/vm/thread-priorities.html)\n",
        "\n",
        "Contributed by: Vrattica Yadav"
      ]
    }
  ]
}