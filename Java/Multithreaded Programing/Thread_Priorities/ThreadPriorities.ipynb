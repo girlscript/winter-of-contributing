{
  "nbformat": 4,
  "nbformat_minor": 0,
  "metadata": {
    "colab": {
      "name": "ThreadPriorities.ipynb",
      "provenance": [],
      "collapsed_sections": []
    },
    "kernelspec": {
      "name": "python3",
      "display_name": "Python 3"
    },
    "language_info": {
      "name": "python"
    }
  },
  "cells": [
    {
      "cell_type": "markdown",
      "metadata": {
        "id": "8qZEBpC2DE17"
      },
      "source": [
        "## Thread Priorities\n",
        "\n",
        "---\n",
        "\n"
      ]
    },
    {
      "cell_type": "markdown",
      "metadata": {
        "id": "jyYEVdtAv-oX"
      },
      "source": [
        "A thread is a single sequential flow of control within a program which can be used to perform complicated tasks in the background without interrupting the main program. Java is completely object-oriented and works within a multithreading environment in which thread scheduler assigns the processor to a thread based on the priority of thread. \n"
      ]
    },
    {
      "cell_type": "markdown",
      "metadata": {
        "id": "f-qcnlcN0fL0"
      },
      "source": [
        "Priority is an integer value between 1 and 10 where 1 is the lowest and 10 is the highest which can either be given by JVM while creating the thread or it can be given by the programmer explicitly. Threads with higher priority are executed in preference to threads with lower priority. \n",
        "\n",
        "If two threads have the same priority then we can’t expect which thread will execute first. It depends on the thread scheduler’s algorithm"
      ]
    },
    {
      "cell_type": "markdown",
      "metadata": {
        "id": "A2PE7CWqFO22"
      },
      "source": [
        "### Static varibles for Thread Priority\n",
        "\n",
        "---\n",
        "\n"
      ]
    },
    {
      "cell_type": "markdown",
      "metadata": {
        "id": "U1fyuYlRFW3X"
      },
      "source": [
        "*  **MAX_PRIORITY** − The maximum priority that a thread can have, whose default value is 10.\n",
        "```\n",
        "public static int MIN_PRIORITY\n",
        "```\n",
        "\n",
        "\n",
        "* **NORM_PRIORITY** − The default priority that is assigned to a thread, whose default value is 5.\n",
        "```\n",
        "public static int NORM_PRIORITY\n",
        "```\n",
        "\n",
        "\n",
        "* **MIN_PRIORITY** − The minimum priority that a thread can have, whose default value is 1.\n",
        "```\n",
        "public static int MAX_PRIORITY\n",
        "```\n",
        "\n"
      ]
    },
    {
      "cell_type": "markdown",
      "metadata": {
        "id": "L9vsKm-sHdOg"
      },
      "source": [
        "### Getter and Setter methods for Thread Priority\n",
        "---"
      ]
    },
    {
      "cell_type": "markdown",
      "metadata": {
        "id": "M2QZJWZST1L-"
      },
      "source": [
        "We can get and set the priority values for threads in Java using the `getPriority()` and `setPriority()` methods. Based on these priorities, the thread scheduler decides the order of thread execution.\n",
        "\n",
        "\n",
        "**1.   getPriority**\n",
        "```\n",
        "public final int getPriority()\n",
        "```\n",
        ">This method retrieves the current priority value for a thread. It returns an integer value that represents the thread priority.\n",
        "\n",
        "\n",
        "**2.   setPriority**\n",
        "```\n",
        "public final void setPriority(int newPriority)\n",
        "```\n",
        ">This method changes the priority value of a given thread. It accepts an integer value as a parameter, sets the new priority value to the thread. Also, it throws the IllegalArgumentException when the thread priority is less than 1 or greater than 10."
      ]
    },
    {
      "cell_type": "markdown",
      "metadata": {
        "id": "GtGXF-qUOVdV"
      },
      "source": [
        "### Illustrations\n",
        "\n",
        "---\n",
        "\n"
      ]
    },
    {
      "cell_type": "markdown",
      "metadata": {
        "id": "GdL3aS_MpTNy"
      },
      "source": [
        "1. **Java Program to illustrate priorities in multithreading via help of getPriority() and setPriority() method**\n",
        "\n",
        "```\n",
        "import java.lang.*;\n",
        "\n",
        "class ThreadDemo extends Thread {\n",
        "\n",
        "\t// Method 1\n",
        "\t// run() method for the thread that is called\n",
        "\t// as soon as start() is invoked for thread in main()\n",
        "\n",
        "\tpublic void run()\n",
        "\t{\n",
        "\t\tSystem.out.println(\"Inside run method\");\n",
        "\t}\n",
        "\n",
        "\tpublic static void main(String[] args)\n",
        "\t{\n",
        "\t\t// Creating random threads with the help of above class\n",
        "\n",
        "\t\tThreadDemo t1 = new ThreadDemo();\n",
        "\t\tThreadDemo t2 = new ThreadDemo();\n",
        "\t\tThreadDemo t3 = new ThreadDemo();\n",
        "\n",
        "\t\t// Thread 1\n",
        "\t\t// Display the priority of above thread using getPriority() method\n",
        "\n",
        "\t\tSystem.out.println(\"t1 thread priority : \" + t1.getPriority());\n",
        "\n",
        "\t\t// Thread 2\n",
        "\t\tSystem.out.println(\"t2 thread priority : \" + t2.getPriority());\n",
        "\n",
        "\t\t// Thread 3\n",
        "\t\tSystem.out.println(\"t3 thread priority : \" + t3.getPriority());\n",
        "\n",
        "\t\t// Setting priorities of above threads by passing integer arguments\n",
        "\n",
        "\t\tt1.setPriority(2);\n",
        "\t\tt2.setPriority(5);\n",
        "\t\tt3.setPriority(8);\n",
        "\n",
        "\t\t// t3.setPriority(21); will throw IllegalArgumentException\n",
        "\n",
        "\t\t// 2\n",
        "\t\tSystem.out.println(\"t1 thread priority : \"\n",
        "\t\t\t\t\t\t+ t1.getPriority());\n",
        "\n",
        "\t\t// 5\n",
        "\t\tSystem.out.println(\"t2 thread priority : \"\n",
        "\t\t\t\t\t\t+ t2.getPriority());\n",
        "\n",
        "\t\t// 8\n",
        "\t\tSystem.out.println(\"t3 thread priority : \"\n",
        "\t\t\t\t\t\t+ t3.getPriority());\n",
        "\n",
        "\t\t// Main thread\n",
        "\n",
        "\t\t// Displays the name of\n",
        "\t\t// currently executing Thread\n",
        "\t\tSystem.out.println(\n",
        "\t\t\t\"Currently Executing Thread : \"\n",
        "\t\t\t+ Thread.currentThread().getName());\n",
        "\n",
        "\t\tSystem.out.println(\n",
        "\t\t\t\"Main thread priority : \"\n",
        "\t\t\t+ Thread.currentThread().getPriority());\n",
        "\n",
        "\t\t// Main thread priority is set to 10\n",
        "\t\tThread.currentThread().setPriority(10);\n",
        "\n",
        "\t\tSystem.out.println(\n",
        "\t\t\t\"Main thread priority : \"\n",
        "\t\t\t+ Thread.currentThread().getPriority());\n",
        "\t}\n",
        "}\n",
        "\n",
        "```\n",
        "Output:\n",
        "```\n",
        "t1 thread priority : 5\n",
        "t2 thread priority : 5\n",
        "t3 thread priority : 5\n",
        "t1 thread priority : 2\n",
        "t2 thread priority : 5\n",
        "t3 thread priority : 8\n",
        "Currently Executing Thread : main\n",
        "Main thread priority : 5\n",
        "Main thread priority : 10\n",
        "```"
      ]
    },
    {
      "cell_type": "markdown",
      "metadata": {
        "id": "Cp97eMl9UohC"
      },
      "source": [
        "2. **Java program to demonstrate that a Child thread gets same priority as Parent thread**\n",
        "\n",
        "```\n",
        "import java.lang.*;\n",
        "\n",
        "// Main class\n",
        "// ThreadDemo\n",
        "// Extending Thread class\n",
        "class GFG extends Thread {\n",
        "\n",
        "\tpublic void run()\n",
        "\t{\n",
        "\t\tSystem.out.println(\"Inside run method\");\n",
        "\t}\n",
        "\n",
        "\tpublic static void main(String[] args)\n",
        "\t{\n",
        "\t\t// main thread priority is set to 6 now\n",
        "\t\tThread.currentThread().setPriority(6);\n",
        "\n",
        "\t\t// Current thread is accessed using currentThread() method\n",
        "\n",
        "\t\t// Print and display main thread priority using getPriority() method of Thread class\n",
        "\n",
        "\t\tSystem.out.println(\n",
        "\t\t\t\"main thread priority : \" + Thread.currentThread().getPriority());\n",
        "\n",
        "\t\t// Creating a thread by creating object inside\n",
        "\t\t// main()\n",
        "\t\tGFG t1 = new GFG();\n",
        "\n",
        "\t\t// t1 thread is child of main thread so t1 thread will also have priority 6\n",
        "\n",
        "\t\t// Print and display priority of current thread\n",
        "\n",
        "\t\tSystem.out.println(\"t1 thread priority : \" + t1.getPriority());\n",
        "\t}\n",
        "}\n",
        "```\n",
        "Output:\n",
        "\n",
        "\n",
        "```\n",
        "main thread priority : 6\n",
        "t1 thread priority : 6\n",
        "```\n",
        "\n",
        "\n",
        "\n"
      ]
    },
    {
      "cell_type": "markdown",
      "metadata": {
        "id": "phC9sz4xMfmP"
      },
      "source": [
        "References: [GeeksforGeeks](https://www.geeksforgeeks.org/java-thread-priority-multithreading/#:~:text=The%20default%20priority%20for%20the,it%20can%20be%20changed%20later.)\n",
        "[Oracle](https://docs.oracle.com/javase/7/docs/technotes/guides/vm/thread-priorities.html)\n",
        "\n",
        "Contributed by: Vrattica Yadav"
      ]
    }
  ]
}