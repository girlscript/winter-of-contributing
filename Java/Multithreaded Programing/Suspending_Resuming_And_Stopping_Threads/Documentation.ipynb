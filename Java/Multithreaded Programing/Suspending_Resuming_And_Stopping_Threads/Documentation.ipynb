{
  "nbformat": 4,
  "nbformat_minor": 0,
  "metadata": {
    "colab": {
      "name": "Untitled4.ipynb",
      "provenance": [],
      "authorship_tag": "ABX9TyOSHrihvifJPMe1ze3LxmeT",
      "include_colab_link": true
    },
    "kernelspec": {
      "name": "python3",
      "display_name": "Python 3"
    },
    "language_info": {
      "name": "python"
    }
  },
  "cells": [
    {
      "cell_type": "markdown",
      "metadata": {
        "id": "view-in-github",
        "colab_type": "text"
      },
      "source": [
        "<a href=\"https://colab.research.google.com/github/Palak-Srivastava/winter-of-contributing/blob/Java/Java/Multithreaded%20Programing/Suspending_Resuming_And_Stopping_Threads/Documentation.ipynb\" target=\"_parent\"><img src=\"https://colab.research.google.com/assets/colab-badge.svg\" alt=\"Open In Colab\"/></a>"
      ]
    },
    {
      "cell_type": "markdown",
      "metadata": {
        "id": "rUiYt3VO4tqP"
      },
      "source": [
        "\n",
        "# **Suspending, resuming and stopping threads**\n",
        "\n",
        "Core Java provides complete control over multithreaded program. You can develop a multithreaded program which can be suspended, resumed, or stopped completely based on your requirements.\n",
        "\n",
        "The functions of Suspend, Resume and Stop a thread is performed using Boolean-type flags in a multithreading program. These flags are used to store the current status of the thread.\n"
      ]
    },
    {
      "cell_type": "markdown",
      "metadata": {
        "id": "oQW4Tw-A_2uu"
      },
      "source": [
        "1. If the suspend flag is set to true then run() will suspend the execution of the currently running thread.\n",
        "2. If the resume flag is set to true then run() will resume the execution of the suspended thread.\n",
        "3. If the stop flag is set to true then a thread will get terminated."
      ]
    },
    {
      "cell_type": "markdown",
      "metadata": {
        "id": "A4wTQHgq7xL5"
      },
      "source": [
        "**public void suspend() :**\n",
        "\n",
        "The suspend() method of thread class puts the thread from running to waiting state. This method is used if you want to stop the thread execution and start it again when a certain event occurs. This method allows a thread to temporarily cease execution. The suspended thread can be resumed using the resume() method.\n",
        "\n",
        "**Return :**\n",
        "This method does not return any value.\n",
        "\n",
        "**SecurityException :**\n",
        "If the current thread cannot modify the thread.\n",
        "\n"
      ]
    },
    {
      "cell_type": "code",
      "metadata": {
        "id": "aQWuE2737dTK"
      },
      "source": [
        "public class JavaSuspendExp extends Thread  \n",
        "{    \n",
        "    public void run()  \n",
        "    {    \n",
        "        for(int i=1; i<5; i++)  \n",
        "        {    \n",
        "            try  \n",
        "            {  \n",
        "                // thread to sleep for 500 milliseconds  \n",
        "                 sleep(500);  \n",
        "                 System.out.println(Thread.currentThread().getName());    \n",
        "            }catch(InterruptedException e){System.out.println(e);}    \n",
        "            System.out.println(i);    \n",
        "        }    \n",
        "    }    \n",
        "    public static void main(String args[])  \n",
        "    {    \n",
        "        // creating three threads   \n",
        "        JavaSuspendExp t1=new JavaSuspendExp ();    \n",
        "        JavaSuspendExp t2=new JavaSuspendExp ();   \n",
        "        JavaSuspendExp t3=new JavaSuspendExp ();   \n",
        "        // call run() method   \n",
        "        t1.start();  \n",
        "        t2.start();  \n",
        "        // suspend t2 thread   \n",
        "        t2.suspend();   \n",
        "        // call run() method   \n",
        "        t3.start();  \n",
        "    }    \n",
        "}  "
      ],
      "execution_count": null,
      "outputs": []
    },
    {
      "cell_type": "markdown",
      "metadata": {
        "id": "Y5xrd8V57gCn"
      },
      "source": [
        "**public void resume()**\n",
        "\n",
        "The resume() method of thread class is only used with suspend() method. This method is used to resume a thread which was suspended using suspend() method. This method allows the suspended thread to start again.\n",
        "\n",
        "**Return :** This method does not return any value.\n",
        "\n",
        "**SecurityException :** If the current thread cannot modify the thread.\n",
        "\n",
        "\n"
      ]
    },
    {
      "cell_type": "code",
      "metadata": {
        "id": "7luugqsd8h2x"
      },
      "source": [
        "public class JavaResumeExp extends Thread  \n",
        "{    \n",
        "    public void run()  \n",
        "    {    \n",
        "        for(int i=1; i<5; i++)  \n",
        "        {    \n",
        "            try  \n",
        "            {  \n",
        "                // thread to sleep for 500 milliseconds  \n",
        "                 sleep(500);  \n",
        "                 System.out.println(Thread.currentThread().getName());    \n",
        "            }catch(InterruptedException e){System.out.println(e);}    \n",
        "            System.out.println(i);    \n",
        "        }    \n",
        "    }    \n",
        "    public static void main(String args[])  \n",
        "    {    \n",
        "        // creating three threads   \n",
        "        JavaResumeExp t1=new JavaResumeExp ();    \n",
        "        JavaResumeExp t2=new JavaResumeExp ();   \n",
        "        JavaResumeExp t3=new JavaResumeExp ();   \n",
        "        // call run() method   \n",
        "        t1.start();  \n",
        "        t2.start();  \n",
        "        t2.suspend(); // suspend t2 thread   \n",
        "        // call run() method   \n",
        "        t3.start();   \n",
        "        t2.resume(); // resume t2 thread  \n",
        "    }    \n",
        "}  \n"
      ],
      "execution_count": null,
      "outputs": []
    },
    {
      "cell_type": "markdown",
      "metadata": {
        "id": "AWfAmgGd8oc4"
      },
      "source": [
        "\n",
        "\n",
        "\n",
        "\n",
        "**public void stop()**\n",
        "\n",
        "The stop() method of thread class terminates the thread execution. Once a thread is stopped, it cannot be restarted by start() method.\n",
        "\n",
        "**Syntax :**\n",
        "public final void stop()  \n",
        "public final void stop(Throwable obj)  \n",
        "\n",
        "**obj :** The Throwable object to be thrown.\n",
        "\n",
        "\n",
        "**Return :** \n",
        "This method does not return any value.\n",
        "\n",
        "**SecurityException :** This exception throws if the current thread cannot modify the thread.\n",
        "\n",
        "\n"
      ]
    },
    {
      "cell_type": "code",
      "metadata": {
        "id": "ptqbsgE3_b1c"
      },
      "source": [
        "public class JavaStopExp extends Thread  \n",
        "{    \n",
        "    public void run()  \n",
        "    {    \n",
        "        for(int i=1; i<5; i++)  \n",
        "        {    \n",
        "            try  \n",
        "            {  \n",
        "                // thread to sleep for 500 milliseconds  \n",
        "                sleep(500);  \n",
        "                System.out.println(Thread.currentThread().getName());    \n",
        "            }catch(InterruptedException e){System.out.println(e);}    \n",
        "            System.out.println(i);    \n",
        "        }    \n",
        "    }    \n",
        "    public static void main(String args[])  \n",
        "    {    \n",
        "        // creating three threads   \n",
        "        JavaStopExp t1=new JavaStopExp ();    \n",
        "        JavaStopExp t2=new JavaStopExp ();   \n",
        "        JavaStopExp t3=new JavaStopExp ();   \n",
        "        // call run() method   \n",
        "        t1.start();  \n",
        "        t2.start();  \n",
        "        // stop t3 thread   \n",
        "        t3.stop();  \n",
        "        System.out.println(\"Thread t3 is stopped\");    \n",
        "    }    \n",
        "}  "
      ],
      "execution_count": null,
      "outputs": []
    }
  ]
}