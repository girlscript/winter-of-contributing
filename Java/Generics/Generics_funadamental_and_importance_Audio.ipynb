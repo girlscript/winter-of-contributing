{
  "nbformat": 4,
  "nbformat_minor": 0,
  "metadata": {
    "colab": {
      "name": "Untitled1.ipynb",
      "provenance": []
    },
    "kernelspec": {
      "name": "python3",
      "display_name": "Python 3"
    },
    "language_info": {
      "name": "python"
    }
  },
  "cells": [
    {
      "cell_type": "markdown",
      "metadata": {
        "id": "kvjRJDscuwD0"
      },
      "source": [
        ""
      ]
    },
    {
      "cell_type": "code",
      "metadata": {
        "id": "0_Wek4iltwlT"
      },
      "source": [
        "\n",
        "###Generics_Fundamentals_And_Importance #5169\n",
        "\n",
        "[Link]https://drive.google.com/file/d/15uGyj9HYeIon3rztb90EPq9QXeE0XjOj/view?usp=sharing"
      ],
      "execution_count": null,
      "outputs": []
    }
  ]
}