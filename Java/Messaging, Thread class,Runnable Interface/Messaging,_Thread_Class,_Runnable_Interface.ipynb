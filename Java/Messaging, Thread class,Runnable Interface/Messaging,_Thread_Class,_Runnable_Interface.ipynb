{
  "nbformat": 4,
  "nbformat_minor": 0,
  "metadata": {
    "colab": {
      "name": "Messaging, Thread Class, Runnable Interface.ipynb",
      "provenance": [],
      "collapsed_sections": []
    },
    "kernelspec": {
      "name": "python3",
      "display_name": "Python 3"
    },
    "language_info": {
      "name": "python"
    }
  },
  "cells": [
    {
      "cell_type": "code",
      "metadata": {
        "id": "xN_twZJ88XRV"
      },
      "source": [
        ""
      ],
      "execution_count": null,
      "outputs": []
    },
    {
      "cell_type": "markdown",
      "metadata": {
        "id": "VpITTjqo8hkv"
      },
      "source": [
        "**Java Message Service**\n",
        "\n",
        "Java Messaging Service is an API that allows machines to interact in a formal way known as messaging among computers on a network.\n",
        "It is all about sending and receiving messages between two or more clients.\n",
        "\n",
        "**What is the need of JMS?**\n",
        "\n",
        "Let us consider a scenario, there are two applications X and Y. X and Y does not know anything about each other and they are running in two different continents.When Y is interested in getting information from X, JMS comes into picture. There can be number of such applications which require to communicate with X.\n",
        "\n",
        "**Advantages of JMS:**\n",
        "\n",
        "Asynchonous - The client is not required to send a request in order to get a message. As soon as they become accessible, the notification will be sent to the client automatically.\n",
        "\n",
        "Reliable - The message will only be transmitted once.\n",
        "\n",
        "**JMS Messaging Domains**\n",
        "\n",
        "There are two types of messaging domains:\n",
        "\n",
        "\n",
        "*   Point-to-Point messaging domain\n",
        "*   Publish/Subscribe messaging domain\n",
        "\n",
        "**Point-to-Point messaging domain**\n",
        "\n",
        "In point-to-point messaging domain the information is transmitted to one client only. It is based on queues, senders, and receivers.\n",
        "\n",
        "**Publish/Subscribe messaging domain**\n",
        "\n",
        "Here one message is published such that more than one client will be able to receive the information.\n",
        "\n",
        "\n",
        "\n",
        "---\n",
        "\n",
        "\n",
        "\n",
        "\n"
      ]
    },
    {
      "cell_type": "markdown",
      "metadata": {
        "id": "5okUKUnGFSiO"
      },
      "source": [
        "**Thread Class**\n",
        "\n",
        "Let us consider you are listening to music and writing an article at a time.Here, you are performing two tasks at the same time, which is called multitasking.While you are writing you might misspelled a word and the MS word detects that word for us. Thus, writing an article is a process and finding a misspelled word is a sub process.This sub process is called as a thread. A thread is a unit of process. The multitasking we have discussed earlier is called Multithreading. \n",
        "\n",
        "Let us understand more about Thread Class.\n",
        "\n",
        "A thread is the smallest element of processing and is a lightweight sub-process.If an exception occurs in one thread, it has no effect on the other threads. It makes use of a shared memory space.They are independent.\n",
        "\n",
        "\n",
        "\n"
      ]
    },
    {
      "cell_type": "markdown",
      "metadata": {
        "id": "ASEEYsH82ly0"
      },
      "source": [
        "To create a thread your program will either **extend thread** **class** or implement **Runnable Interface.**\n",
        "\n",
        "Now, we will look at some methods that are used to manage threads. \n",
        "\n",
        "\n",
        "\n",
        "*   getName     : Obtain a thread’s name. \n",
        "*   getPriority : Obtain a thread’s priority.\n",
        "\n",
        "*   isAlive     : Determine if a thread is still running.\n",
        "*   join        : Wait for a thread to terminate.\n",
        "\n",
        "**Creating a Thread**\n",
        "\n",
        "Let us understand how to create a thread by implementing **Runnable Interface.**\n",
        "\n",
        "We just have to create a class that implements runnable interface. Runnable is an interface for a class whose instances are needed to be executed by a thread. In order to implement Runnable interface, a class needs only one method called **run()**.\n",
        "\n",
        "**public int run()**\n",
        "\n",
        "The code which consists of Thread will be inside run() method. \n",
        "\n",
        "\n",
        "\n",
        "\n",
        "\n",
        "\n",
        "\n",
        "\n"
      ]
    },
    {
      "cell_type": "markdown",
      "metadata": {
        "id": "CHmbAAlTqMn2"
      },
      "source": [
        "**Runnable Interface**"
      ]
    },
    {
      "cell_type": "markdown",
      "metadata": {
        "id": "EgQRvQc4YSEh"
      },
      "source": [
        "Let us look at this simple example of creating a thread by implementing Runnable Interface.\n",
        "\n",
        "public class Example implements Runnable {  \n",
        "  \n",
        "   \n",
        "    public void run() {  \n",
        "        System.out.println(\"Thread ended\");  \n",
        "    }  \n",
        "   \n",
        "    public static void main(String[] args) {  \n",
        "        Example x = new Example();  \n",
        "        Thread d= new Thread(x);  \n",
        "        d.start();  \n",
        "        System.out.println(\"Hello world!\");  \n",
        "    }  \n",
        "}  "
      ]
    },
    {
      "cell_type": "markdown",
      "metadata": {
        "id": "vFA5mkCIvDDv"
      },
      "source": [
        "Output: \n",
        "                                                                                                                                                                                                  \n",
        "          Hello world!                                  \n",
        "          Thread ended"
      ]
    },
    {
      "cell_type": "markdown",
      "metadata": {
        "id": "aspCambSanM4"
      },
      "source": [
        "Learn more about Thread class and Runnable Interface here: https://www.javatpoint.com/how-to-create-a-thread-in-java"
      ]
    }
  ]
}