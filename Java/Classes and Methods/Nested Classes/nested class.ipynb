{
  "nbformat": 4,
  "nbformat_minor": 0,
  "metadata": {
    "colab": {
      "name": "Untitled0.ipynb",
      "provenance": []
    },
    "kernelspec": {
      "name": "java",
      "display_name": "java"
    },
    "language_info": {
      "name": "java"
    }
  },
  "cells": [
    {
      "cell_type": "markdown",
      "metadata": {
        "id": "VrArek_1AAT2"
      },
      "source": [
        "### **NESTED CLASS IN JAVA**"
      ]
    },
    {
      "cell_type": "markdown",
      "metadata": {
        "id": "PamgKrFqAVCg"
      },
      "source": [
        "A class within another class is known as nested class or inner class.\n",
        "The nested class is used to group classes of same type together which makes the code easy to read.\n"
      ]
    },
    {
      "cell_type": "markdown",
      "metadata": {
        "id": "RXqjAw4bAZvV"
      },
      "source": [
        "**SYNTAX:**"
      ]
    },
    {
      "cell_type": "markdown",
      "metadata": {
        "id": "GB5IkkKgAfw-"
      },
      "source": [
        "class OuterClass\n",
        "\n",
        "{\n",
        " \n",
        " ……\n",
        "\n",
        "\tclass NestedClass\n",
        "\t{\n",
        "\t   …….\n",
        "\t}\n",
        "}\n"
      ]
    },
    {
      "cell_type": "markdown",
      "metadata": {
        "id": "qKG2lYyEAms3"
      },
      "source": [
        "**Example:**"
      ]
    },
    {
      "cell_type": "code",
      "metadata": {
        "colab": {
          "base_uri": "https://localhost:8080/"
        },
        "id": "BZrRx5g--4XC",
        "outputId": "8866f415-41db-4f0d-876a-fcaf28c59189"
      },
      "source": [
        "class OuterClass {\n",
        "  int a = 25;\n",
        "\n",
        "  class InnerClass {\n",
        "    int b = 5;\n",
        "  }\n",
        "}\n",
        "\n",
        "public class Main {\n",
        "  public static void main(String[] args) {\n",
        "    OuterClass myOuter = new OuterClass();\n",
        "    OuterClass.InnerClass myInner = myOuter.new InnerClass();\n",
        "    System.out.println(myInner.b + myOuter.a);\n",
        "  }\n",
        "}\n"
      ],
      "execution_count": 3,
      "outputs": [
        {
          "output_type": "stream",
          "name": "stdout",
          "text": [
            "30\n"
          ]
        }
      ]
    },
    {
      "cell_type": "markdown",
      "metadata": {
        "id": "Ofl3PO0D_9DC"
      },
      "source": [
        "**TYPES:**"
      ]
    },
    {
      "cell_type": "markdown",
      "metadata": {
        "id": "WXUW9-VdBFn2"
      },
      "source": [
        "Two types of nested classes are\n",
        "\n",
        "•\tNon-static nested class (inner class)\n",
        "\n",
        "•\tStatic nested class\n"
      ]
    },
    {
      "cell_type": "markdown",
      "metadata": {
        "id": "h_EWySL0BJPV"
      },
      "source": [
        "**NON-STATIC NESTED CLASS (INNER CLASS)**"
      ]
    },
    {
      "cell_type": "markdown",
      "metadata": {
        "id": "iPEHnvwdBRst"
      },
      "source": [
        "Inner classes are a security mechanism which make the class private and protected."
      ]
    },
    {
      "cell_type": "markdown",
      "metadata": {
        "id": "w57BIRDCBUkm"
      },
      "source": [
        "**Example:**"
      ]
    },
    {
      "cell_type": "code",
      "metadata": {
        "id": "ofazOnldBdFc"
      },
      "source": [
        "class OuterClass {\n",
        "  int a = 25;\n",
        "\n",
        "  private class InnerClass {\n",
        "    int b = 5;\n",
        "  }\n",
        "}\n",
        "\n",
        "public class Main {\n",
        "  public static void main(String[] args) {\n",
        "    OuterClass myOuter = new OuterClass();\n",
        "    OuterClass.InnerClass myInner = myOuter.new InnerClass();\n",
        "    System.out.println(myInner.b + myOuter.a);\n",
        "  }\n",
        "}\n"
      ],
      "execution_count": null,
      "outputs": []
    },
    {
      "cell_type": "markdown",
      "metadata": {
        "id": "d8vpx6V-Bt_k"
      },
      "source": [
        "**STATIC NESTED CLASS:**"
      ]
    },
    {
      "cell_type": "markdown",
      "metadata": {
        "id": "JCzPquzhByVF"
      },
      "source": [
        "An inner class can be accessed without creating an object in the outer class which is static nested class."
      ]
    },
    {
      "cell_type": "markdown",
      "metadata": {
        "id": "sN0EYksBB1as"
      },
      "source": [
        "**Example:**"
      ]
    },
    {
      "cell_type": "code",
      "metadata": {
        "colab": {
          "base_uri": "https://localhost:8080/"
        },
        "id": "k0Eu7MsJB41l",
        "outputId": "7c674baa-38a4-471c-fd18-adce90a6b224"
      },
      "source": [
        "class OuterClass {\n",
        "  int a = 25;\n",
        "\n",
        "  static class InnerClass {\n",
        "    int b = 10;\n",
        "  }\n",
        "}\n",
        "\n",
        "public class Main {\n",
        "  public static void main(String[] args) {\n",
        "    OuterClass.InnerClass myInner = new OuterClass.InnerClass();\n",
        "    System.out.println(myInner.b);\n",
        "  }\n",
        "}\n"
      ],
      "execution_count": 15,
      "outputs": [
        {
          "output_type": "stream",
          "name": "stdout",
          "text": [
            "10\n"
          ]
        }
      ]
    }
  ]
}