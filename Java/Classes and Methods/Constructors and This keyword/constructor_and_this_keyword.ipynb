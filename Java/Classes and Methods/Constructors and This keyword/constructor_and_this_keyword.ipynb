{
  "nbformat": 4,
  "nbformat_minor": 0,
  "metadata": {
    "colab": {
      "name": "constructor_and_this_keyword.ipynb",
      "provenance": [],
      "collapsed_sections": [
        "VDlWeF-QLrjY"
      ]
    },
    "kernelspec": {
      "name": "python3",
      "display_name": "Python 3"
    },
    "language_info": {
      "name": "python"
    }
  },
  "cells": [
    {
      "cell_type": "markdown",
      "metadata": {
        "id": "xqnykCpHKhGE"
      },
      "source": [
        "# **CONSTRUCTOR AND THIS KEYWORD**\n",
        "\n",
        "\n",
        "\n",
        "\n",
        "\n"
      ]
    },
    {
      "cell_type": "markdown",
      "metadata": {
        "id": "8s9krI81LQBr"
      },
      "source": [
        "---\n",
        "## **CONSTRUCTOR**\n",
        "---\n",
        "What is a constructor? Why is it used? How to write a constructor? These are the questions that will get answered in this article. Now, Constructor is a special method defined in java. What does that mean you may ask? Nothing really, just that it is a method with some exceptions. Declaring a constructor is the same as declaring a method in a class. But we do have to keep the following points in mind before creating a constructor:\n",
        "\n",
        "1. The constructor name has to be the same as the class name.\n",
        "2. A constructor does not have a return type.\n",
        "\n"
      ]
    },
    {
      "cell_type": "markdown",
      "metadata": {
        "id": "1hsgCv8Djxjk"
      },
      "source": [
        "```\n",
        "Example:\n",
        "Class car {  \n",
        "    private int licenceNo;\n",
        "\tprivate String carName;\n",
        "\n",
        "  car (){} \t\t\t\t\t       // Constructor declaration\n",
        "  public engine () {//some code}\t  //method declaration\t\t\n",
        "  \n",
        "}\n",
        "```"
      ]
    },
    {
      "cell_type": "markdown",
      "metadata": {
        "id": "quOfYaGqLlER"
      },
      "source": [
        "Now, to invoke a constructor we use the new keyword. For example,"
      ]
    },
    {
      "cell_type": "markdown",
      "metadata": {
        "id": "4BycAzkwkhhJ"
      },
      "source": [
        "```\n",
        "public static void main (String args []) {\n",
        "\tcar c = new car (); \t\t// Object Creation\n",
        "}\n",
        "```"
      ]
    },
    {
      "cell_type": "markdown",
      "metadata": {
        "id": "VDlWeF-QLrjY"
      },
      "source": [
        "So, when we use the new keyword to create an instance of a class the constructor of the class gets invoked. The Constructor is used to initialize the fields of the objects.\n",
        "\n",
        "---\n",
        "\n",
        "##### **RETURN VALUE OF CONSTRUCTOR** \n",
        "\n",
        "Does the have a return value? Hmmm, trick question. Yes and no, why because even if we don’t explicitly define a return type and do not return any value from the constructor. Java runtime implicitly returns the class object when a constructor is called. "
      ]
    },
    {
      "cell_type": "markdown",
      "metadata": {
        "id": "TU21swD0MWIv"
      },
      "source": [
        "---\n",
        "## **TYPES OF CONSTRUCTORS**\n",
        "---\n",
        "\n",
        "There are 2 types of constructors: \n",
        "1.\t**DEFAULT CONSTRUCTOR:**\n",
        "\n",
        "If a class does not have a constructor declared explicitly, then JAVA Compiler provides a Default constructor, you know by default. The default constructor does not have any arguments. Using the default constructor, the object fields get initialized with default values such as null,0, etc.\n",
        "\n",
        "2.\t**PARAMETERIZED CONSTRUCTOR:**\n",
        "\n",
        "If we want to initialize the object field with user-defined values, then we use the Parameterized constructor. It contains arguments in the constructor declaration. Unlike the Default constructor java compiler does not provide a parameterized constructor. It has to be declared explicitly. if we declare a parameterized constructor then Java Compiler will not provide a default constructor. In this case, we have to declare a default constructor as well. "
      ]
    },
    {
      "cell_type": "markdown",
      "metadata": {
        "id": "UuiE6tJEksE0"
      },
      "source": [
        "\n",
        "\n",
        "```\n",
        "Example:\n",
        "Class car {\n",
        "    private int licenceNo;\n",
        "\tprivate String carName;\n",
        "\t\n",
        "  car() {} \t\t\t                           //Default Constructor\t\n",
        "  car(int licenceNo,String carName) {}\t\t\t//Parameterized Constructor\n",
        "\n",
        "}\n",
        "```\n",
        "\n"
      ]
    },
    {
      "cell_type": "markdown",
      "metadata": {
        "id": "G7SMKVbyMqav"
      },
      "source": [
        "**COPY CONSTRUCTOR:**\n",
        "\n",
        "A copy constructor is a constructor that creates a new object based on another object of the same class. Now, Java also has a copy constructor. But Java does not explicitly provide a copy constructor. In C++,  a copy constructor is by default provided when a call of such type is made. But in Java, if we make any such calls, no default copy constructor will be invoked. "
      ]
    },
    {
      "cell_type": "markdown",
      "metadata": {
        "id": "UoVzkJb9k3Yb"
      },
      "source": [
        "\n",
        "\n",
        "```\n",
        "Example: \n",
        " class car {\n",
        "      private int licenceNo;\n",
        "\t  private String carName;\n",
        "\n",
        "     car(car c1) {\n",
        "        this.licenceNo = c1.licenceNo;\n",
        "        this.carName = c1.carName;\n",
        "    }\n",
        "```\n",
        "\n"
      ]
    },
    {
      "cell_type": "markdown",
      "metadata": {
        "id": "_U6ig75LMzQU"
      },
      "source": [
        "---\n",
        "## **THIS KEYWORD:**\n",
        "---\n",
        "‘This’ is a keyword is used as a reference to the current object. Using ‘this’ we can easily differentiate between class attributes and the current object fields having the same name. "
      ]
    },
    {
      "cell_type": "markdown",
      "metadata": {
        "id": "9AXKdExzk9NY"
      },
      "source": [
        "\n",
        "\n",
        "```\n",
        "Example: \n",
        "Class car {\n",
        "  private int licenceNo = 00000;\n",
        "\tprivate String carName;\n",
        "\n",
        "\tcar (int licenceNo) {           //constructor with a parameter\n",
        "\t\tthis.licenceNo = licenceNo;\n",
        "  }\n",
        "\n",
        "public static void main (String args []) {\n",
        "    Car car = new car (54321);\n",
        "    System.out.println(\"Value of licenceNo=\" + car.licenceNo);\n",
        "  }\n",
        "}\n",
        "```\n",
        "\n"
      ]
    },
    {
      "cell_type": "markdown",
      "metadata": {
        "id": "DIi6lZz1N-TA"
      },
      "source": [
        " The above code will print - > \n",
        "\n",
        "\n",
        "Value of licenceNo = 10\n",
        "\n",
        "If we remove the ‘this’ keyword from the constructor then it would output ‘00000’ instead of ‘54321’.\n"
      ]
    },
    {
      "cell_type": "markdown",
      "metadata": {
        "id": "iTttpXxUOjTx"
      },
      "source": [
        "---\n",
        "## **CONSTRUCTOR CHAINING:**\n",
        "---\n",
        "Calling a constructor from another constructor is called constructor chaining. But remember, the constructor call should be the first statement of the code block. We can achieve this using the ‘THIS’ keyword. "
      ]
    },
    {
      "cell_type": "markdown",
      "metadata": {
        "id": "gwVOanTVlDpY"
      },
      "source": [
        "\n",
        "\n",
        "```\n",
        "Example -> \n",
        "\n",
        "Class car {\n",
        "\tprivate int licenceNo;\n",
        "\tprivate String carName;\n",
        "\tcar (){\t\t\t\t\t----( 1 )\n",
        "\t\tthis. licenceNo = 00000;\n",
        "\t\tthis.carName = ‘anyCarName’;\n",
        "  }\n",
        "\tcar (int licenceNo){\t\t\t----( 2 )\n",
        "\t\tthis();\n",
        "\t\tthis. licenceNo = licenceNo;\n",
        "  }\n",
        "  car (String carName , int licenceNo){    ----( 3 )\n",
        "\t  this(licenceNo);\n",
        "\t  this.carName = carName;\n",
        "  }\n",
        "\n",
        "public static void main(String args[]){\n",
        "    car car = new car(“Honda”,”20012”);\t\t---- ( 4 )\n",
        "  }\n",
        "}\n",
        "\n",
        "```\n",
        "\n"
      ]
    },
    {
      "cell_type": "markdown",
      "metadata": {
        "id": "0sX0gJJ_RbnE"
      },
      "source": [
        "In this example, after creating an object at line number 4, the constructor at line 3 gets called, Then the constructor at line 3 makes a call to the constructor on line 2, and then the constructor on line 2, in turn, invokes the constructor on line 1."
      ]
    },
    {
      "cell_type": "markdown",
      "metadata": {
        "id": "E1YszbE_Rod3"
      },
      "source": [
        "---\n",
        "## **CONSTRUCTOR OVERLOADING:**\n",
        "---\n",
        "\n",
        "Constructor overloading is just a fancy way of saying that we can have many constructors with the same name in the same class.  But the number of arguments should not be the same for all the constructors. \n",
        "\n"
      ]
    },
    {
      "cell_type": "markdown",
      "metadata": {
        "id": "zwLJ60ynlH3u"
      },
      "source": [
        "\n",
        "\n",
        "```\n",
        "Example \n",
        "\tClass car {\n",
        "    private int licenceNo;\n",
        "\tprivate String carName;\n",
        "\t\t\n",
        "    car () {}                              //Default constructor with no arguments\n",
        "    car (int licenceNo)                    // constructor with 1 argument\n",
        "    car (String carName,int licenceNo){}   //constructor with 2 arguments\n",
        "}\n",
        "\n",
        "```\n",
        "\n"
      ]
    },
    {
      "cell_type": "markdown",
      "metadata": {
        "id": "jLnTVqgcSBe_"
      },
      "source": [
        "### With this we come to the end of the constructor and this keyword.\n",
        "\n",
        "*Happy Learning*"
      ]
    },
    {
      "cell_type": "markdown",
      "metadata": {
        "id": "ynJOT3qJSnuS"
      },
      "source": [
        "Ref -\n",
        "\n",
        "https://www.journaldev.com/\n",
        "\n",
        "https://www.geeksforgeeks.org/java/\n",
        "\n",
        "https://docs.oracle.com/javase/tutorial/"
      ]
    }
  ]
}