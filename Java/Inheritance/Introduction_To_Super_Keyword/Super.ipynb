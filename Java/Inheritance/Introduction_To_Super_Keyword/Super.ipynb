{
  "nbformat": 4,
  "nbformat_minor": 0,
  "metadata": {
    "colab": {
      "name": "Super.ipynb",
      "provenance": [],
      "collapsed_sections": []
    },
    "kernelspec": {
      "name": "python3",
      "display_name": "Python 3"
    },
    "language_info": {
      "name": "python"
    }
  },
  "cells": [
    {
      "cell_type": "markdown",
      "metadata": {
        "id": "EM2NTQx50UBk"
      },
      "source": [
        "## **The Super Keyword in Java**\n",
        "\n",
        "---"
      ]
    },
    {
      "cell_type": "markdown",
      "metadata": {
        "id": "jSh91_Q26gM_"
      },
      "source": [
        "[Introduction to Super Keyword](https://drive.google.com/file/d/1npXW4-TwUdyyAtFGGKSqnifnn098fkut/view?usp=sharing)\n",
        "\n",
        "Contributed by: Vrattica Yadav"
      ]
    }
  ]
}