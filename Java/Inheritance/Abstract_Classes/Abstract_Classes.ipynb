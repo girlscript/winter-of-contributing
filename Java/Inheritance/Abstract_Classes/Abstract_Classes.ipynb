{
  "nbformat": 4,
  "nbformat_minor": 0,
  "metadata": {
    "colab": {
      "name": "Abstract_Classes.ipynb",
      "provenance": [],
      "collapsed_sections": []
    },
    "kernelspec": {
      "name": "python3",
      "display_name": "Python 3"
    },
    "language_info": {
      "name": "python"
    }
  },
  "cells": [
    {
      "cell_type": "code",
      "metadata": {
        "id": "B1F5tVboTc8C"
      },
      "source": [
        ""
      ],
      "execution_count": null,
      "outputs": []
    },
    {
      "cell_type": "markdown",
      "metadata": {
        "id": "l2nlknpIVPCr"
      },
      "source": [
        "# Abstract Classes in Java\n",
        "\n",
        "In Java, a class that contains **abstract** keyword in its declaration is known as abstract class. It may or might not contain abstract methods. Any class that contains one or more than one abstract method should also be declared abstract. \n",
        "\n",
        "*Things to remember :*\n",
        "\n",
        "\n",
        "*   An abstract class must be declared with abstract keyword.\n",
        "*   No objects of the abstract class can be found.\n",
        "*   It cannot be instantiated.\n",
        "*   It cannot have the declaration of abstract constructors or abstract static methods.\n",
        "*   All the subclasses (derived or child classes) of the class should either implement all the abstract methods in the superclass (parent class) or be declared abstract itself.\n",
        "\n",
        "To declare an **abstract** method, the general form is used is as follow :\n"
      ]
    },
    {
      "cell_type": "code",
      "metadata": {
        "id": "0lmQUKrx1Lk9"
      },
      "source": [
        "abstract type name(parameter-list);"
      ],
      "execution_count": null,
      "outputs": []
    },
    {
      "cell_type": "markdown",
      "metadata": {
        "id": "xkStEenA1TdG"
      },
      "source": [
        "Let's look at an example of a class with an abstract method, followed by a class which implements that method:"
      ]
    },
    {
      "cell_type": "code",
      "metadata": {
        "id": "olP1ZiwBQ2LZ"
      },
      "source": [
        "//A simple demonstration of abstract.\n",
        "abstract class gwoc{\n",
        "    abstract void documentation();\n",
        "    //Concrete methods are allowed in abstract classes\n",
        "    void documentation2(){\n",
        "        System.out.println(\"This is a concrete method.\");\n",
        "    }\n",
        "}\n",
        "\n",
        "class Java extends gwoc{\n",
        "    void documentation(){\n",
        "        System.out.println(\"Java is implementation of documentation.\");\n",
        "    }\n",
        "}\n",
        "\n",
        "class AbstractDemo{\n",
        "    public static void main(String args[]){\n",
        "        Java obj = new Java();\n",
        "        obj.documentation();\n",
        "        obj.documentation2();\n",
        "    }\n",
        "}"
      ],
      "execution_count": null,
      "outputs": []
    },
    {
      "cell_type": "markdown",
      "metadata": {
        "id": "mJdd0M4_WYPY"
      },
      "source": [
        "Note that there's no object of class A is declared. Also remember, it cannot be instantiated. As abstract classes cannot be used to instantiate objects, they could be used to create object references. So, it can be possible if we create reference to an abstract class so that it can be used to direct to a subclass object.\n",
        "\n",
        "Let's take another example which creates a superclass called **Figure** which stores the dimension of two-dimensional objects. It  also defines the method called **area()** that stores the area of the object. Using an abstract class, the program declares **area()** as abstract inside **Figure**. It means all classes derived from **Figure** must override **area()**.\n"
      ]
    },
    {
      "cell_type": "code",
      "metadata": {
        "id": "oCFUAk2Vc_47"
      },
      "source": [
        "//Abstract methods and classes are used in this program.\n",
        "abstract class Figure{\n",
        "    double num1;\n",
        "    double num2;\n",
        "\n",
        "    Figure(double a, double b){\n",
        "        num1 = a;\n",
        "        num2 = b;\n",
        "    }\n",
        "    abstract double area();  //here area is an abstract method.\n",
        "} \n",
        "\n",
        "class rectangle extends Figure{\n",
        "    rectangle(double a, double b){\n",
        "        super(a, b);\n",
        "    }\n",
        "\n",
        "    //override area for rectangle\n",
        "    double area(){\n",
        "        System.out.println(\"This is inside area for rectangle\");\n",
        "        return num1*num2;\n",
        "    }\n",
        "}\n",
        "\n",
        "class triangle extends Figure{\n",
        "    triangle(double a, double b){\n",
        "        super(a, b);\n",
        "    }\n",
        "\n",
        "    //override area for right triangle\n",
        "    double area(){\n",
        "        System.out.println(\"This is inside for triangle\");\n",
        "        return num1*num2/2;\n",
        "    }\n",
        "}\n",
        "\n",
        "class AbstractAreas{\n",
        "    public static void main(String args[]){\n",
        "        //Figure f = new Figure(10, 10); \n",
        "        rectangle r = new rectangle(9, 5);\n",
        "        triangle t = new triangle(10, 8);\n",
        "        Figure figref; //no object is created\n",
        "        Figref = r;\n",
        "        System.out.println(\"Area is\" + figref.area());\n",
        "        figref = t;\n",
        "        System.out.println(\"Area is\" + figref.area());\n",
        "    }\n",
        "}"
      ],
      "execution_count": null,
      "outputs": []
    },
    {
      "cell_type": "markdown",
      "metadata": {
        "id": "g5MUh7XPl6zW"
      },
      "source": [
        "The comment inside main() does not declare objects of type Figure, since it is now abstract, and every subclasses of Figure must override area().\n",
        "As it is stated above that an object cannot be created of type Figure, so a reference variable, figref is declared, which denotes an object of any class derived from Figure."
      ]
    }
  ]
}