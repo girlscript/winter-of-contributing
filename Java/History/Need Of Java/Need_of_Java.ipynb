{
  "nbformat": 4,
  "nbformat_minor": 0,
  "metadata": {
    "colab": {
      "name": "Need of Java.ipynb",
      "provenance": [],
      "collapsed_sections": [],
      "authorship_tag": "ABX9TyMlhqD1JGMKAimyafRyFicl",
      "include_colab_link": true
    },
    "kernelspec": {
      "name": "python3",
      "display_name": "Python 3"
    },
    "language_info": {
      "name": "python"
    }
  },
  "cells": [
    {
      "cell_type": "markdown",
      "metadata": {
        "id": "view-in-github",
        "colab_type": "text"
      },
      "source": [
        "<a href=\"https://colab.research.google.com/github/bhavya281/winter-of-contributing/blob/Java/Java/History/Need%20Of%20Java/Need_of_Java.ipynb\" target=\"_parent\"><img src=\"https://colab.research.google.com/assets/colab-badge.svg\" alt=\"Open In Colab\"/></a>"
      ]
    },
    {
      "cell_type": "markdown",
      "metadata": {
        "id": "xDCiXYu9wzPE"
      },
      "source": [
        "# Why is Java so popular?\n",
        "The main reason of Java's popularity is **Platform Independence** that means it can run on different type of computers which are compaitable with Java Runtime Environment(JRE). Java is considered to be simple language and they come with wide variety of utitlty functions which also makes it popular.Java is 26 years old (Java 1.0 was released in 1995), many of the biggest organisation and company in the world have built their applications with the help of the language.\n",
        "\n",
        "#Need of Java\n",
        "As Java is Simple and Easy to use, Object Oriented Programming (OOP) Language, Robust Language i.e, it is capable of handling run-time errors, supports exception handlings, Platform Independent and with security features. <br>Because of these features it is widely used in areas like:\n",
        "1.   **Web Applications**<br>\n",
        "Java provides *Servlet* and *JSP* which allows us to make any web application.We can create static website with help of HTML and style it with CSS, but for dynamic wbsite we need server-side technology and here we use Java.  Many government, insurance, healthcare, education departments have built their application with java. Google's Gmail has also used Java.\n",
        "2.   **Mobile Application**<br>\n",
        "Java is the most popular programming language used in Mobile Applications because the Mobile OS is written in Java and its API are designed for Java. Java runs on Java Virtual machin(JVM) and Android uses Dalvik Virtual Machine(DVK) to execute class files, but the code is still in Java. Spotify, Twitter uses Java for Android Mobile Application Development.\n",
        "3.   **Desktop Application**<br>\n",
        "Desktop Applications can easily be developed in Java. With help of APIs like *AWT*(Abstract Windowing Toolkit), *Swing*, *JavaFX* to build desktop applications. Swing being a GUI widget toolkit,which provides certain advanced elements. Acrobat Reader is example of Desktop Application.\n",
        "4.   **Scientific Application**<br>\n",
        "Java is often used for scientific application which include mathematical operations and natural language processing. We use Java because it is safe,portable and maintainable. MATLAB use Java for interactive user-interface and core part of the system e.i, back-end.\n",
        "5.   **Enterprise Application**<br>\n",
        "Enterprise Application is software system which opeartes in a corporate organization rather individual users. Java Enterprise Edition(Java EE) is popular platform which provide API and run-time environment as well as it is considered as the backbone for vairety application. We can make the application easily scalable in order to increase the number of users on enterprise application site. Flipkart,Infosys uses Java.\n",
        "\n",
        "\n"
      ]
    }
  ]
}