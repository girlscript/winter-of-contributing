{
  "nbformat": 4,
  "nbformat_minor": 0,
  "metadata": {
    "colab": {
      "name": "Untitled0.ipynb",
      "provenance": []
    },
    "kernelspec": {
      "name": "python3",
      "display_name": "Python 3"
    },
    "language_info": {
      "name": "python"
    }
  },
  "cells": [
    {
      "cell_type": "markdown",
      "metadata": {
        "id": "RPY_rJk-sLue"
      },
      "source": [
        "# **Defining Packages in java**"
      ]
    },
    {
      "cell_type": "markdown",
      "metadata": {
        "id": "Ia9EGGIZswoz"
      },
      "source": [
        "## **What are packages?**"
      ]
    },
    {
      "cell_type": "markdown",
      "metadata": {
        "id": "8Bfe4Avzs3nv"
      },
      "source": [
        "The collection of inter-related entites like classes and interfaces providing functionality such as access protection is called a package.\n",
        "They are two types of packages:-\n",
        "\n",
        "\n",
        "1.   ***Built-in Packages*** - Java API'S such as java, lang, awt, javax, swing, net, util, sql, io, etc.\n",
        "2.   ***User defined packages*** - Custom packages\n",
        "\n",
        "Package provides you access protection of classes and removes the problem of naming collision.\n",
        "\n",
        "***Naming convention:-***\n",
        "For naming a package in java camel-case synax is followed where name of the package should begin from lower case letter. If name contains multiple words, it should be seperated by a dot(.). "
      ]
    },
    {
      "cell_type": "markdown",
      "metadata": {
        "id": "hQqHXRrcxoHG"
      },
      "source": [
        "## **How to define a package?**"
      ]
    },
    {
      "cell_type": "markdown",
      "metadata": {
        "id": "3pwDktnxxwd3"
      },
      "source": [
        "The **package keyword** is used to define a package in java. "
      ]
    },
    {
      "cell_type": "code",
      "metadata": {
        "id": "M7NExXKpy-lB"
      },
      "source": [
        "//defining a Packages\n",
        "package mypackage;\n",
        "\n",
        "public class Demo{ //create a class Demo.java\n",
        "    public static void main(String []args){\n",
        "        System.out.println(\"Congrats! You defined a package.\");\n",
        "    }\n",
        "}"
      ],
      "execution_count": null,
      "outputs": []
    },
    {
      "cell_type": "markdown",
      "metadata": {
        "id": "Y3R_-Jp70MN-"
      },
      "source": [
        "To compile a package in java, use:-"
      ]
    },
    {
      "cell_type": "code",
      "metadata": {
        "id": "0zzCFnnu08Uc"
      },
      "source": [
        "javac -d directory filename.java"
      ],
      "execution_count": null,
      "outputs": []
    },
    {
      "cell_type": "markdown",
      "metadata": {
        "id": "5N8zXGj109Uu"
      },
      "source": [
        "Here, -d switch specifies the destination where to put the generated class. In place of directory you can use any directory name where you want to put your package. If you want to put your package within the same package, you can use dot (.).\n",
        "\n",
        "Example,"
      ]
    },
    {
      "cell_type": "code",
      "metadata": {
        "id": "d017_GPi2X8I"
      },
      "source": [
        "javac -d . Demo.java"
      ],
      "execution_count": null,
      "outputs": []
    },
    {
      "cell_type": "markdown",
      "metadata": {
        "id": "-TAjz5rq2ePQ"
      },
      "source": [
        "We can also create inner packages by adding \"package.inner\" as package name. These packages once created can be used by other classes."
      ]
    }
  ]
}
