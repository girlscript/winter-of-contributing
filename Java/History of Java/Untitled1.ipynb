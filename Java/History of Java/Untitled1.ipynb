{
  "nbformat": 4,
  "nbformat_minor": 0,
  "metadata": {
    "colab": {
      "name": "Untitled1.ipynb",
      "provenance": []
    },
    "kernelspec": {
      "name": "python3",
      "display_name": "Python 3"
    },
    "language_info": {
      "name": "python"
    }
  },
  "cells": [
    {
      "cell_type": "code",
      "metadata": {
        "id": "2uPn8Lwbi4Y0"
      },
      "source": [
        "### JAVA\n",
        "History of Java"
      ],
      "execution_count": null,
      "outputs": []
    }
  ]
}