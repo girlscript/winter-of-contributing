{
 "cells": [
  {
   "cell_type": "markdown",
   "metadata": {},
   "source": [
    "# Exception and Variable Captures"
   ]
  },
  {
   "cell_type": "markdown",
   "metadata": {},
   "source": [
    "Variable defined by the enclosing scope of a lambda expression are accessible within the lambda expression. \n",
    "\n",
    "For example,  a lambda expression can use an instance or static variable defined by its enclosing class. A lambda expression also has access to both explicitly and implicitly, which refers to the invoking instance of the lambda expression’s enclosing class. \n",
    "\n",
    "Therefore, a lambda expression can obtain or set the value of an intrinsic or static variable and call a method define by its enclosing class.\n",
    "\n",
    "When a lambda expression uses a local variable from its enclosing scope, a special situation is created that is referred to as a variable capture. In this case, a lambda expression may only use local variables that are effectively final. "
   ]
  },
  {
   "cell_type": "markdown",
   "metadata": {},
   "source": [
    "### Points to Remember"
   ]
  },
  {
   "cell_type": "markdown",
   "metadata": {},
   "source": [
    "(1)  Any local variable, formal parameter, or exception parameter used but not declared in a lambda expression must either be declared final or be effectively final , or a compile-time error occurs where the use is attempted.\n",
    "\n",
    "(2)  Any local variable used but not declared in a lambda body must be definitely assigned before the lambda body, or a compile-time error occurs.\n",
    "\n",
    "(3)  Similar rules on variable use apply in the body of an inner class . The restriction to effectively final variables prohibits access to dynamically-changing local variables, whose capture would likely introduce concurrency problems. Compared to the final restriction, it reduces the clerical burden on programmers.\n",
    "\n",
    "(4)  The restriction to effectively final variables includes standard loop variables, but not enhanced-for loop variables, which are treated as distinct for each iteration of the loop."
   ]
  },
  {
   "cell_type": "markdown",
   "metadata": {},
   "source": [
    "### Example"
   ]
  },
  {
   "cell_type": "raw",
   "metadata": {},
   "source": [
    "# Importing input output classes\n",
    "import java.io.*;\n",
    "\n",
    "interface MyInterface {\n",
    "\n",
    "\tvoid myFunction();\n",
    "}\n",
    "\n",
    "class GWOC {\n",
    "\n",
    "\tint val = 250;\n",
    "\n",
    "\tpublic static void main(String[] args)\n",
    "\t{\n",
    "\n",
    "\t\tGWOC gwoc = new GWOC();   #Creating object of this class inside the main() method\n",
    "\n",
    "\t\t# Creating object of interface inside the main() method\n",
    "\t\tMyInterface intFace = () ->\n",
    "\t\t{\n",
    "\t\t\tSystem.out.println(\"Value 1 : \" + gwoc.val);\n",
    "\t\t\tgwoc.val += 500;\n",
    "\n",
    "\t\t\tSystem.out.println(\"Value 2 : \" + gwoc.val);\n",
    "\t\t};\n",
    "\n",
    "\t\tintFace.myFunction();\n",
    "\t\tgwoc.val += 250;\n",
    "\n",
    "\t\tSystem.out.println(\"Value 3 : \" + gwoc.val);\n",
    "\t}\n",
    "}\n"
   ]
  },
  {
   "cell_type": "markdown",
   "metadata": {},
   "source": [
    "#### Output :\n",
    "Value 1 : 250\n",
    "\n",
    "Value 2 : 750\n",
    "\n",
    "Value 3 : 1000"
   ]
  }
 ],
 "metadata": {
  "kernelspec": {
   "display_name": "Python 3",
   "language": "python",
   "name": "python3"
  },
  "language_info": {
   "codemirror_mode": {
    "name": "ipython",
    "version": 3
   },
   "file_extension": ".py",
   "mimetype": "text/x-python",
   "name": "python",
   "nbconvert_exporter": "python",
   "pygments_lexer": "ipython3",
   "version": "3.8.5"
  }
 },
 "nbformat": 4,
 "nbformat_minor": 4
}
