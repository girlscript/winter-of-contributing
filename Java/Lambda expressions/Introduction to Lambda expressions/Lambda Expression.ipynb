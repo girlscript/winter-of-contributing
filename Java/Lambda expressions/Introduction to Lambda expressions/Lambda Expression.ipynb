{
 "cells": [
  {
   "cell_type": "markdown",
   "metadata": {},
   "source": [
    "# Java Lambda Expressions"
   ]
  },
  {
   "cell_type": "markdown",
   "metadata": {},
   "source": [
    "Lambda expression is a new feature that was added in Java 8. It provides a clear and concise way to represent one method interface using an expression.     \n",
    "A lambda expression is an anonymous function i.e. it does not have a name and does not belong to any class.  It helps to iterate, filter and extract data from collection. The concept of lambda expression was first introduced in LISP programming language."
   ]
  },
  {
   "cell_type": "markdown",
   "metadata": {},
   "source": [
    "### Use of Lambda Funtions"
   ]
  },
  {
   "cell_type": "markdown",
   "metadata": {},
   "source": [
    "We use lambda funtions to : \n",
    "\n",
    "(i) Provide the implementation of Functional interface.\n",
    "\n",
    "(ii) Minimize code."
   ]
  },
  {
   "cell_type": "markdown",
   "metadata": {},
   "source": [
    "### Components of Java lambda expression"
   ]
  },
  {
   "cell_type": "markdown",
   "metadata": {},
   "source": [
    "(i) Argument-list: It can be empty or non-empty as well.\n",
    "\n",
    "(ii) Arrow-token: It is used to link arguments-list and body of expression.\n",
    "\n",
    "(iii) Body: It contains expressions and statements for lambda expression."
   ]
  },
  {
   "cell_type": "markdown",
   "metadata": {},
   "source": [
    "### Example :"
   ]
  },
  {
   "cell_type": "markdown",
   "metadata": {},
   "source": [
    "#### Without Lambda Expression"
   ]
  },
  {
   "cell_type": "raw",
   "metadata": {},
   "source": [
    "interface Myfunc{  \n",
    "    public void func();  \n",
    "}  \n",
    "public class Lambda1 {  \n",
    "    public static void main(String[] args) {  \n",
    "        int mynum=10;  \n",
    "        Myfunc d=new Myfunc(){  \n",
    "            public void func(){System.out.println(\"This is an example which does not contain lambda expression and the random number choosen is : \"+mynum);}  \n",
    "        }; \n",
    "        \n",
    "        d.func();  \n",
    "    }  \n",
    "}  "
   ]
  },
  {
   "cell_type": "raw",
   "metadata": {},
   "source": [
    "Output:\n",
    "This is an example which does not contain lambda expression and the random number choosen is : 10"
   ]
  },
  {
   "cell_type": "markdown",
   "metadata": {},
   "source": [
    "#### With Lambda Expression"
   ]
  },
  {
   "cell_type": "raw",
   "metadata": {},
   "source": [
    "interface Myfunc{  \n",
    "    public void func();  \n",
    "}  \n",
    "  \n",
    "public class Lambda2 {  \n",
    "    public static void main(String[] args) {  \n",
    "        int mynum=10;  \n",
    "\n",
    "        Myfunc d2=()->{  \n",
    "            System.out.println(\"This is an example which does contain lambda expression and the random number choosen is : \"+mynum);  \n",
    "        };  \n",
    "        d2.func();  \n",
    "    }  \n",
    "} "
   ]
  },
  {
   "cell_type": "raw",
   "metadata": {},
   "source": [
    "Output:\n",
    "This is an example which does contain lambda expression and the random number choosen is : 10"
   ]
  },
  {
   "cell_type": "markdown",
   "metadata": {},
   "source": [
    "### Lambda operator and number of parameters"
   ]
  },
  {
   "cell_type": "markdown",
   "metadata": {},
   "source": [
    "#### In Case of :\n",
    "\n",
    "#### Zero parameter - \n",
    "() -> System.out.println(\"Zero parameter lambda\");\n",
    "\n",
    "#### One parameter -\n",
    "(parameter1) -> System.out.println(\"One parameter: \" + parameter1);\n",
    "##### Note : Use parentheses is optional\n",
    "\n",
    "#### Multiple parameters -\n",
    "(parameter1, parameter2) -> System.out.println(\"Multiple parameters: \" + parameter1 + \"&\" + parameter2);\n",
    "##### Note : If there are more than one parameter, use parentheses."
   ]
  },
  {
   "cell_type": "markdown",
   "metadata": {},
   "source": [
    "### Example : Lambda Expression - Zero Parameter"
   ]
  },
  {
   "cell_type": "raw",
   "metadata": {},
   "source": [
    "interface Lambex{  \n",
    "    public String func();  \n",
    "}  \n",
    "public class Lambda3{  \n",
    "public static void main(String[] args) {  \n",
    "    Sayable s=()->{  \n",
    "        return \"Example of lambda expression having zero parameter\";  \n",
    "    };  \n",
    "    System.out.println(s.func());  \n",
    "}  \n",
    "}  "
   ]
  },
  {
   "cell_type": "raw",
   "metadata": {},
   "source": [
    "Output:\n",
    "Example of lambda expression having zero parameter"
   ]
  },
  {
   "cell_type": "markdown",
   "metadata": {},
   "source": [
    "### Example : Lambda Expression - One Parameter"
   ]
  },
  {
   "cell_type": "raw",
   "metadata": {},
   "source": [
    "interface Lambex{  \n",
    "    public String func(String name);  \n",
    "}  \n",
    "  \n",
    "public class Lambda4{  \n",
    "    public static void main(String[] args) {  \n",
    "        \n",
    "        Lambex s1=(name)->{  \n",
    "            return \"Hello, \"+name;  \n",
    "        };  \n",
    "        System.out.println(s1.func(\"Girl\"));  \n",
    "          \n",
    "        // without parentheses    \n",
    "        Lambex s2= name ->{  \n",
    "            return \"Hello, \"+name;  \n",
    "        };  \n",
    "        System.out.println(s2.func(\"Script\"));  \n",
    "    }  \n",
    "}  "
   ]
  },
  {
   "cell_type": "raw",
   "metadata": {},
   "source": [
    "Output:\n",
    "Hello, Girl\n",
    "Hello, Script"
   ]
  },
  {
   "cell_type": "markdown",
   "metadata": {},
   "source": [
    "### Example : Lambda Expression - Multiple Parameter"
   ]
  },
  {
   "cell_type": "raw",
   "metadata": {},
   "source": [
    "interface Addfunc{  \n",
    "    int add(int a,int b);  \n",
    "}  \n",
    "  \n",
    "public class Lambda5{  \n",
    "    public static void main(String[] args) {  \n",
    "          \n",
    "        // Not specifying Datatypes  \n",
    "        Addfunc x=(a,b)->(a+b);  \n",
    "        System.out.println(x.add(150,250));  \n",
    "          \n",
    "        // Specifying Datatypes  \n",
    "        Addfunc y=(int a,int b)->(a+b);  \n",
    "        System.out.println(y.add(120,230));  \n",
    "    }  \n",
    "}  "
   ]
  },
  {
   "cell_type": "raw",
   "metadata": {},
   "source": [
    "Output:\n",
    "400\n",
    "350"
   ]
  }
 ],
 "metadata": {
  "kernelspec": {
   "display_name": "Python 3",
   "language": "python",
   "name": "python3"
  },
  "language_info": {
   "codemirror_mode": {
    "name": "ipython",
    "version": 3
   },
   "file_extension": ".py",
   "mimetype": "text/x-python",
   "name": "python",
   "nbconvert_exporter": "python",
   "pygments_lexer": "ipython3",
   "version": "3.8.5"
  }
 },
 "nbformat": 4,
 "nbformat_minor": 4
}
