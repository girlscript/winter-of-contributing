{
  "nbformat": 4,
  "nbformat_minor": 0,
  "metadata": {
    "colab": {
      "name": "Single_Dimension_Array.ipynb",
      "provenance": [],
      "collapsed_sections": []
    },
    "kernelspec": {
      "name": "python3",
      "display_name": "Python 3"
    },
    "language_info": {
      "name": "python"
    }
  },
  "cells": [
    {
      "cell_type": "markdown",
      "metadata": {
        "id": "lJEr3kZt7r77"
      },
      "source": [
        "# **Java 4.1: Single dimension arrays:**"
      ]
    },
    {
      "cell_type": "markdown",
      "metadata": {
        "id": "T4Od0Nv87rAI"
      },
      "source": [
        "https://drive.google.com/file/d/174vVsjRWbRFLXkY_ofDe9UkBPCZTDvRh/view"
      ]
    },
    {
      "cell_type": "markdown",
      "metadata": {
        "id": "qrO7Qy4s8B2-"
      },
      "source": [
        "Contributed by : Susmita Bhattacharya"
      ]
    },
    {
      "cell_type": "markdown",
      "metadata": {
        "id": "6mk3Jf3o7WD2"
      },
      "source": [
        ""
      ]
    },
    {
      "cell_type": "code",
      "metadata": {
        "id": "bMd64ZOz69ua"
      },
      "source": [
        ""
      ],
      "execution_count": null,
      "outputs": []
    }
  ]
}