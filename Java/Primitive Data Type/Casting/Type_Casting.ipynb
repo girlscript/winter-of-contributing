{
  "nbformat": 4,
  "nbformat_minor": 0,
  "metadata": {
    "colab": {
      "name": "Untitled1.ipynb",
      "provenance": []
    },
    "kernelspec": {
      "name": "python3",
      "display_name": "Python 3"
    },
    "language_info": {
      "name": "python"
    }
  },
  "cells": [
    {
      "cell_type": "markdown",
      "metadata": {
        "id": "C5tzpFj4S60F"
      },
      "source": [
        "# **CASTING**\n",
        "Type casting is the process to convert a data type into another data type.\n"
      ]
    },
    {
      "cell_type": "code",
      "metadata": {
        "id": "Hc-dRqf_Vf4J"
      },
      "source": [
        "int a=7;"
      ],
      "execution_count": null,
      "outputs": []
    },
    {
      "cell_type": "markdown",
      "metadata": {
        "id": "P7G7MtOqVjD1"
      },
      "source": [
        "In the above example, we are assigning 7 (an integer value) to 'a' (an integer variable) and that works fine.\n",
        "\n"
      ]
    },
    {
      "cell_type": "code",
      "metadata": {
        "id": "CKKVlxkHWiOa"
      },
      "source": [
        "int a=0.7;"
      ],
      "execution_count": null,
      "outputs": []
    },
    {
      "cell_type": "markdown",
      "metadata": {
        "id": "ExoRxSOLWrOb"
      },
      "source": [
        "But here, it will show an error (eg. Type mismatch) because we cannot store a non-integer value into an integer. For this we use Type Casting. Let's discuss type casting further with proper examples."
      ]
    },
    {
      "cell_type": "markdown",
      "metadata": {
        "id": "MMUnFI1Zd39E"
      },
      "source": [
        "# FACTS:\n",
        "\n",
        "\n",
        "*   Java will *upcast* a variable *automatically*.\n",
        "*   We must *downcast* a variable *manually*.\n",
        "\n"
      ]
    },
    {
      "cell_type": "markdown",
      "metadata": {
        "id": "cNz4Z6aDXmD5"
      },
      "source": [
        "# TYPES OF CASTING\n",
        "![Untitled1.png](data:image/png;base64,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)\n",
        "\n",
        "There are two types of casting:\n",
        "\n",
        "1) Implicit type casting\n",
        "\n",
        "2) Explicit type casting"
      ]
    },
    {
      "cell_type": "markdown",
      "metadata": {
        "id": "VWlEVwQibFld"
      },
      "source": [
        "# IMPLICIT TYPE CASTING\n",
        "In Implicit type casting/conversion the data type gets automatically converted to another data type by the compiler. It is also known as Widening type casting as it converts lower priority data type into higher one and so there is no loss of data in this.\n",
        "\n",
        "-> converting an int to a double/float/long\n",
        "\n",
        "Let's understand this with an example. "
      ]
    },
    {
      "cell_type": "code",
      "metadata": {
        "id": "CvJvNmG6f4qn"
      },
      "source": [
        "public static void main(String[] args) \n",
        "{  \n",
        "int x = 4;  \n",
        "//automatically converts the integer type into double type  \n",
        "double y = x;  \n",
        "System.out.println(\"Before conversion, int value is \"+x);  \n",
        "System.out.println(\"After conversion, double value is \"+y);    \n",
        "}  "
      ],
      "execution_count": null,
      "outputs": []
    },
    {
      "cell_type": "markdown",
      "metadata": {
        "id": "IEVpnrX7gLlM"
      },
      "source": [
        "Here, we are assigning integer value '4' to a double y. Java will convert this integer automatically because the size of integer(4 bytes) is smaller than double(8 bytes) therefore double can store an integer value easily and there will be no data loss."
      ]
    },
    {
      "cell_type": "markdown",
      "metadata": {
        "id": "7qdFT8RHmRtw"
      },
      "source": [
        "![img2.png](data:image/png;base64,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)"
      ]
    },
    {
      "cell_type": "markdown",
      "metadata": {
        "id": "NABboOsQnxIn"
      },
      "source": [
        "So, Implicit casting happens when source type is smaller than target type.\n",
        "![img3.png](data:image/png;base64,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)"
      ]
    },
    {
      "cell_type": "code",
      "metadata": {
        "id": "fcWwBViRpyxH"
      },
      "source": [
        "int i1=2.3;                //error\n",
        "float f1=4.5;              //error"
      ],
      "execution_count": null,
      "outputs": []
    },
    {
      "cell_type": "markdown",
      "metadata": {
        "id": "8nx_ruaRqUPj"
      },
      "source": [
        "In above case, Implicit casting cannot happen because-\n",
        "\n",
        "1. range of int is narrower than double\n",
        "2. range of float is narrower than double\n",
        "\n",
        "So, we are going to use Explicit casting."
      ]
    },
    {
      "cell_type": "markdown",
      "metadata": {
        "id": "Hsg4JTkmmWB5"
      },
      "source": [
        "# EXPLICIT TYPE CASTING\n",
        "In Explicit casting, the conversion does not happen automatically. It should be converted by a programmer when converting from a wider to a narrower data type. It is also known as Narrowing type casting. If we do not perform casting, it will cause compile-time error.\n",
        "\n",
        "-> converting a double/float/long to an int.\n",
        "\n",
        "**SYNTAX:** (new data type) expression\n",
        "\n",
        "Let's try to understand this with an example."
      ]
    },
    {
      "cell_type": "code",
      "metadata": {
        "id": "tFf_MpF2sHVa"
      },
      "source": [
        "public static void main(String args[])  \n",
        "{  \n",
        "double d = 14.66;  \n",
        "//converting double data type into long data type  \n",
        "long l = (long)d;  \n",
        "//converting double data type into int data type  \n",
        "int i = (int)d;  \n",
        "System.out.println(\"Before conversion: \"+d);    \n",
        "System.out.println(\"After conversion into long type: \"+l);    \n",
        "System.out.println(\"After conversion into int type: \"+i);  \n",
        "}  "
      ],
      "execution_count": null,
      "outputs": []
    },
    {
      "cell_type": "markdown",
      "metadata": {
        "id": "SAHhe-TBtm9Y"
      },
      "source": [
        "First, we are converting double type into long type. Here, it will lose its decimal value (14.66 -> 14).\n",
        "\n",
        "Next, we are converting double type into integer type. Here, again it will lose its decimal value (14.66 -> 14)."
      ]
    },
    {
      "cell_type": "markdown",
      "metadata": {
        "id": "IeXXdQPnuony"
      },
      "source": [
        "![img4.png](data:image/png;base64,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)"
      ]
    },
    {
      "cell_type": "markdown",
      "metadata": {
        "id": "LF44DVs202eO"
      },
      "source": [
        "Explicit casting happens when target type is smaller than the source type.\n",
        "![img5.png](data:image/png;base64,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)"
      ]
    },
    {
      "cell_type": "markdown",
      "metadata": {
        "id": "QPFyPPTy2Dkh"
      },
      "source": [
        "Let's look at another example."
      ]
    },
    {
      "cell_type": "code",
      "metadata": {
        "id": "ch6D0bii2JL8"
      },
      "source": [
        "double d1= 4.5 + 3;"
      ],
      "execution_count": null,
      "outputs": []
    },
    {
      "cell_type": "markdown",
      "metadata": {
        "id": "ox-iWAcd2Qx0"
      },
      "source": [
        "Here, '4.5' is double and '3' is integer but assignment operator should be applied between values of same data type. Therefore, 3(integer) will be automatically converted into 3.0(double) because we always convert into stronger type.\n",
        "\n",
        "Now, \"4.5 + 3.0\" will be calculated as \"7.5\" and stored in **d1**."
      ]
    },
    {
      "cell_type": "markdown",
      "metadata": {
        "id": "jc8TkBVs3wD7"
      },
      "source": [
        "References: [javatpoint](https://www.javatpoint.com/type-casting-in-java)\n",
        "\n",
        "Thank You\n",
        "\n",
        "Happy Learning!"
      ]
    }
  ]
}
