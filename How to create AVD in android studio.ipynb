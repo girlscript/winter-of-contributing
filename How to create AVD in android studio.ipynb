{
  "nbformat": 4,
  "nbformat_minor": 0,
  "metadata": {
    "colab": {
      "name": "Untitled2.ipynb",
      "provenance": []
    },
    "kernelspec": {
      "name": "python3",
      "display_name": "Python 3"
    },
    "language_info": {
      "name": "python"
    }
  },
  "cells": [
    {
      "cell_type": "markdown",
      "metadata": {
        "id": "PBK30k4NHo4W"
      },
      "source": [
        "\n",
        "\n",
        "\n",
        "\n",
        "# How to create Android Virtual Device(AVD)\n",
        "\n",
        "\n",
        "\n",
        "1. Go to Tools > **AVD Manager**\n",
        "\n",
        "2. Now click on **Create Virtual Device**.\n",
        "\n",
        "    \n",
        "3. A pop-up window will be there and here we select the category Phone because we are creating android app for mobile and select the model of mobile phone we want to install\n",
        "\n",
        "\n",
        "\n",
        "4. Here we select the android version to **10, API level 29** and Category as **Tablet** with **10 inch **screen click Next button.\n",
        "\n",
        "\n",
        "\n",
        "\n",
        "5. Click the finish button to complete the installation.\n",
        "\n",
        "    \n",
        "\n",
        "6. Now we can select the virtual device we want to run as the emulator can click on the run icon. Finally our virtual device is ready to run our android app.\n",
        "\n",
        "    \n"
      ]
    }
  ]
}