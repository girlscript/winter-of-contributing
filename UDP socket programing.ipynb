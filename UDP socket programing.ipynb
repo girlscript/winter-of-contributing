{
  "nbformat": 4,
  "nbformat_minor": 0,
  "metadata": {
    "colab": {
      "name": "Untitled3.ipynb",
      "provenance": []
    },
    "kernelspec": {
      "name": "python3",
      "display_name": "Python 3"
    },
    "language_info": {
      "name": "python"
    }
  },
  "cells": [
    {
      "cell_type": "markdown",
      "metadata": {
        "id": "1d-VgwkiCWnA"
      },
      "source": [
        "\n",
        "##**User Datagram Protocol(UDP)**\n",
        "\n",
        "UDP is a Transport Layer protocol. UDP is a part of the Internet Protocol suite, referred to as UDP/IP suite. Unlike TCP, it is an unreliable** and connectionless protocol.** So, there is no need to establish connection prior to data transfer.\n",
        "\n",
        "                           \n",
        "\n",
        "In the above mentioned figure, you can see that the UDP header is an 8 bytes fixed header. In these header we have UDP source port, destination port, length and checksum.\n",
        "\n",
        "On the other hand we have UDP data, Liquid Galaxy sends the data totally in decrypted form. You can easily see it through wireshark.\n",
        "\n",
        "**How does it work?**\n",
        "\n",
        "UDP uses IP to get a datagram from one computer to another. UDP works by gathering data in a UDP packet and adding its own header information to the packet. This data consists of the source and destination ports to communicate on, the packet length and a checksum. After UDP packets are encapsulated in an IP packet, they're sent off to their destinations. At last _To receive data through UDP we need a port number only _and to send data through UDP you should have a port number and ip address.\n",
        "\n",
        "**How to create a UDP receiver in a code base?**\n",
        "\n",
        "If you’re working with Java or Android, you can use the [DatagramSocket](https://developer.android.com/reference/java/net/DatagramSocket) class to implement it. To capture data from LG we’re only supposed to have receiver in the code base. We didn't need a sender.\n",
        "\n",
        "\n",
        "\n",
        "1. **Creation of DatagramSocket:-** First, a datagramSocket object is created to to receive packets from destination whenever the server sends any data.\n",
        "\n",
        "    ```\n",
        "    DatagramSocket ds = new DatagramSocket();\n",
        "    ```\n",
        "\n",
        "\n",
        "2. **Creation of DatagramPacket: **In this step, the packet for sending/receiving data via a datagramSocket is created.\n",
        "\n",
        "    ```\n",
        "    DatagramPacket dpReceive = null;     \n",
        "    DpReceive = new DatagramPacket(receive, receive.length);\n",
        "    ```\n",
        "\n",
        "\n",
        "3. Invoke a **receive()** call on the socket object.\n",
        "\n",
        "    ```\n",
        "    ds.receive(DpReceive);\n",
        "    ```\n",
        "\n",
        "\n",
        "4. **Store data** in String data type.\n",
        "\n",
        "    `String text = new String(message, 0, DpReceive.getLength());` \n",
        "\n",
        "5. Extract the desired data from the string. \n",
        "\n",
        "    ```\n",
        "    String[] values = text.split(\",\")\n",
        "    latitude.setText(text.get[1]);\n",
        "    longitude.setText(text.get[2]);\n",
        "    altitude.setText(text.get[3]);\n",
        "    ....\n",
        "\n",
        "    ```\n",
        "\n",
        "some systems sends the data in comma separated numbers and strings: counter, latitude, longitude, altitude, heading, tilt, roll, time start, time end\n",
        "\n",
        "**Data set :**\n",
        "\n",
        " 5090,-33.54948434838393,150.99967479537557,523818.98127554677194,-0.28372808067457,0.00000000000000,0.00000000000000,63454496156,63454496156,\n",
        "\n",
        " \n"
      ]
    }
  ]
}