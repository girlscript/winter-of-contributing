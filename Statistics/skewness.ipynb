{
 "cells": [
  {
   "cell_type": "markdown",
   "metadata": {},
   "source": [
    "# Statistics: Skewness #6953"
   ]
  },
  {
   "cell_type": "markdown",
   "metadata": {},
   "source": [
    "Skewness, in statistics, is the degree of asymmetry observed in a probability distribution. It is the distortion or asymmetry that deviates from the symmetrical bell curve. When the shape is moved right or left it is said to be skewed."
   ]
  },
  {
   "cell_type": "markdown",
   "metadata": {},
   "source": [
    "## Types of Skewness :"
   ]
  },
  {
   "cell_type": "markdown",
   "metadata": {},
   "source": [
    "<b>Right skew or positive skewness</b></i> : When most of the outliers or noise lie on the right of the distribution, it is said to be right-skew or positively skewed. The value of the right skew is greater than zero. In right skew, mean > median > mode.\n",
    "\n",
    "<b>Left skew or negative skewness</b></i> : When most of the outliers or noise lie on the left of the distribution, it is said to be left-skew or negatively skewed. The value of the right skew is greater than zero. In left skew or negative skew, mean < median < mode.\n",
    "\n",
    "Besides positive and negative skew, distributions can also be said to have zero or undefined skew. A normal distribution (bell curve) exhibits <b>zero skewness</b>.\n",
    "\n",
    "<img src = \"https://www.conversion-uplift.co.uk/wp-content/uploads/2020/06/Skewness-photo.png\"/>"
   ]
  },
  {
   "cell_type": "markdown",
   "metadata": {},
   "source": [
    "## Advantages of Skewness:"
   ]
  },
  {
   "cell_type": "markdown",
   "metadata": {},
   "source": [
    "1. Skewness is a measure that helps to understand the distribution of data points.\n",
    "2. It helps to identify outliers and noise data points.\n",
    "3. It also helps to roughly understand the frequencies of each data point.\n",
    "4. It considers the extremes of the data set rather than focusing solely on the average.\n",
    "5. understanding of the skewness of the dataset indicates whether deviations from the mean are going to be positive or negative."
   ]
  },
  {
   "cell_type": "markdown",
   "metadata": {},
   "source": [
    "## Disadvantages of Skewness :"
   ]
  },
  {
   "cell_type": "markdown",
   "metadata": {},
   "source": [
    "1. Skewness is unpredictable.\n",
    "2. The presence of outliers or noise also has an impact on accuracy and error."
   ]
  },
  {
   "cell_type": "markdown",
   "metadata": {},
   "source": [
    "## Measuring Skewness :"
   ]
  },
  {
   "cell_type": "markdown",
   "metadata": {},
   "source": [
    "There are several ways to calculate the skewness of the data distribution. One of which is Pearson’s first & second coefficients.\n",
    "The Formulae for Pearson's Skewness Are:\n",
    "\\begin{aligned} &\\begin{gathered} Sk _1 = \\frac {\\bar{X} - Mo}{s} \\\\ \\underline{\\qquad\\qquad\\qquad\\qquad\\qquad\\qquad\\qquad\\qquad\\qquad\\qquad\\qquad\\quad} \\\\ Sk _2 = \\frac {3\\bar{X} - Md}{s} \\end{gathered}\\\\ &\\textbf{where:}\\\\ &Sk_1=\\text{Pearson's first coefficient of skewness and }Sk_2\\\\ &\\qquad\\ \\ \\ \\text{ the second}\\\\ &s=\\text{the standard deviation for the sample}\\\\ &\\bar{X}=\\text{is the mean value}\\\\ &Mo=\\text{the modal (mode) value}\\\\ &Md=\\text{is the median value} \\end{aligned} "
   ]
  },
  {
   "cell_type": "markdown",
   "metadata": {},
   "source": [
    "## Conclusion:"
   ]
  },
  {
   "cell_type": "markdown",
   "metadata": {},
   "source": [
    "Skewness is simply how much data set is deviating from its normal distribution. In statistics, it plays an important role when distribution data is not normally distributed. The extreme data points into the data set can lead data distribution to skew towards left or towards right."
   ]
  }
 ],
 "metadata": {
  "kernelspec": {
   "display_name": "Python 3",
   "language": "python",
   "name": "python3"
  },
  "language_info": {
   "codemirror_mode": {
    "name": "ipython",
    "version": 3
   },
   "file_extension": ".py",
   "mimetype": "text/x-python",
   "name": "python",
   "nbconvert_exporter": "python",
   "pygments_lexer": "ipython3",
   "version": "3.8.5"
  }
 },
 "nbformat": 4,
 "nbformat_minor": 4
}
