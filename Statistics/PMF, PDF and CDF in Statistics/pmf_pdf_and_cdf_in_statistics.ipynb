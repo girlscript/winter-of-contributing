{
 "cells": [
  {
   "cell_type": "markdown",
   "metadata": {},
   "source": [
    "# Statistics: PMF, PDF and CDF in Statistics #6398"
   ]
  },
  {
   "cell_type": "markdown",
   "metadata": {},
   "source": [
    "The probability density function(PDF) is the probability of the value of a continuous random variable falling within a range or an interval. In case of discrete random variables probability mass function(PMF) can be used. The meaning of Cumulate is to gather or sum up. CDFs do the same. CDF is the probability of a random variable X to take a value lesser than or equal to x. The best part is CDFs are defined in the same way for both discrete and continuous variables."
   ]
  },
  {
   "cell_type": "markdown",
   "metadata": {},
   "source": [
    "## Calculating PMF in Python :"
   ]
  },
  {
   "cell_type": "code",
   "execution_count": 1,
   "metadata": {},
   "outputs": [],
   "source": [
    "# First import our libraries\n",
    "import pandas as pd\n",
    "import numpy as np\n",
    "import seaborn as sns\n",
    "import matplotlib.pyplot as plt"
   ]
  },
  {
   "cell_type": "code",
   "execution_count": 2,
   "metadata": {},
   "outputs": [
    {
     "data": {
      "image/png": "[encoded data removed]",
      "text/plain": [
       "<Figure size 432x288 with 1 Axes>"
      ]
     },
     "metadata": {
      "needs_background": "light"
     },
     "output_type": "display_data"
    }
   ],
   "source": [
    "# It is the function which describes the probability associated with the random variable x.\n",
    "# Let us roll a die for 100 times and plot the probability of outcomes.\n",
    "number_of_throws = 100\n",
    "our_outcomes = np.zeros(number_of_throws)\n",
    "for i in range(number_of_throws):\n",
    "    # let's roll the die\n",
    "    our_outcome = np.random.choice(['1', '2', '3', '4', '5', '6'])\n",
    "    our_outcomes[i] = our_outcome\n",
    "\n",
    "val, count = np.unique(our_outcomes, return_counts=True)\n",
    "probs = count / len(our_outcomes)\n",
    "\n",
    "# Now that we have rolled our die 100 times\n",
    "# let's plot the results\n",
    "plt.bar(val, probs)\n",
    "plt.ylabel(\"Probability\")\n",
    "plt.xlabel(\"Outcome\")\n",
    "plt.show()\n",
    "plt.close()"
   ]
  },
  {
   "cell_type": "markdown",
   "metadata": {},
   "source": [
    "## Calculating PDF and CDF in Python :"
   ]
  },
  {
   "cell_type": "code",
   "execution_count": 3,
   "metadata": {},
   "outputs": [],
   "source": [
    "# First import our libraries\n",
    "import pandas as pd\n",
    "import numpy as np\n",
    "import seaborn as sns\n",
    "import matplotlib.pyplot as plt"
   ]
  },
  {
   "cell_type": "code",
   "execution_count": 4,
   "metadata": {},
   "outputs": [
    {
     "data": {
      "text/html": [
       "<div>\n",
       "<style scoped>\n",
       "    .dataframe tbody tr th:only-of-type {\n",
       "        vertical-align: middle;\n",
       "    }\n",
       "\n",
       "    .dataframe tbody tr th {\n",
       "        vertical-align: top;\n",
       "    }\n",
       "\n",
       "    .dataframe thead th {\n",
       "        text-align: right;\n",
       "    }\n",
       "</style>\n",
       "<table border=\"1\" class=\"dataframe\">\n",
       "  <thead>\n",
       "    <tr style=\"text-align: right;\">\n",
       "      <th></th>\n",
       "      <th>Id</th>\n",
       "      <th>SepalLengthCm</th>\n",
       "      <th>SepalWidthCm</th>\n",
       "      <th>PetalLengthCm</th>\n",
       "      <th>PetalWidthCm</th>\n",
       "      <th>Species</th>\n",
       "    </tr>\n",
       "  </thead>\n",
       "  <tbody>\n",
       "    <tr>\n",
       "      <th>0</th>\n",
       "      <td>1</td>\n",
       "      <td>5.1</td>\n",
       "      <td>3.5</td>\n",
       "      <td>1.4</td>\n",
       "      <td>0.2</td>\n",
       "      <td>Iris-setosa</td>\n",
       "    </tr>\n",
       "    <tr>\n",
       "      <th>1</th>\n",
       "      <td>2</td>\n",
       "      <td>4.9</td>\n",
       "      <td>3.0</td>\n",
       "      <td>1.4</td>\n",
       "      <td>0.2</td>\n",
       "      <td>Iris-setosa</td>\n",
       "    </tr>\n",
       "    <tr>\n",
       "      <th>2</th>\n",
       "      <td>3</td>\n",
       "      <td>4.7</td>\n",
       "      <td>3.2</td>\n",
       "      <td>1.3</td>\n",
       "      <td>0.2</td>\n",
       "      <td>Iris-setosa</td>\n",
       "    </tr>\n",
       "    <tr>\n",
       "      <th>3</th>\n",
       "      <td>4</td>\n",
       "      <td>4.6</td>\n",
       "      <td>3.1</td>\n",
       "      <td>1.5</td>\n",
       "      <td>0.2</td>\n",
       "      <td>Iris-setosa</td>\n",
       "    </tr>\n",
       "    <tr>\n",
       "      <th>4</th>\n",
       "      <td>5</td>\n",
       "      <td>5.0</td>\n",
       "      <td>3.6</td>\n",
       "      <td>1.4</td>\n",
       "      <td>0.2</td>\n",
       "      <td>Iris-setosa</td>\n",
       "    </tr>\n",
       "  </tbody>\n",
       "</table>\n",
       "</div>"
      ],
      "text/plain": [
       "   Id  SepalLengthCm  SepalWidthCm  PetalLengthCm  PetalWidthCm      Species\n",
       "0   1            5.1           3.5            1.4           0.2  Iris-setosa\n",
       "1   2            4.9           3.0            1.4           0.2  Iris-setosa\n",
       "2   3            4.7           3.2            1.3           0.2  Iris-setosa\n",
       "3   4            4.6           3.1            1.5           0.2  Iris-setosa\n",
       "4   5            5.0           3.6            1.4           0.2  Iris-setosa"
      ]
     },
     "execution_count": 4,
     "metadata": {},
     "output_type": "execute_result"
    }
   ],
   "source": [
    "# Let us read the dataset\n",
    "iris=pd.read_csv('Downloads/Iris.csv')\n",
    "iris.head()"
   ]
  },
  {
   "cell_type": "code",
   "execution_count": 5,
   "metadata": {},
   "outputs": [
    {
     "data": {
      "text/plain": [
       "Iris-setosa        50\n",
       "Iris-versicolor    10\n",
       "Name: Species, dtype: int64"
      ]
     },
     "execution_count": 5,
     "metadata": {},
     "output_type": "execute_result"
    }
   ],
   "source": [
    "# How many species and their counts\n",
    "iris['Species'].value_counts()"
   ]
  },
  {
   "cell_type": "code",
   "execution_count": 6,
   "metadata": {},
   "outputs": [
    {
     "data": {
      "text/plain": [
       "1.5    14\n",
       "1.4    12\n",
       "1.3     7\n",
       "1.6     7\n",
       "1.7     4\n",
       "1.2     2\n",
       "1.9     2\n",
       "1.1     1\n",
       "1.0     1\n",
       "Name: PetalLengthCm, dtype: int64"
      ]
     },
     "execution_count": 6,
     "metadata": {},
     "output_type": "execute_result"
    }
   ],
   "source": [
    "# Let's see the lengths of petals of Iris-setosa \n",
    "iris_st=iris[iris['Species']==\"Iris-setosa\"]\n",
    "iris_st['PetalLengthCm'].value_counts()"
   ]
  },
  {
   "cell_type": "code",
   "execution_count": 7,
   "metadata": {},
   "outputs": [],
   "source": [
    "import numpy as np\n",
    "iris_setosa=iris.loc[iris[\"Species\"]==\"Iris-setosa\"];\n",
    "iris_versicolor=iris.loc[iris[\"Species\"]==\"Iris-versicolor\"];"
   ]
  },
  {
   "cell_type": "code",
   "execution_count": 8,
   "metadata": {},
   "outputs": [
    {
     "name": "stdout",
     "output_type": "stream",
     "text": [
      "counts for histogram\n",
      " [ 1  1  2  7 12 14  7  4  0  2]\n",
      "PDF is: \n",
      " [0.02 0.02 0.04 0.14 0.24 0.28 0.14 0.08 0.   0.04]\n"
     ]
    },
    {
     "data": {
      "text/plain": [
       "[<matplotlib.lines.Line2D at 0x1fd657c5a60>]"
      ]
     },
     "execution_count": 8,
     "metadata": {},
     "output_type": "execute_result"
    },
    {
     "data": {
      "image/png": "[encoded data removed]",
      "text/plain": [
       "<Figure size 432x288 with 1 Axes>"
      ]
     },
     "metadata": {
      "needs_background": "light"
     },
     "output_type": "display_data"
    }
   ],
   "source": [
    "# Now let us calculate the PDF points.\n",
    "\n",
    "my_counts, bin_edges = np.histogram(iris_st['PetalLengthCm'], bins=10, density = False)\n",
    "\n",
    "print(\"counts for histogram\\n\",my_counts)\n",
    "pdf = my_counts/(sum(my_counts))                        # Calculating Probability\n",
    "\n",
    "print(\"PDF is: \\n\",pdf);\n",
    "# Plotting the PDF\n",
    "plt.gca().legend(('Pdf'))\n",
    "plt.title('PDF for iris_setosa')\n",
    "plt.xlabel(\"Petal_length\")\n",
    "plt.ylabel(\"Percentage\")\n",
    "plt.plot(bin_edges[1:],pdf)"
   ]
  },
  {
   "cell_type": "code",
   "execution_count": 9,
   "metadata": {},
   "outputs": [
    {
     "name": "stdout",
     "output_type": "stream",
     "text": [
      "counts for histogram\n",
      " [ 1  1  2  7 12 14  7  4  0  2]\n",
      "CDF is: \n",
      " [0.02 0.04 0.08 0.22 0.46 0.74 0.88 0.96 0.96 1.  ]\n"
     ]
    },
    {
     "data": {
      "text/plain": [
       "[<matplotlib.lines.Line2D at 0x1fd65837d90>]"
      ]
     },
     "execution_count": 9,
     "metadata": {},
     "output_type": "execute_result"
    },
    {
     "data": {
      "image/png": "[encoded data removed]",
      "text/plain": [
       "<Figure size 432x288 with 1 Axes>"
      ]
     },
     "metadata": {
      "needs_background": "light"
     },
     "output_type": "display_data"
    }
   ],
   "source": [
    "# Now we will calculate CDF points for plotting\n",
    "\n",
    "my_counts, bin_edges = np.histogram(iris_st['PetalLengthCm'], bins=10, density = False)\n",
    "\n",
    "print(\"counts for histogram\\n\",my_counts)\n",
    "pdf = my_counts/(sum(my_counts))                        # Calculating Probability\n",
    "# Calculating CDF using numpy\n",
    "cdf = np.cumsum(pdf)\n",
    "print(\"CDF is: \\n\",cdf)                                 # Printing the CDF\n",
    "plt.gca().legend(('Cdf'))\n",
    "plt.title('CDF For iris_setosa')\n",
    "plt.xlabel(\"Petal length\")\n",
    "plt.ylabel(\"Percentage\")\n",
    "\n",
    "plt.plot(bin_edges[1:],cdf)"
   ]
  },
  {
   "cell_type": "code",
   "execution_count": 10,
   "metadata": {},
   "outputs": [
    {
     "data": {
      "image/png": "[encoded data removed]",
      "text/plain": [
       "<Figure size 432x288 with 1 Axes>"
      ]
     },
     "metadata": {
      "needs_background": "light"
     },
     "output_type": "display_data"
    }
   ],
   "source": [
    "# Now We will plot them in a single graph\n",
    "\n",
    "plt.plot(bin_edges[1:],pdf)\n",
    "plt.plot(bin_edges[1:], cdf)\n",
    "plt.gca().legend(('Pdf','Cdf'))\n",
    "plt.title('PDF and CDF For Iris Setosa')\n",
    "plt.xlabel(\"Petal_length\")\n",
    "plt.ylabel(\"Percentage\")\n",
    "plt.show();"
   ]
  },
  {
   "cell_type": "markdown",
   "metadata": {},
   "source": [
    "From the above code implementation, we can observe that PDF is shaped as a parabola, whereas the CDF is a non-decreasing slope. As PDF focuses on one certain value , CDF is continously updating value with the values less than or equal to it."
   ]
  }
 ],
 "metadata": {
  "kernelspec": {
   "display_name": "Python 3",
   "language": "python",
   "name": "python3"
  },
  "language_info": {
   "codemirror_mode": {
    "name": "ipython",
    "version": 3
   },
   "file_extension": ".py",
   "mimetype": "text/x-python",
   "name": "python",
   "nbconvert_exporter": "python",
   "pygments_lexer": "ipython3",
   "version": "3.8.5"
  }
 },
 "nbformat": 4,
 "nbformat_minor": 4
}
