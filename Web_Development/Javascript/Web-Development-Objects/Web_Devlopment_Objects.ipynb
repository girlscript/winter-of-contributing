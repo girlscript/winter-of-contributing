{
  "nbformat": 4,
  "nbformat_minor": 0,
  "metadata": {
    "colab": {
      "name": "Web Devlopment: Objects.ipynb",
      "provenance": [],
      "collapsed_sections": [],
      "include_colab_link": true
    },
    "kernelspec": {
      "name": "python3",
      "display_name": "Python 3"
    },
    "language_info": {
      "name": "python"
    }
  },
  "cells": [
    {
      "cell_type": "markdown",
      "metadata": {
        "id": "view-in-github",
        "colab_type": "text"
      },
      "source": [
        "<a href=\"https://colab.research.google.com/github/helper-uttam/Automatic-Website-Categorizers/blob/master/Web_Devlopment_Objects.ipynb\" target=\"_parent\"><img src=\"https://colab.research.google.com/assets/colab-badge.svg\" alt=\"Open In Colab\"/></a>"
      ]
    },
    {
      "cell_type": "markdown",
      "metadata": {
        "id": "-wsuT03mMani"
      },
      "source": [
        "# Contents to be covered in this particular notebook -\n",
        "* What are JavaScript Objects? ✔\n",
        "* How to define them? ✔\n",
        "* What are Getters and Setters? ✔\n",
        "* What are keys and values in Javascript Objects? ✔"
      ]
    },
    {
      "cell_type": "markdown",
      "metadata": {
        "id": "bLokkPtiMPI7"
      },
      "source": [
        "## What are JavaScript Objects?\n",
        "\n",
        "To understand this clearly let's think of some real world examples such as motorbike. We can consider motorbike as an object in real world and we often use the term \"property\" and \"functioning\" to differentiate one motorbike from others. Properties such as brand, color, body design, posture of motorbike, etc. And motorbike also performs some functioning like applingBrake(), accelerate() which defines the working of the objects.\n",
        "\n",
        "Now taking the above example of motorbike as consideration, We can easily understand objects in Javascript, they are more or less as same as that motorbike having different values and properties. In javascript objects consist of **values** instead of properties and **methods** in place of functioning. \n",
        "> Example- Object named person will be consisting of some values like name, age and methods like setSchoolName(), setNickName().\n",
        "\n",
        "So we can conclude that in javascript, Object consist of pair of values and may contain some methods as well. "
      ]
    },
    {
      "cell_type": "markdown",
      "metadata": {
        "id": "8OzbskQ5Tkjt"
      },
      "source": [
        "## How to define Javascript Objects?\n",
        "There is a pre-defined syntax in javascript to define objects, which is known as **key:value pair**, where `key` is a unique identifier for a particular `value` seperated by a colon. \n",
        "\n",
        "Let's dive deep into the `key:value pair` -\n",
        "\n",
        "The first term `key` represents the name of property of the object which should be declared in left side and the second term `value` contains the data related with its adjacent key which must be assigned at right side of corresponding keys.\n",
        ">Example- Let's create an object of person consisting of _first name, last name and age_. \n",
        "```\n",
        "const person = {\n",
        "    first_name: \"Uttam\", \n",
        "    last_name: \"kumar\",\n",
        "    age: 20\n",
        "};\n",
        "```\n",
        "\n",
        "###Extra tips for good practise-\n",
        "In the above example \n",
        "* **Keys** are `first_name`, `last_name` and `age` and their correspondng entries like \"Uttam\",\"Kumar\" and 20 are **values** ;\n",
        "* We had used `first_name` instead of `first name` because in every programing language space is counted as delimiter. So you have to be very careful from doing this mistake;\n",
        "* Strings should be wrapped either in ' '(single quotes) or in \" \"(double quotes);\n",
        ">It's good practise to use single quotes with characters and double quotes with Strings."
      ]
    },
    {
      "cell_type": "markdown",
      "metadata": {
        "id": "EIML9RAUZavO"
      },
      "source": [
        "## What are Getters and Setters?\n",
        "Getters and Setters are the methods used to define Object Accessors (Computed Properties).\n",
        "\n",
        "### Getters\n",
        "* Getters are used to get or fetch the values from the created objects.\n",
        "* Getters can be declared using `get` keyword.\n",
        ">Example-\n",
        "Let's create an object named _car_ consisting of properties like _color_, _brand_ and _noOfWheels_ and in this example we are also going to create one **getter** which will help us to get the value of _noOfWheels_(key).\n",
        "```\n",
        "const car = {\n",
        "  brand: \"honda\",\n",
        "  color: \"black\",\n",
        "  noOfWheels: 4,\n",
        "  get wheels(){return this.brand;}\n",
        "};\n",
        "console.log(car.wheels);\n",
        "```\n",
        "  **Output** => `4`\n",
        "\n",
        "####Explanation-\n",
        "* We are fetching the value of the key named `noOfWheels` using **getters** and dot operator(.);\n",
        "\n",
        "\n",
        "### Setters\n",
        "* Setters are used to set or assign the values in the created objects.\n",
        "* Setters can be declared using `set` keyword.\n",
        "* Setters requires value that has to be assigned as its parameter.\n",
        ">Example-\n",
        "Let's create similar object as above named _car_ consisting of properties like _color_, _brand_ and _noOfWheels_ and in this example we are also going to create one **setter** which will help us to set the value of _noOfWheels_(key).\n",
        "```\n",
        "const car = {\n",
        "  brand: \"honda\",\n",
        "  color: \"black\",\n",
        "  noOfWheels: 4,\n",
        "  set wheels(newValue){this.noOfWheels = newValue;}\n",
        "};\n",
        "car.wheels = 1;\n",
        "console.log(car.noOfWheels);\n",
        "```\n",
        "  **Output** => 1\n",
        "\n",
        "####Explanation-\n",
        "* We are assigning a new value to the key named `noOfWheels` using **setters** and dot operator(.);\n",
        "\n",
        "#### If you don't know about dot operator\n",
        "> Dot operator is denoted by fullstop `(.)` and it is used to access the values or properties inside any object. \n",
        "\n",
        "  **Syntax**\n",
        "\n",
        "  `nameOfObject.nameOfKey` will return the value corresponding to the mentioned key."
      ]
    },
    {
      "cell_type": "markdown",
      "metadata": {
        "id": "d6xiVV0VgbyX"
      },
      "source": [
        "## What are keys and values in Javascript Objects?\n"
      ]
    },
    {
      "cell_type": "markdown",
      "metadata": {
        "id": "Ds_A1lfIgu0P"
      },
      "source": [
        "As we had discussed earlier about **key:value pair**, let's discuss it again but in detail.\n",
        "### What are keys?\n",
        "* Key are the unique identifier of all the values inside the object. \n",
        "* Keys helps us to visualise an object in more easier way because it states about the value in a single word.\n",
        "* Key is often written in form a single word, but we can make use of _(underscores) to show multiple words.\n",
        "> Example- `nameOfCar` can be written as `name_of_car`.\n",
        "* Javascript provides a method called `Object.keys()` which will allow us to fetch all the keys of an object in one go.\n",
        "> Example-\n",
        "\n",
        "  ```\n",
        "  const object1 = {\n",
        "    a: 'somestring',\n",
        "    b: 42,\n",
        "    c: false\n",
        "  };\n",
        "  console.log(Object.values(object1));\n",
        "  Output : ['a', 'b', 'c'] \n",
        "  ```\n",
        "### What are values?\n",
        "* Values corresponding to its unique identifier called keys inside the object, is known as values. \n",
        "* Values can be written either in form of string, number, floating numbers,or booleans.\n",
        "* Javascript provides a method called `Object.values()` which will allow us to fetch all the values of an object in one go.\n",
        "> Example- \n",
        "\n",
        "  ```\n",
        "  const object1 = {\n",
        "    a: 'somestring',\n",
        "    b: 42,\n",
        "    c: false\n",
        "  };\n",
        "\n",
        "  console.log(Object.values(object1));\n",
        "  Output : ['something', '42', 'false'] \n",
        "  ```"
      ]
    }
  ]
}