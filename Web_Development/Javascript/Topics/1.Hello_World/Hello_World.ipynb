{
  "nbformat": 4,
  "nbformat_minor": 0,
  "metadata": {
    "colab": {
      "name": "Hello_World.ipynb",
      "provenance": [],
      "authorship_tag": "ABX9TyM7T1DdLZep3IMHUSTdk3jv",
      "include_colab_link": true
    },
    "kernelspec": {
      "name": "python3",
      "display_name": "Python 3"
    },
    "language_info": {
      "name": "python"
    }
  },
  "cells": [
    {
      "cell_type": "markdown",
      "metadata": {
        "id": "view-in-github",
        "colab_type": "text"
      },
      "source": [
        "<a href=\"https://colab.research.google.com/github/itika1/winter-of-contributing/blob/Javascript/Web_Development/Javascript/Topics/1.Hello_World/Hello_World.ipynb\" target=\"_parent\"><img src=\"https://colab.research.google.com/assets/colab-badge.svg\" alt=\"Open In Colab\"/></a>"
      ]
    },
    {
      "cell_type": "markdown",
      "metadata": {
        "id": "YdLrg0pv4lrw"
      },
      "source": [
        "# Create a \"Hello World\" Tutorial\n",
        "We will be creating a simple hello world tutorial for Javascript.\n",
        "## Description\n",
        "In this we will be learning how to write hello world in Javascript in 4 different ways.\n",
        "This is a simple program which prints Hello World as an output. Though it is very simple but it's often used to learn a new language to the beginners.\n",
        "\n",
        "The following are the ways to write Hello World in Javascript.\n",
        "\n",
        "### 1. Using **console.log**\n",
        "This is a most significant method for writing Hello World in Javascript.\n",
        "\n",
        "###  Source Code: "
      ]
    },
    {
      "cell_type": "code",
      "metadata": {
        "id": "ksJ4z5KK5XLB"
      },
      "source": [
        "console.log('Hello World');"
      ],
      "execution_count": null,
      "outputs": []
    },
    {
      "cell_type": "markdown",
      "metadata": {
        "id": "_pY_VNDV6Xf5"
      },
      "source": [
        "### Output:"
      ]
    },
    {
      "cell_type": "code",
      "metadata": {
        "id": "MaGU-bsH6eL7"
      },
      "source": [
        "Hello World"
      ],
      "execution_count": null,
      "outputs": []
    },
    {
      "cell_type": "markdown",
      "metadata": {
        "id": "R9V5jEbD6ut2"
      },
      "source": [
        "### Explanation\n",
        "This is the second line is the code to write Hello World.\n",
        "\n",
        "### 2. Using **alert** method\n",
        "If we want to run hello world script in an HTML page we should use alert method inside script tag. Javascript program can be inserted into an HTML document using <**script**> tag .\n",
        "\n",
        "###  Source Code: "
      ]
    },
    {
      "cell_type": "code",
      "metadata": {
        "id": "fLEm6VMp7he-"
      },
      "source": [
        "<!DOCTYPE HTML>\n",
        "<html>\n",
        "    <head>\n",
        "        <title>Insert alert tag</title>\n",
        "    </head>\n",
        "    <body>\n",
        "        <script>\n",
        "            alert('Hello World');\n",
        "        </script>\n",
        "    </body>\n",
        "</html>"
      ],
      "execution_count": null,
      "outputs": []
    },
    {
      "cell_type": "markdown",
      "metadata": {
        "id": "EZ_hzqHC7ipP"
      },
      "source": [
        "### Output:\n",
        "Whenever the page reloads it will show an alert like:"
      ]
    },
    {
      "cell_type": "code",
      "metadata": {
        "id": "2d38vDyx7qPz"
      },
      "source": [
        "This page says\n",
        "Hello World"
      ],
      "execution_count": null,
      "outputs": []
    },
    {
      "cell_type": "markdown",
      "metadata": {
        "id": "wMRt3GhY7xAF"
      },
      "source": [
        "### Explanation\n",
        "The alert() method displays an alert box with a specified message (here it is Hello World) and an OK button below the box.\n",
        "\n",
        "### 3. Using Node.js\n",
        "Now we will learn how to run a Hello World program in Node.js. The following are the steps to write script in Node.js\n",
        "\n",
        "1. Step 1: Create a folder like **'FirstNodeJs'** and inside that create a file like **'app.js'**.\n",
        "2. Step 2: Open the file app.js in any editor like Visual Studio Code and write the following piece of code."
      ]
    },
    {
      "cell_type": "code",
      "metadata": {
        "id": "iSOFScJJ8Bsh"
      },
      "source": [
        "var http = require('http');  \n",
        "    //create a server object:  \n",
        "  \n",
        "    http.createServer(function (request, response) {  \n",
        "    response.write('Hello World!'); //write a response to the client  \n",
        "    response.end(); //end the response  \n",
        "    }).listen(5000); //the server object listens on port 8080   \n",
        "  \n",
        "    // Console will print the message  \n",
        "    console.log('Server running at 5000');"
      ],
      "execution_count": null,
      "outputs": []
    },
    {
      "cell_type": "markdown",
      "metadata": {
        "id": "JkxXiK9U8KBf"
      },
      "source": [
        "3. Now open your command prompt by typing **cmd** in the start and open your folder using \n",
        "\n",
        "    ```cd FirstNodeJs```\n",
        "\n",
        "    Now run the Node.js file using\n",
        "\n",
        "    ```node app.js```\n",
        "\n",
        "4. Now the server is running at port 5000. You just type *localhost:5000* in your browser and press enter and you can find your Node.js app running.\n",
        "\n",
        "### Output:"
      ]
    },
    {
      "cell_type": "code",
      "metadata": {
        "id": "HA1ZWuON8hHH"
      },
      "source": [
        "Hello World"
      ],
      "execution_count": null,
      "outputs": []
    },
    {
      "cell_type": "markdown",
      "metadata": {
        "id": "Lv29Vx3l8n5N"
      },
      "source": [
        "### 4. Using **document.write()**\n",
        "Here's another way of writing hello world code in HTML document without using the most significant way console.log method.\n",
        "\n",
        "###  Source Code: "
      ]
    },
    {
      "cell_type": "code",
      "metadata": {
        "id": "6c278gny8raT"
      },
      "source": [
        "document.write(Hello World);"
      ],
      "execution_count": null,
      "outputs": []
    },
    {
      "cell_type": "markdown",
      "metadata": {
        "id": "jpJw-Ngl803_"
      },
      "source": [
        "### Output:"
      ]
    },
    {
      "cell_type": "code",
      "metadata": {
        "id": "pimL3esi9O8v"
      },
      "source": [
        "Hello World"
      ],
      "execution_count": null,
      "outputs": []
    },
    {
      "cell_type": "markdown",
      "metadata": {
        "id": "kPli8wwH9RoD"
      },
      "source": [
        "### Explanation\n",
        "Here's the line is the code to write Hello World.\n",
        "\n",
        "### Conclusion\n",
        "Bingo! 👍 You've succesfully leant how to write Hello World 👋 in Javascript. \n",
        "\n",
        "Happy Coding! \n",
        "\n",
        "*Documentation contributed by* [Itika](http://github.com/itika1) *with* 💖"
      ]
    }
  ]
}