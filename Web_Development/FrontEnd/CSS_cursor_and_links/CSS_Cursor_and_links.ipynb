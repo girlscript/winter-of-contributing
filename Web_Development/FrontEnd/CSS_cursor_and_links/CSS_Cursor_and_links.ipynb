{
  "nbformat": 4,
  "nbformat_minor": 0,
  "metadata": {
    "colab": {
      "name": "CSS_Cursor_and_links.ipynb",
      "provenance": [],
      "collapsed_sections": []
    },
    "kernelspec": {
      "name": "python3",
      "display_name": "Python 3"
    },
    "language_info": {
      "name": "python"
    }
  },
  "cells": [
    {
      "cell_type": "code",
      "metadata": {
        "id": "Ri5wd2wFAfFA"
      },
      "source": [
        ""
      ],
      "execution_count": null,
      "outputs": []
    },
    {
      "cell_type": "markdown",
      "metadata": {
        "id": "VulIrRA7Mtej"
      },
      "source": [
        "# **CSS CURSOR PROPERTY**\n",
        "\n"
      ]
    },
    {
      "cell_type": "markdown",
      "metadata": {
        "id": "-kP3Cpe8m1eT"
      },
      "source": [
        "A cursor is a indicator used to show current position for user interaction.The cursor property in CSS controls what the mouse cursor will look like when it is located over the element in which this property is set. Here are few of the properties-\n",
        "\n",
        "\n",
        "1.   auto   { cursor: auto; } - Shape of the cursor depends on the context area it is over.\n",
        "2.   default { cursor: default; } - An arrow\n",
        "3.   none { cursor: none; } - No cursor is rendered for the element\t\n",
        "4.   pointer         { cursor: pointer; } -The cursor is a pointer and indicates a link\n",
        "5.   crosshair       { cursor: crosshair; } - The cursor render as a crosshair\n",
        "6.   move            { cursor: move; } - The cursor indicates something is to be moved\n",
        "7.  no-drop         { cursor: no-drop; } - The cursor indicates that the dragged item cannot be dropped here\n",
        "8.  text            { cursor: text; } - The cursor indicates text that may be selected\n",
        "9. wait            { cursor: wait; } - The cursor indicates that the program is busy\n",
        "10. help            { cursor: help; } - A question mark or balloon, ideal for use over help buttons\n",
        "\n",
        "\n",
        "\n"
      ]
    },
    {
      "cell_type": "markdown",
      "metadata": {
        "id": "5LeCtB-KtWq3"
      },
      "source": [
        "# **STYLING LINKS**"
      ]
    },
    {
      "cell_type": "markdown",
      "metadata": {
        "id": "yyG88dH0u7n1"
      },
      "source": [
        "Links can be styled in numerous ways. There are four link states: \n",
        "\n",
        "\n",
        "1.   The *:link* signifies a normal, unvisited link.\n",
        "2.   The *:visited* signifies visited hyperlinks.\n",
        "3.   The *:hover* signifies a link where the user's mouse pointer is hovering over.\n",
        "4.   The *:active* signifies a link the moment it is clicked.\n",
        "<br>\n",
        "Example- \n",
        "\n",
        "\n",
        "```\n",
        "a:link {\n",
        "  color: green;\n",
        "}\n",
        "a:visited {\n",
        "  color: blue;\n",
        "}\n",
        "a:hover {\n",
        "  color: red;\n",
        "}\n",
        "a:active {\n",
        "  color: yellow;\n",
        "}\n",
        "```\n",
        "<br>\n",
        "\n",
        "\n",
        "\n"
      ]
    },
    {
      "cell_type": "markdown",
      "metadata": {
        "id": "g_DQSHfp0g1Y"
      },
      "source": [
        "### **Set the Color of Visited Links**\n",
        "This uses :visited\n",
        "\n",
        "\n",
        "```\n",
        "<html>\n",
        "   <head>\n",
        "      <style type = \"text/css\">\n",
        "         a:visited {color: #006600}\n",
        "      </style>\n",
        "   </head>\n",
        "\n",
        "   <body>\n",
        "      <a href = \"\"> link</a> \n",
        "   </body>\n",
        "</html> \n",
        "```\n",
        "\n"
      ]
    },
    {
      "cell_type": "markdown",
      "metadata": {
        "id": "yybFsgQZ1BFv"
      },
      "source": [
        "### **Text Decoration**\n",
        "The text-decoration property is mostly used to remove underlines from links.\n",
        "\n",
        "\n",
        "```\n",
        "a:link {\n",
        "  text-decoration: none;}\n",
        "a:visited {\n",
        "  text-decoration: none;}\n",
        "a:hover {\n",
        "  text-decoration: underline;}\n",
        "a:active {\n",
        "  text-decoration: underline;}\n",
        "```\n",
        "\n",
        "\n"
      ]
    },
    {
      "cell_type": "markdown",
      "metadata": {
        "id": "V1xXKxVy4IlV"
      },
      "source": [
        "### **Change the Color of Links when Mouse is Over**\n",
        "This uses :hover\n",
        "\n",
        "\n",
        "```\n",
        "<html>\n",
        "   <head>\n",
        "      <style type = \"text/css\">\n",
        "         a:hover {color: #FFCC00}\n",
        "      </style>\n",
        "   </head>\n",
        "\n",
        "   <body>\n",
        "      <a href = \"\">Link</a>\n",
        "   </body>\n",
        "</html>\n",
        "```\n",
        "\n"
      ]
    },
    {
      "cell_type": "markdown",
      "metadata": {
        "id": "22HJUzHK4jMX"
      },
      "source": [
        "### References\n",
        "[W3schools](https://www.w3schools.com/cssref/pr_class_cursor.asp)\n",
        "<br>\n",
        "[tutorialspoint](https://www.tutorialspoint.com/css/css_links.htm)"
      ]
    }
  ]
}
