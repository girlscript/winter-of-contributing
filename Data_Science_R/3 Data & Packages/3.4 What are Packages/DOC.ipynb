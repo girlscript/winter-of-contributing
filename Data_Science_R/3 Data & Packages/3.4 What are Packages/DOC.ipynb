{
  "nbformat": 4,
  "nbformat_minor": 0,
  "metadata": {
    "colab": {
      "name": "Data_And_Packages_What_Are_Packages_In_R.ipynb",
      "provenance": [],
      "collapsed_sections": []
    },
    "kernelspec": {
      "name": "ir",
      "display_name": "R"
    },
    "language_info": {
      "name": "R"
    }
  },
  "cells": [
    {
      "cell_type": "markdown",
      "metadata": {
        "id": "OlG-xEx8HM15"
      },
      "source": [
        "## Define R Packages?\n",
        "- R Packages are collections of R functions, data, and compiled code in a well-defined format, created to add specific functionality."
      ]
    },
    {
      "cell_type": "markdown",
      "metadata": {
        "id": "5st9X6PnIhh_"
      },
      "source": [
        "# Basic Information About R Packages \n",
        "- There are a set of standard (or base) packages that are considered part of the R source code and automatically available as part of your R installation.\n",
        "- Base packages contain the basic functions that allow R to work, and enable standard statistical and graphical functions on datasets\n",
        "- More Packages can be installed as per our specific purpose.\n",
        "- R packages are stored under a directory called \"library\" in the R environment."
      ]
    },
    {
      "cell_type": "code",
      "metadata": {
        "colab": {
          "base_uri": "https://localhost:8080/",
          "height": 34
        },
        "id": "lFUNILEFpisl",
        "outputId": "4a91fcdf-b35b-4cff-b19c-2de32cacf73e"
      },
      "source": [
        "# find path to library directory where your R Packages are stored.\n",
        "# This result may vary depending on the systems where you run the command.\n",
        ".libPaths()"
      ],
      "execution_count": 12,
      "outputs": [
        {
          "output_type": "display_data",
          "data": {
            "text/plain": [
              "[1] \"/usr/local/lib/R/site-library\" \"/usr/lib/R/site-library\"      \n",
              "[3] \"/usr/lib/R/library\"           "
            ],
            "text/latex": "\\begin{enumerate*}\n\\item '/usr/local/lib/R/site-library'\n\\item '/usr/lib/R/site-library'\n\\item '/usr/lib/R/library'\n\\end{enumerate*}\n",
            "text/markdown": "1. '/usr/local/lib/R/site-library'\n2. '/usr/lib/R/site-library'\n3. '/usr/lib/R/library'\n\n\n",
            "text/html": [
              "<style>\n",
              ".list-inline {list-style: none; margin:0; padding: 0}\n",
              ".list-inline>li {display: inline-block}\n",
              ".list-inline>li:not(:last-child)::after {content: \"\\00b7\"; padding: 0 .5ex}\n",
              "</style>\n",
              "<ol class=list-inline><li>'/usr/local/lib/R/site-library'</li><li>'/usr/lib/R/site-library'</li><li>'/usr/lib/R/library'</li></ol>\n"
            ]
          },
          "metadata": {}
        }
      ]
    },
    {
      "cell_type": "markdown",
      "metadata": {
        "id": "k9ekHs86KL8i"
      },
      "source": [
        "# How Can I find the list of all available packages?\n",
        "- There is an official website of CRAN (Comprehensive R Archive Network is the official R repository. All packages have been tested automatically and meet the CRAN policy.) Where you find all available packages with their documentation.\n",
        "\n",
        "- You can visit this official site of CRAN from this Link [CRAN_Available_Packages](https://cran.r-project.org/web/packages/available_packages_by_name.html)"
      ]
    },
    {
      "cell_type": "markdown",
      "metadata": {
        "id": "RiWdjKmlqkTG"
      },
      "source": [
        "# How Can I find the list of installed packages in my system?\n",
        "- There is a simple command library() that gives you the list of packages installed in the system."
      ]
    },
    {
      "cell_type": "code",
      "metadata": {
        "id": "z1KpsEKBtEUb"
      },
      "source": [
        "library()"
      ],
      "execution_count": 13,
      "outputs": []
    },
    {
      "cell_type": "markdown",
      "metadata": {
        "id": "Y74JcnAqKMDx"
      },
      "source": [
        "# How Can I install And use R Packages\n",
        "\n",
        "1. Installing R packages from CRAN\n",
        "  * Function to install R packages\n",
        "  * Installing the CRAN packages with the menu\n",
        "2. Installing packages in R from zip source\n",
        "3. Install multiple packages at once\n",
        "4. Install R packages from GitHub or GitLab\n",
        "and many more..."
      ]
    },
    {
      "cell_type": "markdown",
      "metadata": {
        "id": "dAfCRDXfqRkT"
      },
      "source": [
        "# Installing R Packages From CRAN\n",
        "\n",
        "- Function to install R packages\n",
        "\n",
        "  ```\n",
        "# install.packages(\"name of the package with quotation mark\")\n",
        "  ```\n",
        "\n",
        "\n",
        "- Installing the CRAN packages with the menu\n",
        "  - In RStudio go to ***Tools*** → ***Install Packages*** and in the ***Install from*** option select ***Repository (CRAN)*** and then specify the packages you want.\n",
        "  - In classic R IDE go to ***Packages*** → ***Install package(s)***, select a mirror and install the package.\n",
        "- Loading installed package into the current workspace\n",
        "  - After installation, you need to load the package if you want to access its functions. \n",
        "  - For that purpose, you can load it with the library function, specifying the package name with or without quotation marks.\n",
        "```\n",
        "library(\"name of the package with or without quotation mark\")\n",
        "```"
      ]
    },
    {
      "cell_type": "code",
      "metadata": {
        "colab": {
          "base_uri": "https://localhost:8080/"
        },
        "id": "P0E8H1bIqQZS",
        "outputId": "9b5114a0-a6c9-4579-9f20-fc6fd9600f6c"
      },
      "source": [
        "# here is example of insalling \"calendeR\" Package\n",
        "install.packages(\"ggplot2\")\n",
        "library(\"ggplot2\")"
      ],
      "execution_count": 14,
      "outputs": [
        {
          "output_type": "stream",
          "name": "stderr",
          "text": [
            "Installing package into ‘/usr/local/lib/R/site-library’\n",
            "(as ‘lib’ is unspecified)\n",
            "\n"
          ]
        }
      ]
    },
    {
      "cell_type": "markdown",
      "metadata": {
        "id": "f6VGV-tUxOqS"
      },
      "source": [
        "# Installing packages in R from zip source\n",
        "- First, you have to download the package which you want to install.\n",
        "- You may download a package in zipping or tar.gz file format.\n",
        "- To install the package you need to call the install.packages function with arguments repos = NULL and type = \"source\".\n",
        "- **Please check if your file path doesn't contain any spaces.**\n",
        "\n",
        "\n",
        "\n",
        "```\n",
        "# Set working directory to which where you downloaded package is present.\n",
        "# If your downloaded packages are in D drive --> package folder \n",
        "setwd(\"D:/packages\")\n",
        "\n",
        "# installing package in R from zip source. \n",
        "install.packages(\"dplyr_1.0.7.zip\", repos = NULL, type = \"source\")\n",
        "\n",
        "# installing package in R with extracting zip source. \n",
        "install.packages(\"calendR\", repos = NULL, type = \"source\") \n",
        "\n",
        "# Installing a package with tar.gz file formate.\n",
        "install. packages(\"dplyr_1.0.7.tar.gz\", repos = NULL, type = \"source\") \n",
        "```"
      ]
    },
    {
      "cell_type": "markdown",
      "metadata": {
        "id": "tdqKxx2v42fE"
      },
      "source": [
        "# Install multiple packages at once\n",
        "- if you need to install multiple packages at once then you can make use of the c function within the install.packages function. \n",
        "- Note that now the quotation marks are needed to specify the package's names."
      ]
    },
    {
      "cell_type": "code",
      "metadata": {
        "id": "2AxRPvwg5LnX",
        "colab": {
          "base_uri": "https://localhost:8080/"
        },
        "outputId": "2dda24d7-b44c-416e-ed9e-eeb6ee4d8450"
      },
      "source": [
        "install.packages(c(\"ggplot2\", \"dplyr\"))"
      ],
      "execution_count": 15,
      "outputs": [
        {
          "output_type": "stream",
          "name": "stderr",
          "text": [
            "Installing packages into ‘/usr/local/lib/R/site-library’\n",
            "(as ‘lib’ is unspecified)\n",
            "\n"
          ]
        }
      ]
    },
    {
      "cell_type": "markdown",
      "metadata": {
        "id": "Nt_-2P3i53Xg"
      },
      "source": [
        "# Install R packages from GitHub or GitLab\n",
        "- When you find some interesting packages on GitHub or GitLab you will want to try them in your environment so here is the way you can find an interesting package from GitHub \n",
        "- Just type ***plot package language: R*** in Search Bar\n",
        "- Select the package Go to Green Button of ***CODE*** -> ***HTTPS*** -> ***Copy HTTPS Path***\n",
        "- The first step is to install and load the devtools package, available in CRAN. \n",
        "- In case you encounter some error means you also need to install the Rtools."
      ]
    },
    {
      "cell_type": "code",
      "metadata": {
        "colab": {
          "base_uri": "https://localhost:8080/"
        },
        "id": "1stVOohx8B0F",
        "outputId": "447e944d-013c-4862-804c-2e7586235bb4"
      },
      "source": [
        "install.packages(\"devtools\")\n",
        "library(devtools)"
      ],
      "execution_count": null,
      "outputs": [
        {
          "output_type": "stream",
          "name": "stderr",
          "text": [
            "Installing package into ‘/usr/local/lib/R/site-library’\n",
            "(as ‘lib’ is unspecified)\n",
            "\n",
            "Loading required package: usethis\n",
            "\n"
          ]
        }
      ]
    },
    {
      "cell_type": "code",
      "metadata": {
        "colab": {
          "base_uri": "https://localhost:8080/"
        },
        "id": "mqnbN1Km8FZk",
        "outputId": "a0e2cf93-be28-4d2c-a53f-39f4d9b31230"
      },
      "source": [
        "# Installing ggplot2 from GitHub\n",
        "# if https://github.com/dkahle/ggmap.git than type install_github(\"dkahle/ggmap\")\n",
        "install_github(\"tidyverse/ggplot2\")"
      ],
      "execution_count": null,
      "outputs": [
        {
          "output_type": "stream",
          "name": "stderr",
          "text": [
            "Downloading GitHub repo tidyverse/ggplot2@HEAD\n",
            "\n"
          ]
        },
        {
          "output_type": "stream",
          "name": "stdout",
          "text": [
            "digest (0.6.27 -> 0.6.28) [CRAN]\n"
          ]
        },
        {
          "output_type": "stream",
          "name": "stderr",
          "text": [
            "Installing 1 packages: digest\n",
            "\n",
            "Installing package into ‘/usr/local/lib/R/site-library’\n",
            "(as ‘lib’ is unspecified)\n",
            "\n"
          ]
        },
        {
          "output_type": "stream",
          "name": "stdout",
          "text": [
            "\u001b[32m✔\u001b[39m  \u001b[90mchecking for file ‘/tmp/RtmpsqZJi5/remotes4110dfbfe7/tidyverse-ggplot2-759c63c/DESCRIPTION’\u001b[39m\u001b[36m\u001b[39m\n",
            "\u001b[90m─\u001b[39m\u001b[90m  \u001b[39m\u001b[90mpreparing ‘ggplot2’:\u001b[39m\u001b[36m\u001b[39m\n",
            "\u001b[32m✔\u001b[39m  \u001b[90mchecking DESCRIPTION meta-information\u001b[39m\u001b[36m\u001b[39m\n",
            "\u001b[90m─\u001b[39m\u001b[90m  \u001b[39m\u001b[90mchecking for LF line-endings in source and make files and shell scripts\u001b[39m\u001b[36m\u001b[36m (366ms)\u001b[36m\u001b[39m\n",
            "\u001b[90m─\u001b[39m\u001b[90m  \u001b[39m\u001b[90mchecking for empty or unneeded directories\u001b[39m\u001b[36m\u001b[39m\n",
            "\u001b[90m─\u001b[39m\u001b[90m  \u001b[39m\u001b[90mbuilding ‘ggplot2_3.3.5.9000.tar.gz’\u001b[39m\u001b[36m\u001b[39m\n",
            "   \n"
          ]
        },
        {
          "output_type": "stream",
          "name": "stderr",
          "text": [
            "Installing package into ‘/usr/local/lib/R/site-library’\n",
            "(as ‘lib’ is unspecified)\n",
            "\n"
          ]
        }
      ]
    },
    {
      "cell_type": "markdown",
      "metadata": {
        "id": "Gus7my-8tgCw"
      },
      "source": [
        "# Get all Packages Currently loaded into R environment.\n"
      ]
    },
    {
      "cell_type": "code",
      "metadata": {
        "colab": {
          "base_uri": "https://localhost:8080/",
          "height": 51
        },
        "id": "H8ajed8dttJ1",
        "outputId": "02a761d2-43d9-43e4-8a27-d79f4cad1dc3"
      },
      "source": [
        "search()"
      ],
      "execution_count": 16,
      "outputs": [
        {
          "output_type": "display_data",
          "data": {
            "text/plain": [
              " [1] \".GlobalEnv\"        \"package:devtools\"  \"package:usethis\"  \n",
              " [4] \"package:ggplot2\"   \"jupyter:irkernel\"  \"package:stats\"    \n",
              " [7] \"package:graphics\"  \"package:grDevices\" \"package:utils\"    \n",
              "[10] \"package:datasets\"  \"package:methods\"   \"Autoloads\"        \n",
              "[13] \"package:base\"     "
            ],
            "text/latex": "\\begin{enumerate*}\n\\item '.GlobalEnv'\n\\item 'package:devtools'\n\\item 'package:usethis'\n\\item 'package:ggplot2'\n\\item 'jupyter:irkernel'\n\\item 'package:stats'\n\\item 'package:graphics'\n\\item 'package:grDevices'\n\\item 'package:utils'\n\\item 'package:datasets'\n\\item 'package:methods'\n\\item 'Autoloads'\n\\item 'package:base'\n\\end{enumerate*}\n",
            "text/markdown": "1. '.GlobalEnv'\n2. 'package:devtools'\n3. 'package:usethis'\n4. 'package:ggplot2'\n5. 'jupyter:irkernel'\n6. 'package:stats'\n7. 'package:graphics'\n8. 'package:grDevices'\n9. 'package:utils'\n10. 'package:datasets'\n11. 'package:methods'\n12. 'Autoloads'\n13. 'package:base'\n\n\n",
            "text/html": [
              "<style>\n",
              ".list-inline {list-style: none; margin:0; padding: 0}\n",
              ".list-inline>li {display: inline-block}\n",
              ".list-inline>li:not(:last-child)::after {content: \"\\00b7\"; padding: 0 .5ex}\n",
              "</style>\n",
              "<ol class=list-inline><li>'.GlobalEnv'</li><li>'package:devtools'</li><li>'package:usethis'</li><li>'package:ggplot2'</li><li>'jupyter:irkernel'</li><li>'package:stats'</li><li>'package:graphics'</li><li>'package:grDevices'</li><li>'package:utils'</li><li>'package:datasets'</li><li>'package:methods'</li><li>'Autoloads'</li><li>'package:base'</li></ol>\n"
            ]
          },
          "metadata": {}
        }
      ]
    },
    {
      "cell_type": "markdown",
      "metadata": {
        "id": "BNN0XpDSHRt5"
      },
      "source": [
        "# Why do we need Packages?\n",
        "- The functions that R provides by default are limited, so as per our need we required extra functionality with ease of access so we need R packages.\n",
        "- R packages provide a simple way to distribute R code and documentation."
      ]
    }
  ]
}
