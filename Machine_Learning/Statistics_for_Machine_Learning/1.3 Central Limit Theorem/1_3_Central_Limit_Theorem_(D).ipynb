{
  "nbformat": 4,
  "nbformat_minor": 0,
  "metadata": {
    "colab": {
      "name": "1.3_Central Limit Theorem (D).ipynb",
      "provenance": []
    },
    "kernelspec": {
      "name": "python3",
      "display_name": "Python 3"
    },
    "language_info": {
      "name": "python"
    }
  },
  "cells": [
    {
      "cell_type": "markdown",
      "metadata": {
        "id": "Ju0-0V40GKi3"
      },
      "source": [
        "# Central Limit Theorem Implementation Example in Iris Dataset\n"
      ]
    },
    {
      "cell_type": "code",
      "metadata": {
        "id": "-MO3kHtYFjQg"
      },
      "source": [
        "#importing libraries\n",
        "import numpy as np \n",
        "import pandas as pd \n",
        "import matplotlib.pyplot as plt\n",
        "import os\n",
        "%matplotlib inline  "
      ],
      "execution_count": 68,
      "outputs": []
    },
    {
      "cell_type": "code",
      "metadata": {
        "id": "KOrIzEUSUIy-"
      },
      "source": [
        "df = pd.read_csv(\"Iris.csv\")    #reading the csv file"
      ],
      "execution_count": 69,
      "outputs": []
    },
    {
      "cell_type": "code",
      "metadata": {
        "colab": {
          "base_uri": "https://localhost:8080/"
        },
        "id": "MWNKYgWmldhd",
        "outputId": "31f14b1d-d356-45ee-ebeb-c0b196bf2a6b"
      },
      "source": [
        "df.info()   #information about the dataset"
      ],
      "execution_count": 70,
      "outputs": [
        {
          "output_type": "stream",
          "name": "stdout",
          "text": [
            "<class 'pandas.core.frame.DataFrame'>\n",
            "RangeIndex: 150 entries, 0 to 149\n",
            "Data columns (total 6 columns):\n",
            " #   Column         Non-Null Count  Dtype  \n",
            "---  ------         --------------  -----  \n",
            " 0   Id             150 non-null    int64  \n",
            " 1   SepalLengthCm  150 non-null    float64\n",
            " 2   SepalWidthCm   150 non-null    float64\n",
            " 3   PetalLengthCm  150 non-null    float64\n",
            " 4   PetalWidthCm   150 non-null    float64\n",
            " 5   Species        150 non-null    object \n",
            "dtypes: float64(4), int64(1), object(1)\n",
            "memory usage: 7.2+ KB\n"
          ]
        }
      ]
    },
    {
      "cell_type": "code",
      "metadata": {
        "colab": {
          "base_uri": "https://localhost:8080/",
          "height": 203
        },
        "id": "8A9y8XGlWcaq",
        "outputId": "9b5ffe97-8f3e-4dd1-deae-90b9809e7143"
      },
      "source": [
        "df.head(5)  # to print 5 rows of the dataset"
      ],
      "execution_count": 71,
      "outputs": [
        {
          "output_type": "execute_result",
          "data": {
            "text/html": [
              "<div>\n",
              "<style scoped>\n",
              "    .dataframe tbody tr th:only-of-type {\n",
              "        vertical-align: middle;\n",
              "    }\n",
              "\n",
              "    .dataframe tbody tr th {\n",
              "        vertical-align: top;\n",
              "    }\n",
              "\n",
              "    .dataframe thead th {\n",
              "        text-align: right;\n",
              "    }\n",
              "</style>\n",
              "<table border=\"1\" class=\"dataframe\">\n",
              "  <thead>\n",
              "    <tr style=\"text-align: right;\">\n",
              "      <th></th>\n",
              "      <th>Id</th>\n",
              "      <th>SepalLengthCm</th>\n",
              "      <th>SepalWidthCm</th>\n",
              "      <th>PetalLengthCm</th>\n",
              "      <th>PetalWidthCm</th>\n",
              "      <th>Species</th>\n",
              "    </tr>\n",
              "  </thead>\n",
              "  <tbody>\n",
              "    <tr>\n",
              "      <th>0</th>\n",
              "      <td>1</td>\n",
              "      <td>5.1</td>\n",
              "      <td>3.5</td>\n",
              "      <td>1.4</td>\n",
              "      <td>0.2</td>\n",
              "      <td>Iris-setosa</td>\n",
              "    </tr>\n",
              "    <tr>\n",
              "      <th>1</th>\n",
              "      <td>2</td>\n",
              "      <td>4.9</td>\n",
              "      <td>3.0</td>\n",
              "      <td>1.4</td>\n",
              "      <td>0.2</td>\n",
              "      <td>Iris-setosa</td>\n",
              "    </tr>\n",
              "    <tr>\n",
              "      <th>2</th>\n",
              "      <td>3</td>\n",
              "      <td>4.7</td>\n",
              "      <td>3.2</td>\n",
              "      <td>1.3</td>\n",
              "      <td>0.2</td>\n",
              "      <td>Iris-setosa</td>\n",
              "    </tr>\n",
              "    <tr>\n",
              "      <th>3</th>\n",
              "      <td>4</td>\n",
              "      <td>4.6</td>\n",
              "      <td>3.1</td>\n",
              "      <td>1.5</td>\n",
              "      <td>0.2</td>\n",
              "      <td>Iris-setosa</td>\n",
              "    </tr>\n",
              "    <tr>\n",
              "      <th>4</th>\n",
              "      <td>5</td>\n",
              "      <td>5.0</td>\n",
              "      <td>3.6</td>\n",
              "      <td>1.4</td>\n",
              "      <td>0.2</td>\n",
              "      <td>Iris-setosa</td>\n",
              "    </tr>\n",
              "  </tbody>\n",
              "</table>\n",
              "</div>"
            ],
            "text/plain": [
              "   Id  SepalLengthCm  SepalWidthCm  PetalLengthCm  PetalWidthCm      Species\n",
              "0   1            5.1           3.5            1.4           0.2  Iris-setosa\n",
              "1   2            4.9           3.0            1.4           0.2  Iris-setosa\n",
              "2   3            4.7           3.2            1.3           0.2  Iris-setosa\n",
              "3   4            4.6           3.1            1.5           0.2  Iris-setosa\n",
              "4   5            5.0           3.6            1.4           0.2  Iris-setosa"
            ]
          },
          "metadata": {},
          "execution_count": 71
        }
      ]
    },
    {
      "cell_type": "code",
      "metadata": {
        "colab": {
          "base_uri": "https://localhost:8080/"
        },
        "id": "Gsk9XmEcWbcJ",
        "outputId": "924df9d7-2463-4e86-de4d-15755c8f837a"
      },
      "source": [
        "df_sw = df['SepalWidthCm']\n",
        "df_sw.describe()  #statstics of the SepalWidthCm column"
      ],
      "execution_count": 72,
      "outputs": [
        {
          "output_type": "execute_result",
          "data": {
            "text/plain": [
              "count    150.000000\n",
              "mean       3.054000\n",
              "std        0.433594\n",
              "min        2.000000\n",
              "25%        2.800000\n",
              "50%        3.000000\n",
              "75%        3.300000\n",
              "max        4.400000\n",
              "Name: SepalWidthCm, dtype: float64"
            ]
          },
          "metadata": {},
          "execution_count": 72
        }
      ]
    },
    {
      "cell_type": "code",
      "metadata": {
        "colab": {
          "base_uri": "https://localhost:8080/"
        },
        "id": "DufVUJs2UIun",
        "outputId": "075d72fb-d504-42a9-c194-e00e7bac18e7"
      },
      "source": [
        "df_sw.mean()    #printing the mean of the Sepal Width "
      ],
      "execution_count": 73,
      "outputs": [
        {
          "output_type": "execute_result",
          "data": {
            "text/plain": [
              "3.0540000000000007"
            ]
          },
          "metadata": {},
          "execution_count": 73
        }
      ]
    },
    {
      "cell_type": "code",
      "metadata": {
        "colab": {
          "base_uri": "https://localhost:8080/",
          "height": 312
        },
        "id": "jlebOGAQVQXP",
        "outputId": "921f9fff-dce3-4c98-dfd4-bba9ff7c66d6"
      },
      "source": [
        "# plotting the SepalWidthCm column to find frequency\n",
        "plt.hist(df_sw, bins=100)\n",
        "plt.xlabel('Sepal Width in Cm')\n",
        "plt.ylabel('Frequency')\n",
        "plt.title('Histogram of Sepal Width frequency')\n",
        "plt.axvline(x=df_sw.mean(),color='r')"
      ],
      "execution_count": 74,
      "outputs": [
        {
          "output_type": "execute_result",
          "data": {
            "text/plain": [
              "<matplotlib.lines.Line2D at 0x7f1e864c6810>"
            ]
          },
          "metadata": {},
          "execution_count": 74
        },
        {
          "output_type": "display_data",
          "data": {
            "image/png": "[encoded data removed]",
            "text/plain": [
              "<Figure size 432x288 with 1 Axes>"
            ]
          },
          "metadata": {
            "needs_background": "light"
          }
        }
      ]
    },
    {
      "cell_type": "markdown",
      "metadata": {
        "id": "AP9JAF3zVbFb"
      },
      "source": [
        "From the above histogram we can see the vertical red line(mean of data) is almost at the centre of main distribution.\n",
        "Most of the distribution is in normal but not 100%.\n"
      ]
    },
    {
      "cell_type": "code",
      "metadata": {
        "colab": {
          "base_uri": "https://localhost:8080/",
          "height": 312
        },
        "id": "Mq7xhMKyVQO4",
        "outputId": "1c44566e-2c70-49db-9136-666874d0a33d"
      },
      "source": [
        "#Taking sample size=10, samples=300\n",
        "\n",
        "array = []\n",
        "n = 300\n",
        "for i in range(1,n):\n",
        "    array.append(df_sw.sample(n=30,replace= True).mean())\n",
        "\n",
        "plt.hist(array, bins=100)\n",
        "plt.xlabel('Sepal Width in cm')\n",
        "plt.ylabel('Frequency')\n",
        "plt.title('Histogram of Sepal Width frequency')\n",
        "plt.axvline(x=np.mean(array),color='r') "
      ],
      "execution_count": 75,
      "outputs": [
        {
          "output_type": "execute_result",
          "data": {
            "text/plain": [
              "<matplotlib.lines.Line2D at 0x7f1e8c30e350>"
            ]
          },
          "metadata": {},
          "execution_count": 75
        },
        {
          "output_type": "display_data",
          "data": {
            "image/png": "[encoded data removed]",
            "text/plain": [
              "<Figure size 432x288 with 1 Axes>"
            ]
          },
          "metadata": {
            "needs_background": "light"
          }
        }
      ]
    },
    {
      "cell_type": "code",
      "metadata": {
        "colab": {
          "base_uri": "https://localhost:8080/",
          "height": 343
        },
        "id": "tNnu_muuVQMy",
        "outputId": "1215a410-6b44-487c-cf85-a2888edbb51b"
      },
      "source": [
        "#Taking sample size=20, 60 & 100 samples=150\n",
        "#Calculate the arithmetice mean and plot the mean of sample \n",
        "\n",
        "array1 = []\n",
        "array2 = []\n",
        "array3 = []\n",
        "n = 150\n",
        "for i in range(1,n):\n",
        "    array1.append(df_sw.sample(n=20,replace= True).mean())\n",
        "    array2.append(df_sw.sample(n=60,replace= True).mean())\n",
        "    array3.append(df_sw.sample(n=100,replace= True).mean())\n",
        "\n",
        "fig , (ax1,ax2,ax3) = plt.subplots(nrows=1, ncols=3,figsize=(18,5))\n",
        "\n",
        "#plt.subplot(311)\n",
        "ax1.hist(array1, bins=100)\n",
        "ax1.set_xlabel('Sepal Width')\n",
        "ax1.set_ylabel('frequency')\n",
        "ax1.set_title('Sample size = 20')\n",
        "ax1.axvline(x=np.mean(array1),color='r') # for mean line\n",
        "\n",
        "print('1. The Mean Sample is  %f different the original mean for the Sepal Width in cm. (for sample size=20)' % (df_sw.mean() - pd.Series(array1).mean()))\n",
        "\n",
        "#ax2.subplot(312)\n",
        "ax2.hist(array2, bins=100, color='green')\n",
        "ax2.set_xlabel('Sepal Width')\n",
        "ax2.set_ylabel('frequency')\n",
        "ax2.set_title('Sample size = 60')\n",
        "ax2.axvline(x=np.mean(array2),color='r') \n",
        "\n",
        "print('2. The Mean Sample is  %f different the original mean for the Sepal Width in cm. (for sample size=60)' % (df_sw.mean() - pd.Series(array2).mean()))\n",
        "\n",
        "#ax3.subplot(313)\n",
        "ax3.hist(array3, bins=100,color='orange')\n",
        "ax3.set_xlabel('Sepal Width')\n",
        "ax3.set_ylabel('frequency')\n",
        "ax3.set_title('Sample size = 100')\n",
        "ax3.axvline(x=np.mean(array3),color='r') \n",
        "\n",
        "print('3. The Mean Sample is  %f different the original mean for the Sepal Width in cm. (for sample size=100)' % (df_sw.mean() - pd.Series(array3).mean()))\n",
        "\n",
        "\n",
        "mean_of_samples= (np.mean(array1)+np.mean(array2)+np.mean(array3))/3\n",
        "print(\"\\n\\t The mean of the mean of the above three samples is %f diffrent from the original mean of the septalWidth from the dataset.\\n\" %(df_sw.mean() - mean_of_samples))"
      ],
      "execution_count": 79,
      "outputs": [
        {
          "output_type": "stream",
          "name": "stdout",
          "text": [
            "1. The Mean Sample is  -0.009792 different the original mean for the Sepal Width in cm. (for sample size=20)\n",
            "2. The Mean Sample is  0.005029 different the original mean for the Sepal Width in cm. (for sample size=60)\n",
            "3. The Mean Sample is  0.001477 different the original mean for the Sepal Width in cm. (for sample size=100)\n",
            "\n",
            "\t The mean of the mean of the above three samples is -0.001095 diffrent from the original mean of the septalWidth from the dataset.\n",
            "\n"
          ]
        },
        {
          "output_type": "display_data",
          "data": {
            "image/png": "[encoded data removed]",
            "text/plain": [
              "<Figure size 1296x360 with 3 Axes>"
            ]
          },
          "metadata": {
            "needs_background": "light"
          }
        }
      ]
    },
    {
      "cell_type": "code",
      "metadata": {
        "id": "KKzDw_OYVzzo"
      },
      "source": [
        ""
      ],
      "execution_count": 76,
      "outputs": []
    },
    {
      "cell_type": "code",
      "metadata": {
        "id": "DsUkCGYZVzxp"
      },
      "source": [
        ""
      ],
      "execution_count": null,
      "outputs": []
    }
  ]
}