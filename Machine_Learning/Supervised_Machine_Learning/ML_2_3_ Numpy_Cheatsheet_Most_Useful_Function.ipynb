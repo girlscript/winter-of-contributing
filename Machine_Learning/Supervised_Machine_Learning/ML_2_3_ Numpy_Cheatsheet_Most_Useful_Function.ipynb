{
 "cells": [
  {
   "cell_type": "markdown",
   "metadata": {
    "papermill": {
     "duration": 0.077393,
     "end_time": "2021-09-26T13:38:55.985181",
     "exception": false,
     "start_time": "2021-09-26T13:38:55.907788",
     "status": "completed"
    },
    "tags": []
   },
   "source": [
    "# Numpy Cheatsheet: Most Useful Functions and Methods "
   ]
  },
  {
   "cell_type": "markdown",
   "metadata": {
    "papermill": {
     "duration": 0.076585,
     "end_time": "2021-09-26T13:38:56.138098",
     "exception": false,
     "start_time": "2021-09-26T13:38:56.061513",
     "status": "completed"
    },
    "tags": []
   },
   "source": [
    "### What is NumPy?\n",
    "\n",
    "Numpy (Numerical Python) is a python library works with n dimensional arrays. It has a set of functions in field of linear algebra, fourier transform or other mathmatical or logical operators.\n"
   ]
  },
  {
   "cell_type": "markdown",
   "metadata": {
    "papermill": {
     "duration": 0.075629,
     "end_time": "2021-09-26T13:38:56.290084",
     "exception": false,
     "start_time": "2021-09-26T13:38:56.214455",
     "status": "completed"
    },
    "tags": []
   },
   "source": [
    "### Features\n",
    "In python, we can easily handle array but that's a slow process. Numpy actually 50x faster than general array operations of python lists. The array is called here ndarray.\n",
    "### Advantages:\n",
    "* Speed : As Numpy written algo in C, it performs in nanoseconds.\n",
    "* Provide Integration with other platforms.\n",
    "* It use less loops for faster computation.\n",
    "* Provides Broadcasting Function\n",
    "Since it has huge benefits, its one of the top most used llibraries in Data science.\n"
   ]
  },
  {
   "cell_type": "markdown",
   "metadata": {
    "papermill": {
     "duration": 0.075508,
     "end_time": "2021-09-26T13:38:56.441527",
     "exception": false,
     "start_time": "2021-09-26T13:38:56.366019",
     "status": "completed"
    },
    "tags": []
   },
   "source": [
    "## A Cheatsheet for Useful Function\n",
    "\n",
    "> Let'try some of the amazing functions numpy provides\n",
    "\n",
    "Before this, follow the steps to install it !"
   ]
  },
  {
   "cell_type": "markdown",
   "metadata": {
    "papermill": {
     "duration": 0.075603,
     "end_time": "2021-09-26T13:38:56.592489",
     "exception": false,
     "start_time": "2021-09-26T13:38:56.516886",
     "status": "completed"
    },
    "tags": []
   },
   "source": [
    "**Installation**\n",
    "\n",
    " Install numpy using following command in your cmd:\n",
    " \n",
    " $ pip install numpy\n",
    " \n",
    " To uprade the version, run this:\n",
    " \n",
    " $ !pip install numpy --upgrade"
   ]
  },
  {
   "cell_type": "markdown",
   "metadata": {
    "papermill": {
     "duration": 0.075383,
     "end_time": "2021-09-26T13:38:56.743327",
     "exception": false,
     "start_time": "2021-09-26T13:38:56.667944",
     "status": "completed"
    },
    "tags": []
   },
   "source": [
    "## Importing Library\n",
    "\n",
    "So, now we have to import library for working with numpy."
   ]
  },
  {
   "cell_type": "code",
   "execution_count": 1,
   "metadata": {
    "execution": {
     "iopub.execute_input": "2021-09-26T13:38:56.899102Z",
     "iopub.status.busy": "2021-09-26T13:38:56.898074Z",
     "iopub.status.idle": "2021-09-26T13:38:56.903323Z",
     "shell.execute_reply": "2021-09-26T13:38:56.903906Z",
     "shell.execute_reply.started": "2021-09-26T08:20:19.957766Z"
    },
    "papermill": {
     "duration": 0.085143,
     "end_time": "2021-09-26T13:38:56.904079",
     "exception": false,
     "start_time": "2021-09-26T13:38:56.818936",
     "status": "completed"
    },
    "tags": []
   },
   "outputs": [],
   "source": [
    "from numpy import *"
   ]
  },
  {
   "cell_type": "markdown",
   "metadata": {
    "papermill": {
     "duration": 0.076228,
     "end_time": "2021-09-26T13:38:57.057217",
     "exception": false,
     "start_time": "2021-09-26T13:38:56.980989",
     "status": "completed"
    },
    "tags": []
   },
   "source": [
    "Let's print a array to check it.\n"
   ]
  },
  {
   "cell_type": "code",
   "execution_count": 2,
   "metadata": {
    "execution": {
     "iopub.execute_input": "2021-09-26T13:38:57.214980Z",
     "iopub.status.busy": "2021-09-26T13:38:57.213950Z",
     "iopub.status.idle": "2021-09-26T13:38:57.222663Z",
     "shell.execute_reply": "2021-09-26T13:38:57.223640Z",
     "shell.execute_reply.started": "2021-09-26T08:20:19.970296Z"
    },
    "papermill": {
     "duration": 0.089444,
     "end_time": "2021-09-26T13:38:57.223896",
     "exception": false,
     "start_time": "2021-09-26T13:38:57.134452",
     "status": "completed"
    },
    "tags": []
   },
   "outputs": [
    {
     "name": "stdout",
     "output_type": "stream",
     "text": [
      "[3 2 1 2]\n"
     ]
    }
   ],
   "source": [
    "import numpy as np\n",
    "array= np.array([3,2,1,2])\n",
    "print(array)"
   ]
  },
  {
   "cell_type": "markdown",
   "metadata": {
    "papermill": {
     "duration": 0.076237,
     "end_time": "2021-09-26T13:38:57.378371",
     "exception": false,
     "start_time": "2021-09-26T13:38:57.302134",
     "status": "completed"
    },
    "tags": []
   },
   "source": [
    "##  Creating `numpy` arrays"
   ]
  },
  {
   "cell_type": "markdown",
   "metadata": {
    "papermill": {
     "duration": 0.075648,
     "end_time": "2021-09-26T13:38:57.530369",
     "exception": false,
     "start_time": "2021-09-26T13:38:57.454721",
     "status": "completed"
    },
    "tags": []
   },
   "source": [
    "For example, to create new vector and matrix arrays from Python lists we can use the `n.array` function."
   ]
  },
  {
   "cell_type": "code",
   "execution_count": 3,
   "metadata": {
    "execution": {
     "iopub.execute_input": "2021-09-26T13:38:57.692279Z",
     "iopub.status.busy": "2021-09-26T13:38:57.691343Z",
     "iopub.status.idle": "2021-09-26T13:38:57.696311Z",
     "shell.execute_reply": "2021-09-26T13:38:57.695743Z",
     "shell.execute_reply.started": "2021-09-26T08:28:04.774515Z"
    },
    "papermill": {
     "duration": 0.09016,
     "end_time": "2021-09-26T13:38:57.696458",
     "exception": false,
     "start_time": "2021-09-26T13:38:57.606298",
     "status": "completed"
    },
    "tags": []
   },
   "outputs": [
    {
     "name": "stdout",
     "output_type": "stream",
     "text": [
      "Rank 3 array: \n",
      " [[4 2 9]\n",
      " [9 4 1]\n",
      " [1 0 9]]\n",
      "\n",
      "Array created using tuple:\n",
      " [8 1 2]\n",
      "first array type <class 'numpy.ndarray'>\n",
      "first array type <class 'numpy.ndarray'>\n"
     ]
    }
   ],
   "source": [
    "import numpy as np\n",
    "# Creating a rank 3 Array\n",
    "\n",
    "ar1 = np.array([[4, 2, 9],\n",
    "                [9, 4, 1],\n",
    "               [1,0,9]])\n",
    "print(\"Rank 3 array: \\n\", ar1)\n",
    " \n",
    "# Creating an array using tuple\n",
    "\n",
    "ar2 = np.array((8, 1, 2))\n",
    "print(\"\\nArray created using tuple:\\n\", ar2)\n",
    "\n",
    "#Checking their type:\n",
    "print(\"first array type\",type(ar1))\n",
    "print(\"first array type\",type(ar2))"
   ]
  },
  {
   "cell_type": "markdown",
   "metadata": {
    "papermill": {
     "duration": 0.076744,
     "end_time": "2021-09-26T13:38:57.849715",
     "exception": false,
     "start_time": "2021-09-26T13:38:57.772971",
     "status": "completed"
    },
    "tags": []
   },
   "source": [
    "## Basic Array features"
   ]
  },
  {
   "cell_type": "markdown",
   "metadata": {
    "papermill": {
     "duration": 0.078411,
     "end_time": "2021-09-26T13:38:58.005603",
     "exception": false,
     "start_time": "2021-09-26T13:38:57.927192",
     "status": "completed"
    },
    "tags": []
   },
   "source": [
    "**A. Checking shape**"
   ]
  },
  {
   "cell_type": "code",
   "execution_count": 4,
   "metadata": {
    "execution": {
     "iopub.execute_input": "2021-09-26T13:38:58.170615Z",
     "iopub.status.busy": "2021-09-26T13:38:58.169508Z",
     "iopub.status.idle": "2021-09-26T13:38:58.174269Z",
     "shell.execute_reply": "2021-09-26T13:38:58.173624Z",
     "shell.execute_reply.started": "2021-09-26T09:04:22.337055Z"
    },
    "papermill": {
     "duration": 0.091024,
     "end_time": "2021-09-26T13:38:58.174403",
     "exception": false,
     "start_time": "2021-09-26T13:38:58.083379",
     "status": "completed"
    },
    "tags": []
   },
   "outputs": [
    {
     "data": {
      "text/plain": [
       "(3, 3)"
      ]
     },
     "execution_count": 4,
     "metadata": {},
     "output_type": "execute_result"
    }
   ],
   "source": [
    "import numpy as np\n",
    "# Creating a rank 3 Array\n",
    "\n",
    "ar1 = np.array([[4, 2, 9],\n",
    "                [9, 4, 1],\n",
    "               [1,0,9]])\n",
    "ar1.shape"
   ]
  },
  {
   "cell_type": "markdown",
   "metadata": {
    "papermill": {
     "duration": 0.07756,
     "end_time": "2021-09-26T13:38:58.329260",
     "exception": false,
     "start_time": "2021-09-26T13:38:58.251700",
     "status": "completed"
    },
    "tags": []
   },
   "source": [
    "**B. Checking size**\n",
    "\n",
    "> The number of elements in the array is available"
   ]
  },
  {
   "cell_type": "code",
   "execution_count": 5,
   "metadata": {
    "execution": {
     "iopub.execute_input": "2021-09-26T13:38:58.489077Z",
     "iopub.status.busy": "2021-09-26T13:38:58.488266Z",
     "iopub.status.idle": "2021-09-26T13:38:58.491917Z",
     "shell.execute_reply": "2021-09-26T13:38:58.491232Z",
     "shell.execute_reply.started": "2021-09-26T09:05:21.401424Z"
    },
    "papermill": {
     "duration": 0.085331,
     "end_time": "2021-09-26T13:38:58.492034",
     "exception": false,
     "start_time": "2021-09-26T13:38:58.406703",
     "status": "completed"
    },
    "tags": []
   },
   "outputs": [
    {
     "data": {
      "text/plain": [
       "9"
      ]
     },
     "execution_count": 5,
     "metadata": {},
     "output_type": "execute_result"
    }
   ],
   "source": [
    "ar1.size"
   ]
  },
  {
   "cell_type": "markdown",
   "metadata": {
    "papermill": {
     "duration": 0.083135,
     "end_time": "2021-09-26T13:38:58.659899",
     "exception": false,
     "start_time": "2021-09-26T13:38:58.576764",
     "status": "completed"
    },
    "tags": []
   },
   "source": [
    "**C. Property check**\n",
    "> Using the `dtype`"
   ]
  },
  {
   "cell_type": "code",
   "execution_count": 6,
   "metadata": {
    "execution": {
     "iopub.execute_input": "2021-09-26T13:38:58.819892Z",
     "iopub.status.busy": "2021-09-26T13:38:58.819028Z",
     "iopub.status.idle": "2021-09-26T13:38:58.823472Z",
     "shell.execute_reply": "2021-09-26T13:38:58.822933Z",
     "shell.execute_reply.started": "2021-09-26T09:06:44.527596Z"
    },
    "papermill": {
     "duration": 0.086313,
     "end_time": "2021-09-26T13:38:58.823594",
     "exception": false,
     "start_time": "2021-09-26T13:38:58.737281",
     "status": "completed"
    },
    "tags": []
   },
   "outputs": [
    {
     "data": {
      "text/plain": [
       "dtype('int64')"
      ]
     },
     "execution_count": 6,
     "metadata": {},
     "output_type": "execute_result"
    }
   ],
   "source": [
    "ar1.dtype"
   ]
  },
  {
   "cell_type": "markdown",
   "metadata": {
    "papermill": {
     "duration": 0.081374,
     "end_time": "2021-09-26T13:38:58.992852",
     "exception": false,
     "start_time": "2021-09-26T13:38:58.911478",
     "status": "completed"
    },
    "tags": []
   },
   "source": [
    "d. Defining type of array data explicitly"
   ]
  },
  {
   "cell_type": "code",
   "execution_count": 7,
   "metadata": {
    "execution": {
     "iopub.execute_input": "2021-09-26T13:38:59.157194Z",
     "iopub.status.busy": "2021-09-26T13:38:59.156466Z",
     "iopub.status.idle": "2021-09-26T13:38:59.160263Z",
     "shell.execute_reply": "2021-09-26T13:38:59.159609Z",
     "shell.execute_reply.started": "2021-09-26T09:08:26.498983Z"
    },
    "papermill": {
     "duration": 0.088109,
     "end_time": "2021-09-26T13:38:59.160380",
     "exception": false,
     "start_time": "2021-09-26T13:38:59.072271",
     "status": "completed"
    },
    "tags": []
   },
   "outputs": [
    {
     "data": {
      "text/plain": [
       "array([[1.+0.j, 4.+0.j],\n",
       "       [2.+0.j, 3.+0.j]])"
      ]
     },
     "execution_count": 7,
     "metadata": {},
     "output_type": "execute_result"
    }
   ],
   "source": [
    "ar2 = np.array([[1, 4], [2, 3]], dtype=complex)\n",
    "\n",
    "ar2"
   ]
  },
  {
   "cell_type": "markdown",
   "metadata": {
    "papermill": {
     "duration": 0.08652,
     "end_time": "2021-09-26T13:38:59.331725",
     "exception": false,
     "start_time": "2021-09-26T13:38:59.245205",
     "status": "completed"
    },
    "tags": []
   },
   "source": [
    "## Different type array generations\n",
    "> To generate larger array we can use functions to generate array in different forms\n"
   ]
  },
  {
   "cell_type": "markdown",
   "metadata": {
    "papermill": {
     "duration": 0.078461,
     "end_time": "2021-09-26T13:38:59.490829",
     "exception": false,
     "start_time": "2021-09-26T13:38:59.412368",
     "status": "completed"
    },
    "tags": []
   },
   "source": [
    "**A.\"arange\" function**\n",
    "\n",
    "> `arange()` is one of the array creation way for providing an instance of evenly spaced values."
   ]
  },
  {
   "cell_type": "code",
   "execution_count": 8,
   "metadata": {
    "execution": {
     "iopub.execute_input": "2021-09-26T13:38:59.660908Z",
     "iopub.status.busy": "2021-09-26T13:38:59.659879Z",
     "iopub.status.idle": "2021-09-26T13:38:59.664273Z",
     "shell.execute_reply": "2021-09-26T13:38:59.663628Z",
     "shell.execute_reply.started": "2021-09-26T09:17:18.456867Z"
    },
    "papermill": {
     "duration": 0.090344,
     "end_time": "2021-09-26T13:38:59.664410",
     "exception": false,
     "start_time": "2021-09-26T13:38:59.574066",
     "status": "completed"
    },
    "tags": []
   },
   "outputs": [
    {
     "data": {
      "text/plain": [
       "array([1, 3, 5, 7, 9])"
      ]
     },
     "execution_count": 8,
     "metadata": {},
     "output_type": "execute_result"
    }
   ],
   "source": [
    "# create a range of odd numbers array\n",
    "\n",
    "#It will create a list of 1- 10 after every 2 step\n",
    "ar1 = np.arange(1, 10, 2) \n",
    "ar1"
   ]
  },
  {
   "cell_type": "markdown",
   "metadata": {
    "papermill": {
     "duration": 0.077712,
     "end_time": "2021-09-26T13:38:59.822552",
     "exception": false,
     "start_time": "2021-09-26T13:38:59.744840",
     "status": "completed"
    },
    "tags": []
   },
   "source": [
    "**B. linspace and logspace**\n",
    "> Linespace is for evenly spaced smaples and Logscale is same but using log for generating floating number array instead of arrange "
   ]
  },
  {
   "cell_type": "code",
   "execution_count": 9,
   "metadata": {
    "execution": {
     "iopub.execute_input": "2021-09-26T13:38:59.988609Z",
     "iopub.status.busy": "2021-09-26T13:38:59.987649Z",
     "iopub.status.idle": "2021-09-26T13:38:59.991186Z",
     "shell.execute_reply": "2021-09-26T13:38:59.991822Z",
     "shell.execute_reply.started": "2021-09-26T09:23:42.549664Z"
    },
    "papermill": {
     "duration": 0.089911,
     "end_time": "2021-09-26T13:38:59.991967",
     "exception": false,
     "start_time": "2021-09-26T13:38:59.902056",
     "status": "completed"
    },
    "tags": []
   },
   "outputs": [
    {
     "name": "stdout",
     "output_type": "stream",
     "text": [
      "[ 0.          3.33333333  6.66666667 10.        ]\n"
     ]
    }
   ],
   "source": [
    "# using linspace, both end points ARE included\n",
    "import numpy as np\n",
    "print(np.linspace(0, 10, 4))"
   ]
  },
  {
   "cell_type": "code",
   "execution_count": 10,
   "metadata": {
    "execution": {
     "iopub.execute_input": "2021-09-26T13:39:00.157320Z",
     "iopub.status.busy": "2021-09-26T13:39:00.156531Z",
     "iopub.status.idle": "2021-09-26T13:39:00.159916Z",
     "shell.execute_reply": "2021-09-26T13:39:00.160680Z",
     "shell.execute_reply.started": "2021-09-26T09:26:47.153195Z"
    },
    "papermill": {
     "duration": 0.090003,
     "end_time": "2021-09-26T13:39:00.160872",
     "exception": false,
     "start_time": "2021-09-26T13:39:00.070869",
     "status": "completed"
    },
    "tags": []
   },
   "outputs": [
    {
     "name": "stdout",
     "output_type": "stream",
     "text": [
      "[1.00000000e+00 2.16011948e+00 4.66611616e+00 1.00793684e+01\n",
      " 2.17726400e+01 4.70315038e+01 1.01593667e+02 2.19454460e+02\n",
      " 4.74047853e+02 1.02400000e+03]\n"
     ]
    }
   ],
   "source": [
    "import numpy as np\n",
    "print(np.logspace(0, 10, 10, base=2.0))"
   ]
  },
  {
   "cell_type": "markdown",
   "metadata": {
    "papermill": {
     "duration": 0.079146,
     "end_time": "2021-09-26T13:39:00.320114",
     "exception": false,
     "start_time": "2021-09-26T13:39:00.240968",
     "status": "completed"
    },
    "tags": []
   },
   "source": [
    "**C. mgrid**\n",
    "\n",
    "> To get a dense multi-dimensional 'meshgrid'."
   ]
  },
  {
   "cell_type": "code",
   "execution_count": 11,
   "metadata": {
    "execution": {
     "iopub.execute_input": "2021-09-26T13:39:00.486788Z",
     "iopub.status.busy": "2021-09-26T13:39:00.485932Z",
     "iopub.status.idle": "2021-09-26T13:39:00.490128Z",
     "shell.execute_reply": "2021-09-26T13:39:00.489495Z",
     "shell.execute_reply.started": "2021-09-26T09:29:17.065573Z"
    },
    "papermill": {
     "duration": 0.090339,
     "end_time": "2021-09-26T13:39:00.490243",
     "exception": false,
     "start_time": "2021-09-26T13:39:00.399904",
     "status": "completed"
    },
    "tags": []
   },
   "outputs": [
    {
     "name": "stdout",
     "output_type": "stream",
     "text": [
      "[[0 0 0]\n",
      " [1 1 1]\n",
      " [2 2 2]]\n",
      "\n",
      "\n",
      "[[0 1 2]\n",
      " [0 1 2]\n",
      " [0 1 2]]\n"
     ]
    }
   ],
   "source": [
    "x, y = np.mgrid[0:3, 0:3] \n",
    "print(x)\n",
    "print(\"\\n\")\n",
    "print(y)"
   ]
  },
  {
   "cell_type": "markdown",
   "metadata": {
    "papermill": {
     "duration": 0.093589,
     "end_time": "2021-09-26T13:39:00.674049",
     "exception": false,
     "start_time": "2021-09-26T13:39:00.580460",
     "status": "completed"
    },
    "tags": []
   },
   "source": [
    "**D. Random Data Generation**\n",
    "\n",
    ">  `rand()` method returns a random float between 0 and 1 using uniform distribution.\n",
    ">   randn()  method returns a random float between 0 and 1 using normalized distribution."
   ]
  },
  {
   "cell_type": "code",
   "execution_count": 12,
   "metadata": {
    "execution": {
     "iopub.execute_input": "2021-09-26T13:39:00.842170Z",
     "iopub.status.busy": "2021-09-26T13:39:00.841529Z",
     "iopub.status.idle": "2021-09-26T13:39:00.847290Z",
     "shell.execute_reply": "2021-09-26T13:39:00.846585Z",
     "shell.execute_reply.started": "2021-09-26T09:35:52.238656Z"
    },
    "papermill": {
     "duration": 0.093146,
     "end_time": "2021-09-26T13:39:00.847470",
     "exception": false,
     "start_time": "2021-09-26T13:39:00.754324",
     "status": "completed"
    },
    "tags": []
   },
   "outputs": [
    {
     "name": "stdout",
     "output_type": "stream",
     "text": [
      "uniform random numbers\n"
     ]
    },
    {
     "data": {
      "text/plain": [
       "array([[0.26034948, 0.86539239, 0.41134867],\n",
       "       [0.41057892, 0.85081732, 0.71932127],\n",
       "       [0.49724838, 0.61102041, 0.29603585]])"
      ]
     },
     "execution_count": 12,
     "metadata": {},
     "output_type": "execute_result"
    }
   ],
   "source": [
    "import numpy as np\n",
    "print(\"uniform random numbers\")\n",
    "np.random.rand(3,3)\n"
   ]
  },
  {
   "cell_type": "code",
   "execution_count": 13,
   "metadata": {
    "execution": {
     "iopub.execute_input": "2021-09-26T13:39:01.017351Z",
     "iopub.status.busy": "2021-09-26T13:39:01.016268Z",
     "iopub.status.idle": "2021-09-26T13:39:01.021879Z",
     "shell.execute_reply": "2021-09-26T13:39:01.021205Z",
     "shell.execute_reply.started": "2021-09-26T09:35:57.841413Z"
    },
    "papermill": {
     "duration": 0.092989,
     "end_time": "2021-09-26T13:39:01.022004",
     "exception": false,
     "start_time": "2021-09-26T13:39:00.929015",
     "status": "completed"
    },
    "tags": []
   },
   "outputs": [
    {
     "name": "stdout",
     "output_type": "stream",
     "text": [
      "\n",
      "\n",
      "standard normal distributed random numbers\n"
     ]
    },
    {
     "data": {
      "text/plain": [
       "array([[-1.88019904,  0.5179803 , -0.22054186],\n",
       "       [-0.9492433 , -0.9798804 ,  2.01218153],\n",
       "       [ 0.40678014, -0.19503877,  0.46994087]])"
      ]
     },
     "execution_count": 13,
     "metadata": {},
     "output_type": "execute_result"
    }
   ],
   "source": [
    "print(\"\\n\")\n",
    "print(\"standard normal distributed random numbers\")\n",
    "np.random.randn(3,3)"
   ]
  },
  {
   "cell_type": "markdown",
   "metadata": {
    "papermill": {
     "duration": 0.081722,
     "end_time": "2021-09-26T13:39:01.186699",
     "exception": false,
     "start_time": "2021-09-26T13:39:01.104977",
     "status": "completed"
    },
    "tags": []
   },
   "source": [
    "**E.Diagonal array**\n"
   ]
  },
  {
   "cell_type": "code",
   "execution_count": 14,
   "metadata": {
    "execution": {
     "iopub.execute_input": "2021-09-26T13:39:01.356323Z",
     "iopub.status.busy": "2021-09-26T13:39:01.355223Z",
     "iopub.status.idle": "2021-09-26T13:39:01.359718Z",
     "shell.execute_reply": "2021-09-26T13:39:01.359196Z",
     "shell.execute_reply.started": "2021-09-26T09:37:59.678022Z"
    },
    "papermill": {
     "duration": 0.091538,
     "end_time": "2021-09-26T13:39:01.359836",
     "exception": false,
     "start_time": "2021-09-26T13:39:01.268298",
     "status": "completed"
    },
    "tags": []
   },
   "outputs": [
    {
     "data": {
      "text/plain": [
       "array([[1, 0, 0],\n",
       "       [0, 3, 0],\n",
       "       [0, 0, 5]])"
      ]
     },
     "execution_count": 14,
     "metadata": {},
     "output_type": "execute_result"
    }
   ],
   "source": [
    "# a diagonal matrix\n",
    "np.diag([1,3,5])"
   ]
  },
  {
   "cell_type": "markdown",
   "metadata": {
    "papermill": {
     "duration": 0.080827,
     "end_time": "2021-09-26T13:39:01.524050",
     "exception": false,
     "start_time": "2021-09-26T13:39:01.443223",
     "status": "completed"
    },
    "tags": []
   },
   "source": [
    "**F. FormFunction:**\n",
    "> We can use np.romfunction to design array"
   ]
  },
  {
   "cell_type": "code",
   "execution_count": 15,
   "metadata": {
    "execution": {
     "iopub.execute_input": "2021-09-26T13:39:01.695710Z",
     "iopub.status.busy": "2021-09-26T13:39:01.694985Z",
     "iopub.status.idle": "2021-09-26T13:39:01.698687Z",
     "shell.execute_reply": "2021-09-26T13:39:01.698056Z",
     "shell.execute_reply.started": "2021-09-26T09:44:15.370893Z"
    },
    "papermill": {
     "duration": 0.091847,
     "end_time": "2021-09-26T13:39:01.698800",
     "exception": false,
     "start_time": "2021-09-26T13:39:01.606953",
     "status": "completed"
    },
    "tags": []
   },
   "outputs": [
    {
     "data": {
      "text/plain": [
       "array([[0, 1, 2],\n",
       "       [1, 2, 3],\n",
       "       [2, 3, 4]])"
      ]
     },
     "execution_count": 15,
     "metadata": {},
     "output_type": "execute_result"
    }
   ],
   "source": [
    "np.fromfunction(lambda i, j: i + j, (3, 3), dtype=int)"
   ]
  },
  {
   "cell_type": "markdown",
   "metadata": {
    "papermill": {
     "duration": 0.083392,
     "end_time": "2021-09-26T13:39:01.865502",
     "exception": false,
     "start_time": "2021-09-26T13:39:01.782110",
     "status": "completed"
    },
    "tags": []
   },
   "source": [
    "**G. Zeroes and Ones**\n",
    "\n",
    "> `np.zeros  Python function is used to create a matrix full of zeroes. `\n",
    "> \n",
    "> `np.ones()function is used to create a matrix full of ones."
   ]
  },
  {
   "cell_type": "code",
   "execution_count": 16,
   "metadata": {
    "execution": {
     "iopub.execute_input": "2021-09-26T13:39:02.037051Z",
     "iopub.status.busy": "2021-09-26T13:39:02.036261Z",
     "iopub.status.idle": "2021-09-26T13:39:02.040660Z",
     "shell.execute_reply": "2021-09-26T13:39:02.040109Z",
     "shell.execute_reply.started": "2021-09-26T10:08:33.612912Z"
    },
    "papermill": {
     "duration": 0.092786,
     "end_time": "2021-09-26T13:39:02.040775",
     "exception": false,
     "start_time": "2021-09-26T13:39:01.947989",
     "status": "completed"
    },
    "tags": []
   },
   "outputs": [
    {
     "data": {
      "text/plain": [
       "array([[0., 0., 0.],\n",
       "       [0., 0., 0.],\n",
       "       [0., 0., 0.]])"
      ]
     },
     "execution_count": 16,
     "metadata": {},
     "output_type": "execute_result"
    }
   ],
   "source": [
    "import numpy as np\n",
    "np.zeros((3,3))"
   ]
  },
  {
   "cell_type": "code",
   "execution_count": 17,
   "metadata": {
    "execution": {
     "iopub.execute_input": "2021-09-26T13:39:02.213162Z",
     "iopub.status.busy": "2021-09-26T13:39:02.212066Z",
     "iopub.status.idle": "2021-09-26T13:39:02.215499Z",
     "shell.execute_reply": "2021-09-26T13:39:02.216015Z",
     "shell.execute_reply.started": "2021-09-26T10:08:36.863429Z"
    },
    "papermill": {
     "duration": 0.091438,
     "end_time": "2021-09-26T13:39:02.216156",
     "exception": false,
     "start_time": "2021-09-26T13:39:02.124718",
     "status": "completed"
    },
    "tags": []
   },
   "outputs": [
    {
     "data": {
      "text/plain": [
       "array([[1., 1., 1.],\n",
       "       [1., 1., 1.],\n",
       "       [1., 1., 1.]])"
      ]
     },
     "execution_count": 17,
     "metadata": {},
     "output_type": "execute_result"
    }
   ],
   "source": [
    "np.ones((3,3))"
   ]
  },
  {
   "cell_type": "markdown",
   "metadata": {
    "papermill": {
     "duration": 0.082349,
     "end_time": "2021-09-26T13:39:02.381164",
     "exception": false,
     "start_time": "2021-09-26T13:39:02.298815",
     "status": "completed"
    },
    "tags": []
   },
   "source": [
    "**H.Full shaped array**"
   ]
  },
  {
   "cell_type": "code",
   "execution_count": 18,
   "metadata": {
    "execution": {
     "iopub.execute_input": "2021-09-26T13:39:02.552249Z",
     "iopub.status.busy": "2021-09-26T13:39:02.551186Z",
     "iopub.status.idle": "2021-09-26T13:39:02.555356Z",
     "shell.execute_reply": "2021-09-26T13:39:02.554726Z",
     "shell.execute_reply.started": "2021-09-26T10:09:57.205784Z"
    },
    "papermill": {
     "duration": 0.091904,
     "end_time": "2021-09-26T13:39:02.555501",
     "exception": false,
     "start_time": "2021-09-26T13:39:02.463597",
     "status": "completed"
    },
    "tags": []
   },
   "outputs": [
    {
     "data": {
      "text/plain": [
       "array([[3.14159265, 3.14159265],\n",
       "       [3.14159265, 3.14159265],\n",
       "       [3.14159265, 3.14159265],\n",
       "       [3.14159265, 3.14159265],\n",
       "       [3.14159265, 3.14159265]])"
      ]
     },
     "execution_count": 18,
     "metadata": {},
     "output_type": "execute_result"
    }
   ],
   "source": [
    "np.full((5,2), np.pi)"
   ]
  },
  {
   "cell_type": "markdown",
   "metadata": {
    "papermill": {
     "duration": 0.083123,
     "end_time": "2021-09-26T13:39:02.722055",
     "exception": false,
     "start_time": "2021-09-26T13:39:02.638932",
     "status": "completed"
    },
    "tags": []
   },
   "source": [
    "## File Input/Output\n",
    "\n"
   ]
  },
  {
   "cell_type": "markdown",
   "metadata": {
    "papermill": {
     "duration": 0.083138,
     "end_time": "2021-09-26T13:39:02.890033",
     "exception": false,
     "start_time": "2021-09-26T13:39:02.806895",
     "status": "completed"
    },
    "tags": []
   },
   "source": [
    "**Saving and Loading in disk**"
   ]
  },
  {
   "cell_type": "code",
   "execution_count": 19,
   "metadata": {
    "execution": {
     "iopub.execute_input": "2021-09-26T13:39:03.065061Z",
     "iopub.status.busy": "2021-09-26T13:39:03.063477Z",
     "iopub.status.idle": "2021-09-26T13:39:03.068435Z",
     "shell.execute_reply": "2021-09-26T13:39:03.067837Z",
     "shell.execute_reply.started": "2021-09-26T10:17:50.927773Z"
    },
    "papermill": {
     "duration": 0.094628,
     "end_time": "2021-09-26T13:39:03.068552",
     "exception": false,
     "start_time": "2021-09-26T13:39:02.973924",
     "status": "completed"
    },
    "tags": []
   },
   "outputs": [],
   "source": [
    "a = np.array([1,2,3])\n",
    "b = np.array([(1.5,2,3), (14,2,6)], dtype = float)\n",
    "np.save('my_array', a)\n",
    "np.savez('array.npz', a, b)"
   ]
  },
  {
   "cell_type": "markdown",
   "metadata": {
    "papermill": {
     "duration": 0.082249,
     "end_time": "2021-09-26T13:39:03.277038",
     "exception": false,
     "start_time": "2021-09-26T13:39:03.194789",
     "status": "completed"
    },
    "tags": []
   },
   "source": [
    "## Array Data Analysis"
   ]
  },
  {
   "cell_type": "markdown",
   "metadata": {
    "papermill": {
     "duration": 0.082029,
     "end_time": "2021-09-26T13:39:03.441367",
     "exception": false,
     "start_time": "2021-09-26T13:39:03.359338",
     "status": "completed"
    },
    "tags": []
   },
   "source": [
    "**Itemsize()**\n",
    "> The itemsize attribute returns the size of item:"
   ]
  },
  {
   "cell_type": "code",
   "execution_count": 20,
   "metadata": {
    "execution": {
     "iopub.execute_input": "2021-09-26T13:39:03.611902Z",
     "iopub.status.busy": "2021-09-26T13:39:03.611232Z",
     "iopub.status.idle": "2021-09-26T13:39:03.613752Z",
     "shell.execute_reply": "2021-09-26T13:39:03.614194Z",
     "shell.execute_reply.started": "2021-09-26T10:21:24.105316Z"
    },
    "papermill": {
     "duration": 0.090304,
     "end_time": "2021-09-26T13:39:03.614335",
     "exception": false,
     "start_time": "2021-09-26T13:39:03.524031",
     "status": "completed"
    },
    "tags": []
   },
   "outputs": [
    {
     "data": {
      "text/plain": [
       "8"
      ]
     },
     "execution_count": 20,
     "metadata": {},
     "output_type": "execute_result"
    }
   ],
   "source": [
    "ar1 = np.arange(1, 5, dtype=np.int64)\n",
    "ar1.itemsize"
   ]
  },
  {
   "cell_type": "markdown",
   "metadata": {
    "papermill": {
     "duration": 0.08301,
     "end_time": "2021-09-26T13:39:03.780310",
     "exception": false,
     "start_time": "2021-09-26T13:39:03.697300",
     "status": "completed"
    },
    "tags": []
   },
   "source": [
    "**Byte Function**\n",
    ">  number of bytes"
   ]
  },
  {
   "cell_type": "code",
   "execution_count": 21,
   "metadata": {
    "execution": {
     "iopub.execute_input": "2021-09-26T13:39:03.950206Z",
     "iopub.status.busy": "2021-09-26T13:39:03.949571Z",
     "iopub.status.idle": "2021-09-26T13:39:03.954237Z",
     "shell.execute_reply": "2021-09-26T13:39:03.954776Z",
     "shell.execute_reply.started": "2021-09-26T10:22:30.035511Z"
    },
    "papermill": {
     "duration": 0.09135,
     "end_time": "2021-09-26T13:39:03.954924",
     "exception": false,
     "start_time": "2021-09-26T13:39:03.863574",
     "status": "completed"
    },
    "tags": []
   },
   "outputs": [
    {
     "data": {
      "text/plain": [
       "32"
      ]
     },
     "execution_count": 21,
     "metadata": {},
     "output_type": "execute_result"
    }
   ],
   "source": [
    "ar1.nbytes "
   ]
  },
  {
   "cell_type": "markdown",
   "metadata": {
    "papermill": {
     "duration": 0.084399,
     "end_time": "2021-09-26T13:39:04.123932",
     "exception": false,
     "start_time": "2021-09-26T13:39:04.039533",
     "status": "completed"
    },
    "tags": []
   },
   "source": [
    "**Dim() function**\n",
    "> number of dimensions"
   ]
  },
  {
   "cell_type": "code",
   "execution_count": 22,
   "metadata": {
    "execution": {
     "iopub.execute_input": "2021-09-26T13:39:04.293467Z",
     "iopub.status.busy": "2021-09-26T13:39:04.292808Z",
     "iopub.status.idle": "2021-09-26T13:39:04.297916Z",
     "shell.execute_reply": "2021-09-26T13:39:04.298480Z",
     "shell.execute_reply.started": "2021-09-26T10:23:42.280752Z"
    },
    "papermill": {
     "duration": 0.09155,
     "end_time": "2021-09-26T13:39:04.298623",
     "exception": false,
     "start_time": "2021-09-26T13:39:04.207073",
     "status": "completed"
    },
    "tags": []
   },
   "outputs": [
    {
     "data": {
      "text/plain": [
       "1"
      ]
     },
     "execution_count": 22,
     "metadata": {},
     "output_type": "execute_result"
    }
   ],
   "source": [
    "ar1.ndim "
   ]
  },
  {
   "cell_type": "markdown",
   "metadata": {
    "papermill": {
     "duration": 0.083211,
     "end_time": "2021-09-26T13:39:04.465630",
     "exception": false,
     "start_time": "2021-09-26T13:39:04.382419",
     "status": "completed"
    },
    "tags": []
   },
   "source": [
    " ## Manipulation of Array"
   ]
  },
  {
   "cell_type": "markdown",
   "metadata": {
    "papermill": {
     "duration": 0.083192,
     "end_time": "2021-09-26T13:39:04.631989",
     "exception": false,
     "start_time": "2021-09-26T13:39:04.548797",
     "status": "completed"
    },
    "tags": []
   },
   "source": [
    "### Indexing\n",
    "> indexing elements using indices or brackets"
   ]
  },
  {
   "cell_type": "code",
   "execution_count": 23,
   "metadata": {
    "execution": {
     "iopub.execute_input": "2021-09-26T13:39:04.804425Z",
     "iopub.status.busy": "2021-09-26T13:39:04.803741Z",
     "iopub.status.idle": "2021-09-26T13:39:04.806369Z",
     "shell.execute_reply": "2021-09-26T13:39:04.806926Z",
     "shell.execute_reply.started": "2021-09-26T10:29:16.162045Z"
    },
    "papermill": {
     "duration": 0.091688,
     "end_time": "2021-09-26T13:39:04.807062",
     "exception": false,
     "start_time": "2021-09-26T13:39:04.715374",
     "status": "completed"
    },
    "tags": []
   },
   "outputs": [
    {
     "name": "stdout",
     "output_type": "stream",
     "text": [
      "2\n"
     ]
    }
   ],
   "source": [
    "import numpy as np\n",
    "\n",
    "arr = np.array([1, 2, 3, 4])\n",
    "\n",
    "print(arr[1])"
   ]
  },
  {
   "cell_type": "markdown",
   "metadata": {
    "papermill": {
     "duration": 0.08333,
     "end_time": "2021-09-26T13:39:04.974571",
     "exception": false,
     "start_time": "2021-09-26T13:39:04.891241",
     "status": "completed"
    },
    "tags": []
   },
   "source": [
    "### Index slicing\n",
    "> To extract a part of array"
   ]
  },
  {
   "cell_type": "code",
   "execution_count": 24,
   "metadata": {
    "execution": {
     "iopub.execute_input": "2021-09-26T13:39:05.145455Z",
     "iopub.status.busy": "2021-09-26T13:39:05.144833Z",
     "iopub.status.idle": "2021-09-26T13:39:05.151545Z",
     "shell.execute_reply": "2021-09-26T13:39:05.150987Z",
     "shell.execute_reply.started": "2021-09-26T10:30:50.787673Z"
    },
    "papermill": {
     "duration": 0.093642,
     "end_time": "2021-09-26T13:39:05.151664",
     "exception": false,
     "start_time": "2021-09-26T13:39:05.058022",
     "status": "completed"
    },
    "tags": []
   },
   "outputs": [
    {
     "name": "stdout",
     "output_type": "stream",
     "text": [
      "[2 3]\n"
     ]
    }
   ],
   "source": [
    "import numpy as np\n",
    "\n",
    "arr = np.array([1, 2, 3, 4, 5])\n",
    "\n",
    "print(arr[1:3])"
   ]
  },
  {
   "cell_type": "markdown",
   "metadata": {
    "papermill": {
     "duration": 0.084193,
     "end_time": "2021-09-26T13:39:05.320194",
     "exception": false,
     "start_time": "2021-09-26T13:39:05.236001",
     "status": "completed"
    },
    "tags": []
   },
   "source": [
    "Negative indices counts from the end of the array"
   ]
  },
  {
   "cell_type": "code",
   "execution_count": 25,
   "metadata": {
    "execution": {
     "iopub.execute_input": "2021-09-26T13:39:05.496048Z",
     "iopub.status.busy": "2021-09-26T13:39:05.495308Z",
     "iopub.status.idle": "2021-09-26T13:39:05.498908Z",
     "shell.execute_reply": "2021-09-26T13:39:05.499636Z",
     "shell.execute_reply.started": "2021-09-26T10:33:03.725084Z"
    },
    "papermill": {
     "duration": 0.095204,
     "end_time": "2021-09-26T13:39:05.499828",
     "exception": false,
     "start_time": "2021-09-26T13:39:05.404624",
     "status": "completed"
    },
    "tags": []
   },
   "outputs": [
    {
     "name": "stdout",
     "output_type": "stream",
     "text": [
      "5\n"
     ]
    }
   ],
   "source": [
    "import numpy as np\n",
    "\n",
    "arr = np.array([1, 2, 3, 4, 5])\n",
    "print(arr[-1])"
   ]
  },
  {
   "cell_type": "markdown",
   "metadata": {
    "papermill": {
     "duration": 0.084638,
     "end_time": "2021-09-26T13:39:05.669847",
     "exception": false,
     "start_time": "2021-09-26T13:39:05.585209",
     "status": "completed"
    },
    "tags": []
   },
   "source": [
    "**Fancy Indexing**\n",
    "> creating list of indexing "
   ]
  },
  {
   "cell_type": "code",
   "execution_count": 26,
   "metadata": {
    "execution": {
     "iopub.execute_input": "2021-09-26T13:39:05.849049Z",
     "iopub.status.busy": "2021-09-26T13:39:05.848401Z",
     "iopub.status.idle": "2021-09-26T13:39:05.853277Z",
     "shell.execute_reply": "2021-09-26T13:39:05.852742Z",
     "shell.execute_reply.started": "2021-09-26T10:38:53.704291Z"
    },
    "papermill": {
     "duration": 0.097236,
     "end_time": "2021-09-26T13:39:05.853430",
     "exception": false,
     "start_time": "2021-09-26T13:39:05.756194",
     "status": "completed"
    },
    "tags": []
   },
   "outputs": [
    {
     "data": {
      "text/plain": [
       "array([[ 2,  3],\n",
       "       [26, 27]])"
      ]
     },
     "execution_count": 26,
     "metadata": {},
     "output_type": "execute_result"
    }
   ],
   "source": [
    "import numpy as np\n",
    "b = np.arange(48).reshape(4, 12)\n",
    "b[(0,2), 2:4] "
   ]
  },
  {
   "cell_type": "markdown",
   "metadata": {
    "papermill": {
     "duration": 0.087517,
     "end_time": "2021-09-26T13:39:06.027768",
     "exception": false,
     "start_time": "2021-09-26T13:39:05.940251",
     "status": "completed"
    },
    "tags": []
   },
   "source": [
    "## Reshaping Array\n",
    "> Creating 1D to 2D array"
   ]
  },
  {
   "cell_type": "code",
   "execution_count": 27,
   "metadata": {
    "execution": {
     "iopub.execute_input": "2021-09-26T13:39:06.211119Z",
     "iopub.status.busy": "2021-09-26T13:39:06.210440Z",
     "iopub.status.idle": "2021-09-26T13:39:06.215624Z",
     "shell.execute_reply": "2021-09-26T13:39:06.214533Z",
     "shell.execute_reply.started": "2021-09-26T12:11:43.334021Z"
    },
    "papermill": {
     "duration": 0.099877,
     "end_time": "2021-09-26T13:39:06.215798",
     "exception": false,
     "start_time": "2021-09-26T13:39:06.115921",
     "status": "completed"
    },
    "tags": []
   },
   "outputs": [
    {
     "name": "stdout",
     "output_type": "stream",
     "text": [
      "[[1 2 3]\n",
      " [4 5 6]\n",
      " [7 8 9]]\n"
     ]
    }
   ],
   "source": [
    "import numpy as np\n",
    "\n",
    "ar1 = np.array([1, 2, 3, 4, 5, 6, 7, 8, 9])\n",
    "\n",
    "new_ar1= ar1.reshape(3,3)\n",
    "\n",
    "print(new_ar1)"
   ]
  },
  {
   "cell_type": "markdown",
   "metadata": {
    "papermill": {
     "duration": 0.105589,
     "end_time": "2021-09-26T13:39:06.408008",
     "exception": false,
     "start_time": "2021-09-26T13:39:06.302419",
     "status": "completed"
    },
    "tags": []
   },
   "source": [
    "## Flattening array"
   ]
  },
  {
   "cell_type": "code",
   "execution_count": 28,
   "metadata": {
    "execution": {
     "iopub.execute_input": "2021-09-26T13:39:06.602866Z",
     "iopub.status.busy": "2021-09-26T13:39:06.601734Z",
     "iopub.status.idle": "2021-09-26T13:39:06.608220Z",
     "shell.execute_reply": "2021-09-26T13:39:06.607330Z",
     "shell.execute_reply.started": "2021-09-26T12:11:43.344911Z"
    },
    "papermill": {
     "duration": 0.112597,
     "end_time": "2021-09-26T13:39:06.608397",
     "exception": false,
     "start_time": "2021-09-26T13:39:06.495800",
     "status": "completed"
    },
    "tags": []
   },
   "outputs": [
    {
     "name": "stdout",
     "output_type": "stream",
     "text": [
      "Original shape : (9,)\n",
      "Array : \n",
      " [1 2 3 4 5 6 7 8 9]\n",
      "Shape after flatten : (9,)\n",
      "Array : \n",
      " [1 2 3 4 5 6 7 8 9]\n",
      "Shape after ravel : (9,)\n",
      "Array : \n",
      " [1 2 3 4 5 6 7 8 9]\n"
     ]
    }
   ],
   "source": [
    "\n",
    "b = ar1.flatten()\n",
    "c = ar1.ravel()\n",
    "print('Original shape :', ar1.shape)\n",
    "print('Array :','\\n', ar1)\n",
    "print('Shape after flatten :',b.shape)\n",
    "print('Array :','\\n', b)\n",
    "print('Shape after ravel :',c.shape)\n",
    "print('Array :','\\n', c)\n"
   ]
  },
  {
   "cell_type": "markdown",
   "metadata": {
    "papermill": {
     "duration": 0.087094,
     "end_time": "2021-09-26T13:39:06.803710",
     "exception": false,
     "start_time": "2021-09-26T13:39:06.716616",
     "status": "completed"
    },
    "tags": []
   },
   "source": [
    "## Arithmetic operation"
   ]
  },
  {
   "cell_type": "code",
   "execution_count": 29,
   "metadata": {
    "execution": {
     "iopub.execute_input": "2021-09-26T13:39:06.987979Z",
     "iopub.status.busy": "2021-09-26T13:39:06.986877Z",
     "iopub.status.idle": "2021-09-26T13:39:07.005007Z",
     "shell.execute_reply": "2021-09-26T13:39:07.005832Z",
     "shell.execute_reply.started": "2021-09-26T11:05:31.992486Z"
    },
    "papermill": {
     "duration": 0.111823,
     "end_time": "2021-09-26T13:39:07.006051",
     "exception": false,
     "start_time": "2021-09-26T13:39:06.894228",
     "status": "completed"
    },
    "tags": []
   },
   "outputs": [
    {
     "name": "stdout",
     "output_type": "stream",
     "text": [
      "addition: [  3   3  20 -10  18  10]\n",
      "subtraction: [ -1   1 -24 -16  10   0]\n",
      "multiplication: [  2   2 -44 -39  56  25]\n",
      "division: [ 0.5         2.         -0.09090909 -4.33333333  3.5         1.        ]\n",
      "power: [      1       2 4194304   -2197   38416    3125]\n",
      "remainder: [ 1  0 20  2  2  0]\n",
      "absolute value : [ 1  2  2 13 14  5]\n"
     ]
    }
   ],
   "source": [
    "import numpy as np\n",
    "\n",
    "a1 = np.array([1, 2, -2, -13, 14, 5])\n",
    "a2 = np.array([2, 1, 22, 3, 4, 5])\n",
    "\n",
    "#addition\n",
    "\n",
    "newarr = np.add(a1, a2)\n",
    "\n",
    "print(\"addition:\",newarr)\n",
    "\n",
    "#Subtraction\n",
    "newarr = np.subtract(a1, a2)\n",
    "\n",
    "print(\"subtraction:\",newarr)\n",
    "\n",
    "#multiplication\n",
    "\n",
    "newarr = np.multiply(a1, a2)\n",
    "print(\"multiplication:\",newarr)\n",
    "\n",
    "#division\n",
    "\n",
    "newarr = np.divide(a1, a2)\n",
    "\n",
    "print(\"division:\",newarr)\n",
    "\n",
    "#power\n",
    "\n",
    "newarr = np.power(a1, a2)\n",
    "\n",
    "print(\"power:\",newarr)\n",
    "\n",
    "#remainder\n",
    "newarr = np.mod(a1, a2)\n",
    "\n",
    "print(\"remainder:\",newarr)\n",
    "\n",
    "\n",
    "#absolute value\n",
    "newarr = np.absolute(a1)\n",
    "print(\"absolute value :\",newarr)\n"
   ]
  },
  {
   "cell_type": "markdown",
   "metadata": {
    "papermill": {
     "duration": 0.089964,
     "end_time": "2021-09-26T13:39:07.189105",
     "exception": false,
     "start_time": "2021-09-26T13:39:07.099141",
     "status": "completed"
    },
    "tags": []
   },
   "source": [
    "## Comparison\n",
    "> The conditional operators can be also implied as elementwise or arraywose"
   ]
  },
  {
   "cell_type": "code",
   "execution_count": 30,
   "metadata": {
    "execution": {
     "iopub.execute_input": "2021-09-26T13:39:07.366669Z",
     "iopub.status.busy": "2021-09-26T13:39:07.365647Z",
     "iopub.status.idle": "2021-09-26T13:39:07.371331Z",
     "shell.execute_reply": "2021-09-26T13:39:07.371871Z",
     "shell.execute_reply.started": "2021-09-26T11:10:55.022124Z"
    },
    "papermill": {
     "duration": 0.095021,
     "end_time": "2021-09-26T13:39:07.372024",
     "exception": false,
     "start_time": "2021-09-26T13:39:07.277003",
     "status": "completed"
    },
    "tags": []
   },
   "outputs": [],
   "source": [
    "#elementwise\n",
    "import numpy as np\n",
    "a1 = np.array([10, -5, 30, 40])\n",
    "a1< [15, 16, 2, 36]\n",
    "a2=np.array([1,2,3,4])"
   ]
  },
  {
   "cell_type": "code",
   "execution_count": 31,
   "metadata": {
    "execution": {
     "iopub.execute_input": "2021-09-26T13:39:07.547453Z",
     "iopub.status.busy": "2021-09-26T13:39:07.546402Z",
     "iopub.status.idle": "2021-09-26T13:39:07.552208Z",
     "shell.execute_reply": "2021-09-26T13:39:07.552708Z",
     "shell.execute_reply.started": "2021-09-26T11:10:59.041169Z"
    },
    "papermill": {
     "duration": 0.095184,
     "end_time": "2021-09-26T13:39:07.552869",
     "exception": false,
     "start_time": "2021-09-26T13:39:07.457685",
     "status": "completed"
    },
    "tags": []
   },
   "outputs": [
    {
     "data": {
      "text/plain": [
       "False"
      ]
     },
     "execution_count": 31,
     "metadata": {},
     "output_type": "execute_result"
    }
   ],
   "source": [
    "#arraywise\n",
    "\n",
    "np.array_equal(a1, a2) "
   ]
  },
  {
   "cell_type": "markdown",
   "metadata": {
    "papermill": {
     "duration": 0.087959,
     "end_time": "2021-09-26T13:39:07.728500",
     "exception": false,
     "start_time": "2021-09-26T13:39:07.640541",
     "status": "completed"
    },
    "tags": []
   },
   "source": [
    "## Array Expand or Shrink\n",
    ">  expand_dims() and squeeze()  are used to array manipuate"
   ]
  },
  {
   "cell_type": "code",
   "execution_count": 32,
   "metadata": {
    "execution": {
     "iopub.execute_input": "2021-09-26T13:39:07.907589Z",
     "iopub.status.busy": "2021-09-26T13:39:07.906492Z",
     "iopub.status.idle": "2021-09-26T13:39:07.919705Z",
     "shell.execute_reply": "2021-09-26T13:39:07.919001Z",
     "shell.execute_reply.started": "2021-09-26T12:16:21.637344Z"
    },
    "papermill": {
     "duration": 0.104067,
     "end_time": "2021-09-26T13:39:07.919826",
     "exception": false,
     "start_time": "2021-09-26T13:39:07.815759",
     "status": "completed"
    },
    "tags": []
   },
   "outputs": [
    {
     "name": "stdout",
     "output_type": "stream",
     "text": [
      "Expand along columns: Shape (1, 9) \n",
      " [[1 2 3 4 5 6 7 8 9]]\n",
      "Expand along rows: Shape (9, 1) \n",
      " [[1]\n",
      " [2]\n",
      " [3]\n",
      " [4]\n",
      " [5]\n",
      " [6]\n",
      " [7]\n",
      " [8]\n",
      " [9]]\n",
      "Original Shape (1, 2, 3) \n",
      " [[[3 4 5]\n",
      "  [1 9 5]]]\n",
      "Squeeze array: Shape (2, 3) \n",
      " [[3 4 5]\n",
      " [1 9 5]]\n"
     ]
    }
   ],
   "source": [
    "#Expand\n",
    "b = np.expand_dims(ar1,axis=0)\n",
    "c = np.expand_dims(ar1,axis=1)\n",
    "print('Expand along columns:','Shape',b.shape,'\\n',b)\n",
    "print('Expand along rows:','Shape',c.shape,'\\n',c)\n",
    "\n",
    "#Shrink\n",
    "ar2 = np.array([[[3,4,5],\n",
    "[1,9,5]]])\n",
    "print('Original','Shape',ar2.shape,'\\n',ar2)\n",
    "b = np.squeeze(ar2, axis=0)\n",
    "\n",
    "print('Squeeze array:','Shape',b.shape,'\\n',b)"
   ]
  },
  {
   "cell_type": "markdown",
   "metadata": {
    "papermill": {
     "duration": 0.086782,
     "end_time": "2021-09-26T13:39:08.093566",
     "exception": false,
     "start_time": "2021-09-26T13:39:08.006784",
     "status": "completed"
    },
    "tags": []
   },
   "source": [
    "## Linear Algebra\n",
    "> Vectorizing code is in terms of matrix and vector operations, like matrix-matrix multiplication."
   ]
  },
  {
   "cell_type": "markdown",
   "metadata": {
    "papermill": {
     "duration": 0.086898,
     "end_time": "2021-09-26T13:39:08.269117",
     "exception": false,
     "start_time": "2021-09-26T13:39:08.182219",
     "status": "completed"
    },
    "tags": []
   },
   "source": [
    "### Scalar-array operations\n",
    "> Usual arithmetic operations can be done."
   ]
  },
  {
   "cell_type": "code",
   "execution_count": 33,
   "metadata": {
    "execution": {
     "iopub.execute_input": "2021-09-26T13:39:08.449744Z",
     "iopub.status.busy": "2021-09-26T13:39:08.449079Z",
     "iopub.status.idle": "2021-09-26T13:39:08.452015Z",
     "shell.execute_reply": "2021-09-26T13:39:08.451527Z",
     "shell.execute_reply.started": "2021-09-26T11:15:42.171644Z"
    },
    "papermill": {
     "duration": 0.095346,
     "end_time": "2021-09-26T13:39:08.452126",
     "exception": false,
     "start_time": "2021-09-26T13:39:08.356780",
     "status": "completed"
    },
    "tags": []
   },
   "outputs": [],
   "source": [
    "import numpy as np\n",
    "ar1 = np.arange(0, 5)"
   ]
  },
  {
   "cell_type": "code",
   "execution_count": 34,
   "metadata": {
    "execution": {
     "iopub.execute_input": "2021-09-26T13:39:08.637234Z",
     "iopub.status.busy": "2021-09-26T13:39:08.636578Z",
     "iopub.status.idle": "2021-09-26T13:39:08.640783Z",
     "shell.execute_reply": "2021-09-26T13:39:08.640244Z",
     "shell.execute_reply.started": "2021-09-26T11:19:21.668296Z"
    },
    "papermill": {
     "duration": 0.101066,
     "end_time": "2021-09-26T13:39:08.640912",
     "exception": false,
     "start_time": "2021-09-26T13:39:08.539846",
     "status": "completed"
    },
    "tags": []
   },
   "outputs": [
    {
     "name": "stdout",
     "output_type": "stream",
     "text": [
      "[0 2 4 6 8]\n",
      "[2 3 4 5 6]\n",
      "[0 2 4 6 8] [-2 -1  0  1  2]\n"
     ]
    }
   ],
   "source": [
    "#multilplication\n",
    "print(ar1 * 2)\n",
    "\n",
    "#addition\n",
    "print(ar1+2)\n",
    "\n",
    "#extra calculation\n",
    "print(ar1* 2, ar1- 2)"
   ]
  },
  {
   "cell_type": "markdown",
   "metadata": {
    "papermill": {
     "duration": 0.087089,
     "end_time": "2021-09-26T13:39:08.815948",
     "exception": false,
     "start_time": "2021-09-26T13:39:08.728859",
     "status": "completed"
    },
    "tags": []
   },
   "source": [
    "### Matrix Arithmatic\n",
    "> Solving matrix multiplication using dot "
   ]
  },
  {
   "cell_type": "code",
   "execution_count": 35,
   "metadata": {
    "execution": {
     "iopub.execute_input": "2021-09-26T13:39:08.998051Z",
     "iopub.status.busy": "2021-09-26T13:39:08.997084Z",
     "iopub.status.idle": "2021-09-26T13:39:09.001272Z",
     "shell.execute_reply": "2021-09-26T13:39:09.000743Z",
     "shell.execute_reply.started": "2021-09-26T11:21:59.956993Z"
    },
    "papermill": {
     "duration": 0.096336,
     "end_time": "2021-09-26T13:39:09.001404",
     "exception": false,
     "start_time": "2021-09-26T13:39:08.905068",
     "status": "completed"
    },
    "tags": []
   },
   "outputs": [
    {
     "data": {
      "text/plain": [
       "30"
      ]
     },
     "execution_count": 35,
     "metadata": {},
     "output_type": "execute_result"
    }
   ],
   "source": [
    "np.dot(ar1, ar1)"
   ]
  },
  {
   "cell_type": "markdown",
   "metadata": {
    "papermill": {
     "duration": 0.088194,
     "end_time": "2021-09-26T13:39:09.178003",
     "exception": false,
     "start_time": "2021-09-26T13:39:09.089809",
     "status": "completed"
    },
    "tags": []
   },
   "source": [
    "### Matrix transformations\n",
    "> Using Transpose function to transpose matrix"
   ]
  },
  {
   "cell_type": "code",
   "execution_count": 36,
   "metadata": {
    "execution": {
     "iopub.execute_input": "2021-09-26T13:39:09.359192Z",
     "iopub.status.busy": "2021-09-26T13:39:09.358554Z",
     "iopub.status.idle": "2021-09-26T13:39:09.362358Z",
     "shell.execute_reply": "2021-09-26T13:39:09.361831Z",
     "shell.execute_reply.started": "2021-09-26T11:28:08.603118Z"
    },
    "papermill": {
     "duration": 0.096768,
     "end_time": "2021-09-26T13:39:09.362498",
     "exception": false,
     "start_time": "2021-09-26T13:39:09.265730",
     "status": "completed"
    },
    "tags": []
   },
   "outputs": [
    {
     "name": "stdout",
     "output_type": "stream",
     "text": [
      "[[ 0  1  2  3]\n",
      " [ 4  5  6  7]\n",
      " [ 8  9 10 11]]\n",
      "transposed matrix \n",
      " [[ 0  4  8]\n",
      " [ 1  5  9]\n",
      " [ 2  6 10]\n",
      " [ 3  7 11]]\n"
     ]
    }
   ],
   "source": [
    "import numpy as np\n",
    "x1 = np.arange(12).reshape(3,4)\n",
    "print(x1)\n",
    "x2= x1.T \n",
    "#transposing matrix\n",
    "print(\"transposed matrix \\n\",x2)"
   ]
  },
  {
   "cell_type": "markdown",
   "metadata": {
    "papermill": {
     "duration": 0.087079,
     "end_time": "2021-09-26T13:39:09.537163",
     "exception": false,
     "start_time": "2021-09-26T13:39:09.450084",
     "status": "completed"
    },
    "tags": []
   },
   "source": [
    "### Matrix computations"
   ]
  },
  {
   "cell_type": "markdown",
   "metadata": {
    "papermill": {
     "duration": 0.087013,
     "end_time": "2021-09-26T13:39:09.711840",
     "exception": false,
     "start_time": "2021-09-26T13:39:09.624827",
     "status": "completed"
    },
    "tags": []
   },
   "source": [
    "#### Inverse\n",
    "> To compute a square matrix's inverse"
   ]
  },
  {
   "cell_type": "code",
   "execution_count": 37,
   "metadata": {
    "execution": {
     "iopub.execute_input": "2021-09-26T13:39:09.908403Z",
     "iopub.status.busy": "2021-09-26T13:39:09.907585Z",
     "iopub.status.idle": "2021-09-26T13:39:09.912545Z",
     "shell.execute_reply": "2021-09-26T13:39:09.911989Z",
     "shell.execute_reply.started": "2021-09-26T11:45:19.599036Z"
    },
    "papermill": {
     "duration": 0.113124,
     "end_time": "2021-09-26T13:39:09.912660",
     "exception": false,
     "start_time": "2021-09-26T13:39:09.799536",
     "status": "completed"
    },
    "tags": []
   },
   "outputs": [
    {
     "name": "stdout",
     "output_type": "stream",
     "text": [
      "Inverse matrix [[-0.14285714  0.28571429 -0.04761905  0.19047619]\n",
      " [ 0.16666667 -0.16666667 -0.05555556 -0.11111111]\n",
      " [ 0.4047619   1.02380952 -0.42063492 -0.98412698]\n",
      " [-0.16666667 -0.83333333  0.38888889  0.77777778]]\n"
     ]
    }
   ],
   "source": [
    "\n",
    "import numpy as np\n",
    "x1= np.array([[2, 3, 4, 5],\n",
    "              [1, -2, 2, 2],\n",
    "              [-5, -9, 4, 5],\n",
    "              [4, 3, 1, 2]])\n",
    "print(\"Inverse matrix\", np.linalg.inv(x1))\n",
    "\n"
   ]
  },
  {
   "cell_type": "markdown",
   "metadata": {
    "papermill": {
     "duration": 0.089674,
     "end_time": "2021-09-26T13:39:10.090863",
     "exception": false,
     "start_time": "2021-09-26T13:39:10.001189",
     "status": "completed"
    },
    "tags": []
   },
   "source": [
    "#### Determinant\n",
    "> The det function computes the matrix determinant:"
   ]
  },
  {
   "cell_type": "code",
   "execution_count": 38,
   "metadata": {
    "execution": {
     "iopub.execute_input": "2021-09-26T13:39:10.279371Z",
     "iopub.status.busy": "2021-09-26T13:39:10.278725Z",
     "iopub.status.idle": "2021-09-26T13:39:10.282414Z",
     "shell.execute_reply": "2021-09-26T13:39:10.281886Z",
     "shell.execute_reply.started": "2021-09-26T11:42:26.383214Z"
    },
    "papermill": {
     "duration": 0.10002,
     "end_time": "2021-09-26T13:39:10.282531",
     "exception": false,
     "start_time": "2021-09-26T13:39:10.182511",
     "status": "completed"
    },
    "tags": []
   },
   "outputs": [
    {
     "name": "stdout",
     "output_type": "stream",
     "text": [
      "Determinant of x1 -125.99999999999989\n"
     ]
    }
   ],
   "source": [
    "print(\"Determinant of x1\",np.linalg.det(x1))"
   ]
  },
  {
   "cell_type": "markdown",
   "metadata": {
    "papermill": {
     "duration": 0.087905,
     "end_time": "2021-09-26T13:39:10.458864",
     "exception": false,
     "start_time": "2021-09-26T13:39:10.370959",
     "status": "completed"
    },
    "tags": []
   },
   "source": [
    "## Identity matrix\n",
    "> create an identity matrix using eye"
   ]
  },
  {
   "cell_type": "code",
   "execution_count": 39,
   "metadata": {
    "execution": {
     "iopub.execute_input": "2021-09-26T13:39:10.647212Z",
     "iopub.status.busy": "2021-09-26T13:39:10.646353Z",
     "iopub.status.idle": "2021-09-26T13:39:10.685002Z",
     "shell.execute_reply": "2021-09-26T13:39:10.684158Z",
     "shell.execute_reply.started": "2021-09-26T11:42:46.929663Z"
    },
    "papermill": {
     "duration": 0.135309,
     "end_time": "2021-09-26T13:39:10.685126",
     "exception": false,
     "start_time": "2021-09-26T13:39:10.549817",
     "status": "completed"
    },
    "tags": []
   },
   "outputs": [
    {
     "name": "stdout",
     "output_type": "stream",
     "text": [
      "Identity matrix\n"
     ]
    },
    {
     "data": {
      "text/plain": [
       "array([[1., 0., 0.],\n",
       "       [0., 1., 0.],\n",
       "       [0., 0., 1.]])"
      ]
     },
     "execution_count": 39,
     "metadata": {},
     "output_type": "execute_result"
    }
   ],
   "source": [
    "x1.dot(np.linalg.inv(x1))\n",
    "print(\"Identity matrix\")\n",
    "np.eye(3)"
   ]
  },
  {
   "cell_type": "markdown",
   "metadata": {
    "papermill": {
     "duration": 0.089105,
     "end_time": "2021-09-26T13:39:10.865192",
     "exception": false,
     "start_time": "2021-09-26T13:39:10.776087",
     "status": "completed"
    },
    "tags": []
   },
   "source": [
    "## Eigenvalues and eigenvectors\n",
    ">  eig function finds the eigenvalues and eigenvectors of a square matrix:"
   ]
  },
  {
   "cell_type": "code",
   "execution_count": 40,
   "metadata": {
    "execution": {
     "iopub.execute_input": "2021-09-26T13:39:11.073936Z",
     "iopub.status.busy": "2021-09-26T13:39:11.073211Z",
     "iopub.status.idle": "2021-09-26T13:39:11.078746Z",
     "shell.execute_reply": "2021-09-26T13:39:11.078007Z",
     "shell.execute_reply.started": "2021-09-26T11:46:01.185875Z"
    },
    "papermill": {
     "duration": 0.123277,
     "end_time": "2021-09-26T13:39:11.078906",
     "exception": false,
     "start_time": "2021-09-26T13:39:10.955629",
     "status": "completed"
    },
    "tags": []
   },
   "outputs": [
    {
     "name": "stdout",
     "output_type": "stream",
     "text": [
      "eigenvalues\n"
     ]
    },
    {
     "data": {
      "text/plain": [
       "array([-2.27973942+0.j        ,  1.56798566+2.87860383j,\n",
       "        1.56798566-2.87860383j,  5.14376809+0.j        ])"
      ]
     },
     "execution_count": 40,
     "metadata": {},
     "output_type": "execute_result"
    }
   ],
   "source": [
    "import numpy as np\n",
    "eigenvalues, eigenvectors = np.linalg.eig(x1)\n",
    "print(\"eigenvalues\")\n",
    "eigenvalues\n"
   ]
  },
  {
   "cell_type": "code",
   "execution_count": 41,
   "metadata": {
    "execution": {
     "iopub.execute_input": "2021-09-26T13:39:11.268748Z",
     "iopub.status.busy": "2021-09-26T13:39:11.267725Z",
     "iopub.status.idle": "2021-09-26T13:39:11.272888Z",
     "shell.execute_reply": "2021-09-26T13:39:11.273350Z",
     "shell.execute_reply.started": "2021-09-26T11:46:09.357967Z"
    },
    "papermill": {
     "duration": 0.102401,
     "end_time": "2021-09-26T13:39:11.273536",
     "exception": false,
     "start_time": "2021-09-26T13:39:11.171135",
     "status": "completed"
    },
    "tags": []
   },
   "outputs": [
    {
     "name": "stdout",
     "output_type": "stream",
     "text": [
      "eigenvectors\n"
     ]
    },
    {
     "data": {
      "text/plain": [
       "array([[-0.75547339+0.j        ,  0.16908488+0.27097668j,\n",
       "         0.16908488-0.27097668j,  0.55029437+0.j        ],\n",
       "       [ 0.58405855+0.j        , -0.03685258+0.11009381j,\n",
       "        -0.03685258-0.11009381j,  0.12534953+0.j        ],\n",
       "       [-0.00083061+0.j        , -0.80120316+0.j        ,\n",
       "        -0.80120316-0.j        , -0.49101521+0.j        ],\n",
       "       [ 0.2968752 +0.j        ,  0.49245776+0.00787623j,\n",
       "         0.49245776-0.00787623j,  0.66360203+0.j        ]])"
      ]
     },
     "execution_count": 41,
     "metadata": {},
     "output_type": "execute_result"
    }
   ],
   "source": [
    "print(\"eigenvectors\")\n",
    "eigenvectors"
   ]
  },
  {
   "cell_type": "markdown",
   "metadata": {
    "papermill": {
     "duration": 0.092908,
     "end_time": "2021-09-26T13:39:11.457480",
     "exception": false,
     "start_time": "2021-09-26T13:39:11.364572",
     "status": "completed"
    },
    "tags": []
   },
   "source": [
    "## Solving Linear Equations\n",
    "The solve function solves a system of linear scalar equations, such as:\n",
    "\n",
    "4x+2y=8\n",
    "\n",
    "3x+8y=−9"
   ]
  },
  {
   "cell_type": "code",
   "execution_count": 42,
   "metadata": {
    "execution": {
     "iopub.execute_input": "2021-09-26T13:39:11.670333Z",
     "iopub.status.busy": "2021-09-26T13:39:11.669588Z",
     "iopub.status.idle": "2021-09-26T13:39:11.674159Z",
     "shell.execute_reply": "2021-09-26T13:39:11.673574Z",
     "shell.execute_reply.started": "2021-09-26T11:50:31.002427Z"
    },
    "papermill": {
     "duration": 0.119953,
     "end_time": "2021-09-26T13:39:11.674284",
     "exception": false,
     "start_time": "2021-09-26T13:39:11.554331",
     "status": "completed"
    },
    "tags": []
   },
   "outputs": [
    {
     "data": {
      "text/plain": [
       "array([ 3.15384615, -2.30769231])"
      ]
     },
     "execution_count": 42,
     "metadata": {},
     "output_type": "execute_result"
    }
   ],
   "source": [
    "import numpy as np\n",
    "x = np.array([[4, 2], [3, 8]])\n",
    "y = np.array([8, -9])\n",
    "values = np.linalg.solve(x, y)\n",
    "values"
   ]
  },
  {
   "cell_type": "markdown",
   "metadata": {
    "papermill": {
     "duration": 0.090628,
     "end_time": "2021-09-26T13:39:11.855808",
     "exception": false,
     "start_time": "2021-09-26T13:39:11.765180",
     "status": "completed"
    },
    "tags": []
   },
   "source": [
    "### Mathematical and statistical functions\n",
    "> If there is a large amount of data,we can use mathmatical and statistical functions like (the sum, product, median, minimum and maximum, quantiles, etc.) to find typical values."
   ]
  },
  {
   "cell_type": "code",
   "execution_count": 43,
   "metadata": {
    "execution": {
     "iopub.execute_input": "2021-09-26T13:39:12.045502Z",
     "iopub.status.busy": "2021-09-26T13:39:12.044451Z",
     "iopub.status.idle": "2021-09-26T13:39:12.051706Z",
     "shell.execute_reply": "2021-09-26T13:39:12.052584Z",
     "shell.execute_reply.started": "2021-09-26T12:04:44.053537Z"
    },
    "papermill": {
     "duration": 0.106289,
     "end_time": "2021-09-26T13:39:12.052834",
     "exception": false,
     "start_time": "2021-09-26T13:39:11.946545",
     "status": "completed"
    },
    "tags": []
   },
   "outputs": [
    {
     "name": "stdout",
     "output_type": "stream",
     "text": [
      "min = 1.0\n",
      "max = 12.0\n",
      "sum = 41.1\n",
      "prod = 9820.800000000001\n",
      "std = 4.866124399012695\n",
      "var = 23.679166666666664\n",
      "mean = 6.8500000000000005\n"
     ]
    }
   ],
   "source": [
    "import numpy as np\n",
    "x1 = np.array([[1, 3.1, 2], [12, 12, 11]])\n",
    "for func in (x1.min, x1.max, x1.sum, x1.prod, x1.std, x1.var,x1.mean):\n",
    "    print(func.__name__, \"=\", func())"
   ]
  },
  {
   "cell_type": "markdown",
   "metadata": {
    "papermill": {
     "duration": 0.09556,
     "end_time": "2021-09-26T13:39:12.241080",
     "exception": false,
     "start_time": "2021-09-26T13:39:12.145520",
     "status": "completed"
    },
    "tags": []
   },
   "source": [
    "## Universal Function\n",
    "> It provides fast elementwise functions called universal functions, or ufunc."
   ]
  },
  {
   "cell_type": "code",
   "execution_count": 44,
   "metadata": {
    "execution": {
     "iopub.execute_input": "2021-09-26T13:39:12.433775Z",
     "iopub.status.busy": "2021-09-26T13:39:12.432903Z",
     "iopub.status.idle": "2021-09-26T13:39:12.440308Z",
     "shell.execute_reply": "2021-09-26T13:39:12.439616Z",
     "shell.execute_reply.started": "2021-09-26T12:07:27.222774Z"
    },
    "papermill": {
     "duration": 0.107279,
     "end_time": "2021-09-26T13:39:12.440469",
     "exception": false,
     "start_time": "2021-09-26T13:39:12.333190",
     "status": "completed"
    },
    "tags": []
   },
   "outputs": [
    {
     "name": "stdout",
     "output_type": "stream",
     "text": [
      "\n",
      " absolute\n",
      "[[ 1.   3.1  2. ]\n",
      " [12.  12.  11. ]]\n",
      "\n",
      " sqrt\n",
      "[[1.         1.76068169 1.41421356]\n",
      " [3.46410162 3.46410162 3.31662479]]\n",
      "\n",
      " exp\n",
      "[[2.71828183e+00 2.21979513e+01 7.38905610e+00]\n",
      " [1.62754791e+05 1.62754791e+05 5.98741417e+04]]\n",
      "\n",
      " log\n",
      "[[0.         1.13140211 0.69314718]\n",
      " [2.48490665 2.48490665 2.39789527]]\n",
      "\n",
      " sign\n",
      "[[1. 1. 1.]\n",
      " [1. 1. 1.]]\n",
      "\n",
      " ceil\n",
      "[[ 1.  4.  2.]\n",
      " [12. 12. 11.]]\n",
      "\n",
      " modf\n",
      "(array([[0. , 0.1, 0. ],\n",
      "       [0. , 0. , 0. ]]), array([[ 1.,  3.,  2.],\n",
      "       [12., 12., 11.]]))\n",
      "\n",
      " isnan\n",
      "[[False False False]\n",
      " [False False False]]\n",
      "\n",
      " cos\n",
      "[[ 0.54030231 -0.99913515 -0.41614684]\n",
      " [ 0.84385396  0.84385396  0.0044257 ]]\n"
     ]
    }
   ],
   "source": [
    "import numpy as np\n",
    "x1 = np.array([[1, 3.1, 2], [12, 12, 11]])\n",
    "for func in (np.abs, np.sqrt, np.exp, np.log, np.sign, np.ceil, np.modf, np.isnan, np.cos):\n",
    "    print(\"\\n\", func.__name__)\n",
    "    print(func(x1))\n"
   ]
  },
  {
   "cell_type": "markdown",
   "metadata": {
    "papermill": {
     "duration": 0.09148,
     "end_time": "2021-09-26T13:39:12.624560",
     "exception": false,
     "start_time": "2021-09-26T13:39:12.533080",
     "status": "completed"
    },
    "tags": []
   },
   "source": [
    "## Stacking and Concatenating arrays\n",
    "> Using function repeat, tile, vstack, hstack, and concatenate we can create larger vectors and matrices ."
   ]
  },
  {
   "cell_type": "markdown",
   "metadata": {
    "papermill": {
     "duration": 0.090768,
     "end_time": "2021-09-26T13:39:12.807702",
     "exception": false,
     "start_time": "2021-09-26T13:39:12.716934",
     "status": "completed"
    },
    "tags": []
   },
   "source": [
    "### tile and repeat"
   ]
  },
  {
   "cell_type": "code",
   "execution_count": 45,
   "metadata": {
    "execution": {
     "iopub.execute_input": "2021-09-26T13:39:13.002525Z",
     "iopub.status.busy": "2021-09-26T13:39:13.001600Z",
     "iopub.status.idle": "2021-09-26T13:39:13.004953Z",
     "shell.execute_reply": "2021-09-26T13:39:13.005427Z",
     "shell.execute_reply.started": "2021-09-26T12:29:11.949356Z"
    },
    "papermill": {
     "duration": 0.103986,
     "end_time": "2021-09-26T13:39:13.005589",
     "exception": false,
     "start_time": "2021-09-26T13:39:12.901603",
     "status": "completed"
    },
    "tags": []
   },
   "outputs": [
    {
     "data": {
      "text/plain": [
       "array([1, 1, 1, 2, 2, 2, 4, 4, 4, 3, 3, 3, 4, 4, 4, 1, 1, 1])"
      ]
     },
     "execution_count": 45,
     "metadata": {},
     "output_type": "execute_result"
    }
   ],
   "source": [
    "import numpy as np\n",
    "ar1 = np.array([[1, 2, 4], [3, 4,1 ]])\n",
    "np. repeat(ar1,3) #repeating each element 3 times\n"
   ]
  },
  {
   "cell_type": "code",
   "execution_count": 46,
   "metadata": {
    "execution": {
     "iopub.execute_input": "2021-09-26T13:39:13.195606Z",
     "iopub.status.busy": "2021-09-26T13:39:13.194721Z",
     "iopub.status.idle": "2021-09-26T13:39:13.198123Z",
     "shell.execute_reply": "2021-09-26T13:39:13.198869Z",
     "shell.execute_reply.started": "2021-09-26T12:29:17.342053Z"
    },
    "papermill": {
     "duration": 0.101449,
     "end_time": "2021-09-26T13:39:13.199115",
     "exception": false,
     "start_time": "2021-09-26T13:39:13.097666",
     "status": "completed"
    },
    "tags": []
   },
   "outputs": [
    {
     "name": "stdout",
     "output_type": "stream",
     "text": [
      "[[1 2 4 1 2 4 1 2 4]\n",
      " [3 4 1 3 4 1 3 4 1]]\n"
     ]
    }
   ],
   "source": [
    "# tile the matrix 3 times \n",
    "ar2=np.tile(ar1, 3)\n",
    "print(ar2)"
   ]
  },
  {
   "cell_type": "markdown",
   "metadata": {
    "papermill": {
     "duration": 0.093347,
     "end_time": "2021-09-26T13:39:13.385939",
     "exception": false,
     "start_time": "2021-09-26T13:39:13.292592",
     "status": "completed"
    },
    "tags": []
   },
   "source": [
    "### concatenation"
   ]
  },
  {
   "cell_type": "code",
   "execution_count": 47,
   "metadata": {
    "execution": {
     "iopub.execute_input": "2021-09-26T13:39:13.578229Z",
     "iopub.status.busy": "2021-09-26T13:39:13.577581Z",
     "iopub.status.idle": "2021-09-26T13:39:13.581922Z",
     "shell.execute_reply": "2021-09-26T13:39:13.581317Z",
     "shell.execute_reply.started": "2021-09-26T12:29:22.448268Z"
    },
    "papermill": {
     "duration": 0.102676,
     "end_time": "2021-09-26T13:39:13.582037",
     "exception": false,
     "start_time": "2021-09-26T13:39:13.479361",
     "status": "completed"
    },
    "tags": []
   },
   "outputs": [
    {
     "data": {
      "text/plain": [
       "array([[1, 2, 4],\n",
       "       [3, 4, 1],\n",
       "       [5, 6, 4]])"
      ]
     },
     "execution_count": 47,
     "metadata": {},
     "output_type": "execute_result"
    }
   ],
   "source": [
    "ar2 = np.array([[5, 6, 4]])\n",
    "np.concatenate((ar1, ar2), axis=0) #adding into row axis"
   ]
  },
  {
   "cell_type": "markdown",
   "metadata": {
    "papermill": {
     "duration": 0.092185,
     "end_time": "2021-09-26T13:39:13.766546",
     "exception": false,
     "start_time": "2021-09-26T13:39:13.674361",
     "status": "completed"
    },
    "tags": []
   },
   "source": [
    "### hstack and vstack\n",
    "\n",
    "`hstack`  and 'vstack' can appened data horizontally and horizontally respectively"
   ]
  },
  {
   "cell_type": "code",
   "execution_count": 48,
   "metadata": {
    "execution": {
     "iopub.execute_input": "2021-09-26T13:39:13.957888Z",
     "iopub.status.busy": "2021-09-26T13:39:13.957074Z",
     "iopub.status.idle": "2021-09-26T13:39:13.960904Z",
     "shell.execute_reply": "2021-09-26T13:39:13.961401Z",
     "shell.execute_reply.started": "2021-09-26T12:29:37.508604Z"
    },
    "papermill": {
     "duration": 0.102971,
     "end_time": "2021-09-26T13:39:13.961556",
     "exception": false,
     "start_time": "2021-09-26T13:39:13.858585",
     "status": "completed"
    },
    "tags": []
   },
   "outputs": [
    {
     "data": {
      "text/plain": [
       "array([[1, 2, 4],\n",
       "       [3, 4, 1],\n",
       "       [5, 6, 4]])"
      ]
     },
     "execution_count": 48,
     "metadata": {},
     "output_type": "execute_result"
    }
   ],
   "source": [
    "np.vstack((ar1,ar2))"
   ]
  },
  {
   "cell_type": "markdown",
   "metadata": {
    "papermill": {
     "duration": 0.092167,
     "end_time": "2021-09-26T13:39:14.146738",
     "exception": false,
     "start_time": "2021-09-26T13:39:14.054571",
     "status": "completed"
    },
    "tags": []
   },
   "source": [
    "vstack need same size of data"
   ]
  },
  {
   "cell_type": "code",
   "execution_count": 49,
   "metadata": {
    "execution": {
     "iopub.execute_input": "2021-09-26T13:39:14.339052Z",
     "iopub.status.busy": "2021-09-26T13:39:14.338399Z",
     "iopub.status.idle": "2021-09-26T13:39:14.342864Z",
     "shell.execute_reply": "2021-09-26T13:39:14.342252Z",
     "shell.execute_reply.started": "2021-09-26T12:31:06.175625Z"
    },
    "papermill": {
     "duration": 0.102831,
     "end_time": "2021-09-26T13:39:14.342974",
     "exception": false,
     "start_time": "2021-09-26T13:39:14.240143",
     "status": "completed"
    },
    "tags": []
   },
   "outputs": [
    {
     "data": {
      "text/plain": [
       "array([[0, 1, 2, 3],\n",
       "       [4, 5, 6, 7]])"
      ]
     },
     "execution_count": 49,
     "metadata": {},
     "output_type": "execute_result"
    }
   ],
   "source": [
    "ar1= np.arange(0,4)\n",
    "ar2 = np.arange(4,8)\n",
    "np.vstack((ar1,ar2))"
   ]
  },
  {
   "cell_type": "markdown",
   "metadata": {
    "papermill": {
     "duration": 0.092678,
     "end_time": "2021-09-26T13:39:14.528802",
     "exception": false,
     "start_time": "2021-09-26T13:39:14.436124",
     "status": "completed"
    },
    "tags": []
   },
   "source": [
    "## dstack\n",
    "> dstack() can combine array elements index by depth axis:"
   ]
  },
  {
   "cell_type": "code",
   "execution_count": 50,
   "metadata": {
    "execution": {
     "iopub.execute_input": "2021-09-26T13:39:14.721829Z",
     "iopub.status.busy": "2021-09-26T13:39:14.721200Z",
     "iopub.status.idle": "2021-09-26T13:39:14.727903Z",
     "shell.execute_reply": "2021-09-26T13:39:14.728353Z",
     "shell.execute_reply.started": "2021-09-26T12:35:59.244335Z"
    },
    "papermill": {
     "duration": 0.104743,
     "end_time": "2021-09-26T13:39:14.728530",
     "exception": false,
     "start_time": "2021-09-26T13:39:14.623787",
     "status": "completed"
    },
    "tags": []
   },
   "outputs": [
    {
     "data": {
      "text/plain": [
       "array([[[0, 4],\n",
       "        [1, 5],\n",
       "        [2, 6],\n",
       "        [3, 7]]])"
      ]
     },
     "execution_count": 50,
     "metadata": {},
     "output_type": "execute_result"
    }
   ],
   "source": [
    "import numpy as np\n",
    "ar1= np.arange(0,4)\n",
    "ar2 = np.arange(4,8)\n",
    "np.dstack((ar1,ar2))"
   ]
  },
  {
   "cell_type": "markdown",
   "metadata": {
    "papermill": {
     "duration": 0.097157,
     "end_time": "2021-09-26T13:39:14.919194",
     "exception": false,
     "start_time": "2021-09-26T13:39:14.822037",
     "status": "completed"
    },
    "tags": []
   },
   "source": [
    "## Broadcasting\n",
    "> This one is cool ! It lets you perform any operations in different size array"
   ]
  },
  {
   "cell_type": "code",
   "execution_count": 51,
   "metadata": {
    "execution": {
     "iopub.execute_input": "2021-09-26T13:39:15.114653Z",
     "iopub.status.busy": "2021-09-26T13:39:15.114004Z",
     "iopub.status.idle": "2021-09-26T13:39:15.118494Z",
     "shell.execute_reply": "2021-09-26T13:39:15.118955Z",
     "shell.execute_reply.started": "2021-09-26T12:39:56.055852Z"
    },
    "papermill": {
     "duration": 0.104548,
     "end_time": "2021-09-26T13:39:15.119100",
     "exception": false,
     "start_time": "2021-09-26T13:39:15.014552",
     "status": "completed"
    },
    "tags": []
   },
   "outputs": [
    {
     "data": {
      "text/plain": [
       "array([[-1., -1., -1.],\n",
       "       [-1., -1., -1.],\n",
       "       [-1., -1., -1.]])"
      ]
     },
     "execution_count": 51,
     "metadata": {},
     "output_type": "execute_result"
    }
   ],
   "source": [
    "import numpy as np\n",
    "ar1 = np.ones((3,3))\n",
    "ar2= np.array([2])\n",
    "ar1-ar2"
   ]
  },
  {
   "cell_type": "markdown",
   "metadata": {
    "papermill": {
     "duration": 0.093989,
     "end_time": "2021-09-26T13:39:15.308270",
     "exception": false,
     "start_time": "2021-09-26T13:39:15.214281",
     "status": "completed"
    },
    "tags": []
   },
   "source": [
    "## Sorting Array "
   ]
  },
  {
   "cell_type": "code",
   "execution_count": 52,
   "metadata": {
    "execution": {
     "iopub.execute_input": "2021-09-26T13:39:15.502960Z",
     "iopub.status.busy": "2021-09-26T13:39:15.502279Z",
     "iopub.status.idle": "2021-09-26T13:39:15.505841Z",
     "shell.execute_reply": "2021-09-26T13:39:15.506357Z",
     "shell.execute_reply.started": "2021-09-26T12:41:20.771039Z"
    },
    "papermill": {
     "duration": 0.103393,
     "end_time": "2021-09-26T13:39:15.506517",
     "exception": false,
     "start_time": "2021-09-26T13:39:15.403124",
     "status": "completed"
    },
    "tags": []
   },
   "outputs": [
    {
     "name": "stdout",
     "output_type": "stream",
     "text": [
      "[0 1 2 3]\n"
     ]
    }
   ],
   "source": [
    "import numpy as np\n",
    "\n",
    "ar1 = np.array([3, 2, 0, 1])\n",
    "\n",
    "print(np.sort(ar1))\n"
   ]
  },
  {
   "cell_type": "markdown",
   "metadata": {
    "papermill": {
     "duration": 0.094344,
     "end_time": "2021-09-26T13:39:15.695604",
     "exception": false,
     "start_time": "2021-09-26T13:39:15.601260",
     "status": "completed"
    },
    "tags": []
   },
   "source": [
    "## Filter Array\n",
    "> filtering out some old values using some new ones !\n"
   ]
  },
  {
   "cell_type": "code",
   "execution_count": 53,
   "metadata": {
    "execution": {
     "iopub.execute_input": "2021-09-26T13:39:15.893263Z",
     "iopub.status.busy": "2021-09-26T13:39:15.892410Z",
     "iopub.status.idle": "2021-09-26T13:39:15.895636Z",
     "shell.execute_reply": "2021-09-26T13:39:15.896354Z",
     "shell.execute_reply.started": "2021-09-26T12:45:01.176163Z"
    },
    "papermill": {
     "duration": 0.106213,
     "end_time": "2021-09-26T13:39:15.896566",
     "exception": false,
     "start_time": "2021-09-26T13:39:15.790353",
     "status": "completed"
    },
    "tags": []
   },
   "outputs": [
    {
     "name": "stdout",
     "output_type": "stream",
     "text": [
      "[1 2 3 4]\n",
      "[3 4]\n"
     ]
    }
   ],
   "source": [
    "import numpy as np\n",
    "\n",
    "ar1 = np.array([1, 2, 3, 4])\n",
    "print(ar1)\n",
    "\n",
    "#creating a filter which will remove values less or equal than 2\n",
    "filtered = ar1 > 2\n",
    "newarr = ar1[filtered]\n",
    "print(newarr)"
   ]
  },
  {
   "cell_type": "markdown",
   "metadata": {
    "papermill": {
     "duration": 0.093694,
     "end_time": "2021-09-26T13:39:16.086771",
     "exception": false,
     "start_time": "2021-09-26T13:39:15.993077",
     "status": "completed"
    },
    "tags": []
   },
   "source": [
    "## Iteration over elements"
   ]
  },
  {
   "cell_type": "code",
   "execution_count": 54,
   "metadata": {
    "execution": {
     "iopub.execute_input": "2021-09-26T13:39:16.287039Z",
     "iopub.status.busy": "2021-09-26T13:39:16.286176Z",
     "iopub.status.idle": "2021-09-26T13:39:16.289314Z",
     "shell.execute_reply": "2021-09-26T13:39:16.289846Z",
     "shell.execute_reply.started": "2021-09-26T12:51:14.250673Z"
    },
    "papermill": {
     "duration": 0.105921,
     "end_time": "2021-09-26T13:39:16.289991",
     "exception": false,
     "start_time": "2021-09-26T13:39:16.184070",
     "status": "completed"
    },
    "tags": []
   },
   "outputs": [
    {
     "name": "stdout",
     "output_type": "stream",
     "text": [
      "values in the list\n",
      "[2 4 1 8]\n",
      "[9 7 6 7]\n"
     ]
    }
   ],
   "source": [
    "ar1= np.array([[2,4,1,8],[9,7,6,7]])\n",
    "print(\"values in the list\")\n",
    "for e in ar1:\n",
    "    print(e)\n"
   ]
  },
  {
   "cell_type": "markdown",
   "metadata": {
    "papermill": {
     "duration": 0.096218,
     "end_time": "2021-09-26T13:39:16.481424",
     "exception": false,
     "start_time": "2021-09-26T13:39:16.385206",
     "status": "completed"
    },
    "tags": []
   },
   "source": [
    "## Using arrays in conditions\n",
    "> Using arrays in conditions with if/ else"
   ]
  },
  {
   "cell_type": "code",
   "execution_count": 55,
   "metadata": {
    "execution": {
     "iopub.execute_input": "2021-09-26T13:39:16.678699Z",
     "iopub.status.busy": "2021-09-26T13:39:16.677776Z",
     "iopub.status.idle": "2021-09-26T13:39:16.682361Z",
     "shell.execute_reply": "2021-09-26T13:39:16.681837Z",
     "shell.execute_reply.started": "2021-09-26T12:55:13.815823Z"
    },
    "papermill": {
     "duration": 0.105815,
     "end_time": "2021-09-26T13:39:16.682499",
     "exception": false,
     "start_time": "2021-09-26T13:39:16.576684",
     "status": "completed"
    },
    "tags": []
   },
   "outputs": [
    {
     "name": "stdout",
     "output_type": "stream",
     "text": [
      "no value is larger than 2\n"
     ]
    }
   ],
   "source": [
    "import numpy as np\n",
    "ar1= np.array([2,4,1,8])\n",
    "if (ar1 > 2).all():\n",
    "    print(\"There are values larger than 2\")\n",
    "else:\n",
    "    print(\"no value is larger than 2\")"
   ]
  },
  {
   "cell_type": "markdown",
   "metadata": {
    "papermill": {
     "duration": 0.096869,
     "end_time": "2021-09-26T13:39:16.875118",
     "exception": false,
     "start_time": "2021-09-26T13:39:16.778249",
     "status": "completed"
    },
    "tags": []
   },
   "source": [
    "## Type casting\n",
    "> We can use astype function for casting changes"
   ]
  },
  {
   "cell_type": "code",
   "execution_count": 56,
   "metadata": {
    "execution": {
     "iopub.execute_input": "2021-09-26T13:39:17.076693Z",
     "iopub.status.busy": "2021-09-26T13:39:17.075844Z",
     "iopub.status.idle": "2021-09-26T13:39:17.079740Z",
     "shell.execute_reply": "2021-09-26T13:39:17.079218Z",
     "shell.execute_reply.started": "2021-09-26T12:56:50.746108Z"
    },
    "papermill": {
     "duration": 0.105759,
     "end_time": "2021-09-26T13:39:17.079855",
     "exception": false,
     "start_time": "2021-09-26T13:39:16.974096",
     "status": "completed"
    },
    "tags": []
   },
   "outputs": [
    {
     "data": {
      "text/plain": [
       "dtype('int64')"
      ]
     },
     "execution_count": 56,
     "metadata": {},
     "output_type": "execute_result"
    }
   ],
   "source": [
    "ar1.dtype"
   ]
  },
  {
   "cell_type": "code",
   "execution_count": 57,
   "metadata": {
    "execution": {
     "iopub.execute_input": "2021-09-26T13:39:17.278965Z",
     "iopub.status.busy": "2021-09-26T13:39:17.278290Z",
     "iopub.status.idle": "2021-09-26T13:39:17.282220Z",
     "shell.execute_reply": "2021-09-26T13:39:17.281298Z",
     "shell.execute_reply.started": "2021-09-26T12:58:00.948312Z"
    },
    "papermill": {
     "duration": 0.105146,
     "end_time": "2021-09-26T13:39:17.282373",
     "exception": false,
     "start_time": "2021-09-26T13:39:17.177227",
     "status": "completed"
    },
    "tags": []
   },
   "outputs": [
    {
     "name": "stdout",
     "output_type": "stream",
     "text": [
      "[2.]\n",
      "float64\n"
     ]
    }
   ],
   "source": [
    "ar2 = ar2.astype(float)\n",
    "print(ar2)\n",
    "#checking dtype again\n",
    "print(ar2.dtype)"
   ]
  },
  {
   "cell_type": "code",
   "execution_count": 58,
   "metadata": {
    "execution": {
     "iopub.execute_input": "2021-09-26T13:39:17.482925Z",
     "iopub.status.busy": "2021-09-26T13:39:17.482223Z",
     "iopub.status.idle": "2021-09-26T13:39:17.485829Z",
     "shell.execute_reply": "2021-09-26T13:39:17.486288Z",
     "shell.execute_reply.started": "2021-09-26T12:58:17.977564Z"
    },
    "papermill": {
     "duration": 0.104973,
     "end_time": "2021-09-26T13:39:17.486447",
     "exception": false,
     "start_time": "2021-09-26T13:39:17.381474",
     "status": "completed"
    },
    "tags": []
   },
   "outputs": [
    {
     "name": "stdout",
     "output_type": "stream",
     "text": [
      "[ True]\n"
     ]
    }
   ],
   "source": [
    "ar3 = ar2.astype(bool)\n",
    "print(ar3)"
   ]
  },
  {
   "cell_type": "markdown",
   "metadata": {
    "papermill": {
     "duration": 0.096471,
     "end_time": "2021-09-26T13:39:17.679556",
     "exception": false,
     "start_time": "2021-09-26T13:39:17.583085",
     "status": "completed"
    },
    "tags": []
   },
   "source": [
    "## Image  Analysis Using numpy \n",
    "> We have implemented some of numpy functions in array or matrix ! but what about Image. Lets try it!\n"
   ]
  },
  {
   "cell_type": "markdown",
   "metadata": {
    "papermill": {
     "duration": 0.098374,
     "end_time": "2021-09-26T13:39:17.877162",
     "exception": false,
     "start_time": "2021-09-26T13:39:17.778788",
     "status": "completed"
    },
    "tags": []
   },
   "source": [
    "## Image Creation"
   ]
  },
  {
   "cell_type": "code",
   "execution_count": 59,
   "metadata": {
    "execution": {
     "iopub.execute_input": "2021-09-26T13:39:18.078416Z",
     "iopub.status.busy": "2021-09-26T13:39:18.077723Z",
     "iopub.status.idle": "2021-09-26T13:39:18.250361Z",
     "shell.execute_reply": "2021-09-26T13:39:18.250945Z",
     "shell.execute_reply.started": "2021-09-26T13:14:20.332386Z"
    },
    "papermill": {
     "duration": 0.277083,
     "end_time": "2021-09-26T13:39:18.251098",
     "exception": false,
     "start_time": "2021-09-26T13:39:17.974015",
     "status": "completed"
    },
    "tags": []
   },
   "outputs": [
    {
     "data": {
      "text/plain": [
       "<matplotlib.image.AxesImage at 0x7fcb38a33f50>"
      ]
     },
     "execution_count": 59,
     "metadata": {},
     "output_type": "execute_result"
    },
    {
     "data": {
      "image/png": "[encoded data removed]",
      "text/plain": [
       "<Figure size 432x288 with 1 Axes>"
      ]
     },
     "metadata": {
      "needs_background": "light"
     },
     "output_type": "display_data"
    }
   ],
   "source": [
    "import numpy as np\n",
    "from PIL import Image\n",
    "import matplotlib.pyplot as plt\n",
    "\n",
    "#Create a 500 by 400 pixel array\n",
    "#Using clolor slicing\n",
    "array = np.zeros([500, 400, 3], dtype=np.uint8)\n",
    "array[:,:100] = [500, 250, 0]\n",
    "array[:,100:] = [0, 0, 255]   \n",
    "\n",
    "img = Image.fromarray(array)\n",
    "plt.imshow(img)"
   ]
  },
  {
   "cell_type": "markdown",
   "metadata": {
    "papermill": {
     "duration": 0.097274,
     "end_time": "2021-09-26T13:39:18.445987",
     "exception": false,
     "start_time": "2021-09-26T13:39:18.348713",
     "status": "completed"
    },
    "tags": []
   },
   "source": [
    "Lets check the shape of this image\n"
   ]
  },
  {
   "cell_type": "code",
   "execution_count": 60,
   "metadata": {
    "execution": {
     "iopub.execute_input": "2021-09-26T13:39:18.648417Z",
     "iopub.status.busy": "2021-09-26T13:39:18.647376Z",
     "iopub.status.idle": "2021-09-26T13:39:18.653486Z",
     "shell.execute_reply": "2021-09-26T13:39:18.654007Z",
     "shell.execute_reply.started": "2021-09-26T13:19:11.381029Z"
    },
    "papermill": {
     "duration": 0.108581,
     "end_time": "2021-09-26T13:39:18.654149",
     "exception": false,
     "start_time": "2021-09-26T13:39:18.545568",
     "status": "completed"
    },
    "tags": []
   },
   "outputs": [
    {
     "data": {
      "text/plain": [
       "(500, 400, 3)"
      ]
     },
     "execution_count": 60,
     "metadata": {},
     "output_type": "execute_result"
    }
   ],
   "source": [
    "np.shape(img)"
   ]
  },
  {
   "cell_type": "markdown",
   "metadata": {
    "papermill": {
     "duration": 0.098134,
     "end_time": "2021-09-26T13:39:18.850206",
     "exception": false,
     "start_time": "2021-09-26T13:39:18.752072",
     "status": "completed"
    },
    "tags": []
   },
   "source": [
    "#Image  Geometric Transformation\n",
    "> we can use rotate or filp for this transformation! "
   ]
  },
  {
   "cell_type": "code",
   "execution_count": 61,
   "metadata": {
    "execution": {
     "iopub.execute_input": "2021-09-26T13:39:19.051893Z",
     "iopub.status.busy": "2021-09-26T13:39:19.050806Z",
     "iopub.status.idle": "2021-09-26T13:39:19.277590Z",
     "shell.execute_reply": "2021-09-26T13:39:19.276692Z",
     "shell.execute_reply.started": "2021-09-26T13:21:15.177991Z"
    },
    "papermill": {
     "duration": 0.329577,
     "end_time": "2021-09-26T13:39:19.277718",
     "exception": false,
     "start_time": "2021-09-26T13:39:18.948141",
     "status": "completed"
    },
    "tags": []
   },
   "outputs": [
    {
     "data": {
      "text/plain": [
       "<matplotlib.image.AxesImage at 0x7fcb38b63c10>"
      ]
     },
     "execution_count": 61,
     "metadata": {},
     "output_type": "execute_result"
    },
    {
     "data": {
      "image/png": "[encoded data removed]",
      "text/plain": [
       "<Figure size 432x288 with 1 Axes>"
      ]
     },
     "metadata": {
      "needs_background": "light"
     },
     "output_type": "display_data"
    }
   ],
   "source": [
    "plt.imshow(np.flip(img, axis=1))"
   ]
  },
  {
   "cell_type": "markdown",
   "metadata": {
    "papermill": {
     "duration": 0.098864,
     "end_time": "2021-09-26T13:39:19.475938",
     "exception": false,
     "start_time": "2021-09-26T13:39:19.377074",
     "status": "completed"
    },
    "tags": []
   },
   "source": [
    "## Further reading\n",
    "\n",
    "Cool right? One Function can do so many things ! If you want to know more , follow this :\n",
    "\n",
    "* http://numpy.scipy.org\n",
    "* https://www.analyticsvidhya.com/blog/2021/05/image-processing-using-numpy-with-practical-implementation-and-code/\n",
    "* https://www.datacamp.com/community/blog/python-numpy-cheat-sheet\n",
    "* https://www.kaggle.com/lavanyashukla01/pandas-numpy-python-cheatsheet\n",
    "* https://www.kaggle.com/getting-started/171652"
   ]
  }
 ],
 "metadata": {
  "kernelspec": {
   "display_name": "Python 3",
   "language": "python",
   "name": "python3"
  },
  "language_info": {
   "codemirror_mode": {
    "name": "ipython",
    "version": 3
   },
   "file_extension": ".py",
   "mimetype": "text/x-python",
   "name": "python",
   "nbconvert_exporter": "python",
   "pygments_lexer": "ipython3",
   "version": "3.7.6"
  },
  "papermill": {
   "duration": 28.594021,
   "end_time": "2021-09-26T13:39:19.684415",
   "environment_variables": {},
   "exception": null,
   "input_path": "__notebook__.ipynb",
   "output_path": "__notebook__.ipynb",
   "parameters": {},
   "start_time": "2021-09-26T13:38:51.090394",
   "version": "2.1.0"
  }
 },
 "nbformat": 4,
 "nbformat_minor": 4
}
