{
  "nbformat": 4,
  "nbformat_minor": 0,
  "metadata": {
    "colab": {
      "name": "Untitled0.ipynb",
      "provenance": []
    },
    "kernelspec": {
      "name": "python3",
      "display_name": "Python 3"
    },
    "language_info": {
      "name": "python"
    }
  },
  "cells": [
    {
      "cell_type": "markdown",
      "metadata": {
        "id": "nSeFJJBhO5VU"
      },
      "source": [
        "# ***Implement KNN without using any standard ML library like scikit-learn or more ***"
      ]
    },
    {
      "cell_type": "markdown",
      "metadata": {
        "id": "Fa5l5sWqOzcQ"
      },
      "source": [
        "# **KNN**\n",
        "\n",
        "* KNN is also known as K-Nearest Neighbour.\n",
        "* It is a supervised machine learning model.\n",
        "* It is used when output is discrete or continues in nature.\n",
        "\n"
      ]
    },
    {
      "cell_type": "markdown",
      "metadata": {
        "id": "24BCmbyrPF3C"
      },
      "source": [
        "# **What is KNN?**\n",
        "\n",
        "KNN algorithm assumes that similar data points lie near each other. So when new a data point is introduced it characterized the data point based on distance generally through Euclidean distance, and then it assigns the category which has the least distance.\n"
      ]
    },
    {
      "cell_type": "markdown",
      "metadata": {
        "id": "TSSPeApjPZll"
      },
      "source": [
        "# **Choosing of k-value in KNN:**\n",
        "\n",
        "Choosing of k-value is critical because it is used to solve the problem of the bias-variance trade-off.\n",
        "* Low k-value is influenced by outliers.\n",
        "* High k-value might introduce data points from other category data points.\n"
      ]
    },
    {
      "cell_type": "markdown",
      "metadata": {
        "id": "f_jH4pUvPjXa"
      },
      "source": [
        "# **How to choose k-value?**\n",
        "* Generally, we assign k-value randomly and check the accuracy.\n",
        "* Low error rate and high accuracy are good.\n",
        "* Derive a plot between error rate and k-value denoting values in a defined range and then choose the k-value which has a min error rate.\n",
        "* Sqrt(n) for optimal k-value.\n"
      ]
    },
    {
      "cell_type": "markdown",
      "metadata": {
        "id": "EzwzNqCLPs6A"
      },
      "source": [
        "# **Advantages:**\n",
        "* No training period (lazy learner).\n",
        "* New data can be added seamlessly.\n",
        "* Easy to implement.\n",
        "\n",
        "# **Disadvantages:**\n",
        "* Does not work well on large datasets.\n",
        "* Does not work well with high- dimensions.\n",
        "* Sensitive to noisy data, missing values, and outliers.\n"
      ]
    },
    {
      "cell_type": "markdown",
      "metadata": {
        "id": "NuhZOVNnQFol"
      },
      "source": [
        "# **Implement KNN without using any standard ML library like scikit-learn or more.**"
      ]
    },
    {
      "cell_type": "markdown",
      "metadata": {
        "id": "vXKYSNGYQX-s"
      },
      "source": [
        "**Basic steps to follow:**\n",
        "\n",
        "* Split the dataset into train and test datasets and then follow the below steps.\n",
        "* Calculate the distance between the new data point and other chosen data points.\n",
        "* Arrange the distance which has the least distance.\n",
        "* Assign the category of the nearest data point to the new data point.\n",
        "* Finally, a cluster is created.\n"
      ]
    },
    {
      "cell_type": "markdown",
      "metadata": {
        "id": "Lh6Ak-3WQjv9"
      },
      "source": [
        "# **Code**"
      ]
    },
    {
      "cell_type": "markdown",
      "metadata": {
        "id": "4pKaU0VAQnQS"
      },
      "source": [
        "Importing libraries"
      ]
    },
    {
      "cell_type": "code",
      "metadata": {
        "id": "7Y1rH-mxQp-z"
      },
      "source": [
        "from sklearn import datasets\n",
        "from sklearn.model_selection import train_test_split\n",
        "import numpy as np\n",
        "import scipy.spatial\n",
        "from collections import Counter"
      ],
      "execution_count": 1,
      "outputs": []
    },
    {
      "cell_type": "markdown",
      "metadata": {
        "id": "tGX5HJk-QtNv"
      },
      "source": [
        "Loading the iris dataset"
      ]
    },
    {
      "cell_type": "code",
      "metadata": {
        "id": "fELAqhC_QvwG"
      },
      "source": [
        "iris = datasets.load_iris()"
      ],
      "execution_count": 2,
      "outputs": []
    },
    {
      "cell_type": "markdown",
      "metadata": {
        "id": "aPnsqeESQymk"
      },
      "source": [
        "Splitting the dataset to train and test data."
      ]
    },
    {
      "cell_type": "code",
      "metadata": {
        "id": "uIPYFOtBQ02h"
      },
      "source": [
        "X_train, X_test, y_train, y_test = train_test_split(iris.data, iris.target, random_state = 42, test_size = 0.2)"
      ],
      "execution_count": 3,
      "outputs": []
    },
    {
      "cell_type": "markdown",
      "metadata": {
        "id": "mZ1KoFOUQ5QG"
      },
      "source": [
        "Building KNN algorithm"
      ]
    },
    {
      "cell_type": "code",
      "metadata": {
        "id": "1rhIzDPCQ8hf"
      },
      "source": [
        "class KNN:\n",
        "    def __init__(self, k):\n",
        "        self.k = k\n",
        "        \n",
        "    def fit(self, X, y):\n",
        "        self.X_train = X\n",
        "        self.y_train = y\n",
        "        \n",
        "    def distance(self, X1, X2):\n",
        "        distance = scipy.spatial.distance.euclidean(X1, X2)\n",
        "    \n",
        "    def predict(self, X_test):\n",
        "        final_output = []\n",
        "        for i in range(len(X_test)):\n",
        "            d = []\n",
        "            votes = []\n",
        "            for j in range(len(X_train)):\n",
        "                dist = scipy.spatial.distance.euclidean(X_train[j] , X_test[i])\n",
        "                d.append([dist, j])\n",
        "            d.sort()\n",
        "            d = d[0:self.k]\n",
        "            for d, j in d:\n",
        "                votes.append(y_train[j])\n",
        "            ans = Counter(votes).most_common(1)[0][0]\n",
        "            final_output.append(ans)\n",
        "            \n",
        "        return final_output\n",
        "    \n",
        "    def score(self, X_test, y_test):\n",
        "        predictions = self.predict(X_test)\n",
        "        return (predictions == y_test).sum() / len(y_test)"
      ],
      "execution_count": 4,
      "outputs": []
    },
    {
      "cell_type": "markdown",
      "metadata": {
        "id": "XQFXslObRACa"
      },
      "source": [
        "Training the model"
      ]
    },
    {
      "cell_type": "code",
      "metadata": {
        "colab": {
          "base_uri": "https://localhost:8080/"
        },
        "id": "IPlB5jHgRDNo",
        "outputId": "bf4f65dc-2cbc-436e-ffd1-a0bd33976309"
      },
      "source": [
        "clf = KNN(3)\n",
        "clf.fit(X_train, y_train)\n",
        "prediction = clf.predict(X_test)\n",
        "for i in prediction:\n",
        "    print(i, end= ' ')"
      ],
      "execution_count": 5,
      "outputs": [
        {
          "output_type": "stream",
          "name": "stdout",
          "text": [
            "1 0 2 1 1 0 1 2 1 1 2 0 0 0 0 1 2 1 1 2 0 2 0 2 2 2 2 2 0 0 "
          ]
        }
      ]
    },
    {
      "cell_type": "markdown",
      "metadata": {
        "id": "loHlvDKFRHnH"
      },
      "source": [
        "Predicting the output"
      ]
    },
    {
      "cell_type": "code",
      "metadata": {
        "colab": {
          "base_uri": "https://localhost:8080/"
        },
        "id": "ikbH9aanRIp1",
        "outputId": "0b12f9fc-2ad9-4bba-f546-78816de466ba"
      },
      "source": [
        "prediction == y_test"
      ],
      "execution_count": 6,
      "outputs": [
        {
          "output_type": "execute_result",
          "data": {
            "text/plain": [
              "array([ True,  True,  True,  True,  True,  True,  True,  True,  True,\n",
              "        True,  True,  True,  True,  True,  True,  True,  True,  True,\n",
              "        True,  True,  True,  True,  True,  True,  True,  True,  True,\n",
              "        True,  True,  True])"
            ]
          },
          "metadata": {},
          "execution_count": 6
        }
      ]
    },
    {
      "cell_type": "code",
      "metadata": {
        "colab": {
          "base_uri": "https://localhost:8080/"
        },
        "id": "ozry0NmEROTi",
        "outputId": "9139538b-d3ab-4789-d623-0f1fcdf0ea28"
      },
      "source": [
        "clf.score(X_test, y_test)"
      ],
      "execution_count": 7,
      "outputs": [
        {
          "output_type": "execute_result",
          "data": {
            "text/plain": [
              "1.0"
            ]
          },
          "metadata": {},
          "execution_count": 7
        }
      ]
    },
    {
      "cell_type": "markdown",
      "metadata": {
        "id": "Nzs8M4KSRPsI"
      },
      "source": [
        "I hope now we have got an idea on KNN algorithm and its code!!!"
      ]
    }
  ]
}