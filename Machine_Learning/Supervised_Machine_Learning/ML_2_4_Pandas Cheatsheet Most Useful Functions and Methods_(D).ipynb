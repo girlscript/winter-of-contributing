{
  "nbformat": 4,
  "nbformat_minor": 0,
  "metadata": {
    "colab": {
      "name": "Pandas Cheatsheet.ipynb",
      "provenance": [],
      "collapsed_sections": []
    },
    "kernelspec": {
      "name": "python3",
      "display_name": "Python 3"
    },
    "language_info": {
      "name": "python"
    }
  },
  "cells": [
    {
      "cell_type": "markdown",
      "metadata": {
        "id": "77ZouIJsBCaL"
      },
      "source": [
        "# **Pandas Cheatsheet: Most Useful Functions and Methods**"
      ]
    },
    {
      "cell_type": "markdown",
      "metadata": {
        "id": "hfIC06sKAZSZ"
      },
      "source": [
        "**Python** is an interpreted high-level general-purpose programming language. Python is easy to learn and has some really powerful data-centric libraries. Pandas is one of the most important libraries in Python for Data Manipulation,  Analysis, and Data Science."
      ]
    },
    {
      "cell_type": "markdown",
      "metadata": {
        "id": "7xyWNdvRBQG6"
      },
      "source": [
        "This **Cheatsheet** is a quick guide to the Python Data Analysis Library : **Pandas** "
      ]
    },
    {
      "cell_type": "markdown",
      "metadata": {
        "id": "goMQ63jaC0mc"
      },
      "source": [
        "**We will be performing EDA on a Employee Management Dataset using Pandas**\n",
        "\n",
        "\n",
        "\n",
        "\n",
        "\n",
        "\n",
        "\n",
        "\n",
        "\n"
      ]
    },
    {
      "cell_type": "markdown",
      "metadata": {
        "id": "a3cEPIpaL7XB"
      },
      "source": [
        "* Using **import** keyword to import **Pandas**\n",
        "\n"
      ]
    },
    {
      "cell_type": "code",
      "metadata": {
        "id": "5l_hblBYDZm9"
      },
      "source": [
        "import pandas as pd"
      ],
      "execution_count": null,
      "outputs": []
    },
    {
      "cell_type": "markdown",
      "metadata": {
        "id": "FLnF7_CmMUQR"
      },
      "source": [
        "* **read_csv()** : To read Dataset(csv_files) and store it into the variable **df**."
      ]
    },
    {
      "cell_type": "code",
      "metadata": {
        "id": "_yGcHkcEEjIs"
      },
      "source": [
        "df = pd.read_csv(\"/content/blog_dataset.csv\")"
      ],
      "execution_count": null,
      "outputs": []
    },
    {
      "cell_type": "markdown",
      "metadata": {
        "id": "cMXcL1wUMsMp"
      },
      "source": [
        "*   **head(n)** : To print first n rows of the dataframe(by default n = 5).\n",
        "\n"
      ]
    },
    {
      "cell_type": "code",
      "metadata": {
        "colab": {
          "base_uri": "https://localhost:8080/",
          "height": 326
        },
        "id": "Rkc-jHirGD2B",
        "outputId": "e9cc6e55-d863-406d-f8fd-f8850d8e5e96"
      },
      "source": [
        "df.head(10)"
      ],
      "execution_count": null,
      "outputs": [
        {
          "output_type": "execute_result",
          "data": {
            "text/html": [
              "<div>\n",
              "<style scoped>\n",
              "    .dataframe tbody tr th:only-of-type {\n",
              "        vertical-align: middle;\n",
              "    }\n",
              "\n",
              "    .dataframe tbody tr th {\n",
              "        vertical-align: top;\n",
              "    }\n",
              "\n",
              "    .dataframe thead th {\n",
              "        text-align: right;\n",
              "    }\n",
              "</style>\n",
              "<table border=\"1\" class=\"dataframe\">\n",
              "  <thead>\n",
              "    <tr style=\"text-align: right;\">\n",
              "      <th></th>\n",
              "      <th>Name</th>\n",
              "      <th>Age</th>\n",
              "      <th>City</th>\n",
              "      <th>State</th>\n",
              "      <th>DOB</th>\n",
              "      <th>Gender</th>\n",
              "      <th>City temperature</th>\n",
              "      <th>Salary</th>\n",
              "    </tr>\n",
              "  </thead>\n",
              "  <tbody>\n",
              "    <tr>\n",
              "      <th>0</th>\n",
              "      <td>Alam</td>\n",
              "      <td>29</td>\n",
              "      <td>Indore</td>\n",
              "      <td>Madhya Pradesh</td>\n",
              "      <td>20-11-1991</td>\n",
              "      <td>Male</td>\n",
              "      <td>35.5</td>\n",
              "      <td>50000</td>\n",
              "    </tr>\n",
              "    <tr>\n",
              "      <th>1</th>\n",
              "      <td>Rohit</td>\n",
              "      <td>23</td>\n",
              "      <td>New Delhi</td>\n",
              "      <td>Delhi</td>\n",
              "      <td>19-09-1997</td>\n",
              "      <td>Male</td>\n",
              "      <td>39.0</td>\n",
              "      <td>85000</td>\n",
              "    </tr>\n",
              "    <tr>\n",
              "      <th>2</th>\n",
              "      <td>Bimla</td>\n",
              "      <td>35</td>\n",
              "      <td>Rohtak</td>\n",
              "      <td>Haryana</td>\n",
              "      <td>09-01-1985</td>\n",
              "      <td>Female</td>\n",
              "      <td>39.7</td>\n",
              "      <td>20000</td>\n",
              "    </tr>\n",
              "    <tr>\n",
              "      <th>3</th>\n",
              "      <td>Rahul</td>\n",
              "      <td>25</td>\n",
              "      <td>Kolkata</td>\n",
              "      <td>West Bengal</td>\n",
              "      <td>19-09-1995</td>\n",
              "      <td>Male</td>\n",
              "      <td>36.5</td>\n",
              "      <td>40000</td>\n",
              "    </tr>\n",
              "    <tr>\n",
              "      <th>4</th>\n",
              "      <td>Chaman</td>\n",
              "      <td>32</td>\n",
              "      <td>Chennai</td>\n",
              "      <td>Tamil Nadu</td>\n",
              "      <td>12-03-1988</td>\n",
              "      <td>Male</td>\n",
              "      <td>41.1</td>\n",
              "      <td>65000</td>\n",
              "    </tr>\n",
              "    <tr>\n",
              "      <th>5</th>\n",
              "      <td>Vivek</td>\n",
              "      <td>38</td>\n",
              "      <td>Gurugram</td>\n",
              "      <td>Haryana</td>\n",
              "      <td>22-06-1982</td>\n",
              "      <td>Male</td>\n",
              "      <td>38.9</td>\n",
              "      <td>35000</td>\n",
              "    </tr>\n",
              "    <tr>\n",
              "      <th>6</th>\n",
              "      <td>Charu</td>\n",
              "      <td>29</td>\n",
              "      <td>New Delhi</td>\n",
              "      <td>Delhi</td>\n",
              "      <td>18-03-1992</td>\n",
              "      <td>Female</td>\n",
              "      <td>39.0</td>\n",
              "      <td>52000</td>\n",
              "    </tr>\n",
              "    <tr>\n",
              "      <th>7</th>\n",
              "      <td>Ganesh</td>\n",
              "      <td>39</td>\n",
              "      <td>Patna</td>\n",
              "      <td>Bihar</td>\n",
              "      <td>07-12-1981</td>\n",
              "      <td>Male</td>\n",
              "      <td>NaN</td>\n",
              "      <td>18000</td>\n",
              "    </tr>\n",
              "    <tr>\n",
              "      <th>8</th>\n",
              "      <td>Vivek</td>\n",
              "      <td>38</td>\n",
              "      <td>Gurugram</td>\n",
              "      <td>Haryana</td>\n",
              "      <td>22-06-1982</td>\n",
              "      <td>Male</td>\n",
              "      <td>38.9</td>\n",
              "      <td>35000</td>\n",
              "    </tr>\n",
              "  </tbody>\n",
              "</table>\n",
              "</div>"
            ],
            "text/plain": [
              "     Name  Age       City  ...  Gender City temperature Salary\n",
              "0    Alam   29     Indore  ...    Male             35.5  50000\n",
              "1   Rohit   23  New Delhi  ...    Male             39.0  85000\n",
              "2   Bimla   35     Rohtak  ...  Female             39.7  20000\n",
              "3   Rahul   25    Kolkata  ...    Male             36.5  40000\n",
              "4  Chaman   32    Chennai  ...    Male             41.1  65000\n",
              "5   Vivek   38   Gurugram  ...    Male             38.9  35000\n",
              "6   Charu   29  New Delhi  ...  Female             39.0  52000\n",
              "7  Ganesh   39      Patna  ...    Male              NaN  18000\n",
              "8   Vivek   38   Gurugram  ...    Male             38.9  35000\n",
              "\n",
              "[9 rows x 8 columns]"
            ]
          },
          "metadata": {},
          "execution_count": 3
        }
      ]
    },
    {
      "cell_type": "markdown",
      "metadata": {
        "id": "iG59X9iXNEZZ"
      },
      "source": [
        "* **tail(n)** : To print the last n rows of the dataframe(by default n = 5)."
      ]
    },
    {
      "cell_type": "code",
      "metadata": {
        "colab": {
          "base_uri": "https://localhost:8080/",
          "height": 326
        },
        "id": "Dk9HzyHCNEo5",
        "outputId": "ace654c5-096a-427a-ea56-745475fdcea6"
      },
      "source": [
        "df.tail(10)"
      ],
      "execution_count": null,
      "outputs": [
        {
          "output_type": "execute_result",
          "data": {
            "text/html": [
              "<div>\n",
              "<style scoped>\n",
              "    .dataframe tbody tr th:only-of-type {\n",
              "        vertical-align: middle;\n",
              "    }\n",
              "\n",
              "    .dataframe tbody tr th {\n",
              "        vertical-align: top;\n",
              "    }\n",
              "\n",
              "    .dataframe thead th {\n",
              "        text-align: right;\n",
              "    }\n",
              "</style>\n",
              "<table border=\"1\" class=\"dataframe\">\n",
              "  <thead>\n",
              "    <tr style=\"text-align: right;\">\n",
              "      <th></th>\n",
              "      <th>Name</th>\n",
              "      <th>Age</th>\n",
              "      <th>City</th>\n",
              "      <th>State</th>\n",
              "      <th>DOB</th>\n",
              "      <th>Gender</th>\n",
              "      <th>City temperature</th>\n",
              "      <th>Salary</th>\n",
              "    </tr>\n",
              "  </thead>\n",
              "  <tbody>\n",
              "    <tr>\n",
              "      <th>0</th>\n",
              "      <td>Alam</td>\n",
              "      <td>29</td>\n",
              "      <td>Indore</td>\n",
              "      <td>Madhya Pradesh</td>\n",
              "      <td>20-11-1991</td>\n",
              "      <td>Male</td>\n",
              "      <td>35.5</td>\n",
              "      <td>50000</td>\n",
              "    </tr>\n",
              "    <tr>\n",
              "      <th>1</th>\n",
              "      <td>Rohit</td>\n",
              "      <td>23</td>\n",
              "      <td>New Delhi</td>\n",
              "      <td>Delhi</td>\n",
              "      <td>19-09-1997</td>\n",
              "      <td>Male</td>\n",
              "      <td>39.0</td>\n",
              "      <td>85000</td>\n",
              "    </tr>\n",
              "    <tr>\n",
              "      <th>2</th>\n",
              "      <td>Bimla</td>\n",
              "      <td>35</td>\n",
              "      <td>Rohtak</td>\n",
              "      <td>Haryana</td>\n",
              "      <td>09-01-1985</td>\n",
              "      <td>Female</td>\n",
              "      <td>39.7</td>\n",
              "      <td>20000</td>\n",
              "    </tr>\n",
              "    <tr>\n",
              "      <th>3</th>\n",
              "      <td>Rahul</td>\n",
              "      <td>25</td>\n",
              "      <td>Kolkata</td>\n",
              "      <td>West Bengal</td>\n",
              "      <td>19-09-1995</td>\n",
              "      <td>Male</td>\n",
              "      <td>36.5</td>\n",
              "      <td>40000</td>\n",
              "    </tr>\n",
              "    <tr>\n",
              "      <th>4</th>\n",
              "      <td>Chaman</td>\n",
              "      <td>32</td>\n",
              "      <td>Chennai</td>\n",
              "      <td>Tamil Nadu</td>\n",
              "      <td>12-03-1988</td>\n",
              "      <td>Male</td>\n",
              "      <td>41.1</td>\n",
              "      <td>65000</td>\n",
              "    </tr>\n",
              "    <tr>\n",
              "      <th>5</th>\n",
              "      <td>Vivek</td>\n",
              "      <td>38</td>\n",
              "      <td>Gurugram</td>\n",
              "      <td>Haryana</td>\n",
              "      <td>22-06-1982</td>\n",
              "      <td>Male</td>\n",
              "      <td>38.9</td>\n",
              "      <td>35000</td>\n",
              "    </tr>\n",
              "    <tr>\n",
              "      <th>6</th>\n",
              "      <td>Charu</td>\n",
              "      <td>29</td>\n",
              "      <td>New Delhi</td>\n",
              "      <td>Delhi</td>\n",
              "      <td>18-03-1992</td>\n",
              "      <td>Female</td>\n",
              "      <td>39.0</td>\n",
              "      <td>52000</td>\n",
              "    </tr>\n",
              "    <tr>\n",
              "      <th>7</th>\n",
              "      <td>Ganesh</td>\n",
              "      <td>39</td>\n",
              "      <td>Patna</td>\n",
              "      <td>Bihar</td>\n",
              "      <td>07-12-1981</td>\n",
              "      <td>Male</td>\n",
              "      <td>NaN</td>\n",
              "      <td>18000</td>\n",
              "    </tr>\n",
              "    <tr>\n",
              "      <th>8</th>\n",
              "      <td>Vivek</td>\n",
              "      <td>38</td>\n",
              "      <td>Gurugram</td>\n",
              "      <td>Haryana</td>\n",
              "      <td>22-06-1982</td>\n",
              "      <td>Male</td>\n",
              "      <td>38.9</td>\n",
              "      <td>35000</td>\n",
              "    </tr>\n",
              "  </tbody>\n",
              "</table>\n",
              "</div>"
            ],
            "text/plain": [
              "     Name  Age       City  ...  Gender City temperature Salary\n",
              "0    Alam   29     Indore  ...    Male             35.5  50000\n",
              "1   Rohit   23  New Delhi  ...    Male             39.0  85000\n",
              "2   Bimla   35     Rohtak  ...  Female             39.7  20000\n",
              "3   Rahul   25    Kolkata  ...    Male             36.5  40000\n",
              "4  Chaman   32    Chennai  ...    Male             41.1  65000\n",
              "5   Vivek   38   Gurugram  ...    Male             38.9  35000\n",
              "6   Charu   29  New Delhi  ...  Female             39.0  52000\n",
              "7  Ganesh   39      Patna  ...    Male              NaN  18000\n",
              "8   Vivek   38   Gurugram  ...    Male             38.9  35000\n",
              "\n",
              "[9 rows x 8 columns]"
            ]
          },
          "metadata": {},
          "execution_count": 4
        }
      ]
    },
    {
      "cell_type": "markdown",
      "metadata": {
        "id": "1BdinHhzNZq6"
      },
      "source": [
        "* **shape** : To find the number of rows & columns in the dataframe (rows , columns)."
      ]
    },
    {
      "cell_type": "code",
      "metadata": {
        "colab": {
          "base_uri": "https://localhost:8080/"
        },
        "id": "eDv9aqNgGckF",
        "outputId": "55070425-fc2a-4bc7-eaab-9292150f332d"
      },
      "source": [
        "df.shape"
      ],
      "execution_count": null,
      "outputs": [
        {
          "output_type": "execute_result",
          "data": {
            "text/plain": [
              "(9, 8)"
            ]
          },
          "metadata": {},
          "execution_count": 5
        }
      ]
    },
    {
      "cell_type": "markdown",
      "metadata": {
        "id": "WWQwxl0DN_W0"
      },
      "source": [
        "* **size** : Returns the size of the dataframe (rows * columns)."
      ]
    },
    {
      "cell_type": "code",
      "metadata": {
        "colab": {
          "base_uri": "https://localhost:8080/"
        },
        "id": "2NJqGXwHGcqY",
        "outputId": "fa72aba5-bf33-48e8-b19f-328de2e5ff95"
      },
      "source": [
        "df.size"
      ],
      "execution_count": null,
      "outputs": [
        {
          "output_type": "execute_result",
          "data": {
            "text/plain": [
              "72"
            ]
          },
          "metadata": {},
          "execution_count": 6
        }
      ]
    },
    {
      "cell_type": "markdown",
      "metadata": {
        "id": "JrsLBSs8M0cJ"
      },
      "source": [
        "* **dtypes** : Returns the datatype of each column in the dataframe."
      ]
    },
    {
      "cell_type": "code",
      "metadata": {
        "colab": {
          "base_uri": "https://localhost:8080/"
        },
        "id": "ZGLnGvfuGVOc",
        "outputId": "dee1d6a9-d3aa-4372-fb05-4f9ffb395529"
      },
      "source": [
        "df.dtypes"
      ],
      "execution_count": null,
      "outputs": [
        {
          "output_type": "execute_result",
          "data": {
            "text/plain": [
              "Name                 object\n",
              "Age                   int64\n",
              "City                 object\n",
              "State                object\n",
              "DOB                  object\n",
              "Gender               object\n",
              "City temperature    float64\n",
              "Salary                int64\n",
              "dtype: object"
            ]
          },
          "metadata": {},
          "execution_count": 7
        }
      ]
    },
    {
      "cell_type": "markdown",
      "metadata": {
        "id": "JCojoAUWOZzZ"
      },
      "source": [
        "* **info()** : Gives the concise summary of the dataframe( Index, Datatype, Non - Null Count, Memory Usage)."
      ]
    },
    {
      "cell_type": "code",
      "metadata": {
        "colab": {
          "base_uri": "https://localhost:8080/"
        },
        "id": "SvuddGK1GGVl",
        "outputId": "5131f121-420f-418d-bc11-6f03f63ec0c5"
      },
      "source": [
        "df.info()"
      ],
      "execution_count": null,
      "outputs": [
        {
          "output_type": "stream",
          "name": "stdout",
          "text": [
            "<class 'pandas.core.frame.DataFrame'>\n",
            "RangeIndex: 9 entries, 0 to 8\n",
            "Data columns (total 8 columns):\n",
            " #   Column            Non-Null Count  Dtype  \n",
            "---  ------            --------------  -----  \n",
            " 0   Name              9 non-null      object \n",
            " 1   Age               9 non-null      int64  \n",
            " 2   City              9 non-null      object \n",
            " 3   State             9 non-null      object \n",
            " 4   DOB               9 non-null      object \n",
            " 5   Gender            9 non-null      object \n",
            " 6   City temperature  8 non-null      float64\n",
            " 7   Salary            9 non-null      int64  \n",
            "dtypes: float64(1), int64(2), object(5)\n",
            "memory usage: 704.0+ bytes\n"
          ]
        }
      ]
    },
    {
      "cell_type": "markdown",
      "metadata": {
        "id": "S1xDwIotPfxS"
      },
      "source": [
        "* **columns** : Gives a list of all the column names in the dataframe."
      ]
    },
    {
      "cell_type": "code",
      "metadata": {
        "colab": {
          "base_uri": "https://localhost:8080/"
        },
        "id": "DBoDpbNmGp7S",
        "outputId": "a1ab0648-2910-45f2-a0a4-61a6873f25d2"
      },
      "source": [
        "df.columns"
      ],
      "execution_count": null,
      "outputs": [
        {
          "output_type": "execute_result",
          "data": {
            "text/plain": [
              "Index(['Name', 'Age', 'City', 'State', 'DOB', 'Gender', 'City temperature',\n",
              "       'Salary'],\n",
              "      dtype='object')"
            ]
          },
          "metadata": {},
          "execution_count": 9
        }
      ]
    },
    {
      "cell_type": "markdown",
      "metadata": {
        "id": "EwQt_ba-PH2F"
      },
      "source": [
        "* **describe()** : Gives the statistical summary of the numerical columns in the dataframe."
      ]
    },
    {
      "cell_type": "code",
      "metadata": {
        "colab": {
          "base_uri": "https://localhost:8080/",
          "height": 295
        },
        "id": "0oBNUcfpGIE5",
        "outputId": "f9c6ffe4-dd8d-4d08-f9c6-6ccd3139d8f4"
      },
      "source": [
        "df.describe()"
      ],
      "execution_count": null,
      "outputs": [
        {
          "output_type": "execute_result",
          "data": {
            "text/html": [
              "<div>\n",
              "<style scoped>\n",
              "    .dataframe tbody tr th:only-of-type {\n",
              "        vertical-align: middle;\n",
              "    }\n",
              "\n",
              "    .dataframe tbody tr th {\n",
              "        vertical-align: top;\n",
              "    }\n",
              "\n",
              "    .dataframe thead th {\n",
              "        text-align: right;\n",
              "    }\n",
              "</style>\n",
              "<table border=\"1\" class=\"dataframe\">\n",
              "  <thead>\n",
              "    <tr style=\"text-align: right;\">\n",
              "      <th></th>\n",
              "      <th>Age</th>\n",
              "      <th>City temperature</th>\n",
              "      <th>Salary</th>\n",
              "    </tr>\n",
              "  </thead>\n",
              "  <tbody>\n",
              "    <tr>\n",
              "      <th>count</th>\n",
              "      <td>9.000000</td>\n",
              "      <td>8.000000</td>\n",
              "      <td>9.000000</td>\n",
              "    </tr>\n",
              "    <tr>\n",
              "      <th>mean</th>\n",
              "      <td>32.000000</td>\n",
              "      <td>38.575000</td>\n",
              "      <td>44444.444444</td>\n",
              "    </tr>\n",
              "    <tr>\n",
              "      <th>std</th>\n",
              "      <td>5.894913</td>\n",
              "      <td>1.771803</td>\n",
              "      <td>21360.659582</td>\n",
              "    </tr>\n",
              "    <tr>\n",
              "      <th>min</th>\n",
              "      <td>23.000000</td>\n",
              "      <td>35.500000</td>\n",
              "      <td>18000.000000</td>\n",
              "    </tr>\n",
              "    <tr>\n",
              "      <th>25%</th>\n",
              "      <td>29.000000</td>\n",
              "      <td>38.300000</td>\n",
              "      <td>35000.000000</td>\n",
              "    </tr>\n",
              "    <tr>\n",
              "      <th>50%</th>\n",
              "      <td>32.000000</td>\n",
              "      <td>38.950000</td>\n",
              "      <td>40000.000000</td>\n",
              "    </tr>\n",
              "    <tr>\n",
              "      <th>75%</th>\n",
              "      <td>38.000000</td>\n",
              "      <td>39.175000</td>\n",
              "      <td>52000.000000</td>\n",
              "    </tr>\n",
              "    <tr>\n",
              "      <th>max</th>\n",
              "      <td>39.000000</td>\n",
              "      <td>41.100000</td>\n",
              "      <td>85000.000000</td>\n",
              "    </tr>\n",
              "  </tbody>\n",
              "</table>\n",
              "</div>"
            ],
            "text/plain": [
              "             Age  City temperature        Salary\n",
              "count   9.000000          8.000000      9.000000\n",
              "mean   32.000000         38.575000  44444.444444\n",
              "std     5.894913          1.771803  21360.659582\n",
              "min    23.000000         35.500000  18000.000000\n",
              "25%    29.000000         38.300000  35000.000000\n",
              "50%    32.000000         38.950000  40000.000000\n",
              "75%    38.000000         39.175000  52000.000000\n",
              "max    39.000000         41.100000  85000.000000"
            ]
          },
          "metadata": {},
          "execution_count": 10
        }
      ]
    },
    {
      "cell_type": "markdown",
      "metadata": {
        "id": "zWBMykxE_n9U"
      },
      "source": [
        "* **value_counts()** : Returns a series containing count of unique values in a column."
      ]
    },
    {
      "cell_type": "code",
      "metadata": {
        "colab": {
          "base_uri": "https://localhost:8080/"
        },
        "id": "PSUMx1Yr-iXk",
        "outputId": "e0de3900-2c23-445e-deaf-43a449608de4"
      },
      "source": [
        "df['City'].value_counts()"
      ],
      "execution_count": null,
      "outputs": [
        {
          "output_type": "execute_result",
          "data": {
            "text/plain": [
              "New Delhi    2\n",
              "Gurugram     2\n",
              "Kolkata      1\n",
              "Rohtak       1\n",
              "Patna        1\n",
              "Indore       1\n",
              "Chennai      1\n",
              "Name: City, dtype: int64"
            ]
          },
          "metadata": {},
          "execution_count": 11
        }
      ]
    },
    {
      "cell_type": "markdown",
      "metadata": {
        "id": "kmlz1Er5A83V"
      },
      "source": [
        "* **loc[ : ]** : Used to select data by label(column names). "
      ]
    },
    {
      "cell_type": "code",
      "metadata": {
        "colab": {
          "base_uri": "https://localhost:8080/",
          "height": 326
        },
        "id": "gM8hty7t_N4n",
        "outputId": "efb9f0a6-75ad-4fb1-f5f7-d9eca5064a85"
      },
      "source": [
        "df.loc[ : , [\"Name\", \"DOB\",  \"Gender\"]]"
      ],
      "execution_count": null,
      "outputs": [
        {
          "output_type": "execute_result",
          "data": {
            "text/html": [
              "<div>\n",
              "<style scoped>\n",
              "    .dataframe tbody tr th:only-of-type {\n",
              "        vertical-align: middle;\n",
              "    }\n",
              "\n",
              "    .dataframe tbody tr th {\n",
              "        vertical-align: top;\n",
              "    }\n",
              "\n",
              "    .dataframe thead th {\n",
              "        text-align: right;\n",
              "    }\n",
              "</style>\n",
              "<table border=\"1\" class=\"dataframe\">\n",
              "  <thead>\n",
              "    <tr style=\"text-align: right;\">\n",
              "      <th></th>\n",
              "      <th>Name</th>\n",
              "      <th>DOB</th>\n",
              "      <th>Gender</th>\n",
              "    </tr>\n",
              "  </thead>\n",
              "  <tbody>\n",
              "    <tr>\n",
              "      <th>0</th>\n",
              "      <td>Alam</td>\n",
              "      <td>20-11-1991</td>\n",
              "      <td>Male</td>\n",
              "    </tr>\n",
              "    <tr>\n",
              "      <th>1</th>\n",
              "      <td>Rohit</td>\n",
              "      <td>19-09-1997</td>\n",
              "      <td>Male</td>\n",
              "    </tr>\n",
              "    <tr>\n",
              "      <th>2</th>\n",
              "      <td>Bimla</td>\n",
              "      <td>09-01-1985</td>\n",
              "      <td>Female</td>\n",
              "    </tr>\n",
              "    <tr>\n",
              "      <th>3</th>\n",
              "      <td>Rahul</td>\n",
              "      <td>19-09-1995</td>\n",
              "      <td>Male</td>\n",
              "    </tr>\n",
              "    <tr>\n",
              "      <th>4</th>\n",
              "      <td>Chaman</td>\n",
              "      <td>12-03-1988</td>\n",
              "      <td>Male</td>\n",
              "    </tr>\n",
              "    <tr>\n",
              "      <th>5</th>\n",
              "      <td>Vivek</td>\n",
              "      <td>22-06-1982</td>\n",
              "      <td>Male</td>\n",
              "    </tr>\n",
              "    <tr>\n",
              "      <th>6</th>\n",
              "      <td>Charu</td>\n",
              "      <td>18-03-1992</td>\n",
              "      <td>Female</td>\n",
              "    </tr>\n",
              "    <tr>\n",
              "      <th>7</th>\n",
              "      <td>Ganesh</td>\n",
              "      <td>07-12-1981</td>\n",
              "      <td>Male</td>\n",
              "    </tr>\n",
              "    <tr>\n",
              "      <th>8</th>\n",
              "      <td>Vivek</td>\n",
              "      <td>22-06-1982</td>\n",
              "      <td>Male</td>\n",
              "    </tr>\n",
              "  </tbody>\n",
              "</table>\n",
              "</div>"
            ],
            "text/plain": [
              "     Name         DOB  Gender\n",
              "0    Alam  20-11-1991    Male\n",
              "1   Rohit  19-09-1997    Male\n",
              "2   Bimla  09-01-1985  Female\n",
              "3   Rahul  19-09-1995    Male\n",
              "4  Chaman  12-03-1988    Male\n",
              "5   Vivek  22-06-1982    Male\n",
              "6   Charu  18-03-1992  Female\n",
              "7  Ganesh  07-12-1981    Male\n",
              "8   Vivek  22-06-1982    Male"
            ]
          },
          "metadata": {},
          "execution_count": 12
        }
      ]
    },
    {
      "cell_type": "markdown",
      "metadata": {
        "id": "Sj4RGvg_B5q7"
      },
      "source": [
        "* **iloc[ : ]** : Used to select data by indices([rows , columns]).\n",
        "If no value is assigned then the index starts from 0 and goes up."
      ]
    },
    {
      "cell_type": "code",
      "metadata": {
        "colab": {
          "base_uri": "https://localhost:8080/",
          "height": 142
        },
        "id": "oY32vRNrAjtL",
        "outputId": "8387ed04-dfef-4f16-9f0f-bb2b9edab30c"
      },
      "source": [
        "df.iloc[2:5, :4]"
      ],
      "execution_count": null,
      "outputs": [
        {
          "output_type": "execute_result",
          "data": {
            "text/html": [
              "<div>\n",
              "<style scoped>\n",
              "    .dataframe tbody tr th:only-of-type {\n",
              "        vertical-align: middle;\n",
              "    }\n",
              "\n",
              "    .dataframe tbody tr th {\n",
              "        vertical-align: top;\n",
              "    }\n",
              "\n",
              "    .dataframe thead th {\n",
              "        text-align: right;\n",
              "    }\n",
              "</style>\n",
              "<table border=\"1\" class=\"dataframe\">\n",
              "  <thead>\n",
              "    <tr style=\"text-align: right;\">\n",
              "      <th></th>\n",
              "      <th>Name</th>\n",
              "      <th>Age</th>\n",
              "      <th>City</th>\n",
              "      <th>State</th>\n",
              "    </tr>\n",
              "  </thead>\n",
              "  <tbody>\n",
              "    <tr>\n",
              "      <th>2</th>\n",
              "      <td>Bimla</td>\n",
              "      <td>35</td>\n",
              "      <td>Rohtak</td>\n",
              "      <td>Haryana</td>\n",
              "    </tr>\n",
              "    <tr>\n",
              "      <th>3</th>\n",
              "      <td>Rahul</td>\n",
              "      <td>25</td>\n",
              "      <td>Kolkata</td>\n",
              "      <td>West Bengal</td>\n",
              "    </tr>\n",
              "    <tr>\n",
              "      <th>4</th>\n",
              "      <td>Chaman</td>\n",
              "      <td>32</td>\n",
              "      <td>Chennai</td>\n",
              "      <td>Tamil Nadu</td>\n",
              "    </tr>\n",
              "  </tbody>\n",
              "</table>\n",
              "</div>"
            ],
            "text/plain": [
              "     Name  Age     City        State\n",
              "2   Bimla   35   Rohtak      Haryana\n",
              "3   Rahul   25  Kolkata  West Bengal\n",
              "4  Chaman   32  Chennai   Tamil Nadu"
            ]
          },
          "metadata": {},
          "execution_count": 13
        }
      ]
    },
    {
      "cell_type": "markdown",
      "metadata": {
        "id": "cB4E3hVoDSS_"
      },
      "source": [
        "* **sort_values(by = [..])** : Used to sort the columns(default = ascending)."
      ]
    },
    {
      "cell_type": "code",
      "metadata": {
        "colab": {
          "base_uri": "https://localhost:8080/",
          "height": 326
        },
        "id": "h_hRS431DbTa",
        "outputId": "fb30e66b-dd7e-42bc-859e-d1e2f40c1b13"
      },
      "source": [
        "df.sort_values(by = ['Age'])"
      ],
      "execution_count": null,
      "outputs": [
        {
          "output_type": "execute_result",
          "data": {
            "text/html": [
              "<div>\n",
              "<style scoped>\n",
              "    .dataframe tbody tr th:only-of-type {\n",
              "        vertical-align: middle;\n",
              "    }\n",
              "\n",
              "    .dataframe tbody tr th {\n",
              "        vertical-align: top;\n",
              "    }\n",
              "\n",
              "    .dataframe thead th {\n",
              "        text-align: right;\n",
              "    }\n",
              "</style>\n",
              "<table border=\"1\" class=\"dataframe\">\n",
              "  <thead>\n",
              "    <tr style=\"text-align: right;\">\n",
              "      <th></th>\n",
              "      <th>Name</th>\n",
              "      <th>Age</th>\n",
              "      <th>City</th>\n",
              "      <th>State</th>\n",
              "      <th>DOB</th>\n",
              "      <th>Gender</th>\n",
              "      <th>City temperature</th>\n",
              "      <th>Salary</th>\n",
              "    </tr>\n",
              "  </thead>\n",
              "  <tbody>\n",
              "    <tr>\n",
              "      <th>1</th>\n",
              "      <td>Rohit</td>\n",
              "      <td>23</td>\n",
              "      <td>New Delhi</td>\n",
              "      <td>Delhi</td>\n",
              "      <td>19-09-1997</td>\n",
              "      <td>Male</td>\n",
              "      <td>39.0</td>\n",
              "      <td>85000</td>\n",
              "    </tr>\n",
              "    <tr>\n",
              "      <th>3</th>\n",
              "      <td>Rahul</td>\n",
              "      <td>25</td>\n",
              "      <td>Kolkata</td>\n",
              "      <td>West Bengal</td>\n",
              "      <td>19-09-1995</td>\n",
              "      <td>Male</td>\n",
              "      <td>36.5</td>\n",
              "      <td>40000</td>\n",
              "    </tr>\n",
              "    <tr>\n",
              "      <th>0</th>\n",
              "      <td>Alam</td>\n",
              "      <td>29</td>\n",
              "      <td>Indore</td>\n",
              "      <td>Madhya Pradesh</td>\n",
              "      <td>20-11-1991</td>\n",
              "      <td>Male</td>\n",
              "      <td>35.5</td>\n",
              "      <td>50000</td>\n",
              "    </tr>\n",
              "    <tr>\n",
              "      <th>6</th>\n",
              "      <td>Charu</td>\n",
              "      <td>29</td>\n",
              "      <td>New Delhi</td>\n",
              "      <td>Delhi</td>\n",
              "      <td>18-03-1992</td>\n",
              "      <td>Female</td>\n",
              "      <td>39.0</td>\n",
              "      <td>52000</td>\n",
              "    </tr>\n",
              "    <tr>\n",
              "      <th>4</th>\n",
              "      <td>Chaman</td>\n",
              "      <td>32</td>\n",
              "      <td>Chennai</td>\n",
              "      <td>Tamil Nadu</td>\n",
              "      <td>12-03-1988</td>\n",
              "      <td>Male</td>\n",
              "      <td>41.1</td>\n",
              "      <td>65000</td>\n",
              "    </tr>\n",
              "    <tr>\n",
              "      <th>2</th>\n",
              "      <td>Bimla</td>\n",
              "      <td>35</td>\n",
              "      <td>Rohtak</td>\n",
              "      <td>Haryana</td>\n",
              "      <td>09-01-1985</td>\n",
              "      <td>Female</td>\n",
              "      <td>39.7</td>\n",
              "      <td>20000</td>\n",
              "    </tr>\n",
              "    <tr>\n",
              "      <th>5</th>\n",
              "      <td>Vivek</td>\n",
              "      <td>38</td>\n",
              "      <td>Gurugram</td>\n",
              "      <td>Haryana</td>\n",
              "      <td>22-06-1982</td>\n",
              "      <td>Male</td>\n",
              "      <td>38.9</td>\n",
              "      <td>35000</td>\n",
              "    </tr>\n",
              "    <tr>\n",
              "      <th>8</th>\n",
              "      <td>Vivek</td>\n",
              "      <td>38</td>\n",
              "      <td>Gurugram</td>\n",
              "      <td>Haryana</td>\n",
              "      <td>22-06-1982</td>\n",
              "      <td>Male</td>\n",
              "      <td>38.9</td>\n",
              "      <td>35000</td>\n",
              "    </tr>\n",
              "    <tr>\n",
              "      <th>7</th>\n",
              "      <td>Ganesh</td>\n",
              "      <td>39</td>\n",
              "      <td>Patna</td>\n",
              "      <td>Bihar</td>\n",
              "      <td>07-12-1981</td>\n",
              "      <td>Male</td>\n",
              "      <td>NaN</td>\n",
              "      <td>18000</td>\n",
              "    </tr>\n",
              "  </tbody>\n",
              "</table>\n",
              "</div>"
            ],
            "text/plain": [
              "     Name  Age       City  ...  Gender City temperature Salary\n",
              "1   Rohit   23  New Delhi  ...    Male             39.0  85000\n",
              "3   Rahul   25    Kolkata  ...    Male             36.5  40000\n",
              "0    Alam   29     Indore  ...    Male             35.5  50000\n",
              "6   Charu   29  New Delhi  ...  Female             39.0  52000\n",
              "4  Chaman   32    Chennai  ...    Male             41.1  65000\n",
              "2   Bimla   35     Rohtak  ...  Female             39.7  20000\n",
              "5   Vivek   38   Gurugram  ...    Male             38.9  35000\n",
              "8   Vivek   38   Gurugram  ...    Male             38.9  35000\n",
              "7  Ganesh   39      Patna  ...    Male              NaN  18000\n",
              "\n",
              "[9 rows x 8 columns]"
            ]
          },
          "metadata": {},
          "execution_count": 14
        }
      ]
    },
    {
      "cell_type": "markdown",
      "metadata": {
        "id": "YO9gfIm09FJy"
      },
      "source": [
        "* **concat([...])** : Used to add two or more dataframes together(by deafult along the horizontal axis).\n",
        "\n",
        "---\n",
        "\n"
      ]
    },
    {
      "cell_type": "code",
      "metadata": {
        "id": "XOBVfSvFDjYf"
      },
      "source": [
        "hobby = ['Singing','Dancing','Sports','Reading','Dancing','Travelling','Gaming','Coding','Singing']\n",
        "Hobby = pd.DataFrame({\"Hobby\":hobby})\n",
        "New_df = pd.concat([df,Hobby],axis=1)"
      ],
      "execution_count": null,
      "outputs": []
    },
    {
      "cell_type": "code",
      "metadata": {
        "colab": {
          "base_uri": "https://localhost:8080/",
          "height": 326
        },
        "id": "NAEPAgky8gsD",
        "outputId": "41bd54a6-1f10-411c-c4d3-62fc50045820"
      },
      "source": [
        "New_df"
      ],
      "execution_count": null,
      "outputs": [
        {
          "output_type": "execute_result",
          "data": {
            "text/html": [
              "<div>\n",
              "<style scoped>\n",
              "    .dataframe tbody tr th:only-of-type {\n",
              "        vertical-align: middle;\n",
              "    }\n",
              "\n",
              "    .dataframe tbody tr th {\n",
              "        vertical-align: top;\n",
              "    }\n",
              "\n",
              "    .dataframe thead th {\n",
              "        text-align: right;\n",
              "    }\n",
              "</style>\n",
              "<table border=\"1\" class=\"dataframe\">\n",
              "  <thead>\n",
              "    <tr style=\"text-align: right;\">\n",
              "      <th></th>\n",
              "      <th>Name</th>\n",
              "      <th>Age</th>\n",
              "      <th>City</th>\n",
              "      <th>State</th>\n",
              "      <th>DOB</th>\n",
              "      <th>Gender</th>\n",
              "      <th>City temperature</th>\n",
              "      <th>Salary</th>\n",
              "      <th>Hobby</th>\n",
              "    </tr>\n",
              "  </thead>\n",
              "  <tbody>\n",
              "    <tr>\n",
              "      <th>0</th>\n",
              "      <td>Alam</td>\n",
              "      <td>29</td>\n",
              "      <td>Indore</td>\n",
              "      <td>Madhya Pradesh</td>\n",
              "      <td>20-11-1991</td>\n",
              "      <td>Male</td>\n",
              "      <td>35.5</td>\n",
              "      <td>50000</td>\n",
              "      <td>Singing</td>\n",
              "    </tr>\n",
              "    <tr>\n",
              "      <th>1</th>\n",
              "      <td>Rohit</td>\n",
              "      <td>23</td>\n",
              "      <td>New Delhi</td>\n",
              "      <td>Delhi</td>\n",
              "      <td>19-09-1997</td>\n",
              "      <td>Male</td>\n",
              "      <td>39.0</td>\n",
              "      <td>85000</td>\n",
              "      <td>Dancing</td>\n",
              "    </tr>\n",
              "    <tr>\n",
              "      <th>2</th>\n",
              "      <td>Bimla</td>\n",
              "      <td>35</td>\n",
              "      <td>Rohtak</td>\n",
              "      <td>Haryana</td>\n",
              "      <td>09-01-1985</td>\n",
              "      <td>Female</td>\n",
              "      <td>39.7</td>\n",
              "      <td>20000</td>\n",
              "      <td>Sports</td>\n",
              "    </tr>\n",
              "    <tr>\n",
              "      <th>3</th>\n",
              "      <td>Rahul</td>\n",
              "      <td>25</td>\n",
              "      <td>Kolkata</td>\n",
              "      <td>West Bengal</td>\n",
              "      <td>19-09-1995</td>\n",
              "      <td>Male</td>\n",
              "      <td>36.5</td>\n",
              "      <td>40000</td>\n",
              "      <td>Reading</td>\n",
              "    </tr>\n",
              "    <tr>\n",
              "      <th>4</th>\n",
              "      <td>Chaman</td>\n",
              "      <td>32</td>\n",
              "      <td>Chennai</td>\n",
              "      <td>Tamil Nadu</td>\n",
              "      <td>12-03-1988</td>\n",
              "      <td>Male</td>\n",
              "      <td>41.1</td>\n",
              "      <td>65000</td>\n",
              "      <td>Dancing</td>\n",
              "    </tr>\n",
              "    <tr>\n",
              "      <th>5</th>\n",
              "      <td>Vivek</td>\n",
              "      <td>38</td>\n",
              "      <td>Gurugram</td>\n",
              "      <td>Haryana</td>\n",
              "      <td>22-06-1982</td>\n",
              "      <td>Male</td>\n",
              "      <td>38.9</td>\n",
              "      <td>35000</td>\n",
              "      <td>Travelling</td>\n",
              "    </tr>\n",
              "    <tr>\n",
              "      <th>6</th>\n",
              "      <td>Charu</td>\n",
              "      <td>29</td>\n",
              "      <td>New Delhi</td>\n",
              "      <td>Delhi</td>\n",
              "      <td>18-03-1992</td>\n",
              "      <td>Female</td>\n",
              "      <td>39.0</td>\n",
              "      <td>52000</td>\n",
              "      <td>Gaming</td>\n",
              "    </tr>\n",
              "    <tr>\n",
              "      <th>7</th>\n",
              "      <td>Ganesh</td>\n",
              "      <td>39</td>\n",
              "      <td>Patna</td>\n",
              "      <td>Bihar</td>\n",
              "      <td>07-12-1981</td>\n",
              "      <td>Male</td>\n",
              "      <td>NaN</td>\n",
              "      <td>18000</td>\n",
              "      <td>Coding</td>\n",
              "    </tr>\n",
              "    <tr>\n",
              "      <th>8</th>\n",
              "      <td>Vivek</td>\n",
              "      <td>38</td>\n",
              "      <td>Gurugram</td>\n",
              "      <td>Haryana</td>\n",
              "      <td>22-06-1982</td>\n",
              "      <td>Male</td>\n",
              "      <td>38.9</td>\n",
              "      <td>35000</td>\n",
              "      <td>Singing</td>\n",
              "    </tr>\n",
              "  </tbody>\n",
              "</table>\n",
              "</div>"
            ],
            "text/plain": [
              "     Name  Age       City  ... City temperature Salary       Hobby\n",
              "0    Alam   29     Indore  ...             35.5  50000     Singing\n",
              "1   Rohit   23  New Delhi  ...             39.0  85000     Dancing\n",
              "2   Bimla   35     Rohtak  ...             39.7  20000      Sports\n",
              "3   Rahul   25    Kolkata  ...             36.5  40000     Reading\n",
              "4  Chaman   32    Chennai  ...             41.1  65000     Dancing\n",
              "5   Vivek   38   Gurugram  ...             38.9  35000  Travelling\n",
              "6   Charu   29  New Delhi  ...             39.0  52000      Gaming\n",
              "7  Ganesh   39      Patna  ...              NaN  18000      Coding\n",
              "8   Vivek   38   Gurugram  ...             38.9  35000     Singing\n",
              "\n",
              "[9 rows x 9 columns]"
            ]
          },
          "metadata": {},
          "execution_count": 16
        }
      ]
    },
    {
      "cell_type": "markdown",
      "metadata": {
        "id": "Bo7rIMlipBdl"
      },
      "source": [
        "* **groupby(S)[A].C** : Used for grouping columns and performing some operations.\n",
        "\n",
        "    S = 'State', A = 'Salary', C = mean()\n",
        "\n",
        "  Here, we are first grouping the data based on 'State' then calculating the 'Mean Salary' for each unique State.\n",
        "\n",
        "---\n",
        "\n"
      ]
    },
    {
      "cell_type": "code",
      "metadata": {
        "colab": {
          "base_uri": "https://localhost:8080/"
        },
        "id": "aJYbqwZimKg0",
        "outputId": "25d5fc28-9061-4a14-84be-371982b20f9f"
      },
      "source": [
        "df.groupby('State')[\"Salary\"].mean()"
      ],
      "execution_count": null,
      "outputs": [
        {
          "output_type": "execute_result",
          "data": {
            "text/plain": [
              "State\n",
              "Bihar             18000\n",
              "Delhi             68500\n",
              "Haryana           30000\n",
              "Madhya Pradesh    50000\n",
              "Tamil Nadu        65000\n",
              "West Bengal       40000\n",
              "Name: Salary, dtype: int64"
            ]
          },
          "metadata": {},
          "execution_count": 17
        }
      ]
    },
    {
      "cell_type": "markdown",
      "metadata": {
        "id": "ofyKlaGTr3F8"
      },
      "source": [
        "* **fillna(value)** : Used to fill the missing values in a column(s) with a constant value(Manually entered or statiscal)."
      ]
    },
    {
      "cell_type": "code",
      "metadata": {
        "id": "e6VNrN2mqnPS"
      },
      "source": [
        "mean = df['City temperature'].mean()\n",
        "df['City temperature'].fillna(mean, inplace = True)"
      ],
      "execution_count": null,
      "outputs": []
    },
    {
      "cell_type": "code",
      "metadata": {
        "colab": {
          "base_uri": "https://localhost:8080/",
          "height": 326
        },
        "id": "TADNypH5rz9x",
        "outputId": "2154d9c0-1057-4748-bf58-0d2575db5261"
      },
      "source": [
        "df"
      ],
      "execution_count": null,
      "outputs": [
        {
          "output_type": "execute_result",
          "data": {
            "text/html": [
              "<div>\n",
              "<style scoped>\n",
              "    .dataframe tbody tr th:only-of-type {\n",
              "        vertical-align: middle;\n",
              "    }\n",
              "\n",
              "    .dataframe tbody tr th {\n",
              "        vertical-align: top;\n",
              "    }\n",
              "\n",
              "    .dataframe thead th {\n",
              "        text-align: right;\n",
              "    }\n",
              "</style>\n",
              "<table border=\"1\" class=\"dataframe\">\n",
              "  <thead>\n",
              "    <tr style=\"text-align: right;\">\n",
              "      <th></th>\n",
              "      <th>Name</th>\n",
              "      <th>Age</th>\n",
              "      <th>City</th>\n",
              "      <th>State</th>\n",
              "      <th>DOB</th>\n",
              "      <th>Gender</th>\n",
              "      <th>City temperature</th>\n",
              "      <th>Salary</th>\n",
              "    </tr>\n",
              "  </thead>\n",
              "  <tbody>\n",
              "    <tr>\n",
              "      <th>0</th>\n",
              "      <td>Alam</td>\n",
              "      <td>29</td>\n",
              "      <td>Indore</td>\n",
              "      <td>Madhya Pradesh</td>\n",
              "      <td>20-11-1991</td>\n",
              "      <td>Male</td>\n",
              "      <td>35.500</td>\n",
              "      <td>50000</td>\n",
              "    </tr>\n",
              "    <tr>\n",
              "      <th>1</th>\n",
              "      <td>Rohit</td>\n",
              "      <td>23</td>\n",
              "      <td>New Delhi</td>\n",
              "      <td>Delhi</td>\n",
              "      <td>19-09-1997</td>\n",
              "      <td>Male</td>\n",
              "      <td>39.000</td>\n",
              "      <td>85000</td>\n",
              "    </tr>\n",
              "    <tr>\n",
              "      <th>2</th>\n",
              "      <td>Bimla</td>\n",
              "      <td>35</td>\n",
              "      <td>Rohtak</td>\n",
              "      <td>Haryana</td>\n",
              "      <td>09-01-1985</td>\n",
              "      <td>Female</td>\n",
              "      <td>39.700</td>\n",
              "      <td>20000</td>\n",
              "    </tr>\n",
              "    <tr>\n",
              "      <th>3</th>\n",
              "      <td>Rahul</td>\n",
              "      <td>25</td>\n",
              "      <td>Kolkata</td>\n",
              "      <td>West Bengal</td>\n",
              "      <td>19-09-1995</td>\n",
              "      <td>Male</td>\n",
              "      <td>36.500</td>\n",
              "      <td>40000</td>\n",
              "    </tr>\n",
              "    <tr>\n",
              "      <th>4</th>\n",
              "      <td>Chaman</td>\n",
              "      <td>32</td>\n",
              "      <td>Chennai</td>\n",
              "      <td>Tamil Nadu</td>\n",
              "      <td>12-03-1988</td>\n",
              "      <td>Male</td>\n",
              "      <td>41.100</td>\n",
              "      <td>65000</td>\n",
              "    </tr>\n",
              "    <tr>\n",
              "      <th>5</th>\n",
              "      <td>Vivek</td>\n",
              "      <td>38</td>\n",
              "      <td>Gurugram</td>\n",
              "      <td>Haryana</td>\n",
              "      <td>22-06-1982</td>\n",
              "      <td>Male</td>\n",
              "      <td>38.900</td>\n",
              "      <td>35000</td>\n",
              "    </tr>\n",
              "    <tr>\n",
              "      <th>6</th>\n",
              "      <td>Charu</td>\n",
              "      <td>29</td>\n",
              "      <td>New Delhi</td>\n",
              "      <td>Delhi</td>\n",
              "      <td>18-03-1992</td>\n",
              "      <td>Female</td>\n",
              "      <td>39.000</td>\n",
              "      <td>52000</td>\n",
              "    </tr>\n",
              "    <tr>\n",
              "      <th>7</th>\n",
              "      <td>Ganesh</td>\n",
              "      <td>39</td>\n",
              "      <td>Patna</td>\n",
              "      <td>Bihar</td>\n",
              "      <td>07-12-1981</td>\n",
              "      <td>Male</td>\n",
              "      <td>38.575</td>\n",
              "      <td>18000</td>\n",
              "    </tr>\n",
              "    <tr>\n",
              "      <th>8</th>\n",
              "      <td>Vivek</td>\n",
              "      <td>38</td>\n",
              "      <td>Gurugram</td>\n",
              "      <td>Haryana</td>\n",
              "      <td>22-06-1982</td>\n",
              "      <td>Male</td>\n",
              "      <td>38.900</td>\n",
              "      <td>35000</td>\n",
              "    </tr>\n",
              "  </tbody>\n",
              "</table>\n",
              "</div>"
            ],
            "text/plain": [
              "     Name  Age       City  ...  Gender City temperature Salary\n",
              "0    Alam   29     Indore  ...    Male           35.500  50000\n",
              "1   Rohit   23  New Delhi  ...    Male           39.000  85000\n",
              "2   Bimla   35     Rohtak  ...  Female           39.700  20000\n",
              "3   Rahul   25    Kolkata  ...    Male           36.500  40000\n",
              "4  Chaman   32    Chennai  ...    Male           41.100  65000\n",
              "5   Vivek   38   Gurugram  ...    Male           38.900  35000\n",
              "6   Charu   29  New Delhi  ...  Female           39.000  52000\n",
              "7  Ganesh   39      Patna  ...    Male           38.575  18000\n",
              "8   Vivek   38   Gurugram  ...    Male           38.900  35000\n",
              "\n",
              "[9 rows x 8 columns]"
            ]
          },
          "metadata": {},
          "execution_count": 19
        }
      ]
    },
    {
      "cell_type": "markdown",
      "metadata": {
        "id": "RuJKs9WUtwvt"
      },
      "source": [
        "* **dropna()** : Used to remove the rows or columns with NAN values."
      ]
    },
    {
      "cell_type": "code",
      "metadata": {
        "id": "zKWzppH6r09N"
      },
      "source": [
        "New_df.dropna( axis = 0, inplace = True)"
      ],
      "execution_count": null,
      "outputs": []
    },
    {
      "cell_type": "code",
      "metadata": {
        "colab": {
          "base_uri": "https://localhost:8080/",
          "height": 295
        },
        "id": "Y6PVHhKdsnNT",
        "outputId": "4602d874-5e52-4aaf-bb66-b12d899e16f5"
      },
      "source": [
        "New_df"
      ],
      "execution_count": null,
      "outputs": [
        {
          "output_type": "execute_result",
          "data": {
            "text/html": [
              "<div>\n",
              "<style scoped>\n",
              "    .dataframe tbody tr th:only-of-type {\n",
              "        vertical-align: middle;\n",
              "    }\n",
              "\n",
              "    .dataframe tbody tr th {\n",
              "        vertical-align: top;\n",
              "    }\n",
              "\n",
              "    .dataframe thead th {\n",
              "        text-align: right;\n",
              "    }\n",
              "</style>\n",
              "<table border=\"1\" class=\"dataframe\">\n",
              "  <thead>\n",
              "    <tr style=\"text-align: right;\">\n",
              "      <th></th>\n",
              "      <th>Name</th>\n",
              "      <th>Age</th>\n",
              "      <th>City</th>\n",
              "      <th>State</th>\n",
              "      <th>DOB</th>\n",
              "      <th>Gender</th>\n",
              "      <th>City temperature</th>\n",
              "      <th>Salary</th>\n",
              "      <th>Hobby</th>\n",
              "    </tr>\n",
              "  </thead>\n",
              "  <tbody>\n",
              "    <tr>\n",
              "      <th>0</th>\n",
              "      <td>Alam</td>\n",
              "      <td>29</td>\n",
              "      <td>Indore</td>\n",
              "      <td>Madhya Pradesh</td>\n",
              "      <td>20-11-1991</td>\n",
              "      <td>Male</td>\n",
              "      <td>35.5</td>\n",
              "      <td>50000</td>\n",
              "      <td>Singing</td>\n",
              "    </tr>\n",
              "    <tr>\n",
              "      <th>1</th>\n",
              "      <td>Rohit</td>\n",
              "      <td>23</td>\n",
              "      <td>New Delhi</td>\n",
              "      <td>Delhi</td>\n",
              "      <td>19-09-1997</td>\n",
              "      <td>Male</td>\n",
              "      <td>39.0</td>\n",
              "      <td>85000</td>\n",
              "      <td>Dancing</td>\n",
              "    </tr>\n",
              "    <tr>\n",
              "      <th>2</th>\n",
              "      <td>Bimla</td>\n",
              "      <td>35</td>\n",
              "      <td>Rohtak</td>\n",
              "      <td>Haryana</td>\n",
              "      <td>09-01-1985</td>\n",
              "      <td>Female</td>\n",
              "      <td>39.7</td>\n",
              "      <td>20000</td>\n",
              "      <td>Sports</td>\n",
              "    </tr>\n",
              "    <tr>\n",
              "      <th>3</th>\n",
              "      <td>Rahul</td>\n",
              "      <td>25</td>\n",
              "      <td>Kolkata</td>\n",
              "      <td>West Bengal</td>\n",
              "      <td>19-09-1995</td>\n",
              "      <td>Male</td>\n",
              "      <td>36.5</td>\n",
              "      <td>40000</td>\n",
              "      <td>Reading</td>\n",
              "    </tr>\n",
              "    <tr>\n",
              "      <th>4</th>\n",
              "      <td>Chaman</td>\n",
              "      <td>32</td>\n",
              "      <td>Chennai</td>\n",
              "      <td>Tamil Nadu</td>\n",
              "      <td>12-03-1988</td>\n",
              "      <td>Male</td>\n",
              "      <td>41.1</td>\n",
              "      <td>65000</td>\n",
              "      <td>Dancing</td>\n",
              "    </tr>\n",
              "    <tr>\n",
              "      <th>5</th>\n",
              "      <td>Vivek</td>\n",
              "      <td>38</td>\n",
              "      <td>Gurugram</td>\n",
              "      <td>Haryana</td>\n",
              "      <td>22-06-1982</td>\n",
              "      <td>Male</td>\n",
              "      <td>38.9</td>\n",
              "      <td>35000</td>\n",
              "      <td>Travelling</td>\n",
              "    </tr>\n",
              "    <tr>\n",
              "      <th>6</th>\n",
              "      <td>Charu</td>\n",
              "      <td>29</td>\n",
              "      <td>New Delhi</td>\n",
              "      <td>Delhi</td>\n",
              "      <td>18-03-1992</td>\n",
              "      <td>Female</td>\n",
              "      <td>39.0</td>\n",
              "      <td>52000</td>\n",
              "      <td>Gaming</td>\n",
              "    </tr>\n",
              "    <tr>\n",
              "      <th>8</th>\n",
              "      <td>Vivek</td>\n",
              "      <td>38</td>\n",
              "      <td>Gurugram</td>\n",
              "      <td>Haryana</td>\n",
              "      <td>22-06-1982</td>\n",
              "      <td>Male</td>\n",
              "      <td>38.9</td>\n",
              "      <td>35000</td>\n",
              "      <td>Singing</td>\n",
              "    </tr>\n",
              "  </tbody>\n",
              "</table>\n",
              "</div>"
            ],
            "text/plain": [
              "     Name  Age       City  ... City temperature Salary       Hobby\n",
              "0    Alam   29     Indore  ...             35.5  50000     Singing\n",
              "1   Rohit   23  New Delhi  ...             39.0  85000     Dancing\n",
              "2   Bimla   35     Rohtak  ...             39.7  20000      Sports\n",
              "3   Rahul   25    Kolkata  ...             36.5  40000     Reading\n",
              "4  Chaman   32    Chennai  ...             41.1  65000     Dancing\n",
              "5   Vivek   38   Gurugram  ...             38.9  35000  Travelling\n",
              "6   Charu   29  New Delhi  ...             39.0  52000      Gaming\n",
              "8   Vivek   38   Gurugram  ...             38.9  35000     Singing\n",
              "\n",
              "[8 rows x 9 columns]"
            ]
          },
          "metadata": {},
          "execution_count": 21
        }
      ]
    },
    {
      "cell_type": "markdown",
      "metadata": {
        "id": "7UGRlbdIuROw"
      },
      "source": [
        "* **query()** : Used to filter the data based on a condition."
      ]
    },
    {
      "cell_type": "code",
      "metadata": {
        "colab": {
          "base_uri": "https://localhost:8080/",
          "height": 142
        },
        "id": "PkYiIjQltYVt",
        "outputId": "41577382-78f0-455e-9dc9-9bc44d0e3a0b"
      },
      "source": [
        "df.query('Salary >50000')"
      ],
      "execution_count": null,
      "outputs": [
        {
          "output_type": "execute_result",
          "data": {
            "text/html": [
              "<div>\n",
              "<style scoped>\n",
              "    .dataframe tbody tr th:only-of-type {\n",
              "        vertical-align: middle;\n",
              "    }\n",
              "\n",
              "    .dataframe tbody tr th {\n",
              "        vertical-align: top;\n",
              "    }\n",
              "\n",
              "    .dataframe thead th {\n",
              "        text-align: right;\n",
              "    }\n",
              "</style>\n",
              "<table border=\"1\" class=\"dataframe\">\n",
              "  <thead>\n",
              "    <tr style=\"text-align: right;\">\n",
              "      <th></th>\n",
              "      <th>Name</th>\n",
              "      <th>Age</th>\n",
              "      <th>City</th>\n",
              "      <th>State</th>\n",
              "      <th>DOB</th>\n",
              "      <th>Gender</th>\n",
              "      <th>City temperature</th>\n",
              "      <th>Salary</th>\n",
              "    </tr>\n",
              "  </thead>\n",
              "  <tbody>\n",
              "    <tr>\n",
              "      <th>1</th>\n",
              "      <td>Rohit</td>\n",
              "      <td>23</td>\n",
              "      <td>New Delhi</td>\n",
              "      <td>Delhi</td>\n",
              "      <td>19-09-1997</td>\n",
              "      <td>Male</td>\n",
              "      <td>39.0</td>\n",
              "      <td>85000</td>\n",
              "    </tr>\n",
              "    <tr>\n",
              "      <th>4</th>\n",
              "      <td>Chaman</td>\n",
              "      <td>32</td>\n",
              "      <td>Chennai</td>\n",
              "      <td>Tamil Nadu</td>\n",
              "      <td>12-03-1988</td>\n",
              "      <td>Male</td>\n",
              "      <td>41.1</td>\n",
              "      <td>65000</td>\n",
              "    </tr>\n",
              "    <tr>\n",
              "      <th>6</th>\n",
              "      <td>Charu</td>\n",
              "      <td>29</td>\n",
              "      <td>New Delhi</td>\n",
              "      <td>Delhi</td>\n",
              "      <td>18-03-1992</td>\n",
              "      <td>Female</td>\n",
              "      <td>39.0</td>\n",
              "      <td>52000</td>\n",
              "    </tr>\n",
              "  </tbody>\n",
              "</table>\n",
              "</div>"
            ],
            "text/plain": [
              "     Name  Age       City  ...  Gender City temperature Salary\n",
              "1   Rohit   23  New Delhi  ...    Male             39.0  85000\n",
              "4  Chaman   32    Chennai  ...    Male             41.1  65000\n",
              "6   Charu   29  New Delhi  ...  Female             39.0  52000\n",
              "\n",
              "[3 rows x 8 columns]"
            ]
          },
          "metadata": {},
          "execution_count": 22
        }
      ]
    }
  ]
}