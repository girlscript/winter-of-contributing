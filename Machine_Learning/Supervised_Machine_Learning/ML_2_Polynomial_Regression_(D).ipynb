{
  "nbformat": 4,
  "nbformat_minor": 0,
  "metadata": {
    "colab": {
      "name": "ML_2_Polynomial_Regression_(D).ipynb",
      "provenance": []
    },
    "kernelspec": {
      "name": "python3",
      "display_name": "Python 3"
    },
    "language_info": {
      "name": "python"
    }
  },
  "cells": [
    {
      "cell_type": "markdown",
      "metadata": {
        "id": "D_DOAt_gXcMQ"
      },
      "source": [
        "## We'll start by generating some random data "
      ]
    },
    {
      "cell_type": "code",
      "metadata": {
        "id": "QK9q92hEVJm3"
      },
      "source": [
        "import matplotlib.pyplot as plt #for plotting graphs"
      ],
      "execution_count": 1,
      "outputs": []
    },
    {
      "cell_type": "code",
      "metadata": {
        "id": "elGjHNAoVVJs"
      },
      "source": [
        "import numpy as np "
      ],
      "execution_count": 2,
      "outputs": []
    },
    {
      "cell_type": "code",
      "metadata": {
        "id": "Y6jCNHzjepyy"
      },
      "source": [
        "m = 105\n",
        "X = 6 * np.random.rand(m, 1) - 3\n",
        "y = 0.5 * X**2 + X + 2 + np.random.randn(m, 1)\n"
      ],
      "execution_count": 3,
      "outputs": []
    },
    {
      "cell_type": "code",
      "metadata": {
        "colab": {
          "base_uri": "https://localhost:8080/",
          "height": 282
        },
        "id": "SXAcKZbiVTfc",
        "outputId": "450af877-b431-4b96-ff7e-742780d8b8dd"
      },
      "source": [
        "plt.scatter(X,y)"
      ],
      "execution_count": 4,
      "outputs": [
        {
          "output_type": "execute_result",
          "data": {
            "text/plain": [
              "<matplotlib.collections.PathCollection at 0x7f4e099b62d0>"
            ]
          },
          "metadata": {},
          "execution_count": 4
        },
        {
          "output_type": "display_data",
          "data": {
            "image/png": "[encoded data removed]",
            "text/plain": [
              "<Figure size 432x288 with 1 Axes>"
            ]
          },
          "metadata": {
            "needs_background": "light"
          }
        }
      ]
    },
    {
      "cell_type": "markdown",
      "metadata": {
        "id": "QwLESyD_XjyA"
      },
      "source": [
        "## It is clearly visible from the graph above that the data is non-linear so linear regression will be of no help here. \n",
        "## We should try to fit the data using polynomial regression algorithm. We will do so by adding square of x as a new feature in the data"
      ]
    },
    {
      "cell_type": "code",
      "metadata": {
        "id": "EL2qhalIVaDG"
      },
      "source": [
        "from sklearn.preprocessing import PolynomialFeatures\n",
        "poly_features = PolynomialFeatures(degree=3)#degree=2 is for including square of x\n",
        "X_poly = poly_features.fit_transform(X) #X_poly will be our new data now which will contain feature x as well as square of feature x \n"
      ],
      "execution_count": 5,
      "outputs": []
    },
    {
      "cell_type": "markdown",
      "metadata": {
        "id": "I5-o38XAci8V"
      },
      "source": [
        "## Now we will fit linear regression model to X_poly because polynomial regression is nothing but a linear combination of different powers of X"
      ]
    },
    {
      "cell_type": "code",
      "metadata": {
        "colab": {
          "base_uri": "https://localhost:8080/"
        },
        "id": "JLGZl5mScTgM",
        "outputId": "237ee0fe-b617-4721-de2b-70cdc3c9bca4"
      },
      "source": [
        "from sklearn.linear_model import LinearRegression\n",
        "poly_reg = LinearRegression()\n",
        "poly_reg.fit(X_poly, y)\n"
      ],
      "execution_count": 6,
      "outputs": [
        {
          "output_type": "execute_result",
          "data": {
            "text/plain": [
              "LinearRegression(copy_X=True, fit_intercept=True, n_jobs=None, normalize=False)"
            ]
          },
          "metadata": {},
          "execution_count": 6
        }
      ]
    },
    {
      "cell_type": "markdown",
      "metadata": {
        "id": "cborjnbaiotR"
      },
      "source": [
        "## Check the documentaion for results and conclusion"
      ]
    },
    {
      "cell_type": "code",
      "metadata": {
        "id": "mo88Y6J5iuV7"
      },
      "source": [
        ""
      ],
      "execution_count": null,
      "outputs": []
    }
  ]
}