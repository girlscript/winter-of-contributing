{
  "nbformat": 4,
  "nbformat_minor": 0,
  "metadata": {
    "colab": {
      "name": "Stacking Classifier.ipynb",
      "provenance": [],
      "collapsed_sections": []
    },
    "kernelspec": {
      "name": "python3",
      "display_name": "Python 3"
    },
    "language_info": {
      "name": "python"
    }
  },
  "cells": [
    {
      "cell_type": "markdown",
      "metadata": {
        "id": "mk_B1JhMSbNv"
      },
      "source": [
        "In this Tutorial, we will look at understanding what is stacking and demonstrate how we can use Scikit-Learn library in order to simplify stacking pipelines and create interesting models."
      ]
    },
    {
      "cell_type": "markdown",
      "metadata": {
        "id": "UvcGGcxxTSM3"
      },
      "source": [
        "# What is Stacking?\n",
        "Stacking is a strategy that takes the output of numerous regression or classification models and feeds it into a meta-classifier or regressor.\n",
        "Stacking, like Random Forests, is an ensemble learning strategy in which the quality of prediction is increased by mixing, often, weak models. </br>\n",
        "Stacking comes into play when we have numerous models capable of solving a particular problem in different ways each with its own pros and cons. It suggests to use another machine learning model that learns when to use or trust each model in the ensemble.\n",
        "\n",
        "# So How is stacking different from boosting and bagging?\n",
        "- Unlike bagging, the models in stacking are usually distinct (e.g., not all decision trees) and fit on the same dataset (e.g. instead of samples of the training dataset).\n",
        "- Unlike boosting, stacking uses a single model to learn how to integrate the predictions from the contributing models in the most effective way (e.g. instead of a sequence of models that correct the predictions of prior models).\n",
        "\n",
        "# Architecture of Stacking Models\n",
        "<img src=\"https://miro.medium.com/max/2000/1*XsTcX5N6FXQW1bGhS9hxJQ.png\" />\n",
        "Image Credits : https://towardsdatascience.com/stacking-made-easy-with-sklearn-e27a0793c92b\n",
        "\n",
        "A stacking model's architecture consists of two or more base models, also known as level-0 models, and a meta-model that combines the predictions of the base models, also known as a level-1 model.\n",
        "\n",
        "Models that are fitted to the training data and whose predictions are compiled are known as Level-0 Models (Base-Models).\n",
        "Level-1 Model (Meta-Model) is a model that learns how to combine the predictions of the basic models in the most effective way possible.\n",
        "\n",
        "The most typical method for producing the training dataset for the meta-model is k-fold cross-validation of the base models, with the out-of-fold predictions serving as the foundation for the meta-training model's dataset.\n",
        "\n",
        "The inputs to the base models, such as inputs of the training data, may also be included in the meta-training model's data. This can give the meta-model more context in terms of how to best combine the meta-predictions. model's\n",
        "\n"
      ]
    },
    {
      "cell_type": "markdown",
      "metadata": {
        "id": "fHe0eJBOYHhx"
      },
      "source": [
        "Now Let's look at how we can implement stacking using scikit learn library.\n",
        "I will be using make_classification() function to create a synthetic binary classification problem with 1,000 examples and 20 input features. We will generate a Madelon-like synthetic data set using Scikit-learn for a classification task. To find out more about the implementation of dataset please visit [here](https://scikit-learn.org/stable/modules/generated/sklearn.datasets.make_classification.html)"
      ]
    },
    {
      "cell_type": "code",
      "metadata": {
        "id": "DgDOVnqQSAIX",
        "colab": {
          "base_uri": "https://localhost:8080/"
        },
        "outputId": "6199a454-7b7f-4284-f03d-99bb5d9162ae"
      },
      "source": [
        "import numpy as np\n",
        "import pandas as pd\n",
        "# test classification dataset\n",
        "from sklearn.datasets import make_classification\n",
        "# define dataset\n",
        "X, y = make_classification(n_samples=1000, n_features=20, n_informative=15, n_redundant=5, random_state=1)\n",
        "# summarize the dataset\n",
        "print(X.shape, y.shape)"
      ],
      "execution_count": null,
      "outputs": [
        {
          "output_type": "stream",
          "name": "stdout",
          "text": [
            "(1000, 20) (1000,)\n"
          ]
        }
      ]
    },
    {
      "cell_type": "markdown",
      "metadata": {
        "id": "5MpDX5c2cZUr"
      },
      "source": [
        "Let's implement the classification using SVC, Naive Bayes, KNN , Decision Tree Classsifier and Logistic Regression individually and look at their accuracy first."
      ]
    },
    {
      "cell_type": "code",
      "metadata": {
        "id": "y1IZ4VfWb3ka"
      },
      "source": [
        "from sklearn.linear_model import LogisticRegression\n",
        "from sklearn.neighbors import KNeighborsClassifier\n",
        "from sklearn.tree import DecisionTreeClassifier\n",
        "from sklearn.ensemble import RandomForestClassifier\n",
        "from sklearn.svm import SVC\n",
        "from sklearn.naive_bayes import GaussianNB\n",
        "from sklearn.model_selection import train_test_split\n",
        "\n",
        "X_train, X_test, y_train, y_test = train_test_split(X, y, test_size = 0.20, random_state = 1000)"
      ],
      "execution_count": null,
      "outputs": []
    },
    {
      "cell_type": "code",
      "metadata": {
        "colab": {
          "base_uri": "https://localhost:8080/"
        },
        "id": "KpTVQK9Yen7n",
        "outputId": "ceab1ebb-89d1-4222-a1ad-5d03adaa9923"
      },
      "source": [
        "######## Logistic Regression\n",
        "clf_lr = LogisticRegression()\n",
        "print(\"The Accuracy obtained from Linear Regression is: \")\n",
        "clf_lr.fit(X_train, y_train).score(X_test, y_test)"
      ],
      "execution_count": null,
      "outputs": [
        {
          "output_type": "stream",
          "name": "stdout",
          "text": [
            "The Accuracy obtained from Linear Regression is: \n"
          ]
        },
        {
          "output_type": "execute_result",
          "data": {
            "text/plain": [
              "0.89"
            ]
          },
          "metadata": {},
          "execution_count": 3
        }
      ]
    },
    {
      "cell_type": "code",
      "metadata": {
        "colab": {
          "base_uri": "https://localhost:8080/"
        },
        "id": "kSeDpP9tfThT",
        "outputId": "1b6e92e7-e8eb-4a80-ac27-b7f26acee812"
      },
      "source": [
        "######## SVC\n",
        "clf_svc = SVC()\n",
        "print(\"The Accuracy obtained from SVC is: \")\n",
        "clf_svc.fit(X_train, y_train).score(X_test, y_test)"
      ],
      "execution_count": null,
      "outputs": [
        {
          "output_type": "stream",
          "name": "stdout",
          "text": [
            "The Accuracy obtained from SVC is: \n"
          ]
        },
        {
          "output_type": "execute_result",
          "data": {
            "text/plain": [
              "0.96"
            ]
          },
          "metadata": {},
          "execution_count": 4
        }
      ]
    },
    {
      "cell_type": "code",
      "metadata": {
        "colab": {
          "base_uri": "https://localhost:8080/"
        },
        "id": "fVOCiQb1fj0P",
        "outputId": "d990b615-3605-44af-f8d1-1711142a2c03"
      },
      "source": [
        "######## Naive Bayes\n",
        "clf_nb = GaussianNB()\n",
        "print(\"The Accuracy obtained from Naive Bayes is: \")\n",
        "clf_nb.fit(X_train, y_train).score(X_test, y_test)"
      ],
      "execution_count": null,
      "outputs": [
        {
          "output_type": "stream",
          "name": "stdout",
          "text": [
            "The Accuracy obtained from Naive Bayes is: \n"
          ]
        },
        {
          "output_type": "execute_result",
          "data": {
            "text/plain": [
              "0.87"
            ]
          },
          "metadata": {},
          "execution_count": 5
        }
      ]
    },
    {
      "cell_type": "code",
      "metadata": {
        "colab": {
          "base_uri": "https://localhost:8080/"
        },
        "id": "y8llmRIAfwTW",
        "outputId": "9c3b1cb3-a43d-460e-b6e1-7121d19d71ef"
      },
      "source": [
        "######## Decision Tree Classifier\n",
        "clf_dtc = DecisionTreeClassifier()\n",
        "print(\"The Accuracy obtained from Decision Tree Classifier is: \")\n",
        "clf_dtc.fit(X_train, y_train).score(X_test, y_test)"
      ],
      "execution_count": null,
      "outputs": [
        {
          "output_type": "stream",
          "name": "stdout",
          "text": [
            "The Accuracy obtained from Decision Tree Classifier is: \n"
          ]
        },
        {
          "output_type": "execute_result",
          "data": {
            "text/plain": [
              "0.83"
            ]
          },
          "metadata": {},
          "execution_count": 6
        }
      ]
    },
    {
      "cell_type": "code",
      "metadata": {
        "colab": {
          "base_uri": "https://localhost:8080/"
        },
        "id": "36W_QXdPqMHH",
        "outputId": "5b018f5d-05ca-4143-a498-65528f7056be"
      },
      "source": [
        "######## KNN\n",
        "clf_knn = KNeighborsClassifier()\n",
        "print(\"The Accuracy obtained from KNN is: \")\n",
        "clf_knn.fit(X_train, y_train).score(X_test, y_test)"
      ],
      "execution_count": null,
      "outputs": [
        {
          "output_type": "stream",
          "name": "stdout",
          "text": [
            "The Accuracy obtained from KNN is: \n"
          ]
        },
        {
          "output_type": "execute_result",
          "data": {
            "text/plain": [
              "0.93"
            ]
          },
          "metadata": {},
          "execution_count": 7
        }
      ]
    },
    {
      "cell_type": "markdown",
      "metadata": {
        "id": "2We2mz1LgWFS"
      },
      "source": [
        "We can see that in this case, SVC performs the best with about 96 percent accuracy score.\n",
        "\n",
        "Now let's implement stacking. Our expectation is that the stacking ensemble will perform better than any single base model.\n",
        "\n",
        "This is not always the case and if it is not the case, then the base model should be used in favor of the ensemble model.\n",
        "\n",
        "We use Naive Bayes, SVC, Decision Tree Classifier, KNN as our base learners in the order specified respectively and logistic Regression as our meta learner."
      ]
    },
    {
      "cell_type": "code",
      "metadata": {
        "id": "8RjUrweegRGy"
      },
      "source": [
        "from sklearn.ensemble import StackingClassifier\n",
        "\n",
        "# Create Base Learners\n",
        "base_learners = [\n",
        "                 ('clf_1', clf_nb),\n",
        "                 ('clf_2', clf_svc),\n",
        "                 ('clf_3', clf_dtc),\n",
        "                 ('clf_4', clf_knn),          \n",
        "                ]\n",
        "\n",
        "# Initialize Stacking Classifier with the Meta Learner\n",
        "stacking_clf = StackingClassifier(estimators=base_learners, final_estimator=clf_lr)"
      ],
      "execution_count": null,
      "outputs": []
    },
    {
      "cell_type": "code",
      "metadata": {
        "colab": {
          "base_uri": "https://localhost:8080/"
        },
        "id": "jJE6Ps3AjCTp",
        "outputId": "50e99152-19c9-4223-d5bc-56089ffe858a"
      },
      "source": [
        "print(\"The Accuracy obtained from stacking classifiers is: \")\n",
        "stacking_clf.fit(X_train, y_train).score(X_test, y_test)"
      ],
      "execution_count": null,
      "outputs": [
        {
          "output_type": "stream",
          "name": "stdout",
          "text": [
            "The Accuracy obtained from stacking classifiers is: \n"
          ]
        },
        {
          "output_type": "execute_result",
          "data": {
            "text/plain": [
              "0.965"
            ]
          },
          "metadata": {},
          "execution_count": 9
        }
      ]
    },
    {
      "cell_type": "code",
      "metadata": {
        "colab": {
          "base_uri": "https://localhost:8080/",
          "height": 428
        },
        "id": "VcIfL95zS3XD",
        "outputId": "17ba5f4f-76cf-4a02-eb81-568415fba5c0"
      },
      "source": [
        "from matplotlib import pyplot as plt\n",
        " \n",
        "# Figure Size\n",
        "fig = plt.figure(figsize =(10, 7))\n",
        " \n",
        "# Horizontal Bar Plot\n",
        "plt.bar(['Logistic Regression', 'SVC', 'Naive Bayes', 'Decision Tree', 'KNN', 'Stacking'], [0.89,0.96,0.87,0.83,0.93,0.965])\n",
        " \n",
        "# Show Plot\n",
        "plt.show()"
      ],
      "execution_count": 1,
      "outputs": [
        {
          "output_type": "display_data",
          "data": {
            "image/png": "[encoded data removed]",
            "text/plain": [
              "<Figure size 720x504 with 1 Axes>"
            ]
          },
          "metadata": {
            "needs_background": "light"
          }
        }
      ]
    },
    {
      "cell_type": "markdown",
      "metadata": {
        "id": "9tjMx5Z4qsjP"
      },
      "source": [
        "In this case, we can see that the stacking ensemble appears to perform better than any single model on average, achieving an accuracy of about 96.5 percent."
      ]
    },
    {
      "cell_type": "markdown",
      "metadata": {
        "id": "G_Fk3VACsDh-"
      },
      "source": [
        "## Conclusion\n",
        "Stacking is intended to improve modelling performance, although it is not guaranteed to do so in all situations.\n",
        "\n",
        "Achieving an improvement in performance depends on the complexity of the problem and whether it is sufficiently well represented by the training data and complex enough that there is more to learn by combining predictions. It also depends on the underlying models chosen and whether or not they are sufficiently skillful and uncorrelated in their predictions (or errors).\n",
        "\n",
        "Given its lesser complexity (e.g., it's easier to define, train, and maintain), the base model should be used instead of the stacking ensemble if it performs as well as or better than the stacking ensemble."
      ]
    },
    {
      "cell_type": "markdown",
      "metadata": {
        "id": "jzUQA4E1sl1d"
      },
      "source": [
        "## References\n",
        "- https://machinelearningmastery.com/stacking-ensemble-machine-learning-with-python/\n",
        "- https://towardsdatascience.com/stacking-classifiers-for-higher-predictive-performance-566f963e4840"
      ]
    },
    {
      "cell_type": "markdown",
      "metadata": {
        "id": "8ULhIJYYsywy"
      },
      "source": [
        "## Contributed By:\n",
        "Nikita Bhrugumaharshi Emberi </br>\n",
        "Domain-Machine Learning </br>\n",
        "Batch-6 </br>\n",
        "Serial No-992 </br>\n",
        "[@NikitaEmberi](https://github.com/NikitaEmberi)"
      ]
    }
  ]
}