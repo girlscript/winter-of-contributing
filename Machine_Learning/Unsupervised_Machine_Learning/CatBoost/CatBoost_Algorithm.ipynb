{
  "nbformat": 4,
  "nbformat_minor": 0,
  "metadata": {
    "colab": {
      "name": "CatBoost Algorithm.ipynb",
      "provenance": []
    },
    "kernelspec": {
      "name": "python3",
      "display_name": "Python 3"
    },
    "language_info": {
      "name": "python"
    },
    "accelerator": "GPU",
    "widgets": {
      "application/vnd.jupyter.widget-state+json": {
        "70a138e97cd345948b6784eef80f51e6": {
          "model_module": "catboost-widget",
          "model_name": "CatboostWidgetModel",
          "model_module_version": "^1.0.0",
          "state": {
            "_view_name": "CatboostWidgetView",
            "_dom_classes": [],
            "_model_name": "CatboostWidgetModel",
            "data": {
              "catboost_info": {
                "content": {
                  "data": {
                    "meta": {
                      "name": "experiment",
                      "parameters": "",
                      "test_metrics": [
                        {
                          "best_value": "Max",
                          "name": "F1"
                        },
                        {
                          "best_value": "Min",
                          "name": "Logloss"
                        }
                      ],
                      "learn_sets": [
                        "learn"
                      ],
                      "launch_mode": "Train",
                      "learn_metrics": [
                        {
                          "best_value": "Max",
                          "name": "F1"
                        },
                        {
                          "best_value": "Min",
                          "name": "Logloss"
                        }
                      ],
                      "iteration_count": 150,
                      "test_sets": [
                        "test"
                      ]
                    },
                    "iterations": [
                      {
                        "test": [
                          0.8629441624,
                          0.6528995173
                        ],
                        "passed_time": 0.009084137236,
                        "iteration": 0,
                        "remaining_time": 1.353536448,
                        "learn": [
                          0.8472222222,
                          0.6550602495
                        ]
                      },
                      {
                        "test": [
                          0.8617021277,
                          0.6160556204
                        ],
                        "passed_time": 0.013688242,
                        "iteration": 1,
                        "remaining_time": 1.012929908,
                        "learn": [
                          0.8377997179,
                          0.6227967676
                        ]
                      },
                      {
                        "test": [
                          0.8617021277,
                          0.5901586641
                        ],
                        "passed_time": 0.01866701652,
                        "iteration": 2,
                        "remaining_time": 0.9146838095,
                        "learn": [
                          0.8377997179,
                          0.6002931925
                        ]
                      },
                      {
                        "test": [
                          0.8617021277,
                          0.5709183235
                        ],
                        "passed_time": 0.0258436698,
                        "iteration": 3,
                        "remaining_time": 0.9432939476,
                        "learn": [
                          0.8377997179,
                          0.5793657167
                        ]
                      },
                      {
                        "test": [
                          0.8617021277,
                          0.5576601106
                        ],
                        "passed_time": 0.03222147657,
                        "iteration": 4,
                        "remaining_time": 0.9344228204,
                        "learn": [
                          0.8377997179,
                          0.5653352757
                        ]
                      },
                      {
                        "test": [
                          0.8617021277,
                          0.5479266159
                        ],
                        "passed_time": 0.03928077158,
                        "iteration": 5,
                        "remaining_time": 0.9427385179,
                        "learn": [
                          0.8377997179,
                          0.5537412065
                        ]
                      },
                      {
                        "test": [
                          0.8617021277,
                          0.5368041992
                        ],
                        "passed_time": 0.04491196491,
                        "iteration": 6,
                        "remaining_time": 0.9174872832,
                        "learn": [
                          0.8377997179,
                          0.5449298307
                        ]
                      },
                      {
                        "test": [
                          0.8617021277,
                          0.5322642753
                        ],
                        "passed_time": 0.0517438411,
                        "iteration": 7,
                        "remaining_time": 0.9184531795,
                        "learn": [
                          0.8377997179,
                          0.5355470739
                        ]
                      },
                      {
                        "test": [
                          0.8617021277,
                          0.5257917575
                        ],
                        "passed_time": 0.05630962679,
                        "iteration": 8,
                        "remaining_time": 0.8821841531,
                        "learn": [
                          0.8377997179,
                          0.5307266639
                        ]
                      },
                      {
                        "test": [
                          0.8617021277,
                          0.520302191
                        ],
                        "passed_time": 0.06345022523,
                        "iteration": 9,
                        "remaining_time": 0.8883031532,
                        "learn": [
                          0.8377997179,
                          0.5250574178
                        ]
                      },
                      {
                        "test": [
                          0.8617021277,
                          0.5198496997
                        ],
                        "passed_time": 0.07048853446,
                        "iteration": 10,
                        "remaining_time": 0.8907187536,
                        "learn": [
                          0.8377997179,
                          0.5199825807
                        ]
                      },
                      {
                        "test": [
                          0.8617021277,
                          0.5189044611
                        ],
                        "passed_time": 0.07744546482,
                        "iteration": 11,
                        "remaining_time": 0.8906228454,
                        "learn": [
                          0.8377997179,
                          0.5160488276
                        ]
                      },
                      {
                        "test": [
                          0.8617021277,
                          0.5172537517
                        ],
                        "passed_time": 0.08457147239,
                        "iteration": 12,
                        "remaining_time": 0.8912532091,
                        "learn": [
                          0.8377997179,
                          0.51243467
                        ]
                      },
                      {
                        "test": [
                          0.8617021277,
                          0.5164012754
                        ],
                        "passed_time": 0.1010422466,
                        "iteration": 13,
                        "remaining_time": 0.9815532528,
                        "learn": [
                          0.8377997179,
                          0.5081538804
                        ]
                      },
                      {
                        "test": [
                          0.8617021277,
                          0.5152364901
                        ],
                        "passed_time": 0.1074505779,
                        "iteration": 14,
                        "remaining_time": 0.9670552012,
                        "learn": [
                          0.8377997179,
                          0.5059759136
                        ]
                      },
                      {
                        "test": [
                          0.8617021277,
                          0.5137174343
                        ],
                        "passed_time": 0.1157309029,
                        "iteration": 15,
                        "remaining_time": 0.9692463117,
                        "learn": [
                          0.8377997179,
                          0.5009620185
                        ]
                      },
                      {
                        "test": [
                          0.8617021277,
                          0.5102709018
                        ],
                        "passed_time": 0.1235991768,
                        "iteration": 16,
                        "remaining_time": 0.9669817952,
                        "learn": [
                          0.8377997179,
                          0.4976501776
                        ]
                      },
                      {
                        "test": [
                          0.8617021277,
                          0.5077214435
                        ],
                        "passed_time": 0.1315240773,
                        "iteration": 17,
                        "remaining_time": 0.9645099,
                        "learn": [
                          0.8377997179,
                          0.4938608702
                        ]
                      },
                      {
                        "test": [
                          0.8617021277,
                          0.505672827
                        ],
                        "passed_time": 0.13851407,
                        "iteration": 18,
                        "remaining_time": 0.9550180618,
                        "learn": [
                          0.8377997179,
                          0.4904307503
                        ]
                      },
                      {
                        "test": [
                          0.8617021277,
                          0.5040971089
                        ],
                        "passed_time": 0.1453405959,
                        "iteration": 19,
                        "remaining_time": 0.9447138734,
                        "learn": [
                          0.8377997179,
                          0.488315186
                        ]
                      },
                      {
                        "test": [
                          0.8617021277,
                          0.5054985294
                        ],
                        "passed_time": 0.1522788611,
                        "iteration": 20,
                        "remaining_time": 0.9354272895,
                        "learn": [
                          0.8377997179,
                          0.4864371119
                        ]
                      },
                      {
                        "test": [
                          0.8617021277,
                          0.5047583851
                        ],
                        "passed_time": 0.1592222256,
                        "iteration": 21,
                        "remaining_time": 0.9263838583,
                        "learn": [
                          0.8394366197,
                          0.4828199087
                        ]
                      },
                      {
                        "test": [
                          0.8617021277,
                          0.5040086266
                        ],
                        "passed_time": 0.1661604063,
                        "iteration": 22,
                        "remaining_time": 0.9174944172,
                        "learn": [
                          0.8394366197,
                          0.4788199928
                        ]
                      },
                      {
                        "test": [
                          0.8617021277,
                          0.5041683786
                        ],
                        "passed_time": 0.172792298,
                        "iteration": 23,
                        "remaining_time": 0.9071595643,
                        "learn": [
                          0.841068917,
                          0.4757707833
                        ]
                      },
                      {
                        "test": [
                          0.8617021277,
                          0.5066643071
                        ],
                        "passed_time": 0.17973126,
                        "iteration": 24,
                        "remaining_time": 0.8986563,
                        "learn": [
                          0.841068917,
                          0.4734914123
                        ]
                      },
                      {
                        "test": [
                          0.8617021277,
                          0.5064696025
                        ],
                        "passed_time": 0.1866648549,
                        "iteration": 25,
                        "remaining_time": 0.8902477695,
                        "learn": [
                          0.841068917,
                          0.4715099762
                        ]
                      },
                      {
                        "test": [
                          0.8617021277,
                          0.5060298268
                        ],
                        "passed_time": 0.1934077559,
                        "iteration": 26,
                        "remaining_time": 0.8810797767,
                        "learn": [
                          0.841068917,
                          0.468703571
                        ]
                      },
                      {
                        "test": [
                          0.8617021277,
                          0.5061738549
                        ],
                        "passed_time": 0.2066565252,
                        "iteration": 27,
                        "remaining_time": 0.9004320027,
                        "learn": [
                          0.8394366197,
                          0.4676893122
                        ]
                      },
                      {
                        "test": [
                          0.8617021277,
                          0.5054259572
                        ],
                        "passed_time": 0.2146638814,
                        "iteration": 28,
                        "remaining_time": 0.8956665397,
                        "learn": [
                          0.8394366197,
                          0.4666892866
                        ]
                      },
                      {
                        "test": [
                          0.8617021277,
                          0.5059690398
                        ],
                        "passed_time": 0.2232405556,
                        "iteration": 29,
                        "remaining_time": 0.8929622225,
                        "learn": [
                          0.841068917,
                          0.4643236459
                        ]
                      },
                      {
                        "test": [
                          0.8617021277,
                          0.5061148667
                        ],
                        "passed_time": 0.2298704831,
                        "iteration": 30,
                        "remaining_time": 0.8824060481,
                        "learn": [
                          0.841068917,
                          0.4626404244
                        ]
                      },
                      {
                        "test": [
                          0.8617021277,
                          0.5066713163
                        ],
                        "passed_time": 0.2364304629,
                        "iteration": 31,
                        "remaining_time": 0.8718373319,
                        "learn": [
                          0.841068917,
                          0.4601231903
                        ]
                      },
                      {
                        "test": [
                          0.8571428571,
                          0.5073701502
                        ],
                        "passed_time": 0.2464915716,
                        "iteration": 32,
                        "remaining_time": 0.8739246631,
                        "learn": [
                          0.841068917,
                          0.4586826798
                        ]
                      },
                      {
                        "test": [
                          0.8571428571,
                          0.5068046756
                        ],
                        "passed_time": 0.2533602564,
                        "iteration": 33,
                        "remaining_time": 0.8644055805,
                        "learn": [
                          0.841068917,
                          0.4579657964
                        ]
                      },
                      {
                        "test": [
                          0.8571428571,
                          0.5083566681
                        ],
                        "passed_time": 0.2604122155,
                        "iteration": 34,
                        "remaining_time": 0.8556401366,
                        "learn": [
                          0.8443197756,
                          0.4556661011
                        ]
                      },
                      {
                        "test": [
                          0.8571428571,
                          0.5072795589
                        ],
                        "passed_time": 0.2671673731,
                        "iteration": 35,
                        "remaining_time": 0.8460300147,
                        "learn": [
                          0.8443197756,
                          0.4532124506
                        ]
                      },
                      {
                        "test": [
                          0.8571428571,
                          0.5076907398
                        ],
                        "passed_time": 0.2739487436,
                        "iteration": 36,
                        "remaining_time": 0.8366542709,
                        "learn": [
                          0.8443197756,
                          0.4512701404
                        ]
                      },
                      {
                        "test": [
                          0.8571428571,
                          0.5080420331
                        ],
                        "passed_time": 0.2825652865,
                        "iteration": 37,
                        "remaining_time": 0.8328240023,
                        "learn": [
                          0.845505618,
                          0.4499624839
                        ]
                      },
                      {
                        "test": [
                          0.8571428571,
                          0.5085673138
                        ],
                        "passed_time": 0.2893946084,
                        "iteration": 38,
                        "remaining_time": 0.8236615779,
                        "learn": [
                          0.8466947961,
                          0.4477984085
                        ]
                      },
                      {
                        "test": [
                          0.8571428571,
                          0.5117012892
                        ],
                        "passed_time": 0.2962585429,
                        "iteration": 39,
                        "remaining_time": 0.8147109929,
                        "learn": [
                          0.8499298738,
                          0.4446790272
                        ]
                      },
                      {
                        "test": [
                          0.8571428571,
                          0.5128563361
                        ],
                        "passed_time": 0.3034701696,
                        "iteration": 40,
                        "remaining_time": 0.8067865484,
                        "learn": [
                          0.8499298738,
                          0.4432180991
                        ]
                      },
                      {
                        "test": [
                          0.8571428571,
                          0.5125372042
                        ],
                        "passed_time": 0.3105920324,
                        "iteration": 41,
                        "remaining_time": 0.7986652261,
                        "learn": [
                          0.8511235955,
                          0.4411021619
                        ]
                      },
                      {
                        "test": [
                          0.8571428571,
                          0.5129493155
                        ],
                        "passed_time": 0.3173128025,
                        "iteration": 42,
                        "remaining_time": 0.7895923225,
                        "learn": [
                          0.8511235955,
                          0.4391202907
                        ]
                      },
                      {
                        "test": [
                          0.8617021277,
                          0.5117268756
                        ],
                        "passed_time": 0.3241809167,
                        "iteration": 43,
                        "remaining_time": 0.7809812993,
                        "learn": [
                          0.8539325843,
                          0.4365573735
                        ]
                      },
                      {
                        "test": [
                          0.8571428571,
                          0.5109878168
                        ],
                        "passed_time": 0.3310151658,
                        "iteration": 44,
                        "remaining_time": 0.7723687201,
                        "learn": [
                          0.8539325843,
                          0.4334614864
                        ]
                      },
                      {
                        "test": [
                          0.8571428571,
                          0.5112054716
                        ],
                        "passed_time": 0.33771282,
                        "iteration": 45,
                        "remaining_time": 0.7635246365,
                        "learn": [
                          0.8575458392,
                          0.4315554741
                        ]
                      },
                      {
                        "test": [
                          0.8510638298,
                          0.5114295773
                        ],
                        "passed_time": 0.3444345197,
                        "iteration": 46,
                        "remaining_time": 0.7548245857,
                        "learn": [
                          0.8575458392,
                          0.4293987329
                        ]
                      },
                      {
                        "test": [
                          0.8510638298,
                          0.5117040495
                        ],
                        "passed_time": 0.3511824791,
                        "iteration": 47,
                        "remaining_time": 0.7462627681,
                        "learn": [
                          0.8603667137,
                          0.4278006311
                        ]
                      },
                      {
                        "test": [
                          0.8556149733,
                          0.5124504275
                        ],
                        "passed_time": 0.3578344775,
                        "iteration": 48,
                        "remaining_time": 0.7375771883,
                        "learn": [
                          0.8591549296,
                          0.4260076457
                        ]
                      },
                      {
                        "test": [
                          0.8556149733,
                          0.5137632417
                        ],
                        "passed_time": 0.3647572754,
                        "iteration": 49,
                        "remaining_time": 0.7295145507,
                        "learn": [
                          0.8635724332,
                          0.4239898495
                        ]
                      },
                      {
                        "test": [
                          0.8556149733,
                          0.5138108788
                        ],
                        "passed_time": 0.3718294511,
                        "iteration": 50,
                        "remaining_time": 0.7217865816,
                        "learn": [
                          0.8635724332,
                          0.4228702708
                        ]
                      },
                      {
                        "test": [
                          0.8556149733,
                          0.5161138395
                        ],
                        "passed_time": 0.3787094274,
                        "iteration": 51,
                        "remaining_time": 0.7137216132,
                        "learn": [
                          0.8644067797,
                          0.4215320657
                        ]
                      },
                      {
                        "test": [
                          0.8556149733,
                          0.51426306
                        ],
                        "passed_time": 0.3857129773,
                        "iteration": 52,
                        "remaining_time": 0.7059275246,
                        "learn": [
                          0.8644067797,
                          0.4196611393
                        ]
                      },
                      {
                        "test": [
                          0.8663101604,
                          0.5125229998
                        ],
                        "passed_time": 0.3924891162,
                        "iteration": 53,
                        "remaining_time": 0.6977584287,
                        "learn": [
                          0.8631875882,
                          0.4170373113
                        ]
                      },
                      {
                        "test": [
                          0.8663101604,
                          0.512462585
                        ],
                        "passed_time": 0.4111430433,
                        "iteration": 54,
                        "remaining_time": 0.7101561657,
                        "learn": [
                          0.8644067797,
                          0.4157869607
                        ]
                      },
                      {
                        "test": [
                          0.8723404255,
                          0.5121787157
                        ],
                        "passed_time": 0.4177937806,
                        "iteration": 55,
                        "remaining_time": 0.7012967032,
                        "learn": [
                          0.8644067797,
                          0.4151204841
                        ]
                      },
                      {
                        "test": [
                          0.8723404255,
                          0.5113066697
                        ],
                        "passed_time": 0.424501775,
                        "iteration": 56,
                        "remaining_time": 0.6926081592,
                        "learn": [
                          0.8656294201,
                          0.4136374293
                        ]
                      },
                      {
                        "test": [
                          0.8723404255,
                          0.5132816594
                        ],
                        "passed_time": 0.4316068482,
                        "iteration": 57,
                        "remaining_time": 0.6846177592,
                        "learn": [
                          0.8688293371,
                          0.412397272
                        ]
                      },
                      {
                        "test": [
                          0.8723404255,
                          0.5129287224
                        ],
                        "passed_time": 0.438151332,
                        "iteration": 58,
                        "remaining_time": 0.6757927324,
                        "learn": [
                          0.8688293371,
                          0.4116418532
                        ]
                      },
                      {
                        "test": [
                          0.8723404255,
                          0.512067159
                        ],
                        "passed_time": 0.4450495407,
                        "iteration": 59,
                        "remaining_time": 0.6675743111,
                        "learn": [
                          0.8663853727,
                          0.4099875021
                        ]
                      },
                      {
                        "test": [
                          0.8723404255,
                          0.5113467705
                        ],
                        "passed_time": 0.4517997462,
                        "iteration": 60,
                        "remaining_time": 0.6591832363,
                        "learn": [
                          0.8676056338,
                          0.4090281562
                        ]
                      },
                      {
                        "test": [
                          0.8677248677,
                          0.5112504416
                        ],
                        "passed_time": 0.4586498989,
                        "iteration": 61,
                        "remaining_time": 0.6509869533,
                        "learn": [
                          0.8651685393,
                          0.4070253702
                        ]
                      },
                      {
                        "test": [
                          0.8723404255,
                          0.5115362648
                        ],
                        "passed_time": 0.4654962087,
                        "iteration": 62,
                        "remaining_time": 0.6428280977,
                        "learn": [
                          0.8676056338,
                          0.4057213498
                        ]
                      },
                      {
                        "test": [
                          0.8723404255,
                          0.5113642003
                        ],
                        "passed_time": 0.4741111043,
                        "iteration": 63,
                        "remaining_time": 0.6370867963,
                        "learn": [
                          0.8679775281,
                          0.4044839272
                        ]
                      },
                      {
                        "test": [
                          0.8723404255,
                          0.5113154776
                        ],
                        "passed_time": 0.4806432924,
                        "iteration": 64,
                        "remaining_time": 0.6285335362,
                        "learn": [
                          0.8704225352,
                          0.4038043673
                        ]
                      },
                      {
                        "test": [
                          0.8723404255,
                          0.51047367
                        ],
                        "passed_time": 0.4874277449,
                        "iteration": 65,
                        "remaining_time": 0.6203625844,
                        "learn": [
                          0.8728813559,
                          0.4029884105
                        ]
                      },
                      {
                        "test": [
                          0.8723404255,
                          0.5099669666
                        ],
                        "passed_time": 0.4942658451,
                        "iteration": 66,
                        "remaining_time": 0.6122994797,
                        "learn": [
                          0.874115983,
                          0.4019334719
                        ]
                      },
                      {
                        "test": [
                          0.8723404255,
                          0.5096157663
                        ],
                        "passed_time": 0.500938951,
                        "iteration": 67,
                        "remaining_time": 0.6040734409,
                        "learn": [
                          0.874115983,
                          0.3996353616
                        ]
                      },
                      {
                        "test": [
                          0.8723404255,
                          0.5104045713
                        ],
                        "passed_time": 0.5078736982,
                        "iteration": 68,
                        "remaining_time": 0.5961995588,
                        "learn": [
                          0.8769448373,
                          0.397455499
                        ]
                      },
                      {
                        "test": [
                          0.8723404255,
                          0.5112295383
                        ],
                        "passed_time": 0.5143346285,
                        "iteration": 69,
                        "remaining_time": 0.587811004,
                        "learn": [
                          0.8753541076,
                          0.3954962519
                        ]
                      },
                      {
                        "test": [
                          0.8677248677,
                          0.5121653487
                        ],
                        "passed_time": 0.5212309917,
                        "iteration": 70,
                        "remaining_time": 0.5799612443,
                        "learn": [
                          0.8785310734,
                          0.3941043768
                        ]
                      },
                      {
                        "test": [
                          0.8723404255,
                          0.512431261
                        ],
                        "passed_time": 0.5283678995,
                        "iteration": 71,
                        "remaining_time": 0.5723985577,
                        "learn": [
                          0.8753541076,
                          0.3926486076
                        ]
                      },
                      {
                        "test": [
                          0.8617021277,
                          0.5116543964
                        ],
                        "passed_time": 0.5353253839,
                        "iteration": 72,
                        "remaining_time": 0.5646582817,
                        "learn": [
                          0.8765957447,
                          0.3914983248
                        ]
                      },
                      {
                        "test": [
                          0.8617021277,
                          0.512100778
                        ],
                        "passed_time": 0.5420137881,
                        "iteration": 73,
                        "remaining_time": 0.5566628094,
                        "learn": [
                          0.8765957447,
                          0.3906515397
                        ]
                      },
                      {
                        "test": [
                          0.8677248677,
                          0.5129028879
                        ],
                        "passed_time": 0.5491244938,
                        "iteration": 74,
                        "remaining_time": 0.5491244938,
                        "learn": [
                          0.8781869688,
                          0.3893846562
                        ]
                      },
                      {
                        "test": [
                          0.8677248677,
                          0.5106797877
                        ],
                        "passed_time": 0.5556611436,
                        "iteration": 75,
                        "remaining_time": 0.5410384819,
                        "learn": [
                          0.8769448373,
                          0.3873600853
                        ]
                      },
                      {
                        "test": [
                          0.8677248677,
                          0.5103606247
                        ],
                        "passed_time": 0.5622199051,
                        "iteration": 76,
                        "remaining_time": 0.5330136762,
                        "learn": [
                          0.880112835,
                          0.3865880403
                        ]
                      },
                      {
                        "test": [
                          0.8677248677,
                          0.5108973495
                        ],
                        "passed_time": 0.5696425046,
                        "iteration": 77,
                        "remaining_time": 0.5258238504,
                        "learn": [
                          0.880112835,
                          0.38601293
                        ]
                      },
                      {
                        "test": [
                          0.8677248677,
                          0.5092445001
                        ],
                        "passed_time": 0.5764378855,
                        "iteration": 78,
                        "remaining_time": 0.5180644287,
                        "learn": [
                          0.8829337094,
                          0.384648931
                        ]
                      },
                      {
                        "test": [
                          0.8677248677,
                          0.5091447908
                        ],
                        "passed_time": 0.582973637,
                        "iteration": 79,
                        "remaining_time": 0.5101019324,
                        "learn": [
                          0.8813559322,
                          0.3837553751
                        ]
                      },
                      {
                        "test": [
                          0.8723404255,
                          0.5094961151
                        ],
                        "passed_time": 0.5896191018,
                        "iteration": 80,
                        "remaining_time": 0.5022681237,
                        "learn": [
                          0.8829337094,
                          0.3825091267
                        ]
                      },
                      {
                        "test": [
                          0.8723404255,
                          0.509129532
                        ],
                        "passed_time": 0.5960691396,
                        "iteration": 81,
                        "remaining_time": 0.4943012377,
                        "learn": [
                          0.884180791,
                          0.3817926784
                        ]
                      },
                      {
                        "test": [
                          0.8723404255,
                          0.5079795403
                        ],
                        "passed_time": 0.6086087513,
                        "iteration": 82,
                        "remaining_time": 0.4912865824,
                        "learn": [
                          0.8854314003,
                          0.3803680482
                        ]
                      },
                      {
                        "test": [
                          0.8677248677,
                          0.5095040856
                        ],
                        "passed_time": 0.6152648913,
                        "iteration": 83,
                        "remaining_time": 0.4834224146,
                        "learn": [
                          0.8913963329,
                          0.3783843435
                        ]
                      },
                      {
                        "test": [
                          0.8677248677,
                          0.5091975142
                        ],
                        "passed_time": 0.637229754,
                        "iteration": 84,
                        "remaining_time": 0.4872933413,
                        "learn": [
                          0.8926553672,
                          0.3775039953
                        ]
                      },
                      {
                        "test": [
                          0.8736842105,
                          0.5099471178
                        ],
                        "passed_time": 0.6438069538,
                        "iteration": 85,
                        "remaining_time": 0.4791121517,
                        "learn": [
                          0.8926553672,
                          0.3763521587
                        ]
                      },
                      {
                        "test": [
                          0.8677248677,
                          0.5104627532
                        ],
                        "passed_time": 0.6507410056,
                        "iteration": 86,
                        "remaining_time": 0.4712262454,
                        "learn": [
                          0.8910891089,
                          0.3748872217
                        ]
                      },
                      {
                        "test": [
                          0.8736842105,
                          0.5109234321
                        ],
                        "passed_time": 0.6578434604,
                        "iteration": 87,
                        "remaining_time": 0.4634806198,
                        "learn": [
                          0.8898305085,
                          0.3733168095
                        ]
                      },
                      {
                        "test": [
                          0.8736842105,
                          0.513554984
                        ],
                        "passed_time": 0.6646564446,
                        "iteration": 88,
                        "remaining_time": 0.4555510463,
                        "learn": [
                          0.8913963329,
                          0.3719114471
                        ]
                      },
                      {
                        "test": [
                          0.8736842105,
                          0.5140790862
                        ],
                        "passed_time": 0.6717244033,
                        "iteration": 89,
                        "remaining_time": 0.4478162688,
                        "learn": [
                          0.8929577465,
                          0.3713072487
                        ]
                      },
                      {
                        "test": [
                          0.8736842105,
                          0.5154087408
                        ],
                        "passed_time": 0.6785469471,
                        "iteration": 90,
                        "remaining_time": 0.4399370316,
                        "learn": [
                          0.8913963329,
                          0.370347965
                        ]
                      },
                      {
                        "test": [
                          0.8736842105,
                          0.5157363395
                        ],
                        "passed_time": 0.6852663858,
                        "iteration": 91,
                        "remaining_time": 0.4320157649,
                        "learn": [
                          0.8942172073,
                          0.3690047254
                        ]
                      },
                      {
                        "test": [
                          0.8736842105,
                          0.5171139725
                        ],
                        "passed_time": 0.6920724536,
                        "iteration": 92,
                        "remaining_time": 0.4241734393,
                        "learn": [
                          0.8926553672,
                          0.3677205942
                        ]
                      },
                      {
                        "test": [
                          0.8736842105,
                          0.5167158794
                        ],
                        "passed_time": 0.6987344798,
                        "iteration": 93,
                        "remaining_time": 0.4162673497,
                        "learn": [
                          0.8942172073,
                          0.3669601099
                        ]
                      },
                      {
                        "test": [
                          0.8691099476,
                          0.5161254697
                        ],
                        "passed_time": 0.7054810033,
                        "iteration": 94,
                        "remaining_time": 0.4084363703,
                        "learn": [
                          0.8957746479,
                          0.3654896101
                        ]
                      },
                      {
                        "test": [
                          0.8691099476,
                          0.5167591746
                        ],
                        "passed_time": 0.7121755982,
                        "iteration": 95,
                        "remaining_time": 0.400598774,
                        "learn": [
                          0.8973277075,
                          0.3649440851
                        ]
                      },
                      {
                        "test": [
                          0.8691099476,
                          0.5165820548
                        ],
                        "passed_time": 0.718947414,
                        "iteration": 96,
                        "remaining_time": 0.3928269376,
                        "learn": [
                          0.8973277075,
                          0.3640192347
                        ]
                      },
                      {
                        "test": [
                          0.8631578947,
                          0.5151848522
                        ],
                        "passed_time": 0.7256956967,
                        "iteration": 97,
                        "remaining_time": 0.3850630227,
                        "learn": [
                          0.8957746479,
                          0.3621278907
                        ]
                      },
                      {
                        "test": [
                          0.8631578947,
                          0.5142550895
                        ],
                        "passed_time": 0.7324169182,
                        "iteration": 98,
                        "remaining_time": 0.3773056851,
                        "learn": [
                          0.8985915493,
                          0.360483391
                        ]
                      },
                      {
                        "test": [
                          0.8631578947,
                          0.513518977
                        ],
                        "passed_time": 0.7392919524,
                        "iteration": 99,
                        "remaining_time": 0.3696459762,
                        "learn": [
                          0.8998589563,
                          0.3577942081
                        ]
                      },
                      {
                        "test": [
                          0.8631578947,
                          0.5132904983
                        ],
                        "passed_time": 0.746011216,
                        "iteration": 100,
                        "remaining_time": 0.3619262335,
                        "learn": [
                          0.8998589563,
                          0.3569562178
                        ]
                      },
                      {
                        "test": [
                          0.8631578947,
                          0.5140791482
                        ],
                        "passed_time": 0.7529371932,
                        "iteration": 101,
                        "remaining_time": 0.354323385,
                        "learn": [
                          0.8998589563,
                          0.3556236997
                        ]
                      },
                      {
                        "test": [
                          0.8631578947,
                          0.5147019053
                        ],
                        "passed_time": 0.7596258651,
                        "iteration": 102,
                        "remaining_time": 0.3466253947,
                        "learn": [
                          0.8970380818,
                          0.3542732503
                        ]
                      },
                      {
                        "test": [
                          0.8631578947,
                          0.5147474335
                        ],
                        "passed_time": 0.7663247975,
                        "iteration": 103,
                        "remaining_time": 0.3389513528,
                        "learn": [
                          0.8985915493,
                          0.3533891107
                        ]
                      },
                      {
                        "test": [
                          0.8631578947,
                          0.5142683324
                        ],
                        "passed_time": 0.7729450054,
                        "iteration": 104,
                        "remaining_time": 0.3312621452,
                        "learn": [
                          0.8985915493,
                          0.3528272703
                        ]
                      },
                      {
                        "test": [
                          0.8631578947,
                          0.5139254128
                        ],
                        "passed_time": 0.7798628262,
                        "iteration": 105,
                        "remaining_time": 0.3237166448,
                        "learn": [
                          0.8985915493,
                          0.3517326153
                        ]
                      },
                      {
                        "test": [
                          0.8631578947,
                          0.5139231488
                        ],
                        "passed_time": 0.7868761839,
                        "iteration": 106,
                        "remaining_time": 0.3162212702,
                        "learn": [
                          0.8985915493,
                          0.3502851436
                        ]
                      },
                      {
                        "test": [
                          0.8571428571,
                          0.5164518279
                        ],
                        "passed_time": 0.804777109,
                        "iteration": 107,
                        "remaining_time": 0.3129688757,
                        "learn": [
                          0.9011299435,
                          0.3487158501
                        ]
                      },
                      {
                        "test": [
                          0.8571428571,
                          0.5176682511
                        ],
                        "passed_time": 0.8115918406,
                        "iteration": 108,
                        "remaining_time": 0.3052776648,
                        "learn": [
                          0.9024045262,
                          0.3474086288
                        ]
                      },
                      {
                        "test": [
                          0.8571428571,
                          0.5186309504
                        ],
                        "passed_time": 0.8182917604,
                        "iteration": 109,
                        "remaining_time": 0.2975606401,
                        "learn": [
                          0.9005681818,
                          0.3462840778
                        ]
                      },
                      {
                        "test": [
                          0.8631578947,
                          0.518931195
                        ],
                        "passed_time": 0.825151871,
                        "iteration": 110,
                        "remaining_time": 0.2899182249,
                        "learn": [
                          0.9021276596,
                          0.3454853376
                        ]
                      },
                      {
                        "test": [
                          0.8571428571,
                          0.5194178015
                        ],
                        "passed_time": 0.8318861864,
                        "iteration": 111,
                        "remaining_time": 0.282247099,
                        "learn": [
                          0.9021276596,
                          0.344774017
                        ]
                      },
                      {
                        "test": [
                          0.8571428571,
                          0.5191066091
                        ],
                        "passed_time": 0.8387723635,
                        "iteration": 112,
                        "remaining_time": 0.2746422783,
                        "learn": [
                          0.9021276596,
                          0.3441154651
                        ]
                      },
                      {
                        "test": [
                          0.8571428571,
                          0.5201036097
                        ],
                        "passed_time": 0.8454948756,
                        "iteration": 113,
                        "remaining_time": 0.2669983818,
                        "learn": [
                          0.9024045262,
                          0.3436444005
                        ]
                      },
                      {
                        "test": [
                          0.8571428571,
                          0.5188924898
                        ],
                        "passed_time": 0.8522334326,
                        "iteration": 114,
                        "remaining_time": 0.2593753925,
                        "learn": [
                          0.9021276596,
                          0.3423629419
                        ]
                      },
                      {
                        "test": [
                          0.8510638298,
                          0.5193057487
                        ],
                        "passed_time": 0.8590820471,
                        "iteration": 115,
                        "remaining_time": 0.2517999103,
                        "learn": [
                          0.9034090909,
                          0.3416253612
                        ]
                      },
                      {
                        "test": [
                          0.8510638298,
                          0.5195868577
                        ],
                        "passed_time": 0.8660277627,
                        "iteration": 116,
                        "remaining_time": 0.2442642408,
                        "learn": [
                          0.9034090909,
                          0.3402341699
                        ]
                      },
                      {
                        "test": [
                          0.8510638298,
                          0.5199954645
                        ],
                        "passed_time": 0.8728332205,
                        "iteration": 117,
                        "remaining_time": 0.2367005344,
                        "learn": [
                          0.9034090909,
                          0.3391196878
                        ]
                      },
                      {
                        "test": [
                          0.8510638298,
                          0.5214243943
                        ],
                        "passed_time": 0.8795573744,
                        "iteration": 118,
                        "remaining_time": 0.2291283917,
                        "learn": [
                          0.9034090909,
                          0.3380980016
                        ]
                      },
                      {
                        "test": [
                          0.8510638298,
                          0.5213256464
                        ],
                        "passed_time": 0.8893687003,
                        "iteration": 119,
                        "remaining_time": 0.2223421751,
                        "learn": [
                          0.9034090909,
                          0.3375718064
                        ]
                      },
                      {
                        "test": [
                          0.8571428571,
                          0.5207677081
                        ],
                        "passed_time": 0.8960216733,
                        "iteration": 120,
                        "remaining_time": 0.2147489961,
                        "learn": [
                          0.9034090909,
                          0.3357437662
                        ]
                      },
                      {
                        "test": [
                          0.8510638298,
                          0.5216185407
                        ],
                        "passed_time": 0.9028572947,
                        "iteration": 121,
                        "remaining_time": 0.2072131496,
                        "learn": [
                          0.9034090909,
                          0.334613497
                        ]
                      },
                      {
                        "test": [
                          0.8510638298,
                          0.520821238
                        ],
                        "passed_time": 0.9095204632,
                        "iteration": 122,
                        "remaining_time": 0.1996508334,
                        "learn": [
                          0.9034090909,
                          0.3334504728
                        ]
                      },
                      {
                        "test": [
                          0.8510638298,
                          0.5203613033
                        ],
                        "passed_time": 0.9166151763,
                        "iteration": 123,
                        "remaining_time": 0.1921935047,
                        "learn": [
                          0.9034090909,
                          0.3324417145
                        ]
                      },
                      {
                        "test": [
                          0.8510638298,
                          0.5202915223
                        ],
                        "passed_time": 0.9233327375,
                        "iteration": 124,
                        "remaining_time": 0.1846665475,
                        "learn": [
                          0.9036827195,
                          0.3315712488
                        ]
                      },
                      {
                        "test": [
                          0.8510638298,
                          0.5202271996
                        ],
                        "passed_time": 0.9299725406,
                        "iteration": 125,
                        "remaining_time": 0.1771376268,
                        "learn": [
                          0.9052333805,
                          0.3302087726
                        ]
                      },
                      {
                        "test": [
                          0.8449197861,
                          0.5204919955
                        ],
                        "passed_time": 0.9367870644,
                        "iteration": 126,
                        "remaining_time": 0.1696543503,
                        "learn": [
                          0.9078014184,
                          0.3285956917
                        ]
                      },
                      {
                        "test": [
                          0.8510638298,
                          0.5197331498
                        ],
                        "passed_time": 0.9435276762,
                        "iteration": 127,
                        "remaining_time": 0.1621688193,
                        "learn": [
                          0.9078014184,
                          0.3269026187
                        ]
                      },
                      {
                        "test": [
                          0.8449197861,
                          0.5203136351
                        ],
                        "passed_time": 0.9503692602,
                        "iteration": 128,
                        "remaining_time": 0.1547112749,
                        "learn": [
                          0.9078014184,
                          0.3259790735
                        ]
                      },
                      {
                        "test": [
                          0.8449197861,
                          0.5203035246
                        ],
                        "passed_time": 0.9573456562,
                        "iteration": 129,
                        "remaining_time": 0.1472839471,
                        "learn": [
                          0.9078014184,
                          0.3249597491
                        ]
                      },
                      {
                        "test": [
                          0.8449197861,
                          0.5207706855
                        ],
                        "passed_time": 0.9640412885,
                        "iteration": 130,
                        "remaining_time": 0.1398227823,
                        "learn": [
                          0.9078014184,
                          0.3245552514
                        ]
                      },
                      {
                        "test": [
                          0.8449197861,
                          0.5199268
                        ],
                        "passed_time": 0.9705805757,
                        "iteration": 131,
                        "remaining_time": 0.1323518967,
                        "learn": [
                          0.9078014184,
                          0.3241216034
                        ]
                      },
                      {
                        "test": [
                          0.8387096774,
                          0.5208253938
                        ],
                        "passed_time": 0.9775816191,
                        "iteration": 132,
                        "remaining_time": 0.1249540415,
                        "learn": [
                          0.9075391181,
                          0.3229932921
                        ]
                      },
                      {
                        "test": [
                          0.8449197861,
                          0.5204660059
                        ],
                        "passed_time": 0.9854562034,
                        "iteration": 133,
                        "remaining_time": 0.1176664123,
                        "learn": [
                          0.9075391181,
                          0.3224282197
                        ]
                      },
                      {
                        "test": [
                          0.8449197861,
                          0.5221960797
                        ],
                        "passed_time": 1.020992312,
                        "iteration": 134,
                        "remaining_time": 0.1134435902,
                        "learn": [
                          0.9075391181,
                          0.3214940772
                        ]
                      },
                      {
                        "test": [
                          0.8449197861,
                          0.5218848872
                        ],
                        "passed_time": 1.028072874,
                        "iteration": 135,
                        "remaining_time": 0.1058310312,
                        "learn": [
                          0.9106382979,
                          0.3207071464
                        ]
                      },
                      {
                        "test": [
                          0.8449197861,
                          0.5224358784
                        ],
                        "passed_time": 1.034865588,
                        "iteration": 136,
                        "remaining_time": 0.09819892442,
                        "learn": [
                          0.9106382979,
                          0.3196015212
                        ]
                      },
                      {
                        "test": [
                          0.8449197861,
                          0.5235992059
                        ],
                        "passed_time": 1.041513739,
                        "iteration": 137,
                        "remaining_time": 0.09056641209,
                        "learn": [
                          0.9106382979,
                          0.3183825273
                        ]
                      },
                      {
                        "test": [
                          0.8449197861,
                          0.5238453935
                        ],
                        "passed_time": 1.052843199,
                        "iteration": 138,
                        "remaining_time": 0.08331852652,
                        "learn": [
                          0.9147727273,
                          0.3174296766
                        ]
                      },
                      {
                        "test": [
                          0.8449197861,
                          0.5229247178
                        ],
                        "passed_time": 1.060996473,
                        "iteration": 139,
                        "remaining_time": 0.07578546239,
                        "learn": [
                          0.9147727273,
                          0.3169679972
                        ]
                      },
                      {
                        "test": [
                          0.8449197861,
                          0.5238727477
                        ],
                        "passed_time": 1.070624458,
                        "iteration": 140,
                        "remaining_time": 0.06833773134,
                        "learn": [
                          0.9134751773,
                          0.3164263257
                        ]
                      },
                      {
                        "test": [
                          0.8387096774,
                          0.5234594578
                        ],
                        "passed_time": 1.077540178,
                        "iteration": 141,
                        "remaining_time": 0.0607064889,
                        "learn": [
                          0.9132290185,
                          0.3153564702
                        ]
                      },
                      {
                        "test": [
                          0.8387096774,
                          0.5234771977
                        ],
                        "passed_time": 1.084163408,
                        "iteration": 142,
                        "remaining_time": 0.05307093607,
                        "learn": [
                          0.9160739687,
                          0.3148293427
                        ]
                      },
                      {
                        "test": [
                          0.8387096774,
                          0.5232856564
                        ],
                        "passed_time": 1.090815861,
                        "iteration": 143,
                        "remaining_time": 0.04545066088,
                        "learn": [
                          0.9147727273,
                          0.3143453501
                        ]
                      },
                      {
                        "test": [
                          0.8449197861,
                          0.5239013424
                        ],
                        "passed_time": 1.09753155,
                        "iteration": 144,
                        "remaining_time": 0.03784591553,
                        "learn": [
                          0.9147727273,
                          0.3130377247
                        ]
                      },
                      {
                        "test": [
                          0.8449197861,
                          0.5242149539
                        ],
                        "passed_time": 1.104643152,
                        "iteration": 145,
                        "remaining_time": 0.03026419595,
                        "learn": [
                          0.9160739687,
                          0.312390982
                        ]
                      },
                      {
                        "test": [
                          0.8387096774,
                          0.5246294843
                        ],
                        "passed_time": 1.11144171,
                        "iteration": 146,
                        "remaining_time": 0.02268248388,
                        "learn": [
                          0.9160739687,
                          0.3118762543
                        ]
                      },
                      {
                        "test": [
                          0.8387096774,
                          0.526285249
                        ],
                        "passed_time": 1.118152358,
                        "iteration": 147,
                        "remaining_time": 0.015110167,
                        "learn": [
                          0.9160739687,
                          0.3105996437
                        ]
                      },
                      {
                        "test": [
                          0.8449197861,
                          0.5274552756
                        ],
                        "passed_time": 1.125192886,
                        "iteration": 148,
                        "remaining_time": 0.007551630106,
                        "learn": [
                          0.9147727273,
                          0.3102988187
                        ]
                      },
                      {
                        "test": [
                          0.8449197861,
                          0.5271608926
                        ],
                        "passed_time": 1.132070618,
                        "iteration": 149,
                        "remaining_time": 0,
                        "learn": [
                          0.9147727273,
                          0.3091272793
                        ]
                      }
                    ]
                  },
                  "total_iterations": 150,
                  "passed_iterations": 149
                },
                "path": "catboost_info",
                "name": "catboost_info"
              }
            },
            "_view_module": "catboost-widget",
            "_model_module_version": "^1.0.0",
            "_view_count": null,
            "_view_module_version": "^1.0.0",
            "layout": "IPY_MODEL_2aa64d5990c24dd0bf830d857339bb40",
            "_model_module": "catboost-widget"
          }
        }
      }
    }
  },
  "cells": [
    {
      "cell_type": "markdown",
      "metadata": {
        "id": "VROEldczoFWf"
      },
      "source": [
        "# CatBoost Algorithm"
      ]
    },
    {
      "cell_type": "markdown",
      "metadata": {
        "id": "hUslzbR-oVOz"
      },
      "source": [
        " CatBoost is a gradient boosting framework which attempts to solve for Categorical features using a permutation driven alternative compared to the classical algorithm."
      ]
    },
    {
      "cell_type": "markdown",
      "metadata": {
        "id": "Em_xJDAFpYfx"
      },
      "source": [
        "## Advantages"
      ]
    },
    {
      "cell_type": "markdown",
      "metadata": {
        "id": "rMF8Vru0plJ7"
      },
      "source": [
        "1. Little preprcessing required.\n",
        "2. Faster in comparision with other algorithm (reason being use symmetric trees).\n",
        "3. Faster GPU implementation.\n"
      ]
    },
    {
      "cell_type": "markdown",
      "metadata": {
        "id": "BdFR7ndSrPDJ"
      },
      "source": [
        "Installation of CatBoost"
      ]
    },
    {
      "cell_type": "code",
      "metadata": {
        "colab": {
          "base_uri": "https://localhost:8080/"
        },
        "id": "EyuGfgbxrgqL",
        "outputId": "26744a97-be17-4700-dfa2-601aaf0abb8e"
      },
      "source": [
        "!pip install catboost  #using pip to install catboost"
      ],
      "execution_count": 14,
      "outputs": [
        {
          "output_type": "stream",
          "name": "stdout",
          "text": [
            "Requirement already satisfied: catboost in /usr/local/lib/python3.7/dist-packages (0.26.1)\n",
            "Requirement already satisfied: matplotlib in /usr/local/lib/python3.7/dist-packages (from catboost) (3.2.2)\n",
            "Requirement already satisfied: pandas>=0.24.0 in /usr/local/lib/python3.7/dist-packages (from catboost) (1.1.5)\n",
            "Requirement already satisfied: plotly in /usr/local/lib/python3.7/dist-packages (from catboost) (4.4.1)\n",
            "Requirement already satisfied: six in /usr/local/lib/python3.7/dist-packages (from catboost) (1.15.0)\n",
            "Requirement already satisfied: graphviz in /usr/local/lib/python3.7/dist-packages (from catboost) (0.10.1)\n",
            "Requirement already satisfied: scipy in /usr/local/lib/python3.7/dist-packages (from catboost) (1.4.1)\n",
            "Requirement already satisfied: numpy>=1.16.0 in /usr/local/lib/python3.7/dist-packages (from catboost) (1.19.5)\n",
            "Requirement already satisfied: python-dateutil>=2.7.3 in /usr/local/lib/python3.7/dist-packages (from pandas>=0.24.0->catboost) (2.8.2)\n",
            "Requirement already satisfied: pytz>=2017.2 in /usr/local/lib/python3.7/dist-packages (from pandas>=0.24.0->catboost) (2018.9)\n",
            "Requirement already satisfied: kiwisolver>=1.0.1 in /usr/local/lib/python3.7/dist-packages (from matplotlib->catboost) (1.3.2)\n",
            "Requirement already satisfied: pyparsing!=2.0.4,!=2.1.2,!=2.1.6,>=2.0.1 in /usr/local/lib/python3.7/dist-packages (from matplotlib->catboost) (2.4.7)\n",
            "Requirement already satisfied: cycler>=0.10 in /usr/local/lib/python3.7/dist-packages (from matplotlib->catboost) (0.10.0)\n",
            "Requirement already satisfied: retrying>=1.3.3 in /usr/local/lib/python3.7/dist-packages (from plotly->catboost) (1.3.3)\n"
          ]
        }
      ]
    },
    {
      "cell_type": "markdown",
      "metadata": {
        "id": "v6Srzw86rw0p"
      },
      "source": [
        "Importing the necessary Libraries"
      ]
    },
    {
      "cell_type": "code",
      "metadata": {
        "id": "gjPgKo2Huu31"
      },
      "source": [
        "import pandas as pd   #For data manipulation and analysis\n",
        "from catboost import CatBoostClassifier \n",
        "from sklearn.model_selection import train_test_split # For spliting into test and train set\n",
        "from sklearn.metrics import accuracy_score, f1_score  # For checking of the accuracy of model"
      ],
      "execution_count": 15,
      "outputs": []
    },
    {
      "cell_type": "markdown",
      "metadata": {
        "id": "fCkOtVr-dBjH"
      },
      "source": [
        "Loading Data"
      ]
    },
    {
      "cell_type": "code",
      "metadata": {
        "id": "LYZNBA68vYrb"
      },
      "source": [
        "data=pd.read_csv(\"data.csv\")   "
      ],
      "execution_count": 16,
      "outputs": []
    },
    {
      "cell_type": "code",
      "metadata": {
        "colab": {
          "base_uri": "https://localhost:8080/",
          "height": 204
        },
        "id": "D8NM0KRXyCPw",
        "outputId": "d8a42a86-16c1-41f7-f722-b0b422fc5cde"
      },
      "source": [
        "data.head()"
      ],
      "execution_count": 17,
      "outputs": [
        {
          "output_type": "execute_result",
          "data": {
            "text/html": [
              "<div>\n",
              "<style scoped>\n",
              "    .dataframe tbody tr th:only-of-type {\n",
              "        vertical-align: middle;\n",
              "    }\n",
              "\n",
              "    .dataframe tbody tr th {\n",
              "        vertical-align: top;\n",
              "    }\n",
              "\n",
              "    .dataframe thead th {\n",
              "        text-align: right;\n",
              "    }\n",
              "</style>\n",
              "<table border=\"1\" class=\"dataframe\">\n",
              "  <thead>\n",
              "    <tr style=\"text-align: right;\">\n",
              "      <th></th>\n",
              "      <th>ApplicantIncome</th>\n",
              "      <th>CoapplicantIncome</th>\n",
              "      <th>LoanAmount</th>\n",
              "      <th>Loan_Amount_Term</th>\n",
              "      <th>Credit_History</th>\n",
              "      <th>Loan_Status</th>\n",
              "    </tr>\n",
              "  </thead>\n",
              "  <tbody>\n",
              "    <tr>\n",
              "      <th>0</th>\n",
              "      <td>5849.0</td>\n",
              "      <td>0.0</td>\n",
              "      <td>0.0</td>\n",
              "      <td>360.0</td>\n",
              "      <td>Yes</td>\n",
              "      <td>1</td>\n",
              "    </tr>\n",
              "    <tr>\n",
              "      <th>1</th>\n",
              "      <td>4583.0</td>\n",
              "      <td>1508.0</td>\n",
              "      <td>128.0</td>\n",
              "      <td>360.0</td>\n",
              "      <td>Yes</td>\n",
              "      <td>0</td>\n",
              "    </tr>\n",
              "    <tr>\n",
              "      <th>2</th>\n",
              "      <td>3000.0</td>\n",
              "      <td>0.0</td>\n",
              "      <td>66.0</td>\n",
              "      <td>360.0</td>\n",
              "      <td>Yes</td>\n",
              "      <td>1</td>\n",
              "    </tr>\n",
              "    <tr>\n",
              "      <th>3</th>\n",
              "      <td>2583.0</td>\n",
              "      <td>2358.0</td>\n",
              "      <td>120.0</td>\n",
              "      <td>360.0</td>\n",
              "      <td>Yes</td>\n",
              "      <td>1</td>\n",
              "    </tr>\n",
              "    <tr>\n",
              "      <th>4</th>\n",
              "      <td>6000.0</td>\n",
              "      <td>0.0</td>\n",
              "      <td>141.0</td>\n",
              "      <td>360.0</td>\n",
              "      <td>Yes</td>\n",
              "      <td>1</td>\n",
              "    </tr>\n",
              "  </tbody>\n",
              "</table>\n",
              "</div>"
            ],
            "text/plain": [
              "   ApplicantIncome  CoapplicantIncome  ...  Credit_History  Loan_Status\n",
              "0           5849.0                0.0  ...             Yes            1\n",
              "1           4583.0             1508.0  ...             Yes            0\n",
              "2           3000.0                0.0  ...             Yes            1\n",
              "3           2583.0             2358.0  ...             Yes            1\n",
              "4           6000.0                0.0  ...             Yes            1\n",
              "\n",
              "[5 rows x 6 columns]"
            ]
          },
          "metadata": {},
          "execution_count": 17
        }
      ]
    },
    {
      "cell_type": "markdown",
      "metadata": {
        "id": "SqSnQ2ezdKzK"
      },
      "source": [
        "Seprating the X and Y from the data "
      ]
    },
    {
      "cell_type": "code",
      "metadata": {
        "colab": {
          "base_uri": "https://localhost:8080/",
          "height": 419
        },
        "id": "n1jFBBQ4yHce",
        "outputId": "e1eea277-6cc3-4da2-8a23-5aecc9c3a343"
      },
      "source": [
        "X=data.loc[:,data.columns!=\"Loan_Status\"]\n",
        "Y=data.loc[:,data.columns==\"Loan_Status\"]\n",
        "X"
      ],
      "execution_count": 18,
      "outputs": [
        {
          "output_type": "execute_result",
          "data": {
            "text/html": [
              "<div>\n",
              "<style scoped>\n",
              "    .dataframe tbody tr th:only-of-type {\n",
              "        vertical-align: middle;\n",
              "    }\n",
              "\n",
              "    .dataframe tbody tr th {\n",
              "        vertical-align: top;\n",
              "    }\n",
              "\n",
              "    .dataframe thead th {\n",
              "        text-align: right;\n",
              "    }\n",
              "</style>\n",
              "<table border=\"1\" class=\"dataframe\">\n",
              "  <thead>\n",
              "    <tr style=\"text-align: right;\">\n",
              "      <th></th>\n",
              "      <th>ApplicantIncome</th>\n",
              "      <th>CoapplicantIncome</th>\n",
              "      <th>LoanAmount</th>\n",
              "      <th>Loan_Amount_Term</th>\n",
              "      <th>Credit_History</th>\n",
              "    </tr>\n",
              "  </thead>\n",
              "  <tbody>\n",
              "    <tr>\n",
              "      <th>0</th>\n",
              "      <td>5849.0</td>\n",
              "      <td>0.0</td>\n",
              "      <td>0.0</td>\n",
              "      <td>360.0</td>\n",
              "      <td>Yes</td>\n",
              "    </tr>\n",
              "    <tr>\n",
              "      <th>1</th>\n",
              "      <td>4583.0</td>\n",
              "      <td>1508.0</td>\n",
              "      <td>128.0</td>\n",
              "      <td>360.0</td>\n",
              "      <td>Yes</td>\n",
              "    </tr>\n",
              "    <tr>\n",
              "      <th>2</th>\n",
              "      <td>3000.0</td>\n",
              "      <td>0.0</td>\n",
              "      <td>66.0</td>\n",
              "      <td>360.0</td>\n",
              "      <td>Yes</td>\n",
              "    </tr>\n",
              "    <tr>\n",
              "      <th>3</th>\n",
              "      <td>2583.0</td>\n",
              "      <td>2358.0</td>\n",
              "      <td>120.0</td>\n",
              "      <td>360.0</td>\n",
              "      <td>Yes</td>\n",
              "    </tr>\n",
              "    <tr>\n",
              "      <th>4</th>\n",
              "      <td>6000.0</td>\n",
              "      <td>0.0</td>\n",
              "      <td>141.0</td>\n",
              "      <td>360.0</td>\n",
              "      <td>Yes</td>\n",
              "    </tr>\n",
              "    <tr>\n",
              "      <th>...</th>\n",
              "      <td>...</td>\n",
              "      <td>...</td>\n",
              "      <td>...</td>\n",
              "      <td>...</td>\n",
              "      <td>...</td>\n",
              "    </tr>\n",
              "    <tr>\n",
              "      <th>609</th>\n",
              "      <td>2900.0</td>\n",
              "      <td>0.0</td>\n",
              "      <td>71.0</td>\n",
              "      <td>360.0</td>\n",
              "      <td>Yes</td>\n",
              "    </tr>\n",
              "    <tr>\n",
              "      <th>610</th>\n",
              "      <td>4106.0</td>\n",
              "      <td>0.0</td>\n",
              "      <td>40.0</td>\n",
              "      <td>180.0</td>\n",
              "      <td>Yes</td>\n",
              "    </tr>\n",
              "    <tr>\n",
              "      <th>611</th>\n",
              "      <td>8072.0</td>\n",
              "      <td>240.0</td>\n",
              "      <td>253.0</td>\n",
              "      <td>360.0</td>\n",
              "      <td>Yes</td>\n",
              "    </tr>\n",
              "    <tr>\n",
              "      <th>612</th>\n",
              "      <td>7583.0</td>\n",
              "      <td>0.0</td>\n",
              "      <td>187.0</td>\n",
              "      <td>360.0</td>\n",
              "      <td>Yes</td>\n",
              "    </tr>\n",
              "    <tr>\n",
              "      <th>613</th>\n",
              "      <td>4583.0</td>\n",
              "      <td>0.0</td>\n",
              "      <td>133.0</td>\n",
              "      <td>360.0</td>\n",
              "      <td>No</td>\n",
              "    </tr>\n",
              "  </tbody>\n",
              "</table>\n",
              "<p>614 rows × 5 columns</p>\n",
              "</div>"
            ],
            "text/plain": [
              "     ApplicantIncome  CoapplicantIncome  ...  Loan_Amount_Term  Credit_History\n",
              "0             5849.0                0.0  ...             360.0             Yes\n",
              "1             4583.0             1508.0  ...             360.0             Yes\n",
              "2             3000.0                0.0  ...             360.0             Yes\n",
              "3             2583.0             2358.0  ...             360.0             Yes\n",
              "4             6000.0                0.0  ...             360.0             Yes\n",
              "..               ...                ...  ...               ...             ...\n",
              "609           2900.0                0.0  ...             360.0             Yes\n",
              "610           4106.0                0.0  ...             180.0             Yes\n",
              "611           8072.0              240.0  ...             360.0             Yes\n",
              "612           7583.0                0.0  ...             360.0             Yes\n",
              "613           4583.0                0.0  ...             360.0              No\n",
              "\n",
              "[614 rows x 5 columns]"
            ]
          },
          "metadata": {},
          "execution_count": 18
        }
      ]
    },
    {
      "cell_type": "markdown",
      "metadata": {
        "id": "XRYuPYEudge4"
      },
      "source": [
        "Test and train spilt"
      ]
    },
    {
      "cell_type": "code",
      "metadata": {
        "id": "2iAf-dMs8AdZ"
      },
      "source": [
        "X_train, X_test, y_train, y_test = train_test_split(X, Y,test_size=0.2,random_state=0)"
      ],
      "execution_count": 19,
      "outputs": []
    },
    {
      "cell_type": "code",
      "metadata": {
        "colab": {
          "base_uri": "https://localhost:8080/",
          "height": 204
        },
        "id": "gOKmKeno8LtG",
        "outputId": "7b7980bd-4706-4f60-e54b-548c7485d66a"
      },
      "source": [
        "X_train.head()"
      ],
      "execution_count": 20,
      "outputs": [
        {
          "output_type": "execute_result",
          "data": {
            "text/html": [
              "<div>\n",
              "<style scoped>\n",
              "    .dataframe tbody tr th:only-of-type {\n",
              "        vertical-align: middle;\n",
              "    }\n",
              "\n",
              "    .dataframe tbody tr th {\n",
              "        vertical-align: top;\n",
              "    }\n",
              "\n",
              "    .dataframe thead th {\n",
              "        text-align: right;\n",
              "    }\n",
              "</style>\n",
              "<table border=\"1\" class=\"dataframe\">\n",
              "  <thead>\n",
              "    <tr style=\"text-align: right;\">\n",
              "      <th></th>\n",
              "      <th>ApplicantIncome</th>\n",
              "      <th>CoapplicantIncome</th>\n",
              "      <th>LoanAmount</th>\n",
              "      <th>Loan_Amount_Term</th>\n",
              "      <th>Credit_History</th>\n",
              "    </tr>\n",
              "  </thead>\n",
              "  <tbody>\n",
              "    <tr>\n",
              "      <th>90</th>\n",
              "      <td>2958.0</td>\n",
              "      <td>2900.0</td>\n",
              "      <td>131.0</td>\n",
              "      <td>360.0</td>\n",
              "      <td>Yes</td>\n",
              "    </tr>\n",
              "    <tr>\n",
              "      <th>533</th>\n",
              "      <td>11250.0</td>\n",
              "      <td>0.0</td>\n",
              "      <td>196.0</td>\n",
              "      <td>360.0</td>\n",
              "      <td>No</td>\n",
              "    </tr>\n",
              "    <tr>\n",
              "      <th>452</th>\n",
              "      <td>3948.0</td>\n",
              "      <td>1733.0</td>\n",
              "      <td>149.0</td>\n",
              "      <td>360.0</td>\n",
              "      <td>No</td>\n",
              "    </tr>\n",
              "    <tr>\n",
              "      <th>355</th>\n",
              "      <td>3813.0</td>\n",
              "      <td>0.0</td>\n",
              "      <td>116.0</td>\n",
              "      <td>180.0</td>\n",
              "      <td>Yes</td>\n",
              "    </tr>\n",
              "    <tr>\n",
              "      <th>266</th>\n",
              "      <td>4708.0</td>\n",
              "      <td>1387.0</td>\n",
              "      <td>150.0</td>\n",
              "      <td>360.0</td>\n",
              "      <td>Yes</td>\n",
              "    </tr>\n",
              "  </tbody>\n",
              "</table>\n",
              "</div>"
            ],
            "text/plain": [
              "     ApplicantIncome  CoapplicantIncome  ...  Loan_Amount_Term  Credit_History\n",
              "90            2958.0             2900.0  ...             360.0             Yes\n",
              "533          11250.0                0.0  ...             360.0              No\n",
              "452           3948.0             1733.0  ...             360.0              No\n",
              "355           3813.0                0.0  ...             180.0             Yes\n",
              "266           4708.0             1387.0  ...             360.0             Yes\n",
              "\n",
              "[5 rows x 5 columns]"
            ]
          },
          "metadata": {},
          "execution_count": 20
        }
      ]
    },
    {
      "cell_type": "code",
      "metadata": {
        "colab": {
          "base_uri": "https://localhost:8080/",
          "height": 204
        },
        "id": "bldxw9SE8Q7R",
        "outputId": "431f761c-9dc4-4dfa-8ba7-894ddda2e33d"
      },
      "source": [
        "y_train.head()"
      ],
      "execution_count": 21,
      "outputs": [
        {
          "output_type": "execute_result",
          "data": {
            "text/html": [
              "<div>\n",
              "<style scoped>\n",
              "    .dataframe tbody tr th:only-of-type {\n",
              "        vertical-align: middle;\n",
              "    }\n",
              "\n",
              "    .dataframe tbody tr th {\n",
              "        vertical-align: top;\n",
              "    }\n",
              "\n",
              "    .dataframe thead th {\n",
              "        text-align: right;\n",
              "    }\n",
              "</style>\n",
              "<table border=\"1\" class=\"dataframe\">\n",
              "  <thead>\n",
              "    <tr style=\"text-align: right;\">\n",
              "      <th></th>\n",
              "      <th>Loan_Status</th>\n",
              "    </tr>\n",
              "  </thead>\n",
              "  <tbody>\n",
              "    <tr>\n",
              "      <th>90</th>\n",
              "      <td>1</td>\n",
              "    </tr>\n",
              "    <tr>\n",
              "      <th>533</th>\n",
              "      <td>0</td>\n",
              "    </tr>\n",
              "    <tr>\n",
              "      <th>452</th>\n",
              "      <td>0</td>\n",
              "    </tr>\n",
              "    <tr>\n",
              "      <th>355</th>\n",
              "      <td>1</td>\n",
              "    </tr>\n",
              "    <tr>\n",
              "      <th>266</th>\n",
              "      <td>1</td>\n",
              "    </tr>\n",
              "  </tbody>\n",
              "</table>\n",
              "</div>"
            ],
            "text/plain": [
              "     Loan_Status\n",
              "90             1\n",
              "533            0\n",
              "452            0\n",
              "355            1\n",
              "266            1"
            ]
          },
          "metadata": {},
          "execution_count": 21
        }
      ]
    },
    {
      "cell_type": "markdown",
      "metadata": {
        "id": "MO2W9j-4dpf2"
      },
      "source": [
        "Creating a CatBoostClassifier"
      ]
    },
    {
      "cell_type": "code",
      "metadata": {
        "id": "tPyBACxn8k7B"
      },
      "source": [
        "model = CatBoostClassifier(task_type='GPU', iterations=150, \n",
        "                              random_state = 2000, \n",
        "                              eval_metric=\"F1\")   "
      ],
      "execution_count": 22,
      "outputs": []
    },
    {
      "cell_type": "markdown",
      "metadata": {
        "id": "Wwst9Mu6dvsb"
      },
      "source": [
        "Model Fitting"
      ]
    },
    {
      "cell_type": "code",
      "metadata": {
        "colab": {
          "base_uri": "https://localhost:8080/",
          "height": 1000,
          "referenced_widgets": [
            "70a138e97cd345948b6784eef80f51e6"
          ]
        },
        "id": "613B9yUK8mpn",
        "outputId": "64953234-7ea9-4108-eb5a-5699d3017b69"
      },
      "source": [
        "model.fit(X_train, y_train, cat_features= [\"Credit_History\"], plot=True,eval_set=(X_test, y_test))"
      ],
      "execution_count": 23,
      "outputs": [
        {
          "output_type": "display_data",
          "data": {
            "application/vnd.jupyter.widget-view+json": {
              "model_id": "70a138e97cd345948b6784eef80f51e6",
              "version_minor": 0,
              "version_major": 2
            },
            "text/plain": [
              "MetricVisualizer(layout=Layout(align_self='stretch', height='500px'))"
            ]
          },
          "metadata": {}
        },
        {
          "output_type": "stream",
          "name": "stdout",
          "text": [
            "Learning rate set to 0.165913\n",
            "0:\tlearn: 0.8472222\ttest: 0.8629442\tbest: 0.8629442 (0)\ttotal: 9.08ms\tremaining: 1.35s\n",
            "1:\tlearn: 0.8377997\ttest: 0.8617021\tbest: 0.8629442 (0)\ttotal: 13.7ms\tremaining: 1.01s\n",
            "2:\tlearn: 0.8377997\ttest: 0.8617021\tbest: 0.8629442 (0)\ttotal: 18.7ms\tremaining: 915ms\n",
            "3:\tlearn: 0.8377997\ttest: 0.8617021\tbest: 0.8629442 (0)\ttotal: 25.8ms\tremaining: 943ms\n",
            "4:\tlearn: 0.8377997\ttest: 0.8617021\tbest: 0.8629442 (0)\ttotal: 32.2ms\tremaining: 934ms\n",
            "5:\tlearn: 0.8377997\ttest: 0.8617021\tbest: 0.8629442 (0)\ttotal: 39.3ms\tremaining: 943ms\n",
            "6:\tlearn: 0.8377997\ttest: 0.8617021\tbest: 0.8629442 (0)\ttotal: 44.9ms\tremaining: 917ms\n",
            "7:\tlearn: 0.8377997\ttest: 0.8617021\tbest: 0.8629442 (0)\ttotal: 51.7ms\tremaining: 918ms\n",
            "8:\tlearn: 0.8377997\ttest: 0.8617021\tbest: 0.8629442 (0)\ttotal: 56.3ms\tremaining: 882ms\n",
            "9:\tlearn: 0.8377997\ttest: 0.8617021\tbest: 0.8629442 (0)\ttotal: 63.5ms\tremaining: 888ms\n",
            "10:\tlearn: 0.8377997\ttest: 0.8617021\tbest: 0.8629442 (0)\ttotal: 70.5ms\tremaining: 891ms\n",
            "11:\tlearn: 0.8377997\ttest: 0.8617021\tbest: 0.8629442 (0)\ttotal: 77.4ms\tremaining: 891ms\n",
            "12:\tlearn: 0.8377997\ttest: 0.8617021\tbest: 0.8629442 (0)\ttotal: 84.6ms\tremaining: 891ms\n",
            "13:\tlearn: 0.8377997\ttest: 0.8617021\tbest: 0.8629442 (0)\ttotal: 101ms\tremaining: 982ms\n",
            "14:\tlearn: 0.8377997\ttest: 0.8617021\tbest: 0.8629442 (0)\ttotal: 107ms\tremaining: 967ms\n",
            "15:\tlearn: 0.8377997\ttest: 0.8617021\tbest: 0.8629442 (0)\ttotal: 116ms\tremaining: 969ms\n",
            "16:\tlearn: 0.8377997\ttest: 0.8617021\tbest: 0.8629442 (0)\ttotal: 124ms\tremaining: 967ms\n",
            "17:\tlearn: 0.8377997\ttest: 0.8617021\tbest: 0.8629442 (0)\ttotal: 132ms\tremaining: 965ms\n",
            "18:\tlearn: 0.8377997\ttest: 0.8617021\tbest: 0.8629442 (0)\ttotal: 139ms\tremaining: 955ms\n",
            "19:\tlearn: 0.8377997\ttest: 0.8617021\tbest: 0.8629442 (0)\ttotal: 145ms\tremaining: 945ms\n",
            "20:\tlearn: 0.8377997\ttest: 0.8617021\tbest: 0.8629442 (0)\ttotal: 152ms\tremaining: 935ms\n",
            "21:\tlearn: 0.8394366\ttest: 0.8617021\tbest: 0.8629442 (0)\ttotal: 159ms\tremaining: 926ms\n",
            "22:\tlearn: 0.8394366\ttest: 0.8617021\tbest: 0.8629442 (0)\ttotal: 166ms\tremaining: 917ms\n",
            "23:\tlearn: 0.8410689\ttest: 0.8617021\tbest: 0.8629442 (0)\ttotal: 173ms\tremaining: 907ms\n",
            "24:\tlearn: 0.8410689\ttest: 0.8617021\tbest: 0.8629442 (0)\ttotal: 180ms\tremaining: 899ms\n",
            "25:\tlearn: 0.8410689\ttest: 0.8617021\tbest: 0.8629442 (0)\ttotal: 187ms\tremaining: 890ms\n",
            "26:\tlearn: 0.8410689\ttest: 0.8617021\tbest: 0.8629442 (0)\ttotal: 193ms\tremaining: 881ms\n",
            "27:\tlearn: 0.8394366\ttest: 0.8617021\tbest: 0.8629442 (0)\ttotal: 207ms\tremaining: 900ms\n",
            "28:\tlearn: 0.8394366\ttest: 0.8617021\tbest: 0.8629442 (0)\ttotal: 215ms\tremaining: 896ms\n",
            "29:\tlearn: 0.8410689\ttest: 0.8617021\tbest: 0.8629442 (0)\ttotal: 223ms\tremaining: 893ms\n",
            "30:\tlearn: 0.8410689\ttest: 0.8617021\tbest: 0.8629442 (0)\ttotal: 230ms\tremaining: 882ms\n",
            "31:\tlearn: 0.8410689\ttest: 0.8617021\tbest: 0.8629442 (0)\ttotal: 236ms\tremaining: 872ms\n",
            "32:\tlearn: 0.8410689\ttest: 0.8571429\tbest: 0.8629442 (0)\ttotal: 246ms\tremaining: 874ms\n",
            "33:\tlearn: 0.8410689\ttest: 0.8571429\tbest: 0.8629442 (0)\ttotal: 253ms\tremaining: 864ms\n",
            "34:\tlearn: 0.8443198\ttest: 0.8571429\tbest: 0.8629442 (0)\ttotal: 260ms\tremaining: 856ms\n",
            "35:\tlearn: 0.8443198\ttest: 0.8571429\tbest: 0.8629442 (0)\ttotal: 267ms\tremaining: 846ms\n",
            "36:\tlearn: 0.8443198\ttest: 0.8571429\tbest: 0.8629442 (0)\ttotal: 274ms\tremaining: 837ms\n",
            "37:\tlearn: 0.8455056\ttest: 0.8571429\tbest: 0.8629442 (0)\ttotal: 283ms\tremaining: 833ms\n",
            "38:\tlearn: 0.8466948\ttest: 0.8571429\tbest: 0.8629442 (0)\ttotal: 289ms\tremaining: 824ms\n",
            "39:\tlearn: 0.8499299\ttest: 0.8571429\tbest: 0.8629442 (0)\ttotal: 296ms\tremaining: 815ms\n",
            "40:\tlearn: 0.8499299\ttest: 0.8571429\tbest: 0.8629442 (0)\ttotal: 303ms\tremaining: 807ms\n",
            "41:\tlearn: 0.8511236\ttest: 0.8571429\tbest: 0.8629442 (0)\ttotal: 311ms\tremaining: 799ms\n",
            "42:\tlearn: 0.8511236\ttest: 0.8571429\tbest: 0.8629442 (0)\ttotal: 317ms\tremaining: 790ms\n",
            "43:\tlearn: 0.8539326\ttest: 0.8617021\tbest: 0.8629442 (0)\ttotal: 324ms\tremaining: 781ms\n",
            "44:\tlearn: 0.8539326\ttest: 0.8571429\tbest: 0.8629442 (0)\ttotal: 331ms\tremaining: 772ms\n",
            "45:\tlearn: 0.8575458\ttest: 0.8571429\tbest: 0.8629442 (0)\ttotal: 338ms\tremaining: 764ms\n",
            "46:\tlearn: 0.8575458\ttest: 0.8510638\tbest: 0.8629442 (0)\ttotal: 344ms\tremaining: 755ms\n",
            "47:\tlearn: 0.8603667\ttest: 0.8510638\tbest: 0.8629442 (0)\ttotal: 351ms\tremaining: 746ms\n",
            "48:\tlearn: 0.8591549\ttest: 0.8556150\tbest: 0.8629442 (0)\ttotal: 358ms\tremaining: 738ms\n",
            "49:\tlearn: 0.8635724\ttest: 0.8556150\tbest: 0.8629442 (0)\ttotal: 365ms\tremaining: 730ms\n",
            "50:\tlearn: 0.8635724\ttest: 0.8556150\tbest: 0.8629442 (0)\ttotal: 372ms\tremaining: 722ms\n",
            "51:\tlearn: 0.8644068\ttest: 0.8556150\tbest: 0.8629442 (0)\ttotal: 379ms\tremaining: 714ms\n",
            "52:\tlearn: 0.8644068\ttest: 0.8556150\tbest: 0.8629442 (0)\ttotal: 386ms\tremaining: 706ms\n",
            "53:\tlearn: 0.8631876\ttest: 0.8663102\tbest: 0.8663102 (53)\ttotal: 392ms\tremaining: 698ms\n",
            "54:\tlearn: 0.8644068\ttest: 0.8663102\tbest: 0.8663102 (53)\ttotal: 411ms\tremaining: 710ms\n",
            "55:\tlearn: 0.8644068\ttest: 0.8723404\tbest: 0.8723404 (55)\ttotal: 418ms\tremaining: 701ms\n",
            "56:\tlearn: 0.8656294\ttest: 0.8723404\tbest: 0.8723404 (55)\ttotal: 425ms\tremaining: 693ms\n",
            "57:\tlearn: 0.8688293\ttest: 0.8723404\tbest: 0.8723404 (55)\ttotal: 432ms\tremaining: 685ms\n",
            "58:\tlearn: 0.8688293\ttest: 0.8723404\tbest: 0.8723404 (55)\ttotal: 438ms\tremaining: 676ms\n",
            "59:\tlearn: 0.8663854\ttest: 0.8723404\tbest: 0.8723404 (55)\ttotal: 445ms\tremaining: 668ms\n",
            "60:\tlearn: 0.8676056\ttest: 0.8723404\tbest: 0.8723404 (55)\ttotal: 452ms\tremaining: 659ms\n",
            "61:\tlearn: 0.8651685\ttest: 0.8677249\tbest: 0.8723404 (55)\ttotal: 459ms\tremaining: 651ms\n",
            "62:\tlearn: 0.8676056\ttest: 0.8723404\tbest: 0.8723404 (55)\ttotal: 465ms\tremaining: 643ms\n",
            "63:\tlearn: 0.8679775\ttest: 0.8723404\tbest: 0.8723404 (55)\ttotal: 474ms\tremaining: 637ms\n",
            "64:\tlearn: 0.8704225\ttest: 0.8723404\tbest: 0.8723404 (55)\ttotal: 481ms\tremaining: 629ms\n",
            "65:\tlearn: 0.8728814\ttest: 0.8723404\tbest: 0.8723404 (55)\ttotal: 487ms\tremaining: 620ms\n",
            "66:\tlearn: 0.8741160\ttest: 0.8723404\tbest: 0.8723404 (55)\ttotal: 494ms\tremaining: 612ms\n",
            "67:\tlearn: 0.8741160\ttest: 0.8723404\tbest: 0.8723404 (55)\ttotal: 501ms\tremaining: 604ms\n",
            "68:\tlearn: 0.8769448\ttest: 0.8723404\tbest: 0.8723404 (55)\ttotal: 508ms\tremaining: 596ms\n",
            "69:\tlearn: 0.8753541\ttest: 0.8723404\tbest: 0.8723404 (55)\ttotal: 514ms\tremaining: 588ms\n",
            "70:\tlearn: 0.8785311\ttest: 0.8677249\tbest: 0.8723404 (55)\ttotal: 521ms\tremaining: 580ms\n",
            "71:\tlearn: 0.8753541\ttest: 0.8723404\tbest: 0.8723404 (55)\ttotal: 528ms\tremaining: 572ms\n",
            "72:\tlearn: 0.8765957\ttest: 0.8617021\tbest: 0.8723404 (55)\ttotal: 535ms\tremaining: 565ms\n",
            "73:\tlearn: 0.8765957\ttest: 0.8617021\tbest: 0.8723404 (55)\ttotal: 542ms\tremaining: 557ms\n",
            "74:\tlearn: 0.8781870\ttest: 0.8677249\tbest: 0.8723404 (55)\ttotal: 549ms\tremaining: 549ms\n",
            "75:\tlearn: 0.8769448\ttest: 0.8677249\tbest: 0.8723404 (55)\ttotal: 556ms\tremaining: 541ms\n",
            "76:\tlearn: 0.8801128\ttest: 0.8677249\tbest: 0.8723404 (55)\ttotal: 562ms\tremaining: 533ms\n",
            "77:\tlearn: 0.8801128\ttest: 0.8677249\tbest: 0.8723404 (55)\ttotal: 570ms\tremaining: 526ms\n",
            "78:\tlearn: 0.8829337\ttest: 0.8677249\tbest: 0.8723404 (55)\ttotal: 576ms\tremaining: 518ms\n",
            "79:\tlearn: 0.8813559\ttest: 0.8677249\tbest: 0.8723404 (55)\ttotal: 583ms\tremaining: 510ms\n",
            "80:\tlearn: 0.8829337\ttest: 0.8723404\tbest: 0.8723404 (55)\ttotal: 590ms\tremaining: 502ms\n",
            "81:\tlearn: 0.8841808\ttest: 0.8723404\tbest: 0.8723404 (55)\ttotal: 596ms\tremaining: 494ms\n",
            "82:\tlearn: 0.8854314\ttest: 0.8723404\tbest: 0.8723404 (55)\ttotal: 609ms\tremaining: 491ms\n",
            "83:\tlearn: 0.8913963\ttest: 0.8677249\tbest: 0.8723404 (55)\ttotal: 615ms\tremaining: 483ms\n",
            "84:\tlearn: 0.8926554\ttest: 0.8677249\tbest: 0.8723404 (55)\ttotal: 637ms\tremaining: 487ms\n",
            "85:\tlearn: 0.8926554\ttest: 0.8736842\tbest: 0.8736842 (85)\ttotal: 644ms\tremaining: 479ms\n",
            "86:\tlearn: 0.8910891\ttest: 0.8677249\tbest: 0.8736842 (85)\ttotal: 651ms\tremaining: 471ms\n",
            "87:\tlearn: 0.8898305\ttest: 0.8736842\tbest: 0.8736842 (85)\ttotal: 658ms\tremaining: 463ms\n",
            "88:\tlearn: 0.8913963\ttest: 0.8736842\tbest: 0.8736842 (85)\ttotal: 665ms\tremaining: 456ms\n",
            "89:\tlearn: 0.8929577\ttest: 0.8736842\tbest: 0.8736842 (85)\ttotal: 672ms\tremaining: 448ms\n",
            "90:\tlearn: 0.8913963\ttest: 0.8736842\tbest: 0.8736842 (85)\ttotal: 679ms\tremaining: 440ms\n",
            "91:\tlearn: 0.8942172\ttest: 0.8736842\tbest: 0.8736842 (85)\ttotal: 685ms\tremaining: 432ms\n",
            "92:\tlearn: 0.8926554\ttest: 0.8736842\tbest: 0.8736842 (85)\ttotal: 692ms\tremaining: 424ms\n",
            "93:\tlearn: 0.8942172\ttest: 0.8736842\tbest: 0.8736842 (85)\ttotal: 699ms\tremaining: 416ms\n",
            "94:\tlearn: 0.8957746\ttest: 0.8691099\tbest: 0.8736842 (85)\ttotal: 705ms\tremaining: 408ms\n",
            "95:\tlearn: 0.8973277\ttest: 0.8691099\tbest: 0.8736842 (85)\ttotal: 712ms\tremaining: 401ms\n",
            "96:\tlearn: 0.8973277\ttest: 0.8691099\tbest: 0.8736842 (85)\ttotal: 719ms\tremaining: 393ms\n",
            "97:\tlearn: 0.8957746\ttest: 0.8631579\tbest: 0.8736842 (85)\ttotal: 726ms\tremaining: 385ms\n",
            "98:\tlearn: 0.8985915\ttest: 0.8631579\tbest: 0.8736842 (85)\ttotal: 732ms\tremaining: 377ms\n",
            "99:\tlearn: 0.8998590\ttest: 0.8631579\tbest: 0.8736842 (85)\ttotal: 739ms\tremaining: 370ms\n",
            "100:\tlearn: 0.8998590\ttest: 0.8631579\tbest: 0.8736842 (85)\ttotal: 746ms\tremaining: 362ms\n",
            "101:\tlearn: 0.8998590\ttest: 0.8631579\tbest: 0.8736842 (85)\ttotal: 753ms\tremaining: 354ms\n",
            "102:\tlearn: 0.8970381\ttest: 0.8631579\tbest: 0.8736842 (85)\ttotal: 760ms\tremaining: 347ms\n",
            "103:\tlearn: 0.8985915\ttest: 0.8631579\tbest: 0.8736842 (85)\ttotal: 766ms\tremaining: 339ms\n",
            "104:\tlearn: 0.8985915\ttest: 0.8631579\tbest: 0.8736842 (85)\ttotal: 773ms\tremaining: 331ms\n",
            "105:\tlearn: 0.8985915\ttest: 0.8631579\tbest: 0.8736842 (85)\ttotal: 780ms\tremaining: 324ms\n",
            "106:\tlearn: 0.8985915\ttest: 0.8631579\tbest: 0.8736842 (85)\ttotal: 787ms\tremaining: 316ms\n",
            "107:\tlearn: 0.9011299\ttest: 0.8571429\tbest: 0.8736842 (85)\ttotal: 805ms\tremaining: 313ms\n",
            "108:\tlearn: 0.9024045\ttest: 0.8571429\tbest: 0.8736842 (85)\ttotal: 812ms\tremaining: 305ms\n",
            "109:\tlearn: 0.9005682\ttest: 0.8571429\tbest: 0.8736842 (85)\ttotal: 818ms\tremaining: 298ms\n",
            "110:\tlearn: 0.9021277\ttest: 0.8631579\tbest: 0.8736842 (85)\ttotal: 825ms\tremaining: 290ms\n",
            "111:\tlearn: 0.9021277\ttest: 0.8571429\tbest: 0.8736842 (85)\ttotal: 832ms\tremaining: 282ms\n",
            "112:\tlearn: 0.9021277\ttest: 0.8571429\tbest: 0.8736842 (85)\ttotal: 839ms\tremaining: 275ms\n",
            "113:\tlearn: 0.9024045\ttest: 0.8571429\tbest: 0.8736842 (85)\ttotal: 845ms\tremaining: 267ms\n",
            "114:\tlearn: 0.9021277\ttest: 0.8571429\tbest: 0.8736842 (85)\ttotal: 852ms\tremaining: 259ms\n",
            "115:\tlearn: 0.9034091\ttest: 0.8510638\tbest: 0.8736842 (85)\ttotal: 859ms\tremaining: 252ms\n",
            "116:\tlearn: 0.9034091\ttest: 0.8510638\tbest: 0.8736842 (85)\ttotal: 866ms\tremaining: 244ms\n",
            "117:\tlearn: 0.9034091\ttest: 0.8510638\tbest: 0.8736842 (85)\ttotal: 873ms\tremaining: 237ms\n",
            "118:\tlearn: 0.9034091\ttest: 0.8510638\tbest: 0.8736842 (85)\ttotal: 880ms\tremaining: 229ms\n",
            "119:\tlearn: 0.9034091\ttest: 0.8510638\tbest: 0.8736842 (85)\ttotal: 889ms\tremaining: 222ms\n",
            "120:\tlearn: 0.9034091\ttest: 0.8571429\tbest: 0.8736842 (85)\ttotal: 896ms\tremaining: 215ms\n",
            "121:\tlearn: 0.9034091\ttest: 0.8510638\tbest: 0.8736842 (85)\ttotal: 903ms\tremaining: 207ms\n",
            "122:\tlearn: 0.9034091\ttest: 0.8510638\tbest: 0.8736842 (85)\ttotal: 910ms\tremaining: 200ms\n",
            "123:\tlearn: 0.9034091\ttest: 0.8510638\tbest: 0.8736842 (85)\ttotal: 917ms\tremaining: 192ms\n",
            "124:\tlearn: 0.9036827\ttest: 0.8510638\tbest: 0.8736842 (85)\ttotal: 923ms\tremaining: 185ms\n",
            "125:\tlearn: 0.9052334\ttest: 0.8510638\tbest: 0.8736842 (85)\ttotal: 930ms\tremaining: 177ms\n",
            "126:\tlearn: 0.9078014\ttest: 0.8449198\tbest: 0.8736842 (85)\ttotal: 937ms\tremaining: 170ms\n",
            "127:\tlearn: 0.9078014\ttest: 0.8510638\tbest: 0.8736842 (85)\ttotal: 944ms\tremaining: 162ms\n",
            "128:\tlearn: 0.9078014\ttest: 0.8449198\tbest: 0.8736842 (85)\ttotal: 950ms\tremaining: 155ms\n",
            "129:\tlearn: 0.9078014\ttest: 0.8449198\tbest: 0.8736842 (85)\ttotal: 957ms\tremaining: 147ms\n",
            "130:\tlearn: 0.9078014\ttest: 0.8449198\tbest: 0.8736842 (85)\ttotal: 964ms\tremaining: 140ms\n",
            "131:\tlearn: 0.9078014\ttest: 0.8449198\tbest: 0.8736842 (85)\ttotal: 971ms\tremaining: 132ms\n",
            "132:\tlearn: 0.9075391\ttest: 0.8387097\tbest: 0.8736842 (85)\ttotal: 978ms\tremaining: 125ms\n",
            "133:\tlearn: 0.9075391\ttest: 0.8449198\tbest: 0.8736842 (85)\ttotal: 985ms\tremaining: 118ms\n",
            "134:\tlearn: 0.9075391\ttest: 0.8449198\tbest: 0.8736842 (85)\ttotal: 1.02s\tremaining: 113ms\n",
            "135:\tlearn: 0.9106383\ttest: 0.8449198\tbest: 0.8736842 (85)\ttotal: 1.03s\tremaining: 106ms\n",
            "136:\tlearn: 0.9106383\ttest: 0.8449198\tbest: 0.8736842 (85)\ttotal: 1.03s\tremaining: 98.2ms\n",
            "137:\tlearn: 0.9106383\ttest: 0.8449198\tbest: 0.8736842 (85)\ttotal: 1.04s\tremaining: 90.6ms\n",
            "138:\tlearn: 0.9147727\ttest: 0.8449198\tbest: 0.8736842 (85)\ttotal: 1.05s\tremaining: 83.3ms\n",
            "139:\tlearn: 0.9147727\ttest: 0.8449198\tbest: 0.8736842 (85)\ttotal: 1.06s\tremaining: 75.8ms\n",
            "140:\tlearn: 0.9134752\ttest: 0.8449198\tbest: 0.8736842 (85)\ttotal: 1.07s\tremaining: 68.3ms\n",
            "141:\tlearn: 0.9132290\ttest: 0.8387097\tbest: 0.8736842 (85)\ttotal: 1.08s\tremaining: 60.7ms\n",
            "142:\tlearn: 0.9160740\ttest: 0.8387097\tbest: 0.8736842 (85)\ttotal: 1.08s\tremaining: 53.1ms\n",
            "143:\tlearn: 0.9147727\ttest: 0.8387097\tbest: 0.8736842 (85)\ttotal: 1.09s\tremaining: 45.5ms\n",
            "144:\tlearn: 0.9147727\ttest: 0.8449198\tbest: 0.8736842 (85)\ttotal: 1.1s\tremaining: 37.8ms\n",
            "145:\tlearn: 0.9160740\ttest: 0.8449198\tbest: 0.8736842 (85)\ttotal: 1.1s\tremaining: 30.3ms\n",
            "146:\tlearn: 0.9160740\ttest: 0.8387097\tbest: 0.8736842 (85)\ttotal: 1.11s\tremaining: 22.7ms\n",
            "147:\tlearn: 0.9160740\ttest: 0.8387097\tbest: 0.8736842 (85)\ttotal: 1.12s\tremaining: 15.1ms\n",
            "148:\tlearn: 0.9147727\ttest: 0.8449198\tbest: 0.8736842 (85)\ttotal: 1.13s\tremaining: 7.55ms\n",
            "149:\tlearn: 0.9147727\ttest: 0.8449198\tbest: 0.8736842 (85)\ttotal: 1.13s\tremaining: 0us\n",
            "bestTest = 0.8736842105\n",
            "bestIteration = 85\n",
            "Shrink model to first 86 iterations.\n"
          ]
        },
        {
          "output_type": "execute_result",
          "data": {
            "text/plain": [
              "<catboost.core.CatBoostClassifier at 0x7fb36f5db690>"
            ]
          },
          "metadata": {},
          "execution_count": 23
        }
      ]
    },
    {
      "cell_type": "markdown",
      "metadata": {
        "id": "8Jo_rfR6d1O3"
      },
      "source": [
        "Predicting the values for X_test"
      ]
    },
    {
      "cell_type": "code",
      "metadata": {
        "id": "yKRhzLbeSVV8"
      },
      "source": [
        "y_pred=model.predict(X_test)\n"
      ],
      "execution_count": 32,
      "outputs": []
    },
    {
      "cell_type": "markdown",
      "metadata": {
        "id": "dpoPLmFOd7bs"
      },
      "source": [
        "Finding the accuracy of model  using f1_score and accuracy_score"
      ]
    },
    {
      "cell_type": "code",
      "metadata": {
        "colab": {
          "base_uri": "https://localhost:8080/"
        },
        "id": "7LxuUHttSjRk",
        "outputId": "c379daab-eafa-46ed-df92-7bd78ac3857e"
      },
      "source": [
        "f1_score(y_test, y_pred)\n"
      ],
      "execution_count": 33,
      "outputs": [
        {
          "output_type": "execute_result",
          "data": {
            "text/plain": [
              "0.8736842105263158"
            ]
          },
          "metadata": {},
          "execution_count": 33
        }
      ]
    },
    {
      "cell_type": "code",
      "metadata": {
        "colab": {
          "base_uri": "https://localhost:8080/"
        },
        "id": "GjRTOczsSjkY",
        "outputId": "6b0fb9fa-36a8-49d9-d9ca-e42137ac036c"
      },
      "source": [
        "accuracy_score(y_test,y_pred)"
      ],
      "execution_count": 34,
      "outputs": [
        {
          "output_type": "execute_result",
          "data": {
            "text/plain": [
              "0.8048780487804879"
            ]
          },
          "metadata": {},
          "execution_count": 34
        }
      ]
    }
  ]
}