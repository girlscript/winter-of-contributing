{
 "cells": [
  {
   "cell_type": "markdown",
   "metadata": {},
   "source": [
    "# Hi Guys \n",
    "# So In this Notebook we are going to see some tradational OPENCV techniques that can be used for preprocessing and overall its going to be a nice represntation of BASICS WITH OPENCV"
   ]
  },
  {
   "cell_type": "markdown",
   "metadata": {},
   "source": [
    "# lets get started then"
   ]
  },
  {
   "cell_type": "markdown",
   "metadata": {},
   "source": [
    "# Importing the most basic libraries we are gonna work with"
   ]
  },
  {
   "cell_type": "code",
   "execution_count": 1,
   "metadata": {},
   "outputs": [],
   "source": [
    "import cv2 as cv\n",
    "import numpy as np"
   ]
  },
  {
   "cell_type": "markdown",
   "metadata": {},
   "source": [
    "# so this will be our test image with which we will work, you can use any image you like as per your need."
   ]
  },
  {
   "cell_type": "code",
   "execution_count": null,
   "metadata": {},
   "outputs": [],
   "source": [
    "img=cv.imread('85-856967_download-fault-in-our-stars-music.jpg')\n",
    "cv.imshow('85-856967_download-fault-in-our-stars-music.jpg',img)\n",
    "cv.waitKey(0)"
   ]
  },
  {
   "cell_type": "markdown",
   "metadata": {},
   "source": [
    "# rectangle drawn"
   ]
  },
  {
   "cell_type": "code",
   "execution_count": 3,
   "metadata": {},
   "outputs": [
    {
     "data": {
      "text/plain": [
       "-1"
      ]
     },
     "execution_count": 3,
     "metadata": {},
     "output_type": "execute_result"
    }
   ],
   "source": [
    "rectangle=cv.rectangle(img,(0,0),(250,250),(0,0,255),2)\n",
    "cv.imshow('rectangle',rectangle)\n",
    "cv.waitKey(0)"
   ]
  },
  {
   "cell_type": "markdown",
   "metadata": {},
   "source": [
    "# resizing"
   ]
  },
  {
   "cell_type": "code",
   "execution_count": 5,
   "metadata": {},
   "outputs": [
    {
     "data": {
      "text/plain": [
       "-1"
      ]
     },
     "execution_count": 5,
     "metadata": {},
     "output_type": "execute_result"
    }
   ],
   "source": [
    "width=int(img.shape[1]*0.50)\n",
    "height=int(img.shape[0]*0.50)\n",
    "dimensions=(width,height)\n",
    "resize=cv.resize(img,dimensions,interpolation=cv.INTER_AREA)\n",
    "cv.imshow('resize',resize)\n",
    "cv.waitKey(0)"
   ]
  },
  {
   "cell_type": "markdown",
   "metadata": {},
   "source": [
    "# circle drawn"
   ]
  },
  {
   "cell_type": "code",
   "execution_count": 5,
   "metadata": {},
   "outputs": [
    {
     "data": {
      "text/plain": [
       "-1"
      ]
     },
     "execution_count": 5,
     "metadata": {},
     "output_type": "execute_result"
    }
   ],
   "source": [
    "rectangle=cv.circle(img,(750,750),250,(0,0,255),2)\n",
    "cv.imshow('rectangle',rectangle)\n",
    "cv.waitKey(0)"
   ]
  },
  {
   "cell_type": "markdown",
   "metadata": {},
   "source": [
    "# writing text"
   ]
  },
  {
   "cell_type": "code",
   "execution_count": 10,
   "metadata": {},
   "outputs": [
    {
     "data": {
      "text/plain": [
       "-1"
      ]
     },
     "execution_count": 10,
     "metadata": {},
     "output_type": "execute_result"
    }
   ],
   "source": [
    "blank=np.zeros(img.shape,dtype='uint8')\n",
    "text=cv.putText(blank,'hey wasssup',(750,750),4,1,250,4)\n",
    "cv.imshow('text',text)\n",
    "cv.waitKey(0)"
   ]
  },
  {
   "cell_type": "markdown",
   "metadata": {},
   "source": [
    "# converting into gray pic"
   ]
  },
  {
   "cell_type": "code",
   "execution_count": 7,
   "metadata": {},
   "outputs": [
    {
     "data": {
      "text/plain": [
       "-1"
      ]
     },
     "execution_count": 7,
     "metadata": {},
     "output_type": "execute_result"
    }
   ],
   "source": [
    "color=cv.cvtColor(img, cv.COLOR_BGR2GRAY)\n",
    "cv.imshow('color',color)\n",
    "cv.waitKey(0)"
   ]
  },
  {
   "cell_type": "markdown",
   "metadata": {},
   "source": [
    "# canny and dilating "
   ]
  },
  {
   "cell_type": "code",
   "execution_count": 8,
   "metadata": {},
   "outputs": [
    {
     "data": {
      "text/plain": [
       "-1"
      ]
     },
     "execution_count": 8,
     "metadata": {},
     "output_type": "execute_result"
    }
   ],
   "source": [
    "canny=cv.Canny(resize,125,175)\n",
    "cv.imshow('canny',canny)\n",
    "dilate=cv.dilate(canny,(3,3),iterations=1)\n",
    "cv.imshow('dilate',dilate)\n",
    "cv.waitKey(0)"
   ]
  },
  {
   "cell_type": "markdown",
   "metadata": {},
   "source": [
    "# blurring and canny and dilating "
   ]
  },
  {
   "cell_type": "code",
   "execution_count": 9,
   "metadata": {},
   "outputs": [
    {
     "data": {
      "text/plain": [
       "-1"
      ]
     },
     "execution_count": 9,
     "metadata": {},
     "output_type": "execute_result"
    }
   ],
   "source": [
    "blur=cv.GaussianBlur(resize,(3,3),cv.BORDER_DEFAULT)\n",
    "cv.imshow('blur',blur)\n",
    "canny=cv.Canny(blur,125,175)\n",
    "cv.imshow('canny',canny)\n",
    "dilate=cv.dilate(canny,(3,3),iterations=1)\n",
    "cv.imshow('dilate',dilate)\n",
    "cv.waitKey(0)"
   ]
  },
  {
   "cell_type": "markdown",
   "metadata": {},
   "source": [
    "# cropping"
   ]
  },
  {
   "cell_type": "code",
   "execution_count": 10,
   "metadata": {},
   "outputs": [
    {
     "data": {
      "text/plain": [
       "-1"
      ]
     },
     "execution_count": 10,
     "metadata": {},
     "output_type": "execute_result"
    }
   ],
   "source": [
    "crop=img[0:1300,0:1300]\n",
    "cv.imshow('crop',crop)\n",
    "cv.waitKey(0)"
   ]
  },
  {
   "cell_type": "markdown",
   "metadata": {},
   "source": [
    "# translation"
   ]
  },
  {
   "cell_type": "code",
   "execution_count": 11,
   "metadata": {},
   "outputs": [
    {
     "data": {
      "text/plain": [
       "-1"
      ]
     },
     "execution_count": 11,
     "metadata": {},
     "output_type": "execute_result"
    }
   ],
   "source": [
    "rotpoint=(width//2,height//2)\n",
    "rotmat=cv.getRotationMatrix2D(rotpoint,90,1.0)\n",
    "rot=cv.warpAffine(resize,rotmat,dimensions)\n",
    "cv.imshow('rotating',rot)\n",
    "cv.waitKey(0)"
   ]
  },
  {
   "cell_type": "markdown",
   "metadata": {},
   "source": [
    "# color channels"
   ]
  },
  {
   "cell_type": "code",
   "execution_count": 12,
   "metadata": {},
   "outputs": [
    {
     "data": {
      "text/plain": [
       "-1"
      ]
     },
     "execution_count": 12,
     "metadata": {},
     "output_type": "execute_result"
    }
   ],
   "source": [
    "(b,g,r)=cv.split(resize)\n",
    "cv.imshow('blue',b)\n",
    "cv.imshow('green',g)\n",
    "cv.imshow('red',r)\n",
    "merge=cv.merge([b,g,r])\n",
    "cv.imshow('merge',merge)\n",
    "cv.waitKey(0)"
   ]
  },
  {
   "cell_type": "markdown",
   "metadata": {},
   "source": [
    "# blurring"
   ]
  },
  {
   "cell_type": "code",
   "execution_count": 13,
   "metadata": {},
   "outputs": [
    {
     "data": {
      "text/plain": [
       "-1"
      ]
     },
     "execution_count": 13,
     "metadata": {},
     "output_type": "execute_result"
    }
   ],
   "source": [
    "median=cv.medianBlur(resize,7)\n",
    "bil=cv.bilateralFilter(resize,15,100,100)\n",
    "cv.imshow('resize',resize)\n",
    "cv.imshow('med',median)\n",
    "\n",
    "cv.imshow('bil',bil)\n",
    "cv.waitKey(0)"
   ]
  },
  {
   "cell_type": "markdown",
   "metadata": {},
   "source": [
    "# contours "
   ]
  },
  {
   "cell_type": "code",
   "execution_count": 11,
   "metadata": {},
   "outputs": [
    {
     "data": {
      "text/plain": [
       "-1"
      ]
     },
     "execution_count": 11,
     "metadata": {},
     "output_type": "execute_result"
    }
   ],
   "source": [
    "contours,hierarchy=cv.findContours(canny,cv.RETR_TREE,cv.CHAIN_APPROX_SIMPLE)\n",
    "cv.imshow('contour',contours)\n",
    "cv.waitKey(0)\n",
    "ret,thresh=cv.threshold(resize,125,255,cv.THRESH_BINARY)\n",
    "image=cv.drawContours(blank,contours,-1,(0,0,255),1)\n",
    "cv.imshow('contour',image)\n",
    "cv.waitKey(0)"
   ]
  },
  {
   "cell_type": "markdown",
   "metadata": {},
   "source": [
    "# bitwise operations and masking"
   ]
  },
  {
   "cell_type": "code",
   "execution_count": 9,
   "metadata": {},
   "outputs": [
    {
     "data": {
      "text/plain": [
       "-1"
      ]
     },
     "execution_count": 9,
     "metadata": {},
     "output_type": "execute_result"
    }
   ],
   "source": [
    "blank1=np.zeros(img.shape[:2],dtype='uint8')\n",
    "circle=cv.circle(blank1,(width//2,height//2),100,255,-1)\n",
    "cv.imshow('circle',circle)\n",
    "cv.waitKey(0)"
   ]
  },
  {
   "cell_type": "code",
   "execution_count": 11,
   "metadata": {},
   "outputs": [
    {
     "data": {
      "text/plain": [
       "-1"
      ]
     },
     "execution_count": 11,
     "metadata": {},
     "output_type": "execute_result"
    }
   ],
   "source": [
    "\n",
    "rectangle=cv.rectangle(blank1.copy(),(0,0),(500,500),(255,255,255),-1)\n",
    "mask=cv.circle(blank1.copy(),(100,100),250,(255,255,255),-1)\n",
    "bit=cv.bitwise_and(rectangle,circle)\n",
    "cv.imshow('rectangle',bit)\n",
    "cv.imshow('circle',mask)\n",
    "cv.imshow('rect',rectangle)\n",
    "masked=cv.bitwise_and(img,img,mask=mask)\n",
    "cv.imshow('mask',masked)\n",
    "cv.waitKey(0)"
   ]
  },
  {
   "cell_type": "markdown",
   "metadata": {},
   "source": [
    "# thresholding and inverse"
   ]
  },
  {
   "cell_type": "code",
   "execution_count": 32,
   "metadata": {},
   "outputs": [
    {
     "data": {
      "text/plain": [
       "-1"
      ]
     },
     "execution_count": 32,
     "metadata": {},
     "output_type": "execute_result"
    }
   ],
   "source": [
    "gray=cv.cvtColor(resize, cv.COLOR_BGR2GRAY)\n",
    "ret,thresh=cv.threshold(gray,125,255,cv.THRESH_BINARY)\n",
    "ret,thresh_inv=cv.threshold(gray,125,255,cv.THRESH_BINARY_INV)\n",
    "cv.imshow('threholded',thresh)\n",
    "cv.imshow('threholded inverse',thresh_inv)\n",
    "cv.waitKey(0)"
   ]
  },
  {
   "cell_type": "code",
   "execution_count": null,
   "metadata": {},
   "outputs": [],
   "source": [
    "adapt=cv.adaptiveThreshold(gray,255,cv.ADAPTIVE_THRESH_MEAN_C,cv.THRESH_BINARY,5,6)\n",
    "cv.imshow('threholded adapt',adapt)\n",
    "cv.waitKey(0)"
   ]
  },
  {
   "cell_type": "markdown",
   "metadata": {},
   "source": [
    "# EDGE DETECTION"
   ]
  },
  {
   "cell_type": "markdown",
   "metadata": {},
   "source": [
    "## there is also a sobel edge detection method which we can work with "
   ]
  },
  {
   "cell_type": "code",
   "execution_count": 6,
   "metadata": {},
   "outputs": [
    {
     "data": {
      "text/plain": [
       "-1"
      ]
     },
     "execution_count": 6,
     "metadata": {},
     "output_type": "execute_result"
    }
   ],
   "source": [
    "edge=cv.Laplacian(resize,cv.CV_64F)\n",
    "edge=np.uint8(np.absolute(edge))\n",
    "cv.imshow('edge',edge)\n",
    "cv.waitKey(0)\n",
    "#there is also a sobel edge detection method which we can work with "
   ]
  },
  {
   "cell_type": "markdown",
   "metadata": {},
   "source": [
    "# face detection using inbuilt classifier"
   ]
  },
  {
   "cell_type": "code",
   "execution_count": 8,
   "metadata": {},
   "outputs": [
    {
     "data": {
      "text/plain": [
       "-1"
      ]
     },
     "execution_count": 8,
     "metadata": {},
     "output_type": "execute_result"
    }
   ],
   "source": [
    "image=cv.imread('The-Avengers-Cast.jpg')\n",
    "haar=cv.CascadeClassifier('haarcascade_frontalface_default.xml')\n",
    "face=haar.detectMultiScale(image,1.1,5)\n",
    "for (x,y,w,h) in face:\n",
    "    cv.rectangle(image,(x,y),(x+w,y+h),(0,0,255),4)\n",
    "    \n",
    "cv.imshow('face',image)\n",
    "cv.waitKey(0)"
   ]
  },
  {
   "cell_type": "code",
   "execution_count": null,
   "metadata": {},
   "outputs": [],
   "source": []
  }
 ],
 "metadata": {
  "kernelspec": {
   "display_name": "Python 3",
   "language": "python",
   "name": "python3"
  },
  "language_info": {
   "codemirror_mode": {
    "name": "ipython",
    "version": 3
   },
   "file_extension": ".py",
   "mimetype": "text/x-python",
   "name": "python",
   "nbconvert_exporter": "python",
   "pygments_lexer": "ipython3",
   "version": "3.8.3"
  }
 },
 "nbformat": 4,
 "nbformat_minor": 4
}
