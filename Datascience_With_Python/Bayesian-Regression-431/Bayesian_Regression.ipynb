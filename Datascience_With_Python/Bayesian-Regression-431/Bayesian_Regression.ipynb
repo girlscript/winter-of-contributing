{
  "nbformat": 4,
  "nbformat_minor": 0,
  "metadata": {
    "colab": {
      "name": "Bayesian Regression.ipynb",
      "provenance": []
    },
    "kernelspec": {
      "name": "python3",
      "display_name": "Python 3"
    },
    "language_info": {
      "name": "python"
    }
  },
  "cells": [
    {
      "cell_type": "markdown",
      "metadata": {
        "id": "zpgUPxwIJv5E"
      },
      "source": [
        "**Implementing a Simple Bayesian Regression Problem**"
      ]
    },
    {
      "cell_type": "code",
      "metadata": {
        "id": "JX9ZBaLA6KA1"
      },
      "source": [
        "#Import Necessary Libraries\n",
        "import matplotlib.pyplot as plt\n",
        "import numpy as np\n",
        "#Taking two arrays of different events\n",
        "X = np.array([0.04, 0.24, 0.28, 0.54, 0.48, 0.51, 0.61, 0.74, 0.80, 0.91])\n",
        "Y = np.array([0.10, 0.27, 0.84, 0.12, 0.44, -0.01, -0.07, -0.68, -0.21, -0.20])"
      ],
      "execution_count": 61,
      "outputs": []
    },
    {
      "cell_type": "code",
      "metadata": {
        "colab": {
          "base_uri": "https://localhost:8080/"
        },
        "id": "QrxN2zRN6wqY",
        "outputId": "3ce4ebfc-525b-4610-cd16-2723ccd19720"
      },
      "source": [
        "#Appling Bayesian Regression\n",
        "#Assuming alpha and beta values to find the posterior matrix as specified in the formula\n",
        "alpha = 0.3\n",
        "beta = 7.0\n",
        "#Applying Array dot product for calculation\n",
        "SigmaCalculation = np.linalg.inv(alpha * np.identity(PHI.shape[1]) + beta * np.dot(PHI.T, PHI))\n",
        "multiply_B = beta * np.dot(SigmaCalculation, np.dot(PHI.T, Y))\n",
        "print (\"Bayesian Regression Values Obtained:\")\n",
        "print (multiply_B)\n",
        "#Returning the values\n",
        "def final_result(omega, x) :\n",
        "\treturn np.dot(omega, phi(x))"
      ],
      "execution_count": 62,
      "outputs": [
        {
          "output_type": "stream",
          "name": "stdout",
          "text": [
            "Bayesian Regression Values Obtained:\n",
            "[-0.02696549 -0.15234896  0.17415637  0.61143275 -0.37194017  0.50892482\n",
            " -0.08148718 -0.03275289  0.09966177 -0.58240062  0.07116142 -0.08190593]\n"
          ]
        }
      ]
    },
    {
      "cell_type": "code",
      "metadata": {
        "colab": {
          "base_uri": "https://localhost:8080/",
          "height": 265
        },
        "id": "_ga88Y_n6p0E",
        "outputId": "767448c3-fdf4-4699-e212-42c146bfd84d"
      },
      "source": [
        "#Plotting the best fit Bayesian Regression Curve\n",
        "a = np.arange(0, 1.5, 0.01)\n",
        "bayesian_regression = [final_result(multiply_B, x) for x in a]\n",
        "#Plotting the Bayesian Regression Curve\n",
        "plt.plot(a, bayesian_regression, 'r')\n",
        "#Plotting the original Data Points(Represented by * symbol)\n",
        "plt.plot(X, Y, '*')\n",
        "plt.show()"
      ],
      "execution_count": 63,
      "outputs": [
        {
          "output_type": "display_data",
          "data": {
            "image/png": "[encoded data removed]",
            "text/plain": [
              "<Figure size 432x288 with 1 Axes>"
            ]
          },
          "metadata": {
            "needs_background": "light"
          }
        }
      ]
    }
  ]
}