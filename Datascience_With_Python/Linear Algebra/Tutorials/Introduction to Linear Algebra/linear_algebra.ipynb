{
  "nbformat": 4,
  "nbformat_minor": 2,
  "metadata": {
    "colab": {
      "name": "linear_algebra.ipynb",
      "provenance": []
    },
    "kernelspec": {
      "name": "python3",
      "display_name": "Python 3"
    },
    "language_info": {
      "name": "python"
    }
  },
  "cells": [
    {
      "cell_type": "markdown",
      "source": [
        "## <strong>Introduction of linear Algebra using NumPy library</strong>\n",
        "NumPy, which stands for Numerical Python, is a library consisting of multidimensional array objects and a collection of routines for processing those arrays. Using NumPy, mathematical and logical operations on arrays can be performed.It also has functions for working in domain of linear algebra, fourier transform, and matrices.\n",
        "\n",
        "So, without any further ado let's start the practical demo and before starting this demo make sure you install NumPy and import it in your workspace/environment:\n"
      ],
      "metadata": {
        "id": "--OUaEGgc7pv"
      }
    },
    {
      "cell_type": "code",
      "execution_count": 2,
      "source": [
        "#Importing numpy library\r\n",
        "import numpy as np"
      ],
      "outputs": [],
      "metadata": {
        "id": "Ij2XOjIwfpHi"
      }
    },
    {
      "cell_type": "markdown",
      "source": [
        "## <strong> Array\n",
        "![image.png](data:image/png;base64,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)"
      ],
      "metadata": {
        "id": "Plk82xIqyBgG"
      }
    },
    {
      "cell_type": "code",
      "execution_count": 10,
      "source": [
        "#Creating an array requires you to use array() method from the library\r\n",
        "x=np.array([1,2,3,4,5,6])\r\n",
        "print(\"Created array : \",x)\r\n",
        "\r\n",
        "# accessing element of array\r\n",
        "print(\"Access element is: \", x[2])"
      ],
      "outputs": [
        {
          "output_type": "stream",
          "name": "stdout",
          "text": [
            "Created array :  [1 2 3 4 5 6]\n",
            "Access element is:  3\n"
          ]
        }
      ],
      "metadata": {
        "id": "tINqeKQfxKLY",
        "colab": {
          "base_uri": "https://localhost:8080/"
        },
        "outputId": "3e0e6ced-5229-4fbd-c19d-2773480e25cd"
      }
    },
    {
      "cell_type": "code",
      "execution_count": null,
      "source": [
        "#Check the shape of the array using the shape attribute:\r\n",
        "x.shape"
      ],
      "outputs": [
        {
          "output_type": "execute_result",
          "data": {
            "text/plain": [
              "(6,)"
            ]
          },
          "metadata": {},
          "execution_count": 5
        }
      ],
      "metadata": {
        "colab": {
          "base_uri": "https://localhost:8080/"
        },
        "id": "hKT2QYvIgayk",
        "outputId": "b4af7096-5762-4389-cadc-6f4607706691"
      }
    },
    {
      "cell_type": "markdown",
      "source": [
        "## <strong> Matrix\n",
        "\n",
        "![image.png](data:image/png;base64,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)"
      ],
      "metadata": {
        "id": "O_fCs2Apxzxj"
      }
    },
    {
      "cell_type": "code",
      "execution_count": null,
      "source": [
        "# creating a matrix\r\n",
        "A = np.array([ [1,2], [3,4], [5,6] ])\r\n",
        "A"
      ],
      "outputs": [
        {
          "output_type": "execute_result",
          "data": {
            "text/plain": [
              "array([[1, 2],\n",
              "       [3, 4],\n",
              "       [5, 6]])"
            ]
          },
          "metadata": {},
          "execution_count": 6
        }
      ],
      "metadata": {
        "colab": {
          "base_uri": "https://localhost:8080/"
        },
        "id": "ap_W5n-kgytc",
        "outputId": "f75f458a-7211-4dda-e28f-15c684ff3f3e"
      }
    },
    {
      "cell_type": "code",
      "execution_count": null,
      "source": [
        "# Matrix Transposition\r\n",
        "A_transposition = A.T\r\n",
        "A_transposition"
      ],
      "outputs": [
        {
          "output_type": "execute_result",
          "data": {
            "text/plain": [
              "array([[1, 3, 5],\n",
              "       [2, 4, 6]])"
            ]
          },
          "metadata": {},
          "execution_count": 8
        }
      ],
      "metadata": {
        "colab": {
          "base_uri": "https://localhost:8080/"
        },
        "id": "_in-df54g9Rk",
        "outputId": "bc650a51-3dc7-4634-9290-c514fdb8943e"
      }
    },
    {
      "cell_type": "code",
      "execution_count": 13,
      "source": [
        "# Python program to inverse a matrix\r\n",
        "\r\n",
        "# Taking a 3 * 3 matrix\r\n",
        "A = np.array([[7, 21, 3],\r\n",
        "\t\t\t[3, 4, -5],\r\n",
        "\t\t\t[2, 7, 2]])\r\n",
        "print(\"Matrix A \",A)\r\n",
        "print(\"\\n\")\r\n",
        "# Calculating the inverse of the matrix\r\n",
        "A_inverse=np.linalg.inv(A)\r\n",
        "print(\"Inverse of matrix A \",A_inverse)\r\n",
        "\r\n",
        "#Identity matrix\r\n",
        "#dot product of matrix A and its inverse matrix\r\n",
        "I= A_inverse.dot(A)\r\n",
        "print(\"\\n\")\r\n",
        "print('Identity matrix ',I)"
      ],
      "outputs": [
        {
          "output_type": "stream",
          "name": "stdout",
          "text": [
            "Matrix A  [[ 7 21  3]\n",
            " [ 3  4 -5]\n",
            " [ 2  7  2]]\n",
            "\n",
            "\n",
            "Inverse of matrix A  [[ 10.75  -5.25 -29.25]\n",
            " [ -4.     2.    11.  ]\n",
            " [  3.25  -1.75  -8.75]]\n",
            "\n",
            "\n",
            "Identity matrix  [[ 1.00000000e+00 -3.90798505e-14 -7.10542736e-15]\n",
            " [ 3.55271368e-15  1.00000000e+00  0.00000000e+00]\n",
            " [-3.55271368e-15 -1.77635684e-14  1.00000000e+00]]\n"
          ]
        }
      ],
      "metadata": {
        "colab": {
          "base_uri": "https://localhost:8080/"
        },
        "id": "vHrnq4II3heR",
        "outputId": "51c30489-aaf7-458b-b72c-5dbedd659746"
      }
    },
    {
      "cell_type": "code",
      "execution_count": 14,
      "source": [
        "# Operations on matrix : addition\r\n",
        "A = np.array([[1,2], [3,4], [5,6]])\r\n",
        "B = np.array([[8,7], [4,6], [4,8]])\r\n",
        "print(\"Matrix A \",A)\r\n",
        "print(\"\\n\")\r\n",
        "print(\"Matrix B \",B)\r\n",
        "print(\"\\n\")\r\n",
        "\r\n",
        "C = A + B\r\n",
        "print(\"Resultant matrix after matrix addition \",C)\r\n",
        "print(\"\\n\")"
      ],
      "outputs": [
        {
          "output_type": "stream",
          "name": "stdout",
          "text": [
            "Matrix A  [[1 2]\n",
            " [3 4]\n",
            " [5 6]]\n",
            "\n",
            "\n",
            "Matrix B  [[8 7]\n",
            " [4 6]\n",
            " [4 8]]\n",
            "\n",
            "\n",
            "Resultant matrix after matrix addition  [[ 9  9]\n",
            " [ 7 10]\n",
            " [ 9 14]]\n",
            "\n",
            "\n"
          ]
        }
      ],
      "metadata": {
        "colab": {
          "base_uri": "https://localhost:8080/"
        },
        "id": "_YquFdjahVRY",
        "outputId": "7ef5d535-6794-470e-d5e5-ccbb52040c67"
      }
    },
    {
      "cell_type": "code",
      "execution_count": 15,
      "source": [
        "# Matrix multiplication\r\n",
        "A = np.array([[3, 6, 7], [5, -3, 0]])\r\n",
        "B = np.array([[1, 1], [2, 1], [3, -3]])\r\n",
        "print(\"Matrix A \",A)\r\n",
        "print(\"\\n\")\r\n",
        "print(\"Matrix B \",B)\r\n",
        "print(\"\\n\")\r\n",
        "\r\n",
        "C = A.dot(B)\r\n",
        "print(\"Resultant matrix after matrix multiplication \",C)\r\n"
      ],
      "outputs": [
        {
          "output_type": "stream",
          "name": "stdout",
          "text": [
            "Matrix A  [[ 3  6  7]\n",
            " [ 5 -3  0]]\n",
            "\n",
            "\n",
            "Matrix B  [[ 1  1]\n",
            " [ 2  1]\n",
            " [ 3 -3]]\n",
            "\n",
            "\n",
            "Resultant matrix after matrix multiplication  [[ 36 -12]\n",
            " [ -1   2]]\n"
          ]
        }
      ],
      "metadata": {
        "colab": {
          "base_uri": "https://localhost:8080/"
        },
        "id": "SC4LSAa3tY8Y",
        "outputId": "713ee31e-a666-4632-edcd-cc07ea2c9a17"
      }
    },
    {
      "cell_type": "code",
      "execution_count": 16,
      "source": [
        "# To find the determinant of the matrix\r\n",
        "matrix = np.array([[1, 1, 1], [2, 1, 4], [3, -3, 8]])\r\n",
        "print(\"Matrix \",matrix)\r\n",
        "print(\"\\n\")\r\n",
        "print(\"Matrix determinant is \",np.linalg.det(matrix))\r\n"
      ],
      "outputs": [
        {
          "output_type": "stream",
          "name": "stdout",
          "text": [
            "Matrix  [[ 1  1  1]\n",
            " [ 2  1  4]\n",
            " [ 3 -3  8]]\n",
            "\n",
            "\n",
            "Matrix determinant is  7.000000000000003\n"
          ]
        }
      ],
      "metadata": {
        "colab": {
          "base_uri": "https://localhost:8080/"
        },
        "id": "WViRW0qAu86_",
        "outputId": "5078b7ba-3cb6-47f2-ae6c-b903adf5266f"
      }
    },
    {
      "cell_type": "code",
      "execution_count": 17,
      "source": [
        "# finding EigenVectors \r\n",
        "\r\n",
        "import  numpy as np\r\n",
        "\r\n",
        "#create an array\r\n",
        "arr = np.arange(1,10).reshape(3,3)\r\n",
        "print(\"Matrix created \",arr)\r\n",
        "print(\"\\n\")\r\n",
        "\r\n",
        "#finding the Eigenvalue and Eigenvectors of arr\r\n",
        "print(\"Eigenvalue and Eigenvectors of arr \")\r\n",
        "np.linalg.eig(arr)"
      ],
      "outputs": [
        {
          "output_type": "stream",
          "name": "stdout",
          "text": [
            "Matrix created  [[1 2 3]\n",
            " [4 5 6]\n",
            " [7 8 9]]\n",
            "\n",
            "\n",
            "Eigenvalue and Eigenvectors of arr \n"
          ]
        },
        {
          "output_type": "execute_result",
          "data": {
            "text/plain": [
              "(array([ 1.61168440e+01, -1.11684397e+00, -9.75918483e-16]),\n",
              " array([[-0.23197069, -0.78583024,  0.40824829],\n",
              "        [-0.52532209, -0.08675134, -0.81649658],\n",
              "        [-0.8186735 ,  0.61232756,  0.40824829]]))"
            ]
          },
          "metadata": {},
          "execution_count": 17
        }
      ],
      "metadata": {
        "colab": {
          "base_uri": "https://localhost:8080/"
        },
        "id": "iEMhFSyrvl4G",
        "outputId": "acaeadc2-4e03-4b49-f0b4-283ec3ae0694"
      }
    },
    {
      "cell_type": "markdown",
      "source": [
        "## <strong> Tensor\n",
        "![image.png](data:image/png;base64,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)"
      ],
      "metadata": {
        "id": "_IuGVbBgz4kD"
      }
    },
    {
      "cell_type": "code",
      "execution_count": 11,
      "source": [
        "# Create tensor\r\n",
        "T = np.array([\r\n",
        "  [[1,2,3],    [4,5,6],    [7,8,9]],\r\n",
        "  [[11,12,13], [14,15,16], [17,18,19]],\r\n",
        "  [[21,22,23], [24,25,26], [27,28,29]],\r\n",
        "  ])\r\n",
        "print(\"Created tensor \",T)\r\n",
        "print()\r\n",
        "print(\"Shape of tensor is \",T.shape)\r\n"
      ],
      "outputs": [
        {
          "output_type": "stream",
          "name": "stdout",
          "text": [
            "Created tensor  [[[ 1  2  3]\n",
            "  [ 4  5  6]\n",
            "  [ 7  8  9]]\n",
            "\n",
            " [[11 12 13]\n",
            "  [14 15 16]\n",
            "  [17 18 19]]\n",
            "\n",
            " [[21 22 23]\n",
            "  [24 25 26]\n",
            "  [27 28 29]]]\n",
            "\n",
            "Shape of tensor is  (3, 3, 3)\n"
          ]
        }
      ],
      "metadata": {
        "colab": {
          "base_uri": "https://localhost:8080/"
        },
        "id": "_iEKttFFipOt",
        "outputId": "8fbd4365-6d21-47bf-f8dc-906f7b1b6090"
      }
    },
    {
      "cell_type": "markdown",
      "source": [
        "## <strong>Solving systems of Linear Equations\n",
        "![image.png](data:image/png;base64,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)"
      ],
      "metadata": {
        "id": "Nw6O7X8tj5a8"
      }
    },
    {
      "cell_type": "code",
      "execution_count": null,
      "source": [
        "#Solving systems of Linear Equations from the basics that we've learned so far\r\n",
        "X = np.array([[8, 3, -2], [-4, 7, 5], [3, 4, -12]])\r\n",
        "Y = np.array([9, 15, 35])\r\n",
        "Z = np.linalg.solve(X, Y)\r\n",
        "Z"
      ],
      "outputs": [
        {
          "output_type": "execute_result",
          "data": {
            "text/plain": [
              "array([-0.58226371,  3.22870478, -1.98599767])"
            ]
          },
          "metadata": {},
          "execution_count": 11
        }
      ],
      "metadata": {
        "colab": {
          "base_uri": "https://localhost:8080/"
        },
        "id": "-RSpXGSgjgyp",
        "outputId": "30e90e70-c9dd-406a-9d04-91f6645c9ec4"
      }
    },
    {
      "cell_type": "markdown",
      "source": [
        "I hope from this example you have understood how to implement basic linear algebra using numpy library and how it impacts the final outcomes in real world project scenario."
      ],
      "metadata": {
        "id": "F-ipS8r2kZ0G"
      }
    }
  ]
}