{
  "nbformat": 4,
  "nbformat_minor": 0,
  "metadata": {
    "colab": {
      "name": "Data Science with Python : Flask for Data Science.ipynb",
      "provenance": [],
      "collapsed_sections": []
    },
    "kernelspec": {
      "name": "python3",
      "display_name": "Python 3"
    },
    "language_info": {
      "name": "python"
    }
  },
  "cells": [
    {
      "cell_type": "markdown",
      "metadata": {
        "id": "sbM9lpf3GWna"
      },
      "source": [
        "# **Flask for Data Science**\n",
        "\n",
        "\n",
        "---\n",
        "\n",
        "\n"
      ]
    },
    {
      "cell_type": "markdown",
      "metadata": {
        "id": "Wxwylgcxl4Rv"
      },
      "source": [
        "<img src=\"https://upload.wikimedia.org/wikipedia/commons/3/3c/Flask_logo.svg\">\n",
        "\n",
        "\n",
        "---"
      ]
    },
    {
      "cell_type": "markdown",
      "metadata": {
        "id": "ZWgPJzj1IbxI"
      },
      "source": [
        "**What is Flask Framework ?**\n",
        "\n",
        "\n",
        "\n",
        "*   Flask is a web Application Framework written in python.\n",
        "*   It is Developed by Armin Ronacher at pocco.\n",
        "*   It is an API of Python that allows us to build up web-applications.\n",
        "*   It depends on the [Jinja](https://www.palletsprojects.com/p/jinja/) template engine and the Werkzeug [WSGI](https://www.palletsprojects.com/p/werkzeug/) toolkit.\n",
        "\n"
      ]
    },
    {
      "cell_type": "markdown",
      "metadata": {
        "id": "OyaP6gjZLbxx"
      },
      "source": [
        "**Why Flask ?**\n",
        "\n",
        "\n",
        "*   Flask is a micro web framework written in Python. It is classified as a microframework because it does not require particular tools or libraries.\n",
        "*   It is one of the easiest microframework to learn in Python.\n",
        "*   It is a light-weight, extensible framework.\n",
        "\n"
      ]
    },
    {
      "cell_type": "markdown",
      "metadata": {
        "id": "r5gHlbqILb0H"
      },
      "source": [
        "**<h4>How we can implement Flask framework ?</h4>**\n",
        "\n",
        "\n",
        "1.   Installation\n",
        "2.   A very fast simple flask application\n",
        "3.   Routing in Flask\n",
        "4.   Use HTML templates\n",
        " "
      ]
    },
    {
      "cell_type": "markdown",
      "metadata": {
        "id": "KJcfwH2bLb20"
      },
      "source": [
        "---\n",
        "**Installation :**\n",
        "\n",
        "---\n",
        "\n",
        "1.   Create an environment\n",
        "      \n",
        "```\n",
        "      > mkdir myproject\n",
        "      > cd myproject\n",
        "      > py -3 -m venv venv\n",
        "```\n",
        "\n",
        "\n",
        "2.   Activate the environment\n",
        "\n",
        "\n",
        "\n",
        "```\n",
        "     > venv\\Scripts\\activate\n",
        "```\n",
        "\n",
        "\n",
        "3.   Install Flask\n",
        "\n",
        "\n",
        "```\n",
        "     > pip install Flask\n",
        "```\n",
        "\n",
        "\n",
        "\n",
        "\n",
        "\n",
        "\n"
      ]
    },
    {
      "cell_type": "markdown",
      "metadata": {
        "id": "p8FSlvCRLb5q"
      },
      "source": [
        "---\n",
        "**A very fast simple flask application :**\n",
        "\n",
        "---\n",
        "\n",
        "```\n",
        "from flask import Flask\n",
        "\n",
        "app = Flask(__name__)\n",
        "\n",
        "@app.route(\"/\")\n",
        "def hello_world():\n",
        "    return \"<p>Hello, World!</p>\"\n",
        "```\n",
        "output :\n",
        "\n",
        "\n",
        "```\n",
        "> set FLASK_APP=hello\n",
        "> flask run\n",
        "> Running on http://127.0.0.1:5000/\n",
        "```\n",
        "\n",
        "\n",
        "\n",
        "\n",
        "\n"
      ]
    },
    {
      "cell_type": "markdown",
      "metadata": {
        "id": "VlpwiWXhLb8B"
      },
      "source": [
        "---\n",
        "**Routing in Flask :**\n",
        "\n",
        "---\n",
        "*   **`route()`** is  used for decorator to bind a function to a URL.\n",
        "\n",
        "\n",
        " \n",
        "  ```\n",
        "@app.route('/')\n",
        "def index():\n",
        "    return 'Index Page'\n",
        "\n",
        "@app.route('/hello')\n",
        "def hello():\n",
        "    return 'Hello, World'\n",
        "  ```\n",
        "\n"
      ]
    },
    {
      "cell_type": "markdown",
      "metadata": {
        "id": "LOa-iOL1w-hQ"
      },
      "source": [
        "---\n",
        "**Folder structure**\n",
        "\n",
        "---\n",
        "![new-directory-structure (2).png](data:image/png;base64,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)"
      ]
    },
    {
      "cell_type": "markdown",
      "metadata": {
        "id": "XnpBXZVLLb-6"
      },
      "source": [
        "\n",
        "\n",
        "---\n",
        "\n",
        "\n",
        "**Use HTML templates**\n",
        "\n",
        "\n",
        "---\n",
        "\n",
        "\n",
        "\n",
        "*   Till now application only displays a simple message.\n",
        "*   Flask provides a `render_template()` helper function that allows use of the Jinja template engine.\n",
        "\n",
        "\n",
        "**app.py**\n",
        "```\n",
        "from flask import Flask, render_template\n",
        "\n",
        "app = Flask(__name__)\n",
        "\n",
        "@app.route('/')\n",
        "def index():\n",
        "    return render_template('index.html')\n",
        "```\n",
        "**index.html**\n",
        "\n",
        "\n",
        "```\n",
        "<!DOCTYPE html>\n",
        "<html lang=\"en\">\n",
        "<head>\n",
        "    <meta charset=\"UTF-8\">\n",
        "    <title>Girlscript</title>\n",
        "</head>\n",
        "<body>\n",
        "   <h1>Welcome to Girlscript</h1>\n",
        "</body>\n",
        "</html>\n",
        "```\n",
        "**Output in website**\n",
        "\n",
        "\n",
        "\n",
        "\n",
        "<h1>Welcome to Girlscript</h1>\n"
      ]
    },
    {
      "cell_type": "markdown",
      "metadata": {
        "id": "UGEYFSwKtxdt"
      },
      "source": [
        "---\n",
        "**Adding CSS**\n",
        "\n",
        "---\n",
        "**index.html**\n",
        "```\n",
        ". . .\n",
        "<head>\n",
        "    <link rel=\"stylesheet\" href=\"{{ url_for('static', filename= 'css/style.css') }}\">\n",
        "</head>\n",
        ". . .\n",
        "\n",
        "```\n",
        "\n",
        "**style.css**\n",
        "```\n",
        "h1 {\n",
        "    border: 2px #eee solid;\n",
        "    color: brown;\n",
        "    text-align: center;\n",
        "    padding: 10px;\n",
        "}\n",
        "```\n",
        "\n"
      ]
    },
    {
      "cell_type": "markdown",
      "metadata": {
        "id": "ATEkmm_r0Ghi"
      },
      "source": [
        "\n",
        "\n",
        "---\n",
        "\n",
        "\n",
        "Refered website : [Flask Official](https://flask.palletsprojects.com/)"
      ]
    }
  ]
}