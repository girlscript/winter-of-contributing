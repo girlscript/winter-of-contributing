{
  "nbformat": 4,
  "nbformat_minor": 0,
  "metadata": {
    "colab": {
      "name": "R-squrared & MSE.ipynb",
      "provenance": [],
      "collapsed_sections": []
    },
    "kernelspec": {
      "name": "python3",
      "display_name": "Python 3"
    },
    "language_info": {
      "name": "python"
    }
  },
  "cells": [
    {
      "cell_type": "markdown",
      "metadata": {
        "id": "hk3sdrx4nBkk"
      },
      "source": [
        "# R squared and Mean Squared Error (MSE)\n",
        "\n",
        "* Name: Apoorv Yadav\n",
        "* GitHub Profile: https://github.com/Apoorv-17\n",
        "* Batch No: 15\n",
        "* Serial No: 537\n",
        "\n",
        "## Evaluation Metrics\n",
        "Evaluating a machine learning algorithm is an essential part of any project. A model may give satisfying results when evaluated using a metric say accuracy_score but may give poor results when evaluated against other metrics such as r-squared, mean squared error or any other such metric. Most of the times we use classification accuracy to measure the performance of our model, however it is not enough to truly judge our model.\n",
        "\n",
        "## 1. R-squared\n",
        "R-squared is a statistical measure of how close the data are to the fitted regression line. It is also known as the coefficient of determination, or the coefficient of multiple determination for multiple regression.\n",
        "\n",
        "![image](https://user-images.githubusercontent.com/62233992/136450275-0e3be8a4-3bf6-4b4b-8518-48c60a6d2eb7.png)\n",
        "\n",
        "### **The Parameter in deciding performance of the model:**\n",
        "R-squared is always between 0 and 100%:\n",
        "\n",
        "* 0% indicates that the model explains none of the variability of the response data around its mean.\n",
        "* 100% indicates that the model explains all the variability of the response data around its mean.\n",
        "* The high value of R-square determines the less difference between the predicted values and actual values and hence represents a good model.\n",
        "\n",
        "### **Graphical Representation of R-squared**\n",
        "\n",
        "![image](https://user-images.githubusercontent.com/62233992/136452797-12b59735-fd88-4571-87c8-d87f25bfdb0e.png)\n",
        "\n",
        "\n",
        "**Implementation in Python**\n"
      ]
    },
    {
      "cell_type": "markdown",
      "metadata": {
        "id": "aCxAOtsXq919"
      },
      "source": [
        "Code: r2_score using sklearn.metrics"
      ]
    },
    {
      "cell_type": "code",
      "metadata": {
        "id": "fh3v966mnCs6"
      },
      "source": [
        "# Importing r2_score from sklearn.metrics\n",
        "from sklearn.metrics import r2_score"
      ],
      "execution_count": null,
      "outputs": []
    },
    {
      "cell_type": "code",
      "metadata": {
        "id": "lPhmjYcwmfu4",
        "colab": {
          "base_uri": "https://localhost:8080/"
        },
        "outputId": "9a5e5efd-7a3b-4ccf-c79c-c61872fb204f"
      },
      "source": [
        "### Assume y_true is the actual value and y_pred is the predicted values\n",
        "Y_true = [1,1,2,2,4]\n",
        "Y_pred = [0.6,1.29,1.99,2.69,3.4]\n",
        "r2 = r2_score(Y_true, Y_pred)\n",
        "print('r2 score for perfect model is', r2)"
      ],
      "execution_count": null,
      "outputs": [
        {
          "output_type": "stream",
          "name": "stdout",
          "text": [
            "r2 score for perfect model is 0.81995\n"
          ]
        }
      ]
    },
    {
      "cell_type": "markdown",
      "metadata": {
        "id": "wgke1acYrs6j"
      },
      "source": [
        "## 2. Mean Squared Error\n",
        "The Mean Squared Error (MSE) or Mean Squared Deviation (MSD) of an estimator measures the average of error squares i.e., the average squared difference between the estimated values and true value. \n",
        "\n",
        "![image](https://user-images.githubusercontent.com/62233992/136450160-6fc36707-783f-4c25-a926-e44de2e75226.png)\n",
        "\n",
        "* n = number of items,\n",
        "* Σ = summation notation,\n",
        "* Actual = original or observed y-value,\n",
        "* Forecast = y-value from regression\n",
        "\n",
        "### **Graphical Representation of MSE**\n",
        "\n",
        "![image](https://user-images.githubusercontent.com/62233992/136453062-672c9b20-64fd-4174-84d5-ebb3cfed0343.png)\n"
      ]
    },
    {
      "cell_type": "markdown",
      "metadata": {
        "id": "2UR-JJwWsHpt"
      },
      "source": [
        "Code 1: MSE using scikit – learn\n",
        "\n"
      ]
    },
    {
      "cell_type": "code",
      "metadata": {
        "id": "mOgUAsZbsrSc"
      },
      "source": [
        "# Importing mean_squared_error from sklearn.metrics\n",
        "from sklearn.metrics import mean_squared_error"
      ],
      "execution_count": null,
      "outputs": []
    },
    {
      "cell_type": "code",
      "metadata": {
        "colab": {
          "base_uri": "https://localhost:8080/"
        },
        "id": "nqIuVp39s2dt",
        "outputId": "484390a8-04e3-4de6-95d0-92bc2e843ae2"
      },
      "source": [
        "### Assume y_true is the actual value and y_pred is the predicted values\n",
        "Y_true = [1,1,2,2,4] \n",
        "Y_pred = [0.6,1.29,1.99,2.69,3.4]\n",
        "  \n",
        "# Calculation of Mean Squared Error (MSE)\n",
        "mean_squared_error(Y_true,Y_pred)"
      ],
      "execution_count": null,
      "outputs": [
        {
          "output_type": "execute_result",
          "data": {
            "text/plain": [
              "0.21606"
            ]
          },
          "metadata": {},
          "execution_count": 5
        }
      ]
    },
    {
      "cell_type": "markdown",
      "metadata": {
        "id": "fgTXRF2FtC50"
      },
      "source": [
        "Code 2: MSE using Numpy module"
      ]
    },
    {
      "cell_type": "code",
      "metadata": {
        "id": "NDGqSlfqtX7s"
      },
      "source": [
        "# Importing numpy package\n",
        "import numpy as np"
      ],
      "execution_count": null,
      "outputs": []
    },
    {
      "cell_type": "code",
      "metadata": {
        "colab": {
          "base_uri": "https://localhost:8080/"
        },
        "id": "KKABx3-EteOV",
        "outputId": "6181dbef-8832-4069-d5ea-cae1a88d604b"
      },
      "source": [
        "### Assume y_true is the actual value and y_pred is the predicted values\n",
        "Y_true = [1,1,2,2,4] \n",
        "Y_pred = [0.6,1.29,1.99,2.69,3.4]\n",
        "  \n",
        "# Mean Squared Error\n",
        "np.square(np.subtract(Y_true,Y_pred)).mean()"
      ],
      "execution_count": null,
      "outputs": [
        {
          "output_type": "execute_result",
          "data": {
            "text/plain": [
              "0.21606"
            ]
          },
          "metadata": {},
          "execution_count": 13
        }
      ]
    },
    {
      "cell_type": "markdown",
      "metadata": {
        "id": "-wXr8Hhf6cmB"
      },
      "source": [
        "## Combined implementation of R-squared and MSE on the Boston Dataset\n",
        "\n",
        "Here is the python code representing how to calculate mean squared error or R-Squared value while working with regression models. \n",
        "\n",
        "* `Sklearn.metrics`, `mean_squared_error` and `r2_score` is used for measuring the MSE and R-Squared values. Input to this methods are actual values and predicted values.\n",
        "* Sklearn Boston housing dataset is used for training a multiple linear regression model using Sklearn.linear_model LinearRegression"
      ]
    },
    {
      "cell_type": "code",
      "metadata": {
        "id": "LdIDYzlu6IZe"
      },
      "source": [
        "# Importing necessary packages\n",
        "import pandas as pd\n",
        "from sklearn.model_selection import train_test_split\n",
        "from sklearn.preprocessing import StandardScaler\n",
        "from sklearn.linear_model import LinearRegression\n",
        "from sklearn.pipeline import make_pipeline\n",
        "from sklearn.metrics import mean_squared_error, r2_score\n",
        "from sklearn import datasets"
      ],
      "execution_count": null,
      "outputs": []
    },
    {
      "cell_type": "code",
      "metadata": {
        "colab": {
          "base_uri": "https://localhost:8080/"
        },
        "id": "A3r5OAhY575L",
        "outputId": "0d6ceec4-e4a2-4139-b5d5-488fe5d88fdf"
      },
      "source": [
        "# Load the Sklearn Boston Dataset\n",
        "boston_ds = datasets.load_boston()\n",
        "X = boston_ds.data\n",
        "y = boston_ds.target\n",
        "\n",
        "# Create a training and test split\n",
        "X_train, X_test, y_train, y_test = train_test_split(X, y, test_size=0.3, random_state=42)\n",
        "\n",
        "# Fit a pipeline using Training dataset and related labels\n",
        "pipeline = make_pipeline(StandardScaler(), LinearRegression())\n",
        "pipeline.fit(X_train, y_train)\n",
        "\n",
        "# Calculate the predicted value for training and test dataset\n",
        "y_train_pred = pipeline.predict(X_train)\n",
        "y_test_pred = pipeline.predict(X_test)\n",
        "\n",
        "# Mean Squared Error\n",
        "print('MSE train: %.3f, test: %.3f' % (mean_squared_error(y_train, y_train_pred),\n",
        "                mean_squared_error(y_test, y_test_pred)))\n",
        "# R-Squared\n",
        "print('R^2 train: %.3f, test: %.3f' % (r2_score(y_train, y_train_pred),\n",
        "                r2_score(y_test, y_test_pred)))"
      ],
      "execution_count": null,
      "outputs": [
        {
          "output_type": "stream",
          "name": "stdout",
          "text": [
            "MSE train: 22.545, test: 21.517\n",
            "R^2 train: 0.743, test: 0.711\n"
          ]
        }
      ]
    },
    {
      "cell_type": "markdown",
      "metadata": {
        "id": "eN-aHBjttq0s"
      },
      "source": [
        "### **Conclusion**\n",
        "So, in conclusion we come out with what to use either mean square error (MSE) or R-Squared in the given condition:\n",
        "\n",
        "* MSE represents the residual error which is nothing but sum of squared difference between actual values and the predicted / estimated values.\n",
        "R-Squared represents the fraction of response variance captured by the regression model\n",
        "* R-squared does not indicate whether a regression model is adequate. You can have a low R-squared value for a good model, or a high R-squared value for a model that does not fit the data!\n",
        "* The disadvantage of using MSE is that the value of MSE varies based on whether the values of response variable is scaled or not. If scaled, MSE will be lower than the unscaled values."
      ]
    },
    {
      "cell_type": "code",
      "metadata": {
        "id": "aBtkz-oR539C"
      },
      "source": [
        ""
      ],
      "execution_count": null,
      "outputs": []
    }
  ]
}