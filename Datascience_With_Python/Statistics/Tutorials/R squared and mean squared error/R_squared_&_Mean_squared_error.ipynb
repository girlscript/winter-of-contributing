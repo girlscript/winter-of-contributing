{
 "cells": [
  {
   "cell_type": "markdown",
   "id": "1364d35a",
   "metadata": {},
   "source": [
    "# R squared and Mean squared error"
   ]
  },
  {
   "cell_type": "markdown",
   "id": "9b037760",
   "metadata": {},
   "source": [
    "## What is R squared?"
   ]
  },
  {
   "cell_type": "markdown",
   "id": "bfaa5190",
   "metadata": {},
   "source": [
    "R-squared evaluates the scatter of the data points around the fitted regression line.\n",
    "\n",
    "It is also called the coefficient of determination, or the coefficient of multiple determination for multiple regression.\n",
    "\n",
    "R-squared is the percentage of the dependent variable variation that a linear model explains."
   ]
  },
  {
   "cell_type": "markdown",
   "id": "abf87866",
   "metadata": {},
   "source": [
    "![](rsquare-formula.png)"
   ]
  },
  {
   "cell_type": "markdown",
   "id": "7b956c70",
   "metadata": {},
   "source": [
    "## Perfomance of the R squared model"
   ]
  },
  {
   "cell_type": "markdown",
   "id": "04b1b2e1",
   "metadata": {},
   "source": [
    " - 0% represents a model that does not explain any of the variations in the response variable around its mean. The mean of the dependent variable predicts the dependent variable as well as the regression model.\n",
    " - 100% represents a model that explains all of the variations in the response variable around its mean.\n",
    " - The high the value of R-square determines the less is the difference between the actual values and the predicted values therefore the result will be efficient."
   ]
  },
  {
   "cell_type": "markdown",
   "id": "75860ccc",
   "metadata": {},
   "source": [
    "## Implementaion of R squared"
   ]
  },
  {
   "cell_type": "markdown",
   "id": "2a47dfb6",
   "metadata": {},
   "source": [
    "### Importing necessary libraries"
   ]
  },
  {
   "cell_type": "code",
   "execution_count": 1,
   "id": "0323579f",
   "metadata": {},
   "outputs": [],
   "source": [
    "import numpy as np\n",
    "import pandas as pd\n",
    "import matplotlib.pyplot as plt\n",
    "from sklearn import linear_model\n",
    "from sklearn.metrics import r2_score"
   ]
  },
  {
   "cell_type": "code",
   "execution_count": 29,
   "id": "86398330",
   "metadata": {},
   "outputs": [],
   "source": [
    "# Taking data manually as given below\n",
    "X = [57, 4, 2, 8, 9, 22, 33, 63, 56, 97, 77, 73, 83, 27, 87, 91]\n",
    "Y = [56.5, 5.33, 4.21, 7.89, 9.11, 22.17, 34.67, 63.66, 57.57, 97.27, 72.21, 75.77, 83.99, 25.77, 90.67, 94.53]\n",
    "\n",
    "# Converting X and Y to an array using numpy library and assigning it to the new variables X_new and Y_new.\n",
    "X_new = np.array(X)\n",
    "Y_new = np.array(Y)\n",
    "X_new = X_new.reshape(-1,1)\n",
    "Y_new = Y_new.reshape(-1,1)"
   ]
  },
  {
   "cell_type": "code",
   "execution_count": 8,
   "id": "d30c1a7b",
   "metadata": {},
   "outputs": [],
   "source": [
    "# To fit the model we have used Linear Regression so that it can help to get the line which shows fitted values.\n",
    "model = linear_model.LinearRegression(fit_intercept=False)\n",
    "score = model.fit(X_new,Y_new)"
   ]
  },
  {
   "cell_type": "markdown",
   "id": "050580bf",
   "metadata": {},
   "source": [
    "#### Applying R_square model to the data i.e. X_new and Y_new"
   ]
  },
  {
   "cell_type": "code",
   "execution_count": 4,
   "id": "237b6490",
   "metadata": {},
   "outputs": [
    {
     "name": "stdout",
     "output_type": "stream",
     "text": [
      "R_sqaure for the model is:  0.9958567823002334\n"
     ]
    }
   ],
   "source": [
    "r2 = r2_score(X_new,Y_new)\n",
    "print(\"R_sqaure for the model is: \", r2)"
   ]
  },
  {
   "cell_type": "markdown",
   "id": "c5d17ea3",
   "metadata": {},
   "source": [
    "### Plotting the actual and predicted values"
   ]
  },
  {
   "cell_type": "code",
   "execution_count": 12,
   "id": "684281c0",
   "metadata": {},
   "outputs": [
    {
     "data": {
      "image/png": "[encoded data removed]",
      "text/plain": [
       "<Figure size 432x288 with 1 Axes>"
      ]
     },
     "metadata": {
      "needs_background": "light"
     },
     "output_type": "display_data"
    }
   ],
   "source": [
    "line = model.predict(X_new)\n",
    "plt.scatter(X_new,Y_new,color='red')\n",
    "plt.plot(X_new,line, color='blue')\n",
    "plt.show()"
   ]
  },
  {
   "cell_type": "markdown",
   "id": "895d8faa",
   "metadata": {},
   "source": [
    "As shown in the above figure that how R_squared represent the scatter arround the regression line.\n",
    "\n",
    "We can plot fitted values by observed values.\n",
    "\n",
    "In the above figure red dots represent the predicted values and the line represents the actual values."
   ]
  },
  {
   "cell_type": "markdown",
   "id": "2c735a12",
   "metadata": {},
   "source": [
    "### Problems with R-squared"
   ]
  },
  {
   "cell_type": "markdown",
   "id": "0bcba178",
   "metadata": {},
   "source": [
    " - We cannot use R-squared to conclude whether your model is biased.  To check for this bias, we need to check our residual plots.\n",
    " - R-squared increases every time you add an independent variable to the model. The R-squared never decreases, not even when it’s just a chance correlation between variables.\n",
    " - A regression model that contains more independent variables than another model can look like it provides a better fit merely because it contains more variables.\n",
    " - When a model contains an excessive number of independent variables and polynomial terms, it becomes overly customized to fit the peculiarities and random noise in our sample rather than reflecting the entire population."
   ]
  },
  {
   "cell_type": "markdown",
   "id": "c5cda841",
   "metadata": {},
   "source": [
    "## What is Mean Squared Error?"
   ]
  },
  {
   "cell_type": "markdown",
   "id": "bf974ccc",
   "metadata": {},
   "source": [
    "The Mean Squared Error (MSE) or Mean Squared Deviation (MSD) of an estimator measures the average of error squares i.e. the average squared difference between the estimated values and true value."
   ]
  },
  {
   "cell_type": "markdown",
   "id": "a15e02bd",
   "metadata": {},
   "source": [
    "### Implementaion of Mean Squared Error"
   ]
  },
  {
   "cell_type": "markdown",
   "id": "20581bf2",
   "metadata": {},
   "source": [
    "#### Import library for Mean Squared Error"
   ]
  },
  {
   "cell_type": "code",
   "execution_count": 33,
   "id": "0807cdb9",
   "metadata": {},
   "outputs": [],
   "source": [
    "from sklearn.metrics import mean_squared_error"
   ]
  },
  {
   "cell_type": "code",
   "execution_count": 34,
   "id": "f255cc9b",
   "metadata": {},
   "outputs": [],
   "source": [
    "# Taking data manually as given below\n",
    "y = [57, 4, 2, 8, 9, 22, 33, 63, 56, 97, 77, 73, 83, 27, 87, 91]\n",
    "y1 = [56.5, 5.33, 4.21, 7.89, 9.11, 22.17, 34.67, 63.66, 57.57, 97.27, 72.21, 75.77, 83.99, 25.77, 90.67, 94.53]\n",
    "\n",
    "# Converting X and Y to an array using numpy library and assigning it to the new variables X_new and Y_new.\n",
    "Y_true = np.array(y)\n",
    "Y_pred = np.array(y1)\n",
    "Y_true = Y_true.reshape(-1,1)\n",
    "Y_pred = Y_pred.reshape(-1,1)"
   ]
  },
  {
   "cell_type": "markdown",
   "id": "b54d8c9e",
   "metadata": {},
   "source": [
    "### Method 1: Mean Squared Error using Scikit-learn Library"
   ]
  },
  {
   "cell_type": "code",
   "execution_count": 24,
   "id": "85201094",
   "metadata": {},
   "outputs": [
    {
     "name": "stdout",
     "output_type": "stream",
     "text": [
      "MSE value using 'sklearn.metrics':  4.484887500000003\n"
     ]
    }
   ],
   "source": [
    "# Calculation of Mean_Squared_Error and storing it into variable i.e. mse_value.\n",
    "mse_value = mean_squared_error(Y_true,Y_pred)\n",
    "print(\"MSE value using 'sklearn.metrics': \",mse_value)"
   ]
  },
  {
   "cell_type": "markdown",
   "id": "f4c0cb63",
   "metadata": {},
   "source": [
    "### Method 2: Mean Squared Error using Numpy module"
   ]
  },
  {
   "cell_type": "code",
   "execution_count": 25,
   "id": "57da65cd",
   "metadata": {},
   "outputs": [
    {
     "name": "stdout",
     "output_type": "stream",
     "text": [
      "MSE value using 'numpy':  4.484887500000003\n"
     ]
    }
   ],
   "source": [
    "mse_np = np.square(np.subtract(Y_true,Y_pred)).mean()\n",
    "print(\"MSE value using 'numpy': \",mse_np)"
   ]
  },
  {
   "cell_type": "markdown",
   "id": "b671826e",
   "metadata": {},
   "source": [
    "As shown above anyone can find mean suared error using any of the method on any data"
   ]
  },
  {
   "cell_type": "markdown",
   "id": "2494e306",
   "metadata": {},
   "source": [
    "### Combining implementation of R_squared and Mean_squared_error on Boston dataset"
   ]
  },
  {
   "cell_type": "markdown",
   "id": "2965a582",
   "metadata": {},
   "source": [
    "### Importing libraries"
   ]
  },
  {
   "cell_type": "code",
   "execution_count": 26,
   "id": "049eab54",
   "metadata": {},
   "outputs": [],
   "source": [
    "from sklearn.model_selection import train_test_split\n",
    "from sklearn.preprocessing import StandardScaler\n",
    "from sklearn.linear_model import LinearRegression\n",
    "from sklearn.pipeline import make_pipeline\n",
    "from sklearn.metrics import r2_score, mean_squared_error\n",
    "from sklearn import datasets"
   ]
  },
  {
   "cell_type": "code",
   "execution_count": 27,
   "id": "d535e981",
   "metadata": {},
   "outputs": [
    {
     "name": "stdout",
     "output_type": "stream",
     "text": [
      "MSE train: 22.545, test: 21.517\n",
      "R_squared train: 0.743, test: 0.711\n"
     ]
    }
   ],
   "source": [
    "# Load data from sklearn boston dataset\n",
    "boston_df = datasets.load_boston()\n",
    "X = boston_df.data\n",
    "y = boston_df.target\n",
    "\n",
    "# Spliting the data into training data and testing data\n",
    "X_train, X_test, y_train, y_test = train_test_split(X, y, test_size=0.3, random_state=42)\n",
    "\n",
    "# Creating pipeline and fitting the boston data\n",
    "pipeline_df = make_pipeline(StandardScaler(), LinearRegression())\n",
    "pipeline_df.fit(X_train, y_train)\n",
    "\n",
    "# Calculating the predicted value of training and testing dataset\n",
    "y_train_pred = pipeline_df.predict(X_train)\n",
    "y_test_pred = pipeline_df.predict(X_test)\n",
    "\n",
    "# Mean Squared Error\n",
    "print('MSE train: %.3f, test: %.3f' %(mean_squared_error(y_train,y_train_pred), mean_squared_error(y_test,y_test_pred)))\n",
    "\n",
    "# R-Squared\n",
    "print('R_squared train: %.3f, test: %.3f' %(r2_score(y_train,y_train_pred), r2_score(y_test,y_test_pred)))"
   ]
  },
  {
   "cell_type": "markdown",
   "id": "2dd47600",
   "metadata": {},
   "source": [
    "# Conclusion"
   ]
  },
  {
   "cell_type": "markdown",
   "id": "fa20f1df",
   "metadata": {},
   "source": [
    "So, there are 2 ways to find the error i.e. R_squared and Mean_sqaured_error that varies on the condition which is better to use:\n",
    "\n",
    " - The similarity between mean-squared error and R-Squared is that they both are a type of metrics which are used for evaluating the performance of the regression models, especially statistical model such as linear regression model.\n",
    " - It is recommended to use R-Squared or rather adjusted R-Squared for evaluating the model performance of the regression models. This is primarily because R-Squared captures the fraction of response variance captured by the regression and tend to give better picture of quality of regression model.\n",
    " - MSE values differ based on whether the values of the response variable is scaled or not."
   ]
  }
 ],
 "metadata": {
  "kernelspec": {
   "display_name": "Python 3",
   "language": "python",
   "name": "python3"
  },
  "language_info": {
   "codemirror_mode": {
    "name": "ipython",
    "version": 3
   },
   "file_extension": ".py",
   "mimetype": "text/x-python",
   "name": "python",
   "nbconvert_exporter": "python",
   "pygments_lexer": "ipython3",
   "version": "3.8.8"
  }
 },
 "nbformat": 4,
 "nbformat_minor": 5
}
