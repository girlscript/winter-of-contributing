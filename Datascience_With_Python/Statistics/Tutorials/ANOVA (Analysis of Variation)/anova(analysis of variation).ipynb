{
 "cells": [
  {
   "cell_type": "markdown",
   "id": "8c8a0863",
   "metadata": {},
   "source": [
    "# ANOVA\n",
    "- Full form is ‘Analysis of Variance’.\n",
    "- It is an analysis tool used in statistics.\n",
    "- It splits an observed variability of a data set into two parts: systematic factors and random factors.\n",
    "- Analysts use the ANOVA test to determine the influence that independent variables have on the dependent variable in a regression study.\n",
    "- It is the extension of the t- and z-tests. \n"
   ]
  },
  {
   "cell_type": "markdown",
   "id": "bf88858b",
   "metadata": {},
   "source": [
    "Importing the libraries"
   ]
  },
  {
   "cell_type": "code",
   "execution_count": 21,
   "id": "85f02b00",
   "metadata": {},
   "outputs": [],
   "source": [
    "import pandas as pd\n",
    "import matplotlib.pyplot as plt\n",
    "import seaborn as sns\n",
    "import scipy.stats as stats\n",
    "import statsmodels.api as sm\n",
    "from statsmodels.formula.api import ols\n",
    "from bioinfokit.analys import stat\n",
    "import statsmodels.api as sm\n",
    "import matplotlib.pyplot as plt"
   ]
  },
  {
   "cell_type": "markdown",
   "id": "aa0aa508",
   "metadata": {},
   "source": [
    "Loading the dataset"
   ]
  },
  {
   "cell_type": "code",
   "execution_count": 2,
   "id": "5048c1da",
   "metadata": {},
   "outputs": [],
   "source": [
    "df = pd.read_csv(\"https://reneshbedre.github.io/assets/posts/anova/onewayanova.txt\", sep=\"\\t\")"
   ]
  },
  {
   "cell_type": "code",
   "execution_count": 3,
   "id": "0788065d",
   "metadata": {},
   "outputs": [],
   "source": [
    "# reshape the d dataframe suitable for statsmodels package \n",
    "df_melt = pd.melt(df.reset_index(), id_vars=['index'], value_vars=['A', 'B', 'C', 'D'])"
   ]
  },
  {
   "cell_type": "code",
   "execution_count": 4,
   "id": "b2ef1f33",
   "metadata": {},
   "outputs": [],
   "source": [
    "df_melt.columns = ['index', 'treatments', 'value']"
   ]
  },
  {
   "cell_type": "code",
   "execution_count": 5,
   "id": "4215ce79",
   "metadata": {},
   "outputs": [
    {
     "data": {
      "image/png": "[encoded data removed]",
      "text/plain": [
       "<Figure size 432x288 with 1 Axes>"
      ]
     },
     "metadata": {
      "needs_background": "light"
     },
     "output_type": "display_data"
    }
   ],
   "source": [
    "ax = sns.boxplot(x='treatments', y='value', data=df_melt, color='#99c2a2')\n",
    "ax = sns.swarmplot(x=\"treatments\", y=\"value\", data=df_melt, color='#7d0013')\n",
    "plt.show()"
   ]
  },
  {
   "cell_type": "code",
   "execution_count": 7,
   "id": "7c88c926",
   "metadata": {},
   "outputs": [
    {
     "ename": "IndentationError",
     "evalue": "unexpected indent (<ipython-input-7-43012818ebee>, line 15)",
     "output_type": "error",
     "traceback": [
      "\u001b[1;36m  File \u001b[1;32m\"<ipython-input-7-43012818ebee>\"\u001b[1;36m, line \u001b[1;32m15\u001b[0m\n\u001b[1;33m    sum_sq    df         F    PR(>F)\u001b[0m\n\u001b[1;37m    ^\u001b[0m\n\u001b[1;31mIndentationError\u001b[0m\u001b[1;31m:\u001b[0m unexpected indent\n"
     ]
    }
   ],
   "source": [
    "\n",
    "# stats f_oneway functions takes the groups as input and returns ANOVA F and p value\n",
    "\n",
    "# 17.492810457516338 2.639241146210922e-05\n",
    "\n",
    "# get ANOVA table as R like output\n",
    "\n",
    "\n",
    "# Ordinary Least Squares (OLS) model\n",
    "\n",
    "# output (ANOVA F and p value)\n",
    "                sum_sq    df         F    PR(>F)\n",
    "C(treatments)  3010.95   3.0  17.49281  0.000026\n",
    "Residual        918.00  16.0       NaN       NaN\n",
    "\n",
    "# ANOVA table using bioinfokit v1.0.3 or later (it uses wrapper script for anova_lm)\n",
    "\n",
    "\n",
    "# output (ANOVA F and p value)\n",
    "                 df   sum_sq   mean_sq         F    PR(>F)\n",
    "C(treatments)   3.0  3010.95  1003.650  17.49281  0.000026\n",
    "Residual       16.0   918.00    57.375       NaN       NaN\n",
    "\n",
    "# note: if the data is balanced (equal sample size for each group), Type 1, 2, and 3 sums of squares\n",
    "# (typ parameter) will produce similar results."
   ]
  },
  {
   "cell_type": "code",
   "execution_count": 10,
   "id": "4188511a",
   "metadata": {},
   "outputs": [
    {
     "name": "stdout",
     "output_type": "stream",
     "text": [
      "17.492810457516338 2.639241146210922e-05\n"
     ]
    }
   ],
   "source": [
    "fvalue, pvalue = stats.f_oneway(df['A'], df['B'], df['C'], df['D'])\n",
    "print(fvalue, pvalue)"
   ]
  },
  {
   "cell_type": "code",
   "execution_count": 12,
   "id": "1b92d4f9",
   "metadata": {},
   "outputs": [
    {
     "data": {
      "text/html": [
       "<div>\n",
       "<style scoped>\n",
       "    .dataframe tbody tr th:only-of-type {\n",
       "        vertical-align: middle;\n",
       "    }\n",
       "\n",
       "    .dataframe tbody tr th {\n",
       "        vertical-align: top;\n",
       "    }\n",
       "\n",
       "    .dataframe thead th {\n",
       "        text-align: right;\n",
       "    }\n",
       "</style>\n",
       "<table border=\"1\" class=\"dataframe\">\n",
       "  <thead>\n",
       "    <tr style=\"text-align: right;\">\n",
       "      <th></th>\n",
       "      <th>sum_sq</th>\n",
       "      <th>df</th>\n",
       "      <th>F</th>\n",
       "      <th>PR(&gt;F)</th>\n",
       "    </tr>\n",
       "  </thead>\n",
       "  <tbody>\n",
       "    <tr>\n",
       "      <th>C(treatments)</th>\n",
       "      <td>3010.95</td>\n",
       "      <td>3.0</td>\n",
       "      <td>17.49281</td>\n",
       "      <td>0.000026</td>\n",
       "    </tr>\n",
       "    <tr>\n",
       "      <th>Residual</th>\n",
       "      <td>918.00</td>\n",
       "      <td>16.0</td>\n",
       "      <td>NaN</td>\n",
       "      <td>NaN</td>\n",
       "    </tr>\n",
       "  </tbody>\n",
       "</table>\n",
       "</div>"
      ],
      "text/plain": [
       "                sum_sq    df         F    PR(>F)\n",
       "C(treatments)  3010.95   3.0  17.49281  0.000026\n",
       "Residual        918.00  16.0       NaN       NaN"
      ]
     },
     "execution_count": 12,
     "metadata": {},
     "output_type": "execute_result"
    }
   ],
   "source": [
    "model = ols('value ~ C(treatments)', data=df_melt).fit()\n",
    "anova_table = sm.stats.anova_lm(model, typ=2)\n",
    "anova_table"
   ]
  },
  {
   "cell_type": "code",
   "execution_count": 19,
   "id": "9f66f87a",
   "metadata": {},
   "outputs": [
    {
     "data": {
      "text/html": [
       "<div>\n",
       "<style scoped>\n",
       "    .dataframe tbody tr th:only-of-type {\n",
       "        vertical-align: middle;\n",
       "    }\n",
       "\n",
       "    .dataframe tbody tr th {\n",
       "        vertical-align: top;\n",
       "    }\n",
       "\n",
       "    .dataframe thead th {\n",
       "        text-align: right;\n",
       "    }\n",
       "</style>\n",
       "<table border=\"1\" class=\"dataframe\">\n",
       "  <thead>\n",
       "    <tr style=\"text-align: right;\">\n",
       "      <th></th>\n",
       "      <th>df</th>\n",
       "      <th>sum_sq</th>\n",
       "      <th>mean_sq</th>\n",
       "      <th>F</th>\n",
       "      <th>PR(&gt;F)</th>\n",
       "    </tr>\n",
       "  </thead>\n",
       "  <tbody>\n",
       "    <tr>\n",
       "      <th>C(treatments)</th>\n",
       "      <td>3.0</td>\n",
       "      <td>3010.95</td>\n",
       "      <td>1003.650</td>\n",
       "      <td>17.49281</td>\n",
       "      <td>0.000026</td>\n",
       "    </tr>\n",
       "    <tr>\n",
       "      <th>Residual</th>\n",
       "      <td>16.0</td>\n",
       "      <td>918.00</td>\n",
       "      <td>57.375</td>\n",
       "      <td>NaN</td>\n",
       "      <td>NaN</td>\n",
       "    </tr>\n",
       "  </tbody>\n",
       "</table>\n",
       "</div>"
      ],
      "text/plain": [
       "                 df   sum_sq   mean_sq         F    PR(>F)\n",
       "C(treatments)   3.0  3010.95  1003.650  17.49281  0.000026\n",
       "Residual       16.0   918.00    57.375       NaN       NaN"
      ]
     },
     "execution_count": 19,
     "metadata": {},
     "output_type": "execute_result"
    }
   ],
   "source": [
    "res = stat()\n",
    "res.anova_stat(df=df_melt, res_var='value', anova_model='value ~ C(treatments)')\n",
    "res.anova_summary"
   ]
  },
  {
   "cell_type": "code",
   "execution_count": 20,
   "id": "a91c1cd7",
   "metadata": {},
   "outputs": [
    {
     "data": {
      "text/html": [
       "<div>\n",
       "<style scoped>\n",
       "    .dataframe tbody tr th:only-of-type {\n",
       "        vertical-align: middle;\n",
       "    }\n",
       "\n",
       "    .dataframe tbody tr th {\n",
       "        vertical-align: top;\n",
       "    }\n",
       "\n",
       "    .dataframe thead th {\n",
       "        text-align: right;\n",
       "    }\n",
       "</style>\n",
       "<table border=\"1\" class=\"dataframe\">\n",
       "  <thead>\n",
       "    <tr style=\"text-align: right;\">\n",
       "      <th></th>\n",
       "      <th>group1</th>\n",
       "      <th>group2</th>\n",
       "      <th>Diff</th>\n",
       "      <th>Lower</th>\n",
       "      <th>Upper</th>\n",
       "      <th>q-value</th>\n",
       "      <th>p-value</th>\n",
       "    </tr>\n",
       "  </thead>\n",
       "  <tbody>\n",
       "    <tr>\n",
       "      <th>0</th>\n",
       "      <td>A</td>\n",
       "      <td>B</td>\n",
       "      <td>15.4</td>\n",
       "      <td>1.692871</td>\n",
       "      <td>29.107129</td>\n",
       "      <td>4.546156</td>\n",
       "      <td>0.025070</td>\n",
       "    </tr>\n",
       "    <tr>\n",
       "      <th>1</th>\n",
       "      <td>A</td>\n",
       "      <td>C</td>\n",
       "      <td>1.6</td>\n",
       "      <td>-12.107129</td>\n",
       "      <td>15.307129</td>\n",
       "      <td>0.472328</td>\n",
       "      <td>0.900000</td>\n",
       "    </tr>\n",
       "    <tr>\n",
       "      <th>2</th>\n",
       "      <td>A</td>\n",
       "      <td>D</td>\n",
       "      <td>30.4</td>\n",
       "      <td>16.692871</td>\n",
       "      <td>44.107129</td>\n",
       "      <td>8.974231</td>\n",
       "      <td>0.001000</td>\n",
       "    </tr>\n",
       "    <tr>\n",
       "      <th>3</th>\n",
       "      <td>B</td>\n",
       "      <td>C</td>\n",
       "      <td>13.8</td>\n",
       "      <td>0.092871</td>\n",
       "      <td>27.507129</td>\n",
       "      <td>4.073828</td>\n",
       "      <td>0.048178</td>\n",
       "    </tr>\n",
       "    <tr>\n",
       "      <th>4</th>\n",
       "      <td>B</td>\n",
       "      <td>D</td>\n",
       "      <td>15.0</td>\n",
       "      <td>1.292871</td>\n",
       "      <td>28.707129</td>\n",
       "      <td>4.428074</td>\n",
       "      <td>0.029578</td>\n",
       "    </tr>\n",
       "    <tr>\n",
       "      <th>5</th>\n",
       "      <td>C</td>\n",
       "      <td>D</td>\n",
       "      <td>28.8</td>\n",
       "      <td>15.092871</td>\n",
       "      <td>42.507129</td>\n",
       "      <td>8.501903</td>\n",
       "      <td>0.001000</td>\n",
       "    </tr>\n",
       "  </tbody>\n",
       "</table>\n",
       "</div>"
      ],
      "text/plain": [
       "  group1 group2  Diff      Lower      Upper   q-value   p-value\n",
       "0      A      B  15.4   1.692871  29.107129  4.546156  0.025070\n",
       "1      A      C   1.6 -12.107129  15.307129  0.472328  0.900000\n",
       "2      A      D  30.4  16.692871  44.107129  8.974231  0.001000\n",
       "3      B      C  13.8   0.092871  27.507129  4.073828  0.048178\n",
       "4      B      D  15.0   1.292871  28.707129  4.428074  0.029578\n",
       "5      C      D  28.8  15.092871  42.507129  8.501903  0.001000"
      ]
     },
     "execution_count": 20,
     "metadata": {},
     "output_type": "execute_result"
    }
   ],
   "source": [
    "res = stat()\n",
    "res.tukey_hsd(df=df_melt, res_var='value', xfac_var='treatments', anova_model='value ~ C(treatments)')\n",
    "res.tukey_summary"
   ]
  },
  {
   "cell_type": "code",
   "execution_count": 22,
   "id": "6e971b5e",
   "metadata": {},
   "outputs": [
    {
     "data": {
      "image/png": "[encoded data removed]",
      "text/plain": [
       "<Figure size 432x288 with 1 Axes>"
      ]
     },
     "metadata": {
      "needs_background": "light"
     },
     "output_type": "display_data"
    }
   ],
   "source": [
    "#QQ-plot\n",
    "sm.qqplot(res.anova_std_residuals, line='45')\n",
    "plt.xlabel(\"Theoretical Quantiles\")\n",
    "plt.ylabel(\"Standardized Residuals\")\n",
    "plt.show()"
   ]
  },
  {
   "cell_type": "code",
   "execution_count": 23,
   "id": "b32cb05e",
   "metadata": {},
   "outputs": [
    {
     "data": {
      "image/png": "[encoded data removed]",
      "text/plain": [
       "<Figure size 432x288 with 1 Axes>"
      ]
     },
     "metadata": {
      "needs_background": "light"
     },
     "output_type": "display_data"
    }
   ],
   "source": [
    "# histogram\n",
    "plt.hist(res.anova_model_out.resid, bins='auto', histtype='bar', ec='k') \n",
    "plt.xlabel(\"Residuals\")\n",
    "plt.ylabel('Frequency')\n",
    "plt.show()"
   ]
  },
  {
   "cell_type": "code",
   "execution_count": 24,
   "id": "1767382a",
   "metadata": {},
   "outputs": [
    {
     "name": "stdout",
     "output_type": "stream",
     "text": [
      "0.9685019850730896 0.7229772806167603\n"
     ]
    }
   ],
   "source": [
    "w, pvalue = stats.shapiro(model.resid)\n",
    "print(w, pvalue)"
   ]
  },
  {
   "cell_type": "code",
   "execution_count": 25,
   "id": "775a6110",
   "metadata": {},
   "outputs": [
    {
     "name": "stdout",
     "output_type": "stream",
     "text": [
      "5.687843565012841 0.1278253399753447\n"
     ]
    }
   ],
   "source": [
    "w, pvalue = stats.bartlett(df['A'], df['B'], df['C'], df['D'])\n",
    "print(w, pvalue)"
   ]
  },
  {
   "cell_type": "code",
   "execution_count": 26,
   "id": "e9eb5a6e",
   "metadata": {},
   "outputs": [
    {
     "data": {
      "text/html": [
       "<div>\n",
       "<style scoped>\n",
       "    .dataframe tbody tr th:only-of-type {\n",
       "        vertical-align: middle;\n",
       "    }\n",
       "\n",
       "    .dataframe tbody tr th {\n",
       "        vertical-align: top;\n",
       "    }\n",
       "\n",
       "    .dataframe thead th {\n",
       "        text-align: right;\n",
       "    }\n",
       "</style>\n",
       "<table border=\"1\" class=\"dataframe\">\n",
       "  <thead>\n",
       "    <tr style=\"text-align: right;\">\n",
       "      <th></th>\n",
       "      <th>Parameter</th>\n",
       "      <th>Value</th>\n",
       "    </tr>\n",
       "  </thead>\n",
       "  <tbody>\n",
       "    <tr>\n",
       "      <th>0</th>\n",
       "      <td>Test statistics (T)</td>\n",
       "      <td>5.6878</td>\n",
       "    </tr>\n",
       "    <tr>\n",
       "      <th>1</th>\n",
       "      <td>Degrees of freedom (Df)</td>\n",
       "      <td>3.0000</td>\n",
       "    </tr>\n",
       "    <tr>\n",
       "      <th>2</th>\n",
       "      <td>p value</td>\n",
       "      <td>0.1278</td>\n",
       "    </tr>\n",
       "  </tbody>\n",
       "</table>\n",
       "</div>"
      ],
      "text/plain": [
       "                 Parameter   Value\n",
       "0      Test statistics (T)  5.6878\n",
       "1  Degrees of freedom (Df)  3.0000\n",
       "2                  p value  0.1278"
      ]
     },
     "execution_count": 26,
     "metadata": {},
     "output_type": "execute_result"
    }
   ],
   "source": [
    "res = stat()\n",
    "res.bartlett(df=df_melt, res_var='value', xfac_var='treatments')\n",
    "res.bartlett_summary"
   ]
  },
  {
   "cell_type": "code",
   "execution_count": 27,
   "id": "213b525f",
   "metadata": {},
   "outputs": [
    {
     "data": {
      "text/html": [
       "<div>\n",
       "<style scoped>\n",
       "    .dataframe tbody tr th:only-of-type {\n",
       "        vertical-align: middle;\n",
       "    }\n",
       "\n",
       "    .dataframe tbody tr th {\n",
       "        vertical-align: top;\n",
       "    }\n",
       "\n",
       "    .dataframe thead th {\n",
       "        text-align: right;\n",
       "    }\n",
       "</style>\n",
       "<table border=\"1\" class=\"dataframe\">\n",
       "  <thead>\n",
       "    <tr style=\"text-align: right;\">\n",
       "      <th></th>\n",
       "      <th>Parameter</th>\n",
       "      <th>Value</th>\n",
       "    </tr>\n",
       "  </thead>\n",
       "  <tbody>\n",
       "    <tr>\n",
       "      <th>0</th>\n",
       "      <td>Test statistics (W)</td>\n",
       "      <td>1.9220</td>\n",
       "    </tr>\n",
       "    <tr>\n",
       "      <th>1</th>\n",
       "      <td>Degrees of freedom (Df)</td>\n",
       "      <td>3.0000</td>\n",
       "    </tr>\n",
       "    <tr>\n",
       "      <th>2</th>\n",
       "      <td>p value</td>\n",
       "      <td>0.1667</td>\n",
       "    </tr>\n",
       "  </tbody>\n",
       "</table>\n",
       "</div>"
      ],
      "text/plain": [
       "                 Parameter   Value\n",
       "0      Test statistics (W)  1.9220\n",
       "1  Degrees of freedom (Df)  3.0000\n",
       "2                  p value  0.1667"
      ]
     },
     "execution_count": 27,
     "metadata": {},
     "output_type": "execute_result"
    }
   ],
   "source": [
    "res = stat()\n",
    "res.levene(df=df_melt, res_var='value', xfac_var='treatments')\n",
    "res.levene_summary"
   ]
  },
  {
   "cell_type": "markdown",
   "id": "06c89872",
   "metadata": {},
   "source": [
    "# KEY TAKEAWAYS\n",
    "- Analysis of variance, or ANOVA, is a statistical method that separates observed variance data into different components to use for additional tests.\n",
    "- A one-way ANOVA is used for three or more groups of data, to gain information about the relationship between the dependent and independent variables.\n",
    "- If no true variance exists between the groups, the ANOVA's F-ratio should equal close to 1.\n"
   ]
  }
 ],
 "metadata": {
  "kernelspec": {
   "display_name": "Python 3",
   "language": "python",
   "name": "python3"
  },
  "language_info": {
   "codemirror_mode": {
    "name": "ipython",
    "version": 3
   },
   "file_extension": ".py",
   "mimetype": "text/x-python",
   "name": "python",
   "nbconvert_exporter": "python",
   "pygments_lexer": "ipython3",
   "version": "3.8.8"
  }
 },
 "nbformat": 4,
 "nbformat_minor": 5
}
