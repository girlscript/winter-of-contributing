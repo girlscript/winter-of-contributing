{
  "nbformat": 4,
  "nbformat_minor": 0,
  "metadata": {
    "kernelspec": {
      "display_name": "Python 3",
      "language": "python",
      "name": "python3"
    },
    "language_info": {
      "codemirror_mode": {
        "name": "ipython",
        "version": 3
      },
      "file_extension": ".py",
      "mimetype": "text/x-python",
      "name": "python",
      "nbconvert_exporter": "python",
      "pygments_lexer": "ipython3",
      "version": "3.6.6"
    },
    "colab": {
      "name": "disaster_tweets_prediction.ipynb",
      "provenance": [],
      "collapsed_sections": [
        "aQg5rLRGARND",
        "cQVQcsehARNF",
        "WghzOH_-ARNG",
        "bzXGaszcARNJ",
        "4agXDcCTARNL",
        "0YJlTbceARNM",
        "oZbUvI7uARNP",
        "BlLdjOD2ARNQ",
        "twjODcFOARNR",
        "8UdbHqZgARNT",
        "j_jXx1GRARNU"
      ]
    },
    "accelerator": "GPU"
  },
  "cells": [
    {
      "cell_type": "markdown",
      "metadata": {
        "id": "N3hx9SfyARM3"
      },
      "source": [
        "# **Disaster Tweets Prediction**\n",
        "<a href=\"https://www.kaggle.com/c/nlp-getting-started/data\"> Click here to access Dataset from Kaggle</a>\n",
        "\n",
        "## **Competition Description**\n",
        "  \n",
        "Twitter has become an important communication channel in times of emergency.\n",
        "  \n",
        "The ubiquitousness of smartphones enables people to announce an emergency they’re observing in real-time. Because of this, more agencies are interested in programatically monitoring Twitter (i.e. disaster relief organizations and news agencies).\n",
        "\n",
        "But, it’s not always clear whether a person’s words are actually announcing a disaster. Take this example:\n",
        "  \n",
        "The author explicitly uses the word “ABLAZE” but means it metaphorically. This is clear to a human right away, especially with the visual aid. But it’s less clear to a machine.\n",
        "\n",
        "In this competition, you’re challenged to build a machine learning model that predicts which Tweets are about real disasters and which one’s aren’t. You’ll have access to a dataset of 10,000 tweets that were hand classified. If this is your first time working on an NLP problem, we've created a quick tutorial to get you up and running.\n",
        "\n",
        "##  **The Goal**\n",
        "\n",
        "In this competition, you’re challenged to build a machine learning model that predicts which Tweets are about real disasters and which one’s aren’t.\n",
        "  \n",
        "You are predicting whether a given tweet is about a real disaster or not. If so, predict a 1. If not, predict a 0.\n",
        "\n",
        "## **What is Classification?**\n",
        "\n",
        "The Classification algorithm is a Supervised Learning technique that is used to identify the category of new observations on the basis of training data. \n",
        "  \n",
        "In Classification, a program learns from the given dataset or observations and then classifies new observation into a number of classes or groups. Such as, Yes or No, 0 or 1, Spam or Not Spam, cat or dog, etc. Classes can be called as targets/labels or categories.\n",
        "  \n",
        "The best example of an ML classification algorithm is Email Spam Detector.\n",
        "\n",
        "The main goal of the Classification algorithm is to identify the category of a given dataset, and these algorithms are mainly used to predict the output for the categorical data.\n",
        "\n",
        "Classification algorithms can be better understood using the below diagram. In the below diagram, there are two classes, class A and Class B. These classes have features that are similar to each other and dissimilar to other classes.\n",
        "\n",
        "![image](https://user-images.githubusercontent.com/62233992/142577145-98cfe492-6a0c-48d7-838f-c0db0e004503.png)\n"
      ]
    },
    {
      "cell_type": "markdown",
      "metadata": {
        "id": "rYnt08lXARM8"
      },
      "source": [
        "### Importing required Libraries."
      ]
    },
    {
      "cell_type": "code",
      "metadata": {
        "id": "OFrghy3tARM9",
        "outputId": "c409be4d-955b-4c32-d7f8-5ebc7842a4a1"
      },
      "source": [
        "import pandas as pd\n",
        "import matplotlib.pyplot as plt\n",
        "import seaborn as sns\n",
        "import numpy as np\n",
        "from nltk.corpus import stopwords\n",
        "from nltk.util import ngrams\n",
        "from sklearn.feature_extraction.text import CountVectorizer\n",
        "from collections import defaultdict\n",
        "from collections import  Counter\n",
        "plt.style.use('ggplot')\n",
        "stop=set(stopwords.words('english'))\n",
        "import re\n",
        "from nltk.tokenize import word_tokenize\n",
        "import gensim\n",
        "import string\n",
        "from keras.preprocessing.text import Tokenizer\n",
        "from keras.preprocessing.sequence import pad_sequences\n",
        "from tqdm import tqdm\n",
        "from keras.models import Sequential\n",
        "from keras.layers import Embedding,LSTM,Dense,SpatialDropout1D\n",
        "from keras.initializers import Constant\n",
        "from sklearn.model_selection import train_test_split\n",
        "from keras.optimizers import Adam\n",
        "\n"
      ],
      "execution_count": null,
      "outputs": [
        {
          "name": "stderr",
          "output_type": "stream",
          "text": [
            "Using TensorFlow backend.\n"
          ]
        }
      ]
    },
    {
      "cell_type": "code",
      "metadata": {
        "id": "HV-TildLARM_"
      },
      "source": [
        "import os\n",
        "#os.listdir('../input/glove-global-vectors-for-word-representation/glove.6B.100d.txt')"
      ],
      "execution_count": null,
      "outputs": []
    },
    {
      "cell_type": "markdown",
      "metadata": {
        "id": "qKZDhcstARM_"
      },
      "source": [
        "## Loading the data and getting basic idea "
      ]
    },
    {
      "cell_type": "code",
      "metadata": {
        "id": "0-8x1T0eARM_",
        "outputId": "a051a19a-694e-4a50-a7a6-cc44fdfe4dcc"
      },
      "source": [
        "tweet= pd.read_csv('../input/nlp-getting-started/train.csv')\n",
        "test=pd.read_csv('../input/nlp-getting-started/test.csv')\n",
        "tweet.head(3)"
      ],
      "execution_count": null,
      "outputs": [
        {
          "data": {
            "text/html": [
              "<div>\n",
              "<style scoped>\n",
              "    .dataframe tbody tr th:only-of-type {\n",
              "        vertical-align: middle;\n",
              "    }\n",
              "\n",
              "    .dataframe tbody tr th {\n",
              "        vertical-align: top;\n",
              "    }\n",
              "\n",
              "    .dataframe thead th {\n",
              "        text-align: right;\n",
              "    }\n",
              "</style>\n",
              "<table border=\"1\" class=\"dataframe\">\n",
              "  <thead>\n",
              "    <tr style=\"text-align: right;\">\n",
              "      <th></th>\n",
              "      <th>id</th>\n",
              "      <th>keyword</th>\n",
              "      <th>location</th>\n",
              "      <th>text</th>\n",
              "      <th>target</th>\n",
              "    </tr>\n",
              "  </thead>\n",
              "  <tbody>\n",
              "    <tr>\n",
              "      <th>0</th>\n",
              "      <td>1</td>\n",
              "      <td>NaN</td>\n",
              "      <td>NaN</td>\n",
              "      <td>Our Deeds are the Reason of this #earthquake M...</td>\n",
              "      <td>1</td>\n",
              "    </tr>\n",
              "    <tr>\n",
              "      <th>1</th>\n",
              "      <td>4</td>\n",
              "      <td>NaN</td>\n",
              "      <td>NaN</td>\n",
              "      <td>Forest fire near La Ronge Sask. Canada</td>\n",
              "      <td>1</td>\n",
              "    </tr>\n",
              "    <tr>\n",
              "      <th>2</th>\n",
              "      <td>5</td>\n",
              "      <td>NaN</td>\n",
              "      <td>NaN</td>\n",
              "      <td>All residents asked to 'shelter in place' are ...</td>\n",
              "      <td>1</td>\n",
              "    </tr>\n",
              "  </tbody>\n",
              "</table>\n",
              "</div>"
            ],
            "text/plain": [
              "   id keyword location                                               text  \\\n",
              "0   1     NaN      NaN  Our Deeds are the Reason of this #earthquake M...   \n",
              "1   4     NaN      NaN             Forest fire near La Ronge Sask. Canada   \n",
              "2   5     NaN      NaN  All residents asked to 'shelter in place' are ...   \n",
              "\n",
              "   target  \n",
              "0       1  \n",
              "1       1  \n",
              "2       1  "
            ]
          },
          "execution_count": 3,
          "metadata": {},
          "output_type": "execute_result"
        }
      ]
    },
    {
      "cell_type": "code",
      "metadata": {
        "id": "ErsUZ-bwARNA",
        "outputId": "11791a12-62f4-4de8-e754-7f04605d7943"
      },
      "source": [
        "print('There are {} rows and {} columns in train'.format(tweet.shape[0],tweet.shape[1]))\n",
        "print('There are {} rows and {} columns in train'.format(test.shape[0],test.shape[1]))"
      ],
      "execution_count": null,
      "outputs": [
        {
          "name": "stdout",
          "output_type": "stream",
          "text": [
            "There are 7613 rows and 5 columns in train\n",
            "There are 3263 rows and 4 columns in train\n"
          ]
        }
      ]
    },
    {
      "cell_type": "markdown",
      "metadata": {
        "id": "nmkSfWAvARNA"
      },
      "source": [
        "## Class distribution"
      ]
    },
    {
      "cell_type": "markdown",
      "metadata": {
        "id": "bo81BR6gARNB"
      },
      "source": [
        "Before we begin with anything else,let's check the class distribution.There are only two classes 0 and 1."
      ]
    },
    {
      "cell_type": "code",
      "metadata": {
        "id": "F5mywgq1ARNB",
        "outputId": "70e080d8-89b5-4daf-da9f-0e71725c64b5"
      },
      "source": [
        "x=tweet.target.value_counts()\n",
        "sns.barplot(x.index,x)\n",
        "plt.gca().set_ylabel('samples')"
      ],
      "execution_count": null,
      "outputs": [
        {
          "data": {
            "text/plain": [
              "Text(0, 0.5, 'samples')"
            ]
          },
          "execution_count": 5,
          "metadata": {},
          "output_type": "execute_result"
        },
        {
          "data": {
            "image/png": "[encoded data removed]",
            "text/plain": [
              "<Figure size 432x288 with 1 Axes>"
            ]
          },
          "metadata": {
            "needs_background": "light"
          },
          "output_type": "display_data"
        }
      ]
    },
    {
      "cell_type": "markdown",
      "metadata": {
        "id": "YD4zJ7hJARNB"
      },
      "source": [
        "ohh,as expected ! There is a class distribution.There are more tweets with class 0 ( No disaster) than class 1 ( disaster tweets)"
      ]
    },
    {
      "cell_type": "markdown",
      "metadata": {
        "id": "Tp6x5PJoARNC"
      },
      "source": [
        "## Exploratory Data Analysis of tweets"
      ]
    },
    {
      "cell_type": "markdown",
      "metadata": {
        "id": "KBwRxaaZARNC"
      },
      "source": [
        "First,we will do very basic analysis,that is character level,word level and sentence level analysis."
      ]
    },
    {
      "cell_type": "markdown",
      "metadata": {
        "id": "wRllR2mkARNC"
      },
      "source": [
        "### Number of characters in tweets"
      ]
    },
    {
      "cell_type": "code",
      "metadata": {
        "id": "VVVkNcmWARNC",
        "outputId": "e76444fc-87fa-4346-dc98-2a2de13a647a"
      },
      "source": [
        "fig,(ax1,ax2)=plt.subplots(1,2,figsize=(10,5))\n",
        "tweet_len=tweet[tweet['target']==1]['text'].str.len()\n",
        "ax1.hist(tweet_len,color='red')\n",
        "ax1.set_title('disaster tweets')\n",
        "tweet_len=tweet[tweet['target']==0]['text'].str.len()\n",
        "ax2.hist(tweet_len,color='green')\n",
        "ax2.set_title('Not disaster tweets')\n",
        "fig.suptitle('Characters in tweets')\n",
        "plt.show()\n"
      ],
      "execution_count": null,
      "outputs": [
        {
          "data": {
            "image/png": "[encoded data removed]",
            "text/plain": [
              "<Figure size 720x360 with 2 Axes>"
            ]
          },
          "metadata": {
            "needs_background": "light"
          },
          "output_type": "display_data"
        }
      ]
    },
    {
      "cell_type": "markdown",
      "metadata": {
        "id": "d7n8HliKARND"
      },
      "source": [
        "The distribution of both seems to be almost same.120 t0 140 characters in a tweet are the most common among both."
      ]
    },
    {
      "cell_type": "markdown",
      "metadata": {
        "id": "aQg5rLRGARND"
      },
      "source": [
        "### Number of words in a tweet"
      ]
    },
    {
      "cell_type": "code",
      "metadata": {
        "id": "m2Q2jgywARNE",
        "outputId": "716f5849-d986-434f-f96c-513507aaf441"
      },
      "source": [
        "fig,(ax1,ax2)=plt.subplots(1,2,figsize=(10,5))\n",
        "tweet_len=tweet[tweet['target']==1]['text'].str.split().map(lambda x: len(x))\n",
        "ax1.hist(tweet_len,color='red')\n",
        "ax1.set_title('disaster tweets')\n",
        "tweet_len=tweet[tweet['target']==0]['text'].str.split().map(lambda x: len(x))\n",
        "ax2.hist(tweet_len,color='green')\n",
        "ax2.set_title('Not disaster tweets')\n",
        "fig.suptitle('Words in a tweet')\n",
        "plt.show()\n"
      ],
      "execution_count": null,
      "outputs": [
        {
          "data": {
            "image/png": "[encoded data removed]",
            "text/plain": [
              "<Figure size 720x360 with 2 Axes>"
            ]
          },
          "metadata": {
            "needs_background": "light"
          },
          "output_type": "display_data"
        }
      ]
    },
    {
      "cell_type": "markdown",
      "metadata": {
        "id": "cQVQcsehARNF"
      },
      "source": [
        "###  Average word length in a tweet"
      ]
    },
    {
      "cell_type": "code",
      "metadata": {
        "id": "_3DwdlbMARNF",
        "outputId": "37c5f7c6-f6a3-4e91-a539-b7cea69c449b"
      },
      "source": [
        "fig,(ax1,ax2)=plt.subplots(1,2,figsize=(10,5))\n",
        "word=tweet[tweet['target']==1]['text'].str.split().apply(lambda x : [len(i) for i in x])\n",
        "sns.distplot(word.map(lambda x: np.mean(x)),ax=ax1,color='red')\n",
        "ax1.set_title('disaster')\n",
        "word=tweet[tweet['target']==0]['text'].str.split().apply(lambda x : [len(i) for i in x])\n",
        "sns.distplot(word.map(lambda x: np.mean(x)),ax=ax2,color='green')\n",
        "ax2.set_title('Not disaster')\n",
        "fig.suptitle('Average word length in each tweet')"
      ],
      "execution_count": null,
      "outputs": [
        {
          "data": {
            "text/plain": [
              "Text(0.5, 0.98, 'Average word length in each tweet')"
            ]
          },
          "execution_count": 8,
          "metadata": {},
          "output_type": "execute_result"
        },
        {
          "data": {
            "image/png": "[encoded data removed]",
            "text/plain": [
              "<Figure size 720x360 with 2 Axes>"
            ]
          },
          "metadata": {
            "needs_background": "light"
          },
          "output_type": "display_data"
        }
      ]
    },
    {
      "cell_type": "code",
      "metadata": {
        "id": "PSfZqAuvARNG"
      },
      "source": [
        "def create_corpus(target):\n",
        "    corpus=[]\n",
        "    \n",
        "    for x in tweet[tweet['target']==target]['text'].str.split():\n",
        "        for i in x:\n",
        "            corpus.append(i)\n",
        "    return corpus"
      ],
      "execution_count": null,
      "outputs": []
    },
    {
      "cell_type": "markdown",
      "metadata": {
        "id": "WghzOH_-ARNG"
      },
      "source": [
        "### Common stopwords in tweets"
      ]
    },
    {
      "cell_type": "markdown",
      "metadata": {
        "id": "_gGFaO6SARNH"
      },
      "source": [
        "First we  will analyze tweets with class 0."
      ]
    },
    {
      "cell_type": "code",
      "metadata": {
        "id": "38JMCHuxARNH"
      },
      "source": [
        "corpus=create_corpus(0)\n",
        "\n",
        "dic=defaultdict(int)\n",
        "for word in corpus:\n",
        "    if word in stop:\n",
        "        dic[word]+=1\n",
        "        \n",
        "top=sorted(dic.items(), key=lambda x:x[1],reverse=True)[:10] \n"
      ],
      "execution_count": null,
      "outputs": []
    },
    {
      "cell_type": "code",
      "metadata": {
        "id": "21BJSja-ARNH",
        "outputId": "476ce985-c592-4464-a56e-6071c6feaf2a"
      },
      "source": [
        "x,y=zip(*top)\n",
        "plt.bar(x,y)"
      ],
      "execution_count": null,
      "outputs": [
        {
          "data": {
            "text/plain": [
              "<BarContainer object of 10 artists>"
            ]
          },
          "execution_count": 11,
          "metadata": {},
          "output_type": "execute_result"
        },
        {
          "data": {
            "image/png": "[encoded data removed]",
            "text/plain": [
              "<Figure size 432x288 with 1 Axes>"
            ]
          },
          "metadata": {
            "needs_background": "light"
          },
          "output_type": "display_data"
        }
      ]
    },
    {
      "cell_type": "markdown",
      "metadata": {
        "id": "IxdZTzwVARNI"
      },
      "source": [
        "Now,we will analyze tweets with class 1."
      ]
    },
    {
      "cell_type": "code",
      "metadata": {
        "id": "Gww-feNnARNI",
        "outputId": "0493aba8-db99-4345-c535-176d0a3ac21b"
      },
      "source": [
        "corpus=create_corpus(1)\n",
        "\n",
        "dic=defaultdict(int)\n",
        "for word in corpus:\n",
        "    if word in stop:\n",
        "        dic[word]+=1\n",
        "\n",
        "top=sorted(dic.items(), key=lambda x:x[1],reverse=True)[:10] \n",
        "    \n",
        "\n",
        "\n",
        "x,y=zip(*top)\n",
        "plt.bar(x,y)"
      ],
      "execution_count": null,
      "outputs": [
        {
          "data": {
            "text/plain": [
              "<BarContainer object of 10 artists>"
            ]
          },
          "execution_count": 12,
          "metadata": {},
          "output_type": "execute_result"
        },
        {
          "data": {
            "image/png": "[encoded data removed]",
            "text/plain": [
              "<Figure size 432x288 with 1 Axes>"
            ]
          },
          "metadata": {
            "needs_background": "light"
          },
          "output_type": "display_data"
        }
      ]
    },
    {
      "cell_type": "markdown",
      "metadata": {
        "id": "oHYMc90JARNJ"
      },
      "source": [
        "In both of them,\"the\" dominates which is followed by \"a\" in class 0 and \"in\" in class 1."
      ]
    },
    {
      "cell_type": "markdown",
      "metadata": {
        "id": "bzXGaszcARNJ"
      },
      "source": [
        "### Analyzing punctuations."
      ]
    },
    {
      "cell_type": "markdown",
      "metadata": {
        "id": "ihAZI4EgARNJ"
      },
      "source": [
        "First let's check tweets indicating real disaster."
      ]
    },
    {
      "cell_type": "code",
      "metadata": {
        "id": "QdZzVraLARNK",
        "outputId": "d7fb2330-bec6-45ec-cfb3-1f2b8ae47938"
      },
      "source": [
        "plt.figure(figsize=(10,5))\n",
        "corpus=create_corpus(1)\n",
        "\n",
        "dic=defaultdict(int)\n",
        "import string\n",
        "special = string.punctuation\n",
        "for i in (corpus):\n",
        "    if i in special:\n",
        "        dic[i]+=1\n",
        "        \n",
        "x,y=zip(*dic.items())\n",
        "plt.bar(x,y)"
      ],
      "execution_count": null,
      "outputs": [
        {
          "data": {
            "text/plain": [
              "<BarContainer object of 18 artists>"
            ]
          },
          "execution_count": 13,
          "metadata": {},
          "output_type": "execute_result"
        },
        {
          "data": {
            "image/png": "[encoded data removed]",
            "text/plain": [
              "<Figure size 720x360 with 1 Axes>"
            ]
          },
          "metadata": {
            "needs_background": "light"
          },
          "output_type": "display_data"
        }
      ]
    },
    {
      "cell_type": "markdown",
      "metadata": {
        "id": "ptIlr9UvARNK"
      },
      "source": [
        "Now,we will move on to class 0."
      ]
    },
    {
      "cell_type": "code",
      "metadata": {
        "id": "OSDYuJGpARNK",
        "outputId": "539e1deb-3c3d-4b17-cffc-ea0a731a276e"
      },
      "source": [
        "plt.figure(figsize=(10,5))\n",
        "corpus=create_corpus(0)\n",
        "\n",
        "dic=defaultdict(int)\n",
        "import string\n",
        "special = string.punctuation\n",
        "for i in (corpus):\n",
        "    if i in special:\n",
        "        dic[i]+=1\n",
        "        \n",
        "x,y=zip(*dic.items())\n",
        "plt.bar(x,y,color='green')"
      ],
      "execution_count": null,
      "outputs": [
        {
          "data": {
            "text/plain": [
              "<BarContainer object of 20 artists>"
            ]
          },
          "execution_count": 14,
          "metadata": {},
          "output_type": "execute_result"
        },
        {
          "data": {
            "image/png": "[encoded data removed]",
            "text/plain": [
              "<Figure size 720x360 with 1 Axes>"
            ]
          },
          "metadata": {
            "needs_background": "light"
          },
          "output_type": "display_data"
        }
      ]
    },
    {
      "cell_type": "markdown",
      "metadata": {
        "id": "4agXDcCTARNL"
      },
      "source": [
        "### Common words ?"
      ]
    },
    {
      "cell_type": "code",
      "metadata": {
        "id": "tgRNQtqgARNL"
      },
      "source": [
        "\n",
        "counter=Counter(corpus)\n",
        "most=counter.most_common()\n",
        "x=[]\n",
        "y=[]\n",
        "for word,count in most[:40]:\n",
        "    if (word not in stop) :\n",
        "        x.append(word)\n",
        "        y.append(count)"
      ],
      "execution_count": null,
      "outputs": []
    },
    {
      "cell_type": "code",
      "metadata": {
        "id": "nKCzbW12ARNM",
        "outputId": "c5fe6227-0c67-4ed8-fc8a-6f7e60e9ddc4"
      },
      "source": [
        "sns.barplot(x=y,y=x)"
      ],
      "execution_count": null,
      "outputs": [
        {
          "data": {
            "text/plain": [
              "<matplotlib.axes._subplots.AxesSubplot at 0x7f364731a908>"
            ]
          },
          "execution_count": 16,
          "metadata": {},
          "output_type": "execute_result"
        },
        {
          "data": {
            "image/png": "[encoded data removed]",
            "text/plain": [
              "<Figure size 432x288 with 1 Axes>"
            ]
          },
          "metadata": {
            "needs_background": "light"
          },
          "output_type": "display_data"
        }
      ]
    },
    {
      "cell_type": "markdown",
      "metadata": {
        "id": "owbKT9FKARNM"
      },
      "source": [
        "Lot of cleaning needed !"
      ]
    },
    {
      "cell_type": "markdown",
      "metadata": {
        "id": "0YJlTbceARNM"
      },
      "source": [
        "### Ngram analysis"
      ]
    },
    {
      "cell_type": "markdown",
      "metadata": {
        "id": "wSANdwv4ARNN"
      },
      "source": [
        "we will do a bigram (n=2) analysis over the tweets.Let's check the most common bigrams in tweets."
      ]
    },
    {
      "cell_type": "code",
      "metadata": {
        "id": "wj-WLKL3ARNN"
      },
      "source": [
        "def get_top_tweet_bigrams(corpus, n=None):\n",
        "    vec = CountVectorizer(ngram_range=(2, 2)).fit(corpus)\n",
        "    bag_of_words = vec.transform(corpus)\n",
        "    sum_words = bag_of_words.sum(axis=0) \n",
        "    words_freq = [(word, sum_words[0, idx]) for word, idx in vec.vocabulary_.items()]\n",
        "    words_freq =sorted(words_freq, key = lambda x: x[1], reverse=True)\n",
        "    return words_freq[:n]"
      ],
      "execution_count": null,
      "outputs": []
    },
    {
      "cell_type": "code",
      "metadata": {
        "id": "yffuMoJHARNN",
        "outputId": "3630474a-b966-4e19-b259-03d622f5f62e"
      },
      "source": [
        "plt.figure(figsize=(10,5))\n",
        "top_tweet_bigrams=get_top_tweet_bigrams(tweet['text'])[:10]\n",
        "x,y=map(list,zip(*top_tweet_bigrams))\n",
        "sns.barplot(x=y,y=x)"
      ],
      "execution_count": null,
      "outputs": [
        {
          "data": {
            "text/plain": [
              "<matplotlib.axes._subplots.AxesSubplot at 0x7f36472a1940>"
            ]
          },
          "execution_count": 18,
          "metadata": {},
          "output_type": "execute_result"
        },
        {
          "data": {
            "image/png": "[encoded data removed]",
            "text/plain": [
              "<Figure size 720x360 with 1 Axes>"
            ]
          },
          "metadata": {
            "needs_background": "light"
          },
          "output_type": "display_data"
        }
      ]
    },
    {
      "cell_type": "markdown",
      "metadata": {
        "id": "aScnHTZPARNO"
      },
      "source": [
        "We will need lot of cleaning here.."
      ]
    },
    {
      "cell_type": "markdown",
      "metadata": {
        "id": "nEigoDoLARNO"
      },
      "source": [
        "## Data Cleaning\n",
        "As we know,twitter tweets always have to be cleaned before we go onto modelling.So we will do some basic cleaning such as spelling correction,removing punctuations,removing html tags and emojis etc.So let's start."
      ]
    },
    {
      "cell_type": "code",
      "metadata": {
        "id": "4UU4ln4AARNO",
        "outputId": "40f84fde-49d5-4b7e-8ba6-64b97d7a18e1"
      },
      "source": [
        "df=pd.concat([tweet,test])\n",
        "df.shape"
      ],
      "execution_count": null,
      "outputs": [
        {
          "name": "stderr",
          "output_type": "stream",
          "text": [
            "/opt/conda/lib/python3.6/site-packages/ipykernel_launcher.py:1: FutureWarning: Sorting because non-concatenation axis is not aligned. A future version\n",
            "of pandas will change to not sort by default.\n",
            "\n",
            "To accept the future behavior, pass 'sort=False'.\n",
            "\n",
            "To retain the current behavior and silence the warning, pass 'sort=True'.\n",
            "\n",
            "  \"\"\"Entry point for launching an IPython kernel.\n"
          ]
        },
        {
          "data": {
            "text/plain": [
              "(10876, 5)"
            ]
          },
          "execution_count": 19,
          "metadata": {},
          "output_type": "execute_result"
        }
      ]
    },
    {
      "cell_type": "markdown",
      "metadata": {
        "id": "oZbUvI7uARNP"
      },
      "source": [
        "### Removing urls"
      ]
    },
    {
      "cell_type": "code",
      "metadata": {
        "id": "QXtcK_WSARNP"
      },
      "source": [
        "example=\"New competition launched :https://www.kaggle.com/c/nlp-getting-started\""
      ],
      "execution_count": null,
      "outputs": []
    },
    {
      "cell_type": "code",
      "metadata": {
        "id": "xzOKDsp5ARNQ",
        "outputId": "8ef1d152-5a2e-4cd7-95a0-f6d3c33652e7"
      },
      "source": [
        "def remove_URL(text):\n",
        "    url = re.compile(r'https?://\\S+|www\\.\\S+')\n",
        "    return url.sub(r'',text)\n",
        "\n",
        "remove_URL(example)"
      ],
      "execution_count": null,
      "outputs": [
        {
          "data": {
            "text/plain": [
              "'New competition launched :'"
            ]
          },
          "execution_count": 21,
          "metadata": {},
          "output_type": "execute_result"
        }
      ]
    },
    {
      "cell_type": "code",
      "metadata": {
        "id": "SOnLV5VPARNQ"
      },
      "source": [
        "df['text']=df['text'].apply(lambda x : remove_URL(x))"
      ],
      "execution_count": null,
      "outputs": []
    },
    {
      "cell_type": "markdown",
      "metadata": {
        "id": "BlLdjOD2ARNQ"
      },
      "source": [
        "### Removing HTML tags"
      ]
    },
    {
      "cell_type": "code",
      "metadata": {
        "id": "yzIl1tU3ARNQ"
      },
      "source": [
        "example = \"\"\"<div>\n",
        "<h1>Real or Fake</h1>\n",
        "<p>Kaggle </p>\n",
        "<a href=\"https://www.kaggle.com/c/nlp-getting-started\">getting started</a>\n",
        "</div>\"\"\""
      ],
      "execution_count": null,
      "outputs": []
    },
    {
      "cell_type": "code",
      "metadata": {
        "id": "t6EnMkhjARNR",
        "outputId": "e0d43041-4c06-4230-9a44-b6f7c871afad"
      },
      "source": [
        "def remove_html(text):\n",
        "    html=re.compile(r'<.*?>')\n",
        "    return html.sub(r'',text)\n",
        "print(remove_html(example))"
      ],
      "execution_count": null,
      "outputs": [
        {
          "name": "stdout",
          "output_type": "stream",
          "text": [
            "\n",
            "Real or Fake\n",
            "Kaggle \n",
            "getting started\n",
            "\n"
          ]
        }
      ]
    },
    {
      "cell_type": "code",
      "metadata": {
        "id": "5wrCHpsCARNR"
      },
      "source": [
        "df['text']=df['text'].apply(lambda x : remove_html(x))"
      ],
      "execution_count": null,
      "outputs": []
    },
    {
      "cell_type": "markdown",
      "metadata": {
        "id": "twjODcFOARNR"
      },
      "source": [
        "### Romoving Emojis"
      ]
    },
    {
      "cell_type": "code",
      "metadata": {
        "id": "pQGRuXFtARNS",
        "outputId": "022447c7-66c2-413a-9a87-9e234058dcc4"
      },
      "source": [
        "# Reference : https://gist.github.com/slowkow/7a7f61f495e3dbb7e3d767f97bd7304b\n",
        "def remove_emoji(text):\n",
        "    emoji_pattern = re.compile(\"[\"\n",
        "                           u\"\\U0001F600-\\U0001F64F\"  # emoticons\n",
        "                           u\"\\U0001F300-\\U0001F5FF\"  # symbols & pictographs\n",
        "                           u\"\\U0001F680-\\U0001F6FF\"  # transport & map symbols\n",
        "                           u\"\\U0001F1E0-\\U0001F1FF\"  # flags (iOS)\n",
        "                           u\"\\U00002702-\\U000027B0\"\n",
        "                           u\"\\U000024C2-\\U0001F251\"\n",
        "                           \"]+\", flags=re.UNICODE)\n",
        "    return emoji_pattern.sub(r'', text)\n",
        "\n",
        "remove_emoji(\"Omg another Earthquake 😔😔\")"
      ],
      "execution_count": null,
      "outputs": [
        {
          "data": {
            "text/plain": [
              "'Omg another Earthquake '"
            ]
          },
          "execution_count": 26,
          "metadata": {},
          "output_type": "execute_result"
        }
      ]
    },
    {
      "cell_type": "code",
      "metadata": {
        "id": "1sEzrHehARNT"
      },
      "source": [
        "df['text']=df['text'].apply(lambda x: remove_emoji(x))\n"
      ],
      "execution_count": null,
      "outputs": []
    },
    {
      "cell_type": "markdown",
      "metadata": {
        "id": "8UdbHqZgARNT"
      },
      "source": [
        "### Removing punctuations"
      ]
    },
    {
      "cell_type": "code",
      "metadata": {
        "id": "utdNo2cbARNT",
        "outputId": "a58f1323-3533-4413-e79a-e6426a9ae169"
      },
      "source": [
        "def remove_punct(text):\n",
        "    table=str.maketrans('','',string.punctuation)\n",
        "    return text.translate(table)\n",
        "\n",
        "example=\"I am a #king\"\n",
        "print(remove_punct(example))"
      ],
      "execution_count": null,
      "outputs": [
        {
          "name": "stdout",
          "output_type": "stream",
          "text": [
            "I am a king\n"
          ]
        }
      ]
    },
    {
      "cell_type": "code",
      "metadata": {
        "id": "A9MtofC1ARNU"
      },
      "source": [
        "df['text']=df['text'].apply(lambda x : remove_punct(x))"
      ],
      "execution_count": null,
      "outputs": []
    },
    {
      "cell_type": "markdown",
      "metadata": {
        "id": "j_jXx1GRARNU"
      },
      "source": [
        "### Spelling Correction\n"
      ]
    },
    {
      "cell_type": "markdown",
      "metadata": {
        "id": "VM1qloK-ARNU"
      },
      "source": [
        "Even if I'm not good at spelling I can correct it with python :) I will use `pyspellcheker` to do that."
      ]
    },
    {
      "cell_type": "code",
      "metadata": {
        "_kg_hide-output": true,
        "id": "fd2EGGKJARNV",
        "outputId": "713e9a2a-d848-4048-8a25-7b3eb83dac47"
      },
      "source": [
        "!pip install pyspellchecker"
      ],
      "execution_count": null,
      "outputs": [
        {
          "name": "stdout",
          "output_type": "stream",
          "text": [
            "Collecting pyspellchecker\r\n",
            "\u001b[?25l  Downloading https://files.pythonhosted.org/packages/93/24/9a570f49dfefc16e9ce1f483bb2d5bff701b95094e051db502e3c11f5092/pyspellchecker-0.5.3-py2.py3-none-any.whl (1.9MB)\r\n",
            "\u001b[K     |████████████████████████████████| 1.9MB 3.4MB/s \r\n",
            "\u001b[?25hInstalling collected packages: pyspellchecker\r\n",
            "Successfully installed pyspellchecker-0.5.3\r\n"
          ]
        }
      ]
    },
    {
      "cell_type": "code",
      "metadata": {
        "id": "DZtpXpwfARNV",
        "outputId": "12076df0-fcb4-4c45-c63b-e05a8d5eec40"
      },
      "source": [
        "from spellchecker import SpellChecker\n",
        "\n",
        "spell = SpellChecker()\n",
        "def correct_spellings(text):\n",
        "    corrected_text = []\n",
        "    misspelled_words = spell.unknown(text.split())\n",
        "    for word in text.split():\n",
        "        if word in misspelled_words:\n",
        "            corrected_text.append(spell.correction(word))\n",
        "        else:\n",
        "            corrected_text.append(word)\n",
        "    return \" \".join(corrected_text)\n",
        "        \n",
        "text = \"corect me plese\"\n",
        "correct_spellings(text)"
      ],
      "execution_count": null,
      "outputs": [
        {
          "data": {
            "text/plain": [
              "'correct me please'"
            ]
          },
          "execution_count": 31,
          "metadata": {},
          "output_type": "execute_result"
        }
      ]
    },
    {
      "cell_type": "code",
      "metadata": {
        "id": "N88oat8EARNV"
      },
      "source": [
        "#df['text']=df['text'].apply(lambda x : correct_spellings(x)#)"
      ],
      "execution_count": null,
      "outputs": []
    },
    {
      "cell_type": "markdown",
      "metadata": {
        "id": "JhKb2mlXARNW"
      },
      "source": [
        "## GloVe for Vectorization"
      ]
    },
    {
      "cell_type": "markdown",
      "metadata": {
        "id": "eZbd_fKdARNW"
      },
      "source": [
        "Here we will use GloVe pretrained corpus model to represent our words.It is available in 3 varieties :50D ,100D and 200 Dimentional.We will try 100 D here."
      ]
    },
    {
      "cell_type": "code",
      "metadata": {
        "id": "UdXJ93iRARNW"
      },
      "source": [
        "\n",
        "def create_corpus(df):\n",
        "    corpus=[]\n",
        "    for tweet in tqdm(df['text']):\n",
        "        words=[word.lower() for word in word_tokenize(tweet) if((word.isalpha()==1) & (word not in stop))]\n",
        "        corpus.append(words)\n",
        "    return corpus\n",
        "        \n",
        "        "
      ],
      "execution_count": null,
      "outputs": []
    },
    {
      "cell_type": "code",
      "metadata": {
        "id": "dFXRvWDNARNW",
        "outputId": "78c0437a-bec9-4829-dd6a-826cf123c7dd"
      },
      "source": [
        "corpus=create_corpus(df)"
      ],
      "execution_count": null,
      "outputs": [
        {
          "name": "stderr",
          "output_type": "stream",
          "text": [
            "100%|██████████| 10876/10876 [00:03<00:00, 3606.29it/s]\n"
          ]
        }
      ]
    },
    {
      "cell_type": "code",
      "metadata": {
        "id": "ERpS6HioARNX"
      },
      "source": [
        "embedding_dict={}\n",
        "with open('../input/glove-global-vectors-for-word-representation/glove.6B.100d.txt','r') as f:\n",
        "    for line in f:\n",
        "        values=line.split()\n",
        "        word=values[0]\n",
        "        vectors=np.asarray(values[1:],'float32')\n",
        "        embedding_dict[word]=vectors\n",
        "f.close()"
      ],
      "execution_count": null,
      "outputs": []
    },
    {
      "cell_type": "code",
      "metadata": {
        "id": "R3h1NC3mARNX"
      },
      "source": [
        "MAX_LEN=50\n",
        "tokenizer_obj=Tokenizer()\n",
        "tokenizer_obj.fit_on_texts(corpus)\n",
        "sequences=tokenizer_obj.texts_to_sequences(corpus)\n",
        "\n",
        "tweet_pad=pad_sequences(sequences,maxlen=MAX_LEN,truncating='post',padding='post')"
      ],
      "execution_count": null,
      "outputs": []
    },
    {
      "cell_type": "code",
      "metadata": {
        "id": "Due3ZTuZARNY",
        "outputId": "41da44f8-2dc4-40e6-d13a-4d0c6e7385b4"
      },
      "source": [
        "word_index=tokenizer_obj.word_index\n",
        "print('Number of unique words:',len(word_index))"
      ],
      "execution_count": null,
      "outputs": [
        {
          "name": "stdout",
          "output_type": "stream",
          "text": [
            "Number of unique words: 20342\n"
          ]
        }
      ]
    },
    {
      "cell_type": "code",
      "metadata": {
        "id": "0F1cfSorARNY",
        "outputId": "ac3449a3-67f1-454c-cb70-79815dce7f87"
      },
      "source": [
        "num_words=len(word_index)+1\n",
        "embedding_matrix=np.zeros((num_words,100))\n",
        "\n",
        "for word,i in tqdm(word_index.items()):\n",
        "    if i > num_words:\n",
        "        continue\n",
        "    \n",
        "    emb_vec=embedding_dict.get(word)\n",
        "    if emb_vec is not None:\n",
        "        embedding_matrix[i]=emb_vec\n",
        "            "
      ],
      "execution_count": null,
      "outputs": [
        {
          "name": "stderr",
          "output_type": "stream",
          "text": [
            "100%|██████████| 20342/20342 [00:00<00:00, 268298.50it/s]\n"
          ]
        }
      ]
    },
    {
      "cell_type": "markdown",
      "metadata": {
        "id": "6_pqInxiARNZ"
      },
      "source": [
        "## Baseline Model"
      ]
    },
    {
      "cell_type": "code",
      "metadata": {
        "id": "XUMeAo13ARNZ"
      },
      "source": [
        "model=Sequential()\n",
        "\n",
        "embedding=Embedding(num_words,100,embeddings_initializer=Constant(embedding_matrix),\n",
        "                   input_length=MAX_LEN,trainable=False)\n",
        "\n",
        "model.add(embedding)\n",
        "model.add(SpatialDropout1D(0.2))\n",
        "model.add(LSTM(64, dropout=0.2, recurrent_dropout=0.2))\n",
        "model.add(Dense(1, activation='sigmoid'))\n",
        "\n",
        "\n",
        "optimzer=Adam(learning_rate=1e-5)\n",
        "\n",
        "model.compile(loss='binary_crossentropy',optimizer=optimzer,metrics=['accuracy'])\n",
        "\n"
      ],
      "execution_count": null,
      "outputs": []
    },
    {
      "cell_type": "code",
      "metadata": {
        "id": "sKMPM5kgARNa",
        "outputId": "692eb896-b4b7-4c41-9ca0-bfa9d9d054f3"
      },
      "source": [
        "model.summary()"
      ],
      "execution_count": null,
      "outputs": [
        {
          "name": "stdout",
          "output_type": "stream",
          "text": [
            "Model: \"sequential_1\"\n",
            "_________________________________________________________________\n",
            "Layer (type)                 Output Shape              Param #   \n",
            "=================================================================\n",
            "embedding_1 (Embedding)      (None, 50, 100)           2034300   \n",
            "_________________________________________________________________\n",
            "spatial_dropout1d_1 (Spatial (None, 50, 100)           0         \n",
            "_________________________________________________________________\n",
            "lstm_1 (LSTM)                (None, 64)                42240     \n",
            "_________________________________________________________________\n",
            "dense_1 (Dense)              (None, 1)                 65        \n",
            "=================================================================\n",
            "Total params: 2,076,605\n",
            "Trainable params: 42,305\n",
            "Non-trainable params: 2,034,300\n",
            "_________________________________________________________________\n"
          ]
        }
      ]
    },
    {
      "cell_type": "code",
      "metadata": {
        "id": "UQUTitr9ARNa"
      },
      "source": [
        "train=tweet_pad[:tweet.shape[0]]\n",
        "test=tweet_pad[tweet.shape[0]:]"
      ],
      "execution_count": null,
      "outputs": []
    },
    {
      "cell_type": "code",
      "metadata": {
        "id": "2pyz2SZ5ARNb",
        "outputId": "7b264c7f-d4ae-439f-c337-f89ec38e934c"
      },
      "source": [
        "X_train,X_test,y_train,y_test=train_test_split(train,tweet['target'].values,test_size=0.15)\n",
        "print('Shape of train',X_train.shape)\n",
        "print(\"Shape of Validation \",X_test.shape)"
      ],
      "execution_count": null,
      "outputs": [
        {
          "name": "stdout",
          "output_type": "stream",
          "text": [
            "Shape of train (6471, 50)\n",
            "Shape of Validation  (1142, 50)\n"
          ]
        }
      ]
    },
    {
      "cell_type": "code",
      "metadata": {
        "id": "05TzedHQARNc",
        "outputId": "ef7b410f-6409-43c8-8f6c-de0078e04277"
      },
      "source": [
        "history=model.fit(X_train,y_train,batch_size=4,epochs=15,validation_data=(X_test,y_test),verbose=2)"
      ],
      "execution_count": null,
      "outputs": [
        {
          "name": "stdout",
          "output_type": "stream",
          "text": [
            "Train on 6471 samples, validate on 1142 samples\n",
            "Epoch 1/15\n",
            " - 44s - loss: 0.6913 - accuracy: 0.5705 - val_loss: 0.6890 - val_accuracy: 0.5630\n",
            "Epoch 2/15\n",
            " - 42s - loss: 0.6602 - accuracy: 0.6007 - val_loss: 0.5953 - val_accuracy: 0.7426\n",
            "Epoch 3/15\n",
            " - 43s - loss: 0.5947 - accuracy: 0.7204 - val_loss: 0.5436 - val_accuracy: 0.7662\n",
            "Epoch 4/15\n",
            " - 43s - loss: 0.5744 - accuracy: 0.7362 - val_loss: 0.5251 - val_accuracy: 0.7680\n",
            "Epoch 5/15\n",
            " - 41s - loss: 0.5555 - accuracy: 0.7515 - val_loss: 0.5195 - val_accuracy: 0.7785\n",
            "Epoch 6/15\n",
            " - 41s - loss: 0.5587 - accuracy: 0.7464 - val_loss: 0.5105 - val_accuracy: 0.7750\n",
            "Epoch 7/15\n",
            " - 41s - loss: 0.5512 - accuracy: 0.7490 - val_loss: 0.5068 - val_accuracy: 0.7750\n",
            "Epoch 8/15\n",
            " - 41s - loss: 0.5397 - accuracy: 0.7589 - val_loss: 0.5045 - val_accuracy: 0.7793\n",
            "Epoch 9/15\n",
            " - 41s - loss: 0.5399 - accuracy: 0.7592 - val_loss: 0.5026 - val_accuracy: 0.7828\n",
            "Epoch 10/15\n",
            " - 41s - loss: 0.5391 - accuracy: 0.7561 - val_loss: 0.4991 - val_accuracy: 0.7846\n",
            "Epoch 11/15\n",
            " - 40s - loss: 0.5413 - accuracy: 0.7612 - val_loss: 0.4956 - val_accuracy: 0.7837\n",
            "Epoch 12/15\n",
            " - 41s - loss: 0.5347 - accuracy: 0.7594 - val_loss: 0.4941 - val_accuracy: 0.7820\n",
            "Epoch 13/15\n",
            " - 41s - loss: 0.5351 - accuracy: 0.7606 - val_loss: 0.4923 - val_accuracy: 0.7828\n",
            "Epoch 14/15\n",
            " - 42s - loss: 0.5326 - accuracy: 0.7637 - val_loss: 0.4908 - val_accuracy: 0.7828\n",
            "Epoch 15/15\n",
            " - 42s - loss: 0.5307 - accuracy: 0.7665 - val_loss: 0.4885 - val_accuracy: 0.7863\n"
          ]
        }
      ]
    },
    {
      "cell_type": "markdown",
      "metadata": {
        "id": "coC3Zi4TK7Lh"
      },
      "source": [
        "After the 15th Epoch we have the got the accuracy as 0.7665 and val_loss as 0.4885. \n",
        "\n",
        "Since, the value of val_loss is gradually decreasing this proves that our model is performing good and that it is has a good accuracy."
      ]
    },
    {
      "cell_type": "markdown",
      "metadata": {
        "id": "gYz_K9OsARNc"
      },
      "source": [
        "## Making our submission"
      ]
    },
    {
      "cell_type": "markdown",
      "metadata": {
        "id": "qveZCvLLLayS"
      },
      "source": [
        "  Various classification models have been successfully applied on the given dataset...\n",
        "  \n",
        "  The different models can be evaluated using F1 between the predicted and expected answers\n",
        "  \n",
        "  F1 is calculated as follows:\n",
        "  \n",
        "  ![image](https://user-images.githubusercontent.com/62233992/142583358-6bf8f257-811e-436a-ab5e-2558987893d2.png)\n",
        "\n",
        "  where, \n",
        "  \n",
        "  ![image](https://user-images.githubusercontent.com/62233992/142583387-3fc69aea-e772-4a2a-bcea-c6e515d43aaa.png)\n",
        "  \n",
        "  \n",
        "      - True Positive [TP] = your prediction is 1, and the ground truth is also 1 - you predicted a positive and that's true!\n",
        "      - False Positive [FP] = your prediction is 1, and the ground truth is 0 - you predicted a positive, and that's false.\n",
        "      - False Negative [FN] = your prediction is 0, and the ground truth is 1 - you predicted a negative, and that's false.\n",
        "  \n",
        "  The final results are predicted using our Model because of it has the best accuracy of 0.7665 which is pretty good."
      ]
    },
    {
      "cell_type": "code",
      "metadata": {
        "id": "MiW2-xwaARNc"
      },
      "source": [
        "sample_sub=pd.read_csv('../input/nlp-getting-started/sample_submission.csv')"
      ],
      "execution_count": null,
      "outputs": []
    },
    {
      "cell_type": "code",
      "metadata": {
        "id": "Aq1L79iOARNd"
      },
      "source": [
        "y_pre=model.predict(test)\n",
        "y_pre=np.round(y_pre).astype(int).reshape(3263)\n",
        "sub=pd.DataFrame({'id':sample_sub['id'].values.tolist(),'target':y_pre})\n",
        "sub.to_csv('submission.csv',index=False)\n"
      ],
      "execution_count": null,
      "outputs": []
    },
    {
      "cell_type": "markdown",
      "metadata": {
        "id": "qJGw6ti4LlAm"
      },
      "source": [
        "The submission dataframe is as given below and contains all for each ID in the test set, we must predict 1 if the tweet is describing a real disaster, and 0 otherwise. Our submission dataframe is:"
      ]
    },
    {
      "cell_type": "code",
      "metadata": {
        "id": "3ikUv43qARNd",
        "outputId": "8ed7e2ff-13c4-48e1-88db-69173dc4d36e"
      },
      "source": [
        "sub.head()"
      ],
      "execution_count": null,
      "outputs": [
        {
          "data": {
            "text/html": [
              "<div>\n",
              "<style scoped>\n",
              "    .dataframe tbody tr th:only-of-type {\n",
              "        vertical-align: middle;\n",
              "    }\n",
              "\n",
              "    .dataframe tbody tr th {\n",
              "        vertical-align: top;\n",
              "    }\n",
              "\n",
              "    .dataframe thead th {\n",
              "        text-align: right;\n",
              "    }\n",
              "</style>\n",
              "<table border=\"1\" class=\"dataframe\">\n",
              "  <thead>\n",
              "    <tr style=\"text-align: right;\">\n",
              "      <th></th>\n",
              "      <th>id</th>\n",
              "      <th>target</th>\n",
              "    </tr>\n",
              "  </thead>\n",
              "  <tbody>\n",
              "    <tr>\n",
              "      <th>0</th>\n",
              "      <td>0</td>\n",
              "      <td>1</td>\n",
              "    </tr>\n",
              "    <tr>\n",
              "      <th>1</th>\n",
              "      <td>2</td>\n",
              "      <td>1</td>\n",
              "    </tr>\n",
              "    <tr>\n",
              "      <th>2</th>\n",
              "      <td>3</td>\n",
              "      <td>1</td>\n",
              "    </tr>\n",
              "    <tr>\n",
              "      <th>3</th>\n",
              "      <td>9</td>\n",
              "      <td>1</td>\n",
              "    </tr>\n",
              "    <tr>\n",
              "      <th>4</th>\n",
              "      <td>11</td>\n",
              "      <td>1</td>\n",
              "    </tr>\n",
              "  </tbody>\n",
              "</table>\n",
              "</div>"
            ],
            "text/plain": [
              "   id  target\n",
              "0   0       1\n",
              "1   2       1\n",
              "2   3       1\n",
              "3   9       1\n",
              "4  11       1"
            ]
          },
          "execution_count": 46,
          "metadata": {},
          "output_type": "execute_result"
        }
      ]
    },
    {
      "cell_type": "markdown",
      "metadata": {
        "id": "FTR6puppm95k"
      },
      "source": [
        "## Conclusion\n",
        "\n",
        "Various classification models have been successfully applied on the given dataset...\n",
        "\n",
        "The different models can be evaluated using F1 between the predicted and expected answers\n",
        "\n",
        "F1 is calculated as follows:\n",
        "\n",
        "  ![image](https://user-images.githubusercontent.com/62233992/142583358-6bf8f257-811e-436a-ab5e-2558987893d2.png)\n",
        "\n",
        "* The final results are predicted using our Model because of it has the best accuracy of 0.7665 which is pretty good.\n",
        "\n",
        "* The submission dataframe is as given below and contains all for each ID in the test set, we must predict 1 if the tweet is describing a real disaster, and 0 otherwise. \n",
        "\n",
        "* Our Submission contains the following things:\n",
        "\n",
        "![image](https://user-images.githubusercontent.com/62233992/142584758-1d13c06a-4091-4af8-b952-3fe73b3be5a4.png)\n",
        "\n",
        "\n",
        "\n",
        "\n"
      ]
    },
    {
      "cell_type": "code",
      "metadata": {
        "id": "bFmOOY2koOcS"
      },
      "source": [
        ""
      ],
      "execution_count": null,
      "outputs": []
    }
  ]
}