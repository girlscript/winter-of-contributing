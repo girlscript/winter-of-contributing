{
 "cells": [
  {
   "cell_type": "markdown",
   "id": "58aac613",
   "metadata": {},
   "source": [
    "# Automated-Essay-Grading"
   ]
  },
  {
   "cell_type": "markdown",
   "id": "582ac6bd",
   "metadata": {},
   "source": [
    "Essays are crucial testing tools for assessing academic achievement, integration of ideas and ability to recall, but\n",
    "are expensive and time consuming to grade manually. Manual grading of essays takes up a signi\u001c",
    "cant amount of\n",
    "instructors' valuable time, and hence is an expensive process. Automated grading, if proven to match or exceed the\n",
    "reliability of human graders, will signi\u001c",
    "cantly reduce costs. The purpose of this project is to implement and train\n",
    "machine learning algorithms to automatically assess and grade essay responses. These grades from the automatic\n",
    "grading system should match the human grades consistently. Currently, automated grading is used instead of second\n",
    "graders in some high-stakes applications, and as the only grading scheme in low stakes evaluation."
   ]
  },
  {
   "cell_type": "code",
   "execution_count": 3,
   "id": "83615f00",
   "metadata": {},
   "outputs": [],
   "source": [
    "import nltk\n",
    "import pandas as pd\n",
    "import numpy as np\n",
    "import matplotlib.pyplot as plt\n",
    "from nltk.stem import WordNetLemmatizer\n",
    "from nltk.corpus import wordnet\n",
    "import re, collections\n",
    "from collections import defaultdict\n",
    "from sklearn.feature_extraction.text import CountVectorizer\n",
    "from sklearn.metrics import mean_squared_error, r2_score, cohen_kappa_score\n",
    "from sklearn.model_selection import train_test_split\n",
    "from sklearn.linear_model import LinearRegression, Ridge, Lasso\n",
    "from sklearn.svm import SVR\n",
    "from sklearn.ensemble import RandomForestRegressor\n",
    "from sklearn.ensemble import AdaBoostRegressor\n",
    "from spellchecker import SpellChecker\n",
    "from nltk.tokenize import word_tokenize\n",
    "import string\n",
    "from sklearn.metrics import classification_report\n",
    "from sklearn import svm\n",
    "from sklearn.model_selection import cross_val_score\n",
    "from sklearn.metrics import classification_report\n",
    "from sklearn.preprocessing import MinMaxScaler\n",
    "import seaborn as sns\n",
    "import matplotlib.pyplot as plt\n",
    "from matplotlib import rcParams"
   ]
  },
  {
   "cell_type": "markdown",
   "id": "2326f930",
   "metadata": {},
   "source": [
    "## Loading data"
   ]
  },
  {
   "cell_type": "code",
   "execution_count": 5,
   "id": "3aa4b8d2",
   "metadata": {},
   "outputs": [
    {
     "data": {
      "text/html": [
       "<div>\n",
       "<style scoped>\n",
       "    .dataframe tbody tr th:only-of-type {\n",
       "        vertical-align: middle;\n",
       "    }\n",
       "\n",
       "    .dataframe tbody tr th {\n",
       "        vertical-align: top;\n",
       "    }\n",
       "\n",
       "    .dataframe thead th {\n",
       "        text-align: right;\n",
       "    }\n",
       "</style>\n",
       "<table border=\"1\" class=\"dataframe\">\n",
       "  <thead>\n",
       "    <tr style=\"text-align: right;\">\n",
       "      <th></th>\n",
       "      <th>essay_id</th>\n",
       "      <th>essay_set</th>\n",
       "      <th>rater1_domain1</th>\n",
       "      <th>rater2_domain1</th>\n",
       "      <th>rater3_domain1</th>\n",
       "      <th>domain1_score</th>\n",
       "      <th>rater1_domain2</th>\n",
       "      <th>rater2_domain2</th>\n",
       "      <th>domain2_score</th>\n",
       "      <th>rater1_trait1</th>\n",
       "      <th>...</th>\n",
       "      <th>rater2_trait3</th>\n",
       "      <th>rater2_trait4</th>\n",
       "      <th>rater2_trait5</th>\n",
       "      <th>rater2_trait6</th>\n",
       "      <th>rater3_trait1</th>\n",
       "      <th>rater3_trait2</th>\n",
       "      <th>rater3_trait3</th>\n",
       "      <th>rater3_trait4</th>\n",
       "      <th>rater3_trait5</th>\n",
       "      <th>rater3_trait6</th>\n",
       "    </tr>\n",
       "  </thead>\n",
       "  <tbody>\n",
       "    <tr>\n",
       "      <th>count</th>\n",
       "      <td>12976.000000</td>\n",
       "      <td>12976.000000</td>\n",
       "      <td>12976.000000</td>\n",
       "      <td>12976.000000</td>\n",
       "      <td>128.000000</td>\n",
       "      <td>12976.000000</td>\n",
       "      <td>1800.000000</td>\n",
       "      <td>1800.000000</td>\n",
       "      <td>1800.000000</td>\n",
       "      <td>2292.000000</td>\n",
       "      <td>...</td>\n",
       "      <td>2292.000000</td>\n",
       "      <td>2292.000000</td>\n",
       "      <td>723.000000</td>\n",
       "      <td>723.000000</td>\n",
       "      <td>128.000000</td>\n",
       "      <td>128.000000</td>\n",
       "      <td>128.000000</td>\n",
       "      <td>128.000000</td>\n",
       "      <td>128.000000</td>\n",
       "      <td>128.000000</td>\n",
       "    </tr>\n",
       "    <tr>\n",
       "      <th>mean</th>\n",
       "      <td>10295.395808</td>\n",
       "      <td>4.179485</td>\n",
       "      <td>4.127158</td>\n",
       "      <td>4.137408</td>\n",
       "      <td>37.828125</td>\n",
       "      <td>6.800247</td>\n",
       "      <td>3.333889</td>\n",
       "      <td>3.330556</td>\n",
       "      <td>3.333889</td>\n",
       "      <td>2.444154</td>\n",
       "      <td>...</td>\n",
       "      <td>2.635689</td>\n",
       "      <td>2.710297</td>\n",
       "      <td>3.777317</td>\n",
       "      <td>3.589212</td>\n",
       "      <td>3.945312</td>\n",
       "      <td>3.890625</td>\n",
       "      <td>4.078125</td>\n",
       "      <td>3.992188</td>\n",
       "      <td>3.843750</td>\n",
       "      <td>3.617188</td>\n",
       "    </tr>\n",
       "    <tr>\n",
       "      <th>std</th>\n",
       "      <td>6309.074105</td>\n",
       "      <td>2.136913</td>\n",
       "      <td>4.212544</td>\n",
       "      <td>4.264330</td>\n",
       "      <td>5.240829</td>\n",
       "      <td>8.970705</td>\n",
       "      <td>0.729103</td>\n",
       "      <td>0.726807</td>\n",
       "      <td>0.729103</td>\n",
       "      <td>1.211730</td>\n",
       "      <td>...</td>\n",
       "      <td>1.142566</td>\n",
       "      <td>1.045795</td>\n",
       "      <td>0.689401</td>\n",
       "      <td>0.693256</td>\n",
       "      <td>0.643668</td>\n",
       "      <td>0.630390</td>\n",
       "      <td>0.622535</td>\n",
       "      <td>0.509687</td>\n",
       "      <td>0.538845</td>\n",
       "      <td>0.603417</td>\n",
       "    </tr>\n",
       "    <tr>\n",
       "      <th>min</th>\n",
       "      <td>1.000000</td>\n",
       "      <td>1.000000</td>\n",
       "      <td>0.000000</td>\n",
       "      <td>0.000000</td>\n",
       "      <td>20.000000</td>\n",
       "      <td>0.000000</td>\n",
       "      <td>1.000000</td>\n",
       "      <td>1.000000</td>\n",
       "      <td>1.000000</td>\n",
       "      <td>0.000000</td>\n",
       "      <td>...</td>\n",
       "      <td>0.000000</td>\n",
       "      <td>0.000000</td>\n",
       "      <td>1.000000</td>\n",
       "      <td>1.000000</td>\n",
       "      <td>2.000000</td>\n",
       "      <td>2.000000</td>\n",
       "      <td>2.000000</td>\n",
       "      <td>3.000000</td>\n",
       "      <td>2.000000</td>\n",
       "      <td>2.000000</td>\n",
       "    </tr>\n",
       "    <tr>\n",
       "      <th>25%</th>\n",
       "      <td>4438.750000</td>\n",
       "      <td>2.000000</td>\n",
       "      <td>2.000000</td>\n",
       "      <td>2.000000</td>\n",
       "      <td>36.000000</td>\n",
       "      <td>2.000000</td>\n",
       "      <td>3.000000</td>\n",
       "      <td>3.000000</td>\n",
       "      <td>3.000000</td>\n",
       "      <td>2.000000</td>\n",
       "      <td>...</td>\n",
       "      <td>2.000000</td>\n",
       "      <td>2.000000</td>\n",
       "      <td>3.000000</td>\n",
       "      <td>3.000000</td>\n",
       "      <td>4.000000</td>\n",
       "      <td>4.000000</td>\n",
       "      <td>4.000000</td>\n",
       "      <td>4.000000</td>\n",
       "      <td>4.000000</td>\n",
       "      <td>3.000000</td>\n",
       "    </tr>\n",
       "    <tr>\n",
       "      <th>50%</th>\n",
       "      <td>10044.500000</td>\n",
       "      <td>4.000000</td>\n",
       "      <td>3.000000</td>\n",
       "      <td>3.000000</td>\n",
       "      <td>40.000000</td>\n",
       "      <td>3.000000</td>\n",
       "      <td>3.000000</td>\n",
       "      <td>3.000000</td>\n",
       "      <td>3.000000</td>\n",
       "      <td>2.000000</td>\n",
       "      <td>...</td>\n",
       "      <td>2.000000</td>\n",
       "      <td>3.000000</td>\n",
       "      <td>4.000000</td>\n",
       "      <td>4.000000</td>\n",
       "      <td>4.000000</td>\n",
       "      <td>4.000000</td>\n",
       "      <td>4.000000</td>\n",
       "      <td>4.000000</td>\n",
       "      <td>4.000000</td>\n",
       "      <td>4.000000</td>\n",
       "    </tr>\n",
       "    <tr>\n",
       "      <th>75%</th>\n",
       "      <td>15681.250000</td>\n",
       "      <td>6.000000</td>\n",
       "      <td>4.000000</td>\n",
       "      <td>4.000000</td>\n",
       "      <td>40.000000</td>\n",
       "      <td>8.000000</td>\n",
       "      <td>4.000000</td>\n",
       "      <td>4.000000</td>\n",
       "      <td>4.000000</td>\n",
       "      <td>3.000000</td>\n",
       "      <td>...</td>\n",
       "      <td>4.000000</td>\n",
       "      <td>3.000000</td>\n",
       "      <td>4.000000</td>\n",
       "      <td>4.000000</td>\n",
       "      <td>4.000000</td>\n",
       "      <td>4.000000</td>\n",
       "      <td>4.000000</td>\n",
       "      <td>4.000000</td>\n",
       "      <td>4.000000</td>\n",
       "      <td>4.000000</td>\n",
       "    </tr>\n",
       "    <tr>\n",
       "      <th>max</th>\n",
       "      <td>21633.000000</td>\n",
       "      <td>8.000000</td>\n",
       "      <td>30.000000</td>\n",
       "      <td>30.000000</td>\n",
       "      <td>50.000000</td>\n",
       "      <td>60.000000</td>\n",
       "      <td>4.000000</td>\n",
       "      <td>4.000000</td>\n",
       "      <td>4.000000</td>\n",
       "      <td>6.000000</td>\n",
       "      <td>...</td>\n",
       "      <td>6.000000</td>\n",
       "      <td>6.000000</td>\n",
       "      <td>6.000000</td>\n",
       "      <td>6.000000</td>\n",
       "      <td>6.000000</td>\n",
       "      <td>6.000000</td>\n",
       "      <td>6.000000</td>\n",
       "      <td>6.000000</td>\n",
       "      <td>5.000000</td>\n",
       "      <td>5.000000</td>\n",
       "    </tr>\n",
       "  </tbody>\n",
       "</table>\n",
       "<p>8 rows × 27 columns</p>\n",
       "</div>"
      ],
      "text/plain": [
       "           essay_id     essay_set  rater1_domain1  rater2_domain1  \\\n",
       "count  12976.000000  12976.000000    12976.000000    12976.000000   \n",
       "mean   10295.395808      4.179485        4.127158        4.137408   \n",
       "std     6309.074105      2.136913        4.212544        4.264330   \n",
       "min        1.000000      1.000000        0.000000        0.000000   \n",
       "25%     4438.750000      2.000000        2.000000        2.000000   \n",
       "50%    10044.500000      4.000000        3.000000        3.000000   \n",
       "75%    15681.250000      6.000000        4.000000        4.000000   \n",
       "max    21633.000000      8.000000       30.000000       30.000000   \n",
       "\n",
       "       rater3_domain1  domain1_score  rater1_domain2  rater2_domain2  \\\n",
       "count      128.000000   12976.000000     1800.000000     1800.000000   \n",
       "mean        37.828125       6.800247        3.333889        3.330556   \n",
       "std          5.240829       8.970705        0.729103        0.726807   \n",
       "min         20.000000       0.000000        1.000000        1.000000   \n",
       "25%         36.000000       2.000000        3.000000        3.000000   \n",
       "50%         40.000000       3.000000        3.000000        3.000000   \n",
       "75%         40.000000       8.000000        4.000000        4.000000   \n",
       "max         50.000000      60.000000        4.000000        4.000000   \n",
       "\n",
       "       domain2_score  rater1_trait1  ...  rater2_trait3  rater2_trait4  \\\n",
       "count    1800.000000    2292.000000  ...    2292.000000    2292.000000   \n",
       "mean        3.333889       2.444154  ...       2.635689       2.710297   \n",
       "std         0.729103       1.211730  ...       1.142566       1.045795   \n",
       "min         1.000000       0.000000  ...       0.000000       0.000000   \n",
       "25%         3.000000       2.000000  ...       2.000000       2.000000   \n",
       "50%         3.000000       2.000000  ...       2.000000       3.000000   \n",
       "75%         4.000000       3.000000  ...       4.000000       3.000000   \n",
       "max         4.000000       6.000000  ...       6.000000       6.000000   \n",
       "\n",
       "       rater2_trait5  rater2_trait6  rater3_trait1  rater3_trait2  \\\n",
       "count     723.000000     723.000000     128.000000     128.000000   \n",
       "mean        3.777317       3.589212       3.945312       3.890625   \n",
       "std         0.689401       0.693256       0.643668       0.630390   \n",
       "min         1.000000       1.000000       2.000000       2.000000   \n",
       "25%         3.000000       3.000000       4.000000       4.000000   \n",
       "50%         4.000000       4.000000       4.000000       4.000000   \n",
       "75%         4.000000       4.000000       4.000000       4.000000   \n",
       "max         6.000000       6.000000       6.000000       6.000000   \n",
       "\n",
       "       rater3_trait3  rater3_trait4  rater3_trait5  rater3_trait6  \n",
       "count     128.000000     128.000000     128.000000     128.000000  \n",
       "mean        4.078125       3.992188       3.843750       3.617188  \n",
       "std         0.622535       0.509687       0.538845       0.603417  \n",
       "min         2.000000       3.000000       2.000000       2.000000  \n",
       "25%         4.000000       4.000000       4.000000       3.000000  \n",
       "50%         4.000000       4.000000       4.000000       4.000000  \n",
       "75%         4.000000       4.000000       4.000000       4.000000  \n",
       "max         6.000000       6.000000       5.000000       5.000000  \n",
       "\n",
       "[8 rows x 27 columns]"
      ]
     },
     "execution_count": 5,
     "metadata": {},
     "output_type": "execute_result"
    }
   ],
   "source": [
    "#dataframe = pd.read_csv('all_essaysets.csv', encoding = 'latin-1')\n",
    "dataframe = pd.read_csv('training.tsv.txt', encoding = 'latin-1', sep='\\t')\n",
    "dataframe.describe()"
   ]
  },
  {
   "cell_type": "code",
   "execution_count": 6,
   "id": "f89cdf74",
   "metadata": {},
   "outputs": [
    {
     "data": {
      "text/html": [
       "<div>\n",
       "<style scoped>\n",
       "    .dataframe tbody tr th:only-of-type {\n",
       "        vertical-align: middle;\n",
       "    }\n",
       "\n",
       "    .dataframe tbody tr th {\n",
       "        vertical-align: top;\n",
       "    }\n",
       "\n",
       "    .dataframe thead th {\n",
       "        text-align: right;\n",
       "    }\n",
       "</style>\n",
       "<table border=\"1\" class=\"dataframe\">\n",
       "  <thead>\n",
       "    <tr style=\"text-align: right;\">\n",
       "      <th></th>\n",
       "      <th>essay_id</th>\n",
       "      <th>essay_set</th>\n",
       "      <th>essay</th>\n",
       "      <th>rater1_domain1</th>\n",
       "      <th>rater2_domain1</th>\n",
       "      <th>rater3_domain1</th>\n",
       "      <th>domain1_score</th>\n",
       "      <th>rater1_domain2</th>\n",
       "      <th>rater2_domain2</th>\n",
       "      <th>domain2_score</th>\n",
       "      <th>...</th>\n",
       "      <th>rater2_trait3</th>\n",
       "      <th>rater2_trait4</th>\n",
       "      <th>rater2_trait5</th>\n",
       "      <th>rater2_trait6</th>\n",
       "      <th>rater3_trait1</th>\n",
       "      <th>rater3_trait2</th>\n",
       "      <th>rater3_trait3</th>\n",
       "      <th>rater3_trait4</th>\n",
       "      <th>rater3_trait5</th>\n",
       "      <th>rater3_trait6</th>\n",
       "    </tr>\n",
       "  </thead>\n",
       "  <tbody>\n",
       "    <tr>\n",
       "      <th>0</th>\n",
       "      <td>1</td>\n",
       "      <td>1</td>\n",
       "      <td>Dear local newspaper, I think effects computer...</td>\n",
       "      <td>4</td>\n",
       "      <td>4</td>\n",
       "      <td>NaN</td>\n",
       "      <td>8</td>\n",
       "      <td>NaN</td>\n",
       "      <td>NaN</td>\n",
       "      <td>NaN</td>\n",
       "      <td>...</td>\n",
       "      <td>NaN</td>\n",
       "      <td>NaN</td>\n",
       "      <td>NaN</td>\n",
       "      <td>NaN</td>\n",
       "      <td>NaN</td>\n",
       "      <td>NaN</td>\n",
       "      <td>NaN</td>\n",
       "      <td>NaN</td>\n",
       "      <td>NaN</td>\n",
       "      <td>NaN</td>\n",
       "    </tr>\n",
       "    <tr>\n",
       "      <th>1</th>\n",
       "      <td>2</td>\n",
       "      <td>1</td>\n",
       "      <td>Dear @CAPS1 @CAPS2, I believe that using compu...</td>\n",
       "      <td>5</td>\n",
       "      <td>4</td>\n",
       "      <td>NaN</td>\n",
       "      <td>9</td>\n",
       "      <td>NaN</td>\n",
       "      <td>NaN</td>\n",
       "      <td>NaN</td>\n",
       "      <td>...</td>\n",
       "      <td>NaN</td>\n",
       "      <td>NaN</td>\n",
       "      <td>NaN</td>\n",
       "      <td>NaN</td>\n",
       "      <td>NaN</td>\n",
       "      <td>NaN</td>\n",
       "      <td>NaN</td>\n",
       "      <td>NaN</td>\n",
       "      <td>NaN</td>\n",
       "      <td>NaN</td>\n",
       "    </tr>\n",
       "    <tr>\n",
       "      <th>2</th>\n",
       "      <td>3</td>\n",
       "      <td>1</td>\n",
       "      <td>Dear, @CAPS1 @CAPS2 @CAPS3 More and more peopl...</td>\n",
       "      <td>4</td>\n",
       "      <td>3</td>\n",
       "      <td>NaN</td>\n",
       "      <td>7</td>\n",
       "      <td>NaN</td>\n",
       "      <td>NaN</td>\n",
       "      <td>NaN</td>\n",
       "      <td>...</td>\n",
       "      <td>NaN</td>\n",
       "      <td>NaN</td>\n",
       "      <td>NaN</td>\n",
       "      <td>NaN</td>\n",
       "      <td>NaN</td>\n",
       "      <td>NaN</td>\n",
       "      <td>NaN</td>\n",
       "      <td>NaN</td>\n",
       "      <td>NaN</td>\n",
       "      <td>NaN</td>\n",
       "    </tr>\n",
       "    <tr>\n",
       "      <th>3</th>\n",
       "      <td>4</td>\n",
       "      <td>1</td>\n",
       "      <td>Dear Local Newspaper, @CAPS1 I have found that...</td>\n",
       "      <td>5</td>\n",
       "      <td>5</td>\n",
       "      <td>NaN</td>\n",
       "      <td>10</td>\n",
       "      <td>NaN</td>\n",
       "      <td>NaN</td>\n",
       "      <td>NaN</td>\n",
       "      <td>...</td>\n",
       "      <td>NaN</td>\n",
       "      <td>NaN</td>\n",
       "      <td>NaN</td>\n",
       "      <td>NaN</td>\n",
       "      <td>NaN</td>\n",
       "      <td>NaN</td>\n",
       "      <td>NaN</td>\n",
       "      <td>NaN</td>\n",
       "      <td>NaN</td>\n",
       "      <td>NaN</td>\n",
       "    </tr>\n",
       "    <tr>\n",
       "      <th>4</th>\n",
       "      <td>5</td>\n",
       "      <td>1</td>\n",
       "      <td>Dear @LOCATION1, I know having computers has a...</td>\n",
       "      <td>4</td>\n",
       "      <td>4</td>\n",
       "      <td>NaN</td>\n",
       "      <td>8</td>\n",
       "      <td>NaN</td>\n",
       "      <td>NaN</td>\n",
       "      <td>NaN</td>\n",
       "      <td>...</td>\n",
       "      <td>NaN</td>\n",
       "      <td>NaN</td>\n",
       "      <td>NaN</td>\n",
       "      <td>NaN</td>\n",
       "      <td>NaN</td>\n",
       "      <td>NaN</td>\n",
       "      <td>NaN</td>\n",
       "      <td>NaN</td>\n",
       "      <td>NaN</td>\n",
       "      <td>NaN</td>\n",
       "    </tr>\n",
       "  </tbody>\n",
       "</table>\n",
       "<p>5 rows × 28 columns</p>\n",
       "</div>"
      ],
      "text/plain": [
       "   essay_id  essay_set                                              essay  \\\n",
       "0         1          1  Dear local newspaper, I think effects computer...   \n",
       "1         2          1  Dear @CAPS1 @CAPS2, I believe that using compu...   \n",
       "2         3          1  Dear, @CAPS1 @CAPS2 @CAPS3 More and more peopl...   \n",
       "3         4          1  Dear Local Newspaper, @CAPS1 I have found that...   \n",
       "4         5          1  Dear @LOCATION1, I know having computers has a...   \n",
       "\n",
       "   rater1_domain1  rater2_domain1  rater3_domain1  domain1_score  \\\n",
       "0               4               4             NaN              8   \n",
       "1               5               4             NaN              9   \n",
       "2               4               3             NaN              7   \n",
       "3               5               5             NaN             10   \n",
       "4               4               4             NaN              8   \n",
       "\n",
       "   rater1_domain2  rater2_domain2  domain2_score  ...  rater2_trait3  \\\n",
       "0             NaN             NaN            NaN  ...            NaN   \n",
       "1             NaN             NaN            NaN  ...            NaN   \n",
       "2             NaN             NaN            NaN  ...            NaN   \n",
       "3             NaN             NaN            NaN  ...            NaN   \n",
       "4             NaN             NaN            NaN  ...            NaN   \n",
       "\n",
       "   rater2_trait4  rater2_trait5  rater2_trait6  rater3_trait1  rater3_trait2  \\\n",
       "0            NaN            NaN            NaN            NaN            NaN   \n",
       "1            NaN            NaN            NaN            NaN            NaN   \n",
       "2            NaN            NaN            NaN            NaN            NaN   \n",
       "3            NaN            NaN            NaN            NaN            NaN   \n",
       "4            NaN            NaN            NaN            NaN            NaN   \n",
       "\n",
       "   rater3_trait3  rater3_trait4  rater3_trait5  rater3_trait6  \n",
       "0            NaN            NaN            NaN            NaN  \n",
       "1            NaN            NaN            NaN            NaN  \n",
       "2            NaN            NaN            NaN            NaN  \n",
       "3            NaN            NaN            NaN            NaN  \n",
       "4            NaN            NaN            NaN            NaN  \n",
       "\n",
       "[5 rows x 28 columns]"
      ]
     },
     "execution_count": 6,
     "metadata": {},
     "output_type": "execute_result"
    }
   ],
   "source": [
    "dataframe.head()"
   ]
  },
  {
   "cell_type": "markdown",
   "id": "9805f38f",
   "metadata": {},
   "source": [
    "## Methods"
   ]
  },
  {
   "cell_type": "code",
   "execution_count": 7,
   "id": "37cff436",
   "metadata": {},
   "outputs": [],
   "source": [
    "# selecting which set to be used 1-8\n",
    "# in order to combine them all assign set number to 9\n",
    "def select_set(dataframe,setNumber):\n",
    "    if setNumber == 9:\n",
    "        dataframe2 = dataframe[dataframe.essay_set ==1]\n",
    "        texts = dataframe2['essay']\n",
    "        scores = dataframe2['domain1_score']\n",
    "        scores = scores.apply(lambda x: (x*3)/scores.max())\n",
    "        for i in range(1,9):\n",
    "            dataframe2 = dataframe[dataframe.essay_set == i]\n",
    "            texts = texts.append(dataframe2['essay'])\n",
    "            s = dataframe2['domain1_score']\n",
    "            s = s.apply(lambda x: (x*3)/s.max())\n",
    "            scores = scores.append(s)\n",
    "    else:\n",
    "        dataframe2 = dataframe[dataframe.essay_set ==setNumber]\n",
    "        texts = dataframe2['essay']\n",
    "        scores = dataframe2['domain1_score']\n",
    "        scores = scores.apply(lambda x: (x*3)/scores.max())\n",
    "    return texts, scores"
   ]
  },
  {
   "cell_type": "code",
   "execution_count": 8,
   "id": "c5384067",
   "metadata": {},
   "outputs": [],
   "source": [
    "# get histogram plot of scores and average score\n",
    "def get_hist_avg(scores,bin_count):\n",
    "    print(sum(scores)/len(scores))\n",
    "    scores.hist(bins=bin_count)"
   ]
  },
  {
   "cell_type": "code",
   "execution_count": 9,
   "id": "32a853c0",
   "metadata": {},
   "outputs": [],
   "source": [
    "#average word length for a text\n",
    "def avg_word_len(text):\n",
    "    clean_essay = re.sub(r'\\W', ' ', text)\n",
    "    words = nltk.word_tokenize(clean_essay)\n",
    "    total = 0\n",
    "    for word in words:\n",
    "        total = total + len(word)\n",
    "    average = total / len(words)\n",
    "    \n",
    "    return average\n",
    "\n",
    "# word count in a given text\n",
    "def word_count(text):\n",
    "    clean_essay = re.sub(r'\\W', ' ', text)\n",
    "    return len(nltk.word_tokenize(clean_essay))\n",
    "\n",
    "# char count in a given text\n",
    "def char_count(text):\n",
    "    return len(re.sub(r'\\s', '', str(text).lower()))\n",
    "\n",
    "# sentence count in a given text\n",
    "def sent_count(text):\n",
    "    return len(nltk.sent_tokenize(text))\n",
    "\n",
    "#tokenization of texts to sentences\n",
    "def sent_tokenize(text):\n",
    "    stripped_essay = text.strip()\n",
    "    \n",
    "    tokenizer = nltk.data.load('tokenizers/punkt/english.pickle')\n",
    "    raw_sentences = tokenizer.tokenize(stripped_essay)\n",
    "    \n",
    "    tokenized_sentences = []\n",
    "    for raw_sentence in raw_sentences:\n",
    "        if len(raw_sentence) > 0:\n",
    "            clean_sentence = re.sub(\"[^a-zA-Z0-9]\",\" \", raw_sentence)\n",
    "            tokens = nltk.word_tokenize(clean_sentence)\n",
    "            tokenized_sentences.append(tokens)\n",
    "    return tokenized_sentences\n",
    "\n",
    "\n",
    "# lemma, noun, adjective, verb, adverb count for a given text\n",
    "\n",
    "def count_lemmas(text):\n",
    "    \n",
    "    noun_count = 0\n",
    "    adj_count = 0\n",
    "    verb_count = 0\n",
    "    adv_count = 0   \n",
    "    lemmas = []\n",
    "    lemmatizer = WordNetLemmatizer()\n",
    "    tokenized_sentences = sent_tokenize(text)\n",
    "    \n",
    "    for sentence in tokenized_sentences:\n",
    "        tagged_tokens = nltk.pos_tag(sentence) \n",
    "        \n",
    "        for token_tuple in tagged_tokens:\n",
    "            pos_tag = token_tuple[1]\n",
    "            \n",
    "            if pos_tag.startswith('N'): \n",
    "                noun_count += 1\n",
    "                pos = wordnet.NOUN\n",
    "                lemmas.append(lemmatizer.lemmatize(token_tuple[0], pos))\n",
    "            elif pos_tag.startswith('J'):\n",
    "                adj_count += 1\n",
    "                pos = wordnet.ADJ\n",
    "                lemmas.append(lemmatizer.lemmatize(token_tuple[0], pos))\n",
    "            elif pos_tag.startswith('V'):\n",
    "                verb_count += 1\n",
    "                pos = wordnet.VERB\n",
    "                lemmas.append(lemmatizer.lemmatize(token_tuple[0], pos))\n",
    "            elif pos_tag.startswith('R'):\n",
    "                adv_count += 1\n",
    "                pos = wordnet.ADV\n",
    "                lemmas.append(lemmatizer.lemmatize(token_tuple[0], pos))\n",
    "            else:\n",
    "                pos = wordnet.NOUN\n",
    "                lemmas.append(lemmatizer.lemmatize(token_tuple[0], pos))\n",
    "    \n",
    "    lemma_count = len(set(lemmas))\n",
    "    \n",
    "    return noun_count, adj_count, verb_count, adv_count, lemma_count"
   ]
  },
  {
   "cell_type": "code",
   "execution_count": 10,
   "id": "ab75871b",
   "metadata": {},
   "outputs": [],
   "source": [
    "def token_word(text):\n",
    "    text = \"\".join([ch.lower() for ch in text if ch not in string.punctuation])\n",
    "    tokens = nltk.word_tokenize(text)\n",
    "    return tokens"
   ]
  },
  {
   "cell_type": "code",
   "execution_count": 11,
   "id": "46ac4663",
   "metadata": {},
   "outputs": [],
   "source": [
    "def misspell_count(text):\n",
    "    spell = SpellChecker()\n",
    "    # find those words that may be misspelled\n",
    "    misspelled = spell.unknown(token_word(text))\n",
    "    #print(misspelled)\n",
    "    return len(misspelled)"
   ]
  },
  {
   "cell_type": "code",
   "execution_count": 12,
   "id": "7419b7e3",
   "metadata": {},
   "outputs": [],
   "source": [
    "def create_features(texts):\n",
    "    data = pd.DataFrame(columns=('Average_Word_Length','Sentence_Count','Word_Count',\n",
    "                                'Character_Count', 'Noun_Count','Adjective_Count',\n",
    "                                'Verb_Count', 'Adverb_Count', 'Lemma_Count' , 'Misspell_Count'\n",
    "                                 ))\n",
    "\n",
    "    data['Average_Word_Length'] = texts.apply(avg_word_len)\n",
    "    data['Sentence_Count'] = texts.apply(sent_count)\n",
    "    data['Word_Count'] = texts.apply(word_count)\n",
    "    data['Character_Count'] = texts.apply(char_count)\n",
    "    temp=texts.apply(count_lemmas)\n",
    "    noun_count,adj_count,verb_count,adverb_count,lemma_count = zip(*temp)\n",
    "    data['Noun_Count'] = noun_count\n",
    "    data['Adjective_Count'] = adj_count\n",
    "    data['Verb_Count'] = verb_count\n",
    "    data['Adverb_Count'] = adverb_count\n",
    "    data['Lemma_Count'] = lemma_count\n",
    "    data['Misspell_Count'] = texts.apply(misspell_count)\n",
    "    return data"
   ]
  },
  {
   "cell_type": "code",
   "execution_count": 13,
   "id": "53270e65",
   "metadata": {},
   "outputs": [],
   "source": [
    "def data_prepare(texts,scores):\n",
    "    #create features from the texts and clean non graded essays\n",
    "    data = create_features(texts)\n",
    "    data.describe()\n",
    "    t1=np.where(np.asanyarray(np.isnan(scores)))\n",
    "    scores=scores.drop(scores.index[t1])\n",
    "    data=data.drop(scores.index[t1])\n",
    "    \n",
    "    #scaler = MinMaxScaler()\n",
    "    #data = scaler.fit_transform(data)\n",
    "\n",
    "    #train test split\n",
    "    X_train, X_test, y_train, y_test = train_test_split(data, scores, test_size = 0.3)\n",
    "\n",
    "    #checking is there any nan cells\n",
    "    print(np.any(np.isnan(scores)))\n",
    "    print(np.all(np.isfinite(scores)))\n",
    "    return X_train, X_test, y_train, y_test, data"
   ]
  },
  {
   "cell_type": "code",
   "execution_count": 14,
   "id": "838fbf48",
   "metadata": {},
   "outputs": [],
   "source": [
    "def lin_regression(X_train,y_train,X_test,y_test):\n",
    "    regr = LinearRegression()\n",
    "    regr.fit(X_train, y_train)\n",
    "    y_pred = regr.predict(X_test)\n",
    "\n",
    "    # The mean squared error\n",
    "    mse=mean_squared_error(y_test, y_pred)\n",
    "    mse_per= 100*mse/3\n",
    "    print(\"Mean squared error: {}\".format(mse))\n",
    "    print(\"Mean squared error in percentage: {}\".format(mse_per))\n",
    "    #explained variance score\n",
    "    print('Variance score: {}'.format(regr.score(X_test, y_test)))"
   ]
  },
  {
   "cell_type": "code",
   "execution_count": 15,
   "id": "c65612b5",
   "metadata": {},
   "outputs": [],
   "source": [
    "def adaBoost_reg(X_train,y_train,X_test,y_test):\n",
    "    #regr = RandomForestRegressor(max_depth=2, n_estimators=300)\n",
    "    #regr = SVR(gamma='scale', C=1, kernel='linear')\n",
    "    regr = AdaBoostRegressor()\n",
    "    regr.fit(X_train, y_train)\n",
    "    y_pred = regr.predict(X_test)\n",
    "    # The mean squared error\n",
    "    mse=mean_squared_error(y_test, y_pred)\n",
    "    mse_per= 100*mse/3\n",
    "    print(\"Mean squared error: {}\".format(mse))\n",
    "    print(\"Mean squared error in percentage: {}\".format(mse_per))\n",
    "    #explained variance score\n",
    "    print('Variance score: {}'.format(regr.score(X_test, y_test)))\n",
    "\n",
    "    feature_importance = regr.feature_importances_\n",
    "\n",
    "    # make importances relative to max importance\n",
    "    feature_importance = 100.0 * (feature_importance / feature_importance.max())\n",
    "    feature_names = list(('Average_Word_Length','Sentence_Count','Word_Count',\n",
    "                                'Character_Count', 'Noun_Count','Adjective_Count',\n",
    "                                'Verb_Count', 'Adverb_Count', 'Lemma_Count' ,'Misspell_Count'\n",
    "                                 ))\n",
    "    feature_names = np.asarray(feature_names)\n",
    "    sorted_idx = np.argsort(feature_importance)\n",
    "    pos = np.arange(sorted_idx.shape[0]) + .5\n",
    "    plt.subplot(1, 2, 2)\n",
    "    plt.barh(pos, feature_importance[sorted_idx], align='center')\n",
    "    plt.yticks(pos, feature_names[sorted_idx])\n",
    "    plt.xlabel('Relative Importance')\n",
    "    plt.title('Variable Importance')\n",
    "    plt.show()"
   ]
  },
  {
   "cell_type": "code",
   "execution_count": 16,
   "id": "9e076fd9",
   "metadata": {},
   "outputs": [],
   "source": [
    "# convert numerical scores to labels\n",
    "# (0-1.5) bad (1.5-2.3) average (2.3-3) good\n",
    "# bad:    '0'\n",
    "# average '1'\n",
    "# good    '2'\n",
    "def convert_scores(scores):\n",
    "    def mapping(x):\n",
    "        if x < np.percentile(scores,25):\n",
    "            return 0\n",
    "        elif x < np.percentile(scores,75):\n",
    "            return 1\n",
    "        else:\n",
    "            return 2\n",
    "    return scores.apply(mapping)"
   ]
  },
  {
   "cell_type": "code",
   "execution_count": 17,
   "id": "6164efb6",
   "metadata": {},
   "outputs": [],
   "source": [
    "# selecting which set to be used 1-8\n",
    "# in order to combine them all assign set number to 9\n",
    "def select_set_classification(dataframe,setNumber):\n",
    "    if setNumber == 9:\n",
    "        dataframe2 = dataframe[dataframe.essay_set ==1]\n",
    "        texts = dataframe2['essay']\n",
    "        scores = dataframe2['domain1_score']\n",
    "        scores = scores.apply(lambda x: (x*3)/scores.max())\n",
    "        scores = convert_scores(scores)\n",
    "        for i in range(1,9):\n",
    "            dataframe2 = dataframe[dataframe.essay_set == i]\n",
    "            texts = texts.append(dataframe2['essay'])\n",
    "            s = dataframe2['domain1_score']\n",
    "            s = s.apply(lambda x: (x*3)/s.max())\n",
    "            s = convert_scores(s)\n",
    "            scores = scores.append(s)\n",
    "    else:\n",
    "        dataframe2 = dataframe[dataframe.essay_set ==setNumber]\n",
    "        texts = dataframe2['essay']\n",
    "        scores = dataframe2['domain1_score']\n",
    "        scores = scores.apply(lambda x: (x*3)/scores.max())\n",
    "        scores = convert_scores(scores)\n",
    "    return texts, scores"
   ]
  },
  {
   "cell_type": "markdown",
   "id": "e326cace",
   "metadata": {},
   "source": [
    "## Dataset selection"
   ]
  },
  {
   "cell_type": "code",
   "execution_count": 19,
   "id": "814fe3b1",
   "metadata": {},
   "outputs": [
    {
     "name": "stdout",
     "output_type": "stream",
     "text": [
      "2.132080762759394\n",
      "False\n",
      "True\n"
     ]
    },
    {
     "data": {
      "image/png": "[encoded data removed]",
      "text/plain": [
       "<Figure size 432x288 with 1 Axes>"
      ]
     },
     "metadata": {
      "needs_background": "light"
     },
     "output_type": "display_data"
    }
   ],
   "source": [
    "# 1-8\n",
    "# 9:all sets combined\n",
    "texts, scores = select_set(dataframe,1)\n",
    "get_hist_avg(scores,5)\n",
    "X_train, X_test, y_train, y_test, data = data_prepare(texts,scores)"
   ]
  },
  {
   "cell_type": "markdown",
   "id": "0323b4ed",
   "metadata": {},
   "source": [
    "## Regression Analysis"
   ]
  },
  {
   "cell_type": "code",
   "execution_count": 20,
   "id": "f0b37005",
   "metadata": {},
   "outputs": [
    {
     "name": "stdout",
     "output_type": "stream",
     "text": [
      "Testing for Linear Regression \n",
      "\n",
      "Mean squared error: 0.042805777623462285\n",
      "Mean squared error in percentage: 1.4268592541154097\n",
      "Variance score: 0.7114033141688536\n",
      "Testing for Adaboost Regression \n",
      "\n",
      "Mean squared error: 0.04267092215508962\n",
      "Mean squared error in percentage: 1.4223640718363209\n",
      "Variance score: 0.7123125101559211\n"
     ]
    },
    {
     "data": {
      "image/png": "[encoded data removed]",
      "text/plain": [
       "<Figure size 432x288 with 1 Axes>"
      ]
     },
     "metadata": {
      "needs_background": "light"
     },
     "output_type": "display_data"
    }
   ],
   "source": [
    "print('Testing for Linear Regression \\n')\n",
    "lin_regression(X_train,y_train,X_test,y_test)\n",
    "print('Testing for Adaboost Regression \\n')\n",
    "adaBoost_reg(X_train,y_train,X_test,y_test)"
   ]
  },
  {
   "cell_type": "markdown",
   "id": "74398bb8",
   "metadata": {},
   "source": [
    "## Dataset selection 2"
   ]
  },
  {
   "cell_type": "code",
   "execution_count": 21,
   "id": "ded4041b",
   "metadata": {},
   "outputs": [
    {
     "name": "stdout",
     "output_type": "stream",
     "text": [
      "False\n",
      "True\n"
     ]
    }
   ],
   "source": [
    "# 1-8\n",
    "# 9:all sets combined\n",
    "texts, scores = select_set_classification(dataframe,1)\n",
    "X_train, X_test, y_train, y_test, data = data_prepare(texts,scores)"
   ]
  },
  {
   "cell_type": "markdown",
   "id": "4aa30db1",
   "metadata": {},
   "source": [
    "## Classification analysis"
   ]
  },
  {
   "cell_type": "code",
   "execution_count": 32,
   "id": "5a3f653a",
   "metadata": {},
   "outputs": [
    {
     "name": "stdout",
     "output_type": "stream",
     "text": [
      "0.1\n",
      "0.788785046728972\n",
      "0.7764423076923078\n",
      "1\n",
      "0.7962616822429907\n",
      "0.782051282051282\n",
      "10\n",
      "0.8018691588785046\n",
      "0.7860576923076922\n",
      "100\n",
      "0.811214953271028\n",
      "0.7820512820512819\n",
      "500\n",
      "0.811214953271028\n",
      "0.7748397435897436\n",
      "1000\n",
      "0.8037383177570093\n",
      "0.7740384615384616\n"
     ]
    }
   ],
   "source": [
    "a=[0.1,1,10,100,500,1000]\n",
    "for b in a:\n",
    "    clf = svm.SVC(C=b, gamma=0.00001)\n",
    "    clf.fit(X_train, y_train) \n",
    "    y_pred = clf.predict(X_test)\n",
    "    print (b)\n",
    "    print (clf.score(X_test,y_test))\n",
    "    print (np.mean(cross_val_score(clf, X_train, y_train, cv=3)))"
   ]
  },
  {
   "cell_type": "code",
   "execution_count": 33,
   "id": "f2e29c3e",
   "metadata": {},
   "outputs": [
    {
     "name": "stdout",
     "output_type": "stream",
     "text": [
      "Cohen’s kappa score: 0.6617950804281154\n"
     ]
    }
   ],
   "source": [
    "clf = svm.SVC(C=100, gamma=0.00001)\n",
    "clf.fit(X_train, y_train) \n",
    "y_pred = clf.predict(X_test)\n",
    "print('Cohen’s kappa score: {}'.format(cohen_kappa_score(y_test,y_pred)))"
   ]
  },
  {
   "cell_type": "code",
   "execution_count": 34,
   "id": "d662b7cd",
   "metadata": {},
   "outputs": [
    {
     "name": "stdout",
     "output_type": "stream",
     "text": [
      "              precision    recall  f1-score   support\n",
      "\n",
      "           0       0.84      0.71      0.77        89\n",
      "           1       0.82      0.87      0.84       309\n",
      "           2       0.78      0.74      0.76       137\n",
      "\n",
      "    accuracy                           0.81       535\n",
      "   macro avg       0.81      0.77      0.79       535\n",
      "weighted avg       0.81      0.81      0.81       535\n",
      "\n"
     ]
    }
   ],
   "source": [
    "print(classification_report(y_test, y_pred))"
   ]
  },
  {
   "cell_type": "code",
   "execution_count": 35,
   "id": "c1a9abee",
   "metadata": {},
   "outputs": [],
   "source": [
    "import warnings\n",
    "warnings.filterwarnings('ignore')"
   ]
  },
  {
   "cell_type": "markdown",
   "id": "70dfc6d2",
   "metadata": {},
   "source": [
    "## Data Analysis"
   ]
  },
  {
   "cell_type": "code",
   "execution_count": 36,
   "id": "f434112d",
   "metadata": {},
   "outputs": [
    {
     "data": {
      "text/plain": [
       "<AxesSubplot:xlabel='domain1_score', ylabel='count'>"
      ]
     },
     "execution_count": 36,
     "metadata": {},
     "output_type": "execute_result"
    },
    {
     "data": {
      "image/png": "[encoded data removed]",
      "text/plain": [
       "<Figure size 432x288 with 1 Axes>"
      ]
     },
     "metadata": {
      "needs_background": "light"
     },
     "output_type": "display_data"
    }
   ],
   "source": [
    "sns.countplot(scores)"
   ]
  },
  {
   "cell_type": "code",
   "execution_count": 37,
   "id": "939150ad",
   "metadata": {},
   "outputs": [
    {
     "data": {
      "image/png": "[encoded data removed]",
      "text/plain": [
       "<Figure size 432x288 with 1 Axes>"
      ]
     },
     "metadata": {
      "needs_background": "light"
     },
     "output_type": "display_data"
    }
   ],
   "source": [
    "zero = data[(data[\"Character_Count\"] > 0) & (scores == 0)]\n",
    "one = data[(data[\"Character_Count\"] > 0) & (scores == 1)]\n",
    "two = data[(data[\"Character_Count\"] > 0) & (scores == 2)]\n",
    "sns.distplot(zero[\"Character_Count\"], bins=10, color='r')\n",
    "sns.distplot(one[\"Character_Count\"], bins=10, color='g')\n",
    "sns.distplot(two[\"Character_Count\"], bins=10, color='b')\n",
    "plt.title(\"Score Distribution with respect to Character_Count\",fontsize=20)\n",
    "plt.xlabel(\"Character_Count\",fontsize=15)\n",
    "plt.ylabel(\"Distribuition of the scores\",fontsize=15)\n",
    "plt.show()"
   ]
  },
  {
   "cell_type": "code",
   "execution_count": 38,
   "id": "d0b17a08",
   "metadata": {},
   "outputs": [
    {
     "data": {
      "image/png": "[encoded data removed]",
      "text/plain": [
       "<Figure size 432x288 with 1 Axes>"
      ]
     },
     "metadata": {
      "needs_background": "light"
     },
     "output_type": "display_data"
    }
   ],
   "source": [
    "zero = data[(data[\"Lemma_Count\"] > 0) & (scores == 0)]\n",
    "one = data[(data[\"Lemma_Count\"] > 0) & (scores == 1)]\n",
    "two = data[(data[\"Lemma_Count\"] > 0) & (scores == 2)]\n",
    "sns.distplot(zero[\"Lemma_Count\"], bins=10, color='r')\n",
    "sns.distplot(one[\"Lemma_Count\"], bins=10, color='g')\n",
    "sns.distplot(two[\"Lemma_Count\"], bins=10, color='b')\n",
    "plt.title(\"Score Distribution with respect to lemma count\",fontsize=20)\n",
    "plt.xlabel(\"Lemma Count\",fontsize=15)\n",
    "plt.ylabel(\"Distribuition of the scores\",fontsize=15)\n",
    "plt.show()"
   ]
  },
  {
   "cell_type": "code",
   "execution_count": 39,
   "id": "91f4c0de",
   "metadata": {},
   "outputs": [
    {
     "data": {
      "image/png": "[encoded data removed]",
      "text/plain": [
       "<Figure size 432x288 with 1 Axes>"
      ]
     },
     "metadata": {
      "needs_background": "light"
     },
     "output_type": "display_data"
    }
   ],
   "source": [
    "zero = data[(data[\"Sentence_Count\"] > 0) & (scores == 0)]\n",
    "one = data[(data[\"Sentence_Count\"] > 0) & (scores == 1)]\n",
    "two = data[(data[\"Sentence_Count\"] > 0) & (scores == 2)]\n",
    "sns.distplot(zero[\"Sentence_Count\"], bins=10, color='r')\n",
    "sns.distplot(one[\"Sentence_Count\"], bins=10, color='g')\n",
    "sns.distplot(two[\"Sentence_Count\"], bins=10, color='b')\n",
    "plt.title(\"Score Distribution with respect to sentence count\",fontsize=20)\n",
    "plt.xlabel(\"Sentence Count\",fontsize=15)\n",
    "plt.ylabel(\"Distribuition of the scores\",fontsize=15)\n",
    "plt.show()"
   ]
  },
  {
   "cell_type": "code",
   "execution_count": 40,
   "id": "3054c6dd",
   "metadata": {},
   "outputs": [
    {
     "data": {
      "image/png": "[encoded data removed]",
      "text/plain": [
       "<Figure size 432x288 with 1 Axes>"
      ]
     },
     "metadata": {
      "needs_background": "light"
     },
     "output_type": "display_data"
    }
   ],
   "source": [
    "zero = data[(data[\"Word_Count\"] > 0) & (scores == 0)]\n",
    "one = data[(data[\"Word_Count\"] > 0) & (scores == 1)]\n",
    "two = data[(data[\"Word_Count\"] > 0) & (scores == 2)]\n",
    "sns.distplot(zero[\"Word_Count\"], bins=10, color='r')\n",
    "sns.distplot(one[\"Word_Count\"], bins=10, color='g')\n",
    "sns.distplot(two[\"Word_Count\"], bins=10, color='b')\n",
    "plt.title(\"Score Distribution with respect to word count\",fontsize=20)\n",
    "plt.xlabel(\"Word_Count\",fontsize=15)\n",
    "plt.ylabel(\"Distribuition of the scores\",fontsize=15)\n",
    "plt.show()"
   ]
  },
  {
   "cell_type": "code",
   "execution_count": 41,
   "id": "3954cd58",
   "metadata": {},
   "outputs": [
    {
     "data": {
      "image/png": "[encoded data removed]",
      "text/plain": [
       "<Figure size 432x288 with 1 Axes>"
      ]
     },
     "metadata": {
      "needs_background": "light"
     },
     "output_type": "display_data"
    }
   ],
   "source": [
    "zero = data[(data[\"Average_Word_Length\"] > 0) & (scores == 0)]\n",
    "one = data[(data[\"Average_Word_Length\"] > 0) & (scores == 1)]\n",
    "two = data[(data[\"Average_Word_Length\"] > 0) & (scores == 2)]\n",
    "sns.distplot(zero[\"Average_Word_Length\"], bins=10, color='r')\n",
    "sns.distplot(one[\"Average_Word_Length\"], bins=10, color='g')\n",
    "sns.distplot(two[\"Average_Word_Length\"], bins=10, color='b')\n",
    "plt.title(\"Score Distribution with respect to Average_Word_Length\",fontsize=20)\n",
    "plt.xlabel(\"Average_Word_Length\",fontsize=15)\n",
    "plt.ylabel(\"Distribuition of the scores\",fontsize=15)\n",
    "plt.show()"
   ]
  },
  {
   "cell_type": "markdown",
   "id": "3fc2940d",
   "metadata": {},
   "source": [
    "### Kappa Score Reliability\n",
    "\n",
    "According to Cohen's original article, values ≤ 0 as indicating no agreement and 0.01–0.20 as none to slight, 0.21–0.40 as fair, 0.41– 0.60 as moderate, 0.61–0.80 as substantial, and 0.81–1.00 as almost perfect agreement. McHugh says that many texts recommend 80% agreement as the minimum acceptable interrater agreement."
   ]
  },
  {
   "cell_type": "markdown",
   "id": "54695ca3",
   "metadata": {},
   "source": [
    "## Summary"
   ]
  },
  {
   "cell_type": "markdown",
   "id": "535b4f10",
   "metadata": {},
   "source": [
    "Evaluation and grading of essays comes as a major problem with human evaluation being slow , tedious , time taking. Automated grading if proven effective will not only reduce the time for assessment but comparing it with human scores will also make the score realistic. We developed an automated essay assessment system by use of machine learning techniques and Neural networks by classifying a corpus of textual entities into a small number of discrete categories, corresponding to possible grades."
   ]
  }
 ],
 "metadata": {
  "kernelspec": {
   "display_name": "Python 3 (ipykernel)",
   "language": "python",
   "name": "python3"
  },
  "language_info": {
   "codemirror_mode": {
    "name": "ipython",
    "version": 3
   },
   "file_extension": ".py",
   "mimetype": "text/x-python",
   "name": "python",
   "nbconvert_exporter": "python",
   "pygments_lexer": "ipython3",
   "version": "3.7.3"
  }
 },
 "nbformat": 4,
 "nbformat_minor": 5
}
