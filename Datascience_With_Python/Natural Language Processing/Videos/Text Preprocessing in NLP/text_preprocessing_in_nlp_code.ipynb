{
  "nbformat": 4,
  "nbformat_minor": 0,
  "metadata": {
    "colab": {
      "name": "text_preprocessing_in_nlp_code.ipynb",
      "provenance": [],
      "collapsed_sections": [],
      "toc_visible": true
    },
    "kernelspec": {
      "name": "python3",
      "display_name": "Python 3"
    },
    "language_info": {
      "name": "python"
    }
  },
  "cells": [
    {
      "cell_type": "markdown",
      "metadata": {
        "id": "MFy6BMl756VX"
      },
      "source": [
        "## What is Text Preprocessing? Why do we need it?"
      ]
    },
    {
      "cell_type": "markdown",
      "metadata": {
        "id": "LkicWFgA6KY_"
      },
      "source": [
        "A text, in its original form may contain non-alphanumeric characters, URLs, stop words, wirds with mixed cases, emojis, short forms etc...\n",
        "These make it difficult for an Natural Language Processing (NLP) algorithm to analyse the text... Text preprocessing is a method to clean the text data and make it ready to feed data to the model and hence prevent the model from getting confused with various unrecognizable characters."
      ]
    },
    {
      "cell_type": "markdown",
      "metadata": {
        "id": "ZA57r56MOPs5"
      },
      "source": [
        "## Importing Dataset"
      ]
    },
    {
      "cell_type": "markdown",
      "metadata": {
        "id": "9-bmDyW2CUwJ"
      },
      "source": [
        "Link to dataset: https://www.kaggle.com/sudalairajkumar/getting-started-with-text-preprocessing/data"
      ]
    },
    {
      "cell_type": "code",
      "metadata": {
        "colab": {
          "base_uri": "https://localhost:8080/"
        },
        "id": "PyEycw1_3rj3",
        "outputId": "9335f157-a4f6-4e11-9152-3cbc07abb2b6"
      },
      "source": [
        "import pandas as pd\n",
        "dataset = pd.read_csv('sample.csv')\n",
        "print(dataset.columns)\n",
        "print(dataset.head())"
      ],
      "execution_count": null,
      "outputs": [
        {
          "output_type": "stream",
          "name": "stdout",
          "text": [
            "Index(['tweet_id', 'author_id', 'inbound', 'created_at', 'text',\n",
            "       'response_tweet_id', 'in_response_to_tweet_id'],\n",
            "      dtype='object')\n",
            "   tweet_id     author_id  ...  response_tweet_id in_response_to_tweet_id\n",
            "0    119237        105834  ...             119236                     NaN\n",
            "1    119238  ChaseSupport  ...                NaN                119239.0\n",
            "2    119239        105835  ...             119238                     NaN\n",
            "3    119240  VirginTrains  ...             119241                119242.0\n",
            "4    119241        105836  ...             119243                119240.0\n",
            "\n",
            "[5 rows x 7 columns]\n"
          ]
        }
      ]
    },
    {
      "cell_type": "code",
      "metadata": {
        "colab": {
          "base_uri": "https://localhost:8080/",
          "height": 419
        },
        "id": "wM-zaNizuK5E",
        "outputId": "ac475ec2-952d-4c50-fc12-1cf130400e19"
      },
      "source": [
        "dataset = dataset.drop(['tweet_id', 'author_id', 'inbound', 'created_at','response_tweet_id', 'in_response_to_tweet_id'],axis=1)\n",
        "# Drop all columns except 'text' because we just wish to only preprocess the text\n",
        "dataset"
      ],
      "execution_count": null,
      "outputs": [
        {
          "output_type": "execute_result",
          "data": {
            "text/html": [
              "<div>\n",
              "<style scoped>\n",
              "    .dataframe tbody tr th:only-of-type {\n",
              "        vertical-align: middle;\n",
              "    }\n",
              "\n",
              "    .dataframe tbody tr th {\n",
              "        vertical-align: top;\n",
              "    }\n",
              "\n",
              "    .dataframe thead th {\n",
              "        text-align: right;\n",
              "    }\n",
              "</style>\n",
              "<table border=\"1\" class=\"dataframe\">\n",
              "  <thead>\n",
              "    <tr style=\"text-align: right;\">\n",
              "      <th></th>\n",
              "      <th>text</th>\n",
              "    </tr>\n",
              "  </thead>\n",
              "  <tbody>\n",
              "    <tr>\n",
              "      <th>0</th>\n",
              "      <td>@AppleSupport causing the reply to be disregar...</td>\n",
              "    </tr>\n",
              "    <tr>\n",
              "      <th>1</th>\n",
              "      <td>@105835 Your business means a lot to us. Pleas...</td>\n",
              "    </tr>\n",
              "    <tr>\n",
              "      <th>2</th>\n",
              "      <td>@76328 I really hope you all change but I'm su...</td>\n",
              "    </tr>\n",
              "    <tr>\n",
              "      <th>3</th>\n",
              "      <td>@105836 LiveChat is online at the moment - htt...</td>\n",
              "    </tr>\n",
              "    <tr>\n",
              "      <th>4</th>\n",
              "      <td>@VirginTrains see attached error message. I've...</td>\n",
              "    </tr>\n",
              "    <tr>\n",
              "      <th>...</th>\n",
              "      <td>...</td>\n",
              "    </tr>\n",
              "    <tr>\n",
              "      <th>88</th>\n",
              "      <td>@105860 I wish Amazon had an option of where I...</td>\n",
              "    </tr>\n",
              "    <tr>\n",
              "      <th>89</th>\n",
              "      <td>They reschedule my shit for tomorrow https://t...</td>\n",
              "    </tr>\n",
              "    <tr>\n",
              "      <th>90</th>\n",
              "      <td>@105861 Hey Sara, sorry to hear of the issues ...</td>\n",
              "    </tr>\n",
              "    <tr>\n",
              "      <th>91</th>\n",
              "      <td>@Tesco bit of both - finding the layout cumber...</td>\n",
              "    </tr>\n",
              "    <tr>\n",
              "      <th>92</th>\n",
              "      <td>@105861 If that doesn't help please DM your fu...</td>\n",
              "    </tr>\n",
              "  </tbody>\n",
              "</table>\n",
              "<p>93 rows × 1 columns</p>\n",
              "</div>"
            ],
            "text/plain": [
              "                                                 text\n",
              "0   @AppleSupport causing the reply to be disregar...\n",
              "1   @105835 Your business means a lot to us. Pleas...\n",
              "2   @76328 I really hope you all change but I'm su...\n",
              "3   @105836 LiveChat is online at the moment - htt...\n",
              "4   @VirginTrains see attached error message. I've...\n",
              "..                                                ...\n",
              "88  @105860 I wish Amazon had an option of where I...\n",
              "89  They reschedule my shit for tomorrow https://t...\n",
              "90  @105861 Hey Sara, sorry to hear of the issues ...\n",
              "91  @Tesco bit of both - finding the layout cumber...\n",
              "92  @105861 If that doesn't help please DM your fu...\n",
              "\n",
              "[93 rows x 1 columns]"
            ]
          },
          "metadata": {},
          "execution_count": 2
        }
      ]
    },
    {
      "cell_type": "code",
      "metadata": {
        "colab": {
          "base_uri": "https://localhost:8080/",
          "height": 419
        },
        "id": "iUC4jnjmT_MK",
        "outputId": "baf55b87-246a-4796-93fb-4da5403174b6"
      },
      "source": [
        "dataset"
      ],
      "execution_count": null,
      "outputs": [
        {
          "output_type": "execute_result",
          "data": {
            "text/html": [
              "<div>\n",
              "<style scoped>\n",
              "    .dataframe tbody tr th:only-of-type {\n",
              "        vertical-align: middle;\n",
              "    }\n",
              "\n",
              "    .dataframe tbody tr th {\n",
              "        vertical-align: top;\n",
              "    }\n",
              "\n",
              "    .dataframe thead th {\n",
              "        text-align: right;\n",
              "    }\n",
              "</style>\n",
              "<table border=\"1\" class=\"dataframe\">\n",
              "  <thead>\n",
              "    <tr style=\"text-align: right;\">\n",
              "      <th></th>\n",
              "      <th>text</th>\n",
              "    </tr>\n",
              "  </thead>\n",
              "  <tbody>\n",
              "    <tr>\n",
              "      <th>0</th>\n",
              "      <td>@AppleSupport causing the reply to be disregar...</td>\n",
              "    </tr>\n",
              "    <tr>\n",
              "      <th>1</th>\n",
              "      <td>@105835 Your business means a lot to us. Pleas...</td>\n",
              "    </tr>\n",
              "    <tr>\n",
              "      <th>2</th>\n",
              "      <td>@76328 I really hope you all change but I'm su...</td>\n",
              "    </tr>\n",
              "    <tr>\n",
              "      <th>3</th>\n",
              "      <td>@105836 LiveChat is online at the moment - htt...</td>\n",
              "    </tr>\n",
              "    <tr>\n",
              "      <th>4</th>\n",
              "      <td>@VirginTrains see attached error message. I've...</td>\n",
              "    </tr>\n",
              "    <tr>\n",
              "      <th>...</th>\n",
              "      <td>...</td>\n",
              "    </tr>\n",
              "    <tr>\n",
              "      <th>88</th>\n",
              "      <td>@105860 I wish Amazon had an option of where I...</td>\n",
              "    </tr>\n",
              "    <tr>\n",
              "      <th>89</th>\n",
              "      <td>They reschedule my shit for tomorrow https://t...</td>\n",
              "    </tr>\n",
              "    <tr>\n",
              "      <th>90</th>\n",
              "      <td>@105861 Hey Sara, sorry to hear of the issues ...</td>\n",
              "    </tr>\n",
              "    <tr>\n",
              "      <th>91</th>\n",
              "      <td>@Tesco bit of both - finding the layout cumber...</td>\n",
              "    </tr>\n",
              "    <tr>\n",
              "      <th>92</th>\n",
              "      <td>@105861 If that doesn't help please DM your fu...</td>\n",
              "    </tr>\n",
              "  </tbody>\n",
              "</table>\n",
              "<p>93 rows × 1 columns</p>\n",
              "</div>"
            ],
            "text/plain": [
              "                                                 text\n",
              "0   @AppleSupport causing the reply to be disregar...\n",
              "1   @105835 Your business means a lot to us. Pleas...\n",
              "2   @76328 I really hope you all change but I'm su...\n",
              "3   @105836 LiveChat is online at the moment - htt...\n",
              "4   @VirginTrains see attached error message. I've...\n",
              "..                                                ...\n",
              "88  @105860 I wish Amazon had an option of where I...\n",
              "89  They reschedule my shit for tomorrow https://t...\n",
              "90  @105861 Hey Sara, sorry to hear of the issues ...\n",
              "91  @Tesco bit of both - finding the layout cumber...\n",
              "92  @105861 If that doesn't help please DM your fu...\n",
              "\n",
              "[93 rows x 1 columns]"
            ]
          },
          "metadata": {},
          "execution_count": 3
        }
      ]
    },
    {
      "cell_type": "markdown",
      "metadata": {
        "id": "9W0l3vOeR083"
      },
      "source": [
        "## Removal of URL"
      ]
    },
    {
      "cell_type": "code",
      "metadata": {
        "colab": {
          "base_uri": "https://localhost:8080/"
        },
        "id": "KQbb5s6CUBk0",
        "outputId": "8d546442-9334-41b6-e579-786ceca3aa27"
      },
      "source": [
        "print(dataset['text'][4])"
      ],
      "execution_count": null,
      "outputs": [
        {
          "output_type": "stream",
          "name": "stdout",
          "text": [
            "@VirginTrains see attached error message. I've tried leaving a voicemail several times in the past week https://t.co/NxVZjlYx1k\n"
          ]
        }
      ]
    },
    {
      "cell_type": "code",
      "metadata": {
        "id": "Z2zLdfYeSDkr"
      },
      "source": [
        "import re\n",
        "for i in range(0,93): # To replace URLs with \"\"\n",
        "  dataset['text'][i] = re.sub(r'https\\S+', '', dataset['text'][i])"
      ],
      "execution_count": null,
      "outputs": []
    },
    {
      "cell_type": "code",
      "metadata": {
        "colab": {
          "base_uri": "https://localhost:8080/"
        },
        "id": "cr9JdHylSg13",
        "outputId": "09eab5a6-6233-4bf9-de1f-2b0239a81ef1"
      },
      "source": [
        "print(dataset['text'][4])"
      ],
      "execution_count": null,
      "outputs": [
        {
          "output_type": "stream",
          "name": "stdout",
          "text": [
            "@VirginTrains see attached error message. I've tried leaving a voicemail several times in the past week \n"
          ]
        }
      ]
    },
    {
      "cell_type": "markdown",
      "metadata": {
        "id": "G2UR5LmuOgbg"
      },
      "source": [
        "## Removal of Non-Alphanumeric characters"
      ]
    },
    {
      "cell_type": "code",
      "metadata": {
        "id": "WCn9UycYOv6-"
      },
      "source": [
        "import re\n",
        "for i in range(0,93):\n",
        "  ### Replace non-alphanumeric characters with spaces\n",
        "  dataset['text'][i] = re.sub('[^a-zA-Z0-9]',' ', dataset['text'][i])"
      ],
      "execution_count": null,
      "outputs": []
    },
    {
      "cell_type": "code",
      "metadata": {
        "colab": {
          "base_uri": "https://localhost:8080/",
          "height": 419
        },
        "id": "_nyoxAbN-K4g",
        "outputId": "0e3af3af-3b99-49be-da99-b2ab636c3746"
      },
      "source": [
        "dataset"
      ],
      "execution_count": null,
      "outputs": [
        {
          "output_type": "execute_result",
          "data": {
            "text/html": [
              "<div>\n",
              "<style scoped>\n",
              "    .dataframe tbody tr th:only-of-type {\n",
              "        vertical-align: middle;\n",
              "    }\n",
              "\n",
              "    .dataframe tbody tr th {\n",
              "        vertical-align: top;\n",
              "    }\n",
              "\n",
              "    .dataframe thead th {\n",
              "        text-align: right;\n",
              "    }\n",
              "</style>\n",
              "<table border=\"1\" class=\"dataframe\">\n",
              "  <thead>\n",
              "    <tr style=\"text-align: right;\">\n",
              "      <th></th>\n",
              "      <th>text</th>\n",
              "    </tr>\n",
              "  </thead>\n",
              "  <tbody>\n",
              "    <tr>\n",
              "      <th>0</th>\n",
              "      <td>AppleSupport causing the reply to be disregar...</td>\n",
              "    </tr>\n",
              "    <tr>\n",
              "      <th>1</th>\n",
              "      <td>105835 Your business means a lot to us  Pleas...</td>\n",
              "    </tr>\n",
              "    <tr>\n",
              "      <th>2</th>\n",
              "      <td>76328 I really hope you all change but I m su...</td>\n",
              "    </tr>\n",
              "    <tr>\n",
              "      <th>3</th>\n",
              "      <td>105836 LiveChat is online at the moment    or...</td>\n",
              "    </tr>\n",
              "    <tr>\n",
              "      <th>4</th>\n",
              "      <td>VirginTrains see attached error message  I ve...</td>\n",
              "    </tr>\n",
              "    <tr>\n",
              "      <th>...</th>\n",
              "      <td>...</td>\n",
              "    </tr>\n",
              "    <tr>\n",
              "      <th>88</th>\n",
              "      <td>105860 I wish Amazon had an option of where I...</td>\n",
              "    </tr>\n",
              "    <tr>\n",
              "      <th>89</th>\n",
              "      <td>They reschedule my shit for tomorrow</td>\n",
              "    </tr>\n",
              "    <tr>\n",
              "      <th>90</th>\n",
              "      <td>105861 Hey Sara  sorry to hear of the issues ...</td>\n",
              "    </tr>\n",
              "    <tr>\n",
              "      <th>91</th>\n",
              "      <td>Tesco bit of both   finding the layout cumber...</td>\n",
              "    </tr>\n",
              "    <tr>\n",
              "      <th>92</th>\n",
              "      <td>105861 If that doesn t help please DM your fu...</td>\n",
              "    </tr>\n",
              "  </tbody>\n",
              "</table>\n",
              "<p>93 rows × 1 columns</p>\n",
              "</div>"
            ],
            "text/plain": [
              "                                                 text\n",
              "0    AppleSupport causing the reply to be disregar...\n",
              "1    105835 Your business means a lot to us  Pleas...\n",
              "2    76328 I really hope you all change but I m su...\n",
              "3    105836 LiveChat is online at the moment    or...\n",
              "4    VirginTrains see attached error message  I ve...\n",
              "..                                                ...\n",
              "88   105860 I wish Amazon had an option of where I...\n",
              "89              They reschedule my shit for tomorrow \n",
              "90   105861 Hey Sara  sorry to hear of the issues ...\n",
              "91   Tesco bit of both   finding the layout cumber...\n",
              "92   105861 If that doesn t help please DM your fu...\n",
              "\n",
              "[93 rows x 1 columns]"
            ]
          },
          "metadata": {},
          "execution_count": 8
        }
      ]
    },
    {
      "cell_type": "markdown",
      "metadata": {
        "id": "2mjGKmlC_mbT"
      },
      "source": [
        "## Converting Text to Lower Case"
      ]
    },
    {
      "cell_type": "code",
      "metadata": {
        "id": "xHe1JWvE_q_Y"
      },
      "source": [
        "for i in range(0,93):\n",
        "  dataset['text'][i] = dataset['text'][i].lower()"
      ],
      "execution_count": null,
      "outputs": []
    },
    {
      "cell_type": "code",
      "metadata": {
        "colab": {
          "base_uri": "https://localhost:8080/",
          "height": 419
        },
        "id": "E5WcNd9b_0o2",
        "outputId": "f6bc19f4-664e-451f-92f7-32c7966952fb"
      },
      "source": [
        "dataset"
      ],
      "execution_count": null,
      "outputs": [
        {
          "output_type": "execute_result",
          "data": {
            "text/html": [
              "<div>\n",
              "<style scoped>\n",
              "    .dataframe tbody tr th:only-of-type {\n",
              "        vertical-align: middle;\n",
              "    }\n",
              "\n",
              "    .dataframe tbody tr th {\n",
              "        vertical-align: top;\n",
              "    }\n",
              "\n",
              "    .dataframe thead th {\n",
              "        text-align: right;\n",
              "    }\n",
              "</style>\n",
              "<table border=\"1\" class=\"dataframe\">\n",
              "  <thead>\n",
              "    <tr style=\"text-align: right;\">\n",
              "      <th></th>\n",
              "      <th>text</th>\n",
              "    </tr>\n",
              "  </thead>\n",
              "  <tbody>\n",
              "    <tr>\n",
              "      <th>0</th>\n",
              "      <td>applesupport causing the reply to be disregar...</td>\n",
              "    </tr>\n",
              "    <tr>\n",
              "      <th>1</th>\n",
              "      <td>105835 your business means a lot to us  pleas...</td>\n",
              "    </tr>\n",
              "    <tr>\n",
              "      <th>2</th>\n",
              "      <td>76328 i really hope you all change but i m su...</td>\n",
              "    </tr>\n",
              "    <tr>\n",
              "      <th>3</th>\n",
              "      <td>105836 livechat is online at the moment    or...</td>\n",
              "    </tr>\n",
              "    <tr>\n",
              "      <th>4</th>\n",
              "      <td>virgintrains see attached error message  i ve...</td>\n",
              "    </tr>\n",
              "    <tr>\n",
              "      <th>...</th>\n",
              "      <td>...</td>\n",
              "    </tr>\n",
              "    <tr>\n",
              "      <th>88</th>\n",
              "      <td>105860 i wish amazon had an option of where i...</td>\n",
              "    </tr>\n",
              "    <tr>\n",
              "      <th>89</th>\n",
              "      <td>they reschedule my shit for tomorrow</td>\n",
              "    </tr>\n",
              "    <tr>\n",
              "      <th>90</th>\n",
              "      <td>105861 hey sara  sorry to hear of the issues ...</td>\n",
              "    </tr>\n",
              "    <tr>\n",
              "      <th>91</th>\n",
              "      <td>tesco bit of both   finding the layout cumber...</td>\n",
              "    </tr>\n",
              "    <tr>\n",
              "      <th>92</th>\n",
              "      <td>105861 if that doesn t help please dm your fu...</td>\n",
              "    </tr>\n",
              "  </tbody>\n",
              "</table>\n",
              "<p>93 rows × 1 columns</p>\n",
              "</div>"
            ],
            "text/plain": [
              "                                                 text\n",
              "0    applesupport causing the reply to be disregar...\n",
              "1    105835 your business means a lot to us  pleas...\n",
              "2    76328 i really hope you all change but i m su...\n",
              "3    105836 livechat is online at the moment    or...\n",
              "4    virgintrains see attached error message  i ve...\n",
              "..                                                ...\n",
              "88   105860 i wish amazon had an option of where i...\n",
              "89              they reschedule my shit for tomorrow \n",
              "90   105861 hey sara  sorry to hear of the issues ...\n",
              "91   tesco bit of both   finding the layout cumber...\n",
              "92   105861 if that doesn t help please dm your fu...\n",
              "\n",
              "[93 rows x 1 columns]"
            ]
          },
          "metadata": {},
          "execution_count": 10
        }
      ]
    },
    {
      "cell_type": "markdown",
      "metadata": {
        "id": "0TuLHSaVAfja"
      },
      "source": [
        "## Lemmatization"
      ]
    },
    {
      "cell_type": "code",
      "metadata": {
        "colab": {
          "base_uri": "https://localhost:8080/"
        },
        "id": "8Gj2S-4kMLDJ",
        "outputId": "ddec8dd8-0410-45d0-dacb-13e33b33ca11"
      },
      "source": [
        "import nltk\n",
        "from nltk.stem import WordNetLemmatizer\n",
        "nltk.download('averaged_perceptron_tagger')\n",
        "from nltk.corpus import wordnet\n",
        "nltk.download('wordnet')\n",
        "nltk.download('punkt')\n",
        " "
      ],
      "execution_count": null,
      "outputs": [
        {
          "output_type": "stream",
          "name": "stdout",
          "text": [
            "[nltk_data] Downloading package averaged_perceptron_tagger to\n",
            "[nltk_data]     /root/nltk_data...\n",
            "[nltk_data]   Package averaged_perceptron_tagger is already up-to-\n",
            "[nltk_data]       date!\n",
            "[nltk_data] Downloading package wordnet to /root/nltk_data...\n",
            "[nltk_data]   Package wordnet is already up-to-date!\n",
            "[nltk_data] Downloading package punkt to /root/nltk_data...\n",
            "[nltk_data]   Package punkt is already up-to-date!\n"
          ]
        },
        {
          "output_type": "execute_result",
          "data": {
            "text/plain": [
              "True"
            ]
          },
          "metadata": {},
          "execution_count": 11
        }
      ]
    },
    {
      "cell_type": "code",
      "metadata": {
        "id": "_jarfyhuAi4d"
      },
      "source": [
        "\n",
        "lemmatizer = WordNetLemmatizer()\n",
        "# Define function to lemmatize each word with its POS tag\n",
        "# POS stands for Part of Speech\n",
        "# We add a POS tag with a each word to define its type if its adjective, verb, noun, adverb or none\n",
        "def pos_tagger(nltk_tag):\n",
        "    if nltk_tag.startswith('J'):\n",
        "        return wordnet.ADJ\n",
        "    elif nltk_tag.startswith('V'):\n",
        "        return wordnet.VERB\n",
        "    elif nltk_tag.startswith('N'):\n",
        "        return wordnet.NOUN\n",
        "    elif nltk_tag.startswith('R'):\n",
        "        return wordnet.ADV\n",
        "    else:         \n",
        "        return None\n",
        "# tokenize the sentence and find the POS tag for each token\n",
        "for i in range (0,93):\n",
        "  pos_tagged = nltk.pos_tag(nltk.word_tokenize(str(dataset['text'][i]))) \n",
        "  wordnet_tagged = list(map(lambda x: (x[0], pos_tagger(x[1])), pos_tagged))\n",
        "  lemmatized_sentence = []\n",
        "  for word, tag in wordnet_tagged:\n",
        "      if tag is None:\n",
        "          lemmatized_sentence.append(word)\n",
        "      else:       \n",
        "          lemmatized_sentence.append(lemmatizer.lemmatize(word, tag))\n",
        "  lemmatized_sentence = \" \".join(lemmatized_sentence)\n",
        "  dataset['text'][i] = lemmatized_sentence\n"
      ],
      "execution_count": null,
      "outputs": []
    },
    {
      "cell_type": "code",
      "metadata": {
        "colab": {
          "base_uri": "https://localhost:8080/",
          "height": 419
        },
        "id": "W3TUDSOjCO_y",
        "outputId": "77564d7b-a144-4105-c206-1248535614a2"
      },
      "source": [
        "dataset"
      ],
      "execution_count": null,
      "outputs": [
        {
          "output_type": "execute_result",
          "data": {
            "text/html": [
              "<div>\n",
              "<style scoped>\n",
              "    .dataframe tbody tr th:only-of-type {\n",
              "        vertical-align: middle;\n",
              "    }\n",
              "\n",
              "    .dataframe tbody tr th {\n",
              "        vertical-align: top;\n",
              "    }\n",
              "\n",
              "    .dataframe thead th {\n",
              "        text-align: right;\n",
              "    }\n",
              "</style>\n",
              "<table border=\"1\" class=\"dataframe\">\n",
              "  <thead>\n",
              "    <tr style=\"text-align: right;\">\n",
              "      <th></th>\n",
              "      <th>text</th>\n",
              "    </tr>\n",
              "  </thead>\n",
              "  <tbody>\n",
              "    <tr>\n",
              "      <th>0</th>\n",
              "      <td>applesupport cause the reply to be disregard a...</td>\n",
              "    </tr>\n",
              "    <tr>\n",
              "      <th>1</th>\n",
              "      <td>105835 your business mean a lot to us please d...</td>\n",
              "    </tr>\n",
              "    <tr>\n",
              "      <th>2</th>\n",
              "      <td>76328 i really hope you all change but i m sur...</td>\n",
              "    </tr>\n",
              "    <tr>\n",
              "      <th>3</th>\n",
              "      <td>105836 livechat be online at the moment or con...</td>\n",
              "    </tr>\n",
              "    <tr>\n",
              "      <th>4</th>\n",
              "      <td>virgintrains see attach error message i ve try...</td>\n",
              "    </tr>\n",
              "    <tr>\n",
              "      <th>...</th>\n",
              "      <td>...</td>\n",
              "    </tr>\n",
              "    <tr>\n",
              "      <th>88</th>\n",
              "      <td>105860 i wish amazon have an option of where i...</td>\n",
              "    </tr>\n",
              "    <tr>\n",
              "      <th>89</th>\n",
              "      <td>they reschedule my shit for tomorrow</td>\n",
              "    </tr>\n",
              "    <tr>\n",
              "      <th>90</th>\n",
              "      <td>105861 hey sara sorry to hear of the issue you...</td>\n",
              "    </tr>\n",
              "    <tr>\n",
              "      <th>91</th>\n",
              "      <td>tesco bit of both find the layout cumbersome a...</td>\n",
              "    </tr>\n",
              "    <tr>\n",
              "      <th>92</th>\n",
              "      <td>105861 if that doesn t help please dm your ful...</td>\n",
              "    </tr>\n",
              "  </tbody>\n",
              "</table>\n",
              "<p>93 rows × 1 columns</p>\n",
              "</div>"
            ],
            "text/plain": [
              "                                                 text\n",
              "0   applesupport cause the reply to be disregard a...\n",
              "1   105835 your business mean a lot to us please d...\n",
              "2   76328 i really hope you all change but i m sur...\n",
              "3   105836 livechat be online at the moment or con...\n",
              "4   virgintrains see attach error message i ve try...\n",
              "..                                                ...\n",
              "88  105860 i wish amazon have an option of where i...\n",
              "89               they reschedule my shit for tomorrow\n",
              "90  105861 hey sara sorry to hear of the issue you...\n",
              "91  tesco bit of both find the layout cumbersome a...\n",
              "92  105861 if that doesn t help please dm your ful...\n",
              "\n",
              "[93 rows x 1 columns]"
            ]
          },
          "metadata": {},
          "execution_count": 13
        }
      ]
    },
    {
      "cell_type": "markdown",
      "metadata": {
        "id": "FY8HjIfI_Slb"
      },
      "source": [
        "## Removal of Stopwords"
      ]
    },
    {
      "cell_type": "code",
      "metadata": {
        "colab": {
          "base_uri": "https://localhost:8080/"
        },
        "id": "2wFhRAlnPFZw",
        "outputId": "e3e6f5e4-e674-4980-bf9f-069fe1724f34"
      },
      "source": [
        "import nltk # helps download stop words\n",
        "nltk.download('stopwords')\n",
        "from nltk.corpus import stopwords"
      ],
      "execution_count": null,
      "outputs": [
        {
          "output_type": "stream",
          "name": "stdout",
          "text": [
            "[nltk_data] Downloading package stopwords to /root/nltk_data...\n",
            "[nltk_data]   Package stopwords is already up-to-date!\n"
          ]
        }
      ]
    },
    {
      "cell_type": "code",
      "metadata": {
        "id": "Mpa794zD-WIp"
      },
      "source": [
        "for i in range(0,93):\n",
        "  all_stopwords = stopwords.words('english')\n",
        "  sentence = dataset['text'][i].split()\n",
        "  for j in range(len(sentence)):\n",
        "    if sentence[j] in set(all_stopwords): # Replace stopwords with \"\"\n",
        "      sentence[j]=\"\"\n",
        "  sentence = ' '.join(sentence)\n",
        "  dataset['text'][i] = sentence"
      ],
      "execution_count": null,
      "outputs": []
    },
    {
      "cell_type": "code",
      "metadata": {
        "colab": {
          "base_uri": "https://localhost:8080/",
          "height": 419
        },
        "id": "KPfeZpA2OoAW",
        "outputId": "7dfb33e3-b2b9-496a-c01e-6214ff411fc4"
      },
      "source": [
        "dataset"
      ],
      "execution_count": null,
      "outputs": [
        {
          "output_type": "execute_result",
          "data": {
            "text/html": [
              "<div>\n",
              "<style scoped>\n",
              "    .dataframe tbody tr th:only-of-type {\n",
              "        vertical-align: middle;\n",
              "    }\n",
              "\n",
              "    .dataframe tbody tr th {\n",
              "        vertical-align: top;\n",
              "    }\n",
              "\n",
              "    .dataframe thead th {\n",
              "        text-align: right;\n",
              "    }\n",
              "</style>\n",
              "<table border=\"1\" class=\"dataframe\">\n",
              "  <thead>\n",
              "    <tr style=\"text-align: right;\">\n",
              "      <th></th>\n",
              "      <th>text</th>\n",
              "    </tr>\n",
              "  </thead>\n",
              "  <tbody>\n",
              "    <tr>\n",
              "      <th>0</th>\n",
              "      <td>applesupport cause  reply   disregard   tapped...</td>\n",
              "    </tr>\n",
              "    <tr>\n",
              "      <th>1</th>\n",
              "      <td>105835  business mean  lot  us please dm  name...</td>\n",
              "    </tr>\n",
              "    <tr>\n",
              "      <th>2</th>\n",
              "      <td>76328  really hope   change    sure  win</td>\n",
              "    </tr>\n",
              "    <tr>\n",
              "      <th>3</th>\n",
              "      <td>105836 livechat  online   moment  contact 0333...</td>\n",
              "    </tr>\n",
              "    <tr>\n",
              "      <th>4</th>\n",
              "      <td>virgintrains see attach error message   try le...</td>\n",
              "    </tr>\n",
              "    <tr>\n",
              "      <th>...</th>\n",
              "      <td>...</td>\n",
              "    </tr>\n",
              "    <tr>\n",
              "      <th>88</th>\n",
              "      <td>105860  wish amazon   option      get  ship   ...</td>\n",
              "    </tr>\n",
              "    <tr>\n",
              "      <th>89</th>\n",
              "      <td>reschedule  shit  tomorrow</td>\n",
              "    </tr>\n",
              "    <tr>\n",
              "      <th>90</th>\n",
              "      <td>105861 hey sara sorry  hear   issue      ask  ...</td>\n",
              "    </tr>\n",
              "    <tr>\n",
              "      <th>91</th>\n",
              "      <td>tesco bit   find  layout cumbersome   remove  ...</td>\n",
              "    </tr>\n",
              "    <tr>\n",
              "      <th>92</th>\n",
              "      <td>105861     help please dm  full name address  ...</td>\n",
              "    </tr>\n",
              "  </tbody>\n",
              "</table>\n",
              "<p>93 rows × 1 columns</p>\n",
              "</div>"
            ],
            "text/plain": [
              "                                                 text\n",
              "0   applesupport cause  reply   disregard   tapped...\n",
              "1   105835  business mean  lot  us please dm  name...\n",
              "2     76328  really hope   change    sure  win       \n",
              "3   105836 livechat  online   moment  contact 0333...\n",
              "4   virgintrains see attach error message   try le...\n",
              "..                                                ...\n",
              "88  105860  wish amazon   option      get  ship   ...\n",
              "89                         reschedule  shit  tomorrow\n",
              "90  105861 hey sara sorry  hear   issue      ask  ...\n",
              "91  tesco bit   find  layout cumbersome   remove  ...\n",
              "92  105861     help please dm  full name address  ...\n",
              "\n",
              "[93 rows x 1 columns]"
            ]
          },
          "metadata": {},
          "execution_count": 16
        }
      ]
    },
    {
      "cell_type": "markdown",
      "metadata": {
        "id": "gtMyjtgd7bs6"
      },
      "source": [
        "## Conclusion:"
      ]
    },
    {
      "cell_type": "markdown",
      "metadata": {
        "id": "IKoB-Yu77f5R"
      },
      "source": [
        "The data that has been used had earlier contained many URLs, special characters, words with mixed cases and different forms (adverbs, verbs, nouns, adjectives) of the same root word.\n",
        "For eliminating such confusions, Removal of URLs, non-alphanumeric characters, conversion to lower case and Lemmatization methods have been carried out. \n",
        "The final dataset now, is almost clear of any noise!"
      ]
    }
  ]
}