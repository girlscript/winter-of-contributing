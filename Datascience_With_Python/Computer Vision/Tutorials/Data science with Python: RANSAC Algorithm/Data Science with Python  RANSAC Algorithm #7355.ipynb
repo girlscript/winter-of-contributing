{
  "nbformat": 4,
  "nbformat_minor": 0,
  "metadata": {
    "colab": {
      "name": "Untitled9.ipynb",
      "provenance": [],
      "collapsed_sections": []
    },
    "kernelspec": {
      "name": "python3",
      "display_name": "Python 3"
    },
    "language_info": {
      "name": "python"
    }
  },
  "cells": [
    {
      "cell_type": "markdown",
      "metadata": {
        "id": "Hus89IFgfXW1"
      },
      "source": [
        "# **RANSAC ALGORITHM**\n",
        "\n",
        "---\n",
        "\n",
        "\n",
        "\n",
        "---\n",
        "\n"
      ]
    },
    {
      "cell_type": "markdown",
      "metadata": {
        "id": "1lMSM87Ak_qo"
      },
      "source": [
        "**OVERVIEW :**\n",
        "\n",
        "---\n",
        "\n",
        "\n",
        "\n",
        "\n",
        "**Random sample consensus, or** **RANSAC**, is an iterative method for estimating a mathematical model from a data set that contains outliers. The RANSAC algorithm works by identifying the outliers in a data set and estimating the desired model using data that does not contain outliers.\n",
        "\n",
        "\n",
        "The RANdom SAmple Consensus **(RANSAC)** algorithm proposed by **Fischler and**\n",
        "**Bolles** is a general parameter estimation approach designed to cope with a large\n",
        "proportion of outliers in the input data. \n",
        "\n",
        "Unlike many of the common robust estimation techniques such as M-estimators and least-median squares that have beenadopted by the computer vision community from the statistics literature, RANSACwas developed from within the computer vision community.\n",
        "\n",
        "\n",
        "RANSAC is a **resampling technique** that generates candidate solutions by using\n",
        "the minimum number observations (data points) required to estimate the underlying model parameters. \n",
        "\n",
        "As pointed out by Fischler and Bolles, unlike conventional sampling techniques that use as much of the data as possible to obtain an initial solution and then proceed to prune outliers, RANSAC uses the smallest set possible and proceeds to enlarge this set with consistent data points .\n",
        "\n",
        "\n",
        "\n",
        "\n",
        "For example, the equation of a line that best fits a set of points can be estimated using RANSAC."
      ]
    },
    {
      "cell_type": "markdown",
      "metadata": {
        "id": "Z-yXws6d8Nb9"
      },
      "source": [
        "**TERMINOLOGIES**:\n",
        "\n",
        "---\n",
        "\n",
        "\n",
        "\n",
        "**Outliers:** \n",
        "\n",
        "Outliers are data which are far from other data points. These data points can be found at both the ends. Meaning, outliers can be way below a certain point which can be termed as minimum or way more than other point which can be termed as maximum. One of the easy way to find outlier is to use boxplot. Here is the box plot created to find out outliers in the housing prices. In the boxplot given below, one can find outliers at both the ends such as minimum and maximum. These are the points which can have adverse impact on coefficients of regression model if not taken care of. In this post, you will learn about how using RANSAC algorithm will exclude outliers from training data used for training the model.\n",
        "\n"
      ]
    },
    {
      "cell_type": "code",
      "metadata": {
        "colab": {
          "base_uri": "https://localhost:8080/",
          "height": 415
        },
        "id": "jDuGxVaW9ooY",
        "outputId": "f0a75ed9-b7ea-4af3-f992-aa8f685d3b70"
      },
      "source": [
        "from sklearn import datasets\n",
        "import matplotlib.pyplot as plt\n",
        "#\n",
        "# Load the boston housing dataset\n",
        "#\n",
        "bhd = datasets.load_boston()\n",
        "X = bhd.data\n",
        "y = bhd.target\n",
        "#\n",
        "# Create the box plot\n",
        "#\n",
        "fig1, ax1 = plt.subplots()\n",
        "ax1.set_title('Box plot for Housing Prices')\n",
        "ax1.boxplot(y, vert=False)"
      ],
      "execution_count": null,
      "outputs": [
        {
          "output_type": "execute_result",
          "data": {
            "text/plain": [
              "{'boxes': [<matplotlib.lines.Line2D at 0x7f32ad7af950>],\n",
              " 'caps': [<matplotlib.lines.Line2D at 0x7f32ad7b48d0>,\n",
              "  <matplotlib.lines.Line2D at 0x7f32ad7b4e10>],\n",
              " 'fliers': [<matplotlib.lines.Line2D at 0x7f32ad7bc910>],\n",
              " 'means': [],\n",
              " 'medians': [<matplotlib.lines.Line2D at 0x7f32ad7bc3d0>],\n",
              " 'whiskers': [<matplotlib.lines.Line2D at 0x7f32ad7afe10>,\n",
              "  <matplotlib.lines.Line2D at 0x7f32ad7b4390>]}"
            ]
          },
          "metadata": {},
          "execution_count": 4
        },
        {
          "output_type": "display_data",
          "data": {
            "image/png": "[encoded data removed]",
            "text/plain": [
              "<Figure size 432x288 with 1 Axes>"
            ]
          },
          "metadata": {
            "needs_background": "light"
          }
        }
      ]
    },
    {
      "cell_type": "markdown",
      "metadata": {
        "id": "C5iMDtI992rn"
      },
      "source": [
        "**Inliers**: \n",
        "\n",
        "The data which are not outliers can be said as the inliers. Inliers represent the dataset which are used for training the model using algorithm specified as base_estimator. Looking the boxplot, one can say that the inliers data belong to dataset lying between minimum and maximum point."
      ]
    },
    {
      "cell_type": "markdown",
      "metadata": {
        "id": "EKhz33W0-MSv"
      },
      "source": [
        "**Mean Absolute Deviation (MAD)**: \n",
        "\n",
        "Median absolute deviation is measure of variability of observations from the median value of the observation. This will be used to select the inlier threshold to classify whether a data point is inlier or outlier. The choice of right value for MAD is problem specific and the challenge is to select the most appropriate value for MAD to have the model which generalizes well with unseen dataset."
      ]
    },
    {
      "cell_type": "markdown",
      "metadata": {
        "id": "97MzsQhqlUGS"
      },
      "source": [
        "**ALGORITHM** : \n",
        "\n",
        "---\n",
        "\n",
        "\n",
        "\n",
        "\n",
        "1: Select randomly the minimum number of points required to determine the model\n",
        "parameters.\n",
        "\n",
        "2: Solve for the parameters of the model.\n",
        "\n",
        "3: Determine how many points from the set of all points fit with a predefined tolerance.\n",
        "\n",
        "4: If the fraction of the number of inliers over the total number points in the set exceeds a predefined threshold τ , re-estimate the model parameters using all the identified inliers and terminate.\n",
        "\n",
        "5: Otherwise, repeat steps 1 through 4 (maximum of N times)."
      ]
    },
    {
      "cell_type": "markdown",
      "metadata": {
        "id": "HcmQWiIOqioX"
      },
      "source": [
        "**ADVANTAGES AND DISADVANTAGES :**\n",
        "\n",
        "---\n",
        "\n",
        "An advantage of RANSAC is its ability to do robust estimation of the model parameters, i.e., it can estimate the parameters with a high degree of accuracy even when a significant number of outliers are present in the data set.\n",
        "\n",
        "A disadvantage of RANSAC is that there is no upper bound on the time it takes to compute these parameters (except exhaustion). \n",
        " \n",
        "When the number of iterations computed is limited the solution obtained may not be optimal, and it may not even be one that fits the data in a good way. In this way RANSAC offers a trade-off; by computing a greater number of iterations the probability of a reasonable model being produced is increased. \n",
        " \n",
        "Moreover, RANSAC is not always able to find the optimal set even for moderately contaminated sets and it usually performs badly when the number of inliers is less than 50%.\n",
        " \n",
        "Optimal RANSAC was proposed to handle both these problems and is capable of finding the optimal set for heavily contaminated sets, even for an inlier ratio under 5%. \n",
        "\n",
        "Another disadvantage of RANSAC is that it requires the setting of problem-specific thresholds.\n",
        "\n",
        "RANSAC can only estimate one model for a particular data set. As for any one-model approach when two (or more) model instances exist, RANSAC may fail to find either one. \n",
        "\n",
        "The Hough transform is one alternative robust estimation technique that may be useful when more than one model instance is present. \n",
        "\n",
        "Another approach for multi model fitting is known as PEARL, which combines model sampling from data points as in RANSAC with iterative re-estimation of inliers and the multi-model fitting being formulated as an optimization problem with a global energy function describing the quality of the overall solution.\n"
      ]
    },
    {
      "cell_type": "markdown",
      "metadata": {
        "id": "qrYx65JJwxtb"
      },
      "source": [
        "**IMPLEMENTING RANSAC ALGORITHM IN PYTHON** :\n",
        "\n",
        "---\n",
        "\n"
      ]
    },
    {
      "cell_type": "markdown",
      "metadata": {
        "id": "SbZjhDUewrGE"
      },
      "source": [
        "**Robust linear model estimation using RANSAC**\n",
        "\n",
        "---\n",
        "\n"
      ]
    },
    {
      "cell_type": "code",
      "metadata": {
        "colab": {
          "base_uri": "https://localhost:8080/",
          "height": 313
        },
        "id": "ZKQeDZ2fuJLd",
        "outputId": "b6a719a0-809e-448f-e2ce-4f028a8e6715"
      },
      "source": [
        "\n",
        "import numpy as np\n",
        "from matplotlib import pyplot as plt\n",
        "\n",
        "from sklearn import linear_model, datasets\n",
        "\n",
        "\n",
        "n_samples = 1000\n",
        "n_outliers = 50\n",
        "\n",
        "\n",
        "X, y, coef = datasets.make_regression(\n",
        "    n_samples=n_samples,\n",
        "    n_features=1,\n",
        "    n_informative=1,\n",
        "    noise=10,\n",
        "    coef=True,\n",
        "    random_state=0,\n",
        ")\n",
        "\n",
        "# Add outlier data\n",
        "np.random.seed(0)\n",
        "X[:n_outliers] = 3 + 0.5 * np.random.normal(size=(n_outliers, 1))\n",
        "y[:n_outliers] = -3 + 10 * np.random.normal(size=n_outliers)\n",
        "\n",
        "# Fit line using all data\n",
        "lr = linear_model.LinearRegression()\n",
        "lr.fit(X, y)\n",
        "\n",
        "# Robustly fit linear model with RANSAC algorithm\n",
        "ransac = linear_model.RANSACRegressor()\n",
        "ransac.fit(X, y)\n",
        "inlier_mask = ransac.inlier_mask_\n",
        "outlier_mask = np.logical_not(inlier_mask)\n",
        "\n",
        "# Predict data of estimated models\n",
        "line_X = np.arange(X.min(), X.max())[:, np.newaxis]\n",
        "line_y = lr.predict(line_X)\n",
        "line_y_ransac = ransac.predict(line_X)\n",
        "\n",
        "# Compare estimated coefficients\n",
        "print(\"Estimated coefficients (true, linear regression, RANSAC):\")\n",
        "print(coef, lr.coef_, ransac.estimator_.coef_)\n",
        "\n",
        "lw = 2\n",
        "plt.scatter(\n",
        "    X[inlier_mask], y[inlier_mask], color=\"yellowgreen\", marker=\".\", label=\"Inliers\"\n",
        ")\n",
        "plt.scatter(\n",
        "    X[outlier_mask], y[outlier_mask], color=\"gold\", marker=\".\", label=\"Outliers\"\n",
        ")\n",
        "plt.plot(line_X, line_y, color=\"navy\", linewidth=lw, label=\"Linear regressor\")\n",
        "plt.plot(\n",
        "    line_X,\n",
        "    line_y_ransac,\n",
        "    color=\"cornflowerblue\",\n",
        "    linewidth=lw,\n",
        "    label=\"RANSAC regressor\",\n",
        ")\n",
        "plt.legend(loc=\"lower right\")\n",
        "plt.xlabel(\"Input\")\n",
        "plt.ylabel(\"Response\")\n",
        "plt.show()"
      ],
      "execution_count": null,
      "outputs": [
        {
          "output_type": "stream",
          "name": "stdout",
          "text": [
            "Estimated coefficients (true, linear regression, RANSAC):\n",
            "82.1903908407869 [54.17236387] [82.08533159]\n"
          ]
        },
        {
          "output_type": "display_data",
          "data": {
            "image/png": "[encoded data removed]",
            "text/plain": [
              "<Figure size 432x288 with 1 Axes>"
            ]
          },
          "metadata": {
            "needs_background": "light"
          }
        }
      ]
    }
  ]
}