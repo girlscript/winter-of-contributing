{
  "nbformat": 4,
  "nbformat_minor": 0,
  "metadata": {
    "colab": {
      "name": "ViT - Image_classification",
      "provenance": [],
      "collapsed_sections": []
    },
    "environment": {
      "name": "tf2-gpu.2-4.m61",
      "type": "gcloud",
      "uri": "gcr.io/deeplearning-platform-release/tf2-gpu.2-4:m61"
    },
    "kernelspec": {
      "display_name": "Python 3",
      "language": "python",
      "name": "python3"
    },
    "language_info": {
      "codemirror_mode": {
        "name": "ipython",
        "version": 3
      },
      "file_extension": ".py",
      "mimetype": "text/x-python",
      "name": "python",
      "nbconvert_exporter": "python",
      "pygments_lexer": "ipython3",
      "version": "3.7.9"
    },
    "accelerator": "GPU",
    "widgets": {
      "application/vnd.jupyter.widget-state+json": {
        "57bf2a3c15414b109cba26f2cb709b25": {
          "model_module": "@jupyter-widgets/controls",
          "model_name": "VBoxModel",
          "model_module_version": "1.5.0",
          "state": {
            "_view_name": "VBoxView",
            "_dom_classes": [],
            "_model_name": "VBoxModel",
            "_view_module": "@jupyter-widgets/controls",
            "_model_module_version": "1.5.0",
            "_view_count": null,
            "_view_module_version": "1.5.0",
            "box_style": "",
            "layout": "IPY_MODEL_8ef0ce16e6024b32b530adb5180a8462",
            "_model_module": "@jupyter-widgets/controls",
            "children": [
              "IPY_MODEL_a2908dd299724570b5a7612efecb4581",
              "IPY_MODEL_b6d29c93e01f4c7aba1e06fe23bb69f2"
            ]
          }
        },
        "8ef0ce16e6024b32b530adb5180a8462": {
          "model_module": "@jupyter-widgets/base",
          "model_name": "LayoutModel",
          "model_module_version": "1.2.0",
          "state": {
            "_view_name": "LayoutView",
            "grid_template_rows": null,
            "right": null,
            "justify_content": null,
            "_view_module": "@jupyter-widgets/base",
            "overflow": null,
            "_model_module_version": "1.2.0",
            "_view_count": null,
            "flex_flow": null,
            "width": null,
            "min_width": null,
            "border": null,
            "align_items": null,
            "bottom": null,
            "_model_module": "@jupyter-widgets/base",
            "top": null,
            "grid_column": null,
            "overflow_y": null,
            "overflow_x": null,
            "grid_auto_flow": null,
            "grid_area": null,
            "grid_template_columns": null,
            "flex": null,
            "_model_name": "LayoutModel",
            "justify_items": null,
            "grid_row": null,
            "max_height": null,
            "align_content": null,
            "visibility": null,
            "align_self": null,
            "height": null,
            "min_height": null,
            "padding": null,
            "grid_auto_rows": null,
            "grid_gap": null,
            "max_width": null,
            "order": null,
            "_view_module_version": "1.2.0",
            "grid_template_areas": null,
            "object_position": null,
            "object_fit": null,
            "grid_auto_columns": null,
            "margin": null,
            "display": null,
            "left": null
          }
        },
        "a2908dd299724570b5a7612efecb4581": {
          "model_module": "@jupyter-widgets/controls",
          "model_name": "LabelModel",
          "model_module_version": "1.5.0",
          "state": {
            "_view_name": "LabelView",
            "style": "IPY_MODEL_f66bf1c1cc7d40ae86b074c2dd26a4f3",
            "_dom_classes": [],
            "description": "",
            "_model_name": "LabelModel",
            "placeholder": "​",
            "_view_module": "@jupyter-widgets/controls",
            "_model_module_version": "1.5.0",
            "value": " 90.06MB of 90.06MB uploaded (0.00MB deduped)\r",
            "_view_count": null,
            "_view_module_version": "1.5.0",
            "description_tooltip": null,
            "_model_module": "@jupyter-widgets/controls",
            "layout": "IPY_MODEL_91654623924e4d3395f082a36615be45"
          }
        },
        "b6d29c93e01f4c7aba1e06fe23bb69f2": {
          "model_module": "@jupyter-widgets/controls",
          "model_name": "FloatProgressModel",
          "model_module_version": "1.5.0",
          "state": {
            "_view_name": "ProgressView",
            "style": "IPY_MODEL_7faf5fdc80ad429cab4a8985769eb306",
            "_dom_classes": [],
            "description": "",
            "_model_name": "FloatProgressModel",
            "bar_style": "",
            "max": 1,
            "_view_module": "@jupyter-widgets/controls",
            "_model_module_version": "1.5.0",
            "value": 1,
            "_view_count": null,
            "_view_module_version": "1.5.0",
            "orientation": "horizontal",
            "min": 0,
            "description_tooltip": null,
            "_model_module": "@jupyter-widgets/controls",
            "layout": "IPY_MODEL_fe3aa335524049a68792fc1fc7a0c8d2"
          }
        },
        "f66bf1c1cc7d40ae86b074c2dd26a4f3": {
          "model_module": "@jupyter-widgets/controls",
          "model_name": "DescriptionStyleModel",
          "model_module_version": "1.5.0",
          "state": {
            "_view_name": "StyleView",
            "_model_name": "DescriptionStyleModel",
            "description_width": "",
            "_view_module": "@jupyter-widgets/base",
            "_model_module_version": "1.5.0",
            "_view_count": null,
            "_view_module_version": "1.2.0",
            "_model_module": "@jupyter-widgets/controls"
          }
        },
        "91654623924e4d3395f082a36615be45": {
          "model_module": "@jupyter-widgets/base",
          "model_name": "LayoutModel",
          "model_module_version": "1.2.0",
          "state": {
            "_view_name": "LayoutView",
            "grid_template_rows": null,
            "right": null,
            "justify_content": null,
            "_view_module": "@jupyter-widgets/base",
            "overflow": null,
            "_model_module_version": "1.2.0",
            "_view_count": null,
            "flex_flow": null,
            "width": null,
            "min_width": null,
            "border": null,
            "align_items": null,
            "bottom": null,
            "_model_module": "@jupyter-widgets/base",
            "top": null,
            "grid_column": null,
            "overflow_y": null,
            "overflow_x": null,
            "grid_auto_flow": null,
            "grid_area": null,
            "grid_template_columns": null,
            "flex": null,
            "_model_name": "LayoutModel",
            "justify_items": null,
            "grid_row": null,
            "max_height": null,
            "align_content": null,
            "visibility": null,
            "align_self": null,
            "height": null,
            "min_height": null,
            "padding": null,
            "grid_auto_rows": null,
            "grid_gap": null,
            "max_width": null,
            "order": null,
            "_view_module_version": "1.2.0",
            "grid_template_areas": null,
            "object_position": null,
            "object_fit": null,
            "grid_auto_columns": null,
            "margin": null,
            "display": null,
            "left": null
          }
        },
        "7faf5fdc80ad429cab4a8985769eb306": {
          "model_module": "@jupyter-widgets/controls",
          "model_name": "ProgressStyleModel",
          "model_module_version": "1.5.0",
          "state": {
            "_view_name": "StyleView",
            "_model_name": "ProgressStyleModel",
            "description_width": "",
            "_view_module": "@jupyter-widgets/base",
            "_model_module_version": "1.5.0",
            "_view_count": null,
            "_view_module_version": "1.2.0",
            "bar_color": null,
            "_model_module": "@jupyter-widgets/controls"
          }
        },
        "fe3aa335524049a68792fc1fc7a0c8d2": {
          "model_module": "@jupyter-widgets/base",
          "model_name": "LayoutModel",
          "model_module_version": "1.2.0",
          "state": {
            "_view_name": "LayoutView",
            "grid_template_rows": null,
            "right": null,
            "justify_content": null,
            "_view_module": "@jupyter-widgets/base",
            "overflow": null,
            "_model_module_version": "1.2.0",
            "_view_count": null,
            "flex_flow": null,
            "width": null,
            "min_width": null,
            "border": null,
            "align_items": null,
            "bottom": null,
            "_model_module": "@jupyter-widgets/base",
            "top": null,
            "grid_column": null,
            "overflow_y": null,
            "overflow_x": null,
            "grid_auto_flow": null,
            "grid_area": null,
            "grid_template_columns": null,
            "flex": null,
            "_model_name": "LayoutModel",
            "justify_items": null,
            "grid_row": null,
            "max_height": null,
            "align_content": null,
            "visibility": null,
            "align_self": null,
            "height": null,
            "min_height": null,
            "padding": null,
            "grid_auto_rows": null,
            "grid_gap": null,
            "max_width": null,
            "order": null,
            "_view_module_version": "1.2.0",
            "grid_template_areas": null,
            "object_position": null,
            "object_fit": null,
            "grid_auto_columns": null,
            "margin": null,
            "display": null,
            "left": null
          }
        }
      }
    }
  },
  "cells": [
    {
      "cell_type": "markdown",
      "metadata": {
        "id": "yDyFnafomnRh"
      },
      "source": [
        "## Introduction\n",
        "\n",
        "This example implements the [Vision Transformer (ViT)](https://arxiv.org/abs/2010.11929)\n",
        "model by Alexey Dosovitskiy et al. for image classification,\n",
        "and demonstrates it on the CIFAR-100 dataset.\n",
        "The ViT model applies the Transformer architecture with self-attention to sequences of\n",
        "image patches, without using convolution layers.\n",
        "\n",
        "This example requires TensorFlow 2.4 or higher, as well as\n",
        "[TensorFlow Addons](https://www.tensorflow.org/addons/overview),\n",
        "which can be installed using the following command:\n",
        "\n",
        "```python\n",
        "pip install -U tensorflow-addons\n",
        "```"
      ]
    },
    {
      "cell_type": "markdown",
      "metadata": {
        "id": "MB8XAhjTmnRj"
      },
      "source": [
        "## Setup"
      ]
    },
    {
      "cell_type": "code",
      "metadata": {
        "id": "UTRmw0nJNkAl",
        "colab": {
          "base_uri": "https://localhost:8080/"
        },
        "outputId": "cde3ef0d-7d6d-43aa-8ec5-92bc40eb9651"
      },
      "source": [
        "# !pip install wandb\n",
        "!pip install -U tensorflow-addons"
      ],
      "execution_count": null,
      "outputs": [
        {
          "output_type": "stream",
          "text": [
            "Collecting tensorflow-addons\n",
            "\u001b[?25l  Downloading https://files.pythonhosted.org/packages/66/4b/e893d194e626c24b3df2253066aa418f46a432fdb68250cde14bf9bb0700/tensorflow_addons-0.13.0-cp37-cp37m-manylinux2010_x86_64.whl (679kB)\n",
            "\r\u001b[K     |▌                               | 10kB 16.7MB/s eta 0:00:01\r\u001b[K     |█                               | 20kB 22.8MB/s eta 0:00:01\r\u001b[K     |█▌                              | 30kB 25.9MB/s eta 0:00:01\r\u001b[K     |██                              | 40kB 27.6MB/s eta 0:00:01\r\u001b[K     |██▍                             | 51kB 28.8MB/s eta 0:00:01\r\u001b[K     |███                             | 61kB 30.9MB/s eta 0:00:01\r\u001b[K     |███▍                            | 71kB 29.5MB/s eta 0:00:01\r\u001b[K     |███▉                            | 81kB 30.5MB/s eta 0:00:01\r\u001b[K     |████▍                           | 92kB 30.1MB/s eta 0:00:01\r\u001b[K     |████▉                           | 102kB 31.4MB/s eta 0:00:01\r\u001b[K     |█████▎                          | 112kB 31.4MB/s eta 0:00:01\r\u001b[K     |█████▉                          | 122kB 31.4MB/s eta 0:00:01\r\u001b[K     |██████▎                         | 133kB 31.4MB/s eta 0:00:01\r\u001b[K     |██████▊                         | 143kB 31.4MB/s eta 0:00:01\r\u001b[K     |███████▎                        | 153kB 31.4MB/s eta 0:00:01\r\u001b[K     |███████▊                        | 163kB 31.4MB/s eta 0:00:01\r\u001b[K     |████████▏                       | 174kB 31.4MB/s eta 0:00:01\r\u001b[K     |████████▊                       | 184kB 31.4MB/s eta 0:00:01\r\u001b[K     |█████████▏                      | 194kB 31.4MB/s eta 0:00:01\r\u001b[K     |█████████▋                      | 204kB 31.4MB/s eta 0:00:01\r\u001b[K     |██████████▏                     | 215kB 31.4MB/s eta 0:00:01\r\u001b[K     |██████████▋                     | 225kB 31.4MB/s eta 0:00:01\r\u001b[K     |███████████                     | 235kB 31.4MB/s eta 0:00:01\r\u001b[K     |███████████▋                    | 245kB 31.4MB/s eta 0:00:01\r\u001b[K     |████████████                    | 256kB 31.4MB/s eta 0:00:01\r\u001b[K     |████████████▌                   | 266kB 31.4MB/s eta 0:00:01\r\u001b[K     |█████████████                   | 276kB 31.4MB/s eta 0:00:01\r\u001b[K     |█████████████▌                  | 286kB 31.4MB/s eta 0:00:01\r\u001b[K     |██████████████                  | 296kB 31.4MB/s eta 0:00:01\r\u001b[K     |██████████████▌                 | 307kB 31.4MB/s eta 0:00:01\r\u001b[K     |███████████████                 | 317kB 31.4MB/s eta 0:00:01\r\u001b[K     |███████████████▍                | 327kB 31.4MB/s eta 0:00:01\r\u001b[K     |████████████████                | 337kB 31.4MB/s eta 0:00:01\r\u001b[K     |████████████████▍               | 348kB 31.4MB/s eta 0:00:01\r\u001b[K     |████████████████▉               | 358kB 31.4MB/s eta 0:00:01\r\u001b[K     |█████████████████▍              | 368kB 31.4MB/s eta 0:00:01\r\u001b[K     |█████████████████▉              | 378kB 31.4MB/s eta 0:00:01\r\u001b[K     |██████████████████▎             | 389kB 31.4MB/s eta 0:00:01\r\u001b[K     |██████████████████▉             | 399kB 31.4MB/s eta 0:00:01\r\u001b[K     |███████████████████▎            | 409kB 31.4MB/s eta 0:00:01\r\u001b[K     |███████████████████▊            | 419kB 31.4MB/s eta 0:00:01\r\u001b[K     |████████████████████▎           | 430kB 31.4MB/s eta 0:00:01\r\u001b[K     |████████████████████▊           | 440kB 31.4MB/s eta 0:00:01\r\u001b[K     |█████████████████████▏          | 450kB 31.4MB/s eta 0:00:01\r\u001b[K     |█████████████████████▊          | 460kB 31.4MB/s eta 0:00:01\r\u001b[K     |██████████████████████▏         | 471kB 31.4MB/s eta 0:00:01\r\u001b[K     |██████████████████████▋         | 481kB 31.4MB/s eta 0:00:01\r\u001b[K     |███████████████████████▏        | 491kB 31.4MB/s eta 0:00:01\r\u001b[K     |███████████████████████▋        | 501kB 31.4MB/s eta 0:00:01\r\u001b[K     |████████████████████████        | 512kB 31.4MB/s eta 0:00:01\r\u001b[K     |████████████████████████▋       | 522kB 31.4MB/s eta 0:00:01\r\u001b[K     |█████████████████████████       | 532kB 31.4MB/s eta 0:00:01\r\u001b[K     |█████████████████████████▌      | 542kB 31.4MB/s eta 0:00:01\r\u001b[K     |██████████████████████████      | 552kB 31.4MB/s eta 0:00:01\r\u001b[K     |██████████████████████████▌     | 563kB 31.4MB/s eta 0:00:01\r\u001b[K     |███████████████████████████     | 573kB 31.4MB/s eta 0:00:01\r\u001b[K     |███████████████████████████▌    | 583kB 31.4MB/s eta 0:00:01\r\u001b[K     |████████████████████████████    | 593kB 31.4MB/s eta 0:00:01\r\u001b[K     |████████████████████████████▍   | 604kB 31.4MB/s eta 0:00:01\r\u001b[K     |█████████████████████████████   | 614kB 31.4MB/s eta 0:00:01\r\u001b[K     |█████████████████████████████▍  | 624kB 31.4MB/s eta 0:00:01\r\u001b[K     |█████████████████████████████▉  | 634kB 31.4MB/s eta 0:00:01\r\u001b[K     |██████████████████████████████▍ | 645kB 31.4MB/s eta 0:00:01\r\u001b[K     |██████████████████████████████▉ | 655kB 31.4MB/s eta 0:00:01\r\u001b[K     |███████████████████████████████▎| 665kB 31.4MB/s eta 0:00:01\r\u001b[K     |███████████████████████████████▉| 675kB 31.4MB/s eta 0:00:01\r\u001b[K     |████████████████████████████████| 686kB 31.4MB/s \n",
            "\u001b[?25hRequirement already satisfied, skipping upgrade: typeguard>=2.7 in /usr/local/lib/python3.7/dist-packages (from tensorflow-addons) (2.7.1)\n",
            "Installing collected packages: tensorflow-addons\n",
            "Successfully installed tensorflow-addons-0.13.0\n"
          ],
          "name": "stdout"
        }
      ]
    },
    {
      "cell_type": "code",
      "metadata": {
        "colab": {
          "base_uri": "https://localhost:8080/",
          "height": 67
        },
        "id": "2nzbCIU4NxgG",
        "outputId": "6a3a856e-2c53-4d37-9c96-795ff26bb385"
      },
      "source": [
        "# import wandb\n",
        "# wandb.login()"
      ],
      "execution_count": null,
      "outputs": [
        {
          "output_type": "display_data",
          "data": {
            "application/javascript": [
              "\n",
              "        window._wandbApiKey = new Promise((resolve, reject) => {\n",
              "            function loadScript(url) {\n",
              "            return new Promise(function(resolve, reject) {\n",
              "                let newScript = document.createElement(\"script\");\n",
              "                newScript.onerror = reject;\n",
              "                newScript.onload = resolve;\n",
              "                document.body.appendChild(newScript);\n",
              "                newScript.src = url;\n",
              "            });\n",
              "            }\n",
              "            loadScript(\"https://cdn.jsdelivr.net/npm/postmate/build/postmate.min.js\").then(() => {\n",
              "            const iframe = document.createElement('iframe')\n",
              "            iframe.style.cssText = \"width:0;height:0;border:none\"\n",
              "            document.body.appendChild(iframe)\n",
              "            const handshake = new Postmate({\n",
              "                container: iframe,\n",
              "                url: 'https://wandb.ai/authorize'\n",
              "            });\n",
              "            const timeout = setTimeout(() => reject(\"Couldn't auto authenticate\"), 5000)\n",
              "            handshake.then(function(child) {\n",
              "                child.on('authorize', data => {\n",
              "                    clearTimeout(timeout)\n",
              "                    resolve(data)\n",
              "                });\n",
              "            });\n",
              "            })\n",
              "        });\n",
              "    "
            ],
            "text/plain": [
              "<IPython.core.display.Javascript object>"
            ]
          },
          "metadata": {
            "tags": []
          }
        },
        {
          "output_type": "stream",
          "text": [
            "\u001b[34m\u001b[1mwandb\u001b[0m: Appending key for api.wandb.ai to your netrc file: /root/.netrc\n"
          ],
          "name": "stderr"
        },
        {
          "output_type": "execute_result",
          "data": {
            "text/plain": [
              "True"
            ]
          },
          "metadata": {
            "tags": []
          },
          "execution_count": 2
        }
      ]
    },
    {
      "cell_type": "code",
      "metadata": {
        "id": "WysE_4EpmnRk"
      },
      "source": [
        "import numpy as np\n",
        "import tensorflow as tf\n",
        "from tensorflow import keras\n",
        "from tensorflow.keras import layers\n",
        "import tensorflow_addons as tfa"
      ],
      "execution_count": null,
      "outputs": []
    },
    {
      "cell_type": "markdown",
      "metadata": {
        "id": "Ktn4uKE1mnRk"
      },
      "source": [
        "## Prepare the data"
      ]
    },
    {
      "cell_type": "code",
      "metadata": {
        "id": "REesntKKmnRl",
        "colab": {
          "base_uri": "https://localhost:8080/"
        },
        "outputId": "ee9b4602-d5c6-47b5-fd34-6201358ec924"
      },
      "source": [
        "num_classes = 100\n",
        "input_shape = (32, 32, 3)\n",
        "\n",
        "(x_train, y_train), (x_test, y_test) = keras.datasets.cifar100.load_data()\n",
        "\n",
        "print(f\"x_train shape: {x_train.shape} - y_train shape: {y_train.shape}\")\n",
        "print(f\"x_test shape: {x_test.shape} - y_test shape: {y_test.shape}\")\n"
      ],
      "execution_count": null,
      "outputs": [
        {
          "output_type": "stream",
          "text": [
            "Downloading data from https://www.cs.toronto.edu/~kriz/cifar-100-python.tar.gz\n",
            "169009152/169001437 [==============================] - 3s 0us/step\n",
            "x_train shape: (50000, 32, 32, 3) - y_train shape: (50000, 1)\n",
            "x_test shape: (10000, 32, 32, 3) - y_test shape: (10000, 1)\n"
          ],
          "name": "stdout"
        }
      ]
    },
    {
      "cell_type": "markdown",
      "metadata": {
        "id": "Cd_JnUPxmnRm"
      },
      "source": [
        "## Configure the hyperparameters"
      ]
    },
    {
      "cell_type": "markdown",
      "metadata": {
        "id": "n8qurRKnegHU"
      },
      "source": [
        "![image.png](data:image/png;base64,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)"
      ]
    },
    {
      "cell_type": "markdown",
      "metadata": {
        "id": "PFWPrvhaaEBM"
      },
      "source": [
        "Remember that,\n",
        "1. Transformer’s sequence length is inversely proportional to the square of the patch size,\n",
        "thus models with smaller patch size are computationally more expensive.\n",
        "2. To get the best possible performance on the smaller datasets, we optimize three regularization parameters – weight decay, dropout, and label smoothing."
      ]
    },
    {
      "cell_type": "code",
      "metadata": {
        "id": "8Wgnjbs6mnRm"
      },
      "source": [
        "learning_rate = 0.003\n",
        "weight_decay = 0.1\n",
        "batch_size = 512 \n",
        "num_epochs = 7 #Changed from 100 to 7\n",
        "image_size = 72  # We'll resize input images to this size\n",
        "patch_size = 16  # Size of the patches to be extract from the input images\n",
        "num_patches = (image_size // patch_size) ** 2\n",
        "projection_dim = 64\n",
        "num_heads = 12 # Changed from 5 to 12 (Yet to train!)\n",
        "transformer_units = [\n",
        "    projection_dim * 2,\n",
        "    projection_dim,\n",
        "]  # Size of the transformer layers\n",
        "transformer_layers = 10 #Changed from 13 to 10\n",
        "mlp_head_units = [3072, 768]  # Size of the dense layers of the final classifier\n"
      ],
      "execution_count": null,
      "outputs": []
    },
    {
      "cell_type": "markdown",
      "metadata": {
        "id": "hm71fJu1mnRn"
      },
      "source": [
        "## Use data augmentation"
      ]
    },
    {
      "cell_type": "code",
      "metadata": {
        "id": "RY5zsMTtmnRn"
      },
      "source": [
        "data_augmentation = keras.Sequential(\n",
        "    [\n",
        "        layers.experimental.preprocessing.Normalization(),\n",
        "        layers.experimental.preprocessing.Resizing(image_size, image_size),\n",
        "        layers.experimental.preprocessing.RandomFlip(\"horizontal\"),\n",
        "        layers.experimental.preprocessing.RandomRotation(factor=0.02),\n",
        "        layers.experimental.preprocessing.RandomZoom(\n",
        "            height_factor=0.2, width_factor=0.2\n",
        "        ),\n",
        "    ],\n",
        "    name=\"data_augmentation\",\n",
        ")\n",
        "# Compute the mean and the variance of the training data for normalization.\n",
        "data_augmentation.layers[0].adapt(x_train)\n"
      ],
      "execution_count": null,
      "outputs": []
    },
    {
      "cell_type": "markdown",
      "metadata": {
        "id": "8me8Ag6imnRo"
      },
      "source": [
        "## Implement multilayer perceptron (MLP)"
      ]
    },
    {
      "cell_type": "code",
      "metadata": {
        "id": "iVO1Y4dAmnRp"
      },
      "source": [
        "\n",
        "def mlp(x, hidden_units, dropout_rate):\n",
        "    for units in hidden_units:\n",
        "        x = layers.Dense(units, activation=tf.nn.gelu)(x)\n",
        "        x = layers.Dropout(dropout_rate)(x)\n",
        "    return x\n"
      ],
      "execution_count": null,
      "outputs": []
    },
    {
      "cell_type": "markdown",
      "metadata": {
        "id": "NotgEJodmnRp"
      },
      "source": [
        "## Implement patch creation as a layer"
      ]
    },
    {
      "cell_type": "code",
      "metadata": {
        "id": "zNSLBKh-mnRq"
      },
      "source": [
        "\n",
        "class Patches(layers.Layer):\n",
        "    def __init__(self, patch_size):\n",
        "        super(Patches, self).__init__()\n",
        "        self.patch_size = patch_size\n",
        "\n",
        "    def call(self, images):\n",
        "        batch_size = tf.shape(images)[0]\n",
        "        patches = tf.image.extract_patches(\n",
        "            images=images,\n",
        "            sizes=[1, self.patch_size, self.patch_size, 1],\n",
        "            strides=[1, self.patch_size, self.patch_size, 1],\n",
        "            rates=[1, 1, 1, 1],\n",
        "            padding=\"VALID\",\n",
        "        )\n",
        "        patch_dims = patches.shape[-1]\n",
        "        # Flattening patches\n",
        "        patches = tf.reshape(patches, [batch_size, -1, patch_dims]) # Why -1? Check comments of Sayak paul in Henry AI labs tutorial\n",
        "        return patches\n",
        "\n",
        "    # Why overriding get-config? ⬇\n",
        "    # https://stackoverflow.com/questions/58678836/notimplementederror-layers-with-arguments-in-init-must-override-get-conf/58799021\n",
        "    def get_config(self):\n",
        "\n",
        "        # config = super().get_config().copy()\n",
        "        config= {\n",
        "            'patch_size': self.patch_size,\n",
        "        }\n",
        "        \n",
        "        return config    \n"
      ],
      "execution_count": null,
      "outputs": []
    },
    {
      "cell_type": "markdown",
      "metadata": {
        "id": "XVQxjHhBmnRr"
      },
      "source": [
        "Let's display patches for a sample image"
      ]
    },
    {
      "cell_type": "code",
      "metadata": {
        "id": "xGieXsbemnRr",
        "colab": {
          "base_uri": "https://localhost:8080/",
          "height": 546
        },
        "outputId": "667d53c0-bac5-4179-c5da-c8a55530583c"
      },
      "source": [
        "import matplotlib.pyplot as plt\n",
        "\n",
        "plt.figure(figsize=(4, 4))\n",
        "image = x_train[np.random.choice(range(x_train.shape[0]))]\n",
        "plt.imshow(image.astype(\"uint8\"))\n",
        "plt.axis(\"off\")\n",
        "\n",
        "resized_image = tf.image.resize(\n",
        "    tf.convert_to_tensor([image]), size=(image_size, image_size)\n",
        ")\n",
        "patches = Patches(patch_size)(resized_image)\n",
        "print(f\"Image size: {image_size} X {image_size}\")\n",
        "print(f\"Patch size: {patch_size} X {patch_size}\")\n",
        "print(f\"Patches per image: {patches.shape[1]}\")\n",
        "print(f\"Elements per patch: {patches.shape[-1]}\")\n",
        "\n",
        "n = int(np.sqrt(patches.shape[1]))\n",
        "plt.figure(figsize=(4, 4))\n",
        "for i, patch in enumerate(patches[0]):\n",
        "    ax = plt.subplot(n, n, i + 1)\n",
        "    patch_img = tf.reshape(patch, (patch_size, patch_size, 3))\n",
        "    plt.imshow(patch_img.numpy().astype(\"uint8\"))\n",
        "    plt.axis(\"off\")"
      ],
      "execution_count": null,
      "outputs": [
        {
          "output_type": "stream",
          "text": [
            "Image size: 72 X 72\n",
            "Patch size: 16 X 16\n",
            "Patches per image: 16\n",
            "Elements per patch: 768\n"
          ],
          "name": "stdout"
        },
        {
          "output_type": "display_data",
          "data": {
            "image/png": "[encoded data removed]",
            "text/plain": [
              "<Figure size 288x288 with 1 Axes>"
            ]
          },
          "metadata": {
            "tags": [],
            "needs_background": "light"
          }
        },
        {
          "output_type": "display_data",
          "data": {
            "image/png": "[encoded data removed]",
            "text/plain": [
              "<Figure size 288x288 with 16 Axes>"
            ]
          },
          "metadata": {
            "tags": [],
            "needs_background": "light"
          }
        }
      ]
    },
    {
      "cell_type": "markdown",
      "metadata": {
        "id": "s2K-kaqOmnRs"
      },
      "source": [
        "## Implement the patch encoding layer\n",
        "\n",
        "The `PatchEncoder` layer will **linearly transform** a patch by projecting it into a\n",
        "vector of size `projection_dim`. In addition, it adds a learnable position\n",
        "embedding to the projected vector."
      ]
    },
    {
      "cell_type": "code",
      "metadata": {
        "id": "IcQRUnDYmnRs"
      },
      "source": [
        "class PatchEncoder(layers.Layer):\n",
        "    def __init__(self, num_patches, projection_dim):\n",
        "        super(PatchEncoder, self).__init__()\n",
        "        self.num_patches = num_patches\n",
        "        self.projection = layers.Dense(units=projection_dim)\n",
        "        self.position_embedding = layers.Embedding(\n",
        "            input_dim=num_patches, output_dim=projection_dim\n",
        "        )\n",
        "\n",
        "    def call(self, patch):\n",
        "        positions = tf.range(start=0, limit=self.num_patches, delta=1)\n",
        "        encoded = self.projection(patch) + self.position_embedding(positions)\n",
        "        return encoded\n",
        "\n",
        "    def get_config(self):\n",
        "        # config = super().get_config().copy()\n",
        "        config= {\n",
        "            'num_patches': self.num_patches,\n",
        "            'projection' : self.projection,\n",
        "            'position_embedding' : self.position_embedding,\n",
        "        }\n",
        "        \n",
        "        return config         \n"
      ],
      "execution_count": null,
      "outputs": []
    },
    {
      "cell_type": "markdown",
      "metadata": {
        "id": "Y026Wbi2mnRu"
      },
      "source": [
        "## Build the ViT model\n",
        "\n",
        "The ViT model consists of multiple Transformer blocks,\n",
        "which use the `layers.MultiHeadAttention` layer as a self-attention mechanism\n",
        "applied to the sequence of patches. The Transformer blocks produce a\n",
        "`[batch_size, num_patches, projection_dim]` tensor, which is processed via an\n",
        "classifier head with softmax to produce the final class probabilities output.\n",
        "\n",
        "Unlike the technique described in the [paper](https://arxiv.org/abs/2010.11929),\n",
        "which prepends a learnable embedding to the sequence of encoded patches to serve\n",
        "as the image representation, all the outputs of the final Transformer block are\n",
        "reshaped with `layers.Flatten()` and used as the image\n",
        "representation input to the classifier head.\n",
        "Note that the `layers.GlobalAveragePooling1D` layer\n",
        "could also be used instead to aggregate the outputs of the Transformer block,\n",
        "especially when the number of patches and the projection dimensions are large."
      ]
    },
    {
      "cell_type": "markdown",
      "metadata": {
        "id": "LMPMB00hLDEg"
      },
      "source": [
        "![ViT_Arch](https://lh3.googleusercontent.com/-yo6s2ijtFHAx4ptnRwVL41ORkir6OhH43usNtKvJjVgVuZC6lT7cMsSDZmMXqmapYmL-lDhqi2qIqJmY44Z0rqrAfjHOPC09u5IaRcOg28UW5pBXnFtLvSA_yB6yDYwpwm6Pyqo)\n"
      ]
    },
    {
      "cell_type": "code",
      "metadata": {
        "id": "JG5xruTgmnRv"
      },
      "source": [
        "\n",
        "def create_vit_classifier():\n",
        "    inputs = layers.Input(shape=input_shape)\n",
        "    # Augment data.\n",
        "    augmented = data_augmentation(inputs)\n",
        "    # Create patches.\n",
        "    patches = Patches(patch_size)(augmented)\n",
        "    # Encode patches.\n",
        "    encoded_patches = PatchEncoder(num_patches, projection_dim)(patches)\n",
        "\n",
        "    # Create multiple layers of the Transformer block.\n",
        "    for _ in range(transformer_layers):\n",
        "        # Layer normalization 1.\n",
        "        x1 = layers.LayerNormalization(epsilon=1e-6)(encoded_patches)\n",
        "        # Create a multi-head attention layer.\n",
        "        attention_output = layers.MultiHeadAttention(\n",
        "            num_heads=num_heads, key_dim=projection_dim, dropout=0.1\n",
        "        )(x1, x1)  \n",
        "        # Skip connection 1.\n",
        "        x2 = layers.Add()([attention_output, encoded_patches])\n",
        "        # Layer normalization 2.\n",
        "        x3 = layers.LayerNormalization(epsilon=1e-6)(x2)\n",
        "        # MLP.\n",
        "        x3 = mlp(x3, hidden_units=transformer_units, dropout_rate=0.2)\n",
        "        # Skip connection 2.\n",
        "        encoded_patches = layers.Add()([x3, x2])\n",
        "\n",
        "    # Create a [batch_size, projection_dim] tensor.\n",
        "    representation = layers.LayerNormalization(epsilon=1e-6)(encoded_patches)\n",
        "    representation = layers.Flatten()(representation)\n",
        "    representation = layers.Dropout(0.5)(representation)\n",
        "    # Add MLP.\n",
        "    features = mlp(representation, hidden_units=mlp_head_units, dropout_rate=0.5)  \n",
        "    # Classify outputs.\n",
        "    logits = layers.Dense(num_classes)(features)\n",
        "    # Create the Keras model.\n",
        "    model = keras.Model(inputs=inputs, outputs=logits)\n",
        "    return model\n"
      ],
      "execution_count": null,
      "outputs": []
    },
    {
      "cell_type": "code",
      "metadata": {
        "id": "-FwIQLUcm9vc",
        "colab": {
          "base_uri": "https://localhost:8080/"
        },
        "outputId": "15cb9358-bcf9-4b93-885d-ceac285614a4"
      },
      "source": [
        "model = create_vit_classifier()\n",
        "model.summary()"
      ],
      "execution_count": null,
      "outputs": [
        {
          "output_type": "stream",
          "text": [
            "Model: \"model\"\n",
            "__________________________________________________________________________________________________\n",
            "Layer (type)                    Output Shape         Param #     Connected to                     \n",
            "==================================================================================================\n",
            "input_1 (InputLayer)            [(None, 32, 32, 3)]  0                                            \n",
            "__________________________________________________________________________________________________\n",
            "data_augmentation (Sequential)  (None, 72, 72, 3)    7           input_1[0][0]                    \n",
            "__________________________________________________________________________________________________\n",
            "patches (Patches)               (None, None, 768)    0           data_augmentation[0][0]          \n",
            "__________________________________________________________________________________________________\n",
            "patch_encoder (PatchEncoder)    (None, 16, 64)       50240       patches[0][0]                    \n",
            "__________________________________________________________________________________________________\n",
            "layer_normalization (LayerNorma (None, 16, 64)       128         patch_encoder[0][0]              \n",
            "__________________________________________________________________________________________________\n",
            "multi_head_attention (MultiHead (None, 16, 64)       198976      layer_normalization[0][0]        \n",
            "                                                                 layer_normalization[0][0]        \n",
            "__________________________________________________________________________________________________\n",
            "add (Add)                       (None, 16, 64)       0           multi_head_attention[0][0]       \n",
            "                                                                 patch_encoder[0][0]              \n",
            "__________________________________________________________________________________________________\n",
            "layer_normalization_1 (LayerNor (None, 16, 64)       128         add[0][0]                        \n",
            "__________________________________________________________________________________________________\n",
            "dense_1 (Dense)                 (None, 16, 128)      8320        layer_normalization_1[0][0]      \n",
            "__________________________________________________________________________________________________\n",
            "dropout (Dropout)               (None, 16, 128)      0           dense_1[0][0]                    \n",
            "__________________________________________________________________________________________________\n",
            "dense_2 (Dense)                 (None, 16, 64)       8256        dropout[0][0]                    \n",
            "__________________________________________________________________________________________________\n",
            "dropout_1 (Dropout)             (None, 16, 64)       0           dense_2[0][0]                    \n",
            "__________________________________________________________________________________________________\n",
            "add_1 (Add)                     (None, 16, 64)       0           dropout_1[0][0]                  \n",
            "                                                                 add[0][0]                        \n",
            "__________________________________________________________________________________________________\n",
            "layer_normalization_2 (LayerNor (None, 16, 64)       128         add_1[0][0]                      \n",
            "__________________________________________________________________________________________________\n",
            "multi_head_attention_1 (MultiHe (None, 16, 64)       198976      layer_normalization_2[0][0]      \n",
            "                                                                 layer_normalization_2[0][0]      \n",
            "__________________________________________________________________________________________________\n",
            "add_2 (Add)                     (None, 16, 64)       0           multi_head_attention_1[0][0]     \n",
            "                                                                 add_1[0][0]                      \n",
            "__________________________________________________________________________________________________\n",
            "layer_normalization_3 (LayerNor (None, 16, 64)       128         add_2[0][0]                      \n",
            "__________________________________________________________________________________________________\n",
            "dense_3 (Dense)                 (None, 16, 128)      8320        layer_normalization_3[0][0]      \n",
            "__________________________________________________________________________________________________\n",
            "dropout_2 (Dropout)             (None, 16, 128)      0           dense_3[0][0]                    \n",
            "__________________________________________________________________________________________________\n",
            "dense_4 (Dense)                 (None, 16, 64)       8256        dropout_2[0][0]                  \n",
            "__________________________________________________________________________________________________\n",
            "dropout_3 (Dropout)             (None, 16, 64)       0           dense_4[0][0]                    \n",
            "__________________________________________________________________________________________________\n",
            "add_3 (Add)                     (None, 16, 64)       0           dropout_3[0][0]                  \n",
            "                                                                 add_2[0][0]                      \n",
            "__________________________________________________________________________________________________\n",
            "layer_normalization_4 (LayerNor (None, 16, 64)       128         add_3[0][0]                      \n",
            "__________________________________________________________________________________________________\n",
            "multi_head_attention_2 (MultiHe (None, 16, 64)       198976      layer_normalization_4[0][0]      \n",
            "                                                                 layer_normalization_4[0][0]      \n",
            "__________________________________________________________________________________________________\n",
            "add_4 (Add)                     (None, 16, 64)       0           multi_head_attention_2[0][0]     \n",
            "                                                                 add_3[0][0]                      \n",
            "__________________________________________________________________________________________________\n",
            "layer_normalization_5 (LayerNor (None, 16, 64)       128         add_4[0][0]                      \n",
            "__________________________________________________________________________________________________\n",
            "dense_5 (Dense)                 (None, 16, 128)      8320        layer_normalization_5[0][0]      \n",
            "__________________________________________________________________________________________________\n",
            "dropout_4 (Dropout)             (None, 16, 128)      0           dense_5[0][0]                    \n",
            "__________________________________________________________________________________________________\n",
            "dense_6 (Dense)                 (None, 16, 64)       8256        dropout_4[0][0]                  \n",
            "__________________________________________________________________________________________________\n",
            "dropout_5 (Dropout)             (None, 16, 64)       0           dense_6[0][0]                    \n",
            "__________________________________________________________________________________________________\n",
            "add_5 (Add)                     (None, 16, 64)       0           dropout_5[0][0]                  \n",
            "                                                                 add_4[0][0]                      \n",
            "__________________________________________________________________________________________________\n",
            "layer_normalization_6 (LayerNor (None, 16, 64)       128         add_5[0][0]                      \n",
            "__________________________________________________________________________________________________\n",
            "multi_head_attention_3 (MultiHe (None, 16, 64)       198976      layer_normalization_6[0][0]      \n",
            "                                                                 layer_normalization_6[0][0]      \n",
            "__________________________________________________________________________________________________\n",
            "add_6 (Add)                     (None, 16, 64)       0           multi_head_attention_3[0][0]     \n",
            "                                                                 add_5[0][0]                      \n",
            "__________________________________________________________________________________________________\n",
            "layer_normalization_7 (LayerNor (None, 16, 64)       128         add_6[0][0]                      \n",
            "__________________________________________________________________________________________________\n",
            "dense_7 (Dense)                 (None, 16, 128)      8320        layer_normalization_7[0][0]      \n",
            "__________________________________________________________________________________________________\n",
            "dropout_6 (Dropout)             (None, 16, 128)      0           dense_7[0][0]                    \n",
            "__________________________________________________________________________________________________\n",
            "dense_8 (Dense)                 (None, 16, 64)       8256        dropout_6[0][0]                  \n",
            "__________________________________________________________________________________________________\n",
            "dropout_7 (Dropout)             (None, 16, 64)       0           dense_8[0][0]                    \n",
            "__________________________________________________________________________________________________\n",
            "add_7 (Add)                     (None, 16, 64)       0           dropout_7[0][0]                  \n",
            "                                                                 add_6[0][0]                      \n",
            "__________________________________________________________________________________________________\n",
            "layer_normalization_8 (LayerNor (None, 16, 64)       128         add_7[0][0]                      \n",
            "__________________________________________________________________________________________________\n",
            "multi_head_attention_4 (MultiHe (None, 16, 64)       198976      layer_normalization_8[0][0]      \n",
            "                                                                 layer_normalization_8[0][0]      \n",
            "__________________________________________________________________________________________________\n",
            "add_8 (Add)                     (None, 16, 64)       0           multi_head_attention_4[0][0]     \n",
            "                                                                 add_7[0][0]                      \n",
            "__________________________________________________________________________________________________\n",
            "layer_normalization_9 (LayerNor (None, 16, 64)       128         add_8[0][0]                      \n",
            "__________________________________________________________________________________________________\n",
            "dense_9 (Dense)                 (None, 16, 128)      8320        layer_normalization_9[0][0]      \n",
            "__________________________________________________________________________________________________\n",
            "dropout_8 (Dropout)             (None, 16, 128)      0           dense_9[0][0]                    \n",
            "__________________________________________________________________________________________________\n",
            "dense_10 (Dense)                (None, 16, 64)       8256        dropout_8[0][0]                  \n",
            "__________________________________________________________________________________________________\n",
            "dropout_9 (Dropout)             (None, 16, 64)       0           dense_10[0][0]                   \n",
            "__________________________________________________________________________________________________\n",
            "add_9 (Add)                     (None, 16, 64)       0           dropout_9[0][0]                  \n",
            "                                                                 add_8[0][0]                      \n",
            "__________________________________________________________________________________________________\n",
            "layer_normalization_10 (LayerNo (None, 16, 64)       128         add_9[0][0]                      \n",
            "__________________________________________________________________________________________________\n",
            "multi_head_attention_5 (MultiHe (None, 16, 64)       198976      layer_normalization_10[0][0]     \n",
            "                                                                 layer_normalization_10[0][0]     \n",
            "__________________________________________________________________________________________________\n",
            "add_10 (Add)                    (None, 16, 64)       0           multi_head_attention_5[0][0]     \n",
            "                                                                 add_9[0][0]                      \n",
            "__________________________________________________________________________________________________\n",
            "layer_normalization_11 (LayerNo (None, 16, 64)       128         add_10[0][0]                     \n",
            "__________________________________________________________________________________________________\n",
            "dense_11 (Dense)                (None, 16, 128)      8320        layer_normalization_11[0][0]     \n",
            "__________________________________________________________________________________________________\n",
            "dropout_10 (Dropout)            (None, 16, 128)      0           dense_11[0][0]                   \n",
            "__________________________________________________________________________________________________\n",
            "dense_12 (Dense)                (None, 16, 64)       8256        dropout_10[0][0]                 \n",
            "__________________________________________________________________________________________________\n",
            "dropout_11 (Dropout)            (None, 16, 64)       0           dense_12[0][0]                   \n",
            "__________________________________________________________________________________________________\n",
            "add_11 (Add)                    (None, 16, 64)       0           dropout_11[0][0]                 \n",
            "                                                                 add_10[0][0]                     \n",
            "__________________________________________________________________________________________________\n",
            "layer_normalization_12 (LayerNo (None, 16, 64)       128         add_11[0][0]                     \n",
            "__________________________________________________________________________________________________\n",
            "multi_head_attention_6 (MultiHe (None, 16, 64)       198976      layer_normalization_12[0][0]     \n",
            "                                                                 layer_normalization_12[0][0]     \n",
            "__________________________________________________________________________________________________\n",
            "add_12 (Add)                    (None, 16, 64)       0           multi_head_attention_6[0][0]     \n",
            "                                                                 add_11[0][0]                     \n",
            "__________________________________________________________________________________________________\n",
            "layer_normalization_13 (LayerNo (None, 16, 64)       128         add_12[0][0]                     \n",
            "__________________________________________________________________________________________________\n",
            "dense_13 (Dense)                (None, 16, 128)      8320        layer_normalization_13[0][0]     \n",
            "__________________________________________________________________________________________________\n",
            "dropout_12 (Dropout)            (None, 16, 128)      0           dense_13[0][0]                   \n",
            "__________________________________________________________________________________________________\n",
            "dense_14 (Dense)                (None, 16, 64)       8256        dropout_12[0][0]                 \n",
            "__________________________________________________________________________________________________\n",
            "dropout_13 (Dropout)            (None, 16, 64)       0           dense_14[0][0]                   \n",
            "__________________________________________________________________________________________________\n",
            "add_13 (Add)                    (None, 16, 64)       0           dropout_13[0][0]                 \n",
            "                                                                 add_12[0][0]                     \n",
            "__________________________________________________________________________________________________\n",
            "layer_normalization_14 (LayerNo (None, 16, 64)       128         add_13[0][0]                     \n",
            "__________________________________________________________________________________________________\n",
            "multi_head_attention_7 (MultiHe (None, 16, 64)       198976      layer_normalization_14[0][0]     \n",
            "                                                                 layer_normalization_14[0][0]     \n",
            "__________________________________________________________________________________________________\n",
            "add_14 (Add)                    (None, 16, 64)       0           multi_head_attention_7[0][0]     \n",
            "                                                                 add_13[0][0]                     \n",
            "__________________________________________________________________________________________________\n",
            "layer_normalization_15 (LayerNo (None, 16, 64)       128         add_14[0][0]                     \n",
            "__________________________________________________________________________________________________\n",
            "dense_15 (Dense)                (None, 16, 128)      8320        layer_normalization_15[0][0]     \n",
            "__________________________________________________________________________________________________\n",
            "dropout_14 (Dropout)            (None, 16, 128)      0           dense_15[0][0]                   \n",
            "__________________________________________________________________________________________________\n",
            "dense_16 (Dense)                (None, 16, 64)       8256        dropout_14[0][0]                 \n",
            "__________________________________________________________________________________________________\n",
            "dropout_15 (Dropout)            (None, 16, 64)       0           dense_16[0][0]                   \n",
            "__________________________________________________________________________________________________\n",
            "add_15 (Add)                    (None, 16, 64)       0           dropout_15[0][0]                 \n",
            "                                                                 add_14[0][0]                     \n",
            "__________________________________________________________________________________________________\n",
            "layer_normalization_16 (LayerNo (None, 16, 64)       128         add_15[0][0]                     \n",
            "__________________________________________________________________________________________________\n",
            "multi_head_attention_8 (MultiHe (None, 16, 64)       198976      layer_normalization_16[0][0]     \n",
            "                                                                 layer_normalization_16[0][0]     \n",
            "__________________________________________________________________________________________________\n",
            "add_16 (Add)                    (None, 16, 64)       0           multi_head_attention_8[0][0]     \n",
            "                                                                 add_15[0][0]                     \n",
            "__________________________________________________________________________________________________\n",
            "layer_normalization_17 (LayerNo (None, 16, 64)       128         add_16[0][0]                     \n",
            "__________________________________________________________________________________________________\n",
            "dense_17 (Dense)                (None, 16, 128)      8320        layer_normalization_17[0][0]     \n",
            "__________________________________________________________________________________________________\n",
            "dropout_16 (Dropout)            (None, 16, 128)      0           dense_17[0][0]                   \n",
            "__________________________________________________________________________________________________\n",
            "dense_18 (Dense)                (None, 16, 64)       8256        dropout_16[0][0]                 \n",
            "__________________________________________________________________________________________________\n",
            "dropout_17 (Dropout)            (None, 16, 64)       0           dense_18[0][0]                   \n",
            "__________________________________________________________________________________________________\n",
            "add_17 (Add)                    (None, 16, 64)       0           dropout_17[0][0]                 \n",
            "                                                                 add_16[0][0]                     \n",
            "__________________________________________________________________________________________________\n",
            "layer_normalization_18 (LayerNo (None, 16, 64)       128         add_17[0][0]                     \n",
            "__________________________________________________________________________________________________\n",
            "multi_head_attention_9 (MultiHe (None, 16, 64)       198976      layer_normalization_18[0][0]     \n",
            "                                                                 layer_normalization_18[0][0]     \n",
            "__________________________________________________________________________________________________\n",
            "add_18 (Add)                    (None, 16, 64)       0           multi_head_attention_9[0][0]     \n",
            "                                                                 add_17[0][0]                     \n",
            "__________________________________________________________________________________________________\n",
            "layer_normalization_19 (LayerNo (None, 16, 64)       128         add_18[0][0]                     \n",
            "__________________________________________________________________________________________________\n",
            "dense_19 (Dense)                (None, 16, 128)      8320        layer_normalization_19[0][0]     \n",
            "__________________________________________________________________________________________________\n",
            "dropout_18 (Dropout)            (None, 16, 128)      0           dense_19[0][0]                   \n",
            "__________________________________________________________________________________________________\n",
            "dense_20 (Dense)                (None, 16, 64)       8256        dropout_18[0][0]                 \n",
            "__________________________________________________________________________________________________\n",
            "dropout_19 (Dropout)            (None, 16, 64)       0           dense_20[0][0]                   \n",
            "__________________________________________________________________________________________________\n",
            "add_19 (Add)                    (None, 16, 64)       0           dropout_19[0][0]                 \n",
            "                                                                 add_18[0][0]                     \n",
            "__________________________________________________________________________________________________\n",
            "layer_normalization_20 (LayerNo (None, 16, 64)       128         add_19[0][0]                     \n",
            "__________________________________________________________________________________________________\n",
            "flatten (Flatten)               (None, 1024)         0           layer_normalization_20[0][0]     \n",
            "__________________________________________________________________________________________________\n",
            "dropout_20 (Dropout)            (None, 1024)         0           flatten[0][0]                    \n",
            "__________________________________________________________________________________________________\n",
            "dense_21 (Dense)                (None, 3072)         3148800     dropout_20[0][0]                 \n",
            "__________________________________________________________________________________________________\n",
            "dropout_21 (Dropout)            (None, 3072)         0           dense_21[0][0]                   \n",
            "__________________________________________________________________________________________________\n",
            "dense_22 (Dense)                (None, 768)          2360064     dropout_21[0][0]                 \n",
            "__________________________________________________________________________________________________\n",
            "dropout_22 (Dropout)            (None, 768)          0           dense_22[0][0]                   \n",
            "__________________________________________________________________________________________________\n",
            "dense_23 (Dense)                (None, 100)          76900       dropout_22[0][0]                 \n",
            "==================================================================================================\n",
            "Total params: 7,794,219\n",
            "Trainable params: 7,794,212\n",
            "Non-trainable params: 7\n",
            "__________________________________________________________________________________________________\n"
          ],
          "name": "stdout"
        }
      ]
    },
    {
      "cell_type": "code",
      "metadata": {
        "colab": {
          "base_uri": "https://localhost:8080/"
        },
        "id": "Atq8GLIOpBSP",
        "outputId": "33654986-18fd-41e7-b0b7-7dfe3692c8d6"
      },
      "source": [
        "model.predict(x_train).shape"
      ],
      "execution_count": null,
      "outputs": [
        {
          "output_type": "execute_result",
          "data": {
            "text/plain": [
              "(50000, 100)"
            ]
          },
          "metadata": {
            "tags": []
          },
          "execution_count": 12
        }
      ]
    },
    {
      "cell_type": "markdown",
      "metadata": {
        "id": "GwJWvs7hmnRw"
      },
      "source": [
        "## Compile, train, and evaluate the mode"
      ]
    },
    {
      "cell_type": "markdown",
      "metadata": {
        "id": "-qcFI-XJ96Jf"
      },
      "source": [
        "Ran on Cifar-100. No matter how many epochs or parameters initialized, the results are same. <br>**Max accuracy achievable is 70-75%.**"
      ]
    },
    {
      "cell_type": "code",
      "metadata": {
        "id": "eL4Cw44RmnRw",
        "colab": {
          "base_uri": "https://localhost:8080/",
          "height": 1000,
          "referenced_widgets": [
            "57bf2a3c15414b109cba26f2cb709b25",
            "8ef0ce16e6024b32b530adb5180a8462",
            "a2908dd299724570b5a7612efecb4581",
            "b6d29c93e01f4c7aba1e06fe23bb69f2",
            "f66bf1c1cc7d40ae86b074c2dd26a4f3",
            "91654623924e4d3395f082a36615be45",
            "7faf5fdc80ad429cab4a8985769eb306",
            "fe3aa335524049a68792fc1fc7a0c8d2"
          ]
        },
        "outputId": "57a33041-4aee-4504-8943-56a7bd9f8240"
      },
      "source": [
        "# wandb.init(project=\"ImgClassification_ViT\")\n",
        "# wandb_callback = wandb.keras.WandbCallback(log_weights=True)\n",
        "def run_experiment(model):\n",
        "\n",
        "\n",
        "    optimizer = tfa.optimizers.AdamW(\n",
        "        learning_rate=learning_rate, weight_decay=weight_decay, beta_1=0.9, beta_2=0.999\n",
        "    )\n",
        "\n",
        "    model.compile(\n",
        "        optimizer=optimizer,\n",
        "        loss=keras.losses.SparseCategoricalCrossentropy(from_logits=True),\n",
        "        metrics=[\n",
        "            keras.metrics.SparseCategoricalAccuracy(name=\"accuracy\"),\n",
        "            keras.metrics.SparseTopKCategoricalAccuracy(5, name=\"top-5-accuracy\"),\n",
        "        ],\n",
        "    )\n",
        "\n",
        "  \n",
        "\n",
        "    # checkpoint_filepath = \"checkpoint/cp_ckpt-{epoch:04d}.ckpt\"\n",
        "    # checkpoint_callback = keras.callbacks.ModelCheckpoint(\n",
        "    #     checkpoint_filepath,\n",
        "    #     monitor=\"accuracy\",\n",
        "    #     save_best_only=True,\n",
        "    #     save_weights_only=True,\n",
        "    #     save_freq=1\n",
        "    # )\n",
        "    \n",
        "    # model.save_weights(checkpoint_path.format(epoch=0))\n",
        "    history = model.fit(\n",
        "        x=x_train,\n",
        "        y=y_train,\n",
        "        batch_size=batch_size,\n",
        "        epochs=num_epochs,\n",
        "        validation_split=0.1,\n",
        "        callbacks=[wandb_callback],\n",
        "    )\n",
        "\n",
        "    model.save('model-7.h5')\n",
        "\n",
        "    return history\n",
        "\n",
        "vit_classifier = create_vit_classifier()\n",
        "history = run_experiment(vit_classifier)\n"
      ],
      "execution_count": null,
      "outputs": [
        {
          "output_type": "display_data",
          "data": {
            "text/html": [
              "Finishing last run (ID:26au0bm2) before initializing another..."
            ],
            "text/plain": [
              "<IPython.core.display.HTML object>"
            ]
          },
          "metadata": {
            "tags": []
          }
        },
        {
          "output_type": "display_data",
          "data": {
            "text/html": [
              "<br/>Waiting for W&B process to finish, PID 161<br/>Program ended successfully."
            ],
            "text/plain": [
              "<IPython.core.display.HTML object>"
            ]
          },
          "metadata": {
            "tags": []
          }
        },
        {
          "output_type": "display_data",
          "data": {
            "application/vnd.jupyter.widget-view+json": {
              "model_id": "57bf2a3c15414b109cba26f2cb709b25",
              "version_minor": 0,
              "version_major": 2
            },
            "text/plain": [
              "VBox(children=(Label(value=' 89.90MB of 89.90MB uploaded (0.00MB deduped)\\r'), FloatProgress(value=1.0, max=1.…"
            ]
          },
          "metadata": {
            "tags": []
          }
        },
        {
          "output_type": "display_data",
          "data": {
            "text/html": [
              "Find user logs for this run at: <code>/content/wandb/run-20210422_052436-26au0bm2/logs/debug.log</code>"
            ],
            "text/plain": [
              "<IPython.core.display.HTML object>"
            ]
          },
          "metadata": {
            "tags": []
          }
        },
        {
          "output_type": "display_data",
          "data": {
            "text/html": [
              "Find internal logs for this run at: <code>/content/wandb/run-20210422_052436-26au0bm2/logs/debug-internal.log</code>"
            ],
            "text/plain": [
              "<IPython.core.display.HTML object>"
            ]
          },
          "metadata": {
            "tags": []
          }
        },
        {
          "output_type": "display_data",
          "data": {
            "text/html": [
              "<h3>Run summary:</h3><br/><style>\n",
              "    table.wandb td:nth-child(1) { padding: 0 10px; text-align: right }\n",
              "    </style><table class=\"wandb\">\n",
              "<tr><td>epoch</td><td>0</td></tr><tr><td>loss</td><td>4.60993</td></tr><tr><td>accuracy</td><td>0.01342</td></tr><tr><td>top-5-accuracy</td><td>0.06069</td></tr><tr><td>val_loss</td><td>4.60518</td></tr><tr><td>val_accuracy</td><td>0.0082</td></tr><tr><td>val_top-5-accuracy</td><td>0.0456</td></tr><tr><td>_runtime</td><td>39</td></tr><tr><td>_timestamp</td><td>1619069116</td></tr><tr><td>_step</td><td>0</td></tr><tr><td>best_val_loss</td><td>4.60518</td></tr><tr><td>best_epoch</td><td>0</td></tr></table>"
            ],
            "text/plain": [
              "<IPython.core.display.HTML object>"
            ]
          },
          "metadata": {
            "tags": []
          }
        },
        {
          "output_type": "display_data",
          "data": {
            "text/html": [
              "<h3>Run history:</h3><br/><style>\n",
              "    table.wandb td:nth-child(1) { padding: 0 10px; text-align: right }\n",
              "    </style><table class=\"wandb\">\n",
              "<tr><td>epoch</td><td>▁</td></tr><tr><td>loss</td><td>▁</td></tr><tr><td>accuracy</td><td>▁</td></tr><tr><td>top-5-accuracy</td><td>▁</td></tr><tr><td>val_loss</td><td>▁</td></tr><tr><td>val_accuracy</td><td>▁</td></tr><tr><td>val_top-5-accuracy</td><td>▁</td></tr><tr><td>_runtime</td><td>▁</td></tr><tr><td>_timestamp</td><td>▁</td></tr><tr><td>_step</td><td>▁</td></tr></table><br/>"
            ],
            "text/plain": [
              "<IPython.core.display.HTML object>"
            ]
          },
          "metadata": {
            "tags": []
          }
        },
        {
          "output_type": "display_data",
          "data": {
            "text/html": [
              "Synced 5 W&B file(s), 1 media file(s), 0 artifact file(s) and 1 other file(s)"
            ],
            "text/plain": [
              "<IPython.core.display.HTML object>"
            ]
          },
          "metadata": {
            "tags": []
          }
        },
        {
          "output_type": "display_data",
          "data": {
            "text/html": [
              "\n",
              "                    <br/>Synced <strong style=\"color:#cdcd00\">glad-sponge-24</strong>: <a href=\"https://wandb.ai/aditya-digala-gmail-com/ImgClassification_ViT/runs/26au0bm2\" target=\"_blank\">https://wandb.ai/aditya-digala-gmail-com/ImgClassification_ViT/runs/26au0bm2</a><br/>\n",
              "                "
            ],
            "text/plain": [
              "<IPython.core.display.HTML object>"
            ]
          },
          "metadata": {
            "tags": []
          }
        },
        {
          "output_type": "display_data",
          "data": {
            "text/html": [
              "...Successfully finished last run (ID:26au0bm2). Initializing new run:<br/><br/>"
            ],
            "text/plain": [
              "<IPython.core.display.HTML object>"
            ]
          },
          "metadata": {
            "tags": []
          }
        },
        {
          "output_type": "display_data",
          "data": {
            "text/html": [
              "\n",
              "                Tracking run with wandb version 0.10.27<br/>\n",
              "                Syncing run <strong style=\"color:#cdcd00\">dandy-serenity-25</strong> to <a href=\"https://wandb.ai\" target=\"_blank\">Weights & Biases</a> <a href=\"https://docs.wandb.com/integrations/jupyter.html\" target=\"_blank\">(Documentation)</a>.<br/>\n",
              "                Project page: <a href=\"https://wandb.ai/aditya-digala-gmail-com/ImgClassification_ViT\" target=\"_blank\">https://wandb.ai/aditya-digala-gmail-com/ImgClassification_ViT</a><br/>\n",
              "                Run page: <a href=\"https://wandb.ai/aditya-digala-gmail-com/ImgClassification_ViT/runs/27tik0ne\" target=\"_blank\">https://wandb.ai/aditya-digala-gmail-com/ImgClassification_ViT/runs/27tik0ne</a><br/>\n",
              "                Run data is saved locally in <code>/content/wandb/run-20210422_052724-27tik0ne</code><br/><br/>\n",
              "            "
            ],
            "text/plain": [
              "<IPython.core.display.HTML object>"
            ]
          },
          "metadata": {
            "tags": []
          }
        },
        {
          "output_type": "stream",
          "text": [
            "Epoch 1/7\n",
            "88/88 [==============================] - 30s 224ms/step - loss: 4.5351 - accuracy: 0.0283 - top-5-accuracy: 0.1231 - val_loss: 4.4476 - val_accuracy: 0.0188 - val_top-5-accuracy: 0.0892\n",
            "Epoch 2/7\n",
            "88/88 [==============================] - 19s 213ms/step - loss: 4.4267 - accuracy: 0.0195 - top-5-accuracy: 0.0972 - val_loss: 4.4654 - val_accuracy: 0.0230 - val_top-5-accuracy: 0.0920\n",
            "Epoch 3/7\n",
            "88/88 [==============================] - 19s 213ms/step - loss: 4.4346 - accuracy: 0.0188 - top-5-accuracy: 0.0956 - val_loss: 4.4387 - val_accuracy: 0.0186 - val_top-5-accuracy: 0.0940\n",
            "Epoch 4/7\n",
            "88/88 [==============================] - 19s 214ms/step - loss: 4.4393 - accuracy: 0.0196 - top-5-accuracy: 0.0967 - val_loss: 4.4373 - val_accuracy: 0.0198 - val_top-5-accuracy: 0.0956\n",
            "Epoch 5/7\n",
            "88/88 [==============================] - 19s 215ms/step - loss: 4.4358 - accuracy: 0.0199 - top-5-accuracy: 0.0965 - val_loss: 4.4254 - val_accuracy: 0.0160 - val_top-5-accuracy: 0.0804\n",
            "Epoch 6/7\n",
            "88/88 [==============================] - 19s 215ms/step - loss: 4.4301 - accuracy: 0.0188 - top-5-accuracy: 0.0946 - val_loss: 4.4293 - val_accuracy: 0.0194 - val_top-5-accuracy: 0.0908\n",
            "Epoch 7/7\n",
            "88/88 [==============================] - 19s 214ms/step - loss: 4.4208 - accuracy: 0.0193 - top-5-accuracy: 0.0969 - val_loss: 4.4379 - val_accuracy: 0.0198 - val_top-5-accuracy: 0.0934\n"
          ],
          "name": "stdout"
        }
      ]
    },
    {
      "cell_type": "markdown",
      "metadata": {
        "id": "1v--DVJQmnRx"
      },
      "source": [
        "After 500 epochs, the ViT model achieves around 60% accuracy and\n",
        "90% top-5 accuracy on the test data. These are not competitive results on the CIFAR-100 dataset,\n",
        "as a ResNet50V2 trained from scratch on the same data can achieve 67% accuracy.\n",
        "\n",
        "Note that the state of the art results reported in the\n",
        "[paper](https://arxiv.org/abs/2010.11929) are achieved by pre-training the ViT model using\n",
        "the JFT-300M dataset, then fine-tuning it on the target dataset. <mark> To improve the model quality\n",
        "without pre-training, you can try to train the model for more epochs, use a larger number of\n",
        "Transformer layers, resize the input images, change the patch size, or increase the projection dimensions. </mark>\n",
        "\n",
        "Besides, as mentioned in the paper, the quality of the model is affected not only by architecture choices, \n",
        "but also by parameters such as the learning rate schedule, optimizer, weight decay, etc.<mark>\n",
        "In practice, it's recommended to fine-tune a ViT model\n",
        "that was pre-trained using a large, high-resolution dataset.</mark>"
      ]
    },
    {
      "cell_type": "code",
      "metadata": {
        "id": "VybaaKvSBvtS",
        "colab": {
          "base_uri": "https://localhost:8080/"
        },
        "outputId": "9acf233f-5edd-473d-869d-a61af7c1bf0b"
      },
      "source": [
        "# !zip -r model.zip model-1000.h5"
      ],
      "execution_count": null,
      "outputs": [
        {
          "output_type": "stream",
          "text": [
            "  adding: model-500.h5 (deflated 10%)\n"
          ],
          "name": "stdout"
        }
      ]
    }
  ]
}