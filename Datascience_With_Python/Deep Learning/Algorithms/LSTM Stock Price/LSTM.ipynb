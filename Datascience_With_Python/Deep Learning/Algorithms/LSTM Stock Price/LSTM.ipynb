{
 "cells": [
  {
   "cell_type": "markdown",
   "id": "4206f4a2",
   "metadata": {},
   "source": [
    "# LSTM- Long Short Term Memory"
   ]
  },
  {
   "cell_type": "markdown",
   "id": "c2f92c78",
   "metadata": {},
   "source": [
    "## What is LSTM?\n",
    "\n",
    "Long Short-Term Memory Network or LSTM, is a variation of a recurrent neural network (RNN) that is quite effective in predicting the long sequences of data like sentences and stock prices over a period of time.\n",
    "\n",
    "It differs from a normal feedforward network because there is a feedback loop in its architecture. It also includes a special unit known as a memory cell to withhold the past information for a longer time for making an effective prediction."
   ]
  },
  {
   "cell_type": "markdown",
   "id": "4caef088",
   "metadata": {},
   "source": [
    "## Why was LSTM introduced?\n",
    "For recurrent neural networks, we  want to have long memories, so the network can connect data relationships at significant distances in time(during time-series analysis). That sort of network could make real progress in understanding how language and narrative works, how stock market events are correlated and so on. However, the more time steps we have, the more chance we have of back-propagation gradients either accumulating and exploding or vanishing down to nothing.<br>\n",
    "This leads to the [Vanishing Gradient](https://towardsdatascience.com/the-vanishing-gradient-problem-69bf08b15484) problem.<br>\n",
    "\n",
    "To overcome this and therefore allow deep networks and RNNs to perform well in real-time scenarios, there needs to be a way to reduce the multiplication of gradients which are less than zero.<br>The LSTM cell is a specifically designed unit of logic that will help reduce the vanishing gradient problem sufficiently to make RNNs more useful for long-term memory tasks i.e. text sequence predictions. The time dependence and effects of previous inputs are controlled by an interesting concept called a forget gate, which determines which states are remembered or forgotten. Two other gates, the input gate and output gate, are also featured in LSTM cells."
   ]
  },
  {
   "cell_type": "markdown",
   "id": "21bcccea",
   "metadata": {},
   "source": [
    "## LSTM cell: \n",
    "![](https://adventuresinmachinelearning.com/wp-content/uploads/2017/09/LSTM-diagram.png)\n",
    "Credits: https://adventuresinmachinelearning.com"
   ]
  },
  {
   "cell_type": "markdown",
   "id": "65f36e64",
   "metadata": {},
   "source": [
    "- The input gate is basically a hidden layer of sigmoid(tanh) activated nodes, with weighted input values, which outputs values of between 0 and 1 and when multiplied element-wise by the input determines which inputs are switched on and off. In other words, it is a kind of input filter or gate. \n",
    "- The forget gate is again a sigmoid activated set of nodes which is element-wise multiplied by a factor to determine which previous states should be remembered, and which should be forgotten. This allows the LSTM cell to learn appropriate context. Consider the sentence “Ravi gave Meera a huge amount and she was grateful” – for the LSTM cell to learn who “she” refers to, it needs to forget the subject “Ravi” and replace it with the subject “Meera”. \n",
    "- The final stage of the LSTM cell is the output gate. The output gate has two components – another tanh squashing function and an output sigmoid gating function. The output sigmoid gating function, like the other gating functions in the cell, is multiplied by the squashed state to determine which values of the state are output from the cell. As you can tell, the LSTM cell is very flexible, with gating functions controlling what is input, what is “remembered” in the internal state variable, and finally what is output from the LSTM cell. "
   ]
  },
  {
   "cell_type": "markdown",
   "id": "ba8c893b",
   "metadata": {},
   "source": [
    "### Dataset: \n",
    "- Dowloaded data from: https://niftyindices.com/reports/historical-data\n",
    "- Here, I took the historical index data of *Nifty50* from 5th October 2020 upto 5th September 2021"
   ]
  },
  {
   "cell_type": "markdown",
   "id": "2aa020f5",
   "metadata": {},
   "source": [
    "## Importing the required libraries"
   ]
  },
  {
   "cell_type": "code",
   "execution_count": 1,
   "id": "213201c5",
   "metadata": {},
   "outputs": [],
   "source": [
    "import numpy as np\n",
    "import matplotlib.pyplot as plt\n",
    "import pandas as pd"
   ]
  },
  {
   "cell_type": "code",
   "execution_count": 13,
   "id": "09005214",
   "metadata": {},
   "outputs": [
    {
     "data": {
      "text/html": [
       "<div>\n",
       "<style scoped>\n",
       "    .dataframe tbody tr th:only-of-type {\n",
       "        vertical-align: middle;\n",
       "    }\n",
       "\n",
       "    .dataframe tbody tr th {\n",
       "        vertical-align: top;\n",
       "    }\n",
       "\n",
       "    .dataframe thead th {\n",
       "        text-align: right;\n",
       "    }\n",
       "</style>\n",
       "<table border=\"1\" class=\"dataframe\">\n",
       "  <thead>\n",
       "    <tr style=\"text-align: right;\">\n",
       "      <th></th>\n",
       "      <th>Date</th>\n",
       "      <th>Open</th>\n",
       "      <th>High</th>\n",
       "      <th>Low</th>\n",
       "      <th>Close</th>\n",
       "    </tr>\n",
       "  </thead>\n",
       "  <tbody>\n",
       "    <tr>\n",
       "      <th>0</th>\n",
       "      <td>06 Oct 2021</td>\n",
       "      <td>17861.50</td>\n",
       "      <td>17884.60</td>\n",
       "      <td>17613.15</td>\n",
       "      <td>17646.00</td>\n",
       "    </tr>\n",
       "    <tr>\n",
       "      <th>1</th>\n",
       "      <td>05 Oct 2021</td>\n",
       "      <td>17661.35</td>\n",
       "      <td>17833.45</td>\n",
       "      <td>17640.90</td>\n",
       "      <td>17822.30</td>\n",
       "    </tr>\n",
       "    <tr>\n",
       "      <th>2</th>\n",
       "      <td>04 Oct 2021</td>\n",
       "      <td>17615.55</td>\n",
       "      <td>17750.90</td>\n",
       "      <td>17581.35</td>\n",
       "      <td>17691.25</td>\n",
       "    </tr>\n",
       "    <tr>\n",
       "      <th>3</th>\n",
       "      <td>01 Oct 2021</td>\n",
       "      <td>17531.90</td>\n",
       "      <td>17557.15</td>\n",
       "      <td>17452.90</td>\n",
       "      <td>17532.05</td>\n",
       "    </tr>\n",
       "    <tr>\n",
       "      <th>4</th>\n",
       "      <td>30 Sep 2021</td>\n",
       "      <td>17718.90</td>\n",
       "      <td>17742.15</td>\n",
       "      <td>17585.35</td>\n",
       "      <td>17618.15</td>\n",
       "    </tr>\n",
       "  </tbody>\n",
       "</table>\n",
       "</div>"
      ],
      "text/plain": [
       "          Date      Open      High       Low     Close\n",
       "0  06 Oct 2021  17861.50  17884.60  17613.15  17646.00\n",
       "1  05 Oct 2021  17661.35  17833.45  17640.90  17822.30\n",
       "2  04 Oct 2021  17615.55  17750.90  17581.35  17691.25\n",
       "3  01 Oct 2021  17531.90  17557.15  17452.90  17532.05\n",
       "4  30 Sep 2021  17718.90  17742.15  17585.35  17618.15"
      ]
     },
     "execution_count": 13,
     "metadata": {},
     "output_type": "execute_result"
    }
   ],
   "source": [
    "dataset_train = pd.read_csv('Nifty.csv')\n",
    "dataset_train.head()"
   ]
  },
  {
   "cell_type": "markdown",
   "id": "d0644e88",
   "metadata": {},
   "source": [
    "We will now select two columns needed for building our model.<br>\n",
    "From the two columns selected from the dataset, the “open” column represents the starting price of the stock for the day whereas the “close” column is the final price of a stock for a particular day."
   ]
  },
  {
   "cell_type": "code",
   "execution_count": 15,
   "id": "b0b329d3",
   "metadata": {},
   "outputs": [],
   "source": [
    "training_set = dataset_train.iloc[:, 1:2].values"
   ]
  },
  {
   "cell_type": "markdown",
   "id": "36688b7b",
   "metadata": {},
   "source": [
    "### Feature Scaling\n",
    "To produce the best-optimized results with the models, we are required to scale the data. For this task, we use scikit-learn library’s minmax scaler for converting the input values between 0 to 1."
   ]
  },
  {
   "cell_type": "code",
   "execution_count": 16,
   "id": "9e4436f9",
   "metadata": {},
   "outputs": [],
   "source": [
    "from sklearn.preprocessing import MinMaxScaler\n",
    "\n",
    "sc = MinMaxScaler(feature_range = (0, 1))\n",
    "training_set_scaled = sc.fit_transform(training_set)"
   ]
  },
  {
   "cell_type": "markdown",
   "id": "3dc84583",
   "metadata": {},
   "source": [
    "### Creating Data with Timesteps\n",
    "When we are working with LSTM’s, we need to keep the data in a specific format. Once the data is created in the form of 60 timesteps, we can then convert it into a NumPy array. Finally, the data is converted to a 3D dimension array, 60 timeframes, and also one feature at each step."
   ]
  },
  {
   "cell_type": "code",
   "execution_count": 17,
   "id": "238eae64",
   "metadata": {},
   "outputs": [],
   "source": [
    "X_train = []\n",
    "y_train = []\n",
    "for i in range(60, 720):\n",
    "    X_train.append(training_set_scaled[i-60:i, 0])\n",
    "    y_train.append(training_set_scaled[i, 0])\n",
    "X_train, y_train = np.array(X_train), np.array(y_train)\n",
    "\n",
    "X_train = np.reshape(X_train, (X_train.shape[0], X_train.shape[1], 1))"
   ]
  },
  {
   "cell_type": "markdown",
   "id": "d74656f7",
   "metadata": {},
   "source": [
    "### Loading Keras LSTM and Other Modules\n",
    "Now it’s time to build our LSTM, for this purpose we will load a few Keras modules – Sequential, Dense, LSTM, and Dropout."
   ]
  },
  {
   "cell_type": "code",
   "execution_count": 18,
   "id": "1b6f9e38",
   "metadata": {},
   "outputs": [],
   "source": [
    "from keras.models import Sequential\n",
    "from keras.layers import Dense\n",
    "from keras.layers import LSTM\n",
    "from keras.layers import Dropout"
   ]
  },
  {
   "cell_type": "markdown",
   "id": "05c7a9d2",
   "metadata": {},
   "source": [
    "### Building the LSTM in Keras\n",
    "First, we add the Keras LSTM layer, and following this, we add dropout layers for prevention against overfitting.\n",
    "\n",
    "For the LSTM layer, we add 50 units that represent the dimensionality of outer space. The return_sequences parameter is set to true for returning the last output in output.\n",
    "\n",
    "For adding dropout layers, we specify the percentage of layers that should be dropped. The next step is to add the dense layer. At last, we compile the model with the help of adam optimizer. The error is computed using mean_squared_error.\n",
    "\n",
    "Finally, the model is fit using 100 epochs with a batch size of 32."
   ]
  },
  {
   "cell_type": "code",
   "execution_count": 19,
   "id": "8e30dec8",
   "metadata": {},
   "outputs": [
    {
     "name": "stdout",
     "output_type": "stream",
     "text": [
      "Epoch 1/100\n",
      "21/21 [==============================] - 7s 90ms/step - loss: 0.0454\n",
      "Epoch 2/100\n",
      "21/21 [==============================] - 2s 88ms/step - loss: 0.0111\n",
      "Epoch 3/100\n",
      "21/21 [==============================] - 2s 89ms/step - loss: 0.0066\n",
      "Epoch 4/100\n",
      "21/21 [==============================] - 2s 90ms/step - loss: 0.0051\n",
      "Epoch 5/100\n",
      "21/21 [==============================] - 2s 86ms/step - loss: 0.0055\n",
      "Epoch 6/100\n",
      "21/21 [==============================] - 2s 86ms/step - loss: 0.0051\n",
      "Epoch 7/100\n",
      "21/21 [==============================] - 2s 86ms/step - loss: 0.0048\n",
      "Epoch 8/100\n",
      "21/21 [==============================] - 2s 86ms/step - loss: 0.0043\n",
      "Epoch 9/100\n",
      "21/21 [==============================] - 2s 87ms/step - loss: 0.0044\n",
      "Epoch 10/100\n",
      "21/21 [==============================] - 2s 86ms/step - loss: 0.0047\n",
      "Epoch 11/100\n",
      "21/21 [==============================] - 2s 91ms/step - loss: 0.0045\n",
      "Epoch 12/100\n",
      "21/21 [==============================] - 2s 106ms/step - loss: 0.0036\n",
      "Epoch 13/100\n",
      "21/21 [==============================] - 2s 84ms/step - loss: 0.0038\n",
      "Epoch 14/100\n",
      "21/21 [==============================] - 2s 88ms/step - loss: 0.0037\n",
      "Epoch 15/100\n",
      "21/21 [==============================] - 2s 75ms/step - loss: 0.0040\n",
      "Epoch 16/100\n",
      "21/21 [==============================] - 2s 74ms/step - loss: 0.0039\n",
      "Epoch 17/100\n",
      "21/21 [==============================] - 2s 75ms/step - loss: 0.0039\n",
      "Epoch 18/100\n",
      "21/21 [==============================] - 2s 98ms/step - loss: 0.0041\n",
      "Epoch 19/100\n",
      "21/21 [==============================] - 2s 76ms/step - loss: 0.0040\n",
      "Epoch 20/100\n",
      "21/21 [==============================] - 2s 80ms/step - loss: 0.0036\n",
      "Epoch 21/100\n",
      "21/21 [==============================] - 2s 74ms/step - loss: 0.0034\n",
      "Epoch 22/100\n",
      "21/21 [==============================] - 2s 89ms/step - loss: 0.0036\n",
      "Epoch 23/100\n",
      "21/21 [==============================] - 2s 77ms/step - loss: 0.0038\n",
      "Epoch 24/100\n",
      "21/21 [==============================] - 2s 94ms/step - loss: 0.0032\n",
      "Epoch 25/100\n",
      "21/21 [==============================] - 2s 74ms/step - loss: 0.0033\n",
      "Epoch 26/100\n",
      "21/21 [==============================] - 2s 75ms/step - loss: 0.0032\n",
      "Epoch 27/100\n",
      "21/21 [==============================] - 2s 82ms/step - loss: 0.0035\n",
      "Epoch 28/100\n",
      "21/21 [==============================] - 2s 86ms/step - loss: 0.0034\n",
      "Epoch 29/100\n",
      "21/21 [==============================] - 2s 108ms/step - loss: 0.0032\n",
      "Epoch 30/100\n",
      "21/21 [==============================] - 2s 87ms/step - loss: 0.0032\n",
      "Epoch 31/100\n",
      "21/21 [==============================] - 2s 90ms/step - loss: 0.0027\n",
      "Epoch 32/100\n",
      "21/21 [==============================] - 2s 91ms/step - loss: 0.0027\n",
      "Epoch 33/100\n",
      "21/21 [==============================] - 2s 87ms/step - loss: 0.0029\n",
      "Epoch 34/100\n",
      "21/21 [==============================] - 2s 86ms/step - loss: 0.0029\n",
      "Epoch 35/100\n",
      "21/21 [==============================] - 2s 86ms/step - loss: 0.0030\n",
      "Epoch 36/100\n",
      "21/21 [==============================] - 2s 84ms/step - loss: 0.0031\n",
      "Epoch 37/100\n",
      "21/21 [==============================] - 2s 99ms/step - loss: 0.0026\n",
      "Epoch 38/100\n",
      "21/21 [==============================] - 2s 97ms/step - loss: 0.0026\n",
      "Epoch 39/100\n",
      "21/21 [==============================] - 2s 82ms/step - loss: 0.0027\n",
      "Epoch 40/100\n",
      "21/21 [==============================] - 2s 108ms/step - loss: 0.0024\n",
      "Epoch 41/100\n",
      "21/21 [==============================] - 2s 87ms/step - loss: 0.0026\n",
      "Epoch 42/100\n",
      "21/21 [==============================] - 2s 77ms/step - loss: 0.0022\n",
      "Epoch 43/100\n",
      "21/21 [==============================] - 2s 74ms/step - loss: 0.0024\n",
      "Epoch 44/100\n",
      "21/21 [==============================] - 2s 96ms/step - loss: 0.0022\n",
      "Epoch 45/100\n",
      "21/21 [==============================] - 2s 90ms/step - loss: 0.0023\n",
      "Epoch 46/100\n",
      "21/21 [==============================] - 2s 98ms/step - loss: 0.0022\n",
      "Epoch 47/100\n",
      "21/21 [==============================] - 2s 98ms/step - loss: 0.0022\n",
      "Epoch 48/100\n",
      "21/21 [==============================] - 2s 74ms/step - loss: 0.0023\n",
      "Epoch 49/100\n",
      "21/21 [==============================] - 2s 94ms/step - loss: 0.0022\n",
      "Epoch 50/100\n",
      "21/21 [==============================] - 2s 87ms/step - loss: 0.0022\n",
      "Epoch 51/100\n",
      "21/21 [==============================] - 2s 86ms/step - loss: 0.0023\n",
      "Epoch 52/100\n",
      "21/21 [==============================] - 2s 80ms/step - loss: 0.0021\n",
      "Epoch 53/100\n",
      "21/21 [==============================] - 2s 74ms/step - loss: 0.0019\n",
      "Epoch 54/100\n",
      "21/21 [==============================] - 2s 74ms/step - loss: 0.0021\n",
      "Epoch 55/100\n",
      "21/21 [==============================] - 2s 74ms/step - loss: 0.0020\n",
      "Epoch 56/100\n",
      "21/21 [==============================] - 2s 74ms/step - loss: 0.0021\n",
      "Epoch 57/100\n",
      "21/21 [==============================] - 2s 96ms/step - loss: 0.0020\n",
      "Epoch 58/100\n",
      "21/21 [==============================] - 2s 86ms/step - loss: 0.0021\n",
      "Epoch 59/100\n",
      "21/21 [==============================] - 2s 86ms/step - loss: 0.0023\n",
      "Epoch 60/100\n",
      "21/21 [==============================] - 2s 84ms/step - loss: 0.0021\n",
      "Epoch 61/100\n",
      "21/21 [==============================] - 2s 84ms/step - loss: 0.0021\n",
      "Epoch 62/100\n",
      "21/21 [==============================] - 2s 75ms/step - loss: 0.0021\n",
      "Epoch 63/100\n",
      "21/21 [==============================] - 2s 90ms/step - loss: 0.0020\n",
      "Epoch 64/100\n",
      "21/21 [==============================] - 2s 87ms/step - loss: 0.0017\n",
      "Epoch 65/100\n",
      "21/21 [==============================] - 2s 88ms/step - loss: 0.0021\n",
      "Epoch 66/100\n",
      "21/21 [==============================] - 2s 86ms/step - loss: 0.0025\n",
      "Epoch 67/100\n",
      "21/21 [==============================] - 2s 101ms/step - loss: 0.0022\n",
      "Epoch 68/100\n",
      "21/21 [==============================] - 2s 75ms/step - loss: 0.0017\n",
      "Epoch 69/100\n",
      "21/21 [==============================] - 2s 87ms/step - loss: 0.0017\n",
      "Epoch 70/100\n",
      "21/21 [==============================] - 2s 88ms/step - loss: 0.0020\n",
      "Epoch 71/100\n",
      "21/21 [==============================] - 2s 99ms/step - loss: 0.0019\n",
      "Epoch 72/100\n",
      "21/21 [==============================] - 2s 87ms/step - loss: 0.0016\n",
      "Epoch 73/100\n",
      "21/21 [==============================] - 2s 87ms/step - loss: 0.0019\n",
      "Epoch 74/100\n",
      "21/21 [==============================] - 2s 91ms/step - loss: 0.0017\n",
      "Epoch 75/100\n",
      "21/21 [==============================] - 3s 129ms/step - loss: 0.0018\n",
      "Epoch 76/100\n",
      "21/21 [==============================] - 2s 87ms/step - loss: 0.0018\n",
      "Epoch 77/100\n",
      "21/21 [==============================] - 2s 86ms/step - loss: 0.0015\n",
      "Epoch 78/100\n",
      "21/21 [==============================] - 2s 87ms/step - loss: 0.0017\n",
      "Epoch 79/100\n",
      "21/21 [==============================] - 2s 86ms/step - loss: 0.0017\n",
      "Epoch 80/100\n",
      "21/21 [==============================] - 2s 87ms/step - loss: 0.0018\n",
      "Epoch 81/100\n",
      "21/21 [==============================] - 2s 77ms/step - loss: 0.0017\n",
      "Epoch 82/100\n",
      "21/21 [==============================] - 2s 74ms/step - loss: 0.0017\n",
      "Epoch 83/100\n",
      "21/21 [==============================] - 2s 75ms/step - loss: 0.0016\n",
      "Epoch 84/100\n",
      "21/21 [==============================] - 2s 75ms/step - loss: 0.0017\n",
      "Epoch 85/100\n",
      "21/21 [==============================] - 2s 83ms/step - loss: 0.0015\n",
      "Epoch 86/100\n",
      "21/21 [==============================] - 2s 90ms/step - loss: 0.0016\n",
      "Epoch 87/100\n",
      "21/21 [==============================] - 2s 77ms/step - loss: 0.0018\n",
      "Epoch 88/100\n",
      "21/21 [==============================] - 2s 74ms/step - loss: 0.0016\n",
      "Epoch 89/100\n",
      "21/21 [==============================] - 2s 89ms/step - loss: 0.0017\n",
      "Epoch 90/100\n",
      "21/21 [==============================] - 2s 105ms/step - loss: 0.0015\n",
      "Epoch 91/100\n",
      "21/21 [==============================] - 2s 92ms/step - loss: 0.0015\n",
      "Epoch 92/100\n",
      "21/21 [==============================] - 2s 87ms/step - loss: 0.0016\n",
      "Epoch 93/100\n",
      "21/21 [==============================] - 2s 86ms/step - loss: 0.0015\n",
      "Epoch 94/100\n",
      "21/21 [==============================] - 2s 87ms/step - loss: 0.0016\n",
      "Epoch 95/100\n",
      "21/21 [==============================] - 2s 87ms/step - loss: 0.0017\n",
      "Epoch 96/100\n",
      "21/21 [==============================] - 2s 74ms/step - loss: 0.0015\n",
      "Epoch 97/100\n",
      "21/21 [==============================] - 2s 94ms/step - loss: 0.0014\n",
      "Epoch 98/100\n",
      "21/21 [==============================] - 2s 75ms/step - loss: 0.0015\n",
      "Epoch 99/100\n",
      "21/21 [==============================] - 2s 83ms/step - loss: 0.0014\n",
      "Epoch 100/100\n"
     ]
    },
    {
     "name": "stdout",
     "output_type": "stream",
     "text": [
      "21/21 [==============================] - 2s 74ms/step - loss: 0.0014\n"
     ]
    },
    {
     "data": {
      "text/plain": [
       "<keras.callbacks.History at 0x163cf32d6a0>"
      ]
     },
     "execution_count": 19,
     "metadata": {},
     "output_type": "execute_result"
    }
   ],
   "source": [
    "regressor = Sequential()\n",
    "\n",
    "regressor.add(LSTM(units = 50, return_sequences = True, input_shape = (X_train.shape[1], 1)))\n",
    "regressor.add(Dropout(0.2))\n",
    "\n",
    "regressor.add(LSTM(units = 50, return_sequences = True))\n",
    "regressor.add(Dropout(0.25))\n",
    "\n",
    "regressor.add(LSTM(units = 50, return_sequences = True))\n",
    "regressor.add(Dropout(0.25))\n",
    "\n",
    "regressor.add(LSTM(units = 50))\n",
    "regressor.add(Dropout(0.25))\n",
    "\n",
    "regressor.add(Dense(units = 1))\n",
    "\n",
    "regressor.compile(optimizer = 'adam', loss = 'mean_squared_error')\n",
    "\n",
    "regressor.fit(X_train, y_train, epochs = 100, batch_size = 32)"
   ]
  },
  {
   "cell_type": "markdown",
   "id": "0e67a1de",
   "metadata": {},
   "source": [
    "### Predicting Future Stock using the Test Set\n",
    "Now we’ll import the test set for performing the predictions."
   ]
  },
  {
   "cell_type": "code",
   "execution_count": 20,
   "id": "d17b9d06",
   "metadata": {},
   "outputs": [],
   "source": [
    "dataset_test = pd.read_csv('Nifty.csv')\n",
    "real_stock_price = dataset_test.iloc[:, 1:2].values"
   ]
  },
  {
   "cell_type": "markdown",
   "id": "cee78496",
   "metadata": {},
   "source": [
    "For predicting the stock prices, firstly the training set and test set should be merged. The timestep is set to 60, we also apply **MinMaxScaler** on the new dataset and lastly, the dataset is reshaped.\n",
    "\n",
    "We are required to use **inverse_transform** for obtaining the stock prices."
   ]
  },
  {
   "cell_type": "code",
   "execution_count": 21,
   "id": "10bd4d64",
   "metadata": {},
   "outputs": [],
   "source": [
    "dataset_total = pd.concat((dataset_train['Open'], dataset_test['Open']), axis = 0)\n",
    "inputs = dataset_total[len(dataset_total) - len(dataset_test) - 60:].values\n",
    "inputs = inputs.reshape(-1,1)\n",
    "inputs = sc.transform(inputs)\n",
    "X_test = []\n",
    "for i in range(60, 360):\n",
    "    X_test.append(inputs[i-60:i, 0])\n",
    "X_test = np.array(X_test)\n",
    "X_test = np.reshape(X_test, (X_test.shape[0], X_test.shape[1], 1))\n",
    "predicted_stock_price = regressor.predict(X_test)\n",
    "predicted_stock_price = sc.inverse_transform(predicted_stock_price)"
   ]
  },
  {
   "cell_type": "markdown",
   "id": "1d3ca9d0",
   "metadata": {},
   "source": [
    "### Plotting the Results\n",
    "Let us plot the results of stock prices with the help of matplotlib library."
   ]
  },
  {
   "cell_type": "code",
   "execution_count": 22,
   "id": "ecfe28be",
   "metadata": {},
   "outputs": [
    {
     "data": {
      "image/png": "[encoded data removed]",
      "text/plain": [
       "<Figure size 432x288 with 1 Axes>"
      ]
     },
     "metadata": {
      "needs_background": "light"
     },
     "output_type": "display_data"
    }
   ],
   "source": [
    "plt.plot(real_stock_price, color = 'black', label = 'Nifty Stock Price')\n",
    "plt.plot(predicted_stock_price, color = 'green', label = 'Predicted Nifty Stock Price')\n",
    "plt.title('Nifty Stock Price Prediction')\n",
    "plt.xlabel('Time')\n",
    "plt.ylabel('Nifty Stock Price')\n",
    "plt.legend()\n",
    "plt.show()"
   ]
  }
 ],
 "metadata": {
  "kernelspec": {
   "display_name": "Python 3",
   "language": "python",
   "name": "python3"
  },
  "language_info": {
   "codemirror_mode": {
    "name": "ipython",
    "version": 3
   },
   "file_extension": ".py",
   "mimetype": "text/x-python",
   "name": "python",
   "nbconvert_exporter": "python",
   "pygments_lexer": "ipython3",
   "version": "3.8.8"
  }
 },
 "nbformat": 4,
 "nbformat_minor": 5
}
