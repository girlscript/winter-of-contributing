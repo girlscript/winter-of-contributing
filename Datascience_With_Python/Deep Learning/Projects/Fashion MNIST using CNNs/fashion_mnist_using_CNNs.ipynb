{
  "nbformat": 4,
  "nbformat_minor": 0,
  "metadata": {
    "kernelspec": {
      "display_name": "Python 3",
      "language": "python",
      "name": "python3"
    },
    "language_info": {
      "codemirror_mode": {
        "name": "ipython",
        "version": 3
      },
      "file_extension": ".py",
      "mimetype": "text/x-python",
      "name": "python",
      "nbconvert_exporter": "python",
      "pygments_lexer": "ipython3",
      "version": "3.6.5rc1"
    },
    "colab": {
      "name": "Fashion MNIST - 3 Layer Convolution Neural Network Model using Tensorflow,Keras- Part 3.ipynb",
      "provenance": []
    }
  },
  "cells": [
    {
      "cell_type": "markdown",
      "metadata": {
        "_uuid": "c50f3e3ac5d09917dcad0bd27fa8129661f10df2",
        "id": "fnaZv5zOKMl5"
      },
      "source": [
        "### Implementing Fashion MNIST using CNNs\n",
        "\n",
        "* #### The objective of this jupyter notebook is to define,compile & evaluate a 3 layer convolutional neural network(CNN) model \n",
        "\n",
        "* #### Visualise the validation accuracy and validation loss"
      ]
    },
    {
      "cell_type": "code",
      "metadata": {
        "_cell_guid": "b1076dfc-b9ad-4769-8c92-a6c4dae69d19",
        "_uuid": "8f2839f25d086af736a60e9eeb907d3b93b6e0e5",
        "id": "JsMafxzFKMl7"
      },
      "source": [
        "# Import Pandas for data manipulation using dataframes\n",
        "import pandas as pd\n",
        "\n",
        "#Import Numpy for statistical calculations\n",
        "import numpy as np\n",
        "\n",
        "# Import Warnings \n",
        "import warnings\n",
        "warnings.filterwarnings('ignore')\n",
        "\n",
        "# Import matplotlib Library for data visualisation\n",
        "import matplotlib.pyplot as plt\n",
        "\n",
        "#Import train_test_split from scikit library\n",
        "from sklearn.model_selection import train_test_split\n",
        "\n",
        "# Import Keras\n",
        "import keras\n",
        "from keras.models import Sequential\n",
        "from keras.layers import Conv2D,MaxPooling2D,Dense,Flatten,Dropout\n",
        "from keras.optimizers import Adam\n",
        "from keras.callbacks import TensorBoard\n",
        "# Input data files are available in the \"../input/\" directory.\n",
        "# For example, running this (by clicking run or pressing Shift+Enter) will list the files in the input directory\n",
        "\n",
        "import os\n",
        "\n",
        "\n",
        "# Any results you write to the current directory are saved as output."
      ],
      "execution_count": null,
      "outputs": []
    },
    {
      "cell_type": "code",
      "metadata": {
        "_cell_guid": "79c7e3d0-c299-4dcb-8224-4455121ee9b0",
        "_uuid": "d629ff2d2480ee46fbb7e2d37f6b5fab8052498a",
        "id": "G6jbTcR5KMl9"
      },
      "source": [
        "# Create dataframes for train and test datasets\n",
        "\n",
        "train_df = pd.read_csv('./data/fashion-mnist_train.csv',sep=',')\n",
        "test_df = pd.read_csv('./data/fashion-mnist_test.csv', sep = ',')"
      ],
      "execution_count": null,
      "outputs": []
    },
    {
      "cell_type": "markdown",
      "metadata": {
        "_uuid": "f6a685bb623e252313e8db4d22a2e5ffc6862044",
        "id": "aks7Ljv0KMl-"
      },
      "source": [
        "Now it is observed that the first column is the label data and because it has 10 classes so it is going to have from 0 to 9.The remaining columns are the actual pixel data.Here as you can see there are about 784 columns that contain pixel data.\n",
        "Here each row is a different image representation in the form pixel data.\n",
        "\n",
        "Now let us split the train data into x and y arrays where x represents the image data and y represents the labels.\n",
        "To do that we need to convert the dataframes into numpy arrays of float32 type which is the acceptable form for tensorflow and keras."
      ]
    },
    {
      "cell_type": "code",
      "metadata": {
        "_uuid": "d9d06344738a78be9c5c1f03ffe86dc60a40258a",
        "id": "rlTBZ09QKMl-"
      },
      "source": [
        "train_data = np.array(train_df, dtype = 'float32')\n",
        "test_data = np.array(test_df, dtype='float32')"
      ],
      "execution_count": null,
      "outputs": []
    },
    {
      "cell_type": "markdown",
      "metadata": {
        "_uuid": "d60bacef4f8f3b03c29528e95c9dfe53c979e383",
        "id": "90nz9p23KMl_"
      },
      "source": [
        "Now let us slice the train arrays into x and y arrays namely x_train,y_train to store all image data and label data respectively.\n",
        "i.e \n",
        "\n",
        "- x_train contains all the rows and all columns except the label column and excluding header info .\n",
        "- y_train contains all the rows and first column and excluding header info .\n",
        "\n",
        "\n",
        "Similarly slice the test arrays into x and y arrays namely x_train,y_train to store all image data and label data respectively.\n",
        "i.e \n",
        "\n",
        "- x_test contains all the rows and all columns except the label column and excluding header info .\n",
        "- y_test contains all the rows and first column and excluding header info .\n",
        "\n",
        "####  Important Note : Since the image data in x_train and x_test is from 0 to 255 ,  we need to rescale this from 0 to 1.To do this we need to divide the x_train and x_test by 255 "
      ]
    },
    {
      "cell_type": "code",
      "metadata": {
        "_uuid": "75f671486c32fd6a296d3e37499d7dd4d02871cf",
        "id": "HNbGAbb-KMmA"
      },
      "source": [
        "x_train = train_data[:,1:]/255\n",
        "y_train = train_data[:,0]\n",
        "\n",
        "x_test= test_data[:,1:]/255\n",
        "y_test=test_data[:,0]"
      ],
      "execution_count": null,
      "outputs": []
    },
    {
      "cell_type": "markdown",
      "metadata": {
        "_uuid": "24b57c3c74765954d022767beafe991913c4eea3",
        "id": "VIU9ZAJkKMmA"
      },
      "source": [
        "Now we are gonna split the training data into validation and actual training data for training the model and testing it using the validation set. This is achieved using the train_test_split method of scikit learn library."
      ]
    },
    {
      "cell_type": "code",
      "metadata": {
        "_uuid": "76c9bb98cd93d6e1bec4d6eef10a679d8b191fea",
        "id": "8YZcj23wKMmB"
      },
      "source": [
        "x_train,x_validate,y_train,y_validate = train_test_split(x_train,y_train,test_size = 0.2,random_state = 12345)"
      ],
      "execution_count": null,
      "outputs": []
    },
    {
      "cell_type": "markdown",
      "metadata": {
        "_uuid": "f0e59d45dffbb07f4d540740ebf5e83b787d5029",
        "id": "Beu3W7Z0KMmC"
      },
      "source": [
        "Now let us visualise the sample image how it looks like in 28 * 28 pixel size"
      ]
    },
    {
      "cell_type": "code",
      "metadata": {
        "_uuid": "2853b89c2ddcf650dc9afbd71a5aed011f2ff6d4",
        "id": "OWQj1zgNKMmC",
        "outputId": "9d65da86-e926-444f-a067-f993604a2184"
      },
      "source": [
        "image = x_train[50,:].reshape((28,28))\n",
        "plt.imshow(image)\n",
        "plt.show()"
      ],
      "execution_count": null,
      "outputs": [
        {
          "data": {
            "image/png": "[encoded data removed]",
            "text/plain": [
              "<Figure size 432x288 with 1 Axes>"
            ]
          },
          "metadata": {},
          "output_type": "display_data"
        }
      ]
    },
    {
      "cell_type": "markdown",
      "metadata": {
        "_uuid": "f946ddc4bbd4286e59540af2deb2eeabcdfe5bf1",
        "id": "9MqzF4a3KMmC"
      },
      "source": [
        "As you can observe above the shape of shoe from the sample image\n",
        "\n",
        "### Create the 3D Convolutional Neural Networks (CNN)\n",
        "\n",
        "- #### Define the model\n",
        "- #### Compile the model\n",
        "- #### Fit the model\n",
        "\n",
        "First of all let us define the shape of the image before we define the model"
      ]
    },
    {
      "cell_type": "code",
      "metadata": {
        "_uuid": "234bde019b14ac2b90aac9021d2f52b206b9637d",
        "id": "UHbR3Gl_KMmD"
      },
      "source": [
        "image_rows = 28\n",
        "image_cols = 28\n",
        "batch_size = 512\n",
        "image_shape = (image_rows,image_cols,1) # Defined the shape of the image as 3d with rows and columns and 1 for the 3d visualisation"
      ],
      "execution_count": null,
      "outputs": []
    },
    {
      "cell_type": "markdown",
      "metadata": {
        "_uuid": "6ead99bd967b2f20bd20ea2ba3ff4d9fe1dff660",
        "id": "QtDFWo8-KMmD"
      },
      "source": [
        "Now we need to do more formating on the x_train,x_test and x_validate sets."
      ]
    },
    {
      "cell_type": "code",
      "metadata": {
        "_uuid": "f6f09509b632b4793b94c124beaa570f615d6f30",
        "id": "LmWM9KS1KMmE"
      },
      "source": [
        "x_train = x_train.reshape(x_train.shape[0],*image_shape)\n",
        "x_test = x_test.reshape(x_test.shape[0],*image_shape)\n",
        "x_validate = x_validate.reshape(x_validate.shape[0],*image_shape)"
      ],
      "execution_count": null,
      "outputs": []
    },
    {
      "cell_type": "code",
      "metadata": {
        "_uuid": "a6be86935dbdcbd2e92b379bd076ddf692db3c6f",
        "id": "v4xbaAY0KMmE",
        "outputId": "ade88c4e-7eea-4545-e208-a936c0fec625"
      },
      "source": [
        "print(\"x_train shape = {}\".format(x_train.shape))\n",
        "print(\"x_test shape = {}\".format(x_test.shape))\n",
        "print(\"x_validate shape = {}\".format(x_validate.shape))"
      ],
      "execution_count": null,
      "outputs": [
        {
          "name": "stdout",
          "output_type": "stream",
          "text": [
            "x_train shape = (48000, 28, 28, 1)\n",
            "x_test shape = (10000, 28, 28, 1)\n",
            "x_validate shape = (12000, 28, 28, 1)\n"
          ]
        }
      ]
    },
    {
      "cell_type": "markdown",
      "metadata": {
        "_uuid": "dadda40bc9dc6a993a89755f25140d42e674be9b",
        "id": "W4O_3Bc0KMmF"
      },
      "source": [
        "- #### Define the model "
      ]
    },
    {
      "cell_type": "code",
      "metadata": {
        "_uuid": "781f5874afaeb361a9743d0c37dec9636f3c507b",
        "id": "IFrgPudwKMmG"
      },
      "source": [
        "name = '1_Layer'\n",
        "cnn_model_1 = Sequential([\n",
        "    Conv2D(32, kernel_size=3, activation='relu', input_shape=image_shape, name='Conv2D-1'),\n",
        "    MaxPooling2D(pool_size=2, name='MaxPool'),\n",
        "    Dropout(0.2, name='Dropout'),\n",
        "    Flatten(name='flatten'),\n",
        "    Dense(32, activation='relu', name='Dense'),\n",
        "    Dense(10, activation='softmax', name='Output')\n",
        "], name=name)\n",
        "\n",
        "name = '2_Layer'\n",
        "cnn_model_2 = Sequential([\n",
        "    Conv2D(32, kernel_size=3, activation='relu', input_shape=image_shape, name='Conv2D-1'),\n",
        "    MaxPooling2D(pool_size=2, name='MaxPool'),\n",
        "    Dropout(0.2, name='Dropout-1'),\n",
        "    Conv2D(64, kernel_size=3, activation='relu', name='Conv2D-2'),\n",
        "    Dropout(0.25, name='Dropout-2'),\n",
        "    Flatten(name='flatten'),\n",
        "    Dense(64, activation='relu', name='Dense'),\n",
        "    Dense(10, activation='softmax', name='Output')\n",
        "], name=name)\n",
        "\n",
        "name='3_layer'\n",
        "cnn_model_3 = Sequential([\n",
        "    Conv2D(32, kernel_size=3, activation='relu', \n",
        "           input_shape=image_shape, kernel_initializer='he_normal', name='Conv2D-1'),\n",
        "    MaxPooling2D(pool_size=2, name='MaxPool'),\n",
        "    Dropout(0.25, name='Dropout-1'),\n",
        "    Conv2D(64, kernel_size=3, activation='relu', name='Conv2D-2'),\n",
        "    Dropout(0.25, name='Dropout-2'),\n",
        "    Conv2D(128, kernel_size=3, activation='relu', name='Conv2D-3'),\n",
        "    Dropout(0.4, name='Dropout-3'),\n",
        "    Flatten(name='flatten'),\n",
        "    Dense(128, activation='relu', name='Dense'),\n",
        "    Dropout(0.4, name='Dropout'),\n",
        "    Dense(10, activation='softmax', name='Output')\n",
        "], name=name)\n",
        "\n",
        "cnn_models = [cnn_model_1, cnn_model_2, cnn_model_3]"
      ],
      "execution_count": null,
      "outputs": []
    },
    {
      "cell_type": "code",
      "metadata": {
        "_uuid": "153e50645ce1c1c52e19bfb5fe5fc458f92d6c51",
        "id": "mOtoYanxKMmG",
        "outputId": "e515f306-aa92-4b43-a334-dde9f00d7492"
      },
      "source": [
        "# the model summaries# the mo \n",
        "\n",
        "for model in cnn_models:\n",
        "    model.summary()"
      ],
      "execution_count": null,
      "outputs": [
        {
          "name": "stdout",
          "output_type": "stream",
          "text": [
            "_________________________________________________________________\n",
            "Layer (type)                 Output Shape              Param #   \n",
            "=================================================================\n",
            "Conv2D-1 (Conv2D)            (None, 26, 26, 32)        320       \n",
            "_________________________________________________________________\n",
            "MaxPool (MaxPooling2D)       (None, 13, 13, 32)        0         \n",
            "_________________________________________________________________\n",
            "Dropout (Dropout)            (None, 13, 13, 32)        0         \n",
            "_________________________________________________________________\n",
            "flatten (Flatten)            (None, 5408)              0         \n",
            "_________________________________________________________________\n",
            "Dense (Dense)                (None, 32)                173088    \n",
            "_________________________________________________________________\n",
            "Output (Dense)               (None, 10)                330       \n",
            "=================================================================\n",
            "Total params: 173,738\n",
            "Trainable params: 173,738\n",
            "Non-trainable params: 0\n",
            "_________________________________________________________________\n",
            "_________________________________________________________________\n",
            "Layer (type)                 Output Shape              Param #   \n",
            "=================================================================\n",
            "Conv2D-1 (Conv2D)            (None, 26, 26, 32)        320       \n",
            "_________________________________________________________________\n",
            "MaxPool (MaxPooling2D)       (None, 13, 13, 32)        0         \n",
            "_________________________________________________________________\n",
            "Dropout-1 (Dropout)          (None, 13, 13, 32)        0         \n",
            "_________________________________________________________________\n",
            "Conv2D-2 (Conv2D)            (None, 11, 11, 64)        18496     \n",
            "_________________________________________________________________\n",
            "Dropout-2 (Dropout)          (None, 11, 11, 64)        0         \n",
            "_________________________________________________________________\n",
            "flatten (Flatten)            (None, 7744)              0         \n",
            "_________________________________________________________________\n",
            "Dense (Dense)                (None, 64)                495680    \n",
            "_________________________________________________________________\n",
            "Output (Dense)               (None, 10)                650       \n",
            "=================================================================\n",
            "Total params: 515,146\n",
            "Trainable params: 515,146\n",
            "Non-trainable params: 0\n",
            "_________________________________________________________________\n",
            "_________________________________________________________________\n",
            "Layer (type)                 Output Shape              Param #   \n",
            "=================================================================\n",
            "Conv2D-1 (Conv2D)            (None, 26, 26, 32)        320       \n",
            "_________________________________________________________________\n",
            "MaxPool (MaxPooling2D)       (None, 13, 13, 32)        0         \n",
            "_________________________________________________________________\n",
            "Dropout-1 (Dropout)          (None, 13, 13, 32)        0         \n",
            "_________________________________________________________________\n",
            "Conv2D-2 (Conv2D)            (None, 11, 11, 64)        18496     \n",
            "_________________________________________________________________\n",
            "Dropout-2 (Dropout)          (None, 11, 11, 64)        0         \n",
            "_________________________________________________________________\n",
            "Conv2D-3 (Conv2D)            (None, 9, 9, 128)         73856     \n",
            "_________________________________________________________________\n",
            "Dropout-3 (Dropout)          (None, 9, 9, 128)         0         \n",
            "_________________________________________________________________\n",
            "flatten (Flatten)            (None, 10368)             0         \n",
            "_________________________________________________________________\n",
            "Dense (Dense)                (None, 128)               1327232   \n",
            "_________________________________________________________________\n",
            "Dropout (Dropout)            (None, 128)               0         \n",
            "_________________________________________________________________\n",
            "Output (Dense)               (None, 10)                1290      \n",
            "=================================================================\n",
            "Total params: 1,421,194\n",
            "Trainable params: 1,421,194\n",
            "Non-trainable params: 0\n",
            "_________________________________________________________________\n"
          ]
        }
      ]
    },
    {
      "cell_type": "code",
      "metadata": {
        "_uuid": "e66a324af7495c60223db4a266dd2f54f4f722d7",
        "id": "W5-N5EPCKMmG",
        "outputId": "f304509b-21d9-48b8-c558-19edfd224f2a"
      },
      "source": [
        "# train the models and save results to a dict\n",
        "\n",
        "history_dict = {}\n",
        "\n",
        "for model in cnn_models:\n",
        "    model.compile(\n",
        "        loss='sparse_categorical_crossentropy',\n",
        "        optimizer=Adam(),\n",
        "        metrics=['accuracy']\n",
        "    )\n",
        "    \n",
        "    history = model.fit(\n",
        "        x_train, y_train,\n",
        "        batch_size=batch_size,\n",
        "        epochs=50, verbose=1,\n",
        "        validation_data=(x_validate, y_validate)\n",
        "    )\n",
        "    \n",
        "    history_dict[model.name] = history"
      ],
      "execution_count": null,
      "outputs": [
        {
          "name": "stdout",
          "output_type": "stream",
          "text": [
            "Train on 48000 samples, validate on 12000 samples\n",
            "Epoch 1/50\n",
            "48000/48000 [==============================] - 38s 790us/step - loss: 0.8000 - acc: 0.7347 - val_loss: 0.4603 - val_acc: 0.8389\n",
            "Epoch 2/50\n",
            "48000/48000 [==============================] - 36s 758us/step - loss: 0.4239 - acc: 0.8516 - val_loss: 0.3842 - val_acc: 0.8646\n",
            "Epoch 3/50\n",
            "48000/48000 [==============================] - 37s 770us/step - loss: 0.3685 - acc: 0.8698 - val_loss: 0.3505 - val_acc: 0.8768\n",
            "Epoch 4/50\n",
            "48000/48000 [==============================] - 36s 758us/step - loss: 0.3425 - acc: 0.8798 - val_loss: 0.3255 - val_acc: 0.8841\n",
            "Epoch 5/50\n",
            "48000/48000 [==============================] - 40s 835us/step - loss: 0.3171 - acc: 0.8879 - val_loss: 0.3169 - val_acc: 0.8861\n",
            "Epoch 6/50\n",
            "48000/48000 [==============================] - 38s 794us/step - loss: 0.3053 - acc: 0.8922 - val_loss: 0.3090 - val_acc: 0.8888\n",
            "Epoch 7/50\n",
            "48000/48000 [==============================] - 41s 849us/step - loss: 0.2932 - acc: 0.8965 - val_loss: 0.2884 - val_acc: 0.8977\n",
            "Epoch 8/50\n",
            "48000/48000 [==============================] - 42s 870us/step - loss: 0.2778 - acc: 0.9023 - val_loss: 0.2785 - val_acc: 0.9028\n",
            "Epoch 9/50\n",
            "48000/48000 [==============================] - 37s 778us/step - loss: 0.2722 - acc: 0.9039 - val_loss: 0.2883 - val_acc: 0.8942\n",
            "Epoch 10/50\n",
            "48000/48000 [==============================] - 38s 793us/step - loss: 0.2667 - acc: 0.9054 - val_loss: 0.2663 - val_acc: 0.9039\n",
            "Epoch 11/50\n",
            "48000/48000 [==============================] - 38s 788us/step - loss: 0.2560 - acc: 0.9080 - val_loss: 0.2694 - val_acc: 0.9019\n",
            "Epoch 12/50\n",
            "48000/48000 [==============================] - 37s 771us/step - loss: 0.2500 - acc: 0.9120 - val_loss: 0.2651 - val_acc: 0.9050\n",
            "Epoch 13/50\n",
            "48000/48000 [==============================] - 38s 789us/step - loss: 0.2438 - acc: 0.9139 - val_loss: 0.2683 - val_acc: 0.9042\n",
            "Epoch 14/50\n",
            "48000/48000 [==============================] - 38s 795us/step - loss: 0.2417 - acc: 0.9127 - val_loss: 0.2519 - val_acc: 0.9108\n",
            "Epoch 15/50\n",
            "48000/48000 [==============================] - 39s 819us/step - loss: 0.2316 - acc: 0.9176 - val_loss: 0.2546 - val_acc: 0.9097\n",
            "Epoch 16/50\n",
            "48000/48000 [==============================] - 38s 799us/step - loss: 0.2293 - acc: 0.9179 - val_loss: 0.2467 - val_acc: 0.9132\n",
            "Epoch 17/50\n",
            "48000/48000 [==============================] - 37s 777us/step - loss: 0.2252 - acc: 0.9198 - val_loss: 0.2524 - val_acc: 0.9109\n",
            "Epoch 18/50\n",
            "48000/48000 [==============================] - 37s 762us/step - loss: 0.2229 - acc: 0.9216 - val_loss: 0.2491 - val_acc: 0.9122\n",
            "Epoch 19/50\n",
            "48000/48000 [==============================] - 37s 770us/step - loss: 0.2173 - acc: 0.9224 - val_loss: 0.2451 - val_acc: 0.9114\n",
            "Epoch 20/50\n",
            "48000/48000 [==============================] - 37s 768us/step - loss: 0.2134 - acc: 0.9233 - val_loss: 0.2408 - val_acc: 0.9140\n",
            "Epoch 21/50\n",
            "48000/48000 [==============================] - 38s 791us/step - loss: 0.2083 - acc: 0.9245 - val_loss: 0.2419 - val_acc: 0.9127\n",
            "Epoch 22/50\n",
            "48000/48000 [==============================] - 38s 789us/step - loss: 0.2066 - acc: 0.9250 - val_loss: 0.2372 - val_acc: 0.9145\n",
            "Epoch 23/50\n",
            "48000/48000 [==============================] - 37s 772us/step - loss: 0.2043 - acc: 0.9263 - val_loss: 0.2398 - val_acc: 0.9151\n",
            "Epoch 24/50\n",
            "48000/48000 [==============================] - 38s 783us/step - loss: 0.2005 - acc: 0.9275 - val_loss: 0.2371 - val_acc: 0.9150\n",
            "Epoch 25/50\n",
            "48000/48000 [==============================] - 37s 767us/step - loss: 0.1971 - acc: 0.9286 - val_loss: 0.2337 - val_acc: 0.9178\n",
            "Epoch 26/50\n",
            "48000/48000 [==============================] - 37s 768us/step - loss: 0.1915 - acc: 0.9313 - val_loss: 0.2342 - val_acc: 0.9164\n",
            "Epoch 27/50\n",
            "48000/48000 [==============================] - 38s 786us/step - loss: 0.1887 - acc: 0.9312 - val_loss: 0.2364 - val_acc: 0.9148\n",
            "Epoch 28/50\n",
            "48000/48000 [==============================] - 37s 779us/step - loss: 0.1845 - acc: 0.9349 - val_loss: 0.2354 - val_acc: 0.9158\n",
            "Epoch 29/50\n",
            "48000/48000 [==============================] - 37s 766us/step - loss: 0.1858 - acc: 0.9330 - val_loss: 0.2313 - val_acc: 0.9179\n",
            "Epoch 30/50\n",
            "48000/48000 [==============================] - 37s 768us/step - loss: 0.1816 - acc: 0.9347 - val_loss: 0.2308 - val_acc: 0.9171\n",
            "Epoch 31/50\n",
            "48000/48000 [==============================] - 37s 763us/step - loss: 0.1800 - acc: 0.9360 - val_loss: 0.2340 - val_acc: 0.9172\n",
            "Epoch 32/50\n",
            "48000/48000 [==============================] - 36s 759us/step - loss: 0.1741 - acc: 0.9373 - val_loss: 0.2318 - val_acc: 0.9182\n",
            "Epoch 33/50\n",
            "48000/48000 [==============================] - 37s 780us/step - loss: 0.1740 - acc: 0.9363 - val_loss: 0.2472 - val_acc: 0.9134\n",
            "Epoch 34/50\n",
            "48000/48000 [==============================] - 37s 773us/step - loss: 0.1710 - acc: 0.9379 - val_loss: 0.2334 - val_acc: 0.9180\n",
            "Epoch 35/50\n",
            "48000/48000 [==============================] - 37s 774us/step - loss: 0.1687 - acc: 0.9393 - val_loss: 0.2387 - val_acc: 0.9129\n",
            "Epoch 36/50\n",
            "48000/48000 [==============================] - 37s 768us/step - loss: 0.1671 - acc: 0.9388 - val_loss: 0.2335 - val_acc: 0.9183\n",
            "Epoch 37/50\n",
            "48000/48000 [==============================] - 38s 783us/step - loss: 0.1626 - acc: 0.9411 - val_loss: 0.2348 - val_acc: 0.9196\n",
            "Epoch 38/50\n",
            "48000/48000 [==============================] - 38s 787us/step - loss: 0.1605 - acc: 0.9412 - val_loss: 0.2321 - val_acc: 0.9194\n",
            "Epoch 39/50\n",
            "48000/48000 [==============================] - 37s 763us/step - loss: 0.1605 - acc: 0.9426 - val_loss: 0.2324 - val_acc: 0.9165\n",
            "Epoch 40/50\n",
            "48000/48000 [==============================] - 36s 758us/step - loss: 0.1598 - acc: 0.9410 - val_loss: 0.2333 - val_acc: 0.9182\n",
            "Epoch 41/50\n",
            "48000/48000 [==============================] - 36s 757us/step - loss: 0.1581 - acc: 0.9418 - val_loss: 0.2390 - val_acc: 0.9182\n",
            "Epoch 42/50\n",
            "48000/48000 [==============================] - 35s 725us/step - loss: 0.1547 - acc: 0.9431 - val_loss: 0.2351 - val_acc: 0.9180\n",
            "Epoch 43/50\n",
            "48000/48000 [==============================] - 35s 729us/step - loss: 0.1535 - acc: 0.9440 - val_loss: 0.2342 - val_acc: 0.9183\n",
            "Epoch 44/50\n",
            "48000/48000 [==============================] - 35s 737us/step - loss: 0.1510 - acc: 0.9437 - val_loss: 0.2403 - val_acc: 0.9195\n",
            "Epoch 45/50\n",
            "48000/48000 [==============================] - 37s 771us/step - loss: 0.1482 - acc: 0.9457 - val_loss: 0.2362 - val_acc: 0.9184\n",
            "Epoch 46/50\n",
            "48000/48000 [==============================] - 37s 773us/step - loss: 0.1461 - acc: 0.9473 - val_loss: 0.2356 - val_acc: 0.9183\n",
            "Epoch 47/50\n",
            "48000/48000 [==============================] - 37s 766us/step - loss: 0.1429 - acc: 0.9478 - val_loss: 0.2468 - val_acc: 0.9181\n",
            "Epoch 48/50\n",
            "48000/48000 [==============================] - 37s 768us/step - loss: 0.1417 - acc: 0.9482 - val_loss: 0.2376 - val_acc: 0.9195\n",
            "Epoch 49/50\n",
            "48000/48000 [==============================] - 37s 772us/step - loss: 0.1407 - acc: 0.9487 - val_loss: 0.2407 - val_acc: 0.9167\n",
            "Epoch 50/50\n",
            "48000/48000 [==============================] - 37s 773us/step - loss: 0.1412 - acc: 0.9484 - val_loss: 0.2364 - val_acc: 0.9188\n",
            "Train on 48000 samples, validate on 12000 samples\n",
            "Epoch 1/50\n",
            "48000/48000 [==============================] - 75s 2ms/step - loss: 0.7384 - acc: 0.7434 - val_loss: 0.4642 - val_acc: 0.8336\n",
            "Epoch 2/50\n",
            "48000/48000 [==============================] - 74s 2ms/step - loss: 0.4499 - acc: 0.8397 - val_loss: 0.3998 - val_acc: 0.8564\n",
            "Epoch 3/50\n",
            "48000/48000 [==============================] - 75s 2ms/step - loss: 0.3907 - acc: 0.8615 - val_loss: 0.3673 - val_acc: 0.8705\n",
            "Epoch 4/50\n",
            "48000/48000 [==============================] - 75s 2ms/step - loss: 0.3585 - acc: 0.8728 - val_loss: 0.3244 - val_acc: 0.8838\n",
            "Epoch 5/50\n",
            "48000/48000 [==============================] - 74s 2ms/step - loss: 0.3312 - acc: 0.8814 - val_loss: 0.3126 - val_acc: 0.8869\n",
            "Epoch 6/50\n",
            "48000/48000 [==============================] - 75s 2ms/step - loss: 0.3128 - acc: 0.8871 - val_loss: 0.2909 - val_acc: 0.8953\n",
            "Epoch 7/50\n",
            "48000/48000 [==============================] - 75s 2ms/step - loss: 0.2962 - acc: 0.8925 - val_loss: 0.2713 - val_acc: 0.9038\n",
            "Epoch 8/50\n",
            "48000/48000 [==============================] - 74s 2ms/step - loss: 0.2766 - acc: 0.9013 - val_loss: 0.2704 - val_acc: 0.9005\n",
            "Epoch 9/50\n"
          ]
        },
        {
          "name": "stdout",
          "output_type": "stream",
          "text": [
            "48000/48000 [==============================] - 76s 2ms/step - loss: 0.2682 - acc: 0.9027 - val_loss: 0.2631 - val_acc: 0.9059\n",
            "Epoch 10/50\n",
            "48000/48000 [==============================] - 78s 2ms/step - loss: 0.2605 - acc: 0.9064 - val_loss: 0.2554 - val_acc: 0.9068\n",
            "Epoch 11/50\n",
            "48000/48000 [==============================] - 74s 2ms/step - loss: 0.2495 - acc: 0.9094 - val_loss: 0.2392 - val_acc: 0.9143\n",
            "Epoch 12/50\n",
            "48000/48000 [==============================] - 73s 2ms/step - loss: 0.2356 - acc: 0.9146 - val_loss: 0.2342 - val_acc: 0.9143\n",
            "Epoch 13/50\n",
            "48000/48000 [==============================] - 73s 2ms/step - loss: 0.2290 - acc: 0.9164 - val_loss: 0.2349 - val_acc: 0.9141\n",
            "Epoch 14/50\n",
            "48000/48000 [==============================] - 73s 2ms/step - loss: 0.2238 - acc: 0.9199 - val_loss: 0.2265 - val_acc: 0.9157\n",
            "Epoch 15/50\n",
            "48000/48000 [==============================] - 73s 2ms/step - loss: 0.2127 - acc: 0.9226 - val_loss: 0.2287 - val_acc: 0.9156\n",
            "Epoch 16/50\n",
            "48000/48000 [==============================] - 74s 2ms/step - loss: 0.2065 - acc: 0.9241 - val_loss: 0.2237 - val_acc: 0.9178\n",
            "Epoch 17/50\n",
            "48000/48000 [==============================] - 74s 2ms/step - loss: 0.1991 - acc: 0.9271 - val_loss: 0.2159 - val_acc: 0.9212\n",
            "Epoch 18/50\n",
            "48000/48000 [==============================] - 75s 2ms/step - loss: 0.1914 - acc: 0.9307 - val_loss: 0.2201 - val_acc: 0.9213\n",
            "Epoch 19/50\n",
            "48000/48000 [==============================] - 75s 2ms/step - loss: 0.1870 - acc: 0.9311 - val_loss: 0.2166 - val_acc: 0.9188\n",
            "Epoch 20/50\n",
            "48000/48000 [==============================] - 73s 2ms/step - loss: 0.1800 - acc: 0.9348 - val_loss: 0.2201 - val_acc: 0.9223\n",
            "Epoch 21/50\n",
            "48000/48000 [==============================] - 73s 2ms/step - loss: 0.1739 - acc: 0.9359 - val_loss: 0.2200 - val_acc: 0.9229\n",
            "Epoch 22/50\n",
            "48000/48000 [==============================] - 73s 2ms/step - loss: 0.1729 - acc: 0.9366 - val_loss: 0.2165 - val_acc: 0.9220\n",
            "Epoch 23/50\n",
            "48000/48000 [==============================] - 74s 2ms/step - loss: 0.1655 - acc: 0.9398 - val_loss: 0.2237 - val_acc: 0.9209\n",
            "Epoch 24/50\n",
            "48000/48000 [==============================] - 74s 2ms/step - loss: 0.1567 - acc: 0.9428 - val_loss: 0.2084 - val_acc: 0.9263\n",
            "Epoch 25/50\n",
            "48000/48000 [==============================] - 73s 2ms/step - loss: 0.1530 - acc: 0.9453 - val_loss: 0.2203 - val_acc: 0.9193\n",
            "Epoch 26/50\n",
            "48000/48000 [==============================] - 74s 2ms/step - loss: 0.1508 - acc: 0.9442 - val_loss: 0.2072 - val_acc: 0.9262\n",
            "Epoch 27/50\n",
            "48000/48000 [==============================] - 74s 2ms/step - loss: 0.1454 - acc: 0.9469 - val_loss: 0.2130 - val_acc: 0.9237\n",
            "Epoch 28/50\n",
            "48000/48000 [==============================] - 74s 2ms/step - loss: 0.1387 - acc: 0.9476 - val_loss: 0.2119 - val_acc: 0.9265\n",
            "Epoch 29/50\n",
            "48000/48000 [==============================] - 74s 2ms/step - loss: 0.1351 - acc: 0.9501 - val_loss: 0.2138 - val_acc: 0.9244\n",
            "Epoch 30/50\n",
            "48000/48000 [==============================] - 75s 2ms/step - loss: 0.1324 - acc: 0.9517 - val_loss: 0.2105 - val_acc: 0.9264\n",
            "Epoch 31/50\n",
            "48000/48000 [==============================] - 74s 2ms/step - loss: 0.1278 - acc: 0.9525 - val_loss: 0.2119 - val_acc: 0.9258\n",
            "Epoch 32/50\n",
            "48000/48000 [==============================] - 74s 2ms/step - loss: 0.1266 - acc: 0.9529 - val_loss: 0.2233 - val_acc: 0.9268\n",
            "Epoch 33/50\n",
            "48000/48000 [==============================] - 75s 2ms/step - loss: 0.1175 - acc: 0.9566 - val_loss: 0.2191 - val_acc: 0.9226\n",
            "Epoch 34/50\n",
            "48000/48000 [==============================] - 74s 2ms/step - loss: 0.1207 - acc: 0.9551 - val_loss: 0.2191 - val_acc: 0.9241\n",
            "Epoch 35/50\n",
            "48000/48000 [==============================] - 77s 2ms/step - loss: 0.1153 - acc: 0.9572 - val_loss: 0.2142 - val_acc: 0.9250\n",
            "Epoch 36/50\n",
            "48000/48000 [==============================] - 74s 2ms/step - loss: 0.1115 - acc: 0.9591 - val_loss: 0.2113 - val_acc: 0.9298\n",
            "Epoch 37/50\n",
            "48000/48000 [==============================] - 74s 2ms/step - loss: 0.1065 - acc: 0.9609 - val_loss: 0.2119 - val_acc: 0.9291\n",
            "Epoch 38/50\n",
            "48000/48000 [==============================] - 74s 2ms/step - loss: 0.1011 - acc: 0.9632 - val_loss: 0.2227 - val_acc: 0.9263\n",
            "Epoch 39/50\n",
            "48000/48000 [==============================] - 74s 2ms/step - loss: 0.1016 - acc: 0.9619 - val_loss: 0.2161 - val_acc: 0.9313\n",
            "Epoch 40/50\n",
            "48000/48000 [==============================] - 75s 2ms/step - loss: 0.0962 - acc: 0.9642 - val_loss: 0.2221 - val_acc: 0.9293\n",
            "Epoch 41/50\n",
            "48000/48000 [==============================] - 74s 2ms/step - loss: 0.0943 - acc: 0.9645 - val_loss: 0.2264 - val_acc: 0.9290\n",
            "Epoch 42/50\n",
            "48000/48000 [==============================] - 74s 2ms/step - loss: 0.0923 - acc: 0.9652 - val_loss: 0.2179 - val_acc: 0.9307\n",
            "Epoch 43/50\n",
            "48000/48000 [==============================] - 75s 2ms/step - loss: 0.0873 - acc: 0.9678 - val_loss: 0.2309 - val_acc: 0.9270\n",
            "Epoch 44/50\n",
            "48000/48000 [==============================] - 74s 2ms/step - loss: 0.0868 - acc: 0.9680 - val_loss: 0.2336 - val_acc: 0.9258\n",
            "Epoch 45/50\n",
            "48000/48000 [==============================] - 73s 2ms/step - loss: 0.0861 - acc: 0.9676 - val_loss: 0.2361 - val_acc: 0.9251\n",
            "Epoch 46/50\n",
            "48000/48000 [==============================] - 74s 2ms/step - loss: 0.0801 - acc: 0.9702 - val_loss: 0.2353 - val_acc: 0.9297\n",
            "Epoch 47/50\n",
            "48000/48000 [==============================] - 74s 2ms/step - loss: 0.0786 - acc: 0.9716 - val_loss: 0.2293 - val_acc: 0.9293\n",
            "Epoch 48/50\n",
            "48000/48000 [==============================] - 74s 2ms/step - loss: 0.0788 - acc: 0.9707 - val_loss: 0.2333 - val_acc: 0.9294\n",
            "Epoch 49/50\n",
            "48000/48000 [==============================] - 74s 2ms/step - loss: 0.0742 - acc: 0.9733 - val_loss: 0.2363 - val_acc: 0.9293\n",
            "Epoch 50/50\n",
            "48000/48000 [==============================] - 74s 2ms/step - loss: 0.0725 - acc: 0.9729 - val_loss: 0.2339 - val_acc: 0.9312\n",
            "Train on 48000 samples, validate on 12000 samples\n",
            "Epoch 1/50\n",
            "48000/48000 [==============================] - 152s 3ms/step - loss: 0.7936 - acc: 0.7137 - val_loss: 0.4264 - val_acc: 0.8451\n",
            "Epoch 2/50\n",
            "48000/48000 [==============================] - 141s 3ms/step - loss: 0.4730 - acc: 0.8290 - val_loss: 0.3510 - val_acc: 0.8708\n",
            "Epoch 3/50\n",
            "48000/48000 [==============================] - 138s 3ms/step - loss: 0.4040 - acc: 0.8566 - val_loss: 0.3060 - val_acc: 0.8873\n",
            "Epoch 4/50\n",
            "48000/48000 [==============================] - 138s 3ms/step - loss: 0.3636 - acc: 0.8704 - val_loss: 0.2899 - val_acc: 0.8901\n",
            "Epoch 5/50\n",
            "48000/48000 [==============================] - 138s 3ms/step - loss: 0.3327 - acc: 0.8812 - val_loss: 0.2703 - val_acc: 0.9009\n",
            "Epoch 6/50\n",
            "48000/48000 [==============================] - 137s 3ms/step - loss: 0.3120 - acc: 0.8875 - val_loss: 0.2590 - val_acc: 0.9048\n",
            "Epoch 7/50\n",
            "48000/48000 [==============================] - 137s 3ms/step - loss: 0.2951 - acc: 0.8954 - val_loss: 0.2509 - val_acc: 0.9086\n",
            "Epoch 8/50\n",
            "48000/48000 [==============================] - 137s 3ms/step - loss: 0.2813 - acc: 0.8970 - val_loss: 0.2368 - val_acc: 0.9123\n",
            "Epoch 9/50\n",
            "48000/48000 [==============================] - 135s 3ms/step - loss: 0.2683 - acc: 0.9025 - val_loss: 0.2290 - val_acc: 0.9155\n",
            "Epoch 10/50\n",
            "48000/48000 [==============================] - 135s 3ms/step - loss: 0.2574 - acc: 0.9056 - val_loss: 0.2278 - val_acc: 0.9155\n",
            "Epoch 11/50\n",
            "48000/48000 [==============================] - 136s 3ms/step - loss: 0.2497 - acc: 0.9087 - val_loss: 0.2247 - val_acc: 0.9171\n",
            "Epoch 12/50\n",
            "48000/48000 [==============================] - 135s 3ms/step - loss: 0.2428 - acc: 0.9112 - val_loss: 0.2195 - val_acc: 0.9173\n",
            "Epoch 13/50\n",
            "48000/48000 [==============================] - 134s 3ms/step - loss: 0.2324 - acc: 0.9152 - val_loss: 0.2262 - val_acc: 0.9176\n",
            "Epoch 14/50\n",
            "48000/48000 [==============================] - 136s 3ms/step - loss: 0.2249 - acc: 0.9173 - val_loss: 0.2167 - val_acc: 0.9201\n",
            "Epoch 15/50\n",
            "48000/48000 [==============================] - 140s 3ms/step - loss: 0.2160 - acc: 0.9201 - val_loss: 0.2113 - val_acc: 0.9206\n",
            "Epoch 16/50\n",
            "48000/48000 [==============================] - 153s 3ms/step - loss: 0.2144 - acc: 0.9211 - val_loss: 0.2129 - val_acc: 0.9214\n",
            "Epoch 17/50\n",
            "48000/48000 [==============================] - 145s 3ms/step - loss: 0.2035 - acc: 0.9241 - val_loss: 0.2044 - val_acc: 0.9258\n",
            "Epoch 18/50\n"
          ]
        },
        {
          "name": "stdout",
          "output_type": "stream",
          "text": [
            "48000/48000 [==============================] - 143s 3ms/step - loss: 0.1994 - acc: 0.9262 - val_loss: 0.2084 - val_acc: 0.9238\n",
            "Epoch 19/50\n",
            "48000/48000 [==============================] - 155s 3ms/step - loss: 0.2000 - acc: 0.9251 - val_loss: 0.2039 - val_acc: 0.9251\n",
            "Epoch 20/50\n",
            "48000/48000 [==============================] - 154s 3ms/step - loss: 0.1916 - acc: 0.9277 - val_loss: 0.2059 - val_acc: 0.9263\n",
            "Epoch 21/50\n",
            "48000/48000 [==============================] - 153s 3ms/step - loss: 0.1879 - acc: 0.9291 - val_loss: 0.2007 - val_acc: 0.9277\n",
            "Epoch 22/50\n",
            "48000/48000 [==============================] - 163s 3ms/step - loss: 0.1855 - acc: 0.9306 - val_loss: 0.1970 - val_acc: 0.9267\n",
            "Epoch 23/50\n",
            "48000/48000 [==============================] - 157s 3ms/step - loss: 0.1770 - acc: 0.9341 - val_loss: 0.2010 - val_acc: 0.9261\n",
            "Epoch 24/50\n",
            "48000/48000 [==============================] - 153s 3ms/step - loss: 0.1744 - acc: 0.9354 - val_loss: 0.2001 - val_acc: 0.9292\n",
            "Epoch 25/50\n",
            "48000/48000 [==============================] - 162s 3ms/step - loss: 0.1698 - acc: 0.9351 - val_loss: 0.2045 - val_acc: 0.9267\n",
            "Epoch 26/50\n",
            "48000/48000 [==============================] - 156s 3ms/step - loss: 0.1676 - acc: 0.9377 - val_loss: 0.2084 - val_acc: 0.9270\n",
            "Epoch 27/50\n",
            "48000/48000 [==============================] - 147s 3ms/step - loss: 0.1643 - acc: 0.9376 - val_loss: 0.2042 - val_acc: 0.9258\n",
            "Epoch 28/50\n",
            "48000/48000 [==============================] - 151s 3ms/step - loss: 0.1607 - acc: 0.9394 - val_loss: 0.2003 - val_acc: 0.9295\n",
            "Epoch 29/50\n",
            "48000/48000 [==============================] - 147s 3ms/step - loss: 0.1533 - acc: 0.9420 - val_loss: 0.1975 - val_acc: 0.9302\n",
            "Epoch 30/50\n",
            "48000/48000 [==============================] - 154s 3ms/step - loss: 0.1524 - acc: 0.9425 - val_loss: 0.2038 - val_acc: 0.9284\n",
            "Epoch 31/50\n",
            "48000/48000 [==============================] - 146s 3ms/step - loss: 0.1516 - acc: 0.9430 - val_loss: 0.2007 - val_acc: 0.9303\n",
            "Epoch 32/50\n",
            "48000/48000 [==============================] - 154s 3ms/step - loss: 0.1496 - acc: 0.9432 - val_loss: 0.1985 - val_acc: 0.9313\n",
            "Epoch 33/50\n",
            "48000/48000 [==============================] - 159s 3ms/step - loss: 0.1475 - acc: 0.9434 - val_loss: 0.2114 - val_acc: 0.9282\n",
            "Epoch 34/50\n",
            "48000/48000 [==============================] - 152s 3ms/step - loss: 0.1448 - acc: 0.9466 - val_loss: 0.2019 - val_acc: 0.9287\n",
            "Epoch 35/50\n",
            "48000/48000 [==============================] - 155s 3ms/step - loss: 0.1404 - acc: 0.9469 - val_loss: 0.2065 - val_acc: 0.9282\n",
            "Epoch 36/50\n",
            "48000/48000 [==============================] - 154s 3ms/step - loss: 0.1396 - acc: 0.9472 - val_loss: 0.2078 - val_acc: 0.9306\n",
            "Epoch 37/50\n",
            "48000/48000 [==============================] - 154s 3ms/step - loss: 0.1351 - acc: 0.9497 - val_loss: 0.2053 - val_acc: 0.9307\n",
            "Epoch 38/50\n",
            "48000/48000 [==============================] - 155s 3ms/step - loss: 0.1360 - acc: 0.9491 - val_loss: 0.2119 - val_acc: 0.9298\n",
            "Epoch 39/50\n",
            "48000/48000 [==============================] - 155s 3ms/step - loss: 0.1311 - acc: 0.9500 - val_loss: 0.2059 - val_acc: 0.9299\n",
            "Epoch 40/50\n",
            "48000/48000 [==============================] - 155s 3ms/step - loss: 0.1298 - acc: 0.9513 - val_loss: 0.2117 - val_acc: 0.9296\n",
            "Epoch 41/50\n",
            "48000/48000 [==============================] - 156s 3ms/step - loss: 0.1268 - acc: 0.9520 - val_loss: 0.2124 - val_acc: 0.9301\n",
            "Epoch 42/50\n",
            "48000/48000 [==============================] - 153s 3ms/step - loss: 0.1258 - acc: 0.9531 - val_loss: 0.2078 - val_acc: 0.9307\n",
            "Epoch 43/50\n",
            "48000/48000 [==============================] - 135s 3ms/step - loss: 0.1259 - acc: 0.9527 - val_loss: 0.2087 - val_acc: 0.9330\n",
            "Epoch 44/50\n",
            "48000/48000 [==============================] - 142s 3ms/step - loss: 0.1221 - acc: 0.9541 - val_loss: 0.2094 - val_acc: 0.9291\n",
            "Epoch 45/50\n",
            "48000/48000 [==============================] - 157s 3ms/step - loss: 0.1206 - acc: 0.9544 - val_loss: 0.2127 - val_acc: 0.9310\n",
            "Epoch 46/50\n",
            "48000/48000 [==============================] - 152s 3ms/step - loss: 0.1207 - acc: 0.9529 - val_loss: 0.2137 - val_acc: 0.9334\n",
            "Epoch 47/50\n",
            "48000/48000 [==============================] - 142s 3ms/step - loss: 0.1166 - acc: 0.9547 - val_loss: 0.2167 - val_acc: 0.9307\n",
            "Epoch 48/50\n",
            "48000/48000 [==============================] - 136s 3ms/step - loss: 0.1173 - acc: 0.9550 - val_loss: 0.2167 - val_acc: 0.9306\n",
            "Epoch 49/50\n",
            "48000/48000 [==============================] - 135s 3ms/step - loss: 0.1159 - acc: 0.9558 - val_loss: 0.2217 - val_acc: 0.9278\n",
            "Epoch 50/50\n",
            "48000/48000 [==============================] - 140s 3ms/step - loss: 0.1122 - acc: 0.9571 - val_loss: 0.2172 - val_acc: 0.9308\n"
          ]
        }
      ]
    },
    {
      "cell_type": "markdown",
      "metadata": {
        "_uuid": "7c571b2bd7975a29ecad8a6ba6c1eac2258b519d",
        "id": "cTHktJK0KMmH"
      },
      "source": [
        "### Plot the Accuracy and Loss"
      ]
    },
    {
      "cell_type": "code",
      "metadata": {
        "_uuid": "b18c4b492c3d5e864a31783ddb5c8029661f455c",
        "id": "J6ywsh2DKMmH",
        "outputId": "4a9af4b6-7a0d-4efd-a639-9fa7ad5c93c2"
      },
      "source": [
        "fig,(ax1,ax2)=plt.subplots(2,figsize=(8,6))\n",
        "\n",
        "for history in history_dict:\n",
        "    val_acc = history_dict[history].history['val_acc']\n",
        "    val_loss = history_dict[history].history['val_loss']\n",
        "    ax1.plot(val_acc, label=history)\n",
        "    ax2.plot(val_loss, label=history)\n",
        "\n",
        "ax1.set_ylabel('Validation Accuracy')\n",
        "ax2.set_ylabel('Validation Loss')\n",
        "ax1.set_xlabel('Epochs')\n",
        "ax1.legend()\n",
        "ax2.legend()\n",
        "plt.show()  "
      ],
      "execution_count": null,
      "outputs": [
        {
          "data": {
            "image/png": "[encoded data removed]",
            "text/plain": [
              "<Figure size 576x432 with 2 Axes>"
            ]
          },
          "metadata": {},
          "output_type": "display_data"
        }
      ]
    },
    {
      "cell_type": "markdown",
      "metadata": {
        "_uuid": "6bfc7a1a12478c0adeff5b811638299361b42920",
        "collapsed": true,
        "id": "F1mBi1LCKMmH"
      },
      "source": [
        "As you can see in the above graph as the no of convolution layers increases the accuracy is increasing and loss keep decreasing"
      ]
    },
    {
      "cell_type": "code",
      "metadata": {
        "_uuid": "64870c498b29e67e35121c467b9d29f4e5ac1ac4",
        "id": "YR9w_1BdKMmH"
      },
      "source": [
        ""
      ],
      "execution_count": null,
      "outputs": []
    }
  ]
}