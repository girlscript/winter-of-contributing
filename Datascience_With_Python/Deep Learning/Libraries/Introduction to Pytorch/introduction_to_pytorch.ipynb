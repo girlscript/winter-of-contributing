{
  "nbformat": 4,
  "nbformat_minor": 0,
  "metadata": {
    "colab": {
      "name": "introduction_to_pytorch.ipynb",
      "provenance": [],
      "collapsed_sections": []
    },
    "kernelspec": {
      "name": "python3",
      "display_name": "Python 3"
    },
    "language_info": {
      "name": "python"
    },
    "accelerator": "GPU"
  },
  "cells": [
    {
      "cell_type": "markdown",
      "metadata": {
        "id": "QajVlICRCzo9"
      },
      "source": [
        "# Introduction to PyTorch"
      ]
    },
    {
      "cell_type": "markdown",
      "metadata": {
        "id": "wO-cJ0Q0FvYN"
      },
      "source": [
        "##What is Pytorch"
      ]
    },
    {
      "cell_type": "markdown",
      "metadata": {
        "id": "3icoP-9GAofq"
      },
      "source": [
        "PyTorch is an open source machine learning library based on the Torch library, used for applications such as computer vision and natural language processing, primarily developed by Facebook's AI Research lab (FAIR)\n",
        "\n",
        "In simpler language:\n",
        "You can assume PyTorch to be similar as Numpy but with stronger GPU acceleration.\n",
        "\n",
        "It is a library for Python programs that facilitates building deep learning projects.\n",
        "It emphasizes flexibility and allows deep learning models to be expressed in idiomatic Python.\n",
        "\n",
        "PyTorch provides two high-level features:\n",
        "\n",
        "*    Tensor computing (like NumPy) with strong acceleration via graphics processing units (GPU)\n",
        "*    Deep neural networks built on a type-based automatic differentiation system"
      ]
    },
    {
      "cell_type": "markdown",
      "metadata": {
        "id": "sx9MYqa2MLrz"
      },
      "source": [
        "### But why do we even need Pytorch? "
      ]
    },
    {
      "cell_type": "markdown",
      "metadata": {
        "id": "5IFzJzcnMLrz"
      },
      "source": [
        "You might wonder why we need a library like PyTorch at all since Numpy already provides data structures and utilities for working with multi-dimensional numeric data. There are two main reasons:\n",
        "\n",
        "1. **Autograd**: The ability to automatically compute gradients for tensor operations is essential for training deep learning models.\n",
        "2. **GPU support**: While working with massive datasets and large models, PyTorch tensor operations can be performed efficiently using a Graphics Processing Unit (GPU). Computations that might typically take hours can be completed within minutes using GPUs.\n"
      ]
    },
    {
      "cell_type": "markdown",
      "metadata": {
        "id": "XCAMeXGxMUte"
      },
      "source": [
        "### Difference between PyTorch and TensorFlow"
      ]
    },
    {
      "cell_type": "markdown",
      "metadata": {
        "id": "kUnZ4JIpMUtg"
      },
      "source": [
        "While some people may already be familiar with TensorFlow, an open source machine learning software library developed by Google. Both TensorFlow and PyTorch have different advantages on each other which I have described in brief below:"
      ]
    },
    {
      "cell_type": "markdown",
      "metadata": {
        "id": "xYSka9VaMUth"
      },
      "source": [
        "TensorFlow is very powerful and mature deep learning library with strong visualization capabilities and several options to use for high-level model development. It has production-ready deployment options and support for mobile platforms. TensorFlow is a good option if you:\n",
        "\n",
        "*    Develop models for production\n",
        "*    Develop models which need to be deployed on mobile platforms\n",
        "*    Want good community support and comprehensive documentation\n",
        "*    Want rich learning resources in various forms (TensorFlow has an an entire MOOC)\n",
        "*    Want or need to use Tensorboard\n",
        "*    Need to use large-scale distributed model training\n",
        "\n",
        "PyTorch is still a young framework which is getting momentum fast. You may find it a good fit if you:\n",
        "\n",
        "*    Do research or your production non-functional requirements are not very demanding\n",
        "*    Want better development and debugging experience\n",
        "*    Love all things Pythonic\n",
        "\n",
        "If you have the time the best advice would be to try both and see what fits your needs best."
      ]
    },
    {
      "cell_type": "markdown",
      "metadata": {
        "id": "OZTgQHxiMUth"
      },
      "source": [
        "You can find a more in-depth guide on the differences [here](https://builtin.com/data-science/pytorch-vs-tensorflow)."
      ]
    },
    {
      "cell_type": "markdown",
      "metadata": {
        "id": "zgG3zPWlDu9J"
      },
      "source": [
        "### How to run the code\n",
        "\n",
        "#### Option 1: Running using free online resources (1-click, recommended)\n",
        "\n",
        "The easiest way to start executing the code is to run it on Google Colab by simply downloading this file and uploading it on Google Colab.\n",
        "\n",
        "\n",
        "#### Option 2: Running on your computer locally\n",
        "\n",
        "To run the code on your computer locally, you'll need to set up [Python](https://www.python.org), download the notebook and install the required libraries. We recommend using the [Conda](https://docs.conda.io/projects/conda/en/latest/user-guide/install/) distribution of Python. \n",
        "\n",
        ">  **Jupyter Notebooks**: This tutorial is a [Jupyter notebook](https://jupyter.org) - a document made of _cells_. Each cell can contain code written in Python or explanations in plain English. You can execute code cells and view the results instantly within the notebook. It is widely used for Analysis."
      ]
    },
    {
      "cell_type": "markdown",
      "metadata": {
        "id": "j9-7wXbBDLJ8"
      },
      "source": [
        "Before we begin, we need to install the required libraries. The installation of PyTorch may differ based on your operating system / cloud environment. You can find detailed installation instructions here: https://pytorch.org .\n"
      ]
    },
    {
      "cell_type": "code",
      "metadata": {
        "id": "6TwMO0ZgC_9R"
      },
      "source": [
        "#pip is a package-management system written in Python used to install and manage software packages\n",
        "#installation with pip:\n",
        "\n",
        "# pip3 install torch torchvision"
      ],
      "execution_count": 15,
      "outputs": []
    },
    {
      "cell_type": "markdown",
      "metadata": {
        "id": "ShFbhX1yDTct"
      },
      "source": [
        "Let's import the torch module to get started"
      ]
    },
    {
      "cell_type": "code",
      "metadata": {
        "id": "TXjE0LLMC_-E"
      },
      "source": [
        "import torch"
      ],
      "execution_count": 16,
      "outputs": []
    },
    {
      "cell_type": "markdown",
      "metadata": {
        "id": "F3gOOEOaFPED"
      },
      "source": [
        "Let us also switch to the GPU to the observe the full power of PyTorch.\n",
        "We can switch to the GPU in Colab Notebook by:\n",
        "\n",
        "`Runtime>Change Runtime Type>Hardware Selector>GPU`"
      ]
    },
    {
      "cell_type": "markdown",
      "metadata": {
        "id": "Tj3dCnPOC6GX"
      },
      "source": [
        "## Tensors\n",
        "\n",
        "PyTorch tensors are similar to Numpy ndarrays with the option to operate on GPU.\n",
        "\n",
        "At its core, PyTorch is a library for processing tensors. \n",
        "\n",
        "A torch.Tensor is a multi-dimensional matrix containing elements of a single data type.\n",
        "\n",
        "Torch defines 10 tensor types with CPU and GPU variants which can be found on it's offcial [documentation page](https://pytorch.org/docs/stable/tensors.html)"
      ]
    },
    {
      "cell_type": "code",
      "metadata": {
        "colab": {
          "base_uri": "https://localhost:8080/"
        },
        "id": "J56sl_YXDh7C",
        "outputId": "cc7905a0-9208-4444-f8ea-2b36e5155fa5"
      },
      "source": [
        "# Number\n",
        "t1 = torch.tensor(4.)\n",
        "t1"
      ],
      "execution_count": 17,
      "outputs": [
        {
          "output_type": "execute_result",
          "data": {
            "text/plain": [
              "tensor(4.)"
            ]
          },
          "metadata": {},
          "execution_count": 17
        }
      ]
    },
    {
      "cell_type": "code",
      "metadata": {
        "colab": {
          "base_uri": "https://localhost:8080/"
        },
        "id": "JqXBXIWRG5bu",
        "outputId": "5de2b024-7f81-4a8e-a576-f532bcdb6d28"
      },
      "source": [
        "# Vector\n",
        "t2 = torch.tensor([1., 2, 3, 4])\n",
        "t2"
      ],
      "execution_count": 18,
      "outputs": [
        {
          "output_type": "execute_result",
          "data": {
            "text/plain": [
              "tensor([1., 2., 3., 4.])"
            ]
          },
          "metadata": {},
          "execution_count": 18
        }
      ]
    },
    {
      "cell_type": "code",
      "metadata": {
        "colab": {
          "base_uri": "https://localhost:8080/"
        },
        "id": "BeyA_mK0HGiH",
        "outputId": "58c3aa4d-2ba0-45de-b7d4-9d4124e7f4cb"
      },
      "source": [
        "# Matrix\n",
        "t3 = torch.tensor([[5., 6], \n",
        "                   [7, 8], \n",
        "                   [9, 10]])\n",
        "t3"
      ],
      "execution_count": 19,
      "outputs": [
        {
          "output_type": "execute_result",
          "data": {
            "text/plain": [
              "tensor([[ 5.,  6.],\n",
              "        [ 7.,  8.],\n",
              "        [ 9., 10.]])"
            ]
          },
          "metadata": {},
          "execution_count": 19
        }
      ]
    },
    {
      "cell_type": "code",
      "metadata": {
        "colab": {
          "base_uri": "https://localhost:8080/"
        },
        "id": "SIo_5pnuHNVk",
        "outputId": "d72bda98-aa6d-4bba-a106-363388c6db43"
      },
      "source": [
        "# 3-dimensional array\n",
        "t4 = torch.tensor([\n",
        "    [[11, 12, 13], \n",
        "     [13, 14, 15]], \n",
        "    [[15, 16, 17], \n",
        "     [17, 18, 19.]]])\n",
        "t4"
      ],
      "execution_count": 20,
      "outputs": [
        {
          "output_type": "execute_result",
          "data": {
            "text/plain": [
              "tensor([[[11., 12., 13.],\n",
              "         [13., 14., 15.]],\n",
              "\n",
              "        [[15., 16., 17.],\n",
              "         [17., 18., 19.]]])"
            ]
          },
          "metadata": {},
          "execution_count": 20
        }
      ]
    },
    {
      "cell_type": "markdown",
      "metadata": {
        "id": "rH85EKKzInCV"
      },
      "source": [
        "The contents of a tensor can be accessed and modified using Python’s indexing and slicing notation:"
      ]
    },
    {
      "cell_type": "code",
      "metadata": {
        "colab": {
          "base_uri": "https://localhost:8080/"
        },
        "id": "Flds8LgdIoBY",
        "outputId": "d1bcf56f-8406-4cd8-9410-9c6b7d56b242"
      },
      "source": [
        "t5 = torch.tensor([[1,2,3],\n",
        "                   [4,5,6]])\n",
        "t5[0,1]"
      ],
      "execution_count": 21,
      "outputs": [
        {
          "output_type": "execute_result",
          "data": {
            "text/plain": [
              "tensor(2)"
            ]
          },
          "metadata": {},
          "execution_count": 21
        }
      ]
    },
    {
      "cell_type": "code",
      "metadata": {
        "colab": {
          "base_uri": "https://localhost:8080/"
        },
        "id": "Q-KYWbl7I2CB",
        "outputId": "37ab16ac-21b7-4a10-e642-3cf599da8f5a"
      },
      "source": [
        "t5[1,2]=0\n",
        "t5"
      ],
      "execution_count": 22,
      "outputs": [
        {
          "output_type": "execute_result",
          "data": {
            "text/plain": [
              "tensor([[1, 2, 3],\n",
              "        [4, 5, 0]])"
            ]
          },
          "metadata": {},
          "execution_count": 22
        }
      ]
    },
    {
      "cell_type": "markdown",
      "metadata": {
        "id": "QAZ1TjgMJxpU"
      },
      "source": [
        "Tensors can have any number of dimensions and different lengths along each dimension. We can inspect the length along each dimension using the `.shape` property of a tensor."
      ]
    },
    {
      "cell_type": "code",
      "metadata": {
        "colab": {
          "base_uri": "https://localhost:8080/"
        },
        "id": "aOoNe8lwI8Cp",
        "outputId": "5b0537db-ccc8-4aa6-9b0b-5df4bfa24c03"
      },
      "source": [
        "print(t1)\n",
        "t1.shape"
      ],
      "execution_count": 23,
      "outputs": [
        {
          "output_type": "stream",
          "name": "stdout",
          "text": [
            "tensor(4.)\n"
          ]
        },
        {
          "output_type": "execute_result",
          "data": {
            "text/plain": [
              "torch.Size([])"
            ]
          },
          "metadata": {},
          "execution_count": 23
        }
      ]
    },
    {
      "cell_type": "code",
      "metadata": {
        "colab": {
          "base_uri": "https://localhost:8080/"
        },
        "id": "Gu8ymOoKKBJ1",
        "outputId": "69c2c9e9-c8b2-49cc-f7ca-6812f0763d01"
      },
      "source": [
        "print(t2)\n",
        "t2.shape"
      ],
      "execution_count": 24,
      "outputs": [
        {
          "output_type": "stream",
          "name": "stdout",
          "text": [
            "tensor([1., 2., 3., 4.])\n"
          ]
        },
        {
          "output_type": "execute_result",
          "data": {
            "text/plain": [
              "torch.Size([4])"
            ]
          },
          "metadata": {},
          "execution_count": 24
        }
      ]
    },
    {
      "cell_type": "code",
      "metadata": {
        "colab": {
          "base_uri": "https://localhost:8080/"
        },
        "id": "hh2fojMWK-BW",
        "outputId": "89ff0b96-ee85-4d2e-b769-2f0dec5ff5a4"
      },
      "source": [
        "print(t3)\n",
        "t3.shape"
      ],
      "execution_count": 25,
      "outputs": [
        {
          "output_type": "stream",
          "name": "stdout",
          "text": [
            "tensor([[ 5.,  6.],\n",
            "        [ 7.,  8.],\n",
            "        [ 9., 10.]])\n"
          ]
        },
        {
          "output_type": "execute_result",
          "data": {
            "text/plain": [
              "torch.Size([3, 2])"
            ]
          },
          "metadata": {},
          "execution_count": 25
        }
      ]
    },
    {
      "cell_type": "code",
      "metadata": {
        "colab": {
          "base_uri": "https://localhost:8080/"
        },
        "id": "Pi2YAb_oLAjo",
        "outputId": "ce434cb0-ccf9-4fa0-9eb2-ea73515aa1e1"
      },
      "source": [
        "print(t4)\n",
        "t4.shape"
      ],
      "execution_count": 26,
      "outputs": [
        {
          "output_type": "stream",
          "name": "stdout",
          "text": [
            "tensor([[[11., 12., 13.],\n",
            "         [13., 14., 15.]],\n",
            "\n",
            "        [[15., 16., 17.],\n",
            "         [17., 18., 19.]]])\n"
          ]
        },
        {
          "output_type": "execute_result",
          "data": {
            "text/plain": [
              "torch.Size([2, 2, 3])"
            ]
          },
          "metadata": {},
          "execution_count": 26
        }
      ]
    },
    {
      "cell_type": "code",
      "metadata": {
        "colab": {
          "base_uri": "https://localhost:8080/"
        },
        "id": "Tw0x_7U-LCKs",
        "outputId": "352e9fa4-bdd9-4d30-b82b-a5cd14d4bc4a"
      },
      "source": [
        "print(t5)\n",
        "t5.shape"
      ],
      "execution_count": 27,
      "outputs": [
        {
          "output_type": "stream",
          "name": "stdout",
          "text": [
            "tensor([[1, 2, 3],\n",
            "        [4, 5, 0]])\n"
          ]
        },
        {
          "output_type": "execute_result",
          "data": {
            "text/plain": [
              "torch.Size([2, 3])"
            ]
          },
          "metadata": {},
          "execution_count": 27
        }
      ]
    },
    {
      "cell_type": "markdown",
      "metadata": {
        "id": "LBDMBBawLNgA"
      },
      "source": [
        "Note that it's not possible to create tensors with an improper shape."
      ]
    },
    {
      "cell_type": "code",
      "metadata": {
        "colab": {
          "base_uri": "https://localhost:8080/",
          "height": 225
        },
        "id": "lebfkiKnLKXY",
        "outputId": "4a6fd113-b01e-49db-9001-d5df20545435"
      },
      "source": [
        "# Matrix\n",
        "t6 = torch.tensor([[5., 6, 11], \n",
        "                   [7, 8], \n",
        "                   [9, 10]])\n",
        "t6"
      ],
      "execution_count": 28,
      "outputs": [
        {
          "output_type": "error",
          "ename": "ValueError",
          "evalue": "ignored",
          "traceback": [
            "\u001b[0;31m---------------------------------------------------------------------------\u001b[0m",
            "\u001b[0;31mValueError\u001b[0m                                Traceback (most recent call last)",
            "\u001b[0;32m<ipython-input-28-cfac44a66f89>\u001b[0m in \u001b[0;36m<module>\u001b[0;34m()\u001b[0m\n\u001b[1;32m      2\u001b[0m t6 = torch.tensor([[5., 6, 11], \n\u001b[1;32m      3\u001b[0m                    \u001b[0;34m[\u001b[0m\u001b[0;36m7\u001b[0m\u001b[0;34m,\u001b[0m \u001b[0;36m8\u001b[0m\u001b[0;34m]\u001b[0m\u001b[0;34m,\u001b[0m\u001b[0;34m\u001b[0m\u001b[0;34m\u001b[0m\u001b[0m\n\u001b[0;32m----> 4\u001b[0;31m                    [9, 10]])\n\u001b[0m\u001b[1;32m      5\u001b[0m \u001b[0mt6\u001b[0m\u001b[0;34m\u001b[0m\u001b[0;34m\u001b[0m\u001b[0m\n",
            "\u001b[0;31mValueError\u001b[0m: expected sequence of length 3 at dim 1 (got 2)"
          ]
        }
      ]
    },
    {
      "cell_type": "markdown",
      "metadata": {
        "id": "XgVu6jwQLjck"
      },
      "source": [
        "### Tensor operations and gradients\n",
        "\n",
        "We can combine tensors with the usual arithmetic operations. Let's look at an example:"
      ]
    },
    {
      "cell_type": "code",
      "metadata": {
        "id": "ou01OygoLQKi"
      },
      "source": [
        "x = torch.tensor(2.)\n",
        "y = torch.tensor(5., requires_grad=True)\n",
        "z = torch.tensor(7., requires_grad=True)"
      ],
      "execution_count": 30,
      "outputs": []
    },
    {
      "cell_type": "markdown",
      "metadata": {
        "id": "APBlgzZWMGNM"
      },
      "source": [
        "We have creates 3 tensors `x`,`y` and `z` with 2 of them having `requies_grad` set to `True`"
      ]
    },
    {
      "cell_type": "code",
      "metadata": {
        "colab": {
          "base_uri": "https://localhost:8080/"
        },
        "id": "ZtZhmAUoMUOw",
        "outputId": "ac5b469f-22ee-479c-9b7c-0d4935ff92c5"
      },
      "source": [
        "#Arithmetic Operation\n",
        "f = x * y + z\n",
        "f"
      ],
      "execution_count": 31,
      "outputs": [
        {
          "output_type": "execute_result",
          "data": {
            "text/plain": [
              "tensor(17., grad_fn=<AddBackward0>)"
            ]
          },
          "metadata": {},
          "execution_count": 31
        }
      ]
    },
    {
      "cell_type": "markdown",
      "metadata": {
        "id": "S3fVpFd2NCgV"
      },
      "source": [
        "What makes PyTorch unique is that we can automatically compute the derivative of `f` w.r.t. the tensors that have `requires_grad` set to `True` i.e. w and b. This feature of PyTorch is called [_autograd_](https://pytorch.org/docs/stable/autograd.html#module-torch.autograd) (automatic gradients).\n",
        "\n",
        "To compute the derivatives, we can invoke the `.backward` method on our result `y`.\n",
        "\n",
        "`grad` is short for Gradient, which is another name for Derivatives.\n"
      ]
    },
    {
      "cell_type": "code",
      "metadata": {
        "id": "3ZFn4zvDN5bo"
      },
      "source": [
        "# Compute derivatives\n",
        "f.backward()"
      ],
      "execution_count": 32,
      "outputs": []
    },
    {
      "cell_type": "markdown",
      "metadata": {
        "id": "-TtyCr3hOF-S"
      },
      "source": [
        "The derivatives of `f` with respect to the input tensors are stored in the `.grad` property of the respective tensors."
      ]
    },
    {
      "cell_type": "code",
      "metadata": {
        "colab": {
          "base_uri": "https://localhost:8080/"
        },
        "id": "6IuPsIR7OAwK",
        "outputId": "72ab9a28-adff-498a-c4d5-57638ea22891"
      },
      "source": [
        "# Display gradients\n",
        "print('df/dx:', x.grad)\n",
        "print('df/dy:', y.grad)\n",
        "print('df/dz:', z.grad)"
      ],
      "execution_count": 33,
      "outputs": [
        {
          "output_type": "stream",
          "name": "stdout",
          "text": [
            "df/dx: None\n",
            "df/dy: tensor(2.)\n",
            "df/dz: tensor(1.)\n"
          ]
        }
      ]
    },
    {
      "cell_type": "markdown",
      "metadata": {
        "id": "vyyKgLjRPHSc"
      },
      "source": [
        "### Tensor functions\n",
        "\n",
        "Apart from arithmetic operations, the `torch` module also contains many functions for creating and manipulating tensors. Let's look at some examples:"
      ]
    },
    {
      "cell_type": "code",
      "metadata": {
        "colab": {
          "base_uri": "https://localhost:8080/"
        },
        "id": "csePshaYOMDn",
        "outputId": "cbb58955-e772-4de1-abce-3e804b741ca1"
      },
      "source": [
        "# Create a tensor with a fixed value for every element\n",
        "t7 = torch.full((3, 2), 31)\n",
        "t7"
      ],
      "execution_count": 34,
      "outputs": [
        {
          "output_type": "execute_result",
          "data": {
            "text/plain": [
              "tensor([[31, 31],\n",
              "        [31, 31],\n",
              "        [31, 31]])"
            ]
          },
          "metadata": {},
          "execution_count": 34
        }
      ]
    },
    {
      "cell_type": "code",
      "metadata": {
        "colab": {
          "base_uri": "https://localhost:8080/"
        },
        "id": "eCejSQT4P5Px",
        "outputId": "1496031b-900c-47a3-a727-684c2979c790"
      },
      "source": [
        "# Concatenate two tensors with compatible shapes\n",
        "t8 = torch.cat((t3, t7))\n",
        "t8"
      ],
      "execution_count": 35,
      "outputs": [
        {
          "output_type": "execute_result",
          "data": {
            "text/plain": [
              "tensor([[ 5.,  6.],\n",
              "        [ 7.,  8.],\n",
              "        [ 9., 10.],\n",
              "        [31., 31.],\n",
              "        [31., 31.],\n",
              "        [31., 31.]])"
            ]
          },
          "metadata": {},
          "execution_count": 35
        }
      ]
    },
    {
      "cell_type": "code",
      "metadata": {
        "colab": {
          "base_uri": "https://localhost:8080/"
        },
        "id": "TZ7M817PP8v7",
        "outputId": "b918ad98-2047-442d-86f9-d922420461ea"
      },
      "source": [
        "# Compute the cos of each element\n",
        "t9 = torch.cos(t8)\n",
        "t9"
      ],
      "execution_count": 36,
      "outputs": [
        {
          "output_type": "execute_result",
          "data": {
            "text/plain": [
              "tensor([[ 0.2837,  0.9602],\n",
              "        [ 0.7539, -0.1455],\n",
              "        [-0.9111, -0.8391],\n",
              "        [ 0.9147,  0.9147],\n",
              "        [ 0.9147,  0.9147],\n",
              "        [ 0.9147,  0.9147]])"
            ]
          },
          "metadata": {},
          "execution_count": 36
        }
      ]
    },
    {
      "cell_type": "code",
      "metadata": {
        "colab": {
          "base_uri": "https://localhost:8080/"
        },
        "id": "hJZic22OQAgC",
        "outputId": "3ad454e3-39ef-4cef-debd-27f14bf934ad"
      },
      "source": [
        "# Change the shape of a tensor\n",
        "t10 = t9.reshape(3, 2, 2)\n",
        "t10"
      ],
      "execution_count": 37,
      "outputs": [
        {
          "output_type": "execute_result",
          "data": {
            "text/plain": [
              "tensor([[[ 0.2837,  0.9602],\n",
              "         [ 0.7539, -0.1455]],\n",
              "\n",
              "        [[-0.9111, -0.8391],\n",
              "         [ 0.9147,  0.9147]],\n",
              "\n",
              "        [[ 0.9147,  0.9147],\n",
              "         [ 0.9147,  0.9147]]])"
            ]
          },
          "metadata": {},
          "execution_count": 37
        }
      ]
    },
    {
      "cell_type": "markdown",
      "metadata": {
        "id": "WtvU2PuvOahw"
      },
      "source": [
        "Let's look at difference between 2 very similar functions:"
      ]
    },
    {
      "cell_type": "code",
      "metadata": {
        "colab": {
          "base_uri": "https://localhost:8080/"
        },
        "id": "cMxanMORNSl9",
        "outputId": "2507916c-a9c2-4f47-9ac4-27ad821ab97a"
      },
      "source": [
        "#Difference between 2 PyTorch Functions:  view & permute\n",
        "\n",
        "x = torch.rand(2,4) #generates a random tensor of 2x4\n",
        "\n",
        "print('x:', x)\n",
        "\n",
        "print('shape:', x.shape)\n",
        "\n",
        "\n",
        "\n",
        "y = x.view(4, 2) #view the tensor as 4x2\n",
        "\n",
        "print('y:', y)\n",
        "\n",
        "print('shape:', y.shape)\n",
        "\n",
        "\n",
        "\n",
        "z = x.permute(1, 0) #works like transpose of a matrix\n",
        "\n",
        "print('z:', z)\n",
        "\n",
        "print('shape:', z.shape)"
      ],
      "execution_count": 38,
      "outputs": [
        {
          "output_type": "stream",
          "name": "stdout",
          "text": [
            "x: tensor([[0.1328, 0.0060, 0.6044, 0.5042],\n",
            "        [0.8940, 0.9768, 0.4488, 0.4697]])\n",
            "shape: torch.Size([2, 4])\n",
            "y: tensor([[0.1328, 0.0060],\n",
            "        [0.6044, 0.5042],\n",
            "        [0.8940, 0.9768],\n",
            "        [0.4488, 0.4697]])\n",
            "shape: torch.Size([4, 2])\n",
            "z: tensor([[0.1328, 0.8940],\n",
            "        [0.0060, 0.9768],\n",
            "        [0.6044, 0.4488],\n",
            "        [0.5042, 0.4697]])\n",
            "shape: torch.Size([4, 2])\n"
          ]
        }
      ]
    },
    {
      "cell_type": "markdown",
      "metadata": {
        "id": "oQRsB-EQOnyh"
      },
      "source": [
        "You can find more useful functions in the official documentation [here](https://pytorch.org/docs/stable/torch.html)"
      ]
    },
    {
      "cell_type": "markdown",
      "metadata": {
        "id": "zCVu-aldB2Lu"
      },
      "source": [
        "## Tensors in CPU and GPU"
      ]
    },
    {
      "cell_type": "markdown",
      "metadata": {
        "id": "NzLTWh8ACAma"
      },
      "source": [
        "GPU composes of hundreds of simpler cores, which makes training deep learning models much faster. Refer to the Image below:"
      ]
    },
    {
      "cell_type": "markdown",
      "metadata": {
        "id": "Dc3Nu555CIS-"
      },
      "source": [
        "![temp.jpeg](data:image/jpeg;base64,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)"
      ]
    },
    {
      "cell_type": "markdown",
      "metadata": {
        "id": "4NsQ1kWOCRtk"
      },
      "source": [
        "Whether we decide to use GPU or CPU, PyTorch makes it easy for us to switch between the two"
      ]
    },
    {
      "cell_type": "code",
      "metadata": {
        "colab": {
          "base_uri": "https://localhost:8080/"
        },
        "id": "RRlCUeHyCU19",
        "outputId": "e257e63b-7406-43ed-f968-253d3a5bf681"
      },
      "source": [
        "cpu=torch.device(\"cpu\")\n",
        "gpu=torch.device(\"cuda:0\") # GPU 0# Create tensor with CPU\n",
        "x=torch.ones(3,3, device=cpu)\n",
        "print(\"CPU:\",x.device)\n",
        "\n",
        "x=torch.ones(3,3, device=gpu)\n",
        "print(\"GPU:\",x.device)\n",
        "\n",
        "x=torch.ones(3,3).cuda(0)\n",
        "print(\"CPU to GPU:\",x.device)\n",
        "\n",
        "x=torch.ones(3,3, device=gpu).cpu()\n",
        "print(\"GPU to CPU:\",x.device)"
      ],
      "execution_count": 39,
      "outputs": [
        {
          "output_type": "stream",
          "name": "stdout",
          "text": [
            "CPU: cpu\n",
            "GPU: cuda:0\n",
            "CPU to GPU: cuda:0\n",
            "GPU to CPU: cpu\n"
          ]
        }
      ]
    },
    {
      "cell_type": "markdown",
      "metadata": {
        "id": "dDrUd29UTfNU"
      },
      "source": [
        "Please note: If you face an error in the above program, it might be because you haven't changed to the GPU or your system doesn't have one.\n",
        "On Google Colab you can find a way to change to GPU:\n",
        "\n",
        "`Runtime>Change Runtime Type>Hardware Selector>GPU`"
      ]
    },
    {
      "cell_type": "markdown",
      "metadata": {
        "id": "HFWrO2PFDDzF"
      },
      "source": [
        "### Compare time between GPU and CPU"
      ]
    },
    {
      "cell_type": "markdown",
      "metadata": {
        "id": "PIMH7uBfDIBU"
      },
      "source": [
        "### Time in CPU"
      ]
    },
    {
      "cell_type": "code",
      "metadata": {
        "colab": {
          "base_uri": "https://localhost:8080/"
        },
        "id": "mKI54vfhDNZ6",
        "outputId": "980bf22e-4e43-449f-cb47-97720941ff19"
      },
      "source": [
        "import time\n",
        "x=torch.rand(10000,10000)\n",
        "y=torch.rand(10000,10000)\n",
        "t = time.time()\n",
        "z=x@y\n",
        "t = time.time()-t\n",
        "print(t)"
      ],
      "execution_count": 40,
      "outputs": [
        {
          "output_type": "stream",
          "name": "stdout",
          "text": [
            "26.8402316570282\n"
          ]
        }
      ]
    },
    {
      "cell_type": "markdown",
      "metadata": {
        "id": "IikjduoHDdQP"
      },
      "source": [
        "#### Time in GPU"
      ]
    },
    {
      "cell_type": "code",
      "metadata": {
        "colab": {
          "base_uri": "https://localhost:8080/"
        },
        "id": "crfVYuQwDfPG",
        "outputId": "9e39b574-af44-4fea-9d8f-fdd3ea238f77"
      },
      "source": [
        "xc=x.cuda(0)\n",
        "yc=y.cuda(0)\n",
        "t = time.time()\n",
        "z=xc@yc\n",
        "t = time.time()-t\n",
        "print(t)"
      ],
      "execution_count": 41,
      "outputs": [
        {
          "output_type": "stream",
          "name": "stdout",
          "text": [
            "0.018400192260742188\n"
          ]
        }
      ]
    },
    {
      "cell_type": "markdown",
      "metadata": {
        "id": "M3r4iWTcEpFh"
      },
      "source": [
        "We can see that there is `considerably big difference` in time taken.  "
      ]
    },
    {
      "cell_type": "markdown",
      "metadata": {
        "id": "rowOSvw_Qtgr"
      },
      "source": [
        "## Interoperability with Numpy\n",
        "\n",
        "[Numpy](http://www.numpy.org/) is a popular open-source library used for mathematical and scientific computing in Python. It enables efficient operations on large multi-dimensional arrays and has a vast ecosystem of supporting libraries, including:\n",
        "\n",
        "* [Pandas](https://pandas.pydata.org/) for file I/O and data analysis\n",
        "* [Matplotlib](https://matplotlib.org/) for plotting and visualization\n",
        "* [OpenCV](https://opencv.org/) for image and video processing\n",
        "\n",
        "Instead of reinventing the wheel, PyTorch interoperates well with Numpy to leverage its existing ecosystem of tools and libraries."
      ]
    },
    {
      "cell_type": "code",
      "metadata": {
        "colab": {
          "base_uri": "https://localhost:8080/"
        },
        "id": "pLj7kA77Qh1F",
        "outputId": "ee0440a5-9598-4569-e9f0-fad11589255b"
      },
      "source": [
        "import numpy as np #we need to import the numpy library\n",
        "\n",
        "x = np.array([[1, 2], [3, 4.]])\n",
        "x"
      ],
      "execution_count": 44,
      "outputs": [
        {
          "output_type": "execute_result",
          "data": {
            "text/plain": [
              "array([[1., 2.],\n",
              "       [3., 4.]])"
            ]
          },
          "metadata": {},
          "execution_count": 44
        }
      ]
    },
    {
      "cell_type": "markdown",
      "metadata": {
        "id": "4IQlhVyMQ5gz"
      },
      "source": [
        "We can convert a Numpy array to a PyTorch tensor using `torch.from_numpy`."
      ]
    },
    {
      "cell_type": "code",
      "metadata": {
        "colab": {
          "base_uri": "https://localhost:8080/"
        },
        "id": "MKkGGJwMQ7ub",
        "outputId": "104e4530-fa2a-49ef-9a70-94a36883a17a"
      },
      "source": [
        "# Convert the numpy array to a torch tensor.\n",
        "y = torch.from_numpy(x)\n",
        "y"
      ],
      "execution_count": 45,
      "outputs": [
        {
          "output_type": "execute_result",
          "data": {
            "text/plain": [
              "tensor([[1., 2.],\n",
              "        [3., 4.]], dtype=torch.float64)"
            ]
          },
          "metadata": {},
          "execution_count": 45
        }
      ]
    },
    {
      "cell_type": "markdown",
      "metadata": {
        "id": "VGJRChy6LgfO"
      },
      "source": [
        "Numpy array and Torch tensor will have similar datatype:"
      ]
    },
    {
      "cell_type": "code",
      "metadata": {
        "id": "srT46WzbQ8qV",
        "colab": {
          "base_uri": "https://localhost:8080/"
        },
        "outputId": "4633b01c-530b-4cc0-8a3c-1db262c6df67"
      },
      "source": [
        "x.dtype, y.dtype"
      ],
      "execution_count": 46,
      "outputs": [
        {
          "output_type": "execute_result",
          "data": {
            "text/plain": [
              "(dtype('float64'), torch.float64)"
            ]
          },
          "metadata": {},
          "execution_count": 46
        }
      ]
    },
    {
      "cell_type": "markdown",
      "metadata": {
        "id": "fpMQY_bYLtCa"
      },
      "source": [
        "We can convert a PyTorch tensor to a Numpy array using the `.numpy` method of a tensor."
      ]
    },
    {
      "cell_type": "code",
      "metadata": {
        "colab": {
          "base_uri": "https://localhost:8080/"
        },
        "id": "UGVp2UCtLFag",
        "outputId": "d80bfbad-59f7-4167-b6e0-16c1cac3a7e8"
      },
      "source": [
        "# Convert a torch tensor to a numpy array\n",
        "z = y.numpy()\n",
        "z"
      ],
      "execution_count": 47,
      "outputs": [
        {
          "output_type": "execute_result",
          "data": {
            "text/plain": [
              "array([[1., 2.],\n",
              "       [3., 4.]])"
            ]
          },
          "metadata": {},
          "execution_count": 47
        }
      ]
    },
    {
      "cell_type": "markdown",
      "metadata": {
        "id": "mYHQVQZDMKPJ"
      },
      "source": [
        "The interoperability between PyTorch and Numpy is essential because most datasets you'll work with will likely be read and preprocessed as Numpy arrays.\n"
      ]
    },
    {
      "cell_type": "markdown",
      "metadata": {
        "id": "pIpsj7y0NuF0"
      },
      "source": [
        "## What next?\n",
        "You can further your introduction to this library by looking up more about it on the official documentation page [here](https://pytorch.org/docs/stable/index.html). \n",
        "\n",
        "You can look for datasets on [kaggle](https://www.kaggle.com/) and implement some of the premade models in the library."
      ]
    },
    {
      "cell_type": "markdown",
      "metadata": {
        "id": "H64q0pBFMo2L"
      },
      "source": [
        "## Resources referred:"
      ]
    },
    {
      "cell_type": "markdown",
      "metadata": {
        "id": "tmHnY3uZNOx6"
      },
      "source": [
        "* https://towardsdatascience.com/what-is-pytorch-a84e4559f0e3\n",
        "* https://towardsdatascience.com/pytorch-vs-tensorflow-spotting-the-difference-25c75777377b\n",
        "* https://en.wikipedia.org/wiki/PyTorch\n",
        "* https://en.wikipedia.org/wiki/TensorFlow\n",
        "* https://pytorch.org/docs/stable/index.html\n",
        "* https://builtin.com/data-science/pytorch-vs-tensorflow\n",
        "* https://www.youtube.com/watch?v=zEtukWs_B2I&list=PLyMom0n-MBroupZiLfVSZqK5asX8KfoHL"
      ]
    }
  ]
}