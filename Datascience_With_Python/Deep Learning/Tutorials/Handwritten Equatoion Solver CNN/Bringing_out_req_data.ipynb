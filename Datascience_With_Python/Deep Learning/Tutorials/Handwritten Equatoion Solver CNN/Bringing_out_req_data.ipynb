{
 "cells": [
  {
   "cell_type": "code",
   "execution_count": 1,
   "id": "a4583ba3",
   "metadata": {},
   "outputs": [],
   "source": [
    "import numpy as np\n",
    "import cv2\n",
    "from PIL import Image\n",
    "from matplotlib import pyplot as plt\n",
    "%matplotlib inline\n",
    "import os\n",
    "from os import listdir\n",
    "from os.path import isfile, join\n",
    "import pandas as pd"
   ]
  },
  {
   "cell_type": "code",
   "execution_count": 2,
   "id": "c6a45062",
   "metadata": {},
   "outputs": [],
   "source": [
    "def load_images_from_folder(folder):\n",
    "    train_data=[]\n",
    "    for filename in os.listdir(folder):\n",
    "        img = cv2.imread(os.path.join(folder,filename),cv2.IMREAD_GRAYSCALE)\n",
    "        img=~img\n",
    "        if img is not None:\n",
    "            ret,thresh=cv2.threshold(img,127,255,cv2.THRESH_BINARY)\n",
    "            ctrs=cv2.findContours(thresh,cv2.RETR_EXTERNAL,cv2.CHAIN_APPROX_NONE)\n",
    "            ctrs = ctrs[0] if len(ctrs) == 2 else ctrs[1]\n",
    "            cnt=sorted(ctrs, key=lambda ctr: cv2.boundingRect(ctr))\n",
    "            w=int(28)\n",
    "            h=int(28)\n",
    "            maxi=0\n",
    "            for c in cnt:\n",
    "                x,y,w,h=cv2.boundingRect(c)\n",
    "                maxi=max(w*h,maxi)\n",
    "                if maxi==w*h:\n",
    "                    x_max=x\n",
    "                    y_max=y\n",
    "                    w_max=w\n",
    "                    h_max=h\n",
    "            im_crop= thresh[y_max:y_max+h_max+10, x_max:x_max+w_max+10]\n",
    "            im_resize = cv2.resize(im_crop,(28,28))\n",
    "            im_resize=np.reshape(im_resize,(784,1))\n",
    "            train_data.append(im_resize)\n",
    "    return train_data"
   ]
  },
  {
   "cell_type": "code",
   "execution_count": 3,
   "id": "a8c95d90",
   "metadata": {},
   "outputs": [],
   "source": [
    "data = []"
   ]
  },
  {
   "cell_type": "code",
   "execution_count": 4,
   "id": "1571a6aa",
   "metadata": {},
   "outputs": [
    {
     "name": "stdout",
     "output_type": "stream",
     "text": [
      "33997\n"
     ]
    }
   ],
   "source": [
    "data=load_images_from_folder('-')\n",
    "for i in range(0,len(data)):\n",
    "    data[i]=np.append(data[i],['10'])\n",
    "    \n",
    "print(len(data))"
   ]
  },
  {
   "cell_type": "code",
   "execution_count": 7,
   "id": "49d85de8",
   "metadata": {},
   "outputs": [
    {
     "name": "stdout",
     "output_type": "stream",
     "text": [
      "25112\n"
     ]
    }
   ],
   "source": [
    "data11=load_images_from_folder('+')\n",
    "for i in range(0,len(data11)):\n",
    "    data11[i]=np.append(data11[i],['11'])\n",
    "    \n",
    "print(len(data11))"
   ]
  },
  {
   "cell_type": "code",
   "execution_count": 8,
   "id": "4182ee0c",
   "metadata": {},
   "outputs": [
    {
     "name": "stdout",
     "output_type": "stream",
     "text": [
      "6914\n"
     ]
    }
   ],
   "source": [
    "data0=load_images_from_folder('0')\n",
    "for i in range(0,len(data0)):\n",
    "    data0[i]=np.append(data0[i],['0'])\n",
    "    \n",
    "print(len(data0))"
   ]
  },
  {
   "cell_type": "code",
   "execution_count": 9,
   "id": "ac9a7898",
   "metadata": {},
   "outputs": [
    {
     "name": "stdout",
     "output_type": "stream",
     "text": [
      "26520\n"
     ]
    }
   ],
   "source": [
    "data1=load_images_from_folder('1')\n",
    "for i in range(0,len(data1)):\n",
    "    data1[i]=np.append(data1[i],['1'])\n",
    "    \n",
    "print(len(data1))"
   ]
  },
  {
   "cell_type": "code",
   "execution_count": 10,
   "id": "48bfe92e",
   "metadata": {},
   "outputs": [
    {
     "name": "stdout",
     "output_type": "stream",
     "text": [
      "26141\n"
     ]
    }
   ],
   "source": [
    "data2=load_images_from_folder('2')\n",
    "for i in range(0,len(data2)):\n",
    "    data2[i]=np.append(data2[i],['2'])\n",
    "    \n",
    "print(len(data2))"
   ]
  },
  {
   "cell_type": "code",
   "execution_count": 11,
   "id": "28d2d990",
   "metadata": {},
   "outputs": [
    {
     "name": "stdout",
     "output_type": "stream",
     "text": [
      "10909\n"
     ]
    }
   ],
   "source": [
    "data3=load_images_from_folder('3')\n",
    "for i in range(0,len(data3)):\n",
    "    data3[i]=np.append(data3[i],['3'])\n",
    "    \n",
    "print(len(data3))"
   ]
  },
  {
   "cell_type": "code",
   "execution_count": 12,
   "id": "92231c2b",
   "metadata": {},
   "outputs": [
    {
     "name": "stdout",
     "output_type": "stream",
     "text": [
      "7396\n"
     ]
    }
   ],
   "source": [
    "data4=load_images_from_folder('4')\n",
    "for i in range(0,len(data4)):\n",
    "    data4[i]=np.append(data4[i],['4'])\n",
    "    \n",
    "print(len(data4))"
   ]
  },
  {
   "cell_type": "code",
   "execution_count": 13,
   "id": "595ba0ef",
   "metadata": {},
   "outputs": [
    {
     "name": "stdout",
     "output_type": "stream",
     "text": [
      "3545\n"
     ]
    }
   ],
   "source": [
    "data5=load_images_from_folder('5')\n",
    "for i in range(0,len(data5)):\n",
    "    data5[i]=np.append(data5[i],['5'])\n",
    "    \n",
    "print(len(data5))"
   ]
  },
  {
   "cell_type": "code",
   "execution_count": 14,
   "id": "8555fe21",
   "metadata": {},
   "outputs": [
    {
     "name": "stdout",
     "output_type": "stream",
     "text": [
      "3118\n"
     ]
    }
   ],
   "source": [
    "data6=load_images_from_folder('6')\n",
    "for i in range(0,len(data6)):\n",
    "    data6[i]=np.append(data6[i],['6'])\n",
    "    \n",
    "print(len(data6))"
   ]
  },
  {
   "cell_type": "code",
   "execution_count": 15,
   "id": "7ddc6177",
   "metadata": {},
   "outputs": [
    {
     "name": "stdout",
     "output_type": "stream",
     "text": [
      "2909\n"
     ]
    }
   ],
   "source": [
    "data7=load_images_from_folder('7')\n",
    "for i in range(0,len(data7)):\n",
    "    data7[i]=np.append(data7[i],['7'])\n",
    "    \n",
    "print(len(data7))"
   ]
  },
  {
   "cell_type": "code",
   "execution_count": 16,
   "id": "bd9fd589",
   "metadata": {},
   "outputs": [
    {
     "name": "stdout",
     "output_type": "stream",
     "text": [
      "3068\n"
     ]
    }
   ],
   "source": [
    "data8=load_images_from_folder('8')\n",
    "for i in range(0,len(data8)):\n",
    "    data8[i]=np.append(data8[i],['8'])\n",
    "    \n",
    "print(len(data8))"
   ]
  },
  {
   "cell_type": "code",
   "execution_count": 17,
   "id": "bb502e34",
   "metadata": {},
   "outputs": [
    {
     "name": "stdout",
     "output_type": "stream",
     "text": [
      "3737\n"
     ]
    }
   ],
   "source": [
    "data9=load_images_from_folder('9')\n",
    "for i in range(0,len(data9)):\n",
    "    data9[i]=np.append(data9[i],['9'])\n",
    "    \n",
    "print(len(data9))"
   ]
  },
  {
   "cell_type": "code",
   "execution_count": 18,
   "id": "1a716bcb",
   "metadata": {},
   "outputs": [
    {
     "name": "stdout",
     "output_type": "stream",
     "text": [
      "3251\n"
     ]
    }
   ],
   "source": [
    "data12=load_images_from_folder('times')\n",
    "for i in range(0,len(data12)):\n",
    "    data12[i]=np.append(data12[i],['12'])\n",
    "    \n",
    "print(len(data12))"
   ]
  },
  {
   "cell_type": "code",
   "execution_count": 21,
   "id": "74113500",
   "metadata": {},
   "outputs": [
    {
     "name": "stdout",
     "output_type": "stream",
     "text": [
      "868\n"
     ]
    }
   ],
   "source": [
    "data13=load_images_from_folder('div')\n",
    "for i in range(0,len(data13)):\n",
    "    data13[i]=np.append(data13[i],['13'])\n",
    "    \n",
    "print(len(data13))"
   ]
  },
  {
   "cell_type": "code",
   "execution_count": 22,
   "id": "3d6fd45f",
   "metadata": {},
   "outputs": [],
   "source": [
    "data=np.concatenate((data,data11,data0,data1,data2,data3,data4,data5,data6,data7,data8,data9,data12,data13))"
   ]
  },
  {
   "cell_type": "code",
   "execution_count": 24,
   "id": "b82611af",
   "metadata": {},
   "outputs": [],
   "source": [
    "df=pd.DataFrame(data,index=None)"
   ]
  },
  {
   "cell_type": "code",
   "execution_count": 25,
   "id": "3459dd44",
   "metadata": {},
   "outputs": [],
   "source": [
    "df.to_csv('train_data.csv',index=False)"
   ]
  },
  {
   "cell_type": "code",
   "execution_count": null,
   "id": "43bf3a75",
   "metadata": {},
   "outputs": [],
   "source": []
  }
 ],
 "metadata": {
  "kernelspec": {
   "display_name": "Python 3",
   "language": "python",
   "name": "python3"
  },
  "language_info": {
   "codemirror_mode": {
    "name": "ipython",
    "version": 3
   },
   "file_extension": ".py",
   "mimetype": "text/x-python",
   "name": "python",
   "nbconvert_exporter": "python",
   "pygments_lexer": "ipython3",
   "version": "3.8.8"
  }
 },
 "nbformat": 4,
 "nbformat_minor": 5
}
