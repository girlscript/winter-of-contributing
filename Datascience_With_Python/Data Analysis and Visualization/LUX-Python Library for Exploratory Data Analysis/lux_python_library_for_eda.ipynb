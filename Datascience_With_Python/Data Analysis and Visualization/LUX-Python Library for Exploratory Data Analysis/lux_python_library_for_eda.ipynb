{
 "cells": [
  {
   "cell_type": "markdown",
   "id": "24afaaa0-09cb-4f62-8172-79f3dc6e91bf",
   "metadata": {},
   "source": [
    "# LUX-Python library for Exploratory Data Analysis\n",
    "* LUX is known to be as an open-source, python library for accelerating and simplifying the process of data exploration.\n",
    "* LUX recommends interesting visualizations to guide users towards potential next-steps in their data analysis."
   ]
  },
  {
   "cell_type": "markdown",
   "id": "c3f4bbbb-a840-4378-baa9-e01a9aea3c7d",
   "metadata": {},
   "source": [
    "![image](https://drive.google.com/uc?id=1YkYMsjKI3p56cnKi5K-SYOt__RoWxEkU)"
   ]
  },
  {
   "cell_type": "markdown",
   "id": "fde0b507-c785-4229-913d-2fb9a2383d1d",
   "metadata": {},
   "source": [
    "# Importance of Data Visualization in Data Science\n",
    "\n",
    "There are various tools available that facilitate data visualizations. But at times, these tools aren't intelligent enough. This leads to users to write a considerable amount of code. This may eventually result into shift of focus from establishment of critical realtionships within the data to the mechanics of visualization.\n",
    "\n",
    "Therefore, a new library called LUX has been introduced which simplifies data exploration/exploratory data analysis which recommends relevant visualizations to the users.\n",
    "\n",
    "* It can also be said that the LUX Library has some features which can automate the whole visualization process; thus saving time and effort.\n",
    "* In LUX, we dont create plots explicitly;we simply specify the purpose of analysis i.e. what attributes are of our interest and LUX takes care of the rest."
   ]
  },
  {
   "cell_type": "markdown",
   "id": "f5eefbc3-a2a8-44dc-bcde-acf2a8c90cf7",
   "metadata": {},
   "source": [
    "## Current challenges to efficient data exploration\n",
    "\n",
    "The three major obstacles faced by data analysts are as follows:\n",
    "* *Plotting requires a considerable amount of code and prior decisions:*\n",
    "  In order to visualize the data,a user needs to make sure that the visualizations are upto the mark. Users need to think about how the visualizations should look like with all the specifications. Then we need to translate all these specification details into code.\n",
    "* *The disconnect between code and interactive tools:*\n",
    "   Most of the programming tools are inaccesible to beginners although they provide flexibility. Whereas the tools which are easy to use for beginners are not flexible and are hard to customize.\n",
    "* *Trial and Error procedure is tedious and overwhelming:*\n",
    "  A user has to try multiple visualizations before settling/choosing a final one. Every EDA requires continuous cycle of trial and error. This might lead to data analysts missing out on important insights which are present in their datasets. It is also possible that the user might not know what set of operations they should perform on their data set. This may lead to analysts losing track of the analysis.\n",
    "  "
   ]
  },
  {
   "cell_type": "markdown",
   "id": "6c36997c-e7fa-49de-b646-6f6370d86c2c",
   "metadata": {},
   "source": [
    "## How LUX Library helps to overcome these challenges in data exploration\n",
    "* The goal of LUX is to make it easier for data scientists to explore their data even when they don't have a clear idea of what they're looking for.\n",
    "* LUX brings the power of interactive visualizations directly into Jupyter Notebook which bridge the gap between code and interactive interfaces.\n",
    "* It also features a powerful intent language that allows users to specify their analysis interests to lower the programming costs.\n",
    "* It also provides visulaization recommendations of data frames automatically to users."
   ]
  },
  {
   "cell_type": "markdown",
   "id": "7ff0a99f-f028-46d2-b71b-d897ba1c6b88",
   "metadata": {},
   "source": [
    "*Note: Lux does not work in Colab because Colab doesn’t support custom widgets yet.*"
   ]
  },
  {
   "cell_type": "markdown",
   "id": "605dc864-d357-4643-b3d2-34f675a8a4a3",
   "metadata": {},
   "source": [
    "**Getting Started with LUX Installation and Configuration**\n",
    "\n",
    "Lux requires Scipy, Altair, Pandas and Scikit-learn to be installed. Once these have been configured, installing Lux can be done through pip install commands in your console."
   ]
  },
  {
   "cell_type": "code",
   "execution_count": null,
   "id": "102c83d1-3f08-4df8-93ec-d57164782099",
   "metadata": {},
   "outputs": [],
   "source": [
    "pip install lux-api"
   ]
  },
  {
   "cell_type": "markdown",
   "id": "5551bac7-39a7-45e3-a25d-120ac1f75e58",
   "metadata": {},
   "source": [
    "**Now, we will add an additional import statement alongside Pandas import.**"
   ]
  },
  {
   "cell_type": "code",
   "execution_count": 1,
   "id": "a0ed8828-9704-46a5-88a2-198bdc3d3246",
   "metadata": {},
   "outputs": [],
   "source": [
    "import lux\n",
    "import pandas as pd"
   ]
  },
  {
   "cell_type": "markdown",
   "id": "badf73bf-04b1-48ac-8590-a968a4096b59",
   "metadata": {},
   "source": [
    "We will now import a dataset into a dataframe object and call it.\n",
    "LUX appears as a toggle button after we call the dataframe object."
   ]
  },
  {
   "cell_type": "code",
   "execution_count": 2,
   "id": "702032d7-d629-434a-bcf9-dbd71ac74965",
   "metadata": {},
   "outputs": [
    {
     "data": {
      "application/vnd.jupyter.widget-view+json": {
       "model_id": "c9a60d26ee75461c905df8332cd3d8e8",
       "version_major": 2,
       "version_minor": 0
      },
      "text/plain": [
       "Button(description='Toggle Pandas/Lux', layout=Layout(top='5px', width='140px'), style=ButtonStyle())"
      ]
     },
     "metadata": {},
     "output_type": "display_data"
    },
    {
     "data": {
      "application/vnd.jupyter.widget-view+json": {
       "model_id": "53f3e3b04a824660997c64e12bfbdfd6",
       "version_major": 2,
       "version_minor": 0
      },
      "text/plain": [
       "Output()"
      ]
     },
     "metadata": {},
     "output_type": "display_data"
    }
   ],
   "source": [
    "df = pd.read_csv(\"https://raw.githubusercontent.com/lux-org/lux-datasets/master/data/college.csv\")\n",
    "df\n"
   ]
  },
  {
   "cell_type": "markdown",
   "id": "b2befd1b-2388-4db6-9179-0ce6dc6536e0",
   "metadata": {},
   "source": [
    "**After calling the dataframe object we can see a Toggle button**\n",
    "![image](https://drive.google.com/uc?id=1q4swtjHwzUxQfSWBiLKlBblpaK6BNKsx)"
   ]
  },
  {
   "cell_type": "markdown",
   "id": "bcdb6296-e4e0-4707-8e6e-0947dec9f008",
   "metadata": {},
   "source": [
    "**After clicking on the Toggle button;we can see certain recommendations which are segregated by three tabs i.e.\n",
    "Correlation,Distribution and Occurence.**\n",
    "<img src=\"https://drive.google.com/uc?id=1Ffv6FFibu9kow-724H7PaylkZBK1A-jA\">"
   ]
  },
  {
   "cell_type": "markdown",
   "id": "2187338a-8d21-4094-9277-caf6b6281963",
   "metadata": {},
   "source": [
    "**By default,LUX creates correlation,distribution and occurrence charts across the data-frame object. These tabs can be used to identify interesting patterns within the datasets.**\n",
    "* *Correlation shows a set of pairwise relationships between quantitative attributes ranked by the most correlated to the least correlated one.*\n",
    "* *Distribution shows a set of unvariate distributions ranked by the most skewed to the least skewed.*\n",
    "* *Occurence shows a set of bar charts that can be generated from the data set.*\n",
    "\n"
   ]
  },
  {
   "cell_type": "markdown",
   "id": "4a39358e-9dcf-44b7-81cb-bb403e73c9a6",
   "metadata": {},
   "source": [
    "## Intent based visualization \n",
    "We can further customize the presentations of these charts by specifying the intent.\n",
    "\n",
    "*Intent is defined as the attributes which we want to analyse.*\n",
    "We specify the AverageCost and SATAverage as an intent and call the dataframe again.\n",
    "\n"
   ]
  },
  {
   "cell_type": "code",
   "execution_count": 3,
   "id": "f63bc58a-b686-4845-872d-46e772bb04f9",
   "metadata": {},
   "outputs": [
    {
     "data": {
      "application/vnd.jupyter.widget-view+json": {
       "model_id": "eaf811d5699f4ed187da5c5ddf2c1d62",
       "version_major": 2,
       "version_minor": 0
      },
      "text/plain": [
       "Button(description='Toggle Pandas/Lux', layout=Layout(top='5px', width='140px'), style=ButtonStyle())"
      ]
     },
     "metadata": {},
     "output_type": "display_data"
    },
    {
     "data": {
      "application/vnd.jupyter.widget-view+json": {
       "model_id": "b899603cebbc44ff8d37f68c6b37714b",
       "version_major": 2,
       "version_minor": 0
      },
      "text/plain": [
       "Output()"
      ]
     },
     "metadata": {},
     "output_type": "display_data"
    }
   ],
   "source": [
    "df.intent = [\"AverageCost\",\"SATAverage\"]\n",
    "df"
   ]
  },
  {
   "cell_type": "markdown",
   "id": "6b9b245e-c298-4c1b-8f9f-6384f33a0ed4",
   "metadata": {},
   "source": [
    "<img src=\"https://drive.google.com/uc?id=11yf1Al7H-_JDK3DI4HJrYdXWID9u7Hln\">"
   ]
  },
  {
   "cell_type": "markdown",
   "id": "dd72832b-e4b4-415a-9d90-8b0d47582d9b",
   "metadata": {},
   "source": [
    "* After clicking on the Toggle button;LUX now displays charts based on the intent which we specified.These graphs show the correlation of other attributes against the intent specified by us in the **Enhance** tab.\n",
    "* LUX automatically includes the new attribute as the intent and graphs are generated on the basis of these intents.\n"
   ]
  },
  {
   "cell_type": "markdown",
   "id": "5c7ada06-248f-41bf-a4ba-d6d007904f7e",
   "metadata": {},
   "source": [
    "**LUX recommends interesting plots in certain tabs which are as follows:**\n",
    "* *Enhance tab:* Enhance lets the user visualize the relationship between the intent specified and different attributes.\n",
    "* *Filter tab:* It adds filters to the intended visualization,it lets the user quickly browse through the subsets of data.\n",
    "* *Generalize tab:* It completely deletes the additional attributes and filters from the plots to display a more generalized form of features relationship."
   ]
  },
  {
   "cell_type": "markdown",
   "id": "c4362a34-e543-42db-aeed-20c102ca1147",
   "metadata": {},
   "source": [
    "# Quick , on demand visualizations with the help of automatic encoding\n",
    "As we now know that LUX can be used to discover some interesting visulaizations,we can dig into these visualizations a bit more.\n",
    "\n",
    "We have seen that how visualizations are recommended to the users. Users can also create their own visualizations by using the similar syntax and specifying the intent.\n",
    "\n",
    "Visualizations are represented as ```Vis``` objects in LUX. These visualizations can further be edited.\n"
   ]
  },
  {
   "cell_type": "code",
   "execution_count": 4,
   "id": "f7fb9af3-a7e2-402c-8265-1b2ea785db11",
   "metadata": {},
   "outputs": [],
   "source": [
    "from lux.vis.Vis import Vis"
   ]
  },
  {
   "cell_type": "markdown",
   "id": "806f757a-a75b-442b-8b78-2eb27c60ef4f",
   "metadata": {},
   "source": [
    "The user can also create their own visualization with the ```Vis``` function."
   ]
  },
  {
   "cell_type": "code",
   "execution_count": 5,
   "id": "473cf69e-0091-48fe-af6d-7df77e6e16cb",
   "metadata": {},
   "outputs": [
    {
     "data": {
      "application/vnd.jupyter.widget-view+json": {
       "model_id": "d03961d7268d4a1b995db7fb16cfbd72",
       "version_major": 2,
       "version_minor": 0
      },
      "text/plain": [
       "LuxWidget(current_vis={'config': {'view': {'continuousWidth': 400, 'continuousHeight': 300}, 'axis': {'labelCo…"
      ]
     },
     "metadata": {},
     "output_type": "display_data"
    }
   ],
   "source": [
    "RegionIncome = Vis([\"Region=Southeast\",\"MedianFamilyIncome\"],df)\n",
    "RegionIncome"
   ]
  },
  {
   "cell_type": "markdown",
   "id": "b0cbd758-a24d-468a-92e3-ff8bc1ff9756",
   "metadata": {},
   "source": [
    "![image](https://drive.google.com/uc?id=1od8VlpvI9OXLUTfVQ0gIPWZ53uMyJd6s)"
   ]
  },
  {
   "cell_type": "markdown",
   "id": "1d58fc59-ad91-463d-aed8-5b553ec7f3ef",
   "metadata": {},
   "source": [
    "Therefore from the tutorial given above,we can conclude that the LUX library has features which automate whole visualization process in less time."
   ]
  },
  {
   "cell_type": "code",
   "execution_count": null,
   "id": "65074549-6389-4b6e-8db2-2ac6b5978e89",
   "metadata": {},
   "outputs": [],
   "source": []
  }
 ],
 "metadata": {
  "kernelspec": {
   "display_name": "Python 3 (ipykernel)",
   "language": "python",
   "name": "python3"
  },
  "language_info": {
   "codemirror_mode": {
    "name": "ipython",
    "version": 3
   },
   "file_extension": ".py",
   "mimetype": "text/x-python",
   "name": "python",
   "nbconvert_exporter": "python",
   "pygments_lexer": "ipython3",
   "version": "3.7.10"
  }
 },
 "nbformat": 4,
 "nbformat_minor": 5
}
