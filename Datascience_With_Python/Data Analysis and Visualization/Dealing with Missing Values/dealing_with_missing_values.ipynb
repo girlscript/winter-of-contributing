{
  "nbformat": 4,
  "nbformat_minor": 0,
  "metadata": {
    "colab": {
      "name": "dealing_with_missing_values.ipynb",
      "provenance": []
    },
    "kernelspec": {
      "name": "python3",
      "display_name": "Python 3"
    },
    "language_info": {
      "name": "python"
    }
  },
  "cells": [
    {
      "cell_type": "markdown",
      "metadata": {
        "id": "JA6k8bzXfBW1"
      },
      "source": [
        "# Dealing With Missing Values\n",
        "\n",
        "## Why should we treat missing values?\n",
        "\n",
        "*   Some models cannot work with missing data (Nulls/NaNs)\n",
        "*   Missing data may be a sign of a wider data issue\n",
        "*   Missing data can be a useful feature\n",
        "\n",
        "\n",
        "In Python , we can use Numpy and Pandas library to effectively clean our data and handle the missing values before processing our data.\n",
        "\n",
        "\n",
        "\n",
        "\n",
        "\n"
      ]
    },
    {
      "cell_type": "code",
      "metadata": {
        "id": "8F0Su2zTsYdD"
      },
      "source": [
        "import numpy as np\n",
        "import pandas as pd\n",
        "#importing libraries"
      ],
      "execution_count": 38,
      "outputs": []
    },
    {
      "cell_type": "code",
      "metadata": {
        "id": "sNhLnPJ1se7T"
      },
      "source": [
        "df= pd.read_csv('/content/california_cities.csv')\n",
        "#importing dataset"
      ],
      "execution_count": 39,
      "outputs": []
    },
    {
      "cell_type": "code",
      "metadata": {
        "colab": {
          "base_uri": "https://localhost:8080/",
          "height": 240
        },
        "id": "Lv9FqmXptnuK",
        "outputId": "f937a88c-d1f1-4ef2-b106-f67572f6650e"
      },
      "source": [
        "df.head()\n",
        "#viewing top 5 rows to understand dataset"
      ],
      "execution_count": 40,
      "outputs": [
        {
          "output_type": "execute_result",
          "data": {
            "text/html": [
              "<div>\n",
              "<style scoped>\n",
              "    .dataframe tbody tr th:only-of-type {\n",
              "        vertical-align: middle;\n",
              "    }\n",
              "\n",
              "    .dataframe tbody tr th {\n",
              "        vertical-align: top;\n",
              "    }\n",
              "\n",
              "    .dataframe thead th {\n",
              "        text-align: right;\n",
              "    }\n",
              "</style>\n",
              "<table border=\"1\" class=\"dataframe\">\n",
              "  <thead>\n",
              "    <tr style=\"text-align: right;\">\n",
              "      <th></th>\n",
              "      <th>Unnamed: 0</th>\n",
              "      <th>city</th>\n",
              "      <th>latd</th>\n",
              "      <th>longd</th>\n",
              "      <th>elevation_m</th>\n",
              "      <th>elevation_ft</th>\n",
              "      <th>population_total</th>\n",
              "      <th>area_total_sq_mi</th>\n",
              "      <th>area_land_sq_mi</th>\n",
              "      <th>area_water_sq_mi</th>\n",
              "      <th>area_total_km2</th>\n",
              "      <th>area_land_km2</th>\n",
              "      <th>area_water_km2</th>\n",
              "      <th>area_water_percent</th>\n",
              "    </tr>\n",
              "  </thead>\n",
              "  <tbody>\n",
              "    <tr>\n",
              "      <th>0</th>\n",
              "      <td>0</td>\n",
              "      <td>Adelanto</td>\n",
              "      <td>34.576111</td>\n",
              "      <td>-117.432778</td>\n",
              "      <td>875.0</td>\n",
              "      <td>2871.0</td>\n",
              "      <td>31765</td>\n",
              "      <td>56.027</td>\n",
              "      <td>56.009</td>\n",
              "      <td>0.018</td>\n",
              "      <td>145.107</td>\n",
              "      <td>145.062</td>\n",
              "      <td>0.046</td>\n",
              "      <td>0.03</td>\n",
              "    </tr>\n",
              "    <tr>\n",
              "      <th>1</th>\n",
              "      <td>1</td>\n",
              "      <td>AgouraHills</td>\n",
              "      <td>34.153333</td>\n",
              "      <td>-118.761667</td>\n",
              "      <td>281.0</td>\n",
              "      <td>922.0</td>\n",
              "      <td>20330</td>\n",
              "      <td>7.822</td>\n",
              "      <td>7.793</td>\n",
              "      <td>0.029</td>\n",
              "      <td>20.260</td>\n",
              "      <td>20.184</td>\n",
              "      <td>0.076</td>\n",
              "      <td>0.37</td>\n",
              "    </tr>\n",
              "    <tr>\n",
              "      <th>2</th>\n",
              "      <td>2</td>\n",
              "      <td>Alameda</td>\n",
              "      <td>37.756111</td>\n",
              "      <td>-122.274444</td>\n",
              "      <td>NaN</td>\n",
              "      <td>33.0</td>\n",
              "      <td>75467</td>\n",
              "      <td>22.960</td>\n",
              "      <td>10.611</td>\n",
              "      <td>12.349</td>\n",
              "      <td>59.465</td>\n",
              "      <td>27.482</td>\n",
              "      <td>31.983</td>\n",
              "      <td>53.79</td>\n",
              "    </tr>\n",
              "    <tr>\n",
              "      <th>3</th>\n",
              "      <td>3</td>\n",
              "      <td>Albany</td>\n",
              "      <td>37.886944</td>\n",
              "      <td>-122.297778</td>\n",
              "      <td>NaN</td>\n",
              "      <td>43.0</td>\n",
              "      <td>18969</td>\n",
              "      <td>5.465</td>\n",
              "      <td>1.788</td>\n",
              "      <td>3.677</td>\n",
              "      <td>14.155</td>\n",
              "      <td>4.632</td>\n",
              "      <td>9.524</td>\n",
              "      <td>67.28</td>\n",
              "    </tr>\n",
              "    <tr>\n",
              "      <th>4</th>\n",
              "      <td>4</td>\n",
              "      <td>Alhambra</td>\n",
              "      <td>34.081944</td>\n",
              "      <td>-118.135000</td>\n",
              "      <td>150.0</td>\n",
              "      <td>492.0</td>\n",
              "      <td>83089</td>\n",
              "      <td>7.632</td>\n",
              "      <td>7.631</td>\n",
              "      <td>0.001</td>\n",
              "      <td>19.766</td>\n",
              "      <td>19.763</td>\n",
              "      <td>0.003</td>\n",
              "      <td>0.01</td>\n",
              "    </tr>\n",
              "  </tbody>\n",
              "</table>\n",
              "</div>"
            ],
            "text/plain": [
              "   Unnamed: 0         city  ...  area_water_km2  area_water_percent\n",
              "0           0     Adelanto  ...           0.046                0.03\n",
              "1           1  AgouraHills  ...           0.076                0.37\n",
              "2           2      Alameda  ...          31.983               53.79\n",
              "3           3       Albany  ...           9.524               67.28\n",
              "4           4     Alhambra  ...           0.003                0.01\n",
              "\n",
              "[5 rows x 14 columns]"
            ]
          },
          "metadata": {},
          "execution_count": 40
        }
      ]
    },
    {
      "cell_type": "code",
      "metadata": {
        "colab": {
          "base_uri": "https://localhost:8080/"
        },
        "id": "Ml60MYXHv84d",
        "outputId": "3e735ab3-47c5-4f2a-b21b-120848fbeb4e"
      },
      "source": [
        "df.shape\n",
        "#shape of datset"
      ],
      "execution_count": 41,
      "outputs": [
        {
          "output_type": "execute_result",
          "data": {
            "text/plain": [
              "(482, 14)"
            ]
          },
          "metadata": {},
          "execution_count": 41
        }
      ]
    },
    {
      "cell_type": "code",
      "metadata": {
        "colab": {
          "base_uri": "https://localhost:8080/"
        },
        "id": "b4qpVPxRwUZ2",
        "outputId": "eb7ec275-b4c8-4694-8e8c-db77f9082ee1"
      },
      "source": [
        "df.isnull().sum()\n",
        "#checking for null values"
      ],
      "execution_count": 42,
      "outputs": [
        {
          "output_type": "execute_result",
          "data": {
            "text/plain": [
              "Unnamed: 0             0\n",
              "city                   0\n",
              "latd                   0\n",
              "longd                  0\n",
              "elevation_m           48\n",
              "elevation_ft          12\n",
              "population_total       0\n",
              "area_total_sq_mi       2\n",
              "area_land_sq_mi        0\n",
              "area_water_sq_mi       1\n",
              "area_total_km2         5\n",
              "area_land_km2          4\n",
              "area_water_km2         4\n",
              "area_water_percent     5\n",
              "dtype: int64"
            ]
          },
          "metadata": {},
          "execution_count": 42
        }
      ]
    },
    {
      "cell_type": "markdown",
      "metadata": {
        "id": "2oMKgmv60nAH"
      },
      "source": [
        "### Using Mean to fill missing Values"
      ]
    },
    {
      "cell_type": "code",
      "metadata": {
        "id": "zKH0hXPAwjqe"
      },
      "source": [
        "df['area_water_km2'].fillna(df['area_water_km2'].mean(),inplace=True)\n",
        "#filling cells with null value"
      ],
      "execution_count": 43,
      "outputs": []
    },
    {
      "cell_type": "code",
      "metadata": {
        "colab": {
          "base_uri": "https://localhost:8080/"
        },
        "id": "1jgu1AuK0sDM",
        "outputId": "e3fe9f2a-6f7a-4b40-8727-081c76a75f73"
      },
      "source": [
        "df.isnull().sum()"
      ],
      "execution_count": 44,
      "outputs": [
        {
          "output_type": "execute_result",
          "data": {
            "text/plain": [
              "Unnamed: 0             0\n",
              "city                   0\n",
              "latd                   0\n",
              "longd                  0\n",
              "elevation_m           48\n",
              "elevation_ft          12\n",
              "population_total       0\n",
              "area_total_sq_mi       2\n",
              "area_land_sq_mi        0\n",
              "area_water_sq_mi       1\n",
              "area_total_km2         5\n",
              "area_land_km2          4\n",
              "area_water_km2         0\n",
              "area_water_percent     5\n",
              "dtype: int64"
            ]
          },
          "metadata": {},
          "execution_count": 44
        }
      ]
    },
    {
      "cell_type": "markdown",
      "metadata": {
        "id": "3n3p93SQ00B7"
      },
      "source": [
        "### Using Median to fill Missing Values"
      ]
    },
    {
      "cell_type": "code",
      "metadata": {
        "id": "g8X3IoLkxG7L"
      },
      "source": [
        "df['area_water_percent'].fillna(df['area_water_percent'].median(),inplace=True)"
      ],
      "execution_count": 45,
      "outputs": []
    },
    {
      "cell_type": "code",
      "metadata": {
        "colab": {
          "base_uri": "https://localhost:8080/"
        },
        "id": "l0td7dCtxL97",
        "outputId": "bd3f8e19-b98c-4110-d9fa-a3e6df504984"
      },
      "source": [
        "df.isnull().sum()"
      ],
      "execution_count": 46,
      "outputs": [
        {
          "output_type": "execute_result",
          "data": {
            "text/plain": [
              "Unnamed: 0             0\n",
              "city                   0\n",
              "latd                   0\n",
              "longd                  0\n",
              "elevation_m           48\n",
              "elevation_ft          12\n",
              "population_total       0\n",
              "area_total_sq_mi       2\n",
              "area_land_sq_mi        0\n",
              "area_water_sq_mi       1\n",
              "area_total_km2         5\n",
              "area_land_km2          4\n",
              "area_water_km2         0\n",
              "area_water_percent     0\n",
              "dtype: int64"
            ]
          },
          "metadata": {},
          "execution_count": 46
        }
      ]
    },
    {
      "cell_type": "markdown",
      "metadata": {
        "id": "RwQyL4gr07Xu"
      },
      "source": [
        "### Droping a column to get rid of Missing Values"
      ]
    },
    {
      "cell_type": "code",
      "metadata": {
        "id": "sOTc2WzeyzyZ"
      },
      "source": [
        "df.drop(columns=[\"area_total_km2\"],inplace=True)\n",
        "#Deleting column with missing values"
      ],
      "execution_count": 47,
      "outputs": []
    },
    {
      "cell_type": "code",
      "metadata": {
        "colab": {
          "base_uri": "https://localhost:8080/"
        },
        "id": "vcPet3n30eZI",
        "outputId": "d382a3f6-1049-4075-bc21-1ab6e1bc137e"
      },
      "source": [
        "df.isnull().sum()"
      ],
      "execution_count": 48,
      "outputs": [
        {
          "output_type": "execute_result",
          "data": {
            "text/plain": [
              "Unnamed: 0             0\n",
              "city                   0\n",
              "latd                   0\n",
              "longd                  0\n",
              "elevation_m           48\n",
              "elevation_ft          12\n",
              "population_total       0\n",
              "area_total_sq_mi       2\n",
              "area_land_sq_mi        0\n",
              "area_water_sq_mi       1\n",
              "area_land_km2          4\n",
              "area_water_km2         0\n",
              "area_water_percent     0\n",
              "dtype: int64"
            ]
          },
          "metadata": {},
          "execution_count": 48
        }
      ]
    },
    {
      "cell_type": "markdown",
      "metadata": {
        "id": "4hqA7YbI1VPv"
      },
      "source": [
        "### Replacing missing values in a specific column with a given value"
      ]
    },
    {
      "cell_type": "code",
      "metadata": {
        "id": "gr5EXBsU1Aq9"
      },
      "source": [
        "df['area_land_km2'].fillna(value='121.12', inplace=True)"
      ],
      "execution_count": 49,
      "outputs": []
    },
    {
      "cell_type": "code",
      "metadata": {
        "colab": {
          "base_uri": "https://localhost:8080/"
        },
        "id": "4jtGk8_21T1e",
        "outputId": "a1cc0862-e126-4bb6-cd90-a0b5959803da"
      },
      "source": [
        "df.isnull().sum()"
      ],
      "execution_count": 50,
      "outputs": [
        {
          "output_type": "execute_result",
          "data": {
            "text/plain": [
              "Unnamed: 0             0\n",
              "city                   0\n",
              "latd                   0\n",
              "longd                  0\n",
              "elevation_m           48\n",
              "elevation_ft          12\n",
              "population_total       0\n",
              "area_total_sq_mi       2\n",
              "area_land_sq_mi        0\n",
              "area_water_sq_mi       1\n",
              "area_land_km2          0\n",
              "area_water_km2         0\n",
              "area_water_percent     0\n",
              "dtype: int64"
            ]
          },
          "metadata": {},
          "execution_count": 50
        }
      ]
    },
    {
      "cell_type": "markdown",
      "metadata": {
        "id": "sYRWinoG10gY"
      },
      "source": [
        "### Manually filling missing values within a given range of values"
      ]
    },
    {
      "cell_type": "code",
      "metadata": {
        "id": "FIOqYm1x1eTu"
      },
      "source": [
        "df['area_total_sq_mi'].interpolate(method='polynomial', order=2,inplace=True)"
      ],
      "execution_count": 51,
      "outputs": []
    },
    {
      "cell_type": "code",
      "metadata": {
        "colab": {
          "base_uri": "https://localhost:8080/"
        },
        "id": "B5q0Pw-L1uUa",
        "outputId": "7c39b4ed-5189-48b6-f778-efbeb76a9ef3"
      },
      "source": [
        "df.isnull().sum()"
      ],
      "execution_count": 52,
      "outputs": [
        {
          "output_type": "execute_result",
          "data": {
            "text/plain": [
              "Unnamed: 0             0\n",
              "city                   0\n",
              "latd                   0\n",
              "longd                  0\n",
              "elevation_m           48\n",
              "elevation_ft          12\n",
              "population_total       0\n",
              "area_total_sq_mi       0\n",
              "area_land_sq_mi        0\n",
              "area_water_sq_mi       1\n",
              "area_land_km2          0\n",
              "area_water_km2         0\n",
              "area_water_percent     0\n",
              "dtype: int64"
            ]
          },
          "metadata": {},
          "execution_count": 52
        }
      ]
    },
    {
      "cell_type": "markdown",
      "metadata": {
        "id": "1AOpX1jL2LDE"
      },
      "source": [
        "### Estimating the missing value is similar to the cell above and copying that value into the missing value cell"
      ]
    },
    {
      "cell_type": "code",
      "metadata": {
        "id": "VNtNfC6c19ft"
      },
      "source": [
        "df['area_water_sq_mi'].fillna(method='ffill', inplace=True)"
      ],
      "execution_count": 53,
      "outputs": []
    },
    {
      "cell_type": "code",
      "metadata": {
        "colab": {
          "base_uri": "https://localhost:8080/"
        },
        "id": "jDEJt5YY2JsE",
        "outputId": "2921bdf4-7426-4cb1-b017-a5a55ead51c1"
      },
      "source": [
        "df.isnull().sum()"
      ],
      "execution_count": 54,
      "outputs": [
        {
          "output_type": "execute_result",
          "data": {
            "text/plain": [
              "Unnamed: 0             0\n",
              "city                   0\n",
              "latd                   0\n",
              "longd                  0\n",
              "elevation_m           48\n",
              "elevation_ft          12\n",
              "population_total       0\n",
              "area_total_sq_mi       0\n",
              "area_land_sq_mi        0\n",
              "area_water_sq_mi       0\n",
              "area_land_km2          0\n",
              "area_water_km2         0\n",
              "area_water_percent     0\n",
              "dtype: int64"
            ]
          },
          "metadata": {},
          "execution_count": 54
        }
      ]
    },
    {
      "cell_type": "markdown",
      "metadata": {
        "id": "S2h40m-l2Wmh"
      },
      "source": [
        "### Estimating the missing value is similar to the cell below and copying that value into the missing value cell"
      ]
    },
    {
      "cell_type": "code",
      "metadata": {
        "id": "0saD1yRL2UQ2"
      },
      "source": [
        "df['elevation_ft'].fillna(method='bfill', inplace=True)"
      ],
      "execution_count": 55,
      "outputs": []
    },
    {
      "cell_type": "code",
      "metadata": {
        "colab": {
          "base_uri": "https://localhost:8080/"
        },
        "id": "daLcErIP2pcD",
        "outputId": "e4b017a6-1982-48a5-ad15-a8769b9acb2b"
      },
      "source": [
        "df.isnull().sum()"
      ],
      "execution_count": 56,
      "outputs": [
        {
          "output_type": "execute_result",
          "data": {
            "text/plain": [
              "Unnamed: 0             0\n",
              "city                   0\n",
              "latd                   0\n",
              "longd                  0\n",
              "elevation_m           48\n",
              "elevation_ft           0\n",
              "population_total       0\n",
              "area_total_sq_mi       0\n",
              "area_land_sq_mi        0\n",
              "area_water_sq_mi       0\n",
              "area_land_km2          0\n",
              "area_water_km2         0\n",
              "area_water_percent     0\n",
              "dtype: int64"
            ]
          },
          "metadata": {},
          "execution_count": 56
        }
      ]
    },
    {
      "cell_type": "markdown",
      "metadata": {
        "id": "aCuHHCK33I_M"
      },
      "source": [
        "###  Dropping specific columns after recording where the values are not missing"
      ]
    },
    {
      "cell_type": "code",
      "metadata": {
        "id": "PLw0vXuc2rD1"
      },
      "source": [
        "#record where the values are not missing\n",
        "df['recording_non_null_values'] = df['elevation_m'].notnull()\n",
        "# dropping the column after it is recorded\n",
        "df.drop(columns=['elevation_m'],inplace=True) "
      ],
      "execution_count": 59,
      "outputs": []
    },
    {
      "cell_type": "code",
      "metadata": {
        "colab": {
          "base_uri": "https://localhost:8080/"
        },
        "id": "xm50eZmE3SfC",
        "outputId": "357e4551-290a-4a5f-d10d-ed6643155fd3"
      },
      "source": [
        "df.isnull().sum()"
      ],
      "execution_count": 60,
      "outputs": [
        {
          "output_type": "execute_result",
          "data": {
            "text/plain": [
              "Unnamed: 0                   0\n",
              "city                         0\n",
              "latd                         0\n",
              "longd                        0\n",
              "elevation_ft                 0\n",
              "population_total             0\n",
              "area_total_sq_mi             0\n",
              "area_land_sq_mi              0\n",
              "area_water_sq_mi             0\n",
              "area_land_km2                0\n",
              "area_water_km2               0\n",
              "area_water_percent           0\n",
              "recording_non_null_values    0\n",
              "dtype: int64"
            ]
          },
          "metadata": {},
          "execution_count": 60
        }
      ]
    },
    {
      "cell_type": "markdown",
      "metadata": {
        "id": "HOJZs9uw3Xu6"
      },
      "source": [
        "### We can see after applying various methods is finally clean and all the missing values are handled correctly."
      ]
    },
    {
      "cell_type": "markdown",
      "metadata": {
        "id": "LidKH-xY3g9U"
      },
      "source": [
        "## Thanks!"
      ]
    }
  ]
}