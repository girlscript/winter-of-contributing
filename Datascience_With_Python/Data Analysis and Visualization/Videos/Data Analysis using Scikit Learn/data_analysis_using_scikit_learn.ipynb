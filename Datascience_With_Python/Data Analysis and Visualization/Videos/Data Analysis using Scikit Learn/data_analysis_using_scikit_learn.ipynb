{
  "nbformat": 4,
  "nbformat_minor": 0,
  "metadata": {
    "colab": {
      "name": "Scikit-Learn for Data Science",
      "provenance": [],
      "collapsed_sections": []
    },
    "kernelspec": {
      "name": "python3",
      "display_name": "Python 3"
    },
    "language_info": {
      "name": "python"
    }
  },
  "cells": [
    {
      "cell_type": "markdown",
      "metadata": {
        "id": "DunoonaFPXup"
      },
      "source": [
        "# **Hello Folks! Welcome to this tutorial for Data Science with Machine Learning. This tutorial is for those who are beginners to Scikit-Learn and Machine Learning.**"
      ]
    },
    {
      "cell_type": "markdown",
      "metadata": {
        "id": "oasHFLX6fgEX"
      },
      "source": [
        "# **What is Scikit-Learn?**\n",
        "Scikit-Learn,often abbreviated as 'sklearn' is one of the top python libraries for Data Science. Scikit-Learn is an open source machine learning library that supports supervised and unsupervised learning.\n",
        "\n",
        "It Provides various tools for model fitting,data-preprocessing,model-selection and evaluation.\n",
        "\n",
        "Scikit-learn provides dozens of built in machine learning algorithms and models called as **Estimators**.\n",
        "\n",
        "\n",
        "1.  It is a simple and efficient tool for data mining and data analysis.\n",
        "2.  It is a Python Library built on Numpy,Scipy and Matplotlib.\n",
        "3.  It is an open-source,commercially usable,BSD License library.\n",
        "\n"
      ]
    },
    {
      "cell_type": "markdown",
      "metadata": {
        "id": "H8Cp19VjfgMu"
      },
      "source": [
        "# **What we can achieve using Scikit-Learn library?**\n",
        "The Scikit-Learn library features various Classfication,Regression,Clustering and many more algorithms.Refer the following points for more applications of the Scikit-Learn.\n",
        "\n",
        "\n",
        "*   **Classification:** Identifying which category an object belongs to. One of the applications of the Classification algorithm is Spam Detection.\n",
        "*   **Regression:** Predicting an attribute associated with an object. This algorithm can be used to predict the stock prices.\n",
        "\n",
        "\n",
        "*   **Clustering:** This refers to automatic grouping of similar objects into sets.One of the applications is customer segmentation.\n",
        "*   **Model Selection:** Comparing,Validating and choosing parameters and models.One of the applications can be improving model efficiency via parameter tuning.\n",
        "\n",
        "\n",
        "*   **Dimensionality Reduction:** Reducing the number of random variables to consider.This feature can be used to increase the model efficiency.\n",
        "*   **Pre-Processing:** Feature extraction and normalization.The application can be transforming input data such as text for use with machine learning alogorithms.\n",
        "\n",
        "\n",
        "\n",
        "\n",
        "\n",
        "\n",
        "\n",
        "\n"
      ]
    },
    {
      "cell_type": "markdown",
      "metadata": {
        "id": "ybTzkB1sfgTQ"
      },
      "source": [
        "# **Important Machine Learning  terminologies:**\n",
        "Before we move on to the tutorial,it is important to be aware of some important machine learning terms:\n",
        "\n",
        "\n",
        "*   Each row is an **observation** (also known as sample,example,instance,record)\n",
        "*   Each column is a **feature** (also known as predictor,attribute,independant variable)\n",
        "*   The ***target*** represents what we are going to predict. (Equivalent terms for target are response,outcome,label or dependant variable)\n",
        "*  There are two types of supervised learning: \n",
        "   1.  **Classification:** Classification problem is the one where the response predicted is categorical; meaning its value are in finite unordered set.\n",
        "   2.   **Regression:** A regression problem is the one where the response predicted is ordered and continuous.\n",
        "\n",
        "\n",
        "\n",
        "\n",
        "\n",
        "\n",
        "\n",
        "\n",
        "\n",
        "\n"
      ]
    },
    {
      "cell_type": "markdown",
      "metadata": {
        "id": "vcCNf0XXA-bn"
      },
      "source": [
        "# **Requirements for working with a dataset in Scikit-Learn:**\n",
        "1.   Features and response are separate objects.\n",
        "    (Scikit-Learn expects the features and response to be passed    into machine learning modelas separate objects.)\n",
        "2.   Features and response should be numeric even though it is a classification or regression problem.\n",
        "1.  Features and response should be Numpy Array.\n",
        "2.  Features and response are expected to have certain shapes.\n",
        "\n",
        "\n",
        "\n"
      ]
    },
    {
      "cell_type": "markdown",
      "metadata": {
        "id": "I8k5-m_Ufgdv"
      },
      "source": [
        "# **Importing Required packages**"
      ]
    },
    {
      "cell_type": "code",
      "metadata": {
        "id": "FK6-m7ImrqM8"
      },
      "source": [
        "import pandas as pd\n",
        "import seaborn as sns\n",
        "import matplotlib.pyplot as plt\n",
        "from sklearn.ensemble import RandomForestClassifier\n",
        "from sklearn.svm import SVC\n",
        "from sklearn import svm\n",
        "from sklearn.linear_model import LogisticRegression\n",
        "from sklearn.neural_network import MLPClassifier\n",
        "from sklearn.metrics import confusion_matrix, classification_report\n",
        "from sklearn.preprocessing import StandardScaler, LabelEncoder\n",
        "from sklearn.model_selection import train_test_split\n",
        "%matplotlib inline"
      ],
      "execution_count": null,
      "outputs": []
    },
    {
      "cell_type": "markdown",
      "metadata": {
        "id": "I559IqyFwQzJ"
      },
      "source": [
        "***After importing the required packages,we will now move on to loading the dataset.***\n",
        "In this analysis,we will use the dataset 'winequality-red.csv' ; which I got from Kaggle."
      ]
    },
    {
      "cell_type": "markdown",
      "metadata": {
        "id": "Z8S7lBtW7hNt"
      },
      "source": [
        "**Our Dataset consists of 1599 samples of red wine and each samples having 12 features.**\n",
        "\n",
        "# Machine Learning on our dataset:\n",
        "1.   Framed as a supervised learning problem.\n",
        "2.   Predicting the quality of red wine.\n",
        "\n",
        "(Supervised learning problem because we are trying to learn  the relationship between the data and the outcome. If the data would have been unlabelled,this would have been an unsupervised learning problem.)\n",
        "\n",
        "\n",
        "\n"
      ]
    },
    {
      "cell_type": "code",
      "metadata": {
        "id": "B4qydYJErqT2"
      },
      "source": [
        "redwine = pd.read_csv('winequality-red.csv')"
      ],
      "execution_count": null,
      "outputs": []
    },
    {
      "cell_type": "code",
      "metadata": {
        "colab": {
          "base_uri": "https://localhost:8080/",
          "height": 224
        },
        "id": "MltLHPAJx875",
        "outputId": "e006576d-1310-4e34-d865-a6591bf76d86"
      },
      "source": [
        "redwine.head()"
      ],
      "execution_count": null,
      "outputs": [
        {
          "output_type": "execute_result",
          "data": {
            "text/html": [
              "<div>\n",
              "<style scoped>\n",
              "    .dataframe tbody tr th:only-of-type {\n",
              "        vertical-align: middle;\n",
              "    }\n",
              "\n",
              "    .dataframe tbody tr th {\n",
              "        vertical-align: top;\n",
              "    }\n",
              "\n",
              "    .dataframe thead th {\n",
              "        text-align: right;\n",
              "    }\n",
              "</style>\n",
              "<table border=\"1\" class=\"dataframe\">\n",
              "  <thead>\n",
              "    <tr style=\"text-align: right;\">\n",
              "      <th></th>\n",
              "      <th>fixed acidity</th>\n",
              "      <th>volatile acidity</th>\n",
              "      <th>citric acid</th>\n",
              "      <th>residual sugar</th>\n",
              "      <th>chlorides</th>\n",
              "      <th>free sulfur dioxide</th>\n",
              "      <th>total sulfur dioxide</th>\n",
              "      <th>density</th>\n",
              "      <th>pH</th>\n",
              "      <th>sulphates</th>\n",
              "      <th>alcohol</th>\n",
              "      <th>quality</th>\n",
              "    </tr>\n",
              "  </thead>\n",
              "  <tbody>\n",
              "    <tr>\n",
              "      <th>0</th>\n",
              "      <td>7.4</td>\n",
              "      <td>0.70</td>\n",
              "      <td>0.00</td>\n",
              "      <td>1.9</td>\n",
              "      <td>0.076</td>\n",
              "      <td>11.0</td>\n",
              "      <td>34.0</td>\n",
              "      <td>0.9978</td>\n",
              "      <td>3.51</td>\n",
              "      <td>0.56</td>\n",
              "      <td>9.4</td>\n",
              "      <td>5</td>\n",
              "    </tr>\n",
              "    <tr>\n",
              "      <th>1</th>\n",
              "      <td>7.8</td>\n",
              "      <td>0.88</td>\n",
              "      <td>0.00</td>\n",
              "      <td>2.6</td>\n",
              "      <td>0.098</td>\n",
              "      <td>25.0</td>\n",
              "      <td>67.0</td>\n",
              "      <td>0.9968</td>\n",
              "      <td>3.20</td>\n",
              "      <td>0.68</td>\n",
              "      <td>9.8</td>\n",
              "      <td>5</td>\n",
              "    </tr>\n",
              "    <tr>\n",
              "      <th>2</th>\n",
              "      <td>7.8</td>\n",
              "      <td>0.76</td>\n",
              "      <td>0.04</td>\n",
              "      <td>2.3</td>\n",
              "      <td>0.092</td>\n",
              "      <td>15.0</td>\n",
              "      <td>54.0</td>\n",
              "      <td>0.9970</td>\n",
              "      <td>3.26</td>\n",
              "      <td>0.65</td>\n",
              "      <td>9.8</td>\n",
              "      <td>5</td>\n",
              "    </tr>\n",
              "    <tr>\n",
              "      <th>3</th>\n",
              "      <td>11.2</td>\n",
              "      <td>0.28</td>\n",
              "      <td>0.56</td>\n",
              "      <td>1.9</td>\n",
              "      <td>0.075</td>\n",
              "      <td>17.0</td>\n",
              "      <td>60.0</td>\n",
              "      <td>0.9980</td>\n",
              "      <td>3.16</td>\n",
              "      <td>0.58</td>\n",
              "      <td>9.8</td>\n",
              "      <td>6</td>\n",
              "    </tr>\n",
              "    <tr>\n",
              "      <th>4</th>\n",
              "      <td>7.4</td>\n",
              "      <td>0.70</td>\n",
              "      <td>0.00</td>\n",
              "      <td>1.9</td>\n",
              "      <td>0.076</td>\n",
              "      <td>11.0</td>\n",
              "      <td>34.0</td>\n",
              "      <td>0.9978</td>\n",
              "      <td>3.51</td>\n",
              "      <td>0.56</td>\n",
              "      <td>9.4</td>\n",
              "      <td>5</td>\n",
              "    </tr>\n",
              "  </tbody>\n",
              "</table>\n",
              "</div>"
            ],
            "text/plain": [
              "   fixed acidity  volatile acidity  citric acid  ...  sulphates  alcohol  quality\n",
              "0            7.4              0.70         0.00  ...       0.56      9.4        5\n",
              "1            7.8              0.88         0.00  ...       0.68      9.8        5\n",
              "2            7.8              0.76         0.04  ...       0.65      9.8        5\n",
              "3           11.2              0.28         0.56  ...       0.58      9.8        6\n",
              "4            7.4              0.70         0.00  ...       0.56      9.4        5\n",
              "\n",
              "[5 rows x 12 columns]"
            ]
          },
          "metadata": {},
          "execution_count": 3
        }
      ]
    },
    {
      "cell_type": "markdown",
      "metadata": {
        "id": "SA-utiUWyUf8"
      },
      "source": [
        "**The .head() function will display the top 5 rows by default. If you wish to print the first 10 rows,add 10 in the parenthesis.**"
      ]
    },
    {
      "cell_type": "code",
      "metadata": {
        "colab": {
          "base_uri": "https://localhost:8080/"
        },
        "id": "nY_UUh6crqYb",
        "outputId": "d847a228-e2fc-4b3b-f78f-c558a55237d5"
      },
      "source": [
        "redwine.info()"
      ],
      "execution_count": null,
      "outputs": [
        {
          "output_type": "stream",
          "name": "stdout",
          "text": [
            "<class 'pandas.core.frame.DataFrame'>\n",
            "RangeIndex: 1599 entries, 0 to 1598\n",
            "Data columns (total 12 columns):\n",
            " #   Column                Non-Null Count  Dtype  \n",
            "---  ------                --------------  -----  \n",
            " 0   fixed acidity         1599 non-null   float64\n",
            " 1   volatile acidity      1599 non-null   float64\n",
            " 2   citric acid           1599 non-null   float64\n",
            " 3   residual sugar        1599 non-null   float64\n",
            " 4   chlorides             1599 non-null   float64\n",
            " 5   free sulfur dioxide   1599 non-null   float64\n",
            " 6   total sulfur dioxide  1599 non-null   float64\n",
            " 7   density               1599 non-null   float64\n",
            " 8   pH                    1599 non-null   float64\n",
            " 9   sulphates             1599 non-null   float64\n",
            " 10  alcohol               1599 non-null   float64\n",
            " 11  quality               1599 non-null   int64  \n",
            "dtypes: float64(11), int64(1)\n",
            "memory usage: 150.0 KB\n"
          ]
        }
      ]
    },
    {
      "cell_type": "markdown",
      "metadata": {
        "id": "DfG5zF0MzMah"
      },
      "source": [
        "**The .info() function will give a concise summary of the dataframe.**"
      ]
    },
    {
      "cell_type": "code",
      "metadata": {
        "colab": {
          "base_uri": "https://localhost:8080/"
        },
        "id": "Fr1mkujDzUzl",
        "outputId": "84194cf0-3c8a-4d83-d229-ac1883456442"
      },
      "source": [
        "redwine.isnull().sum()"
      ],
      "execution_count": null,
      "outputs": [
        {
          "output_type": "execute_result",
          "data": {
            "text/plain": [
              "fixed acidity           0\n",
              "volatile acidity        0\n",
              "citric acid             0\n",
              "residual sugar          0\n",
              "chlorides               0\n",
              "free sulfur dioxide     0\n",
              "total sulfur dioxide    0\n",
              "density                 0\n",
              "pH                      0\n",
              "sulphates               0\n",
              "alcohol                 0\n",
              "quality                 0\n",
              "dtype: int64"
            ]
          },
          "metadata": {},
          "execution_count": 5
        }
      ]
    },
    {
      "cell_type": "markdown",
      "metadata": {
        "id": "37vkOVxG0FEo"
      },
      "source": [
        "**This function will tell us the number of null values in the respective dataframe.As we can see,there are no null values in the dataframe,hence 0 is returned.**"
      ]
    },
    {
      "cell_type": "markdown",
      "metadata": {
        "id": "DWTFc3Dd1FOw"
      },
      "source": [
        "# **Preprocessing Data**"
      ]
    },
    {
      "cell_type": "code",
      "metadata": {
        "id": "4_xVbKWJzU2E"
      },
      "source": [
        "bins = (2, 6.5, 8)\n",
        "group_names = ['bad' , 'good']\n",
        "redwine['quality'] = pd.cut(redwine['quality'], bins =  bins,labels = group_names)"
      ],
      "execution_count": null,
      "outputs": []
    },
    {
      "cell_type": "markdown",
      "metadata": {
        "id": "xsVxx4Rm2-wY"
      },
      "source": [
        "**By using the above lines of code,we are going to separate the wines into two labels of quality.The wines whose quality ranges from 2 to 6.5 would be labelled as \"bad\" where wines ranging from 6.5 to 8 will be labelled as \"good.\"**"
      ]
    },
    {
      "cell_type": "code",
      "metadata": {
        "id": "BAOHm4fKzU4T"
      },
      "source": [
        "label_quality = LabelEncoder() #The LabelEncoder() funtion is a part of the Scikit-Learn library."
      ],
      "execution_count": null,
      "outputs": []
    },
    {
      "cell_type": "code",
      "metadata": {
        "id": "W8NfzFlNzU7J"
      },
      "source": [
        "redwine['quality'] = label_quality.fit_transform(redwine['quality'])"
      ],
      "execution_count": null,
      "outputs": []
    },
    {
      "cell_type": "markdown",
      "metadata": {
        "id": "kgSJGQJ5-cMR"
      },
      "source": [
        "**This fit_transform() method is basically the combination of fit method and transform method.This method performs fit and transform on the input data at a single time and converts the data points.** "
      ]
    },
    {
      "cell_type": "code",
      "metadata": {
        "colab": {
          "base_uri": "https://localhost:8080/",
          "height": 380
        },
        "id": "Qy7KRpe84jGM",
        "outputId": "789dcf35-af54-4b99-c828-b3bca9f88bc1"
      },
      "source": [
        "redwine.head(10)"
      ],
      "execution_count": null,
      "outputs": [
        {
          "output_type": "execute_result",
          "data": {
            "text/html": [
              "<div>\n",
              "<style scoped>\n",
              "    .dataframe tbody tr th:only-of-type {\n",
              "        vertical-align: middle;\n",
              "    }\n",
              "\n",
              "    .dataframe tbody tr th {\n",
              "        vertical-align: top;\n",
              "    }\n",
              "\n",
              "    .dataframe thead th {\n",
              "        text-align: right;\n",
              "    }\n",
              "</style>\n",
              "<table border=\"1\" class=\"dataframe\">\n",
              "  <thead>\n",
              "    <tr style=\"text-align: right;\">\n",
              "      <th></th>\n",
              "      <th>fixed acidity</th>\n",
              "      <th>volatile acidity</th>\n",
              "      <th>citric acid</th>\n",
              "      <th>residual sugar</th>\n",
              "      <th>chlorides</th>\n",
              "      <th>free sulfur dioxide</th>\n",
              "      <th>total sulfur dioxide</th>\n",
              "      <th>density</th>\n",
              "      <th>pH</th>\n",
              "      <th>sulphates</th>\n",
              "      <th>alcohol</th>\n",
              "      <th>quality</th>\n",
              "    </tr>\n",
              "  </thead>\n",
              "  <tbody>\n",
              "    <tr>\n",
              "      <th>0</th>\n",
              "      <td>7.4</td>\n",
              "      <td>0.70</td>\n",
              "      <td>0.00</td>\n",
              "      <td>1.9</td>\n",
              "      <td>0.076</td>\n",
              "      <td>11.0</td>\n",
              "      <td>34.0</td>\n",
              "      <td>0.9978</td>\n",
              "      <td>3.51</td>\n",
              "      <td>0.56</td>\n",
              "      <td>9.4</td>\n",
              "      <td>0</td>\n",
              "    </tr>\n",
              "    <tr>\n",
              "      <th>1</th>\n",
              "      <td>7.8</td>\n",
              "      <td>0.88</td>\n",
              "      <td>0.00</td>\n",
              "      <td>2.6</td>\n",
              "      <td>0.098</td>\n",
              "      <td>25.0</td>\n",
              "      <td>67.0</td>\n",
              "      <td>0.9968</td>\n",
              "      <td>3.20</td>\n",
              "      <td>0.68</td>\n",
              "      <td>9.8</td>\n",
              "      <td>0</td>\n",
              "    </tr>\n",
              "    <tr>\n",
              "      <th>2</th>\n",
              "      <td>7.8</td>\n",
              "      <td>0.76</td>\n",
              "      <td>0.04</td>\n",
              "      <td>2.3</td>\n",
              "      <td>0.092</td>\n",
              "      <td>15.0</td>\n",
              "      <td>54.0</td>\n",
              "      <td>0.9970</td>\n",
              "      <td>3.26</td>\n",
              "      <td>0.65</td>\n",
              "      <td>9.8</td>\n",
              "      <td>0</td>\n",
              "    </tr>\n",
              "    <tr>\n",
              "      <th>3</th>\n",
              "      <td>11.2</td>\n",
              "      <td>0.28</td>\n",
              "      <td>0.56</td>\n",
              "      <td>1.9</td>\n",
              "      <td>0.075</td>\n",
              "      <td>17.0</td>\n",
              "      <td>60.0</td>\n",
              "      <td>0.9980</td>\n",
              "      <td>3.16</td>\n",
              "      <td>0.58</td>\n",
              "      <td>9.8</td>\n",
              "      <td>0</td>\n",
              "    </tr>\n",
              "    <tr>\n",
              "      <th>4</th>\n",
              "      <td>7.4</td>\n",
              "      <td>0.70</td>\n",
              "      <td>0.00</td>\n",
              "      <td>1.9</td>\n",
              "      <td>0.076</td>\n",
              "      <td>11.0</td>\n",
              "      <td>34.0</td>\n",
              "      <td>0.9978</td>\n",
              "      <td>3.51</td>\n",
              "      <td>0.56</td>\n",
              "      <td>9.4</td>\n",
              "      <td>0</td>\n",
              "    </tr>\n",
              "    <tr>\n",
              "      <th>5</th>\n",
              "      <td>7.4</td>\n",
              "      <td>0.66</td>\n",
              "      <td>0.00</td>\n",
              "      <td>1.8</td>\n",
              "      <td>0.075</td>\n",
              "      <td>13.0</td>\n",
              "      <td>40.0</td>\n",
              "      <td>0.9978</td>\n",
              "      <td>3.51</td>\n",
              "      <td>0.56</td>\n",
              "      <td>9.4</td>\n",
              "      <td>0</td>\n",
              "    </tr>\n",
              "    <tr>\n",
              "      <th>6</th>\n",
              "      <td>7.9</td>\n",
              "      <td>0.60</td>\n",
              "      <td>0.06</td>\n",
              "      <td>1.6</td>\n",
              "      <td>0.069</td>\n",
              "      <td>15.0</td>\n",
              "      <td>59.0</td>\n",
              "      <td>0.9964</td>\n",
              "      <td>3.30</td>\n",
              "      <td>0.46</td>\n",
              "      <td>9.4</td>\n",
              "      <td>0</td>\n",
              "    </tr>\n",
              "    <tr>\n",
              "      <th>7</th>\n",
              "      <td>7.3</td>\n",
              "      <td>0.65</td>\n",
              "      <td>0.00</td>\n",
              "      <td>1.2</td>\n",
              "      <td>0.065</td>\n",
              "      <td>15.0</td>\n",
              "      <td>21.0</td>\n",
              "      <td>0.9946</td>\n",
              "      <td>3.39</td>\n",
              "      <td>0.47</td>\n",
              "      <td>10.0</td>\n",
              "      <td>1</td>\n",
              "    </tr>\n",
              "    <tr>\n",
              "      <th>8</th>\n",
              "      <td>7.8</td>\n",
              "      <td>0.58</td>\n",
              "      <td>0.02</td>\n",
              "      <td>2.0</td>\n",
              "      <td>0.073</td>\n",
              "      <td>9.0</td>\n",
              "      <td>18.0</td>\n",
              "      <td>0.9968</td>\n",
              "      <td>3.36</td>\n",
              "      <td>0.57</td>\n",
              "      <td>9.5</td>\n",
              "      <td>1</td>\n",
              "    </tr>\n",
              "    <tr>\n",
              "      <th>9</th>\n",
              "      <td>7.5</td>\n",
              "      <td>0.50</td>\n",
              "      <td>0.36</td>\n",
              "      <td>6.1</td>\n",
              "      <td>0.071</td>\n",
              "      <td>17.0</td>\n",
              "      <td>102.0</td>\n",
              "      <td>0.9978</td>\n",
              "      <td>3.35</td>\n",
              "      <td>0.80</td>\n",
              "      <td>10.5</td>\n",
              "      <td>0</td>\n",
              "    </tr>\n",
              "  </tbody>\n",
              "</table>\n",
              "</div>"
            ],
            "text/plain": [
              "   fixed acidity  volatile acidity  citric acid  ...  sulphates  alcohol  quality\n",
              "0            7.4              0.70         0.00  ...       0.56      9.4        0\n",
              "1            7.8              0.88         0.00  ...       0.68      9.8        0\n",
              "2            7.8              0.76         0.04  ...       0.65      9.8        0\n",
              "3           11.2              0.28         0.56  ...       0.58      9.8        0\n",
              "4            7.4              0.70         0.00  ...       0.56      9.4        0\n",
              "5            7.4              0.66         0.00  ...       0.56      9.4        0\n",
              "6            7.9              0.60         0.06  ...       0.46      9.4        0\n",
              "7            7.3              0.65         0.00  ...       0.47     10.0        1\n",
              "8            7.8              0.58         0.02  ...       0.57      9.5        1\n",
              "9            7.5              0.50         0.36  ...       0.80     10.5        0\n",
              "\n",
              "[10 rows x 12 columns]"
            ]
          },
          "metadata": {},
          "execution_count": 9
        }
      ]
    },
    {
      "cell_type": "markdown",
      "metadata": {
        "id": "0eXuR4oQ-9SM"
      },
      "source": [
        "**After running the code above,we can observe the wines have been labelled as good(1) and bad(0) in terms of quality.**"
      ]
    },
    {
      "cell_type": "code",
      "metadata": {
        "colab": {
          "base_uri": "https://localhost:8080/"
        },
        "id": "oTKIUFXA4jI5",
        "outputId": "84d0af98-95b7-4526-9d8a-6bc068fea5b7"
      },
      "source": [
        "redwine['quality'].value_counts()"
      ],
      "execution_count": null,
      "outputs": [
        {
          "output_type": "execute_result",
          "data": {
            "text/plain": [
              "0    1382\n",
              "1     217\n",
              "Name: quality, dtype: int64"
            ]
          },
          "metadata": {},
          "execution_count": 10
        }
      ]
    },
    {
      "cell_type": "markdown",
      "metadata": {
        "id": "zHzHrm_y_wl4"
      },
      "source": [
        "**After labelling and segregating the wines as good and bad we can see the actual number of wines which are good and bad in terms of quality.**"
      ]
    },
    {
      "cell_type": "code",
      "metadata": {
        "colab": {
          "base_uri": "https://localhost:8080/",
          "height": 351
        },
        "id": "HgQnwYmX4jKt",
        "outputId": "a006b465-1ffd-4973-c4a2-24fe862fad78"
      },
      "source": [
        "sns.countplot(redwine['quality'])"
      ],
      "execution_count": null,
      "outputs": [
        {
          "output_type": "stream",
          "name": "stderr",
          "text": [
            "/usr/local/lib/python3.7/dist-packages/seaborn/_decorators.py:43: FutureWarning: Pass the following variable as a keyword arg: x. From version 0.12, the only valid positional argument will be `data`, and passing other arguments without an explicit keyword will result in an error or misinterpretation.\n",
            "  FutureWarning\n"
          ]
        },
        {
          "output_type": "execute_result",
          "data": {
            "text/plain": [
              "<matplotlib.axes._subplots.AxesSubplot at 0x7faf60425e10>"
            ]
          },
          "metadata": {},
          "execution_count": 11
        },
        {
          "output_type": "display_data",
          "data": {
            "image/png": "[encoded data removed]",
            "text/plain": [
              "<Figure size 432x288 with 1 Axes>"
            ]
          },
          "metadata": {
            "needs_background": "light"
          }
        }
      ]
    },
    {
      "cell_type": "markdown",
      "metadata": {
        "id": "Qg2xWFCwAOPA"
      },
      "source": [
        "**We can also depict the number of good and bad wines graphically.**"
      ]
    },
    {
      "cell_type": "markdown",
      "metadata": {
        "id": "vWoRceUrA_I4"
      },
      "source": [
        "# **Separating the dataset as response variable and feature variable:**\n",
        "\n",
        "\n",
        "*   Response Variable: It is a variation depends on other variables. It is the subject of change within an experiment.\n",
        "*   Feature Variable: A feature variable is a measurable property of the object you’re trying to analyze. In datasets, features appear as columns.\n",
        "\n"
      ]
    },
    {
      "cell_type": "code",
      "metadata": {
        "id": "XvAspnQp4jNP"
      },
      "source": [
        "X = redwine.drop('quality' , axis = 1)\n",
        "y = redwine['quality']"
      ],
      "execution_count": null,
      "outputs": []
    },
    {
      "cell_type": "markdown",
      "metadata": {
        "id": "K8TlX7rdCpHi"
      },
      "source": [
        "# **Training and Test Splitting of data**\n",
        "The following steps are to be followed:\n",
        "\n",
        "*   Splitting the data set into two pieces,a training set and a testing set.\n",
        "*   Train the model on the testing set.\n",
        "*   Test the model on testing set and evaluate the performance of model.\n",
        "\n"
      ]
    },
    {
      "cell_type": "code",
      "metadata": {
        "id": "Nwb8TFQr4jPQ"
      },
      "source": [
        "X_train, X_test, y_train, y_test = train_test_split(X, y, test_size = 0.2, random_state = 42)\n",
        "#The train_test_split() function is a part of the Scikit-Learn library."
      ],
      "execution_count": null,
      "outputs": []
    },
    {
      "cell_type": "markdown",
      "metadata": {
        "id": "twE92w-FKeA4"
      },
      "source": [
        "**If we use an optional parameter called random state and give it an integer value it will split a given data set the exact same way. In our case we are assigning the value of random state as 42.**"
      ]
    },
    {
      "cell_type": "markdown",
      "metadata": {
        "id": "q1wX4A4aPC2_"
      },
      "source": [
        "# **Applying Standard Scaling to get optimized result**"
      ]
    },
    {
      "cell_type": "code",
      "metadata": {
        "id": "7GBF7sOD4jRi"
      },
      "source": [
        "sc = StandardScaler()   #The StandardScaler() funtion is a part of the Scikit-Learn library.\n",
        "                        #StandardScaler removes the mean and scales each feature/variable to unit variance.\n",
        "X_train = sc.fit_transform(X_train)\n",
        "X_test = sc.transform(X_test)"
      ],
      "execution_count": null,
      "outputs": []
    },
    {
      "cell_type": "code",
      "metadata": {
        "colab": {
          "base_uri": "https://localhost:8080/"
        },
        "id": "G6LtMjCw4jT5",
        "outputId": "f7dd5faa-f407-4aec-c11b-997320204e0b"
      },
      "source": [
        "X_train[:10]"
      ],
      "execution_count": null,
      "outputs": [
        {
          "output_type": "execute_result",
          "data": {
            "text/plain": [
              "array([[ 0.21833164,  0.88971201,  0.19209222,  0.30972563, -0.04964208,\n",
              "         0.69100692,  1.04293362,  1.84669643,  1.09349989,  0.45822284,\n",
              "         1.12317723],\n",
              "       [-1.29016623, -1.78878251,  0.65275338, -0.80507963, -0.45521361,\n",
              "         2.38847304,  3.59387025, -3.00449133, -0.40043872, -0.40119696,\n",
              "         1.40827174],\n",
              "       [ 1.49475291, -0.78434707,  1.01104539, -0.52637831,  0.59927236,\n",
              "        -0.95796016, -0.99174203,  0.76865471, -0.07566946,  0.51551749,\n",
              "        -0.58738978],\n",
              "       [ 0.27635078,  0.86181102, -0.06383064, -0.66572897, -0.00908493,\n",
              "         0.01202048, -0.71842739,  0.08948842,  0.05423824, -1.08873281,\n",
              "        -0.96751578],\n",
              "       [ 0.04427419,  2.81487994, -0.62686095,  2.39998549, -0.31326357,\n",
              "        -0.47296984,  0.2229897 ,  1.1998714 ,  0.37900751, -0.9741435 ,\n",
              "        -0.49235828],\n",
              "       [-0.07176411, -0.78434707,  1.11341454, -0.17800167,  0.21397941,\n",
              "         3.01896045,  2.62208486,  0.60694845,  0.44396136,  1.89058918,\n",
              "        -0.58738978],\n",
              "       [-1.17412793,  0.10848444, -0.62686095, -0.52637831, -0.23214927,\n",
              "         0.98200112, -0.35400787, -1.95879086,  0.05423824,  0.91658007,\n",
              "         1.12317723],\n",
              "       [-0.1878024 , -0.17052541,  0.60156881,  0.03102432, -0.13075639,\n",
              "        -0.37597178, -0.01995665,  0.93036097,  0.76873063, -0.229313  ,\n",
              "         0.26789373],\n",
              "       [-0.07176411,  0.61070216, -0.01264607, -0.38702766,  0.13286511,\n",
              "        -1.05495822,  0.92146044,  0.37516948, -1.17988496, -0.229313  ,\n",
              "        -1.25261029],\n",
              "       [ 1.8428678 , -1.95618842,  1.21578369,  1.00647892,  0.31537229,\n",
              "        -1.15195628, -0.71842739,  1.52328391, -0.20557717,  1.77599987,\n",
              "        -0.30229528]])"
            ]
          },
          "metadata": {},
          "execution_count": 15
        }
      ]
    },
    {
      "cell_type": "markdown",
      "metadata": {
        "id": "Dr__kQKcQ-1s"
      },
      "source": [
        "**From the above lines of code,we can observe that our variables are now much more uniform and they have scaled themselves to the same scale.**"
      ]
    },
    {
      "cell_type": "markdown",
      "metadata": {
        "id": "zYRwGcaIGyAF"
      },
      "source": [
        "# **The training and testing of data is now complete.We will use the following machine learning algorithms:**\n",
        "\n",
        "\n",
        "\n",
        "*   K-Nearest Neighbours (KNN)\n",
        "*   Random Forest Classifier\n",
        "*   SVM Classifier\n",
        "*   Logistic Regression\n",
        "*   Naive Bayes\n",
        "*   Decision Trees\n",
        "\n",
        "\n",
        "\n",
        "\n",
        "\n",
        "\n",
        "**We will also form a Neural Network using the MLP Classifier**\n",
        "\n"
      ]
    },
    {
      "cell_type": "markdown",
      "metadata": {
        "id": "Kju8UkqaJYWo"
      },
      "source": [
        "# **Scikit-Learn 4-step modelling pattern**\n",
        "(Can be reused across other models as well.)\n",
        "\n",
        " **STEP 1:** Import the class which we want to use.\n",
        "\n",
        " **STEP 2:** Instantiate the 'estimator'.\n",
        "  (sklearn refers to its models as estimators)\n",
        "\n",
        " **Important points to remember while instantiation:**\n",
        "   \n",
        "\n",
        "1.   Name of the object does not matter.(the name should reflect the type of model it represents)\n",
        "2.   Can specify tuning parameters (also known as 'hyperparameters')during this step.\n",
        "1.   All the parameters which are not specified are set to default.\n",
        "\n",
        "**STEP 3:** Fit the model with data(aka \"Model-Training\"). Model is learning the relationship between X and y.\n",
        "\n",
        "**STEP 4:** Predict the response for a new observation.\n",
        "*   New obseravations are called \"out of sample\" data.\n",
        "*   Returns a Numpy array.\n",
        "*   Can predict for multiple observations at once.\n",
        "\n",
        "\n",
        "\n",
        "\n",
        "\n",
        "\n",
        "\n",
        "\n",
        "\n",
        "\n",
        "\n",
        " \n",
        "\n"
      ]
    },
    {
      "cell_type": "markdown",
      "metadata": {
        "id": "56bt-uhdpIQy"
      },
      "source": [
        "# **K-Neighbours Classifier (KNN)**\n",
        "**Steps for training a machine learning model with K-Nearest Neighbours:**\n",
        "**STEP 1:** Pick a value for K.\n",
        "\n",
        "**STEP 2:** Search for the K observations in the training data that are nearest to the measurements.\n",
        "\n",
        "**STEP 3:** Use the most popular response value from the K nearest Neighbours as predicted response value."
      ]
    },
    {
      "cell_type": "markdown",
      "metadata": {
        "id": "tZXLxC9OxSM3"
      },
      "source": [
        "![knn only data.jpeg](https://drive.google.com/uc?id=1WvSmKFi1ha8q29wKhC01fZdwDC1mW9AY)"
      ]
    },
    {
      "cell_type": "markdown",
      "metadata": {
        "id": "fZVXIxDSxibl"
      },
      "source": [
        "Each point represents an observation and the color of the point represents its response class."
      ]
    },
    {
      "cell_type": "markdown",
      "metadata": {
        "id": "L7jX26x0x8Pf"
      },
      "source": [
        "![Develop-k-Nearest-Neighbors-in-Python-From-Scratch.png](https://drive.google.com/uc?id=1WMLpwFVcVKYnyYMPkISA2uIQZDLno24s)"
      ]
    },
    {
      "cell_type": "markdown",
      "metadata": {
        "id": "1U8W06euyDZ3"
      },
      "source": [
        "**The background of the diagram has been colored red for areas for which the nearest neighbour is represented by red.**\n",
        "\n",
        "(The background color will tell us whta will be the predicted response value for the new observation depending upon its X and y features.)"
      ]
    },
    {
      "cell_type": "code",
      "metadata": {
        "id": "jZbJwN4voUHd"
      },
      "source": [
        "from sklearn.neighbors import KNeighborsClassifier\n",
        "knn = KNeighborsClassifier(n_neighbors=5)\n",
        "knn.fit(X_train, y_train)\n",
        "knn_pred = knn.predict(X_test)"
      ],
      "execution_count": null,
      "outputs": []
    },
    {
      "cell_type": "markdown",
      "metadata": {
        "id": "ImVWBmoYzQIr"
      },
      "source": [
        "# **Let's see how well our model has performed:**"
      ]
    },
    {
      "cell_type": "code",
      "metadata": {
        "colab": {
          "base_uri": "https://localhost:8080/"
        },
        "id": "5DYKomGWoUKO",
        "outputId": "7905469b-aeb1-4422-c7b3-a2b68bec7e05"
      },
      "source": [
        "print(classification_report(y_test, knn_pred)) \n",
        "print(confusion_matrix(y_test, knn_pred)) "
      ],
      "execution_count": null,
      "outputs": [
        {
          "output_type": "stream",
          "name": "stdout",
          "text": [
            "              precision    recall  f1-score   support\n",
            "\n",
            "           0       0.91      0.96      0.93       273\n",
            "           1       0.65      0.43      0.51        47\n",
            "\n",
            "    accuracy                           0.88       320\n",
            "   macro avg       0.78      0.69      0.72       320\n",
            "weighted avg       0.87      0.88      0.87       320\n",
            "\n",
            "[[262  11]\n",
            " [ 27  20]]\n"
          ]
        }
      ]
    },
    {
      "cell_type": "markdown",
      "metadata": {
        "id": "EpwpzAwUcY5c"
      },
      "source": [
        "# **Random Forest Classifier**"
      ]
    },
    {
      "cell_type": "code",
      "metadata": {
        "id": "NMqNRyA64jWU"
      },
      "source": [
        "rfc = RandomForestClassifier(n_estimators=200)\n",
        "rfc.fit(X_train, y_train)\n",
        "rfc_pred = rfc.predict(X_test)"
      ],
      "execution_count": null,
      "outputs": []
    },
    {
      "cell_type": "code",
      "metadata": {
        "colab": {
          "base_uri": "https://localhost:8080/"
        },
        "id": "Ji3O4USRRUhe",
        "outputId": "6f64e189-f719-497c-acbf-b09bad9e2680"
      },
      "source": [
        "rfc_pred[:20]"
      ],
      "execution_count": null,
      "outputs": [
        {
          "output_type": "execute_result",
          "data": {
            "text/plain": [
              "array([0, 0, 0, 0, 0, 0, 0, 0, 0, 0, 1, 0, 0, 0, 0, 0, 0, 0, 1, 0])"
            ]
          },
          "metadata": {},
          "execution_count": 22
        }
      ]
    },
    {
      "cell_type": "markdown",
      "metadata": {
        "id": "Rry7mQvyepEW"
      },
      "source": [
        "**After executing the above lines of code,we can observe that out of 20 wines,17 are classified as bad and 3 as good.**"
      ]
    },
    {
      "cell_type": "markdown",
      "metadata": {
        "id": "I6Q6tlPofEyf"
      },
      "source": [
        "# **Let's see how well our model has performed:**"
      ]
    },
    {
      "cell_type": "code",
      "metadata": {
        "colab": {
          "base_uri": "https://localhost:8080/"
        },
        "id": "S93jKFW2RUkF",
        "outputId": "22a8b56d-d974-4d46-efa9-8230a140f850"
      },
      "source": [
        "print(classification_report(y_test, rfc_pred)) \n",
        "print(confusion_matrix(y_test, rfc_pred)) \n",
        "#The classification_report and confusion_matrix function is a part of the Scikit-Learn Library."
      ],
      "execution_count": null,
      "outputs": [
        {
          "output_type": "stream",
          "name": "stdout",
          "text": [
            "              precision    recall  f1-score   support\n",
            "\n",
            "           0       0.92      0.96      0.94       273\n",
            "           1       0.69      0.51      0.59        47\n",
            "\n",
            "    accuracy                           0.89       320\n",
            "   macro avg       0.80      0.74      0.76       320\n",
            "weighted avg       0.88      0.89      0.89       320\n",
            "\n",
            "[[262  11]\n",
            " [ 23  24]]\n"
          ]
        }
      ]
    },
    {
      "cell_type": "markdown",
      "metadata": {
        "id": "05cKDDDewZuN"
      },
      "source": [
        "**By using the confusion matrix,we can determine how well our model works and how accurate our model is. As you can observe from the confusion matrix,the model can determine that 264 wines are of bad quality correctly. Whereas 7 of the bad quality wines were mislabelled. The same applies to good quality wines.**"
      ]
    },
    {
      "cell_type": "markdown",
      "metadata": {
        "id": "7zxrmesAMUaz"
      },
      "source": [
        "**Confusion Matrix is a table that describes the performance of a classification model.**"
      ]
    },
    {
      "cell_type": "markdown",
      "metadata": {
        "id": "nFRqK7qoy6yh"
      },
      "source": [
        "# **SVM Classifier**\n",
        "**(Support Vector Model)**"
      ]
    },
    {
      "cell_type": "code",
      "metadata": {
        "id": "5iV9x3LmRUmk"
      },
      "source": [
        "from sklearn.svm import SVC\n",
        "svm=SVC()\n",
        "svm.fit(X_train, y_train)\n",
        "svm_pred = svm.predict(X_test)"
      ],
      "execution_count": null,
      "outputs": []
    },
    {
      "cell_type": "markdown",
      "metadata": {
        "id": "rTtAD7e62bJw"
      },
      "source": [
        "# **Let's see how well our model has performed:**"
      ]
    },
    {
      "cell_type": "code",
      "metadata": {
        "colab": {
          "base_uri": "https://localhost:8080/"
        },
        "id": "dnZsDdUARUpQ",
        "outputId": "5398c0d2-f3ee-4629-87b7-8e0c1db4a74c"
      },
      "source": [
        "print(classification_report(y_test, svm_pred)) \n",
        "print(confusion_matrix(y_test, svm_pred)) \n"
      ],
      "execution_count": null,
      "outputs": [
        {
          "output_type": "stream",
          "name": "stdout",
          "text": [
            "              precision    recall  f1-score   support\n",
            "\n",
            "           0       0.88      0.98      0.93       273\n",
            "           1       0.71      0.26      0.37        47\n",
            "\n",
            "    accuracy                           0.88       320\n",
            "   macro avg       0.80      0.62      0.65       320\n",
            "weighted avg       0.86      0.88      0.85       320\n",
            "\n",
            "[[268   5]\n",
            " [ 35  12]]\n"
          ]
        }
      ]
    },
    {
      "cell_type": "markdown",
      "metadata": {
        "id": "kbonZMmJ3iRP"
      },
      "source": [
        "**The SVM Classifier tends to work better with smaller numbers**"
      ]
    },
    {
      "cell_type": "markdown",
      "metadata": {
        "id": "SDwCDg2KNQUY"
      },
      "source": [
        "# **Logistic Regression**"
      ]
    },
    {
      "cell_type": "code",
      "metadata": {
        "id": "HleLmVA1Nbgc"
      },
      "source": [
        "lr = LogisticRegression()\n",
        "lr.fit(X_train, y_train)\n",
        "lr_pred = lr.predict(X_test)"
      ],
      "execution_count": null,
      "outputs": []
    },
    {
      "cell_type": "markdown",
      "metadata": {
        "id": "5GtnAYVLNujI"
      },
      "source": [
        "# **Let's see how well our model has performed:**"
      ]
    },
    {
      "cell_type": "code",
      "metadata": {
        "colab": {
          "base_uri": "https://localhost:8080/"
        },
        "id": "JOekGXLhNbmn",
        "outputId": "63aac935-98a7-4aee-fa10-0fbe1f8ba14f"
      },
      "source": [
        "print(classification_report(y_test, lr_pred)) \n",
        "print(confusion_matrix(y_test, lr_pred)) "
      ],
      "execution_count": null,
      "outputs": [
        {
          "output_type": "stream",
          "name": "stdout",
          "text": [
            "              precision    recall  f1-score   support\n",
            "\n",
            "           0       0.89      0.97      0.92       273\n",
            "           1       0.59      0.28      0.38        47\n",
            "\n",
            "    accuracy                           0.87       320\n",
            "   macro avg       0.74      0.62      0.65       320\n",
            "weighted avg       0.84      0.87      0.84       320\n",
            "\n",
            "[[264   9]\n",
            " [ 34  13]]\n"
          ]
        }
      ]
    },
    {
      "cell_type": "markdown",
      "metadata": {
        "id": "IlHzGftuzcTF"
      },
      "source": [
        "# **Naive Bayes Classifier**"
      ]
    },
    {
      "cell_type": "code",
      "metadata": {
        "id": "FvE7hA9F0MFz"
      },
      "source": [
        "from sklearn.naive_bayes import GaussianNB\n",
        "nb = GaussianNB()\n",
        "nb.fit(X_train, y_train)\n",
        "nb_pred = nb.predict(X_test)"
      ],
      "execution_count": null,
      "outputs": []
    },
    {
      "cell_type": "markdown",
      "metadata": {
        "id": "f3V3LhPv04mF"
      },
      "source": [
        "# **Let's see how well our model has performed:**"
      ]
    },
    {
      "cell_type": "code",
      "metadata": {
        "colab": {
          "base_uri": "https://localhost:8080/"
        },
        "id": "7bnUvW5H09OU",
        "outputId": "798e552f-a92a-47fb-b4c3-f0f8363923d0"
      },
      "source": [
        "print(classification_report(y_test, nb_pred)) \n",
        "print(confusion_matrix(y_test, nb_pred)) "
      ],
      "execution_count": null,
      "outputs": [
        {
          "output_type": "stream",
          "name": "stdout",
          "text": [
            "              precision    recall  f1-score   support\n",
            "\n",
            "           0       0.96      0.86      0.91       273\n",
            "           1       0.49      0.79      0.60        47\n",
            "\n",
            "    accuracy                           0.85       320\n",
            "   macro avg       0.72      0.82      0.75       320\n",
            "weighted avg       0.89      0.85      0.86       320\n",
            "\n",
            "[[234  39]\n",
            " [ 10  37]]\n"
          ]
        }
      ]
    },
    {
      "cell_type": "markdown",
      "metadata": {
        "id": "2iyovA_61JL4"
      },
      "source": [
        "# **Decision Tree Classification**"
      ]
    },
    {
      "cell_type": "code",
      "metadata": {
        "id": "9j6hKOVF1O8Y"
      },
      "source": [
        "from sklearn.tree import DecisionTreeClassifier\n",
        "dt = DecisionTreeClassifier()\n",
        "dt.fit(X_train, y_train)\n",
        "dt_pred = dt.predict(X_test)"
      ],
      "execution_count": null,
      "outputs": []
    },
    {
      "cell_type": "markdown",
      "metadata": {
        "id": "vbeCqSM21qyp"
      },
      "source": [
        "# **Let's see how well our model has performed:**"
      ]
    },
    {
      "cell_type": "code",
      "metadata": {
        "colab": {
          "base_uri": "https://localhost:8080/"
        },
        "id": "T7tHAFjz1xWF",
        "outputId": "4acbcb9c-7a5c-4356-8350-71795f6e852a"
      },
      "source": [
        "print(classification_report(y_test, dt_pred)) \n",
        "print(confusion_matrix(y_test, dt_pred)) "
      ],
      "execution_count": null,
      "outputs": [
        {
          "output_type": "stream",
          "name": "stdout",
          "text": [
            "              precision    recall  f1-score   support\n",
            "\n",
            "           0       0.93      0.95      0.94       273\n",
            "           1       0.65      0.60      0.62        47\n",
            "\n",
            "    accuracy                           0.89       320\n",
            "   macro avg       0.79      0.77      0.78       320\n",
            "weighted avg       0.89      0.89      0.89       320\n",
            "\n",
            "[[258  15]\n",
            " [ 19  28]]\n"
          ]
        }
      ]
    },
    {
      "cell_type": "markdown",
      "metadata": {
        "id": "g3Z44lz43yZl"
      },
      "source": [
        "# **Neural Networks**"
      ]
    },
    {
      "cell_type": "code",
      "metadata": {
        "colab": {
          "base_uri": "https://localhost:8080/"
        },
        "id": "Zp4EW7v-RUrT",
        "outputId": "4d5cb25c-d79f-4f06-b3ab-4eb277f9080b"
      },
      "source": [
        "mlpc = MLPClassifier(hidden_layer_sizes=(11,11,11),max_iter=500)\n",
        "mlpc.fit(X_train, y_train)\n",
        "mlpc_pred = mlpc.predict(X_test)"
      ],
      "execution_count": null,
      "outputs": [
        {
          "output_type": "stream",
          "name": "stderr",
          "text": [
            "/usr/local/lib/python3.7/dist-packages/sklearn/neural_network/_multilayer_perceptron.py:571: ConvergenceWarning: Stochastic Optimizer: Maximum iterations (500) reached and the optimization hasn't converged yet.\n",
            "  % self.max_iter, ConvergenceWarning)\n"
          ]
        }
      ]
    },
    {
      "cell_type": "markdown",
      "metadata": {
        "id": "TiuJ18036I4M"
      },
      "source": [
        "# **Let's see how well our model has performed:**"
      ]
    },
    {
      "cell_type": "code",
      "metadata": {
        "colab": {
          "base_uri": "https://localhost:8080/"
        },
        "id": "3Jg32wZT3wkL",
        "outputId": "820bbcdb-8b4c-4c1e-dd5e-b6cd1035f71c"
      },
      "source": [
        "print(classification_report(y_test, mlpc_pred)) \n",
        "print(confusion_matrix(y_test, mlpc_pred)) "
      ],
      "execution_count": null,
      "outputs": [
        {
          "output_type": "stream",
          "name": "stdout",
          "text": [
            "              precision    recall  f1-score   support\n",
            "\n",
            "           0       0.93      0.94      0.93       273\n",
            "           1       0.61      0.57      0.59        47\n",
            "\n",
            "    accuracy                           0.88       320\n",
            "   macro avg       0.77      0.76      0.76       320\n",
            "weighted avg       0.88      0.88      0.88       320\n",
            "\n",
            "[[256  17]\n",
            " [ 20  27]]\n"
          ]
        }
      ]
    },
    {
      "cell_type": "code",
      "metadata": {
        "id": "lpueInG16l-f"
      },
      "source": [
        ""
      ],
      "execution_count": null,
      "outputs": []
    },
    {
      "cell_type": "markdown",
      "metadata": {
        "id": "ShH06Btv6hxD"
      },
      "source": [
        "# **CROSS VALIDATION**\n",
        "*Cross-validation is a resampling procedure used to evaluate machine learning models on a limited data sample. The procedure has a single parameter called k that refers to the number of groups that a given data sample is to be split into. As such, the procedure is often called k-fold cross-validation.*\n",
        "\n",
        "The main essence of cross validation is that we can implement this by creating a bunch of different train-test-splits; calculating the testing accuracy each time and then averaging the results together in order to reduce the variance.\n",
        "\n",
        "**The most common method is K-Fold Cross Validation.**\n",
        "(Not to be confused with 'K' of K-Neighbors Classifier.)"
      ]
    },
    {
      "cell_type": "markdown",
      "metadata": {
        "id": "zmEniCtC8DJG"
      },
      "source": [
        "# **STEPS for K-Fold Cross Validation**\n",
        "\n",
        "\n",
        "1.   **Split the dataset into K-equal partitions or \"folds\".**\n",
        "    \n",
        "    (Choose a number K ; and split the whole dataset into K-partitions of equal size)\n",
        "2.   **Use fold 1 as the testing set and the union of the other folds as the training set.**\n",
        "    \n",
        "    (Designating fold 1 as testing set)\n",
        "1.   **Calculate testing accuracy.**\n",
        "\n",
        "    (Train model on the training set and we make predictions on testing set and calculate the testing accuracy.)\n",
        "2.   **Repeat steps 1 and 2 K times,using a different fold as the testing set each time.**\n",
        "\n",
        "   (During the second iteration,the 2nd fold/partition will be recognised as as training set and others as testing set.)\n",
        "1.   **Use the average testing accuracy as the estimate of out-of-sample accuracy.**\n",
        "\n",
        "   (Finally,the average testing accuracy also known as cross validated accuracy,is used as out of sample accuracy.)\n",
        "\n",
        "\n",
        "\n",
        "\n",
        "\n",
        "\n"
      ]
    },
    {
      "cell_type": "markdown",
      "metadata": {
        "id": "nyNCyGiKfwMB"
      },
      "source": [
        "![5-Fold-Cross-Validation.jpg](https://drive.google.com/uc?id=10eIhcTeYhgHGG8qRw1P1E6wYAZ5HngdF)"
      ]
    },
    {
      "cell_type": "markdown",
      "metadata": {
        "id": "Bdor6TtjRkd7"
      },
      "source": [
        "# **Comparing Cross-Validation to train-test-split**\n",
        "**Advantages of Cross-Validation:**\n",
        "\n",
        "\n",
        "*   Cross-Validation generates a more accurate estimate of out-of-sample accuracy which we need todo in order to choose best model.\n",
        "*   There is more efficient use of data since every observation is used for training and testing.\n",
        "\n",
        "**Advantages of train-test-split**\n",
        "\n",
        "\n",
        "*   Runs K-Times faster than K-Fold Cross-Validation(it repeats the train-test-split process K times)\n",
        "*  More easier to examine detailed results of testing process from train-test-split.\n",
        "\n",
        "\n",
        "\n"
      ]
    },
    {
      "cell_type": "markdown",
      "metadata": {
        "id": "toNiYBNwPV0x"
      },
      "source": [
        "# **Cross Validation Example: Parameter Tuning**\n",
        " Goal: The goal in this case is to select the best tuning parameters also known as hyper parameters for KNN classification model.\n",
        "\n",
        " We want to select the tuning parameters for KNN,which will produce a model that best generalizes to out of sample data."
      ]
    },
    {
      "cell_type": "code",
      "metadata": {
        "id": "ZueRtX5MX0Ob"
      },
      "source": [
        "from sklearn.model_selection import cross_val_score "
      ],
      "execution_count": null,
      "outputs": []
    },
    {
      "cell_type": "code",
      "metadata": {
        "colab": {
          "base_uri": "https://localhost:8080/"
        },
        "id": "54HrVOQNX_Xx",
        "outputId": "cebe6470-6867-4282-c778-792562c06901"
      },
      "source": [
        "#10 fold cross validation as an estimate of out-of-sample accuracy\n",
        "knn = KNeighborsClassifier(n_neighbors=5)\n",
        "scores = cross_val_score(knn, X, y, cv=10, scoring='accuracy')\n",
        "print(scores)"
      ],
      "execution_count": null,
      "outputs": [
        {
          "output_type": "stream",
          "name": "stdout",
          "text": [
            "[0.875      0.85625    0.825      0.8        0.86875    0.8625\n",
            " 0.78125    0.83125    0.8875     0.86792453]\n"
          ]
        }
      ]
    },
    {
      "cell_type": "code",
      "metadata": {
        "colab": {
          "base_uri": "https://localhost:8080/"
        },
        "id": "uHRliLgMaNue",
        "outputId": "200cbbc7-f2e8-414c-912a-e26fe202abb9"
      },
      "source": [
        "#use average accuracy as an estimate of out-of-sample accuracy\n",
        "print(scores.mean())"
      ],
      "execution_count": null,
      "outputs": [
        {
          "output_type": "stream",
          "name": "stdout",
          "text": [
            "0.8455424528301887\n"
          ]
        }
      ]
    },
    {
      "cell_type": "code",
      "metadata": {
        "colab": {
          "base_uri": "https://localhost:8080/"
        },
        "id": "ceT9yhk5acoz",
        "outputId": "6f237291-9155-4fca-c006-e303a7e7d7d8"
      },
      "source": [
        "#search for an optimal value of K for KNN\n",
        "k_range = range(1,31)\n",
        "k_scores = []\n",
        "for k in k_range:\n",
        "  knn = KNeighborsClassifier(n_neighbors=k)\n",
        "  scores = cross_val_score(knn,X,y,cv=10,scoring='accuracy')\n",
        "  k_scores.append(scores.mean())\n",
        "print(k_scores)\n"
      ],
      "execution_count": null,
      "outputs": [
        {
          "output_type": "stream",
          "name": "stdout",
          "text": [
            "[0.8261320754716982, 0.8567845911949685, 0.8449095911949686, 0.8549213836477989, 0.8455424528301887, 0.8549135220125785, 0.8480345911949685, 0.8505424528301886, 0.8517924528301887, 0.8511674528301887, 0.8542924528301887, 0.8624174528301888, 0.8599135220125786, 0.8605385220125786, 0.8599135220125786, 0.8642924528301886, 0.8611674528301887, 0.8599174528301887, 0.8599174528301885, 0.8617924528301886, 0.8592924528301887, 0.8624174528301888, 0.8611674528301887, 0.8630424528301888, 0.8617924528301886, 0.8617924528301886, 0.8611674528301887, 0.8611674528301887, 0.8624174528301886, 0.8630424528301888]\n"
          ]
        }
      ]
    },
    {
      "cell_type": "code",
      "metadata": {
        "colab": {
          "base_uri": "https://localhost:8080/",
          "height": 296
        },
        "id": "chlhyIlWb2mF",
        "outputId": "f45d1420-d96d-4aab-bd73-e574d812a4a1"
      },
      "source": [
        "#plotting the value of K for KNN(x-axis) vs the cross validated accuracy(y-axis)\n",
        "plt.plot(k_range, k_scores)\n",
        "plt.xlabel('Value of  K for KNN')\n",
        "plt.ylabel('Cross Validated Accuracy')"
      ],
      "execution_count": null,
      "outputs": [
        {
          "output_type": "execute_result",
          "data": {
            "text/plain": [
              "Text(0, 0.5, 'Cross Validated Accuracy')"
            ]
          },
          "metadata": {},
          "execution_count": 43
        },
        {
          "output_type": "display_data",
          "data": {
            "image/png": "[encoded data removed]",
            "text/plain": [
              "<Figure size 432x288 with 1 Axes>"
            ]
          },
          "metadata": {
            "needs_background": "light"
          }
        }
      ]
    },
    {
      "cell_type": "markdown",
      "metadata": {
        "id": "9MTYBQe-7-a2"
      },
      "source": [
        "# **Determine the accuracy of our best model,which is RFC:**"
      ]
    },
    {
      "cell_type": "code",
      "metadata": {
        "colab": {
          "base_uri": "https://localhost:8080/"
        },
        "id": "ZOFxyu6h3wnF",
        "outputId": "fd382362-6827-4927-f41a-6c9328029443"
      },
      "source": [
        "from sklearn.metrics import accuracy_score\n",
        "cm = accuracy_score(y_test, rfc_pred)\n",
        "cm"
      ],
      "execution_count": null,
      "outputs": [
        {
          "output_type": "execute_result",
          "data": {
            "text/plain": [
              "0.89375"
            ]
          },
          "metadata": {},
          "execution_count": 45
        }
      ]
    },
    {
      "cell_type": "code",
      "metadata": {
        "colab": {
          "base_uri": "https://localhost:8080/",
          "height": 393
        },
        "id": "aG9oUhJf3wqv",
        "outputId": "0be5c585-2fa2-4982-def7-39d95b3b6add"
      },
      "source": [
        "redwine.head(10)"
      ],
      "execution_count": null,
      "outputs": [
        {
          "output_type": "execute_result",
          "data": {
            "text/html": [
              "<div>\n",
              "<style scoped>\n",
              "    .dataframe tbody tr th:only-of-type {\n",
              "        vertical-align: middle;\n",
              "    }\n",
              "\n",
              "    .dataframe tbody tr th {\n",
              "        vertical-align: top;\n",
              "    }\n",
              "\n",
              "    .dataframe thead th {\n",
              "        text-align: right;\n",
              "    }\n",
              "</style>\n",
              "<table border=\"1\" class=\"dataframe\">\n",
              "  <thead>\n",
              "    <tr style=\"text-align: right;\">\n",
              "      <th></th>\n",
              "      <th>fixed acidity</th>\n",
              "      <th>volatile acidity</th>\n",
              "      <th>citric acid</th>\n",
              "      <th>residual sugar</th>\n",
              "      <th>chlorides</th>\n",
              "      <th>free sulfur dioxide</th>\n",
              "      <th>total sulfur dioxide</th>\n",
              "      <th>density</th>\n",
              "      <th>pH</th>\n",
              "      <th>sulphates</th>\n",
              "      <th>alcohol</th>\n",
              "      <th>quality</th>\n",
              "    </tr>\n",
              "  </thead>\n",
              "  <tbody>\n",
              "    <tr>\n",
              "      <th>0</th>\n",
              "      <td>7.4</td>\n",
              "      <td>0.70</td>\n",
              "      <td>0.00</td>\n",
              "      <td>1.9</td>\n",
              "      <td>0.076</td>\n",
              "      <td>11.0</td>\n",
              "      <td>34.0</td>\n",
              "      <td>0.9978</td>\n",
              "      <td>3.51</td>\n",
              "      <td>0.56</td>\n",
              "      <td>9.4</td>\n",
              "      <td>0</td>\n",
              "    </tr>\n",
              "    <tr>\n",
              "      <th>1</th>\n",
              "      <td>7.8</td>\n",
              "      <td>0.88</td>\n",
              "      <td>0.00</td>\n",
              "      <td>2.6</td>\n",
              "      <td>0.098</td>\n",
              "      <td>25.0</td>\n",
              "      <td>67.0</td>\n",
              "      <td>0.9968</td>\n",
              "      <td>3.20</td>\n",
              "      <td>0.68</td>\n",
              "      <td>9.8</td>\n",
              "      <td>0</td>\n",
              "    </tr>\n",
              "    <tr>\n",
              "      <th>2</th>\n",
              "      <td>7.8</td>\n",
              "      <td>0.76</td>\n",
              "      <td>0.04</td>\n",
              "      <td>2.3</td>\n",
              "      <td>0.092</td>\n",
              "      <td>15.0</td>\n",
              "      <td>54.0</td>\n",
              "      <td>0.9970</td>\n",
              "      <td>3.26</td>\n",
              "      <td>0.65</td>\n",
              "      <td>9.8</td>\n",
              "      <td>0</td>\n",
              "    </tr>\n",
              "    <tr>\n",
              "      <th>3</th>\n",
              "      <td>11.2</td>\n",
              "      <td>0.28</td>\n",
              "      <td>0.56</td>\n",
              "      <td>1.9</td>\n",
              "      <td>0.075</td>\n",
              "      <td>17.0</td>\n",
              "      <td>60.0</td>\n",
              "      <td>0.9980</td>\n",
              "      <td>3.16</td>\n",
              "      <td>0.58</td>\n",
              "      <td>9.8</td>\n",
              "      <td>0</td>\n",
              "    </tr>\n",
              "    <tr>\n",
              "      <th>4</th>\n",
              "      <td>7.4</td>\n",
              "      <td>0.70</td>\n",
              "      <td>0.00</td>\n",
              "      <td>1.9</td>\n",
              "      <td>0.076</td>\n",
              "      <td>11.0</td>\n",
              "      <td>34.0</td>\n",
              "      <td>0.9978</td>\n",
              "      <td>3.51</td>\n",
              "      <td>0.56</td>\n",
              "      <td>9.4</td>\n",
              "      <td>0</td>\n",
              "    </tr>\n",
              "    <tr>\n",
              "      <th>5</th>\n",
              "      <td>7.4</td>\n",
              "      <td>0.66</td>\n",
              "      <td>0.00</td>\n",
              "      <td>1.8</td>\n",
              "      <td>0.075</td>\n",
              "      <td>13.0</td>\n",
              "      <td>40.0</td>\n",
              "      <td>0.9978</td>\n",
              "      <td>3.51</td>\n",
              "      <td>0.56</td>\n",
              "      <td>9.4</td>\n",
              "      <td>0</td>\n",
              "    </tr>\n",
              "    <tr>\n",
              "      <th>6</th>\n",
              "      <td>7.9</td>\n",
              "      <td>0.60</td>\n",
              "      <td>0.06</td>\n",
              "      <td>1.6</td>\n",
              "      <td>0.069</td>\n",
              "      <td>15.0</td>\n",
              "      <td>59.0</td>\n",
              "      <td>0.9964</td>\n",
              "      <td>3.30</td>\n",
              "      <td>0.46</td>\n",
              "      <td>9.4</td>\n",
              "      <td>0</td>\n",
              "    </tr>\n",
              "    <tr>\n",
              "      <th>7</th>\n",
              "      <td>7.3</td>\n",
              "      <td>0.65</td>\n",
              "      <td>0.00</td>\n",
              "      <td>1.2</td>\n",
              "      <td>0.065</td>\n",
              "      <td>15.0</td>\n",
              "      <td>21.0</td>\n",
              "      <td>0.9946</td>\n",
              "      <td>3.39</td>\n",
              "      <td>0.47</td>\n",
              "      <td>10.0</td>\n",
              "      <td>1</td>\n",
              "    </tr>\n",
              "    <tr>\n",
              "      <th>8</th>\n",
              "      <td>7.8</td>\n",
              "      <td>0.58</td>\n",
              "      <td>0.02</td>\n",
              "      <td>2.0</td>\n",
              "      <td>0.073</td>\n",
              "      <td>9.0</td>\n",
              "      <td>18.0</td>\n",
              "      <td>0.9968</td>\n",
              "      <td>3.36</td>\n",
              "      <td>0.57</td>\n",
              "      <td>9.5</td>\n",
              "      <td>1</td>\n",
              "    </tr>\n",
              "    <tr>\n",
              "      <th>9</th>\n",
              "      <td>7.5</td>\n",
              "      <td>0.50</td>\n",
              "      <td>0.36</td>\n",
              "      <td>6.1</td>\n",
              "      <td>0.071</td>\n",
              "      <td>17.0</td>\n",
              "      <td>102.0</td>\n",
              "      <td>0.9978</td>\n",
              "      <td>3.35</td>\n",
              "      <td>0.80</td>\n",
              "      <td>10.5</td>\n",
              "      <td>0</td>\n",
              "    </tr>\n",
              "  </tbody>\n",
              "</table>\n",
              "</div>"
            ],
            "text/plain": [
              "   fixed acidity  volatile acidity  citric acid  ...  sulphates  alcohol  quality\n",
              "0            7.4              0.70         0.00  ...       0.56      9.4        0\n",
              "1            7.8              0.88         0.00  ...       0.68      9.8        0\n",
              "2            7.8              0.76         0.04  ...       0.65      9.8        0\n",
              "3           11.2              0.28         0.56  ...       0.58      9.8        0\n",
              "4            7.4              0.70         0.00  ...       0.56      9.4        0\n",
              "5            7.4              0.66         0.00  ...       0.56      9.4        0\n",
              "6            7.9              0.60         0.06  ...       0.46      9.4        0\n",
              "7            7.3              0.65         0.00  ...       0.47     10.0        1\n",
              "8            7.8              0.58         0.02  ...       0.57      9.5        1\n",
              "9            7.5              0.50         0.36  ...       0.80     10.5        0\n",
              "\n",
              "[10 rows x 12 columns]"
            ]
          },
          "metadata": {},
          "execution_count": 86
        }
      ]
    },
    {
      "cell_type": "markdown",
      "metadata": {
        "id": "wDpIE1EGPd_D"
      },
      "source": [
        "# **That's it from my side folks! I hope that you understood the purpose of Scikit Learn and the basic functions required to perform Data Analysis on a dataset.**"
      ]
    }
  ]
}
