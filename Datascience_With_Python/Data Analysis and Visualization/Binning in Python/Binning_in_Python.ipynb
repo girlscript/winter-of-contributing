{
  "nbformat": 4,
  "nbformat_minor": 0,
  "metadata": {
    "colab": {
      "name": "DSWP_Binning_in_Python.ipynb",
      "provenance": [],
      "collapsed_sections": []
    },
    "kernelspec": {
      "name": "python3",
      "display_name": "Python 3"
    },
    "language_info": {
      "name": "python"
    }
  },
  "cells": [
    {
      "cell_type": "markdown",
      "metadata": {
        "id": "u-UI1zS3dQfD"
      },
      "source": [
        "\n",
        "#**Binning in Python**\n",
        "---\n",
        "Binning method is used to smoothing data or to handle noisy data. In this method, the data is first sorted and then the sorted values are distributed into a number of buckets or bins. As binning methods consult the neighborhood of values, they perform local smoothing.\n",
        "\n",
        "There are basically two types of binning approaches –\n",
        "\n",
        "* **Equal width (or distance) binning**: The simplest binning approach is to partition the range of the variable into k equal-width intervals. The interval width is simply the range [A, B] of the variable divided by k,\n",
        "$$w = (B-A) / k$$\n",
        "Thus, ith interval range will be [A + (i-1)w, A + iw] where i = 1, 2, 3…..k. Skewed data cannot be handled well by this method.\n",
        "\n",
        "* **Equal depth (or frequency) binning**: In equal-frequency binning we divide the range [A, B] of the variable into intervals that contain (approximately) equal number of points; equal frequency may not be possible due to repeated values.\n",
        "\n",
        "There are three approaches to perform smoothing:\n",
        "\n",
        "* **Smoothing by bin means:** In smoothing by bin means, each value in a bin is replaced by the mean value of the bin.\n",
        "* **Smoothing by bin median:** In this method each bin value is replaced by its bin median value.\n",
        "* **Smoothing by bin boundary:** In smoothing by bin boundaries, the minimum and maximum values in a given bin are identified as the bin boundaries. Each bin value is then replaced by the closest boundary value.\n",
        "\n",
        "### **Steps**\n",
        "\n",
        "1. Sort the array of given data set.\n",
        "2. Divides the range into N intervals, using equal depth or equal width partitioning.\n",
        "3. Smooth data by finding either the mean, median or boundaries of each bin.\n",
        "\n",
        "\n",
        "\n"
      ]
    },
    {
      "cell_type": "code",
      "metadata": {
        "colab": {
          "base_uri": "https://localhost:8080/"
        },
        "id": "LpHXyOpjcwe7",
        "outputId": "c7fa463c-6f15-4d98-c9e7-f8c38879a899"
      },
      "source": [
        "# equal frequency\n",
        "def equidepth(arr1, m):\n",
        "  a = len(arr1)\n",
        "  n = int(a / m)\n",
        "  result=[]\n",
        "  for i in range(0, m):\n",
        "    arr = []\n",
        "    for j in range(i * n, (i + 1) * n):\n",
        "      if j >= a:\n",
        "        break\n",
        "      arr = arr + [arr1[j]]\n",
        "    print(arr)\n",
        "    result.append(arr)\n",
        "  return result\n",
        "\n",
        "# equal width\n",
        "def equiwidth(arr1, m):\n",
        "\ta = len(arr1)\n",
        "\tw = int((max(arr1) - min(arr1)) / m)\n",
        "\tmin1 = min(arr1)\n",
        "\tarr = []\n",
        "\tfor i in range(0, m + 1):\n",
        "\t\tarr = arr + [min1 + w * i]\n",
        "\tarri=[]\n",
        "\t\n",
        "\tfor i in range(0, m):\n",
        "\t\ttemp = []\n",
        "\t\tfor j in arr1:\n",
        "\t\t\tif j >= arr[i] and j <= arr[i+1]:\n",
        "\t\t\t\ttemp += [j]\n",
        "\t\tarri += [temp]\n",
        "\tprint(arri)\n",
        "\n",
        "# data to be binned\n",
        "data = [80, 10, 72, 5, 12, 55, 204, 18, 15, 35, 92, 216, 100, 108, 88]\n",
        "print('input: ', data)\n",
        "\n",
        "#Step 1: data is sorted\n",
        "data.sort()\n",
        "print('sorted input', data)\n",
        "\n",
        "# no of bins\n",
        "m = 3\n",
        "\n",
        "#Step 2: Partioning in equal depth or equal width bins\n",
        "print(\"\\nequal depth binning\")\n",
        "arr= equidepth(data, m)\n",
        "\n",
        "print(\"\\nequal width binning\")\n",
        "equiwidth(data, 3)\n"
      ],
      "execution_count": 29,
      "outputs": [
        {
          "output_type": "stream",
          "name": "stdout",
          "text": [
            "input:  [80, 10, 72, 5, 12, 55, 204, 18, 15, 35, 92, 216, 100, 108, 88]\n",
            "sorted input [5, 10, 12, 15, 18, 35, 55, 72, 80, 88, 92, 100, 108, 204, 216]\n",
            "\n",
            "equal depth binning\n",
            "[5, 10, 12, 15, 18]\n",
            "[35, 55, 72, 80, 88]\n",
            "[92, 100, 108, 204, 216]\n",
            "\n",
            "equal width binning\n",
            "[[5, 10, 12, 15, 18, 35, 55, 72], [80, 88, 92, 100, 108], [204]]\n"
          ]
        }
      ]
    },
    {
      "cell_type": "code",
      "metadata": {
        "colab": {
          "base_uri": "https://localhost:8080/"
        },
        "id": "FpsA2L2Fzc9S",
        "outputId": "cbf41f9c-28b0-4da4-be59-7b314eef21c6"
      },
      "source": [
        "import numpy as np\n",
        "\n",
        "#Step 3: Data smoothing using mean, median or boundaries of bins\n",
        "# We will use the equal depth bins created above\n",
        "print('Bins: ')\n",
        "for x in arr:\n",
        "  print(x)\n",
        "\n",
        "bin1=np.zeros((3,5), dtype=int) \n",
        "bin2=np.zeros((3,5), dtype=int) \n",
        "bin3=np.zeros((3,5), dtype=int) \n",
        "# Bin mean\n",
        "for i in range(len(arr)):\n",
        "\tbin=arr[i]\n",
        "\tmean=np.mean(bin)\n",
        "\tfor j in range(len(bin)):\n",
        "\t\tbin1[i,j]=mean\n",
        "print(\"\\nBin Mean: \\n\",bin1)\n",
        "\t\n",
        "# Bin boundaries\n",
        "for i in range(len(arr)):\n",
        "\tb=arr[i]\n",
        "\tfor j in range(len(bin)):\n",
        "\t\tif (b[j]-b[0]) < (b[len(bin)-1]-b[j]):\n",
        "\t\t\tbin2[i,j]=b[0]\n",
        "\t\telse:\n",
        "\t\t\tbin2[i,j]=b[len(bin)-1]\t\n",
        "print(\"\\nBin Boundaries: \\n\",bin2)\n",
        "\n",
        "# Bin median\n",
        "for i in range(len(arr)):\n",
        "  b=arr[i]\n",
        "  mid = int((len(bin)-1)/2)\n",
        "  for j in range(len(bin)):\n",
        "    bin3[i,j]=b[mid]\n",
        "print(\"\\nBin Median: \\n\",bin3)\n"
      ],
      "execution_count": 28,
      "outputs": [
        {
          "output_type": "stream",
          "name": "stdout",
          "text": [
            "Bins: \n",
            "[5, 10, 12, 15, 18]\n",
            "[35, 55, 72, 80, 88]\n",
            "[92, 100, 108, 204, 216]\n",
            "\n",
            "Bin Mean: \n",
            " [[ 12  12  12  12  12]\n",
            " [ 66  66  66  66  66]\n",
            " [144 144 144 144 144]]\n",
            "\n",
            "Bin Boundaries: \n",
            " [[  5   5  18  18  18]\n",
            " [ 35  35  88  88  88]\n",
            " [ 92  92  92 216 216]]\n",
            "\n",
            "Bin Median: \n",
            " [[ 12  12  12  12  12]\n",
            " [ 72  72  72  72  72]\n",
            " [108 108 108 108 108]]\n"
          ]
        }
      ]
    }
  ]
}