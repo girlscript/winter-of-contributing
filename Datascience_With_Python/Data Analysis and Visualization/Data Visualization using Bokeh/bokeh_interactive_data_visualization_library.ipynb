{
 "cells": [
  {
   "cell_type": "markdown",
   "id": "9b94b5fb",
   "metadata": {},
   "source": [
    "# BOKEH- An Interactive Data Visualization Python Library"
   ]
  },
  {
   "cell_type": "markdown",
   "id": "4e2e6170",
   "metadata": {},
   "source": [
    "**BOKEH is a Python Library for creating interactive visualizations for modern web browsers.With the help of this library we are able to build beautiful graphics,varying from simple plots to complex dashboards with streaming datasets.**\n",
    "\n",
    "Bokeh is a python library which is interactive in nature and is used for data visualization. It targets modern web browsers for presentation.This library aims at providing high performing interactivity with concise constructionog novel graphics over very large or even streaming datasets in a quick manner.\n",
    "\n",
    "![image](https://drive.google.com/uc?id=1dl-IdQcVHoJpiH7xR3ZRW-NDqleeY5h0)"
   ]
  },
  {
   "cell_type": "markdown",
   "id": "e253cafa",
   "metadata": {},
   "source": [
    "* BOKEH is a Python Library which provides interactive visualizations and targets web browsers for representation.This is one of the key differences between BOKEH and other visualization libraries.\n",
    "* Bokeh is capable of producing interactive and elegant visualizations with high performance over very large streaming datasets.\n",
    "* Unlike other visualization libraries BOKEH renders it graphics using HTML and Javascript."
   ]
  },
  {
   "cell_type": "markdown",
   "id": "ac009b7a",
   "metadata": {},
   "source": [
    "## **I.** **Python BOKEH Library**\n",
    "\n",
    "  Bokeh provides us with three interface models:\n",
    "  * ```Bokeh.models```: It is a low-level interface which provides developers with the most flexibility.\n",
    "  * ```Bokeh.plotting```: It is an intermediate level interface to compose visual glyphs.\n",
    "  * ```Bokeh.charts```: It is a high level interface used for presentation in standard visualization form."
   ]
  },
  {
   "cell_type": "markdown",
   "id": "13a77871",
   "metadata": {},
   "source": [
    "## **II. BOKEH Dependancies**\n",
    "\n",
    "Before we get started with Bokeh;we need to have Numpy and Pandas installed on our machine.We will import data handling libraries Numpy and Pandas."
   ]
  },
  {
   "cell_type": "code",
   "execution_count": 1,
   "id": "02e3d808",
   "metadata": {},
   "outputs": [],
   "source": [
    "import pandas as pd\n",
    "import numpy as np"
   ]
  },
  {
   "cell_type": "markdown",
   "id": "dbc3b89e",
   "metadata": {},
   "source": [
    "## **III. Installing BOKEH Module**\n",
    "\n",
    "The simplest way to install Bokeh and its dependancies is by using ```conda``` or ```pip```.\n"
   ]
  },
  {
   "cell_type": "code",
   "execution_count": null,
   "id": "c175591e",
   "metadata": {},
   "outputs": [],
   "source": [
    "pip install bokeh"
   ]
  },
  {
   "cell_type": "markdown",
   "id": "9f6b353c",
   "metadata": {},
   "source": [
    "## **IV.Verifying Installation of Bokeh** \n",
    "\n",
    "We can verify the installation by using some commands but instead we will run a very small program which will provide Bokeh output if the installation is successful.We will generate an empty Bokeh plot and represent it in a static HTML page.\n",
    "\n",
    "But firstly we need to import certain BOKEH Libraries."
   ]
  },
  {
   "cell_type": "code",
   "execution_count": 4,
   "id": "231e03f9",
   "metadata": {},
   "outputs": [],
   "source": [
    "from bokeh.io import output_file\n",
    "from bokeh.plotting import figure, show"
   ]
  },
  {
   "cell_type": "markdown",
   "id": "00618a13",
   "metadata": {},
   "source": [
    "In order to render the plot in a static HTML page,we need to use the following command."
   ]
  },
  {
   "cell_type": "code",
   "execution_count": 5,
   "id": "7d06d8b9",
   "metadata": {},
   "outputs": [],
   "source": [
    "output_file('output_file_test.html', \n",
    "            title='Empty Bokeh Plot')\n"
   ]
  },
  {
   "cell_type": "markdown",
   "id": "a6b01489",
   "metadata": {},
   "source": [
    "Set up a generic figure object and then see what it looks like."
   ]
  },
  {
   "cell_type": "code",
   "execution_count": 6,
   "id": "eccf991b",
   "metadata": {},
   "outputs": [
    {
     "name": "stderr",
     "output_type": "stream",
     "text": [
      "WARNING:bokeh.core.validation.check:W-1000 (MISSING_RENDERERS): Plot has no renderers: Figure(id='1002', ...)\n"
     ]
    }
   ],
   "source": [
    "fig = figure()\n",
    "show(fig)"
   ]
  },
  {
   "cell_type": "markdown",
   "id": "97c16121",
   "metadata": {},
   "source": [
    "An empty Bokeh plot is rendered in a static HTML page as follows.\n",
    "\n",
    "![image](https://drive.google.com/uc?id=1WwhF98ZSdOt9Y3B2WZTn0wZ8rgfPP578)"
   ]
  },
  {
   "cell_type": "markdown",
   "id": "001e6f9f",
   "metadata": {},
   "source": [
    "Hence,we have verified the installation of BOKEH."
   ]
  },
  {
   "cell_type": "markdown",
   "id": "44351778",
   "metadata": {},
   "source": [
    "## **V.Python Bokeh Examples** (Graphs and Plots)\n",
    "\n",
    "Now,we will see certain examples how various graphs and plots can be represented using BOKEH.\n",
    "* **Plotting a simple line graph.**\n",
    "\n",
    "A simple step-by-step tutorial will be given on how to plot a simple line graph.\n",
    "\n",
    "\n"
   ]
  },
  {
   "cell_type": "markdown",
   "id": "8c4a2ebf",
   "metadata": {},
   "source": [
    "**STEP 1 : Import the necessary from the bokeh plotting module.**"
   ]
  },
  {
   "cell_type": "code",
   "execution_count": 14,
   "id": "04a111eb",
   "metadata": {},
   "outputs": [],
   "source": [
    "from bokeh.plotting import figure, show"
   ]
  },
  {
   "cell_type": "markdown",
   "id": "0ea0b001",
   "metadata": {},
   "source": [
    "**STEP 2 : Prepare some data. For doing this,define two lists which contains the data line chart.**"
   ]
  },
  {
   "cell_type": "code",
   "execution_count": 15,
   "id": "f5b72877",
   "metadata": {},
   "outputs": [],
   "source": [
    "# prepare some data\n",
    "x = [1, 2, 3, 4, 5]\n",
    "y = [6, 7, 2, 4, 5]"
   ]
  },
  {
   "cell_type": "markdown",
   "id": "26050f01",
   "metadata": {},
   "source": [
    "**STEP 3 : Use the figure() function to create the plot.Following arguments need to be passed:**\n",
    "- ```title```:Title of our line chart.\n",
    "- ```x_axis_label```: Used to label the X-axis of the plot.\n",
    "- ```y_axis_label```: Used to label the Y-axis of the plot."
   ]
  },
  {
   "cell_type": "code",
   "execution_count": 16,
   "id": "b5d70390",
   "metadata": {},
   "outputs": [],
   "source": [
    "# create a new plot with a title and axis labels\n",
    "p = figure(title=\"Simple line example\", x_axis_label='x', y_axis_label='y')"
   ]
  },
  {
   "cell_type": "markdown",
   "id": "6d48906f",
   "metadata": {},
   "source": [
    "**STEP 4 : Now we will add a line graph to the plot created,using line() function;by passing the following arguments:**\n",
    "- ```legend_label```: It adds labels to the line graph.\n",
    "- ```line_width```: It defines the width of line."
   ]
  },
  {
   "cell_type": "code",
   "execution_count": 17,
   "id": "7f6fabfa",
   "metadata": {},
   "outputs": [
    {
     "data": {
      "text/html": [
       "<div style=\"display: table;\"><div style=\"display: table-row;\"><div style=\"display: table-cell;\"><b title=\"bokeh.models.renderers.GlyphRenderer\">GlyphRenderer</b>(</div><div style=\"display: table-cell;\">id&nbsp;=&nbsp;'2588', <span id=\"2603\" style=\"cursor: pointer;\">&hellip;)</span></div></div><div class=\"2602\" style=\"display: none;\"><div style=\"display: table-cell;\"></div><div style=\"display: table-cell;\">data_source&nbsp;=&nbsp;ColumnDataSource(id='2585', ...),</div></div><div class=\"2602\" style=\"display: none;\"><div style=\"display: table-cell;\"></div><div style=\"display: table-cell;\">glyph&nbsp;=&nbsp;Line(id='2586', ...),</div></div><div class=\"2602\" style=\"display: none;\"><div style=\"display: table-cell;\"></div><div style=\"display: table-cell;\">hover_glyph&nbsp;=&nbsp;None,</div></div><div class=\"2602\" style=\"display: none;\"><div style=\"display: table-cell;\"></div><div style=\"display: table-cell;\">js_event_callbacks&nbsp;=&nbsp;{},</div></div><div class=\"2602\" style=\"display: none;\"><div style=\"display: table-cell;\"></div><div style=\"display: table-cell;\">js_property_callbacks&nbsp;=&nbsp;{},</div></div><div class=\"2602\" style=\"display: none;\"><div style=\"display: table-cell;\"></div><div style=\"display: table-cell;\">level&nbsp;=&nbsp;'glyph',</div></div><div class=\"2602\" style=\"display: none;\"><div style=\"display: table-cell;\"></div><div style=\"display: table-cell;\">muted&nbsp;=&nbsp;False,</div></div><div class=\"2602\" style=\"display: none;\"><div style=\"display: table-cell;\"></div><div style=\"display: table-cell;\">muted_glyph&nbsp;=&nbsp;None,</div></div><div class=\"2602\" style=\"display: none;\"><div style=\"display: table-cell;\"></div><div style=\"display: table-cell;\">name&nbsp;=&nbsp;None,</div></div><div class=\"2602\" style=\"display: none;\"><div style=\"display: table-cell;\"></div><div style=\"display: table-cell;\">nonselection_glyph&nbsp;=&nbsp;Line(id='2587', ...),</div></div><div class=\"2602\" style=\"display: none;\"><div style=\"display: table-cell;\"></div><div style=\"display: table-cell;\">selection_glyph&nbsp;=&nbsp;'auto',</div></div><div class=\"2602\" style=\"display: none;\"><div style=\"display: table-cell;\"></div><div style=\"display: table-cell;\">subscribed_events&nbsp;=&nbsp;[],</div></div><div class=\"2602\" style=\"display: none;\"><div style=\"display: table-cell;\"></div><div style=\"display: table-cell;\">syncable&nbsp;=&nbsp;True,</div></div><div class=\"2602\" style=\"display: none;\"><div style=\"display: table-cell;\"></div><div style=\"display: table-cell;\">tags&nbsp;=&nbsp;[],</div></div><div class=\"2602\" style=\"display: none;\"><div style=\"display: table-cell;\"></div><div style=\"display: table-cell;\">view&nbsp;=&nbsp;CDSView(id='2589', ...),</div></div><div class=\"2602\" style=\"display: none;\"><div style=\"display: table-cell;\"></div><div style=\"display: table-cell;\">visible&nbsp;=&nbsp;True,</div></div><div class=\"2602\" style=\"display: none;\"><div style=\"display: table-cell;\"></div><div style=\"display: table-cell;\">x_range_name&nbsp;=&nbsp;'default',</div></div><div class=\"2602\" style=\"display: none;\"><div style=\"display: table-cell;\"></div><div style=\"display: table-cell;\">y_range_name&nbsp;=&nbsp;'default')</div></div></div>\n",
       "<script>\n",
       "(function() {\n",
       "  var expanded = false;\n",
       "  var ellipsis = document.getElementById(\"2603\");\n",
       "  ellipsis.addEventListener(\"click\", function() {\n",
       "    var rows = document.getElementsByClassName(\"2602\");\n",
       "    for (var i = 0; i < rows.length; i++) {\n",
       "      var el = rows[i];\n",
       "      el.style.display = expanded ? \"none\" : \"table-row\";\n",
       "    }\n",
       "    ellipsis.innerHTML = expanded ? \"&hellip;)\" : \"&lsaquo;&lsaquo;&lsaquo;\";\n",
       "    expanded = !expanded;\n",
       "  });\n",
       "})();\n",
       "</script>\n"
      ],
      "text/plain": [
       "GlyphRenderer(id='2588', ...)"
      ]
     },
     "execution_count": 17,
     "metadata": {},
     "output_type": "execute_result"
    }
   ],
   "source": [
    "# add a line renderer with legend and line thickness to the plot\n",
    "p.line(x, y, legend_label=\"Temp.\", line_width=2)"
   ]
  },
  {
   "cell_type": "markdown",
   "id": "bda0427f",
   "metadata": {},
   "source": [
    "**STEP 5 : Use the show() function to generate the graph and open a web browser to display the generated static HTML file.**"
   ]
  },
  {
   "cell_type": "code",
   "execution_count": 19,
   "id": "051430f4",
   "metadata": {},
   "outputs": [],
   "source": [
    "# output to static HTML file\n",
    "output_file(\"lines.html\")\n",
    "\n",
    "# show the results\n",
    "show(p)"
   ]
  },
  {
   "cell_type": "markdown",
   "id": "6b8f0491",
   "metadata": {},
   "source": [
    "*The same steps will be followed for other examples as well.*"
   ]
  },
  {
   "cell_type": "markdown",
   "id": "7f126940",
   "metadata": {},
   "source": [
    " A simple-line-graph is rendered in a static HTML page as given below:\n",
    " ![image](https://drive.google.com/uc?id=1tXw9hxs8hQuHafe4pEFq_AaXLmKPJMWD)\n",
    " \n",
    "*By using the figure() function and its parameters;we are able to provide titles for the axes and give more description about the data which we wish to represent.*"
   ]
  },
  {
   "cell_type": "markdown",
   "id": "68e96306",
   "metadata": {},
   "source": [
    "* **Multiple Plots**\n",
    "\n",
    "Multiple plots can also be represented easily using BOKEH.The following steps are to be followed.\n",
    "\n",
    "**STEP 1 : Add more data as the basis of additional graphs.**\n"
   ]
  },
  {
   "cell_type": "code",
   "execution_count": 20,
   "id": "ef43e58c",
   "metadata": {},
   "outputs": [],
   "source": [
    "x = [1, 2, 3, 4, 5]\n",
    "y1 = [6, 7, 2, 4, 5]\n",
    "y2 = [2, 3, 4, 5, 6]\n",
    "y3 = [4, 5, 5, 7, 2]"
   ]
  },
  {
   "cell_type": "markdown",
   "id": "62b74d93",
   "metadata": {},
   "source": [
    "**STEP 2 : Change the title from 'simple line example' to 'multiple line example'.**"
   ]
  },
  {
   "cell_type": "code",
   "execution_count": 21,
   "id": "1bf92b7b",
   "metadata": {},
   "outputs": [],
   "source": [
    "# create a new plot with a title and axis labels\n",
    "p = figure(title=\"Multiple line example\", x_axis_label='x', y_axis_label='y')"
   ]
  },
  {
   "cell_type": "markdown",
   "id": "c79d43bc",
   "metadata": {},
   "source": [
    "**STEP 3 : Add more calls to the line() function.**"
   ]
  },
  {
   "cell_type": "code",
   "execution_count": 22,
   "id": "8801ea97",
   "metadata": {},
   "outputs": [
    {
     "data": {
      "text/html": [
       "<div style=\"display: table;\"><div style=\"display: table-row;\"><div style=\"display: table-cell;\"><b title=\"bokeh.models.renderers.GlyphRenderer\">GlyphRenderer</b>(</div><div style=\"display: table-cell;\">id&nbsp;=&nbsp;'2867', <span id=\"2885\" style=\"cursor: pointer;\">&hellip;)</span></div></div><div class=\"2884\" style=\"display: none;\"><div style=\"display: table-cell;\"></div><div style=\"display: table-cell;\">data_source&nbsp;=&nbsp;ColumnDataSource(id='2864', ...),</div></div><div class=\"2884\" style=\"display: none;\"><div style=\"display: table-cell;\"></div><div style=\"display: table-cell;\">glyph&nbsp;=&nbsp;Line(id='2865', ...),</div></div><div class=\"2884\" style=\"display: none;\"><div style=\"display: table-cell;\"></div><div style=\"display: table-cell;\">hover_glyph&nbsp;=&nbsp;None,</div></div><div class=\"2884\" style=\"display: none;\"><div style=\"display: table-cell;\"></div><div style=\"display: table-cell;\">js_event_callbacks&nbsp;=&nbsp;{},</div></div><div class=\"2884\" style=\"display: none;\"><div style=\"display: table-cell;\"></div><div style=\"display: table-cell;\">js_property_callbacks&nbsp;=&nbsp;{},</div></div><div class=\"2884\" style=\"display: none;\"><div style=\"display: table-cell;\"></div><div style=\"display: table-cell;\">level&nbsp;=&nbsp;'glyph',</div></div><div class=\"2884\" style=\"display: none;\"><div style=\"display: table-cell;\"></div><div style=\"display: table-cell;\">muted&nbsp;=&nbsp;False,</div></div><div class=\"2884\" style=\"display: none;\"><div style=\"display: table-cell;\"></div><div style=\"display: table-cell;\">muted_glyph&nbsp;=&nbsp;None,</div></div><div class=\"2884\" style=\"display: none;\"><div style=\"display: table-cell;\"></div><div style=\"display: table-cell;\">name&nbsp;=&nbsp;None,</div></div><div class=\"2884\" style=\"display: none;\"><div style=\"display: table-cell;\"></div><div style=\"display: table-cell;\">nonselection_glyph&nbsp;=&nbsp;Line(id='2866', ...),</div></div><div class=\"2884\" style=\"display: none;\"><div style=\"display: table-cell;\"></div><div style=\"display: table-cell;\">selection_glyph&nbsp;=&nbsp;'auto',</div></div><div class=\"2884\" style=\"display: none;\"><div style=\"display: table-cell;\"></div><div style=\"display: table-cell;\">subscribed_events&nbsp;=&nbsp;[],</div></div><div class=\"2884\" style=\"display: none;\"><div style=\"display: table-cell;\"></div><div style=\"display: table-cell;\">syncable&nbsp;=&nbsp;True,</div></div><div class=\"2884\" style=\"display: none;\"><div style=\"display: table-cell;\"></div><div style=\"display: table-cell;\">tags&nbsp;=&nbsp;[],</div></div><div class=\"2884\" style=\"display: none;\"><div style=\"display: table-cell;\"></div><div style=\"display: table-cell;\">view&nbsp;=&nbsp;CDSView(id='2868', ...),</div></div><div class=\"2884\" style=\"display: none;\"><div style=\"display: table-cell;\"></div><div style=\"display: table-cell;\">visible&nbsp;=&nbsp;True,</div></div><div class=\"2884\" style=\"display: none;\"><div style=\"display: table-cell;\"></div><div style=\"display: table-cell;\">x_range_name&nbsp;=&nbsp;'default',</div></div><div class=\"2884\" style=\"display: none;\"><div style=\"display: table-cell;\"></div><div style=\"display: table-cell;\">y_range_name&nbsp;=&nbsp;'default')</div></div></div>\n",
       "<script>\n",
       "(function() {\n",
       "  var expanded = false;\n",
       "  var ellipsis = document.getElementById(\"2885\");\n",
       "  ellipsis.addEventListener(\"click\", function() {\n",
       "    var rows = document.getElementsByClassName(\"2884\");\n",
       "    for (var i = 0; i < rows.length; i++) {\n",
       "      var el = rows[i];\n",
       "      el.style.display = expanded ? \"none\" : \"table-row\";\n",
       "    }\n",
       "    ellipsis.innerHTML = expanded ? \"&hellip;)\" : \"&lsaquo;&lsaquo;&lsaquo;\";\n",
       "    expanded = !expanded;\n",
       "  });\n",
       "})();\n",
       "</script>\n"
      ],
      "text/plain": [
       "GlyphRenderer(id='2867', ...)"
      ]
     },
     "execution_count": 22,
     "metadata": {},
     "output_type": "execute_result"
    }
   ],
   "source": [
    "# add multiple renderers\n",
    "p.line(x, y1, legend_label=\"Temp.\", color=\"blue\", line_width=2)\n",
    "p.line(x, y2, legend_label=\"Rate\", color=\"red\", line_width=2)\n",
    "p.line(x, y3, legend_label=\"Objects\", color=\"green\", line_width=2)"
   ]
  },
  {
   "cell_type": "markdown",
   "id": "4763ee9f",
   "metadata": {},
   "source": [
    "**STEP 4 : Use the show() function to see the results.**"
   ]
  },
  {
   "cell_type": "code",
   "execution_count": 23,
   "id": "db772444",
   "metadata": {},
   "outputs": [],
   "source": [
    "# show the results\n",
    "show(p)"
   ]
  },
  {
   "cell_type": "markdown",
   "id": "b1e74a5a",
   "metadata": {},
   "source": [
    "*We get to see the following graph:*\n",
    "![image](https://drive.google.com/uc?id=13FYq7q7t-430xTZityTOY2Eq3dDBF6iF)\n",
    "\n",
    "Similarly,we can plot multiple graphs along with glyphs and various shapes.\n"
   ]
  },
  {
   "cell_type": "code",
   "execution_count": 10,
   "id": "469068ed",
   "metadata": {},
   "outputs": [
    {
     "name": "stderr",
     "output_type": "stream",
     "text": [
      "BokehDeprecationWarning: 'legend' keyword is deprecated, use explicit 'legend_label', 'legend_field', or 'legend_group' keywords instead\n",
      "BokehDeprecationWarning: 'legend' keyword is deprecated, use explicit 'legend_label', 'legend_field', or 'legend_group' keywords instead\n",
      "BokehDeprecationWarning: 'legend' keyword is deprecated, use explicit 'legend_label', 'legend_field', or 'legend_group' keywords instead\n",
      "BokehDeprecationWarning: 'legend' keyword is deprecated, use explicit 'legend_label', 'legend_field', or 'legend_group' keywords instead\n",
      "BokehDeprecationWarning: 'legend' keyword is deprecated, use explicit 'legend_label', 'legend_field', or 'legend_group' keywords instead\n",
      "BokehDeprecationWarning: 'legend' keyword is deprecated, use explicit 'legend_label', 'legend_field', or 'legend_group' keywords instead\n"
     ]
    }
   ],
   "source": [
    "# prepare some data\n",
    "x = [0.1, 0.5, 1.0, 1.5, 2.0, 2.5, 3.0]\n",
    "y0 = [i**2 for i in x]\n",
    "y1 = [10**i for i in x]\n",
    "y2 = [10**(i**2) for i in x]\n",
    "\n",
    "# output to static HTML file\n",
    "output_file(\"log_lines.html\")\n",
    "\n",
    "# create a new plot\n",
    "p = figure(\n",
    "   tools=\"pan,box_zoom,reset,save\",\n",
    "   y_axis_type=\"log\", y_range=[0.001, 10**11], title=\"log axis example\",\n",
    "   x_axis_label='sections', y_axis_label='particles'\n",
    ")\n",
    "\n",
    "# add some renderers\n",
    "p.line(x, x, legend=\"y=x\")\n",
    "p.circle(x, x, legend=\"y=x\", fill_color=\"white\", size=8)\n",
    "p.line(x, y0, legend=\"y=x^2\", line_width=3)\n",
    "p.line(x, y1, legend=\"y=10^x\", line_color=\"red\")\n",
    "p.circle(x, y1, legend=\"y=10^x\", fill_color=\"red\", line_color=\"red\", size=6)\n",
    "p.line(x, y2, legend=\"y=10^x^2\", line_color=\"orange\", line_dash=\"4 4\")\n",
    "\n",
    "# show the results\n",
    "show(p)\n"
   ]
  },
  {
   "cell_type": "markdown",
   "id": "84af123c",
   "metadata": {},
   "source": [
    "This gives us a multiple plot rendered in a static HTML page.\n",
    "![image](https://drive.google.com/uc?id=10QoD2Cq3aHw7koMtNYyTgK558LbVA3vJ)\n",
    "\n",
    "By using multiple plots,we will get more customised graph with legends and line colours.\n",
    "\n",
    "We can differentiate between multiple line plots on the same graph."
   ]
  },
  {
   "cell_type": "markdown",
   "id": "08615031",
   "metadata": {},
   "source": [
    "* **Rendering Bar Graphs**\n",
    "\n",
    "By using the same procedure as stated above we can represent bar graphs using BOKEH. We just need to execute the following code."
   ]
  },
  {
   "cell_type": "code",
   "execution_count": 24,
   "id": "ee2199a5",
   "metadata": {},
   "outputs": [],
   "source": [
    "from bokeh.plotting import figure, show\n",
    "\n",
    "# prepare some data\n",
    "x = [1, 2, 3, 4, 5]\n",
    "y1 = [6, 7, 2, 4, 5]\n",
    "y2 = [2, 3, 4, 5, 6]\n",
    "y3 = [4, 5, 5, 7, 2]\n",
    "\n",
    "# create a new plot with a title and axis labels\n",
    "p = figure(title=\"Bar graph  example\", x_axis_label=\"x\", y_axis_label=\"y\")\n",
    "\n",
    "# add bar graph\n",
    "\n",
    "p.vbar(x=x, top=y2, legend_label=\"Rate\", width=0.5, bottom=0, color=\"red\")\n",
    "\n",
    "\n",
    "# show the results\n",
    "show(p)"
   ]
  },
  {
   "cell_type": "markdown",
   "id": "b71ef864",
   "metadata": {},
   "source": [
    "A bar graph is rendered on a static HTML page as follows:\n",
    "![image](https://drive.google.com/uc?id=1tgNeKTGHxP5nSiWnWdBsYOC7Qohmm8Lv)"
   ]
  },
  {
   "cell_type": "markdown",
   "id": "8da589ce",
   "metadata": {},
   "source": [
    "* **Vectorized Colours and Sizes**\n",
    "\n",
    "When we need to plot a large amount of data,we may need to represent data in different colours and sizes as we have a lot to visualize."
   ]
  },
  {
   "cell_type": "code",
   "execution_count": 11,
   "id": "550c3a87",
   "metadata": {},
   "outputs": [],
   "source": [
    "# prepare some data\n",
    "N = 4000\n",
    "x = np.random.random(size=N) * 100\n",
    "y = np.random.random(size=N) * 100\n",
    "radii = np.random.random(size=N) * 1.5\n",
    "colors = [\n",
    "    \"#%02x%02x%02x\" % (int(r), int(g), 150) for r, g in zip(50+2*x, 30+2*y)\n",
    "]\n",
    "\n",
    "# output to static HTML file (with CDN resources)\n",
    "output_file(\"color_scatter.html\", title=\"color_scatter.py example\", mode=\"cdn\")\n",
    "TOOLS=\"crosshair,pan,wheel_zoom,box_zoom,reset,box_select,lasso_select\"\n",
    "\n",
    "# create a new plot with the tools above, and explicit ranges\n",
    "p = figure(tools=TOOLS, x_range=(0,100), y_range=(0,100))\n",
    "\n",
    "# add a circle renderer with vectorized colors and sizes\n",
    "p.circle(x,y, radius=radii, fill_color=colors, fill_alpha=0.6, line_color=None)\n",
    "\n",
    "# show the results\n",
    "show(p)\n"
   ]
  },
  {
   "cell_type": "markdown",
   "id": "ff45fa5f",
   "metadata": {},
   "source": [
    "![image](https://drive.google.com/uc?id=1VDJjsgejb9erxw8dC1dGnuSDDP9T00bn)\n",
    "\n",
    "Vectorized graphs are applicable in scenarios like:\n",
    "* Showing heatmap like data\n",
    "* Showing data which exhibit density property of some parameters."
   ]
  },
  {
   "cell_type": "markdown",
   "id": "f5625f6c",
   "metadata": {},
   "source": [
    "* **Linked Panning and Brushing**\n",
    "\n",
    "One of the useful techniques for data visualization is linking various attributes and aspects.\n",
    "\n",
    "This can be achieved using BOKEH by executing following lines of code."
   ]
  },
  {
   "cell_type": "code",
   "execution_count": 13,
   "id": "779ea8aa",
   "metadata": {},
   "outputs": [],
   "source": [
    "from bokeh.layouts import gridplot\n",
    "\n",
    "# prepare some data\n",
    "N = 100\n",
    "x = np.linspace(0, 4*np.pi, N)\n",
    "y0 = np.sin(x)\n",
    "y1 = np.cos(x)\n",
    "y2 = np.sin(x) + np.cos(x)\n",
    "\n",
    "# output to static HTML file\n",
    "output_file(\"linked_panning.html\")\n",
    "\n",
    "# create a new plot\n",
    "s1 = figure(width=250, plot_height=250, title=None)\n",
    "s1.circle(x, y0, size=10, color=\"navy\", alpha=0.5)\n",
    "\n",
    "# NEW: create a new plot and share both ranges\n",
    "s2 = figure(width=250, height=250, x_range=s1.x_range, y_range=s1.y_range, title=None)\n",
    "s2.triangle(x, y1, size=10, color=\"firebrick\", alpha=0.5)\n",
    "\n",
    "# NEW: create a new plot and share only one range\n",
    "s3 = figure(width=250, height=250, x_range=s1.x_range, title=None)\n",
    "s3.square(x, y2, size=10, color=\"olive\", alpha=0.5)\n",
    "\n",
    "# NEW: put the subplots in a gridplot\n",
    "p = gridplot([[s1, s2, s3]], toolbar_location=None)\n",
    "\n",
    "# show the results\n",
    "show(p)\n"
   ]
  },
  {
   "cell_type": "markdown",
   "id": "b0622f36",
   "metadata": {},
   "source": [
    "We get a graph rendered in a static HTML page as follows:\n",
    "\n",
    "![image](https://drive.google.com/uc?id=1Qf4dP_riMEAdyk-BJ1J71Ng6_shwaE1t)\n",
    "\n",
    "These kind of plots are helpful when we need to show variation of parameter based on other parameters."
   ]
  },
  {
   "cell_type": "markdown",
   "id": "0f1ee949",
   "metadata": {},
   "source": [
    "## Benefits of BOKEH:\n",
    "\n",
    "* Bokeh permits us to build complex statistical plots quickly via some simple commands.\n",
    "* Via Bokeh,we can represent our visualizations in various medium like notebook and HTML static pages.\n",
    "* Bokeh has the benefit of applying interactivity and other styling options."
   ]
  },
  {
   "cell_type": "markdown",
   "id": "26a61c97",
   "metadata": {},
   "source": [
    "## Challenges with BOKEH:\n",
    "Bokeh is an up and coming open source library;which means that is still under development.\n",
    "The code which we are writing today may not be reusable in the future."
   ]
  },
  {
   "cell_type": "markdown",
   "id": "4fc85a23",
   "metadata": {},
   "source": [
    "**Therefore,in this tutorial we learnt how to incorporate BOKEH Library into data visualizations.Bokeh helps us to visualize data in a more attractive manner and make readable visualizations.**\n",
    "\n",
    "Refer the offical BOKEH Documentation for more tutorials <a href=\"https://docs.bokeh.org/en/latest/index.html\">here.</a>\n"
   ]
  },
  {
   "cell_type": "markdown",
   "id": "a8fb26a9",
   "metadata": {},
   "source": [
    "# Working with a dataset\n",
    "After knowing the basics of BOKEH,we can now procees further to work with dataset and produce visualizations using Bokeh.\n",
    "\n",
    "We will be working with the dataset Automobiles.csv and produce various visualized patterns."
   ]
  },
  {
   "cell_type": "markdown",
   "id": "db2eedd6",
   "metadata": {},
   "source": [
    "**Firstly,we will import certain important libraries like Numpy and Pandas.**"
   ]
  },
  {
   "cell_type": "code",
   "execution_count": 1,
   "id": "6454874e",
   "metadata": {},
   "outputs": [],
   "source": [
    "import numpy as np \n",
    "import pandas as pd"
   ]
  },
  {
   "cell_type": "markdown",
   "id": "d787e97a",
   "metadata": {},
   "source": [
    "**Now,we will read our dataset.**"
   ]
  },
  {
   "cell_type": "code",
   "execution_count": 2,
   "id": "05bd40a0",
   "metadata": {},
   "outputs": [],
   "source": [
    "auto_df=pd.read_csv(\"Automobile_data.csv\")"
   ]
  },
  {
   "cell_type": "markdown",
   "id": "cde049de",
   "metadata": {},
   "source": [
    "**Now we will import certain libraries from Bokeh.**"
   ]
  },
  {
   "cell_type": "code",
   "execution_count": 3,
   "id": "037dd87d",
   "metadata": {},
   "outputs": [
    {
     "data": {
      "text/html": [
       "\n",
       "    <div class=\"bk-root\">\n",
       "        <a href=\"https://bokeh.org\" target=\"_blank\" class=\"bk-logo bk-logo-small bk-logo-notebook\"></a>\n",
       "        <span id=\"1002\">Loading BokehJS ...</span>\n",
       "    </div>"
      ]
     },
     "metadata": {},
     "output_type": "display_data"
    },
    {
     "data": {
      "application/javascript": [
       "\n",
       "(function(root) {\n",
       "  function now() {\n",
       "    return new Date();\n",
       "  }\n",
       "\n",
       "  var force = true;\n",
       "\n",
       "  if (typeof root._bokeh_onload_callbacks === \"undefined\" || force === true) {\n",
       "    root._bokeh_onload_callbacks = [];\n",
       "    root._bokeh_is_loading = undefined;\n",
       "  }\n",
       "\n",
       "  var JS_MIME_TYPE = 'application/javascript';\n",
       "  var HTML_MIME_TYPE = 'text/html';\n",
       "  var EXEC_MIME_TYPE = 'application/vnd.bokehjs_exec.v0+json';\n",
       "  var CLASS_NAME = 'output_bokeh rendered_html';\n",
       "\n",
       "  /**\n",
       "   * Render data to the DOM node\n",
       "   */\n",
       "  function render(props, node) {\n",
       "    var script = document.createElement(\"script\");\n",
       "    node.appendChild(script);\n",
       "  }\n",
       "\n",
       "  /**\n",
       "   * Handle when an output is cleared or removed\n",
       "   */\n",
       "  function handleClearOutput(event, handle) {\n",
       "    var cell = handle.cell;\n",
       "\n",
       "    var id = cell.output_area._bokeh_element_id;\n",
       "    var server_id = cell.output_area._bokeh_server_id;\n",
       "    // Clean up Bokeh references\n",
       "    if (id != null && id in Bokeh.index) {\n",
       "      Bokeh.index[id].model.document.clear();\n",
       "      delete Bokeh.index[id];\n",
       "    }\n",
       "\n",
       "    if (server_id !== undefined) {\n",
       "      // Clean up Bokeh references\n",
       "      var cmd = \"from bokeh.io.state import curstate; print(curstate().uuid_to_server['\" + server_id + \"'].get_sessions()[0].document.roots[0]._id)\";\n",
       "      cell.notebook.kernel.execute(cmd, {\n",
       "        iopub: {\n",
       "          output: function(msg) {\n",
       "            var id = msg.content.text.trim();\n",
       "            if (id in Bokeh.index) {\n",
       "              Bokeh.index[id].model.document.clear();\n",
       "              delete Bokeh.index[id];\n",
       "            }\n",
       "          }\n",
       "        }\n",
       "      });\n",
       "      // Destroy server and session\n",
       "      var cmd = \"import bokeh.io.notebook as ion; ion.destroy_server('\" + server_id + \"')\";\n",
       "      cell.notebook.kernel.execute(cmd);\n",
       "    }\n",
       "  }\n",
       "\n",
       "  /**\n",
       "   * Handle when a new output is added\n",
       "   */\n",
       "  function handleAddOutput(event, handle) {\n",
       "    var output_area = handle.output_area;\n",
       "    var output = handle.output;\n",
       "\n",
       "    // limit handleAddOutput to display_data with EXEC_MIME_TYPE content only\n",
       "    if ((output.output_type != \"display_data\") || (!Object.prototype.hasOwnProperty.call(output.data, EXEC_MIME_TYPE))) {\n",
       "      return\n",
       "    }\n",
       "\n",
       "    var toinsert = output_area.element.find(\".\" + CLASS_NAME.split(' ')[0]);\n",
       "\n",
       "    if (output.metadata[EXEC_MIME_TYPE][\"id\"] !== undefined) {\n",
       "      toinsert[toinsert.length - 1].firstChild.textContent = output.data[JS_MIME_TYPE];\n",
       "      // store reference to embed id on output_area\n",
       "      output_area._bokeh_element_id = output.metadata[EXEC_MIME_TYPE][\"id\"];\n",
       "    }\n",
       "    if (output.metadata[EXEC_MIME_TYPE][\"server_id\"] !== undefined) {\n",
       "      var bk_div = document.createElement(\"div\");\n",
       "      bk_div.innerHTML = output.data[HTML_MIME_TYPE];\n",
       "      var script_attrs = bk_div.children[0].attributes;\n",
       "      for (var i = 0; i < script_attrs.length; i++) {\n",
       "        toinsert[toinsert.length - 1].firstChild.setAttribute(script_attrs[i].name, script_attrs[i].value);\n",
       "        toinsert[toinsert.length - 1].firstChild.textContent = bk_div.children[0].textContent\n",
       "      }\n",
       "      // store reference to server id on output_area\n",
       "      output_area._bokeh_server_id = output.metadata[EXEC_MIME_TYPE][\"server_id\"];\n",
       "    }\n",
       "  }\n",
       "\n",
       "  function register_renderer(events, OutputArea) {\n",
       "\n",
       "    function append_mime(data, metadata, element) {\n",
       "      // create a DOM node to render to\n",
       "      var toinsert = this.create_output_subarea(\n",
       "        metadata,\n",
       "        CLASS_NAME,\n",
       "        EXEC_MIME_TYPE\n",
       "      );\n",
       "      this.keyboard_manager.register_events(toinsert);\n",
       "      // Render to node\n",
       "      var props = {data: data, metadata: metadata[EXEC_MIME_TYPE]};\n",
       "      render(props, toinsert[toinsert.length - 1]);\n",
       "      element.append(toinsert);\n",
       "      return toinsert\n",
       "    }\n",
       "\n",
       "    /* Handle when an output is cleared or removed */\n",
       "    events.on('clear_output.CodeCell', handleClearOutput);\n",
       "    events.on('delete.Cell', handleClearOutput);\n",
       "\n",
       "    /* Handle when a new output is added */\n",
       "    events.on('output_added.OutputArea', handleAddOutput);\n",
       "\n",
       "    /**\n",
       "     * Register the mime type and append_mime function with output_area\n",
       "     */\n",
       "    OutputArea.prototype.register_mime_type(EXEC_MIME_TYPE, append_mime, {\n",
       "      /* Is output safe? */\n",
       "      safe: true,\n",
       "      /* Index of renderer in `output_area.display_order` */\n",
       "      index: 0\n",
       "    });\n",
       "  }\n",
       "\n",
       "  // register the mime type if in Jupyter Notebook environment and previously unregistered\n",
       "  if (root.Jupyter !== undefined) {\n",
       "    var events = require('base/js/events');\n",
       "    var OutputArea = require('notebook/js/outputarea').OutputArea;\n",
       "\n",
       "    if (OutputArea.prototype.mime_types().indexOf(EXEC_MIME_TYPE) == -1) {\n",
       "      register_renderer(events, OutputArea);\n",
       "    }\n",
       "  }\n",
       "\n",
       "  \n",
       "  if (typeof (root._bokeh_timeout) === \"undefined\" || force === true) {\n",
       "    root._bokeh_timeout = Date.now() + 5000;\n",
       "    root._bokeh_failed_load = false;\n",
       "  }\n",
       "\n",
       "  var NB_LOAD_WARNING = {'data': {'text/html':\n",
       "     \"<div style='background-color: #fdd'>\\n\"+\n",
       "     \"<p>\\n\"+\n",
       "     \"BokehJS does not appear to have successfully loaded. If loading BokehJS from CDN, this \\n\"+\n",
       "     \"may be due to a slow or bad network connection. Possible fixes:\\n\"+\n",
       "     \"</p>\\n\"+\n",
       "     \"<ul>\\n\"+\n",
       "     \"<li>re-rerun `output_notebook()` to attempt to load from CDN again, or</li>\\n\"+\n",
       "     \"<li>use INLINE resources instead, as so:</li>\\n\"+\n",
       "     \"</ul>\\n\"+\n",
       "     \"<code>\\n\"+\n",
       "     \"from bokeh.resources import INLINE\\n\"+\n",
       "     \"output_notebook(resources=INLINE)\\n\"+\n",
       "     \"</code>\\n\"+\n",
       "     \"</div>\"}};\n",
       "\n",
       "  function display_loaded() {\n",
       "    var el = document.getElementById(\"1002\");\n",
       "    if (el != null) {\n",
       "      el.textContent = \"BokehJS is loading...\";\n",
       "    }\n",
       "    if (root.Bokeh !== undefined) {\n",
       "      if (el != null) {\n",
       "        el.textContent = \"BokehJS \" + root.Bokeh.version + \" successfully loaded.\";\n",
       "      }\n",
       "    } else if (Date.now() < root._bokeh_timeout) {\n",
       "      setTimeout(display_loaded, 100)\n",
       "    }\n",
       "  }\n",
       "\n",
       "\n",
       "  function run_callbacks() {\n",
       "    try {\n",
       "      root._bokeh_onload_callbacks.forEach(function(callback) {\n",
       "        if (callback != null)\n",
       "          callback();\n",
       "      });\n",
       "    } finally {\n",
       "      delete root._bokeh_onload_callbacks\n",
       "    }\n",
       "    console.debug(\"Bokeh: all callbacks have finished\");\n",
       "  }\n",
       "\n",
       "  function load_libs(css_urls, js_urls, callback) {\n",
       "    if (css_urls == null) css_urls = [];\n",
       "    if (js_urls == null) js_urls = [];\n",
       "\n",
       "    root._bokeh_onload_callbacks.push(callback);\n",
       "    if (root._bokeh_is_loading > 0) {\n",
       "      console.debug(\"Bokeh: BokehJS is being loaded, scheduling callback at\", now());\n",
       "      return null;\n",
       "    }\n",
       "    if (js_urls == null || js_urls.length === 0) {\n",
       "      run_callbacks();\n",
       "      return null;\n",
       "    }\n",
       "    console.debug(\"Bokeh: BokehJS not loaded, scheduling load and callback at\", now());\n",
       "    root._bokeh_is_loading = css_urls.length + js_urls.length;\n",
       "\n",
       "    function on_load() {\n",
       "      root._bokeh_is_loading--;\n",
       "      if (root._bokeh_is_loading === 0) {\n",
       "        console.debug(\"Bokeh: all BokehJS libraries/stylesheets loaded\");\n",
       "        run_callbacks()\n",
       "      }\n",
       "    }\n",
       "\n",
       "    function on_error(url) {\n",
       "      console.error(\"failed to load \" + url);\n",
       "    }\n",
       "\n",
       "    for (let i = 0; i < css_urls.length; i++) {\n",
       "      const url = css_urls[i];\n",
       "      const element = document.createElement(\"link\");\n",
       "      element.onload = on_load;\n",
       "      element.onerror = on_error.bind(null, url);\n",
       "      element.rel = \"stylesheet\";\n",
       "      element.type = \"text/css\";\n",
       "      element.href = url;\n",
       "      console.debug(\"Bokeh: injecting link tag for BokehJS stylesheet: \", url);\n",
       "      document.body.appendChild(element);\n",
       "    }\n",
       "\n",
       "    const hashes = {\"https://cdn.bokeh.org/bokeh/release/bokeh-2.3.2.min.js\": \"XypntL49z55iwGVUW4qsEu83zKL3XEcz0MjuGOQ9SlaaQ68X/g+k1FcioZi7oQAc\", \"https://cdn.bokeh.org/bokeh/release/bokeh-tables-2.3.2.min.js\": \"bEsM86IHGDTLCS0Zod8a8WM6Y4+lafAL/eSiyQcuPzinmWNgNO2/olUF0Z2Dkn5i\", \"https://cdn.bokeh.org/bokeh/release/bokeh-widgets-2.3.2.min.js\": \"TX0gSQTdXTTeScqxj6PVQxTiRW8DOoGVwinyi1D3kxv7wuxQ02XkOxv0xwiypcAH\"};\n",
       "\n",
       "    for (let i = 0; i < js_urls.length; i++) {\n",
       "      const url = js_urls[i];\n",
       "      const element = document.createElement('script');\n",
       "      element.onload = on_load;\n",
       "      element.onerror = on_error.bind(null, url);\n",
       "      element.async = false;\n",
       "      element.src = url;\n",
       "      if (url in hashes) {\n",
       "        element.crossOrigin = \"anonymous\";\n",
       "        element.integrity = \"sha384-\" + hashes[url];\n",
       "      }\n",
       "      console.debug(\"Bokeh: injecting script tag for BokehJS library: \", url);\n",
       "      document.head.appendChild(element);\n",
       "    }\n",
       "  };\n",
       "\n",
       "  function inject_raw_css(css) {\n",
       "    const element = document.createElement(\"style\");\n",
       "    element.appendChild(document.createTextNode(css));\n",
       "    document.body.appendChild(element);\n",
       "  }\n",
       "\n",
       "  \n",
       "  var js_urls = [\"https://cdn.bokeh.org/bokeh/release/bokeh-2.3.2.min.js\", \"https://cdn.bokeh.org/bokeh/release/bokeh-widgets-2.3.2.min.js\", \"https://cdn.bokeh.org/bokeh/release/bokeh-tables-2.3.2.min.js\"];\n",
       "  var css_urls = [];\n",
       "  \n",
       "\n",
       "  var inline_js = [\n",
       "    function(Bokeh) {\n",
       "      Bokeh.set_log_level(\"info\");\n",
       "    },\n",
       "    function(Bokeh) {\n",
       "    \n",
       "    \n",
       "    }\n",
       "  ];\n",
       "\n",
       "  function run_inline_js() {\n",
       "    \n",
       "    if (root.Bokeh !== undefined || force === true) {\n",
       "      \n",
       "    for (var i = 0; i < inline_js.length; i++) {\n",
       "      inline_js[i].call(root, root.Bokeh);\n",
       "    }\n",
       "    if (force === true) {\n",
       "        display_loaded();\n",
       "      }} else if (Date.now() < root._bokeh_timeout) {\n",
       "      setTimeout(run_inline_js, 100);\n",
       "    } else if (!root._bokeh_failed_load) {\n",
       "      console.log(\"Bokeh: BokehJS failed to load within specified timeout.\");\n",
       "      root._bokeh_failed_load = true;\n",
       "    } else if (force !== true) {\n",
       "      var cell = $(document.getElementById(\"1002\")).parents('.cell').data().cell;\n",
       "      cell.output_area.append_execute_result(NB_LOAD_WARNING)\n",
       "    }\n",
       "\n",
       "  }\n",
       "\n",
       "  if (root._bokeh_is_loading === 0) {\n",
       "    console.debug(\"Bokeh: BokehJS loaded, going straight to plotting\");\n",
       "    run_inline_js();\n",
       "  } else {\n",
       "    load_libs(css_urls, js_urls, function() {\n",
       "      console.debug(\"Bokeh: BokehJS plotting callback run at\", now());\n",
       "      run_inline_js();\n",
       "    });\n",
       "  }\n",
       "}(window));"
      ],
      "application/vnd.bokehjs_load.v0+json": "\n(function(root) {\n  function now() {\n    return new Date();\n  }\n\n  var force = true;\n\n  if (typeof root._bokeh_onload_callbacks === \"undefined\" || force === true) {\n    root._bokeh_onload_callbacks = [];\n    root._bokeh_is_loading = undefined;\n  }\n\n  \n\n  \n  if (typeof (root._bokeh_timeout) === \"undefined\" || force === true) {\n    root._bokeh_timeout = Date.now() + 5000;\n    root._bokeh_failed_load = false;\n  }\n\n  var NB_LOAD_WARNING = {'data': {'text/html':\n     \"<div style='background-color: #fdd'>\\n\"+\n     \"<p>\\n\"+\n     \"BokehJS does not appear to have successfully loaded. If loading BokehJS from CDN, this \\n\"+\n     \"may be due to a slow or bad network connection. Possible fixes:\\n\"+\n     \"</p>\\n\"+\n     \"<ul>\\n\"+\n     \"<li>re-rerun `output_notebook()` to attempt to load from CDN again, or</li>\\n\"+\n     \"<li>use INLINE resources instead, as so:</li>\\n\"+\n     \"</ul>\\n\"+\n     \"<code>\\n\"+\n     \"from bokeh.resources import INLINE\\n\"+\n     \"output_notebook(resources=INLINE)\\n\"+\n     \"</code>\\n\"+\n     \"</div>\"}};\n\n  function display_loaded() {\n    var el = document.getElementById(\"1002\");\n    if (el != null) {\n      el.textContent = \"BokehJS is loading...\";\n    }\n    if (root.Bokeh !== undefined) {\n      if (el != null) {\n        el.textContent = \"BokehJS \" + root.Bokeh.version + \" successfully loaded.\";\n      }\n    } else if (Date.now() < root._bokeh_timeout) {\n      setTimeout(display_loaded, 100)\n    }\n  }\n\n\n  function run_callbacks() {\n    try {\n      root._bokeh_onload_callbacks.forEach(function(callback) {\n        if (callback != null)\n          callback();\n      });\n    } finally {\n      delete root._bokeh_onload_callbacks\n    }\n    console.debug(\"Bokeh: all callbacks have finished\");\n  }\n\n  function load_libs(css_urls, js_urls, callback) {\n    if (css_urls == null) css_urls = [];\n    if (js_urls == null) js_urls = [];\n\n    root._bokeh_onload_callbacks.push(callback);\n    if (root._bokeh_is_loading > 0) {\n      console.debug(\"Bokeh: BokehJS is being loaded, scheduling callback at\", now());\n      return null;\n    }\n    if (js_urls == null || js_urls.length === 0) {\n      run_callbacks();\n      return null;\n    }\n    console.debug(\"Bokeh: BokehJS not loaded, scheduling load and callback at\", now());\n    root._bokeh_is_loading = css_urls.length + js_urls.length;\n\n    function on_load() {\n      root._bokeh_is_loading--;\n      if (root._bokeh_is_loading === 0) {\n        console.debug(\"Bokeh: all BokehJS libraries/stylesheets loaded\");\n        run_callbacks()\n      }\n    }\n\n    function on_error(url) {\n      console.error(\"failed to load \" + url);\n    }\n\n    for (let i = 0; i < css_urls.length; i++) {\n      const url = css_urls[i];\n      const element = document.createElement(\"link\");\n      element.onload = on_load;\n      element.onerror = on_error.bind(null, url);\n      element.rel = \"stylesheet\";\n      element.type = \"text/css\";\n      element.href = url;\n      console.debug(\"Bokeh: injecting link tag for BokehJS stylesheet: \", url);\n      document.body.appendChild(element);\n    }\n\n    const hashes = {\"https://cdn.bokeh.org/bokeh/release/bokeh-2.3.2.min.js\": \"XypntL49z55iwGVUW4qsEu83zKL3XEcz0MjuGOQ9SlaaQ68X/g+k1FcioZi7oQAc\", \"https://cdn.bokeh.org/bokeh/release/bokeh-tables-2.3.2.min.js\": \"bEsM86IHGDTLCS0Zod8a8WM6Y4+lafAL/eSiyQcuPzinmWNgNO2/olUF0Z2Dkn5i\", \"https://cdn.bokeh.org/bokeh/release/bokeh-widgets-2.3.2.min.js\": \"TX0gSQTdXTTeScqxj6PVQxTiRW8DOoGVwinyi1D3kxv7wuxQ02XkOxv0xwiypcAH\"};\n\n    for (let i = 0; i < js_urls.length; i++) {\n      const url = js_urls[i];\n      const element = document.createElement('script');\n      element.onload = on_load;\n      element.onerror = on_error.bind(null, url);\n      element.async = false;\n      element.src = url;\n      if (url in hashes) {\n        element.crossOrigin = \"anonymous\";\n        element.integrity = \"sha384-\" + hashes[url];\n      }\n      console.debug(\"Bokeh: injecting script tag for BokehJS library: \", url);\n      document.head.appendChild(element);\n    }\n  };\n\n  function inject_raw_css(css) {\n    const element = document.createElement(\"style\");\n    element.appendChild(document.createTextNode(css));\n    document.body.appendChild(element);\n  }\n\n  \n  var js_urls = [\"https://cdn.bokeh.org/bokeh/release/bokeh-2.3.2.min.js\", \"https://cdn.bokeh.org/bokeh/release/bokeh-widgets-2.3.2.min.js\", \"https://cdn.bokeh.org/bokeh/release/bokeh-tables-2.3.2.min.js\"];\n  var css_urls = [];\n  \n\n  var inline_js = [\n    function(Bokeh) {\n      Bokeh.set_log_level(\"info\");\n    },\n    function(Bokeh) {\n    \n    \n    }\n  ];\n\n  function run_inline_js() {\n    \n    if (root.Bokeh !== undefined || force === true) {\n      \n    for (var i = 0; i < inline_js.length; i++) {\n      inline_js[i].call(root, root.Bokeh);\n    }\n    if (force === true) {\n        display_loaded();\n      }} else if (Date.now() < root._bokeh_timeout) {\n      setTimeout(run_inline_js, 100);\n    } else if (!root._bokeh_failed_load) {\n      console.log(\"Bokeh: BokehJS failed to load within specified timeout.\");\n      root._bokeh_failed_load = true;\n    } else if (force !== true) {\n      var cell = $(document.getElementById(\"1002\")).parents('.cell').data().cell;\n      cell.output_area.append_execute_result(NB_LOAD_WARNING)\n    }\n\n  }\n\n  if (root._bokeh_is_loading === 0) {\n    console.debug(\"Bokeh: BokehJS loaded, going straight to plotting\");\n    run_inline_js();\n  } else {\n    load_libs(css_urls, js_urls, function() {\n      console.debug(\"Bokeh: BokehJS plotting callback run at\", now());\n      run_inline_js();\n    });\n  }\n}(window));"
     },
     "metadata": {},
     "output_type": "display_data"
    }
   ],
   "source": [
    "from bokeh.io import output_file,show,output_notebook,push_notebook\n",
    "from bokeh.plotting import figure\n",
    "from bokeh.models import ColumnDataSource,HoverTool,CategoricalColorMapper\n",
    "from bokeh.layouts import row,column,gridplot\n",
    "from bokeh.models.widgets import Tabs,Panel\n",
    "output_notebook()"
   ]
  },
  {
   "cell_type": "markdown",
   "id": "72f81c32",
   "metadata": {},
   "source": [
    "## Basic Glyphs\n",
    "\n",
    "We will now produce some simple visualizations using Bokeh."
   ]
  },
  {
   "cell_type": "code",
   "execution_count": 5,
   "id": "0267e2e7",
   "metadata": {},
   "outputs": [
    {
     "data": {
      "text/html": [
       "\n",
       "\n",
       "\n",
       "\n",
       "\n",
       "\n",
       "  <div class=\"bk-root\" id=\"82d010db-f47b-4227-b137-38187f04d70d\" data-root-id=\"1105\"></div>\n"
      ]
     },
     "metadata": {},
     "output_type": "display_data"
    },
    {
     "data": {
      "application/javascript": [
       "(function(root) {\n",
       "  function embed_document(root) {\n",
       "    \n",
       "  var docs_json = {\"6697936e-c103-4f5e-8b75-7c368f1ed138\":{\"defs\":[],\"roots\":{\"references\":[{\"attributes\":{\"below\":[{\"id\":\"1114\"}],\"center\":[{\"id\":\"1117\"},{\"id\":\"1121\"}],\"height\":500,\"left\":[{\"id\":\"1118\"}],\"renderers\":[{\"id\":\"1139\"}],\"title\":{\"id\":\"1152\"},\"toolbar\":{\"id\":\"1129\"},\"width\":500,\"x_range\":{\"id\":\"1106\"},\"x_scale\":{\"id\":\"1110\"},\"y_range\":{\"id\":\"1108\"},\"y_scale\":{\"id\":\"1112\"}},\"id\":\"1105\",\"subtype\":\"Figure\",\"type\":\"Plot\"},{\"attributes\":{},\"id\":\"1155\",\"type\":\"BasicTickFormatter\"},{\"attributes\":{\"formatter\":{\"id\":\"1155\"},\"major_label_policy\":{\"id\":\"1156\"},\"ticker\":{\"id\":\"1115\"}},\"id\":\"1114\",\"type\":\"LinearAxis\"},{\"attributes\":{},\"id\":\"1156\",\"type\":\"AllLabels\"},{\"attributes\":{},\"id\":\"1158\",\"type\":\"BasicTickFormatter\"},{\"attributes\":{},\"id\":\"1108\",\"type\":\"DataRange1d\"},{\"attributes\":{},\"id\":\"1159\",\"type\":\"AllLabels\"},{\"attributes\":{\"formatter\":{\"id\":\"1158\"},\"major_label_policy\":{\"id\":\"1159\"},\"ticker\":{\"id\":\"1119\"}},\"id\":\"1118\",\"type\":\"LinearAxis\"},{\"attributes\":{\"data\":{\"x\":[130,130,152,109,136,136,136,136,131,131,108,108,164,164,164,209,209,209,61,90,90,90,90,98,90,90,90,98,122,156,92,92,79,92,92,92,92,110,110,110,110,110,110,111,90,90,119,258,258,326,91,91,91,91,91,70,70,70,80,122,122,122,122,122,122,140,134,183,183,183,183,234,234,308,304,140,92,92,92,98,110,122,156,156,156,122,122,110,110,97,103,97,97,97,97,97,97,97,97,120,120,181,181,181,181,181,181,120,152,120,152,120,152,120,152,120,152,134,90,98,90,90,98,122,156,151,194,194,194,203,132,132,121,121,121,121,121,121,97,108,108,108,108,108,108,108,108,108,108,108,92,92,92,92,92,92,98,98,110,110,98,98,98,98,98,98,98,146,146,146,146,146,146,122,110,122,122,122,171,171,171,161,97,109,97,109,109,97,109,109,109,136,97,109,141,141,141,141,130,130,141,141,173,145,141],\"y\":{\"__ndarray__\":\"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\",\"dtype\":\"float64\",\"order\":\"little\",\"shape\":[205]}},\"selected\":{\"id\":\"1160\"},\"selection_policy\":{\"id\":\"1161\"}},\"id\":\"1136\",\"type\":\"ColumnDataSource\"},{\"attributes\":{},\"id\":\"1106\",\"type\":\"DataRange1d\"},{\"attributes\":{},\"id\":\"1122\",\"type\":\"PanTool\"},{\"attributes\":{},\"id\":\"1160\",\"type\":\"Selection\"},{\"attributes\":{},\"id\":\"1112\",\"type\":\"LinearScale\"},{\"attributes\":{\"data_source\":{\"id\":\"1136\"},\"glyph\":{\"id\":\"1137\"},\"hover_glyph\":null,\"muted_glyph\":null,\"nonselection_glyph\":{\"id\":\"1138\"},\"view\":{\"id\":\"1140\"}},\"id\":\"1139\",\"type\":\"GlyphRenderer\"},{\"attributes\":{},\"id\":\"1125\",\"type\":\"SaveTool\"},{\"attributes\":{},\"id\":\"1110\",\"type\":\"LinearScale\"},{\"attributes\":{},\"id\":\"1127\",\"type\":\"HelpTool\"},{\"attributes\":{\"fill_alpha\":{\"value\":0.1},\"fill_color\":{\"value\":\"red\"},\"line_alpha\":{\"value\":0.1},\"line_color\":{\"value\":\"red\"},\"size\":{\"value\":22},\"x\":{\"field\":\"x\"},\"y\":{\"field\":\"y\"}},\"id\":\"1138\",\"type\":\"Circle\"},{\"attributes\":{},\"id\":\"1115\",\"type\":\"BasicTicker\"},{\"attributes\":{},\"id\":\"1161\",\"type\":\"UnionRenderers\"},{\"attributes\":{\"axis\":{\"id\":\"1114\"},\"ticker\":null},\"id\":\"1117\",\"type\":\"Grid\"},{\"attributes\":{\"source\":{\"id\":\"1136\"}},\"id\":\"1140\",\"type\":\"CDSView\"},{\"attributes\":{\"bottom_units\":\"screen\",\"fill_alpha\":0.5,\"fill_color\":\"lightgrey\",\"left_units\":\"screen\",\"level\":\"overlay\",\"line_alpha\":1.0,\"line_color\":\"black\",\"line_dash\":[4,4],\"line_width\":2,\"right_units\":\"screen\",\"syncable\":false,\"top_units\":\"screen\"},\"id\":\"1128\",\"type\":\"BoxAnnotation\"},{\"attributes\":{\"axis\":{\"id\":\"1118\"},\"dimension\":1,\"ticker\":null},\"id\":\"1121\",\"type\":\"Grid\"},{\"attributes\":{\"fill_alpha\":{\"value\":0.5},\"fill_color\":{\"value\":\"red\"},\"line_alpha\":{\"value\":0.5},\"line_color\":{\"value\":\"red\"},\"size\":{\"value\":22},\"x\":{\"field\":\"x\"},\"y\":{\"field\":\"y\"}},\"id\":\"1137\",\"type\":\"Circle\"},{\"attributes\":{},\"id\":\"1119\",\"type\":\"BasicTicker\"},{\"attributes\":{\"active_multi\":null,\"tools\":[{\"id\":\"1122\"},{\"id\":\"1123\"},{\"id\":\"1124\"},{\"id\":\"1125\"},{\"id\":\"1126\"},{\"id\":\"1127\"}]},\"id\":\"1129\",\"type\":\"Toolbar\"},{\"attributes\":{},\"id\":\"1123\",\"type\":\"WheelZoomTool\"},{\"attributes\":{\"overlay\":{\"id\":\"1128\"}},\"id\":\"1124\",\"type\":\"BoxZoomTool\"},{\"attributes\":{},\"id\":\"1152\",\"type\":\"Title\"},{\"attributes\":{},\"id\":\"1126\",\"type\":\"ResetTool\"}],\"root_ids\":[\"1105\"]},\"title\":\"Bokeh Application\",\"version\":\"2.3.2\"}};\n",
       "  var render_items = [{\"docid\":\"6697936e-c103-4f5e-8b75-7c368f1ed138\",\"root_ids\":[\"1105\"],\"roots\":{\"1105\":\"82d010db-f47b-4227-b137-38187f04d70d\"}}];\n",
       "  root.Bokeh.embed.embed_items_notebook(docs_json, render_items);\n",
       "\n",
       "  }\n",
       "  if (root.Bokeh !== undefined) {\n",
       "    embed_document(root);\n",
       "  } else {\n",
       "    var attempts = 0;\n",
       "    var timer = setInterval(function(root) {\n",
       "      if (root.Bokeh !== undefined) {\n",
       "        clearInterval(timer);\n",
       "        embed_document(root);\n",
       "      } else {\n",
       "        attempts++;\n",
       "        if (attempts > 100) {\n",
       "          clearInterval(timer);\n",
       "          console.log(\"Bokeh: ERROR: Unable to run BokehJS code because BokehJS library is missing\");\n",
       "        }\n",
       "      }\n",
       "    }, 10, root)\n",
       "  }\n",
       "})(window);"
      ],
      "application/vnd.bokehjs_exec.v0+json": ""
     },
     "metadata": {
      "application/vnd.bokehjs_exec.v0+json": {
       "id": "1105"
      }
     },
     "output_type": "display_data"
    }
   ],
   "source": [
    "# Scatter Markers\n",
    "\n",
    "p = figure(plot_width=500, plot_height=500)\n",
    "\n",
    "# add a circle renderer with a size, color, and alpha\n",
    "p.circle(auto_df[\"engine-size\"], auto_df[\"wheel-base\"], size=22, color=\"red\", alpha=0.5)\n",
    "\n",
    "# show the results\n",
    "show(p)"
   ]
  },
  {
   "cell_type": "code",
   "execution_count": 6,
   "id": "9bb45c31",
   "metadata": {},
   "outputs": [
    {
     "data": {
      "text/html": [
       "\n",
       "\n",
       "\n",
       "\n",
       "\n",
       "\n",
       "  <div class=\"bk-root\" id=\"b5048219-6cdb-426a-ace9-bd6f5f0a9a9c\" data-root-id=\"1218\"></div>\n"
      ]
     },
     "metadata": {},
     "output_type": "display_data"
    },
    {
     "data": {
      "application/javascript": [
       "(function(root) {\n",
       "  function embed_document(root) {\n",
       "    \n",
       "  var docs_json = {\"2fc10ea0-8141-463b-b8ae-5234d80d8776\":{\"defs\":[],\"roots\":{\"references\":[{\"attributes\":{\"below\":[{\"id\":\"1227\"}],\"center\":[{\"id\":\"1230\"},{\"id\":\"1234\"}],\"height\":500,\"left\":[{\"id\":\"1231\"}],\"renderers\":[{\"id\":\"1252\"}],\"title\":{\"id\":\"1276\"},\"toolbar\":{\"id\":\"1242\"},\"width\":500,\"x_range\":{\"id\":\"1219\"},\"x_scale\":{\"id\":\"1223\"},\"y_range\":{\"id\":\"1221\"},\"y_scale\":{\"id\":\"1225\"}},\"id\":\"1218\",\"subtype\":\"Figure\",\"type\":\"Plot\"},{\"attributes\":{},\"id\":\"1221\",\"type\":\"DataRange1d\"},{\"attributes\":{},\"id\":\"1284\",\"type\":\"Selection\"},{\"attributes\":{\"source\":{\"id\":\"1249\"}},\"id\":\"1253\",\"type\":\"CDSView\"},{\"attributes\":{\"fill_alpha\":{\"value\":0.1},\"fill_color\":{\"value\":\"purple\"},\"line_alpha\":{\"value\":0.1},\"line_color\":{\"value\":\"purple\"},\"marker\":{\"value\":\"square\"},\"size\":{\"value\":20},\"x\":{\"field\":\"x\"},\"y\":{\"field\":\"y\"}},\"id\":\"1251\",\"type\":\"Scatter\"},{\"attributes\":{\"fill_alpha\":{\"value\":0.5},\"fill_color\":{\"value\":\"purple\"},\"line_alpha\":{\"value\":0.5},\"line_color\":{\"value\":\"purple\"},\"marker\":{\"value\":\"square\"},\"size\":{\"value\":20},\"x\":{\"field\":\"x\"},\"y\":{\"field\":\"y\"}},\"id\":\"1250\",\"type\":\"Scatter\"},{\"attributes\":{\"data_source\":{\"id\":\"1249\"},\"glyph\":{\"id\":\"1250\"},\"hover_glyph\":null,\"muted_glyph\":null,\"nonselection_glyph\":{\"id\":\"1251\"},\"view\":{\"id\":\"1253\"}},\"id\":\"1252\",\"type\":\"GlyphRenderer\"},{\"attributes\":{\"data\":{\"x\":[130,130,152,109,136,136,136,136,131,131,108,108,164,164,164,209,209,209,61,90,90,90,90,98,90,90,90,98,122,156,92,92,79,92,92,92,92,110,110,110,110,110,110,111,90,90,119,258,258,326,91,91,91,91,91,70,70,70,80,122,122,122,122,122,122,140,134,183,183,183,183,234,234,308,304,140,92,92,92,98,110,122,156,156,156,122,122,110,110,97,103,97,97,97,97,97,97,97,97,120,120,181,181,181,181,181,181,120,152,120,152,120,152,120,152,120,152,134,90,98,90,90,98,122,156,151,194,194,194,203,132,132,121,121,121,121,121,121,97,108,108,108,108,108,108,108,108,108,108,108,92,92,92,92,92,92,98,98,110,110,98,98,98,98,98,98,98,146,146,146,146,146,146,122,110,122,122,122,171,171,171,161,97,109,97,109,109,97,109,109,109,136,97,109,141,141,141,141,130,130,141,141,173,145,141],\"y\":{\"__ndarray__\":\"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\",\"dtype\":\"float64\",\"order\":\"little\",\"shape\":[205]}},\"selected\":{\"id\":\"1284\"},\"selection_policy\":{\"id\":\"1285\"}},\"id\":\"1249\",\"type\":\"ColumnDataSource\"},{\"attributes\":{},\"id\":\"1219\",\"type\":\"DataRange1d\"},{\"attributes\":{\"formatter\":{\"id\":\"1282\"},\"major_label_policy\":{\"id\":\"1283\"},\"ticker\":{\"id\":\"1232\"}},\"id\":\"1231\",\"type\":\"LinearAxis\"},{\"attributes\":{\"formatter\":{\"id\":\"1279\"},\"major_label_policy\":{\"id\":\"1280\"},\"ticker\":{\"id\":\"1228\"}},\"id\":\"1227\",\"type\":\"LinearAxis\"},{\"attributes\":{},\"id\":\"1225\",\"type\":\"LinearScale\"},{\"attributes\":{},\"id\":\"1223\",\"type\":\"LinearScale\"},{\"attributes\":{},\"id\":\"1240\",\"type\":\"HelpTool\"},{\"attributes\":{},\"id\":\"1276\",\"type\":\"Title\"},{\"attributes\":{},\"id\":\"1228\",\"type\":\"BasicTicker\"},{\"attributes\":{\"axis\":{\"id\":\"1227\"},\"ticker\":null},\"id\":\"1230\",\"type\":\"Grid\"},{\"attributes\":{\"axis\":{\"id\":\"1231\"},\"dimension\":1,\"ticker\":null},\"id\":\"1234\",\"type\":\"Grid\"},{\"attributes\":{},\"id\":\"1232\",\"type\":\"BasicTicker\"},{\"attributes\":{},\"id\":\"1279\",\"type\":\"BasicTickFormatter\"},{\"attributes\":{\"active_multi\":null,\"tools\":[{\"id\":\"1235\"},{\"id\":\"1236\"},{\"id\":\"1237\"},{\"id\":\"1238\"},{\"id\":\"1239\"},{\"id\":\"1240\"}]},\"id\":\"1242\",\"type\":\"Toolbar\"},{\"attributes\":{},\"id\":\"1236\",\"type\":\"WheelZoomTool\"},{\"attributes\":{},\"id\":\"1280\",\"type\":\"AllLabels\"},{\"attributes\":{},\"id\":\"1235\",\"type\":\"PanTool\"},{\"attributes\":{\"overlay\":{\"id\":\"1241\"}},\"id\":\"1237\",\"type\":\"BoxZoomTool\"},{\"attributes\":{},\"id\":\"1238\",\"type\":\"SaveTool\"},{\"attributes\":{},\"id\":\"1239\",\"type\":\"ResetTool\"},{\"attributes\":{},\"id\":\"1282\",\"type\":\"BasicTickFormatter\"},{\"attributes\":{},\"id\":\"1283\",\"type\":\"AllLabels\"},{\"attributes\":{},\"id\":\"1285\",\"type\":\"UnionRenderers\"},{\"attributes\":{\"bottom_units\":\"screen\",\"fill_alpha\":0.5,\"fill_color\":\"lightgrey\",\"left_units\":\"screen\",\"level\":\"overlay\",\"line_alpha\":1.0,\"line_color\":\"black\",\"line_dash\":[4,4],\"line_width\":2,\"right_units\":\"screen\",\"syncable\":false,\"top_units\":\"screen\"},\"id\":\"1241\",\"type\":\"BoxAnnotation\"}],\"root_ids\":[\"1218\"]},\"title\":\"Bokeh Application\",\"version\":\"2.3.2\"}};\n",
       "  var render_items = [{\"docid\":\"2fc10ea0-8141-463b-b8ae-5234d80d8776\",\"root_ids\":[\"1218\"],\"roots\":{\"1218\":\"b5048219-6cdb-426a-ace9-bd6f5f0a9a9c\"}}];\n",
       "  root.Bokeh.embed.embed_items_notebook(docs_json, render_items);\n",
       "\n",
       "  }\n",
       "  if (root.Bokeh !== undefined) {\n",
       "    embed_document(root);\n",
       "  } else {\n",
       "    var attempts = 0;\n",
       "    var timer = setInterval(function(root) {\n",
       "      if (root.Bokeh !== undefined) {\n",
       "        clearInterval(timer);\n",
       "        embed_document(root);\n",
       "      } else {\n",
       "        attempts++;\n",
       "        if (attempts > 100) {\n",
       "          clearInterval(timer);\n",
       "          console.log(\"Bokeh: ERROR: Unable to run BokehJS code because BokehJS library is missing\");\n",
       "        }\n",
       "      }\n",
       "    }, 10, root)\n",
       "  }\n",
       "})(window);"
      ],
      "application/vnd.bokehjs_exec.v0+json": ""
     },
     "metadata": {
      "application/vnd.bokehjs_exec.v0+json": {
       "id": "1218"
      }
     },
     "output_type": "display_data"
    }
   ],
   "source": [
    "p = figure(plot_width=500, plot_height=500)\n",
    "\n",
    "# add a square renderer with a size, color, and alpha\n",
    "p.square(auto_df[\"engine-size\"], auto_df[\"wheel-base\"], size=20, color=\"purple\", alpha=0.5)\n",
    "\n",
    "# show the results\n",
    "show(p)"
   ]
  },
  {
   "cell_type": "code",
   "execution_count": 7,
   "id": "49eb2249",
   "metadata": {},
   "outputs": [
    {
     "data": {
      "text/html": [
       "\n",
       "\n",
       "\n",
       "\n",
       "\n",
       "\n",
       "  <div class=\"bk-root\" id=\"faf62c7b-569b-412f-b94a-8930e4a2d23e\" data-root-id=\"1342\"></div>\n"
      ]
     },
     "metadata": {},
     "output_type": "display_data"
    },
    {
     "data": {
      "application/javascript": [
       "(function(root) {\n",
       "  function embed_document(root) {\n",
       "    \n",
       "  var docs_json = {\"84428b10-d975-43f3-90b0-c5c627a09d92\":{\"defs\":[],\"roots\":{\"references\":[{\"attributes\":{\"below\":[{\"id\":\"1353\"}],\"center\":[{\"id\":\"1356\"},{\"id\":\"1360\"},{\"id\":\"1393\"}],\"left\":[{\"id\":\"1357\"}],\"renderers\":[{\"id\":\"1381\"}],\"title\":{\"id\":\"1343\"},\"toolbar\":{\"id\":\"1368\"},\"x_range\":{\"id\":\"1345\"},\"x_scale\":{\"id\":\"1349\"},\"y_range\":{\"id\":\"1347\"},\"y_scale\":{\"id\":\"1351\"}},\"id\":\"1342\",\"subtype\":\"Figure\",\"type\":\"Plot\"},{\"attributes\":{\"factors\":[\"sedan\",\"hatchback\",\"Other\"],\"markers\":[\"hex\",\"circle_x\",\"triangle\"]},\"id\":\"1375\",\"type\":\"CategoricalMarkerMapper\"},{\"attributes\":{},\"id\":\"1389\",\"type\":\"AllLabels\"},{\"attributes\":{\"axis\":{\"id\":\"1357\"},\"dimension\":1,\"ticker\":null},\"id\":\"1360\",\"type\":\"Grid\"},{\"attributes\":{},\"id\":\"1349\",\"type\":\"LinearScale\"},{\"attributes\":{\"axis\":{\"id\":\"1353\"},\"ticker\":null},\"id\":\"1356\",\"type\":\"Grid\"},{\"attributes\":{},\"id\":\"1347\",\"type\":\"DataRange1d\"},{\"attributes\":{},\"id\":\"1388\",\"type\":\"BasicTickFormatter\"},{\"attributes\":{\"bottom_units\":\"screen\",\"fill_alpha\":0.5,\"fill_color\":\"lightgrey\",\"left_units\":\"screen\",\"level\":\"overlay\",\"line_alpha\":1.0,\"line_color\":\"black\",\"line_dash\":[4,4],\"line_width\":2,\"right_units\":\"screen\",\"syncable\":false,\"top_units\":\"screen\"},\"id\":\"1367\",\"type\":\"BoxAnnotation\"},{\"attributes\":{},\"id\":\"1385\",\"type\":\"BasicTickFormatter\"},{\"attributes\":{\"overlay\":{\"id\":\"1367\"}},\"id\":\"1363\",\"type\":\"BoxZoomTool\"},{\"attributes\":{},\"id\":\"1390\",\"type\":\"Selection\"},{\"attributes\":{},\"id\":\"1351\",\"type\":\"LinearScale\"},{\"attributes\":{},\"id\":\"1391\",\"type\":\"UnionRenderers\"},{\"attributes\":{\"axis_label\":\"Engine Size\",\"formatter\":{\"id\":\"1385\"},\"major_label_policy\":{\"id\":\"1386\"},\"ticker\":{\"id\":\"1354\"}},\"id\":\"1353\",\"type\":\"LinearAxis\"},{\"attributes\":{\"data\":{\"aspiration\":[\"std\",\"std\",\"std\",\"std\",\"std\",\"std\",\"std\",\"std\",\"turbo\",\"turbo\",\"std\",\"std\",\"std\",\"std\",\"std\",\"std\",\"std\",\"std\",\"std\",\"std\",\"std\",\"std\",\"std\",\"turbo\",\"std\",\"std\",\"std\",\"turbo\",\"std\",\"turbo\",\"std\",\"std\",\"std\",\"std\",\"std\",\"std\",\"std\",\"std\",\"std\",\"std\",\"std\",\"std\",\"std\",\"std\",\"std\",\"std\",\"std\",\"std\",\"std\",\"std\",\"std\",\"std\",\"std\",\"std\",\"std\",\"std\",\"std\",\"std\",\"std\",\"std\",\"std\",\"std\",\"std\",\"std\",\"std\",\"std\",\"std\",\"turbo\",\"turbo\",\"turbo\",\"turbo\",\"std\",\"std\",\"std\",\"std\",\"turbo\",\"std\",\"std\",\"std\",\"turbo\",\"turbo\",\"std\",\"turbo\",\"turbo\",\"turbo\",\"std\",\"std\",\"turbo\",\"std\",\"std\",\"std\",\"std\",\"std\",\"std\",\"std\",\"std\",\"std\",\"std\",\"std\",\"std\",\"std\",\"std\",\"std\",\"std\",\"std\",\"turbo\",\"std\",\"std\",\"turbo\",\"std\",\"turbo\",\"std\",\"turbo\",\"std\",\"turbo\",\"std\",\"turbo\",\"turbo\",\"std\",\"turbo\",\"std\",\"std\",\"std\",\"std\",\"turbo\",\"std\",\"std\",\"std\",\"std\",\"std\",\"std\",\"std\",\"std\",\"std\",\"std\",\"std\",\"turbo\",\"turbo\",\"std\",\"std\",\"std\",\"std\",\"std\",\"std\",\"std\",\"turbo\",\"std\",\"std\",\"std\",\"turbo\",\"std\",\"std\",\"std\",\"std\",\"std\",\"std\",\"std\",\"std\",\"std\",\"std\",\"std\",\"std\",\"std\",\"std\",\"std\",\"std\",\"std\",\"std\",\"std\",\"std\",\"std\",\"std\",\"std\",\"std\",\"turbo\",\"std\",\"std\",\"std\",\"std\",\"std\",\"std\",\"std\",\"std\",\"std\",\"std\",\"std\",\"std\",\"turbo\",\"std\",\"std\",\"std\",\"std\",\"turbo\",\"std\",\"std\",\"std\",\"std\",\"std\",\"turbo\",\"turbo\",\"std\",\"turbo\",\"std\",\"turbo\",\"turbo\"],\"body-style\":[\"convertible\",\"convertible\",\"hatchback\",\"sedan\",\"sedan\",\"sedan\",\"sedan\",\"wagon\",\"sedan\",\"hatchback\",\"sedan\",\"sedan\",\"sedan\",\"sedan\",\"sedan\",\"sedan\",\"sedan\",\"sedan\",\"hatchback\",\"hatchback\",\"sedan\",\"hatchback\",\"hatchback\",\"hatchback\",\"hatchback\",\"sedan\",\"sedan\",\"sedan\",\"wagon\",\"hatchback\",\"hatchback\",\"hatchback\",\"hatchback\",\"hatchback\",\"hatchback\",\"sedan\",\"wagon\",\"hatchback\",\"hatchback\",\"sedan\",\"sedan\",\"sedan\",\"sedan\",\"sedan\",\"sedan\",\"sedan\",\"hatchback\",\"sedan\",\"sedan\",\"sedan\",\"hatchback\",\"hatchback\",\"hatchback\",\"sedan\",\"sedan\",\"hatchback\",\"hatchback\",\"hatchback\",\"hatchback\",\"hatchback\",\"sedan\",\"hatchback\",\"sedan\",\"sedan\",\"hatchback\",\"sedan\",\"sedan\",\"sedan\",\"wagon\",\"hardtop\",\"sedan\",\"sedan\",\"convertible\",\"sedan\",\"hardtop\",\"hatchback\",\"hatchback\",\"hatchback\",\"hatchback\",\"hatchback\",\"hatchback\",\"hatchback\",\"hatchback\",\"hatchback\",\"hatchback\",\"sedan\",\"sedan\",\"sedan\",\"sedan\",\"sedan\",\"sedan\",\"sedan\",\"sedan\",\"wagon\",\"sedan\",\"hatchback\",\"sedan\",\"wagon\",\"hardtop\",\"hatchback\",\"sedan\",\"sedan\",\"wagon\",\"sedan\",\"hatchback\",\"hatchback\",\"hatchback\",\"sedan\",\"sedan\",\"wagon\",\"wagon\",\"sedan\",\"sedan\",\"wagon\",\"wagon\",\"sedan\",\"sedan\",\"sedan\",\"hatchback\",\"hatchback\",\"hatchback\",\"sedan\",\"sedan\",\"wagon\",\"hatchback\",\"hatchback\",\"hardtop\",\"hardtop\",\"convertible\",\"hatchback\",\"wagon\",\"hatchback\",\"hatchback\",\"sedan\",\"hatchback\",\"sedan\",\"hatchback\",\"sedan\",\"hatchback\",\"hatchback\",\"hatchback\",\"sedan\",\"sedan\",\"sedan\",\"sedan\",\"sedan\",\"wagon\",\"wagon\",\"wagon\",\"wagon\",\"hatchback\",\"hatchback\",\"hatchback\",\"wagon\",\"wagon\",\"wagon\",\"sedan\",\"hatchback\",\"sedan\",\"hatchback\",\"sedan\",\"hatchback\",\"sedan\",\"sedan\",\"hatchback\",\"sedan\",\"hatchback\",\"hardtop\",\"hardtop\",\"hatchback\",\"hardtop\",\"hatchback\",\"convertible\",\"sedan\",\"sedan\",\"hatchback\",\"sedan\",\"hatchback\",\"hatchback\",\"hatchback\",\"sedan\",\"wagon\",\"sedan\",\"sedan\",\"sedan\",\"sedan\",\"sedan\",\"sedan\",\"sedan\",\"convertible\",\"hatchback\",\"sedan\",\"sedan\",\"wagon\",\"sedan\",\"wagon\",\"sedan\",\"wagon\",\"sedan\",\"wagon\",\"sedan\",\"sedan\",\"sedan\",\"sedan\",\"sedan\"],\"bore\":[\"3.47\",\"3.47\",\"2.68\",\"3.19\",\"3.19\",\"3.19\",\"3.19\",\"3.19\",\"3.13\",\"3.13\",\"3.5\",\"3.5\",\"3.31\",\"3.31\",\"3.31\",\"3.62\",\"3.62\",\"3.62\",\"2.91\",\"3.03\",\"3.03\",\"2.97\",\"2.97\",\"3.03\",\"2.97\",\"2.97\",\"2.97\",\"3.03\",\"3.34\",\"3.6\",\"2.91\",\"2.91\",\"2.91\",\"2.91\",\"2.91\",\"2.91\",\"2.92\",\"3.15\",\"3.15\",\"3.15\",\"3.15\",\"3.15\",\"3.15\",\"3.31\",\"3.03\",\"3.03\",\"3.43\",\"3.63\",\"3.63\",\"3.54\",\"3.03\",\"3.03\",\"3.03\",\"3.03\",\"3.08\",\"?\",\"?\",\"?\",\"?\",\"3.39\",\"3.39\",\"3.39\",\"3.39\",\"3.39\",\"3.39\",\"3.76\",\"3.43\",\"3.58\",\"3.58\",\"3.58\",\"3.58\",\"3.46\",\"3.46\",\"3.8\",\"3.8\",\"3.78\",\"2.97\",\"2.97\",\"2.97\",\"3.03\",\"3.17\",\"3.35\",\"3.58\",\"3.59\",\"3.59\",\"3.35\",\"3.35\",\"3.17\",\"3.17\",\"3.15\",\"2.99\",\"3.15\",\"3.15\",\"3.15\",\"3.15\",\"3.15\",\"3.15\",\"3.15\",\"3.15\",\"3.33\",\"3.33\",\"3.43\",\"3.43\",\"3.43\",\"3.43\",\"3.43\",\"3.43\",\"3.46\",\"3.7\",\"3.46\",\"3.7\",\"3.46\",\"3.7\",\"3.46\",\"3.7\",\"3.46\",\"3.7\",\"3.61\",\"2.97\",\"3.03\",\"2.97\",\"2.97\",\"2.97\",\"3.35\",\"3.59\",\"3.94\",\"3.74\",\"3.74\",\"3.74\",\"3.94\",\"3.46\",\"3.46\",\"3.54\",\"3.54\",\"2.54\",\"3.54\",\"3.54\",\"3.54\",\"3.62\",\"3.62\",\"3.62\",\"3.62\",\"3.62\",\"3.62\",\"3.62\",\"3.62\",\"3.62\",\"3.62\",\"3.62\",\"3.62\",\"3.05\",\"3.05\",\"3.05\",\"3.05\",\"3.05\",\"3.05\",\"3.19\",\"3.19\",\"3.27\",\"3.27\",\"3.19\",\"3.19\",\"3.19\",\"3.19\",\"3.19\",\"3.24\",\"3.24\",\"3.62\",\"3.62\",\"3.62\",\"3.62\",\"3.62\",\"3.62\",\"3.31\",\"3.27\",\"3.31\",\"3.31\",\"3.31\",\"3.27\",\"3.27\",\"3.27\",\"3.27\",\"3.01\",\"3.19\",\"3.01\",\"3.19\",\"3.19\",\"3.01\",\"3.19\",\"3.19\",\"3.19\",\"3.19\",\"3.01\",\"3.19\",\"3.78\",\"3.78\",\"3.78\",\"3.78\",\"3.62\",\"3.62\",\"3.78\",\"3.78\",\"3.58\",\"3.01\",\"3.78\"],\"city-mpg\":[21,21,19,24,18,19,19,19,17,16,23,23,21,21,20,16,16,15,47,38,38,37,31,24,31,31,31,24,24,19,49,31,38,30,30,30,30,27,27,27,27,24,25,24,38,38,24,15,15,13,30,31,31,31,31,17,17,17,16,26,26,26,26,36,26,19,31,22,22,22,22,16,16,14,14,19,37,31,31,24,23,25,19,19,19,25,25,23,23,31,45,31,31,31,31,31,31,31,31,27,27,17,17,19,19,17,19,19,28,19,25,19,28,19,25,19,28,18,37,24,31,31,31,24,19,19,17,17,17,17,23,23,21,21,21,21,19,19,31,26,26,32,28,26,24,24,28,25,23,23,35,31,31,31,27,27,30,30,34,38,38,28,28,29,29,26,26,24,24,24,24,24,24,29,30,27,27,27,20,19,20,19,37,27,37,27,27,37,26,24,24,19,33,25,23,23,24,24,17,17,23,19,18,26,19],\"compression-ratio\":{\"__ndarray__\":\"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\",\"dtype\":\"float64\",\"order\":\"little\",\"shape\":[205]},\"curb-weight\":[2548,2548,2823,2337,2824,2507,2844,2954,3086,3053,2395,2395,2710,2765,3055,3230,3380,3505,1488,1874,1909,1876,1876,2128,1967,1989,1989,2191,2535,2811,1713,1819,1837,1940,1956,2010,2024,2236,2289,2304,2372,2465,2293,2337,1874,1909,2734,4066,4066,3950,1890,1900,1905,1945,1950,2380,2380,2385,2500,2385,2410,2385,2410,2443,2425,2670,2700,3515,3750,3495,3770,3740,3685,3900,3715,2910,1918,1944,2004,2145,2370,2328,2833,2921,2926,2365,2405,2403,2403,1889,2017,1918,1938,2024,1951,2028,1971,2037,2008,2324,2302,3095,3296,3060,3071,3139,3139,3020,3197,3230,3430,3075,3252,3285,3485,3075,3252,3130,1918,2128,1967,1989,2191,2535,2818,2778,2756,2756,2800,3366,2579,2460,2658,2695,2707,2758,2808,2847,2050,2120,2240,2145,2190,2340,2385,2510,2290,2455,2420,2650,1985,2040,2015,2280,2290,3110,2081,2109,2275,2275,2094,2122,2140,2169,2204,2265,2300,2540,2536,2551,2679,2714,2975,2326,2480,2414,2414,2458,2976,3016,3131,3151,2261,2209,2264,2212,2275,2319,2300,2254,2221,2661,2579,2563,2912,3034,2935,3042,3045,3157,2952,3049,3012,3217,3062],\"drive-wheels\":[\"rwd\",\"rwd\",\"rwd\",\"fwd\",\"4wd\",\"fwd\",\"fwd\",\"fwd\",\"fwd\",\"4wd\",\"rwd\",\"rwd\",\"rwd\",\"rwd\",\"rwd\",\"rwd\",\"rwd\",\"rwd\",\"fwd\",\"fwd\",\"fwd\",\"fwd\",\"fwd\",\"fwd\",\"fwd\",\"fwd\",\"fwd\",\"fwd\",\"fwd\",\"fwd\",\"fwd\",\"fwd\",\"fwd\",\"fwd\",\"fwd\",\"fwd\",\"fwd\",\"fwd\",\"fwd\",\"fwd\",\"fwd\",\"fwd\",\"fwd\",\"rwd\",\"fwd\",\"fwd\",\"rwd\",\"rwd\",\"rwd\",\"rwd\",\"fwd\",\"fwd\",\"fwd\",\"fwd\",\"fwd\",\"rwd\",\"rwd\",\"rwd\",\"rwd\",\"fwd\",\"fwd\",\"fwd\",\"fwd\",\"fwd\",\"fwd\",\"rwd\",\"rwd\",\"rwd\",\"rwd\",\"rwd\",\"rwd\",\"rwd\",\"rwd\",\"rwd\",\"rwd\",\"rwd\",\"fwd\",\"fwd\",\"fwd\",\"fwd\",\"fwd\",\"fwd\",\"fwd\",\"fwd\",\"fwd\",\"fwd\",\"fwd\",\"fwd\",\"fwd\",\"fwd\",\"fwd\",\"fwd\",\"fwd\",\"fwd\",\"fwd\",\"fwd\",\"fwd\",\"fwd\",\"fwd\",\"fwd\",\"fwd\",\"fwd\",\"fwd\",\"fwd\",\"rwd\",\"rwd\",\"rwd\",\"rwd\",\"rwd\",\"rwd\",\"rwd\",\"rwd\",\"rwd\",\"rwd\",\"rwd\",\"rwd\",\"rwd\",\"rwd\",\"fwd\",\"fwd\",\"fwd\",\"fwd\",\"fwd\",\"fwd\",\"rwd\",\"rwd\",\"rwd\",\"rwd\",\"rwd\",\"rwd\",\"fwd\",\"fwd\",\"fwd\",\"fwd\",\"fwd\",\"fwd\",\"fwd\",\"fwd\",\"fwd\",\"fwd\",\"4wd\",\"fwd\",\"fwd\",\"fwd\",\"4wd\",\"4wd\",\"fwd\",\"fwd\",\"4wd\",\"4wd\",\"fwd\",\"fwd\",\"fwd\",\"fwd\",\"4wd\",\"4wd\",\"fwd\",\"fwd\",\"fwd\",\"fwd\",\"fwd\",\"fwd\",\"fwd\",\"rwd\",\"rwd\",\"rwd\",\"rwd\",\"rwd\",\"rwd\",\"rwd\",\"rwd\",\"rwd\",\"rwd\",\"fwd\",\"fwd\",\"fwd\",\"fwd\",\"fwd\",\"rwd\",\"rwd\",\"rwd\",\"rwd\",\"fwd\",\"fwd\",\"fwd\",\"fwd\",\"fwd\",\"fwd\",\"fwd\",\"fwd\",\"fwd\",\"fwd\",\"fwd\",\"fwd\",\"rwd\",\"rwd\",\"rwd\",\"rwd\",\"rwd\",\"rwd\",\"rwd\",\"rwd\",\"rwd\",\"rwd\",\"rwd\"],\"engine-location\":[\"front\",\"front\",\"front\",\"front\",\"front\",\"front\",\"front\",\"front\",\"front\",\"front\",\"front\",\"front\",\"front\",\"front\",\"front\",\"front\",\"front\",\"front\",\"front\",\"front\",\"front\",\"front\",\"front\",\"front\",\"front\",\"front\",\"front\",\"front\",\"front\",\"front\",\"front\",\"front\",\"front\",\"front\",\"front\",\"front\",\"front\",\"front\",\"front\",\"front\",\"front\",\"front\",\"front\",\"front\",\"front\",\"front\",\"front\",\"front\",\"front\",\"front\",\"front\",\"front\",\"front\",\"front\",\"front\",\"front\",\"front\",\"front\",\"front\",\"front\",\"front\",\"front\",\"front\",\"front\",\"front\",\"front\",\"front\",\"front\",\"front\",\"front\",\"front\",\"front\",\"front\",\"front\",\"front\",\"front\",\"front\",\"front\",\"front\",\"front\",\"front\",\"front\",\"front\",\"front\",\"front\",\"front\",\"front\",\"front\",\"front\",\"front\",\"front\",\"front\",\"front\",\"front\",\"front\",\"front\",\"front\",\"front\",\"front\",\"front\",\"front\",\"front\",\"front\",\"front\",\"front\",\"front\",\"front\",\"front\",\"front\",\"front\",\"front\",\"front\",\"front\",\"front\",\"front\",\"front\",\"front\",\"front\",\"front\",\"front\",\"front\",\"front\",\"front\",\"front\",\"front\",\"front\",\"rear\",\"rear\",\"rear\",\"front\",\"front\",\"front\",\"front\",\"front\",\"front\",\"front\",\"front\",\"front\",\"front\",\"front\",\"front\",\"front\",\"front\",\"front\",\"front\",\"front\",\"front\",\"front\",\"front\",\"front\",\"front\",\"front\",\"front\",\"front\",\"front\",\"front\",\"front\",\"front\",\"front\",\"front\",\"front\",\"front\",\"front\",\"front\",\"front\",\"front\",\"front\",\"front\",\"front\",\"front\",\"front\",\"front\",\"front\",\"front\",\"front\",\"front\",\"front\",\"front\",\"front\",\"front\",\"front\",\"front\",\"front\",\"front\",\"front\",\"front\",\"front\",\"front\",\"front\",\"front\",\"front\",\"front\",\"front\",\"front\",\"front\",\"front\",\"front\",\"front\",\"front\",\"front\",\"front\",\"front\",\"front\",\"front\",\"front\"],\"engine-size\":[130,130,152,109,136,136,136,136,131,131,108,108,164,164,164,209,209,209,61,90,90,90,90,98,90,90,90,98,122,156,92,92,79,92,92,92,92,110,110,110,110,110,110,111,90,90,119,258,258,326,91,91,91,91,91,70,70,70,80,122,122,122,122,122,122,140,134,183,183,183,183,234,234,308,304,140,92,92,92,98,110,122,156,156,156,122,122,110,110,97,103,97,97,97,97,97,97,97,97,120,120,181,181,181,181,181,181,120,152,120,152,120,152,120,152,120,152,134,90,98,90,90,98,122,156,151,194,194,194,203,132,132,121,121,121,121,121,121,97,108,108,108,108,108,108,108,108,108,108,108,92,92,92,92,92,92,98,98,110,110,98,98,98,98,98,98,98,146,146,146,146,146,146,122,110,122,122,122,171,171,171,161,97,109,97,109,109,97,109,109,109,136,97,109,141,141,141,141,130,130,141,141,173,145,141],\"engine-type\":[\"dohc\",\"dohc\",\"ohcv\",\"ohc\",\"ohc\",\"ohc\",\"ohc\",\"ohc\",\"ohc\",\"ohc\",\"ohc\",\"ohc\",\"ohc\",\"ohc\",\"ohc\",\"ohc\",\"ohc\",\"ohc\",\"l\",\"ohc\",\"ohc\",\"ohc\",\"ohc\",\"ohc\",\"ohc\",\"ohc\",\"ohc\",\"ohc\",\"ohc\",\"ohc\",\"ohc\",\"ohc\",\"ohc\",\"ohc\",\"ohc\",\"ohc\",\"ohc\",\"ohc\",\"ohc\",\"ohc\",\"ohc\",\"ohc\",\"ohc\",\"ohc\",\"ohc\",\"ohc\",\"ohc\",\"dohc\",\"dohc\",\"ohcv\",\"ohc\",\"ohc\",\"ohc\",\"ohc\",\"ohc\",\"rotor\",\"rotor\",\"rotor\",\"rotor\",\"ohc\",\"ohc\",\"ohc\",\"ohc\",\"ohc\",\"ohc\",\"ohc\",\"ohc\",\"ohc\",\"ohc\",\"ohc\",\"ohc\",\"ohcv\",\"ohcv\",\"ohcv\",\"ohcv\",\"ohc\",\"ohc\",\"ohc\",\"ohc\",\"ohc\",\"ohc\",\"ohc\",\"ohc\",\"ohc\",\"ohc\",\"ohc\",\"ohc\",\"ohc\",\"ohc\",\"ohc\",\"ohc\",\"ohc\",\"ohc\",\"ohc\",\"ohc\",\"ohc\",\"ohc\",\"ohc\",\"ohc\",\"ohc\",\"ohc\",\"ohcv\",\"ohcv\",\"ohcv\",\"ohcv\",\"ohcv\",\"ohcv\",\"l\",\"l\",\"l\",\"l\",\"l\",\"l\",\"l\",\"l\",\"l\",\"l\",\"l\",\"ohc\",\"ohc\",\"ohc\",\"ohc\",\"ohc\",\"ohc\",\"ohc\",\"ohc\",\"ohcf\",\"ohcf\",\"ohcf\",\"dohcv\",\"ohc\",\"ohc\",\"ohc\",\"ohc\",\"ohc\",\"ohc\",\"dohc\",\"dohc\",\"ohcf\",\"ohcf\",\"ohcf\",\"ohcf\",\"ohcf\",\"ohcf\",\"ohcf\",\"ohcf\",\"ohcf\",\"ohcf\",\"ohcf\",\"ohcf\",\"ohc\",\"ohc\",\"ohc\",\"ohc\",\"ohc\",\"ohc\",\"ohc\",\"ohc\",\"ohc\",\"ohc\",\"ohc\",\"ohc\",\"ohc\",\"ohc\",\"ohc\",\"dohc\",\"dohc\",\"ohc\",\"ohc\",\"ohc\",\"ohc\",\"ohc\",\"ohc\",\"ohc\",\"ohc\",\"ohc\",\"ohc\",\"ohc\",\"dohc\",\"dohc\",\"dohc\",\"dohc\",\"ohc\",\"ohc\",\"ohc\",\"ohc\",\"ohc\",\"ohc\",\"ohc\",\"ohc\",\"ohc\",\"ohc\",\"ohc\",\"ohc\",\"ohc\",\"ohc\",\"ohc\",\"ohc\",\"ohc\",\"ohc\",\"ohc\",\"ohc\",\"ohcv\",\"ohc\",\"ohc\"],\"fuel-system\":[\"mpfi\",\"mpfi\",\"mpfi\",\"mpfi\",\"mpfi\",\"mpfi\",\"mpfi\",\"mpfi\",\"mpfi\",\"mpfi\",\"mpfi\",\"mpfi\",\"mpfi\",\"mpfi\",\"mpfi\",\"mpfi\",\"mpfi\",\"mpfi\",\"2bbl\",\"2bbl\",\"2bbl\",\"2bbl\",\"2bbl\",\"mpfi\",\"2bbl\",\"2bbl\",\"2bbl\",\"mpfi\",\"2bbl\",\"mfi\",\"1bbl\",\"1bbl\",\"1bbl\",\"1bbl\",\"1bbl\",\"1bbl\",\"1bbl\",\"1bbl\",\"1bbl\",\"1bbl\",\"1bbl\",\"mpfi\",\"2bbl\",\"2bbl\",\"2bbl\",\"2bbl\",\"spfi\",\"mpfi\",\"mpfi\",\"mpfi\",\"2bbl\",\"2bbl\",\"2bbl\",\"2bbl\",\"2bbl\",\"4bbl\",\"4bbl\",\"4bbl\",\"mpfi\",\"2bbl\",\"2bbl\",\"2bbl\",\"2bbl\",\"idi\",\"2bbl\",\"mpfi\",\"idi\",\"idi\",\"idi\",\"idi\",\"idi\",\"mpfi\",\"mpfi\",\"mpfi\",\"mpfi\",\"mpfi\",\"2bbl\",\"2bbl\",\"2bbl\",\"spdi\",\"spdi\",\"2bbl\",\"spdi\",\"spdi\",\"spdi\",\"2bbl\",\"2bbl\",\"spdi\",\"spdi\",\"2bbl\",\"idi\",\"2bbl\",\"2bbl\",\"2bbl\",\"2bbl\",\"2bbl\",\"2bbl\",\"2bbl\",\"2bbl\",\"2bbl\",\"2bbl\",\"mpfi\",\"mpfi\",\"mpfi\",\"mpfi\",\"mpfi\",\"mpfi\",\"mpfi\",\"idi\",\"mpfi\",\"idi\",\"mpfi\",\"idi\",\"mpfi\",\"idi\",\"mpfi\",\"idi\",\"mpfi\",\"2bbl\",\"spdi\",\"2bbl\",\"2bbl\",\"2bbl\",\"2bbl\",\"spdi\",\"mpfi\",\"mpfi\",\"mpfi\",\"mpfi\",\"mpfi\",\"mpfi\",\"mpfi\",\"mpfi\",\"mpfi\",\"mpfi\",\"mpfi\",\"mpfi\",\"mpfi\",\"2bbl\",\"2bbl\",\"2bbl\",\"2bbl\",\"2bbl\",\"mpfi\",\"2bbl\",\"mpfi\",\"2bbl\",\"mpfi\",\"2bbl\",\"mpfi\",\"2bbl\",\"2bbl\",\"2bbl\",\"2bbl\",\"2bbl\",\"2bbl\",\"2bbl\",\"2bbl\",\"idi\",\"idi\",\"2bbl\",\"2bbl\",\"2bbl\",\"2bbl\",\"2bbl\",\"mpfi\",\"mpfi\",\"mpfi\",\"mpfi\",\"mpfi\",\"mpfi\",\"mpfi\",\"mpfi\",\"mpfi\",\"idi\",\"mpfi\",\"mpfi\",\"mpfi\",\"mpfi\",\"mpfi\",\"mpfi\",\"mpfi\",\"idi\",\"mpfi\",\"idi\",\"mpfi\",\"mpfi\",\"idi\",\"mpfi\",\"mpfi\",\"mpfi\",\"mpfi\",\"idi\",\"mpfi\",\"mpfi\",\"mpfi\",\"mpfi\",\"mpfi\",\"mpfi\",\"mpfi\",\"mpfi\",\"mpfi\",\"mpfi\",\"idi\",\"mpfi\"],\"fuel-type\":[\"gas\",\"gas\",\"gas\",\"gas\",\"gas\",\"gas\",\"gas\",\"gas\",\"gas\",\"gas\",\"gas\",\"gas\",\"gas\",\"gas\",\"gas\",\"gas\",\"gas\",\"gas\",\"gas\",\"gas\",\"gas\",\"gas\",\"gas\",\"gas\",\"gas\",\"gas\",\"gas\",\"gas\",\"gas\",\"gas\",\"gas\",\"gas\",\"gas\",\"gas\",\"gas\",\"gas\",\"gas\",\"gas\",\"gas\",\"gas\",\"gas\",\"gas\",\"gas\",\"gas\",\"gas\",\"gas\",\"gas\",\"gas\",\"gas\",\"gas\",\"gas\",\"gas\",\"gas\",\"gas\",\"gas\",\"gas\",\"gas\",\"gas\",\"gas\",\"gas\",\"gas\",\"gas\",\"gas\",\"diesel\",\"gas\",\"gas\",\"diesel\",\"diesel\",\"diesel\",\"diesel\",\"diesel\",\"gas\",\"gas\",\"gas\",\"gas\",\"gas\",\"gas\",\"gas\",\"gas\",\"gas\",\"gas\",\"gas\",\"gas\",\"gas\",\"gas\",\"gas\",\"gas\",\"gas\",\"gas\",\"gas\",\"diesel\",\"gas\",\"gas\",\"gas\",\"gas\",\"gas\",\"gas\",\"gas\",\"gas\",\"gas\",\"gas\",\"gas\",\"gas\",\"gas\",\"gas\",\"gas\",\"gas\",\"gas\",\"diesel\",\"gas\",\"diesel\",\"gas\",\"diesel\",\"gas\",\"diesel\",\"gas\",\"diesel\",\"gas\",\"gas\",\"gas\",\"gas\",\"gas\",\"gas\",\"gas\",\"gas\",\"gas\",\"gas\",\"gas\",\"gas\",\"gas\",\"gas\",\"gas\",\"gas\",\"gas\",\"gas\",\"gas\",\"gas\",\"gas\",\"gas\",\"gas\",\"gas\",\"gas\",\"gas\",\"gas\",\"gas\",\"gas\",\"gas\",\"gas\",\"gas\",\"gas\",\"gas\",\"gas\",\"gas\",\"gas\",\"gas\",\"gas\",\"gas\",\"gas\",\"diesel\",\"diesel\",\"gas\",\"gas\",\"gas\",\"gas\",\"gas\",\"gas\",\"gas\",\"gas\",\"gas\",\"gas\",\"gas\",\"gas\",\"gas\",\"gas\",\"diesel\",\"gas\",\"gas\",\"gas\",\"gas\",\"gas\",\"gas\",\"gas\",\"diesel\",\"gas\",\"diesel\",\"gas\",\"gas\",\"diesel\",\"gas\",\"gas\",\"gas\",\"gas\",\"diesel\",\"gas\",\"gas\",\"gas\",\"gas\",\"gas\",\"gas\",\"gas\",\"gas\",\"gas\",\"gas\",\"diesel\",\"gas\"],\"height\":{\"__ndarray__\":\"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\",\"dtype\":\"float64\",\"order\":\"little\",\"shape\":[205]},\"highway-mpg\":[27,27,26,30,22,25,25,25,20,22,29,29,28,28,25,22,22,20,53,43,43,41,38,30,38,38,38,30,30,24,54,38,42,34,34,34,34,33,33,33,33,28,31,29,43,43,29,19,19,17,31,38,38,38,38,23,23,23,23,32,32,32,32,42,32,27,39,25,25,25,25,18,18,16,16,24,41,38,38,30,30,32,24,24,24,32,32,30,30,37,50,37,37,37,37,37,37,37,37,34,34,22,22,25,25,23,25,24,33,24,25,24,33,24,25,24,33,24,41,30,38,38,38,30,24,27,25,25,25,28,31,31,28,28,28,28,26,26,36,31,31,37,33,32,25,29,32,31,29,23,39,38,38,37,32,32,37,37,36,47,47,34,34,34,34,29,29,30,30,30,30,30,30,34,33,32,32,32,24,24,24,24,46,34,46,34,34,42,32,29,29,24,38,31,28,28,28,28,22,22,28,25,23,27,25],\"horsepower\":[\"111\",\"111\",\"154\",\"102\",\"115\",\"110\",\"110\",\"110\",\"140\",\"160\",\"101\",\"101\",\"121\",\"121\",\"121\",\"182\",\"182\",\"182\",\"48\",\"70\",\"70\",\"68\",\"68\",\"102\",\"68\",\"68\",\"68\",\"102\",\"88\",\"145\",\"58\",\"76\",\"60\",\"76\",\"76\",\"76\",\"76\",\"86\",\"86\",\"86\",\"86\",\"101\",\"100\",\"78\",\"70\",\"70\",\"90\",\"176\",\"176\",\"262\",\"68\",\"68\",\"68\",\"68\",\"68\",\"101\",\"101\",\"101\",\"135\",\"84\",\"84\",\"84\",\"84\",\"64\",\"84\",\"120\",\"72\",\"123\",\"123\",\"123\",\"123\",\"155\",\"155\",\"184\",\"184\",\"175\",\"68\",\"68\",\"68\",\"102\",\"116\",\"88\",\"145\",\"145\",\"145\",\"88\",\"88\",\"116\",\"116\",\"69\",\"55\",\"69\",\"69\",\"69\",\"69\",\"69\",\"69\",\"69\",\"69\",\"97\",\"97\",\"152\",\"152\",\"152\",\"160\",\"200\",\"160\",\"97\",\"95\",\"97\",\"95\",\"95\",\"95\",\"95\",\"95\",\"97\",\"95\",\"142\",\"68\",\"102\",\"68\",\"68\",\"68\",\"88\",\"145\",\"143\",\"207\",\"207\",\"207\",\"288\",\"?\",\"?\",\"110\",\"110\",\"110\",\"110\",\"160\",\"160\",\"69\",\"73\",\"73\",\"82\",\"82\",\"94\",\"82\",\"111\",\"82\",\"94\",\"82\",\"111\",\"62\",\"62\",\"62\",\"62\",\"62\",\"62\",\"70\",\"70\",\"56\",\"56\",\"70\",\"70\",\"70\",\"70\",\"70\",\"112\",\"112\",\"116\",\"116\",\"116\",\"116\",\"116\",\"116\",\"92\",\"73\",\"92\",\"92\",\"92\",\"161\",\"161\",\"156\",\"156\",\"52\",\"85\",\"52\",\"85\",\"85\",\"68\",\"100\",\"90\",\"90\",\"110\",\"68\",\"88\",\"114\",\"114\",\"114\",\"114\",\"162\",\"162\",\"114\",\"160\",\"134\",\"106\",\"114\"],\"index\":[0,1,2,3,4,5,6,7,8,9,10,11,12,13,14,15,16,17,18,19,20,21,22,23,24,25,26,27,28,29,30,31,32,33,34,35,36,37,38,39,40,41,42,43,44,45,46,47,48,49,50,51,52,53,54,55,56,57,58,59,60,61,62,63,64,65,66,67,68,69,70,71,72,73,74,75,76,77,78,79,80,81,82,83,84,85,86,87,88,89,90,91,92,93,94,95,96,97,98,99,100,101,102,103,104,105,106,107,108,109,110,111,112,113,114,115,116,117,118,119,120,121,122,123,124,125,126,127,128,129,130,131,132,133,134,135,136,137,138,139,140,141,142,143,144,145,146,147,148,149,150,151,152,153,154,155,156,157,158,159,160,161,162,163,164,165,166,167,168,169,170,171,172,173,174,175,176,177,178,179,180,181,182,183,184,185,186,187,188,189,190,191,192,193,194,195,196,197,198,199,200,201,202,203,204],\"length\":{\"__ndarray__\":\"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\",\"dtype\":\"float64\",\"order\":\"little\",\"shape\":[205]},\"make\":[\"alfa-romero\",\"alfa-romero\",\"alfa-romero\",\"audi\",\"audi\",\"audi\",\"audi\",\"audi\",\"audi\",\"audi\",\"bmw\",\"bmw\",\"bmw\",\"bmw\",\"bmw\",\"bmw\",\"bmw\",\"bmw\",\"chevrolet\",\"chevrolet\",\"chevrolet\",\"dodge\",\"dodge\",\"dodge\",\"dodge\",\"dodge\",\"dodge\",\"dodge\",\"dodge\",\"dodge\",\"honda\",\"honda\",\"honda\",\"honda\",\"honda\",\"honda\",\"honda\",\"honda\",\"honda\",\"honda\",\"honda\",\"honda\",\"honda\",\"isuzu\",\"isuzu\",\"isuzu\",\"isuzu\",\"jaguar\",\"jaguar\",\"jaguar\",\"mazda\",\"mazda\",\"mazda\",\"mazda\",\"mazda\",\"mazda\",\"mazda\",\"mazda\",\"mazda\",\"mazda\",\"mazda\",\"mazda\",\"mazda\",\"mazda\",\"mazda\",\"mazda\",\"mazda\",\"mercedes-benz\",\"mercedes-benz\",\"mercedes-benz\",\"mercedes-benz\",\"mercedes-benz\",\"mercedes-benz\",\"mercedes-benz\",\"mercedes-benz\",\"mercury\",\"mitsubishi\",\"mitsubishi\",\"mitsubishi\",\"mitsubishi\",\"mitsubishi\",\"mitsubishi\",\"mitsubishi\",\"mitsubishi\",\"mitsubishi\",\"mitsubishi\",\"mitsubishi\",\"mitsubishi\",\"mitsubishi\",\"nissan\",\"nissan\",\"nissan\",\"nissan\",\"nissan\",\"nissan\",\"nissan\",\"nissan\",\"nissan\",\"nissan\",\"nissan\",\"nissan\",\"nissan\",\"nissan\",\"nissan\",\"nissan\",\"nissan\",\"nissan\",\"peugot\",\"peugot\",\"peugot\",\"peugot\",\"peugot\",\"peugot\",\"peugot\",\"peugot\",\"peugot\",\"peugot\",\"peugot\",\"plymouth\",\"plymouth\",\"plymouth\",\"plymouth\",\"plymouth\",\"plymouth\",\"plymouth\",\"porsche\",\"porsche\",\"porsche\",\"porsche\",\"porsche\",\"renault\",\"renault\",\"saab\",\"saab\",\"saab\",\"saab\",\"saab\",\"saab\",\"subaru\",\"subaru\",\"subaru\",\"subaru\",\"subaru\",\"subaru\",\"subaru\",\"subaru\",\"subaru\",\"subaru\",\"subaru\",\"subaru\",\"toyota\",\"toyota\",\"toyota\",\"toyota\",\"toyota\",\"toyota\",\"toyota\",\"toyota\",\"toyota\",\"toyota\",\"toyota\",\"toyota\",\"toyota\",\"toyota\",\"toyota\",\"toyota\",\"toyota\",\"toyota\",\"toyota\",\"toyota\",\"toyota\",\"toyota\",\"toyota\",\"toyota\",\"toyota\",\"toyota\",\"toyota\",\"toyota\",\"toyota\",\"toyota\",\"toyota\",\"toyota\",\"volkswagen\",\"volkswagen\",\"volkswagen\",\"volkswagen\",\"volkswagen\",\"volkswagen\",\"volkswagen\",\"volkswagen\",\"volkswagen\",\"volkswagen\",\"volkswagen\",\"volkswagen\",\"volvo\",\"volvo\",\"volvo\",\"volvo\",\"volvo\",\"volvo\",\"volvo\",\"volvo\",\"volvo\",\"volvo\",\"volvo\"],\"normalized-losses\":[\"?\",\"?\",\"?\",\"164\",\"164\",\"?\",\"158\",\"?\",\"158\",\"?\",\"192\",\"192\",\"188\",\"188\",\"?\",\"?\",\"?\",\"?\",\"121\",\"98\",\"81\",\"118\",\"118\",\"118\",\"148\",\"148\",\"148\",\"148\",\"110\",\"145\",\"137\",\"137\",\"101\",\"101\",\"101\",\"110\",\"78\",\"106\",\"106\",\"85\",\"85\",\"85\",\"107\",\"?\",\"?\",\"?\",\"?\",\"145\",\"?\",\"?\",\"104\",\"104\",\"104\",\"113\",\"113\",\"150\",\"150\",\"150\",\"150\",\"129\",\"115\",\"129\",\"115\",\"?\",\"115\",\"118\",\"?\",\"93\",\"93\",\"93\",\"93\",\"?\",\"142\",\"?\",\"?\",\"?\",\"161\",\"161\",\"161\",\"161\",\"153\",\"153\",\"?\",\"?\",\"?\",\"125\",\"125\",\"125\",\"137\",\"128\",\"128\",\"128\",\"122\",\"103\",\"128\",\"128\",\"122\",\"103\",\"168\",\"106\",\"106\",\"128\",\"108\",\"108\",\"194\",\"194\",\"231\",\"161\",\"161\",\"?\",\"?\",\"161\",\"161\",\"?\",\"?\",\"161\",\"161\",\"161\",\"119\",\"119\",\"154\",\"154\",\"154\",\"74\",\"?\",\"186\",\"?\",\"?\",\"?\",\"?\",\"?\",\"?\",\"150\",\"104\",\"150\",\"104\",\"150\",\"104\",\"83\",\"83\",\"83\",\"102\",\"102\",\"102\",\"102\",\"102\",\"89\",\"89\",\"85\",\"85\",\"87\",\"87\",\"74\",\"77\",\"81\",\"91\",\"91\",\"91\",\"91\",\"91\",\"91\",\"91\",\"91\",\"168\",\"168\",\"168\",\"168\",\"134\",\"134\",\"134\",\"134\",\"134\",\"134\",\"65\",\"65\",\"65\",\"65\",\"65\",\"197\",\"197\",\"90\",\"?\",\"122\",\"122\",\"94\",\"94\",\"94\",\"94\",\"94\",\"?\",\"256\",\"?\",\"?\",\"?\",\"103\",\"74\",\"103\",\"74\",\"103\",\"74\",\"95\",\"95\",\"95\",\"95\",\"95\"],\"num-of-cylinders\":[\"four\",\"four\",\"six\",\"four\",\"five\",\"five\",\"five\",\"five\",\"five\",\"five\",\"four\",\"four\",\"six\",\"six\",\"six\",\"six\",\"six\",\"six\",\"three\",\"four\",\"four\",\"four\",\"four\",\"four\",\"four\",\"four\",\"four\",\"four\",\"four\",\"four\",\"four\",\"four\",\"four\",\"four\",\"four\",\"four\",\"four\",\"four\",\"four\",\"four\",\"four\",\"four\",\"four\",\"four\",\"four\",\"four\",\"four\",\"six\",\"six\",\"twelve\",\"four\",\"four\",\"four\",\"four\",\"four\",\"two\",\"two\",\"two\",\"two\",\"four\",\"four\",\"four\",\"four\",\"four\",\"four\",\"four\",\"four\",\"five\",\"five\",\"five\",\"five\",\"eight\",\"eight\",\"eight\",\"eight\",\"four\",\"four\",\"four\",\"four\",\"four\",\"four\",\"four\",\"four\",\"four\",\"four\",\"four\",\"four\",\"four\",\"four\",\"four\",\"four\",\"four\",\"four\",\"four\",\"four\",\"four\",\"four\",\"four\",\"four\",\"four\",\"four\",\"six\",\"six\",\"six\",\"six\",\"six\",\"six\",\"four\",\"four\",\"four\",\"four\",\"four\",\"four\",\"four\",\"four\",\"four\",\"four\",\"four\",\"four\",\"four\",\"four\",\"four\",\"four\",\"four\",\"four\",\"four\",\"six\",\"six\",\"six\",\"eight\",\"four\",\"four\",\"four\",\"four\",\"four\",\"four\",\"four\",\"four\",\"four\",\"four\",\"four\",\"four\",\"four\",\"four\",\"four\",\"four\",\"four\",\"four\",\"four\",\"four\",\"four\",\"four\",\"four\",\"four\",\"four\",\"four\",\"four\",\"four\",\"four\",\"four\",\"four\",\"four\",\"four\",\"four\",\"four\",\"four\",\"four\",\"four\",\"four\",\"four\",\"four\",\"four\",\"four\",\"four\",\"four\",\"four\",\"four\",\"four\",\"six\",\"six\",\"six\",\"six\",\"four\",\"four\",\"four\",\"four\",\"four\",\"four\",\"four\",\"four\",\"four\",\"five\",\"four\",\"four\",\"four\",\"four\",\"four\",\"four\",\"four\",\"four\",\"four\",\"four\",\"six\",\"six\",\"four\"],\"num-of-doors\":[\"two\",\"two\",\"two\",\"four\",\"four\",\"two\",\"four\",\"four\",\"four\",\"two\",\"two\",\"four\",\"two\",\"four\",\"four\",\"four\",\"two\",\"four\",\"two\",\"two\",\"four\",\"two\",\"two\",\"two\",\"four\",\"four\",\"four\",\"?\",\"four\",\"two\",\"two\",\"two\",\"two\",\"two\",\"two\",\"four\",\"four\",\"two\",\"two\",\"four\",\"four\",\"four\",\"two\",\"four\",\"two\",\"four\",\"two\",\"four\",\"four\",\"two\",\"two\",\"two\",\"two\",\"four\",\"four\",\"two\",\"two\",\"two\",\"two\",\"two\",\"four\",\"two\",\"four\",\"?\",\"four\",\"four\",\"four\",\"four\",\"four\",\"two\",\"four\",\"four\",\"two\",\"four\",\"two\",\"two\",\"two\",\"two\",\"two\",\"two\",\"two\",\"two\",\"two\",\"two\",\"two\",\"four\",\"four\",\"four\",\"four\",\"two\",\"two\",\"two\",\"four\",\"four\",\"two\",\"two\",\"four\",\"four\",\"two\",\"four\",\"four\",\"four\",\"four\",\"four\",\"two\",\"two\",\"two\",\"four\",\"four\",\"four\",\"four\",\"four\",\"four\",\"four\",\"four\",\"four\",\"four\",\"four\",\"two\",\"two\",\"four\",\"four\",\"four\",\"four\",\"two\",\"two\",\"two\",\"two\",\"two\",\"two\",\"four\",\"two\",\"two\",\"four\",\"two\",\"four\",\"two\",\"four\",\"two\",\"two\",\"two\",\"four\",\"four\",\"four\",\"four\",\"four\",\"four\",\"four\",\"four\",\"four\",\"two\",\"two\",\"four\",\"four\",\"four\",\"four\",\"four\",\"four\",\"four\",\"four\",\"four\",\"four\",\"four\",\"two\",\"two\",\"two\",\"two\",\"two\",\"two\",\"two\",\"two\",\"two\",\"two\",\"four\",\"four\",\"four\",\"four\",\"four\",\"two\",\"two\",\"four\",\"four\",\"two\",\"two\",\"four\",\"four\",\"four\",\"four\",\"four\",\"two\",\"two\",\"four\",\"four\",\"four\",\"four\",\"four\",\"four\",\"four\",\"four\",\"four\",\"four\",\"four\",\"four\",\"four\",\"four\"],\"peak-rpm\":[\"5000\",\"5000\",\"5000\",\"5500\",\"5500\",\"5500\",\"5500\",\"5500\",\"5500\",\"5500\",\"5800\",\"5800\",\"4250\",\"4250\",\"4250\",\"5400\",\"5400\",\"5400\",\"5100\",\"5400\",\"5400\",\"5500\",\"5500\",\"5500\",\"5500\",\"5500\",\"5500\",\"5500\",\"5000\",\"5000\",\"4800\",\"6000\",\"5500\",\"6000\",\"6000\",\"6000\",\"6000\",\"5800\",\"5800\",\"5800\",\"5800\",\"5800\",\"5500\",\"4800\",\"5400\",\"5400\",\"5000\",\"4750\",\"4750\",\"5000\",\"5000\",\"5000\",\"5000\",\"5000\",\"5000\",\"6000\",\"6000\",\"6000\",\"6000\",\"4800\",\"4800\",\"4800\",\"4800\",\"4650\",\"4800\",\"5000\",\"4200\",\"4350\",\"4350\",\"4350\",\"4350\",\"4750\",\"4750\",\"4500\",\"4500\",\"5000\",\"5500\",\"5500\",\"5500\",\"5500\",\"5500\",\"5000\",\"5000\",\"5000\",\"5000\",\"5000\",\"5000\",\"5500\",\"5500\",\"5200\",\"4800\",\"5200\",\"5200\",\"5200\",\"5200\",\"5200\",\"5200\",\"5200\",\"5200\",\"5200\",\"5200\",\"5200\",\"5200\",\"5200\",\"5200\",\"5200\",\"5200\",\"5000\",\"4150\",\"5000\",\"4150\",\"5000\",\"4150\",\"5000\",\"4150\",\"5000\",\"4150\",\"5600\",\"5500\",\"5500\",\"5500\",\"5500\",\"5500\",\"5000\",\"5000\",\"5500\",\"5900\",\"5900\",\"5900\",\"5750\",\"?\",\"?\",\"5250\",\"5250\",\"5250\",\"5250\",\"5500\",\"5500\",\"4900\",\"4400\",\"4400\",\"4800\",\"4400\",\"5200\",\"4800\",\"4800\",\"4800\",\"5200\",\"4800\",\"4800\",\"4800\",\"4800\",\"4800\",\"4800\",\"4800\",\"4800\",\"4800\",\"4800\",\"4500\",\"4500\",\"4800\",\"4800\",\"4800\",\"4800\",\"4800\",\"6600\",\"6600\",\"4800\",\"4800\",\"4800\",\"4800\",\"4800\",\"4800\",\"4200\",\"4500\",\"4200\",\"4200\",\"4200\",\"5200\",\"5200\",\"5200\",\"5200\",\"4800\",\"5250\",\"4800\",\"5250\",\"5250\",\"4500\",\"5500\",\"5500\",\"5500\",\"5500\",\"4500\",\"5500\",\"5400\",\"5400\",\"5400\",\"5400\",\"5100\",\"5100\",\"5400\",\"5300\",\"5500\",\"4800\",\"5400\"],\"price\":[\"13495\",\"16500\",\"16500\",\"13950\",\"17450\",\"15250\",\"17710\",\"18920\",\"23875\",\"?\",\"16430\",\"16925\",\"20970\",\"21105\",\"24565\",\"30760\",\"41315\",\"36880\",\"5151\",\"6295\",\"6575\",\"5572\",\"6377\",\"7957\",\"6229\",\"6692\",\"7609\",\"8558\",\"8921\",\"12964\",\"6479\",\"6855\",\"5399\",\"6529\",\"7129\",\"7295\",\"7295\",\"7895\",\"9095\",\"8845\",\"10295\",\"12945\",\"10345\",\"6785\",\"?\",\"?\",\"11048\",\"32250\",\"35550\",\"36000\",\"5195\",\"6095\",\"6795\",\"6695\",\"7395\",\"10945\",\"11845\",\"13645\",\"15645\",\"8845\",\"8495\",\"10595\",\"10245\",\"10795\",\"11245\",\"18280\",\"18344\",\"25552\",\"28248\",\"28176\",\"31600\",\"34184\",\"35056\",\"40960\",\"45400\",\"16503\",\"5389\",\"6189\",\"6669\",\"7689\",\"9959\",\"8499\",\"12629\",\"14869\",\"14489\",\"6989\",\"8189\",\"9279\",\"9279\",\"5499\",\"7099\",\"6649\",\"6849\",\"7349\",\"7299\",\"7799\",\"7499\",\"7999\",\"8249\",\"8949\",\"9549\",\"13499\",\"14399\",\"13499\",\"17199\",\"19699\",\"18399\",\"11900\",\"13200\",\"12440\",\"13860\",\"15580\",\"16900\",\"16695\",\"17075\",\"16630\",\"17950\",\"18150\",\"5572\",\"7957\",\"6229\",\"6692\",\"7609\",\"8921\",\"12764\",\"22018\",\"32528\",\"34028\",\"37028\",\"?\",\"9295\",\"9895\",\"11850\",\"12170\",\"15040\",\"15510\",\"18150\",\"18620\",\"5118\",\"7053\",\"7603\",\"7126\",\"7775\",\"9960\",\"9233\",\"11259\",\"7463\",\"10198\",\"8013\",\"11694\",\"5348\",\"6338\",\"6488\",\"6918\",\"7898\",\"8778\",\"6938\",\"7198\",\"7898\",\"7788\",\"7738\",\"8358\",\"9258\",\"8058\",\"8238\",\"9298\",\"9538\",\"8449\",\"9639\",\"9989\",\"11199\",\"11549\",\"17669\",\"8948\",\"10698\",\"9988\",\"10898\",\"11248\",\"16558\",\"15998\",\"15690\",\"15750\",\"7775\",\"7975\",\"7995\",\"8195\",\"8495\",\"9495\",\"9995\",\"11595\",\"9980\",\"13295\",\"13845\",\"12290\",\"12940\",\"13415\",\"15985\",\"16515\",\"18420\",\"18950\",\"16845\",\"19045\",\"21485\",\"22470\",\"22625\"],\"stroke\":[\"2.68\",\"2.68\",\"3.47\",\"3.4\",\"3.4\",\"3.4\",\"3.4\",\"3.4\",\"3.4\",\"3.4\",\"2.8\",\"2.8\",\"3.19\",\"3.19\",\"3.19\",\"3.39\",\"3.39\",\"3.39\",\"3.03\",\"3.11\",\"3.11\",\"3.23\",\"3.23\",\"3.39\",\"3.23\",\"3.23\",\"3.23\",\"3.39\",\"3.46\",\"3.9\",\"3.41\",\"3.41\",\"3.07\",\"3.41\",\"3.41\",\"3.41\",\"3.41\",\"3.58\",\"3.58\",\"3.58\",\"3.58\",\"3.58\",\"3.58\",\"3.23\",\"3.11\",\"3.11\",\"3.23\",\"4.17\",\"4.17\",\"2.76\",\"3.15\",\"3.15\",\"3.15\",\"3.15\",\"3.15\",\"?\",\"?\",\"?\",\"?\",\"3.39\",\"3.39\",\"3.39\",\"3.39\",\"3.39\",\"3.39\",\"3.16\",\"3.64\",\"3.64\",\"3.64\",\"3.64\",\"3.64\",\"3.1\",\"3.1\",\"3.35\",\"3.35\",\"3.12\",\"3.23\",\"3.23\",\"3.23\",\"3.39\",\"3.46\",\"3.46\",\"3.86\",\"3.86\",\"3.86\",\"3.46\",\"3.46\",\"3.46\",\"3.46\",\"3.29\",\"3.47\",\"3.29\",\"3.29\",\"3.29\",\"3.29\",\"3.29\",\"3.29\",\"3.29\",\"3.29\",\"3.47\",\"3.47\",\"3.27\",\"3.27\",\"3.27\",\"3.27\",\"3.27\",\"3.27\",\"3.19\",\"3.52\",\"3.19\",\"3.52\",\"2.19\",\"3.52\",\"2.19\",\"3.52\",\"3.19\",\"3.52\",\"3.21\",\"3.23\",\"3.39\",\"3.23\",\"3.23\",\"3.23\",\"3.46\",\"3.86\",\"3.11\",\"2.9\",\"2.9\",\"2.9\",\"3.11\",\"3.9\",\"3.9\",\"3.07\",\"3.07\",\"2.07\",\"3.07\",\"3.07\",\"3.07\",\"2.36\",\"2.64\",\"2.64\",\"2.64\",\"2.64\",\"2.64\",\"2.64\",\"2.64\",\"2.64\",\"2.64\",\"2.64\",\"2.64\",\"3.03\",\"3.03\",\"3.03\",\"3.03\",\"3.03\",\"3.03\",\"3.03\",\"3.03\",\"3.35\",\"3.35\",\"3.03\",\"3.03\",\"3.03\",\"3.03\",\"3.03\",\"3.08\",\"3.08\",\"3.5\",\"3.5\",\"3.5\",\"3.5\",\"3.5\",\"3.5\",\"3.54\",\"3.35\",\"3.54\",\"3.54\",\"3.54\",\"3.35\",\"3.35\",\"3.35\",\"3.35\",\"3.4\",\"3.4\",\"3.4\",\"3.4\",\"3.4\",\"3.4\",\"3.4\",\"3.4\",\"3.4\",\"3.4\",\"3.4\",\"3.4\",\"3.15\",\"3.15\",\"3.15\",\"3.15\",\"3.15\",\"3.15\",\"3.15\",\"3.15\",\"2.87\",\"3.4\",\"3.15\"],\"symboling\":[3,3,1,2,2,2,1,1,1,0,2,0,0,0,1,0,0,0,2,1,0,1,1,1,1,1,1,1,-1,3,2,2,1,1,1,0,0,0,0,0,0,0,1,0,1,0,2,0,0,0,1,1,1,1,1,3,3,3,3,1,0,1,0,0,0,0,0,-1,-1,0,-1,-1,3,0,1,1,2,2,2,1,3,3,3,3,3,1,1,1,-1,1,1,1,1,1,1,1,1,1,2,0,0,0,0,0,3,3,1,0,0,0,0,0,0,0,0,0,0,0,1,1,1,1,1,-1,3,3,3,3,3,1,0,2,3,2,3,2,3,2,2,2,2,0,0,0,0,0,0,0,0,0,1,1,1,0,0,0,0,0,0,0,0,0,0,1,1,1,1,2,2,2,2,2,2,-1,-1,-1,-1,-1,3,3,-1,-1,2,2,2,2,2,2,2,3,3,0,0,0,-2,-1,-2,-1,-2,-1,-1,-1,-1,-1,-1],\"wheel-base\":{\"__ndarray__\":\"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\",\"dtype\":\"float64\",\"order\":\"little\",\"shape\":[205]},\"width\":{\"__ndarray__\":\"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\",\"dtype\":\"float64\",\"order\":\"little\",\"shape\":[205]}},\"selected\":{\"id\":\"1390\"},\"selection_policy\":{\"id\":\"1391\"}},\"id\":\"1377\",\"type\":\"ColumnDataSource\"},{\"attributes\":{\"fill_alpha\":{\"value\":0.4},\"fill_color\":{\"field\":\"body-style\",\"transform\":{\"id\":\"1376\"}},\"line_color\":{\"field\":\"body-style\",\"transform\":{\"id\":\"1376\"}},\"marker\":{\"field\":\"body-style\",\"transform\":{\"id\":\"1375\"}},\"size\":{\"value\":12},\"x\":{\"field\":\"engine-size\"},\"y\":{\"field\":\"wheel-base\"}},\"id\":\"1379\",\"type\":\"Scatter\"},{\"attributes\":{\"axis_label\":\"Wheel Base\",\"formatter\":{\"id\":\"1388\"},\"major_label_policy\":{\"id\":\"1389\"},\"ticker\":{\"id\":\"1358\"}},\"id\":\"1357\",\"type\":\"LinearAxis\"},{\"attributes\":{},\"id\":\"1386\",\"type\":\"AllLabels\"},{\"attributes\":{\"label\":{\"field\":\"body-style\"},\"renderers\":[{\"id\":\"1381\"}]},\"id\":\"1394\",\"type\":\"LegendItem\"},{\"attributes\":{},\"id\":\"1366\",\"type\":\"HelpTool\"},{\"attributes\":{},\"id\":\"1358\",\"type\":\"BasicTicker\"},{\"attributes\":{\"active_multi\":null,\"tools\":[{\"id\":\"1361\"},{\"id\":\"1362\"},{\"id\":\"1363\"},{\"id\":\"1364\"},{\"id\":\"1365\"},{\"id\":\"1366\"}]},\"id\":\"1368\",\"type\":\"Toolbar\"},{\"attributes\":{},\"id\":\"1362\",\"type\":\"WheelZoomTool\"},{\"attributes\":{},\"id\":\"1361\",\"type\":\"PanTool\"},{\"attributes\":{},\"id\":\"1364\",\"type\":\"SaveTool\"},{\"attributes\":{\"factors\":[\"sedan\",\"hatchback\",\"Other\"],\"palette\":[\"#1f77b4\",\"#ff7f0e\",\"#2ca02c\"]},\"id\":\"1376\",\"type\":\"CategoricalColorMapper\"},{\"attributes\":{},\"id\":\"1365\",\"type\":\"ResetTool\"},{\"attributes\":{\"source\":{\"id\":\"1377\"}},\"id\":\"1382\",\"type\":\"CDSView\"},{\"attributes\":{\"data_source\":{\"id\":\"1377\"},\"glyph\":{\"id\":\"1379\"},\"hover_glyph\":null,\"muted_glyph\":null,\"nonselection_glyph\":{\"id\":\"1380\"},\"view\":{\"id\":\"1382\"}},\"id\":\"1381\",\"type\":\"GlyphRenderer\"},{\"attributes\":{\"fill_alpha\":{\"value\":0.1},\"fill_color\":{\"field\":\"body-style\",\"transform\":{\"id\":\"1376\"}},\"line_alpha\":{\"value\":0.1},\"line_color\":{\"field\":\"body-style\",\"transform\":{\"id\":\"1376\"}},\"marker\":{\"field\":\"body-style\",\"transform\":{\"id\":\"1375\"}},\"size\":{\"value\":12},\"x\":{\"field\":\"engine-size\"},\"y\":{\"field\":\"wheel-base\"}},\"id\":\"1380\",\"type\":\"Scatter\"},{\"attributes\":{\"text\":\"Automobile Dataset\"},\"id\":\"1343\",\"type\":\"Title\"},{\"attributes\":{\"items\":[{\"id\":\"1394\"}]},\"id\":\"1393\",\"type\":\"Legend\"},{\"attributes\":{},\"id\":\"1345\",\"type\":\"DataRange1d\"},{\"attributes\":{},\"id\":\"1354\",\"type\":\"BasicTicker\"}],\"root_ids\":[\"1342\"]},\"title\":\"Bokeh Application\",\"version\":\"2.3.2\"}};\n",
       "  var render_items = [{\"docid\":\"84428b10-d975-43f3-90b0-c5c627a09d92\",\"root_ids\":[\"1342\"],\"roots\":{\"1342\":\"faf62c7b-569b-412f-b94a-8930e4a2d23e\"}}];\n",
       "  root.Bokeh.embed.embed_items_notebook(docs_json, render_items);\n",
       "\n",
       "  }\n",
       "  if (root.Bokeh !== undefined) {\n",
       "    embed_document(root);\n",
       "  } else {\n",
       "    var attempts = 0;\n",
       "    var timer = setInterval(function(root) {\n",
       "      if (root.Bokeh !== undefined) {\n",
       "        clearInterval(timer);\n",
       "        embed_document(root);\n",
       "      } else {\n",
       "        attempts++;\n",
       "        if (attempts > 100) {\n",
       "          clearInterval(timer);\n",
       "          console.log(\"Bokeh: ERROR: Unable to run BokehJS code because BokehJS library is missing\");\n",
       "        }\n",
       "      }\n",
       "    }, 10, root)\n",
       "  }\n",
       "})(window);"
      ],
      "application/vnd.bokehjs_exec.v0+json": ""
     },
     "metadata": {
      "application/vnd.bokehjs_exec.v0+json": {
       "id": "1342"
      }
     },
     "output_type": "display_data"
    }
   ],
   "source": [
    "from bokeh.transform import factor_cmap, factor_mark\n",
    "BODY_STYLE = ['sedan', 'hatchback', 'Other']\n",
    "MARKERS = ['hex', 'circle_x', 'triangle']\n",
    "\n",
    "p = figure(title = \"Automobile Dataset\")\n",
    "p.xaxis.axis_label = 'Engine Size'\n",
    "p.yaxis.axis_label = 'Wheel Base'\n",
    "\n",
    "p.scatter(\"engine-size\", \"wheel-base\", source=auto_df, legend_field=\"body-style\", fill_alpha=0.4, size=12,\n",
    "          marker=factor_mark('body-style', MARKERS, BODY_STYLE),\n",
    "          color=factor_cmap('body-style', 'Category10_3', BODY_STYLE))\n",
    "\n",
    "show(p)"
   ]
  },
  {
   "cell_type": "markdown",
   "id": "83af2fce",
   "metadata": {},
   "source": [
    "## Filtering Data\n",
    "With the help of BOKEH,we can filter our data as per our requirements.To plot a certain subset of data,we create a CDSView and pass it as a view argument to renderer adding methods.\n",
    "\n",
    "The CDSView has two properties, source and filters. source is the ColumnDataSource that the view is associated with. filters is a list of Filter objects, listed and described below.\n",
    "\n",
    "* **IndexFilter:** The IndexFilter is the simplest filter type. It has an indices property which is a list of integers that are the indices of the data you want to be included in the plot.\n",
    "\n",
    "* **BooleanFilter:** A BooleanFilter selects rows from a data source through a list of True or False values in its booleans property\n",
    "\n",
    "* **GroupFilter:** The GroupFilter allows you to select rows from a dataset that have a specific value for a categorical variable. The GroupFilter has two properties, column_name, the name of column in the ColumnDataSource, and group, the value of the column to select for."
   ]
  },
  {
   "cell_type": "markdown",
   "id": "39cd737a",
   "metadata": {},
   "source": [
    "**IndexFilter Example**"
   ]
  },
  {
   "cell_type": "code",
   "execution_count": 8,
   "id": "04d07ebb",
   "metadata": {},
   "outputs": [
    {
     "data": {
      "text/html": [
       "\n",
       "\n",
       "\n",
       "\n",
       "\n",
       "\n",
       "  <div class=\"bk-root\" id=\"65401460-6384-4f01-bd3a-bf9bf4618220\" data-root-id=\"1579\"></div>\n"
      ]
     },
     "metadata": {},
     "output_type": "display_data"
    },
    {
     "data": {
      "application/javascript": [
       "(function(root) {\n",
       "  function embed_document(root) {\n",
       "    \n",
       "  var docs_json = {\"99ba4132-fbe3-4272-bf82-0ca16a079efb\":{\"defs\":[],\"roots\":{\"references\":[{\"attributes\":{\"children\":[{\"id\":\"1578\"},{\"id\":\"1576\"}]},\"id\":\"1579\",\"type\":\"Column\"},{\"attributes\":{\"source\":{\"id\":\"1488\"}},\"id\":\"1521\",\"type\":\"CDSView\"},{\"attributes\":{},\"id\":\"1567\",\"type\":\"BasicTickFormatter\"},{\"attributes\":{\"indices\":[70,90,110,130]},\"id\":\"1489\",\"type\":\"IndexFilter\"},{\"attributes\":{\"active_multi\":null,\"tools\":[{\"id\":\"1539\"},{\"id\":\"1540\"},{\"id\":\"1541\"}]},\"id\":\"1543\",\"type\":\"Toolbar\"},{\"attributes\":{},\"id\":\"1568\",\"type\":\"AllLabels\"},{\"attributes\":{\"data_source\":{\"id\":\"1488\"},\"glyph\":{\"id\":\"1517\"},\"hover_glyph\":{\"id\":\"1519\"},\"muted_glyph\":null,\"nonselection_glyph\":{\"id\":\"1518\"},\"view\":{\"id\":\"1521\"}},\"id\":\"1520\",\"type\":\"GlyphRenderer\"},{\"attributes\":{\"fill_color\":{\"value\":\"red\"},\"line_color\":{\"value\":\"red\"},\"size\":{\"value\":10},\"x\":{\"field\":\"engine-size\"},\"y\":{\"field\":\"wheel-base\"}},\"id\":\"1550\",\"type\":\"Circle\"},{\"attributes\":{\"filters\":[{\"id\":\"1489\"}],\"source\":{\"id\":\"1488\"}},\"id\":\"1490\",\"type\":\"CDSView\"},{\"attributes\":{\"active_multi\":null,\"tools\":[{\"id\":\"1508\"},{\"id\":\"1509\"},{\"id\":\"1510\"}]},\"id\":\"1512\",\"type\":\"Toolbar\"},{\"attributes\":{},\"id\":\"1570\",\"type\":\"BasicTickFormatter\"},{\"attributes\":{\"callback\":null},\"id\":\"1540\",\"type\":\"HoverTool\"},{\"attributes\":{},\"id\":\"1571\",\"type\":\"AllLabels\"},{\"attributes\":{},\"id\":\"1561\",\"type\":\"UnionRenderers\"},{\"attributes\":{\"below\":[{\"id\":\"1531\"}],\"center\":[{\"id\":\"1534\"},{\"id\":\"1538\"}],\"height\":300,\"left\":[{\"id\":\"1535\"}],\"renderers\":[{\"id\":\"1551\"}],\"title\":{\"id\":\"1564\"},\"toolbar\":{\"id\":\"1543\"},\"toolbar_location\":null,\"width\":300,\"x_range\":{\"id\":\"1523\"},\"x_scale\":{\"id\":\"1527\"},\"y_range\":{\"id\":\"1525\"},\"y_scale\":{\"id\":\"1529\"}},\"id\":\"1522\",\"subtype\":\"Figure\",\"type\":\"Plot\"},{\"attributes\":{\"bottom_units\":\"screen\",\"fill_alpha\":0.5,\"fill_color\":\"lightgrey\",\"left_units\":\"screen\",\"level\":\"overlay\",\"line_alpha\":1.0,\"line_color\":\"black\",\"line_dash\":[4,4],\"line_width\":2,\"right_units\":\"screen\",\"syncable\":false,\"top_units\":\"screen\"},\"id\":\"1511\",\"type\":\"BoxAnnotation\"},{\"attributes\":{\"data\":{\"aspiration\":[\"std\",\"std\",\"std\",\"std\",\"std\",\"std\",\"std\",\"std\",\"turbo\",\"turbo\",\"std\",\"std\",\"std\",\"std\",\"std\",\"std\",\"std\",\"std\",\"std\",\"std\",\"std\",\"std\",\"std\",\"turbo\",\"std\",\"std\",\"std\",\"turbo\",\"std\",\"turbo\",\"std\",\"std\",\"std\",\"std\",\"std\",\"std\",\"std\",\"std\",\"std\",\"std\",\"std\",\"std\",\"std\",\"std\",\"std\",\"std\",\"std\",\"std\",\"std\",\"std\",\"std\",\"std\",\"std\",\"std\",\"std\",\"std\",\"std\",\"std\",\"std\",\"std\",\"std\",\"std\",\"std\",\"std\",\"std\",\"std\",\"std\",\"turbo\",\"turbo\",\"turbo\",\"turbo\",\"std\",\"std\",\"std\",\"std\",\"turbo\",\"std\",\"std\",\"std\",\"turbo\",\"turbo\",\"std\",\"turbo\",\"turbo\",\"turbo\",\"std\",\"std\",\"turbo\",\"std\",\"std\",\"std\",\"std\",\"std\",\"std\",\"std\",\"std\",\"std\",\"std\",\"std\",\"std\",\"std\",\"std\",\"std\",\"std\",\"std\",\"turbo\",\"std\",\"std\",\"turbo\",\"std\",\"turbo\",\"std\",\"turbo\",\"std\",\"turbo\",\"std\",\"turbo\",\"turbo\",\"std\",\"turbo\",\"std\",\"std\",\"std\",\"std\",\"turbo\",\"std\",\"std\",\"std\",\"std\",\"std\",\"std\",\"std\",\"std\",\"std\",\"std\",\"std\",\"turbo\",\"turbo\",\"std\",\"std\",\"std\",\"std\",\"std\",\"std\",\"std\",\"turbo\",\"std\",\"std\",\"std\",\"turbo\",\"std\",\"std\",\"std\",\"std\",\"std\",\"std\",\"std\",\"std\",\"std\",\"std\",\"std\",\"std\",\"std\",\"std\",\"std\",\"std\",\"std\",\"std\",\"std\",\"std\",\"std\",\"std\",\"std\",\"std\",\"turbo\",\"std\",\"std\",\"std\",\"std\",\"std\",\"std\",\"std\",\"std\",\"std\",\"std\",\"std\",\"std\",\"turbo\",\"std\",\"std\",\"std\",\"std\",\"turbo\",\"std\",\"std\",\"std\",\"std\",\"std\",\"turbo\",\"turbo\",\"std\",\"turbo\",\"std\",\"turbo\",\"turbo\"],\"body-style\":[\"convertible\",\"convertible\",\"hatchback\",\"sedan\",\"sedan\",\"sedan\",\"sedan\",\"wagon\",\"sedan\",\"hatchback\",\"sedan\",\"sedan\",\"sedan\",\"sedan\",\"sedan\",\"sedan\",\"sedan\",\"sedan\",\"hatchback\",\"hatchback\",\"sedan\",\"hatchback\",\"hatchback\",\"hatchback\",\"hatchback\",\"sedan\",\"sedan\",\"sedan\",\"wagon\",\"hatchback\",\"hatchback\",\"hatchback\",\"hatchback\",\"hatchback\",\"hatchback\",\"sedan\",\"wagon\",\"hatchback\",\"hatchback\",\"sedan\",\"sedan\",\"sedan\",\"sedan\",\"sedan\",\"sedan\",\"sedan\",\"hatchback\",\"sedan\",\"sedan\",\"sedan\",\"hatchback\",\"hatchback\",\"hatchback\",\"sedan\",\"sedan\",\"hatchback\",\"hatchback\",\"hatchback\",\"hatchback\",\"hatchback\",\"sedan\",\"hatchback\",\"sedan\",\"sedan\",\"hatchback\",\"sedan\",\"sedan\",\"sedan\",\"wagon\",\"hardtop\",\"sedan\",\"sedan\",\"convertible\",\"sedan\",\"hardtop\",\"hatchback\",\"hatchback\",\"hatchback\",\"hatchback\",\"hatchback\",\"hatchback\",\"hatchback\",\"hatchback\",\"hatchback\",\"hatchback\",\"sedan\",\"sedan\",\"sedan\",\"sedan\",\"sedan\",\"sedan\",\"sedan\",\"sedan\",\"wagon\",\"sedan\",\"hatchback\",\"sedan\",\"wagon\",\"hardtop\",\"hatchback\",\"sedan\",\"sedan\",\"wagon\",\"sedan\",\"hatchback\",\"hatchback\",\"hatchback\",\"sedan\",\"sedan\",\"wagon\",\"wagon\",\"sedan\",\"sedan\",\"wagon\",\"wagon\",\"sedan\",\"sedan\",\"sedan\",\"hatchback\",\"hatchback\",\"hatchback\",\"sedan\",\"sedan\",\"wagon\",\"hatchback\",\"hatchback\",\"hardtop\",\"hardtop\",\"convertible\",\"hatchback\",\"wagon\",\"hatchback\",\"hatchback\",\"sedan\",\"hatchback\",\"sedan\",\"hatchback\",\"sedan\",\"hatchback\",\"hatchback\",\"hatchback\",\"sedan\",\"sedan\",\"sedan\",\"sedan\",\"sedan\",\"wagon\",\"wagon\",\"wagon\",\"wagon\",\"hatchback\",\"hatchback\",\"hatchback\",\"wagon\",\"wagon\",\"wagon\",\"sedan\",\"hatchback\",\"sedan\",\"hatchback\",\"sedan\",\"hatchback\",\"sedan\",\"sedan\",\"hatchback\",\"sedan\",\"hatchback\",\"hardtop\",\"hardtop\",\"hatchback\",\"hardtop\",\"hatchback\",\"convertible\",\"sedan\",\"sedan\",\"hatchback\",\"sedan\",\"hatchback\",\"hatchback\",\"hatchback\",\"sedan\",\"wagon\",\"sedan\",\"sedan\",\"sedan\",\"sedan\",\"sedan\",\"sedan\",\"sedan\",\"convertible\",\"hatchback\",\"sedan\",\"sedan\",\"wagon\",\"sedan\",\"wagon\",\"sedan\",\"wagon\",\"sedan\",\"wagon\",\"sedan\",\"sedan\",\"sedan\",\"sedan\",\"sedan\"],\"bore\":[\"3.47\",\"3.47\",\"2.68\",\"3.19\",\"3.19\",\"3.19\",\"3.19\",\"3.19\",\"3.13\",\"3.13\",\"3.5\",\"3.5\",\"3.31\",\"3.31\",\"3.31\",\"3.62\",\"3.62\",\"3.62\",\"2.91\",\"3.03\",\"3.03\",\"2.97\",\"2.97\",\"3.03\",\"2.97\",\"2.97\",\"2.97\",\"3.03\",\"3.34\",\"3.6\",\"2.91\",\"2.91\",\"2.91\",\"2.91\",\"2.91\",\"2.91\",\"2.92\",\"3.15\",\"3.15\",\"3.15\",\"3.15\",\"3.15\",\"3.15\",\"3.31\",\"3.03\",\"3.03\",\"3.43\",\"3.63\",\"3.63\",\"3.54\",\"3.03\",\"3.03\",\"3.03\",\"3.03\",\"3.08\",\"?\",\"?\",\"?\",\"?\",\"3.39\",\"3.39\",\"3.39\",\"3.39\",\"3.39\",\"3.39\",\"3.76\",\"3.43\",\"3.58\",\"3.58\",\"3.58\",\"3.58\",\"3.46\",\"3.46\",\"3.8\",\"3.8\",\"3.78\",\"2.97\",\"2.97\",\"2.97\",\"3.03\",\"3.17\",\"3.35\",\"3.58\",\"3.59\",\"3.59\",\"3.35\",\"3.35\",\"3.17\",\"3.17\",\"3.15\",\"2.99\",\"3.15\",\"3.15\",\"3.15\",\"3.15\",\"3.15\",\"3.15\",\"3.15\",\"3.15\",\"3.33\",\"3.33\",\"3.43\",\"3.43\",\"3.43\",\"3.43\",\"3.43\",\"3.43\",\"3.46\",\"3.7\",\"3.46\",\"3.7\",\"3.46\",\"3.7\",\"3.46\",\"3.7\",\"3.46\",\"3.7\",\"3.61\",\"2.97\",\"3.03\",\"2.97\",\"2.97\",\"2.97\",\"3.35\",\"3.59\",\"3.94\",\"3.74\",\"3.74\",\"3.74\",\"3.94\",\"3.46\",\"3.46\",\"3.54\",\"3.54\",\"2.54\",\"3.54\",\"3.54\",\"3.54\",\"3.62\",\"3.62\",\"3.62\",\"3.62\",\"3.62\",\"3.62\",\"3.62\",\"3.62\",\"3.62\",\"3.62\",\"3.62\",\"3.62\",\"3.05\",\"3.05\",\"3.05\",\"3.05\",\"3.05\",\"3.05\",\"3.19\",\"3.19\",\"3.27\",\"3.27\",\"3.19\",\"3.19\",\"3.19\",\"3.19\",\"3.19\",\"3.24\",\"3.24\",\"3.62\",\"3.62\",\"3.62\",\"3.62\",\"3.62\",\"3.62\",\"3.31\",\"3.27\",\"3.31\",\"3.31\",\"3.31\",\"3.27\",\"3.27\",\"3.27\",\"3.27\",\"3.01\",\"3.19\",\"3.01\",\"3.19\",\"3.19\",\"3.01\",\"3.19\",\"3.19\",\"3.19\",\"3.19\",\"3.01\",\"3.19\",\"3.78\",\"3.78\",\"3.78\",\"3.78\",\"3.62\",\"3.62\",\"3.78\",\"3.78\",\"3.58\",\"3.01\",\"3.78\"],\"city-mpg\":[21,21,19,24,18,19,19,19,17,16,23,23,21,21,20,16,16,15,47,38,38,37,31,24,31,31,31,24,24,19,49,31,38,30,30,30,30,27,27,27,27,24,25,24,38,38,24,15,15,13,30,31,31,31,31,17,17,17,16,26,26,26,26,36,26,19,31,22,22,22,22,16,16,14,14,19,37,31,31,24,23,25,19,19,19,25,25,23,23,31,45,31,31,31,31,31,31,31,31,27,27,17,17,19,19,17,19,19,28,19,25,19,28,19,25,19,28,18,37,24,31,31,31,24,19,19,17,17,17,17,23,23,21,21,21,21,19,19,31,26,26,32,28,26,24,24,28,25,23,23,35,31,31,31,27,27,30,30,34,38,38,28,28,29,29,26,26,24,24,24,24,24,24,29,30,27,27,27,20,19,20,19,37,27,37,27,27,37,26,24,24,19,33,25,23,23,24,24,17,17,23,19,18,26,19],\"compression-ratio\":{\"__ndarray__\":\"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\",\"dtype\":\"float64\",\"order\":\"little\",\"shape\":[205]},\"curb-weight\":[2548,2548,2823,2337,2824,2507,2844,2954,3086,3053,2395,2395,2710,2765,3055,3230,3380,3505,1488,1874,1909,1876,1876,2128,1967,1989,1989,2191,2535,2811,1713,1819,1837,1940,1956,2010,2024,2236,2289,2304,2372,2465,2293,2337,1874,1909,2734,4066,4066,3950,1890,1900,1905,1945,1950,2380,2380,2385,2500,2385,2410,2385,2410,2443,2425,2670,2700,3515,3750,3495,3770,3740,3685,3900,3715,2910,1918,1944,2004,2145,2370,2328,2833,2921,2926,2365,2405,2403,2403,1889,2017,1918,1938,2024,1951,2028,1971,2037,2008,2324,2302,3095,3296,3060,3071,3139,3139,3020,3197,3230,3430,3075,3252,3285,3485,3075,3252,3130,1918,2128,1967,1989,2191,2535,2818,2778,2756,2756,2800,3366,2579,2460,2658,2695,2707,2758,2808,2847,2050,2120,2240,2145,2190,2340,2385,2510,2290,2455,2420,2650,1985,2040,2015,2280,2290,3110,2081,2109,2275,2275,2094,2122,2140,2169,2204,2265,2300,2540,2536,2551,2679,2714,2975,2326,2480,2414,2414,2458,2976,3016,3131,3151,2261,2209,2264,2212,2275,2319,2300,2254,2221,2661,2579,2563,2912,3034,2935,3042,3045,3157,2952,3049,3012,3217,3062],\"drive-wheels\":[\"rwd\",\"rwd\",\"rwd\",\"fwd\",\"4wd\",\"fwd\",\"fwd\",\"fwd\",\"fwd\",\"4wd\",\"rwd\",\"rwd\",\"rwd\",\"rwd\",\"rwd\",\"rwd\",\"rwd\",\"rwd\",\"fwd\",\"fwd\",\"fwd\",\"fwd\",\"fwd\",\"fwd\",\"fwd\",\"fwd\",\"fwd\",\"fwd\",\"fwd\",\"fwd\",\"fwd\",\"fwd\",\"fwd\",\"fwd\",\"fwd\",\"fwd\",\"fwd\",\"fwd\",\"fwd\",\"fwd\",\"fwd\",\"fwd\",\"fwd\",\"rwd\",\"fwd\",\"fwd\",\"rwd\",\"rwd\",\"rwd\",\"rwd\",\"fwd\",\"fwd\",\"fwd\",\"fwd\",\"fwd\",\"rwd\",\"rwd\",\"rwd\",\"rwd\",\"fwd\",\"fwd\",\"fwd\",\"fwd\",\"fwd\",\"fwd\",\"rwd\",\"rwd\",\"rwd\",\"rwd\",\"rwd\",\"rwd\",\"rwd\",\"rwd\",\"rwd\",\"rwd\",\"rwd\",\"fwd\",\"fwd\",\"fwd\",\"fwd\",\"fwd\",\"fwd\",\"fwd\",\"fwd\",\"fwd\",\"fwd\",\"fwd\",\"fwd\",\"fwd\",\"fwd\",\"fwd\",\"fwd\",\"fwd\",\"fwd\",\"fwd\",\"fwd\",\"fwd\",\"fwd\",\"fwd\",\"fwd\",\"fwd\",\"fwd\",\"fwd\",\"fwd\",\"rwd\",\"rwd\",\"rwd\",\"rwd\",\"rwd\",\"rwd\",\"rwd\",\"rwd\",\"rwd\",\"rwd\",\"rwd\",\"rwd\",\"rwd\",\"rwd\",\"fwd\",\"fwd\",\"fwd\",\"fwd\",\"fwd\",\"fwd\",\"rwd\",\"rwd\",\"rwd\",\"rwd\",\"rwd\",\"rwd\",\"fwd\",\"fwd\",\"fwd\",\"fwd\",\"fwd\",\"fwd\",\"fwd\",\"fwd\",\"fwd\",\"fwd\",\"4wd\",\"fwd\",\"fwd\",\"fwd\",\"4wd\",\"4wd\",\"fwd\",\"fwd\",\"4wd\",\"4wd\",\"fwd\",\"fwd\",\"fwd\",\"fwd\",\"4wd\",\"4wd\",\"fwd\",\"fwd\",\"fwd\",\"fwd\",\"fwd\",\"fwd\",\"fwd\",\"rwd\",\"rwd\",\"rwd\",\"rwd\",\"rwd\",\"rwd\",\"rwd\",\"rwd\",\"rwd\",\"rwd\",\"fwd\",\"fwd\",\"fwd\",\"fwd\",\"fwd\",\"rwd\",\"rwd\",\"rwd\",\"rwd\",\"fwd\",\"fwd\",\"fwd\",\"fwd\",\"fwd\",\"fwd\",\"fwd\",\"fwd\",\"fwd\",\"fwd\",\"fwd\",\"fwd\",\"rwd\",\"rwd\",\"rwd\",\"rwd\",\"rwd\",\"rwd\",\"rwd\",\"rwd\",\"rwd\",\"rwd\",\"rwd\"],\"engine-location\":[\"front\",\"front\",\"front\",\"front\",\"front\",\"front\",\"front\",\"front\",\"front\",\"front\",\"front\",\"front\",\"front\",\"front\",\"front\",\"front\",\"front\",\"front\",\"front\",\"front\",\"front\",\"front\",\"front\",\"front\",\"front\",\"front\",\"front\",\"front\",\"front\",\"front\",\"front\",\"front\",\"front\",\"front\",\"front\",\"front\",\"front\",\"front\",\"front\",\"front\",\"front\",\"front\",\"front\",\"front\",\"front\",\"front\",\"front\",\"front\",\"front\",\"front\",\"front\",\"front\",\"front\",\"front\",\"front\",\"front\",\"front\",\"front\",\"front\",\"front\",\"front\",\"front\",\"front\",\"front\",\"front\",\"front\",\"front\",\"front\",\"front\",\"front\",\"front\",\"front\",\"front\",\"front\",\"front\",\"front\",\"front\",\"front\",\"front\",\"front\",\"front\",\"front\",\"front\",\"front\",\"front\",\"front\",\"front\",\"front\",\"front\",\"front\",\"front\",\"front\",\"front\",\"front\",\"front\",\"front\",\"front\",\"front\",\"front\",\"front\",\"front\",\"front\",\"front\",\"front\",\"front\",\"front\",\"front\",\"front\",\"front\",\"front\",\"front\",\"front\",\"front\",\"front\",\"front\",\"front\",\"front\",\"front\",\"front\",\"front\",\"front\",\"front\",\"front\",\"front\",\"front\",\"front\",\"rear\",\"rear\",\"rear\",\"front\",\"front\",\"front\",\"front\",\"front\",\"front\",\"front\",\"front\",\"front\",\"front\",\"front\",\"front\",\"front\",\"front\",\"front\",\"front\",\"front\",\"front\",\"front\",\"front\",\"front\",\"front\",\"front\",\"front\",\"front\",\"front\",\"front\",\"front\",\"front\",\"front\",\"front\",\"front\",\"front\",\"front\",\"front\",\"front\",\"front\",\"front\",\"front\",\"front\",\"front\",\"front\",\"front\",\"front\",\"front\",\"front\",\"front\",\"front\",\"front\",\"front\",\"front\",\"front\",\"front\",\"front\",\"front\",\"front\",\"front\",\"front\",\"front\",\"front\",\"front\",\"front\",\"front\",\"front\",\"front\",\"front\",\"front\",\"front\",\"front\",\"front\",\"front\",\"front\",\"front\",\"front\",\"front\",\"front\"],\"engine-size\":[130,130,152,109,136,136,136,136,131,131,108,108,164,164,164,209,209,209,61,90,90,90,90,98,90,90,90,98,122,156,92,92,79,92,92,92,92,110,110,110,110,110,110,111,90,90,119,258,258,326,91,91,91,91,91,70,70,70,80,122,122,122,122,122,122,140,134,183,183,183,183,234,234,308,304,140,92,92,92,98,110,122,156,156,156,122,122,110,110,97,103,97,97,97,97,97,97,97,97,120,120,181,181,181,181,181,181,120,152,120,152,120,152,120,152,120,152,134,90,98,90,90,98,122,156,151,194,194,194,203,132,132,121,121,121,121,121,121,97,108,108,108,108,108,108,108,108,108,108,108,92,92,92,92,92,92,98,98,110,110,98,98,98,98,98,98,98,146,146,146,146,146,146,122,110,122,122,122,171,171,171,161,97,109,97,109,109,97,109,109,109,136,97,109,141,141,141,141,130,130,141,141,173,145,141],\"engine-type\":[\"dohc\",\"dohc\",\"ohcv\",\"ohc\",\"ohc\",\"ohc\",\"ohc\",\"ohc\",\"ohc\",\"ohc\",\"ohc\",\"ohc\",\"ohc\",\"ohc\",\"ohc\",\"ohc\",\"ohc\",\"ohc\",\"l\",\"ohc\",\"ohc\",\"ohc\",\"ohc\",\"ohc\",\"ohc\",\"ohc\",\"ohc\",\"ohc\",\"ohc\",\"ohc\",\"ohc\",\"ohc\",\"ohc\",\"ohc\",\"ohc\",\"ohc\",\"ohc\",\"ohc\",\"ohc\",\"ohc\",\"ohc\",\"ohc\",\"ohc\",\"ohc\",\"ohc\",\"ohc\",\"ohc\",\"dohc\",\"dohc\",\"ohcv\",\"ohc\",\"ohc\",\"ohc\",\"ohc\",\"ohc\",\"rotor\",\"rotor\",\"rotor\",\"rotor\",\"ohc\",\"ohc\",\"ohc\",\"ohc\",\"ohc\",\"ohc\",\"ohc\",\"ohc\",\"ohc\",\"ohc\",\"ohc\",\"ohc\",\"ohcv\",\"ohcv\",\"ohcv\",\"ohcv\",\"ohc\",\"ohc\",\"ohc\",\"ohc\",\"ohc\",\"ohc\",\"ohc\",\"ohc\",\"ohc\",\"ohc\",\"ohc\",\"ohc\",\"ohc\",\"ohc\",\"ohc\",\"ohc\",\"ohc\",\"ohc\",\"ohc\",\"ohc\",\"ohc\",\"ohc\",\"ohc\",\"ohc\",\"ohc\",\"ohc\",\"ohcv\",\"ohcv\",\"ohcv\",\"ohcv\",\"ohcv\",\"ohcv\",\"l\",\"l\",\"l\",\"l\",\"l\",\"l\",\"l\",\"l\",\"l\",\"l\",\"l\",\"ohc\",\"ohc\",\"ohc\",\"ohc\",\"ohc\",\"ohc\",\"ohc\",\"ohc\",\"ohcf\",\"ohcf\",\"ohcf\",\"dohcv\",\"ohc\",\"ohc\",\"ohc\",\"ohc\",\"ohc\",\"ohc\",\"dohc\",\"dohc\",\"ohcf\",\"ohcf\",\"ohcf\",\"ohcf\",\"ohcf\",\"ohcf\",\"ohcf\",\"ohcf\",\"ohcf\",\"ohcf\",\"ohcf\",\"ohcf\",\"ohc\",\"ohc\",\"ohc\",\"ohc\",\"ohc\",\"ohc\",\"ohc\",\"ohc\",\"ohc\",\"ohc\",\"ohc\",\"ohc\",\"ohc\",\"ohc\",\"ohc\",\"dohc\",\"dohc\",\"ohc\",\"ohc\",\"ohc\",\"ohc\",\"ohc\",\"ohc\",\"ohc\",\"ohc\",\"ohc\",\"ohc\",\"ohc\",\"dohc\",\"dohc\",\"dohc\",\"dohc\",\"ohc\",\"ohc\",\"ohc\",\"ohc\",\"ohc\",\"ohc\",\"ohc\",\"ohc\",\"ohc\",\"ohc\",\"ohc\",\"ohc\",\"ohc\",\"ohc\",\"ohc\",\"ohc\",\"ohc\",\"ohc\",\"ohc\",\"ohc\",\"ohcv\",\"ohc\",\"ohc\"],\"fuel-system\":[\"mpfi\",\"mpfi\",\"mpfi\",\"mpfi\",\"mpfi\",\"mpfi\",\"mpfi\",\"mpfi\",\"mpfi\",\"mpfi\",\"mpfi\",\"mpfi\",\"mpfi\",\"mpfi\",\"mpfi\",\"mpfi\",\"mpfi\",\"mpfi\",\"2bbl\",\"2bbl\",\"2bbl\",\"2bbl\",\"2bbl\",\"mpfi\",\"2bbl\",\"2bbl\",\"2bbl\",\"mpfi\",\"2bbl\",\"mfi\",\"1bbl\",\"1bbl\",\"1bbl\",\"1bbl\",\"1bbl\",\"1bbl\",\"1bbl\",\"1bbl\",\"1bbl\",\"1bbl\",\"1bbl\",\"mpfi\",\"2bbl\",\"2bbl\",\"2bbl\",\"2bbl\",\"spfi\",\"mpfi\",\"mpfi\",\"mpfi\",\"2bbl\",\"2bbl\",\"2bbl\",\"2bbl\",\"2bbl\",\"4bbl\",\"4bbl\",\"4bbl\",\"mpfi\",\"2bbl\",\"2bbl\",\"2bbl\",\"2bbl\",\"idi\",\"2bbl\",\"mpfi\",\"idi\",\"idi\",\"idi\",\"idi\",\"idi\",\"mpfi\",\"mpfi\",\"mpfi\",\"mpfi\",\"mpfi\",\"2bbl\",\"2bbl\",\"2bbl\",\"spdi\",\"spdi\",\"2bbl\",\"spdi\",\"spdi\",\"spdi\",\"2bbl\",\"2bbl\",\"spdi\",\"spdi\",\"2bbl\",\"idi\",\"2bbl\",\"2bbl\",\"2bbl\",\"2bbl\",\"2bbl\",\"2bbl\",\"2bbl\",\"2bbl\",\"2bbl\",\"2bbl\",\"mpfi\",\"mpfi\",\"mpfi\",\"mpfi\",\"mpfi\",\"mpfi\",\"mpfi\",\"idi\",\"mpfi\",\"idi\",\"mpfi\",\"idi\",\"mpfi\",\"idi\",\"mpfi\",\"idi\",\"mpfi\",\"2bbl\",\"spdi\",\"2bbl\",\"2bbl\",\"2bbl\",\"2bbl\",\"spdi\",\"mpfi\",\"mpfi\",\"mpfi\",\"mpfi\",\"mpfi\",\"mpfi\",\"mpfi\",\"mpfi\",\"mpfi\",\"mpfi\",\"mpfi\",\"mpfi\",\"mpfi\",\"2bbl\",\"2bbl\",\"2bbl\",\"2bbl\",\"2bbl\",\"mpfi\",\"2bbl\",\"mpfi\",\"2bbl\",\"mpfi\",\"2bbl\",\"mpfi\",\"2bbl\",\"2bbl\",\"2bbl\",\"2bbl\",\"2bbl\",\"2bbl\",\"2bbl\",\"2bbl\",\"idi\",\"idi\",\"2bbl\",\"2bbl\",\"2bbl\",\"2bbl\",\"2bbl\",\"mpfi\",\"mpfi\",\"mpfi\",\"mpfi\",\"mpfi\",\"mpfi\",\"mpfi\",\"mpfi\",\"mpfi\",\"idi\",\"mpfi\",\"mpfi\",\"mpfi\",\"mpfi\",\"mpfi\",\"mpfi\",\"mpfi\",\"idi\",\"mpfi\",\"idi\",\"mpfi\",\"mpfi\",\"idi\",\"mpfi\",\"mpfi\",\"mpfi\",\"mpfi\",\"idi\",\"mpfi\",\"mpfi\",\"mpfi\",\"mpfi\",\"mpfi\",\"mpfi\",\"mpfi\",\"mpfi\",\"mpfi\",\"mpfi\",\"idi\",\"mpfi\"],\"fuel-type\":[\"gas\",\"gas\",\"gas\",\"gas\",\"gas\",\"gas\",\"gas\",\"gas\",\"gas\",\"gas\",\"gas\",\"gas\",\"gas\",\"gas\",\"gas\",\"gas\",\"gas\",\"gas\",\"gas\",\"gas\",\"gas\",\"gas\",\"gas\",\"gas\",\"gas\",\"gas\",\"gas\",\"gas\",\"gas\",\"gas\",\"gas\",\"gas\",\"gas\",\"gas\",\"gas\",\"gas\",\"gas\",\"gas\",\"gas\",\"gas\",\"gas\",\"gas\",\"gas\",\"gas\",\"gas\",\"gas\",\"gas\",\"gas\",\"gas\",\"gas\",\"gas\",\"gas\",\"gas\",\"gas\",\"gas\",\"gas\",\"gas\",\"gas\",\"gas\",\"gas\",\"gas\",\"gas\",\"gas\",\"diesel\",\"gas\",\"gas\",\"diesel\",\"diesel\",\"diesel\",\"diesel\",\"diesel\",\"gas\",\"gas\",\"gas\",\"gas\",\"gas\",\"gas\",\"gas\",\"gas\",\"gas\",\"gas\",\"gas\",\"gas\",\"gas\",\"gas\",\"gas\",\"gas\",\"gas\",\"gas\",\"gas\",\"diesel\",\"gas\",\"gas\",\"gas\",\"gas\",\"gas\",\"gas\",\"gas\",\"gas\",\"gas\",\"gas\",\"gas\",\"gas\",\"gas\",\"gas\",\"gas\",\"gas\",\"gas\",\"diesel\",\"gas\",\"diesel\",\"gas\",\"diesel\",\"gas\",\"diesel\",\"gas\",\"diesel\",\"gas\",\"gas\",\"gas\",\"gas\",\"gas\",\"gas\",\"gas\",\"gas\",\"gas\",\"gas\",\"gas\",\"gas\",\"gas\",\"gas\",\"gas\",\"gas\",\"gas\",\"gas\",\"gas\",\"gas\",\"gas\",\"gas\",\"gas\",\"gas\",\"gas\",\"gas\",\"gas\",\"gas\",\"gas\",\"gas\",\"gas\",\"gas\",\"gas\",\"gas\",\"gas\",\"gas\",\"gas\",\"gas\",\"gas\",\"gas\",\"gas\",\"diesel\",\"diesel\",\"gas\",\"gas\",\"gas\",\"gas\",\"gas\",\"gas\",\"gas\",\"gas\",\"gas\",\"gas\",\"gas\",\"gas\",\"gas\",\"gas\",\"diesel\",\"gas\",\"gas\",\"gas\",\"gas\",\"gas\",\"gas\",\"gas\",\"diesel\",\"gas\",\"diesel\",\"gas\",\"gas\",\"diesel\",\"gas\",\"gas\",\"gas\",\"gas\",\"diesel\",\"gas\",\"gas\",\"gas\",\"gas\",\"gas\",\"gas\",\"gas\",\"gas\",\"gas\",\"gas\",\"diesel\",\"gas\"],\"height\":{\"__ndarray__\":\"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\",\"dtype\":\"float64\",\"order\":\"little\",\"shape\":[205]},\"highway-mpg\":[27,27,26,30,22,25,25,25,20,22,29,29,28,28,25,22,22,20,53,43,43,41,38,30,38,38,38,30,30,24,54,38,42,34,34,34,34,33,33,33,33,28,31,29,43,43,29,19,19,17,31,38,38,38,38,23,23,23,23,32,32,32,32,42,32,27,39,25,25,25,25,18,18,16,16,24,41,38,38,30,30,32,24,24,24,32,32,30,30,37,50,37,37,37,37,37,37,37,37,34,34,22,22,25,25,23,25,24,33,24,25,24,33,24,25,24,33,24,41,30,38,38,38,30,24,27,25,25,25,28,31,31,28,28,28,28,26,26,36,31,31,37,33,32,25,29,32,31,29,23,39,38,38,37,32,32,37,37,36,47,47,34,34,34,34,29,29,30,30,30,30,30,30,34,33,32,32,32,24,24,24,24,46,34,46,34,34,42,32,29,29,24,38,31,28,28,28,28,22,22,28,25,23,27,25],\"horsepower\":[\"111\",\"111\",\"154\",\"102\",\"115\",\"110\",\"110\",\"110\",\"140\",\"160\",\"101\",\"101\",\"121\",\"121\",\"121\",\"182\",\"182\",\"182\",\"48\",\"70\",\"70\",\"68\",\"68\",\"102\",\"68\",\"68\",\"68\",\"102\",\"88\",\"145\",\"58\",\"76\",\"60\",\"76\",\"76\",\"76\",\"76\",\"86\",\"86\",\"86\",\"86\",\"101\",\"100\",\"78\",\"70\",\"70\",\"90\",\"176\",\"176\",\"262\",\"68\",\"68\",\"68\",\"68\",\"68\",\"101\",\"101\",\"101\",\"135\",\"84\",\"84\",\"84\",\"84\",\"64\",\"84\",\"120\",\"72\",\"123\",\"123\",\"123\",\"123\",\"155\",\"155\",\"184\",\"184\",\"175\",\"68\",\"68\",\"68\",\"102\",\"116\",\"88\",\"145\",\"145\",\"145\",\"88\",\"88\",\"116\",\"116\",\"69\",\"55\",\"69\",\"69\",\"69\",\"69\",\"69\",\"69\",\"69\",\"69\",\"97\",\"97\",\"152\",\"152\",\"152\",\"160\",\"200\",\"160\",\"97\",\"95\",\"97\",\"95\",\"95\",\"95\",\"95\",\"95\",\"97\",\"95\",\"142\",\"68\",\"102\",\"68\",\"68\",\"68\",\"88\",\"145\",\"143\",\"207\",\"207\",\"207\",\"288\",\"?\",\"?\",\"110\",\"110\",\"110\",\"110\",\"160\",\"160\",\"69\",\"73\",\"73\",\"82\",\"82\",\"94\",\"82\",\"111\",\"82\",\"94\",\"82\",\"111\",\"62\",\"62\",\"62\",\"62\",\"62\",\"62\",\"70\",\"70\",\"56\",\"56\",\"70\",\"70\",\"70\",\"70\",\"70\",\"112\",\"112\",\"116\",\"116\",\"116\",\"116\",\"116\",\"116\",\"92\",\"73\",\"92\",\"92\",\"92\",\"161\",\"161\",\"156\",\"156\",\"52\",\"85\",\"52\",\"85\",\"85\",\"68\",\"100\",\"90\",\"90\",\"110\",\"68\",\"88\",\"114\",\"114\",\"114\",\"114\",\"162\",\"162\",\"114\",\"160\",\"134\",\"106\",\"114\"],\"index\":[0,1,2,3,4,5,6,7,8,9,10,11,12,13,14,15,16,17,18,19,20,21,22,23,24,25,26,27,28,29,30,31,32,33,34,35,36,37,38,39,40,41,42,43,44,45,46,47,48,49,50,51,52,53,54,55,56,57,58,59,60,61,62,63,64,65,66,67,68,69,70,71,72,73,74,75,76,77,78,79,80,81,82,83,84,85,86,87,88,89,90,91,92,93,94,95,96,97,98,99,100,101,102,103,104,105,106,107,108,109,110,111,112,113,114,115,116,117,118,119,120,121,122,123,124,125,126,127,128,129,130,131,132,133,134,135,136,137,138,139,140,141,142,143,144,145,146,147,148,149,150,151,152,153,154,155,156,157,158,159,160,161,162,163,164,165,166,167,168,169,170,171,172,173,174,175,176,177,178,179,180,181,182,183,184,185,186,187,188,189,190,191,192,193,194,195,196,197,198,199,200,201,202,203,204],\"length\":{\"__ndarray__\":\"mpmZmZkZZUCamZmZmRllQGZmZmZmZmVAMzMzMzMTZkAzMzMzMxNmQJqZmZmZKWZAZmZmZmYWaEBmZmZmZhZoQGZmZmZmFmhAZmZmZmZGZkCamZmZmRlmQJqZmZmZGWZAmpmZmZkZZkCamZmZmRlmQAAAAAAAoGdAAAAAAACgZ0CamZmZmTloQAAAAAAAoGhAMzMzMzOjYUDNzMzMzHxjQJqZmZmZ2WNAmpmZmZmpY0CamZmZmaljQJqZmZmZqWNAmpmZmZmpY0CamZmZmaljQJqZmZmZqWNAmpmZmZmpY0AzMzMzM9NlQGZmZmZmpmVAMzMzMzMTYkAzMzMzMxNiQAAAAAAAwGJAAAAAAADAYkAAAAAAAMBiQM3MzMzMbGRAMzMzMzOjY0AAAAAAAPBkQAAAAAAA8GRAzczMzMzsZUDNzMzMzOxlQM3MzMzM7GVAMzMzMzMjZUBmZmZmZlZlQM3MzMzMfGNAzczMzMx8Y0AzMzMzM5NlQDMzMzMz82hAMzMzMzPzaEBmZmZmZvZnQDMzMzMz42NAMzMzMzPjY0AzMzMzM+NjQJqZmZmZ2WRAmpmZmZnZZEAAAAAAACBlQAAAAAAAIGVAAAAAAAAgZUAAAAAAACBlQJqZmZmZOWZAmpmZmZk5ZkCamZmZmTlmQJqZmZmZOWZAmpmZmZk5ZkCamZmZmTlmQAAAAAAA4GVAAAAAAADgZUDNzMzMzNxnQM3MzMzM3GdAAAAAAABwZ0AzMzMzM1NpQDMzMzMzU2lAmpmZmZmJZkAzMzMzMwNqQGZmZmZm5mhAzczMzMxMZkCamZmZmaljQJqZmZmZqWNAmpmZmZmpY0CamZmZmaljQAAAAAAAoGVAAAAAAACgZUBmZmZmZqZlQGZmZmZmpmVAZmZmZmamZUDNzMzMzIxlQM3MzMzMjGVAzczMzMyMZUDNzMzMzIxlQJqZmZmZqWRAmpmZmZmpZECamZmZmalkQJqZmZmZqWRAZmZmZmZGZUCamZmZmalkQDMzMzMzs2RAmpmZmZmpZEBmZmZmZkZlQM3MzMzMTGRAzczMzMysZUDNzMzMzKxlQGZmZmZmtmZAMzMzMzMTZ0AzMzMzMxNnQGZmZmZmVmVAZmZmZmZWZUAAAAAAAFBmQGZmZmZmVmdAZmZmZmZWZ0DNzMzMzNxoQM3MzMzM3GhAZmZmZmZWZ0BmZmZmZlZnQM3MzMzM3GhAzczMzMzcaEBmZmZmZlZnQGZmZmZmVmdAZmZmZmZWZ0CamZmZmaljQJqZmZmZqWNAmpmZmZmpY0CamZmZmelkQJqZmZmZ6WRAMzMzMzPTZUBmZmZmZqZlQM3MzMzMHGVAzczMzMwcZUDNzMzMzBxlQM3MzMzMHGVAZmZmZmb2ZUAAAAAAALBmQJqZmZmZGWZAMzMzMzNTZ0AzMzMzM1NnQDMzMzMzU2dAMzMzMzNTZ0AzMzMzM1NnQDMzMzMzU2dAzczMzMycY0DNzMzMzLxjQJqZmZmZqWNAAAAAAACAZUAAAAAAAIBlQAAAAAAAgGVAAAAAAACAZUAAAAAAAIBlQAAAAAAAsGVAAAAAAACwZUAzMzMzM7NlQDMzMzMzs2VAZmZmZmbWY0BmZmZmZtZjQGZmZmZm1mNAZmZmZmY2ZUBmZmZmZjZlQGZmZmZmNmVAmpmZmZnJZECamZmZmclkQJqZmZmZyWRAmpmZmZnJZECamZmZmclkQJqZmZmZyWRAmpmZmZnJZEBmZmZmZhZlQGZmZmZmFmVAZmZmZmYWZUBmZmZmZhZlQGZmZmZmBmZAZmZmZmYGZkBmZmZmZgZmQGZmZmZmBmZAZmZmZmYGZkBmZmZmZgZmQDMzMzMz82VAMzMzMzPzZUAzMzMzM/NlQDMzMzMz82VAMzMzMzPzZUAAAAAAAPBmQAAAAAAA8GZAmpmZmZl5Z0CamZmZmXlnQGZmZmZmdmVAZmZmZmZ2ZUBmZmZmZnZlQGZmZmZmdmVAZmZmZmZ2ZUBmZmZmZnZlQGZmZmZmdmVAmpmZmZnpY0BmZmZmZrZkQGZmZmZmhmZAZmZmZmaGZkAzMzMzM+NmQJqZmZmZmWdAmpmZmZmZZ0CamZmZmZlnQJqZmZmZmWdAmpmZmZmZZ0CamZmZmZlnQJqZmZmZmWdAmpmZmZmZZ0CamZmZmZlnQJqZmZmZmWdAmpmZmZmZZ0A=\",\"dtype\":\"float64\",\"order\":\"little\",\"shape\":[205]},\"make\":[\"alfa-romero\",\"alfa-romero\",\"alfa-romero\",\"audi\",\"audi\",\"audi\",\"audi\",\"audi\",\"audi\",\"audi\",\"bmw\",\"bmw\",\"bmw\",\"bmw\",\"bmw\",\"bmw\",\"bmw\",\"bmw\",\"chevrolet\",\"chevrolet\",\"chevrolet\",\"dodge\",\"dodge\",\"dodge\",\"dodge\",\"dodge\",\"dodge\",\"dodge\",\"dodge\",\"dodge\",\"honda\",\"honda\",\"honda\",\"honda\",\"honda\",\"honda\",\"honda\",\"honda\",\"honda\",\"honda\",\"honda\",\"honda\",\"honda\",\"isuzu\",\"isuzu\",\"isuzu\",\"isuzu\",\"jaguar\",\"jaguar\",\"jaguar\",\"mazda\",\"mazda\",\"mazda\",\"mazda\",\"mazda\",\"mazda\",\"mazda\",\"mazda\",\"mazda\",\"mazda\",\"mazda\",\"mazda\",\"mazda\",\"mazda\",\"mazda\",\"mazda\",\"mazda\",\"mercedes-benz\",\"mercedes-benz\",\"mercedes-benz\",\"mercedes-benz\",\"mercedes-benz\",\"mercedes-benz\",\"mercedes-benz\",\"mercedes-benz\",\"mercury\",\"mitsubishi\",\"mitsubishi\",\"mitsubishi\",\"mitsubishi\",\"mitsubishi\",\"mitsubishi\",\"mitsubishi\",\"mitsubishi\",\"mitsubishi\",\"mitsubishi\",\"mitsubishi\",\"mitsubishi\",\"mitsubishi\",\"nissan\",\"nissan\",\"nissan\",\"nissan\",\"nissan\",\"nissan\",\"nissan\",\"nissan\",\"nissan\",\"nissan\",\"nissan\",\"nissan\",\"nissan\",\"nissan\",\"nissan\",\"nissan\",\"nissan\",\"nissan\",\"peugot\",\"peugot\",\"peugot\",\"peugot\",\"peugot\",\"peugot\",\"peugot\",\"peugot\",\"peugot\",\"peugot\",\"peugot\",\"plymouth\",\"plymouth\",\"plymouth\",\"plymouth\",\"plymouth\",\"plymouth\",\"plymouth\",\"porsche\",\"porsche\",\"porsche\",\"porsche\",\"porsche\",\"renault\",\"renault\",\"saab\",\"saab\",\"saab\",\"saab\",\"saab\",\"saab\",\"subaru\",\"subaru\",\"subaru\",\"subaru\",\"subaru\",\"subaru\",\"subaru\",\"subaru\",\"subaru\",\"subaru\",\"subaru\",\"subaru\",\"toyota\",\"toyota\",\"toyota\",\"toyota\",\"toyota\",\"toyota\",\"toyota\",\"toyota\",\"toyota\",\"toyota\",\"toyota\",\"toyota\",\"toyota\",\"toyota\",\"toyota\",\"toyota\",\"toyota\",\"toyota\",\"toyota\",\"toyota\",\"toyota\",\"toyota\",\"toyota\",\"toyota\",\"toyota\",\"toyota\",\"toyota\",\"toyota\",\"toyota\",\"toyota\",\"toyota\",\"toyota\",\"volkswagen\",\"volkswagen\",\"volkswagen\",\"volkswagen\",\"volkswagen\",\"volkswagen\",\"volkswagen\",\"volkswagen\",\"volkswagen\",\"volkswagen\",\"volkswagen\",\"volkswagen\",\"volvo\",\"volvo\",\"volvo\",\"volvo\",\"volvo\",\"volvo\",\"volvo\",\"volvo\",\"volvo\",\"volvo\",\"volvo\"],\"normalized-losses\":[\"?\",\"?\",\"?\",\"164\",\"164\",\"?\",\"158\",\"?\",\"158\",\"?\",\"192\",\"192\",\"188\",\"188\",\"?\",\"?\",\"?\",\"?\",\"121\",\"98\",\"81\",\"118\",\"118\",\"118\",\"148\",\"148\",\"148\",\"148\",\"110\",\"145\",\"137\",\"137\",\"101\",\"101\",\"101\",\"110\",\"78\",\"106\",\"106\",\"85\",\"85\",\"85\",\"107\",\"?\",\"?\",\"?\",\"?\",\"145\",\"?\",\"?\",\"104\",\"104\",\"104\",\"113\",\"113\",\"150\",\"150\",\"150\",\"150\",\"129\",\"115\",\"129\",\"115\",\"?\",\"115\",\"118\",\"?\",\"93\",\"93\",\"93\",\"93\",\"?\",\"142\",\"?\",\"?\",\"?\",\"161\",\"161\",\"161\",\"161\",\"153\",\"153\",\"?\",\"?\",\"?\",\"125\",\"125\",\"125\",\"137\",\"128\",\"128\",\"128\",\"122\",\"103\",\"128\",\"128\",\"122\",\"103\",\"168\",\"106\",\"106\",\"128\",\"108\",\"108\",\"194\",\"194\",\"231\",\"161\",\"161\",\"?\",\"?\",\"161\",\"161\",\"?\",\"?\",\"161\",\"161\",\"161\",\"119\",\"119\",\"154\",\"154\",\"154\",\"74\",\"?\",\"186\",\"?\",\"?\",\"?\",\"?\",\"?\",\"?\",\"150\",\"104\",\"150\",\"104\",\"150\",\"104\",\"83\",\"83\",\"83\",\"102\",\"102\",\"102\",\"102\",\"102\",\"89\",\"89\",\"85\",\"85\",\"87\",\"87\",\"74\",\"77\",\"81\",\"91\",\"91\",\"91\",\"91\",\"91\",\"91\",\"91\",\"91\",\"168\",\"168\",\"168\",\"168\",\"134\",\"134\",\"134\",\"134\",\"134\",\"134\",\"65\",\"65\",\"65\",\"65\",\"65\",\"197\",\"197\",\"90\",\"?\",\"122\",\"122\",\"94\",\"94\",\"94\",\"94\",\"94\",\"?\",\"256\",\"?\",\"?\",\"?\",\"103\",\"74\",\"103\",\"74\",\"103\",\"74\",\"95\",\"95\",\"95\",\"95\",\"95\"],\"num-of-cylinders\":[\"four\",\"four\",\"six\",\"four\",\"five\",\"five\",\"five\",\"five\",\"five\",\"five\",\"four\",\"four\",\"six\",\"six\",\"six\",\"six\",\"six\",\"six\",\"three\",\"four\",\"four\",\"four\",\"four\",\"four\",\"four\",\"four\",\"four\",\"four\",\"four\",\"four\",\"four\",\"four\",\"four\",\"four\",\"four\",\"four\",\"four\",\"four\",\"four\",\"four\",\"four\",\"four\",\"four\",\"four\",\"four\",\"four\",\"four\",\"six\",\"six\",\"twelve\",\"four\",\"four\",\"four\",\"four\",\"four\",\"two\",\"two\",\"two\",\"two\",\"four\",\"four\",\"four\",\"four\",\"four\",\"four\",\"four\",\"four\",\"five\",\"five\",\"five\",\"five\",\"eight\",\"eight\",\"eight\",\"eight\",\"four\",\"four\",\"four\",\"four\",\"four\",\"four\",\"four\",\"four\",\"four\",\"four\",\"four\",\"four\",\"four\",\"four\",\"four\",\"four\",\"four\",\"four\",\"four\",\"four\",\"four\",\"four\",\"four\",\"four\",\"four\",\"four\",\"six\",\"six\",\"six\",\"six\",\"six\",\"six\",\"four\",\"four\",\"four\",\"four\",\"four\",\"four\",\"four\",\"four\",\"four\",\"four\",\"four\",\"four\",\"four\",\"four\",\"four\",\"four\",\"four\",\"four\",\"four\",\"six\",\"six\",\"six\",\"eight\",\"four\",\"four\",\"four\",\"four\",\"four\",\"four\",\"four\",\"four\",\"four\",\"four\",\"four\",\"four\",\"four\",\"four\",\"four\",\"four\",\"four\",\"four\",\"four\",\"four\",\"four\",\"four\",\"four\",\"four\",\"four\",\"four\",\"four\",\"four\",\"four\",\"four\",\"four\",\"four\",\"four\",\"four\",\"four\",\"four\",\"four\",\"four\",\"four\",\"four\",\"four\",\"four\",\"four\",\"four\",\"four\",\"four\",\"four\",\"four\",\"six\",\"six\",\"six\",\"six\",\"four\",\"four\",\"four\",\"four\",\"four\",\"four\",\"four\",\"four\",\"four\",\"five\",\"four\",\"four\",\"four\",\"four\",\"four\",\"four\",\"four\",\"four\",\"four\",\"four\",\"six\",\"six\",\"four\"],\"num-of-doors\":[\"two\",\"two\",\"two\",\"four\",\"four\",\"two\",\"four\",\"four\",\"four\",\"two\",\"two\",\"four\",\"two\",\"four\",\"four\",\"four\",\"two\",\"four\",\"two\",\"two\",\"four\",\"two\",\"two\",\"two\",\"four\",\"four\",\"four\",\"?\",\"four\",\"two\",\"two\",\"two\",\"two\",\"two\",\"two\",\"four\",\"four\",\"two\",\"two\",\"four\",\"four\",\"four\",\"two\",\"four\",\"two\",\"four\",\"two\",\"four\",\"four\",\"two\",\"two\",\"two\",\"two\",\"four\",\"four\",\"two\",\"two\",\"two\",\"two\",\"two\",\"four\",\"two\",\"four\",\"?\",\"four\",\"four\",\"four\",\"four\",\"four\",\"two\",\"four\",\"four\",\"two\",\"four\",\"two\",\"two\",\"two\",\"two\",\"two\",\"two\",\"two\",\"two\",\"two\",\"two\",\"two\",\"four\",\"four\",\"four\",\"four\",\"two\",\"two\",\"two\",\"four\",\"four\",\"two\",\"two\",\"four\",\"four\",\"two\",\"four\",\"four\",\"four\",\"four\",\"four\",\"two\",\"two\",\"two\",\"four\",\"four\",\"four\",\"four\",\"four\",\"four\",\"four\",\"four\",\"four\",\"four\",\"four\",\"two\",\"two\",\"four\",\"four\",\"four\",\"four\",\"two\",\"two\",\"two\",\"two\",\"two\",\"two\",\"four\",\"two\",\"two\",\"four\",\"two\",\"four\",\"two\",\"four\",\"two\",\"two\",\"two\",\"four\",\"four\",\"four\",\"four\",\"four\",\"four\",\"four\",\"four\",\"four\",\"two\",\"two\",\"four\",\"four\",\"four\",\"four\",\"four\",\"four\",\"four\",\"four\",\"four\",\"four\",\"four\",\"two\",\"two\",\"two\",\"two\",\"two\",\"two\",\"two\",\"two\",\"two\",\"two\",\"four\",\"four\",\"four\",\"four\",\"four\",\"two\",\"two\",\"four\",\"four\",\"two\",\"two\",\"four\",\"four\",\"four\",\"four\",\"four\",\"two\",\"two\",\"four\",\"four\",\"four\",\"four\",\"four\",\"four\",\"four\",\"four\",\"four\",\"four\",\"four\",\"four\",\"four\",\"four\"],\"peak-rpm\":[\"5000\",\"5000\",\"5000\",\"5500\",\"5500\",\"5500\",\"5500\",\"5500\",\"5500\",\"5500\",\"5800\",\"5800\",\"4250\",\"4250\",\"4250\",\"5400\",\"5400\",\"5400\",\"5100\",\"5400\",\"5400\",\"5500\",\"5500\",\"5500\",\"5500\",\"5500\",\"5500\",\"5500\",\"5000\",\"5000\",\"4800\",\"6000\",\"5500\",\"6000\",\"6000\",\"6000\",\"6000\",\"5800\",\"5800\",\"5800\",\"5800\",\"5800\",\"5500\",\"4800\",\"5400\",\"5400\",\"5000\",\"4750\",\"4750\",\"5000\",\"5000\",\"5000\",\"5000\",\"5000\",\"5000\",\"6000\",\"6000\",\"6000\",\"6000\",\"4800\",\"4800\",\"4800\",\"4800\",\"4650\",\"4800\",\"5000\",\"4200\",\"4350\",\"4350\",\"4350\",\"4350\",\"4750\",\"4750\",\"4500\",\"4500\",\"5000\",\"5500\",\"5500\",\"5500\",\"5500\",\"5500\",\"5000\",\"5000\",\"5000\",\"5000\",\"5000\",\"5000\",\"5500\",\"5500\",\"5200\",\"4800\",\"5200\",\"5200\",\"5200\",\"5200\",\"5200\",\"5200\",\"5200\",\"5200\",\"5200\",\"5200\",\"5200\",\"5200\",\"5200\",\"5200\",\"5200\",\"5200\",\"5000\",\"4150\",\"5000\",\"4150\",\"5000\",\"4150\",\"5000\",\"4150\",\"5000\",\"4150\",\"5600\",\"5500\",\"5500\",\"5500\",\"5500\",\"5500\",\"5000\",\"5000\",\"5500\",\"5900\",\"5900\",\"5900\",\"5750\",\"?\",\"?\",\"5250\",\"5250\",\"5250\",\"5250\",\"5500\",\"5500\",\"4900\",\"4400\",\"4400\",\"4800\",\"4400\",\"5200\",\"4800\",\"4800\",\"4800\",\"5200\",\"4800\",\"4800\",\"4800\",\"4800\",\"4800\",\"4800\",\"4800\",\"4800\",\"4800\",\"4800\",\"4500\",\"4500\",\"4800\",\"4800\",\"4800\",\"4800\",\"4800\",\"6600\",\"6600\",\"4800\",\"4800\",\"4800\",\"4800\",\"4800\",\"4800\",\"4200\",\"4500\",\"4200\",\"4200\",\"4200\",\"5200\",\"5200\",\"5200\",\"5200\",\"4800\",\"5250\",\"4800\",\"5250\",\"5250\",\"4500\",\"5500\",\"5500\",\"5500\",\"5500\",\"4500\",\"5500\",\"5400\",\"5400\",\"5400\",\"5400\",\"5100\",\"5100\",\"5400\",\"5300\",\"5500\",\"4800\",\"5400\"],\"price\":[\"13495\",\"16500\",\"16500\",\"13950\",\"17450\",\"15250\",\"17710\",\"18920\",\"23875\",\"?\",\"16430\",\"16925\",\"20970\",\"21105\",\"24565\",\"30760\",\"41315\",\"36880\",\"5151\",\"6295\",\"6575\",\"5572\",\"6377\",\"7957\",\"6229\",\"6692\",\"7609\",\"8558\",\"8921\",\"12964\",\"6479\",\"6855\",\"5399\",\"6529\",\"7129\",\"7295\",\"7295\",\"7895\",\"9095\",\"8845\",\"10295\",\"12945\",\"10345\",\"6785\",\"?\",\"?\",\"11048\",\"32250\",\"35550\",\"36000\",\"5195\",\"6095\",\"6795\",\"6695\",\"7395\",\"10945\",\"11845\",\"13645\",\"15645\",\"8845\",\"8495\",\"10595\",\"10245\",\"10795\",\"11245\",\"18280\",\"18344\",\"25552\",\"28248\",\"28176\",\"31600\",\"34184\",\"35056\",\"40960\",\"45400\",\"16503\",\"5389\",\"6189\",\"6669\",\"7689\",\"9959\",\"8499\",\"12629\",\"14869\",\"14489\",\"6989\",\"8189\",\"9279\",\"9279\",\"5499\",\"7099\",\"6649\",\"6849\",\"7349\",\"7299\",\"7799\",\"7499\",\"7999\",\"8249\",\"8949\",\"9549\",\"13499\",\"14399\",\"13499\",\"17199\",\"19699\",\"18399\",\"11900\",\"13200\",\"12440\",\"13860\",\"15580\",\"16900\",\"16695\",\"17075\",\"16630\",\"17950\",\"18150\",\"5572\",\"7957\",\"6229\",\"6692\",\"7609\",\"8921\",\"12764\",\"22018\",\"32528\",\"34028\",\"37028\",\"?\",\"9295\",\"9895\",\"11850\",\"12170\",\"15040\",\"15510\",\"18150\",\"18620\",\"5118\",\"7053\",\"7603\",\"7126\",\"7775\",\"9960\",\"9233\",\"11259\",\"7463\",\"10198\",\"8013\",\"11694\",\"5348\",\"6338\",\"6488\",\"6918\",\"7898\",\"8778\",\"6938\",\"7198\",\"7898\",\"7788\",\"7738\",\"8358\",\"9258\",\"8058\",\"8238\",\"9298\",\"9538\",\"8449\",\"9639\",\"9989\",\"11199\",\"11549\",\"17669\",\"8948\",\"10698\",\"9988\",\"10898\",\"11248\",\"16558\",\"15998\",\"15690\",\"15750\",\"7775\",\"7975\",\"7995\",\"8195\",\"8495\",\"9495\",\"9995\",\"11595\",\"9980\",\"13295\",\"13845\",\"12290\",\"12940\",\"13415\",\"15985\",\"16515\",\"18420\",\"18950\",\"16845\",\"19045\",\"21485\",\"22470\",\"22625\"],\"stroke\":[\"2.68\",\"2.68\",\"3.47\",\"3.4\",\"3.4\",\"3.4\",\"3.4\",\"3.4\",\"3.4\",\"3.4\",\"2.8\",\"2.8\",\"3.19\",\"3.19\",\"3.19\",\"3.39\",\"3.39\",\"3.39\",\"3.03\",\"3.11\",\"3.11\",\"3.23\",\"3.23\",\"3.39\",\"3.23\",\"3.23\",\"3.23\",\"3.39\",\"3.46\",\"3.9\",\"3.41\",\"3.41\",\"3.07\",\"3.41\",\"3.41\",\"3.41\",\"3.41\",\"3.58\",\"3.58\",\"3.58\",\"3.58\",\"3.58\",\"3.58\",\"3.23\",\"3.11\",\"3.11\",\"3.23\",\"4.17\",\"4.17\",\"2.76\",\"3.15\",\"3.15\",\"3.15\",\"3.15\",\"3.15\",\"?\",\"?\",\"?\",\"?\",\"3.39\",\"3.39\",\"3.39\",\"3.39\",\"3.39\",\"3.39\",\"3.16\",\"3.64\",\"3.64\",\"3.64\",\"3.64\",\"3.64\",\"3.1\",\"3.1\",\"3.35\",\"3.35\",\"3.12\",\"3.23\",\"3.23\",\"3.23\",\"3.39\",\"3.46\",\"3.46\",\"3.86\",\"3.86\",\"3.86\",\"3.46\",\"3.46\",\"3.46\",\"3.46\",\"3.29\",\"3.47\",\"3.29\",\"3.29\",\"3.29\",\"3.29\",\"3.29\",\"3.29\",\"3.29\",\"3.29\",\"3.47\",\"3.47\",\"3.27\",\"3.27\",\"3.27\",\"3.27\",\"3.27\",\"3.27\",\"3.19\",\"3.52\",\"3.19\",\"3.52\",\"2.19\",\"3.52\",\"2.19\",\"3.52\",\"3.19\",\"3.52\",\"3.21\",\"3.23\",\"3.39\",\"3.23\",\"3.23\",\"3.23\",\"3.46\",\"3.86\",\"3.11\",\"2.9\",\"2.9\",\"2.9\",\"3.11\",\"3.9\",\"3.9\",\"3.07\",\"3.07\",\"2.07\",\"3.07\",\"3.07\",\"3.07\",\"2.36\",\"2.64\",\"2.64\",\"2.64\",\"2.64\",\"2.64\",\"2.64\",\"2.64\",\"2.64\",\"2.64\",\"2.64\",\"2.64\",\"3.03\",\"3.03\",\"3.03\",\"3.03\",\"3.03\",\"3.03\",\"3.03\",\"3.03\",\"3.35\",\"3.35\",\"3.03\",\"3.03\",\"3.03\",\"3.03\",\"3.03\",\"3.08\",\"3.08\",\"3.5\",\"3.5\",\"3.5\",\"3.5\",\"3.5\",\"3.5\",\"3.54\",\"3.35\",\"3.54\",\"3.54\",\"3.54\",\"3.35\",\"3.35\",\"3.35\",\"3.35\",\"3.4\",\"3.4\",\"3.4\",\"3.4\",\"3.4\",\"3.4\",\"3.4\",\"3.4\",\"3.4\",\"3.4\",\"3.4\",\"3.4\",\"3.15\",\"3.15\",\"3.15\",\"3.15\",\"3.15\",\"3.15\",\"3.15\",\"3.15\",\"2.87\",\"3.4\",\"3.15\"],\"symboling\":[3,3,1,2,2,2,1,1,1,0,2,0,0,0,1,0,0,0,2,1,0,1,1,1,1,1,1,1,-1,3,2,2,1,1,1,0,0,0,0,0,0,0,1,0,1,0,2,0,0,0,1,1,1,1,1,3,3,3,3,1,0,1,0,0,0,0,0,-1,-1,0,-1,-1,3,0,1,1,2,2,2,1,3,3,3,3,3,1,1,1,-1,1,1,1,1,1,1,1,1,1,2,0,0,0,0,0,3,3,1,0,0,0,0,0,0,0,0,0,0,0,1,1,1,1,1,-1,3,3,3,3,3,1,0,2,3,2,3,2,3,2,2,2,2,0,0,0,0,0,0,0,0,0,1,1,1,0,0,0,0,0,0,0,0,0,0,1,1,1,1,2,2,2,2,2,2,-1,-1,-1,-1,-1,3,3,-1,-1,2,2,2,2,2,2,2,3,3,0,0,0,-2,-1,-2,-1,-2,-1,-1,-1,-1,-1,-1],\"wheel-base\":{\"__ndarray__\":\"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\",\"dtype\":\"float64\",\"order\":\"little\",\"shape\":[205]},\"width\":{\"__ndarray__\":\"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\",\"dtype\":\"float64\",\"order\":\"little\",\"shape\":[205]}},\"selected\":{\"id\":\"1560\"},\"selection_policy\":{\"id\":\"1561\"}},\"id\":\"1488\",\"type\":\"ColumnDataSource\"},{\"attributes\":{\"axis\":{\"id\":\"1531\"},\"ticker\":null},\"id\":\"1534\",\"type\":\"Grid\"},{\"attributes\":{},\"id\":\"1552\",\"type\":\"Title\"},{\"attributes\":{\"children\":[[{\"id\":\"1491\"},0,0],[{\"id\":\"1522\"},0,1]]},\"id\":\"1576\",\"type\":\"GridBox\"},{\"attributes\":{\"overlay\":{\"id\":\"1542\"}},\"id\":\"1539\",\"type\":\"BoxSelectTool\"},{\"attributes\":{},\"id\":\"1559\",\"type\":\"AllLabels\"},{\"attributes\":{\"formatter\":{\"id\":\"1558\"},\"major_label_policy\":{\"id\":\"1559\"},\"ticker\":{\"id\":\"1505\"}},\"id\":\"1504\",\"type\":\"LinearAxis\"},{\"attributes\":{\"formatter\":{\"id\":\"1555\"},\"major_label_policy\":{\"id\":\"1556\"},\"ticker\":{\"id\":\"1501\"}},\"id\":\"1500\",\"type\":\"LinearAxis\"},{\"attributes\":{\"fill_alpha\":{\"value\":0.1},\"fill_color\":{\"value\":\"#1f77b4\"},\"line_alpha\":{\"value\":0.1},\"line_color\":{\"value\":\"#1f77b4\"},\"size\":{\"value\":10},\"x\":{\"field\":\"engine-size\"},\"y\":{\"field\":\"wheel-base\"}},\"id\":\"1549\",\"type\":\"Circle\"},{\"attributes\":{},\"id\":\"1541\",\"type\":\"ResetTool\"},{\"attributes\":{},\"id\":\"1536\",\"type\":\"BasicTicker\"},{\"attributes\":{},\"id\":\"1494\",\"type\":\"DataRange1d\"},{\"attributes\":{},\"id\":\"1525\",\"type\":\"DataRange1d\"},{\"attributes\":{},\"id\":\"1529\",\"type\":\"LinearScale\"},{\"attributes\":{\"axis\":{\"id\":\"1535\"},\"dimension\":1,\"ticker\":null},\"id\":\"1538\",\"type\":\"Grid\"},{\"attributes\":{\"fill_color\":{\"value\":\"#1f77b4\"},\"line_color\":{\"value\":\"#1f77b4\"},\"size\":{\"value\":10},\"x\":{\"field\":\"engine-size\"},\"y\":{\"field\":\"wheel-base\"}},\"id\":\"1517\",\"type\":\"Circle\"},{\"attributes\":{},\"id\":\"1532\",\"type\":\"BasicTicker\"},{\"attributes\":{},\"id\":\"1555\",\"type\":\"BasicTickFormatter\"},{\"attributes\":{},\"id\":\"1560\",\"type\":\"Selection\"},{\"attributes\":{},\"id\":\"1501\",\"type\":\"BasicTicker\"},{\"attributes\":{},\"id\":\"1556\",\"type\":\"AllLabels\"},{\"attributes\":{},\"id\":\"1498\",\"type\":\"LinearScale\"},{\"attributes\":{},\"id\":\"1496\",\"type\":\"LinearScale\"},{\"attributes\":{\"bottom_units\":\"screen\",\"fill_alpha\":0.5,\"fill_color\":\"lightgrey\",\"left_units\":\"screen\",\"level\":\"overlay\",\"line_alpha\":1.0,\"line_color\":\"black\",\"line_dash\":[4,4],\"line_width\":2,\"right_units\":\"screen\",\"syncable\":false,\"top_units\":\"screen\"},\"id\":\"1542\",\"type\":\"BoxAnnotation\"},{\"attributes\":{\"axis\":{\"id\":\"1500\"},\"ticker\":null},\"id\":\"1503\",\"type\":\"Grid\"},{\"attributes\":{\"below\":[{\"id\":\"1500\"}],\"center\":[{\"id\":\"1503\"},{\"id\":\"1507\"}],\"height\":300,\"left\":[{\"id\":\"1504\"}],\"renderers\":[{\"id\":\"1520\"}],\"title\":{\"id\":\"1552\"},\"toolbar\":{\"id\":\"1512\"},\"toolbar_location\":null,\"width\":300,\"x_range\":{\"id\":\"1492\"},\"x_scale\":{\"id\":\"1496\"},\"y_range\":{\"id\":\"1494\"},\"y_scale\":{\"id\":\"1498\"}},\"id\":\"1491\",\"subtype\":\"Figure\",\"type\":\"Plot\"},{\"attributes\":{\"formatter\":{\"id\":\"1570\"},\"major_label_policy\":{\"id\":\"1571\"},\"ticker\":{\"id\":\"1536\"}},\"id\":\"1535\",\"type\":\"LinearAxis\"},{\"attributes\":{},\"id\":\"1558\",\"type\":\"BasicTickFormatter\"},{\"attributes\":{},\"id\":\"1492\",\"type\":\"DataRange1d\"},{\"attributes\":{\"callback\":null},\"id\":\"1509\",\"type\":\"HoverTool\"},{\"attributes\":{\"toolbar\":{\"id\":\"1577\"},\"toolbar_location\":\"above\"},\"id\":\"1578\",\"type\":\"ToolbarBox\"},{\"attributes\":{\"axis\":{\"id\":\"1504\"},\"dimension\":1,\"ticker\":null},\"id\":\"1507\",\"type\":\"Grid\"},{\"attributes\":{\"fill_color\":{\"value\":\"red\"},\"line_color\":{\"value\":\"red\"},\"size\":{\"value\":10},\"x\":{\"field\":\"engine-size\"},\"y\":{\"field\":\"wheel-base\"}},\"id\":\"1519\",\"type\":\"Circle\"},{\"attributes\":{},\"id\":\"1564\",\"type\":\"Title\"},{\"attributes\":{},\"id\":\"1527\",\"type\":\"LinearScale\"},{\"attributes\":{},\"id\":\"1505\",\"type\":\"BasicTicker\"},{\"attributes\":{\"overlay\":{\"id\":\"1511\"}},\"id\":\"1508\",\"type\":\"BoxSelectTool\"},{\"attributes\":{\"formatter\":{\"id\":\"1567\"},\"major_label_policy\":{\"id\":\"1568\"},\"ticker\":{\"id\":\"1532\"}},\"id\":\"1531\",\"type\":\"LinearAxis\"},{\"attributes\":{},\"id\":\"1523\",\"type\":\"DataRange1d\"},{\"attributes\":{\"fill_color\":{\"value\":\"#1f77b4\"},\"line_color\":{\"value\":\"#1f77b4\"},\"size\":{\"value\":10},\"x\":{\"field\":\"engine-size\"},\"y\":{\"field\":\"wheel-base\"}},\"id\":\"1548\",\"type\":\"Circle\"},{\"attributes\":{\"toolbars\":[{\"id\":\"1512\"},{\"id\":\"1543\"}],\"tools\":[{\"id\":\"1508\"},{\"id\":\"1509\"},{\"id\":\"1510\"},{\"id\":\"1539\"},{\"id\":\"1540\"},{\"id\":\"1541\"}]},\"id\":\"1577\",\"type\":\"ProxyToolbar\"},{\"attributes\":{\"fill_alpha\":{\"value\":0.1},\"fill_color\":{\"value\":\"#1f77b4\"},\"line_alpha\":{\"value\":0.1},\"line_color\":{\"value\":\"#1f77b4\"},\"size\":{\"value\":10},\"x\":{\"field\":\"engine-size\"},\"y\":{\"field\":\"wheel-base\"}},\"id\":\"1518\",\"type\":\"Circle\"},{\"attributes\":{},\"id\":\"1510\",\"type\":\"ResetTool\"},{\"attributes\":{\"data_source\":{\"id\":\"1488\"},\"glyph\":{\"id\":\"1548\"},\"hover_glyph\":{\"id\":\"1550\"},\"muted_glyph\":null,\"nonselection_glyph\":{\"id\":\"1549\"},\"view\":{\"id\":\"1490\"}},\"id\":\"1551\",\"type\":\"GlyphRenderer\"}],\"root_ids\":[\"1579\"]},\"title\":\"Bokeh Application\",\"version\":\"2.3.2\"}};\n",
       "  var render_items = [{\"docid\":\"99ba4132-fbe3-4272-bf82-0ca16a079efb\",\"root_ids\":[\"1579\"],\"roots\":{\"1579\":\"65401460-6384-4f01-bd3a-bf9bf4618220\"}}];\n",
       "  root.Bokeh.embed.embed_items_notebook(docs_json, render_items);\n",
       "\n",
       "  }\n",
       "  if (root.Bokeh !== undefined) {\n",
       "    embed_document(root);\n",
       "  } else {\n",
       "    var attempts = 0;\n",
       "    var timer = setInterval(function(root) {\n",
       "      if (root.Bokeh !== undefined) {\n",
       "        clearInterval(timer);\n",
       "        embed_document(root);\n",
       "      } else {\n",
       "        attempts++;\n",
       "        if (attempts > 100) {\n",
       "          clearInterval(timer);\n",
       "          console.log(\"Bokeh: ERROR: Unable to run BokehJS code because BokehJS library is missing\");\n",
       "        }\n",
       "      }\n",
       "    }, 10, root)\n",
       "  }\n",
       "})(window);"
      ],
      "application/vnd.bokehjs_exec.v0+json": ""
     },
     "metadata": {
      "application/vnd.bokehjs_exec.v0+json": {
       "id": "1579"
      }
     },
     "output_type": "display_data"
    }
   ],
   "source": [
    "from bokeh.models import  CDSView, IndexFilter\n",
    "\n",
    "source = ColumnDataSource(auto_df)\n",
    "view = CDSView(source=source, filters=[IndexFilter([70, 90, 110,130])])\n",
    "\n",
    "tools = [\"box_select\", \"hover\", \"reset\"]\n",
    "p = figure(plot_height=300, plot_width=300, tools=tools)\n",
    "p.circle(x=\"engine-size\", y=\"wheel-base\", size=10, hover_color=\"red\", source=source)\n",
    "\n",
    "p_filtered = figure(plot_height=300, plot_width=300, tools=tools)\n",
    "p_filtered.circle(x=\"engine-size\", y=\"wheel-base\", size=10, hover_color=\"red\", source=source, view=view)\n",
    "\n",
    "show(gridplot([[p, p_filtered]]))\n"
   ]
  },
  {
   "cell_type": "markdown",
   "id": "185bb708",
   "metadata": {},
   "source": [
    "**BooleanFilter Example**"
   ]
  },
  {
   "cell_type": "code",
   "execution_count": 9,
   "id": "32d5bbf9",
   "metadata": {},
   "outputs": [
    {
     "data": {
      "text/html": [
       "\n",
       "\n",
       "\n",
       "\n",
       "\n",
       "\n",
       "  <div class=\"bk-root\" id=\"68d97d79-f4a5-43fd-8f4a-f1e4505cebc6\" data-root-id=\"1831\"></div>\n"
      ]
     },
     "metadata": {},
     "output_type": "display_data"
    },
    {
     "data": {
      "application/javascript": [
       "(function(root) {\n",
       "  function embed_document(root) {\n",
       "    \n",
       "  var docs_json = {\"5ec55995-71e5-4b1c-8d84-3565a60d6bde\":{\"defs\":[],\"roots\":{\"references\":[{\"attributes\":{\"children\":[{\"id\":\"1830\"},{\"id\":\"1828\"}]},\"id\":\"1831\",\"type\":\"Column\"},{\"attributes\":{},\"id\":\"1811\",\"type\":\"AllLabels\"},{\"attributes\":{\"source\":{\"id\":\"1488\"}},\"id\":\"1775\",\"type\":\"CDSView\"},{\"attributes\":{\"axis\":{\"id\":\"1758\"},\"dimension\":1,\"ticker\":null},\"id\":\"1761\",\"type\":\"Grid\"},{\"attributes\":{\"fill_color\":{\"value\":\"red\"},\"line_color\":{\"value\":\"red\"},\"size\":{\"value\":10},\"x\":{\"field\":\"engine-size\"},\"y\":{\"field\":\"wheel-base\"}},\"id\":\"1773\",\"type\":\"Circle\"},{\"attributes\":{\"fill_color\":{\"value\":\"#1f77b4\"},\"line_color\":{\"value\":\"#1f77b4\"},\"size\":{\"value\":10},\"x\":{\"field\":\"engine-size\"},\"y\":{\"field\":\"wheel-base\"}},\"id\":\"1800\",\"type\":\"Circle\"},{\"attributes\":{\"fill_alpha\":{\"value\":0.1},\"fill_color\":{\"value\":\"#1f77b4\"},\"line_alpha\":{\"value\":0.1},\"line_color\":{\"value\":\"#1f77b4\"},\"size\":{\"value\":10},\"x\":{\"field\":\"engine-size\"},\"y\":{\"field\":\"wheel-base\"}},\"id\":\"1772\",\"type\":\"Circle\"},{\"attributes\":{},\"id\":\"1764\",\"type\":\"ResetTool\"},{\"attributes\":{},\"id\":\"1810\",\"type\":\"BasicTickFormatter\"},{\"attributes\":{\"fill_alpha\":{\"value\":0.1},\"fill_color\":{\"value\":\"#1f77b4\"},\"line_alpha\":{\"value\":0.1},\"line_color\":{\"value\":\"#1f77b4\"},\"size\":{\"value\":10},\"x\":{\"field\":\"engine-size\"},\"y\":{\"field\":\"wheel-base\"}},\"id\":\"1801\",\"type\":\"Circle\"},{\"attributes\":{\"callback\":null},\"id\":\"1763\",\"type\":\"HoverTool\"},{\"attributes\":{},\"id\":\"1779\",\"type\":\"LinearScale\"},{\"attributes\":{\"overlay\":{\"id\":\"1765\"}},\"id\":\"1762\",\"type\":\"BoxSelectTool\"},{\"attributes\":{},\"id\":\"1822\",\"type\":\"BasicTickFormatter\"},{\"attributes\":{\"axis\":{\"id\":\"1783\"},\"ticker\":null},\"id\":\"1786\",\"type\":\"Grid\"},{\"attributes\":{},\"id\":\"1784\",\"type\":\"BasicTicker\"},{\"attributes\":{},\"id\":\"1561\",\"type\":\"UnionRenderers\"},{\"attributes\":{},\"id\":\"1781\",\"type\":\"LinearScale\"},{\"attributes\":{\"formatter\":{\"id\":\"1819\"},\"major_label_policy\":{\"id\":\"1820\"},\"ticker\":{\"id\":\"1784\"}},\"id\":\"1783\",\"type\":\"LinearAxis\"},{\"attributes\":{\"data\":{\"aspiration\":[\"std\",\"std\",\"std\",\"std\",\"std\",\"std\",\"std\",\"std\",\"turbo\",\"turbo\",\"std\",\"std\",\"std\",\"std\",\"std\",\"std\",\"std\",\"std\",\"std\",\"std\",\"std\",\"std\",\"std\",\"turbo\",\"std\",\"std\",\"std\",\"turbo\",\"std\",\"turbo\",\"std\",\"std\",\"std\",\"std\",\"std\",\"std\",\"std\",\"std\",\"std\",\"std\",\"std\",\"std\",\"std\",\"std\",\"std\",\"std\",\"std\",\"std\",\"std\",\"std\",\"std\",\"std\",\"std\",\"std\",\"std\",\"std\",\"std\",\"std\",\"std\",\"std\",\"std\",\"std\",\"std\",\"std\",\"std\",\"std\",\"std\",\"turbo\",\"turbo\",\"turbo\",\"turbo\",\"std\",\"std\",\"std\",\"std\",\"turbo\",\"std\",\"std\",\"std\",\"turbo\",\"turbo\",\"std\",\"turbo\",\"turbo\",\"turbo\",\"std\",\"std\",\"turbo\",\"std\",\"std\",\"std\",\"std\",\"std\",\"std\",\"std\",\"std\",\"std\",\"std\",\"std\",\"std\",\"std\",\"std\",\"std\",\"std\",\"std\",\"turbo\",\"std\",\"std\",\"turbo\",\"std\",\"turbo\",\"std\",\"turbo\",\"std\",\"turbo\",\"std\",\"turbo\",\"turbo\",\"std\",\"turbo\",\"std\",\"std\",\"std\",\"std\",\"turbo\",\"std\",\"std\",\"std\",\"std\",\"std\",\"std\",\"std\",\"std\",\"std\",\"std\",\"std\",\"turbo\",\"turbo\",\"std\",\"std\",\"std\",\"std\",\"std\",\"std\",\"std\",\"turbo\",\"std\",\"std\",\"std\",\"turbo\",\"std\",\"std\",\"std\",\"std\",\"std\",\"std\",\"std\",\"std\",\"std\",\"std\",\"std\",\"std\",\"std\",\"std\",\"std\",\"std\",\"std\",\"std\",\"std\",\"std\",\"std\",\"std\",\"std\",\"std\",\"turbo\",\"std\",\"std\",\"std\",\"std\",\"std\",\"std\",\"std\",\"std\",\"std\",\"std\",\"std\",\"std\",\"turbo\",\"std\",\"std\",\"std\",\"std\",\"turbo\",\"std\",\"std\",\"std\",\"std\",\"std\",\"turbo\",\"turbo\",\"std\",\"turbo\",\"std\",\"turbo\",\"turbo\"],\"body-style\":[\"convertible\",\"convertible\",\"hatchback\",\"sedan\",\"sedan\",\"sedan\",\"sedan\",\"wagon\",\"sedan\",\"hatchback\",\"sedan\",\"sedan\",\"sedan\",\"sedan\",\"sedan\",\"sedan\",\"sedan\",\"sedan\",\"hatchback\",\"hatchback\",\"sedan\",\"hatchback\",\"hatchback\",\"hatchback\",\"hatchback\",\"sedan\",\"sedan\",\"sedan\",\"wagon\",\"hatchback\",\"hatchback\",\"hatchback\",\"hatchback\",\"hatchback\",\"hatchback\",\"sedan\",\"wagon\",\"hatchback\",\"hatchback\",\"sedan\",\"sedan\",\"sedan\",\"sedan\",\"sedan\",\"sedan\",\"sedan\",\"hatchback\",\"sedan\",\"sedan\",\"sedan\",\"hatchback\",\"hatchback\",\"hatchback\",\"sedan\",\"sedan\",\"hatchback\",\"hatchback\",\"hatchback\",\"hatchback\",\"hatchback\",\"sedan\",\"hatchback\",\"sedan\",\"sedan\",\"hatchback\",\"sedan\",\"sedan\",\"sedan\",\"wagon\",\"hardtop\",\"sedan\",\"sedan\",\"convertible\",\"sedan\",\"hardtop\",\"hatchback\",\"hatchback\",\"hatchback\",\"hatchback\",\"hatchback\",\"hatchback\",\"hatchback\",\"hatchback\",\"hatchback\",\"hatchback\",\"sedan\",\"sedan\",\"sedan\",\"sedan\",\"sedan\",\"sedan\",\"sedan\",\"sedan\",\"wagon\",\"sedan\",\"hatchback\",\"sedan\",\"wagon\",\"hardtop\",\"hatchback\",\"sedan\",\"sedan\",\"wagon\",\"sedan\",\"hatchback\",\"hatchback\",\"hatchback\",\"sedan\",\"sedan\",\"wagon\",\"wagon\",\"sedan\",\"sedan\",\"wagon\",\"wagon\",\"sedan\",\"sedan\",\"sedan\",\"hatchback\",\"hatchback\",\"hatchback\",\"sedan\",\"sedan\",\"wagon\",\"hatchback\",\"hatchback\",\"hardtop\",\"hardtop\",\"convertible\",\"hatchback\",\"wagon\",\"hatchback\",\"hatchback\",\"sedan\",\"hatchback\",\"sedan\",\"hatchback\",\"sedan\",\"hatchback\",\"hatchback\",\"hatchback\",\"sedan\",\"sedan\",\"sedan\",\"sedan\",\"sedan\",\"wagon\",\"wagon\",\"wagon\",\"wagon\",\"hatchback\",\"hatchback\",\"hatchback\",\"wagon\",\"wagon\",\"wagon\",\"sedan\",\"hatchback\",\"sedan\",\"hatchback\",\"sedan\",\"hatchback\",\"sedan\",\"sedan\",\"hatchback\",\"sedan\",\"hatchback\",\"hardtop\",\"hardtop\",\"hatchback\",\"hardtop\",\"hatchback\",\"convertible\",\"sedan\",\"sedan\",\"hatchback\",\"sedan\",\"hatchback\",\"hatchback\",\"hatchback\",\"sedan\",\"wagon\",\"sedan\",\"sedan\",\"sedan\",\"sedan\",\"sedan\",\"sedan\",\"sedan\",\"convertible\",\"hatchback\",\"sedan\",\"sedan\",\"wagon\",\"sedan\",\"wagon\",\"sedan\",\"wagon\",\"sedan\",\"wagon\",\"sedan\",\"sedan\",\"sedan\",\"sedan\",\"sedan\"],\"bore\":[\"3.47\",\"3.47\",\"2.68\",\"3.19\",\"3.19\",\"3.19\",\"3.19\",\"3.19\",\"3.13\",\"3.13\",\"3.5\",\"3.5\",\"3.31\",\"3.31\",\"3.31\",\"3.62\",\"3.62\",\"3.62\",\"2.91\",\"3.03\",\"3.03\",\"2.97\",\"2.97\",\"3.03\",\"2.97\",\"2.97\",\"2.97\",\"3.03\",\"3.34\",\"3.6\",\"2.91\",\"2.91\",\"2.91\",\"2.91\",\"2.91\",\"2.91\",\"2.92\",\"3.15\",\"3.15\",\"3.15\",\"3.15\",\"3.15\",\"3.15\",\"3.31\",\"3.03\",\"3.03\",\"3.43\",\"3.63\",\"3.63\",\"3.54\",\"3.03\",\"3.03\",\"3.03\",\"3.03\",\"3.08\",\"?\",\"?\",\"?\",\"?\",\"3.39\",\"3.39\",\"3.39\",\"3.39\",\"3.39\",\"3.39\",\"3.76\",\"3.43\",\"3.58\",\"3.58\",\"3.58\",\"3.58\",\"3.46\",\"3.46\",\"3.8\",\"3.8\",\"3.78\",\"2.97\",\"2.97\",\"2.97\",\"3.03\",\"3.17\",\"3.35\",\"3.58\",\"3.59\",\"3.59\",\"3.35\",\"3.35\",\"3.17\",\"3.17\",\"3.15\",\"2.99\",\"3.15\",\"3.15\",\"3.15\",\"3.15\",\"3.15\",\"3.15\",\"3.15\",\"3.15\",\"3.33\",\"3.33\",\"3.43\",\"3.43\",\"3.43\",\"3.43\",\"3.43\",\"3.43\",\"3.46\",\"3.7\",\"3.46\",\"3.7\",\"3.46\",\"3.7\",\"3.46\",\"3.7\",\"3.46\",\"3.7\",\"3.61\",\"2.97\",\"3.03\",\"2.97\",\"2.97\",\"2.97\",\"3.35\",\"3.59\",\"3.94\",\"3.74\",\"3.74\",\"3.74\",\"3.94\",\"3.46\",\"3.46\",\"3.54\",\"3.54\",\"2.54\",\"3.54\",\"3.54\",\"3.54\",\"3.62\",\"3.62\",\"3.62\",\"3.62\",\"3.62\",\"3.62\",\"3.62\",\"3.62\",\"3.62\",\"3.62\",\"3.62\",\"3.62\",\"3.05\",\"3.05\",\"3.05\",\"3.05\",\"3.05\",\"3.05\",\"3.19\",\"3.19\",\"3.27\",\"3.27\",\"3.19\",\"3.19\",\"3.19\",\"3.19\",\"3.19\",\"3.24\",\"3.24\",\"3.62\",\"3.62\",\"3.62\",\"3.62\",\"3.62\",\"3.62\",\"3.31\",\"3.27\",\"3.31\",\"3.31\",\"3.31\",\"3.27\",\"3.27\",\"3.27\",\"3.27\",\"3.01\",\"3.19\",\"3.01\",\"3.19\",\"3.19\",\"3.01\",\"3.19\",\"3.19\",\"3.19\",\"3.19\",\"3.01\",\"3.19\",\"3.78\",\"3.78\",\"3.78\",\"3.78\",\"3.62\",\"3.62\",\"3.78\",\"3.78\",\"3.58\",\"3.01\",\"3.78\"],\"city-mpg\":[21,21,19,24,18,19,19,19,17,16,23,23,21,21,20,16,16,15,47,38,38,37,31,24,31,31,31,24,24,19,49,31,38,30,30,30,30,27,27,27,27,24,25,24,38,38,24,15,15,13,30,31,31,31,31,17,17,17,16,26,26,26,26,36,26,19,31,22,22,22,22,16,16,14,14,19,37,31,31,24,23,25,19,19,19,25,25,23,23,31,45,31,31,31,31,31,31,31,31,27,27,17,17,19,19,17,19,19,28,19,25,19,28,19,25,19,28,18,37,24,31,31,31,24,19,19,17,17,17,17,23,23,21,21,21,21,19,19,31,26,26,32,28,26,24,24,28,25,23,23,35,31,31,31,27,27,30,30,34,38,38,28,28,29,29,26,26,24,24,24,24,24,24,29,30,27,27,27,20,19,20,19,37,27,37,27,27,37,26,24,24,19,33,25,23,23,24,24,17,17,23,19,18,26,19],\"compression-ratio\":{\"__ndarray__\":\"AAAAAAAAIkAAAAAAAAAiQAAAAAAAACJAAAAAAAAAJEAAAAAAAAAgQAAAAAAAACFAAAAAAAAAIUAAAAAAAAAhQJqZmZmZmSBAAAAAAAAAHECamZmZmZkhQJqZmZmZmSFAAAAAAAAAIkAAAAAAAAAiQAAAAAAAACJAAAAAAAAAIEAAAAAAAAAgQAAAAAAAACBAAAAAAAAAI0AzMzMzMzMjQDMzMzMzMyNAUrgehevRIkDNzMzMzMwiQGZmZmZmZh5AzczMzMzMIkDNzMzMzMwiQM3MzMzMzCJAZmZmZmZmHkAAAAAAAAAhQAAAAAAAABxAMzMzMzMzI0BmZmZmZmYiQDMzMzMzMyRAZmZmZmZmIkBmZmZmZmYiQGZmZmZmZiJAZmZmZmZmIkAAAAAAAAAiQAAAAAAAACJAAAAAAAAAIkAAAAAAAAAiQAAAAAAAACJAMzMzMzMzIkAAAAAAAAAhQDMzMzMzMyNAMzMzMzMzI0BmZmZmZmYiQDMzMzMzMyBAMzMzMzMzIEAAAAAAAAAnQAAAAAAAACJAAAAAAAAAIkAAAAAAAAAiQAAAAAAAACJAAAAAAAAAIkDNzMzMzMwiQM3MzMzMzCJAzczMzMzMIkDNzMzMzMwiQDMzMzMzMyFAMzMzMzMzIUAzMzMzMzMhQDMzMzMzMyFAMzMzMzOzNkAzMzMzMzMhQAAAAAAAACBAAAAAAAAANkAAAAAAAIA1QAAAAAAAgDVAAAAAAACANUAAAAAAAIA1QJqZmZmZmSBAmpmZmZmZIEAAAAAAAAAgQAAAAAAAACBAAAAAAAAAIEDNzMzMzMwiQM3MzMzMzCJAzczMzMzMIkBmZmZmZmYeQAAAAAAAAB5AAAAAAAAAIUAAAAAAAAAcQAAAAAAAABxAAAAAAAAAHEAAAAAAAAAhQAAAAAAAACFAAAAAAAAAHkAAAAAAAAAeQM3MzMzMzCJAZmZmZmbmNUDNzMzMzMwiQM3MzMzMzCJAzczMzMzMIkDNzMzMzMwiQM3MzMzMzCJAzczMzMzMIkDNzMzMzMwiQM3MzMzMzCJAAAAAAAAAIUAAAAAAAAAhQAAAAAAAACJAAAAAAAAAIkAAAAAAAAAiQAAAAAAAACJAMzMzMzMzH0AAAAAAAAAiQM3MzMzMzCBAAAAAAAAANUDNzMzMzMwgQAAAAAAAADVAzczMzMzMIEAAAAAAAAA1QM3MzMzMzCBAAAAAAAAANUDNzMzMzMwgQAAAAAAAADVAAAAAAAAAHEDNzMzMzMwiQGZmZmZmZh5AzczMzMzMIkDNzMzMzMwiQM3MzMzMzCJAAAAAAAAAIUAAAAAAAAAcQAAAAAAAACNAAAAAAAAAI0AAAAAAAAAjQAAAAAAAACNAAAAAAAAAJEBmZmZmZmYhQGZmZmZmZiFAH4XrUbieIkCamZmZmZkiQJqZmZmZmSJAmpmZmZmZIkAAAAAAAAAiQAAAAAAAACJAAAAAAAAAIkBmZmZmZmYhQGZmZmZmZiFAAAAAAAAAI0AAAAAAAAAjQAAAAAAAACJAAAAAAAAAIkDNzMzMzMweQAAAAAAAACJAAAAAAAAAIkAAAAAAAAAiQM3MzMzMzB5AAAAAAAAAIkAAAAAAAAAiQAAAAAAAACJAAAAAAAAAIkAAAAAAAAAiQAAAAAAAACJAAAAAAAAAIkAAAAAAAAAiQAAAAAAAgDZAAAAAAACANkAAAAAAAAAiQAAAAAAAACJAAAAAAAAAIkAAAAAAAAAiQAAAAAAAACJAzczMzMzMIkDNzMzMzMwiQJqZmZmZmSJAmpmZmZmZIkCamZmZmZkiQJqZmZmZmSJAmpmZmZmZIkCamZmZmZkiQGZmZmZmZiFAAAAAAACANkBmZmZmZmYhQGZmZmZmZiFAZmZmZmZmIUCamZmZmZkiQJqZmZmZmSJAZmZmZmZmIkBmZmZmZmYiQAAAAAAAADdAAAAAAAAAIkAAAAAAAAA3QAAAAAAAACJAAAAAAAAAIkAAAAAAAAA3QAAAAAAAACRAAAAAAAAAIUAAAAAAAAAhQAAAAAAAACFAAAAAAAAAN0AAAAAAAAAiQAAAAAAAACNAAAAAAAAAI0AAAAAAAAAjQAAAAAAAACNAAAAAAAAAHkAAAAAAAAAeQAAAAAAAACNAZmZmZmZmIUCamZmZmZkhQAAAAAAAADdAAAAAAAAAI0A=\",\"dtype\":\"float64\",\"order\":\"little\",\"shape\":[205]},\"curb-weight\":[2548,2548,2823,2337,2824,2507,2844,2954,3086,3053,2395,2395,2710,2765,3055,3230,3380,3505,1488,1874,1909,1876,1876,2128,1967,1989,1989,2191,2535,2811,1713,1819,1837,1940,1956,2010,2024,2236,2289,2304,2372,2465,2293,2337,1874,1909,2734,4066,4066,3950,1890,1900,1905,1945,1950,2380,2380,2385,2500,2385,2410,2385,2410,2443,2425,2670,2700,3515,3750,3495,3770,3740,3685,3900,3715,2910,1918,1944,2004,2145,2370,2328,2833,2921,2926,2365,2405,2403,2403,1889,2017,1918,1938,2024,1951,2028,1971,2037,2008,2324,2302,3095,3296,3060,3071,3139,3139,3020,3197,3230,3430,3075,3252,3285,3485,3075,3252,3130,1918,2128,1967,1989,2191,2535,2818,2778,2756,2756,2800,3366,2579,2460,2658,2695,2707,2758,2808,2847,2050,2120,2240,2145,2190,2340,2385,2510,2290,2455,2420,2650,1985,2040,2015,2280,2290,3110,2081,2109,2275,2275,2094,2122,2140,2169,2204,2265,2300,2540,2536,2551,2679,2714,2975,2326,2480,2414,2414,2458,2976,3016,3131,3151,2261,2209,2264,2212,2275,2319,2300,2254,2221,2661,2579,2563,2912,3034,2935,3042,3045,3157,2952,3049,3012,3217,3062],\"drive-wheels\":[\"rwd\",\"rwd\",\"rwd\",\"fwd\",\"4wd\",\"fwd\",\"fwd\",\"fwd\",\"fwd\",\"4wd\",\"rwd\",\"rwd\",\"rwd\",\"rwd\",\"rwd\",\"rwd\",\"rwd\",\"rwd\",\"fwd\",\"fwd\",\"fwd\",\"fwd\",\"fwd\",\"fwd\",\"fwd\",\"fwd\",\"fwd\",\"fwd\",\"fwd\",\"fwd\",\"fwd\",\"fwd\",\"fwd\",\"fwd\",\"fwd\",\"fwd\",\"fwd\",\"fwd\",\"fwd\",\"fwd\",\"fwd\",\"fwd\",\"fwd\",\"rwd\",\"fwd\",\"fwd\",\"rwd\",\"rwd\",\"rwd\",\"rwd\",\"fwd\",\"fwd\",\"fwd\",\"fwd\",\"fwd\",\"rwd\",\"rwd\",\"rwd\",\"rwd\",\"fwd\",\"fwd\",\"fwd\",\"fwd\",\"fwd\",\"fwd\",\"rwd\",\"rwd\",\"rwd\",\"rwd\",\"rwd\",\"rwd\",\"rwd\",\"rwd\",\"rwd\",\"rwd\",\"rwd\",\"fwd\",\"fwd\",\"fwd\",\"fwd\",\"fwd\",\"fwd\",\"fwd\",\"fwd\",\"fwd\",\"fwd\",\"fwd\",\"fwd\",\"fwd\",\"fwd\",\"fwd\",\"fwd\",\"fwd\",\"fwd\",\"fwd\",\"fwd\",\"fwd\",\"fwd\",\"fwd\",\"fwd\",\"fwd\",\"fwd\",\"fwd\",\"fwd\",\"rwd\",\"rwd\",\"rwd\",\"rwd\",\"rwd\",\"rwd\",\"rwd\",\"rwd\",\"rwd\",\"rwd\",\"rwd\",\"rwd\",\"rwd\",\"rwd\",\"fwd\",\"fwd\",\"fwd\",\"fwd\",\"fwd\",\"fwd\",\"rwd\",\"rwd\",\"rwd\",\"rwd\",\"rwd\",\"rwd\",\"fwd\",\"fwd\",\"fwd\",\"fwd\",\"fwd\",\"fwd\",\"fwd\",\"fwd\",\"fwd\",\"fwd\",\"4wd\",\"fwd\",\"fwd\",\"fwd\",\"4wd\",\"4wd\",\"fwd\",\"fwd\",\"4wd\",\"4wd\",\"fwd\",\"fwd\",\"fwd\",\"fwd\",\"4wd\",\"4wd\",\"fwd\",\"fwd\",\"fwd\",\"fwd\",\"fwd\",\"fwd\",\"fwd\",\"rwd\",\"rwd\",\"rwd\",\"rwd\",\"rwd\",\"rwd\",\"rwd\",\"rwd\",\"rwd\",\"rwd\",\"fwd\",\"fwd\",\"fwd\",\"fwd\",\"fwd\",\"rwd\",\"rwd\",\"rwd\",\"rwd\",\"fwd\",\"fwd\",\"fwd\",\"fwd\",\"fwd\",\"fwd\",\"fwd\",\"fwd\",\"fwd\",\"fwd\",\"fwd\",\"fwd\",\"rwd\",\"rwd\",\"rwd\",\"rwd\",\"rwd\",\"rwd\",\"rwd\",\"rwd\",\"rwd\",\"rwd\",\"rwd\"],\"engine-location\":[\"front\",\"front\",\"front\",\"front\",\"front\",\"front\",\"front\",\"front\",\"front\",\"front\",\"front\",\"front\",\"front\",\"front\",\"front\",\"front\",\"front\",\"front\",\"front\",\"front\",\"front\",\"front\",\"front\",\"front\",\"front\",\"front\",\"front\",\"front\",\"front\",\"front\",\"front\",\"front\",\"front\",\"front\",\"front\",\"front\",\"front\",\"front\",\"front\",\"front\",\"front\",\"front\",\"front\",\"front\",\"front\",\"front\",\"front\",\"front\",\"front\",\"front\",\"front\",\"front\",\"front\",\"front\",\"front\",\"front\",\"front\",\"front\",\"front\",\"front\",\"front\",\"front\",\"front\",\"front\",\"front\",\"front\",\"front\",\"front\",\"front\",\"front\",\"front\",\"front\",\"front\",\"front\",\"front\",\"front\",\"front\",\"front\",\"front\",\"front\",\"front\",\"front\",\"front\",\"front\",\"front\",\"front\",\"front\",\"front\",\"front\",\"front\",\"front\",\"front\",\"front\",\"front\",\"front\",\"front\",\"front\",\"front\",\"front\",\"front\",\"front\",\"front\",\"front\",\"front\",\"front\",\"front\",\"front\",\"front\",\"front\",\"front\",\"front\",\"front\",\"front\",\"front\",\"front\",\"front\",\"front\",\"front\",\"front\",\"front\",\"front\",\"front\",\"front\",\"front\",\"front\",\"front\",\"rear\",\"rear\",\"rear\",\"front\",\"front\",\"front\",\"front\",\"front\",\"front\",\"front\",\"front\",\"front\",\"front\",\"front\",\"front\",\"front\",\"front\",\"front\",\"front\",\"front\",\"front\",\"front\",\"front\",\"front\",\"front\",\"front\",\"front\",\"front\",\"front\",\"front\",\"front\",\"front\",\"front\",\"front\",\"front\",\"front\",\"front\",\"front\",\"front\",\"front\",\"front\",\"front\",\"front\",\"front\",\"front\",\"front\",\"front\",\"front\",\"front\",\"front\",\"front\",\"front\",\"front\",\"front\",\"front\",\"front\",\"front\",\"front\",\"front\",\"front\",\"front\",\"front\",\"front\",\"front\",\"front\",\"front\",\"front\",\"front\",\"front\",\"front\",\"front\",\"front\",\"front\",\"front\",\"front\",\"front\",\"front\",\"front\",\"front\"],\"engine-size\":[130,130,152,109,136,136,136,136,131,131,108,108,164,164,164,209,209,209,61,90,90,90,90,98,90,90,90,98,122,156,92,92,79,92,92,92,92,110,110,110,110,110,110,111,90,90,119,258,258,326,91,91,91,91,91,70,70,70,80,122,122,122,122,122,122,140,134,183,183,183,183,234,234,308,304,140,92,92,92,98,110,122,156,156,156,122,122,110,110,97,103,97,97,97,97,97,97,97,97,120,120,181,181,181,181,181,181,120,152,120,152,120,152,120,152,120,152,134,90,98,90,90,98,122,156,151,194,194,194,203,132,132,121,121,121,121,121,121,97,108,108,108,108,108,108,108,108,108,108,108,92,92,92,92,92,92,98,98,110,110,98,98,98,98,98,98,98,146,146,146,146,146,146,122,110,122,122,122,171,171,171,161,97,109,97,109,109,97,109,109,109,136,97,109,141,141,141,141,130,130,141,141,173,145,141],\"engine-type\":[\"dohc\",\"dohc\",\"ohcv\",\"ohc\",\"ohc\",\"ohc\",\"ohc\",\"ohc\",\"ohc\",\"ohc\",\"ohc\",\"ohc\",\"ohc\",\"ohc\",\"ohc\",\"ohc\",\"ohc\",\"ohc\",\"l\",\"ohc\",\"ohc\",\"ohc\",\"ohc\",\"ohc\",\"ohc\",\"ohc\",\"ohc\",\"ohc\",\"ohc\",\"ohc\",\"ohc\",\"ohc\",\"ohc\",\"ohc\",\"ohc\",\"ohc\",\"ohc\",\"ohc\",\"ohc\",\"ohc\",\"ohc\",\"ohc\",\"ohc\",\"ohc\",\"ohc\",\"ohc\",\"ohc\",\"dohc\",\"dohc\",\"ohcv\",\"ohc\",\"ohc\",\"ohc\",\"ohc\",\"ohc\",\"rotor\",\"rotor\",\"rotor\",\"rotor\",\"ohc\",\"ohc\",\"ohc\",\"ohc\",\"ohc\",\"ohc\",\"ohc\",\"ohc\",\"ohc\",\"ohc\",\"ohc\",\"ohc\",\"ohcv\",\"ohcv\",\"ohcv\",\"ohcv\",\"ohc\",\"ohc\",\"ohc\",\"ohc\",\"ohc\",\"ohc\",\"ohc\",\"ohc\",\"ohc\",\"ohc\",\"ohc\",\"ohc\",\"ohc\",\"ohc\",\"ohc\",\"ohc\",\"ohc\",\"ohc\",\"ohc\",\"ohc\",\"ohc\",\"ohc\",\"ohc\",\"ohc\",\"ohc\",\"ohc\",\"ohcv\",\"ohcv\",\"ohcv\",\"ohcv\",\"ohcv\",\"ohcv\",\"l\",\"l\",\"l\",\"l\",\"l\",\"l\",\"l\",\"l\",\"l\",\"l\",\"l\",\"ohc\",\"ohc\",\"ohc\",\"ohc\",\"ohc\",\"ohc\",\"ohc\",\"ohc\",\"ohcf\",\"ohcf\",\"ohcf\",\"dohcv\",\"ohc\",\"ohc\",\"ohc\",\"ohc\",\"ohc\",\"ohc\",\"dohc\",\"dohc\",\"ohcf\",\"ohcf\",\"ohcf\",\"ohcf\",\"ohcf\",\"ohcf\",\"ohcf\",\"ohcf\",\"ohcf\",\"ohcf\",\"ohcf\",\"ohcf\",\"ohc\",\"ohc\",\"ohc\",\"ohc\",\"ohc\",\"ohc\",\"ohc\",\"ohc\",\"ohc\",\"ohc\",\"ohc\",\"ohc\",\"ohc\",\"ohc\",\"ohc\",\"dohc\",\"dohc\",\"ohc\",\"ohc\",\"ohc\",\"ohc\",\"ohc\",\"ohc\",\"ohc\",\"ohc\",\"ohc\",\"ohc\",\"ohc\",\"dohc\",\"dohc\",\"dohc\",\"dohc\",\"ohc\",\"ohc\",\"ohc\",\"ohc\",\"ohc\",\"ohc\",\"ohc\",\"ohc\",\"ohc\",\"ohc\",\"ohc\",\"ohc\",\"ohc\",\"ohc\",\"ohc\",\"ohc\",\"ohc\",\"ohc\",\"ohc\",\"ohc\",\"ohcv\",\"ohc\",\"ohc\"],\"fuel-system\":[\"mpfi\",\"mpfi\",\"mpfi\",\"mpfi\",\"mpfi\",\"mpfi\",\"mpfi\",\"mpfi\",\"mpfi\",\"mpfi\",\"mpfi\",\"mpfi\",\"mpfi\",\"mpfi\",\"mpfi\",\"mpfi\",\"mpfi\",\"mpfi\",\"2bbl\",\"2bbl\",\"2bbl\",\"2bbl\",\"2bbl\",\"mpfi\",\"2bbl\",\"2bbl\",\"2bbl\",\"mpfi\",\"2bbl\",\"mfi\",\"1bbl\",\"1bbl\",\"1bbl\",\"1bbl\",\"1bbl\",\"1bbl\",\"1bbl\",\"1bbl\",\"1bbl\",\"1bbl\",\"1bbl\",\"mpfi\",\"2bbl\",\"2bbl\",\"2bbl\",\"2bbl\",\"spfi\",\"mpfi\",\"mpfi\",\"mpfi\",\"2bbl\",\"2bbl\",\"2bbl\",\"2bbl\",\"2bbl\",\"4bbl\",\"4bbl\",\"4bbl\",\"mpfi\",\"2bbl\",\"2bbl\",\"2bbl\",\"2bbl\",\"idi\",\"2bbl\",\"mpfi\",\"idi\",\"idi\",\"idi\",\"idi\",\"idi\",\"mpfi\",\"mpfi\",\"mpfi\",\"mpfi\",\"mpfi\",\"2bbl\",\"2bbl\",\"2bbl\",\"spdi\",\"spdi\",\"2bbl\",\"spdi\",\"spdi\",\"spdi\",\"2bbl\",\"2bbl\",\"spdi\",\"spdi\",\"2bbl\",\"idi\",\"2bbl\",\"2bbl\",\"2bbl\",\"2bbl\",\"2bbl\",\"2bbl\",\"2bbl\",\"2bbl\",\"2bbl\",\"2bbl\",\"mpfi\",\"mpfi\",\"mpfi\",\"mpfi\",\"mpfi\",\"mpfi\",\"mpfi\",\"idi\",\"mpfi\",\"idi\",\"mpfi\",\"idi\",\"mpfi\",\"idi\",\"mpfi\",\"idi\",\"mpfi\",\"2bbl\",\"spdi\",\"2bbl\",\"2bbl\",\"2bbl\",\"2bbl\",\"spdi\",\"mpfi\",\"mpfi\",\"mpfi\",\"mpfi\",\"mpfi\",\"mpfi\",\"mpfi\",\"mpfi\",\"mpfi\",\"mpfi\",\"mpfi\",\"mpfi\",\"mpfi\",\"2bbl\",\"2bbl\",\"2bbl\",\"2bbl\",\"2bbl\",\"mpfi\",\"2bbl\",\"mpfi\",\"2bbl\",\"mpfi\",\"2bbl\",\"mpfi\",\"2bbl\",\"2bbl\",\"2bbl\",\"2bbl\",\"2bbl\",\"2bbl\",\"2bbl\",\"2bbl\",\"idi\",\"idi\",\"2bbl\",\"2bbl\",\"2bbl\",\"2bbl\",\"2bbl\",\"mpfi\",\"mpfi\",\"mpfi\",\"mpfi\",\"mpfi\",\"mpfi\",\"mpfi\",\"mpfi\",\"mpfi\",\"idi\",\"mpfi\",\"mpfi\",\"mpfi\",\"mpfi\",\"mpfi\",\"mpfi\",\"mpfi\",\"idi\",\"mpfi\",\"idi\",\"mpfi\",\"mpfi\",\"idi\",\"mpfi\",\"mpfi\",\"mpfi\",\"mpfi\",\"idi\",\"mpfi\",\"mpfi\",\"mpfi\",\"mpfi\",\"mpfi\",\"mpfi\",\"mpfi\",\"mpfi\",\"mpfi\",\"mpfi\",\"idi\",\"mpfi\"],\"fuel-type\":[\"gas\",\"gas\",\"gas\",\"gas\",\"gas\",\"gas\",\"gas\",\"gas\",\"gas\",\"gas\",\"gas\",\"gas\",\"gas\",\"gas\",\"gas\",\"gas\",\"gas\",\"gas\",\"gas\",\"gas\",\"gas\",\"gas\",\"gas\",\"gas\",\"gas\",\"gas\",\"gas\",\"gas\",\"gas\",\"gas\",\"gas\",\"gas\",\"gas\",\"gas\",\"gas\",\"gas\",\"gas\",\"gas\",\"gas\",\"gas\",\"gas\",\"gas\",\"gas\",\"gas\",\"gas\",\"gas\",\"gas\",\"gas\",\"gas\",\"gas\",\"gas\",\"gas\",\"gas\",\"gas\",\"gas\",\"gas\",\"gas\",\"gas\",\"gas\",\"gas\",\"gas\",\"gas\",\"gas\",\"diesel\",\"gas\",\"gas\",\"diesel\",\"diesel\",\"diesel\",\"diesel\",\"diesel\",\"gas\",\"gas\",\"gas\",\"gas\",\"gas\",\"gas\",\"gas\",\"gas\",\"gas\",\"gas\",\"gas\",\"gas\",\"gas\",\"gas\",\"gas\",\"gas\",\"gas\",\"gas\",\"gas\",\"diesel\",\"gas\",\"gas\",\"gas\",\"gas\",\"gas\",\"gas\",\"gas\",\"gas\",\"gas\",\"gas\",\"gas\",\"gas\",\"gas\",\"gas\",\"gas\",\"gas\",\"gas\",\"diesel\",\"gas\",\"diesel\",\"gas\",\"diesel\",\"gas\",\"diesel\",\"gas\",\"diesel\",\"gas\",\"gas\",\"gas\",\"gas\",\"gas\",\"gas\",\"gas\",\"gas\",\"gas\",\"gas\",\"gas\",\"gas\",\"gas\",\"gas\",\"gas\",\"gas\",\"gas\",\"gas\",\"gas\",\"gas\",\"gas\",\"gas\",\"gas\",\"gas\",\"gas\",\"gas\",\"gas\",\"gas\",\"gas\",\"gas\",\"gas\",\"gas\",\"gas\",\"gas\",\"gas\",\"gas\",\"gas\",\"gas\",\"gas\",\"gas\",\"gas\",\"diesel\",\"diesel\",\"gas\",\"gas\",\"gas\",\"gas\",\"gas\",\"gas\",\"gas\",\"gas\",\"gas\",\"gas\",\"gas\",\"gas\",\"gas\",\"gas\",\"diesel\",\"gas\",\"gas\",\"gas\",\"gas\",\"gas\",\"gas\",\"gas\",\"diesel\",\"gas\",\"diesel\",\"gas\",\"gas\",\"diesel\",\"gas\",\"gas\",\"gas\",\"gas\",\"diesel\",\"gas\",\"gas\",\"gas\",\"gas\",\"gas\",\"gas\",\"gas\",\"gas\",\"gas\",\"gas\",\"diesel\",\"gas\"],\"height\":{\"__ndarray__\":\"ZmZmZmZmSEBmZmZmZmZIQDMzMzMzM0pAZmZmZmYmS0BmZmZmZiZLQM3MzMzMjEpAmpmZmZnZS0CamZmZmdlLQDMzMzMz80tAAAAAAAAASkBmZmZmZiZLQGZmZmZmJktAZmZmZmYmS0BmZmZmZiZLQJqZmZmZ2UtAmpmZmZnZS0CamZmZmdlKQGZmZmZmJkxAmpmZmZmZSkAAAAAAAABKQAAAAAAAAEpAZmZmZmZmSUBmZmZmZmZJQGZmZmZmZklAzczMzMxMSUDNzMzMzExJQM3MzMzMTElAzczMzMxMSUBmZmZmZuZNQJqZmZmZGUlAZmZmZmZmSUBmZmZmZmZJQM3MzMzMTEpAzczMzMxMSkDNzMzMzExKQAAAAAAAQEtAZmZmZmYmTUBmZmZmZqZKQGZmZmZmpkpAzczMzMwMS0DNzMzMzAxLQM3MzMzMDEtAAAAAAACASUAAAAAAAMBKQAAAAAAAAEpAAAAAAAAASkAzMzMzM7NJQGZmZmZmZkpAZmZmZmZmSkBmZmZmZuZHQM3MzMzMDEtAzczMzMwMS0DNzMzMzAxLQM3MzMzMDEtAzczMzMwMS0DNzMzMzMxIQM3MzMzMzEhAzczMzMzMSEDNzMzMzMxIQJqZmZmZ2UpAAAAAAADAS0CamZmZmdlKQAAAAAAAwEtAAAAAAADAS0AAAAAAAMBLQDMzMzMzM0tAMzMzMzMzS0AAAAAAAEBMQJqZmZmZWU1AMzMzMzNzS0BmZmZmZiZMQAAAAAAAQExAZmZmZmZmSUCamZmZmVlMQDMzMzMzs0tAZmZmZmZmS0BmZmZmZmZJQGZmZmZmZklAZmZmZmZmSUBmZmZmZmZJQDMzMzMzs0hAMzMzMzOzSECamZmZmRlJQJqZmZmZGUlAmpmZmZkZSUDNzMzMzMxJQM3MzMzMzElAzczMzMzMSUDNzMzMzMxJQAAAAAAAQEtAAAAAAABAS0AAAAAAAEBLQAAAAAAAQEtAAAAAAADASkAAAAAAAEBLQGZmZmZmpkpAAAAAAABAS0AAAAAAAMBKQGZmZmZmpkpAmpmZmZlZS0CamZmZmVlLQM3MzMzMjEtAzczMzMwMTEDNzMzMzIxLQJqZmZmZ2UhAmpmZmZnZSECamZmZmdlIQJqZmZmZWUxAmpmZmZlZTECamZmZmVlNQJqZmZmZWU1AmpmZmZlZTECamZmZmVlMQJqZmZmZWUxAmpmZmZlZTUCamZmZmVlMQJqZmZmZWUxAAAAAAAAATEBmZmZmZmZJQGZmZmZmZklAzczMzMxMSUBmZmZmZmZJQGZmZmZmZklAZmZmZmbmTUCamZmZmRlJQJqZmZmZGUlAzczMzMzMSUDNzMzMzMxJQM3MzMzMzElAAAAAAABASUCamZmZmZlLQAAAAAAAQElAzczMzMwMTEDNzMzMzAxMQM3MzMzMDExAzczMzMwMTEDNzMzMzAxMQM3MzMzMDExAmpmZmZnZSkCamZmZmdlKQJqZmZmZ2UtAAAAAAABASkAAAAAAAEBKQAAAAAAAQEpAZmZmZmYmS0BmZmZmZiZLQAAAAAAAgEpAAAAAAACASkAzMzMzM3NLQDMzMzMzc0tAAAAAAABAS0AAAAAAAEBLQAAAAAAAQEtAzczMzMyMTUDNzMzMzIxNQM3MzMzMjE1AAAAAAACASkBmZmZmZmZKQAAAAAAAgEpAZmZmZmZmSkAAAAAAAIBKQGZmZmZmZkpAZmZmZmZmSkDNzMzMzExKQM3MzMzMTEpAzczMzMxMSkDNzMzMzExKQAAAAAAAAEpAAAAAAAAASkAAAAAAAABKQAAAAAAAAEpAAAAAAAAASkAAAAAAAIBKQDMzMzMzc0tAMzMzMzNzS0AzMzMzM/NKQDMzMzMzc0tAMzMzMzPzSkAAAAAAAABKQAAAAAAAAEpAzczMzMwMS0DNzMzMzAxLQJqZmZmZ2UtAmpmZmZnZS0CamZmZmdlLQJqZmZmZ2UtAmpmZmZnZS0CamZmZmdlLQJqZmZmZ2UtAzczMzMzMS0AzMzMzM7NJQM3MzMzMjEtAzczMzMyMS0DNzMzMzIxLQJqZmZmZGUxAAAAAAADATECamZmZmRlMQAAAAAAAwExAmpmZmZkZTEAAAAAAAMBMQAAAAAAAwEtAAAAAAADAS0AAAAAAAMBLQAAAAAAAwEtAAAAAAADAS0A=\",\"dtype\":\"float64\",\"order\":\"little\",\"shape\":[205]},\"highway-mpg\":[27,27,26,30,22,25,25,25,20,22,29,29,28,28,25,22,22,20,53,43,43,41,38,30,38,38,38,30,30,24,54,38,42,34,34,34,34,33,33,33,33,28,31,29,43,43,29,19,19,17,31,38,38,38,38,23,23,23,23,32,32,32,32,42,32,27,39,25,25,25,25,18,18,16,16,24,41,38,38,30,30,32,24,24,24,32,32,30,30,37,50,37,37,37,37,37,37,37,37,34,34,22,22,25,25,23,25,24,33,24,25,24,33,24,25,24,33,24,41,30,38,38,38,30,24,27,25,25,25,28,31,31,28,28,28,28,26,26,36,31,31,37,33,32,25,29,32,31,29,23,39,38,38,37,32,32,37,37,36,47,47,34,34,34,34,29,29,30,30,30,30,30,30,34,33,32,32,32,24,24,24,24,46,34,46,34,34,42,32,29,29,24,38,31,28,28,28,28,22,22,28,25,23,27,25],\"horsepower\":[\"111\",\"111\",\"154\",\"102\",\"115\",\"110\",\"110\",\"110\",\"140\",\"160\",\"101\",\"101\",\"121\",\"121\",\"121\",\"182\",\"182\",\"182\",\"48\",\"70\",\"70\",\"68\",\"68\",\"102\",\"68\",\"68\",\"68\",\"102\",\"88\",\"145\",\"58\",\"76\",\"60\",\"76\",\"76\",\"76\",\"76\",\"86\",\"86\",\"86\",\"86\",\"101\",\"100\",\"78\",\"70\",\"70\",\"90\",\"176\",\"176\",\"262\",\"68\",\"68\",\"68\",\"68\",\"68\",\"101\",\"101\",\"101\",\"135\",\"84\",\"84\",\"84\",\"84\",\"64\",\"84\",\"120\",\"72\",\"123\",\"123\",\"123\",\"123\",\"155\",\"155\",\"184\",\"184\",\"175\",\"68\",\"68\",\"68\",\"102\",\"116\",\"88\",\"145\",\"145\",\"145\",\"88\",\"88\",\"116\",\"116\",\"69\",\"55\",\"69\",\"69\",\"69\",\"69\",\"69\",\"69\",\"69\",\"69\",\"97\",\"97\",\"152\",\"152\",\"152\",\"160\",\"200\",\"160\",\"97\",\"95\",\"97\",\"95\",\"95\",\"95\",\"95\",\"95\",\"97\",\"95\",\"142\",\"68\",\"102\",\"68\",\"68\",\"68\",\"88\",\"145\",\"143\",\"207\",\"207\",\"207\",\"288\",\"?\",\"?\",\"110\",\"110\",\"110\",\"110\",\"160\",\"160\",\"69\",\"73\",\"73\",\"82\",\"82\",\"94\",\"82\",\"111\",\"82\",\"94\",\"82\",\"111\",\"62\",\"62\",\"62\",\"62\",\"62\",\"62\",\"70\",\"70\",\"56\",\"56\",\"70\",\"70\",\"70\",\"70\",\"70\",\"112\",\"112\",\"116\",\"116\",\"116\",\"116\",\"116\",\"116\",\"92\",\"73\",\"92\",\"92\",\"92\",\"161\",\"161\",\"156\",\"156\",\"52\",\"85\",\"52\",\"85\",\"85\",\"68\",\"100\",\"90\",\"90\",\"110\",\"68\",\"88\",\"114\",\"114\",\"114\",\"114\",\"162\",\"162\",\"114\",\"160\",\"134\",\"106\",\"114\"],\"index\":[0,1,2,3,4,5,6,7,8,9,10,11,12,13,14,15,16,17,18,19,20,21,22,23,24,25,26,27,28,29,30,31,32,33,34,35,36,37,38,39,40,41,42,43,44,45,46,47,48,49,50,51,52,53,54,55,56,57,58,59,60,61,62,63,64,65,66,67,68,69,70,71,72,73,74,75,76,77,78,79,80,81,82,83,84,85,86,87,88,89,90,91,92,93,94,95,96,97,98,99,100,101,102,103,104,105,106,107,108,109,110,111,112,113,114,115,116,117,118,119,120,121,122,123,124,125,126,127,128,129,130,131,132,133,134,135,136,137,138,139,140,141,142,143,144,145,146,147,148,149,150,151,152,153,154,155,156,157,158,159,160,161,162,163,164,165,166,167,168,169,170,171,172,173,174,175,176,177,178,179,180,181,182,183,184,185,186,187,188,189,190,191,192,193,194,195,196,197,198,199,200,201,202,203,204],\"length\":{\"__ndarray__\":\"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\",\"dtype\":\"float64\",\"order\":\"little\",\"shape\":[205]},\"make\":[\"alfa-romero\",\"alfa-romero\",\"alfa-romero\",\"audi\",\"audi\",\"audi\",\"audi\",\"audi\",\"audi\",\"audi\",\"bmw\",\"bmw\",\"bmw\",\"bmw\",\"bmw\",\"bmw\",\"bmw\",\"bmw\",\"chevrolet\",\"chevrolet\",\"chevrolet\",\"dodge\",\"dodge\",\"dodge\",\"dodge\",\"dodge\",\"dodge\",\"dodge\",\"dodge\",\"dodge\",\"honda\",\"honda\",\"honda\",\"honda\",\"honda\",\"honda\",\"honda\",\"honda\",\"honda\",\"honda\",\"honda\",\"honda\",\"honda\",\"isuzu\",\"isuzu\",\"isuzu\",\"isuzu\",\"jaguar\",\"jaguar\",\"jaguar\",\"mazda\",\"mazda\",\"mazda\",\"mazda\",\"mazda\",\"mazda\",\"mazda\",\"mazda\",\"mazda\",\"mazda\",\"mazda\",\"mazda\",\"mazda\",\"mazda\",\"mazda\",\"mazda\",\"mazda\",\"mercedes-benz\",\"mercedes-benz\",\"mercedes-benz\",\"mercedes-benz\",\"mercedes-benz\",\"mercedes-benz\",\"mercedes-benz\",\"mercedes-benz\",\"mercury\",\"mitsubishi\",\"mitsubishi\",\"mitsubishi\",\"mitsubishi\",\"mitsubishi\",\"mitsubishi\",\"mitsubishi\",\"mitsubishi\",\"mitsubishi\",\"mitsubishi\",\"mitsubishi\",\"mitsubishi\",\"mitsubishi\",\"nissan\",\"nissan\",\"nissan\",\"nissan\",\"nissan\",\"nissan\",\"nissan\",\"nissan\",\"nissan\",\"nissan\",\"nissan\",\"nissan\",\"nissan\",\"nissan\",\"nissan\",\"nissan\",\"nissan\",\"nissan\",\"peugot\",\"peugot\",\"peugot\",\"peugot\",\"peugot\",\"peugot\",\"peugot\",\"peugot\",\"peugot\",\"peugot\",\"peugot\",\"plymouth\",\"plymouth\",\"plymouth\",\"plymouth\",\"plymouth\",\"plymouth\",\"plymouth\",\"porsche\",\"porsche\",\"porsche\",\"porsche\",\"porsche\",\"renault\",\"renault\",\"saab\",\"saab\",\"saab\",\"saab\",\"saab\",\"saab\",\"subaru\",\"subaru\",\"subaru\",\"subaru\",\"subaru\",\"subaru\",\"subaru\",\"subaru\",\"subaru\",\"subaru\",\"subaru\",\"subaru\",\"toyota\",\"toyota\",\"toyota\",\"toyota\",\"toyota\",\"toyota\",\"toyota\",\"toyota\",\"toyota\",\"toyota\",\"toyota\",\"toyota\",\"toyota\",\"toyota\",\"toyota\",\"toyota\",\"toyota\",\"toyota\",\"toyota\",\"toyota\",\"toyota\",\"toyota\",\"toyota\",\"toyota\",\"toyota\",\"toyota\",\"toyota\",\"toyota\",\"toyota\",\"toyota\",\"toyota\",\"toyota\",\"volkswagen\",\"volkswagen\",\"volkswagen\",\"volkswagen\",\"volkswagen\",\"volkswagen\",\"volkswagen\",\"volkswagen\",\"volkswagen\",\"volkswagen\",\"volkswagen\",\"volkswagen\",\"volvo\",\"volvo\",\"volvo\",\"volvo\",\"volvo\",\"volvo\",\"volvo\",\"volvo\",\"volvo\",\"volvo\",\"volvo\"],\"normalized-losses\":[\"?\",\"?\",\"?\",\"164\",\"164\",\"?\",\"158\",\"?\",\"158\",\"?\",\"192\",\"192\",\"188\",\"188\",\"?\",\"?\",\"?\",\"?\",\"121\",\"98\",\"81\",\"118\",\"118\",\"118\",\"148\",\"148\",\"148\",\"148\",\"110\",\"145\",\"137\",\"137\",\"101\",\"101\",\"101\",\"110\",\"78\",\"106\",\"106\",\"85\",\"85\",\"85\",\"107\",\"?\",\"?\",\"?\",\"?\",\"145\",\"?\",\"?\",\"104\",\"104\",\"104\",\"113\",\"113\",\"150\",\"150\",\"150\",\"150\",\"129\",\"115\",\"129\",\"115\",\"?\",\"115\",\"118\",\"?\",\"93\",\"93\",\"93\",\"93\",\"?\",\"142\",\"?\",\"?\",\"?\",\"161\",\"161\",\"161\",\"161\",\"153\",\"153\",\"?\",\"?\",\"?\",\"125\",\"125\",\"125\",\"137\",\"128\",\"128\",\"128\",\"122\",\"103\",\"128\",\"128\",\"122\",\"103\",\"168\",\"106\",\"106\",\"128\",\"108\",\"108\",\"194\",\"194\",\"231\",\"161\",\"161\",\"?\",\"?\",\"161\",\"161\",\"?\",\"?\",\"161\",\"161\",\"161\",\"119\",\"119\",\"154\",\"154\",\"154\",\"74\",\"?\",\"186\",\"?\",\"?\",\"?\",\"?\",\"?\",\"?\",\"150\",\"104\",\"150\",\"104\",\"150\",\"104\",\"83\",\"83\",\"83\",\"102\",\"102\",\"102\",\"102\",\"102\",\"89\",\"89\",\"85\",\"85\",\"87\",\"87\",\"74\",\"77\",\"81\",\"91\",\"91\",\"91\",\"91\",\"91\",\"91\",\"91\",\"91\",\"168\",\"168\",\"168\",\"168\",\"134\",\"134\",\"134\",\"134\",\"134\",\"134\",\"65\",\"65\",\"65\",\"65\",\"65\",\"197\",\"197\",\"90\",\"?\",\"122\",\"122\",\"94\",\"94\",\"94\",\"94\",\"94\",\"?\",\"256\",\"?\",\"?\",\"?\",\"103\",\"74\",\"103\",\"74\",\"103\",\"74\",\"95\",\"95\",\"95\",\"95\",\"95\"],\"num-of-cylinders\":[\"four\",\"four\",\"six\",\"four\",\"five\",\"five\",\"five\",\"five\",\"five\",\"five\",\"four\",\"four\",\"six\",\"six\",\"six\",\"six\",\"six\",\"six\",\"three\",\"four\",\"four\",\"four\",\"four\",\"four\",\"four\",\"four\",\"four\",\"four\",\"four\",\"four\",\"four\",\"four\",\"four\",\"four\",\"four\",\"four\",\"four\",\"four\",\"four\",\"four\",\"four\",\"four\",\"four\",\"four\",\"four\",\"four\",\"four\",\"six\",\"six\",\"twelve\",\"four\",\"four\",\"four\",\"four\",\"four\",\"two\",\"two\",\"two\",\"two\",\"four\",\"four\",\"four\",\"four\",\"four\",\"four\",\"four\",\"four\",\"five\",\"five\",\"five\",\"five\",\"eight\",\"eight\",\"eight\",\"eight\",\"four\",\"four\",\"four\",\"four\",\"four\",\"four\",\"four\",\"four\",\"four\",\"four\",\"four\",\"four\",\"four\",\"four\",\"four\",\"four\",\"four\",\"four\",\"four\",\"four\",\"four\",\"four\",\"four\",\"four\",\"four\",\"four\",\"six\",\"six\",\"six\",\"six\",\"six\",\"six\",\"four\",\"four\",\"four\",\"four\",\"four\",\"four\",\"four\",\"four\",\"four\",\"four\",\"four\",\"four\",\"four\",\"four\",\"four\",\"four\",\"four\",\"four\",\"four\",\"six\",\"six\",\"six\",\"eight\",\"four\",\"four\",\"four\",\"four\",\"four\",\"four\",\"four\",\"four\",\"four\",\"four\",\"four\",\"four\",\"four\",\"four\",\"four\",\"four\",\"four\",\"four\",\"four\",\"four\",\"four\",\"four\",\"four\",\"four\",\"four\",\"four\",\"four\",\"four\",\"four\",\"four\",\"four\",\"four\",\"four\",\"four\",\"four\",\"four\",\"four\",\"four\",\"four\",\"four\",\"four\",\"four\",\"four\",\"four\",\"four\",\"four\",\"four\",\"four\",\"six\",\"six\",\"six\",\"six\",\"four\",\"four\",\"four\",\"four\",\"four\",\"four\",\"four\",\"four\",\"four\",\"five\",\"four\",\"four\",\"four\",\"four\",\"four\",\"four\",\"four\",\"four\",\"four\",\"four\",\"six\",\"six\",\"four\"],\"num-of-doors\":[\"two\",\"two\",\"two\",\"four\",\"four\",\"two\",\"four\",\"four\",\"four\",\"two\",\"two\",\"four\",\"two\",\"four\",\"four\",\"four\",\"two\",\"four\",\"two\",\"two\",\"four\",\"two\",\"two\",\"two\",\"four\",\"four\",\"four\",\"?\",\"four\",\"two\",\"two\",\"two\",\"two\",\"two\",\"two\",\"four\",\"four\",\"two\",\"two\",\"four\",\"four\",\"four\",\"two\",\"four\",\"two\",\"four\",\"two\",\"four\",\"four\",\"two\",\"two\",\"two\",\"two\",\"four\",\"four\",\"two\",\"two\",\"two\",\"two\",\"two\",\"four\",\"two\",\"four\",\"?\",\"four\",\"four\",\"four\",\"four\",\"four\",\"two\",\"four\",\"four\",\"two\",\"four\",\"two\",\"two\",\"two\",\"two\",\"two\",\"two\",\"two\",\"two\",\"two\",\"two\",\"two\",\"four\",\"four\",\"four\",\"four\",\"two\",\"two\",\"two\",\"four\",\"four\",\"two\",\"two\",\"four\",\"four\",\"two\",\"four\",\"four\",\"four\",\"four\",\"four\",\"two\",\"two\",\"two\",\"four\",\"four\",\"four\",\"four\",\"four\",\"four\",\"four\",\"four\",\"four\",\"four\",\"four\",\"two\",\"two\",\"four\",\"four\",\"four\",\"four\",\"two\",\"two\",\"two\",\"two\",\"two\",\"two\",\"four\",\"two\",\"two\",\"four\",\"two\",\"four\",\"two\",\"four\",\"two\",\"two\",\"two\",\"four\",\"four\",\"four\",\"four\",\"four\",\"four\",\"four\",\"four\",\"four\",\"two\",\"two\",\"four\",\"four\",\"four\",\"four\",\"four\",\"four\",\"four\",\"four\",\"four\",\"four\",\"four\",\"two\",\"two\",\"two\",\"two\",\"two\",\"two\",\"two\",\"two\",\"two\",\"two\",\"four\",\"four\",\"four\",\"four\",\"four\",\"two\",\"two\",\"four\",\"four\",\"two\",\"two\",\"four\",\"four\",\"four\",\"four\",\"four\",\"two\",\"two\",\"four\",\"four\",\"four\",\"four\",\"four\",\"four\",\"four\",\"four\",\"four\",\"four\",\"four\",\"four\",\"four\",\"four\"],\"peak-rpm\":[\"5000\",\"5000\",\"5000\",\"5500\",\"5500\",\"5500\",\"5500\",\"5500\",\"5500\",\"5500\",\"5800\",\"5800\",\"4250\",\"4250\",\"4250\",\"5400\",\"5400\",\"5400\",\"5100\",\"5400\",\"5400\",\"5500\",\"5500\",\"5500\",\"5500\",\"5500\",\"5500\",\"5500\",\"5000\",\"5000\",\"4800\",\"6000\",\"5500\",\"6000\",\"6000\",\"6000\",\"6000\",\"5800\",\"5800\",\"5800\",\"5800\",\"5800\",\"5500\",\"4800\",\"5400\",\"5400\",\"5000\",\"4750\",\"4750\",\"5000\",\"5000\",\"5000\",\"5000\",\"5000\",\"5000\",\"6000\",\"6000\",\"6000\",\"6000\",\"4800\",\"4800\",\"4800\",\"4800\",\"4650\",\"4800\",\"5000\",\"4200\",\"4350\",\"4350\",\"4350\",\"4350\",\"4750\",\"4750\",\"4500\",\"4500\",\"5000\",\"5500\",\"5500\",\"5500\",\"5500\",\"5500\",\"5000\",\"5000\",\"5000\",\"5000\",\"5000\",\"5000\",\"5500\",\"5500\",\"5200\",\"4800\",\"5200\",\"5200\",\"5200\",\"5200\",\"5200\",\"5200\",\"5200\",\"5200\",\"5200\",\"5200\",\"5200\",\"5200\",\"5200\",\"5200\",\"5200\",\"5200\",\"5000\",\"4150\",\"5000\",\"4150\",\"5000\",\"4150\",\"5000\",\"4150\",\"5000\",\"4150\",\"5600\",\"5500\",\"5500\",\"5500\",\"5500\",\"5500\",\"5000\",\"5000\",\"5500\",\"5900\",\"5900\",\"5900\",\"5750\",\"?\",\"?\",\"5250\",\"5250\",\"5250\",\"5250\",\"5500\",\"5500\",\"4900\",\"4400\",\"4400\",\"4800\",\"4400\",\"5200\",\"4800\",\"4800\",\"4800\",\"5200\",\"4800\",\"4800\",\"4800\",\"4800\",\"4800\",\"4800\",\"4800\",\"4800\",\"4800\",\"4800\",\"4500\",\"4500\",\"4800\",\"4800\",\"4800\",\"4800\",\"4800\",\"6600\",\"6600\",\"4800\",\"4800\",\"4800\",\"4800\",\"4800\",\"4800\",\"4200\",\"4500\",\"4200\",\"4200\",\"4200\",\"5200\",\"5200\",\"5200\",\"5200\",\"4800\",\"5250\",\"4800\",\"5250\",\"5250\",\"4500\",\"5500\",\"5500\",\"5500\",\"5500\",\"4500\",\"5500\",\"5400\",\"5400\",\"5400\",\"5400\",\"5100\",\"5100\",\"5400\",\"5300\",\"5500\",\"4800\",\"5400\"],\"price\":[\"13495\",\"16500\",\"16500\",\"13950\",\"17450\",\"15250\",\"17710\",\"18920\",\"23875\",\"?\",\"16430\",\"16925\",\"20970\",\"21105\",\"24565\",\"30760\",\"41315\",\"36880\",\"5151\",\"6295\",\"6575\",\"5572\",\"6377\",\"7957\",\"6229\",\"6692\",\"7609\",\"8558\",\"8921\",\"12964\",\"6479\",\"6855\",\"5399\",\"6529\",\"7129\",\"7295\",\"7295\",\"7895\",\"9095\",\"8845\",\"10295\",\"12945\",\"10345\",\"6785\",\"?\",\"?\",\"11048\",\"32250\",\"35550\",\"36000\",\"5195\",\"6095\",\"6795\",\"6695\",\"7395\",\"10945\",\"11845\",\"13645\",\"15645\",\"8845\",\"8495\",\"10595\",\"10245\",\"10795\",\"11245\",\"18280\",\"18344\",\"25552\",\"28248\",\"28176\",\"31600\",\"34184\",\"35056\",\"40960\",\"45400\",\"16503\",\"5389\",\"6189\",\"6669\",\"7689\",\"9959\",\"8499\",\"12629\",\"14869\",\"14489\",\"6989\",\"8189\",\"9279\",\"9279\",\"5499\",\"7099\",\"6649\",\"6849\",\"7349\",\"7299\",\"7799\",\"7499\",\"7999\",\"8249\",\"8949\",\"9549\",\"13499\",\"14399\",\"13499\",\"17199\",\"19699\",\"18399\",\"11900\",\"13200\",\"12440\",\"13860\",\"15580\",\"16900\",\"16695\",\"17075\",\"16630\",\"17950\",\"18150\",\"5572\",\"7957\",\"6229\",\"6692\",\"7609\",\"8921\",\"12764\",\"22018\",\"32528\",\"34028\",\"37028\",\"?\",\"9295\",\"9895\",\"11850\",\"12170\",\"15040\",\"15510\",\"18150\",\"18620\",\"5118\",\"7053\",\"7603\",\"7126\",\"7775\",\"9960\",\"9233\",\"11259\",\"7463\",\"10198\",\"8013\",\"11694\",\"5348\",\"6338\",\"6488\",\"6918\",\"7898\",\"8778\",\"6938\",\"7198\",\"7898\",\"7788\",\"7738\",\"8358\",\"9258\",\"8058\",\"8238\",\"9298\",\"9538\",\"8449\",\"9639\",\"9989\",\"11199\",\"11549\",\"17669\",\"8948\",\"10698\",\"9988\",\"10898\",\"11248\",\"16558\",\"15998\",\"15690\",\"15750\",\"7775\",\"7975\",\"7995\",\"8195\",\"8495\",\"9495\",\"9995\",\"11595\",\"9980\",\"13295\",\"13845\",\"12290\",\"12940\",\"13415\",\"15985\",\"16515\",\"18420\",\"18950\",\"16845\",\"19045\",\"21485\",\"22470\",\"22625\"],\"stroke\":[\"2.68\",\"2.68\",\"3.47\",\"3.4\",\"3.4\",\"3.4\",\"3.4\",\"3.4\",\"3.4\",\"3.4\",\"2.8\",\"2.8\",\"3.19\",\"3.19\",\"3.19\",\"3.39\",\"3.39\",\"3.39\",\"3.03\",\"3.11\",\"3.11\",\"3.23\",\"3.23\",\"3.39\",\"3.23\",\"3.23\",\"3.23\",\"3.39\",\"3.46\",\"3.9\",\"3.41\",\"3.41\",\"3.07\",\"3.41\",\"3.41\",\"3.41\",\"3.41\",\"3.58\",\"3.58\",\"3.58\",\"3.58\",\"3.58\",\"3.58\",\"3.23\",\"3.11\",\"3.11\",\"3.23\",\"4.17\",\"4.17\",\"2.76\",\"3.15\",\"3.15\",\"3.15\",\"3.15\",\"3.15\",\"?\",\"?\",\"?\",\"?\",\"3.39\",\"3.39\",\"3.39\",\"3.39\",\"3.39\",\"3.39\",\"3.16\",\"3.64\",\"3.64\",\"3.64\",\"3.64\",\"3.64\",\"3.1\",\"3.1\",\"3.35\",\"3.35\",\"3.12\",\"3.23\",\"3.23\",\"3.23\",\"3.39\",\"3.46\",\"3.46\",\"3.86\",\"3.86\",\"3.86\",\"3.46\",\"3.46\",\"3.46\",\"3.46\",\"3.29\",\"3.47\",\"3.29\",\"3.29\",\"3.29\",\"3.29\",\"3.29\",\"3.29\",\"3.29\",\"3.29\",\"3.47\",\"3.47\",\"3.27\",\"3.27\",\"3.27\",\"3.27\",\"3.27\",\"3.27\",\"3.19\",\"3.52\",\"3.19\",\"3.52\",\"2.19\",\"3.52\",\"2.19\",\"3.52\",\"3.19\",\"3.52\",\"3.21\",\"3.23\",\"3.39\",\"3.23\",\"3.23\",\"3.23\",\"3.46\",\"3.86\",\"3.11\",\"2.9\",\"2.9\",\"2.9\",\"3.11\",\"3.9\",\"3.9\",\"3.07\",\"3.07\",\"2.07\",\"3.07\",\"3.07\",\"3.07\",\"2.36\",\"2.64\",\"2.64\",\"2.64\",\"2.64\",\"2.64\",\"2.64\",\"2.64\",\"2.64\",\"2.64\",\"2.64\",\"2.64\",\"3.03\",\"3.03\",\"3.03\",\"3.03\",\"3.03\",\"3.03\",\"3.03\",\"3.03\",\"3.35\",\"3.35\",\"3.03\",\"3.03\",\"3.03\",\"3.03\",\"3.03\",\"3.08\",\"3.08\",\"3.5\",\"3.5\",\"3.5\",\"3.5\",\"3.5\",\"3.5\",\"3.54\",\"3.35\",\"3.54\",\"3.54\",\"3.54\",\"3.35\",\"3.35\",\"3.35\",\"3.35\",\"3.4\",\"3.4\",\"3.4\",\"3.4\",\"3.4\",\"3.4\",\"3.4\",\"3.4\",\"3.4\",\"3.4\",\"3.4\",\"3.4\",\"3.15\",\"3.15\",\"3.15\",\"3.15\",\"3.15\",\"3.15\",\"3.15\",\"3.15\",\"2.87\",\"3.4\",\"3.15\"],\"symboling\":[3,3,1,2,2,2,1,1,1,0,2,0,0,0,1,0,0,0,2,1,0,1,1,1,1,1,1,1,-1,3,2,2,1,1,1,0,0,0,0,0,0,0,1,0,1,0,2,0,0,0,1,1,1,1,1,3,3,3,3,1,0,1,0,0,0,0,0,-1,-1,0,-1,-1,3,0,1,1,2,2,2,1,3,3,3,3,3,1,1,1,-1,1,1,1,1,1,1,1,1,1,2,0,0,0,0,0,3,3,1,0,0,0,0,0,0,0,0,0,0,0,1,1,1,1,1,-1,3,3,3,3,3,1,0,2,3,2,3,2,3,2,2,2,2,0,0,0,0,0,0,0,0,0,1,1,1,0,0,0,0,0,0,0,0,0,0,1,1,1,1,2,2,2,2,2,2,-1,-1,-1,-1,-1,3,3,-1,-1,2,2,2,2,2,2,2,3,3,0,0,0,-2,-1,-2,-1,-2,-1,-1,-1,-1,-1,-1],\"wheel-base\":{\"__ndarray__\":\"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\",\"dtype\":\"float64\",\"order\":\"little\",\"shape\":[205]},\"width\":{\"__ndarray__\":\"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\",\"dtype\":\"float64\",\"order\":\"little\",\"shape\":[205]}},\"selected\":{\"id\":\"1560\"},\"selection_policy\":{\"id\":\"1561\"}},\"id\":\"1488\",\"type\":\"ColumnDataSource\"},{\"attributes\":{\"formatter\":{\"id\":\"1822\"},\"major_label_policy\":{\"id\":\"1823\"},\"ticker\":{\"id\":\"1788\"}},\"id\":\"1787\",\"type\":\"LinearAxis\"},{\"attributes\":{\"data_source\":{\"id\":\"1488\"},\"glyph\":{\"id\":\"1800\"},\"hover_glyph\":{\"id\":\"1802\"},\"muted_glyph\":null,\"nonselection_glyph\":{\"id\":\"1801\"},\"view\":{\"id\":\"1744\"}},\"id\":\"1803\",\"type\":\"GlyphRenderer\"},{\"attributes\":{\"bottom_units\":\"screen\",\"fill_alpha\":0.5,\"fill_color\":\"lightgrey\",\"left_units\":\"screen\",\"level\":\"overlay\",\"line_alpha\":1.0,\"line_color\":\"black\",\"line_dash\":[4,4],\"line_width\":2,\"right_units\":\"screen\",\"syncable\":false,\"top_units\":\"screen\"},\"id\":\"1794\",\"type\":\"BoxAnnotation\"},{\"attributes\":{},\"id\":\"1807\",\"type\":\"BasicTickFormatter\"},{\"attributes\":{\"axis\":{\"id\":\"1787\"},\"dimension\":1,\"ticker\":null},\"id\":\"1790\",\"type\":\"Grid\"},{\"attributes\":{},\"id\":\"1755\",\"type\":\"BasicTicker\"},{\"attributes\":{},\"id\":\"1788\",\"type\":\"BasicTicker\"},{\"attributes\":{\"toolbar\":{\"id\":\"1829\"},\"toolbar_location\":\"above\"},\"id\":\"1830\",\"type\":\"ToolbarBox\"},{\"attributes\":{\"fill_color\":{\"value\":\"red\"},\"line_color\":{\"value\":\"red\"},\"size\":{\"value\":10},\"x\":{\"field\":\"engine-size\"},\"y\":{\"field\":\"wheel-base\"}},\"id\":\"1802\",\"type\":\"Circle\"},{\"attributes\":{},\"id\":\"1746\",\"type\":\"DataRange1d\"},{\"attributes\":{},\"id\":\"1793\",\"type\":\"ResetTool\"},{\"attributes\":{\"callback\":null},\"id\":\"1792\",\"type\":\"HoverTool\"},{\"attributes\":{},\"id\":\"1560\",\"type\":\"Selection\"},{\"attributes\":{\"overlay\":{\"id\":\"1794\"}},\"id\":\"1791\",\"type\":\"BoxSelectTool\"},{\"attributes\":{\"bottom_units\":\"screen\",\"fill_alpha\":0.5,\"fill_color\":\"lightgrey\",\"left_units\":\"screen\",\"level\":\"overlay\",\"line_alpha\":1.0,\"line_color\":\"black\",\"line_dash\":[4,4],\"line_width\":2,\"right_units\":\"screen\",\"syncable\":false,\"top_units\":\"screen\"},\"id\":\"1765\",\"type\":\"BoxAnnotation\"},{\"attributes\":{\"active_multi\":null,\"tools\":[{\"id\":\"1791\"},{\"id\":\"1792\"},{\"id\":\"1793\"}]},\"id\":\"1795\",\"type\":\"Toolbar\"},{\"attributes\":{\"axis\":{\"id\":\"1754\"},\"ticker\":null},\"id\":\"1757\",\"type\":\"Grid\"},{\"attributes\":{},\"id\":\"1816\",\"type\":\"Title\"},{\"attributes\":{\"filters\":[{\"id\":\"1743\"}],\"source\":{\"id\":\"1488\"}},\"id\":\"1744\",\"type\":\"CDSView\"},{\"attributes\":{},\"id\":\"1804\",\"type\":\"Title\"},{\"attributes\":{\"fill_color\":{\"value\":\"#1f77b4\"},\"line_color\":{\"value\":\"#1f77b4\"},\"size\":{\"value\":10},\"x\":{\"field\":\"engine-size\"},\"y\":{\"field\":\"wheel-base\"}},\"id\":\"1771\",\"type\":\"Circle\"},{\"attributes\":{},\"id\":\"1819\",\"type\":\"BasicTickFormatter\"},{\"attributes\":{\"booleans\":[false,false,false,false,false,false,false,false,false,false,false,false,false,false,false,false,false,false,false,false,false,false,false,false,false,false,false,false,false,false,false,false,false,false,false,false,false,false,false,false,false,false,false,false,false,false,false,true,true,false,false,false,false,false,false,false,false,false,false,false,false,false,false,false,false,false,false,false,false,false,true,true,false,true,true,false,false,false,false,false,false,false,false,false,false,false,false,false,false,false,false,false,false,false,false,false,false,false,false,false,false,false,false,false,false,false,false,false,false,true,true,false,false,true,true,false,false,false,false,false,false,false,false,false,false,false,false,false,false,false,false,false,false,false,false,false,false,false,false,false,false,false,false,false,false,false,false,false,false,false,false,false,false,false,false,false,false,false,false,false,false,false,false,false,false,false,false,false,false,false,false,false,false,false,false,false,false,false,false,false,false,false,false,false,false,false,false,false,false,false,false,false,false,false,false,false,false,false,false,false,false,false,false,false,false]},\"id\":\"1743\",\"type\":\"BooleanFilter\"},{\"attributes\":{},\"id\":\"1820\",\"type\":\"AllLabels\"},{\"attributes\":{\"active_multi\":null,\"tools\":[{\"id\":\"1762\"},{\"id\":\"1763\"},{\"id\":\"1764\"}]},\"id\":\"1766\",\"type\":\"Toolbar\"},{\"attributes\":{},\"id\":\"1759\",\"type\":\"BasicTicker\"},{\"attributes\":{\"below\":[{\"id\":\"1754\"}],\"center\":[{\"id\":\"1757\"},{\"id\":\"1761\"}],\"height\":300,\"left\":[{\"id\":\"1758\"}],\"renderers\":[{\"id\":\"1774\"}],\"title\":{\"id\":\"1804\"},\"toolbar\":{\"id\":\"1766\"},\"toolbar_location\":null,\"width\":300,\"x_range\":{\"id\":\"1746\"},\"x_scale\":{\"id\":\"1750\"},\"y_range\":{\"id\":\"1748\"},\"y_scale\":{\"id\":\"1752\"}},\"id\":\"1745\",\"subtype\":\"Figure\",\"type\":\"Plot\"},{\"attributes\":{},\"id\":\"1808\",\"type\":\"AllLabels\"},{\"attributes\":{\"below\":[{\"id\":\"1783\"}],\"center\":[{\"id\":\"1786\"},{\"id\":\"1790\"}],\"height\":300,\"left\":[{\"id\":\"1787\"}],\"renderers\":[{\"id\":\"1803\"}],\"title\":{\"id\":\"1816\"},\"toolbar\":{\"id\":\"1795\"},\"toolbar_location\":null,\"width\":300,\"x_range\":{\"id\":\"1746\"},\"x_scale\":{\"id\":\"1779\"},\"y_range\":{\"id\":\"1748\"},\"y_scale\":{\"id\":\"1781\"}},\"id\":\"1776\",\"subtype\":\"Figure\",\"type\":\"Plot\"},{\"attributes\":{},\"id\":\"1748\",\"type\":\"DataRange1d\"},{\"attributes\":{},\"id\":\"1823\",\"type\":\"AllLabels\"},{\"attributes\":{\"children\":[[{\"id\":\"1745\"},0,0],[{\"id\":\"1776\"},0,1]]},\"id\":\"1828\",\"type\":\"GridBox\"},{\"attributes\":{\"formatter\":{\"id\":\"1807\"},\"major_label_policy\":{\"id\":\"1808\"},\"ticker\":{\"id\":\"1755\"}},\"id\":\"1754\",\"type\":\"LinearAxis\"},{\"attributes\":{},\"id\":\"1752\",\"type\":\"LinearScale\"},{\"attributes\":{\"data_source\":{\"id\":\"1488\"},\"glyph\":{\"id\":\"1771\"},\"hover_glyph\":{\"id\":\"1773\"},\"muted_glyph\":null,\"nonselection_glyph\":{\"id\":\"1772\"},\"view\":{\"id\":\"1775\"}},\"id\":\"1774\",\"type\":\"GlyphRenderer\"},{\"attributes\":{},\"id\":\"1750\",\"type\":\"LinearScale\"},{\"attributes\":{\"toolbars\":[{\"id\":\"1766\"},{\"id\":\"1795\"}],\"tools\":[{\"id\":\"1762\"},{\"id\":\"1763\"},{\"id\":\"1764\"},{\"id\":\"1791\"},{\"id\":\"1792\"},{\"id\":\"1793\"}]},\"id\":\"1829\",\"type\":\"ProxyToolbar\"},{\"attributes\":{\"formatter\":{\"id\":\"1810\"},\"major_label_policy\":{\"id\":\"1811\"},\"ticker\":{\"id\":\"1759\"}},\"id\":\"1758\",\"type\":\"LinearAxis\"}],\"root_ids\":[\"1831\"]},\"title\":\"Bokeh Application\",\"version\":\"2.3.2\"}};\n",
       "  var render_items = [{\"docid\":\"5ec55995-71e5-4b1c-8d84-3565a60d6bde\",\"root_ids\":[\"1831\"],\"roots\":{\"1831\":\"68d97d79-f4a5-43fd-8f4a-f1e4505cebc6\"}}];\n",
       "  root.Bokeh.embed.embed_items_notebook(docs_json, render_items);\n",
       "\n",
       "  }\n",
       "  if (root.Bokeh !== undefined) {\n",
       "    embed_document(root);\n",
       "  } else {\n",
       "    var attempts = 0;\n",
       "    var timer = setInterval(function(root) {\n",
       "      if (root.Bokeh !== undefined) {\n",
       "        clearInterval(timer);\n",
       "        embed_document(root);\n",
       "      } else {\n",
       "        attempts++;\n",
       "        if (attempts > 100) {\n",
       "          clearInterval(timer);\n",
       "          console.log(\"Bokeh: ERROR: Unable to run BokehJS code because BokehJS library is missing\");\n",
       "        }\n",
       "      }\n",
       "    }, 10, root)\n",
       "  }\n",
       "})(window);"
      ],
      "application/vnd.bokehjs_exec.v0+json": ""
     },
     "metadata": {
      "application/vnd.bokehjs_exec.v0+json": {
       "id": "1831"
      }
     },
     "output_type": "display_data"
    }
   ],
   "source": [
    "# Boolean Filter \n",
    "\n",
    "from bokeh.models import BooleanFilter\n",
    "\n",
    "booleans = [True if y_val > 110 else False for y_val in source.data['wheel-base']]\n",
    "view = CDSView(source=source, filters=[BooleanFilter(booleans)])\n",
    "\n",
    "tools = [\"box_select\", \"hover\", \"reset\"]\n",
    "p = figure(plot_height=300, plot_width=300, tools=tools)\n",
    "p.circle(x=\"engine-size\", y=\"wheel-base\", size=10, hover_color=\"red\", source=source)\n",
    "\n",
    "p_filtered = figure(plot_height=300, plot_width=300, tools=tools,\n",
    "                    x_range=p.x_range, y_range=p.y_range)\n",
    "p_filtered.circle(x=\"engine-size\", y=\"wheel-base\", size=10, hover_color=\"red\", source=source, view=view)\n",
    "\n",
    "show(gridplot([[p, p_filtered]]))"
   ]
  },
  {
   "cell_type": "markdown",
   "id": "2f5c86de",
   "metadata": {},
   "source": [
    "**GroupFilter Example**"
   ]
  },
  {
   "cell_type": "code",
   "execution_count": 10,
   "id": "49aea795",
   "metadata": {},
   "outputs": [
    {
     "data": {
      "text/html": [
       "\n",
       "\n",
       "\n",
       "\n",
       "\n",
       "\n",
       "  <div class=\"bk-root\" id=\"86092310-8d6f-432c-91cd-26124200a52f\" data-root-id=\"2103\"></div>\n"
      ]
     },
     "metadata": {},
     "output_type": "display_data"
    },
    {
     "data": {
      "application/javascript": [
       "(function(root) {\n",
       "  function embed_document(root) {\n",
       "    \n",
       "  var docs_json = {\"9342bf91-a552-4d5c-b53a-681cf2b31a59\":{\"defs\":[],\"roots\":{\"references\":[{\"attributes\":{\"children\":[{\"id\":\"2102\"},{\"id\":\"2100\"}]},\"id\":\"2103\",\"type\":\"Column\"},{\"attributes\":{},\"id\":\"2033\",\"type\":\"BasicTicker\"},{\"attributes\":{},\"id\":\"2026\",\"type\":\"LinearScale\"},{\"attributes\":{},\"id\":\"2022\",\"type\":\"DataRange1d\"},{\"attributes\":{},\"id\":\"2091\",\"type\":\"BasicTickFormatter\"},{\"attributes\":{\"axis\":{\"id\":\"2028\"},\"ticker\":null},\"id\":\"2031\",\"type\":\"Grid\"},{\"attributes\":{\"formatter\":{\"id\":\"2091\"},\"major_label_policy\":{\"id\":\"2092\"},\"ticker\":{\"id\":\"2059\"}},\"id\":\"2058\",\"type\":\"LinearAxis\"},{\"attributes\":{\"source\":{\"id\":\"1488\"}},\"id\":\"2048\",\"type\":\"CDSView\"},{\"attributes\":{\"fill_alpha\":{\"value\":0.1},\"fill_color\":{\"value\":\"red\"},\"line_alpha\":{\"value\":0.1},\"line_color\":{\"value\":\"red\"},\"x\":{\"field\":\"engine-size\"},\"y\":{\"field\":\"wheel-base\"}},\"id\":\"2076\",\"type\":\"Circle\"},{\"attributes\":{},\"id\":\"2029\",\"type\":\"BasicTicker\"},{\"attributes\":{},\"id\":\"2020\",\"type\":\"DataRange1d\"},{\"attributes\":{\"axis\":{\"id\":\"2032\"},\"dimension\":1,\"ticker\":null},\"id\":\"2035\",\"type\":\"Grid\"},{\"attributes\":{},\"id\":\"2056\",\"type\":\"LinearScale\"},{\"attributes\":{\"formatter\":{\"id\":\"2083\"},\"major_label_policy\":{\"id\":\"2084\"},\"ticker\":{\"id\":\"2033\"}},\"id\":\"2032\",\"type\":\"LinearAxis\"},{\"attributes\":{},\"id\":\"2038\",\"type\":\"HelpTool\"},{\"attributes\":{},\"id\":\"2092\",\"type\":\"AllLabels\"},{\"attributes\":{},\"id\":\"2037\",\"type\":\"ResetTool\"},{\"attributes\":{\"toolbars\":[{\"id\":\"2040\"},{\"id\":\"2070\"}],\"tools\":[{\"id\":\"2036\"},{\"id\":\"2037\"},{\"id\":\"2038\"},{\"id\":\"2066\"},{\"id\":\"2067\"},{\"id\":\"2068\"}]},\"id\":\"2101\",\"type\":\"ProxyToolbar\"},{\"attributes\":{},\"id\":\"2024\",\"type\":\"LinearScale\"},{\"attributes\":{\"formatter\":{\"id\":\"2080\"},\"major_label_policy\":{\"id\":\"2081\"},\"ticker\":{\"id\":\"2029\"}},\"id\":\"2028\",\"type\":\"LinearAxis\"},{\"attributes\":{\"text\":\"Sedan and Others only\"},\"id\":\"2050\",\"type\":\"Title\"},{\"attributes\":{},\"id\":\"2080\",\"type\":\"BasicTickFormatter\"},{\"attributes\":{\"overlay\":{\"id\":\"2039\"}},\"id\":\"2036\",\"type\":\"BoxSelectTool\"},{\"attributes\":{},\"id\":\"2054\",\"type\":\"LinearScale\"},{\"attributes\":{\"filters\":[{\"id\":\"2015\"}],\"source\":{\"id\":\"1488\"}},\"id\":\"2016\",\"type\":\"CDSView\"},{\"attributes\":{\"text\":\"Full data set\"},\"id\":\"2018\",\"type\":\"Title\"},{\"attributes\":{},\"id\":\"2081\",\"type\":\"AllLabels\"},{\"attributes\":{\"data\":{\"aspiration\":[\"std\",\"std\",\"std\",\"std\",\"std\",\"std\",\"std\",\"std\",\"turbo\",\"turbo\",\"std\",\"std\",\"std\",\"std\",\"std\",\"std\",\"std\",\"std\",\"std\",\"std\",\"std\",\"std\",\"std\",\"turbo\",\"std\",\"std\",\"std\",\"turbo\",\"std\",\"turbo\",\"std\",\"std\",\"std\",\"std\",\"std\",\"std\",\"std\",\"std\",\"std\",\"std\",\"std\",\"std\",\"std\",\"std\",\"std\",\"std\",\"std\",\"std\",\"std\",\"std\",\"std\",\"std\",\"std\",\"std\",\"std\",\"std\",\"std\",\"std\",\"std\",\"std\",\"std\",\"std\",\"std\",\"std\",\"std\",\"std\",\"std\",\"turbo\",\"turbo\",\"turbo\",\"turbo\",\"std\",\"std\",\"std\",\"std\",\"turbo\",\"std\",\"std\",\"std\",\"turbo\",\"turbo\",\"std\",\"turbo\",\"turbo\",\"turbo\",\"std\",\"std\",\"turbo\",\"std\",\"std\",\"std\",\"std\",\"std\",\"std\",\"std\",\"std\",\"std\",\"std\",\"std\",\"std\",\"std\",\"std\",\"std\",\"std\",\"std\",\"turbo\",\"std\",\"std\",\"turbo\",\"std\",\"turbo\",\"std\",\"turbo\",\"std\",\"turbo\",\"std\",\"turbo\",\"turbo\",\"std\",\"turbo\",\"std\",\"std\",\"std\",\"std\",\"turbo\",\"std\",\"std\",\"std\",\"std\",\"std\",\"std\",\"std\",\"std\",\"std\",\"std\",\"std\",\"turbo\",\"turbo\",\"std\",\"std\",\"std\",\"std\",\"std\",\"std\",\"std\",\"turbo\",\"std\",\"std\",\"std\",\"turbo\",\"std\",\"std\",\"std\",\"std\",\"std\",\"std\",\"std\",\"std\",\"std\",\"std\",\"std\",\"std\",\"std\",\"std\",\"std\",\"std\",\"std\",\"std\",\"std\",\"std\",\"std\",\"std\",\"std\",\"std\",\"turbo\",\"std\",\"std\",\"std\",\"std\",\"std\",\"std\",\"std\",\"std\",\"std\",\"std\",\"std\",\"std\",\"turbo\",\"std\",\"std\",\"std\",\"std\",\"turbo\",\"std\",\"std\",\"std\",\"std\",\"std\",\"turbo\",\"turbo\",\"std\",\"turbo\",\"std\",\"turbo\",\"turbo\"],\"body-style\":[\"convertible\",\"convertible\",\"hatchback\",\"sedan\",\"sedan\",\"sedan\",\"sedan\",\"wagon\",\"sedan\",\"hatchback\",\"sedan\",\"sedan\",\"sedan\",\"sedan\",\"sedan\",\"sedan\",\"sedan\",\"sedan\",\"hatchback\",\"hatchback\",\"sedan\",\"hatchback\",\"hatchback\",\"hatchback\",\"hatchback\",\"sedan\",\"sedan\",\"sedan\",\"wagon\",\"hatchback\",\"hatchback\",\"hatchback\",\"hatchback\",\"hatchback\",\"hatchback\",\"sedan\",\"wagon\",\"hatchback\",\"hatchback\",\"sedan\",\"sedan\",\"sedan\",\"sedan\",\"sedan\",\"sedan\",\"sedan\",\"hatchback\",\"sedan\",\"sedan\",\"sedan\",\"hatchback\",\"hatchback\",\"hatchback\",\"sedan\",\"sedan\",\"hatchback\",\"hatchback\",\"hatchback\",\"hatchback\",\"hatchback\",\"sedan\",\"hatchback\",\"sedan\",\"sedan\",\"hatchback\",\"sedan\",\"sedan\",\"sedan\",\"wagon\",\"hardtop\",\"sedan\",\"sedan\",\"convertible\",\"sedan\",\"hardtop\",\"hatchback\",\"hatchback\",\"hatchback\",\"hatchback\",\"hatchback\",\"hatchback\",\"hatchback\",\"hatchback\",\"hatchback\",\"hatchback\",\"sedan\",\"sedan\",\"sedan\",\"sedan\",\"sedan\",\"sedan\",\"sedan\",\"sedan\",\"wagon\",\"sedan\",\"hatchback\",\"sedan\",\"wagon\",\"hardtop\",\"hatchback\",\"sedan\",\"sedan\",\"wagon\",\"sedan\",\"hatchback\",\"hatchback\",\"hatchback\",\"sedan\",\"sedan\",\"wagon\",\"wagon\",\"sedan\",\"sedan\",\"wagon\",\"wagon\",\"sedan\",\"sedan\",\"sedan\",\"hatchback\",\"hatchback\",\"hatchback\",\"sedan\",\"sedan\",\"wagon\",\"hatchback\",\"hatchback\",\"hardtop\",\"hardtop\",\"convertible\",\"hatchback\",\"wagon\",\"hatchback\",\"hatchback\",\"sedan\",\"hatchback\",\"sedan\",\"hatchback\",\"sedan\",\"hatchback\",\"hatchback\",\"hatchback\",\"sedan\",\"sedan\",\"sedan\",\"sedan\",\"sedan\",\"wagon\",\"wagon\",\"wagon\",\"wagon\",\"hatchback\",\"hatchback\",\"hatchback\",\"wagon\",\"wagon\",\"wagon\",\"sedan\",\"hatchback\",\"sedan\",\"hatchback\",\"sedan\",\"hatchback\",\"sedan\",\"sedan\",\"hatchback\",\"sedan\",\"hatchback\",\"hardtop\",\"hardtop\",\"hatchback\",\"hardtop\",\"hatchback\",\"convertible\",\"sedan\",\"sedan\",\"hatchback\",\"sedan\",\"hatchback\",\"hatchback\",\"hatchback\",\"sedan\",\"wagon\",\"sedan\",\"sedan\",\"sedan\",\"sedan\",\"sedan\",\"sedan\",\"sedan\",\"convertible\",\"hatchback\",\"sedan\",\"sedan\",\"wagon\",\"sedan\",\"wagon\",\"sedan\",\"wagon\",\"sedan\",\"wagon\",\"sedan\",\"sedan\",\"sedan\",\"sedan\",\"sedan\"],\"bore\":[\"3.47\",\"3.47\",\"2.68\",\"3.19\",\"3.19\",\"3.19\",\"3.19\",\"3.19\",\"3.13\",\"3.13\",\"3.5\",\"3.5\",\"3.31\",\"3.31\",\"3.31\",\"3.62\",\"3.62\",\"3.62\",\"2.91\",\"3.03\",\"3.03\",\"2.97\",\"2.97\",\"3.03\",\"2.97\",\"2.97\",\"2.97\",\"3.03\",\"3.34\",\"3.6\",\"2.91\",\"2.91\",\"2.91\",\"2.91\",\"2.91\",\"2.91\",\"2.92\",\"3.15\",\"3.15\",\"3.15\",\"3.15\",\"3.15\",\"3.15\",\"3.31\",\"3.03\",\"3.03\",\"3.43\",\"3.63\",\"3.63\",\"3.54\",\"3.03\",\"3.03\",\"3.03\",\"3.03\",\"3.08\",\"?\",\"?\",\"?\",\"?\",\"3.39\",\"3.39\",\"3.39\",\"3.39\",\"3.39\",\"3.39\",\"3.76\",\"3.43\",\"3.58\",\"3.58\",\"3.58\",\"3.58\",\"3.46\",\"3.46\",\"3.8\",\"3.8\",\"3.78\",\"2.97\",\"2.97\",\"2.97\",\"3.03\",\"3.17\",\"3.35\",\"3.58\",\"3.59\",\"3.59\",\"3.35\",\"3.35\",\"3.17\",\"3.17\",\"3.15\",\"2.99\",\"3.15\",\"3.15\",\"3.15\",\"3.15\",\"3.15\",\"3.15\",\"3.15\",\"3.15\",\"3.33\",\"3.33\",\"3.43\",\"3.43\",\"3.43\",\"3.43\",\"3.43\",\"3.43\",\"3.46\",\"3.7\",\"3.46\",\"3.7\",\"3.46\",\"3.7\",\"3.46\",\"3.7\",\"3.46\",\"3.7\",\"3.61\",\"2.97\",\"3.03\",\"2.97\",\"2.97\",\"2.97\",\"3.35\",\"3.59\",\"3.94\",\"3.74\",\"3.74\",\"3.74\",\"3.94\",\"3.46\",\"3.46\",\"3.54\",\"3.54\",\"2.54\",\"3.54\",\"3.54\",\"3.54\",\"3.62\",\"3.62\",\"3.62\",\"3.62\",\"3.62\",\"3.62\",\"3.62\",\"3.62\",\"3.62\",\"3.62\",\"3.62\",\"3.62\",\"3.05\",\"3.05\",\"3.05\",\"3.05\",\"3.05\",\"3.05\",\"3.19\",\"3.19\",\"3.27\",\"3.27\",\"3.19\",\"3.19\",\"3.19\",\"3.19\",\"3.19\",\"3.24\",\"3.24\",\"3.62\",\"3.62\",\"3.62\",\"3.62\",\"3.62\",\"3.62\",\"3.31\",\"3.27\",\"3.31\",\"3.31\",\"3.31\",\"3.27\",\"3.27\",\"3.27\",\"3.27\",\"3.01\",\"3.19\",\"3.01\",\"3.19\",\"3.19\",\"3.01\",\"3.19\",\"3.19\",\"3.19\",\"3.19\",\"3.01\",\"3.19\",\"3.78\",\"3.78\",\"3.78\",\"3.78\",\"3.62\",\"3.62\",\"3.78\",\"3.78\",\"3.58\",\"3.01\",\"3.78\"],\"city-mpg\":[21,21,19,24,18,19,19,19,17,16,23,23,21,21,20,16,16,15,47,38,38,37,31,24,31,31,31,24,24,19,49,31,38,30,30,30,30,27,27,27,27,24,25,24,38,38,24,15,15,13,30,31,31,31,31,17,17,17,16,26,26,26,26,36,26,19,31,22,22,22,22,16,16,14,14,19,37,31,31,24,23,25,19,19,19,25,25,23,23,31,45,31,31,31,31,31,31,31,31,27,27,17,17,19,19,17,19,19,28,19,25,19,28,19,25,19,28,18,37,24,31,31,31,24,19,19,17,17,17,17,23,23,21,21,21,21,19,19,31,26,26,32,28,26,24,24,28,25,23,23,35,31,31,31,27,27,30,30,34,38,38,28,28,29,29,26,26,24,24,24,24,24,24,29,30,27,27,27,20,19,20,19,37,27,37,27,27,37,26,24,24,19,33,25,23,23,24,24,17,17,23,19,18,26,19],\"compression-ratio\":{\"__ndarray__\":\"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\",\"dtype\":\"float64\",\"order\":\"little\",\"shape\":[205]},\"curb-weight\":[2548,2548,2823,2337,2824,2507,2844,2954,3086,3053,2395,2395,2710,2765,3055,3230,3380,3505,1488,1874,1909,1876,1876,2128,1967,1989,1989,2191,2535,2811,1713,1819,1837,1940,1956,2010,2024,2236,2289,2304,2372,2465,2293,2337,1874,1909,2734,4066,4066,3950,1890,1900,1905,1945,1950,2380,2380,2385,2500,2385,2410,2385,2410,2443,2425,2670,2700,3515,3750,3495,3770,3740,3685,3900,3715,2910,1918,1944,2004,2145,2370,2328,2833,2921,2926,2365,2405,2403,2403,1889,2017,1918,1938,2024,1951,2028,1971,2037,2008,2324,2302,3095,3296,3060,3071,3139,3139,3020,3197,3230,3430,3075,3252,3285,3485,3075,3252,3130,1918,2128,1967,1989,2191,2535,2818,2778,2756,2756,2800,3366,2579,2460,2658,2695,2707,2758,2808,2847,2050,2120,2240,2145,2190,2340,2385,2510,2290,2455,2420,2650,1985,2040,2015,2280,2290,3110,2081,2109,2275,2275,2094,2122,2140,2169,2204,2265,2300,2540,2536,2551,2679,2714,2975,2326,2480,2414,2414,2458,2976,3016,3131,3151,2261,2209,2264,2212,2275,2319,2300,2254,2221,2661,2579,2563,2912,3034,2935,3042,3045,3157,2952,3049,3012,3217,3062],\"drive-wheels\":[\"rwd\",\"rwd\",\"rwd\",\"fwd\",\"4wd\",\"fwd\",\"fwd\",\"fwd\",\"fwd\",\"4wd\",\"rwd\",\"rwd\",\"rwd\",\"rwd\",\"rwd\",\"rwd\",\"rwd\",\"rwd\",\"fwd\",\"fwd\",\"fwd\",\"fwd\",\"fwd\",\"fwd\",\"fwd\",\"fwd\",\"fwd\",\"fwd\",\"fwd\",\"fwd\",\"fwd\",\"fwd\",\"fwd\",\"fwd\",\"fwd\",\"fwd\",\"fwd\",\"fwd\",\"fwd\",\"fwd\",\"fwd\",\"fwd\",\"fwd\",\"rwd\",\"fwd\",\"fwd\",\"rwd\",\"rwd\",\"rwd\",\"rwd\",\"fwd\",\"fwd\",\"fwd\",\"fwd\",\"fwd\",\"rwd\",\"rwd\",\"rwd\",\"rwd\",\"fwd\",\"fwd\",\"fwd\",\"fwd\",\"fwd\",\"fwd\",\"rwd\",\"rwd\",\"rwd\",\"rwd\",\"rwd\",\"rwd\",\"rwd\",\"rwd\",\"rwd\",\"rwd\",\"rwd\",\"fwd\",\"fwd\",\"fwd\",\"fwd\",\"fwd\",\"fwd\",\"fwd\",\"fwd\",\"fwd\",\"fwd\",\"fwd\",\"fwd\",\"fwd\",\"fwd\",\"fwd\",\"fwd\",\"fwd\",\"fwd\",\"fwd\",\"fwd\",\"fwd\",\"fwd\",\"fwd\",\"fwd\",\"fwd\",\"fwd\",\"fwd\",\"fwd\",\"rwd\",\"rwd\",\"rwd\",\"rwd\",\"rwd\",\"rwd\",\"rwd\",\"rwd\",\"rwd\",\"rwd\",\"rwd\",\"rwd\",\"rwd\",\"rwd\",\"fwd\",\"fwd\",\"fwd\",\"fwd\",\"fwd\",\"fwd\",\"rwd\",\"rwd\",\"rwd\",\"rwd\",\"rwd\",\"rwd\",\"fwd\",\"fwd\",\"fwd\",\"fwd\",\"fwd\",\"fwd\",\"fwd\",\"fwd\",\"fwd\",\"fwd\",\"4wd\",\"fwd\",\"fwd\",\"fwd\",\"4wd\",\"4wd\",\"fwd\",\"fwd\",\"4wd\",\"4wd\",\"fwd\",\"fwd\",\"fwd\",\"fwd\",\"4wd\",\"4wd\",\"fwd\",\"fwd\",\"fwd\",\"fwd\",\"fwd\",\"fwd\",\"fwd\",\"rwd\",\"rwd\",\"rwd\",\"rwd\",\"rwd\",\"rwd\",\"rwd\",\"rwd\",\"rwd\",\"rwd\",\"fwd\",\"fwd\",\"fwd\",\"fwd\",\"fwd\",\"rwd\",\"rwd\",\"rwd\",\"rwd\",\"fwd\",\"fwd\",\"fwd\",\"fwd\",\"fwd\",\"fwd\",\"fwd\",\"fwd\",\"fwd\",\"fwd\",\"fwd\",\"fwd\",\"rwd\",\"rwd\",\"rwd\",\"rwd\",\"rwd\",\"rwd\",\"rwd\",\"rwd\",\"rwd\",\"rwd\",\"rwd\"],\"engine-location\":[\"front\",\"front\",\"front\",\"front\",\"front\",\"front\",\"front\",\"front\",\"front\",\"front\",\"front\",\"front\",\"front\",\"front\",\"front\",\"front\",\"front\",\"front\",\"front\",\"front\",\"front\",\"front\",\"front\",\"front\",\"front\",\"front\",\"front\",\"front\",\"front\",\"front\",\"front\",\"front\",\"front\",\"front\",\"front\",\"front\",\"front\",\"front\",\"front\",\"front\",\"front\",\"front\",\"front\",\"front\",\"front\",\"front\",\"front\",\"front\",\"front\",\"front\",\"front\",\"front\",\"front\",\"front\",\"front\",\"front\",\"front\",\"front\",\"front\",\"front\",\"front\",\"front\",\"front\",\"front\",\"front\",\"front\",\"front\",\"front\",\"front\",\"front\",\"front\",\"front\",\"front\",\"front\",\"front\",\"front\",\"front\",\"front\",\"front\",\"front\",\"front\",\"front\",\"front\",\"front\",\"front\",\"front\",\"front\",\"front\",\"front\",\"front\",\"front\",\"front\",\"front\",\"front\",\"front\",\"front\",\"front\",\"front\",\"front\",\"front\",\"front\",\"front\",\"front\",\"front\",\"front\",\"front\",\"front\",\"front\",\"front\",\"front\",\"front\",\"front\",\"front\",\"front\",\"front\",\"front\",\"front\",\"front\",\"front\",\"front\",\"front\",\"front\",\"front\",\"front\",\"front\",\"front\",\"rear\",\"rear\",\"rear\",\"front\",\"front\",\"front\",\"front\",\"front\",\"front\",\"front\",\"front\",\"front\",\"front\",\"front\",\"front\",\"front\",\"front\",\"front\",\"front\",\"front\",\"front\",\"front\",\"front\",\"front\",\"front\",\"front\",\"front\",\"front\",\"front\",\"front\",\"front\",\"front\",\"front\",\"front\",\"front\",\"front\",\"front\",\"front\",\"front\",\"front\",\"front\",\"front\",\"front\",\"front\",\"front\",\"front\",\"front\",\"front\",\"front\",\"front\",\"front\",\"front\",\"front\",\"front\",\"front\",\"front\",\"front\",\"front\",\"front\",\"front\",\"front\",\"front\",\"front\",\"front\",\"front\",\"front\",\"front\",\"front\",\"front\",\"front\",\"front\",\"front\",\"front\",\"front\",\"front\",\"front\",\"front\",\"front\",\"front\"],\"engine-size\":[130,130,152,109,136,136,136,136,131,131,108,108,164,164,164,209,209,209,61,90,90,90,90,98,90,90,90,98,122,156,92,92,79,92,92,92,92,110,110,110,110,110,110,111,90,90,119,258,258,326,91,91,91,91,91,70,70,70,80,122,122,122,122,122,122,140,134,183,183,183,183,234,234,308,304,140,92,92,92,98,110,122,156,156,156,122,122,110,110,97,103,97,97,97,97,97,97,97,97,120,120,181,181,181,181,181,181,120,152,120,152,120,152,120,152,120,152,134,90,98,90,90,98,122,156,151,194,194,194,203,132,132,121,121,121,121,121,121,97,108,108,108,108,108,108,108,108,108,108,108,92,92,92,92,92,92,98,98,110,110,98,98,98,98,98,98,98,146,146,146,146,146,146,122,110,122,122,122,171,171,171,161,97,109,97,109,109,97,109,109,109,136,97,109,141,141,141,141,130,130,141,141,173,145,141],\"engine-type\":[\"dohc\",\"dohc\",\"ohcv\",\"ohc\",\"ohc\",\"ohc\",\"ohc\",\"ohc\",\"ohc\",\"ohc\",\"ohc\",\"ohc\",\"ohc\",\"ohc\",\"ohc\",\"ohc\",\"ohc\",\"ohc\",\"l\",\"ohc\",\"ohc\",\"ohc\",\"ohc\",\"ohc\",\"ohc\",\"ohc\",\"ohc\",\"ohc\",\"ohc\",\"ohc\",\"ohc\",\"ohc\",\"ohc\",\"ohc\",\"ohc\",\"ohc\",\"ohc\",\"ohc\",\"ohc\",\"ohc\",\"ohc\",\"ohc\",\"ohc\",\"ohc\",\"ohc\",\"ohc\",\"ohc\",\"dohc\",\"dohc\",\"ohcv\",\"ohc\",\"ohc\",\"ohc\",\"ohc\",\"ohc\",\"rotor\",\"rotor\",\"rotor\",\"rotor\",\"ohc\",\"ohc\",\"ohc\",\"ohc\",\"ohc\",\"ohc\",\"ohc\",\"ohc\",\"ohc\",\"ohc\",\"ohc\",\"ohc\",\"ohcv\",\"ohcv\",\"ohcv\",\"ohcv\",\"ohc\",\"ohc\",\"ohc\",\"ohc\",\"ohc\",\"ohc\",\"ohc\",\"ohc\",\"ohc\",\"ohc\",\"ohc\",\"ohc\",\"ohc\",\"ohc\",\"ohc\",\"ohc\",\"ohc\",\"ohc\",\"ohc\",\"ohc\",\"ohc\",\"ohc\",\"ohc\",\"ohc\",\"ohc\",\"ohc\",\"ohcv\",\"ohcv\",\"ohcv\",\"ohcv\",\"ohcv\",\"ohcv\",\"l\",\"l\",\"l\",\"l\",\"l\",\"l\",\"l\",\"l\",\"l\",\"l\",\"l\",\"ohc\",\"ohc\",\"ohc\",\"ohc\",\"ohc\",\"ohc\",\"ohc\",\"ohc\",\"ohcf\",\"ohcf\",\"ohcf\",\"dohcv\",\"ohc\",\"ohc\",\"ohc\",\"ohc\",\"ohc\",\"ohc\",\"dohc\",\"dohc\",\"ohcf\",\"ohcf\",\"ohcf\",\"ohcf\",\"ohcf\",\"ohcf\",\"ohcf\",\"ohcf\",\"ohcf\",\"ohcf\",\"ohcf\",\"ohcf\",\"ohc\",\"ohc\",\"ohc\",\"ohc\",\"ohc\",\"ohc\",\"ohc\",\"ohc\",\"ohc\",\"ohc\",\"ohc\",\"ohc\",\"ohc\",\"ohc\",\"ohc\",\"dohc\",\"dohc\",\"ohc\",\"ohc\",\"ohc\",\"ohc\",\"ohc\",\"ohc\",\"ohc\",\"ohc\",\"ohc\",\"ohc\",\"ohc\",\"dohc\",\"dohc\",\"dohc\",\"dohc\",\"ohc\",\"ohc\",\"ohc\",\"ohc\",\"ohc\",\"ohc\",\"ohc\",\"ohc\",\"ohc\",\"ohc\",\"ohc\",\"ohc\",\"ohc\",\"ohc\",\"ohc\",\"ohc\",\"ohc\",\"ohc\",\"ohc\",\"ohc\",\"ohcv\",\"ohc\",\"ohc\"],\"fuel-system\":[\"mpfi\",\"mpfi\",\"mpfi\",\"mpfi\",\"mpfi\",\"mpfi\",\"mpfi\",\"mpfi\",\"mpfi\",\"mpfi\",\"mpfi\",\"mpfi\",\"mpfi\",\"mpfi\",\"mpfi\",\"mpfi\",\"mpfi\",\"mpfi\",\"2bbl\",\"2bbl\",\"2bbl\",\"2bbl\",\"2bbl\",\"mpfi\",\"2bbl\",\"2bbl\",\"2bbl\",\"mpfi\",\"2bbl\",\"mfi\",\"1bbl\",\"1bbl\",\"1bbl\",\"1bbl\",\"1bbl\",\"1bbl\",\"1bbl\",\"1bbl\",\"1bbl\",\"1bbl\",\"1bbl\",\"mpfi\",\"2bbl\",\"2bbl\",\"2bbl\",\"2bbl\",\"spfi\",\"mpfi\",\"mpfi\",\"mpfi\",\"2bbl\",\"2bbl\",\"2bbl\",\"2bbl\",\"2bbl\",\"4bbl\",\"4bbl\",\"4bbl\",\"mpfi\",\"2bbl\",\"2bbl\",\"2bbl\",\"2bbl\",\"idi\",\"2bbl\",\"mpfi\",\"idi\",\"idi\",\"idi\",\"idi\",\"idi\",\"mpfi\",\"mpfi\",\"mpfi\",\"mpfi\",\"mpfi\",\"2bbl\",\"2bbl\",\"2bbl\",\"spdi\",\"spdi\",\"2bbl\",\"spdi\",\"spdi\",\"spdi\",\"2bbl\",\"2bbl\",\"spdi\",\"spdi\",\"2bbl\",\"idi\",\"2bbl\",\"2bbl\",\"2bbl\",\"2bbl\",\"2bbl\",\"2bbl\",\"2bbl\",\"2bbl\",\"2bbl\",\"2bbl\",\"mpfi\",\"mpfi\",\"mpfi\",\"mpfi\",\"mpfi\",\"mpfi\",\"mpfi\",\"idi\",\"mpfi\",\"idi\",\"mpfi\",\"idi\",\"mpfi\",\"idi\",\"mpfi\",\"idi\",\"mpfi\",\"2bbl\",\"spdi\",\"2bbl\",\"2bbl\",\"2bbl\",\"2bbl\",\"spdi\",\"mpfi\",\"mpfi\",\"mpfi\",\"mpfi\",\"mpfi\",\"mpfi\",\"mpfi\",\"mpfi\",\"mpfi\",\"mpfi\",\"mpfi\",\"mpfi\",\"mpfi\",\"2bbl\",\"2bbl\",\"2bbl\",\"2bbl\",\"2bbl\",\"mpfi\",\"2bbl\",\"mpfi\",\"2bbl\",\"mpfi\",\"2bbl\",\"mpfi\",\"2bbl\",\"2bbl\",\"2bbl\",\"2bbl\",\"2bbl\",\"2bbl\",\"2bbl\",\"2bbl\",\"idi\",\"idi\",\"2bbl\",\"2bbl\",\"2bbl\",\"2bbl\",\"2bbl\",\"mpfi\",\"mpfi\",\"mpfi\",\"mpfi\",\"mpfi\",\"mpfi\",\"mpfi\",\"mpfi\",\"mpfi\",\"idi\",\"mpfi\",\"mpfi\",\"mpfi\",\"mpfi\",\"mpfi\",\"mpfi\",\"mpfi\",\"idi\",\"mpfi\",\"idi\",\"mpfi\",\"mpfi\",\"idi\",\"mpfi\",\"mpfi\",\"mpfi\",\"mpfi\",\"idi\",\"mpfi\",\"mpfi\",\"mpfi\",\"mpfi\",\"mpfi\",\"mpfi\",\"mpfi\",\"mpfi\",\"mpfi\",\"mpfi\",\"idi\",\"mpfi\"],\"fuel-type\":[\"gas\",\"gas\",\"gas\",\"gas\",\"gas\",\"gas\",\"gas\",\"gas\",\"gas\",\"gas\",\"gas\",\"gas\",\"gas\",\"gas\",\"gas\",\"gas\",\"gas\",\"gas\",\"gas\",\"gas\",\"gas\",\"gas\",\"gas\",\"gas\",\"gas\",\"gas\",\"gas\",\"gas\",\"gas\",\"gas\",\"gas\",\"gas\",\"gas\",\"gas\",\"gas\",\"gas\",\"gas\",\"gas\",\"gas\",\"gas\",\"gas\",\"gas\",\"gas\",\"gas\",\"gas\",\"gas\",\"gas\",\"gas\",\"gas\",\"gas\",\"gas\",\"gas\",\"gas\",\"gas\",\"gas\",\"gas\",\"gas\",\"gas\",\"gas\",\"gas\",\"gas\",\"gas\",\"gas\",\"diesel\",\"gas\",\"gas\",\"diesel\",\"diesel\",\"diesel\",\"diesel\",\"diesel\",\"gas\",\"gas\",\"gas\",\"gas\",\"gas\",\"gas\",\"gas\",\"gas\",\"gas\",\"gas\",\"gas\",\"gas\",\"gas\",\"gas\",\"gas\",\"gas\",\"gas\",\"gas\",\"gas\",\"diesel\",\"gas\",\"gas\",\"gas\",\"gas\",\"gas\",\"gas\",\"gas\",\"gas\",\"gas\",\"gas\",\"gas\",\"gas\",\"gas\",\"gas\",\"gas\",\"gas\",\"gas\",\"diesel\",\"gas\",\"diesel\",\"gas\",\"diesel\",\"gas\",\"diesel\",\"gas\",\"diesel\",\"gas\",\"gas\",\"gas\",\"gas\",\"gas\",\"gas\",\"gas\",\"gas\",\"gas\",\"gas\",\"gas\",\"gas\",\"gas\",\"gas\",\"gas\",\"gas\",\"gas\",\"gas\",\"gas\",\"gas\",\"gas\",\"gas\",\"gas\",\"gas\",\"gas\",\"gas\",\"gas\",\"gas\",\"gas\",\"gas\",\"gas\",\"gas\",\"gas\",\"gas\",\"gas\",\"gas\",\"gas\",\"gas\",\"gas\",\"gas\",\"gas\",\"diesel\",\"diesel\",\"gas\",\"gas\",\"gas\",\"gas\",\"gas\",\"gas\",\"gas\",\"gas\",\"gas\",\"gas\",\"gas\",\"gas\",\"gas\",\"gas\",\"diesel\",\"gas\",\"gas\",\"gas\",\"gas\",\"gas\",\"gas\",\"gas\",\"diesel\",\"gas\",\"diesel\",\"gas\",\"gas\",\"diesel\",\"gas\",\"gas\",\"gas\",\"gas\",\"diesel\",\"gas\",\"gas\",\"gas\",\"gas\",\"gas\",\"gas\",\"gas\",\"gas\",\"gas\",\"gas\",\"diesel\",\"gas\"],\"height\":{\"__ndarray__\":\"ZmZmZmZmSEBmZmZmZmZIQDMzMzMzM0pAZmZmZmYmS0BmZmZmZiZLQM3MzMzMjEpAmpmZmZnZS0CamZmZmdlLQDMzMzMz80tAAAAAAAAASkBmZmZmZiZLQGZmZmZmJktAZmZmZmYmS0BmZmZmZiZLQJqZmZmZ2UtAmpmZmZnZS0CamZmZmdlKQGZmZmZmJkxAmpmZmZmZSkAAAAAAAABKQAAAAAAAAEpAZmZmZmZmSUBmZmZmZmZJQGZmZmZmZklAzczMzMxMSUDNzMzMzExJQM3MzMzMTElAzczMzMxMSUBmZmZmZuZNQJqZmZmZGUlAZmZmZmZmSUBmZmZmZmZJQM3MzMzMTEpAzczMzMxMSkDNzMzMzExKQAAAAAAAQEtAZmZmZmYmTUBmZmZmZqZKQGZmZmZmpkpAzczMzMwMS0DNzMzMzAxLQM3MzMzMDEtAAAAAAACASUAAAAAAAMBKQAAAAAAAAEpAAAAAAAAASkAzMzMzM7NJQGZmZmZmZkpAZmZmZmZmSkBmZmZmZuZHQM3MzMzMDEtAzczMzMwMS0DNzMzMzAxLQM3MzMzMDEtAzczMzMwMS0DNzMzMzMxIQM3MzMzMzEhAzczMzMzMSEDNzMzMzMxIQJqZmZmZ2UpAAAAAAADAS0CamZmZmdlKQAAAAAAAwEtAAAAAAADAS0AAAAAAAMBLQDMzMzMzM0tAMzMzMzMzS0AAAAAAAEBMQJqZmZmZWU1AMzMzMzNzS0BmZmZmZiZMQAAAAAAAQExAZmZmZmZmSUCamZmZmVlMQDMzMzMzs0tAZmZmZmZmS0BmZmZmZmZJQGZmZmZmZklAZmZmZmZmSUBmZmZmZmZJQDMzMzMzs0hAMzMzMzOzSECamZmZmRlJQJqZmZmZGUlAmpmZmZkZSUDNzMzMzMxJQM3MzMzMzElAzczMzMzMSUDNzMzMzMxJQAAAAAAAQEtAAAAAAABAS0AAAAAAAEBLQAAAAAAAQEtAAAAAAADASkAAAAAAAEBLQGZmZmZmpkpAAAAAAABAS0AAAAAAAMBKQGZmZmZmpkpAmpmZmZlZS0CamZmZmVlLQM3MzMzMjEtAzczMzMwMTEDNzMzMzIxLQJqZmZmZ2UhAmpmZmZnZSECamZmZmdlIQJqZmZmZWUxAmpmZmZlZTECamZmZmVlNQJqZmZmZWU1AmpmZmZlZTECamZmZmVlMQJqZmZmZWUxAmpmZmZlZTUCamZmZmVlMQJqZmZmZWUxAAAAAAAAATEBmZmZmZmZJQGZmZmZmZklAzczMzMxMSUBmZmZmZmZJQGZmZmZmZklAZmZmZmbmTUCamZmZmRlJQJqZmZmZGUlAzczMzMzMSUDNzMzMzMxJQM3MzMzMzElAAAAAAABASUCamZmZmZlLQAAAAAAAQElAzczMzMwMTEDNzMzMzAxMQM3MzMzMDExAzczMzMwMTEDNzMzMzAxMQM3MzMzMDExAmpmZmZnZSkCamZmZmdlKQJqZmZmZ2UtAAAAAAABASkAAAAAAAEBKQAAAAAAAQEpAZmZmZmYmS0BmZmZmZiZLQAAAAAAAgEpAAAAAAACASkAzMzMzM3NLQDMzMzMzc0tAAAAAAABAS0AAAAAAAEBLQAAAAAAAQEtAzczMzMyMTUDNzMzMzIxNQM3MzMzMjE1AAAAAAACASkBmZmZmZmZKQAAAAAAAgEpAZmZmZmZmSkAAAAAAAIBKQGZmZmZmZkpAZmZmZmZmSkDNzMzMzExKQM3MzMzMTEpAzczMzMxMSkDNzMzMzExKQAAAAAAAAEpAAAAAAAAASkAAAAAAAABKQAAAAAAAAEpAAAAAAAAASkAAAAAAAIBKQDMzMzMzc0tAMzMzMzNzS0AzMzMzM/NKQDMzMzMzc0tAMzMzMzPzSkAAAAAAAABKQAAAAAAAAEpAzczMzMwMS0DNzMzMzAxLQJqZmZmZ2UtAmpmZmZnZS0CamZmZmdlLQJqZmZmZ2UtAmpmZmZnZS0CamZmZmdlLQJqZmZmZ2UtAzczMzMzMS0AzMzMzM7NJQM3MzMzMjEtAzczMzMyMS0DNzMzMzIxLQJqZmZmZGUxAAAAAAADATECamZmZmRlMQAAAAAAAwExAmpmZmZkZTEAAAAAAAMBMQAAAAAAAwEtAAAAAAADAS0AAAAAAAMBLQAAAAAAAwEtAAAAAAADAS0A=\",\"dtype\":\"float64\",\"order\":\"little\",\"shape\":[205]},\"highway-mpg\":[27,27,26,30,22,25,25,25,20,22,29,29,28,28,25,22,22,20,53,43,43,41,38,30,38,38,38,30,30,24,54,38,42,34,34,34,34,33,33,33,33,28,31,29,43,43,29,19,19,17,31,38,38,38,38,23,23,23,23,32,32,32,32,42,32,27,39,25,25,25,25,18,18,16,16,24,41,38,38,30,30,32,24,24,24,32,32,30,30,37,50,37,37,37,37,37,37,37,37,34,34,22,22,25,25,23,25,24,33,24,25,24,33,24,25,24,33,24,41,30,38,38,38,30,24,27,25,25,25,28,31,31,28,28,28,28,26,26,36,31,31,37,33,32,25,29,32,31,29,23,39,38,38,37,32,32,37,37,36,47,47,34,34,34,34,29,29,30,30,30,30,30,30,34,33,32,32,32,24,24,24,24,46,34,46,34,34,42,32,29,29,24,38,31,28,28,28,28,22,22,28,25,23,27,25],\"horsepower\":[\"111\",\"111\",\"154\",\"102\",\"115\",\"110\",\"110\",\"110\",\"140\",\"160\",\"101\",\"101\",\"121\",\"121\",\"121\",\"182\",\"182\",\"182\",\"48\",\"70\",\"70\",\"68\",\"68\",\"102\",\"68\",\"68\",\"68\",\"102\",\"88\",\"145\",\"58\",\"76\",\"60\",\"76\",\"76\",\"76\",\"76\",\"86\",\"86\",\"86\",\"86\",\"101\",\"100\",\"78\",\"70\",\"70\",\"90\",\"176\",\"176\",\"262\",\"68\",\"68\",\"68\",\"68\",\"68\",\"101\",\"101\",\"101\",\"135\",\"84\",\"84\",\"84\",\"84\",\"64\",\"84\",\"120\",\"72\",\"123\",\"123\",\"123\",\"123\",\"155\",\"155\",\"184\",\"184\",\"175\",\"68\",\"68\",\"68\",\"102\",\"116\",\"88\",\"145\",\"145\",\"145\",\"88\",\"88\",\"116\",\"116\",\"69\",\"55\",\"69\",\"69\",\"69\",\"69\",\"69\",\"69\",\"69\",\"69\",\"97\",\"97\",\"152\",\"152\",\"152\",\"160\",\"200\",\"160\",\"97\",\"95\",\"97\",\"95\",\"95\",\"95\",\"95\",\"95\",\"97\",\"95\",\"142\",\"68\",\"102\",\"68\",\"68\",\"68\",\"88\",\"145\",\"143\",\"207\",\"207\",\"207\",\"288\",\"?\",\"?\",\"110\",\"110\",\"110\",\"110\",\"160\",\"160\",\"69\",\"73\",\"73\",\"82\",\"82\",\"94\",\"82\",\"111\",\"82\",\"94\",\"82\",\"111\",\"62\",\"62\",\"62\",\"62\",\"62\",\"62\",\"70\",\"70\",\"56\",\"56\",\"70\",\"70\",\"70\",\"70\",\"70\",\"112\",\"112\",\"116\",\"116\",\"116\",\"116\",\"116\",\"116\",\"92\",\"73\",\"92\",\"92\",\"92\",\"161\",\"161\",\"156\",\"156\",\"52\",\"85\",\"52\",\"85\",\"85\",\"68\",\"100\",\"90\",\"90\",\"110\",\"68\",\"88\",\"114\",\"114\",\"114\",\"114\",\"162\",\"162\",\"114\",\"160\",\"134\",\"106\",\"114\"],\"index\":[0,1,2,3,4,5,6,7,8,9,10,11,12,13,14,15,16,17,18,19,20,21,22,23,24,25,26,27,28,29,30,31,32,33,34,35,36,37,38,39,40,41,42,43,44,45,46,47,48,49,50,51,52,53,54,55,56,57,58,59,60,61,62,63,64,65,66,67,68,69,70,71,72,73,74,75,76,77,78,79,80,81,82,83,84,85,86,87,88,89,90,91,92,93,94,95,96,97,98,99,100,101,102,103,104,105,106,107,108,109,110,111,112,113,114,115,116,117,118,119,120,121,122,123,124,125,126,127,128,129,130,131,132,133,134,135,136,137,138,139,140,141,142,143,144,145,146,147,148,149,150,151,152,153,154,155,156,157,158,159,160,161,162,163,164,165,166,167,168,169,170,171,172,173,174,175,176,177,178,179,180,181,182,183,184,185,186,187,188,189,190,191,192,193,194,195,196,197,198,199,200,201,202,203,204],\"length\":{\"__ndarray__\":\"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\",\"dtype\":\"float64\",\"order\":\"little\",\"shape\":[205]},\"make\":[\"alfa-romero\",\"alfa-romero\",\"alfa-romero\",\"audi\",\"audi\",\"audi\",\"audi\",\"audi\",\"audi\",\"audi\",\"bmw\",\"bmw\",\"bmw\",\"bmw\",\"bmw\",\"bmw\",\"bmw\",\"bmw\",\"chevrolet\",\"chevrolet\",\"chevrolet\",\"dodge\",\"dodge\",\"dodge\",\"dodge\",\"dodge\",\"dodge\",\"dodge\",\"dodge\",\"dodge\",\"honda\",\"honda\",\"honda\",\"honda\",\"honda\",\"honda\",\"honda\",\"honda\",\"honda\",\"honda\",\"honda\",\"honda\",\"honda\",\"isuzu\",\"isuzu\",\"isuzu\",\"isuzu\",\"jaguar\",\"jaguar\",\"jaguar\",\"mazda\",\"mazda\",\"mazda\",\"mazda\",\"mazda\",\"mazda\",\"mazda\",\"mazda\",\"mazda\",\"mazda\",\"mazda\",\"mazda\",\"mazda\",\"mazda\",\"mazda\",\"mazda\",\"mazda\",\"mercedes-benz\",\"mercedes-benz\",\"mercedes-benz\",\"mercedes-benz\",\"mercedes-benz\",\"mercedes-benz\",\"mercedes-benz\",\"mercedes-benz\",\"mercury\",\"mitsubishi\",\"mitsubishi\",\"mitsubishi\",\"mitsubishi\",\"mitsubishi\",\"mitsubishi\",\"mitsubishi\",\"mitsubishi\",\"mitsubishi\",\"mitsubishi\",\"mitsubishi\",\"mitsubishi\",\"mitsubishi\",\"nissan\",\"nissan\",\"nissan\",\"nissan\",\"nissan\",\"nissan\",\"nissan\",\"nissan\",\"nissan\",\"nissan\",\"nissan\",\"nissan\",\"nissan\",\"nissan\",\"nissan\",\"nissan\",\"nissan\",\"nissan\",\"peugot\",\"peugot\",\"peugot\",\"peugot\",\"peugot\",\"peugot\",\"peugot\",\"peugot\",\"peugot\",\"peugot\",\"peugot\",\"plymouth\",\"plymouth\",\"plymouth\",\"plymouth\",\"plymouth\",\"plymouth\",\"plymouth\",\"porsche\",\"porsche\",\"porsche\",\"porsche\",\"porsche\",\"renault\",\"renault\",\"saab\",\"saab\",\"saab\",\"saab\",\"saab\",\"saab\",\"subaru\",\"subaru\",\"subaru\",\"subaru\",\"subaru\",\"subaru\",\"subaru\",\"subaru\",\"subaru\",\"subaru\",\"subaru\",\"subaru\",\"toyota\",\"toyota\",\"toyota\",\"toyota\",\"toyota\",\"toyota\",\"toyota\",\"toyota\",\"toyota\",\"toyota\",\"toyota\",\"toyota\",\"toyota\",\"toyota\",\"toyota\",\"toyota\",\"toyota\",\"toyota\",\"toyota\",\"toyota\",\"toyota\",\"toyota\",\"toyota\",\"toyota\",\"toyota\",\"toyota\",\"toyota\",\"toyota\",\"toyota\",\"toyota\",\"toyota\",\"toyota\",\"volkswagen\",\"volkswagen\",\"volkswagen\",\"volkswagen\",\"volkswagen\",\"volkswagen\",\"volkswagen\",\"volkswagen\",\"volkswagen\",\"volkswagen\",\"volkswagen\",\"volkswagen\",\"volvo\",\"volvo\",\"volvo\",\"volvo\",\"volvo\",\"volvo\",\"volvo\",\"volvo\",\"volvo\",\"volvo\",\"volvo\"],\"normalized-losses\":[\"?\",\"?\",\"?\",\"164\",\"164\",\"?\",\"158\",\"?\",\"158\",\"?\",\"192\",\"192\",\"188\",\"188\",\"?\",\"?\",\"?\",\"?\",\"121\",\"98\",\"81\",\"118\",\"118\",\"118\",\"148\",\"148\",\"148\",\"148\",\"110\",\"145\",\"137\",\"137\",\"101\",\"101\",\"101\",\"110\",\"78\",\"106\",\"106\",\"85\",\"85\",\"85\",\"107\",\"?\",\"?\",\"?\",\"?\",\"145\",\"?\",\"?\",\"104\",\"104\",\"104\",\"113\",\"113\",\"150\",\"150\",\"150\",\"150\",\"129\",\"115\",\"129\",\"115\",\"?\",\"115\",\"118\",\"?\",\"93\",\"93\",\"93\",\"93\",\"?\",\"142\",\"?\",\"?\",\"?\",\"161\",\"161\",\"161\",\"161\",\"153\",\"153\",\"?\",\"?\",\"?\",\"125\",\"125\",\"125\",\"137\",\"128\",\"128\",\"128\",\"122\",\"103\",\"128\",\"128\",\"122\",\"103\",\"168\",\"106\",\"106\",\"128\",\"108\",\"108\",\"194\",\"194\",\"231\",\"161\",\"161\",\"?\",\"?\",\"161\",\"161\",\"?\",\"?\",\"161\",\"161\",\"161\",\"119\",\"119\",\"154\",\"154\",\"154\",\"74\",\"?\",\"186\",\"?\",\"?\",\"?\",\"?\",\"?\",\"?\",\"150\",\"104\",\"150\",\"104\",\"150\",\"104\",\"83\",\"83\",\"83\",\"102\",\"102\",\"102\",\"102\",\"102\",\"89\",\"89\",\"85\",\"85\",\"87\",\"87\",\"74\",\"77\",\"81\",\"91\",\"91\",\"91\",\"91\",\"91\",\"91\",\"91\",\"91\",\"168\",\"168\",\"168\",\"168\",\"134\",\"134\",\"134\",\"134\",\"134\",\"134\",\"65\",\"65\",\"65\",\"65\",\"65\",\"197\",\"197\",\"90\",\"?\",\"122\",\"122\",\"94\",\"94\",\"94\",\"94\",\"94\",\"?\",\"256\",\"?\",\"?\",\"?\",\"103\",\"74\",\"103\",\"74\",\"103\",\"74\",\"95\",\"95\",\"95\",\"95\",\"95\"],\"num-of-cylinders\":[\"four\",\"four\",\"six\",\"four\",\"five\",\"five\",\"five\",\"five\",\"five\",\"five\",\"four\",\"four\",\"six\",\"six\",\"six\",\"six\",\"six\",\"six\",\"three\",\"four\",\"four\",\"four\",\"four\",\"four\",\"four\",\"four\",\"four\",\"four\",\"four\",\"four\",\"four\",\"four\",\"four\",\"four\",\"four\",\"four\",\"four\",\"four\",\"four\",\"four\",\"four\",\"four\",\"four\",\"four\",\"four\",\"four\",\"four\",\"six\",\"six\",\"twelve\",\"four\",\"four\",\"four\",\"four\",\"four\",\"two\",\"two\",\"two\",\"two\",\"four\",\"four\",\"four\",\"four\",\"four\",\"four\",\"four\",\"four\",\"five\",\"five\",\"five\",\"five\",\"eight\",\"eight\",\"eight\",\"eight\",\"four\",\"four\",\"four\",\"four\",\"four\",\"four\",\"four\",\"four\",\"four\",\"four\",\"four\",\"four\",\"four\",\"four\",\"four\",\"four\",\"four\",\"four\",\"four\",\"four\",\"four\",\"four\",\"four\",\"four\",\"four\",\"four\",\"six\",\"six\",\"six\",\"six\",\"six\",\"six\",\"four\",\"four\",\"four\",\"four\",\"four\",\"four\",\"four\",\"four\",\"four\",\"four\",\"four\",\"four\",\"four\",\"four\",\"four\",\"four\",\"four\",\"four\",\"four\",\"six\",\"six\",\"six\",\"eight\",\"four\",\"four\",\"four\",\"four\",\"four\",\"four\",\"four\",\"four\",\"four\",\"four\",\"four\",\"four\",\"four\",\"four\",\"four\",\"four\",\"four\",\"four\",\"four\",\"four\",\"four\",\"four\",\"four\",\"four\",\"four\",\"four\",\"four\",\"four\",\"four\",\"four\",\"four\",\"four\",\"four\",\"four\",\"four\",\"four\",\"four\",\"four\",\"four\",\"four\",\"four\",\"four\",\"four\",\"four\",\"four\",\"four\",\"four\",\"four\",\"six\",\"six\",\"six\",\"six\",\"four\",\"four\",\"four\",\"four\",\"four\",\"four\",\"four\",\"four\",\"four\",\"five\",\"four\",\"four\",\"four\",\"four\",\"four\",\"four\",\"four\",\"four\",\"four\",\"four\",\"six\",\"six\",\"four\"],\"num-of-doors\":[\"two\",\"two\",\"two\",\"four\",\"four\",\"two\",\"four\",\"four\",\"four\",\"two\",\"two\",\"four\",\"two\",\"four\",\"four\",\"four\",\"two\",\"four\",\"two\",\"two\",\"four\",\"two\",\"two\",\"two\",\"four\",\"four\",\"four\",\"?\",\"four\",\"two\",\"two\",\"two\",\"two\",\"two\",\"two\",\"four\",\"four\",\"two\",\"two\",\"four\",\"four\",\"four\",\"two\",\"four\",\"two\",\"four\",\"two\",\"four\",\"four\",\"two\",\"two\",\"two\",\"two\",\"four\",\"four\",\"two\",\"two\",\"two\",\"two\",\"two\",\"four\",\"two\",\"four\",\"?\",\"four\",\"four\",\"four\",\"four\",\"four\",\"two\",\"four\",\"four\",\"two\",\"four\",\"two\",\"two\",\"two\",\"two\",\"two\",\"two\",\"two\",\"two\",\"two\",\"two\",\"two\",\"four\",\"four\",\"four\",\"four\",\"two\",\"two\",\"two\",\"four\",\"four\",\"two\",\"two\",\"four\",\"four\",\"two\",\"four\",\"four\",\"four\",\"four\",\"four\",\"two\",\"two\",\"two\",\"four\",\"four\",\"four\",\"four\",\"four\",\"four\",\"four\",\"four\",\"four\",\"four\",\"four\",\"two\",\"two\",\"four\",\"four\",\"four\",\"four\",\"two\",\"two\",\"two\",\"two\",\"two\",\"two\",\"four\",\"two\",\"two\",\"four\",\"two\",\"four\",\"two\",\"four\",\"two\",\"two\",\"two\",\"four\",\"four\",\"four\",\"four\",\"four\",\"four\",\"four\",\"four\",\"four\",\"two\",\"two\",\"four\",\"four\",\"four\",\"four\",\"four\",\"four\",\"four\",\"four\",\"four\",\"four\",\"four\",\"two\",\"two\",\"two\",\"two\",\"two\",\"two\",\"two\",\"two\",\"two\",\"two\",\"four\",\"four\",\"four\",\"four\",\"four\",\"two\",\"two\",\"four\",\"four\",\"two\",\"two\",\"four\",\"four\",\"four\",\"four\",\"four\",\"two\",\"two\",\"four\",\"four\",\"four\",\"four\",\"four\",\"four\",\"four\",\"four\",\"four\",\"four\",\"four\",\"four\",\"four\",\"four\"],\"peak-rpm\":[\"5000\",\"5000\",\"5000\",\"5500\",\"5500\",\"5500\",\"5500\",\"5500\",\"5500\",\"5500\",\"5800\",\"5800\",\"4250\",\"4250\",\"4250\",\"5400\",\"5400\",\"5400\",\"5100\",\"5400\",\"5400\",\"5500\",\"5500\",\"5500\",\"5500\",\"5500\",\"5500\",\"5500\",\"5000\",\"5000\",\"4800\",\"6000\",\"5500\",\"6000\",\"6000\",\"6000\",\"6000\",\"5800\",\"5800\",\"5800\",\"5800\",\"5800\",\"5500\",\"4800\",\"5400\",\"5400\",\"5000\",\"4750\",\"4750\",\"5000\",\"5000\",\"5000\",\"5000\",\"5000\",\"5000\",\"6000\",\"6000\",\"6000\",\"6000\",\"4800\",\"4800\",\"4800\",\"4800\",\"4650\",\"4800\",\"5000\",\"4200\",\"4350\",\"4350\",\"4350\",\"4350\",\"4750\",\"4750\",\"4500\",\"4500\",\"5000\",\"5500\",\"5500\",\"5500\",\"5500\",\"5500\",\"5000\",\"5000\",\"5000\",\"5000\",\"5000\",\"5000\",\"5500\",\"5500\",\"5200\",\"4800\",\"5200\",\"5200\",\"5200\",\"5200\",\"5200\",\"5200\",\"5200\",\"5200\",\"5200\",\"5200\",\"5200\",\"5200\",\"5200\",\"5200\",\"5200\",\"5200\",\"5000\",\"4150\",\"5000\",\"4150\",\"5000\",\"4150\",\"5000\",\"4150\",\"5000\",\"4150\",\"5600\",\"5500\",\"5500\",\"5500\",\"5500\",\"5500\",\"5000\",\"5000\",\"5500\",\"5900\",\"5900\",\"5900\",\"5750\",\"?\",\"?\",\"5250\",\"5250\",\"5250\",\"5250\",\"5500\",\"5500\",\"4900\",\"4400\",\"4400\",\"4800\",\"4400\",\"5200\",\"4800\",\"4800\",\"4800\",\"5200\",\"4800\",\"4800\",\"4800\",\"4800\",\"4800\",\"4800\",\"4800\",\"4800\",\"4800\",\"4800\",\"4500\",\"4500\",\"4800\",\"4800\",\"4800\",\"4800\",\"4800\",\"6600\",\"6600\",\"4800\",\"4800\",\"4800\",\"4800\",\"4800\",\"4800\",\"4200\",\"4500\",\"4200\",\"4200\",\"4200\",\"5200\",\"5200\",\"5200\",\"5200\",\"4800\",\"5250\",\"4800\",\"5250\",\"5250\",\"4500\",\"5500\",\"5500\",\"5500\",\"5500\",\"4500\",\"5500\",\"5400\",\"5400\",\"5400\",\"5400\",\"5100\",\"5100\",\"5400\",\"5300\",\"5500\",\"4800\",\"5400\"],\"price\":[\"13495\",\"16500\",\"16500\",\"13950\",\"17450\",\"15250\",\"17710\",\"18920\",\"23875\",\"?\",\"16430\",\"16925\",\"20970\",\"21105\",\"24565\",\"30760\",\"41315\",\"36880\",\"5151\",\"6295\",\"6575\",\"5572\",\"6377\",\"7957\",\"6229\",\"6692\",\"7609\",\"8558\",\"8921\",\"12964\",\"6479\",\"6855\",\"5399\",\"6529\",\"7129\",\"7295\",\"7295\",\"7895\",\"9095\",\"8845\",\"10295\",\"12945\",\"10345\",\"6785\",\"?\",\"?\",\"11048\",\"32250\",\"35550\",\"36000\",\"5195\",\"6095\",\"6795\",\"6695\",\"7395\",\"10945\",\"11845\",\"13645\",\"15645\",\"8845\",\"8495\",\"10595\",\"10245\",\"10795\",\"11245\",\"18280\",\"18344\",\"25552\",\"28248\",\"28176\",\"31600\",\"34184\",\"35056\",\"40960\",\"45400\",\"16503\",\"5389\",\"6189\",\"6669\",\"7689\",\"9959\",\"8499\",\"12629\",\"14869\",\"14489\",\"6989\",\"8189\",\"9279\",\"9279\",\"5499\",\"7099\",\"6649\",\"6849\",\"7349\",\"7299\",\"7799\",\"7499\",\"7999\",\"8249\",\"8949\",\"9549\",\"13499\",\"14399\",\"13499\",\"17199\",\"19699\",\"18399\",\"11900\",\"13200\",\"12440\",\"13860\",\"15580\",\"16900\",\"16695\",\"17075\",\"16630\",\"17950\",\"18150\",\"5572\",\"7957\",\"6229\",\"6692\",\"7609\",\"8921\",\"12764\",\"22018\",\"32528\",\"34028\",\"37028\",\"?\",\"9295\",\"9895\",\"11850\",\"12170\",\"15040\",\"15510\",\"18150\",\"18620\",\"5118\",\"7053\",\"7603\",\"7126\",\"7775\",\"9960\",\"9233\",\"11259\",\"7463\",\"10198\",\"8013\",\"11694\",\"5348\",\"6338\",\"6488\",\"6918\",\"7898\",\"8778\",\"6938\",\"7198\",\"7898\",\"7788\",\"7738\",\"8358\",\"9258\",\"8058\",\"8238\",\"9298\",\"9538\",\"8449\",\"9639\",\"9989\",\"11199\",\"11549\",\"17669\",\"8948\",\"10698\",\"9988\",\"10898\",\"11248\",\"16558\",\"15998\",\"15690\",\"15750\",\"7775\",\"7975\",\"7995\",\"8195\",\"8495\",\"9495\",\"9995\",\"11595\",\"9980\",\"13295\",\"13845\",\"12290\",\"12940\",\"13415\",\"15985\",\"16515\",\"18420\",\"18950\",\"16845\",\"19045\",\"21485\",\"22470\",\"22625\"],\"stroke\":[\"2.68\",\"2.68\",\"3.47\",\"3.4\",\"3.4\",\"3.4\",\"3.4\",\"3.4\",\"3.4\",\"3.4\",\"2.8\",\"2.8\",\"3.19\",\"3.19\",\"3.19\",\"3.39\",\"3.39\",\"3.39\",\"3.03\",\"3.11\",\"3.11\",\"3.23\",\"3.23\",\"3.39\",\"3.23\",\"3.23\",\"3.23\",\"3.39\",\"3.46\",\"3.9\",\"3.41\",\"3.41\",\"3.07\",\"3.41\",\"3.41\",\"3.41\",\"3.41\",\"3.58\",\"3.58\",\"3.58\",\"3.58\",\"3.58\",\"3.58\",\"3.23\",\"3.11\",\"3.11\",\"3.23\",\"4.17\",\"4.17\",\"2.76\",\"3.15\",\"3.15\",\"3.15\",\"3.15\",\"3.15\",\"?\",\"?\",\"?\",\"?\",\"3.39\",\"3.39\",\"3.39\",\"3.39\",\"3.39\",\"3.39\",\"3.16\",\"3.64\",\"3.64\",\"3.64\",\"3.64\",\"3.64\",\"3.1\",\"3.1\",\"3.35\",\"3.35\",\"3.12\",\"3.23\",\"3.23\",\"3.23\",\"3.39\",\"3.46\",\"3.46\",\"3.86\",\"3.86\",\"3.86\",\"3.46\",\"3.46\",\"3.46\",\"3.46\",\"3.29\",\"3.47\",\"3.29\",\"3.29\",\"3.29\",\"3.29\",\"3.29\",\"3.29\",\"3.29\",\"3.29\",\"3.47\",\"3.47\",\"3.27\",\"3.27\",\"3.27\",\"3.27\",\"3.27\",\"3.27\",\"3.19\",\"3.52\",\"3.19\",\"3.52\",\"2.19\",\"3.52\",\"2.19\",\"3.52\",\"3.19\",\"3.52\",\"3.21\",\"3.23\",\"3.39\",\"3.23\",\"3.23\",\"3.23\",\"3.46\",\"3.86\",\"3.11\",\"2.9\",\"2.9\",\"2.9\",\"3.11\",\"3.9\",\"3.9\",\"3.07\",\"3.07\",\"2.07\",\"3.07\",\"3.07\",\"3.07\",\"2.36\",\"2.64\",\"2.64\",\"2.64\",\"2.64\",\"2.64\",\"2.64\",\"2.64\",\"2.64\",\"2.64\",\"2.64\",\"2.64\",\"3.03\",\"3.03\",\"3.03\",\"3.03\",\"3.03\",\"3.03\",\"3.03\",\"3.03\",\"3.35\",\"3.35\",\"3.03\",\"3.03\",\"3.03\",\"3.03\",\"3.03\",\"3.08\",\"3.08\",\"3.5\",\"3.5\",\"3.5\",\"3.5\",\"3.5\",\"3.5\",\"3.54\",\"3.35\",\"3.54\",\"3.54\",\"3.54\",\"3.35\",\"3.35\",\"3.35\",\"3.35\",\"3.4\",\"3.4\",\"3.4\",\"3.4\",\"3.4\",\"3.4\",\"3.4\",\"3.4\",\"3.4\",\"3.4\",\"3.4\",\"3.4\",\"3.15\",\"3.15\",\"3.15\",\"3.15\",\"3.15\",\"3.15\",\"3.15\",\"3.15\",\"2.87\",\"3.4\",\"3.15\"],\"symboling\":[3,3,1,2,2,2,1,1,1,0,2,0,0,0,1,0,0,0,2,1,0,1,1,1,1,1,1,1,-1,3,2,2,1,1,1,0,0,0,0,0,0,0,1,0,1,0,2,0,0,0,1,1,1,1,1,3,3,3,3,1,0,1,0,0,0,0,0,-1,-1,0,-1,-1,3,0,1,1,2,2,2,1,3,3,3,3,3,1,1,1,-1,1,1,1,1,1,1,1,1,1,2,0,0,0,0,0,3,3,1,0,0,0,0,0,0,0,0,0,0,0,1,1,1,1,1,-1,3,3,3,3,3,1,0,2,3,2,3,2,3,2,2,2,2,0,0,0,0,0,0,0,0,0,1,1,1,0,0,0,0,0,0,0,0,0,0,1,1,1,1,2,2,2,2,2,2,-1,-1,-1,-1,-1,3,3,-1,-1,2,2,2,2,2,2,2,3,3,0,0,0,-2,-1,-2,-1,-2,-1,-1,-1,-1,-1,-1],\"wheel-base\":{\"__ndarray__\":\"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\",\"dtype\":\"float64\",\"order\":\"little\",\"shape\":[205]},\"width\":{\"__ndarray__\":\"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\",\"dtype\":\"float64\",\"order\":\"little\",\"shape\":[205]}},\"selected\":{\"id\":\"1560\"},\"selection_policy\":{\"id\":\"1561\"}},\"id\":\"1488\",\"type\":\"ColumnDataSource\"},{\"attributes\":{},\"id\":\"2059\",\"type\":\"BasicTicker\"},{\"attributes\":{},\"id\":\"2094\",\"type\":\"BasicTickFormatter\"},{\"attributes\":{},\"id\":\"2067\",\"type\":\"ResetTool\"},{\"attributes\":{},\"id\":\"2095\",\"type\":\"AllLabels\"},{\"attributes\":{\"axis\":{\"id\":\"2062\"},\"dimension\":1,\"ticker\":null},\"id\":\"2065\",\"type\":\"Grid\"},{\"attributes\":{\"toolbar\":{\"id\":\"2101\"},\"toolbar_location\":\"above\"},\"id\":\"2102\",\"type\":\"ToolbarBox\"},{\"attributes\":{},\"id\":\"2068\",\"type\":\"HelpTool\"},{\"attributes\":{},\"id\":\"2083\",\"type\":\"BasicTickFormatter\"},{\"attributes\":{\"overlay\":{\"id\":\"2069\"}},\"id\":\"2066\",\"type\":\"BoxSelectTool\"},{\"attributes\":{},\"id\":\"2084\",\"type\":\"AllLabels\"},{\"attributes\":{},\"id\":\"2063\",\"type\":\"BasicTicker\"},{\"attributes\":{},\"id\":\"1560\",\"type\":\"Selection\"},{\"attributes\":{\"below\":[{\"id\":\"2028\"}],\"center\":[{\"id\":\"2031\"},{\"id\":\"2035\"}],\"height\":300,\"left\":[{\"id\":\"2032\"}],\"renderers\":[{\"id\":\"2047\"}],\"title\":{\"id\":\"2018\"},\"toolbar\":{\"id\":\"2040\"},\"toolbar_location\":null,\"width\":300,\"x_range\":{\"id\":\"2020\"},\"x_scale\":{\"id\":\"2024\"},\"y_range\":{\"id\":\"2022\"},\"y_scale\":{\"id\":\"2026\"}},\"id\":\"2017\",\"subtype\":\"Figure\",\"type\":\"Plot\"},{\"attributes\":{\"formatter\":{\"id\":\"2094\"},\"major_label_policy\":{\"id\":\"2095\"},\"ticker\":{\"id\":\"2063\"}},\"id\":\"2062\",\"type\":\"LinearAxis\"},{\"attributes\":{\"data_source\":{\"id\":\"1488\"},\"glyph\":{\"id\":\"2075\"},\"hover_glyph\":null,\"muted_glyph\":null,\"nonselection_glyph\":{\"id\":\"2076\"},\"view\":{\"id\":\"2016\"}},\"id\":\"2077\",\"type\":\"GlyphRenderer\"},{\"attributes\":{\"bottom_units\":\"screen\",\"fill_alpha\":0.5,\"fill_color\":\"lightgrey\",\"left_units\":\"screen\",\"level\":\"overlay\",\"line_alpha\":1.0,\"line_color\":\"black\",\"line_dash\":[4,4],\"line_width\":2,\"right_units\":\"screen\",\"syncable\":false,\"top_units\":\"screen\"},\"id\":\"2069\",\"type\":\"BoxAnnotation\"},{\"attributes\":{\"fill_color\":{\"value\":\"red\"},\"line_color\":{\"value\":\"red\"},\"x\":{\"field\":\"engine-size\"},\"y\":{\"field\":\"wheel-base\"}},\"id\":\"2075\",\"type\":\"Circle\"},{\"attributes\":{\"axis\":{\"id\":\"2058\"},\"ticker\":null},\"id\":\"2061\",\"type\":\"Grid\"},{\"attributes\":{\"children\":[[{\"id\":\"2017\"},0,0],[{\"id\":\"2049\"},0,1]]},\"id\":\"2100\",\"type\":\"GridBox\"},{\"attributes\":{\"fill_alpha\":{\"value\":0.1},\"fill_color\":{\"value\":\"black\"},\"line_alpha\":{\"value\":0.1},\"x\":{\"field\":\"engine-size\"},\"y\":{\"field\":\"wheel-base\"}},\"id\":\"2046\",\"type\":\"Circle\"},{\"attributes\":{\"bottom_units\":\"screen\",\"fill_alpha\":0.5,\"fill_color\":\"lightgrey\",\"left_units\":\"screen\",\"level\":\"overlay\",\"line_alpha\":1.0,\"line_color\":\"black\",\"line_dash\":[4,4],\"line_width\":2,\"right_units\":\"screen\",\"syncable\":false,\"top_units\":\"screen\"},\"id\":\"2039\",\"type\":\"BoxAnnotation\"},{\"attributes\":{\"fill_color\":{\"value\":\"black\"},\"x\":{\"field\":\"engine-size\"},\"y\":{\"field\":\"wheel-base\"}},\"id\":\"2045\",\"type\":\"Circle\"},{\"attributes\":{},\"id\":\"1561\",\"type\":\"UnionRenderers\"},{\"attributes\":{\"column_name\":\"body-style\",\"group\":\"hatchback\"},\"id\":\"2015\",\"type\":\"GroupFilter\"},{\"attributes\":{\"below\":[{\"id\":\"2058\"}],\"center\":[{\"id\":\"2061\"},{\"id\":\"2065\"}],\"height\":300,\"left\":[{\"id\":\"2062\"}],\"renderers\":[{\"id\":\"2077\"}],\"title\":{\"id\":\"2050\"},\"toolbar\":{\"id\":\"2070\"},\"toolbar_location\":null,\"width\":300,\"x_range\":{\"id\":\"2020\"},\"x_scale\":{\"id\":\"2054\"},\"y_range\":{\"id\":\"2022\"},\"y_scale\":{\"id\":\"2056\"}},\"id\":\"2049\",\"subtype\":\"Figure\",\"type\":\"Plot\"},{\"attributes\":{\"data_source\":{\"id\":\"1488\"},\"glyph\":{\"id\":\"2045\"},\"hover_glyph\":null,\"muted_glyph\":null,\"nonselection_glyph\":{\"id\":\"2046\"},\"view\":{\"id\":\"2048\"}},\"id\":\"2047\",\"type\":\"GlyphRenderer\"},{\"attributes\":{\"active_multi\":null,\"tools\":[{\"id\":\"2066\"},{\"id\":\"2067\"},{\"id\":\"2068\"}]},\"id\":\"2070\",\"type\":\"Toolbar\"},{\"attributes\":{\"active_multi\":null,\"tools\":[{\"id\":\"2036\"},{\"id\":\"2037\"},{\"id\":\"2038\"}]},\"id\":\"2040\",\"type\":\"Toolbar\"}],\"root_ids\":[\"2103\"]},\"title\":\"Bokeh Application\",\"version\":\"2.3.2\"}};\n",
       "  var render_items = [{\"docid\":\"9342bf91-a552-4d5c-b53a-681cf2b31a59\",\"root_ids\":[\"2103\"],\"roots\":{\"2103\":\"86092310-8d6f-432c-91cd-26124200a52f\"}}];\n",
       "  root.Bokeh.embed.embed_items_notebook(docs_json, render_items);\n",
       "\n",
       "  }\n",
       "  if (root.Bokeh !== undefined) {\n",
       "    embed_document(root);\n",
       "  } else {\n",
       "    var attempts = 0;\n",
       "    var timer = setInterval(function(root) {\n",
       "      if (root.Bokeh !== undefined) {\n",
       "        clearInterval(timer);\n",
       "        embed_document(root);\n",
       "      } else {\n",
       "        attempts++;\n",
       "        if (attempts > 100) {\n",
       "          clearInterval(timer);\n",
       "          console.log(\"Bokeh: ERROR: Unable to run BokehJS code because BokehJS library is missing\");\n",
       "        }\n",
       "      }\n",
       "    }, 10, root)\n",
       "  }\n",
       "})(window);"
      ],
      "application/vnd.bokehjs_exec.v0+json": ""
     },
     "metadata": {
      "application/vnd.bokehjs_exec.v0+json": {
       "id": "2103"
      }
     },
     "output_type": "display_data"
    }
   ],
   "source": [
    "#GroupFilter\n",
    "\n",
    "from bokeh.models import GroupFilter\n",
    "\n",
    "view1 = CDSView(source=source, filters=[GroupFilter(column_name='body-style', group='hatchback')])\n",
    "plot_size_and_tools = {'plot_height': 300, 'plot_width': 300,\n",
    "                        'tools':['box_select', 'reset', 'help']}\n",
    "\n",
    "p1 = figure(title=\"Full data set\", **plot_size_and_tools)\n",
    "p1.circle(x='engine-size', y='wheel-base', source=source, color='black')\n",
    "\n",
    "p2 = figure(title=\"Sedan and Others only\", x_range=p1.x_range, y_range=p1.y_range, **plot_size_and_tools)\n",
    "p2.circle(x='engine-size', y='wheel-base', source=source, view=view1, color='red')\n",
    "\n",
    "show(gridplot([[p1, p2]]))"
   ]
  },
  {
   "cell_type": "markdown",
   "id": "c7883fd8",
   "metadata": {},
   "source": [
    "For further tutorials,refer this <a href=\"https://www.kaggle.com/saurav9786/data-visualization-with-bokeh/notebook\">Kaggle Notebook</a>"
   ]
  }
 ],
 "metadata": {
  "kernelspec": {
   "display_name": "Python 3",
   "language": "python",
   "name": "python3"
  },
  "language_info": {
   "codemirror_mode": {
    "name": "ipython",
    "version": 3
   },
   "file_extension": ".py",
   "mimetype": "text/x-python",
   "name": "python",
   "nbconvert_exporter": "python",
   "pygments_lexer": "ipython3",
   "version": "3.8.8"
  }
 },
 "nbformat": 4,
 "nbformat_minor": 5
}
