{
  "nbformat": 4,
  "nbformat_minor": 0,
  "metadata": {
    "colab": {
      "name": "Linear Regression Sample.ipynb",
      "provenance": [],
      "collapsed_sections": []
    },
    "kernelspec": {
      "name": "python3",
      "display_name": "Python 3"
    },
    "language_info": {
      "name": "python"
    }
  },
  "cells": [
    {
      "cell_type": "markdown",
      "metadata": {
        "id": "lxKAWivFgU8r"
      },
      "source": [
        "# **Prediction using Supervised Machine Learning**"
      ]
    },
    {
      "cell_type": "markdown",
      "metadata": {
        "id": "AzWgJErqgFtQ"
      },
      "source": [
        "**Libraries Used**: numpy, pandas, matplotlib, scikit-learn\n",
        "\n",
        "**Dataset Used**: Student Scores Dataset (https://raw.githubusercontent.com/AdiPersonalWorks/Random/master/student_scores%20-%20student_scores.csv)"
      ]
    },
    {
      "cell_type": "code",
      "metadata": {
        "id": "RzmBbMAhcC3U"
      },
      "source": [
        "#importing modules\n",
        "import pandas as pd\n",
        "import numpy as np\n",
        "import matplotlib.pyplot as plt"
      ],
      "execution_count": 1,
      "outputs": []
    },
    {
      "cell_type": "code",
      "metadata": {
        "id": "B1wTo00NcF5H"
      },
      "source": [
        "#reading the csv file\n",
        "url=\"http://bit.ly/w-data\"\n",
        "data=pd.read_csv(url)"
      ],
      "execution_count": 2,
      "outputs": []
    },
    {
      "cell_type": "code",
      "metadata": {
        "id": "8TdxtQHJcIdO",
        "colab": {
          "base_uri": "https://localhost:8080/",
          "height": 203
        },
        "outputId": "d6ae38e0-f02a-423c-e5dc-ba7601a3bce6"
      },
      "source": [
        "#viewing the first 5 rows to know the content\n",
        "data.head()"
      ],
      "execution_count": 3,
      "outputs": [
        {
          "output_type": "execute_result",
          "data": {
            "text/html": [
              "<div>\n",
              "<style scoped>\n",
              "    .dataframe tbody tr th:only-of-type {\n",
              "        vertical-align: middle;\n",
              "    }\n",
              "\n",
              "    .dataframe tbody tr th {\n",
              "        vertical-align: top;\n",
              "    }\n",
              "\n",
              "    .dataframe thead th {\n",
              "        text-align: right;\n",
              "    }\n",
              "</style>\n",
              "<table border=\"1\" class=\"dataframe\">\n",
              "  <thead>\n",
              "    <tr style=\"text-align: right;\">\n",
              "      <th></th>\n",
              "      <th>Hours</th>\n",
              "      <th>Scores</th>\n",
              "    </tr>\n",
              "  </thead>\n",
              "  <tbody>\n",
              "    <tr>\n",
              "      <th>0</th>\n",
              "      <td>2.5</td>\n",
              "      <td>21</td>\n",
              "    </tr>\n",
              "    <tr>\n",
              "      <th>1</th>\n",
              "      <td>5.1</td>\n",
              "      <td>47</td>\n",
              "    </tr>\n",
              "    <tr>\n",
              "      <th>2</th>\n",
              "      <td>3.2</td>\n",
              "      <td>27</td>\n",
              "    </tr>\n",
              "    <tr>\n",
              "      <th>3</th>\n",
              "      <td>8.5</td>\n",
              "      <td>75</td>\n",
              "    </tr>\n",
              "    <tr>\n",
              "      <th>4</th>\n",
              "      <td>3.5</td>\n",
              "      <td>30</td>\n",
              "    </tr>\n",
              "  </tbody>\n",
              "</table>\n",
              "</div>"
            ],
            "text/plain": [
              "   Hours  Scores\n",
              "0    2.5      21\n",
              "1    5.1      47\n",
              "2    3.2      27\n",
              "3    8.5      75\n",
              "4    3.5      30"
            ]
          },
          "metadata": {},
          "execution_count": 3
        }
      ]
    },
    {
      "cell_type": "code",
      "metadata": {
        "id": "16kdVS-6ctN_",
        "colab": {
          "base_uri": "https://localhost:8080/"
        },
        "outputId": "b4709dcb-593e-4d78-9217-e3e1b724fc18"
      },
      "source": [
        "#checking if there is any null value\n",
        "data.isnull().sum()"
      ],
      "execution_count": 4,
      "outputs": [
        {
          "output_type": "execute_result",
          "data": {
            "text/plain": [
              "Hours     0\n",
              "Scores    0\n",
              "dtype: int64"
            ]
          },
          "metadata": {},
          "execution_count": 4
        }
      ]
    },
    {
      "cell_type": "markdown",
      "metadata": {
        "id": "RiwSnL5uc0tf"
      },
      "source": [
        "So, since there are no NULL values, we don't need to do any data cleaning. We now plot the dataset and check the relationship between the feature and the label.\n",
        "\n",
        "Note: If there are NULL values in the database, perform any one of the following:\n",
        "\n",
        "\n",
        "*   Replace with the mean / median / mode value of the column values\n",
        "*   Delete the rows, if they don't affect the database\n",
        "*   Predicting the values with ML\n",
        "\n",
        "\n",
        "\n",
        "It solely depends on the database which to perform. But keeping in mind, the analysis should be closer to perfect.\n",
        "\n"
      ]
    },
    {
      "cell_type": "code",
      "metadata": {
        "id": "d0xmsSgDcw5P",
        "colab": {
          "base_uri": "https://localhost:8080/",
          "height": 295
        },
        "outputId": "c3832141-cae8-40e0-e47d-99cc687bc195"
      },
      "source": [
        "#plotting the distribution\n",
        "data.plot(x='Hours', y='Scores',style = 'o')\n",
        "plt.title('Hours of Study vs Percentage Obtained')\n",
        "plt.xlabel('Hours of Study')\n",
        "plt.ylabel('Percentage Obtained')\n",
        "plt.show()"
      ],
      "execution_count": 5,
      "outputs": [
        {
          "output_type": "display_data",
          "data": {
            "image/png": "[encoded data removed]",
            "text/plain": [
              "<Figure size 432x288 with 1 Axes>"
            ]
          },
          "metadata": {
            "needs_background": "light"
          }
        }
      ]
    },
    {
      "cell_type": "markdown",
      "metadata": {
        "id": "Yx6_Lj27c-im"
      },
      "source": [
        "From the above plot we can see that there is a positive linear relation between \"Hours of Study\" and \"Percentage Obtained\""
      ]
    },
    {
      "cell_type": "markdown",
      "metadata": {
        "id": "fuu3h8gQdB2Q"
      },
      "source": [
        "## **Machine Learning Model (Simple Linear Regression)**"
      ]
    },
    {
      "cell_type": "markdown",
      "metadata": {
        "id": "pP8fcB4UdGTP"
      },
      "source": [
        "### **Preparing the data**"
      ]
    },
    {
      "cell_type": "markdown",
      "metadata": {
        "id": "RcktQVGDdUnX"
      },
      "source": [
        "We prepare the data now. It is divided into features(input data) and labels(output data)"
      ]
    },
    {
      "cell_type": "code",
      "metadata": {
        "id": "0KK2VtBdc672"
      },
      "source": [
        "#dividing data into features and labels\n",
        "x=data.iloc[:, :-1].values\n",
        "y=data.iloc[:, 1].values"
      ],
      "execution_count": 6,
      "outputs": []
    },
    {
      "cell_type": "markdown",
      "metadata": {
        "id": "MH15jFHFeyTw"
      },
      "source": [
        "We split the data into test and training sets"
      ]
    },
    {
      "cell_type": "code",
      "metadata": {
        "id": "UvEsZ4W9dY1P"
      },
      "source": [
        "#splitting data into training and test sets using sckit-learn\n",
        "from sklearn.model_selection import train_test_split\n",
        "x_train, x_test, y_train, y_test=train_test_split(x, y, test_size=0.2, random_state=0)"
      ],
      "execution_count": 7,
      "outputs": []
    },
    {
      "cell_type": "markdown",
      "metadata": {
        "id": "uCAmfpAde4yP"
      },
      "source": [
        "We create and train the model"
      ]
    },
    {
      "cell_type": "code",
      "metadata": {
        "id": "DIJuDuAxe1F_",
        "colab": {
          "base_uri": "https://localhost:8080/"
        },
        "outputId": "a4e3cdca-fdd0-47a4-d418-1595a5bfcf7c"
      },
      "source": [
        "#training the linear regression model\n",
        "from sklearn.linear_model import LinearRegression\n",
        "regressor=LinearRegression()\n",
        "regressor.fit(x_train, y_train)"
      ],
      "execution_count": 8,
      "outputs": [
        {
          "output_type": "execute_result",
          "data": {
            "text/plain": [
              "LinearRegression(copy_X=True, fit_intercept=True, n_jobs=None, normalize=False)"
            ]
          },
          "metadata": {},
          "execution_count": 8
        }
      ]
    },
    {
      "cell_type": "code",
      "metadata": {
        "id": "vQgHNiQIe8Ku",
        "colab": {
          "base_uri": "https://localhost:8080/",
          "height": 295
        },
        "outputId": "1d165e26-141e-4b31-dcc8-3e1450c53845"
      },
      "source": [
        "#regression line\n",
        "reg_line=regressor.coef_*x+regressor.intercept_\n",
        "#plotting the training set\n",
        "plt.scatter(x, y)\n",
        "plt.plot(x, reg_line)\n",
        "plt.title('Training Set')\n",
        "plt.xlabel('Hours of Study')\n",
        "plt.ylabel('Percentage Obtained')\n",
        "plt.show()"
      ],
      "execution_count": 9,
      "outputs": [
        {
          "output_type": "display_data",
          "data": {
            "image/png": "[encoded data removed]",
            "text/plain": [
              "<Figure size 432x288 with 1 Axes>"
            ]
          },
          "metadata": {
            "needs_background": "light"
          }
        }
      ]
    },
    {
      "cell_type": "markdown",
      "metadata": {
        "id": "JDVgI6bCfCFO"
      },
      "source": [
        "So, our model is ready. Let's now test it."
      ]
    },
    {
      "cell_type": "code",
      "metadata": {
        "id": "DArxm750e_Kg"
      },
      "source": [
        "#predicting the test set\n",
        "y_pred=regressor.predict(x_test)"
      ],
      "execution_count": 10,
      "outputs": []
    },
    {
      "cell_type": "code",
      "metadata": {
        "id": "JUDTPjKIfGV9",
        "colab": {
          "base_uri": "https://localhost:8080/",
          "height": 203
        },
        "outputId": "8eb7ffc6-c581-4df0-c624-3e61647a9904"
      },
      "source": [
        "#comparing actual test labels vs predicted test labels\n",
        "df=pd.DataFrame({'Actual': y_test, 'Predicted': y_pred})\n",
        "df.head()"
      ],
      "execution_count": 11,
      "outputs": [
        {
          "output_type": "execute_result",
          "data": {
            "text/html": [
              "<div>\n",
              "<style scoped>\n",
              "    .dataframe tbody tr th:only-of-type {\n",
              "        vertical-align: middle;\n",
              "    }\n",
              "\n",
              "    .dataframe tbody tr th {\n",
              "        vertical-align: top;\n",
              "    }\n",
              "\n",
              "    .dataframe thead th {\n",
              "        text-align: right;\n",
              "    }\n",
              "</style>\n",
              "<table border=\"1\" class=\"dataframe\">\n",
              "  <thead>\n",
              "    <tr style=\"text-align: right;\">\n",
              "      <th></th>\n",
              "      <th>Actual</th>\n",
              "      <th>Predicted</th>\n",
              "    </tr>\n",
              "  </thead>\n",
              "  <tbody>\n",
              "    <tr>\n",
              "      <th>0</th>\n",
              "      <td>20</td>\n",
              "      <td>16.884145</td>\n",
              "    </tr>\n",
              "    <tr>\n",
              "      <th>1</th>\n",
              "      <td>27</td>\n",
              "      <td>33.732261</td>\n",
              "    </tr>\n",
              "    <tr>\n",
              "      <th>2</th>\n",
              "      <td>69</td>\n",
              "      <td>75.357018</td>\n",
              "    </tr>\n",
              "    <tr>\n",
              "      <th>3</th>\n",
              "      <td>30</td>\n",
              "      <td>26.794801</td>\n",
              "    </tr>\n",
              "    <tr>\n",
              "      <th>4</th>\n",
              "      <td>62</td>\n",
              "      <td>60.491033</td>\n",
              "    </tr>\n",
              "  </tbody>\n",
              "</table>\n",
              "</div>"
            ],
            "text/plain": [
              "   Actual  Predicted\n",
              "0      20  16.884145\n",
              "1      27  33.732261\n",
              "2      69  75.357018\n",
              "3      30  26.794801\n",
              "4      62  60.491033"
            ]
          },
          "metadata": {},
          "execution_count": 11
        }
      ]
    },
    {
      "cell_type": "code",
      "metadata": {
        "id": "npeWKUyifJIm",
        "colab": {
          "base_uri": "https://localhost:8080/",
          "height": 295
        },
        "outputId": "0db8de52-e52d-43d0-db2f-b9a9ab93c137"
      },
      "source": [
        "#plotting test set and predicted set to get a better understanding\n",
        "plt.scatter(x_test, y_test)\n",
        "plt.scatter(x_test, y_pred)\n",
        "plt.plot(x, reg_line)\n",
        "plt.title('Prediction Plot')\n",
        "plt.xlabel('Hours of Study')\n",
        "plt.ylabel('Percentage Obtained')\n",
        "plt.legend([\"Regression Line\",\"Testing Set\",\"Prediction Set\"])\n",
        "plt.show()"
      ],
      "execution_count": 12,
      "outputs": [
        {
          "output_type": "display_data",
          "data": {
            "image/png": "[encoded data removed]",
            "text/plain": [
              "<Figure size 432x288 with 1 Axes>"
            ]
          },
          "metadata": {
            "needs_background": "light"
          }
        }
      ]
    },
    {
      "cell_type": "markdown",
      "metadata": {
        "id": "Tc5NBZoQfSHX"
      },
      "source": [
        "\n",
        "Visually, it's predictions are not that accurate. Let's see the errors and score."
      ]
    },
    {
      "cell_type": "code",
      "metadata": {
        "id": "gP7P-SBWfOv2",
        "colab": {
          "base_uri": "https://localhost:8080/"
        },
        "outputId": "cfd766dc-06eb-465b-f4b9-2d2728330ed4"
      },
      "source": [
        "#evaluating the model\n",
        "from sklearn import metrics\n",
        "mse=metrics.mean_squared_error(y_test, y_pred)\n",
        "print(\"Mean Squared Error:\", mse)\n",
        "print('Variance score: %.2f' % regressor.score(x_test, y_test))"
      ],
      "execution_count": 13,
      "outputs": [
        {
          "output_type": "stream",
          "name": "stdout",
          "text": [
            "Mean Squared Error: 21.598769307217456\n",
            "Variance score: 0.95\n"
          ]
        }
      ]
    },
    {
      "cell_type": "markdown",
      "metadata": {
        "id": "cpyIGZNCfeu3"
      },
      "source": [
        "This is not that bad. This is because we have to depend on only one feature to predict the label"
      ]
    },
    {
      "cell_type": "markdown",
      "metadata": {
        "id": "wA7dDP0dfgII"
      },
      "source": [
        "Let's run a sample data prediction"
      ]
    },
    {
      "cell_type": "code",
      "metadata": {
        "id": "1LJ9ekZtfVZP",
        "colab": {
          "base_uri": "https://localhost:8080/"
        },
        "outputId": "aae04d93-dbb1-483b-b8a6-846db1257c7c"
      },
      "source": [
        "#sample data testing (My Own)\n",
        "hrs=[[8]]\n",
        "sample_pred=regressor.predict(hrs)\n",
        "print(\"Prediction Score Obtained:\",sample_pred[0])"
      ],
      "execution_count": 14,
      "outputs": [
        {
          "output_type": "stream",
          "name": "stdout",
          "text": [
            "Prediction Score Obtained: 81.30341188657258\n"
          ]
        }
      ]
    },
    {
      "cell_type": "markdown",
      "metadata": {
        "id": "nTlYXsElfvZ3"
      },
      "source": [
        "One more sample"
      ]
    },
    {
      "cell_type": "code",
      "metadata": {
        "id": "jpzSCP3VfnNX",
        "colab": {
          "base_uri": "https://localhost:8080/"
        },
        "outputId": "a28c1b46-b73d-4ffd-fa9a-5883dca25251"
      },
      "source": [
        "hours = [[9.25]]\n",
        "score_pred = regressor.predict(hours)\n",
        "print(\"Prediction Score Obtained:\",score_pred[0])"
      ],
      "execution_count": 15,
      "outputs": [
        {
          "output_type": "stream",
          "name": "stdout",
          "text": [
            "Prediction Score Obtained: 93.69173248737539\n"
          ]
        }
      ]
    },
    {
      "cell_type": "markdown",
      "metadata": {
        "id": "4NNRomc6f5p4"
      },
      "source": [
        "**Conclusion:**"
      ]
    },
    {
      "cell_type": "markdown",
      "metadata": {
        "id": "Qasnr_Gof8de"
      },
      "source": [
        "So, as per our analysis, the more a student studies, the more score he/she gets."
      ]
    }
  ]
}