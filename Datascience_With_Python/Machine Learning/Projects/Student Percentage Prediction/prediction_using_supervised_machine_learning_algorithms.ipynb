{
  "nbformat": 4,
  "nbformat_minor": 0,
  "metadata": {
    "colab": {
      "name": "Prediction using Supervised ML.ipynb",
      "provenance": [],
      "collapsed_sections": []
    },
    "kernelspec": {
      "name": "python3",
      "display_name": "Python 3"
    },
    "language_info": {
      "name": "python"
    }
  },
  "cells": [
    {
      "cell_type": "markdown",
      "metadata": {
        "id": "d1FpcuurwkM0"
      },
      "source": [
        "**Prediction using Supervised ML**\n",
        "\n"
      ]
    },
    {
      "cell_type": "code",
      "metadata": {
        "id": "SYlWOtXj5nHj"
      },
      "source": [
        "# IMPORTING ALL THE REQUIRED LIBRARIES LIKE PANDAS, NUMPY, MATPLOTLIB, SEABORN, SKLEARN, MATH\n",
        "\n",
        "import pandas as pd\n",
        "import numpy as np\n",
        "import matplotlib.pyplot as plt \n",
        "import seaborn as sns\n",
        "from sklearn.model_selection import train_test_split\n",
        "from sklearn.linear_model import LinearRegression\n",
        "from sklearn.metrics import mean_absolute_error\n",
        "from sklearn.metrics import mean_squared_error\n",
        "from sklearn import linear_model\n",
        "from sklearn.linear_model import Ridge\n",
        "import math\n"
      ],
      "execution_count": 20,
      "outputs": []
    },
    {
      "cell_type": "code",
      "metadata": {
        "colab": {
          "base_uri": "https://localhost:8080/"
        },
        "id": "rhUnmiFw7N5n",
        "outputId": "fde82c65-3e81-4218-8503-e418cde67118"
      },
      "source": [
        "# READ A CSV FILE \n",
        "\n",
        "Link = \"http://bit.ly/w-data\"\n",
        "df = pd.read_csv(Link)\n",
        "print(\"Data from a CSV File Read Successfully\")"
      ],
      "execution_count": 21,
      "outputs": [
        {
          "output_type": "stream",
          "name": "stdout",
          "text": [
            "Data from a CSV File Read Successfully\n"
          ]
        }
      ]
    },
    {
      "cell_type": "code",
      "metadata": {
        "colab": {
          "base_uri": "https://localhost:8080/",
          "height": 203
        },
        "id": "HF88wksW8IJY",
        "outputId": "423ad823-99e2-4746-f141-8c212af92748"
      },
      "source": [
        "# PRINT FIRST 5 RECORDS IN THE FILE\n",
        "\n",
        "df.head(5)"
      ],
      "execution_count": 22,
      "outputs": [
        {
          "output_type": "execute_result",
          "data": {
            "text/html": [
              "<div>\n",
              "<style scoped>\n",
              "    .dataframe tbody tr th:only-of-type {\n",
              "        vertical-align: middle;\n",
              "    }\n",
              "\n",
              "    .dataframe tbody tr th {\n",
              "        vertical-align: top;\n",
              "    }\n",
              "\n",
              "    .dataframe thead th {\n",
              "        text-align: right;\n",
              "    }\n",
              "</style>\n",
              "<table border=\"1\" class=\"dataframe\">\n",
              "  <thead>\n",
              "    <tr style=\"text-align: right;\">\n",
              "      <th></th>\n",
              "      <th>Hours</th>\n",
              "      <th>Scores</th>\n",
              "    </tr>\n",
              "  </thead>\n",
              "  <tbody>\n",
              "    <tr>\n",
              "      <th>0</th>\n",
              "      <td>2.5</td>\n",
              "      <td>21</td>\n",
              "    </tr>\n",
              "    <tr>\n",
              "      <th>1</th>\n",
              "      <td>5.1</td>\n",
              "      <td>47</td>\n",
              "    </tr>\n",
              "    <tr>\n",
              "      <th>2</th>\n",
              "      <td>3.2</td>\n",
              "      <td>27</td>\n",
              "    </tr>\n",
              "    <tr>\n",
              "      <th>3</th>\n",
              "      <td>8.5</td>\n",
              "      <td>75</td>\n",
              "    </tr>\n",
              "    <tr>\n",
              "      <th>4</th>\n",
              "      <td>3.5</td>\n",
              "      <td>30</td>\n",
              "    </tr>\n",
              "  </tbody>\n",
              "</table>\n",
              "</div>"
            ],
            "text/plain": [
              "   Hours  Scores\n",
              "0    2.5      21\n",
              "1    5.1      47\n",
              "2    3.2      27\n",
              "3    8.5      75\n",
              "4    3.5      30"
            ]
          },
          "metadata": {},
          "execution_count": 22
        }
      ]
    },
    {
      "cell_type": "code",
      "metadata": {
        "colab": {
          "base_uri": "https://localhost:8080/"
        },
        "id": "OUP8OsQc8lyB",
        "outputId": "7c5647c3-85e8-4e10-f1ee-a4db9824b780"
      },
      "source": [
        "# CHECKING IF DATA CONSISTS ANY NULL VALUE\n",
        "\n",
        "df.isnull == True "
      ],
      "execution_count": 23,
      "outputs": [
        {
          "output_type": "execute_result",
          "data": {
            "text/plain": [
              "False"
            ]
          },
          "metadata": {},
          "execution_count": 23
        }
      ]
    },
    {
      "cell_type": "code",
      "metadata": {
        "colab": {
          "base_uri": "https://localhost:8080/",
          "height": 292
        },
        "id": "7yS_tg8AAh7q",
        "outputId": "cc646ba4-dfcd-4e35-c05c-168923d97867"
      },
      "source": [
        "# PLOT THE SCORES DISTRIBUTION IN ORDER TO FIND RELATION BETWEEN THE DATA\n",
        "\n",
        "sns.set_style('whitegrid')\n",
        "sns.scatterplot(y= df['Scores'], x= df['Hours'])\n",
        "plt.title('Hours Studied vs Percentage Gained',size=10)\n",
        "plt.ylabel('Marks in Percentage', size=8)\n",
        "plt.xlabel('No. of Hours Studied', size=8)\n",
        "plt.show()"
      ],
      "execution_count": 24,
      "outputs": [
        {
          "output_type": "display_data",
          "data": {
            "image/png": "[encoded data removed]",
            "text/plain": [
              "<Figure size 432x288 with 1 Axes>"
            ]
          },
          "metadata": {}
        }
      ]
    },
    {
      "cell_type": "markdown",
      "metadata": {
        "id": "Tfyf3M19DDt-"
      },
      "source": [
        "**FROM ABOVE PLOT WE CAN CLEARLY DETERMINE THAT THERE IS A POSITIVE LINEAR RELATION BETWEEN NO. OF HOURS STUDIED AND MARKS IN PERCENTAGE OBTAINED BY STUDENT**"
      ]
    },
    {
      "cell_type": "code",
      "metadata": {
        "colab": {
          "base_uri": "https://localhost:8080/",
          "height": 345
        },
        "id": "FTpvCCBQBoiw",
        "outputId": "665fa93c-1554-49ce-d65d-be748b6fa65a"
      },
      "source": [
        "# REGRESSION PLOT \n",
        "\n",
        "sns.set_style('whitegrid')\n",
        "sns.regplot(x= df['Hours'], y= df['Scores'])\n",
        "plt.title('Regression Plot',size=10)\n",
        "plt.ylabel('Marks in Percentage', size=8)\n",
        "plt.xlabel('No of Hours Studied', size=8)\n",
        "plt.show()\n",
        "print(df.corr())"
      ],
      "execution_count": 25,
      "outputs": [
        {
          "output_type": "display_data",
          "data": {
            "image/png": "[encoded data removed]",
            "text/plain": [
              "<Figure size 432x288 with 1 Axes>"
            ]
          },
          "metadata": {}
        },
        {
          "output_type": "stream",
          "name": "stdout",
          "text": [
            "           Hours    Scores\n",
            "Hours   1.000000  0.976191\n",
            "Scores  0.976191  1.000000\n"
          ]
        }
      ]
    },
    {
      "cell_type": "markdown",
      "metadata": {
        "id": "Aq-fRFiFFYzW"
      },
      "source": [
        "**REGRESSION PLOT PROVES THE POSITIVE CORELATION BETWEEN THE ABOVE DATA**"
      ]
    },
    {
      "cell_type": "markdown",
      "metadata": {
        "id": "lIaecvdoFtyl"
      },
      "source": [
        "**1.**   **DATA PREPARATION**\n",
        "\n",
        "\n"
      ]
    },
    {
      "cell_type": "code",
      "metadata": {
        "id": "qiEkoCokFtEF"
      },
      "source": [
        "# DIVIDE DATA INTO ATTRIBUTES(INPUTS) AND LABELS(OUTPUTS)\n",
        "\n",
        "X = df.iloc[:, :-1].values  \n",
        "Y = df.iloc[:, 1].values  "
      ],
      "execution_count": 26,
      "outputs": []
    },
    {
      "cell_type": "code",
      "metadata": {
        "id": "9QLmH07uFhrO"
      },
      "source": [
        "# SPLITTING DATA INTO TRAINING AND TESTING DATASETS\n",
        "\n",
        "X_train, X_test, Y_train, Y_test = train_test_split(X, Y, test_size=0.2, random_state=0)"
      ],
      "execution_count": 27,
      "outputs": []
    },
    {
      "cell_type": "markdown",
      "metadata": {
        "id": "va8Pse6fQOwi"
      },
      "source": [
        "\n",
        "**2.   TRAINING THE ALGORITHM**\n",
        "\n"
      ]
    },
    {
      "cell_type": "code",
      "metadata": {
        "colab": {
          "base_uri": "https://localhost:8080/"
        },
        "id": "Zzx8WUANO_0d",
        "outputId": "41f1c28a-ed51-4ba5-fb1d-2534d15aa2f8"
      },
      "source": [
        "# TRAINING THE MODEL USING LINEAR REGRESSION ALGORITHM\n",
        "\n",
        "regression = LinearRegression()\n",
        "regression.fit(X_train, Y_train)\n",
        "print(\"Successful completion of training the model\")"
      ],
      "execution_count": 28,
      "outputs": [
        {
          "output_type": "stream",
          "name": "stdout",
          "text": [
            "Successful completion of training the model\n"
          ]
        }
      ]
    },
    {
      "cell_type": "code",
      "metadata": {
        "colab": {
          "base_uri": "https://localhost:8080/"
        },
        "id": "CkvJqJBNkJBv",
        "outputId": "744e501f-2100-4c11-849d-13894596d252"
      },
      "source": [
        "# TRAINING THE MODEL USING LASSO REGRESSION\n",
        "\n",
        "Las = linear_model.Lasso(alpha=0.1)\n",
        "Las.fit(X_train, Y_train)\n",
        "print(\"Successful completion of training the model\")"
      ],
      "execution_count": 29,
      "outputs": [
        {
          "output_type": "stream",
          "name": "stdout",
          "text": [
            "Successful completion of training the model\n"
          ]
        }
      ]
    },
    {
      "cell_type": "code",
      "metadata": {
        "colab": {
          "base_uri": "https://localhost:8080/"
        },
        "id": "mwYT6dyjlrVd",
        "outputId": "91c701ec-3b69-4ba0-e8cc-b4a291f2f4f9"
      },
      "source": [
        "# TRAINING THE MODEL USING RIDGE REGRESSION\n",
        "\n",
        "Rid = Ridge(alpha=1.0)\n",
        "Rid.fit(X_train, Y_train)\n",
        "print(\"Successful completion of training the model\")"
      ],
      "execution_count": 30,
      "outputs": [
        {
          "output_type": "stream",
          "name": "stdout",
          "text": [
            "Successful completion of training the model\n"
          ]
        }
      ]
    },
    {
      "cell_type": "markdown",
      "metadata": {
        "id": "27kIm5spQcOD"
      },
      "source": [
        "**3.   MAKING PREDICTION**\n"
      ]
    },
    {
      "cell_type": "code",
      "metadata": {
        "colab": {
          "base_uri": "https://localhost:8080/"
        },
        "id": "3ITKmnrNQEc8",
        "outputId": "37d6b27e-8746-4f08-c64e-3bb701021af0"
      },
      "source": [
        "# PRINTING TESTING DATA\n",
        "\n",
        "print(X_test) "
      ],
      "execution_count": 31,
      "outputs": [
        {
          "output_type": "stream",
          "name": "stdout",
          "text": [
            "[[1.5]\n",
            " [3.2]\n",
            " [7.4]\n",
            " [2.5]\n",
            " [5.9]]\n"
          ]
        }
      ]
    },
    {
      "cell_type": "code",
      "metadata": {
        "colab": {
          "base_uri": "https://localhost:8080/",
          "height": 203
        },
        "id": "mSUKjSdUnci8",
        "outputId": "40c8e224-867e-45b7-97b4-755c317fcf77"
      },
      "source": [
        "# PREDICTING THE SCORES USING LINEAR REGRESSION\n",
        "\n",
        "Y_prediction = regression.predict(X_test)\n",
        "prediction1 = pd.DataFrame({'Hours': [i[0] for i in X_test], 'Predicted Marks': [k for k in Y_prediction]})\n",
        "prediction1"
      ],
      "execution_count": 32,
      "outputs": [
        {
          "output_type": "execute_result",
          "data": {
            "text/html": [
              "<div>\n",
              "<style scoped>\n",
              "    .dataframe tbody tr th:only-of-type {\n",
              "        vertical-align: middle;\n",
              "    }\n",
              "\n",
              "    .dataframe tbody tr th {\n",
              "        vertical-align: top;\n",
              "    }\n",
              "\n",
              "    .dataframe thead th {\n",
              "        text-align: right;\n",
              "    }\n",
              "</style>\n",
              "<table border=\"1\" class=\"dataframe\">\n",
              "  <thead>\n",
              "    <tr style=\"text-align: right;\">\n",
              "      <th></th>\n",
              "      <th>Hours</th>\n",
              "      <th>Predicted Marks</th>\n",
              "    </tr>\n",
              "  </thead>\n",
              "  <tbody>\n",
              "    <tr>\n",
              "      <th>0</th>\n",
              "      <td>1.5</td>\n",
              "      <td>16.884145</td>\n",
              "    </tr>\n",
              "    <tr>\n",
              "      <th>1</th>\n",
              "      <td>3.2</td>\n",
              "      <td>33.732261</td>\n",
              "    </tr>\n",
              "    <tr>\n",
              "      <th>2</th>\n",
              "      <td>7.4</td>\n",
              "      <td>75.357018</td>\n",
              "    </tr>\n",
              "    <tr>\n",
              "      <th>3</th>\n",
              "      <td>2.5</td>\n",
              "      <td>26.794801</td>\n",
              "    </tr>\n",
              "    <tr>\n",
              "      <th>4</th>\n",
              "      <td>5.9</td>\n",
              "      <td>60.491033</td>\n",
              "    </tr>\n",
              "  </tbody>\n",
              "</table>\n",
              "</div>"
            ],
            "text/plain": [
              "   Hours  Predicted Marks\n",
              "0    1.5        16.884145\n",
              "1    3.2        33.732261\n",
              "2    7.4        75.357018\n",
              "3    2.5        26.794801\n",
              "4    5.9        60.491033"
            ]
          },
          "metadata": {},
          "execution_count": 32
        }
      ]
    },
    {
      "cell_type": "code",
      "metadata": {
        "colab": {
          "base_uri": "https://localhost:8080/",
          "height": 203
        },
        "id": "ZZ2v35XBk2Y0",
        "outputId": "4d415edd-3835-4a18-9ce4-cb7250d28dd4"
      },
      "source": [
        "# PREDICTING THE SCORES USING LASSO REGRESSION\n",
        " \n",
        "Y_predict = Las.predict(X_test)\n",
        "prediction2 = pd.DataFrame({'Hours': [i[0] for i in X_test], 'Predicted Marks': [k for k in Y_predict]})\n",
        "prediction2"
      ],
      "execution_count": 33,
      "outputs": [
        {
          "output_type": "execute_result",
          "data": {
            "text/html": [
              "<div>\n",
              "<style scoped>\n",
              "    .dataframe tbody tr th:only-of-type {\n",
              "        vertical-align: middle;\n",
              "    }\n",
              "\n",
              "    .dataframe tbody tr th {\n",
              "        vertical-align: top;\n",
              "    }\n",
              "\n",
              "    .dataframe thead th {\n",
              "        text-align: right;\n",
              "    }\n",
              "</style>\n",
              "<table border=\"1\" class=\"dataframe\">\n",
              "  <thead>\n",
              "    <tr style=\"text-align: right;\">\n",
              "      <th></th>\n",
              "      <th>Hours</th>\n",
              "      <th>Predicted Marks</th>\n",
              "    </tr>\n",
              "  </thead>\n",
              "  <tbody>\n",
              "    <tr>\n",
              "      <th>0</th>\n",
              "      <td>1.5</td>\n",
              "      <td>16.944678</td>\n",
              "    </tr>\n",
              "    <tr>\n",
              "      <th>1</th>\n",
              "      <td>3.2</td>\n",
              "      <td>33.765279</td>\n",
              "    </tr>\n",
              "    <tr>\n",
              "      <th>2</th>\n",
              "      <td>7.4</td>\n",
              "      <td>75.322057</td>\n",
              "    </tr>\n",
              "    <tr>\n",
              "      <th>3</th>\n",
              "      <td>2.5</td>\n",
              "      <td>26.839149</td>\n",
              "    </tr>\n",
              "    <tr>\n",
              "      <th>4</th>\n",
              "      <td>5.9</td>\n",
              "      <td>60.480351</td>\n",
              "    </tr>\n",
              "  </tbody>\n",
              "</table>\n",
              "</div>"
            ],
            "text/plain": [
              "   Hours  Predicted Marks\n",
              "0    1.5        16.944678\n",
              "1    3.2        33.765279\n",
              "2    7.4        75.322057\n",
              "3    2.5        26.839149\n",
              "4    5.9        60.480351"
            ]
          },
          "metadata": {},
          "execution_count": 33
        }
      ]
    },
    {
      "cell_type": "code",
      "metadata": {
        "colab": {
          "base_uri": "https://localhost:8080/",
          "height": 203
        },
        "id": "DMvV65B1l9AN",
        "outputId": "976b3de2-9640-4eab-a30e-483306a272ec"
      },
      "source": [
        "# PREDICTING THE SCORES USING LASSO REGRESSION\n",
        " \n",
        "Y_pred = Rid.predict(X_test)\n",
        "prediction3 = pd.DataFrame({'Hours': [i[0] for i in X_test], 'Predicted Marks': [k for k in Y_pred]})\n",
        "prediction3"
      ],
      "execution_count": 34,
      "outputs": [
        {
          "output_type": "execute_result",
          "data": {
            "text/html": [
              "<div>\n",
              "<style scoped>\n",
              "    .dataframe tbody tr th:only-of-type {\n",
              "        vertical-align: middle;\n",
              "    }\n",
              "\n",
              "    .dataframe tbody tr th {\n",
              "        vertical-align: top;\n",
              "    }\n",
              "\n",
              "    .dataframe thead th {\n",
              "        text-align: right;\n",
              "    }\n",
              "</style>\n",
              "<table border=\"1\" class=\"dataframe\">\n",
              "  <thead>\n",
              "    <tr style=\"text-align: right;\">\n",
              "      <th></th>\n",
              "      <th>Hours</th>\n",
              "      <th>Predicted Marks</th>\n",
              "    </tr>\n",
              "  </thead>\n",
              "  <tbody>\n",
              "    <tr>\n",
              "      <th>0</th>\n",
              "      <td>1.5</td>\n",
              "      <td>17.181700</td>\n",
              "    </tr>\n",
              "    <tr>\n",
              "      <th>1</th>\n",
              "      <td>3.2</td>\n",
              "      <td>33.894564</td>\n",
              "    </tr>\n",
              "    <tr>\n",
              "      <th>2</th>\n",
              "      <td>7.4</td>\n",
              "      <td>75.185168</td>\n",
              "    </tr>\n",
              "    <tr>\n",
              "      <th>3</th>\n",
              "      <td>2.5</td>\n",
              "      <td>27.012796</td>\n",
              "    </tr>\n",
              "    <tr>\n",
              "      <th>4</th>\n",
              "      <td>5.9</td>\n",
              "      <td>60.438524</td>\n",
              "    </tr>\n",
              "  </tbody>\n",
              "</table>\n",
              "</div>"
            ],
            "text/plain": [
              "   Hours  Predicted Marks\n",
              "0    1.5        17.181700\n",
              "1    3.2        33.894564\n",
              "2    7.4        75.185168\n",
              "3    2.5        27.012796\n",
              "4    5.9        60.438524"
            ]
          },
          "metadata": {},
          "execution_count": 34
        }
      ]
    },
    {
      "cell_type": "code",
      "metadata": {
        "colab": {
          "base_uri": "https://localhost:8080/",
          "height": 203
        },
        "id": "a1YQJyvCSjfj",
        "outputId": "f1329ec4-f79e-4b8c-9b25-db789f062a73"
      },
      "source": [
        "# COMPARING ACTUAL WITH PREDICTED VALUE FOR LINEAR REGRESSION\n",
        "\n",
        "LI_Scores = pd.DataFrame({'Actual Marks': Y_test, 'Predicted Marks': Y_prediction})\n",
        "LI_Scores"
      ],
      "execution_count": 35,
      "outputs": [
        {
          "output_type": "execute_result",
          "data": {
            "text/html": [
              "<div>\n",
              "<style scoped>\n",
              "    .dataframe tbody tr th:only-of-type {\n",
              "        vertical-align: middle;\n",
              "    }\n",
              "\n",
              "    .dataframe tbody tr th {\n",
              "        vertical-align: top;\n",
              "    }\n",
              "\n",
              "    .dataframe thead th {\n",
              "        text-align: right;\n",
              "    }\n",
              "</style>\n",
              "<table border=\"1\" class=\"dataframe\">\n",
              "  <thead>\n",
              "    <tr style=\"text-align: right;\">\n",
              "      <th></th>\n",
              "      <th>Actual Marks</th>\n",
              "      <th>Predicted Marks</th>\n",
              "    </tr>\n",
              "  </thead>\n",
              "  <tbody>\n",
              "    <tr>\n",
              "      <th>0</th>\n",
              "      <td>20</td>\n",
              "      <td>16.884145</td>\n",
              "    </tr>\n",
              "    <tr>\n",
              "      <th>1</th>\n",
              "      <td>27</td>\n",
              "      <td>33.732261</td>\n",
              "    </tr>\n",
              "    <tr>\n",
              "      <th>2</th>\n",
              "      <td>69</td>\n",
              "      <td>75.357018</td>\n",
              "    </tr>\n",
              "    <tr>\n",
              "      <th>3</th>\n",
              "      <td>30</td>\n",
              "      <td>26.794801</td>\n",
              "    </tr>\n",
              "    <tr>\n",
              "      <th>4</th>\n",
              "      <td>62</td>\n",
              "      <td>60.491033</td>\n",
              "    </tr>\n",
              "  </tbody>\n",
              "</table>\n",
              "</div>"
            ],
            "text/plain": [
              "   Actual Marks  Predicted Marks\n",
              "0            20        16.884145\n",
              "1            27        33.732261\n",
              "2            69        75.357018\n",
              "3            30        26.794801\n",
              "4            62        60.491033"
            ]
          },
          "metadata": {},
          "execution_count": 35
        }
      ]
    },
    {
      "cell_type": "code",
      "metadata": {
        "colab": {
          "base_uri": "https://localhost:8080/",
          "height": 203
        },
        "id": "OlmkdsTFnjd0",
        "outputId": "c3d24cdb-b74e-4dab-bef6-794d78a6fde7"
      },
      "source": [
        "# COMPARING ACTUAL WITH PREDICTED VALUE FOR LASSO REGRESSION\n",
        "\n",
        "LA_Scores = pd.DataFrame({'Actual Marks': Y_test, 'Predicted Marks': Y_predict})\n",
        "LA_Scores"
      ],
      "execution_count": 36,
      "outputs": [
        {
          "output_type": "execute_result",
          "data": {
            "text/html": [
              "<div>\n",
              "<style scoped>\n",
              "    .dataframe tbody tr th:only-of-type {\n",
              "        vertical-align: middle;\n",
              "    }\n",
              "\n",
              "    .dataframe tbody tr th {\n",
              "        vertical-align: top;\n",
              "    }\n",
              "\n",
              "    .dataframe thead th {\n",
              "        text-align: right;\n",
              "    }\n",
              "</style>\n",
              "<table border=\"1\" class=\"dataframe\">\n",
              "  <thead>\n",
              "    <tr style=\"text-align: right;\">\n",
              "      <th></th>\n",
              "      <th>Actual Marks</th>\n",
              "      <th>Predicted Marks</th>\n",
              "    </tr>\n",
              "  </thead>\n",
              "  <tbody>\n",
              "    <tr>\n",
              "      <th>0</th>\n",
              "      <td>20</td>\n",
              "      <td>16.944678</td>\n",
              "    </tr>\n",
              "    <tr>\n",
              "      <th>1</th>\n",
              "      <td>27</td>\n",
              "      <td>33.765279</td>\n",
              "    </tr>\n",
              "    <tr>\n",
              "      <th>2</th>\n",
              "      <td>69</td>\n",
              "      <td>75.322057</td>\n",
              "    </tr>\n",
              "    <tr>\n",
              "      <th>3</th>\n",
              "      <td>30</td>\n",
              "      <td>26.839149</td>\n",
              "    </tr>\n",
              "    <tr>\n",
              "      <th>4</th>\n",
              "      <td>62</td>\n",
              "      <td>60.480351</td>\n",
              "    </tr>\n",
              "  </tbody>\n",
              "</table>\n",
              "</div>"
            ],
            "text/plain": [
              "   Actual Marks  Predicted Marks\n",
              "0            20        16.944678\n",
              "1            27        33.765279\n",
              "2            69        75.322057\n",
              "3            30        26.839149\n",
              "4            62        60.480351"
            ]
          },
          "metadata": {},
          "execution_count": 36
        }
      ]
    },
    {
      "cell_type": "code",
      "metadata": {
        "colab": {
          "base_uri": "https://localhost:8080/",
          "height": 203
        },
        "id": "I-OGrdjCnjxi",
        "outputId": "37fcbc44-8963-4084-cdf1-c99459b7cc8e"
      },
      "source": [
        "# COMPARING ACTUAL WITH PREDICTED VALUE FOR RIDGE REGRESSION\n",
        "\n",
        "R_Scores = pd.DataFrame({'Actual Marks': Y_test, 'Predicted Marks': Y_pred})\n",
        "R_Scores"
      ],
      "execution_count": 37,
      "outputs": [
        {
          "output_type": "execute_result",
          "data": {
            "text/html": [
              "<div>\n",
              "<style scoped>\n",
              "    .dataframe tbody tr th:only-of-type {\n",
              "        vertical-align: middle;\n",
              "    }\n",
              "\n",
              "    .dataframe tbody tr th {\n",
              "        vertical-align: top;\n",
              "    }\n",
              "\n",
              "    .dataframe thead th {\n",
              "        text-align: right;\n",
              "    }\n",
              "</style>\n",
              "<table border=\"1\" class=\"dataframe\">\n",
              "  <thead>\n",
              "    <tr style=\"text-align: right;\">\n",
              "      <th></th>\n",
              "      <th>Actual Marks</th>\n",
              "      <th>Predicted Marks</th>\n",
              "    </tr>\n",
              "  </thead>\n",
              "  <tbody>\n",
              "    <tr>\n",
              "      <th>0</th>\n",
              "      <td>20</td>\n",
              "      <td>17.181700</td>\n",
              "    </tr>\n",
              "    <tr>\n",
              "      <th>1</th>\n",
              "      <td>27</td>\n",
              "      <td>33.894564</td>\n",
              "    </tr>\n",
              "    <tr>\n",
              "      <th>2</th>\n",
              "      <td>69</td>\n",
              "      <td>75.185168</td>\n",
              "    </tr>\n",
              "    <tr>\n",
              "      <th>3</th>\n",
              "      <td>30</td>\n",
              "      <td>27.012796</td>\n",
              "    </tr>\n",
              "    <tr>\n",
              "      <th>4</th>\n",
              "      <td>62</td>\n",
              "      <td>60.438524</td>\n",
              "    </tr>\n",
              "  </tbody>\n",
              "</table>\n",
              "</div>"
            ],
            "text/plain": [
              "   Actual Marks  Predicted Marks\n",
              "0            20        17.181700\n",
              "1            27        33.894564\n",
              "2            69        75.185168\n",
              "3            30        27.012796\n",
              "4            62        60.438524"
            ]
          },
          "metadata": {},
          "execution_count": 37
        }
      ]
    },
    {
      "cell_type": "code",
      "metadata": {
        "colab": {
          "base_uri": "https://localhost:8080/",
          "height": 292
        },
        "id": "XkM4jrSzVsNR",
        "outputId": "5231dcf8-8279-4a4e-f783-28e7c570e825"
      },
      "source": [
        "# VISUALLY COMPARING ACTUAL WITH PREDICTED VALUE\n",
        "\n",
        "plt.scatter(x=X_test, y=Y_test, color='Red')\n",
        "plt.plot(X_test, Y_prediction, color='Blue')\n",
        "plt.title('Actual marks vs Predicted marks', size=10)\n",
        "plt.ylabel('Marks in Percentage', size=8)\n",
        "plt.xlabel('No. of Hours Studied', size=8)\n",
        "plt.show()"
      ],
      "execution_count": 38,
      "outputs": [
        {
          "output_type": "display_data",
          "data": {
            "image/png": "[encoded data removed]",
            "text/plain": [
              "<Figure size 432x288 with 1 Axes>"
            ]
          },
          "metadata": {}
        }
      ]
    },
    {
      "cell_type": "markdown",
      "metadata": {
        "id": "bT-2My1pX0xo"
      },
      "source": [
        "**4.   MODEL EVALUATION**"
      ]
    },
    {
      "cell_type": "code",
      "metadata": {
        "colab": {
          "base_uri": "https://localhost:8080/"
        },
        "id": "yeF5KSC2WztC",
        "outputId": "e5409189-c5f7-4bab-c794-a477fe5cd8be"
      },
      "source": [
        "# CALCULATING THE ACCURACY OF THE MODEL FOR LINEAR REGRESSION\n",
        "print('Mean Absolute Error: ', mean_absolute_error(Y_test, Y_prediction))\n",
        "print('Mean Squared Error: ', mean_squared_error(Y_test, Y_prediction))\n",
        "print('Root Mean Square Error: ', math.sqrt(mean_squared_error(Y_test, Y_prediction)))"
      ],
      "execution_count": 39,
      "outputs": [
        {
          "output_type": "stream",
          "name": "stdout",
          "text": [
            "Mean Absolute Error:  4.183859899002982\n",
            "Mean Squared Error:  21.598769307217456\n",
            "Root Mean Square Error:  4.647447612100373\n"
          ]
        }
      ]
    },
    {
      "cell_type": "code",
      "metadata": {
        "colab": {
          "base_uri": "https://localhost:8080/"
        },
        "id": "j7jBjSrxmBaz",
        "outputId": "67371f23-42b2-4892-8b50-538981758a73"
      },
      "source": [
        "# CALCULATING THE ACCURACY OF THE MODEL FOR LASSO REGRESSION\n",
        "print('Mean Absolute Error: ', mean_absolute_error(Y_test, Y_predict))\n",
        "print('Mean Squared Error: ', mean_squared_error(Y_test, Y_predict))\n",
        "print('Root Mean Square Error: ', math.sqrt(mean_squared_error(Y_test, Y_predict)))"
      ],
      "execution_count": 40,
      "outputs": [
        {
          "output_type": "stream",
          "name": "stdout",
          "text": [
            "Mean Absolute Error:  4.164631619836858\n",
            "Mean Squared Error:  21.474542604804267\n",
            "Root Mean Square Error:  4.634063293137489\n"
          ]
        }
      ]
    },
    {
      "cell_type": "code",
      "metadata": {
        "colab": {
          "base_uri": "https://localhost:8080/"
        },
        "id": "KCQn0wZaoYy8",
        "outputId": "974d7831-bba8-41e3-cf05-773ec2f007ee"
      },
      "source": [
        "# CALCULATING THE ACCURACY OF THE MODEL FOR RIDGE REGRESSION\n",
        "print('Mean Absolute Error: ', mean_absolute_error(Y_test, Y_pred))\n",
        "print('Mean Squared Error: ', mean_squared_error(Y_test, Y_pred))\n",
        "print('Root Mean Square Error: ', math.sqrt(mean_squared_error(Y_test, Y_pred)))"
      ],
      "execution_count": 41,
      "outputs": [
        {
          "output_type": "stream",
          "name": "stdout",
          "text": [
            "Mean Absolute Error:  4.089342367221116\n",
            "Mean Squared Error:  21.019144027277527\n",
            "Root Mean Square Error:  4.584664003749624\n"
          ]
        }
      ]
    },
    {
      "cell_type": "markdown",
      "metadata": {
        "id": "-kWMLI2cbGV_"
      },
      "source": [
        "**PREDICTED SCORE WHEN STUDENT STUDIES FOR 9.25 HRS/DAY**"
      ]
    },
    {
      "cell_type": "code",
      "metadata": {
        "colab": {
          "base_uri": "https://localhost:8080/"
        },
        "id": "cMK-AoTVa6M5",
        "outputId": "f362ed8a-7897-40e7-95c4-b2417f9d0387"
      },
      "source": [
        "# PREDICTING THE PERCENTAGE WHEN HOUR=9.25\n",
        "\n",
        "Hours = [9.25]\n",
        "Predicted_percentage = regression.predict([Hours])\n",
        "print(\"Predicted Score = {}\".format(Predicted_percentage[0],3))"
      ],
      "execution_count": 42,
      "outputs": [
        {
          "output_type": "stream",
          "name": "stdout",
          "text": [
            "Predicted Score = 93.69173248737539\n"
          ]
        }
      ]
    },
    {
      "cell_type": "code",
      "metadata": {
        "colab": {
          "base_uri": "https://localhost:8080/"
        },
        "id": "9eOCUKOHmCnT",
        "outputId": "ff42fb8d-722d-4c66-d29a-5ddea43b8c44"
      },
      "source": [
        "Hours = [9.25]\n",
        "Predicted_percentage = Las.predict([Hours])\n",
        "print(\"Predicted Score = {}\".format(Predicted_percentage[0],3))"
      ],
      "execution_count": 43,
      "outputs": [
        {
          "output_type": "stream",
          "name": "stdout",
          "text": [
            "Predicted Score = 93.62682895247963\n"
          ]
        }
      ]
    },
    {
      "cell_type": "code",
      "metadata": {
        "colab": {
          "base_uri": "https://localhost:8080/"
        },
        "id": "2nAssZrDmC97",
        "outputId": "cb9e784f-2ffb-4cd5-a9b3-6e7439518618"
      },
      "source": [
        "Hours = [9.25]\n",
        "Predicted_percentage = Rid.predict([Hours])\n",
        "print(\"Predicted Score = {}\".format(Predicted_percentage[0],3))"
      ],
      "execution_count": 44,
      "outputs": [
        {
          "output_type": "stream",
          "name": "stdout",
          "text": [
            "Predicted Score = 93.37269603750562\n"
          ]
        }
      ]
    },
    {
      "cell_type": "markdown",
      "metadata": {
        "id": "iZi39bbFdC8R"
      },
      "source": [
        "**TO CONCLUDE, AFTER SPENDING 9.25 HOURS STUDYING, IT IS LIKELY THAT THE STUDENT GETS 93.69%, 93.62% AND 93.37% MARKS WHEN USED LINEAR, LASSO AND RIDGE REGRESSION RESPECTIVELY**"
      ]
    }
  ]
}