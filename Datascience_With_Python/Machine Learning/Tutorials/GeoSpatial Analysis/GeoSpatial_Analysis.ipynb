{
  "nbformat": 4,
  "nbformat_minor": 0,
  "metadata": {
    "orig_nbformat": 4,
    "language_info": {
      "name": "python",
      "version": "3.9.6",
      "mimetype": "text/x-python",
      "codemirror_mode": {
        "name": "ipython",
        "version": 3
      },
      "pygments_lexer": "ipython3",
      "nbconvert_exporter": "python",
      "file_extension": ".py"
    },
    "kernelspec": {
      "name": "python3",
      "display_name": "Python 3.9.6 64-bit"
    },
    "interpreter": {
      "hash": "63fd5069d213b44bf678585dea6b12cceca9941eaf7f819626cde1f2670de90d"
    },
    "colab": {
      "name": "GeoSpatial Analysis using GeoPandas.ipynb",
      "provenance": [],
      "collapsed_sections": []
    }
  },
  "cells": [
    {
      "cell_type": "markdown",
      "metadata": {
        "id": "RrYnQWtZeHEU"
      },
      "source": [
        "# GeoSpatial Analysis with GeoPandas"
      ]
    },
    {
      "cell_type": "markdown",
      "metadata": {
        "id": "1R60vhz2eHEX"
      },
      "source": [
        "GeoPandas is a popular library used for the visualization and manipulation of GeoSpatial Data and maps. It extends on the existing Pandas library."
      ]
    },
    {
      "cell_type": "markdown",
      "metadata": {
        "id": "n9ntaW3SeHEY"
      },
      "source": [
        "## Advantages of GeoPandas.\n",
        "1. It is free, easy to understand and and highly efficient.\n",
        "2. It is highly flexible to use as it supports data of all formats.\n",
        "3. It is open source and it supports open source.\n",
        "4. It allows for plug ins and third party softwares(GeoDjango,PostGIS etc.)"
      ]
    },
    {
      "cell_type": "markdown",
      "metadata": {
        "id": "TnCy262eeHEZ"
      },
      "source": [
        "## Disadvantages of GeoPandas\n",
        "GIS tools are spread under different python modules and created by different developers."
      ]
    },
    {
      "cell_type": "markdown",
      "metadata": {
        "id": "ZqblfEBqeHEZ"
      },
      "source": [
        "## What is Spatial Data?\n",
        "Spatial data refers to any type of data that directly or indirectly refers to a certain geographical area or location. Spatial data is a numerical representation of a physical item in a geographical coordinate system, often known as geospatial data or geographic information. Geographic data, on the other hand, is considerably more than just the geographical component of a map. Users can save geographical data in a number of formats because it can contain more than just location-specific information. We can learn more about how each variable affects people, communities, and populations by analyzing this data. \n",
        "\n",
        "There are various types of spatial data, but the two most common are geometric data and geographic data. Let us try two understand these two kinds of data.\n",
        "\n",
        "### Geometric Data\n",
        "Geometric data is a sort of spatial data that is represented on a two-dimensional flat surface. For example, geometric data is used in floor plans. Google Maps is a navigation program that uses geometric data to generate precise directions. It is, in fact, one of the most basic examples of geographical data in action.\n",
        "\n",
        "### Geographic Data\n",
        "Geographic data is the information that has been plotted around a sphere. Most of the time, the sphere is the planet Earth. Geographic data emphasizes the relationship between latitude and longitude to a given object or area. A Global Positioning System (GPS) is a well-known example of geographic data.\n",
        "\n",
        "Geospatial data often includes vast sets of spatial data gathered from a variety of sources in various forms and might contain information such as census data, satellite imagery, meteorological data, mobile phone data, drawn images, and social media data. When geospatial data can be discovered, shared, analyzed, and used in conjunction with traditional business data, it is the most useful.\n",
        "\n",
        "Geospatial analytics adds time and location granularity to standard data sets. Maps, graphs, statistics, and cartograms can all be used to depict historical and current events in various ways. This additional information helps to paint a clearer picture of what transpired. Visual patterns and images that are easy to recognize reveal insights that could otherwise be lost in a huge spreadsheet. Forecasts can be generated more quickly, conveniently, and precisely with this technique."
      ]
    },
    {
      "cell_type": "markdown",
      "metadata": {
        "id": "Wf-H5GQQeHEa"
      },
      "source": [
        "## Geometric objects and shapely module.\n",
        "Python has a specific module called Shapely that can be used to create and work with Geometric objects such as points, lines and polygons.\n",
        "It can be used for:\n",
        "- Create a Line or Polygon from a Collection of Point geometries \n",
        "- Calculate areas/length/bounds etc. of input geometries\n",
        "- Make geometric operations based on the input geometries such as Union, Difference, Distance etc.\n",
        "- Make spatial queries between geometries such Intersects, Touches, Crosses, Within etc."
      ]
    },
    {
      "cell_type": "markdown",
      "metadata": {
        "id": "GSwR8Z_zeHEc"
      },
      "source": [
        "## How to Install?\n",
        "To install GeoPandas and all its dependencies, we recommend to use the conda package manager. This can be obtained by installing the Anaconda Distribution (a free Python distribution for data science), or through miniconda (minimal distribution only containing Python and the conda package manager). See also the installation docs for more information on how to install Anaconda or miniconda locally.\n",
        "\n",
        "The advantage of using the conda package manager is that it provides pre-built binaries for all the required and optional dependencies of GeoPandas for all platforms (Windows, Mac, Linux).\n",
        "\n",
        "To install the latest version of GeoPandas, you can then do:\n",
        "\n",
        "conda install geopandas\n"
      ]
    },
    {
      "cell_type": "markdown",
      "metadata": {
        "id": "CDiqS0WyeHEd"
      },
      "source": [
        "The GeoPandas package can be installed using th pip command also \n",
        "\n",
        "Command:\n",
        "pip install geopandas\n"
      ]
    },
    {
      "cell_type": "markdown",
      "metadata": {
        "id": "m4bOCCu-eHEe"
      },
      "source": [
        "It can also be installed with pip and while doing so make sure to install the following dependencies:\n",
        "- numpy\n",
        "- pandas (version 0.24 or later)\n",
        "- shapely (interface to GEOS)\n",
        "- fiona (interface to GDAL)\n",
        "- pyproj (interface to PROJ; version 2.2.0 or later)\n",
        "\n",
        "Further, optional dependencies are:\n",
        "- rtree (optional; spatial index to improve performance and required for overlay operations; interface to libspatialindex)\n",
        "- psycopg2 (optional; for PostGIS connection)\n",
        "- GeoAlchemy2 (optional; for writing to PostGIS)\n",
        "- geopy (optional; for geocoding)\n",
        "\n",
        "For plotting, these additional packages may be used:\n",
        "- matplotlib (>= 2.2.0)\n",
        "- mapclassify (>= 2.2.0)\n",
        "\n"
      ]
    },
    {
      "cell_type": "markdown",
      "metadata": {
        "id": "6w4nxcM3eHEf"
      },
      "source": [
        "Similarly you can install for MAC/linux or if it does not work, please search for python package installer in your browser and download the packages from the same."
      ]
    },
    {
      "cell_type": "markdown",
      "metadata": {
        "id": "TCEZuE-5eHEg"
      },
      "source": [
        "## Different Data Structures in GeoPandas"
      ]
    },
    {
      "cell_type": "markdown",
      "metadata": {
        "id": "JnTsSpLueHEg"
      },
      "source": [
        "GeoPandas implements two main data structures, a GeoSeries and a GeoDataFrame. These are subclasses of pandas Series and DataFrame, respectively.\n",
        "\n",
        "### GeoSeries\n",
        "\n",
        "A GeoSeries is essentially a vector where each entry in the vector is a set of shapes corresponding to one observation. An entry may consist of only one shape (like a single polygon) or multiple shapes that are meant to be thought of as one observation (like the many polygons that make up the State of Hawaii or a country like Indonesia).\n",
        "\n",
        "geopandas has three basic classes of geometric objects (which are actually shapely objects):\n",
        "\n",
        "- Points / Multi-Points\n",
        "\n",
        "- Lines / Multi-Lines\n",
        "\n",
        "- Polygons / Multi-Polygons\n",
        "\n",
        "The GeoSeries class implements nearly all of the attributes and methods of Shapely objects. When applied to a GeoSeries, they will apply elementwise to all geometries in the series. Binary operations can be applied between two GeoSeries, in which case the operation is carried out elementwise. The two series will be aligned by matching indices. Binary operations can also be applied to a single geometry, in which case the operation is carried out for each element of the series with that geometry. In either case, a Series or a GeoSeries will be returned, as appropriate.\n",
        "\n",
        "### Attributes \n",
        "\n",
        "- area: shape area (units of projection – see projections)\n",
        "\n",
        "- bounds: tuple of max and min coordinates on each axis for each shape\n",
        "\n",
        "- total_bounds: tuple of max and min coordinates on each axis for entire GeoSeries\n",
        "\n",
        "- geom_type: type of geometry.\n",
        "\n",
        "- is_valid: tests if coordinates make a shape that is reasonable geometric shape \n",
        "\n",
        "### Methods \n",
        "\n",
        "- distance(): returns Series with minimum distance from each entry to other\n",
        "\n",
        "- centroid: returns GeoSeries of centroids\n",
        "\n",
        "- representative_point(): returns GeoSeries of points that are guaranteed to be within each geometry. It does NOT return centroids.\n",
        "\n",
        "- to_crs(): change coordinate reference system. See projections\n",
        "\n",
        "- plot(): plot GeoSeries. \n",
        "\n",
        "### Tests \n",
        "\n",
        "- geom_almost_equals(): is shape almost the same as other (good when floating point precision issues make shapes slightly different)\n",
        "\n",
        "- contains(): is shape contained within other\n",
        "\n",
        "- intersects(): does shape intersect other\n",
        "\n",
        "### GeoDataFrame \n",
        "\n",
        "A GeoDataFrame is a tabular data structure that contains a GeoSeries.\n",
        "\n",
        "The most important property of a GeoDataFrame is that it always has one GeoSeries column that holds a special status. This GeoSeries is referred to as the GeoDataFrame’s “geometry”. When a spatial method is applied to a GeoDataFrame (or a spatial attribute like area is called), this commands will always act on the “geometry” column.\n",
        "\n",
        "The “geometry” column – no matter its name – can be accessed through the geometry attribute (gdf.geometry), and the name of the geometry column can be found by typing gdf.geometry.name.\n",
        "\n",
        "A GeoDataFrame may also contain other columns with geometrical (shapely) objects, but only one column can be the active geometry at a time. To change which column is the active geometry column, use the GeoDataFrame.set_geometry() method.\n",
        "\n",
        "### Attributes \n",
        "\n",
        "Any of the attributes calls or methods described for a GeoSeries will work on a GeoDataFrame – effectively, they are just applied to the “geometry” GeoSeries.\n",
        "\n",
        "For additional reference, please visit the GeoPandas Documentation.\n",
        "\n",
        "\n",
        "\n"
      ]
    },
    {
      "cell_type": "markdown",
      "metadata": {
        "id": "3TjqZhsCeHEp"
      },
      "source": [
        "Geopandas takes advantage of Shapely’s geometric objects. Geometries are stored in a column called geometry that is a default column name for storing geometric information in geopandas."
      ]
    },
    {
      "cell_type": "markdown",
      "metadata": {
        "id": "vE6lDfa7eHEq"
      },
      "source": [
        "## Reading and Writing Files"
      ]
    },
    {
      "cell_type": "markdown",
      "metadata": {
        "id": "mM0Wqh2oeHEq"
      },
      "source": [
        " ### Reading files\n",
        " In this example, we’ll use the \"nybb\" dataset, a map of New York boroughs which is part of GeoPandas installation. Therefore we need to get the path to the actual file. With your file, you specify a path as a string (\"my_data/my_file.geojson\")."
      ]
    },
    {
      "cell_type": "code",
      "metadata": {
        "colab": {
          "base_uri": "https://localhost:8080/"
        },
        "id": "_6wka6d4eYPE",
        "outputId": "65ba4185-63db-4923-a2f0-d7180a04f8a3"
      },
      "source": [
        "!pip install geopandas"
      ],
      "execution_count": 4,
      "outputs": [
        {
          "output_type": "stream",
          "name": "stdout",
          "text": [
            "Requirement already satisfied: geopandas in /usr/local/lib/python3.7/dist-packages (0.9.0)\n",
            "Requirement already satisfied: fiona>=1.8 in /usr/local/lib/python3.7/dist-packages (from geopandas) (1.8.20)\n",
            "Requirement already satisfied: pandas>=0.24.0 in /usr/local/lib/python3.7/dist-packages (from geopandas) (1.1.5)\n",
            "Requirement already satisfied: shapely>=1.6 in /usr/local/lib/python3.7/dist-packages (from geopandas) (1.7.1)\n",
            "Requirement already satisfied: pyproj>=2.2.0 in /usr/local/lib/python3.7/dist-packages (from geopandas) (3.2.1)\n",
            "Requirement already satisfied: cligj>=0.5 in /usr/local/lib/python3.7/dist-packages (from fiona>=1.8->geopandas) (0.7.2)\n",
            "Requirement already satisfied: attrs>=17 in /usr/local/lib/python3.7/dist-packages (from fiona>=1.8->geopandas) (21.2.0)\n",
            "Requirement already satisfied: click>=4.0 in /usr/local/lib/python3.7/dist-packages (from fiona>=1.8->geopandas) (7.1.2)\n",
            "Requirement already satisfied: six>=1.7 in /usr/local/lib/python3.7/dist-packages (from fiona>=1.8->geopandas) (1.15.0)\n",
            "Requirement already satisfied: munch in /usr/local/lib/python3.7/dist-packages (from fiona>=1.8->geopandas) (2.5.0)\n",
            "Requirement already satisfied: click-plugins>=1.0 in /usr/local/lib/python3.7/dist-packages (from fiona>=1.8->geopandas) (1.1.1)\n",
            "Requirement already satisfied: certifi in /usr/local/lib/python3.7/dist-packages (from fiona>=1.8->geopandas) (2021.5.30)\n",
            "Requirement already satisfied: setuptools in /usr/local/lib/python3.7/dist-packages (from fiona>=1.8->geopandas) (57.4.0)\n",
            "Requirement already satisfied: python-dateutil>=2.7.3 in /usr/local/lib/python3.7/dist-packages (from pandas>=0.24.0->geopandas) (2.8.2)\n",
            "Requirement already satisfied: numpy>=1.15.4 in /usr/local/lib/python3.7/dist-packages (from pandas>=0.24.0->geopandas) (1.19.5)\n",
            "Requirement already satisfied: pytz>=2017.2 in /usr/local/lib/python3.7/dist-packages (from pandas>=0.24.0->geopandas) (2018.9)\n"
          ]
        }
      ]
    },
    {
      "cell_type": "code",
      "metadata": {
        "colab": {
          "base_uri": "https://localhost:8080/",
          "height": 204
        },
        "id": "nV4LL4xueHEr",
        "outputId": "d5317c42-0b05-45fd-b12e-75b9e1eeda8b"
      },
      "source": [
        "\n",
        "import geopandas\n",
        "\n",
        "path_to_data = geopandas.datasets.get_path(\"nybb\")\n",
        "gdf = geopandas.read_file(path_to_data)\n",
        "\n",
        "gdf"
      ],
      "execution_count": 5,
      "outputs": [
        {
          "output_type": "execute_result",
          "data": {
            "text/html": [
              "<div>\n",
              "<style scoped>\n",
              "    .dataframe tbody tr th:only-of-type {\n",
              "        vertical-align: middle;\n",
              "    }\n",
              "\n",
              "    .dataframe tbody tr th {\n",
              "        vertical-align: top;\n",
              "    }\n",
              "\n",
              "    .dataframe thead th {\n",
              "        text-align: right;\n",
              "    }\n",
              "</style>\n",
              "<table border=\"1\" class=\"dataframe\">\n",
              "  <thead>\n",
              "    <tr style=\"text-align: right;\">\n",
              "      <th></th>\n",
              "      <th>BoroCode</th>\n",
              "      <th>BoroName</th>\n",
              "      <th>Shape_Leng</th>\n",
              "      <th>Shape_Area</th>\n",
              "      <th>geometry</th>\n",
              "    </tr>\n",
              "  </thead>\n",
              "  <tbody>\n",
              "    <tr>\n",
              "      <th>0</th>\n",
              "      <td>5</td>\n",
              "      <td>Staten Island</td>\n",
              "      <td>330470.010332</td>\n",
              "      <td>1.623820e+09</td>\n",
              "      <td>MULTIPOLYGON (((970217.022 145643.332, 970227....</td>\n",
              "    </tr>\n",
              "    <tr>\n",
              "      <th>1</th>\n",
              "      <td>4</td>\n",
              "      <td>Queens</td>\n",
              "      <td>896344.047763</td>\n",
              "      <td>3.045213e+09</td>\n",
              "      <td>MULTIPOLYGON (((1029606.077 156073.814, 102957...</td>\n",
              "    </tr>\n",
              "    <tr>\n",
              "      <th>2</th>\n",
              "      <td>3</td>\n",
              "      <td>Brooklyn</td>\n",
              "      <td>741080.523166</td>\n",
              "      <td>1.937479e+09</td>\n",
              "      <td>MULTIPOLYGON (((1021176.479 151374.797, 102100...</td>\n",
              "    </tr>\n",
              "    <tr>\n",
              "      <th>3</th>\n",
              "      <td>1</td>\n",
              "      <td>Manhattan</td>\n",
              "      <td>359299.096471</td>\n",
              "      <td>6.364715e+08</td>\n",
              "      <td>MULTIPOLYGON (((981219.056 188655.316, 980940....</td>\n",
              "    </tr>\n",
              "    <tr>\n",
              "      <th>4</th>\n",
              "      <td>2</td>\n",
              "      <td>Bronx</td>\n",
              "      <td>464392.991824</td>\n",
              "      <td>1.186925e+09</td>\n",
              "      <td>MULTIPOLYGON (((1012821.806 229228.265, 101278...</td>\n",
              "    </tr>\n",
              "  </tbody>\n",
              "</table>\n",
              "</div>"
            ],
            "text/plain": [
              "   BoroCode  ...                                           geometry\n",
              "0         5  ...  MULTIPOLYGON (((970217.022 145643.332, 970227....\n",
              "1         4  ...  MULTIPOLYGON (((1029606.077 156073.814, 102957...\n",
              "2         3  ...  MULTIPOLYGON (((1021176.479 151374.797, 102100...\n",
              "3         1  ...  MULTIPOLYGON (((981219.056 188655.316, 980940....\n",
              "4         2  ...  MULTIPOLYGON (((1012821.806 229228.265, 101278...\n",
              "\n",
              "[5 rows x 5 columns]"
            ]
          },
          "metadata": {},
          "execution_count": 5
        }
      ]
    },
    {
      "cell_type": "markdown",
      "metadata": {
        "id": "rYmGkqZQeHEt"
      },
      "source": [
        "Writing a GeoDataFrame back to file is similarly simple, using GeoDataFrame.to_file. The default file format is Shapefile, but you can specify your own using driver keyword."
      ]
    },
    {
      "cell_type": "code",
      "metadata": {
        "id": "U4HN7EtLeHEt"
      },
      "source": [
        "gdf.to_file(\"my_file.geojson\", driver=\"GeoJSON\")"
      ],
      "execution_count": 6,
      "outputs": []
    },
    {
      "cell_type": "markdown",
      "metadata": {
        "id": "UJUU5gtYeHEu"
      },
      "source": [
        "## Simple methods\n",
        "Now we have our GeoDataFrame and can start working with its geometry.\n",
        "\n",
        "Since we have only one geometry column read from the file, it is automatically seen as the active geometry and methods used on GeoDataFrame will be applied to the \"geometry\" column.\n",
        "\n",
        "### Measuring area\n",
        "To measure the area of each polygon (or MultiPolygon in this specific case), we can use GeoDataFrame.area attribute, which returns a pandas.Series. Note that GeoDataFrame.area is just GeoSeries.area applied to an active geometry column.\n",
        "\n",
        "But first, we set the names of boroughs as an index, to make the results easier to read."
      ]
    },
    {
      "cell_type": "code",
      "metadata": {
        "colab": {
          "base_uri": "https://localhost:8080/"
        },
        "id": "2bFEDCa8eHEv",
        "outputId": "93c025aa-382c-4f5d-fe4e-0cedf3f8be43"
      },
      "source": [
        "gdf = gdf.set_index(\"BoroName\")\n",
        "gdf[\"area\"] = gdf.area\n",
        "gdf[\"area\"]"
      ],
      "execution_count": 7,
      "outputs": [
        {
          "output_type": "execute_result",
          "data": {
            "text/plain": [
              "BoroName\n",
              "Staten Island    1.623822e+09\n",
              "Queens           3.045214e+09\n",
              "Brooklyn         1.937478e+09\n",
              "Manhattan        6.364712e+08\n",
              "Bronx            1.186926e+09\n",
              "Name: area, dtype: float64"
            ]
          },
          "metadata": {},
          "execution_count": 7
        }
      ]
    },
    {
      "cell_type": "markdown",
      "metadata": {
        "id": "3MtUWkYJeHEw"
      },
      "source": [
        "### To get the polygon boundary and centroid"
      ]
    },
    {
      "cell_type": "code",
      "metadata": {
        "colab": {
          "base_uri": "https://localhost:8080/"
        },
        "id": "t6jWkTaPeHEw",
        "outputId": "01b9e3c1-f1db-44e6-8667-83017c7f2fbc"
      },
      "source": [
        "# boundary\n",
        "gdf['boundary'] = gdf.boundary\n",
        "gdf['boundary']"
      ],
      "execution_count": 8,
      "outputs": [
        {
          "output_type": "execute_result",
          "data": {
            "text/plain": [
              "BoroName\n",
              "Staten Island    MULTILINESTRING ((970217.022 145643.332, 97022...\n",
              "Queens           MULTILINESTRING ((1029606.077 156073.814, 1029...\n",
              "Brooklyn         MULTILINESTRING ((1021176.479 151374.797, 1021...\n",
              "Manhattan        MULTILINESTRING ((981219.056 188655.316, 98094...\n",
              "Bronx            MULTILINESTRING ((1012821.806 229228.265, 1012...\n",
              "Name: boundary, dtype: geometry"
            ]
          },
          "metadata": {},
          "execution_count": 8
        }
      ]
    },
    {
      "cell_type": "code",
      "metadata": {
        "colab": {
          "base_uri": "https://localhost:8080/"
        },
        "id": "ST96M4-VeHEx",
        "outputId": "4aa7c536-3b81-409a-ebef-47d23bd6fd2a"
      },
      "source": [
        "# centroid\n",
        "gdf['centroid'] = gdf.centroid\n",
        "gdf['centroid']"
      ],
      "execution_count": 9,
      "outputs": [
        {
          "output_type": "execute_result",
          "data": {
            "text/plain": [
              "BoroName\n",
              "Staten Island     POINT (941639.450 150931.991)\n",
              "Queens           POINT (1034578.078 197116.604)\n",
              "Brooklyn          POINT (998769.115 174169.761)\n",
              "Manhattan         POINT (993336.965 222451.437)\n",
              "Bronx            POINT (1021174.790 249937.980)\n",
              "Name: centroid, dtype: geometry"
            ]
          },
          "metadata": {},
          "execution_count": 9
        }
      ]
    },
    {
      "cell_type": "markdown",
      "metadata": {
        "id": "4KAOSsZneHEy"
      },
      "source": [
        "### To measure the distance \n",
        "\n"
      ]
    },
    {
      "cell_type": "code",
      "metadata": {
        "colab": {
          "base_uri": "https://localhost:8080/"
        },
        "id": "dvwoTAUReHEy",
        "outputId": "5ed0a7ad-5388-46b0-c768-905a6e0b5c3f"
      },
      "source": [
        "first_point = gdf['centroid'].iloc[0]\n",
        "gdf['distance'] = gdf['centroid'].distance(first_point)\n",
        "gdf['distance']"
      ],
      "execution_count": 10,
      "outputs": [
        {
          "output_type": "execute_result",
          "data": {
            "text/plain": [
              "BoroName\n",
              "Staten Island         0.000000\n",
              "Queens           103781.535276\n",
              "Brooklyn          61674.893421\n",
              "Manhattan         88247.742789\n",
              "Bronx            126996.283623\n",
              "Name: distance, dtype: float64"
            ]
          },
          "metadata": {},
          "execution_count": 10
        }
      ]
    },
    {
      "cell_type": "markdown",
      "metadata": {
        "id": "WN_epvuseHEz"
      },
      "source": [
        "It’s still a DataFrame, so we have all the pandas functionality available to use on the geospatial dataset, and to do data manipulations with the attributes and geometry information together."
      ]
    },
    {
      "cell_type": "markdown",
      "metadata": {
        "id": "hqbV7IMfeHEz"
      },
      "source": [
        "### To calculate mean/ average"
      ]
    },
    {
      "cell_type": "code",
      "metadata": {
        "colab": {
          "base_uri": "https://localhost:8080/"
        },
        "id": "ZOwOcFY7eHE0",
        "outputId": "99de8e20-9cdf-4a66-ff97-9759c8a78fc2"
      },
      "source": [
        "gdf['distance'].mean()"
      ],
      "execution_count": 11,
      "outputs": [
        {
          "output_type": "execute_result",
          "data": {
            "text/plain": [
              "76140.09102166798"
            ]
          },
          "metadata": {},
          "execution_count": 11
        }
      ]
    },
    {
      "cell_type": "markdown",
      "metadata": {
        "id": "2KS6vRO8eHE2"
      },
      "source": [
        "### Plots and Maps\n",
        "\n",
        "GeoPandas can also plot maps, so we can check how our geometries look like in space. The key method here is GeoDataFrame.plot(). In the example below, we plot the \"area\" we measured earlier using the active geometry column. We also want to show a legend (legend=True).\n",
        "\n"
      ]
    },
    {
      "cell_type": "code",
      "metadata": {
        "colab": {
          "base_uri": "https://localhost:8080/",
          "height": 306
        },
        "id": "oUILBxdBeHE2",
        "outputId": "a6a938c8-5921-4c45-f5ad-f279b8b5335b"
      },
      "source": [
        "gdf.plot(\"area\", legend=True)"
      ],
      "execution_count": 12,
      "outputs": [
        {
          "output_type": "execute_result",
          "data": {
            "text/plain": [
              "<matplotlib.axes._subplots.AxesSubplot at 0x7f4102a9e090>"
            ]
          },
          "metadata": {},
          "execution_count": 12
        },
        {
          "output_type": "display_data",
          "data": {
            "image/png": "[encoded data removed]",
            "text/plain": [
              "<Figure size 432x288 with 2 Axes>"
            ]
          },
          "metadata": {
            "needs_background": "light"
          }
        }
      ]
    },
    {
      "cell_type": "markdown",
      "metadata": {
        "id": "PFmg-wsBeHE3"
      },
      "source": [
        "Switching the active geometry (GeoDataFrame.set_geometry) to centroids, we can plot the same data using point geometry."
      ]
    },
    {
      "cell_type": "code",
      "metadata": {
        "colab": {
          "base_uri": "https://localhost:8080/",
          "height": 306
        },
        "id": "VN_VmJ15eHE3",
        "outputId": "5c2bcd06-a480-41df-bdce-4596e6ae246d"
      },
      "source": [
        "gdf = gdf.set_geometry(\"centroid\")\n",
        "gdf.plot(\"area\", legend=True)"
      ],
      "execution_count": 13,
      "outputs": [
        {
          "output_type": "execute_result",
          "data": {
            "text/plain": [
              "<matplotlib.axes._subplots.AxesSubplot at 0x7f4102aa5410>"
            ]
          },
          "metadata": {},
          "execution_count": 13
        },
        {
          "output_type": "display_data",
          "data": {
            "image/png": "[encoded data removed]",
            "text/plain": [
              "<Figure size 432x288 with 2 Axes>"
            ]
          },
          "metadata": {
            "needs_background": "light"
          }
        }
      ]
    },
    {
      "cell_type": "markdown",
      "metadata": {
        "id": "HickpiykeHE4"
      },
      "source": [
        "And we can also layer both GeoSeries on top of each other. We just need to use one plot as an axis for the other."
      ]
    },
    {
      "cell_type": "code",
      "metadata": {
        "colab": {
          "base_uri": "https://localhost:8080/",
          "height": 299
        },
        "id": "WOUF5VwleHE4",
        "outputId": "450a83b6-13e9-4f8c-da52-52e93732d26d"
      },
      "source": [
        "ax = gdf[\"geometry\"].plot()\n",
        "gdf[\"centroid\"].plot(ax=ax, color=\"black\")"
      ],
      "execution_count": 14,
      "outputs": [
        {
          "output_type": "execute_result",
          "data": {
            "text/plain": [
              "<matplotlib.axes._subplots.AxesSubplot at 0x7f41090f2610>"
            ]
          },
          "metadata": {},
          "execution_count": 14
        },
        {
          "output_type": "display_data",
          "data": {
            "image/png": "[encoded data removed]",
            "text/plain": [
              "<Figure size 432x288 with 1 Axes>"
            ]
          },
          "metadata": {
            "needs_background": "light"
          }
        }
      ]
    },
    {
      "cell_type": "markdown",
      "metadata": {
        "id": "lO1OvtVDeHE5"
      },
      "source": [
        "Hence, all the functionalities of Pandas are available directly in Geopandas without the need to call pandas separately because Geopandas is an extension for Pandas."
      ]
    },
    {
      "cell_type": "markdown",
      "metadata": {
        "id": "9DmhRlUyeHE6"
      },
      "source": [
        "For further reference, please visit the GeoPandas documentation"
      ]
    }
  ]
}