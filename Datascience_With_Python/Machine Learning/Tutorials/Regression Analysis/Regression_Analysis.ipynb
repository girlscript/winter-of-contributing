{
  "nbformat": 4,
  "nbformat_minor": 0,
  "metadata": {
    "colab": {
      "name": "Regression Analysis.ipynb",
      "provenance": [],
      "collapsed_sections": []
    },
    "kernelspec": {
      "name": "python3",
      "display_name": "Python 3"
    }
  },
  "cells": [
    {
      "cell_type": "markdown",
      "metadata": {
        "id": "U6W0fZSaQYTF"
      },
      "source": [
        "# **Regression Analysis**\n",
        "\n",
        "This notebook shows the regression analysis through several ML metrics to find the performance of linear and logistic regression, and how different models fit perfecty on certains datasets with higher accuracy than others.\n",
        "\n",
        "---"
      ]
    },
    {
      "cell_type": "markdown",
      "metadata": {
        "id": "-vu3OK01Qly6"
      },
      "source": [
        "# **Installing and importing necessary libraries**\n",
        "\n",
        "---"
      ]
    },
    {
      "cell_type": "code",
      "metadata": {
        "id": "JyMwVcY8SLjB"
      },
      "source": [
        "#Importing libraries\n",
        "import pandas as pd\n",
        "import numpy as np\n",
        "import seaborn as sns\n",
        "import matplotlib.pyplot as plt\n",
        "from sklearn.model_selection import train_test_split\n",
        "from sklearn import preprocessing\n",
        "from sklearn.linear_model import LinearRegression\n",
        "from sklearn.linear_model import LogisticRegression\n",
        "from sklearn.metrics import mean_absolute_error"
      ],
      "execution_count": null,
      "outputs": []
    },
    {
      "cell_type": "markdown",
      "metadata": {
        "id": "29iSZFr3QvNe"
      },
      "source": [
        "# **Accessing the data**\n",
        "\n",
        "---"
      ]
    },
    {
      "cell_type": "code",
      "metadata": {
        "id": "bmCDj5bLSPH-"
      },
      "source": [
        "#data1 = 'https://raw.githubusercontent.com/github-goog/colab/main/LinearRegression-Data.csv'\n",
        "#data2 = 'https://raw.githubusercontent.com/github-goog/colab/main/LogisticRegression-Data.csv'\n",
        "\n",
        "#Defining data source paths\n",
        "data1 = '/path/LinearRegression-Data.csv'\n",
        "data2 = '/path/LogisticRegression-Data.csv'\n",
        "\n",
        "#Conversting raw CSV file to pandas dataframe\n",
        "dataset1 = pd.read_csv(data1)\n",
        "dataset2 = pd.read_csv(data2)"
      ],
      "execution_count": null,
      "outputs": []
    },
    {
      "cell_type": "code",
      "metadata": {
        "id": "yZQ2tFrXoYhM"
      },
      "source": [
        "#Dropping dataset rows with NULL values\n",
        "dataset1.dropna(inplace=True)\n",
        "dataset2.dropna(inplace=True)\n",
        "\n",
        "#Changing string to numerical data in dataset2\n",
        "result=pd.get_dummies(dataset2[\"Result\"])\n",
        "result=pd.get_dummies(dataset2[\"Result\"],drop_first=True)\n",
        "dataset2=pd.concat([dataset2, result], axis=1)\n",
        "dataset2=dataset2.drop(\"Result\",axis=1)\n",
        "\n",
        "#Sorting and re-indexing dataset2\n",
        "dataset2 = dataset2.sort_values(by=['Hours'])\n",
        "dataset2 = dataset2.reset_index(drop=True)"
      ],
      "execution_count": null,
      "outputs": []
    },
    {
      "cell_type": "code",
      "metadata": {
        "colab": {
          "base_uri": "https://localhost:8080/",
          "height": 203
        },
        "id": "uBVNIW6tlMY9",
        "outputId": "54181ce4-034f-4d8a-d839-bdf786903f31"
      },
      "source": [
        "#Showing the top of 1st dataset\n",
        "dataset1.head()"
      ],
      "execution_count": null,
      "outputs": [
        {
          "output_type": "execute_result",
          "data": {
            "text/html": [
              "<div>\n",
              "<style scoped>\n",
              "    .dataframe tbody tr th:only-of-type {\n",
              "        vertical-align: middle;\n",
              "    }\n",
              "\n",
              "    .dataframe tbody tr th {\n",
              "        vertical-align: top;\n",
              "    }\n",
              "\n",
              "    .dataframe thead th {\n",
              "        text-align: right;\n",
              "    }\n",
              "</style>\n",
              "<table border=\"1\" class=\"dataframe\">\n",
              "  <thead>\n",
              "    <tr style=\"text-align: right;\">\n",
              "      <th></th>\n",
              "      <th>YearsExperience</th>\n",
              "      <th>Salary</th>\n",
              "    </tr>\n",
              "  </thead>\n",
              "  <tbody>\n",
              "    <tr>\n",
              "      <th>0</th>\n",
              "      <td>1.1</td>\n",
              "      <td>39343.0</td>\n",
              "    </tr>\n",
              "    <tr>\n",
              "      <th>1</th>\n",
              "      <td>1.3</td>\n",
              "      <td>46205.0</td>\n",
              "    </tr>\n",
              "    <tr>\n",
              "      <th>2</th>\n",
              "      <td>1.5</td>\n",
              "      <td>37731.0</td>\n",
              "    </tr>\n",
              "    <tr>\n",
              "      <th>3</th>\n",
              "      <td>2.0</td>\n",
              "      <td>43525.0</td>\n",
              "    </tr>\n",
              "    <tr>\n",
              "      <th>4</th>\n",
              "      <td>2.2</td>\n",
              "      <td>39891.0</td>\n",
              "    </tr>\n",
              "  </tbody>\n",
              "</table>\n",
              "</div>"
            ],
            "text/plain": [
              "   YearsExperience   Salary\n",
              "0              1.1  39343.0\n",
              "1              1.3  46205.0\n",
              "2              1.5  37731.0\n",
              "3              2.0  43525.0\n",
              "4              2.2  39891.0"
            ]
          },
          "metadata": {},
          "execution_count": 4
        }
      ]
    },
    {
      "cell_type": "code",
      "metadata": {
        "colab": {
          "base_uri": "https://localhost:8080/",
          "height": 203
        },
        "id": "zTk4YhlAlMQh",
        "outputId": "41dd41b9-5818-430a-9f1c-69dc72c4dc77"
      },
      "source": [
        "#Showing the top of 2nd dataset\n",
        "dataset2.head()"
      ],
      "execution_count": null,
      "outputs": [
        {
          "output_type": "execute_result",
          "data": {
            "text/html": [
              "<div>\n",
              "<style scoped>\n",
              "    .dataframe tbody tr th:only-of-type {\n",
              "        vertical-align: middle;\n",
              "    }\n",
              "\n",
              "    .dataframe tbody tr th {\n",
              "        vertical-align: top;\n",
              "    }\n",
              "\n",
              "    .dataframe thead th {\n",
              "        text-align: right;\n",
              "    }\n",
              "</style>\n",
              "<table border=\"1\" class=\"dataframe\">\n",
              "  <thead>\n",
              "    <tr style=\"text-align: right;\">\n",
              "      <th></th>\n",
              "      <th>Hours</th>\n",
              "      <th>StudentId</th>\n",
              "      <th>Pass</th>\n",
              "    </tr>\n",
              "  </thead>\n",
              "  <tbody>\n",
              "    <tr>\n",
              "      <th>0</th>\n",
              "      <td>0.5</td>\n",
              "      <td>1</td>\n",
              "      <td>0</td>\n",
              "    </tr>\n",
              "    <tr>\n",
              "      <th>1</th>\n",
              "      <td>1.0</td>\n",
              "      <td>10</td>\n",
              "      <td>0</td>\n",
              "    </tr>\n",
              "    <tr>\n",
              "      <th>2</th>\n",
              "      <td>1.2</td>\n",
              "      <td>15</td>\n",
              "      <td>0</td>\n",
              "    </tr>\n",
              "    <tr>\n",
              "      <th>3</th>\n",
              "      <td>1.5</td>\n",
              "      <td>21</td>\n",
              "      <td>0</td>\n",
              "    </tr>\n",
              "    <tr>\n",
              "      <th>4</th>\n",
              "      <td>1.7</td>\n",
              "      <td>16</td>\n",
              "      <td>0</td>\n",
              "    </tr>\n",
              "  </tbody>\n",
              "</table>\n",
              "</div>"
            ],
            "text/plain": [
              "   Hours  StudentId  Pass\n",
              "0    0.5          1     0\n",
              "1    1.0         10     0\n",
              "2    1.2         15     0\n",
              "3    1.5         21     0\n",
              "4    1.7         16     0"
            ]
          },
          "metadata": {},
          "execution_count": 5
        }
      ]
    },
    {
      "cell_type": "code",
      "metadata": {
        "colab": {
          "base_uri": "https://localhost:8080/"
        },
        "id": "hT-fZZENlXT4",
        "outputId": "691acb54-a6e6-46b4-b3b7-f00992d68daa"
      },
      "source": [
        "#Showing the details of 1st dataset\n",
        "dataset1.info()"
      ],
      "execution_count": null,
      "outputs": [
        {
          "output_type": "stream",
          "name": "stdout",
          "text": [
            "<class 'pandas.core.frame.DataFrame'>\n",
            "Int64Index: 30 entries, 0 to 29\n",
            "Data columns (total 2 columns):\n",
            " #   Column           Non-Null Count  Dtype  \n",
            "---  ------           --------------  -----  \n",
            " 0   YearsExperience  30 non-null     float64\n",
            " 1   Salary           30 non-null     float64\n",
            "dtypes: float64(2)\n",
            "memory usage: 720.0 bytes\n"
          ]
        }
      ]
    },
    {
      "cell_type": "code",
      "metadata": {
        "colab": {
          "base_uri": "https://localhost:8080/"
        },
        "id": "ILCwCfbDlXMe",
        "outputId": "3ef76453-746d-4a64-c94f-79285e5dff10"
      },
      "source": [
        "#Showing the details of 2nd dataset\n",
        "dataset2.info()"
      ],
      "execution_count": null,
      "outputs": [
        {
          "output_type": "stream",
          "name": "stdout",
          "text": [
            "<class 'pandas.core.frame.DataFrame'>\n",
            "RangeIndex: 18 entries, 0 to 17\n",
            "Data columns (total 3 columns):\n",
            " #   Column     Non-Null Count  Dtype  \n",
            "---  ------     --------------  -----  \n",
            " 0   Hours      18 non-null     float64\n",
            " 1   StudentId  18 non-null     int64  \n",
            " 2   Pass       18 non-null     uint8  \n",
            "dtypes: float64(1), int64(1), uint8(1)\n",
            "memory usage: 434.0 bytes\n"
          ]
        }
      ]
    },
    {
      "cell_type": "code",
      "metadata": {
        "colab": {
          "base_uri": "https://localhost:8080/",
          "height": 296
        },
        "id": "pJ81DiX_lXBT",
        "outputId": "ae638142-bfc6-4a55-c9f0-9bd13e51f440"
      },
      "source": [
        "#Plotting dataset 1 (linear data)\n",
        "plt.scatter(dataset1.YearsExperience,dataset1.Salary,color='Green')\n",
        "plt.xlabel(\"Years of Experience\")\n",
        "plt.ylabel(\"Salary\")"
      ],
      "execution_count": null,
      "outputs": [
        {
          "output_type": "execute_result",
          "data": {
            "text/plain": [
              "Text(0, 0.5, 'Salary')"
            ]
          },
          "metadata": {},
          "execution_count": 8
        },
        {
          "output_type": "display_data",
          "data": {
            "image/png": "[encoded data removed]",
            "text/plain": [
              "<Figure size 432x288 with 1 Axes>"
            ]
          },
          "metadata": {
            "needs_background": "light"
          }
        }
      ]
    },
    {
      "cell_type": "code",
      "metadata": {
        "colab": {
          "base_uri": "https://localhost:8080/",
          "height": 296
        },
        "id": "qMjIzoW0lW55",
        "outputId": "3a31d03d-0fdc-4b70-e7c9-ff1cdeea8235"
      },
      "source": [
        "#Plotting dataset 2 (logistic data)\n",
        "plt.scatter(dataset2.Hours,dataset2.Pass,color='Orange')\n",
        "plt.xlabel(\"Hours\")\n",
        "plt.ylabel(\"Result\")"
      ],
      "execution_count": null,
      "outputs": [
        {
          "output_type": "execute_result",
          "data": {
            "text/plain": [
              "Text(0, 0.5, 'Result')"
            ]
          },
          "metadata": {},
          "execution_count": 9
        },
        {
          "output_type": "display_data",
          "data": {
            "image/png": "[encoded data removed]",
            "text/plain": [
              "<Figure size 432x288 with 1 Axes>"
            ]
          },
          "metadata": {
            "needs_background": "light"
          }
        }
      ]
    },
    {
      "cell_type": "markdown",
      "metadata": {
        "id": "U4JWqfHxQ-Mq"
      },
      "source": [
        "# **Engineering the data**\n",
        "\n",
        "---"
      ]
    },
    {
      "cell_type": "code",
      "metadata": {
        "id": "1mw8Tk9BSTIM"
      },
      "source": [
        "#Assigning x and y values for dataset 1\n",
        "x1 = dataset1[[\"YearsExperience\"]]\n",
        "y1 = dataset1[[\"Salary\"]]\n",
        "\n",
        "#Assigning x and y values for dataset 2\n",
        "x2 = dataset2[[\"Hours\"]]\n",
        "y2 = dataset2[[\"Pass\"]]"
      ],
      "execution_count": null,
      "outputs": []
    },
    {
      "cell_type": "code",
      "metadata": {
        "id": "EsrI_Fx1pwQV"
      },
      "source": [
        "#Splitting dataset 1 into tarin and test sub-datasets\n",
        "x1_train, x1_test, y1_train, y1_test = train_test_split(x1, y1, test_size=0.2, random_state=2)\n",
        "\n",
        "#Splitting dataset 2 into tarin and test sub-datasets\n",
        "x2_train, x2_test, y2_train, y2_test = train_test_split(x2, y2, test_size=0.2, random_state=2)"
      ],
      "execution_count": null,
      "outputs": []
    },
    {
      "cell_type": "markdown",
      "metadata": {
        "id": "P3Qdly_J_J9M"
      },
      "source": [
        "# **Creating models**\n",
        "\n",
        "---"
      ]
    },
    {
      "cell_type": "code",
      "metadata": {
        "id": "VLZI8TR9qJjH"
      },
      "source": [
        "#Preparing the linear regression models\n",
        "Lin_reg_1 = LinearRegression()\n",
        "Lin_reg_2 = LinearRegression()\n",
        "\n",
        "#Preparing the logistic regression models\n",
        "LogR_reg_1 = LogisticRegression()\n",
        "LogR_reg_2 = LogisticRegression()"
      ],
      "execution_count": null,
      "outputs": []
    },
    {
      "cell_type": "code",
      "metadata": {
        "colab": {
          "base_uri": "https://localhost:8080/"
        },
        "id": "m6TAsNa571fn",
        "outputId": "1fc7f0f1-7cf1-4366-fb61-6eb2cb29e5b6"
      },
      "source": [
        "#Training the linear regression model on linear data\n",
        "Lin_reg_1.fit(x1_train, y1_train)"
      ],
      "execution_count": null,
      "outputs": [
        {
          "output_type": "execute_result",
          "data": {
            "text/plain": [
              "LinearRegression(copy_X=True, fit_intercept=True, n_jobs=None, normalize=False)"
            ]
          },
          "metadata": {},
          "execution_count": 13
        }
      ]
    },
    {
      "cell_type": "code",
      "metadata": {
        "colab": {
          "base_uri": "https://localhost:8080/"
        },
        "id": "FqabgKOn8RJV",
        "outputId": "718d8c32-0945-4c5d-8db1-0f342929b006"
      },
      "source": [
        "#Training the linear regression model on logistic data\n",
        "Lin_reg_2.fit(x2_train, y2_train)"
      ],
      "execution_count": null,
      "outputs": [
        {
          "output_type": "execute_result",
          "data": {
            "text/plain": [
              "LinearRegression(copy_X=True, fit_intercept=True, n_jobs=None, normalize=False)"
            ]
          },
          "metadata": {},
          "execution_count": 14
        }
      ]
    },
    {
      "cell_type": "code",
      "metadata": {
        "colab": {
          "base_uri": "https://localhost:8080/"
        },
        "id": "LFcEQucO8BfZ",
        "outputId": "8fe453b3-5dd6-4a23-c30f-c7bd27145ebb"
      },
      "source": [
        "#Training the logistic regression model on linear data\n",
        "LogR_reg_1.fit(x1_train, y1_train)"
      ],
      "execution_count": null,
      "outputs": [
        {
          "output_type": "stream",
          "name": "stderr",
          "text": [
            "/usr/local/lib/python3.7/dist-packages/sklearn/utils/validation.py:760: DataConversionWarning: A column-vector y was passed when a 1d array was expected. Please change the shape of y to (n_samples, ), for example using ravel().\n",
            "  y = column_or_1d(y, warn=True)\n",
            "/usr/local/lib/python3.7/dist-packages/sklearn/linear_model/_logistic.py:940: ConvergenceWarning: lbfgs failed to converge (status=1):\n",
            "STOP: TOTAL NO. of ITERATIONS REACHED LIMIT.\n",
            "\n",
            "Increase the number of iterations (max_iter) or scale the data as shown in:\n",
            "    https://scikit-learn.org/stable/modules/preprocessing.html\n",
            "Please also refer to the documentation for alternative solver options:\n",
            "    https://scikit-learn.org/stable/modules/linear_model.html#logistic-regression\n",
            "  extra_warning_msg=_LOGISTIC_SOLVER_CONVERGENCE_MSG)\n"
          ]
        },
        {
          "output_type": "execute_result",
          "data": {
            "text/plain": [
              "LogisticRegression(C=1.0, class_weight=None, dual=False, fit_intercept=True,\n",
              "                   intercept_scaling=1, l1_ratio=None, max_iter=100,\n",
              "                   multi_class='auto', n_jobs=None, penalty='l2',\n",
              "                   random_state=None, solver='lbfgs', tol=0.0001, verbose=0,\n",
              "                   warm_start=False)"
            ]
          },
          "metadata": {},
          "execution_count": 15
        }
      ]
    },
    {
      "cell_type": "code",
      "metadata": {
        "colab": {
          "base_uri": "https://localhost:8080/"
        },
        "id": "fHJ1fUWi8g5n",
        "outputId": "a5f16054-447b-4a7d-e7e2-11cf4aa4932d"
      },
      "source": [
        "#Training the logistic regression model on logistic data\n",
        "LogR_reg_2.fit(x2_train, y2_train)"
      ],
      "execution_count": null,
      "outputs": [
        {
          "output_type": "stream",
          "name": "stderr",
          "text": [
            "/usr/local/lib/python3.7/dist-packages/sklearn/utils/validation.py:760: DataConversionWarning: A column-vector y was passed when a 1d array was expected. Please change the shape of y to (n_samples, ), for example using ravel().\n",
            "  y = column_or_1d(y, warn=True)\n"
          ]
        },
        {
          "output_type": "execute_result",
          "data": {
            "text/plain": [
              "LogisticRegression(C=1.0, class_weight=None, dual=False, fit_intercept=True,\n",
              "                   intercept_scaling=1, l1_ratio=None, max_iter=100,\n",
              "                   multi_class='auto', n_jobs=None, penalty='l2',\n",
              "                   random_state=None, solver='lbfgs', tol=0.0001, verbose=0,\n",
              "                   warm_start=False)"
            ]
          },
          "metadata": {},
          "execution_count": 16
        }
      ]
    },
    {
      "cell_type": "markdown",
      "metadata": {
        "id": "OtdYALZY_WiJ"
      },
      "source": [
        "# **Making predictions**\n",
        "\n",
        "---"
      ]
    },
    {
      "cell_type": "code",
      "metadata": {
        "id": "w2ZyQp9AG2zK"
      },
      "source": [
        "#Predicting linear data on linear regression model\n",
        "predictions_1 = Lin_reg_1.predict(x1_test)\n",
        "\n",
        "#Predicting logistic data on linear regression model\n",
        "predictions_2 = Lin_reg_2.predict(x2_test)\n",
        "\n",
        "#Predicting linear data on logistic regression model\n",
        "predictions_3 = LogR_reg_1.predict(x1_test)\n",
        "\n",
        "#Predicting logistic data on logistic regression model\n",
        "predictions_4 = LogR_reg_2.predict(x2_test)"
      ],
      "execution_count": null,
      "outputs": []
    },
    {
      "cell_type": "markdown",
      "metadata": {
        "id": "afIRy8G8_bwV"
      },
      "source": [
        "**Visualizing predictions of linear regression model on linear data**\n",
        "\n",
        "Blue   : Original Value <br>\n",
        "Orange : Predicted Value"
      ]
    },
    {
      "cell_type": "code",
      "metadata": {
        "id": "mbyiIWklSNdu",
        "colab": {
          "base_uri": "https://localhost:8080/",
          "height": 282
        },
        "outputId": "4e0670bb-2b38-41b9-eba3-bb7b48e3076f"
      },
      "source": [
        "#Plotting two (super-imposing) scatter plots that show real and predicted values\n",
        "temp1 = []\n",
        "\n",
        "for i in range(len(predictions_1)):\n",
        "  temp1.append(i)\n",
        "\n",
        "plt.scatter(temp1, y1_test, marker=\"*\", color = 'blue')\n",
        "plt.scatter(temp1, predictions_1, color = 'orange')"
      ],
      "execution_count": null,
      "outputs": [
        {
          "output_type": "execute_result",
          "data": {
            "text/plain": [
              "<matplotlib.collections.PathCollection at 0x7f636025e490>"
            ]
          },
          "metadata": {},
          "execution_count": 18
        },
        {
          "output_type": "display_data",
          "data": {
            "image/png": "[encoded data removed]",
            "text/plain": [
              "<Figure size 432x288 with 1 Axes>"
            ]
          },
          "metadata": {
            "needs_background": "light"
          }
        }
      ]
    },
    {
      "cell_type": "markdown",
      "metadata": {
        "id": "9L_ldtxB_0PD"
      },
      "source": [
        "**Visualizing predictions of linear regression model on logistic data**\n",
        "\n",
        "Blue   : Original Value <br>\n",
        "Orange : Predicted Value"
      ]
    },
    {
      "cell_type": "code",
      "metadata": {
        "colab": {
          "base_uri": "https://localhost:8080/",
          "height": 282
        },
        "id": "KkT8Kniy_09e",
        "outputId": "75968d27-19b9-4af4-f203-116715ca3648"
      },
      "source": [
        "#Plotting two (super-imposing) scatter plots that show real and predicted values\n",
        "temp2 = []\n",
        "\n",
        "for i in range(len(predictions_2)):\n",
        "  temp2.append(i)\n",
        "\n",
        "plt.scatter(temp2, y2_test, marker=\"*\", color = 'blue')\n",
        "plt.scatter(temp2, predictions_2, color = 'orange')"
      ],
      "execution_count": null,
      "outputs": [
        {
          "output_type": "execute_result",
          "data": {
            "text/plain": [
              "<matplotlib.collections.PathCollection at 0x7f6360206150>"
            ]
          },
          "metadata": {},
          "execution_count": 19
        },
        {
          "output_type": "display_data",
          "data": {
            "image/png": "[encoded data removed]",
            "text/plain": [
              "<Figure size 432x288 with 1 Axes>"
            ]
          },
          "metadata": {
            "needs_background": "light"
          }
        }
      ]
    },
    {
      "cell_type": "markdown",
      "metadata": {
        "id": "D-V9J4HCAdLp"
      },
      "source": [
        "**Visualizing predictions of logistic regression model on linear data**\n",
        "\n",
        "Blue   : Original Value <br>\n",
        "Orange : Predicted Value"
      ]
    },
    {
      "cell_type": "code",
      "metadata": {
        "colab": {
          "base_uri": "https://localhost:8080/",
          "height": 282
        },
        "id": "crXBkHEaAjYe",
        "outputId": "8c981758-24c3-4607-d272-9a9a63000599"
      },
      "source": [
        "#Plotting two (super-imposing) scatter plots that show real and predicted values\n",
        "temp3 = []\n",
        "\n",
        "for i in range(len(predictions_3)):\n",
        "  temp3.append(i)\n",
        "\n",
        "plt.scatter(temp3, y1_test, marker=\"*\", color = 'blue')\n",
        "plt.scatter(temp3, predictions_3, color = 'orange')"
      ],
      "execution_count": null,
      "outputs": [
        {
          "output_type": "execute_result",
          "data": {
            "text/plain": [
              "<matplotlib.collections.PathCollection at 0x7f636012e350>"
            ]
          },
          "metadata": {},
          "execution_count": 20
        },
        {
          "output_type": "display_data",
          "data": {
            "image/png": "[encoded data removed]",
            "text/plain": [
              "<Figure size 432x288 with 1 Axes>"
            ]
          },
          "metadata": {
            "needs_background": "light"
          }
        }
      ]
    },
    {
      "cell_type": "markdown",
      "metadata": {
        "id": "eBOaz003Ac7z"
      },
      "source": [
        "**Visualizing predictions of logistic regression model on logistic data**\n",
        "\n",
        "Blue   : Original Value <br>\n",
        "Orange : Predicted Value"
      ]
    },
    {
      "cell_type": "code",
      "metadata": {
        "colab": {
          "base_uri": "https://localhost:8080/",
          "height": 282
        },
        "id": "K_mCc6tcAkK6",
        "outputId": "bbb125f7-937a-489b-a3bd-6180cdabffdc"
      },
      "source": [
        "#Plotting two (super-imposing) scatter plots that show real and predicted values\n",
        "temp4 = []\n",
        "\n",
        "for i in range(len(predictions_4)):\n",
        "  temp4.append(i)\n",
        "\n",
        "plt.scatter(temp4, y2_test, marker=\"*\", color = 'blue')\n",
        "plt.scatter(temp4, predictions_4, color = 'orange')"
      ],
      "execution_count": null,
      "outputs": [
        {
          "output_type": "execute_result",
          "data": {
            "text/plain": [
              "<matplotlib.collections.PathCollection at 0x7f636011c250>"
            ]
          },
          "metadata": {},
          "execution_count": 21
        },
        {
          "output_type": "display_data",
          "data": {
            "image/png": "[encoded data removed]",
            "text/plain": [
              "<Figure size 432x288 with 1 Axes>"
            ]
          },
          "metadata": {
            "needs_background": "light"
          }
        }
      ]
    },
    {
      "cell_type": "markdown",
      "metadata": {
        "id": "Tuurty5PAlbv"
      },
      "source": [
        "# **Regression Analysis**"
      ]
    },
    {
      "cell_type": "code",
      "metadata": {
        "id": "K9gXd6ZHSEPr",
        "colab": {
          "base_uri": "https://localhost:8080/"
        },
        "outputId": "c57d4e61-9a90-455e-ae25-a6071f207628"
      },
      "source": [
        "#Finding R2 score value for linear model on linear data\n",
        "r1 = mean_absolute_error(y1_test, predictions_1)\n",
        "print(\"R2 Score : %.5f\" %r1)"
      ],
      "execution_count": null,
      "outputs": [
        {
          "output_type": "stream",
          "name": "stdout",
          "text": [
            "R2 Score : 6802.77957\n"
          ]
        }
      ]
    },
    {
      "cell_type": "code",
      "metadata": {
        "colab": {
          "base_uri": "https://localhost:8080/"
        },
        "id": "iNg-k9JaenoW",
        "outputId": "36bc9890-d815-4ad2-82c2-89ca84075ab1"
      },
      "source": [
        "#Finding R2 score value for logistic model on linear data\n",
        "r3 = mean_absolute_error(y1_test, predictions_3)\n",
        "print(\"R2 Score : %.5f\" %r3)"
      ],
      "execution_count": null,
      "outputs": [
        {
          "output_type": "stream",
          "name": "stdout",
          "text": [
            "R2 Score : 5411.00000\n"
          ]
        }
      ]
    },
    {
      "cell_type": "code",
      "metadata": {
        "colab": {
          "base_uri": "https://localhost:8080/"
        },
        "id": "DZLZxxrKhcdT",
        "outputId": "665b647f-3ef0-4170-8e76-6d457b3bf0e3"
      },
      "source": [
        "#Finding R2 score value for linear model on logistic data\n",
        "r2 = mean_absolute_error(y2_test, predictions_2)\n",
        "print(\"R2 Score : %.5f\" %r2)"
      ],
      "execution_count": null,
      "outputs": [
        {
          "output_type": "stream",
          "name": "stdout",
          "text": [
            "R2 Score : 0.26699\n"
          ]
        }
      ]
    },
    {
      "cell_type": "code",
      "metadata": {
        "colab": {
          "base_uri": "https://localhost:8080/"
        },
        "id": "BxYYx5Eiet85",
        "outputId": "b1d98415-729f-4112-a810-cd8904e9fd13"
      },
      "source": [
        "#Finding R2 score value for logistic model on logistic data\n",
        "r4 = mean_absolute_error(y2_test, predictions_4)\n",
        "print(\"R2 Score : %.5f\" %r4)"
      ],
      "execution_count": null,
      "outputs": [
        {
          "output_type": "stream",
          "name": "stdout",
          "text": [
            "R2 Score : 0.25000\n"
          ]
        }
      ]
    },
    {
      "cell_type": "markdown",
      "metadata": {
        "id": "h4rI3U-PU_te"
      },
      "source": [
        "# **Thank you.**\n",
        "\n",
        "---"
      ]
    }
  ]
}