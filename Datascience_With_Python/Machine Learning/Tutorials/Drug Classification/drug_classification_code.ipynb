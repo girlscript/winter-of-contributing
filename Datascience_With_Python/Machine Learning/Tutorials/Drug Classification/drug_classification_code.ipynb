{
  "nbformat": 4,
  "nbformat_minor": 0,
  "metadata": {
    "colab": {
      "name": "drug_classification_code.ipynb",
      "provenance": [],
      "collapsed_sections": [],
      "machine_shape": "hm"
    },
    "kernelspec": {
      "name": "python3",
      "display_name": "Python 3"
    }
  },
  "cells": [
    {
      "cell_type": "markdown",
      "metadata": {
        "id": "UWVUPof1j9LO"
      },
      "source": [
        "# Introduction"
      ]
    },
    {
      "cell_type": "markdown",
      "metadata": {
        "id": "_SoShY7vkIKR"
      },
      "source": [
        "*What is Classification?*\n",
        "\n",
        "A Classification algorithm is a type Supervised Machine Learning algorithm which predicts data based on the training set provided. It is used to identify the category of various data based on the features provided.\n",
        "\n",
        "It can be used to:\n",
        "* Classify different images as cat or dog, based on different features\n",
        "* Predict if a person is Covid positive or negative, based on different symptoms and tests conducted\n",
        "* If a person will pass or fail in exams, based on the hours of study and the marks in practice tests\n",
        "And so on...\n",
        "\n",
        "Different types of Classificatio algorithm are:\n",
        "* K-Nearest Neighbors (K-NN)\n",
        "* Support Vector Machine (SVM)\n",
        "* Kernel SVM\n",
        "* Naive Bayes\n",
        "* Logistic Regression"
      ]
    },
    {
      "cell_type": "markdown",
      "metadata": {
        "id": "Vo-3ixtKj6D9"
      },
      "source": [
        "*About the problem...*\n",
        "\n",
        "This problem involves classification and prediction of drugs as drugY, drugX, drugA, drugC or drugB suitable for a patient, based on Age, Sex, BP, Cholesterol levels and Na to Potassium Ratio entered by the user."
      ]
    },
    {
      "cell_type": "markdown",
      "metadata": {
        "id": "DKhc6mZ4mTGd"
      },
      "source": [
        "To check which algorithm is based suited to analyse the given dataset, all the different classification models are applied on the dataset and the one with best r2 score or accuracy score is selected as the best algorithm for the given dataset!"
      ]
    },
    {
      "cell_type": "markdown",
      "metadata": {
        "id": "0MRC0e0KhQ0S"
      },
      "source": [
        "# Preparing the dataset to apply the model"
      ]
    },
    {
      "cell_type": "markdown",
      "metadata": {
        "id": "LWd1UlMnhT2s"
      },
      "source": [
        "## Importing the libraries"
      ]
    },
    {
      "cell_type": "code",
      "metadata": {
        "id": "YvGPUQaHhXfL"
      },
      "source": [
        "import numpy as np\n",
        "import matplotlib.pyplot as plt\n",
        "import pandas as pd"
      ],
      "execution_count": 1,
      "outputs": []
    },
    {
      "cell_type": "markdown",
      "metadata": {
        "id": "K1VMqkGvhc3-"
      },
      "source": [
        "## Importing the dataset"
      ]
    },
    {
      "cell_type": "code",
      "metadata": {
        "id": "M52QDmyzhh9s"
      },
      "source": [
        "dataset = pd.read_csv('drug200.csv')\n",
        "X = dataset.iloc[:, :-1].values\n",
        "y = dataset.iloc[:, -1].values"
      ],
      "execution_count": 2,
      "outputs": []
    },
    {
      "cell_type": "markdown",
      "metadata": {
        "id": "QhQxynZOnBa_"
      },
      "source": [
        "## Data Preprocessing"
      ]
    },
    {
      "cell_type": "code",
      "metadata": {
        "id": "LmpRwBU8rtqd"
      },
      "source": [
        "from sklearn.preprocessing import LabelEncoder\n",
        "le = LabelEncoder()\n",
        "y = le.fit_transform(y)"
      ],
      "execution_count": 3,
      "outputs": []
    },
    {
      "cell_type": "code",
      "metadata": {
        "colab": {
          "base_uri": "https://localhost:8080/"
        },
        "id": "5Sr1ZzernHKy",
        "outputId": "3d890321-8aa9-4edc-af7f-514537797d19"
      },
      "source": [
        "print(y)"
      ],
      "execution_count": 4,
      "outputs": [
        {
          "output_type": "stream",
          "name": "stdout",
          "text": [
            "[0 3 3 4 0 4 0 3 0 0 3 0 0 0 4 0 4 1 3 0 0 0 0 0 0 0 0 4 0 0 4 2 4 0 4 4 1\n",
            " 4 4 4 0 2 0 4 4 4 1 3 0 0 0 4 0 0 2 3 2 0 4 0 0 1 0 4 2 0 1 4 0 0 2 0 4 0\n",
            " 0 0 1 0 1 4 2 4 3 1 3 2 4 0 0 0 0 0 0 0 0 4 0 0 0 0 1 1 3 4 0 4 4 0 2 0 1\n",
            " 4 4 4 4 0 4 4 1 0 0 0 0 0 2 0 0 4 0 4 0 0 4 0 0 4 2 1 2 4 1 0 2 0 1 4 4 1\n",
            " 4 3 1 2 4 4 0 3 1 0 3 4 4 2 4 0 0 0 0 4 0 1 4 4 0 0 1 0 1 0 0 0 0 4 4 0 0\n",
            " 0 2 1 0 0 0 1 0 3 0 3 3 4 4 4]\n"
          ]
        }
      ]
    },
    {
      "cell_type": "markdown",
      "metadata": {
        "id": "ZX-bLJxTnFau"
      },
      "source": [
        "As you can see, on applying label encoder, the labels in array 'y' have labels changed from strings, i.e drugX, DrugY to machine-readable form. Each have assumed values from 0 to 4 since there are 5 different classes for the drugs to be classified."
      ]
    },
    {
      "cell_type": "code",
      "metadata": {
        "colab": {
          "base_uri": "https://localhost:8080/"
        },
        "id": "oPpV9dQUrbDE",
        "outputId": "e4ea8010-3fc8-4df6-fb25-2536966ff1bf"
      },
      "source": [
        "from sklearn.compose import ColumnTransformer\n",
        "from sklearn.preprocessing import OneHotEncoder\n",
        "ct = ColumnTransformer(transformers=[('encoder',OneHotEncoder(),[2])],remainder='passthrough')\n",
        "X = np.array(ct.fit_transform(X))\n",
        "print(X[0:5,:])"
      ],
      "execution_count": 5,
      "outputs": [
        {
          "output_type": "stream",
          "name": "stdout",
          "text": [
            "[[1.0 0.0 0.0 23 'F' 'HIGH' 25.355]\n",
            " [0.0 1.0 0.0 47 'M' 'HIGH' 13.093]\n",
            " [0.0 1.0 0.0 47 'M' 'HIGH' 10.113999999999999]\n",
            " [0.0 0.0 1.0 28 'F' 'HIGH' 7.797999999999999]\n",
            " [0.0 1.0 0.0 61 'F' 'HIGH' 18.043]]\n"
          ]
        }
      ]
    },
    {
      "cell_type": "markdown",
      "metadata": {
        "id": "DCzpnXo7ny30"
      },
      "source": [
        "On applying OneHotEncoder(), the 'HIGH','LOW' and 'NORMAL' values in the column index 2, 'BP' got converted to machine readable form. Each value is represented as a binary vector that is all zero values except the index of the value, which is marked with a 1."
      ]
    },
    {
      "cell_type": "markdown",
      "metadata": {
        "id": "bKv9urSInz75"
      },
      "source": [
        "*A common question arises... Why OneHotEncoder and not LabelEncoder?*\n",
        "\n",
        "You can figure that out by either applying both to the dataset and the one with best r2 score maybe considered final. Or, if you find that there isn't much relation between the different labels in the column, and to avoid giving weigtage to different labels based on the integer value (in Label Encoding) assigned to each, we go for One Hot Encoder. Also, if there are many labels, Label Encoder is preferred over One Hot Encoder."
      ]
    },
    {
      "cell_type": "code",
      "metadata": {
        "colab": {
          "base_uri": "https://localhost:8080/"
        },
        "id": "gp5QlvL6ra5w",
        "outputId": "1c512e05-ee83-415b-bde4-5fefa2e2ea11"
      },
      "source": [
        "from sklearn.preprocessing import LabelEncoder\n",
        "le2 = LabelEncoder()\n",
        "X[:,4] = le2.fit_transform(X[:,4])\n",
        "le3 = LabelEncoder()\n",
        "X[:,5] = le3.fit_transform(X[:,5])\n",
        "print(X[0:5,:])"
      ],
      "execution_count": 6,
      "outputs": [
        {
          "output_type": "stream",
          "name": "stdout",
          "text": [
            "[[1.0 0.0 0.0 23 0 0 25.355]\n",
            " [0.0 1.0 0.0 47 1 0 13.093]\n",
            " [0.0 1.0 0.0 47 1 0 10.113999999999999]\n",
            " [0.0 0.0 1.0 28 0 0 7.797999999999999]\n",
            " [0.0 1.0 0.0 61 0 0 18.043]]\n"
          ]
        }
      ]
    },
    {
      "cell_type": "markdown",
      "metadata": {
        "id": "SiUrgFJJn6jx"
      },
      "source": [
        "All the columns now, are machine readable! \n",
        "So, let's go to the next step!"
      ]
    },
    {
      "cell_type": "markdown",
      "metadata": {
        "id": "YvxIPVyMhmKp"
      },
      "source": [
        "## Splitting the dataset into the Training set and Test set"
      ]
    },
    {
      "cell_type": "code",
      "metadata": {
        "id": "AVzJWAXIhxoC"
      },
      "source": [
        "from sklearn.model_selection import train_test_split\n",
        "X_train, X_test, y_train, y_test = train_test_split(X, y, test_size = 0.25, random_state = 0)"
      ],
      "execution_count": 7,
      "outputs": []
    },
    {
      "cell_type": "code",
      "metadata": {
        "id": "P3nS3-6r1i2B",
        "colab": {
          "base_uri": "https://localhost:8080/"
        },
        "outputId": "1aec04d7-06b5-45a2-c7e3-4f6251d5194e"
      },
      "source": [
        "print(X_train)"
      ],
      "execution_count": 8,
      "outputs": [
        {
          "output_type": "stream",
          "name": "stdout",
          "text": [
            "[[0.0 0.0 1.0 ... 0 0 19.675]\n",
            " [1.0 0.0 0.0 ... 0 1 12.495]\n",
            " [1.0 0.0 0.0 ... 0 0 37.188]\n",
            " ...\n",
            " [0.0 0.0 1.0 ... 0 0 10.103]\n",
            " [0.0 1.0 0.0 ... 1 0 10.290999999999999]\n",
            " [0.0 0.0 1.0 ... 0 1 17.225]]\n"
          ]
        }
      ]
    },
    {
      "cell_type": "code",
      "metadata": {
        "id": "8dpDLojm1mVG",
        "colab": {
          "base_uri": "https://localhost:8080/"
        },
        "outputId": "fbb5ee82-d6ca-4390-f531-2249bbc6105c"
      },
      "source": [
        "print(y_train)"
      ],
      "execution_count": 9,
      "outputs": [
        {
          "output_type": "stream",
          "name": "stdout",
          "text": [
            "[0 2 0 0 3 0 4 4 0 2 0 0 4 0 4 0 2 0 4 4 4 0 1 1 1 0 0 4 4 0 1 1 2 3 2 0 3\n",
            " 0 2 4 4 3 0 0 3 0 0 0 0 4 3 1 0 0 0 1 4 2 4 2 0 0 0 2 0 2 0 2 4 0 0 1 0 0\n",
            " 1 1 4 4 0 4 0 0 3 0 3 4 1 0 4 0 0 3 4 0 0 3 0 4 0 4 4 0 1 4 0 0 0 0 4 0 4\n",
            " 2 2 0 4 1 4 2 1 1 0 0 3 4 0 4 3 4 0 0 0 4 0 1 0 4 4 1 0 2 0 1 0 0 4 4 0 4\n",
            " 3 0]\n"
          ]
        }
      ]
    },
    {
      "cell_type": "code",
      "metadata": {
        "id": "qbb7i0DH1qui",
        "colab": {
          "base_uri": "https://localhost:8080/"
        },
        "outputId": "dfee335c-0494-4c50-bc47-6af70826df30"
      },
      "source": [
        "print(X_test)"
      ],
      "execution_count": 10,
      "outputs": [
        {
          "output_type": "stream",
          "name": "stdout",
          "text": [
            "[[0.0 1.0 0.0 23 1 0 7.297999999999999]\n",
            " [0.0 0.0 1.0 28 0 0 12.879000000000001]\n",
            " [0.0 1.0 0.0 42 1 0 20.012999999999998]\n",
            " [1.0 0.0 0.0 20 1 1 35.639]\n",
            " [0.0 0.0 1.0 25 1 0 19.011]\n",
            " [0.0 1.0 0.0 20 0 1 11.686]\n",
            " [0.0 0.0 1.0 22 0 0 8.607000000000001]\n",
            " [0.0 1.0 0.0 37 0 1 12.005999999999998]\n",
            " [0.0 1.0 0.0 43 1 0 15.376]\n",
            " [0.0 0.0 1.0 55 1 1 7.261]\n",
            " [1.0 0.0 0.0 24 1 1 9.475]\n",
            " [1.0 0.0 0.0 19 0 1 25.969]\n",
            " [1.0 0.0 0.0 22 0 1 22.818]\n",
            " [0.0 1.0 0.0 37 1 1 16.724]\n",
            " [1.0 0.0 0.0 60 1 0 13.934000000000001]\n",
            " [0.0 1.0 0.0 41 1 0 11.037]\n",
            " [1.0 0.0 0.0 65 0 1 31.875999999999998]\n",
            " [0.0 0.0 1.0 70 0 0 20.489]\n",
            " [0.0 1.0 0.0 39 1 1 13.937999999999999]\n",
            " [1.0 0.0 0.0 31 1 1 17.069000000000003]\n",
            " [1.0 0.0 0.0 36 0 1 15.49]\n",
            " [0.0 0.0 1.0 61 1 0 9.443]\n",
            " [0.0 0.0 1.0 66 0 1 8.107000000000001]\n",
            " [0.0 1.0 0.0 34 0 1 12.923]\n",
            " [0.0 1.0 0.0 38 0 1 29.875]\n",
            " [0.0 0.0 1.0 36 0 0 16.753]\n",
            " [0.0 0.0 1.0 67 0 0 15.890999999999998]\n",
            " [0.0 0.0 1.0 57 0 1 25.893]\n",
            " [0.0 0.0 1.0 34 1 0 22.456]\n",
            " [0.0 0.0 1.0 50 0 1 12.295]\n",
            " [0.0 1.0 0.0 69 1 1 11.455]\n",
            " [0.0 1.0 0.0 26 0 0 14.16]\n",
            " [1.0 0.0 0.0 49 1 1 8.7]\n",
            " [0.0 0.0 1.0 47 0 1 6.683]\n",
            " [0.0 1.0 0.0 47 1 1 30.568]\n",
            " [1.0 0.0 0.0 64 1 1 20.932]\n",
            " [0.0 0.0 1.0 32 0 0 7.477]\n",
            " [0.0 1.0 0.0 61 0 0 18.043]\n",
            " [1.0 0.0 0.0 38 0 1 11.325999999999999]\n",
            " [0.0 0.0 1.0 22 1 0 11.953]\n",
            " [1.0 0.0 0.0 42 0 0 21.035999999999998]\n",
            " [1.0 0.0 0.0 29 1 0 12.856]\n",
            " [1.0 0.0 0.0 31 1 0 30.366]\n",
            " [0.0 1.0 0.0 65 0 1 13.769]\n",
            " [0.0 1.0 0.0 51 0 1 23.003]\n",
            " [0.0 1.0 0.0 45 1 1 8.37]\n",
            " [0.0 0.0 1.0 60 1 0 15.171]\n",
            " [0.0 1.0 0.0 26 1 1 20.909000000000002]\n",
            " [1.0 0.0 0.0 32 0 1 10.292]\n",
            " [1.0 0.0 0.0 74 1 1 15.436]]\n"
          ]
        }
      ]
    },
    {
      "cell_type": "code",
      "metadata": {
        "id": "kj1hnFAR1s5w",
        "colab": {
          "base_uri": "https://localhost:8080/"
        },
        "outputId": "954fedec-4070-4bea-edc7-c26cb0c02c77"
      },
      "source": [
        "print(y_test)"
      ],
      "execution_count": 11,
      "outputs": [
        {
          "output_type": "stream",
          "name": "stdout",
          "text": [
            "[3 4 0 0 0 4 4 4 0 4 1 0 0 0 2 3 0 0 4 0 0 4 4 4 0 0 0 0 0 4 4 3 1 4 0 0 4\n",
            " 0 1 4 0 1 0 4 0 4 0 0 1 0]\n"
          ]
        }
      ]
    },
    {
      "cell_type": "code",
      "metadata": {
        "colab": {
          "base_uri": "https://localhost:8080/"
        },
        "id": "ML2nQxhYr0O-",
        "outputId": "00d7ae5e-020a-4785-aabb-4c2785c0f835"
      },
      "source": [
        "from xgboost import XGBClassifier \n",
        "classifier = XGBClassifier()\n",
        "classifier.fit(X_train, y_train)"
      ],
      "execution_count": 12,
      "outputs": [
        {
          "output_type": "execute_result",
          "data": {
            "text/plain": [
              "XGBClassifier(base_score=0.5, booster='gbtree', colsample_bylevel=1,\n",
              "              colsample_bynode=1, colsample_bytree=1, gamma=0,\n",
              "              learning_rate=0.1, max_delta_step=0, max_depth=3,\n",
              "              min_child_weight=1, missing=None, n_estimators=100, n_jobs=1,\n",
              "              nthread=None, objective='multi:softprob', random_state=0,\n",
              "              reg_alpha=0, reg_lambda=1, scale_pos_weight=1, seed=None,\n",
              "              silent=None, subsample=1, verbosity=1)"
            ]
          },
          "metadata": {},
          "execution_count": 12
        }
      ]
    },
    {
      "cell_type": "markdown",
      "metadata": {
        "id": "ayLWO8z-oA2d"
      },
      "source": [
        "XGBoost is a decision-tree-based ensemble Machine Learning algorithm that uses a gradient boosting framework. It is used for speed and performance!"
      ]
    },
    {
      "cell_type": "markdown",
      "metadata": {
        "id": "kW3c7UYih0hT"
      },
      "source": [
        "## Feature Scaling"
      ]
    },
    {
      "cell_type": "markdown",
      "metadata": {
        "id": "UaPKxTqVoFKW"
      },
      "source": [
        "Scaling is done and is important for classification because the distance of the points from the classes is the main principle behind classification. The data consists of many large values, hence to normalize the range of the variables, Scaling is done. Standard scaler sets the mean of the data as 0 and the other points in terms of standard deviation."
      ]
    },
    {
      "cell_type": "code",
      "metadata": {
        "id": "9fQlDPKCh8sc"
      },
      "source": [
        "from sklearn.preprocessing import StandardScaler\n",
        "sc = StandardScaler()\n",
        "X_train = sc.fit_transform(X_train)\n",
        "X_test = sc.transform(X_test)"
      ],
      "execution_count": 13,
      "outputs": []
    },
    {
      "cell_type": "code",
      "metadata": {
        "id": "syrnD1Op2BSR",
        "colab": {
          "base_uri": "https://localhost:8080/"
        },
        "outputId": "f74484ee-9792-4fdc-f804-f2a398125582"
      },
      "source": [
        "print(X_train)"
      ],
      "execution_count": 14,
      "outputs": [
        {
          "output_type": "stream",
          "name": "stdout",
          "text": [
            "[[-0.82788481 -0.66506217  1.57745748 ... -1.05483461 -0.91064169\n",
            "   0.50634019]\n",
            " [ 1.20789751 -0.66506217 -0.63393151 ... -1.05483461  1.09812675\n",
            "  -0.48681098]\n",
            " [ 1.20789751 -0.66506217 -0.63393151 ... -1.05483461 -0.91064169\n",
            "   2.92877146]\n",
            " ...\n",
            " [-0.82788481 -0.66506217  1.57745748 ... -1.05483461 -0.91064169\n",
            "  -0.81767695]\n",
            " [-0.82788481  1.50361882 -0.63393151 ...  0.94801592 -0.91064169\n",
            "  -0.79167243]\n",
            " [-0.82788481 -0.66506217  1.57745748 ... -1.05483461  1.09812675\n",
            "   0.16745156]]\n"
          ]
        }
      ]
    },
    {
      "cell_type": "code",
      "metadata": {
        "id": "JUd6iBRp2C3L",
        "colab": {
          "base_uri": "https://localhost:8080/"
        },
        "outputId": "2778d54f-d40b-4dae-d0ec-ededf4810b12"
      },
      "source": [
        "print(X_test)"
      ],
      "execution_count": 15,
      "outputs": [
        {
          "output_type": "stream",
          "name": "stdout",
          "text": [
            "[[-8.27884810e-01  1.50361882e+00 -6.33931510e-01 -1.32137829e+00\n",
            "   9.48015916e-01 -9.10641693e-01 -1.20566985e+00]\n",
            " [-8.27884810e-01 -6.65062172e-01  1.57745748e+00 -1.02115602e+00\n",
            "  -1.05483461e+00 -9.10641693e-01 -4.33695378e-01]\n",
            " [-8.27884810e-01  1.50361882e+00 -6.33931510e-01 -1.80533659e-01\n",
            "   9.48015916e-01 -9.10641693e-01  5.53092989e-01]\n",
            " [ 1.20789751e+00 -6.65062172e-01 -6.33931510e-01 -1.50151165e+00\n",
            "   9.48015916e-01  1.09812675e+00  2.71451085e+00]\n",
            " [-8.27884810e-01 -6.65062172e-01  1.57745748e+00 -1.20128938e+00\n",
            "   9.48015916e-01 -9.10641693e-01  4.14494455e-01]\n",
            " [-8.27884810e-01  1.50361882e+00 -6.33931510e-01 -1.50151165e+00\n",
            "  -1.05483461e+00  1.09812675e+00 -5.98713393e-01]\n",
            " [-8.27884810e-01 -6.65062172e-01  1.57745748e+00 -1.38142274e+00\n",
            "  -1.05483461e+00 -9.10641693e-01 -1.02460649e+00]\n",
            " [-8.27884810e-01  1.50361882e+00 -6.33931510e-01 -4.80755930e-01\n",
            "  -1.05483461e+00  1.09812675e+00 -5.54450388e-01]\n",
            " [-8.27884810e-01  1.50361882e+00 -6.33931510e-01 -1.20489205e-01\n",
            "   9.48015916e-01 -9.10641693e-01 -8.83056171e-02]\n",
            " [-8.27884810e-01 -6.65062172e-01  1.57745748e+00  6.00044245e-01\n",
            "   9.48015916e-01  1.09812675e+00 -1.21078776e+00]\n",
            " [ 1.20789751e+00 -6.65062172e-01 -6.33931510e-01 -1.26133383e+00\n",
            "   9.48015916e-01  1.09812675e+00 -9.04543093e-01]\n",
            " [ 1.20789751e+00 -6.65062172e-01 -6.33931510e-01 -1.56155610e+00\n",
            "  -1.05483461e+00  1.09812675e+00  1.37693817e+00]\n",
            " [ 1.20789751e+00 -6.65062172e-01 -6.33931510e-01 -1.38142274e+00\n",
            "  -1.05483461e+00  1.09812675e+00  9.41085892e-01]\n",
            " [-8.27884810e-01  1.50361882e+00 -6.33931510e-01 -4.80755930e-01\n",
            "   9.48015916e-01  1.09812675e+00  9.81522914e-02]\n",
            " [ 1.20789751e+00 -6.65062172e-01 -6.33931510e-01  9.00266516e-01\n",
            "   9.48015916e-01 -9.10641693e-01 -2.87765783e-01]\n",
            " [-8.27884810e-01  1.50361882e+00 -6.33931510e-01 -2.40578113e-01\n",
            "   9.48015916e-01 -9.10641693e-01 -6.88484300e-01]\n",
            " [ 1.20789751e+00 -6.65062172e-01 -6.33931510e-01  1.20048879e+00\n",
            "  -1.05483461e+00  1.09812675e+00  2.19400558e+00]\n",
            " [-8.27884810e-01 -6.65062172e-01  1.57745748e+00  1.50071106e+00\n",
            "  -1.05483461e+00 -9.10641693e-01  6.18934209e-01]\n",
            " [-8.27884810e-01  1.50361882e+00 -6.33931510e-01 -3.60667021e-01\n",
            "   9.48015916e-01  1.09812675e+00 -2.87212496e-01]\n",
            " [ 1.20789751e+00 -6.65062172e-01 -6.33931510e-01 -8.41022655e-01\n",
            "   9.48015916e-01  1.09812675e+00  1.45873344e-01]\n",
            " [ 1.20789751e+00 -6.65062172e-01 -6.33931510e-01 -5.40800384e-01\n",
            "  -1.05483461e+00  1.09812675e+00 -7.25369215e-02]\n",
            " [-8.27884810e-01 -6.65062172e-01  1.57745748e+00  9.60310970e-01\n",
            "   9.48015916e-01 -9.10641693e-01 -9.08969394e-01]\n",
            " [-8.27884810e-01 -6.65062172e-01  1.57745748e+00  1.26053324e+00\n",
            "  -1.05483461e+00  1.09812675e+00 -1.09376744e+00]\n",
            " [-8.27884810e-01  1.50361882e+00 -6.33931510e-01 -6.60889292e-01\n",
            "  -1.05483461e+00  1.09812675e+00 -4.27609215e-01]\n",
            " [-8.27884810e-01  1.50361882e+00 -6.33931510e-01 -4.20711475e-01\n",
            "  -1.05483461e+00  1.09812675e+00  1.91722347e+00]\n",
            " [-8.27884810e-01 -6.65062172e-01  1.57745748e+00 -5.40800384e-01\n",
            "  -1.05483461e+00 -9.10641693e-01  1.02163626e-01]\n",
            " [-8.27884810e-01 -6.65062172e-01  1.57745748e+00  1.32057770e+00\n",
            "  -1.05483461e+00 -9.10641693e-01 -1.70698434e-02]\n",
            " [-8.27884810e-01 -6.65062172e-01  1.57745748e+00  7.20133154e-01\n",
            "  -1.05483461e+00  1.09812675e+00  1.36642571e+00]\n",
            " [-8.27884810e-01 -6.65062172e-01  1.57745748e+00 -6.60889292e-01\n",
            "   9.48015916e-01 -9.10641693e-01  8.91013368e-01]\n",
            " [-8.27884810e-01 -6.65062172e-01  1.57745748e+00  2.99821974e-01\n",
            "  -1.05483461e+00  1.09812675e+00 -5.14475362e-01]\n",
            " [-8.27884810e-01  1.50361882e+00 -6.33931510e-01  1.44066660e+00\n",
            "   9.48015916e-01  1.09812675e+00 -6.30665750e-01]\n",
            " [-8.27884810e-01  1.50361882e+00 -6.33931510e-01 -1.14124493e+00\n",
            "  -1.05483461e+00 -9.10641693e-01 -2.56505036e-01]\n",
            " [ 1.20789751e+00 -6.65062172e-01 -6.33931510e-01  2.39777520e-01\n",
            "   9.48015916e-01  1.09812675e+00 -1.01174256e+00]\n",
            " [-8.27884810e-01 -6.65062172e-01  1.57745748e+00  1.19688612e-01\n",
            "  -1.05483461e+00  1.09812675e+00 -1.29073781e+00]\n",
            " [-8.27884810e-01  1.50361882e+00 -6.33931510e-01  1.19688612e-01\n",
            "   9.48015916e-01  1.09812675e+00  2.01308054e+00]\n",
            " [ 1.20789751e+00 -6.65062172e-01 -6.33931510e-01  1.14044433e+00\n",
            "   9.48015916e-01  1.09812675e+00  6.80210807e-01]\n",
            " [-8.27884810e-01 -6.65062172e-01  1.57745748e+00 -7.80978200e-01\n",
            "  -1.05483461e+00 -9.10641693e-01 -1.18091023e+00]\n",
            " [-8.27884810e-01  1.50361882e+00 -6.33931510e-01  9.60310970e-01\n",
            "  -1.05483461e+00 -9.10641693e-01  2.80598865e-01]\n",
            " [ 1.20789751e+00 -6.65062172e-01 -6.33931510e-01 -4.20711475e-01\n",
            "  -1.05483461e+00  1.09812675e+00 -6.48509274e-01]\n",
            " [-8.27884810e-01 -6.65062172e-01  1.57745748e+00 -1.38142274e+00\n",
            "   9.48015916e-01 -9.10641693e-01 -5.61781448e-01]\n",
            " [ 1.20789751e+00 -6.65062172e-01 -6.33931510e-01 -1.80533659e-01\n",
            "  -1.05483461e+00 -9.10641693e-01  6.94596283e-01]\n",
            " [ 1.20789751e+00 -6.65062172e-01 -6.33931510e-01 -9.61111563e-01\n",
            "   9.48015916e-01 -9.10641693e-01 -4.36876781e-01]\n",
            " [ 1.20789751e+00 -6.65062172e-01 -6.33931510e-01 -8.41022655e-01\n",
            "   9.48015916e-01 -9.10641693e-01  1.98513952e+00]\n",
            " [-8.27884810e-01  1.50361882e+00 -6.33931510e-01  1.20048879e+00\n",
            "  -1.05483461e+00  1.09812675e+00 -3.10588895e-01]\n",
            " [-8.27884810e-01  1.50361882e+00 -6.33931510e-01  3.59866429e-01\n",
            "  -1.05483461e+00  1.09812675e+00  9.66675442e-01]\n",
            " [-8.27884810e-01  1.50361882e+00 -6.33931510e-01 -4.00296361e-04\n",
            "   9.48015916e-01  1.09812675e+00 -1.05738878e+00]\n",
            " [-8.27884810e-01 -6.65062172e-01  1.57745748e+00  9.00266516e-01\n",
            "   9.48015916e-01 -9.10641693e-01 -1.16661605e-01]\n",
            " [-8.27884810e-01  1.50361882e+00 -6.33931510e-01 -1.14124493e+00\n",
            "   9.48015916e-01  1.09812675e+00  6.77029403e-01]\n",
            " [ 1.20789751e+00 -6.65062172e-01 -6.33931510e-01 -7.80978200e-01\n",
            "  -1.05483461e+00  1.09812675e+00 -7.91534109e-01]\n",
            " [ 1.20789751e+00 -6.65062172e-01 -6.33931510e-01  1.74088887e+00\n",
            "   9.48015916e-01  1.09812675e+00 -8.00063036e-02]]\n"
          ]
        }
      ]
    },
    {
      "cell_type": "markdown",
      "metadata": {
        "id": "v_l7rx1FoMgY"
      },
      "source": [
        "The data is now ready for various algorithms to be applied on it and predict the results. The classification models are available in sklearn library."
      ]
    },
    {
      "cell_type": "markdown",
      "metadata": {
        "id": "I1FtJjXqnWVk"
      },
      "source": [
        "# K-Nearest Neighbors (K-NN)"
      ]
    },
    {
      "cell_type": "markdown",
      "metadata": {
        "id": "bb6jCOCQiAmP"
      },
      "source": [
        "## Training the K-NN model on the Training set"
      ]
    },
    {
      "cell_type": "code",
      "metadata": {
        "colab": {
          "base_uri": "https://localhost:8080/"
        },
        "id": "nXsb69sfsNNy",
        "outputId": "802d9dd9-1966-4526-ed51-413a746807bc"
      },
      "source": [
        "from sklearn.neighbors import KNeighborsClassifier\n",
        "classifier = KNeighborsClassifier(n_neighbors=5,metric='minkowski',p=2)\n",
        "classifier.fit(X_train, y_train)"
      ],
      "execution_count": 16,
      "outputs": [
        {
          "output_type": "execute_result",
          "data": {
            "text/plain": [
              "KNeighborsClassifier(algorithm='auto', leaf_size=30, metric='minkowski',\n",
              "                     metric_params=None, n_jobs=None, n_neighbors=5, p=2,\n",
              "                     weights='uniform')"
            ]
          },
          "metadata": {},
          "execution_count": 16
        }
      ]
    },
    {
      "cell_type": "markdown",
      "metadata": {
        "id": "vKYVQH-l5NpE"
      },
      "source": [
        "## Predicting the Test set results"
      ]
    },
    {
      "cell_type": "code",
      "metadata": {
        "id": "p6VMTb2O4hwM",
        "colab": {
          "base_uri": "https://localhost:8080/"
        },
        "outputId": "5d729075-421e-411a-cd98-1a2ace7d6659"
      },
      "source": [
        "y_pred = classifier.predict(X_test)\n",
        "print(np.concatenate((y_pred.reshape(len(y_pred),1), y_test.reshape(len(y_test),1)),1))"
      ],
      "execution_count": 17,
      "outputs": [
        {
          "output_type": "stream",
          "name": "stdout",
          "text": [
            "[[3 3]\n",
            " [4 4]\n",
            " [0 0]\n",
            " [0 0]\n",
            " [0 0]\n",
            " [0 4]\n",
            " [4 4]\n",
            " [4 4]\n",
            " [3 0]\n",
            " [4 4]\n",
            " [1 1]\n",
            " [0 0]\n",
            " [0 0]\n",
            " [4 0]\n",
            " [2 2]\n",
            " [3 3]\n",
            " [0 0]\n",
            " [4 0]\n",
            " [4 4]\n",
            " [1 0]\n",
            " [0 0]\n",
            " [4 4]\n",
            " [4 4]\n",
            " [4 4]\n",
            " [0 0]\n",
            " [4 0]\n",
            " [4 0]\n",
            " [0 0]\n",
            " [0 0]\n",
            " [0 4]\n",
            " [4 4]\n",
            " [3 3]\n",
            " [1 1]\n",
            " [4 4]\n",
            " [0 0]\n",
            " [2 0]\n",
            " [4 4]\n",
            " [0 0]\n",
            " [0 1]\n",
            " [4 4]\n",
            " [1 0]\n",
            " [1 1]\n",
            " [0 0]\n",
            " [4 4]\n",
            " [0 0]\n",
            " [4 4]\n",
            " [4 0]\n",
            " [4 0]\n",
            " [0 1]\n",
            " [2 0]]\n"
          ]
        }
      ]
    },
    {
      "cell_type": "markdown",
      "metadata": {
        "id": "h4Hwj34ziWQW"
      },
      "source": [
        "## Making the Confusion Matrix"
      ]
    },
    {
      "cell_type": "code",
      "metadata": {
        "id": "D6bpZwUiiXic",
        "colab": {
          "base_uri": "https://localhost:8080/"
        },
        "outputId": "8b7aed95-3b0d-483f-8ab6-a8427ce3be32"
      },
      "source": [
        "from sklearn.metrics import confusion_matrix, accuracy_score\n",
        "cm = confusion_matrix(y_test, y_pred)\n",
        "print(cm)\n",
        "accuracy_score(y_test, y_pred)"
      ],
      "execution_count": 18,
      "outputs": [
        {
          "output_type": "stream",
          "name": "stdout",
          "text": [
            "[[14  2  2  1  6]\n",
            " [ 2  3  0  0  0]\n",
            " [ 0  0  1  0  0]\n",
            " [ 0  0  0  3  0]\n",
            " [ 2  0  0  0 14]]\n"
          ]
        },
        {
          "output_type": "execute_result",
          "data": {
            "text/plain": [
              "0.7"
            ]
          },
          "metadata": {},
          "execution_count": 18
        }
      ]
    },
    {
      "cell_type": "code",
      "metadata": {
        "colab": {
          "base_uri": "https://localhost:8080/"
        },
        "id": "I9D-nRUqsKoJ",
        "outputId": "55b32f72-3cf0-4ca7-d8b6-bf4bb1db7ed7"
      },
      "source": [
        "from sklearn.metrics import r2_score\n",
        "r2_score(y_test,y_pred)"
      ],
      "execution_count": 19,
      "outputs": [
        {
          "output_type": "execute_result",
          "data": {
            "text/plain": [
              "0.09146341463414653"
            ]
          },
          "metadata": {},
          "execution_count": 19
        }
      ]
    },
    {
      "cell_type": "markdown",
      "metadata": {
        "id": "6cSyKRres7s2"
      },
      "source": [
        "K-NN model predicts the data with an r2 score of **9.14%**"
      ]
    },
    {
      "cell_type": "markdown",
      "metadata": {
        "id": "Di-9gEbYbngf"
      },
      "source": [
        "# Support Vector Machine (SVM)"
      ]
    },
    {
      "cell_type": "markdown",
      "metadata": {
        "id": "-sXxNun0b4bL"
      },
      "source": [
        "## Training the SVM model on the Training set"
      ]
    },
    {
      "cell_type": "code",
      "metadata": {
        "colab": {
          "base_uri": "https://localhost:8080/"
        },
        "id": "obj1XCkkbthY",
        "outputId": "47b146c8-0527-481c-d06f-d1ee48ed359c"
      },
      "source": [
        "from sklearn.svm import SVC\n",
        "classifier = SVC();\n",
        "classifier.fit(X_train,y_train)"
      ],
      "execution_count": 20,
      "outputs": [
        {
          "output_type": "execute_result",
          "data": {
            "text/plain": [
              "SVC(C=1.0, break_ties=False, cache_size=200, class_weight=None, coef0=0.0,\n",
              "    decision_function_shape='ovr', degree=3, gamma='scale', kernel='rbf',\n",
              "    max_iter=-1, probability=False, random_state=None, shrinking=True,\n",
              "    tol=0.001, verbose=False)"
            ]
          },
          "metadata": {},
          "execution_count": 20
        }
      ]
    },
    {
      "cell_type": "markdown",
      "metadata": {
        "id": "QA5EHNVCcS9v"
      },
      "source": [
        "## Predicting the Test set results"
      ]
    },
    {
      "cell_type": "code",
      "metadata": {
        "colab": {
          "base_uri": "https://localhost:8080/"
        },
        "id": "ru1gk_3CcOxR",
        "outputId": "d2cc23f1-4a60-4b31-c5b4-eb9857798534"
      },
      "source": [
        "y_pred = classifier.predict(X_test)\n",
        "print(np.concatenate((y_pred.reshape(len(y_pred),1), y_test.reshape(len(y_test),1)),1))"
      ],
      "execution_count": 21,
      "outputs": [
        {
          "output_type": "stream",
          "name": "stdout",
          "text": [
            "[[3 3]\n",
            " [4 4]\n",
            " [0 0]\n",
            " [0 0]\n",
            " [0 0]\n",
            " [4 4]\n",
            " [4 4]\n",
            " [4 4]\n",
            " [3 0]\n",
            " [4 4]\n",
            " [1 1]\n",
            " [0 0]\n",
            " [0 0]\n",
            " [4 0]\n",
            " [2 2]\n",
            " [3 3]\n",
            " [0 0]\n",
            " [0 0]\n",
            " [4 4]\n",
            " [0 0]\n",
            " [0 0]\n",
            " [4 4]\n",
            " [4 4]\n",
            " [4 4]\n",
            " [0 0]\n",
            " [4 0]\n",
            " [4 0]\n",
            " [0 0]\n",
            " [0 0]\n",
            " [4 4]\n",
            " [4 4]\n",
            " [3 3]\n",
            " [1 1]\n",
            " [4 4]\n",
            " [0 0]\n",
            " [0 0]\n",
            " [4 4]\n",
            " [0 0]\n",
            " [1 1]\n",
            " [4 4]\n",
            " [0 0]\n",
            " [1 1]\n",
            " [0 0]\n",
            " [4 4]\n",
            " [0 0]\n",
            " [4 4]\n",
            " [4 0]\n",
            " [0 0]\n",
            " [1 1]\n",
            " [2 0]]\n"
          ]
        }
      ]
    },
    {
      "cell_type": "markdown",
      "metadata": {
        "id": "R4yB0eTDcYzi"
      },
      "source": [
        "## Making the Confusion Matrix"
      ]
    },
    {
      "cell_type": "code",
      "metadata": {
        "colab": {
          "base_uri": "https://localhost:8080/"
        },
        "id": "0HaX65CfcVIv",
        "outputId": "1467ab01-1d6a-4411-9e19-d2a8367710a8"
      },
      "source": [
        "from sklearn.metrics import confusion_matrix, accuracy_score\n",
        "cm = confusion_matrix(y_test, y_pred)\n",
        "print(cm)\n",
        "accuracy_score(y_test, y_pred)"
      ],
      "execution_count": 22,
      "outputs": [
        {
          "output_type": "stream",
          "name": "stdout",
          "text": [
            "[[19  0  1  1  4]\n",
            " [ 0  5  0  0  0]\n",
            " [ 0  0  1  0  0]\n",
            " [ 0  0  0  3  0]\n",
            " [ 0  0  0  0 16]]\n"
          ]
        },
        {
          "output_type": "execute_result",
          "data": {
            "text/plain": [
              "0.88"
            ]
          },
          "metadata": {},
          "execution_count": 22
        }
      ]
    },
    {
      "cell_type": "code",
      "metadata": {
        "colab": {
          "base_uri": "https://localhost:8080/"
        },
        "id": "02d1XkGfca0n",
        "outputId": "a9eb9ffc-599f-4c0e-c98f-44663a078edf"
      },
      "source": [
        "from sklearn.metrics import r2_score\n",
        "r2_score(y_test,y_pred)"
      ],
      "execution_count": 23,
      "outputs": [
        {
          "output_type": "execute_result",
          "data": {
            "text/plain": [
              "0.5304878048780488"
            ]
          },
          "metadata": {},
          "execution_count": 23
        }
      ]
    },
    {
      "cell_type": "markdown",
      "metadata": {
        "id": "_gVs3FGItV2Q"
      },
      "source": [
        "SVM model predicts the data with an r2 score of **53.04%**\n",
        "\n",
        "Way better than the last but not at all sufficient..."
      ]
    },
    {
      "cell_type": "markdown",
      "metadata": {
        "id": "cVpW5HIdceXL"
      },
      "source": [
        "# Kernel SVM"
      ]
    },
    {
      "cell_type": "markdown",
      "metadata": {
        "id": "aRx0INC9ckPe"
      },
      "source": [
        "## Training the Kernel SVM model on the Training set"
      ]
    },
    {
      "cell_type": "code",
      "metadata": {
        "colab": {
          "base_uri": "https://localhost:8080/"
        },
        "id": "meWQ5i2icjZL",
        "outputId": "cfe6dbc8-7f1f-4e07-93ee-49aa5461bcb1"
      },
      "source": [
        "from sklearn.svm import SVC\n",
        "classifier = SVC(kernel = 'rbf', random_state = 0)\n",
        "classifier.fit(X_train, y_train)"
      ],
      "execution_count": 24,
      "outputs": [
        {
          "output_type": "execute_result",
          "data": {
            "text/plain": [
              "SVC(C=1.0, break_ties=False, cache_size=200, class_weight=None, coef0=0.0,\n",
              "    decision_function_shape='ovr', degree=3, gamma='scale', kernel='rbf',\n",
              "    max_iter=-1, probability=False, random_state=0, shrinking=True, tol=0.001,\n",
              "    verbose=False)"
            ]
          },
          "metadata": {},
          "execution_count": 24
        }
      ]
    },
    {
      "cell_type": "markdown",
      "metadata": {
        "id": "X-4GVUGwctBY"
      },
      "source": [
        "## Predicting the Test set results"
      ]
    },
    {
      "cell_type": "code",
      "metadata": {
        "colab": {
          "base_uri": "https://localhost:8080/"
        },
        "id": "Fvh-fI-Zcp33",
        "outputId": "75602234-419c-4edc-f940-e36fad18a4c2"
      },
      "source": [
        "y_pred = classifier.predict(X_test)\n",
        "print(np.concatenate((y_pred.reshape(len(y_pred),1), y_test.reshape(len(y_test),1)),1))"
      ],
      "execution_count": 25,
      "outputs": [
        {
          "output_type": "stream",
          "name": "stdout",
          "text": [
            "[[3 3]\n",
            " [4 4]\n",
            " [0 0]\n",
            " [0 0]\n",
            " [0 0]\n",
            " [4 4]\n",
            " [4 4]\n",
            " [4 4]\n",
            " [3 0]\n",
            " [4 4]\n",
            " [1 1]\n",
            " [0 0]\n",
            " [0 0]\n",
            " [4 0]\n",
            " [2 2]\n",
            " [3 3]\n",
            " [0 0]\n",
            " [0 0]\n",
            " [4 4]\n",
            " [0 0]\n",
            " [0 0]\n",
            " [4 4]\n",
            " [4 4]\n",
            " [4 4]\n",
            " [0 0]\n",
            " [4 0]\n",
            " [4 0]\n",
            " [0 0]\n",
            " [0 0]\n",
            " [4 4]\n",
            " [4 4]\n",
            " [3 3]\n",
            " [1 1]\n",
            " [4 4]\n",
            " [0 0]\n",
            " [0 0]\n",
            " [4 4]\n",
            " [0 0]\n",
            " [1 1]\n",
            " [4 4]\n",
            " [0 0]\n",
            " [1 1]\n",
            " [0 0]\n",
            " [4 4]\n",
            " [0 0]\n",
            " [4 4]\n",
            " [4 0]\n",
            " [0 0]\n",
            " [1 1]\n",
            " [2 0]]\n"
          ]
        }
      ]
    },
    {
      "cell_type": "markdown",
      "metadata": {
        "id": "962JcJH7cwr9"
      },
      "source": [
        "## Making the Confusion Matrix"
      ]
    },
    {
      "cell_type": "code",
      "metadata": {
        "colab": {
          "base_uri": "https://localhost:8080/"
        },
        "id": "YnUdgtv6cvGq",
        "outputId": "ed8e432d-2f62-4dfe-e85c-0b334176c857"
      },
      "source": [
        "from sklearn.metrics import confusion_matrix, accuracy_score\n",
        "cm = confusion_matrix(y_test, y_pred)\n",
        "print(cm)\n",
        "accuracy_score(y_test, y_pred)"
      ],
      "execution_count": 26,
      "outputs": [
        {
          "output_type": "stream",
          "name": "stdout",
          "text": [
            "[[19  0  1  1  4]\n",
            " [ 0  5  0  0  0]\n",
            " [ 0  0  1  0  0]\n",
            " [ 0  0  0  3  0]\n",
            " [ 0  0  0  0 16]]\n"
          ]
        },
        {
          "output_type": "execute_result",
          "data": {
            "text/plain": [
              "0.88"
            ]
          },
          "metadata": {},
          "execution_count": 26
        }
      ]
    },
    {
      "cell_type": "code",
      "metadata": {
        "colab": {
          "base_uri": "https://localhost:8080/"
        },
        "id": "2-uoveHEc1QR",
        "outputId": "56b7a2bd-6378-43c7-800e-b59b434dc719"
      },
      "source": [
        "from sklearn.metrics import r2_score\n",
        "r2_score(y_test,y_pred)"
      ],
      "execution_count": 27,
      "outputs": [
        {
          "output_type": "execute_result",
          "data": {
            "text/plain": [
              "0.5304878048780488"
            ]
          },
          "metadata": {},
          "execution_count": 27
        }
      ]
    },
    {
      "cell_type": "markdown",
      "metadata": {
        "id": "U32ZM1EUtmAF"
      },
      "source": [
        "Kernel SVM model predicts the data with an r2 score of **53.04%**\n",
        "\n",
        "Same as the last..."
      ]
    },
    {
      "cell_type": "markdown",
      "metadata": {
        "id": "pLrcvafPc4go"
      },
      "source": [
        "# Naive Bayes"
      ]
    },
    {
      "cell_type": "markdown",
      "metadata": {
        "id": "nMD_Wn_3c8ZZ"
      },
      "source": [
        "## Training the Naive Bayes model on the Training set"
      ]
    },
    {
      "cell_type": "code",
      "metadata": {
        "colab": {
          "base_uri": "https://localhost:8080/"
        },
        "id": "5IzgKeTlc31I",
        "outputId": "87d86f42-6131-4830-8a98-649c2da8d4f2"
      },
      "source": [
        "from sklearn.naive_bayes import GaussianNB\n",
        "classifier = GaussianNB()\n",
        "classifier.fit(X_train, y_train)"
      ],
      "execution_count": 28,
      "outputs": [
        {
          "output_type": "execute_result",
          "data": {
            "text/plain": [
              "GaussianNB(priors=None, var_smoothing=1e-09)"
            ]
          },
          "metadata": {},
          "execution_count": 28
        }
      ]
    },
    {
      "cell_type": "markdown",
      "metadata": {
        "id": "LZ6H99eAdBep"
      },
      "source": [
        "## Predicting the Test set results"
      ]
    },
    {
      "cell_type": "code",
      "metadata": {
        "colab": {
          "base_uri": "https://localhost:8080/"
        },
        "id": "7ZwuICTqdAs_",
        "outputId": "5fcd6d8a-1391-4114-9ce1-848ba71f1934"
      },
      "source": [
        "y_pred = classifier.predict(X_test)\n",
        "print(np.concatenate((y_pred.reshape(len(y_pred),1), y_test.reshape(len(y_test),1)),1))"
      ],
      "execution_count": 29,
      "outputs": [
        {
          "output_type": "stream",
          "name": "stdout",
          "text": [
            "[[3 3]\n",
            " [4 4]\n",
            " [3 0]\n",
            " [0 0]\n",
            " [4 0]\n",
            " [4 4]\n",
            " [4 4]\n",
            " [4 4]\n",
            " [3 0]\n",
            " [4 4]\n",
            " [1 1]\n",
            " [1 0]\n",
            " [1 0]\n",
            " [4 0]\n",
            " [2 2]\n",
            " [3 3]\n",
            " [0 0]\n",
            " [4 0]\n",
            " [4 4]\n",
            " [1 0]\n",
            " [1 0]\n",
            " [4 4]\n",
            " [4 4]\n",
            " [4 4]\n",
            " [0 0]\n",
            " [4 0]\n",
            " [4 0]\n",
            " [0 0]\n",
            " [0 0]\n",
            " [4 4]\n",
            " [4 4]\n",
            " [3 3]\n",
            " [1 1]\n",
            " [4 4]\n",
            " [0 0]\n",
            " [2 0]\n",
            " [4 4]\n",
            " [3 0]\n",
            " [1 1]\n",
            " [4 4]\n",
            " [1 0]\n",
            " [1 1]\n",
            " [0 0]\n",
            " [4 4]\n",
            " [0 0]\n",
            " [4 4]\n",
            " [4 0]\n",
            " [0 0]\n",
            " [1 1]\n",
            " [2 0]]\n"
          ]
        }
      ]
    },
    {
      "cell_type": "markdown",
      "metadata": {
        "id": "N5Wk8mWkdJyx"
      },
      "source": [
        "## Making the Confusion Matrix"
      ]
    },
    {
      "cell_type": "code",
      "metadata": {
        "colab": {
          "base_uri": "https://localhost:8080/"
        },
        "id": "L_PqPfFMdFbR",
        "outputId": "2d703ead-05b6-4a40-85ee-1f22768b79bb"
      },
      "source": [
        "from sklearn.metrics import confusion_matrix, accuracy_score\n",
        "cm = confusion_matrix(y_test, y_pred)\n",
        "print(cm)\n",
        "accuracy_score(y_test, y_pred)"
      ],
      "execution_count": 30,
      "outputs": [
        {
          "output_type": "stream",
          "name": "stdout",
          "text": [
            "[[ 9  5  2  3  6]\n",
            " [ 0  5  0  0  0]\n",
            " [ 0  0  1  0  0]\n",
            " [ 0  0  0  3  0]\n",
            " [ 0  0  0  0 16]]\n"
          ]
        },
        {
          "output_type": "execute_result",
          "data": {
            "text/plain": [
              "0.68"
            ]
          },
          "metadata": {},
          "execution_count": 30
        }
      ]
    },
    {
      "cell_type": "code",
      "metadata": {
        "colab": {
          "base_uri": "https://localhost:8080/"
        },
        "id": "ELmiELBJdM7o",
        "outputId": "5ee682e7-2df0-499b-d54d-e9feb91ba491"
      },
      "source": [
        "from sklearn.metrics import r2_score\n",
        "r2_score(y_test,y_pred)"
      ],
      "execution_count": 31,
      "outputs": [
        {
          "output_type": "execute_result",
          "data": {
            "text/plain": [
              "0.17073170731707332"
            ]
          },
          "metadata": {},
          "execution_count": 31
        }
      ]
    },
    {
      "cell_type": "markdown",
      "metadata": {
        "id": "yAzEsecgtyE5"
      },
      "source": [
        "Naive Bayes model predicts the data with an r2 score of **17.07%**"
      ]
    },
    {
      "cell_type": "markdown",
      "metadata": {
        "id": "RI_O2sb-dQDt"
      },
      "source": [
        "The predictions of the models till now were ok-ish... Let's have a look at Logistic Regression!"
      ]
    },
    {
      "cell_type": "markdown",
      "metadata": {
        "id": "Z4Lraw0SjmdH"
      },
      "source": [
        "# Logistic Regression"
      ]
    },
    {
      "cell_type": "markdown",
      "metadata": {
        "id": "EM9VcfgVMJri"
      },
      "source": [
        "*What is Logic Regression?*\n",
        "\n",
        "Logistic Regression is a type of classification method. It is used to model and predict the probability of a class or an event. \n"
      ]
    },
    {
      "cell_type": "markdown",
      "metadata": {
        "id": "OFN4Fmup3AUK"
      },
      "source": [
        "![Screenshot 2021-10-04 112640.jpg](data:image/jpeg;base64,/9j/4AAQSkZJRgABAQEAYABgAAD/2wBDAAMCAgMCAgMDAwMEAwMEBQgFBQQEBQoHBwYIDAoMDAsKCwsNDhIQDQ4RDgsLEBYQERMUFRUVDA8XGBYUGBIUFRT/2wBDAQMEBAUEBQkFBQkUDQsNFBQUFBQUFBQUFBQUFBQUFBQUFBQUFBQUFBQUFBQUFBQUFBQUFBQUFBQUFBQUFBQUFBT/wAARCAD/AXUDASIAAhEBAxEB/8QAHwAAAQUBAQEBAQEAAAAAAAAAAAECAwQFBgcICQoL/8QAtRAAAgEDAwIEAwUFBAQAAAF9AQIDAAQRBRIhMUEGE1FhByJxFDKBkaEII0KxwRVS0fAkM2JyggkKFhcYGRolJicoKSo0NTY3ODk6Q0RFRkdISUpTVFVWV1hZWmNkZWZnaGlqc3R1dnd4eXqDhIWGh4iJipKTlJWWl5iZmqKjpKWmp6ipqrKztLW2t7i5usLDxMXGx8jJytLT1NXW19jZ2uHi4+Tl5ufo6erx8vP09fb3+Pn6/8QAHwEAAwEBAQEBAQEBAQAAAAAAAAECAwQFBgcICQoL/8QAtREAAgECBAQDBAcFBAQAAQJ3AAECAxEEBSExBhJBUQdhcRMiMoEIFEKRobHBCSMzUvAVYnLRChYkNOEl8RcYGRomJygpKjU2Nzg5OkNERUZHSElKU1RVVldYWVpjZGVmZ2hpanN0dXZ3eHl6goOEhYaHiImKkpOUlZaXmJmaoqOkpaanqKmqsrO0tba3uLm6wsPExcbHyMnK0tPU1dbX2Nna4uPk5ebn6Onq8vP09fb3+Pn6/9oADAMBAAIRAxEAPwD9U6KKKACiiigApKhuL63tJII5riKGSd/LhWRwpkbBO1QepwCcD0rPvvFGmaZrWnaTd3iQahqIkNpC4IM2wAuFPTIBzjrigqMXLRI1V60baytH8Tadr11qMGnXKXUmnz/ZrnYDtjk2hiu7oSMjOOh4PIrV3UegpRcXaS1HUUUUCCiiigAooooAKKKKACiiigAooooAKKKKACiiigAooooAKKKKACiiigAooooAKKKKACiiigAooooAKKKKACiiigAooooAKKKKACiiigAooooAKRs7TgZPbNLXkH7VH7RGk/szfCDVvF2oGOfUNpttJ045L3t4wPlxgA5xnliOig98UAfBP/BSX9tW/wDAv7THw/0DwzceangK7i1fUY43IjuLpxgwPtPQQkg+nmsK+5vihrlh8Rf2e4/iJ4evkBsdNXxPo99GQ21kj80KxzggruRx6FhxX4PeJfhf8VvH2vWviXVvCmvXOpeMdSkWyuJ7R1bUbt8yMsQYAu3OeM9hX6Hf8EtPj9feFpL79nv4l2V1ol6zyT6Db6zC0LSAgme02yAZ7uo75cc8VEo86szpw9Z4etGqujP0R+E/huDwt4B0m0ikaeaSP7Tc3MvL3E8hMkkjHqSzsx59cV2GKZHEkUaoihUXhVA4FOHSqSUVZEVqjrVZVH1dx1FIKWmYhRRRQAUUUUAFFFFABRRRQAUUUUAFFFFABRRRQAUUUUAFFFFABRRRQAUUUUAFFFFABRRRQAUUUUAFFFFABRRRQAUUUUAFFFFABRRRQAUUUUAFcv4h+GvhbxV4i07XdZ0Cw1bVdOjaKzub6BZjbBiCxjDAhScDLAZ4AziuopOKAPkj9tE/8Xy/ZYH/AFO5/wDRVfSXi74beF/Hj2b+IdBsdXls5UntprqBWkgkVtytG+NyEEA5Uivm79tIf8Xz/ZY/7Hc/+ihX1vQAm0DJHfk0UtFABRRRQAUUUUAFFFFABRRRQAUUUUAFFFFABRRRQAUUUUAFFFFABRRRQAUUmRRuFAC0UmaM0ALRSUUALRSbh60UALRSUtABRRRQAUUUUAFFFFABRRRQAUUUUAFFFFACN9015f4J8ReIrj4xeMtA1jUIb2ws7OyvbKKG3EfkCVp1Zc5Jb/Vg5J716g33T3rktI8DjTfiJrfir7SXOqWVrZ/Z9n3PJaU7s+/m9Paole6sdmHqU4wqxmtWtPW6/S587/tpZPxz/ZZxz/xW5P8A5Br61zXxp+394V0vxx8Tf2a/D+t2v27SNS8Ytb3Vv5jx70aHkbkIYfUEGvRz+wD8Bm6+Bn/8Heo//JFWcZ9CZozXz3/wwB8Bv+hGf/wd6j/8kUf8MAfAb/oRn/8AB3qP/wAkUAfQmaM189/8MAfAb/oRn/8AB3qP/wAkUf8ADAHwG/6EZ/8Awd6j/wDJFAH0JmjNfPf/AAwB8Bv+hGf/AMHeo/8AyRR/wwB8Bv8AoRn/APB3qP8A8kUAfQmaM189/wDDAHwG/wChGf8A8Heo/wDyRSH/AIJ//AVgQfA0mP8AsN6j/wDJFAH0B9rgyR50eRwfmFH2yD/ntH/30K8WX9ir4LqoA8FJ0x/yEbzPpz++5pf+GLPgx/0Jaf8AgxvP/j1AHtH2yD/nvH/32KPtkH/PeP8A77FeLf8ADFXwY/6Etf8AwY3n/wAeo/4Yq+DH/Qlr/wCDG8/+PUAe0/a4P+e0f/fQo+2Qf89o/wDvoV4v/wAMW/Bj/oS0/wDBjd//AB6j/hiz4Mf9CWn/AIMbz/49QB7R9sg/57x/99ij7ZB/z3j/AO+xXi3/AAxV8GP+hLX/AMGN5/8AHqP+GKvgx/0Ja/8AgxvP/j1AHtP2uD/ntH/30KPtkH/PaP8A76FeL/8ADFvwY/6EtP8AwY3f/wAeo/4Ys+DH/Qlp/wCDG8/+PUAe0fbIP+e8f/fYo+2Qf894/wDvsV4t/wAMVfBj/oS1/wDBjef/AB6mP+xf8FlU58HRrxnLald8e/8ArqAPbPtlv/z3j/77FNa/tlUn7RFgc/fFfI2rfBH4N6xqk2jeBPhuvivU4ZPKuLr+1LyPT7Y5wd85lIYjuiBjyOlWNJ/4J6eDNR1BdQ8QwR2kqkP9h8PzTwWwbABBaR2dxkHk4+nrj7RO/KrnrQy/kSli5qnfpvL/AMB3++x9DfEb4m6d8P8Aw8dTmK3TM4ihhSQZdyCQM9uAT+Fcx8J/j1a/ETUrjT7qyXS7pFMkQacOJFHXnAwR6VlR/sk+AtL0a4tNJsbixuGj2rdfaZZGXHOdrMQeQO2ai8O/sq+GbSGRdcMmutuBUEtAqEYIIKNn9a+QxEs8lmtP2CX1fr+vmfHYyGNjm1P6vO+F+1or+em/odn8U/i5p/w30eG4Kfb7q4YpDBC/UjqSQDgDI5xWf8JfjdZfEr7TBJatp19brvaNn3Bk4+bdgd+Oay9c/Zf8H3WlSRaXbTaTdkhhcpPLMeOxVnOR7DGcU3wx+zD4W0q3cassmt3RIIlctEqY7KFYHB75Jp1P7debJxUfq3X+txVIY/8Atdckv9ltror/AHX3v5ifEr9oy28C68dJtdNOpXUZUTHzRGq5GcA4OTgg446jmu48L/E7RPEnhqLWPtkNqjIWkhmlUPGR1BGa878VfsuaFqd1FLo9xJo0SqFeHaZlbHRvmbIP4mr9v+yb8L51tJ9U8LWuq6pAiL/aNyX80lR8p4IAx9KrA/259erfWeX2Nny+vT/gnNhlmv1+t7Vp0bPl/T/gmND+1XYf8JP9juNKkh0rzCn20yAlR2YqB0PXr0r0jxr8VtE8G+H5dTa5jvSoCx21vIrO7kEheDx0P0wa87j/AGVdLXxAbuTVJpNM80OLPygGPI+Ut3H4DjvWnN+yZ8M7OKdtF8MWuiahLH5YvrTd5ig845JGM9sVzZcuIFhsQsXb2n2Nv6scuBWdKhX+s25/sbf19474bftFWPjbVjp9/ZjSJmBaJ3m3I2BnBJAwev5V6p/wkmk/9BSy/wDAhP8AGvGNB/ZN8MG1uIfE6jxNaysCLaeLy41wcgkBsk/j36Vqf8MefBn/AKJ/pf5yf/F16+QrM1hLZrb2l+nbzPUyj699X/4ULc9+nb5HqX/CSaR/0FLL/wACE/xo/wCEk0j/AKCll/4EJ/jXln/DHPwY/wCif6X+cn/xdH/DHPwY/wCif6X+cn/xdfSHtnqf/CSaT/0FLL/wIT/GtBZFkUMrBlPQg5FeOf8ADHXwZ7eANMB7EGT/AOKr1nTdPg0mxt7K0iWC1t41hhhQfKiKAqqPYACgC5RSUtABRRRQAUUUUAFFFFABSUtJQB8lftof8lw/ZZ/7Hg/+ia+tq+Sf20OPjh+yyP8AqeD/AOia+tqACiiigAooooAKKKKACiiigAooooAKKKKACiiigAooooAKKKY7hUYk8AZNAEGoahbaZYz3V1MkNvChd5HYKFUDJJJ+leOr/av7QUrnfc6H8PASq+WXhu9Xx154McOfxb6UXTSfHzxZJZwylfh9od15d20bcatdJ/yyz3hQ8kj7zYHY113xG0HxzeWOmQeANe0nw20JYXH9o6c10rpxtVAGXbjB/TpXNrW9Pz/4B7emWpJK9Z/+SL/5L8vXbqtA8O6b4Y0+Gx0uyhsLSEbUht0CKo69B75rTzXhLeEf2gf+ij+E/wDwm5P/AI7Sf8Il+0F/0Ufwn/4Tcn/x2uhJRVkeNKUpycpO7Z1nxG/aE8H/AAj8ceGfDvjDUV8Pp4jSQadql7hLOSeMruhaTOEbDqRuwDnrnivSI5o5kVo5FdXXcrKQQynoR6ivy6/4KlaR8RIPg34Y0rxn4k0PxVfajriDStO0jQnhuy6xPvZG8xjjDKpAByXX0rqP+Cf3wD/aq+HtvZzeJvFi+F/BBIb/AIRvxBEdQuSAMAJHuBgBJ5+cH5fu80yT9FNT1ax0Wze71G8t7G1UgNNcyrGgJOBkk45NS2d5b6hax3FtPHcW8g3JLE4ZWHqCOtcD8Y9Jh1TTdJnOtafot9ZXf2m1j1gqbS5cRsCkiFhu+VmIKnKkA9qxtL8YeI/FHwwS+0Hw9DaLc6fdbHjnCCKdPMRTEgT50Z1BU8ZDA1lztSaa0PShhFUoxqRlq3Z30t/mekW/ijRbrVn02HV7GXUo8h7NLhDKuBk5QHIwOa1sjOO9eH6b4i8N6P8ABW4vvDc2njxFY6NJMqsEe8S4WLLmRfvl9wO7POaxfGXxc1uaXUZPDeu2k9umlaS0M0KpMkVxNfGOZjjOSYinBPGQe9Y/WEkr7nR/Zs5yap6JO2v9fcfRG4Z6ijcpbqDg4NeH+IvFnirwn4uh8IR6nLeT61Haf2XqE1tHuXY/+mlsYBYRAOOP4uOlVfhj4/8AF/ivx/G87wx6e1zeQX1jc3sJe3SNnWIRwqokDhlXduJyDmj6xHmUbasn+y6qpuqpLlSv6r+tD3wijbR7UtdR44UUlLTAKSlooAKKKKACiiigAooooAKKKKACiiigD5I/bT/5Ln+yz/2O/wD7Sr63r5I/bT/5Ll+yz/2O5/8ARVfW9ABRRRQAUUUUAFFFFABRRRQAUUUUAFFFFABRRRQAUUUlAA3Q8Zr8uf20f2vPifoPxs8R+EtE1abwzo+lkW6RW6LvuVZATIzMucNk4A4wO/Nfpvr2uWnhzRb3VL6ZYLO0iaaaRjgKqjJNeE+E/wBn/wALfGC3l8cfETwvaavresTLeW0d2CTZ2wAEEXBAYheTnPLEdsV9Rw5muAyrGurj8P7WLTVtNH3108icRgq9fCyrUqnJZr5vsvTdmp+xj4wufHH7OPg3VLrTI9Kl+zvB5UMeyOTy5GQSKPR9u7qep5r2+qen6XaaLp8NnY20dpZ26BIre3jCJGo6KqgYAHpXFaT8ZNM1J7GH7HfC8nku4prVYg0lq1s22UOoJP3ioGAc7ge9eDjMRRqYidSlHkjJtpdlfRfI2oYevWjd+9Jbs9D20nHrXm3jT4ww6D4P1rUrTTNRe5s4Mxrd2MsMTOzBEyzADG5hn2p/gTxNrkOua54f1y/g1i+s7aG+gu4YBb70kDrsZRkAh4259CM8g153to81rnX9Rrcjm1a3/A/zOm1DwL4f1XxdYeJr3S7e91zToWtrS7nG82qscv5YPCM3GWA3EDGccVvqMbuc5OeTXh3wh+LWseOPGn2K8u4545LOW5ubT7IYFs3WRUCwyZInUndlgSBjOeQB7ivFVTqKorojFYWpg6ns6m5U1TRbDXLdYNRsoL6EHcI7iNZFz64I6+9WY7eOGNY441RFGAoGAB6VLRWljl5nblvoZa+HdMhv5r6LTraK9mGJLhIVEjDHILYyaS10HTrCMR22n21vFkHy4YFRcg5BwB681q0mKOVdi/az6tlY28TSo5jUunKttGV7HH4VBFoenQ6k2opp9sl+42tdLColI9C2M4/GtDbQaGk9yOaS6h3pO9LzRTIFooooGFFFFABRRRQAUUUUAFFFFABRRRQAUlLSUAfJX7aH/JcP2Wf+x4P/AKJr62r5K/bQ/wCS4fstf9jwf/RNfWtABRRRQAUUUUAFFFFABRRRQAUUUUAFFFFABRRRQAUh5GKKiurhLa3kmkIWONSzMTgAAZNK9tRpN6I8o+LJHjjxd4f+H6I0ttMy6pq+04VbSNxtRvUSSBVx6K3XmvWIoxFGqgYA6Adq8t+B9vL4jl1/x5ehhLr9yVskkHMdjGSsI9i3LEe47ivV6zpyck5PqepjmqfJhY7U1r/ie/8Al8hGyVIBwcda8o8FfC95fF/jHxHrVm1kdakFvDYefvMcCgB5Ny8K0pUMQOmF5zmvWKKcoKTTfQ46WInRjKMHbm0f33OKvPhD4YutL1GxFjIkd9btbyt9olY7T6ZYjIPIqlo/wrOlw3M02v6hf6hdywm8vZkjDTQRAgQBFXaqEM2doySxOc16FRQ6cH0Khi68I8qloec+D/g7aeGdS0i7k1a91VdGt5LTS4rpUUWsThQwyqgudqBctngdM816GBzRtxS81UYqOyMqtadaXNN3HUUUVRiFFFFABRRRQAUUUUAFFFFABRRRQAUUUUAFFFFABRRRQAUhYDqcUHpXmfxR1DUtT8U+FvCen38+kxasbiW7v7MqtwkUaAhY2YEKWZhzgnj3qZNpXR0UKXtqihey6vyR6XuXbuyNvrnigOrYwQc8ivNPhX4q1PVPC/iayvZW1LUfD+qXWlLcYUSXQjCshIGBu2uq9ume9cx8B9evbzUjZa/rPiZPFZshcXWia/DHFEoLDdJBtjG5ATtB3tjOCM1kqqvGPVnbLL5xVVuXwfj5+hwH7aH/ACW/9lr/ALHg/wDomvrOvkP9ty+Sx+Nn7K7yKzq3jtY/kHILoqKfplvyBr1r4xftR+F/gj4u0bw7rekeJdQvdVjjkgl0bSJLqBN8pjAeQHCnIJx1xzW55R7FRXkPx2/aa8Nfs9toq+ItK8Q6idXWZoP7B0qS98sRbM+Zt+7kyLjPXn0qX4v/ALSnhv4LeDND8S6zpfiHULHV2VYItH0t7qZCY9/7xARtGPXvxQB6zRXlPjj9o7w78P8A4T6R8QdS0vxBPo+qGHyLWx0t5r1fMQuvmQj5kwFOc9DxUs37Q3h6D4Hx/FNtN106A8CzixXTnOo4aQRgfZ85zk5PPTmgD1GivJvBP7Snhrx78IdW+I1hpmv2uiab5/mWt9pjxXr+UoZvLhzl8gjGOvNJ8K/2lPDfxf8AB+t+JNF0zxBZ2WkBzPBq2lvbXDhYy58uNjl+BgY7kCgD1qivJ/gf+0j4c+PtvrEvh/SvEWnjS3RJhrmkyWZbcGI2bs7vumqPwU/ao8LfHjxNq2iaBpPiSwutNiM00mtaRJZxMokCEI7cMcnp6c0AezUV434M/ak8L+Ofi1qPw7sNJ8Sw61YNMkt5d6PJFYsY87ts54Oe3rTbf9qrwncfHCX4VjSfEyeIY5TD9sfSJBYEhN+RPnGMd+maAPZqK8V8VftX+FfCPxk074a3ej+JptbvpraCO8tdIeSxVpyuwtPnAUbuT2qb4sftTeF/g7480jwnrOj+Jb3UNTiWWGfStJkubdVZyg3yLwuCDn0AzQB7JRXkPx2/ac8Mfs9yaRH4h0rxFqT6mWEX9haW94F2kZ37T8vXj1qb4xftIeHPgj4b0PXNc0vxBfWesNsgj0fS3u5ozs35kRT8gwQOe5xQB6uelea/HrVLm28CyaTp8jR6lr08ek27KMlDKSHf/gKbz9QPXFU/Hn7R3hv4f/CTRPiHqGl6/d6Hq8dtJBa2OlyTXqCdN6eZD1QgcEHoeK/JTxZ/wVK+J+ufHfTPE32OzXwvo+os9j4Yks1J8kkoQ8mPMMxQnndgMche1Z1FzRaR2YOrTo141Km0dfn0/E/bDw9osHh3Q9P0u1XZbWcCW8S5zhUUKB+QrSryrwv+0Z4e8WfBW++J1tpevQaHZRTyy2VzpjpfkREhwsHViccY60nwy/aO8OfFb4d694y0nS/ENlpmjiXz4NU0qS3uX8uISMI4jy52kYA5J4rRLQ5ZScpOUt2erUV5X8D/ANorw/8AHzT9YvdB0nxBpcGlyrFMNe0t7JmLKW+QMfmxjn0rN+Bf7VXhX9oHWNU03w/o/ibTZ9OhWeVte0h7JGVmKgIWPzHjOPQigk9morxn4YftT+GPix8SNY8FaTo3iaz1PShKZ7nVNIktrV/Lk8ttkrHDZJ49RzS6X+1R4W1b41XHwvh0jxKniCGSWJruXSXWwyiliRcZ2kYHXFAHstFeL6/+1b4U8O/Gqz+F9xo/iaXX7qeG3S7g0iRrAGRVZWM+cbRuAJHQ5HUVJ8S/2pPDHwr+JGk+CdV0bxNeatqawvBNpejyXNsBI5RQ0q8A5Bz6UAeyUV478Zv2n/DXwN8Q6Lo2vaR4kv7rVE8yKTRdIkvIkG/Z87KflOefpVr44ftH+Hf2f9H0fUfEel+IL+HVHaOFNE0qS6dGVQT5gBGz7w69+KAPWKK8m+In7Sfhr4a/DHQ/HWpabr93o+sLC8EGn6Y890gljEi+ZEDlcA856Gl1r9pDw5oPwVs/ifc6Z4gl0C6VGSzg0qRtQXc5QbrfO4cj8uaAPWKK8n079pHw3qnwTufijDpuvjw9boztaSaW66gQHCHFuTuPJz9MmrHwy/aG8PfFb4Z6x440nTNes9L0tp1mtdT017e7YxRLK2yInLZVgB6nIoA9QoryT4J/tLeG/jzo+uanoGleItPg0cIbhNb0qSzd9ysw8sN9/hDnHqPWofgj+1B4Y+Pmsa1p2gaR4j02XSVVp313Sns0fcxUBGb7xyDx9KAPYaK8X+FH7VnhT4xfETWPBujaP4mstT0uKaaW41bSHtrV1jlWNtkpOGJLgj1HNSeG/wBqXwv4m+NV78L7bR/EsWvWsk0b3txpEiae3lIWYic/KQQMD1OKAPZKK4fwz8W9J8VfEfxR4MtLLVI9Q8Ox273V1cWTx2kvnKWUQyniQjBBwOCD6V3FABRRRQAUUUUAFFFFACHkVxnj7wDL4qutJ1TTdQ/snXdId3tLow+dHh12yI8ZI3Kwx3BGBg12lFTJcysa06kqMlOG55r4f+F+qeFbGGHTvEbxzyyXd3qVy9mjG9uphxLj+HY2CFHUAKfWrPhf4c6nZ+NG8TeINcGsamlmbK3jt7b7Pbwxs4ZyE3MSx2ryT27d/QaKn2aOl42tLmu9ZaN2Vz5J/bSYr8dP2WMd/G7ds/8ALIV9a7RnOOa+Sf20/wDkun7K/wD2O7f+iRX1vWhwjdvz7snpjHahow2M806igBmza2Rmk8sBuBjOP0qSkxQAbevak8sfQenanUUAJt+XH601U7nJOMU+igBu0bs0FQf506igBnljaFBKgelKq06igBrKGoKA9ee/SnUUAMZVCtnGMc18m/C39kf4R/EbxtrXxZ1bwZYXes3evXF3psqSSC3ESMFSXyQ3lszFC5LKeW9q99+MniiTwr8O9au7ZDNfPD9ntoUPzNNIfLjA/wCBMPyNanw78Lx+D/A+iaOgw1naRxSMcZZwPnY47lsn8ah6zXkenCEaeClUktZNJei1f5o+Y/AX/BRDwdD8bvGXwp+JE1t4N1/R9ansLDUpXK2F7CJCIsuf9VJtK53fKeoI6V9dW9xBcW8c0MySwygFJEcMrA9CD3r8bfj9+xz4p+N/7RXx6+JNtYTS+C/DOsK1zb2uRdakI0iN1HanBBkSPc/IwThepr9Jf2Uvgp4L+Ffw90258B+JfEWv+GtStY7iyGsaq11CsTAMpjTAVD24GRjHqKs8w9x24yOxo2ilpaAGGMbff1oVeSTz9afRQA3aNxPf6UuPelooATaMg45opaKAG7BnOOaRo/RiPxp9FAEe35hnOP507YMEHkHsaXFLQAmOMZxRtHNLRQAwxL6fXjrRzT6KAI0B3Ekk1JSYxS0AFFFFABRRRQAUUUUAFFFFABRRRQB8kftpf8l0/ZX/AOx3b/0SK+t6+SP20v8Akun7K/8A2O7f+iRX1vQAUUUUAFFFFABRRRQAUUUUAFFFFABRRRQAUh6UtNdgqFicADk+lAHlHxKeXxN8SvBPhWBN9vBOdcv2H/LOOHIhH/ApD9CEb0Fese3avKfhGH8VeMPGPjSUlre4u/7K03PT7NbkqXX2eQufoFr1esaa3fc9XH/u/Z4ZfYWvq9X/AJfIrWun29jbvDbQRwxszOUVQFLMcsT6kkkn1zXgPwt0nUv2c/F/jPwrcWF23wtONb0HUIIWmj04zybZ9P2oC+BKTImFwFdskYr6HqK4XdDJjqVxWr2PMja6ucLonxv8JeIprGPT7+ef7bcraQSGymjSSQhztDMgBOI3zzxiu98xd23cN3pmvndfB9/e+A/hhp9xZahHt8SytdxqsiSRxGO9+ZiPmRTuHPH3hz0qto+m+JJ/GWlaHMdYTQbTVdWhXfJMFaGMQvbB5Ccsu7dtJPIyORmuSFSezV9j6GeX4aacqVSyV73127bb9j6S3DnkVlXvifTbDXtN0aa6VNR1FJpbaHaTvWIKZDkDAxvXqR1r5v8Ah/Z+MbiTVJNb16bR9YFheDVFjsryWUsWwsiliYyE+Ur5QBIY4xS+F/Dt34z1zwLBqOlX1rpltDrFs9zayXKxXAIt9soaT94gfD4VjnKtjI5pRxDkr8onldOEpKVZNLe3o389un4H1EZF5wyg1m2XibTtQ1bUtMguUkvtO8v7VCpyY967lz+FfN1jJq02m6cvjufxE1kNOlisBai4V2uxcSgF/LG7zfKWLZu+U5Y1XtdP8V2sd3da/Fq9rHdNop1+azEgmaJbZxLtaPkjzPLD7Ocb/rTWI6WKWTxV+aqv6/P/ADPpvTfEFnq95qNrazeZNYTCCdcfccorgZ7/ACsp/EVTPjnQxpOrakdShWy0uaW3upmVsRSR/fQjGWIPZeuQBmuG+Ammx2Mfi2a0hv49MuNYMlk+oLIHkiEES7l8z5tuVYDPYCuY8YeDdTuPipNoKWU0/hjxJc2uq3coh3Qo9sMyox7GTy7fA9nPPNae0lyKVtTmjgaUsROi52UVe/4v59j2zVPENjpGj3Gq3VwsNhbwNcyTNwFjAyTg+1XoLhLiNJEOVdQ6/QjIr5X1eTXvEur+KEsNM1CCO+0nVYb/AEvyrqTbMFT7OHLkpvbkjywOGxk4FdD4g1jXdPt9e0KNdYGr3WoaZc2C21rKyra4txLiQKVAHlz5BOc8dSKy+sPex0SylJJKau/y/wCB+R9FhgehBpa+c/BsPief4wXcmpajJY3SardEQPb3Z+0WO5/JTdu8gLs2kMBkMuOp5+iw2a6KdT2ivax5eMwv1SSjzKV1fQWiiitTgCiiigAooooAKKKKACiiigAooooAKKKKACiiigD5I/bS/wCS6fsr/wDY7t/6JFfW9fJH7aX/ACXT9lf/ALHdv/RIr63oAKKKKACiiigAooooAKKKKACiiigAooooARjhSa4D41+LJvDHgS4jsQX1jVHXTdPjAJLTy/KvA9Blv+A13zMFRmPQDNeQaerfFD4zXGokmTw74R3WtttPyTagwxK/v5a/J7MzelZVJWSit2enl9Ne19vU+GGr/RfNnoXgXwvD4M8I6TosHKWVusRc8l2/icnuWOSfc1v0i0tXGPKrI4KlSVWbqS3buFFFFUZjdg4HQD0pCvUdR70+igCLy13ZxzjFKFAHAxT6KYNsj8pdoGOnTjp/nmlWPauMk+p7mpKKQ7sixtIwKdtNPooAb9abj5uSakpKBajCo3ZHpinLxTqKQahRRRTAKKKKACiiigAooooAKKKKACiiigAooooAKKKKAPkj9tL/AJLp+yv/ANju3/okV9b18kftpf8AJdP2V/8Asd2/9EivregAooooAKKKKACiiigAooooAKKKKACop547eF5ZXWOJAWZ3OAoHUk+lSN9018of8FIrHxVefs+g+G5plto9RhOqQ28mySW3KuoAHVh5hjJUdcdDXpZbhI4/GUsLOagptK72RjWlKnTcoR5muh7D8TfiYlvodrpnha7t9R8Q67K1jp32eVZFRsZkmYjOFjU7j77R3rqPh/4NtPAHhOx0W03MIFzLMxy80p5eRj3ZmJJ+tfnR/wAEzfh944sfi5fa1caXd2PhmLT5YZpb+FkEkjMhVY9w6jqcfnX6dycRt346V3cQ5NDI8xlhqdZVUktV59PU6MPmH1jBQpwg4a3l5vp8ktvO44MG6HPejPftXkN98Vta03x1P4Sa2tJdW/tFZYdwZVOltEzmXj+JWRkPbOOOcUXXxc1S5t9UhtF0eS4jtZ3gFrdTPK0iqdoCtCozkDjNfMe2ja56X9nV/dvb3tVr0fU9dDBuhBpFmR2wrqT6A14J8KLqHR/Evhx4b+aZNb8MrqWrNcXRdWuN0W2YqzHaWMko4x93H8NbOoWMmgfHDRLuOGS007U2mia6trxpTdzCIt5c0TfdRQu4Fc4KgYUZqXWt062NZ5fyVJQcvstrTe3T+rnstFFFdJ4wUUUUAFFFFABRRRQAUUUUAFFFFABRRRQAUUUUAFFFFABRRRQAUUUUAFFFFABRRRQAUm4dM1De3UdjZzXEp2xRIXc+gAya8j8L/F7Xr6/8Mahq+mWdn4a8VSmLS/LZzdwt5bSx+d/Cd6Ix4xtOAcms5TUXZnXRwtWvFzgtF+PWy87I8r/bS/5Lp+yv/wBju3/okV9b18kftpf8l0/ZX/7Hdv8A0SK+ts1ocgtFJkdO9IXC9Tj60AOopNw9c0bhQAtFJuFG4etAC0UmRRkUALSFgOpxSMwA61574w+MWm6LfSaNosEninxQw/d6Tp2GKHoDM/3YlzjJY59jUSnGCvI6KOHq4iXLTjf9PV9DrPFHirTPBui3Wq6teRWllAuWaQ8k44UDuT2A5J6V5x4X0HVPil4htPFniq1ay0e1fztE0KZcFW/hupxyPNIJ2r/CD69JvDfws1PxFrUPib4g3MGp6lBh7DSbdT9i009coD/rJOn7xh24Ar1NYVjVdi7RWetTV7HoTqUsDB06D5qj3l0S6qP6v7u4qqIz8oxUmflNN24py1ueQzkdL8Arb+PdS8VXtyt5fT262VqqwhBbWwbeU6ncxfksfQAAc56nyEGNq7cAjpU1JipUVFWRpUqzqW5nsrHKWnww8K2VpqNtBoVnBDqDbrtY4gomOd3OO2STgcc1Y034e+HdJ1ubWLTSLeHUpSS1wqfMCepHoTk5x1710dFHLHsP29Vp3m3fzClooqjEKKKKACiiigAooooAKKKKACiiigAooooAKKK8L/ac/aYX9l3/AIRfxDr+kPfeAtQuzpup6haAtcadMw3QylOjxkLIpAwQdpBPQgHulFc54E+IXhz4neHbbXvCutWevaPcDMV3ZSh1PGcHurc8qcEdxXRUALRSZpaACiiigAooooAKKKKAKuqWMeqabdWcozFcRtE49iMGvFvCvgHxVcTeC9D12xtYtK8HzefBqUc+43pWJ4otqYymFfLbu44r3OmMtRKKk7nbQxc8PFxj1/B2tdfJnyj+3F4U8cah4m+CnizwT4Ou/G03hDxG+q3mm2kyRO0YiAHzOeMnjoaYv7U3xdv4Z49X+A+reBrHymJ1vUNTinihIHAKIoJJ9cgV9YMtQXVnDfWz29xEssEg2vG4BDA9jXJjqU6+GnSpS5ZSVk+x5WIhKrSlTpy5ZNOz7Hx94e/aP8f6Sk/9naHP8QrzYZI9HgkWKaTkcrIRgAcnkdq0br9p/wCK+o6PfjXfg/qfwzjCqItU1C/iuldiwGxVQcHBJyeOMV9LeHfh/oXhSeeTS9Ngs3mOXaNeT+JrU1bR7TXLV7W9t47m3cbWjkGQa+WwOT5jhsrqYOeIvUle0tdD5zCZbj6WXTw1Sveo72fY+WvBH7QXj63iu4bfw/ceOLkEN9ngzHJCD3YhSNvHcevNV/Hnx++IN21rBdaJP4HnbJ+xO3mysBzvDFQCDyOnY19Q+HvB2j+E4ZItJ06GxRzlhGOv49ai8ReBdE8VtG2q6fFdvGfkdhhh+I5rjlkeayylYP61+8ve+u3a+45Zfjv7HWAVX99e/Prt2PAvDv7RPxEm0eJrT4dXXiuFRtOpWspiRiP4cbW57kj19q5C+/aE8bN4k+1MwtVSTA0xkJCg/wADdyfcY+lfX+naXa6RZx2tlbpbQINqxxqFUD6CsaT4c+HJtYXVZNHt3v1JImZTnJ6n0JrTG5HmeIw2Ho0sW1KFuZ9/uHjsuxuKweHw9GtyTp/FLX3vM8Rvv2iPiF/Z955/wu1HRbfym2apPOHjTqFcrtB5xnrXD6J+0V8QrRr99K0xvGOotAzQaVH8ryN0AQ5GO5OfTtX2JcWNvdQyQSwrJE42srDII9MVjaD4B0HwxdS3GmaZDbTyfekC5Pvj0/CujG5NmVfGUKtHFNQha6799u51Zhg8Xisdh8Rh6ihCCXMtdbbv5nw9qnxa/aX8WajK3iP4H+KRpO8FNO8P6rb2AkXuJZMs5GOwI+tdj4V+OvxS8C6ethoP7Ies6bbL822DV7UFj0yTtyTjua+0O9Kw5zX2UaUY+Z9dWx1bELldox7JWX9ep8lf8NXfHL/o1fxH/wCDu2/wo/4au+OX/Rq/iP8A8Hdt/hX1sM0c1qcNz5J/4ay+On/Rq/iT/wAHdt/hS/8ADWPxzx/yav4k/wDB3bf4V9a0tAj5I/4ay+On/Rq/iT/wd23+FH/DWXx0/wCjV/En/g7tv8K+tcn0oyfSgD5K/wCGsvjp/wBGr+JP/B3bf4Uf8NZfHT/o1fxJ/wCDu2/wr61yfSjJ9KAPkr/hrL46f9Gr+JP/AAd23+FH/DWXx0/6NX8Sf+Du2/wr61yfSjJ9KAPkr/hrL46f9Gr+JP8Awd23+FH/AA1l8dP+jV/En/g7tv8ACvrXJ9KMn0oA+Sv+Gsvjp/0av4k/8Hdt/hR/w1l8dP8Ao1fxJ/4O7b/CvrXJ9KMn0oA+Sv8AhrL46f8ARq/iT/wd23+FH/DWXx0/6NX8Sf8Ag7tv8K+tcn0oyfSgD5K/4ay+On/Rq/iT/wAHdt/hR/w1l8dP+jV/En/g7tv8K+tcn0oyfSgD5K/4ay+On/Rq/iT/AMHdt/hR/wANZfHT/o1fxJ/4O7b/AAr61yfSjJ9KAPkr/hrL46f9Gr+JP/B3bf4Uf8NZfHT/AKNX8Sf+Du2/wr61yfSlyaAPkn/hrL46f9Gr+JP/AAd23+FeN/tefHL4m/Ev9nbxvovi79mvWtB0Y2X2htYutXt5EsXRgyTFQMnaQOByckCv0br5W/b88H+OPjR4D0f4SeAbNje+KLxX1bVJWKWthp8JDO0rf7TlMKAS21higD8Rvg38e/H3wB8RjWfAfiK70O5cgSRxnfBcLn7skRBVxkdxnjiv2g/Y7/ar+MPxs8LxXPi74MXml2n2WSaHxDbzLa2t4VB2BYJiHyxUjKblyQflFW/2X/8Agmz8Lv2eYbbVb2yXxj4yVPm1bVEDRQt1zBAcqnOMMct7jpX1Vqt0NK0m7u0t5Z/s8LSCC2TdI+1c7UUdWOMAfSkyo6ySscFoPxssPFFx4YttK0+5uL7WFkkuLV2VX06OLiYzc8FZMR47npxXpVfO3wx8G+JfAvxC/wCEsvdIZl8cO82qW9vCC+ky7i0AOOQpjO2Tr+85+v0TWFGU5RbnuepmNGhQqRjh3eNt/Pqvlt579QoooroPJCiiigAooooAKKKKACiiigAooooAKKKKACiiigAooooASloooAKKKKACiiigAooooAKKKKACiiigAooooAKKKKACiiigAooooAKKKKACiiigApMUtFABRRRQAUUUUAFFFFABRRRQAUUUUAFFFFABRRRQAUUUUAFFFFABRRSUALRSbhS0AFFJRmgBaKQnFGaAFopu6nUAFFFFABRRSUALRSZooAWiiigAooooAKKKKACiiigAooooAKKKKACiiigAooooAKKKKACiiigAooooA//Z)"
      ]
    },
    {
      "cell_type": "markdown",
      "metadata": {
        "id": "HEIP91W6_v4O"
      },
      "source": [
        "Basically, the probabilty of accurance of an event is plotted. The values of probability above the threshold, (eg:0.8) form a part of the event 1 and the values below the threshold form a part of event or class 0"
      ]
    },
    {
      "cell_type": "markdown",
      "metadata": {
        "id": "PiU1kuFdjhSc"
      },
      "source": [
        "## Training the Logistic Regression model on the Training set"
      ]
    },
    {
      "cell_type": "code",
      "metadata": {
        "colab": {
          "base_uri": "https://localhost:8080/"
        },
        "id": "r9nHYijS29gr",
        "outputId": "b9d5bbfa-ff01-413d-d20c-3c48d30bc11c"
      },
      "source": [
        "from sklearn.linear_model import LogisticRegression\n",
        "classifier = LogisticRegression(random_state = 0)\n",
        "classifier.fit(X_train,y_train)"
      ],
      "execution_count": 32,
      "outputs": [
        {
          "output_type": "execute_result",
          "data": {
            "text/plain": [
              "LogisticRegression(C=1.0, class_weight=None, dual=False, fit_intercept=True,\n",
              "                   intercept_scaling=1, l1_ratio=None, max_iter=100,\n",
              "                   multi_class='auto', n_jobs=None, penalty='l2',\n",
              "                   random_state=0, solver='lbfgs', tol=0.0001, verbose=0,\n",
              "                   warm_start=False)"
            ]
          },
          "metadata": {},
          "execution_count": 32
        }
      ]
    },
    {
      "cell_type": "markdown",
      "metadata": {
        "id": "J0CXnnAzXZFs"
      },
      "source": [
        "The class LogisticRegression() from the sklearn library is applied for training the model"
      ]
    },
    {
      "cell_type": "markdown",
      "metadata": {
        "id": "Fp28ZvWPjhSd"
      },
      "source": [
        "## Predicting the Test set results"
      ]
    },
    {
      "cell_type": "code",
      "metadata": {
        "colab": {
          "base_uri": "https://localhost:8080/"
        },
        "id": "9l85CTwL-7YW",
        "outputId": "d0eb7888-c18e-4b31-94e8-8d783b0314b9"
      },
      "source": [
        "y_pred = classifier.predict(X_test)\n",
        "print(np.concatenate((y_pred.reshape(len(y_pred),1), y_test.reshape(len(y_test),1)),1))"
      ],
      "execution_count": 33,
      "outputs": [
        {
          "output_type": "stream",
          "name": "stdout",
          "text": [
            "[[3 3]\n",
            " [4 4]\n",
            " [0 0]\n",
            " [0 0]\n",
            " [0 0]\n",
            " [4 4]\n",
            " [4 4]\n",
            " [4 4]\n",
            " [0 0]\n",
            " [4 4]\n",
            " [1 1]\n",
            " [0 0]\n",
            " [0 0]\n",
            " [0 0]\n",
            " [2 2]\n",
            " [3 3]\n",
            " [0 0]\n",
            " [0 0]\n",
            " [4 4]\n",
            " [0 0]\n",
            " [0 0]\n",
            " [4 4]\n",
            " [4 4]\n",
            " [4 4]\n",
            " [0 0]\n",
            " [0 0]\n",
            " [0 0]\n",
            " [0 0]\n",
            " [0 0]\n",
            " [4 4]\n",
            " [4 4]\n",
            " [3 3]\n",
            " [1 1]\n",
            " [4 4]\n",
            " [0 0]\n",
            " [0 0]\n",
            " [4 4]\n",
            " [0 0]\n",
            " [1 1]\n",
            " [4 4]\n",
            " [0 0]\n",
            " [1 1]\n",
            " [0 0]\n",
            " [4 4]\n",
            " [0 0]\n",
            " [4 4]\n",
            " [0 0]\n",
            " [0 0]\n",
            " [1 1]\n",
            " [2 0]]\n"
          ]
        }
      ]
    },
    {
      "cell_type": "markdown",
      "metadata": {
        "id": "qLiAh2XMjhSd"
      },
      "source": [
        "## Making the Confusion Matrix"
      ]
    },
    {
      "cell_type": "code",
      "metadata": {
        "id": "d8SAGRCTDQSO",
        "colab": {
          "base_uri": "https://localhost:8080/"
        },
        "outputId": "36952c5e-766d-4311-8825-a8e85a4bdaff"
      },
      "source": [
        "from sklearn.metrics import confusion_matrix,accuracy_score\n",
        "cm = confusion_matrix(y_test,y_pred)\n",
        "print(cm)\n",
        "accuracy_score(y_test,y_pred)"
      ],
      "execution_count": 34,
      "outputs": [
        {
          "output_type": "stream",
          "name": "stdout",
          "text": [
            "[[24  0  1  0  0]\n",
            " [ 0  5  0  0  0]\n",
            " [ 0  0  1  0  0]\n",
            " [ 0  0  0  3  0]\n",
            " [ 0  0  0  0 16]]\n"
          ]
        },
        {
          "output_type": "execute_result",
          "data": {
            "text/plain": [
              "0.98"
            ]
          },
          "metadata": {},
          "execution_count": 34
        }
      ]
    },
    {
      "cell_type": "code",
      "metadata": {
        "colab": {
          "base_uri": "https://localhost:8080/"
        },
        "id": "mE36pzFqnOkP",
        "outputId": "63354760-a98d-4245-d4ed-c2e81c175f22"
      },
      "source": [
        "from sklearn.metrics import r2_score\n",
        "r2_score(y_test,y_pred)"
      ],
      "execution_count": 35,
      "outputs": [
        {
          "output_type": "execute_result",
          "data": {
            "text/plain": [
              "0.975609756097561"
            ]
          },
          "metadata": {},
          "execution_count": 35
        }
      ]
    },
    {
      "cell_type": "markdown",
      "metadata": {
        "id": "i2lCx1Qct3sU"
      },
      "source": [
        "The Logistic Regression model predicts the data with an r2 score of **97.56%**\n",
        "\n",
        "Which is a lot better than the other models and hence is best suited for this dataset!"
      ]
    },
    {
      "cell_type": "markdown",
      "metadata": {
        "id": "JmAMBJh2kZAI"
      },
      "source": [
        "## Computing the acciracy with k-fold cross validation"
      ]
    },
    {
      "cell_type": "code",
      "metadata": {
        "colab": {
          "base_uri": "https://localhost:8080/"
        },
        "id": "rS2A9WvzkYnb",
        "outputId": "afb2965b-29cb-431b-c48e-1a5086970bce"
      },
      "source": [
        "# 10 parts, mean\n",
        "from sklearn.model_selection import cross_val_score\n",
        "accuracies = cross_val_score(estimator = classifier, X=X_train,y=y_train,cv=10)\n",
        "print(\"Accuracy: {:.2f} %\".format(accuracies.mean()*100))\n",
        "print(\"Standard Deviation: {:.2f} %\".format(accuracies.std()*100))"
      ],
      "execution_count": 36,
      "outputs": [
        {
          "output_type": "stream",
          "name": "stdout",
          "text": [
            "Accuracy: 94.00 %\n",
            "Standard Deviation: 6.96 %\n"
          ]
        }
      ]
    },
    {
      "cell_type": "code",
      "metadata": {
        "colab": {
          "base_uri": "https://localhost:8080/"
        },
        "id": "bfMpggDxl2MU",
        "outputId": "c728d411-c2f1-47e8-95f0-499c0123a2f3"
      },
      "source": [
        "accuracies"
      ],
      "execution_count": 37,
      "outputs": [
        {
          "output_type": "execute_result",
          "data": {
            "text/plain": [
              "array([0.93333333, 0.93333333, 0.8       , 1.        , 0.86666667,\n",
              "       1.        , 0.86666667, 1.        , 1.        , 1.        ])"
            ]
          },
          "metadata": {},
          "execution_count": 37
        }
      ]
    },
    {
      "cell_type": "markdown",
      "metadata": {
        "id": "6dfqfzqfu3zS"
      },
      "source": [
        "## Predicting a single result"
      ]
    },
    {
      "cell_type": "code",
      "metadata": {
        "colab": {
          "base_uri": "https://localhost:8080/"
        },
        "id": "Hr42qhblu11x",
        "outputId": "439a4122-dd0a-48a7-8be8-af3c80a0506c"
      },
      "source": [
        "data=[]\n",
        "#Age\tSex\tBP\tCholesterol\tNa_to_K\n",
        "#Eg: 23\tF\tHIGH\tHIGH\t25.355 =>> DrugY\n",
        "data.append(int(input(\"Enter Age:\")))\n",
        "data.append(input(\"Enter Sex:\"))\n",
        "data.append(input(\"Enter BP:\"))\n",
        "data.append(input(\"Enter Cholesterol:\"))\n",
        "data.append(float(input(\"Enter Na_to_K:\")))"
      ],
      "execution_count": 38,
      "outputs": [
        {
          "name": "stdout",
          "output_type": "stream",
          "text": [
            "Enter Age:23\n",
            "Enter Sex:F\n",
            "Enter BP:HIGH\n",
            "Enter Cholesterol:HIGH\n",
            "Enter Na_to_K:25.355\n"
          ]
        }
      ]
    },
    {
      "cell_type": "code",
      "metadata": {
        "colab": {
          "base_uri": "https://localhost:8080/"
        },
        "id": "ua7bVZpi7jgJ",
        "outputId": "211fb6ce-5792-4a2c-a8d8-c2411d0db55a"
      },
      "source": [
        "print(le.inverse_transform(classifier.predict(sc.transform(ct.transform([[data[0],le2.transform([[data[1]]]),data[2],le3.transform([[data[3]]]),data[4]]])))))\n",
        "#23\tF\tHIGH\tHIGH\t25.355 =>> DrugY"
      ],
      "execution_count": 39,
      "outputs": [
        {
          "output_type": "stream",
          "name": "stdout",
          "text": [
            "['DrugY']\n"
          ]
        },
        {
          "output_type": "stream",
          "name": "stderr",
          "text": [
            "/usr/local/lib/python3.7/dist-packages/sklearn/preprocessing/_label.py:268: DataConversionWarning: A column-vector y was passed when a 1d array was expected. Please change the shape of y to (n_samples, ), for example using ravel().\n",
            "  y = column_or_1d(y, warn=True)\n"
          ]
        }
      ]
    },
    {
      "cell_type": "markdown",
      "metadata": {
        "id": "NXKe_MiNlOxo"
      },
      "source": [
        "* The results predicted by the Logistic Regression model have been the most accurate with an r2 score of 97.56%\n",
        "\n",
        "* Thd accuracy score is quite great also high and it has to be this high in the fields like medical. \n",
        "\n",
        "* According to the confusion matrix, the model just predicts one data wrong else is quite successful in its predictions!\n",
        "\n",
        "Thus the best model that could be used to predict the drugs based on the features similar to the given features, is the Logistic Regression algorithm"
      ]
    }
  ]
}