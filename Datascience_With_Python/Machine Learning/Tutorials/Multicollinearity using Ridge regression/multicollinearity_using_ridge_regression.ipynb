{
 "cells": [
  {
   "cell_type": "markdown",
   "id": "611fc484",
   "metadata": {},
   "source": [
    "* Multicollinearity is when the correlation between the predictor variables is high. \n",
    "* Ridge Regression performs an L2 regularization, i.e. adds penalty equivalent to square the magnitude of \n",
    "  coefficients. Minimize the sum of the square of coefficients to reduce the impact of correlated predictors.\n"
   ]
  },
  {
   "cell_type": "markdown",
   "id": "25ead1bd",
   "metadata": {},
   "source": [
    "# Importing Libraries"
   ]
  },
  {
   "cell_type": "code",
   "execution_count": 1,
   "id": "335df193",
   "metadata": {},
   "outputs": [],
   "source": [
    "import pandas as pd\n",
    "from sklearn.model_selection import train_test_split\n",
    "from sklearn.linear_model import Ridge"
   ]
  },
  {
   "cell_type": "markdown",
   "id": "04d74538",
   "metadata": {},
   "source": [
    "# Importing dataset"
   ]
  },
  {
   "cell_type": "code",
   "execution_count": 2,
   "id": "a415478e",
   "metadata": {},
   "outputs": [],
   "source": [
    "data=pd.read_csv(\"heart.csv\")"
   ]
  },
  {
   "cell_type": "markdown",
   "id": "c2cf17ea",
   "metadata": {},
   "source": [
    "# Splitting of data"
   ]
  },
  {
   "cell_type": "code",
   "execution_count": 3,
   "id": "3af059fe",
   "metadata": {},
   "outputs": [],
   "source": [
    "x= data.drop(columns=\"target\", axis=1)\n",
    "y= data[\"target\"]\n",
    "X_train, X_test, y_train, y_test = train_test_split(x, y, random_state=0)"
   ]
  },
  {
   "cell_type": "markdown",
   "id": "24a35a2f",
   "metadata": {},
   "source": [
    "# Training the data with ridge regression"
   ]
  },
  {
   "cell_type": "code",
   "execution_count": 4,
   "id": "cd28f70a",
   "metadata": {},
   "outputs": [
    {
     "name": "stdout",
     "output_type": "stream",
     "text": [
      "Training set score: 0.52\n",
      "Test set score: 0.46\n"
     ]
    }
   ],
   "source": [
    "ridge10 = Ridge(alpha=10).fit(X_train, y_train)\n",
    "print(\"Training set score: {:.2f}\".format(ridge10.score(X_train, y_train)))\n",
    "print(\"Test set score: {:.2f}\".format(ridge10.score(X_test, y_test)))"
   ]
  },
  {
   "cell_type": "markdown",
   "id": "4a853869",
   "metadata": {},
   "source": [
    "As alpha value decresing, allows the coefficients to be less restricted."
   ]
  },
  {
   "cell_type": "code",
   "execution_count": 5,
   "id": "2b94625c",
   "metadata": {},
   "outputs": [
    {
     "name": "stdout",
     "output_type": "stream",
     "text": [
      "Training set score: 0.53\n",
      "Test set score: 0.45\n"
     ]
    }
   ],
   "source": [
    "ridge01 = Ridge(alpha=0.1).fit(X_train, y_train)\n",
    "print(\"Training set score: {:.2f}\".format(ridge01.score(X_train, y_train)))\n",
    "print(\"Test set score: {:.2f}\".format(ridge01.score(X_test, y_test)))"
   ]
  },
  {
   "cell_type": "markdown",
   "id": "9b0beb11",
   "metadata": {},
   "source": [
    "Conclusion:\n",
    "    \n",
    "Whenever we have a multicollinearity problem we always use regularization techniques. One of the most used regularization \n",
    "techniques is ridge regression. It helps to avoid overfitting and increases the model performance.\n"
   ]
  }
 ],
 "metadata": {
  "kernelspec": {
   "display_name": "Python 3",
   "language": "python",
   "name": "python3"
  },
  "language_info": {
   "codemirror_mode": {
    "name": "ipython",
    "version": 3
   },
   "file_extension": ".py",
   "mimetype": "text/x-python",
   "name": "python",
   "nbconvert_exporter": "python",
   "pygments_lexer": "ipython3",
   "version": "3.8.8"
  }
 },
 "nbformat": 4,
 "nbformat_minor": 5
}
