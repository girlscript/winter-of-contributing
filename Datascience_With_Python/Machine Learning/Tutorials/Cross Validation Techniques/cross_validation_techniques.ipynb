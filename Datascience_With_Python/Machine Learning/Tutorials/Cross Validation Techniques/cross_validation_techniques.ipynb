{
  "nbformat": 4,
  "nbformat_minor": 0,
  "metadata": {
    "colab": {
      "name": "cross_validation_techniques.ipynb",
      "provenance": []
    },
    "kernelspec": {
      "name": "python3",
      "display_name": "Python 3"
    },
    "language_info": {
      "name": "python"
    }
  },
  "cells": [
    {
      "cell_type": "markdown",
      "metadata": {
        "id": "rdeGDhp3RAcl"
      },
      "source": [
        "Cross-validation is one among the foremost powerful tools of machine learning and every Data Scientist should be conversant in it. In real world , you can’t finish the project without cross-validating a model. However, It’s worth mentioning that sometimes performing cross-validation could be a touch tricky task. \n",
        "For example, it’s quite easy to form a logical mistake when splitting the dataset which can cause an untrustworthy CV result. \n",
        "But don't worry , we are here to back you up. At the end of this article, you'll surely understand what cross-validation is, what CV techniques are there, and the way to implement them. So let's get started:\n"
      ]
    },
    {
      "cell_type": "markdown",
      "metadata": {
        "id": "FG3xunSVRgFR"
      },
      "source": [
        "# **CROSS-VALIDATION TECHNIQUES**\n",
        "\n",
        "---\n",
        "\n",
        "Cross-validation is defined as a statistical procedure that estimate the performance (or accuracy) of machine learning models.  In cross-validation, you create a hard and fast number of folds (or partitions) of the info , run the analysis on each fold, then average the general error estimate.\n",
        "\n",
        "When handling a Machine Learning task, you've got to properly identify the matter in order that you'll pick the foremost suitable algorithm which may offer you the simplest score. But how can we compare the models?\n",
        "\n",
        "Say, you've got trained the model with the dataset available and now you would like to understand how well the model can perform. One often approach is  that you simply getting to test the model on the dataset you've got trained it on, but this might not be a good practice.\n",
        "\n",
        "So what's wrong with testing the model on the training dataset? If we do so, we assume that the training data represents all the possible scenarios of real-world and this may surely never be the case. Our main objective is that the model should be ready to work well on the real-world data, although the training dataset is additionally real-world data, it represents a little set of all the possible data points(examples) out there. So to understand the important score of the model, it should be tested on the info that it's never seen before and this set of knowledge is typically called testing set.\n",
        "Usually, there are three main steps involved in any cross validation technique:\n",
        "\n",
        "\n",
        "1.   Reserve a subset of the dataset as a validation set.\n",
        "2.   Provide the training to the model using the training dataset.\n",
        "3.   Now, evaluate model performance using the validation set. If the model performs well with the validation set, perform the further step, else check for the errors."
      ]
    },
    {
      "cell_type": "markdown",
      "metadata": {
        "id": "aV_venGjSs1i"
      },
      "source": [
        "#**Types of Cross Validation**\n",
        "\n",
        "---\n",
        "There are differing types of cross validation methods, and that they might be classified into two broad categories – Non-exhaustive and Exhaustive Methods. We’re getting to check out a couple of examples from both the categories.\n",
        "![diagram.PNG](data:image/png;base64,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)\n"
      ]
    },
    {
      "cell_type": "markdown",
      "metadata": {
        "id": "r_by22txTEb-"
      },
      "source": [
        "### **(A)Non-Exhaustive Methods**\n",
        "\n",
        "Non-exhaustive cross validation methods as the name suggests don't compute all ways of splitting the first data. It allow us to undergo the methods to urge a clearer understanding.\n",
        "\n",
        "### **1. Hold-out**\n",
        "\n",
        "Hold-out cross-validation is the simplest and commonest technique. The algorithm of hold-out technique is:\n",
        "\n",
        " * Divide the dataset into two parts: the training set and the test set. Usually, 80% of the dataset goes to the training set and 20% to the test set but you'll choose any splitting that suits you better\n",
        " * Train the model on the training set\n",
        " * Validate on the test set\n",
        " * Save the results of the validation\n",
        " \n",
        "That’s it. \n",
        "We usually use hold-out method on large datasets because it requires training the model just one occasion .\n",
        "\n"
      ]
    },
    {
      "cell_type": "code",
      "metadata": {
        "id": "LOfL58MEUbv3"
      },
      "source": [
        "import numpy as np\n",
        "from sklearn.model_selection import train_test_split\n",
        "\n",
        "X, y = np.arange(10).reshape((5, 2)), range(5)\n",
        "X_train, X_test, y_train, y_test = train_test_split(X, y, test_size=0.2, random_state=111)"
      ],
      "execution_count": 1,
      "outputs": []
    },
    {
      "cell_type": "markdown",
      "metadata": {
        "id": "zSVJWtPEUohJ"
      },
      "source": [
        "### **2. K-fold cross validation**\n",
        "\n",
        "The algorithm of k-Fold technique:\n",
        "\n",
        " * Pick variety of folds – k. Usually, k is 5 or 10 but you'll choose any number which is a smaller amount than the dataset’s length.\n",
        " * Split the dataset into k equal (if possible) parts (they are called folds)\n",
        " * Choose k – 1 folds which can be the training set. The remaining fold are going to be the test set\n",
        " * Train the model on the training set. On each iteration of cross-validation, you want to train a replacement model independently of the model trained on the previous iteration\n",
        " * Validate on the test set\n",
        " * Save the results of the validation\n",
        " * Repeat steps 3 – 6 k times. whenever use the remaining fold because the test set. within the end, you ought to have validated the model on every fold that you simply have.\n",
        " to urge the ultimate score average the results that you simply got on step 6.\n",
        "\n",
        "In general, it's always better to use k-Fold technique rather than hold-out. during a head to go , comparison k-Fold gives a more stable and trustworthy result since training and testing is performed on several different parts of the dataset. \n"
      ]
    },
    {
      "cell_type": "code",
      "metadata": {
        "colab": {
          "base_uri": "https://localhost:8080/"
        },
        "id": "2W2hHCQhVHdf",
        "outputId": "0c2c1e1b-ab88-4414-aa61-84e51393973d"
      },
      "source": [
        "import numpy as np\n",
        "from sklearn.model_selection import KFold\n",
        "\n",
        "X = np.array([[1, 2], [3, 4], [1, 2], [3, 4]])\n",
        "y = np.array([1, 2, 3, 4])\n",
        "kf = KFold(n_splits=2)\n",
        "\n",
        "for train_index, test_index in kf.split(X):\n",
        "    print(\"TRAIN:\", train_index, \"TEST:\", test_index)\n",
        "    X_train, X_test = X[train_index], X[test_index]\n",
        "    y_train, y_test = y[train_index], y[test_index]"
      ],
      "execution_count": 3,
      "outputs": [
        {
          "output_type": "stream",
          "name": "stdout",
          "text": [
            "TRAIN: [2 3] TEST: [0 1]\n",
            "TRAIN: [0 1] TEST: [2 3]\n"
          ]
        }
      ]
    },
    {
      "cell_type": "markdown",
      "metadata": {
        "id": "jwWPJbZ1VQup"
      },
      "source": [
        "### **3. Stratified K Fold Cross Validation**\n",
        "\n",
        "The algorithm of Stratified k-Fold technique:\n",
        "\n",
        " * Pick variety of folds – k\n",
        " * Split the dataset into k folds. Each fold must contain approximately an equivalent percentage of samples of every target class because the complete set \n",
        " * Choose k – 1 folds which can be the training set. The remaining fold are going to be the test set\n",
        " * Train the model on the training set. On each iteration a replacement model must be trained\n",
        " * Validate on the test set\n",
        " * Save the results of the validation\n",
        " * Repeat steps 3 – 6 k times. whenever use the remaining fold because the test set. within the end, you ought to have validated the model on every fold that you simply have.\n",
        " to urge the ultimate score average the results that you simply got on step 6.\n",
        "\n",
        "As you'll have noticed, the algorithm for Stratified k-Fold technique is analogous to the quality k-Folds. You don’t got to code something additionally because the method will do everything necessary for you.\n"
      ]
    },
    {
      "cell_type": "code",
      "metadata": {
        "colab": {
          "base_uri": "https://localhost:8080/"
        },
        "id": "pRmq0UaOVq6W",
        "outputId": "aa58ca2b-15b2-4934-89ac-9cbd65f017e3"
      },
      "source": [
        "import numpy as np\n",
        "from sklearn.model_selection import StratifiedKFold\n",
        "\n",
        "X = np.array([[1, 2], [3, 4], [1, 2], [3, 4]])\n",
        "y = np.array([0, 0, 1, 1])\n",
        "skf = StratifiedKFold(n_splits=2)\n",
        "\n",
        "for train_index, test_index in skf.split(X, y):\n",
        "    print(\"TRAIN:\", train_index, \"TEST:\", test_index)\n",
        "    X_train, X_test = X[train_index], X[test_index]\n",
        "    y_train, y_test = y[train_index], y[test_index]"
      ],
      "execution_count": 4,
      "outputs": [
        {
          "output_type": "stream",
          "name": "stdout",
          "text": [
            "TRAIN: [1 3] TEST: [0 2]\n",
            "TRAIN: [0 2] TEST: [1 3]\n"
          ]
        }
      ]
    },
    {
      "cell_type": "markdown",
      "metadata": {
        "id": "XlpnaQgRVvs-"
      },
      "source": [
        "### **(B). Exhaustive Methods**\n",
        "\n",
        "Exhaustive cross validation methods test on all possible ways to divide the first sample into a training and a validation set.\n",
        "\n",
        "### **1. Leave-P-out cross-validation**\n",
        "\n",
        "In this approach, the p datasets are overlooked of the training data. It means, if there are total n datapoints within the original input dataset, then n-p data points are going to be used because the training dataset and therefore the p data points because the validation set. This whole process is repeated for all the samples, and therefore the average error is calculated to understand the effectiveness of the model.\n"
      ]
    },
    {
      "cell_type": "code",
      "metadata": {
        "colab": {
          "base_uri": "https://localhost:8080/"
        },
        "id": "qlcA9VgxWMzb",
        "outputId": "d2f7701c-eab0-4017-fcbb-11f7b3a20baa"
      },
      "source": [
        "import numpy as np\n",
        "from sklearn.model_selection import LeavePOut\n",
        "\n",
        "X = np.array([[1, 2], [3, 4], [5, 6], [7, 8]])\n",
        "y = np.array([1, 2, 3, 4])\n",
        "lpo = LeavePOut(2)\n",
        "\n",
        "for train_index, test_index in lpo.split(X):\n",
        "    print(\"TRAIN:\", train_index, \"TEST:\", test_index)\n",
        "    X_train, X_test = X[train_index], X[test_index]\n",
        "    y_train, y_test = y[train_index], y[test_index]"
      ],
      "execution_count": 5,
      "outputs": [
        {
          "output_type": "stream",
          "name": "stdout",
          "text": [
            "TRAIN: [2 3] TEST: [0 1]\n",
            "TRAIN: [1 3] TEST: [0 2]\n",
            "TRAIN: [1 2] TEST: [0 3]\n",
            "TRAIN: [0 3] TEST: [1 2]\n",
            "TRAIN: [0 2] TEST: [1 3]\n",
            "TRAIN: [0 1] TEST: [2 3]\n"
          ]
        }
      ]
    },
    {
      "cell_type": "markdown",
      "metadata": {
        "id": "xQ0f06H5WPwR"
      },
      "source": [
        "### **2. Leave one out cross-validation**\n",
        "\n",
        "This method is analogous to the leave-p-out cross-validation, but rather than p, we'd like to require 1 dataset out of testing . It means, during this approach, for every learning set, just one datapoint is reserved, and therefore the remaining dataset is employed to coach the model. This process repeats for every datapoint. Hence for n samples, we get n different training set and n test set. it's the subsequent features:\n",
        "\n",
        " * During this approach, the bias is minimum as all the data points are used.\n",
        " * This method is executed for n times; hence execution time is high.\n",
        " * This approach results in high variation in testing the effectiveness of the model as we iteratively check against one datum.\n"
      ]
    },
    {
      "cell_type": "code",
      "metadata": {
        "colab": {
          "base_uri": "https://localhost:8080/"
        },
        "id": "yXPpVCvLW55w",
        "outputId": "6a8049e6-ef09-4c44-d45c-8824600f4b0c"
      },
      "source": [
        "import numpy as np\n",
        "from sklearn.model_selection import LeaveOneOut\n",
        "\n",
        "X = np.array([[1, 2], [3, 4]])\n",
        "y = np.array([1, 2])\n",
        "loo = LeaveOneOut()\n",
        "\n",
        "for train_index, test_index in loo.split(X):\n",
        "    print(\"TRAIN:\", train_index, \"TEST:\", test_index)\n",
        "    X_train, X_test = X[train_index], X[test_index]\n",
        "    y_train, y_test = y[train_index], y[test_index]"
      ],
      "execution_count": 6,
      "outputs": [
        {
          "output_type": "stream",
          "name": "stdout",
          "text": [
            "TRAIN: [1] TEST: [0]\n",
            "TRAIN: [0] TEST: [1]\n"
          ]
        }
      ]
    },
    {
      "cell_type": "markdown",
      "metadata": {
        "id": "yARd3YMDXFDJ"
      },
      "source": [
        "### **Some Tips & Tricks**\n",
        "Below are some golden tips that really gonna help you to choose a method for performing cross validation in your projects:\n",
        " * First of all, be logical when splitting the data (does the splitting method make sense)\n",
        " * Use the right CV method\n",
        " * When working with statistic don’t validate on the past\n",
        " * When working with medical or financial data remember to separate by person. Avoid having data for one person both within the training and therefore the test set because it could also be considered as data leak\n",
        " * When cropping patches from larger images, remember to separate by the massive image Id.\n",
        " * Performing a solid exploratory data analysis before beginning to cross-validate a model is usually the simplest practice."
      ]
    },
    {
      "cell_type": "markdown",
      "metadata": {
        "id": "vwFJrGkXYXBh"
      },
      "source": [
        "I hope this article has cleared out all your doubts regarding Cross-validation techniques and their various methods. And you'll have no problems while setting up the cross validation for your next machine learning project. \n",
        "Till then\n",
        "\n",
        "*Keep Learning, Keep Growing: )*"
      ]
    }
  ]
}