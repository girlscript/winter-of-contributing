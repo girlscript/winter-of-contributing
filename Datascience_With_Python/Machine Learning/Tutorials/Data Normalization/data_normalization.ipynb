{
  "nbformat": 4,
  "nbformat_minor": 0,
  "metadata": {
    "colab": {
      "name": "GWOC_Data Normalization.ipynb",
      "provenance": []
    },
    "kernelspec": {
      "name": "python3",
      "display_name": "Python 3"
    },
    "language_info": {
      "name": "python"
    }
  },
  "cells": [
    {
      "cell_type": "markdown",
      "metadata": {
        "id": "97Hp2gpwqT4M"
      },
      "source": [
        "# **Data Normalization**"
      ]
    },
    {
      "cell_type": "markdown",
      "metadata": {
        "id": "YdRXbP0ZrV0m"
      },
      "source": [
        "Data normalization is used in machine learning to make model training less sensitive to the scale of features. This allows our model to converge to better weights and, in turn, leads to a more accurate model.\n",
        "\n",
        "Normalization makes the features more consistent with each other, which allows the model to predict outputs more accurately.\n",
        "\n",
        "We are imporing Iris dataset and we are going to use 2 features \"petal_length\" and \"sepal_length\" for clustering of datapoints.\n",
        "\n",
        "We are going to implement KMeans Clustering algorithm"
      ]
    },
    {
      "cell_type": "markdown",
      "metadata": {
        "id": "U1x3Y37Zqcfg"
      },
      "source": [
        "## Importing Libraries"
      ]
    },
    {
      "cell_type": "code",
      "metadata": {
        "id": "kIEMNSHbU2N_"
      },
      "source": [
        "# importing libraries\n",
        "import pandas as pd\n",
        "import matplotlib.pyplot as plt\n",
        "from sklearn import preprocessing\n",
        "from sklearn.cluster import KMeans"
      ],
      "execution_count": 1,
      "outputs": []
    },
    {
      "cell_type": "markdown",
      "metadata": {
        "id": "Myuw8Htmqhft"
      },
      "source": [
        "## Importing Dataset"
      ]
    },
    {
      "cell_type": "code",
      "metadata": {
        "colab": {
          "base_uri": "https://localhost:8080/",
          "height": 203
        },
        "id": "zNWpK-E54Yk7",
        "outputId": "393587ef-634c-463d-b79b-ad11b84863d8"
      },
      "source": [
        "# importing **cleaned** data\n",
        "df=pd.read_csv(\"iris.csv\")\n",
        "df.head()"
      ],
      "execution_count": 14,
      "outputs": [
        {
          "output_type": "execute_result",
          "data": {
            "text/html": [
              "<div>\n",
              "<style scoped>\n",
              "    .dataframe tbody tr th:only-of-type {\n",
              "        vertical-align: middle;\n",
              "    }\n",
              "\n",
              "    .dataframe tbody tr th {\n",
              "        vertical-align: top;\n",
              "    }\n",
              "\n",
              "    .dataframe thead th {\n",
              "        text-align: right;\n",
              "    }\n",
              "</style>\n",
              "<table border=\"1\" class=\"dataframe\">\n",
              "  <thead>\n",
              "    <tr style=\"text-align: right;\">\n",
              "      <th></th>\n",
              "      <th>sepal_length</th>\n",
              "      <th>sepal_width</th>\n",
              "      <th>petal_length</th>\n",
              "      <th>petal_width</th>\n",
              "      <th>species</th>\n",
              "    </tr>\n",
              "  </thead>\n",
              "  <tbody>\n",
              "    <tr>\n",
              "      <th>0</th>\n",
              "      <td>5.1</td>\n",
              "      <td>3.5</td>\n",
              "      <td>1.4</td>\n",
              "      <td>0.2</td>\n",
              "      <td>setosa</td>\n",
              "    </tr>\n",
              "    <tr>\n",
              "      <th>1</th>\n",
              "      <td>4.9</td>\n",
              "      <td>3.0</td>\n",
              "      <td>1.4</td>\n",
              "      <td>0.2</td>\n",
              "      <td>setosa</td>\n",
              "    </tr>\n",
              "    <tr>\n",
              "      <th>2</th>\n",
              "      <td>4.7</td>\n",
              "      <td>3.2</td>\n",
              "      <td>1.3</td>\n",
              "      <td>0.2</td>\n",
              "      <td>setosa</td>\n",
              "    </tr>\n",
              "    <tr>\n",
              "      <th>3</th>\n",
              "      <td>4.6</td>\n",
              "      <td>3.1</td>\n",
              "      <td>1.5</td>\n",
              "      <td>0.2</td>\n",
              "      <td>setosa</td>\n",
              "    </tr>\n",
              "    <tr>\n",
              "      <th>4</th>\n",
              "      <td>5.0</td>\n",
              "      <td>3.6</td>\n",
              "      <td>1.4</td>\n",
              "      <td>0.2</td>\n",
              "      <td>setosa</td>\n",
              "    </tr>\n",
              "  </tbody>\n",
              "</table>\n",
              "</div>"
            ],
            "text/plain": [
              "   sepal_length  sepal_width  petal_length  petal_width species\n",
              "0           5.1          3.5           1.4          0.2  setosa\n",
              "1           4.9          3.0           1.4          0.2  setosa\n",
              "2           4.7          3.2           1.3          0.2  setosa\n",
              "3           4.6          3.1           1.5          0.2  setosa\n",
              "4           5.0          3.6           1.4          0.2  setosa"
            ]
          },
          "metadata": {},
          "execution_count": 14
        }
      ]
    },
    {
      "cell_type": "markdown",
      "metadata": {
        "id": "Fx5DOtNUqnVD"
      },
      "source": [
        "## Selecting Features"
      ]
    },
    {
      "cell_type": "code",
      "metadata": {
        "id": "6YM7Jf8m4abV"
      },
      "source": [
        "# feature selection\n",
        "df = df[[\"petal_length\", \"sepal_length\"]]"
      ],
      "execution_count": 3,
      "outputs": []
    },
    {
      "cell_type": "markdown",
      "metadata": {
        "id": "kY0x4AQDqrD5"
      },
      "source": [
        "## Without Normalization"
      ]
    },
    {
      "cell_type": "code",
      "metadata": {
        "id": "8NKKzRm_4b6W"
      },
      "source": [
        "# inputs (NOT normalized)\n",
        "X_not_norm = df.values"
      ],
      "execution_count": 4,
      "outputs": []
    },
    {
      "cell_type": "markdown",
      "metadata": {
        "id": "WdbvA7OwqwFg"
      },
      "source": [
        "### Creating Model"
      ]
    },
    {
      "cell_type": "code",
      "metadata": {
        "id": "39b3IhIl4eXj"
      },
      "source": [
        "# instantiate model\n",
        "model = KMeans(n_clusters = 3)"
      ],
      "execution_count": 5,
      "outputs": []
    },
    {
      "cell_type": "markdown",
      "metadata": {
        "id": "zSUYyB2xq1D8"
      },
      "source": [
        "### Predicting Values"
      ]
    },
    {
      "cell_type": "code",
      "metadata": {
        "id": "5Y-UNsMw4gNb"
      },
      "source": [
        "# fit predict\n",
        "y_model = model.fit_predict(X_not_norm)"
      ],
      "execution_count": 6,
      "outputs": []
    },
    {
      "cell_type": "markdown",
      "metadata": {
        "id": "BdD4pfHnq5M3"
      },
      "source": [
        "### Visualizing Clusters"
      ]
    },
    {
      "cell_type": "code",
      "metadata": {
        "colab": {
          "base_uri": "https://localhost:8080/",
          "height": 282
        },
        "id": "0XhqJ6ek4hwi",
        "outputId": "abc2b82a-32aa-492a-8102-3dd126889dbc"
      },
      "source": [
        "# visualizing clusters\n",
        "plt.scatter(X_not_norm[:,0], X_not_norm[:,1], c=model.labels_, cmap='viridis')"
      ],
      "execution_count": 7,
      "outputs": [
        {
          "output_type": "execute_result",
          "data": {
            "text/plain": [
              "<matplotlib.collections.PathCollection at 0x7f1f1271c890>"
            ]
          },
          "metadata": {},
          "execution_count": 7
        },
        {
          "output_type": "display_data",
          "data": {
            "image/png": "[encoded data removed]",
            "text/plain": [
              "<Figure size 432x288 with 1 Axes>"
            ]
          },
          "metadata": {
            "needs_background": "light"
          }
        }
      ]
    },
    {
      "cell_type": "markdown",
      "metadata": {
        "id": "CdMsOi38q9zo"
      },
      "source": [
        "### Counting number of datapoints per clusters"
      ]
    },
    {
      "cell_type": "code",
      "metadata": {
        "colab": {
          "base_uri": "https://localhost:8080/"
        },
        "id": "0WI1ksdt4jNR",
        "outputId": "4ae93cbc-2b17-43f9-81df-b84777442676"
      },
      "source": [
        "# counts per cluster\n",
        "print(\"Value Counts\")\n",
        "print(pd.value_counts(y_model))"
      ],
      "execution_count": 8,
      "outputs": [
        {
          "output_type": "stream",
          "name": "stdout",
          "text": [
            "Value Counts\n",
            "0    58\n",
            "1    51\n",
            "2    41\n",
            "dtype: int64\n"
          ]
        }
      ]
    },
    {
      "cell_type": "markdown",
      "metadata": {
        "id": "8WvlvCQfrEqu"
      },
      "source": [
        "## With Normalization"
      ]
    },
    {
      "cell_type": "code",
      "metadata": {
        "id": "BMZ7YqWa4ouj"
      },
      "source": [
        "# normalizing inputs\n",
        "X_norm = preprocessing.scale(df)"
      ],
      "execution_count": 9,
      "outputs": []
    },
    {
      "cell_type": "markdown",
      "metadata": {
        "id": "TUFYhua4rG6W"
      },
      "source": [
        "### Creating Model"
      ]
    },
    {
      "cell_type": "code",
      "metadata": {
        "id": "M2wW3Zk94qMB"
      },
      "source": [
        "# instantiate model\n",
        "model = KMeans(n_clusters = 3)"
      ],
      "execution_count": 10,
      "outputs": []
    },
    {
      "cell_type": "markdown",
      "metadata": {
        "id": "z1M-r_fHrKcl"
      },
      "source": [
        "### Predicting Values"
      ]
    },
    {
      "cell_type": "code",
      "metadata": {
        "id": "i7ffgGMN4sDU"
      },
      "source": [
        "# fit predict\n",
        "y_model = model.fit_predict(X_norm)"
      ],
      "execution_count": 11,
      "outputs": []
    },
    {
      "cell_type": "markdown",
      "metadata": {
        "id": "o2Hzd1VNrNkU"
      },
      "source": [
        "### Visualizing clusters"
      ]
    },
    {
      "cell_type": "code",
      "metadata": {
        "colab": {
          "base_uri": "https://localhost:8080/",
          "height": 282
        },
        "id": "-kfwXqAp4vmW",
        "outputId": "32bfecfd-0e00-4fae-bcb9-667714e4ff3c"
      },
      "source": [
        "# visualize clusters\n",
        "plt.scatter(X_norm[:,0], X_norm[:,1], c=model.labels_, cmap='viridis')"
      ],
      "execution_count": 13,
      "outputs": [
        {
          "output_type": "execute_result",
          "data": {
            "text/plain": [
              "<matplotlib.collections.PathCollection at 0x7f1f121dba10>"
            ]
          },
          "metadata": {},
          "execution_count": 13
        },
        {
          "output_type": "display_data",
          "data": {
            "image/png": "[encoded data removed]",
            "text/plain": [
              "<Figure size 432x288 with 1 Axes>"
            ]
          },
          "metadata": {
            "needs_background": "light"
          }
        }
      ]
    },
    {
      "cell_type": "markdown",
      "metadata": {
        "id": "WU0Rcoa0rQgR"
      },
      "source": [
        "### Counting number of datapoints per cluster"
      ]
    },
    {
      "cell_type": "code",
      "metadata": {
        "colab": {
          "base_uri": "https://localhost:8080/"
        },
        "id": "EHbCqGb-4t27",
        "outputId": "5316e63b-81fc-40cf-a33e-3aeed7f0e368"
      },
      "source": [
        "print(\"Value Counts\")\n",
        "print(pd.value_counts(y_model))"
      ],
      "execution_count": 12,
      "outputs": [
        {
          "output_type": "stream",
          "name": "stdout",
          "text": [
            "Value Counts\n",
            "0    54\n",
            "2    53\n",
            "1    43\n",
            "dtype: int64\n"
          ]
        }
      ]
    },
    {
      "cell_type": "markdown",
      "metadata": {
        "id": "2XgyylKDrhxl"
      },
      "source": [
        "## **Conclusion :**\n",
        "In the following are the outputs before and after the normalization of data. First, if you compare the value counts there are some changes.<br>\n",
        "If you closely examine the data points in the left and the right figures you might be able to see which data points shifted from pre-normalized to post-normalized model. These changes are often at the boundaries rather than at either end of the spectrum in the distribution"
      ]
    }
  ]
}