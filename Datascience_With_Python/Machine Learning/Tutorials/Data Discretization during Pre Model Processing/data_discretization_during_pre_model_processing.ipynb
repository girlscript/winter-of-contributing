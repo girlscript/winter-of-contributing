{
  "nbformat": 4,
  "nbformat_minor": 0,
  "metadata": {
    "colab": {
      "name": "data_discretization_during_pre_model_processing.ipynb",
      "provenance": [],
      "collapsed_sections": []
    },
    "kernelspec": {
      "name": "python3",
      "display_name": "Python 3"
    },
    "language_info": {
      "name": "python"
    }
  },
  "cells": [
    {
      "cell_type": "markdown",
      "metadata": {
        "id": "5arF19bER4ow"
      },
      "source": [
        "## Data Discretization during Pre Model Processing"
      ]
    },
    {
      "cell_type": "markdown",
      "metadata": {
        "id": "9dLjdilVR9qy"
      },
      "source": [
        "Data discretization is defined as a process of converting continuous data attribute values into a finite set of intervals with minimal loss of information. It is a form of data reduction technique as the raw data are replaced by a smaller number of interval or concept labels.\n"
      ]
    },
    {
      "cell_type": "markdown",
      "metadata": {
        "id": "xgnKZrEGSHg4"
      },
      "source": [
        "STEP 1: Importing the necessary libraries.\n",
        "\n",
        "a) NumPy: A library consisting of multidimensional array objects and a collection of routines for processing those arrays.   \n",
        "b) Matplotlib: A plotting library in Python and is used to plot graphs.  \n",
        "c) sklearn.preprocessing import KBinsDiscretizer : Bin continuous data into intervals."
      ]
    },
    {
      "cell_type": "code",
      "metadata": {
        "id": "WZ_sC041RjDL"
      },
      "source": [
        "from numpy.random import randn\n",
        "import matplotlib.pyplot as plt\n",
        "from sklearn.preprocessing import KBinsDiscretizer"
      ],
      "execution_count": 1,
      "outputs": []
    },
    {
      "cell_type": "markdown",
      "metadata": {
        "id": "9Py9Et69Tzm7"
      },
      "source": [
        "STEP 2: Preparing and visualizing data\n",
        "\n",
        "Generating random 1000 values data and reshaping it with numpy. Then plotting it with matplotlib library using hist."
      ]
    },
    {
      "cell_type": "code",
      "metadata": {
        "colab": {
          "base_uri": "https://localhost:8080/",
          "height": 433
        },
        "id": "Y3f5ZPu5Taoy",
        "outputId": "e6bdba7e-96f2-40a8-f840-f6195bb2a374"
      },
      "source": [
        "data = randn(1000)\n",
        "data = data.reshape((len(data),1))\n",
        "print(data[:10,:])\n",
        "plt.hist(data, bins=25)\n",
        "plt.show()"
      ],
      "execution_count": 6,
      "outputs": [
        {
          "output_type": "stream",
          "name": "stdout",
          "text": [
            "[[-0.51209729]\n",
            " [ 0.40005166]\n",
            " [ 0.52033032]\n",
            " [-0.13614544]\n",
            " [ 2.62974913]\n",
            " [-0.51449185]\n",
            " [ 0.61314097]\n",
            " [-0.55710851]\n",
            " [ 0.26650504]\n",
            " [ 0.26800572]]\n"
          ]
        },
        {
          "output_type": "display_data",
          "data": {
            "image/png": "[encoded data removed]",
            "text/plain": [
              "<Figure size 432x288 with 1 Axes>"
            ]
          },
          "metadata": {
            "needs_background": "light"
          }
        }
      ]
    },
    {
      "cell_type": "markdown",
      "metadata": {
        "id": "2Q45hNDqSHnJ"
      },
      "source": [
        "STEP 3: Discretizating data\n",
        "\n",
        "Discretizating data with the help of KBinsDiscretizer function from sklearn.preprocessing.\n",
        "\n",
        "Official documentation : https://scikit-learn.org/stable/modules/generated/sklearn.preprocessing.KBinsDiscretizer.html\n",
        "\n",
        "Parameters :-\n",
        "- n_bins : The number of bins to produce. default = 5\n",
        "- strategy : Strategy used to define the widths of the bins. Can take values 'uniform', 'quantile', 'kmeans' with default value = 'quantile'\n",
        "  - uniform : All bins have identical widths.\n",
        "  - quantile : All bins have the same number of points.\n",
        "  - kmeans : same cluster points are in same bin\n",
        "- encode : Method used to encode the transformed result. Can take values 'onehot', 'onehot-dense', 'ordinal' with default value 'onehot'\n",
        "  - onehot : uses one-hot encoding and return a sparse matrix\n",
        "  - onehot-dense : uses one-hot encoding and return a dense array\n",
        "  - ordinal : Return the bin identifier encoded as an integer value.\n"
      ]
    },
    {
      "cell_type": "code",
      "metadata": {
        "id": "zM_UzLxzU7d5"
      },
      "source": [
        "kbins = KBinsDiscretizer(n_bins=10, encode='ordinal', strategy='uniform')\n",
        "data_trans = kbins.fit_transform(data)"
      ],
      "execution_count": 7,
      "outputs": []
    },
    {
      "cell_type": "markdown",
      "metadata": {
        "id": "eyQcQahuWCEb"
      },
      "source": [
        "STEP 4: Seeing the results of discretization"
      ]
    },
    {
      "cell_type": "code",
      "metadata": {
        "colab": {
          "base_uri": "https://localhost:8080/",
          "height": 433
        },
        "id": "GDFitcd0V6_X",
        "outputId": "b8ab7283-4cb5-4f20-cd90-4c1f490d400c"
      },
      "source": [
        "print(data_trans[:10, :])\n",
        "plt.hist(data_trans, bins=10)\n",
        "plt.show()"
      ],
      "execution_count": 12,
      "outputs": [
        {
          "output_type": "stream",
          "name": "stdout",
          "text": [
            "[[4.]\n",
            " [6.]\n",
            " [6.]\n",
            " [5.]\n",
            " [9.]\n",
            " [4.]\n",
            " [6.]\n",
            " [4.]\n",
            " [6.]\n",
            " [6.]]\n"
          ]
        },
        {
          "output_type": "display_data",
          "data": {
            "image/png": "[encoded data removed]",
            "text/plain": [
              "<Figure size 432x288 with 1 Axes>"
            ]
          },
          "metadata": {
            "needs_background": "light"
          }
        }
      ]
    },
    {
      "cell_type": "markdown",
      "metadata": {
        "id": "XnuYinY5auHa"
      },
      "source": [
        "Hence we discretized data with the help of sklearn library's KBinsDiscretizer function into bins during pre model processing."
      ]
    }
  ]
}