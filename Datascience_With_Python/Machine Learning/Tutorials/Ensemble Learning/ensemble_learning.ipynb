{
  "nbformat": 4,
  "nbformat_minor": 0,
  "metadata": {
    "colab": {
      "name": "ensemble_learning.ipynb",
      "provenance": [],
      "collapsed_sections": []
    },
    "kernelspec": {
      "name": "python3",
      "display_name": "Python 3"
    },
    "language_info": {
      "name": "python"
    }
  },
  "cells": [
    {
      "cell_type": "markdown",
      "metadata": {
        "id": "F1RwkKnJcf8A"
      },
      "source": [
        "# **ENSEMBLE LEARNING**\n",
        "\n"
      ]
    },
    {
      "cell_type": "markdown",
      "metadata": {
        "id": "B-0oY-ThnHrw"
      },
      "source": [
        "Suppose you give an expert a complex problem to solve and he even solves it and gets close to the right answer. And then you give the same problem to hundred people and aggregate their reults. In many cases, you will find that the aggregate of the hundred people's results was better than the result of the expert. This is known as **Wisdom Of Crowd** ."
      ]
    },
    {
      "cell_type": "markdown",
      "metadata": {
        "id": "sW8WaiVIdTMF"
      },
      "source": [
        "Similarly in Machine learning, if we aggregate the predictions of several predictors then we can get a robust model with better predictions than we can get using a single best predictor. This is known as **Ensemble Learning**. \n",
        "\n",
        "* Ensemble learning is the art of combining diverse set of models together to improvise on the stability and predictive power of the final model.\n",
        "\n",
        "* The group of the predictors is called *Ensemble* and the ensemble learning algorithm is called *Ensemble method*.\n",
        "\n",
        "* Ensemble methods work best when all predictors are independent of one another. Ensemble's accuracy can be enhanced in following ways :\n",
        "  * One way to get diverse predictors is to train them using different algorithms. This way they will produce different types of errors and hence improving ensemble's accuracy.\n",
        "  * Another way of improving the ensemble's accuracy is by using the same training algorithm for every predictor and training them on different subsets of training set.\n"
      ]
    },
    {
      "cell_type": "markdown",
      "metadata": {
        "id": "gjJcWl521rXb"
      },
      "source": [
        "## **Voting Classifier**\n",
        "* **Hard Voting Classifier** : Suppose we have trained a Logistic Regression classifier, an SVM classfier, a Random Forest classifier, a K-Nearest Neighbors. One way to create a better classifier out of these is to aggregate the predictions of the above trained classifiers and predict the class that gets the most votes. This is known as **Hard Voting Classifier**.\n",
        "\n",
        "* **Soft Voting Classifier** : If all the classifiers are able to estimate the probabilities (i.e. they all have *predict_proba()* method) then we can tell Scikit-Learn to predict the class with the highest class probability, averaged over all the individual classifiers. This is known as **Soft Voting Classifier**."
      ]
    },
    {
      "cell_type": "markdown",
      "metadata": {
        "id": "vP4-HUWdg_lw"
      },
      "source": [
        "**The following code creates a moon dataset and creates a voting classifier of 3 different classifiers and trains the voting classifier on the moon training set.**"
      ]
    },
    {
      "cell_type": "code",
      "metadata": {
        "id": "3HaGti234aUq",
        "colab": {
          "base_uri": "https://localhost:8080/"
        },
        "outputId": "c88ae41c-897b-4c4f-9e9f-1f91ac1d5aed"
      },
      "source": [
        "from sklearn.datasets import make_moons\n",
        "from sklearn.model_selection import train_test_split\n",
        "from sklearn.ensemble import RandomForestClassifier\n",
        "from sklearn.ensemble import VotingClassifier\n",
        "from sklearn.linear_model import LogisticRegression\n",
        "from sklearn.svm import SVC\n",
        "from sklearn.metrics import accuracy_score\n",
        "import pandas as pd\n",
        "log_clf = LogisticRegression(solver=\"lbfgs\", random_state=42)\n",
        "rnd_clf = RandomForestClassifier(n_estimators=100, random_state=42)\n",
        "svm_clf = SVC(gamma=\"scale\", random_state=42)\n",
        "X,Y = make_moons(n_samples=1000, noise=0.15)\n",
        "\n",
        "X_df = pd.DataFrame(X, columns = [\" Feature 1\", \" Feature 2\"])\n",
        "Y_df = pd.DataFrame(Y, columns = [\"Label\"])\n",
        "\n",
        "X_train, X_test, Y_train, Y_test = train_test_split(X_df, Y_df, test_size=0.2)\n",
        "\n",
        "voting_clf = VotingClassifier(\n",
        "    estimators = [ ('lr',log_clf), ('rf',rnd_clf), ('svc',svm_clf) ],\n",
        "    voting = 'hard')          # voting = 'soft', for Soft Voting Classifier\n",
        "voting_clf.fit(X_train,Y_train)\n",
        "voting_clf_pred = voting_clf.predict(X_test)\n",
        "print(\"Accuracy: \", accuracy_score(Y_test, voting_clf_pred))\n"
      ],
      "execution_count": null,
      "outputs": [
        {
          "output_type": "stream",
          "name": "stderr",
          "text": [
            "/usr/local/lib/python3.7/dist-packages/sklearn/preprocessing/_label.py:235: DataConversionWarning: A column-vector y was passed when a 1d array was expected. Please change the shape of y to (n_samples, ), for example using ravel().\n",
            "  y = column_or_1d(y, warn=True)\n",
            "/usr/local/lib/python3.7/dist-packages/sklearn/preprocessing/_label.py:268: DataConversionWarning: A column-vector y was passed when a 1d array was expected. Please change the shape of y to (n_samples, ), for example using ravel().\n",
            "  y = column_or_1d(y, warn=True)\n"
          ]
        },
        {
          "output_type": "stream",
          "name": "stdout",
          "text": [
            "Accuracy:  0.99\n"
          ]
        }
      ]
    },
    {
      "cell_type": "markdown",
      "metadata": {
        "id": "zwCeuR-A_amY"
      },
      "source": [
        "**Bootstrapping** : In statistics, bootstrapping refers to a resample method that consists of repeatedly drawn, with replacement, samples from data to form other smaller datasets, called bootstrapping samples."
      ]
    },
    {
      "cell_type": "markdown",
      "metadata": {
        "id": "-VUUbtwDBDcK"
      },
      "source": [
        "## **Standard Ensemble Methods** "
      ]
    },
    {
      "cell_type": "markdown",
      "metadata": {
        "id": "ewUZq8Ec-Hyj"
      },
      "source": [
        "* **Boosting** : In Boosting the models are fit and added to the ensemble sequentially such that the second model attempts to correct the predictions of the first model, the third corrects the second model, and so on. The learning algorithm is modified to pay more or less attention to specific examples (rows of data) based on whether they have been predicted correctly or incorrectly by previously added ensemble members. \n",
        "\n",
        "\n",
        "\n",
        "\n",
        "* **Bagging** : Bagging means bootstrap+aggregating and it is a ensemble method in which we first bootstrap our data with replacement and for each bootstrap sample we train one model. After that, we aggregate them with equal weights. It is also known as *Bootstrap aggregating.*\n",
        "\n",
        "* **Pasting** : Pasting is same as that bagging. But here the sampling is done without replacement. \n",
        "\n",
        "**Note** : Only Bagging allows training instances to be sampled several times for the same predictor.\n",
        "\n",
        "![image.png](https://editor.analyticsvidhya.com/uploads/6690812.png)"
      ]
    },
    {
      "cell_type": "markdown",
      "metadata": {
        "id": "5p42Qi25VMgl"
      },
      "source": [
        "**The following code trains an ensemble of 100 Decision Tree Classifiers and each is trained on 100 training samples with replacement, hence Bagging.**"
      ]
    },
    {
      "cell_type": "code",
      "metadata": {
        "id": "_xt_uyScBFIb",
        "colab": {
          "base_uri": "https://localhost:8080/"
        },
        "outputId": "d27449e4-8122-43c3-8b30-4f9dc53f9e61"
      },
      "source": [
        "from sklearn.ensemble import BaggingClassifier\n",
        "from sklearn.tree import DecisionTreeClassifier\n",
        "\n",
        "bag_clf = BaggingClassifier(\n",
        "    DecisionTreeClassifier(), n_estimators=500,\n",
        "    max_samples=100, bootstrap=True, random_state=42)  #For Pasting:(bootstrap=False) \n",
        "bag_clf.fit(X_train, Y_train)\n",
        "bag_clf_pred = bag_clf.predict(X_test)\n",
        "print(\"Accuracy: \", accuracy_score(Y_test, bag_clf_pred))"
      ],
      "execution_count": null,
      "outputs": [
        {
          "output_type": "stream",
          "name": "stderr",
          "text": [
            "/usr/local/lib/python3.7/dist-packages/sklearn/ensemble/_bagging.py:645: DataConversionWarning: A column-vector y was passed when a 1d array was expected. Please change the shape of y to (n_samples, ), for example using ravel().\n",
            "  y = column_or_1d(y, warn=True)\n"
          ]
        },
        {
          "output_type": "stream",
          "name": "stdout",
          "text": [
            "Accuracy:  0.985\n"
          ]
        }
      ]
    },
    {
      "cell_type": "markdown",
      "metadata": {
        "id": "tHFimDItjoVN"
      },
      "source": [
        "* **Stacking** : Stacking is a general procedure where a predictor is trained to combine the individual predictors. Here, the individual predictors are called the first-level predictors, while the combiner is called the second-level predictor, or meta-predictor.\n",
        "![Image.png](https://media.geeksforgeeks.org/wp-content/uploads/20190515104518/stacking.png)\n"
      ]
    },
    {
      "cell_type": "markdown",
      "metadata": {
        "id": "jelVfq-jKhKK"
      },
      "source": [
        "# **Random Forest** \n",
        "\n"
      ]
    },
    {
      "cell_type": "markdown",
      "metadata": {
        "id": "G3vzh2hoKhTV"
      },
      "source": [
        "* A random forest is an ensemble of decision trees generally trained via the bagging method that can be used for classification or regression. In most cases, it is used bagging. Each tree in the forest outputs a prediction and the most voted becomes the output of the model. This is helpful to make the model with more accuracy and stable, preventing overfitting.\n",
        "\n",
        "* The Random Forest algorithm introduces extra randomness when growing trees; instead of searching for the very best feature when splitting a node, it searches for the best feature among a random subset of features. The algorithm resuls in greater tree diversity, which trades a higher bias for a lower variance, generally yielding an overall better model\n",
        "\n",
        "![Image.jpg](https://1.cms.s81c.com/sites/default/files/2020-12-07/Random%20Forest%20Diagram.jpg)"
      ]
    },
    {
      "cell_type": "code",
      "metadata": {
        "id": "cf0Sr3yuWJRj"
      },
      "source": [
        "#Importing MNIST Dataset for Random Forest Classifier\n",
        "\n",
        "from sklearn.datasets import fetch_openml\n",
        "mnist = fetch_openml('mnist_784', version=1)\n",
        "X, Y = mnist[\"data\"], mnist[\"target\"]\n",
        "X_train, X_test, Y_train, Y_test = X[:60000], X[60000:], Y[:60000], Y[60000:]"
      ],
      "execution_count": null,
      "outputs": []
    },
    {
      "cell_type": "code",
      "metadata": {
        "colab": {
          "base_uri": "https://localhost:8080/"
        },
        "id": "vviJ244XWJZj",
        "outputId": "0956eb33-22de-48b4-cfcf-c72d63ee08b4"
      },
      "source": [
        "from sklearn.ensemble import RandomForestClassifier\n",
        "rnd_clf = RandomForestClassifier(n_estimators=500, random_state=42)\n",
        "rnd_clf.fit(X_train[:10000], Y_train[:10000])\n",
        "rnd_clf_pred = rnd_clf.predict(X_test)\n",
        "print(\"Accuracy: \", accuracy_score(Y_test, rnd_clf_pred))"
      ],
      "execution_count": null,
      "outputs": [
        {
          "output_type": "stream",
          "name": "stdout",
          "text": [
            "Accuracy:  0.953\n"
          ]
        }
      ]
    },
    {
      "cell_type": "markdown",
      "metadata": {
        "id": "bFnX1CYaPi2D"
      },
      "source": [
        "# **Conclusion**\n",
        "\n",
        "* The goal of any machine learning problem is to find a single model that will best fit to our training dataset and make best future predictions. Rather than making one model and hoping this model is the best/most accurate predictor we can make, ensemble methods take a myriad of models into account, and average those models to produce one final model. \n",
        "\n",
        "* Above, we discussed in detail about Ensemble Learning and also discussed various ensemble strategies and used *Moon Dataset* as our training dataset for our models.\n",
        "\n",
        "* While ensemble learning is a very powerful tool, it also has some tradeoffs.\n",
        "Using ensemble means you must spend more time and resources on training your machine learning models. For instance, a random forest with 500 trees provides much better results than a single decision tree, but it also takes much more time to train. Running ensemble models can also become problematic if the algorithms you use require a lot of memory."
      ]
    }
  ]
}