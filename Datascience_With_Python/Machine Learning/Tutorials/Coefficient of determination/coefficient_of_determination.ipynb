{
 "cells": [
  {
   "cell_type": "markdown",
   "id": "4a9d129e",
   "metadata": {},
   "source": [
    "# Coefficient of determination:\n",
    "* The coefficient of determination is R^2 or r-squared.\n",
    "* It is the statistical measure in a regression model.\n",
    "* It helps in determining the proportion of variance in the dependent variable that is explained by the independent variable.\n",
    "* It tells how well the data fits the model in other words, it tells the goodness of fit."
   ]
  },
  {
   "cell_type": "markdown",
   "id": "8822ba2c",
   "metadata": {},
   "source": [
    "# Importing libraries"
   ]
  },
  {
   "cell_type": "code",
   "execution_count": 7,
   "id": "31fec2ed",
   "metadata": {},
   "outputs": [],
   "source": [
    "from sklearn import datasets\n",
    "from sklearn.model_selection import train_test_split\n",
    "import numpy as np\n",
    "from sklearn.metrics import r2_score\n",
    "from sklearn.linear_model import LogisticRegression"
   ]
  },
  {
   "cell_type": "markdown",
   "id": "a6909782",
   "metadata": {},
   "source": [
    "Loading the iris dataset"
   ]
  },
  {
   "cell_type": "code",
   "execution_count": 2,
   "id": "b804988a",
   "metadata": {},
   "outputs": [],
   "source": [
    "iris = datasets.load_iris()"
   ]
  },
  {
   "cell_type": "markdown",
   "id": "0f853d09",
   "metadata": {},
   "source": [
    "Splitting the dataset to train and test data."
   ]
  },
  {
   "cell_type": "code",
   "execution_count": 10,
   "id": "ce1c6f5a",
   "metadata": {},
   "outputs": [],
   "source": [
    "X_train, X_test, y_train, y_test = train_test_split(iris.data, iris.target, random_state = 42, test_size = 0.2)"
   ]
  },
  {
   "cell_type": "markdown",
   "id": "5a5437d9",
   "metadata": {},
   "source": [
    "Training the data with logistic regression"
   ]
  },
  {
   "cell_type": "code",
   "execution_count": 8,
   "id": "940ebb79",
   "metadata": {},
   "outputs": [],
   "source": [
    "model=LogisticRegression()"
   ]
  },
  {
   "cell_type": "code",
   "execution_count": 12,
   "id": "ab9c74fc",
   "metadata": {},
   "outputs": [
    {
     "data": {
      "text/plain": [
       "LogisticRegression()"
      ]
     },
     "execution_count": 12,
     "metadata": {},
     "output_type": "execute_result"
    }
   ],
   "source": [
    "model.fit(X_train,y_train)"
   ]
  },
  {
   "cell_type": "markdown",
   "id": "c482965e",
   "metadata": {},
   "source": [
    "model evaluation"
   ]
  },
  {
   "cell_type": "code",
   "execution_count": 15,
   "id": "135384f5",
   "metadata": {},
   "outputs": [
    {
     "name": "stdout",
     "output_type": "stream",
     "text": [
      "r2 score for perfect model is 96.33997559983733\n"
     ]
    }
   ],
   "source": [
    "x_train_prediction =model.predict(X_train)\n",
    "r2 = r2_score(x_train_prediction, y_train)\n",
    "print('r2 score for perfect model is', (r2)*100)"
   ]
  },
  {
   "cell_type": "markdown",
   "id": "a3663b46",
   "metadata": {},
   "source": [
    "# Coclusion:\n",
    "\n",
    "Here, the value of r2 is 96% and the value is > 85%.\n",
    "We can conclude by saying, logistic regression is the good fit for the model."
   ]
  }
 ],
 "metadata": {
  "kernelspec": {
   "display_name": "Python 3",
   "language": "python",
   "name": "python3"
  },
  "language_info": {
   "codemirror_mode": {
    "name": "ipython",
    "version": 3
   },
   "file_extension": ".py",
   "mimetype": "text/x-python",
   "name": "python",
   "nbconvert_exporter": "python",
   "pygments_lexer": "ipython3",
   "version": "3.8.8"
  }
 },
 "nbformat": 4,
 "nbformat_minor": 5
}
