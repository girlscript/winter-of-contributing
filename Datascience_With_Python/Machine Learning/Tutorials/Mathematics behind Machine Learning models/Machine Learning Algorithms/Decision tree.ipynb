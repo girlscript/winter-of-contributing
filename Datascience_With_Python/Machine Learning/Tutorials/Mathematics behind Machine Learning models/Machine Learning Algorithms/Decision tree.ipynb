{
 "cells": [
  {
   "cell_type": "code",
   "execution_count": 1,
   "metadata": {
    "colab": {},
    "colab_type": "code",
    "id": "iQSXkG19wJeQ"
   },
   "outputs": [],
   "source": [
    "import pandas as pd\n",
    "import numpy as np\n",
    "from pprint import pprint"
   ]
  },
  {
   "cell_type": "code",
   "execution_count": 2,
   "metadata": {
    "colab": {
     "base_uri": "https://localhost:8080/",
     "height": 154
    },
    "colab_type": "code",
    "id": "gjiyYGdRw3JJ",
    "outputId": "e1fd90ef-673c-4d8c-95f7-4d0a08920b5a"
   },
   "outputs": [
    {
     "name": "stdout",
     "output_type": "stream",
     "text": [
      "{'legs': {'0': {'fins': {'0': {'toothed': {'0': '7', '1': '3'}},\n",
      "                         '1': {'eggs': {'0': '1', '1': '4'}}}},\n",
      "          '2': {'hair': {'0': '2', '1': '1'}},\n",
      "          '4': {'hair': {'0': {'toothed': {'0': '7', '1': '5'}}, '1': '1'}},\n",
      "          '6': {'aquatic': {'0': '6', '1': '7'}},\n",
      "          '8': '7',\n",
      "          'legs': 'class_type'}}\n",
      "The Prediction accuracy is: 86.36363636363636 %\n"
     ]
    }
   ],
   "source": [
    "#import the dataset\n",
    "dataset = pd.read_csv(\"https://raw.githubusercontent.com/ishreyakumari/winter-of-contributing/Datascience_With_Python/Datascience_With_Python/DS%20Datasets/Machine%20Learning/zoo.csv\",names=['animal_name','hair','feathers','eggs',\n",
    "                                      'milk','airborne','aquatic','predator','toothed',\n",
    "                                       'backbone','breathes','venomous',\n",
    "                                       'fins','legs','tail',\n",
    "                                       'domestic','catsize','class_type'])\n",
    "#we drop this feature,since this is not good feature to split the data\n",
    "dataset = dataset.drop('animal_name',axis=1)\n",
    "\n",
    "###defining entropy\n",
    "def entropy(target_col):\n",
    "    elements,counts = np.unique(target_col,return_counts=True)\n",
    "    entropy = np.sum([(-counts[i]/np.sum(counts))*np.log2(counts[i]/np.sum(counts)) for i in range(len(elements))])\n",
    "    return entropy\n",
    "  \n",
    "##Info Gain\n",
    "\n",
    "def InfoGain(data,split_attribute_name,target_name=\"class_type\"):\n",
    "    total_entropy = entropy(data[target_name])\n",
    "    vals,counts = np.unique(data[split_attribute_name],return_counts=True)\n",
    "    #cal the weighted entropy\n",
    "    Weighted_Entropy = np.sum([(counts[i]/np.sum(counts))*entropy(data.where(data[split_attribute_name]==vals[i]).\n",
    "                                dropna()[target_name])for i in range(len(vals))])\n",
    "    \n",
    "    #formula for information gain\n",
    "    Information_Gain = total_entropy-Weighted_Entropy\n",
    "    return Information_Gain\n",
    "\n",
    "def ID3(data,originaldata,features,target_attribute_name=\"class_type\",\n",
    "        parent_node_class=None):\n",
    "    #If all target_values have the same value,return this value\n",
    "    if len(np.unique(data[target_attribute_name])) <= 1:\n",
    "        return np.unique(data[target_attribute_name])[0]\n",
    "    \n",
    "    #if the dataset is empty\n",
    "    elif len(data) == 0:\n",
    "        return np.unique(originaldata[target_attribute_name])[np.argmax(np.unique(originaldata[target_attribute_name],\n",
    "                                                                           return_counts=True)[1])]\n",
    "    \n",
    "    #If the feature space is empty\n",
    "    elif len(features) == 0:\n",
    "        return parent_node_class \n",
    "\n",
    "    #If none of the above condition holds true grow the tree\n",
    "\n",
    "    else:\n",
    "        parent_node_class = np.unique(data[target_attribute_name])[np.argmax(np.unique(data[target_attribute_name],\n",
    "                                                                           return_counts=True)[1])]\n",
    "\n",
    "    #Select the feature which best splits the dataset\n",
    "    item_values = [InfoGain(data,feature,target_attribute_name)for feature in features] #Return the infgain values\n",
    "    best_feature_index = np.argmax(item_values)\n",
    "    best_feature = features[best_feature_index]\n",
    "\n",
    "    #Create the tree structure\n",
    "    tree = {best_feature:{}}\n",
    "\n",
    "    #Remve the feature with the best info gain\n",
    "    features = [i for i in features if i!= best_feature]\n",
    "\n",
    "    #Grow the tree branch under the root node\n",
    "\n",
    "    for value in np.unique(data[best_feature]):\n",
    "        value = value\n",
    "        sub_data = data.where(data[best_feature]==value).dropna()\n",
    "        #call the ID3 algotirthm\n",
    "        subtree = ID3(sub_data,dataset,features,target_attribute_name,parent_node_class)\n",
    "        #Add the subtree\n",
    "        tree[best_feature][value] = subtree\n",
    "    return(tree)\n",
    "\n",
    "#Predict\n",
    "def predict(query,tree,default=1):\n",
    "    for key in list(query.keys()):\n",
    "        if key in list(tree.keys()):\n",
    "            try:\n",
    "               result = tree[key][query[key]]\n",
    "            except:\n",
    "               return default\n",
    "\n",
    "            result = tree[key][query[key]]\n",
    "            if isinstance(result,dict):\n",
    "                return predict(query,result)\n",
    "            else:\n",
    "                return result\n",
    "##check the accuracy\n",
    "\n",
    "def train_test_split(dataset):\n",
    "    training_data = dataset.iloc[:80].reset_index(drop=True)\n",
    "    testing_data = dataset.iloc[80:].reset_index(drop=True)\n",
    "    return training_data,testing_data\n",
    "training_data = train_test_split(dataset)[0]\n",
    "testing_data = train_test_split(dataset)[1]\n",
    "\n",
    "def test(data,tree):\n",
    "   queries = data.iloc[:,:-1].to_dict(orient=\"records\")\n",
    "   predicted = pd.DataFrame(columns=[\"predicted\"])\n",
    "\n",
    "   #calculation of accuracy\n",
    "\n",
    "   for i in range(len(data)):\n",
    "       predicted.loc[i,\"predicted\"] = predict(queries[i],tree,1.0)\n",
    "   print(\"The Prediction accuracy is:\",(np.sum(predicted[\"predicted\"]==data[\"class_type\"])/len(data))*100,'%')\n",
    "  \n",
    "#Train the tree,print the tree abnd predict the accuracy\n",
    "tree = ID3(training_data,training_data,training_data.columns[:-1])\n",
    "pprint(tree)\n",
    "test(testing_data,tree)"
   ]
  },
  {
   "cell_type": "code",
   "execution_count": 3,
   "metadata": {
    "colab": {
     "base_uri": "https://localhost:8080/",
     "height": 34
    },
    "colab_type": "code",
    "id": "n9i5p2zi87Bx",
    "outputId": "27544510-200f-4dcb-f75e-77591b985fe0"
   },
   "outputs": [
    {
     "name": "stdout",
     "output_type": "stream",
     "text": [
      "0.9523809523809523\n"
     ]
    }
   ],
   "source": [
    "from sklearn.tree import DecisionTreeClassifier\n",
    "from sklearn.metrics import accuracy_score\n",
    "animal = pd.read_csv(\"zoo.csv\")\n",
    "from sklearn.model_selection import train_test_split\n",
    "X = animal.iloc[:,1:17]\n",
    "y = animal.iloc[:,17]\n",
    "X_train,X_test,y_train,y_test = train_test_split(X,y,test_size=0.2,random_state=1)\n",
    "clf = DecisionTreeClassifier(criterion='entropy',random_state=1)\n",
    "clf.fit(X_train,y_train)\n",
    "y_pred = clf.predict(X_test)\n",
    "score=accuracy_score(y_pred,y_test)\n",
    "print(score)"
   ]
  },
  {
   "cell_type": "markdown",
   "metadata": {},
   "source": [
    "95% accuracy"
   ]
  },
  {
   "cell_type": "code",
   "execution_count": null,
   "metadata": {},
   "outputs": [],
   "source": []
  }
 ],
 "metadata": {
  "colab": {
   "name": "Dtree.ipynb",
   "provenance": []
  },
  "kernelspec": {
   "display_name": "Python 3",
   "language": "python",
   "name": "python3"
  },
  "language_info": {
   "codemirror_mode": {
    "name": "ipython",
    "version": 3
   },
   "file_extension": ".py",
   "mimetype": "text/x-python",
   "name": "python",
   "nbconvert_exporter": "python",
   "pygments_lexer": "ipython3",
   "version": "3.8.3"
  }
 },
 "nbformat": 4,
 "nbformat_minor": 1
}
