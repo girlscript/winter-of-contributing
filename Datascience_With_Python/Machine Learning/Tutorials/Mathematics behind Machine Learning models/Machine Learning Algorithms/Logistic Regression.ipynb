{
 "cells": [
  {
   "cell_type": "markdown",
   "metadata": {},
   "source": [
    "# Import libraries"
   ]
  },
  {
   "cell_type": "code",
   "execution_count": 2,
   "metadata": {},
   "outputs": [],
   "source": [
    "import numpy as np\n",
    "import pandas as pd\n",
    "import matplotlib.pyplot as plt"
   ]
  },
  {
   "cell_type": "markdown",
   "metadata": {},
   "source": [
    "# Loading Dataset - Titanic"
   ]
  },
  {
   "cell_type": "code",
   "execution_count": 6,
   "metadata": {},
   "outputs": [],
   "source": [
    "X_train = pd.read_csv(\"https://raw.githubusercontent.com/ishreyakumari/winter-of-contributing/Datascience_With_Python/Datascience_With_Python/DS%20Datasets/Machine%20Learning/train_math_Y.csv\")\n",
    "Y_train = pd.read_csv(\"https://raw.githubusercontent.com/ishreyakumari/winter-of-contributing/Datascience_With_Python/Datascience_With_Python/DS%20Datasets/Machine%20Learning/train_math_Y.csv\")\n",
    "X_test = pd.read_csv(\"https://raw.githubusercontent.com/ishreyakumari/winter-of-contributing/Datascience_With_Python/Datascience_With_Python/DS%20Datasets/Machine%20Learning/test_math_X.csv\")\n",
    "Y_test = pd.read_csv(\"https://raw.githubusercontent.com/ishreyakumari/winter-of-contributing/Datascience_With_Python/Datascience_With_Python/DS%20Datasets/Machine%20Learning/test_math_Y.csv\")"
   ]
  },
  {
   "cell_type": "code",
   "execution_count": 4,
   "metadata": {},
   "outputs": [
    {
     "data": {
      "text/html": [
       "<div>\n",
       "<style scoped>\n",
       "    .dataframe tbody tr th:only-of-type {\n",
       "        vertical-align: middle;\n",
       "    }\n",
       "\n",
       "    .dataframe tbody tr th {\n",
       "        vertical-align: top;\n",
       "    }\n",
       "\n",
       "    .dataframe thead th {\n",
       "        text-align: right;\n",
       "    }\n",
       "</style>\n",
       "<table border=\"1\" class=\"dataframe\">\n",
       "  <thead>\n",
       "    <tr style=\"text-align: right;\">\n",
       "      <th></th>\n",
       "      <th>Id</th>\n",
       "      <th>Pclass</th>\n",
       "      <th>Sex</th>\n",
       "      <th>Age</th>\n",
       "      <th>SibSp</th>\n",
       "      <th>Parch</th>\n",
       "      <th>Fare</th>\n",
       "      <th>Embarked</th>\n",
       "    </tr>\n",
       "  </thead>\n",
       "  <tbody>\n",
       "    <tr>\n",
       "      <th>0</th>\n",
       "      <td>0</td>\n",
       "      <td>3</td>\n",
       "      <td>0</td>\n",
       "      <td>22.0</td>\n",
       "      <td>1</td>\n",
       "      <td>0</td>\n",
       "      <td>7.2500</td>\n",
       "      <td>1</td>\n",
       "    </tr>\n",
       "    <tr>\n",
       "      <th>1</th>\n",
       "      <td>1</td>\n",
       "      <td>1</td>\n",
       "      <td>1</td>\n",
       "      <td>38.0</td>\n",
       "      <td>1</td>\n",
       "      <td>0</td>\n",
       "      <td>71.2833</td>\n",
       "      <td>0</td>\n",
       "    </tr>\n",
       "    <tr>\n",
       "      <th>2</th>\n",
       "      <td>2</td>\n",
       "      <td>3</td>\n",
       "      <td>1</td>\n",
       "      <td>26.0</td>\n",
       "      <td>0</td>\n",
       "      <td>0</td>\n",
       "      <td>7.9250</td>\n",
       "      <td>1</td>\n",
       "    </tr>\n",
       "    <tr>\n",
       "      <th>3</th>\n",
       "      <td>3</td>\n",
       "      <td>1</td>\n",
       "      <td>1</td>\n",
       "      <td>35.0</td>\n",
       "      <td>1</td>\n",
       "      <td>0</td>\n",
       "      <td>53.1000</td>\n",
       "      <td>1</td>\n",
       "    </tr>\n",
       "    <tr>\n",
       "      <th>4</th>\n",
       "      <td>4</td>\n",
       "      <td>3</td>\n",
       "      <td>0</td>\n",
       "      <td>35.0</td>\n",
       "      <td>0</td>\n",
       "      <td>0</td>\n",
       "      <td>8.0500</td>\n",
       "      <td>1</td>\n",
       "    </tr>\n",
       "  </tbody>\n",
       "</table>\n",
       "</div>"
      ],
      "text/plain": [
       "   Id  Pclass  Sex   Age  SibSp  Parch     Fare  Embarked\n",
       "0   0       3    0  22.0      1      0   7.2500         1\n",
       "1   1       1    1  38.0      1      0  71.2833         0\n",
       "2   2       3    1  26.0      0      0   7.9250         1\n",
       "3   3       1    1  35.0      1      0  53.1000         1\n",
       "4   4       3    0  35.0      0      0   8.0500         1"
      ]
     },
     "execution_count": 4,
     "metadata": {},
     "output_type": "execute_result"
    }
   ],
   "source": [
    "X_train.head()"
   ]
  },
  {
   "cell_type": "code",
   "execution_count": 5,
   "metadata": {},
   "outputs": [],
   "source": [
    "X_train = X_train.drop(\"Id\", axis = 1)\n",
    "Y_train = Y_train.drop(\"Id\", axis = 1)\n",
    "X_test = X_test.drop(\"Id\", axis = 1)\n",
    "Y_test = Y_test.drop(\"Id\", axis = 1)"
   ]
  },
  {
   "cell_type": "code",
   "execution_count": 6,
   "metadata": {},
   "outputs": [],
   "source": [
    "X_train = X_train.values\n",
    "Y_train = Y_train.values\n",
    "X_test = X_test.values\n",
    "Y_test = Y_test.values"
   ]
  },
  {
   "cell_type": "code",
   "execution_count": 7,
   "metadata": {},
   "outputs": [],
   "source": [
    "X_train = X_train.T\n",
    "Y_train = Y_train.reshape(1, X_train.shape[1])\n",
    "\n",
    "X_test = X_test.T\n",
    "Y_test = Y_test.reshape(1, X_test.shape[1])"
   ]
  },
  {
   "cell_type": "code",
   "execution_count": 8,
   "metadata": {},
   "outputs": [
    {
     "name": "stdout",
     "output_type": "stream",
     "text": [
      "Shape of X_train :  (7, 891)\n",
      "Shape of Y_train :  (1, 891)\n",
      "Shape of X_test :  (7, 418)\n",
      "Shape of Y_test :  (1, 418)\n"
     ]
    }
   ],
   "source": [
    "print(\"Shape of X_train : \", X_train.shape)\n",
    "print(\"Shape of Y_train : \", Y_train.shape)\n",
    "print(\"Shape of X_test : \", X_test.shape)\n",
    "print(\"Shape of Y_test : \", Y_test.shape)"
   ]
  },
  {
   "cell_type": "markdown",
   "metadata": {},
   "source": [
    "# Logistic Regression Overview :\n",
    "\n",
    "## Equations :\n",
    "\n",
    "$ W = \\begin{bmatrix}w_1 \\\\ w_2 \\\\ . \\\\ . \\\\ w_n \\end{bmatrix}_{ n x 1}$ ......... initialize with zeros\n",
    "\n",
    "$ B = single$  $weight/parameter $\n",
    "\n",
    "$ X = \\begin{bmatrix}. & . & .  \\\\ .  & . & .  \\\\ . & . & .  \\\\ . & . & .  \\\\ \\end{bmatrix}_{n x m}$\n",
    "\n",
    "$ Y = \\begin{bmatrix}. & . & . & . & . \\end{bmatrix}_{1 x m}$\n",
    "\n",
    "\n",
    "$\\sigma = \\frac{1}{(1 + e^{-x})}  $   ......... (sigmoid function)\n",
    "\n",
    "\n",
    "A = $\\sigma ( W^T*X + b ) $    ........ (probabilistic predictions of shape (1 x m ) )\n"
   ]
  },
  {
   "attachments": {
    "sigmoid.png": {
     "image/png": "[encoded data removed]"
    }
   },
   "cell_type": "markdown",
   "metadata": {},
   "source": [
    "![sigmoid.png](attachment:sigmoid.png)"
   ]
  },
  {
   "cell_type": "markdown",
   "metadata": {},
   "source": [
    "## Cost function :\n",
    "\n",
    "$ cost = - \\frac{1}{m} \\sum_{i=1}^m [ y*log(a) + (1 - y)*log(1 - a) ] $\n",
    "\n",
    "## Gradient Descent \n",
    "\n",
    "$dW = \\frac{\\partial COST }{\\partial W} = ( A - Y )*X^T $ ...... shape (1 x n) \n",
    "\n",
    "$dB = \\frac{\\partial COST }{\\partial B} = ( A - Y ) $\n",
    "\n",
    "$W = W - \\alpha * dW^T $\n",
    "\n",
    "$B = B - \\alpha * dB $"
   ]
  },
  {
   "attachments": {
    "gradient-descent.png": {
     "image/png": "[encoded data removed]"
    }
   },
   "cell_type": "markdown",
   "metadata": {},
   "source": [
    "![gradient-descent.png](attachment:gradient-descent.png)"
   ]
  },
  {
   "cell_type": "markdown",
   "metadata": {},
   "source": [
    "# Model"
   ]
  },
  {
   "cell_type": "code",
   "execution_count": 9,
   "metadata": {},
   "outputs": [],
   "source": [
    "def sigmoid(x):\n",
    "    return 1/(1 + np.exp(-x))"
   ]
  },
  {
   "cell_type": "code",
   "execution_count": 10,
   "metadata": {},
   "outputs": [],
   "source": [
    "def model(X, Y, learning_rate, iterations):\n",
    "    \n",
    "    m = X_train.shape[1]\n",
    "    n = X_train.shape[0]\n",
    "    \n",
    "    W = np.zeros((n,1))\n",
    "    B = 0\n",
    "    \n",
    "    cost_list = []\n",
    "    \n",
    "    for i in range(iterations):\n",
    "        \n",
    "        Z = np.dot(W.T, X) + B\n",
    "        A = sigmoid(Z)\n",
    "        \n",
    "        # cost function\n",
    "        cost = -(1/m)*np.sum( Y*np.log(A) + (1-Y)*np.log(1-A))\n",
    "        \n",
    "        # Gradient Descent\n",
    "        dW = (1/m)*np.dot(A-Y, X.T)\n",
    "        dB = (1/m)*np.sum(A - Y)\n",
    "        \n",
    "        W = W - learning_rate*dW.T\n",
    "        B = B - learning_rate*dB\n",
    "        \n",
    "        # Keeping track of our cost function value\n",
    "        cost_list.append(cost)\n",
    "        \n",
    "        if(i%(iterations/10) == 0):\n",
    "            print(\"cost after \", i, \"iteration is : \", cost)\n",
    "        \n",
    "    return W, B, cost_list\n",
    "        "
   ]
  },
  {
   "cell_type": "code",
   "execution_count": 11,
   "metadata": {},
   "outputs": [
    {
     "name": "stdout",
     "output_type": "stream",
     "text": [
      "cost after  0 iteration is :  0.6931471805599454\n",
      "cost after  10000 iteration is :  0.4965277769389531\n",
      "cost after  20000 iteration is :  0.46674868550665993\n",
      "cost after  30000 iteration is :  0.45687787762434423\n",
      "cost after  40000 iteration is :  0.45288994293089646\n",
      "cost after  50000 iteration is :  0.4509326025222643\n",
      "cost after  60000 iteration is :  0.44977087490094686\n",
      "cost after  70000 iteration is :  0.4489640829216279\n",
      "cost after  80000 iteration is :  0.44834126966124827\n",
      "cost after  90000 iteration is :  0.44783045246935776\n"
     ]
    }
   ],
   "source": [
    "iterations = 100000\n",
    "learning_rate = 0.0015\n",
    "W, B, cost_list = model(X_train, Y_train, learning_rate = learning_rate, iterations = iterations)"
   ]
  },
  {
   "cell_type": "markdown",
   "metadata": {},
   "source": [
    "### Cost vs Iteration\n",
    "Plotting graph to see if Cost Function is decreasing or not"
   ]
  },
  {
   "cell_type": "code",
   "execution_count": 12,
   "metadata": {},
   "outputs": [
    {
     "data": {
      "image/png": "[encoded data removed]",
      "text/plain": [
       "<Figure size 432x288 with 1 Axes>"
      ]
     },
     "metadata": {
      "needs_background": "light"
     },
     "output_type": "display_data"
    }
   ],
   "source": [
    "plt.plot(np.arange(iterations), cost_list)\n",
    "plt.show()"
   ]
  },
  {
   "cell_type": "markdown",
   "metadata": {},
   "source": [
    "# Testing Model Accuracy"
   ]
  },
  {
   "cell_type": "code",
   "execution_count": 15,
   "metadata": {},
   "outputs": [],
   "source": [
    "def accuracy(X, Y, W, B):\n",
    "    \n",
    "    Z = np.dot(W.T, X) + B\n",
    "    A = sigmoid(Z)\n",
    "    \n",
    "    A = A > 0.5\n",
    "    \n",
    "    A = np.array(A, dtype = 'int64')\n",
    "    \n",
    "    acc = (1 - np.sum(np.absolute(A - Y))/Y.shape[1])*100\n",
    "    \n",
    "    print(\"Accuracy of the model is : \", round(acc, 2), \"%\")"
   ]
  },
  {
   "cell_type": "code",
   "execution_count": 16,
   "metadata": {},
   "outputs": [
    {
     "name": "stdout",
     "output_type": "stream",
     "text": [
      "Accuracy of the model is :  91.39 %\n"
     ]
    }
   ],
   "source": [
    "accuracy(X_test, Y_test, W, B)"
   ]
  },
  {
   "cell_type": "markdown",
   "metadata": {},
   "source": [
    "**Our model accuracy is 91 % on Test dataset.\n",
    "\n",
    "\n",
    "## Reference : https://www.youtube.com/watch?v=nzNp05AyBM8"
   ]
  },
  {
   "cell_type": "code",
   "execution_count": null,
   "metadata": {},
   "outputs": [],
   "source": []
  }
 ],
 "metadata": {
  "kernelspec": {
   "display_name": "Python 3",
   "language": "python",
   "name": "python3"
  },
  "language_info": {
   "codemirror_mode": {
    "name": "ipython",
    "version": 3
   },
   "file_extension": ".py",
   "mimetype": "text/x-python",
   "name": "python",
   "nbconvert_exporter": "python",
   "pygments_lexer": "ipython3",
   "version": "3.8.3"
  }
 },
 "nbformat": 4,
 "nbformat_minor": 5
}
