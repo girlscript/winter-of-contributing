{
  "nbformat": 4,
  "nbformat_minor": 0,
  "metadata": {
    "colab": {
      "name": "Dimensionality Reduction",
      "provenance": [],
      "collapsed_sections": []
    },
    "kernelspec": {
      "name": "python3",
      "display_name": "Python 3"
    },
    "language_info": {
      "name": "python"
    }
  },
  "cells": [
    {
      "cell_type": "markdown",
      "metadata": {
        "id": "zeRPB9h2QaM2"
      },
      "source": [
        "Name-Bhaswati Roy\n",
        "\n",
        "Domain Name-Data Science With Python\n",
        "\n",
        "Issue Name-Dimensionality Reduction(Documentation)\n",
        "\n",
        "Serial Number-787\n",
        "\n",
        "Issue Number-464\n",
        "\n",
        "Batch Number-19 \n",
        "\n"
      ]
    },
    {
      "cell_type": "markdown",
      "metadata": {
        "id": "1Dk8CwnYNE43"
      },
      "source": [
        "The method by which we can reduce the number of input variables or features we feed into the model is called **Dimensionality Reduction**. "
      ]
    },
    {
      "cell_type": "markdown",
      "metadata": {
        "id": "rTWP2iyuOAjW"
      },
      "source": [
        "Often Machine Learning Models can not work properly on a large dataset with too many features. It only reduces the capability of the model to make the best prediction from it's side. Also it is needed for proper data visualization"
      ]
    },
    {
      "cell_type": "markdown",
      "metadata": {
        "id": "FsHHbu29OeQH"
      },
      "source": [
        "Here's where Dimensionality Reduction comes to play!\n"
      ]
    },
    {
      "cell_type": "markdown",
      "metadata": {
        "id": "CrI3uX1-X2_C"
      },
      "source": [
        "Firstly we will import all the required libraries"
      ]
    },
    {
      "cell_type": "code",
      "metadata": {
        "id": "FKHrooW5MaF9"
      },
      "source": [
        "#all the required libraries include-Numpy,Pandas,Matplotlib,Seaborn\n",
        "import numpy as np\n",
        "import pandas as pd\n",
        "import matplotlib.pyplot as plt\n",
        "import seaborn as sns"
      ],
      "execution_count": null,
      "outputs": []
    },
    {
      "cell_type": "markdown",
      "metadata": {
        "id": "ZHYOArFiYLLb"
      },
      "source": [
        "Loading the dataset"
      ]
    },
    {
      "cell_type": "code",
      "metadata": {
        "id": "vpz2I97XYCP6"
      },
      "source": [
        "#a dataset named \"Customer Segmentation\" is used for the purpose which is in csv format\n",
        "df=pd.read_csv(\"Customer Segmentation.csv\")"
      ],
      "execution_count": null,
      "outputs": []
    },
    {
      "cell_type": "markdown",
      "metadata": {
        "id": "eYhROLeufV59"
      },
      "source": [
        "Viewing the 1st 5 rows of the dataset"
      ]
    },
    {
      "cell_type": "code",
      "metadata": {
        "colab": {
          "base_uri": "https://localhost:8080/",
          "height": 204
        },
        "id": "rAPoK9zLfVe_",
        "outputId": "26510b19-7129-442c-fd2c-105e0b62dd31"
      },
      "source": [
        "df.head()"
      ],
      "execution_count": null,
      "outputs": [
        {
          "output_type": "execute_result",
          "data": {
            "text/html": [
              "<div>\n",
              "<style scoped>\n",
              "    .dataframe tbody tr th:only-of-type {\n",
              "        vertical-align: middle;\n",
              "    }\n",
              "\n",
              "    .dataframe tbody tr th {\n",
              "        vertical-align: top;\n",
              "    }\n",
              "\n",
              "    .dataframe thead th {\n",
              "        text-align: right;\n",
              "    }\n",
              "</style>\n",
              "<table border=\"1\" class=\"dataframe\">\n",
              "  <thead>\n",
              "    <tr style=\"text-align: right;\">\n",
              "      <th></th>\n",
              "      <th>Customer Id</th>\n",
              "      <th>Age</th>\n",
              "      <th>Edu</th>\n",
              "      <th>Years Employed</th>\n",
              "      <th>Income</th>\n",
              "      <th>Card Debt</th>\n",
              "      <th>Other Debt</th>\n",
              "      <th>DebtIncomeRatio</th>\n",
              "    </tr>\n",
              "  </thead>\n",
              "  <tbody>\n",
              "    <tr>\n",
              "      <th>0</th>\n",
              "      <td>1</td>\n",
              "      <td>41</td>\n",
              "      <td>2</td>\n",
              "      <td>6</td>\n",
              "      <td>19</td>\n",
              "      <td>0.124</td>\n",
              "      <td>1.073</td>\n",
              "      <td>6.3</td>\n",
              "    </tr>\n",
              "    <tr>\n",
              "      <th>1</th>\n",
              "      <td>2</td>\n",
              "      <td>47</td>\n",
              "      <td>1</td>\n",
              "      <td>26</td>\n",
              "      <td>100</td>\n",
              "      <td>4.582</td>\n",
              "      <td>8.218</td>\n",
              "      <td>12.8</td>\n",
              "    </tr>\n",
              "    <tr>\n",
              "      <th>2</th>\n",
              "      <td>3</td>\n",
              "      <td>33</td>\n",
              "      <td>2</td>\n",
              "      <td>10</td>\n",
              "      <td>57</td>\n",
              "      <td>6.111</td>\n",
              "      <td>5.802</td>\n",
              "      <td>20.9</td>\n",
              "    </tr>\n",
              "    <tr>\n",
              "      <th>3</th>\n",
              "      <td>4</td>\n",
              "      <td>29</td>\n",
              "      <td>2</td>\n",
              "      <td>4</td>\n",
              "      <td>19</td>\n",
              "      <td>0.681</td>\n",
              "      <td>0.516</td>\n",
              "      <td>6.3</td>\n",
              "    </tr>\n",
              "    <tr>\n",
              "      <th>4</th>\n",
              "      <td>5</td>\n",
              "      <td>47</td>\n",
              "      <td>1</td>\n",
              "      <td>31</td>\n",
              "      <td>253</td>\n",
              "      <td>9.308</td>\n",
              "      <td>8.908</td>\n",
              "      <td>7.2</td>\n",
              "    </tr>\n",
              "  </tbody>\n",
              "</table>\n",
              "</div>"
            ],
            "text/plain": [
              "   Customer Id  Age  Edu  ...  Card Debt  Other Debt  DebtIncomeRatio\n",
              "0            1   41    2  ...      0.124       1.073              6.3\n",
              "1            2   47    1  ...      4.582       8.218             12.8\n",
              "2            3   33    2  ...      6.111       5.802             20.9\n",
              "3            4   29    2  ...      0.681       0.516              6.3\n",
              "4            5   47    1  ...      9.308       8.908              7.2\n",
              "\n",
              "[5 rows x 8 columns]"
            ]
          },
          "metadata": {},
          "execution_count": 22
        }
      ]
    },
    {
      "cell_type": "markdown",
      "metadata": {
        "id": "Guw7Ul_EYUE5"
      },
      "source": [
        "Viewing the dimensions of the dataset"
      ]
    },
    {
      "cell_type": "code",
      "metadata": {
        "colab": {
          "base_uri": "https://localhost:8080/"
        },
        "id": "D6JaKwMWYS_q",
        "outputId": "a30b3aff-a0af-460b-b84f-9a965ef035f4"
      },
      "source": [
        "#we should always check if our dataset has large number of features or not\n",
        "#if it has large number of features then we need to apply dimensionality reduction\n",
        "df.shape"
      ],
      "execution_count": null,
      "outputs": [
        {
          "output_type": "execute_result",
          "data": {
            "text/plain": [
              "(850, 8)"
            ]
          },
          "metadata": {},
          "execution_count": 23
        }
      ]
    },
    {
      "cell_type": "markdown",
      "metadata": {
        "id": "bLXnlGnsYY5Z"
      },
      "source": [
        "Since the dataset has large number of features we should apply Dimensionality Reduction Method"
      ]
    },
    {
      "cell_type": "markdown",
      "metadata": {
        "id": "-n_ERjwfY1WZ"
      },
      "source": [
        "The most commonly used and famous Dimensionality Reduction method is Principal Component Analysis (PCA). Sklearn has inbuilt function to implement Principal Component Analysis."
      ]
    },
    {
      "cell_type": "code",
      "metadata": {
        "colab": {
          "base_uri": "https://localhost:8080/"
        },
        "id": "6PWyoU1oYXtZ",
        "outputId": "1a41c02b-2c69-4d7f-f2f2-a04e163ceb31"
      },
      "source": [
        "#the function used for principal component analysis is PCA which is imported here to use\n",
        "from sklearn.decomposition import PCA\n",
        "#the parameter n_components signifies the number of columns the final dataset is going to have\n",
        "pca=PCA(n_components=3)\n",
        "#fitting+transforming the dataset into the function\n",
        "principal_components=pca.fit_transform(df)\n",
        "#now the dataset gets converted into an array form with 3 columns\n",
        "principal_components"
      ],
      "execution_count": null,
      "outputs": [
        {
          "output_type": "execute_result",
          "data": {
            "text/plain": [
              "array([[-4.24418889e+02, -2.83543066e+01, -6.87514666e+00],\n",
              "       [-4.23668359e+02,  5.48747241e+01, -1.11195320e+01],\n",
              "       [-4.22524766e+02,  9.11669363e+00, -2.52653051e-01],\n",
              "       ...,\n",
              "       [ 4.22598295e+02, -2.91020988e+01,  2.73201871e+00],\n",
              "       [ 4.23545911e+02, -1.72388024e+01,  5.51691894e-01],\n",
              "       [ 4.24438220e+02,  2.09522249e+01, -1.50381987e+01]])"
            ]
          },
          "metadata": {},
          "execution_count": 26
        }
      ]
    },
    {
      "cell_type": "markdown",
      "metadata": {
        "id": "Dx52YG2Sh6vm"
      },
      "source": [
        "We can also convert the array to a dataframe format"
      ]
    },
    {
      "cell_type": "code",
      "metadata": {
        "colab": {
          "base_uri": "https://localhost:8080/",
          "height": 204
        },
        "id": "olPryz3Se5C-",
        "outputId": "b8dcbbcf-ab7b-499d-b569-ccbbd5fbd93d"
      },
      "source": [
        "#the function used for converting to dataframe is DataFrame\n",
        "pca_df=pd.DataFrame(principal_components,columns=[\"Column 1\",\"Column 2\",\"Column 3\"])\n",
        "pca_df.head()"
      ],
      "execution_count": null,
      "outputs": [
        {
          "output_type": "execute_result",
          "data": {
            "text/html": [
              "<div>\n",
              "<style scoped>\n",
              "    .dataframe tbody tr th:only-of-type {\n",
              "        vertical-align: middle;\n",
              "    }\n",
              "\n",
              "    .dataframe tbody tr th {\n",
              "        vertical-align: top;\n",
              "    }\n",
              "\n",
              "    .dataframe thead th {\n",
              "        text-align: right;\n",
              "    }\n",
              "</style>\n",
              "<table border=\"1\" class=\"dataframe\">\n",
              "  <thead>\n",
              "    <tr style=\"text-align: right;\">\n",
              "      <th></th>\n",
              "      <th>Column 1</th>\n",
              "      <th>Column 2</th>\n",
              "      <th>Column 3</th>\n",
              "    </tr>\n",
              "  </thead>\n",
              "  <tbody>\n",
              "    <tr>\n",
              "      <th>0</th>\n",
              "      <td>-424.418889</td>\n",
              "      <td>-28.354307</td>\n",
              "      <td>-6.875147</td>\n",
              "    </tr>\n",
              "    <tr>\n",
              "      <th>1</th>\n",
              "      <td>-423.668359</td>\n",
              "      <td>54.874724</td>\n",
              "      <td>-11.119532</td>\n",
              "    </tr>\n",
              "    <tr>\n",
              "      <th>2</th>\n",
              "      <td>-422.524766</td>\n",
              "      <td>9.116694</td>\n",
              "      <td>-0.252653</td>\n",
              "    </tr>\n",
              "    <tr>\n",
              "      <th>3</th>\n",
              "      <td>-421.415030</td>\n",
              "      <td>-29.810484</td>\n",
              "      <td>4.381330</td>\n",
              "    </tr>\n",
              "    <tr>\n",
              "      <th>4</th>\n",
              "      <td>-421.111237</td>\n",
              "      <td>206.595937</td>\n",
              "      <td>9.368784</td>\n",
              "    </tr>\n",
              "  </tbody>\n",
              "</table>\n",
              "</div>"
            ],
            "text/plain": [
              "     Column 1    Column 2   Column 3\n",
              "0 -424.418889  -28.354307  -6.875147\n",
              "1 -423.668359   54.874724 -11.119532\n",
              "2 -422.524766    9.116694  -0.252653\n",
              "3 -421.415030  -29.810484   4.381330\n",
              "4 -421.111237  206.595937   9.368784"
            ]
          },
          "metadata": {},
          "execution_count": 28
        }
      ]
    },
    {
      "cell_type": "markdown",
      "metadata": {
        "id": "-hfGL-RdjGnG"
      },
      "source": [
        "Thus we have converted our dataset to a format of reduced dimensions so we have a better version of the dataset"
      ]
    },
    {
      "cell_type": "markdown",
      "metadata": {
        "id": "ZaXaNsx6jOoe"
      },
      "source": [
        "Now we can further use our dataset to use as per our problem statement and if we compare accuracy of our model before and after using PCA then we can realise the improvement in accuracy due to using PCA"
      ]
    }
  ]
}