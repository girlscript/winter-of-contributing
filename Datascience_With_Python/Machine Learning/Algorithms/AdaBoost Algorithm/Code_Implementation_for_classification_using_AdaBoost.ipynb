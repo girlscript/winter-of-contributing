{
  "nbformat": 4,
  "nbformat_minor": 0,
  "metadata": {
    "colab": {
      "name": "Code Implementation for classification using AdaBoost.ipynb",
      "provenance": []
    },
    "kernelspec": {
      "display_name": "Python 3",
      "name": "python3"
    },
    "language_info": {
      "name": "python"
    }
  },
  "cells": [
    {
      "cell_type": "markdown",
      "metadata": {
        "id": "-2QSKR2_uART"
      },
      "source": [
        "Now we import the scikit learn library. Scikit-learn is a free machine learning library for Python. It features various algorithms like support vector machine, random forests, and k-neighbours, and it also supports Python numerical and scientific libraries like NumPy and SciPy."
      ]
    },
    {
      "cell_type": "code",
      "metadata": {
        "id": "9ORGtz9I7pGX"
      },
      "source": [
        "import sklearn"
      ],
      "execution_count": 1,
      "outputs": []
    },
    {
      "cell_type": "code",
      "metadata": {
        "id": "j-Y2ePpY9dGs"
      },
      "source": [
        "# importing the necessary libraries\n",
        "from numpy import mean\n",
        "from numpy import std\n",
        "from sklearn.datasets import make_classification\n",
        "from sklearn.model_selection import cross_val_score\n",
        "from sklearn.model_selection import RepeatedStratifiedKFold\n",
        "from sklearn.ensemble import AdaBoostClassifier"
      ],
      "execution_count": 2,
      "outputs": []
    },
    {
      "cell_type": "markdown",
      "metadata": {
        "id": "Ym2jddAkGDCJ"
      },
      "source": [
        "We can use the make_classification() function to create a synthetic binary classification problem with 1,000 examples and 20 input features."
      ]
    },
    {
      "cell_type": "code",
      "metadata": {
        "id": "x_DrqPss9oMS"
      },
      "source": [
        "# defining the dataset\n",
        "X, y = make_classification(n_samples=1000, n_features=20, n_informative=15, n_redundant=5, random_state=6)"
      ],
      "execution_count": 3,
      "outputs": []
    },
    {
      "cell_type": "markdown",
      "metadata": {
        "id": "IsQ0wMgiQvV4"
      },
      "source": [
        "Running the example creates the dataset and summarizes the shape of the input and output components.\n",
        "(1000, 20) (1000,)"
      ]
    },
    {
      "cell_type": "markdown",
      "metadata": {
        "id": "oTE8CsmItdnm"
      },
      "source": [
        "Next, we can evaluate an AdaBoost algorithm on this dataset.\n",
        "\n"
      ]
    },
    {
      "cell_type": "code",
      "metadata": {
        "id": "ppL-ASmy_2Ut"
      },
      "source": [
        "# defining the adaboost model\n",
        "model = AdaBoostClassifier()"
      ],
      "execution_count": 4,
      "outputs": []
    },
    {
      "cell_type": "markdown",
      "metadata": {
        "id": "wMAjiQaote9o"
      },
      "source": [
        "We will evaluate the model using repeated stratified k-fold cross-validation, with three repeats and 10 folds. "
      ]
    },
    {
      "cell_type": "code",
      "metadata": {
        "id": "c_r7eUAd_3MM"
      },
      "source": [
        "# evaluating the model\n",
        "cv = RepeatedStratifiedKFold(n_splits=10, n_repeats=3, random_state=1)\n",
        "n_scores = cross_val_score(model, X, y, scoring='accuracy', cv=cv, n_jobs=-1, error_score='raise')"
      ],
      "execution_count": 5,
      "outputs": []
    },
    {
      "cell_type": "markdown",
      "metadata": {
        "id": "W_Vr8BOBtlM-"
      },
      "source": [
        "Now we calculate the accuracy for the model.\n"
      ]
    },
    {
      "cell_type": "code",
      "metadata": {
        "colab": {
          "base_uri": "https://localhost:8080/"
        },
        "id": "MO20u7Xb_3zY",
        "outputId": "d60ad4b7-c517-46b2-a28d-1bac9bbf5917"
      },
      "source": [
        "# using accuracy as a performance metric\n",
        "print('Accuracy: %.3f (%.3f)' % (mean(n_scores), std(n_scores)))"
      ],
      "execution_count": 6,
      "outputs": [
        {
          "output_type": "stream",
          "name": "stdout",
          "text": [
            "Accuracy: 0.806 (0.041)\n"
          ]
        }
      ]
    }
  ]
}