{
  "nbformat": 4,
  "nbformat_minor": 0,
  "metadata": {
    "colab": {
      "name": "Code Implementation of Regression using AdaBoost.ipynb",
      "provenance": []
    },
    "kernelspec": {
      "name": "python3",
      "display_name": "Python 3"
    },
    "language_info": {
      "name": "python"
    }
  },
  "cells": [
    {
      "cell_type": "markdown",
      "metadata": {
        "id": "A3RPixww5Zse"
      },
      "source": [
        "We will import all the necessary libraries."
      ]
    },
    {
      "cell_type": "code",
      "metadata": {
        "id": "3LMHlQhMOoV4"
      },
      "source": [
        "# evaluate adaboost ensemble for regression\n",
        "from numpy import mean\n",
        "from numpy import std\n",
        "from sklearn.datasets import make_regression\n",
        "from sklearn.model_selection import cross_val_score\n",
        "from sklearn.model_selection import RepeatedKFold\n",
        "from sklearn.ensemble import AdaBoostRegressor\n",
        "\n"
      ],
      "execution_count": null,
      "outputs": []
    },
    {
      "cell_type": "markdown",
      "metadata": {
        "id": "jpiTUrKH5KOH"
      },
      "source": [
        "First, we can use the make_regression() function to create a synthetic regression problem with 1,000 examples and 20 input features."
      ]
    },
    {
      "cell_type": "code",
      "metadata": {
        "id": "tGgx45RU_bqO"
      },
      "source": [
        "# define dataset\n",
        "X, y = make_regression(n_samples=1000, n_features=20, n_informative=15, noise=0.1, random_state=6)"
      ],
      "execution_count": null,
      "outputs": []
    },
    {
      "cell_type": "markdown",
      "metadata": {
        "id": "tb1XHaeP5jmY"
      },
      "source": [
        "Now we define AdaBoost Model."
      ]
    },
    {
      "cell_type": "code",
      "metadata": {
        "id": "0QER6dba_d1J"
      },
      "source": [
        "# define the model\n",
        "model = AdaBoostRegressor()"
      ],
      "execution_count": null,
      "outputs": []
    },
    {
      "cell_type": "markdown",
      "metadata": {
        "id": "vpEHwZ7h5TvS"
      },
      "source": [
        "Next, we can evaluate an AdaBoost algorithm on this dataset.\n",
        "\n"
      ]
    },
    {
      "cell_type": "code",
      "metadata": {
        "id": "9lZUbT0g_d7h"
      },
      "source": [
        "\n",
        "# evaluate the model\n",
        "cv = RepeatedKFold(n_splits=10, n_repeats=3, random_state=1)\n",
        "n_scores = cross_val_score(model, X, y, scoring='neg_mean_absolute_error', cv=cv, n_jobs=-1, error_score='raise')"
      ],
      "execution_count": null,
      "outputs": []
    },
    {
      "cell_type": "markdown",
      "metadata": {
        "id": "etLlDQKl608I"
      },
      "source": [
        "Mean absolute error is used as the performance metric."
      ]
    },
    {
      "cell_type": "code",
      "metadata": {
        "colab": {
          "base_uri": "https://localhost:8080/"
        },
        "id": "yEOvu7NA_eCq",
        "outputId": "8d876c23-55be-40cf-8ff0-8e9a1fdae69d"
      },
      "source": [
        "# report performance\n",
        "print('MAE: %.3f (%.3f)' % (mean(n_scores), std(n_scores)))"
      ],
      "execution_count": null,
      "outputs": [
        {
          "output_type": "stream",
          "name": "stdout",
          "text": [
            "MAE: -72.423 (4.895)\n"
          ]
        }
      ]
    }
  ]
}