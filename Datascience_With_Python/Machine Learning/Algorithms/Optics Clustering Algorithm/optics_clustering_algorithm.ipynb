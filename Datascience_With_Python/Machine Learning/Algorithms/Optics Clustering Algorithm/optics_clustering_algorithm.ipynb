{
  "nbformat": 4,
  "nbformat_minor": 2,
  "metadata": {
    "colab": {
      "name": "optics_algorithm.ipynb",
      "provenance": [],
      "collapsed_sections": []
    },
    "kernelspec": {
      "name": "python3",
      "display_name": "Python 3"
    },
    "language_info": {
      "name": "python"
    }
  },
  "cells": [
    {
      "cell_type": "markdown",
      "source": [
        "# **OPTICS Algorithm**"
      ],
      "metadata": {
        "id": "1IYlrzOCgoYR"
      }
    },
    {
      "cell_type": "markdown",
      "source": [
        "Ordering Points to Identify the Clustering Structure (OPTICS) is a Clustering Algorithm which locates region of high density that are seperated from one another by regions of low density."
      ],
      "metadata": {
        "id": "j50bcWjtgvU9"
      }
    },
    {
      "cell_type": "markdown",
      "source": [
        "For using this library in Python this comes under Scikit Learn Library."
      ],
      "metadata": {
        "id": "vtDPkFeTgxc_"
      }
    },
    {
      "cell_type": "markdown",
      "source": [
        "## Parameters:\t\n",
        "**Reachability Distance** -It is defined with respect to another data point q(Let). The Reachability distance between a point p and q is the maximum of the Core Distance of p and the Euclidean Distance(or some other distance metric) between p and q. Note that The Reachability Distance is not defined if q is not a Core point.<br><br>\n",
        "**Core Distance** – It is the minimum value of radius required to classify a given point as a core point. If the given point is not a Core point, then it’s Core Distance is undefined."
      ],
      "metadata": {
        "id": "9EAAb8Y1nQTf"
      }
    },
    {
      "cell_type": "markdown",
      "source": [
        "## OPTICS Pointers\n",
        "<ol>\n",
        "  <li>Produces a special order of the database with respect to its density-based clustering structure.This cluster-ordering contains info equivalent to the density-based clustering corresponding to a broad range of parameter settings.</li>\n",
        "  <li>Good for both automatic and interactive cluster analysis, including finding intrinsic clustering structure</li>\n",
        "  <li>Can be represented graphically or using visualization technique</li>\n",
        "</ol>  \n"
      ],
      "metadata": {
        "id": "1XOPH5SJoAeM"
      }
    },
    {
      "cell_type": "markdown",
      "source": [
        "In this file , we will showcase how a basic OPTICS Algorithm works in Python , on a randomly created Dataset."
      ],
      "metadata": {
        "id": "OmGfNSfUgzDE"
      }
    },
    {
      "cell_type": "markdown",
      "source": [
        "## Importing Libraries"
      ],
      "metadata": {
        "id": "fXnctd_zolGl"
      }
    },
    {
      "cell_type": "code",
      "execution_count": 1,
      "source": [
        "import matplotlib.pyplot as plt #Used for plotting graphs\r\n",
        "from sklearn.datasets import make_blobs #Used for creating random dataset\r\n",
        "from sklearn.cluster import OPTICS #OPTICS is provided under Scikit-Learn Extra\r\n",
        "from sklearn.metrics import silhouette_score #silhouette score for checking accuracy\r\n",
        "import numpy as np \r\n",
        "import pandas as pd"
      ],
      "outputs": [],
      "metadata": {
        "id": "RA1ExtSfgkab"
      }
    },
    {
      "cell_type": "markdown",
      "source": [
        "## Generating Data"
      ],
      "metadata": {
        "id": "-l9UR35Tonr9"
      }
    },
    {
      "cell_type": "code",
      "execution_count": 9,
      "source": [
        "data, clusters = make_blobs(\r\n",
        "    n_samples=800, centers=4, cluster_std=0.3, random_state=0\r\n",
        ")"
      ],
      "outputs": [],
      "metadata": {
        "id": "f4W827BshMjg"
      }
    },
    {
      "cell_type": "code",
      "execution_count": 10,
      "source": [
        "# Originally created plot with data\r\n",
        "plt.scatter(data[:,0], data[:,1])\r\n",
        "plt.show()"
      ],
      "outputs": [
        {
          "output_type": "display_data",
          "data": {
            "image/png": "[encoded data removed]",
            "text/plain": [
              "<Figure size 432x288 with 1 Axes>"
            ]
          },
          "metadata": {
            "needs_background": "light"
          }
        }
      ],
      "metadata": {
        "colab": {
          "base_uri": "https://localhost:8080/",
          "height": 265
        },
        "id": "nLj6FN0Mkm9r",
        "outputId": "d52731ec-c443-47c6-d9d1-9109697e9075"
      }
    },
    {
      "cell_type": "markdown",
      "source": [
        "## Model Creation"
      ],
      "metadata": {
        "id": "FQ4QDcCpot6M"
      }
    },
    {
      "cell_type": "code",
      "execution_count": 20,
      "source": [
        "# Creating OPTICS Model\r\n",
        "optics_model = OPTICS(min_samples=50, xi=.05, min_cluster_size=.05) \r\n",
        "#min_samples : The number of samples in a neighborhood for a point to be considered as a core point. \r\n",
        "#xi : Determines the minimum steepness on the reachability plot that constitutes a cluster boundary\r\n",
        "#min_cluster_size : Minimum number of samples in an OPTICS cluster, expressed as an absolute number or a fraction of the number of samples"
      ],
      "outputs": [],
      "metadata": {
        "id": "Ihyuk4rAiziW"
      }
    },
    {
      "cell_type": "code",
      "execution_count": 21,
      "source": [
        "pred =optics_model.fit(data) #Fitting the data"
      ],
      "outputs": [],
      "metadata": {
        "id": "_BxT5mork81r"
      }
    },
    {
      "cell_type": "code",
      "execution_count": 22,
      "source": [
        "optics_labels = optics_model.labels_ #storing labels predicted by our model"
      ],
      "outputs": [],
      "metadata": {
        "id": "pt2QMyYmlHwU"
      }
    },
    {
      "cell_type": "code",
      "execution_count": 25,
      "source": [
        "no_clusters = len(np.unique(optics_labels) ) #determining the no. of unique clusters and noise our model predicted\r\n",
        "no_noise = np.sum(np.array(optics_labels) == -1, axis=0)"
      ],
      "outputs": [],
      "metadata": {
        "id": "fiFfa3KEOoHp"
      }
    },
    {
      "cell_type": "markdown",
      "source": [
        "## Plotting our observations"
      ],
      "metadata": {
        "id": "acn1qDp-oxH6"
      }
    },
    {
      "cell_type": "code",
      "execution_count": 26,
      "source": [
        "print('Estimated no. of clusters: %d' % no_clusters)\r\n",
        "print('Estimated no. of noise points: %d' % no_noise)"
      ],
      "outputs": [
        {
          "output_type": "stream",
          "name": "stdout",
          "text": [
            "Estimated no. of clusters: 4\n",
            "Estimated no. of noise points: 0\n"
          ]
        }
      ],
      "metadata": {
        "colab": {
          "base_uri": "https://localhost:8080/"
        },
        "id": "pvSnpnKiOu59",
        "outputId": "28193b0a-57fd-4b3d-a58f-0ef85df15084"
      }
    },
    {
      "cell_type": "code",
      "execution_count": 41,
      "source": [
        "colors = list(map(lambda x: '#aa2211' if x == 1 else '#120416', optics_labels))\r\n",
        "plt.scatter(data[:,0], data[:,1], c=colors, marker=\"o\", picker=True)\r\n",
        "plt.title(f'OPTICS clustering')\r\n",
        "plt.xlabel('Axis X[0]')\r\n",
        "plt.ylabel('Axis X[1]')\r\n",
        "plt.show()"
      ],
      "outputs": [
        {
          "output_type": "display_data",
          "data": {
            "image/png": "[encoded data removed]",
            "text/plain": [
              "<Figure size 432x288 with 1 Axes>"
            ]
          },
          "metadata": {
            "needs_background": "light"
          }
        }
      ],
      "metadata": {
        "colab": {
          "base_uri": "https://localhost:8080/",
          "height": 295
        },
        "id": "OcS8T6lQlb6j",
        "outputId": "1a3e9900-a668-45bc-b764-54f4fc91dcb0"
      }
    },
    {
      "cell_type": "code",
      "execution_count": 38,
      "source": [
        "# Generate reachability plot , this helps understand the working of our Model in OPTICS\r\n",
        "reachability = optics_model.reachability_[optics_model.ordering_]\r\n",
        "plt.plot(reachability)\r\n",
        "plt.title('Reachability plot')\r\n",
        "plt.show()"
      ],
      "outputs": [
        {
          "output_type": "display_data",
          "data": {
            "image/png": "[encoded data removed]",
            "text/plain": [
              "<Figure size 432x288 with 1 Axes>"
            ]
          },
          "metadata": {
            "needs_background": "light"
          }
        }
      ],
      "metadata": {
        "colab": {
          "base_uri": "https://localhost:8080/",
          "height": 281
        },
        "id": "N1zBYP_BPhE_",
        "outputId": "68f2924a-3bd4-439a-9ac7-ac48caa891be"
      }
    },
    {
      "cell_type": "markdown",
      "source": [
        "## Accuracy of OPTICS Clustering"
      ],
      "metadata": {
        "id": "b8R9V0K-l0a5"
      }
    },
    {
      "cell_type": "code",
      "execution_count": 37,
      "source": [
        "OPTICS_score = silhouette_score(data, optics_labels)\r\n",
        "OPTICS_score"
      ],
      "outputs": [
        {
          "output_type": "execute_result",
          "data": {
            "text/plain": [
              "0.8404988091744815"
            ]
          },
          "metadata": {},
          "execution_count": 37
        }
      ],
      "metadata": {
        "colab": {
          "base_uri": "https://localhost:8080/"
        },
        "id": "yvtPL44vikfa",
        "outputId": "66debc76-cc96-497c-ff3f-f8eebcaefe34"
      }
    },
    {
      "cell_type": "markdown",
      "source": [
        "On this randomly created dataset we got an accuracy of 84.04 %"
      ],
      "metadata": {
        "id": "swaOXrlKoUjZ"
      }
    },
    {
      "cell_type": "markdown",
      "source": [
        "### Hence , we can see the implementation of OPTICS Clustering Algorithm on a randomly created Dataset .As we can observe from our result . the score which we got is around 84% , which is really good for a unsupervised learning algorithm.However , this accuracy definitely comes with the additonal cost of higher computational power"
      ],
      "metadata": {}
    },
    {
      "cell_type": "markdown",
      "source": [
        "## Thanks a lot!"
      ],
      "metadata": {
        "id": "IKE4ns8An6GG"
      }
    }
  ]
}