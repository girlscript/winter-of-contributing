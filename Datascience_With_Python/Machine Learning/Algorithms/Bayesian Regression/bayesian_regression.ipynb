{
  "nbformat": 4,
  "nbformat_minor": 0,
  "metadata": {
    "colab": {
      "name": "bayesian_regression.ipynb",
      "provenance": []
    },
    "kernelspec": {
      "name": "python3",
      "display_name": "Python 3"
    },
    "language_info": {
      "name": "python"
    }
  },
  "cells": [
    {
      "cell_type": "markdown",
      "metadata": {
        "id": "zpgUPxwIJv5E"
      },
      "source": [
        "**Implementing a Simple Bayesian Regression Problem**"
      ]
    },
    {
      "cell_type": "markdown",
      "metadata": {
        "id": "iqr_opSG295U"
      },
      "source": [
        "**AIM:**<br>\n",
        "**In this File, We will use a self-written dataset(Arrays) and use the Bayesian Regression formula involving the calculation of posterior matrix.<br>**\n",
        "\n",
        "We will then plot this posterior values as a best-fit curve along with the original data points."
      ]
    },
    {
      "cell_type": "markdown",
      "metadata": {
        "id": "i4lAu1HVoTnI"
      },
      "source": [
        "**Step 1) Importing Libraries to be Used**<br><br>\n",
        "a) **Matplotlib**: It is a plotting library in Python and is Used to plot graphs.<br>\n",
        "b) **NumPy**: Numply library helps us to add features to mathaematically operate on various data present in arrays and matrices."
      ]
    },
    {
      "cell_type": "code",
      "metadata": {
        "id": "JX9ZBaLA6KA1"
      },
      "source": [
        "#Import Necessary Libraries\n",
        "import matplotlib.pyplot as plt\n",
        "import numpy as np"
      ],
      "execution_count": 1,
      "outputs": []
    },
    {
      "cell_type": "markdown",
      "metadata": {
        "id": "N6LGwukatc3j"
      },
      "source": [
        "**Step 2) Creating Arrays of two events/parameters.**<br><br>Here only 2 parameters of data is considered(X, Y) for simplicity but a small data- set can be used here as well."
      ]
    },
    {
      "cell_type": "code",
      "metadata": {
        "id": "t-EIbm9EtcHV"
      },
      "source": [
        "#Taking two arrays of different events\n",
        "X = np.array([0.04, 0.24, 0.28, 0.54, 0.48, 0.51, 0.61, 0.74, 0.80, 0.91])\n",
        "Y = np.array([0.10, 0.27, 0.84, 0.12, 0.44, -0.01, -0.07, -0.68, -0.21, -0.20])"
      ],
      "execution_count": 2,
      "outputs": []
    },
    {
      "cell_type": "markdown",
      "metadata": {
        "id": "U94eik-GxJbW"
      },
      "source": [
        "**Step 3) Using the Posterior finding formula.**<br><br>\n",
        "a) We assume the values of alpha and beta.<br>\n",
        "b) We then calculate the dot product of the priors to find the posterior value as per the formula specified above.<br>\n",
        "c) np.dot() method is used to calculate the dot product of two arrays and gives the resultant matrix as output.<br>\n",
        "d) The final resultant matrix is then returned for future use."
      ]
    },
    {
      "cell_type": "code",
      "metadata": {
        "colab": {
          "base_uri": "https://localhost:8080/"
        },
        "id": "QrxN2zRN6wqY",
        "outputId": "6c1e973d-9fe3-4885-a6f4-a9b64c5bec74"
      },
      "source": [
        "#Appling Bayesian Regression\n",
        "#Using Gausian function as a basis to Solve(Base Function)\n",
        "def gauss_phi(x) :\n",
        "\ts = 0.1\n",
        "\treturn np.append(1, np.exp(-(x - np.arange(0, 1 + s, s)) ** 2 / (2 * s * s)))\n",
        "PHI = np.array([gauss_phi(x) for x in X])\n",
        "#Assuming alpha and beta values(priors) to find the posterior matrix as specified in the formula\n",
        "alpha = 0.3\n",
        "beta = 7.0\n",
        "#Applying Array dot product for calculation\n",
        "SigmaCalculation = np.linalg.inv(alpha * np.identity(PHI.shape[1]) + beta * np.dot(PHI.T, PHI))\n",
        "multiply_B = beta * np.dot(SigmaCalculation, np.dot(PHI.T, Y))\n",
        "print (\"Bayesian Regression Values Obtained:\")\n",
        "print (multiply_B)\n",
        "#Returning the values\n",
        "def final_result(omega, x) :\n",
        "\treturn np.dot(omega, phi(x))"
      ],
      "execution_count": 7,
      "outputs": [
        {
          "output_type": "stream",
          "name": "stdout",
          "text": [
            "Bayesian Regression Values Obtained:\n",
            "[ 0.04782394  0.27460576 -0.18139592 -0.33596926  0.73012448  0.44612375\n",
            " -0.22667806  0.21996217 -0.5416329  -0.15035617  0.11429276 -0.27174396]\n"
          ]
        }
      ]
    },
    {
      "cell_type": "markdown",
      "metadata": {
        "id": "02qqA7-I07iU"
      },
      "source": [
        "**Step 4) Plotting the Bayesian Regression Curve.**<br><br>\n",
        "\n",
        "a)We use np.arrange() function to give evenly spaced values within an internal.This function is used here to plot axis in the final output graph.<br>\n",
        "b)We plot the Bayession curve using the final posterior values returned above and also plot the original data points.<br>\n",
        "c)In plt.plot(a, bayesian_regression,'r'), r signifies the color red used to highlight the plot.<br>\n",
        "d)In plt.plot( X,Y,'*'), we use * to plot the data points present in the arrays X and Y."
      ]
    },
    {
      "cell_type": "code",
      "metadata": {
        "colab": {
          "base_uri": "https://localhost:8080/",
          "height": 265
        },
        "id": "_ga88Y_n6p0E",
        "outputId": "0569d7c9-ab71-49a1-d2b1-2c83db16dd00"
      },
      "source": [
        "#Plotting the best fit Bayesian Regression Curve\n",
        "a = np.arange(0, 1.3, 0.01)\n",
        "bayesian_regression = [final_result(multiply_B, x) for x in a]\n",
        "#Plotting the Bayesian Regression Curve\n",
        "plt.plot(a, bayesian_regression, 'r')\n",
        "#Plotting the original Data Points(Represented by * symbol)\n",
        "plt.plot(X, Y, '*')\n",
        "plt.show()"
      ],
      "execution_count": 8,
      "outputs": [
        {
          "output_type": "display_data",
          "data": {
            "image/png": "[encoded data removed]",
            "text/plain": [
              "<Figure size 432x288 with 1 Axes>"
            ]
          },
          "metadata": {
            "needs_background": "light"
          }
        }
      ]
    },
    {
      "cell_type": "markdown",
      "metadata": {
        "id": "uaRvixaq13Sl"
      },
      "source": [
        "**Hence, we successfully generate a 'best-fit' curve using Bayesian Regression.**"
      ]
    }
  ]
}