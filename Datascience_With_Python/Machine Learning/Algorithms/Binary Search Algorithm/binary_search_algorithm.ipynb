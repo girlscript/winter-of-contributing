{
 "cells": [
  {
   "cell_type": "markdown",
   "metadata": {},
   "source": [
    "# Data Science with Python : Binary search algorithm #4374"
   ]
  },
  {
   "cell_type": "markdown",
   "metadata": {},
   "source": [
    "Searching is a process of finding a particular value in a given list of values. Binary Search Algorithm is a technique in which we search for an element( we generally address it as a \"key\") in a sorted array by dividing the interval in two halves recursivly.That means it follows <b>divide and conquer</b> method. As mentioned earlier, this algorithm can be performed only on a sorted array. "
   ]
  },
  {
   "cell_type": "markdown",
   "metadata": {},
   "source": [
    "## Binary Search Python Code :"
   ]
  },
  {
   "cell_type": "code",
   "execution_count": 1,
   "metadata": {},
   "outputs": [],
   "source": [
    "# let us import our library \n",
    "\n",
    "from math import floor"
   ]
  },
  {
   "cell_type": "code",
   "execution_count": 2,
   "metadata": {},
   "outputs": [],
   "source": [
    "# Let us write our binary search function.\n",
    "def BinarySearch(Array, item):\n",
    "    n = len(Array)\n",
    "    begin = 0\n",
    "    end = n-1\n",
    "    \n",
    "    while begin <= end:\n",
    "        middle_index = floor((begin + end)/2)          # Finding the middle index\n",
    "        if Array[middle_index] < item:                 # Comparing with the middle element\n",
    "            begin = middle_index + 1                   # if key is smaller then go to left part\n",
    "        elif Array[middle_index] > item:\n",
    "            end = middle_index - 1                     # if key is greater then go to right part\n",
    "        else:\n",
    "            return middle_index\n",
    "    return -1"
   ]
  },
  {
   "cell_type": "code",
   "execution_count": 3,
   "metadata": {},
   "outputs": [
    {
     "name": "stdout",
     "output_type": "stream",
     "text": [
      "699 is at index 14\n"
     ]
    }
   ],
   "source": [
    "# Inserting a sorted array here\n",
    "A = [10,23,38,43,77,98,120,154,184,230,268,356,380,631,699,740,785,899,1065,1480,1965,2583,3691,4680]\n",
    "# item to be searched\n",
    "item = 699\n",
    "index = BinarySearch(A, item)\n",
    "if index >= 0:\n",
    "    print(\"{} is at index {}\".format(A[index], index))\n",
    "else:\n",
    "    print(\"OOPS !! Search term not found !\")"
   ]
  },
  {
   "cell_type": "code",
   "execution_count": 4,
   "metadata": {},
   "outputs": [
    {
     "name": "stdout",
     "output_type": "stream",
     "text": [
      "OOPS !! Search term not found !\n"
     ]
    }
   ],
   "source": [
    "# Inserting a sorted array here\n",
    "A = [10,23,38,43,77,98,120,154,184,230,268,356,380,631,699,740,785,899,1065,1480,1965,2583,3691,4680]\n",
    "# item to be searched\n",
    "item = 2379\n",
    "index = BinarySearch(A, item)\n",
    "if index >= 0:\n",
    "    print(\"{} is at index {}\".format(A[index], index))\n",
    "else:\n",
    "    print(\"OOPS !! Search term not found !\")"
   ]
  },
  {
   "cell_type": "markdown",
   "metadata": {},
   "source": [
    "Binary Search Algorithm is efficient to Search for an element in a large array or large list or balanced tree. It takes less time than any other linear search algorithm. It cannot be applied if array is not in sorted order. For smaller array or list using binary search is not an efficient way for searching. Inspite of having all this loopholes Binary search is one the most used and most popular searching algorithm."
   ]
  }
 ],
 "metadata": {
  "kernelspec": {
   "display_name": "Python 3",
   "language": "python",
   "name": "python3"
  },
  "language_info": {
   "codemirror_mode": {
    "name": "ipython",
    "version": 3
   },
   "file_extension": ".py",
   "mimetype": "text/x-python",
   "name": "python",
   "nbconvert_exporter": "python",
   "pygments_lexer": "ipython3",
   "version": "3.8.5"
  }
 },
 "nbformat": 4,
 "nbformat_minor": 4
}
