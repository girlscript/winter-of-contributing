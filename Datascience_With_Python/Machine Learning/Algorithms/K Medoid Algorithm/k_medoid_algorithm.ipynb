{
  "nbformat": 4,
  "nbformat_minor": 0,
  "metadata": {
    "colab": {
      "name": "k_medoid_algorithm.ipynb",
      "provenance": [],
      "collapsed_sections": []
    },
    "kernelspec": {
      "name": "python3",
      "display_name": "Python 3"
    },
    "language_info": {
      "name": "python"
    }
  },
  "cells": [
    {
      "cell_type": "markdown",
      "metadata": {
        "id": "1IYlrzOCgoYR"
      },
      "source": [
        "# **K Medoid Algorithm**"
      ]
    },
    {
      "cell_type": "markdown",
      "metadata": {
        "id": "j50bcWjtgvU9"
      },
      "source": [
        "K Medoid is a Clustering Algorithm in Machine Learning that uses Medoids (i.e. Actual Objects in a Cluster) to represent the Cluster."
      ]
    },
    {
      "cell_type": "markdown",
      "metadata": {
        "id": "vtDPkFeTgxc_"
      },
      "source": [
        "For using this library in Python this comes under Scikit Learn Extra Library."
      ]
    },
    {
      "cell_type": "markdown",
      "metadata": {
        "id": "9EAAb8Y1nQTf"
      },
      "source": [
        "This function operates on an given set of medoids and updates it inplace.\n",
        "\n",
        "## Parameters:\t\n",
        "**C – The cost matrix**, where the cost in K-Medoids algorithm is given as – The dissimilarity of the medoid(Ci) and object(Pi) is calculated by using E = |Pi - Ci|\n",
        "<br>\n",
        "**Medoids** – The vector of medoid indexes. <br>The contents of medoids serve as the initial guess and will be overrided by the results."
      ]
    },
    {
      "cell_type": "markdown",
      "metadata": {
        "id": "1XOPH5SJoAeM"
      },
      "source": [
        "## K Medoid Clustering Process\n",
        "<ol>\n",
        "  <li>Initialize: select k random points out of the n data points as the medoids.</li>\n",
        "  <li>Associate each data point to the closest medoid by using any common distance metric methods.</li>\n",
        "  <li>While the cost decreases:<br>\n",
        "        For each medoid m, for each data o point which is not a medoid:\n",
        "    <ol>\n",
        "      <li>Swap m and o, associate each data point to the closest medoid, recompute the cost.</li>\n",
        "      <li>If the total cost is more than that in the previous step, undo the swap.</li>\n",
        "    </ol>\n",
        "  </li>\n",
        "</ol>  \n"
      ]
    },
    {
      "cell_type": "markdown",
      "metadata": {
        "id": "OmGfNSfUgzDE"
      },
      "source": [
        "In this file , we will showcase how a basic K Medoid Algorithm works in Python , on a randomly created Dataset."
      ]
    },
    {
      "cell_type": "code",
      "metadata": {
        "colab": {
          "base_uri": "https://localhost:8080/"
        },
        "id": "h77AWPvfiB76",
        "outputId": "47df4fa5-1816-46f6-f623-17608c6674f5"
      },
      "source": [
        "!pip install scikit-learn-extra #installing the scikit extra library because it isnt inbuilt"
      ],
      "execution_count": 2,
      "outputs": [
        {
          "output_type": "stream",
          "name": "stdout",
          "text": [
            "Requirement already satisfied: scikit-learn-extra in /usr/local/lib/python3.7/dist-packages (0.2.0)\n",
            "Requirement already satisfied: scikit-learn>=0.23.0 in /usr/local/lib/python3.7/dist-packages (from scikit-learn-extra) (1.0)\n",
            "Requirement already satisfied: numpy>=1.13.3 in /usr/local/lib/python3.7/dist-packages (from scikit-learn-extra) (1.19.5)\n",
            "Requirement already satisfied: scipy>=0.19.1 in /usr/local/lib/python3.7/dist-packages (from scikit-learn-extra) (1.4.1)\n",
            "Requirement already satisfied: joblib>=0.11 in /usr/local/lib/python3.7/dist-packages (from scikit-learn>=0.23.0->scikit-learn-extra) (1.0.1)\n",
            "Requirement already satisfied: threadpoolctl>=2.0.0 in /usr/local/lib/python3.7/dist-packages (from scikit-learn>=0.23.0->scikit-learn-extra) (3.0.0)\n"
          ]
        }
      ]
    },
    {
      "cell_type": "markdown",
      "metadata": {
        "id": "fXnctd_zolGl"
      },
      "source": [
        "## Importing Libraries"
      ]
    },
    {
      "cell_type": "code",
      "metadata": {
        "id": "RA1ExtSfgkab"
      },
      "source": [
        "import matplotlib.pyplot as plt #Used for plotting graphs\n",
        "from sklearn.datasets import make_blobs #Used for creating random dataset\n",
        "from sklearn_extra.cluster import KMedoids #KMedoid is provided under Scikit-Learn Extra\n",
        "from sklearn.metrics import confusion_matrix\n",
        "from sklearn.metrics import silhouette_score\n",
        "import numpy as np \n",
        "import pandas as pd"
      ],
      "execution_count": 1,
      "outputs": []
    },
    {
      "cell_type": "markdown",
      "metadata": {
        "id": "-l9UR35Tonr9"
      },
      "source": [
        "## Generating Data"
      ]
    },
    {
      "cell_type": "code",
      "metadata": {
        "id": "f4W827BshMjg"
      },
      "source": [
        "data, clusters = make_blobs(\n",
        "    n_samples=1000, centers=5, cluster_std=0.4, random_state=0\n",
        ")"
      ],
      "execution_count": 9,
      "outputs": []
    },
    {
      "cell_type": "code",
      "metadata": {
        "colab": {
          "base_uri": "https://localhost:8080/",
          "height": 265
        },
        "id": "nLj6FN0Mkm9r",
        "outputId": "b4571701-37b0-4c26-853d-ab47ccda5392"
      },
      "source": [
        "# Originally created plot with data\n",
        "plt.scatter(data[:,0], data[:,1])\n",
        "plt.show()"
      ],
      "execution_count": 19,
      "outputs": [
        {
          "output_type": "display_data",
          "data": {
            "image/png": "[encoded data removed]",
            "text/plain": [
              "<Figure size 432x288 with 1 Axes>"
            ]
          },
          "metadata": {
            "needs_background": "light"
          }
        }
      ]
    },
    {
      "cell_type": "markdown",
      "metadata": {
        "id": "FQ4QDcCpot6M"
      },
      "source": [
        "## Model Creation"
      ]
    },
    {
      "cell_type": "code",
      "metadata": {
        "id": "Ihyuk4rAiziW"
      },
      "source": [
        "# Creating KMedoids Model\n",
        "Km_model = KMedoids(n_clusters=5) # n_clusters means the number of clusters to form as well as the number of medoids to generate."
      ],
      "execution_count": 20,
      "outputs": []
    },
    {
      "cell_type": "code",
      "metadata": {
        "colab": {
          "base_uri": "https://localhost:8080/"
        },
        "id": "_BxT5mork81r",
        "outputId": "7ff951df-bbb7-4d37-ba13-c79451767c8e"
      },
      "source": [
        "Km_model.fit(data) #Fitting the data"
      ],
      "execution_count": 24,
      "outputs": [
        {
          "output_type": "execute_result",
          "data": {
            "text/plain": [
              "KMedoids(n_clusters=5)"
            ]
          },
          "metadata": {},
          "execution_count": 24
        }
      ]
    },
    {
      "cell_type": "code",
      "metadata": {
        "id": "pt2QMyYmlHwU"
      },
      "source": [
        "pred = Km_model.predict(data) #predicting on our randomly created dataset"
      ],
      "execution_count": 25,
      "outputs": []
    },
    {
      "cell_type": "code",
      "metadata": {
        "id": "xFqAOVrMlSYG"
      },
      "source": [
        "labels_KMed = Km_model.labels_ #storing labels to check accuracy of model"
      ],
      "execution_count": 26,
      "outputs": []
    },
    {
      "cell_type": "markdown",
      "metadata": {
        "id": "acn1qDp-oxH6"
      },
      "source": [
        "## Plotting our observations"
      ]
    },
    {
      "cell_type": "code",
      "metadata": {
        "colab": {
          "base_uri": "https://localhost:8080/",
          "height": 281
        },
        "id": "OcS8T6lQlb6j",
        "outputId": "5f6d6cd8-5859-4eb7-b0b6-4877eeaa568d"
      },
      "source": [
        "# Viewing our Prediction using Plots\n",
        "plt.scatter(data[:, 0], data[:, 1], c = pred , cmap='rainbow')\n",
        "plt.plot(\n",
        "    Km_model.cluster_centers_[:, 0],\n",
        "    Km_model.cluster_centers_[:, 1],\n",
        "    \"o\",\n",
        "    markerfacecolor=\"gold\",\n",
        "    markeredgecolor=\"k\",\n",
        "    markersize=6,\n",
        ")\n",
        "\n",
        "plt.title(\"KMedoids clustering. Medoids are represented in Golden Colour\")\n",
        "plt.show()"
      ],
      "execution_count": 28,
      "outputs": [
        {
          "output_type": "display_data",
          "data": {
            "image/png": "[encoded data removed]",
            "text/plain": [
              "<Figure size 432x288 with 1 Axes>"
            ]
          },
          "metadata": {
            "needs_background": "light"
          }
        }
      ]
    },
    {
      "cell_type": "code",
      "metadata": {
        "colab": {
          "base_uri": "https://localhost:8080/"
        },
        "id": "9XP3p4Rpmewi",
        "outputId": "c512661f-d9eb-4499-fb2a-b21584d2444c"
      },
      "source": [
        "Km_model.cluster_centers_ #points which were selected for Medoids in our clustering data"
      ],
      "execution_count": 32,
      "outputs": [
        {
          "output_type": "execute_result",
          "data": {
            "text/plain": [
              "array([[ 0.95161952,  4.26086522],\n",
              "       [ 9.28082405, -2.36398328],\n",
              "       [ 1.97410879,  0.85371055],\n",
              "       [-1.2663011 ,  7.86710871],\n",
              "       [-1.49990711,  2.92441749]])"
            ]
          },
          "metadata": {},
          "execution_count": 32
        }
      ]
    },
    {
      "cell_type": "markdown",
      "metadata": {
        "id": "b8R9V0K-l0a5"
      },
      "source": [
        "## Accuracy of K Medoid Clustering"
      ]
    },
    {
      "cell_type": "code",
      "metadata": {
        "colab": {
          "base_uri": "https://localhost:8080/"
        },
        "id": "yvtPL44vikfa",
        "outputId": "46865561-94db-4ecb-da2e-5cf13bb25ea9"
      },
      "source": [
        "KMed_score = silhouette_score(data, labels_KMed)\n",
        "KMed_score"
      ],
      "execution_count": 29,
      "outputs": [
        {
          "output_type": "execute_result",
          "data": {
            "text/plain": [
              "0.8112811891527041"
            ]
          },
          "metadata": {},
          "execution_count": 29
        }
      ]
    },
    {
      "cell_type": "markdown",
      "metadata": {
        "id": "swaOXrlKoUjZ"
      },
      "source": [
        "On this randomly created dataset we got an accuracy of 81.1 %"
      ]
    },
    {
      "cell_type": "markdown",
      "metadata": {
        "id": "IKE4ns8An6GG"
      },
      "source": [
        "## Thanks a lot!"
      ]
    }
  ]
}