{
  "nbformat": 4,
  "nbformat_minor": 0,
  "metadata": {
    "colab": {
      "name": "linear_regression.ipynb",
      "provenance": [],
      "collapsed_sections": []
    },
    "kernelspec": {
      "name": "python3",
      "display_name": "Python 3"
    },
    "language_info": {
      "name": "python"
    }
  },
  "cells": [
    {
      "cell_type": "markdown",
      "metadata": {
        "id": "-neCDEap-vq6"
      },
      "source": [
        "# **Linear Regression**\n",
        "\n",
        "Linear regression is the simplest approach for statistical learning. It is a good starting point for more advanced approaches, and in fact, many fancy statistical learning techniques can be seen as an extension of linear regression. It is a type of supervised machine learning. It is used to predict the relationship between  dependent variable and given independent variables. \n",
        "\n",
        "* Linear regression analysis is used to predict the value of a variable based on the value of another variable. \n",
        "* The variable you want to predict is called the dependent variable. \n",
        "* The variable you are using to predict the other variable's value is called the independent variable.\n",
        "\n",
        "\n"
      ]
    },
    {
      "cell_type": "code",
      "metadata": {
        "id": "Nny9q2I9A5cv"
      },
      "source": [
        "#import libraries\n",
        "import numpy as np\n",
        "import pandas as pd\n",
        "import matplotlib.pyplot as plt"
      ],
      "execution_count": 8,
      "outputs": []
    },
    {
      "cell_type": "markdown",
      "metadata": {
        "id": "IyhZ7l7kABIF"
      },
      "source": [
        "# **INFORMATION ABOUT DATASET**\n",
        "The dataset that I have considered is Salary Data which has one feature ie Year of experience and one label ie Salary\n",
        "* In the dataset Year Of Experience is independent variable\n",
        "* In the dataset Salary is dependent variable\n"
      ]
    },
    {
      "cell_type": "markdown",
      "metadata": {
        "id": "7mkjcFkABDAd"
      },
      "source": [
        "### **Import Dataset**"
      ]
    },
    {
      "cell_type": "code",
      "metadata": {
        "id": "8a_s8CurBAA8"
      },
      "source": [
        "df=pd.read_csv('/content/salaryData.csv')"
      ],
      "execution_count": 9,
      "outputs": []
    },
    {
      "cell_type": "markdown",
      "metadata": {
        "id": "0BOmj_-oY6EQ"
      },
      "source": [
        "# **Exploratory Data Analysis (EDA)** "
      ]
    },
    {
      "cell_type": "code",
      "metadata": {
        "colab": {
          "base_uri": "https://localhost:8080/",
          "height": 204
        },
        "id": "akpON6N1BXrM",
        "outputId": "f220fd06-98b9-4e29-99aa-36fd45c58840"
      },
      "source": [
        "# printing first five rows\n",
        "df.head()"
      ],
      "execution_count": 10,
      "outputs": [
        {
          "output_type": "execute_result",
          "data": {
            "text/html": [
              "<div>\n",
              "<style scoped>\n",
              "    .dataframe tbody tr th:only-of-type {\n",
              "        vertical-align: middle;\n",
              "    }\n",
              "\n",
              "    .dataframe tbody tr th {\n",
              "        vertical-align: top;\n",
              "    }\n",
              "\n",
              "    .dataframe thead th {\n",
              "        text-align: right;\n",
              "    }\n",
              "</style>\n",
              "<table border=\"1\" class=\"dataframe\">\n",
              "  <thead>\n",
              "    <tr style=\"text-align: right;\">\n",
              "      <th></th>\n",
              "      <th>YearsExperience</th>\n",
              "      <th>Salary</th>\n",
              "    </tr>\n",
              "  </thead>\n",
              "  <tbody>\n",
              "    <tr>\n",
              "      <th>0</th>\n",
              "      <td>1.1</td>\n",
              "      <td>39343.0</td>\n",
              "    </tr>\n",
              "    <tr>\n",
              "      <th>1</th>\n",
              "      <td>1.3</td>\n",
              "      <td>46205.0</td>\n",
              "    </tr>\n",
              "    <tr>\n",
              "      <th>2</th>\n",
              "      <td>1.5</td>\n",
              "      <td>37731.0</td>\n",
              "    </tr>\n",
              "    <tr>\n",
              "      <th>3</th>\n",
              "      <td>2.0</td>\n",
              "      <td>43525.0</td>\n",
              "    </tr>\n",
              "    <tr>\n",
              "      <th>4</th>\n",
              "      <td>2.2</td>\n",
              "      <td>39891.0</td>\n",
              "    </tr>\n",
              "  </tbody>\n",
              "</table>\n",
              "</div>"
            ],
            "text/plain": [
              "   YearsExperience   Salary\n",
              "0              1.1  39343.0\n",
              "1              1.3  46205.0\n",
              "2              1.5  37731.0\n",
              "3              2.0  43525.0\n",
              "4              2.2  39891.0"
            ]
          },
          "metadata": {},
          "execution_count": 10
        }
      ]
    },
    {
      "cell_type": "code",
      "metadata": {
        "colab": {
          "base_uri": "https://localhost:8080/",
          "height": 204
        },
        "id": "AHAevjK2Crgr",
        "outputId": "d9e6a0db-b44e-4e70-cd33-eb65aab54d3f"
      },
      "source": [
        "# printing last five rows\n",
        "df.tail()"
      ],
      "execution_count": 11,
      "outputs": [
        {
          "output_type": "execute_result",
          "data": {
            "text/html": [
              "<div>\n",
              "<style scoped>\n",
              "    .dataframe tbody tr th:only-of-type {\n",
              "        vertical-align: middle;\n",
              "    }\n",
              "\n",
              "    .dataframe tbody tr th {\n",
              "        vertical-align: top;\n",
              "    }\n",
              "\n",
              "    .dataframe thead th {\n",
              "        text-align: right;\n",
              "    }\n",
              "</style>\n",
              "<table border=\"1\" class=\"dataframe\">\n",
              "  <thead>\n",
              "    <tr style=\"text-align: right;\">\n",
              "      <th></th>\n",
              "      <th>YearsExperience</th>\n",
              "      <th>Salary</th>\n",
              "    </tr>\n",
              "  </thead>\n",
              "  <tbody>\n",
              "    <tr>\n",
              "      <th>25</th>\n",
              "      <td>9.0</td>\n",
              "      <td>105582.0</td>\n",
              "    </tr>\n",
              "    <tr>\n",
              "      <th>26</th>\n",
              "      <td>9.5</td>\n",
              "      <td>116969.0</td>\n",
              "    </tr>\n",
              "    <tr>\n",
              "      <th>27</th>\n",
              "      <td>9.6</td>\n",
              "      <td>112635.0</td>\n",
              "    </tr>\n",
              "    <tr>\n",
              "      <th>28</th>\n",
              "      <td>10.3</td>\n",
              "      <td>122391.0</td>\n",
              "    </tr>\n",
              "    <tr>\n",
              "      <th>29</th>\n",
              "      <td>10.5</td>\n",
              "      <td>121872.0</td>\n",
              "    </tr>\n",
              "  </tbody>\n",
              "</table>\n",
              "</div>"
            ],
            "text/plain": [
              "    YearsExperience    Salary\n",
              "25              9.0  105582.0\n",
              "26              9.5  116969.0\n",
              "27              9.6  112635.0\n",
              "28             10.3  122391.0\n",
              "29             10.5  121872.0"
            ]
          },
          "metadata": {},
          "execution_count": 11
        }
      ]
    },
    {
      "cell_type": "code",
      "metadata": {
        "colab": {
          "base_uri": "https://localhost:8080/"
        },
        "id": "C8XfsPNmUmgY",
        "outputId": "3ebc01eb-3c45-48f5-9bb7-c4a5a29d3ea0"
      },
      "source": [
        "# printing the max value from the dataset\n",
        "df.max()"
      ],
      "execution_count": 12,
      "outputs": [
        {
          "output_type": "execute_result",
          "data": {
            "text/plain": [
              "YearsExperience        10.5\n",
              "Salary             122391.0\n",
              "dtype: float64"
            ]
          },
          "metadata": {},
          "execution_count": 12
        }
      ]
    },
    {
      "cell_type": "code",
      "metadata": {
        "colab": {
          "base_uri": "https://localhost:8080/"
        },
        "id": "BrsuTav6U5Uz",
        "outputId": "7a1cf4e6-0705-4923-8f84-10d80c7a70cd"
      },
      "source": [
        "# printing the min value from the dataset\n",
        "df.min()"
      ],
      "execution_count": 13,
      "outputs": [
        {
          "output_type": "execute_result",
          "data": {
            "text/plain": [
              "YearsExperience        1.1\n",
              "Salary             37731.0\n",
              "dtype: float64"
            ]
          },
          "metadata": {},
          "execution_count": 13
        }
      ]
    },
    {
      "cell_type": "code",
      "metadata": {
        "colab": {
          "base_uri": "https://localhost:8080/"
        },
        "id": "OWsODC92CAAm",
        "outputId": "c2d2127f-87f3-407b-aed3-2269d0c61b50"
      },
      "source": [
        "# finding the rows and cols of the data\n",
        "df.shape"
      ],
      "execution_count": 14,
      "outputs": [
        {
          "output_type": "execute_result",
          "data": {
            "text/plain": [
              "(30, 2)"
            ]
          },
          "metadata": {},
          "execution_count": 14
        }
      ]
    },
    {
      "cell_type": "code",
      "metadata": {
        "colab": {
          "base_uri": "https://localhost:8080/"
        },
        "id": "J0MgU7PUTTzV",
        "outputId": "53374860-d56d-46a4-9b87-fd9afb52a9e7"
      },
      "source": [
        "# checking for null values\n",
        "df.isnull().sum()"
      ],
      "execution_count": 15,
      "outputs": [
        {
          "output_type": "execute_result",
          "data": {
            "text/plain": [
              "YearsExperience    0\n",
              "Salary             0\n",
              "dtype: int64"
            ]
          },
          "metadata": {},
          "execution_count": 15
        }
      ]
    },
    {
      "cell_type": "code",
      "metadata": {
        "colab": {
          "base_uri": "https://localhost:8080/",
          "height": 111
        },
        "id": "8ou-wAU1VapY",
        "outputId": "fe61d327-2d91-4311-f4df-f61cb21b34c4"
      },
      "source": [
        "# Finding the correlation between features\n",
        "df.corr()"
      ],
      "execution_count": 16,
      "outputs": [
        {
          "output_type": "execute_result",
          "data": {
            "text/html": [
              "<div>\n",
              "<style scoped>\n",
              "    .dataframe tbody tr th:only-of-type {\n",
              "        vertical-align: middle;\n",
              "    }\n",
              "\n",
              "    .dataframe tbody tr th {\n",
              "        vertical-align: top;\n",
              "    }\n",
              "\n",
              "    .dataframe thead th {\n",
              "        text-align: right;\n",
              "    }\n",
              "</style>\n",
              "<table border=\"1\" class=\"dataframe\">\n",
              "  <thead>\n",
              "    <tr style=\"text-align: right;\">\n",
              "      <th></th>\n",
              "      <th>YearsExperience</th>\n",
              "      <th>Salary</th>\n",
              "    </tr>\n",
              "  </thead>\n",
              "  <tbody>\n",
              "    <tr>\n",
              "      <th>YearsExperience</th>\n",
              "      <td>1.000000</td>\n",
              "      <td>0.978242</td>\n",
              "    </tr>\n",
              "    <tr>\n",
              "      <th>Salary</th>\n",
              "      <td>0.978242</td>\n",
              "      <td>1.000000</td>\n",
              "    </tr>\n",
              "  </tbody>\n",
              "</table>\n",
              "</div>"
            ],
            "text/plain": [
              "                 YearsExperience    Salary\n",
              "YearsExperience         1.000000  0.978242\n",
              "Salary                  0.978242  1.000000"
            ]
          },
          "metadata": {},
          "execution_count": 16
        }
      ]
    },
    {
      "cell_type": "code",
      "metadata": {
        "colab": {
          "base_uri": "https://localhost:8080/"
        },
        "id": "sfr7e2vGTZt5",
        "outputId": "ab34f55c-c3a3-4e3f-9763-e86b95ea7938"
      },
      "source": [
        "# info() provides brief information about the dataset\n",
        "df.info()"
      ],
      "execution_count": 17,
      "outputs": [
        {
          "output_type": "stream",
          "name": "stdout",
          "text": [
            "<class 'pandas.core.frame.DataFrame'>\n",
            "RangeIndex: 30 entries, 0 to 29\n",
            "Data columns (total 2 columns):\n",
            " #   Column           Non-Null Count  Dtype  \n",
            "---  ------           --------------  -----  \n",
            " 0   YearsExperience  30 non-null     float64\n",
            " 1   Salary           30 non-null     float64\n",
            "dtypes: float64(2)\n",
            "memory usage: 608.0 bytes\n"
          ]
        }
      ]
    },
    {
      "cell_type": "code",
      "metadata": {
        "colab": {
          "base_uri": "https://localhost:8080/",
          "height": 297
        },
        "id": "dfDGJaHcTkAH",
        "outputId": "e6e1da86-4a81-4ec0-f71b-944c203cbae4"
      },
      "source": [
        "# describe() is used to view some basic statistical details like percentile, mean, std etc. of a data frame or a series of numeric values.\n",
        "df.describe()"
      ],
      "execution_count": 18,
      "outputs": [
        {
          "output_type": "execute_result",
          "data": {
            "text/html": [
              "<div>\n",
              "<style scoped>\n",
              "    .dataframe tbody tr th:only-of-type {\n",
              "        vertical-align: middle;\n",
              "    }\n",
              "\n",
              "    .dataframe tbody tr th {\n",
              "        vertical-align: top;\n",
              "    }\n",
              "\n",
              "    .dataframe thead th {\n",
              "        text-align: right;\n",
              "    }\n",
              "</style>\n",
              "<table border=\"1\" class=\"dataframe\">\n",
              "  <thead>\n",
              "    <tr style=\"text-align: right;\">\n",
              "      <th></th>\n",
              "      <th>YearsExperience</th>\n",
              "      <th>Salary</th>\n",
              "    </tr>\n",
              "  </thead>\n",
              "  <tbody>\n",
              "    <tr>\n",
              "      <th>count</th>\n",
              "      <td>30.000000</td>\n",
              "      <td>30.000000</td>\n",
              "    </tr>\n",
              "    <tr>\n",
              "      <th>mean</th>\n",
              "      <td>5.313333</td>\n",
              "      <td>76003.000000</td>\n",
              "    </tr>\n",
              "    <tr>\n",
              "      <th>std</th>\n",
              "      <td>2.837888</td>\n",
              "      <td>27414.429785</td>\n",
              "    </tr>\n",
              "    <tr>\n",
              "      <th>min</th>\n",
              "      <td>1.100000</td>\n",
              "      <td>37731.000000</td>\n",
              "    </tr>\n",
              "    <tr>\n",
              "      <th>25%</th>\n",
              "      <td>3.200000</td>\n",
              "      <td>56720.750000</td>\n",
              "    </tr>\n",
              "    <tr>\n",
              "      <th>50%</th>\n",
              "      <td>4.700000</td>\n",
              "      <td>65237.000000</td>\n",
              "    </tr>\n",
              "    <tr>\n",
              "      <th>75%</th>\n",
              "      <td>7.700000</td>\n",
              "      <td>100544.750000</td>\n",
              "    </tr>\n",
              "    <tr>\n",
              "      <th>max</th>\n",
              "      <td>10.500000</td>\n",
              "      <td>122391.000000</td>\n",
              "    </tr>\n",
              "  </tbody>\n",
              "</table>\n",
              "</div>"
            ],
            "text/plain": [
              "       YearsExperience         Salary\n",
              "count        30.000000      30.000000\n",
              "mean          5.313333   76003.000000\n",
              "std           2.837888   27414.429785\n",
              "min           1.100000   37731.000000\n",
              "25%           3.200000   56720.750000\n",
              "50%           4.700000   65237.000000\n",
              "75%           7.700000  100544.750000\n",
              "max          10.500000  122391.000000"
            ]
          },
          "metadata": {},
          "execution_count": 18
        }
      ]
    },
    {
      "cell_type": "code",
      "metadata": {
        "colab": {
          "base_uri": "https://localhost:8080/"
        },
        "id": "D8hgwOo0T0CP",
        "outputId": "22cbc8ea-1cae-47e0-d753-e99a8ae67fd3"
      },
      "source": [
        "# Dropping duplicate value if there exist any\n",
        "if df.duplicated().sum()>0:\n",
        "  df.drop_duplicates(keep=\"first\", inplace=True)\n",
        "df.shape            # since the no. of rows and cols are same it implies there were no duplicate values"
      ],
      "execution_count": 19,
      "outputs": [
        {
          "output_type": "execute_result",
          "data": {
            "text/plain": [
              "(30, 2)"
            ]
          },
          "metadata": {},
          "execution_count": 19
        }
      ]
    },
    {
      "cell_type": "markdown",
      "metadata": {
        "id": "kxSpEjGkV7NS"
      },
      "source": [
        "# **Data Visualization**"
      ]
    },
    {
      "cell_type": "code",
      "metadata": {
        "colab": {
          "base_uri": "https://localhost:8080/",
          "height": 279
        },
        "id": "4FTobeE9Vquo",
        "outputId": "51b0fb8c-30ff-4014-d315-dd3dc8d7003e"
      },
      "source": [
        "x=df['YearsExperience'] \n",
        "y=df['Salary']\n",
        "plt.xlabel('Years of Experience')\n",
        "plt.ylabel('Salary')\n",
        "plt.scatter(x,y,color='green',marker='*')\n",
        "plt.show()"
      ],
      "execution_count": 20,
      "outputs": [
        {
          "output_type": "display_data",
          "data": {
            "image/png": "[encoded data removed]",
            "text/plain": [
              "<Figure size 432x288 with 1 Axes>"
            ]
          },
          "metadata": {
            "needs_background": "light"
          }
        }
      ]
    },
    {
      "cell_type": "markdown",
      "metadata": {
        "id": "nB5qaZ0GWKXO"
      },
      "source": [
        "# **Splitting of dataset for training & testing**\n",
        "\n",
        "\n"
      ]
    },
    {
      "cell_type": "code",
      "metadata": {
        "colab": {
          "base_uri": "https://localhost:8080/"
        },
        "id": "2uj8EowTWJmp",
        "outputId": "34eab1fc-f168-46f8-f090-87ce532b088e"
      },
      "source": [
        "# using slicing\n",
        "# for x(features): taking all rows and only first column\n",
        "# for y(labels): taking all rows and only last column\n",
        "x=df.iloc[:,:-1].values   #x features\n",
        "y=df.iloc[:,1].values     #y labels\n",
        "print(x)\n",
        "print(y)"
      ],
      "execution_count": 21,
      "outputs": [
        {
          "output_type": "stream",
          "name": "stdout",
          "text": [
            "[[ 1.1]\n",
            " [ 1.3]\n",
            " [ 1.5]\n",
            " [ 2. ]\n",
            " [ 2.2]\n",
            " [ 2.9]\n",
            " [ 3. ]\n",
            " [ 3.2]\n",
            " [ 3.2]\n",
            " [ 3.7]\n",
            " [ 3.9]\n",
            " [ 4. ]\n",
            " [ 4. ]\n",
            " [ 4.1]\n",
            " [ 4.5]\n",
            " [ 4.9]\n",
            " [ 5.1]\n",
            " [ 5.3]\n",
            " [ 5.9]\n",
            " [ 6. ]\n",
            " [ 6.8]\n",
            " [ 7.1]\n",
            " [ 7.9]\n",
            " [ 8.2]\n",
            " [ 8.7]\n",
            " [ 9. ]\n",
            " [ 9.5]\n",
            " [ 9.6]\n",
            " [10.3]\n",
            " [10.5]]\n",
            "[ 39343.  46205.  37731.  43525.  39891.  56642.  60150.  54445.  64445.\n",
            "  57189.  63218.  55794.  56957.  57081.  61111.  67938.  66029.  83088.\n",
            "  81363.  93940.  91738.  98273. 101302. 113812. 109431. 105582. 116969.\n",
            " 112635. 122391. 121872.]\n"
          ]
        }
      ]
    },
    {
      "cell_type": "markdown",
      "metadata": {
        "id": "bZRD5EvcFkJy"
      },
      "source": [
        "### **The train-test split is a technique for evaluating the performance of a machine learning algorithm**\n",
        "* Train Dataset: Used to fit the machine learning model.\n",
        "* Test Dataset: Used to evaluate the fit machine learning model.\n"
      ]
    },
    {
      "cell_type": "code",
      "metadata": {
        "id": "wYVF7ocPYOKj"
      },
      "source": [
        "# Training size: 70%\n",
        "# Testing size: 30%\n",
        "import sklearn \n",
        "from sklearn.model_selection import train_test_split\n",
        "xtrain,xtest,ytrain,ytest = train_test_split(x,y,test_size=0.33,random_state=1)"
      ],
      "execution_count": 22,
      "outputs": []
    },
    {
      "cell_type": "markdown",
      "metadata": {
        "id": "SJdroiVtYt_Q"
      },
      "source": [
        "### **Creating Simple Linear Model**"
      ]
    },
    {
      "cell_type": "code",
      "metadata": {
        "id": "0FiRX3fmYtIM"
      },
      "source": [
        "# imported linear regression model from sklearn \n",
        "from sklearn.linear_model import LinearRegression\n",
        "model = LinearRegression()   # y=ax+b\n",
        "\n",
        "# fit training data into newly created model\n",
        "mymodel=model.fit(xtrain,ytrain)\n"
      ],
      "execution_count": 23,
      "outputs": []
    },
    {
      "cell_type": "markdown",
      "metadata": {
        "id": "na6ENVbVZLrj"
      },
      "source": [
        "### **Prediction**"
      ]
    },
    {
      "cell_type": "code",
      "metadata": {
        "id": "avzktKEkZQqZ"
      },
      "source": [
        "# using predict() and adding testing data\n",
        "y_pred=mymodel.predict(xtest)"
      ],
      "execution_count": 24,
      "outputs": []
    },
    {
      "cell_type": "code",
      "metadata": {
        "colab": {
          "base_uri": "https://localhost:8080/"
        },
        "id": "18CpkmFjZfh2",
        "outputId": "a83e882b-14e2-4196-f82e-2b1c0c7b7363"
      },
      "source": [
        "#difference of y_pred is predicted by model and ytest  is actual\n",
        "print('Predicted values: ')\n",
        "print(y_pred)\n",
        "print()\n",
        "\n",
        "print('Actual values: ')\n",
        "print(ytest)"
      ],
      "execution_count": 25,
      "outputs": [
        {
          "output_type": "stream",
          "name": "stdout",
          "text": [
            "Predicted values: \n",
            "[ 74675.37776747  91160.02832519  61853.98288925  81086.07520659\n",
            "  67348.86640849  88412.58656557 113139.56240215  44453.51841166\n",
            " 105813.05104316  98486.53968418]\n",
            "\n",
            "Actual values: \n",
            "[ 83088.  98273.  63218.  93940.  61111.  91738. 116969.  43525. 109431.\n",
            " 101302.]\n"
          ]
        }
      ]
    },
    {
      "cell_type": "code",
      "metadata": {
        "colab": {
          "base_uri": "https://localhost:8080/",
          "height": 359
        },
        "id": "_FGNmeUGgBBl",
        "outputId": "409302da-9748-45ad-b72a-ea9298b59f0a"
      },
      "source": [
        "# created dataframe for representing of both test and predicted value\n",
        "model_dataset=pd.DataFrame(ytest, y_pred)\n",
        "model_dataset"
      ],
      "execution_count": 26,
      "outputs": [
        {
          "output_type": "execute_result",
          "data": {
            "text/html": [
              "<div>\n",
              "<style scoped>\n",
              "    .dataframe tbody tr th:only-of-type {\n",
              "        vertical-align: middle;\n",
              "    }\n",
              "\n",
              "    .dataframe tbody tr th {\n",
              "        vertical-align: top;\n",
              "    }\n",
              "\n",
              "    .dataframe thead th {\n",
              "        text-align: right;\n",
              "    }\n",
              "</style>\n",
              "<table border=\"1\" class=\"dataframe\">\n",
              "  <thead>\n",
              "    <tr style=\"text-align: right;\">\n",
              "      <th></th>\n",
              "      <th>0</th>\n",
              "    </tr>\n",
              "  </thead>\n",
              "  <tbody>\n",
              "    <tr>\n",
              "      <th>74675.377767</th>\n",
              "      <td>83088.0</td>\n",
              "    </tr>\n",
              "    <tr>\n",
              "      <th>91160.028325</th>\n",
              "      <td>98273.0</td>\n",
              "    </tr>\n",
              "    <tr>\n",
              "      <th>61853.982889</th>\n",
              "      <td>63218.0</td>\n",
              "    </tr>\n",
              "    <tr>\n",
              "      <th>81086.075207</th>\n",
              "      <td>93940.0</td>\n",
              "    </tr>\n",
              "    <tr>\n",
              "      <th>67348.866408</th>\n",
              "      <td>61111.0</td>\n",
              "    </tr>\n",
              "    <tr>\n",
              "      <th>88412.586566</th>\n",
              "      <td>91738.0</td>\n",
              "    </tr>\n",
              "    <tr>\n",
              "      <th>113139.562402</th>\n",
              "      <td>116969.0</td>\n",
              "    </tr>\n",
              "    <tr>\n",
              "      <th>44453.518412</th>\n",
              "      <td>43525.0</td>\n",
              "    </tr>\n",
              "    <tr>\n",
              "      <th>105813.051043</th>\n",
              "      <td>109431.0</td>\n",
              "    </tr>\n",
              "    <tr>\n",
              "      <th>98486.539684</th>\n",
              "      <td>101302.0</td>\n",
              "    </tr>\n",
              "  </tbody>\n",
              "</table>\n",
              "</div>"
            ],
            "text/plain": [
              "                      0\n",
              "74675.377767    83088.0\n",
              "91160.028325    98273.0\n",
              "61853.982889    63218.0\n",
              "81086.075207    93940.0\n",
              "67348.866408    61111.0\n",
              "88412.586566    91738.0\n",
              "113139.562402  116969.0\n",
              "44453.518412    43525.0\n",
              "105813.051043  109431.0\n",
              "98486.539684   101302.0"
            ]
          },
          "metadata": {},
          "execution_count": 26
        }
      ]
    },
    {
      "cell_type": "code",
      "metadata": {
        "colab": {
          "base_uri": "https://localhost:8080/"
        },
        "id": "sP1JC8wigaxd",
        "outputId": "98782088-56fd-4c8f-9d5e-0f0b520245ac"
      },
      "source": [
        "# printing coef and intercept of the linear regression model\n",
        "print(\"Coeff:\",  mymodel.coef_)\n",
        "print(\"Intercept:\" ,mymodel.intercept_)"
      ],
      "execution_count": 27,
      "outputs": [
        {
          "output_type": "stream",
          "name": "stdout",
          "text": [
            "Coeff: [9158.13919873]\n",
            "Intercept: 26137.24001419694\n"
          ]
        }
      ]
    },
    {
      "cell_type": "markdown",
      "metadata": {
        "id": "XKYnPaWkKxWy"
      },
      "source": [
        "### **Using Mathematical Knowledge**"
      ]
    },
    {
      "cell_type": "code",
      "metadata": {
        "colab": {
          "base_uri": "https://localhost:8080/"
        },
        "id": "e1qf5xscJeJT",
        "outputId": "dd83bb09-fe3a-4689-c887-15667843345d"
      },
      "source": [
        "# y = ax+b\n",
        "\n",
        "# where y = Target\n",
        "\n",
        "#           x = features\n",
        "\n",
        "#           a = slope\n",
        "\n",
        "#           b = y-intercept constant\n",
        "\n",
        "\n",
        "ymath=(9158.139*6 )+26137.24001419694\n",
        "ymath"
      ],
      "execution_count": 28,
      "outputs": [
        {
          "output_type": "execute_result",
          "data": {
            "text/plain": [
              "81086.07401419693"
            ]
          },
          "metadata": {},
          "execution_count": 28
        }
      ]
    },
    {
      "cell_type": "code",
      "metadata": {
        "colab": {
          "base_uri": "https://localhost:8080/"
        },
        "id": "TRMJvai3JxN6",
        "outputId": "d07ad409-c895-48ee-a938-81e77e93966a"
      },
      "source": [
        "ypred=mymodel.predict([[6]])\n",
        "ypred"
      ],
      "execution_count": 30,
      "outputs": [
        {
          "output_type": "execute_result",
          "data": {
            "text/plain": [
              "array([81086.07520659])"
            ]
          },
          "metadata": {},
          "execution_count": 30
        }
      ]
    },
    {
      "cell_type": "markdown",
      "metadata": {
        "id": "Ysz3U7pJMZPJ"
      },
      "source": [
        "The value predicted by model and mathematically are both same"
      ]
    },
    {
      "cell_type": "markdown",
      "metadata": {
        "id": "U086FZaWkJmQ"
      },
      "source": [
        "### **Estimation of accuracy and mean square error**"
      ]
    },
    {
      "cell_type": "code",
      "metadata": {
        "colab": {
          "base_uri": "https://localhost:8080/"
        },
        "id": "xI_tFddpitSI",
        "outputId": "8cc79adf-434a-4e4d-ea5e-e715339cf263"
      },
      "source": [
        "from sklearn.metrics import r2_score,mean_squared_error\n",
        "\n",
        "print(\"accuracy is: \", r2_score(ytest,y_pred))\n",
        "\n",
        "print(\"mean square error is: \" ,mean_squared_error(ytest,y_pred))"
      ],
      "execution_count": 31,
      "outputs": [
        {
          "output_type": "stream",
          "name": "stdout",
          "text": [
            "accuracy is:  0.9240850478446321\n",
            "mean square error is:  37496296.61879842\n"
          ]
        }
      ]
    },
    {
      "cell_type": "markdown",
      "metadata": {
        "id": "9GwwxWHVg0v0"
      },
      "source": [
        "### **Visualization of predicted and actual values from the Linear Regression model**"
      ]
    },
    {
      "cell_type": "code",
      "metadata": {
        "colab": {
          "base_uri": "https://localhost:8080/",
          "height": 265
        },
        "id": "O7hTwHmsg-LI",
        "outputId": "fca0ef08-ac5b-416b-da8a-8153e348dad3"
      },
      "source": [
        "plt.scatter(xtrain,ytrain,color='red')\n",
        "plt.plot(xtrain,mymodel.predict(xtrain))\n",
        "plt.show()"
      ],
      "execution_count": 22,
      "outputs": [
        {
          "output_type": "display_data",
          "data": {
            "image/png": "[encoded data removed]",
            "text/plain": [
              "<Figure size 432x288 with 1 Axes>"
            ]
          },
          "metadata": {
            "needs_background": "light"
          }
        }
      ]
    },
    {
      "cell_type": "markdown",
      "metadata": {
        "id": "7BbWuF0shGoi"
      },
      "source": [
        "In the above plot data points are the actual values \n",
        "and the straight line passing through is the predicted values "
      ]
    }
  ]
}