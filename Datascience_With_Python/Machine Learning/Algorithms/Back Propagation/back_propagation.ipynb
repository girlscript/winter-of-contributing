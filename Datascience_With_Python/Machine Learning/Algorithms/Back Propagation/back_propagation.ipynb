{
  "nbformat": 4,
  "nbformat_minor": 0,
  "metadata": {
    "kernelspec": {
      "display_name": "Python 3",
      "language": "python",
      "name": "python3"
    },
    "language_info": {
      "codemirror_mode": {
        "name": "ipython",
        "version": 3
      },
      "file_extension": ".py",
      "mimetype": "text/x-python",
      "name": "python",
      "nbconvert_exporter": "python",
      "pygments_lexer": "ipython3",
      "version": "3.6.3"
    },
    "colab": {
      "name": "back_propogation.ipynb",
      "provenance": []
    }
  },
  "cells": [
    {
      "cell_type": "markdown",
      "metadata": {
        "id": "h6LLv-0nB5iJ"
      },
      "source": [
        "# **BACK PROPAGATION ALGORITHM**"
      ]
    },
    {
      "cell_type": "markdown",
      "metadata": {
        "id": "4jasoHK1D4Zn"
      },
      "source": [
        "The Backpropagation algorithm looks for the minimum value of the error function in weight space using a technique called the delta rule or gradient descent. The weights that minimize the error function is then considered to be a solution to the learning problem. \n",
        "\n",
        "\n",
        "<p align=\"center\">\n",
        "  <img width=\"500\" height=\"200\" src=\"https://d1jnx9ba8s6j9r.cloudfront.net/blog/wp-content/uploads/2017/09/Training-A-Neural-Network-Backpropagation-Edureka-768x314.png\">\n",
        "</p>\n",
        "\n",
        "To show the implementation of the Back Propagation Algorithm, we built an Artificial Neural Network and test the same using appropriate data sets.\n",
        "\n",
        "\n",
        "\n",
        "Below is a small contrived dataset that we can use to test out training our neural network.\n",
        "<p align=\"center\">\n",
        "  <img width=\"525\" height=\"300\" src=\"data:image/png;base64,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\">\n",
        "</p>\n",
        "\n",
        "\n",
        "Below is the process. We will use 2 neurons in the hidden layer. It is a binary classification problem (2 classes) so there will be two neurons in the output layer. The network will be trained for 20 epochs with a learning rate of 0.5, which is high because we are training for so few iterations."
      ]
    },
    {
      "cell_type": "markdown",
      "metadata": {
        "id": "__CaVVFeFuvg"
      },
      "source": [
        "## **INITIALIZE THE NETWORK**"
      ]
    },
    {
      "cell_type": "code",
      "metadata": {
        "id": "EEqU3CKbB5iO"
      },
      "source": [
        "import random\n",
        "from math import exp\n",
        "from random import seed\n",
        "\n",
        "def initialize_network(n_inputs, n_hidden, n_outputs):\n",
        "    network = list()\n",
        "    hidden_layer = [{'weights':[random.uniform(-0.5,0.5) for i in range(n_inputs + 1)]} for i in range(n_hidden)]\n",
        "    network.append(hidden_layer)\n",
        "    output_layer = [{'weights':[random.uniform(-0.5,0.5) for i in range(n_hidden + 1)]} for i in range(n_outputs)]\n",
        "    network.append(output_layer)\n",
        "    i= 1\n",
        "    print(\"\\n The initialised Neural Network:\\n\")\n",
        "    for layer in network:\n",
        "        j=1\n",
        "        for sub in layer:\n",
        "            print(\"\\n Layer[%d] Node[%d]:\\n\" %(i,j),sub)\n",
        "            j=j+1\n",
        "        i=i+1\n",
        "    return network\n",
        "\n",
        "# Calculate neuron activation (net) for an input\n",
        "\n",
        "def activate(weights, inputs):\n",
        "    activation = weights[-1]\n",
        "    for i in range(len(weights)-1):\n",
        "        activation += weights[i] * inputs[i]\n",
        "    return activation\n",
        " \n",
        "# Transfer neuron activation to sigmoid function \n",
        "def transfer(activation):\n",
        "    return 1.0 / (1.0 + exp(-activation))\n",
        " \n",
        "# Forward propagate input to a network output\n",
        "def forward_propagate(network, row):\n",
        "    inputs = row\n",
        "    for layer in network:\n",
        "        new_inputs = []\n",
        "        for neuron in layer:\n",
        "            activation = activate(neuron['weights'], inputs)\n",
        "            neuron['output'] = transfer(activation)\n",
        "            new_inputs.append(neuron['output'])\n",
        "        inputs = new_inputs\n",
        "    return inputs\n",
        " \n",
        "# Calculate the derivative of an neuron output\n",
        "def transfer_derivative(output):\n",
        "    return output * (1.0 - output)\n",
        " \n",
        "# Backpropagate error and store in neurons\n",
        "def backward_propagate_error(network, expected):\n",
        "    for i in reversed(range(len(network))):\n",
        "        layer = network[i]\n",
        "        errors = list()\n",
        "        \n",
        "        if i != len(network)-1:\n",
        "            for j in range(len(layer)):\n",
        "                error = 0.0\n",
        "                for neuron in network[i + 1]:\n",
        "                    error += (neuron['weights'][j] * neuron['delta'])\n",
        "                errors.append(error)\n",
        "        else:\n",
        "            for j in range(len(layer)):\n",
        "                neuron = layer[j]\n",
        "                errors.append(expected[j] - neuron['output'])\n",
        "        \n",
        "        for j in range(len(layer)):\n",
        "            neuron = layer[j]\n",
        "            neuron['delta'] = errors[j] * transfer_derivative(neuron['output'])\n",
        " \n",
        "\n",
        "# Update network weights with error\n",
        "def update_weights(network, row, l_rate):\n",
        "    for i in range(len(network)):\n",
        "        inputs = row[:-1]\n",
        "        if i != 0:\n",
        "            inputs = [neuron['output'] for neuron in network[i - 1]]\n",
        "        for neuron in network[i]:\n",
        "            for j in range(len(inputs)):\n",
        "                neuron['weights'][j] += l_rate * neuron['delta'] * inputs[j]\n",
        "            neuron['weights'][-1] += l_rate * neuron['delta']\n",
        " \n",
        "\n",
        "\n",
        " \n",
        "\n",
        "\n",
        "\n"
      ],
      "execution_count": null,
      "outputs": []
    },
    {
      "cell_type": "markdown",
      "metadata": {
        "id": "Xp0pXZa4FaCg"
      },
      "source": [
        "## **TRAIN THE NETWORK FOR A FIXED NUMBER OF EPOCHS**"
      ]
    },
    {
      "cell_type": "code",
      "metadata": {
        "id": "0BJnWliaFaf9"
      },
      "source": [
        "# Train a network for a fixed number of epochs\n",
        "def train_network(network, train, l_rate, n_epoch, n_outputs):\n",
        "   \n",
        "    print(\"\\n Network Training Begins:\\n\")\n",
        "    \n",
        "    for epoch in range(n_epoch):\n",
        "        sum_error = 0\n",
        "        for row in train:\n",
        "            outputs = forward_propagate(network, row)\n",
        "            expected = [0 for i in range(n_outputs)]\n",
        "            expected[row[-1]] = 1\n",
        "            sum_error += sum([(expected[i]-outputs[i])**2 for i in range(len(expected))])\n",
        "            backward_propagate_error(network, expected)\n",
        "            update_weights(network, row, l_rate)\n",
        "        print('>epoch=%d, lrate=%.3f, error=%.3f' % (epoch, l_rate, sum_error))\n",
        "    \n",
        "    print(\"\\n Network Training Ends:\\n\")"
      ],
      "execution_count": null,
      "outputs": []
    },
    {
      "cell_type": "markdown",
      "metadata": {
        "id": "Im6vv-NLFlAR"
      },
      "source": [
        "## **TEST TRAINING THE BACKPROPAGATION ALGORITHM**\n",
        "\n"
      ]
    },
    {
      "cell_type": "code",
      "metadata": {
        "colab": {
          "base_uri": "https://localhost:8080/"
        },
        "id": "qZRKpfO6Fkq_",
        "outputId": "9c5cec51-e61f-49e3-b793-85f9eb3ea2fc"
      },
      "source": [
        "seed(2) \n",
        "dataset = [[2.7810836,2.550537003,0],\n",
        "    [1.465489372,2.362125076,0],\n",
        "    [3.396561688,4.400293529,0],\n",
        "    [1.38807019,1.850220317,0],\n",
        "    [3.06407232,3.005305973,0],\n",
        "    [7.627531214,2.759262235,1],\n",
        "    [5.332441248,2.088626775,1],\n",
        "    [6.922596716,1.77106367,1],\n",
        "    [8.675418651,-0.242068655,1],\n",
        "    [7.673756466,3.508563011,1]]\n",
        "\n",
        "print(\"\\n The input Data Set :\\n\",dataset)\n",
        "n_inputs = len(dataset[0]) - 1\n",
        "print(\"\\n Number of Inputs :\\n\",n_inputs)\n",
        "n_outputs = len(set([row[-1] for row in dataset]))\n",
        "print(\"\\n Number of Outputs :\\n\",n_outputs)\n",
        "\n",
        "#Network Initialization\n",
        "network = initialize_network(n_inputs, 2, n_outputs)"
      ],
      "execution_count": null,
      "outputs": [
        {
          "output_type": "stream",
          "name": "stdout",
          "text": [
            "\n",
            " The input Data Set :\n",
            " [[2.7810836, 2.550537003, 0], [1.465489372, 2.362125076, 0], [3.396561688, 4.400293529, 0], [1.38807019, 1.850220317, 0], [3.06407232, 3.005305973, 0], [7.627531214, 2.759262235, 1], [5.332441248, 2.088626775, 1], [6.922596716, 1.77106367, 1], [8.675418651, -0.242068655, 1], [7.673756466, 3.508563011, 1]]\n",
            "\n",
            " Number of Inputs :\n",
            " 2\n",
            "\n",
            " Number of Outputs :\n",
            " 2\n",
            "\n",
            " The initialised Neural Network:\n",
            "\n",
            "\n",
            " Layer[1] Node[1]:\n",
            " {'weights': [0.4560342718892494, 0.4478274870593494, -0.4434486322731913]}\n",
            "\n",
            " Layer[1] Node[2]:\n",
            " {'weights': [-0.41512800484107837, 0.33549887812944956, 0.2359699890685233]}\n",
            "\n",
            " Layer[2] Node[1]:\n",
            " {'weights': [0.1697304014402209, -0.1918635424108558, 0.10594416567846243]}\n",
            "\n",
            " Layer[2] Node[2]:\n",
            " {'weights': [0.10680173364083789, 0.08120401711200309, -0.3416171297451944]}\n"
          ]
        }
      ]
    },
    {
      "cell_type": "markdown",
      "metadata": {
        "id": "xZCxePnpFGf_"
      },
      "source": [
        "## **TRAIN THE NETWORK**"
      ]
    },
    {
      "cell_type": "code",
      "metadata": {
        "colab": {
          "base_uri": "https://localhost:8080/"
        },
        "id": "Ln_VYYqpFGOG",
        "outputId": "239878fb-7170-4e83-b7a7-ee8f26fe9472"
      },
      "source": [
        "\n",
        "train_network(network, dataset, 0.5, 20, n_outputs)\n",
        "\n",
        "\n",
        "print(\"\\n Final Neural Network :\")\n",
        "    \n",
        "i= 1\n",
        "for layer in network:\n",
        "    j=1\n",
        "    for sub in layer:\n",
        "        print(\"\\n Layer[%d] Node[%d]:\\n\" %(i,j),sub)\n",
        "        j=j+1\n",
        "    i=i+1"
      ],
      "execution_count": null,
      "outputs": [
        {
          "output_type": "stream",
          "name": "stdout",
          "text": [
            "\n",
            " Network Training Begins:\n",
            "\n",
            ">epoch=0, lrate=0.500, error=5.278\n",
            ">epoch=1, lrate=0.500, error=5.122\n",
            ">epoch=2, lrate=0.500, error=5.006\n",
            ">epoch=3, lrate=0.500, error=4.875\n",
            ">epoch=4, lrate=0.500, error=4.700\n",
            ">epoch=5, lrate=0.500, error=4.466\n",
            ">epoch=6, lrate=0.500, error=4.176\n",
            ">epoch=7, lrate=0.500, error=3.838\n",
            ">epoch=8, lrate=0.500, error=3.469\n",
            ">epoch=9, lrate=0.500, error=3.089\n",
            ">epoch=10, lrate=0.500, error=2.716\n",
            ">epoch=11, lrate=0.500, error=2.367\n",
            ">epoch=12, lrate=0.500, error=2.054\n",
            ">epoch=13, lrate=0.500, error=1.780\n",
            ">epoch=14, lrate=0.500, error=1.546\n",
            ">epoch=15, lrate=0.500, error=1.349\n",
            ">epoch=16, lrate=0.500, error=1.184\n",
            ">epoch=17, lrate=0.500, error=1.045\n",
            ">epoch=18, lrate=0.500, error=0.929\n",
            ">epoch=19, lrate=0.500, error=0.831\n",
            "\n",
            " Network Training Ends:\n",
            "\n",
            "\n",
            " Final Neural Network :\n",
            "\n",
            " Layer[1] Node[1]:\n",
            " {'weights': [0.8642508164347664, -0.8497601716670761, -0.8668929014392035], 'output': 0.9295587965836384, 'delta': 0.005645382825629247}\n",
            "\n",
            " Layer[1] Node[2]:\n",
            " {'weights': [-1.2934302410111027, 1.7109363237151511, 0.7125327507327331], 'output': 0.04760703296164143, 'delta': -0.005928559978815065}\n",
            "\n",
            " Layer[2] Node[1]:\n",
            " {'weights': [-1.3098359335096292, 2.16462207144596, -0.3079052288835877], 'output': 0.1989556395205846, 'delta': -0.03170801648036036}\n",
            "\n",
            " Layer[2] Node[2]:\n",
            " {'weights': [1.5506793402414165, -2.11315950446121, 0.1333585709422027], 'output': 0.8095042653312078, 'delta': 0.029375796661413225}\n"
          ]
        }
      ]
    },
    {
      "cell_type": "markdown",
      "metadata": {
        "collapsed": true,
        "id": "EUPN0HqkB5iR"
      },
      "source": [
        "## **PREDICT THE VALUES**"
      ]
    },
    {
      "cell_type": "markdown",
      "metadata": {
        "id": "yYSZoQPLB5iR"
      },
      "source": [
        "* Making predictions with a trained neural network is easy enough.\n",
        "We have already seen how to forward-propagate an input pattern to get an output. This is all we need to do to make a prediction. We can use the output values themselves directly as the probability of a pattern belonging to each output class.\n",
        "* It may be more useful to turn this output back into a crisp class prediction. We can do this by selecting the class value with the larger probability. This is also called the arg max function.\n",
        "* Below is a function named predict() that implements this procedure. It returns the index in the network output that has the largest probability. It assumes that class values have been converted to integers starting at 0."
      ]
    },
    {
      "cell_type": "code",
      "metadata": {
        "colab": {
          "base_uri": "https://localhost:8080/"
        },
        "id": "zihDXBs4B5iR",
        "outputId": "3ffc2de8-9dc1-4bad-b7d2-bd1b27558fc6"
      },
      "source": [
        "from math import exp\n",
        "\n",
        "# Calculate neuron activation for an input\n",
        "def activate(weights, inputs):\n",
        "    activation = weights[-1]\n",
        "    for i in range(len(weights)-1):\n",
        "        activation += weights[i] * inputs[i]\n",
        "    return activation\n",
        "\n",
        "# Transfer neuron activation\n",
        "def transfer(activation):\n",
        "    return 1.0 / (1.0 + exp(-activation))\n",
        "\n",
        "# Forward propagate input to a network output\n",
        "def forward_propagate(network, row):\n",
        "    inputs = row\n",
        "    for layer in network:\n",
        "        new_inputs = []\n",
        "        for neuron in layer:\n",
        "            activation = activate(neuron['weights'], inputs)\n",
        "            neuron['output'] = transfer(activation)\n",
        "            new_inputs.append(neuron['output'])\n",
        "        inputs = new_inputs\n",
        "    return inputs\n",
        "\n",
        "# Make a prediction with a network\n",
        "def predict(network, row):\n",
        "    outputs = forward_propagate(network, row)\n",
        "    return outputs.index(max(outputs))\n",
        "\n",
        "# Test making predictions with the network\n",
        "dataset = [[2.7810836,2.550537003,0],\n",
        "    [1.465489372,2.362125076,0],\n",
        "    [3.396561688,4.400293529,0],\n",
        "    [1.38807019,1.850220317,0],\n",
        "    [3.06407232,3.005305973,0],\n",
        "    [7.627531214,2.759262235,1],\n",
        "    [5.332441248,2.088626775,1],\n",
        "    [6.922596716,1.77106367,1],\n",
        "    [8.675418651,-0.242068655,1],\n",
        "    [7.673756466,3.508563011,1]]\n",
        "#network = [[{'weights': [-1.482313569067226, 1.8308790073202204, 1.078381922048799]}, {'weights': [0.23244990332399884, 0.3621998343835864, 0.40289821191094327]}],\n",
        "#    [{'weights': [2.5001872433501404, 0.7887233511355132, -1.1026649757805829]}, {'weights': [-2.429350576245497, 0.8357651039198697, 1.0699217181280656]}]]\n",
        "for row in dataset:\n",
        "    prediction = predict(network, row)\n",
        "    print('Expected=%d, Calculated=%d' % (row[-1], prediction))"
      ],
      "execution_count": null,
      "outputs": [
        {
          "output_type": "stream",
          "name": "stdout",
          "text": [
            "Expected=0, Calculated=0\n",
            "Expected=0, Calculated=0\n",
            "Expected=0, Calculated=0\n",
            "Expected=0, Calculated=0\n",
            "Expected=0, Calculated=0\n",
            "Expected=1, Calculated=1\n",
            "Expected=1, Calculated=1\n",
            "Expected=1, Calculated=1\n",
            "Expected=1, Calculated=1\n",
            "Expected=1, Calculated=1\n"
          ]
        }
      ]
    }
  ]
}