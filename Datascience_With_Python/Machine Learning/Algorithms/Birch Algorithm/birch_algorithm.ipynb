{
 "cells": [
  {
   "cell_type": "markdown",
   "id": "a6b43c89",
   "metadata": {},
   "source": [
    "## Implementing Birch Algorithm on Randomly Created Datasets"
   ]
  },
  {
   "cell_type": "markdown",
   "id": "19ce4ed9",
   "metadata": {},
   "source": [
    "BIRCH (Balanced Iterative Reducing and Clustering hierarchies) is a clustering algorithm in machine learning that has been specially designed for clustering on a very large data set. It is often faster than other clustering algorithms like batch K-Means. It provides a very similar result to the batch K-Means algorithm if the number of features in the dataset is not more than 20.\n",
    "\n",
    "When training the model using the BIRCH algorithm, it creates a tree structure with enough data to quickly assign each data point to a cluster. By storing all the data points in the tree, this algorithm allows the use of limited memory while working on a very large data set. In the section below, I will take you through its implementation by using the Python programming language."
   ]
  },
  {
   "cell_type": "markdown",
   "id": "2a996c09",
   "metadata": {},
   "source": [
    "## There are mainly four phases which are followed by the algorithm of BIRCH. \n",
    "\n",
    "### Scanning data into memory\n",
    "### Condense data(resize data)\n",
    "### Global clustering.  \n",
    "### Refining clusters.\n",
    "\n",
    "In these four phases, two of them (resize data and refining clusters) are optional. They come in the process when more clarity is required. But scanning data is just like loading data into a model. After loading the data, the algorithm scans the whole data and fits them into the CF trees. In condensing, it resets and resizes the data for better fitting into the CF tree. In global clustering, it sends  CF trees for clustering using existing clustering algorithms. Finally, refining fixes the problem of CF trees where the same valued points are assigned to different leaf nodes."
   ]
  },
  {
   "cell_type": "markdown",
   "id": "fa83901c",
   "metadata": {},
   "source": [
    "Scikit Learn provides the module for direct implementation of BIRCH under the cluster class packages. We need to provide values to the parameters according to the requirement.\n",
    "\n",
    "### There are three parameters in the BIRCH algorithm.\n",
    "\n",
    "#### Threshold  \n",
    "The maximum number of data samples to be considered in a  subcluster of the leaf node in a CF tree.\n",
    "#### Branching_factor \n",
    "It is the factor that is used to specify the number of CF sub-clusters that can be made in a node.\n",
    "#### N_clusters \n",
    "Number of clusters after the final clustering step, which treats the subclusters from the leaves as new samples."
   ]
  },
  {
   "cell_type": "markdown",
   "id": "f0adbe93",
   "metadata": {},
   "source": [
    "## Importing Libraries"
   ]
  },
  {
   "cell_type": "code",
   "execution_count": 129,
   "id": "d03bc5e7",
   "metadata": {},
   "outputs": [],
   "source": [
    "import matplotlib.pyplot as plt #Used for plotting graphs\n",
    "from sklearn.datasets import make_blobs #Used for creating random dataset\n",
    "from sklearn.cluster import Birch #Birch is provided under Scikit-Learn\n",
    "from sklearn.metrics import confusion_matrix\n",
    "from sklearn.cluster import KMeans\n",
    "from sklearn.metrics import silhouette_score\n",
    "import numpy as np\n",
    "import pandas as pd"
   ]
  },
  {
   "cell_type": "markdown",
   "id": "315cf0c2",
   "metadata": {},
   "source": [
    "## Generating Dataset"
   ]
  },
  {
   "cell_type": "code",
   "execution_count": 56,
   "id": "11cb1ca1",
   "metadata": {},
   "outputs": [
    {
     "data": {
      "text/plain": [
       "(1000, 2)"
      ]
     },
     "execution_count": 56,
     "metadata": {},
     "output_type": "execute_result"
    }
   ],
   "source": [
    "data, clusters = make_blobs(n_samples = 1000, centers = 5, cluster_std = 0.50, random_state = 0)\n",
    "#We are creating a dataset with 1000 arbitary points which will be equally divided among 12 cluster points , \n",
    "#with each cluster's standard deviation as 0.5\n",
    "data.shape"
   ]
  },
  {
   "cell_type": "code",
   "execution_count": 57,
   "id": "a00efc47-e179-4a6b-b6cd-844dfb9707f6",
   "metadata": {},
   "outputs": [],
   "source": [
    "df = pd.DataFrame(dict(x=data[:,0], clusters=data[:,1], label=clusters))"
   ]
  },
  {
   "cell_type": "code",
   "execution_count": 120,
   "id": "5ef2b0be",
   "metadata": {},
   "outputs": [
    {
     "data": {
      "text/plain": [
       "<bound method NDFrame.head of             x  clusters  label\n",
       "0   -0.976950  8.193429      3\n",
       "1   -1.262432  3.040956      2\n",
       "2    2.440970  1.412383      1\n",
       "3    2.357828  1.345442      1\n",
       "4    1.025133  4.595264      0\n",
       "..        ...       ...    ...\n",
       "995  1.820251  0.789298      1\n",
       "996  8.868896 -2.883232      4\n",
       "997 -1.273285  2.859767      2\n",
       "998 -1.523005  7.286175      3\n",
       "999  9.878180 -3.034222      4\n",
       "\n",
       "[1000 rows x 3 columns]>"
      ]
     },
     "execution_count": 120,
     "metadata": {},
     "output_type": "execute_result"
    }
   ],
   "source": [
    "df.head"
   ]
  },
  {
   "cell_type": "markdown",
   "id": "5dfb06b4",
   "metadata": {},
   "source": [
    "### Originally Created Clusters"
   ]
  },
  {
   "cell_type": "code",
   "execution_count": 59,
   "id": "8a4383ff",
   "metadata": {},
   "outputs": [
    {
     "data": {
      "image/png": "[encoded data removed]",
      "text/plain": [
       "<Figure size 432x288 with 1 Axes>"
      ]
     },
     "metadata": {
      "needs_background": "light"
     },
     "output_type": "display_data"
    }
   ],
   "source": [
    "plt.scatter(data[:,0], data[:,1])\n",
    "plt.show()"
   ]
  },
  {
   "cell_type": "markdown",
   "id": "7769a6ec",
   "metadata": {},
   "source": [
    "## Creating a Birch Model"
   ]
  },
  {
   "cell_type": "code",
   "execution_count": 60,
   "id": "edf3c177",
   "metadata": {},
   "outputs": [],
   "source": [
    "model = Birch(branching_factor = 50, n_clusters = None ,threshold = 1.5)\n",
    "#With branching factor as 50 , we have specified max no of subclusters in each node as 50 , \n",
    "#the final clustering step won't be performed as we have defined None to n_clusters , \n",
    "#and the radius of cluster will be decided by the threshold."
   ]
  },
  {
   "cell_type": "markdown",
   "id": "03840348",
   "metadata": {},
   "source": [
    "## Fitting the data "
   ]
  },
  {
   "cell_type": "code",
   "execution_count": 61,
   "id": "24222338",
   "metadata": {},
   "outputs": [
    {
     "data": {
      "text/plain": [
       "Birch(n_clusters=None, threshold=1.5)"
      ]
     },
     "execution_count": 61,
     "metadata": {},
     "output_type": "execute_result"
    }
   ],
   "source": [
    "model.fit(data)"
   ]
  },
  {
   "cell_type": "markdown",
   "id": "81ca0876",
   "metadata": {},
   "source": [
    "Creating the prediction"
   ]
  },
  {
   "cell_type": "code",
   "execution_count": 62,
   "id": "c5f8f3d4",
   "metadata": {},
   "outputs": [],
   "source": [
    "pred = model.predict(data)"
   ]
  },
  {
   "cell_type": "code",
   "execution_count": 88,
   "id": "62e7d5c7",
   "metadata": {},
   "outputs": [],
   "source": [
    "labels_birch = model.labels_"
   ]
  },
  {
   "cell_type": "markdown",
   "id": "e9c9e83e",
   "metadata": {},
   "source": [
    "Plotting the results"
   ]
  },
  {
   "cell_type": "code",
   "execution_count": 63,
   "id": "d8f1e15c",
   "metadata": {},
   "outputs": [
    {
     "data": {
      "image/png": "[encoded data removed]",
      "text/plain": [
       "<Figure size 432x288 with 1 Axes>"
      ]
     },
     "metadata": {
      "needs_background": "light"
     },
     "output_type": "display_data"
    }
   ],
   "source": [
    "plt.scatter(data[:, 0], data[:, 1], c = pred , cmap='rainbow')\n",
    "plt.show()"
   ]
  },
  {
   "cell_type": "markdown",
   "id": "b74856da",
   "metadata": {},
   "source": [
    "## Checking the accuracy of our model"
   ]
  },
  {
   "cell_type": "code",
   "execution_count": 133,
   "id": "fee81bc2",
   "metadata": {},
   "outputs": [
    {
     "data": {
      "text/plain": [
       "0.7631488155428426"
      ]
     },
     "execution_count": 133,
     "metadata": {},
     "output_type": "execute_result"
    }
   ],
   "source": [
    "birch_score = silhouette_score(data, labels_birch)\n",
    "birch_score"
   ]
  },
  {
   "cell_type": "markdown",
   "id": "42cde7b8",
   "metadata": {},
   "source": [
    "# Thanks a Lot !"
   ]
  }
 ],
 "metadata": {
  "kernelspec": {
   "display_name": "Python 3",
   "language": "python",
   "name": "python3"
  },
  "language_info": {
   "codemirror_mode": {
    "name": "ipython",
    "version": 3
   },
   "file_extension": ".py",
   "mimetype": "text/x-python",
   "name": "python",
   "nbconvert_exporter": "python",
   "pygments_lexer": "ipython3",
   "version": "3.8.8"
  }
 },
 "nbformat": 4,
 "nbformat_minor": 5
}
