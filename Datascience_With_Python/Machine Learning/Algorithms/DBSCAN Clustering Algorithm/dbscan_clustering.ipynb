{
  "nbformat": 4,
  "nbformat_minor": 0,
  "metadata": {
    "colab": {
      "name": "dbscan_clustering.ipynb",
      "provenance": [],
      "collapsed_sections": []
    },
    "kernelspec": {
      "name": "python3",
      "display_name": "Python 3"
    },
    "language_info": {
      "name": "python"
    }
  },
  "cells": [
    {
      "cell_type": "markdown",
      "metadata": {
        "id": "axU60vZM1CR-"
      },
      "source": [
        "**DBSCAN Clustering**"
      ]
    },
    {
      "cell_type": "markdown",
      "metadata": {
        "id": "cMWe_pPSY4pQ"
      },
      "source": [
        "DBSCAN Clustering is an unsupervised machine learning clustering technique and is mainly used to eliminate outlies/noise datapoints from a given sample dataset.<br>\n",
        "It forms clusters based on how closed the datapoints are(density) and Points outside the 'dense' region are exculded from the output."
      ]
    },
    {
      "cell_type": "markdown",
      "metadata": {
        "id": "K9aeJuM71Lb7"
      },
      "source": [
        "**AIM:** In the below code we will implement the DBSCAN Algorithm and form clusters of valid datapoints using the steps described.Noise/ Outliers will be eliminated."
      ]
    },
    {
      "cell_type": "markdown",
      "metadata": {
        "id": "BDCVDIK65Ks1"
      },
      "source": [
        "**STEP 1: Importing the necessary libraries.**"
      ]
    },
    {
      "cell_type": "markdown",
      "metadata": {
        "id": "MyfLqfTy6etk"
      },
      "source": [
        "a) Matplotlib: It is a plotting library in Python and is Used to plot graphs.<br>\n",
        "b) NumPy: Numply library helps us to add features to mathaematically operate on various data present in arrays and matrices.<br>\n",
        "c)sklearn.datasets import make_blobs: It helps us to generate a random dataset consisting of various data points.<br>\n",
        "d)sklearn.cluster import DBSCAN: It helps use to perform DBSCAN Clustering algorithm."
      ]
    },
    {
      "cell_type": "code",
      "metadata": {
        "id": "HuxssnyaV98h"
      },
      "source": [
        "from sklearn.datasets import make_blobs\n",
        "from sklearn.cluster import DBSCAN\n",
        "import numpy as np\n",
        "import matplotlib.pyplot as plt"
      ],
      "execution_count": 1,
      "outputs": []
    },
    {
      "cell_type": "markdown",
      "metadata": {
        "id": "O-HGWbk_-1Lt"
      },
      "source": [
        "**STEP 2: Define parameters to be used to generate data using blobs.**"
      ]
    },
    {
      "cell_type": "markdown",
      "metadata": {
        "id": "pLLT1W-6ZfTi"
      },
      "source": [
        "1) We can create a random dataset consisting of random datapoints by    importing make_blobs from klearn.datasets.<br>\n",
        "2) Parameters like n_samples, centers and n_features are some parameters that are passed in the make_blobs functions to generate datapoints.<br>\n",
        "<br>\n",
        "3) DBSCAN method that is used to execute the DBSCAN Algorithm and it makes use of two parameters which are eps and min_pts.<br>\n",
        "4) Values of those points is to be specified/ decided before using it in the method."
      ]
    },
    {
      "cell_type": "code",
      "metadata": {
        "id": "UZyPOqedWHii"
      },
      "source": [
        "n_samples = 1000 # It us used to state equal number ofpoints divided between clusters.\n",
        "centers = [(4,4), (6,6)] # Used to generate number of centers\n",
        "total_length = len(centers) # storing length of clusters.\n",
        "# Deciding eps and min_pts value\n",
        "eps = 1.0 \n",
        "min_pts = 15\n",
        "# Generating random datapoints\n",
        "X, y = make_blobs(n_samples = n_samples, centers = centers, n_features = total_length, center_box=(0, 1), cluster_std = 0.25)"
      ],
      "execution_count": 2,
      "outputs": []
    },
    {
      "cell_type": "markdown",
      "metadata": {
        "id": "9UER0nn3LEZG"
      },
      "source": [
        "**STEP 3: Applying DBSCAN Clustering**"
      ]
    },
    {
      "cell_type": "markdown",
      "metadata": {
        "id": "4VjY3F__lHQq"
      },
      "source": [
        "1) We then pass the values of eps and min_pts in the DBSCAN method.<br>\n",
        "2) We use the label variable to label each cluster and mark the outliers as -1 to exclude them."
      ]
    },
    {
      "cell_type": "code",
      "metadata": {
        "id": "HH3O3e15Wdc1"
      },
      "source": [
        "## Two parameters eps and min_pts are taken.\n",
        "db = DBSCAN(eps, min_pts).fit(X)\n",
        "# .labels_ is used to cluster labels for each point in the dataset.\n",
        "# Noise data points are given the label -1 and hence are eliminated from the output.\n",
        "label = db.labels_ "
      ],
      "execution_count": 3,
      "outputs": []
    },
    {
      "cell_type": "markdown",
      "metadata": {
        "id": "fwAyJ_W1LN7F"
      },
      "source": [
        "**STEP 4: Checking clusters generated and eliminating noise/ outliers**"
      ]
    },
    {
      "cell_type": "markdown",
      "metadata": {
        "id": "8KUJrjzTmWfz"
      },
      "source": [
        "We the use np.unique() method to calculate the amount of clusters generate after performing DBSCAN Algorithm."
      ]
    },
    {
      "cell_type": "code",
      "metadata": {
        "colab": {
          "base_uri": "https://localhost:8080/"
        },
        "id": "rGkgBORpWova",
        "outputId": "ddd50f36-90ea-49c3-f25f-e3ece9b5b296"
      },
      "source": [
        "total_clusters = len(np.unique(label) )\n",
        "total_noise = np.sum(np.array(label) == -1, axis=0) # Noise/Outlier points have label -1 and hence are eliminated.\n",
        "print('Cluster Generated: %d' % total_clusters)"
      ],
      "execution_count": 4,
      "outputs": [
        {
          "output_type": "stream",
          "name": "stdout",
          "text": [
            "Cluster Generated: 2\n"
          ]
        }
      ]
    },
    {
      "cell_type": "markdown",
      "metadata": {
        "id": "BOnlaicMLnLp"
      },
      "source": [
        "**STEP 5: Plotting the clusters**"
      ]
    },
    {
      "cell_type": "markdown",
      "metadata": {
        "id": "el88mYxLmkSU"
      },
      "source": [
        "1) We then plot the datapoints/clusters generated using a scatter plot.<br>\n",
        "2) Each cluster is denoted with a separate color.<br>\n",
        "3) Only the datapoints belonging to the clusters are shown.<br>\n",
        "4) All outliers are excluded from the output.\n"
      ]
    },
    {
      "cell_type": "code",
      "metadata": {
        "colab": {
          "base_uri": "https://localhost:8080/",
          "height": 281
        },
        "id": "6iNdjWRxWv7n",
        "outputId": "6d99e48f-cb58-4831-87b9-6a07eec6975e"
      },
      "source": [
        "# Generate scatter plot to show the clusters\n",
        "cluster_color = list(map(lambda x: '#0000FF' if x == 1 else '#b40426', label))\n",
        "plt.scatter(X[:,0], X[:,1], c=cluster_color, marker=\".\", picker=True)\n",
        "plt.title('Clusters Present without Noise')\n",
        "plt.show()"
      ],
      "execution_count": 5,
      "outputs": [
        {
          "output_type": "display_data",
          "data": {
            "image/png": "[encoded data removed]",
            "text/plain": [
              "<Figure size 432x288 with 1 Axes>"
            ]
          },
          "metadata": {
            "needs_background": "light"
          }
        }
      ]
    },
    {
      "cell_type": "markdown",
      "metadata": {
        "id": "sX9WIFerpnol"
      },
      "source": [
        "**SUMMARY:**<br>\n",
        "From the above experiments we  can conclude that-<br>\n",
        "1) DBSCAN is a very accurate clustering alogrithm that forms clusters based on the density of the points.<br>\n",
        "2) It can make cluster of various shapes and sizes and not necessarily circular hence it is effective on large/complex datasets as well.<br>\n",
        "3) It is also very useful in identifying outliers and eliminating them."
      ]
    }
  ]
}
