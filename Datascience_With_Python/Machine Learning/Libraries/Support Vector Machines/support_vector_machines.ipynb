{
  "nbformat": 4,
  "nbformat_minor": 2,
  "metadata": {
    "colab": {
      "name": "GWOC_Support Vector Machine.ipynb",
      "provenance": [],
      "collapsed_sections": []
    },
    "kernelspec": {
      "name": "python3",
      "display_name": "Python 3"
    },
    "language_info": {
      "name": "python"
    }
  },
  "cells": [
    {
      "cell_type": "markdown",
      "source": [
        "# ***Support Vector Machine (SVM)***"
      ],
      "metadata": {
        "id": "P9kMxNEtXPxK"
      }
    },
    {
      "cell_type": "markdown",
      "source": [
        "Support vector machines (SVMs) are a set of supervised learning methods used for classification, regression and outliers detection.<br>\r\n",
        "The support vector machines in scikit-learn support both dense (numpy.ndarray and convertible to that by numpy.asarray) and sparse (any scipy.sparse) sample vectors as input. However, to use an SVM to make predictions for sparse data, it must have been fit on such data. For optimal performance, use C-ordered numpy.ndarray (dense) or scipy.sparse.csr_matrix (sparse) with dtype=float64.<br>\r\n",
        "They analyze the large amount of data to identify patterns from them.<br>\r\n",
        "SVMs are based on the idea of finding a hyperplane that best divides a dataset into two classes.\r\n",
        "<br><img src=\"https://miro.medium.com/max/600/0*0o8xIA4k3gXUDCFU.png\" style=\"width:25%\">"
      ],
      "metadata": {}
    },
    {
      "cell_type": "markdown",
      "source": [
        "## **<ins>Problem</ins>**\r\n",
        "Breast cancer is the most common malignancy among women, accounting for nearly 1 in 3 cancers diagnosed among women in the United States, and it is the second leading cause of cancer death among women. Breast Cancer occurs as a results of abnormal growth of cells in the breast tissue, commonly referred to as a Tumor. A tumor does not mean cancer - tumors can be benign (not cancerous), pre-malignant (pre-cancerous), or malignant (cancerous). Tests such as MRI, mammogram, ultrasound and biopsy are commonly used to diagnose breast cancer performed.\r\n",
        "\r\n",
        "## **<ins>Expected outcome</ins>**\r\n",
        "Given breast cancer results from breast fine needle aspiration (FNA) test (is a quick and simple procedure to perform, which removes some fluid or cells from a breast lesion or cyst (a lump, sore or swelling) with a fine needle similar to a blood sample needle). Since this build a model that can classify a breast cancer tumor using two training classification:\r\n",
        "\r\n",
        "1= Malignant (Cancerous) - Present\r\n",
        "0= Benign (Not Cancerous) -Absent\r\n",
        "\r\n",
        "## **<ins>Objective</ins>**\r\n",
        "Since the labels in the data are discrete, the predication falls into two categories, (i.e. Malignant or benign). In machine learning this is a classification problem.\r\n",
        "\r\n",
        "Thus, the goal is to classify whether the breast cancer is benign or malignant and predict the recurrence and non-recurrence of malignant cases after a certain period. To achieve this we have used machine learning classification methods to fit a function that can predict the discrete class of new input."
      ],
      "metadata": {}
    },
    {
      "cell_type": "markdown",
      "source": [
        "## Importing libraries"
      ],
      "metadata": {
        "id": "REpRoJiZX8Sb"
      }
    },
    {
      "cell_type": "code",
      "execution_count": 1,
      "source": [
        "#Load libraries for data processing\r\n",
        "import pandas as pd\r\n",
        "import numpy as np\r\n",
        "\r\n",
        "## Supervised learning.\r\n",
        "from sklearn.preprocessing import StandardScaler\r\n",
        "from sklearn.preprocessing import LabelEncoder\r\n",
        "from sklearn.model_selection import train_test_split\r\n",
        "from sklearn.svm import SVC\r\n",
        "from sklearn import metrics\r\n",
        "from sklearn.metrics import classification_report\r\n",
        "\r\n",
        "# visualization\r\n",
        "import matplotlib.pyplot as plt\r\n",
        "import seaborn as sns "
      ],
      "outputs": [],
      "metadata": {
        "id": "IICDFBCCEWrZ"
      }
    },
    {
      "cell_type": "markdown",
      "source": [
        "## Importing dataset"
      ],
      "metadata": {
        "id": "O2zZHCkaX_nL"
      }
    },
    {
      "cell_type": "code",
      "execution_count": 2,
      "source": [
        "# loading brest cancer risk prediction dataset\r\n",
        "data = pd.read_csv('/content/breast-cancer-risk-prediction-dataset.csv', index_col=False)\r\n",
        "data.drop('Unnamed: 0',axis=1, inplace=True)\r\n",
        "# viewing the dataset\r\n",
        "data.head()"
      ],
      "outputs": [
        {
          "output_type": "execute_result",
          "data": {
            "text/html": [
              "<div>\n",
              "<style scoped>\n",
              "    .dataframe tbody tr th:only-of-type {\n",
              "        vertical-align: middle;\n",
              "    }\n",
              "\n",
              "    .dataframe tbody tr th {\n",
              "        vertical-align: top;\n",
              "    }\n",
              "\n",
              "    .dataframe thead th {\n",
              "        text-align: right;\n",
              "    }\n",
              "</style>\n",
              "<table border=\"1\" class=\"dataframe\">\n",
              "  <thead>\n",
              "    <tr style=\"text-align: right;\">\n",
              "      <th></th>\n",
              "      <th>diagnosis</th>\n",
              "      <th>radius_mean</th>\n",
              "      <th>texture_mean</th>\n",
              "      <th>perimeter_mean</th>\n",
              "      <th>area_mean</th>\n",
              "      <th>smoothness_mean</th>\n",
              "      <th>compactness_mean</th>\n",
              "      <th>concavity_mean</th>\n",
              "      <th>concave points_mean</th>\n",
              "      <th>symmetry_mean</th>\n",
              "      <th>fractal_dimension_mean</th>\n",
              "      <th>radius_se</th>\n",
              "      <th>texture_se</th>\n",
              "      <th>perimeter_se</th>\n",
              "      <th>area_se</th>\n",
              "      <th>smoothness_se</th>\n",
              "      <th>compactness_se</th>\n",
              "      <th>concavity_se</th>\n",
              "      <th>concave points_se</th>\n",
              "      <th>symmetry_se</th>\n",
              "      <th>fractal_dimension_se</th>\n",
              "      <th>radius_worst</th>\n",
              "      <th>texture_worst</th>\n",
              "      <th>perimeter_worst</th>\n",
              "      <th>area_worst</th>\n",
              "      <th>smoothness_worst</th>\n",
              "      <th>compactness_worst</th>\n",
              "      <th>concavity_worst</th>\n",
              "      <th>concave points_worst</th>\n",
              "      <th>symmetry_worst</th>\n",
              "      <th>fractal_dimension_worst</th>\n",
              "    </tr>\n",
              "  </thead>\n",
              "  <tbody>\n",
              "    <tr>\n",
              "      <th>0</th>\n",
              "      <td>M</td>\n",
              "      <td>17.99</td>\n",
              "      <td>10.38</td>\n",
              "      <td>122.80</td>\n",
              "      <td>1001.0</td>\n",
              "      <td>0.11840</td>\n",
              "      <td>0.27760</td>\n",
              "      <td>0.3001</td>\n",
              "      <td>0.14710</td>\n",
              "      <td>0.2419</td>\n",
              "      <td>0.07871</td>\n",
              "      <td>1.0950</td>\n",
              "      <td>0.9053</td>\n",
              "      <td>8.589</td>\n",
              "      <td>153.40</td>\n",
              "      <td>0.006399</td>\n",
              "      <td>0.04904</td>\n",
              "      <td>0.05373</td>\n",
              "      <td>0.01587</td>\n",
              "      <td>0.03003</td>\n",
              "      <td>0.006193</td>\n",
              "      <td>25.38</td>\n",
              "      <td>17.33</td>\n",
              "      <td>184.60</td>\n",
              "      <td>2019.0</td>\n",
              "      <td>0.1622</td>\n",
              "      <td>0.6656</td>\n",
              "      <td>0.7119</td>\n",
              "      <td>0.2654</td>\n",
              "      <td>0.4601</td>\n",
              "      <td>0.11890</td>\n",
              "    </tr>\n",
              "    <tr>\n",
              "      <th>1</th>\n",
              "      <td>M</td>\n",
              "      <td>20.57</td>\n",
              "      <td>17.77</td>\n",
              "      <td>132.90</td>\n",
              "      <td>1326.0</td>\n",
              "      <td>0.08474</td>\n",
              "      <td>0.07864</td>\n",
              "      <td>0.0869</td>\n",
              "      <td>0.07017</td>\n",
              "      <td>0.1812</td>\n",
              "      <td>0.05667</td>\n",
              "      <td>0.5435</td>\n",
              "      <td>0.7339</td>\n",
              "      <td>3.398</td>\n",
              "      <td>74.08</td>\n",
              "      <td>0.005225</td>\n",
              "      <td>0.01308</td>\n",
              "      <td>0.01860</td>\n",
              "      <td>0.01340</td>\n",
              "      <td>0.01389</td>\n",
              "      <td>0.003532</td>\n",
              "      <td>24.99</td>\n",
              "      <td>23.41</td>\n",
              "      <td>158.80</td>\n",
              "      <td>1956.0</td>\n",
              "      <td>0.1238</td>\n",
              "      <td>0.1866</td>\n",
              "      <td>0.2416</td>\n",
              "      <td>0.1860</td>\n",
              "      <td>0.2750</td>\n",
              "      <td>0.08902</td>\n",
              "    </tr>\n",
              "    <tr>\n",
              "      <th>2</th>\n",
              "      <td>M</td>\n",
              "      <td>19.69</td>\n",
              "      <td>21.25</td>\n",
              "      <td>130.00</td>\n",
              "      <td>1203.0</td>\n",
              "      <td>0.10960</td>\n",
              "      <td>0.15990</td>\n",
              "      <td>0.1974</td>\n",
              "      <td>0.12790</td>\n",
              "      <td>0.2069</td>\n",
              "      <td>0.05999</td>\n",
              "      <td>0.7456</td>\n",
              "      <td>0.7869</td>\n",
              "      <td>4.585</td>\n",
              "      <td>94.03</td>\n",
              "      <td>0.006150</td>\n",
              "      <td>0.04006</td>\n",
              "      <td>0.03832</td>\n",
              "      <td>0.02058</td>\n",
              "      <td>0.02250</td>\n",
              "      <td>0.004571</td>\n",
              "      <td>23.57</td>\n",
              "      <td>25.53</td>\n",
              "      <td>152.50</td>\n",
              "      <td>1709.0</td>\n",
              "      <td>0.1444</td>\n",
              "      <td>0.4245</td>\n",
              "      <td>0.4504</td>\n",
              "      <td>0.2430</td>\n",
              "      <td>0.3613</td>\n",
              "      <td>0.08758</td>\n",
              "    </tr>\n",
              "    <tr>\n",
              "      <th>3</th>\n",
              "      <td>M</td>\n",
              "      <td>11.42</td>\n",
              "      <td>20.38</td>\n",
              "      <td>77.58</td>\n",
              "      <td>386.1</td>\n",
              "      <td>0.14250</td>\n",
              "      <td>0.28390</td>\n",
              "      <td>0.2414</td>\n",
              "      <td>0.10520</td>\n",
              "      <td>0.2597</td>\n",
              "      <td>0.09744</td>\n",
              "      <td>0.4956</td>\n",
              "      <td>1.1560</td>\n",
              "      <td>3.445</td>\n",
              "      <td>27.23</td>\n",
              "      <td>0.009110</td>\n",
              "      <td>0.07458</td>\n",
              "      <td>0.05661</td>\n",
              "      <td>0.01867</td>\n",
              "      <td>0.05963</td>\n",
              "      <td>0.009208</td>\n",
              "      <td>14.91</td>\n",
              "      <td>26.50</td>\n",
              "      <td>98.87</td>\n",
              "      <td>567.7</td>\n",
              "      <td>0.2098</td>\n",
              "      <td>0.8663</td>\n",
              "      <td>0.6869</td>\n",
              "      <td>0.2575</td>\n",
              "      <td>0.6638</td>\n",
              "      <td>0.17300</td>\n",
              "    </tr>\n",
              "    <tr>\n",
              "      <th>4</th>\n",
              "      <td>M</td>\n",
              "      <td>20.29</td>\n",
              "      <td>14.34</td>\n",
              "      <td>135.10</td>\n",
              "      <td>1297.0</td>\n",
              "      <td>0.10030</td>\n",
              "      <td>0.13280</td>\n",
              "      <td>0.1980</td>\n",
              "      <td>0.10430</td>\n",
              "      <td>0.1809</td>\n",
              "      <td>0.05883</td>\n",
              "      <td>0.7572</td>\n",
              "      <td>0.7813</td>\n",
              "      <td>5.438</td>\n",
              "      <td>94.44</td>\n",
              "      <td>0.011490</td>\n",
              "      <td>0.02461</td>\n",
              "      <td>0.05688</td>\n",
              "      <td>0.01885</td>\n",
              "      <td>0.01756</td>\n",
              "      <td>0.005115</td>\n",
              "      <td>22.54</td>\n",
              "      <td>16.67</td>\n",
              "      <td>152.20</td>\n",
              "      <td>1575.0</td>\n",
              "      <td>0.1374</td>\n",
              "      <td>0.2050</td>\n",
              "      <td>0.4000</td>\n",
              "      <td>0.1625</td>\n",
              "      <td>0.2364</td>\n",
              "      <td>0.07678</td>\n",
              "    </tr>\n",
              "  </tbody>\n",
              "</table>\n",
              "</div>"
            ],
            "text/plain": [
              "  diagnosis  radius_mean  ...  symmetry_worst  fractal_dimension_worst\n",
              "0         M        17.99  ...          0.4601                  0.11890\n",
              "1         M        20.57  ...          0.2750                  0.08902\n",
              "2         M        19.69  ...          0.3613                  0.08758\n",
              "3         M        11.42  ...          0.6638                  0.17300\n",
              "4         M        20.29  ...          0.2364                  0.07678\n",
              "\n",
              "[5 rows x 31 columns]"
            ]
          },
          "metadata": {},
          "execution_count": 2
        }
      ],
      "metadata": {
        "colab": {
          "base_uri": "https://localhost:8080/",
          "height": 240
        },
        "id": "lKXVOdeHGdUz",
        "outputId": "3388aa28-026c-4e6d-b6db-67cf0cbe316c"
      }
    },
    {
      "cell_type": "markdown",
      "source": [
        "## Spliting data into attributes and labels"
      ],
      "metadata": {
        "id": "kQ-R3tKpYXpI"
      }
    },
    {
      "cell_type": "code",
      "execution_count": 3,
      "source": [
        "# Assign predictors to a variable of ndarray (matrix) type\r\n",
        "array = data.values\r\n",
        "X = array[:,1:31] # features\r\n",
        "y = array[:,0] # labels"
      ],
      "outputs": [],
      "metadata": {
        "id": "PL0RdYFldpJI"
      }
    },
    {
      "cell_type": "markdown",
      "source": [
        "## Encoding the labels"
      ],
      "metadata": {
        "id": "x9ew8Oa_Yni_"
      }
    },
    {
      "cell_type": "code",
      "execution_count": 4,
      "source": [
        "# transform the class labels from their original string representation (M and B) into integers using encoder\r\n",
        "le = LabelEncoder()\r\n",
        "y = le.fit_transform(y)"
      ],
      "outputs": [],
      "metadata": {
        "id": "pXWQZm7edrTL"
      }
    },
    {
      "cell_type": "markdown",
      "source": [
        "## Normalizing the data"
      ],
      "metadata": {
        "id": "qtuzfcwaYqzw"
      }
    },
    {
      "cell_type": "code",
      "execution_count": 5,
      "source": [
        "# Normalize the  data (center around 0 and scale to remove the variance).\r\n",
        "scaler =StandardScaler()\r\n",
        "Xs = scaler.fit_transform(X)"
      ],
      "outputs": [],
      "metadata": {
        "id": "8ksIecmYGd5Z"
      }
    },
    {
      "cell_type": "markdown",
      "source": [
        "## Divide the data into training and testing sets."
      ],
      "metadata": {
        "id": "2GC9k6MYYgNe"
      }
    },
    {
      "cell_type": "code",
      "execution_count": 6,
      "source": [
        "# Divide records in training and testing sets.\r\n",
        "X_train, X_test, y_train, y_test = train_test_split(Xs, y, test_size=0.3, random_state=2, stratify=y)"
      ],
      "outputs": [],
      "metadata": {
        "id": "s3a15AKVdmkL"
      }
    },
    {
      "cell_type": "markdown",
      "source": [
        "## Training the SVM algorithm"
      ],
      "metadata": {
        "id": "HN4r6WGdYiLe"
      }
    },
    {
      "cell_type": "code",
      "execution_count": 7,
      "source": [
        "# Create an SVM classifier and train it on 70% of the data set.\r\n",
        "clf = SVC(probability=True)\r\n",
        "clf.fit(X_train, y_train)\r\n",
        "\r\n",
        " # Analyze accuracy of predictions on 30% of the holdout test sample.\r\n",
        "classifier_score = clf.score(X_test, y_test)\r\n",
        "print('\\nThe classifier accuracy score is {:03.2f}\\n'.format(classifier_score))"
      ],
      "outputs": [
        {
          "output_type": "stream",
          "name": "stdout",
          "text": [
            "\n",
            "The classifier accuracy score is 0.95\n",
            "\n"
          ]
        }
      ],
      "metadata": {
        "colab": {
          "base_uri": "https://localhost:8080/"
        },
        "id": "tvzBXIICGg6i",
        "outputId": "5d5b1a1d-fdf7-4750-9c8a-f55a408c1497"
      }
    },
    {
      "cell_type": "markdown",
      "source": [
        "## Plotting confusion matrix"
      ],
      "metadata": {
        "id": "8aPKFCWWY39F"
      }
    },
    {
      "cell_type": "code",
      "execution_count": 8,
      "source": [
        "# displaying confustion matrix with the classification report\r\n",
        "y_pred = clf.fit(X_train, y_train).predict(X_test)\r\n",
        "cm = metrics.confusion_matrix(y_test, y_pred)\r\n",
        "fig, ax = plt.subplots(figsize=(5, 5))\r\n",
        "ax.matshow(cm, cmap=plt.cm.Reds, alpha=0.3)\r\n",
        "for i in range(cm.shape[0]):\r\n",
        "     for j in range(cm.shape[1]):\r\n",
        "         ax.text(x=j, y=i,\r\n",
        "                s=cm[i, j], \r\n",
        "                va='center', ha='center')\r\n",
        "plt.xlabel('Predicted Values', )\r\n",
        "plt.ylabel('Actual Values')\r\n",
        "plt.show()\r\n",
        "print(classification_report(y_test, y_pred ))"
      ],
      "outputs": [
        {
          "output_type": "display_data",
          "data": {
            "image/png": "[encoded data removed]",
            "text/plain": [
              "<Figure size 360x360 with 1 Axes>"
            ]
          },
          "metadata": {
            "needs_background": "light"
          }
        },
        {
          "output_type": "stream",
          "name": "stdout",
          "text": [
            "              precision    recall  f1-score   support\n",
            "\n",
            "           0       0.94      0.99      0.96       107\n",
            "           1       0.98      0.89      0.93        64\n",
            "\n",
            "    accuracy                           0.95       171\n",
            "   macro avg       0.96      0.94      0.95       171\n",
            "weighted avg       0.95      0.95      0.95       171\n",
            "\n"
          ]
        }
      ],
      "metadata": {
        "colab": {
          "base_uri": "https://localhost:8080/",
          "height": 486
        },
        "id": "TchwxPkgGrtu",
        "outputId": "577ab326-0c80-4165-9e23-a6e629dd50f0"
      }
    },
    {
      "cell_type": "markdown",
      "source": [
        "## Optimizing the SVM classifier"
      ],
      "metadata": {
        "id": "eh7mTaXpXy-d"
      }
    },
    {
      "cell_type": "code",
      "execution_count": 9,
      "source": [
        "from sklearn.model_selection import GridSearchCV\r\n",
        "\r\n",
        "# Train classifiers.\r\n",
        "kernel_values = [ 'linear' ,  'poly' ,  'rbf' ,  'sigmoid' ]\r\n",
        "param_grid = {'C': np.logspace(-3, 2, 6), 'gamma': np.logspace(-3, 2, 6),'kernel': kernel_values}\r\n",
        "\r\n",
        "grid = GridSearchCV(SVC(), param_grid=param_grid, cv=5)\r\n",
        "grid.fit(X_train, y_train)"
      ],
      "outputs": [
        {
          "output_type": "execute_result",
          "data": {
            "text/plain": [
              "GridSearchCV(cv=5, error_score=nan,\n",
              "             estimator=SVC(C=1.0, break_ties=False, cache_size=200,\n",
              "                           class_weight=None, coef0=0.0,\n",
              "                           decision_function_shape='ovr', degree=3,\n",
              "                           gamma='scale', kernel='rbf', max_iter=-1,\n",
              "                           probability=False, random_state=None, shrinking=True,\n",
              "                           tol=0.001, verbose=False),\n",
              "             iid='deprecated', n_jobs=None,\n",
              "             param_grid={'C': array([1.e-03, 1.e-02, 1.e-01, 1.e+00, 1.e+01, 1.e+02]),\n",
              "                         'gamma': array([1.e-03, 1.e-02, 1.e-01, 1.e+00, 1.e+01, 1.e+02]),\n",
              "                         'kernel': ['linear', 'poly', 'rbf', 'sigmoid']},\n",
              "             pre_dispatch='2*n_jobs', refit=True, return_train_score=False,\n",
              "             scoring=None, verbose=0)"
            ]
          },
          "metadata": {},
          "execution_count": 9
        }
      ],
      "metadata": {
        "colab": {
          "base_uri": "https://localhost:8080/"
        },
        "id": "f5DEtXdkWhd7",
        "outputId": "c0da42ca-71a6-4823-dd2d-8b0cc0174c3b"
      }
    },
    {
      "cell_type": "code",
      "execution_count": 10,
      "source": [
        "print(\"The best parameters are %s with a score of %0.2f\"% (grid.best_params_, grid.best_score_))"
      ],
      "outputs": [
        {
          "output_type": "stream",
          "name": "stdout",
          "text": [
            "The best parameters are {'C': 0.1, 'gamma': 0.001, 'kernel': 'linear'} with a score of 0.98\n"
          ]
        }
      ],
      "metadata": {
        "colab": {
          "base_uri": "https://localhost:8080/"
        },
        "id": "anu3xQEwWjTG",
        "outputId": "6db58969-99f3-4f36-ab7b-de17ed4197ab"
      }
    },
    {
      "cell_type": "code",
      "execution_count": 11,
      "source": [
        "grid.best_estimator_.probability = True\r\n",
        "clf = grid.best_estimator_\r\n",
        "\r\n",
        "# plotting confustion matrix for optimized classifier\r\n",
        "y_pred = clf.fit(X_train, y_train).predict(X_test)\r\n",
        "cm = metrics.confusion_matrix(y_test, y_pred)\r\n",
        "#print(cm)\r\n",
        "print(classification_report(y_test, y_pred ))\r\n",
        "\r\n",
        "fig, ax = plt.subplots(figsize=(5, 5))\r\n",
        "ax.matshow(cm, cmap=plt.cm.Reds, alpha=0.3)\r\n",
        "for i in range(cm.shape[0]):\r\n",
        "     for j in range(cm.shape[1]):\r\n",
        "         ax.text(x=j, y=i,\r\n",
        "                s=cm[i, j], \r\n",
        "                va='center', ha='center')\r\n",
        "plt.xlabel('Predicted Values', )\r\n",
        "plt.ylabel('Actual Values')\r\n",
        "plt.show()"
      ],
      "outputs": [
        {
          "output_type": "stream",
          "name": "stdout",
          "text": [
            "              precision    recall  f1-score   support\n",
            "\n",
            "           0       0.95      0.99      0.97       107\n",
            "           1       0.98      0.91      0.94        64\n",
            "\n",
            "    accuracy                           0.96       171\n",
            "   macro avg       0.96      0.95      0.96       171\n",
            "weighted avg       0.96      0.96      0.96       171\n",
            "\n"
          ]
        },
        {
          "output_type": "display_data",
          "data": {
            "image/png": "[encoded data removed]",
            "text/plain": [
              "<Figure size 360x360 with 1 Axes>"
            ]
          },
          "metadata": {
            "needs_background": "light"
          }
        }
      ],
      "metadata": {
        "colab": {
          "base_uri": "https://localhost:8080/",
          "height": 486
        },
        "id": "ny4Up2uaWmZF",
        "outputId": "e3f539bf-b7fc-4894-ddd9-3e21d1f552bb"
      }
    },
    {
      "cell_type": "markdown",
      "source": [
        "## Decision boundaries of different classifiers"
      ],
      "metadata": {
        "id": "WO28TXSCZ7r-"
      }
    },
    {
      "cell_type": "code",
      "execution_count": 12,
      "source": [
        "Xtrain = X_train[:, :2] # we only take the first two features.\r\n",
        "C = 1.0  # SVM regularization parameter\r\n",
        "svm = SVC(kernel='linear', random_state=0, gamma=0.1, C=C).fit(Xtrain, y_train)\r\n",
        "rbf_svc = SVC(kernel='rbf', gamma=0.7, C=C).fit(Xtrain, y_train)\r\n",
        "poly_svc = SVC(kernel='poly', degree=3, C=C).fit(Xtrain, y_train)\r\n",
        "\r\n",
        "\r\n",
        "plt.rcParams['figure.figsize'] = (15, 9) \r\n",
        "plt.rcParams['axes.titlesize'] = 'large'\r\n",
        "    \r\n",
        "# create a mesh to plot in\r\n",
        "x_min, x_max = Xtrain[:, 0].min() - 1, Xtrain[:, 0].max() + 1\r\n",
        "y_min, y_max = Xtrain[:, 1].min() - 1, Xtrain[:, 1].max() + 1\r\n",
        "xx, yy = np.meshgrid(np.arange(x_min, x_max, 0.1), np.arange(y_min, y_max, 0.1))\r\n",
        "\r\n",
        "# title for the plots\r\n",
        "titles = ['SVC with linear kernel',\r\n",
        "          'SVC with RBF kernel',\r\n",
        "          'SVC with polynomial (degree 3) kernel']\r\n",
        "\r\n",
        "\r\n",
        "for i, clf in enumerate((svm, rbf_svc, poly_svc)):\r\n",
        "    # Plot the decision boundary. For that, we will assign a color to each\r\n",
        "    # point in the mesh [x_min, x_max]x[y_min, y_max].\r\n",
        "    plt.subplot(2, 2, i + 1)\r\n",
        "    plt.subplots_adjust(wspace=0.4, hspace=0.4)\r\n",
        "\r\n",
        "    Z = clf.predict(np.c_[xx.ravel(), yy.ravel()])\r\n",
        "\r\n",
        "    # Put the result into a color plot\r\n",
        "    Z = Z.reshape(xx.shape)\r\n",
        "    plt.contourf(xx, yy, Z, cmap=plt.cm.coolwarm, alpha=0.8)\r\n",
        "\r\n",
        "    # Plot also the training points\r\n",
        "    plt.scatter(Xtrain[:, 0], Xtrain[:, 1], c=y_train, cmap=plt.cm.coolwarm)\r\n",
        "    plt.xlabel('radius_mean')\r\n",
        "    plt.ylabel('texture_mean')\r\n",
        "    plt.xlim(xx.min(), xx.max())\r\n",
        "    plt.ylim(yy.min(), yy.max())\r\n",
        "    plt.xticks(())\r\n",
        "    plt.yticks(())\r\n",
        "    plt.title(titles[i])\r\n",
        "\r\n",
        "plt.show()"
      ],
      "outputs": [
        {
          "output_type": "display_data",
          "data": {
            "image/png": "[encoded data removed]",
            "text/plain": [
              "<Figure size 1080x648 with 3 Axes>"
            ]
          },
          "metadata": {}
        }
      ],
      "metadata": {
        "colab": {
          "base_uri": "https://localhost:8080/",
          "height": 551
        },
        "id": "8zVJ3ZSzKYUl",
        "outputId": "cc354b69-ee36-455d-90d9-7a8eae0d3b55"
      }
    },
    {
      "cell_type": "markdown",
      "source": [
        "\r\n",
        "## **<ins>Conclusion</ins>**\r\n",
        "This work demonstrates the modelling of breast cancer as classification task using Support Vector Machine\r\n",
        "\r\n",
        "The SVM performs better when the dataset is standardized so that all attributes have a mean value of zero and a standard deviation of one. We can calculate this from the entire training dataset and apply the same transform to the input attributes from the validation dataset."
      ],
      "metadata": {}
    },
    {
      "cell_type": "code",
      "execution_count": 12,
      "source": [],
      "outputs": [],
      "metadata": {
        "id": "nqd62-VKKuTK"
      }
    }
  ]
}