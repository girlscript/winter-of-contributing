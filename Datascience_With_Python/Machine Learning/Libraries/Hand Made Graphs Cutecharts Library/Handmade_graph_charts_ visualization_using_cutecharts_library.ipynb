{
 "cells": [
  {
   "cell_type": "markdown",
   "id": "201b6665",
   "metadata": {},
   "source": [
    "### Visualization plays a crucial role in presenting data, ideas, analysis results etc. We need charting, diagramming and graphics tools for nearly any modern applications. The availability of quality charting and visualization tools and libraries could be of great importance so we will specialise in the first ."
   ]
  },
  {
   "cell_type": "markdown",
   "id": "686f77fd",
   "metadata": {},
   "source": [
    "**Cutecharts are perfect to offer a more personal touch to charts. If you would like to form charts less intimidating then add a spoonful of sweetness then cute charts are the simplest option.**"
   ]
  },
  {
   "cell_type": "markdown",
   "id": "36aad129",
   "metadata": {},
   "source": [
    "### Before we start to draw cute charts, we need to install the cutechart library.\n"
   ]
  },
  {
   "cell_type": "markdown",
   "id": "f6c75d5e",
   "metadata": {},
   "source": [
    "*pip install cutecharts*"
   ]
  },
  {
   "cell_type": "markdown",
   "id": "dd87d832",
   "metadata": {},
   "source": [
    "*This library support five different charts- Bar, Pie, Radar, Scatter, and Line.*"
   ]
  },
  {
   "cell_type": "markdown",
   "id": "b932f402",
   "metadata": {},
   "source": [
    "###  Importing Required Libraries"
   ]
  },
  {
   "cell_type": "code",
   "execution_count": 1,
   "id": "014ad41d",
   "metadata": {},
   "outputs": [],
   "source": [
    "import pandas as pd\n",
    "import cutecharts.charts as ctc"
   ]
  },
  {
   "cell_type": "markdown",
   "id": "89ccc7ec",
   "metadata": {},
   "source": [
    "#### We will use Toronto temperature Dataset to draw bar and line charts."
   ]
  },
  {
   "cell_type": "code",
   "execution_count": 2,
   "id": "19dbe739",
   "metadata": {},
   "outputs": [],
   "source": [
    "df=pd.DataFrame({\n",
    " 'x':['Sun.','Mon.','Tue.','Wed.','Thu.','Fri.','Sat.'],\n",
    " 'y':[14,15,17,20,22.3,23.7,24.8],\n",
    " 'z':[16,16.4,23.6,24.5,19.9,13.6,13.4]})"
   ]
  },
  {
   "cell_type": "markdown",
   "id": "7f97cac8",
   "metadata": {},
   "source": [
    "**1.Bar Chart**\n"
   ]
  },
  {
   "cell_type": "code",
   "execution_count": 3,
   "id": "b9274bc3",
   "metadata": {},
   "outputs": [
    {
     "data": {
      "text/html": [
       "\n",
       "<script>\n",
       "    require.config({\n",
       "        paths: {\n",
       "            'chartXkcd':'https://cdn.jsdelivr.net/npm/chart.xkcd@1.1/dist/chart.xkcd.min'\n",
       "        }\n",
       "    });\n",
       "</script>\n",
       "\n",
       "<div id=\"a1a1734fcd2d4c2daac39c20cef2cf3c\" class=\"chart-container\" style=\"width: 500px\">\n",
       "        <svg id=\"chart_a1a1734fcd2d4c2daac39c20cef2cf3c\"></svg>\n",
       "    </div>\n",
       "    <script>\n",
       "        require(['chartXkcd'], function(chartXkcd) {\n",
       "            const svg_a1a1734fcd2d4c2daac39c20cef2cf3c = document.querySelector('#chart_a1a1734fcd2d4c2daac39c20cef2cf3c')\n",
       "            const chart_a1a1734fcd2d4c2daac39c20cef2cf3c = new chartXkcd.Bar(svg_a1a1734fcd2d4c2daac39c20cef2cf3c, {\"title\": \"Toronto Temperature\", \"data\": {\"datasets\": [{\"label\": \"This week\", \"data\": [14.0, 15.0, 17.0, 20.0, 22.3, 23.7, 24.8]}], \"labels\": [\"Sun.\", \"Mon.\", \"Tue.\", \"Wed.\", \"Thu.\", \"Fri.\", \"Sat.\"]}, \"xLabel\": \"Days\", \"yLabel\": \"Temperature (Celsius)\", \"options\": {\"yTickCount\": 3, \"dataColors\": [\"#1EAFAE\", \"#1EAFAE\", \"#1EAFAE\", \"#1EAFAE\", \"#1EAFAE\", \"#1EAFAE\", \"#1EAFAE\"]}});\n",
       "        })\n",
       "    </script>\n"
      ],
      "text/plain": [
       "<cutecharts.render.engine.HTML at 0x140e6c25eb0>"
      ]
     },
     "execution_count": 3,
     "metadata": {},
     "output_type": "execute_result"
    }
   ],
   "source": [
    "chart = ctc.Bar('Toronto Temperature',width='500px',height='400px')\n",
    "chart.set_options(\n",
    " labels=list(df['x']),\n",
    " x_label='Days',\n",
    " y_label='Temperature (Celsius)' ,\n",
    " colors=['#1EAFAE' for i in range(len(df))]\n",
    " )\n",
    "chart.add_series('This week',list(df['y']))\n",
    "chart.render_notebook()"
   ]
  },
  {
   "cell_type": "markdown",
   "id": "c1b064d2",
   "metadata": {},
   "source": [
    "###  In this bar chart, all bars have the same color. If you would like to customize the colors for each bar, you just need to change one line in the codes."
   ]
  },
  {
   "cell_type": "code",
   "execution_count": 4,
   "id": "a78c2cca",
   "metadata": {},
   "outputs": [
    {
     "data": {
      "text/html": [
       "\n",
       "<script>\n",
       "    require.config({\n",
       "        paths: {\n",
       "            'chartXkcd':'https://cdn.jsdelivr.net/npm/chart.xkcd@1.1/dist/chart.xkcd.min'\n",
       "        }\n",
       "    });\n",
       "</script>\n",
       "\n",
       "<div id=\"132d94fe727d41f8815a7f7b05d901fc\" class=\"chart-container\" style=\"width: 500px\">\n",
       "        <svg id=\"chart_132d94fe727d41f8815a7f7b05d901fc\"></svg>\n",
       "    </div>\n",
       "    <script>\n",
       "        require(['chartXkcd'], function(chartXkcd) {\n",
       "            const svg_132d94fe727d41f8815a7f7b05d901fc = document.querySelector('#chart_132d94fe727d41f8815a7f7b05d901fc')\n",
       "            const chart_132d94fe727d41f8815a7f7b05d901fc = new chartXkcd.Bar(svg_132d94fe727d41f8815a7f7b05d901fc, {\"title\": \"title\", \"data\": {\"datasets\": [{\"label\": \"This week\", \"data\": [14.0, 15.0, 17.0, 20.0, 22.3, 23.7, 24.8]}], \"labels\": [\"Sun.\", \"Mon.\", \"Tue.\", \"Wed.\", \"Thu.\", \"Fri.\", \"Sat.\"]}, \"xLabel\": \"Days\", \"yLabel\": \"Temperature (Celsius)\", \"options\": {\"yTickCount\": 3, \"dataColors\": [\"#FFF1C9\", \"#F7B7A3\", \"#EA5F89\", \"#9B3192\", \"#57167E\", \"#47B39C\", \"#00529B\"]}});\n",
       "        })\n",
       "    </script>\n"
      ],
      "text/plain": [
       "<cutecharts.render.engine.HTML at 0x140e6c14430>"
      ]
     },
     "execution_count": 4,
     "metadata": {},
     "output_type": "execute_result"
    }
   ],
   "source": [
    "chart = ctc.Bar('title',width='500px',height='400px')\n",
    "chart.set_options(\n",
    " labels=list(df['x']),\n",
    " x_label=\"Days\",\n",
    " y_label=\"Temperature (Celsius)\" ,\n",
    " colors=['#FFF1C9','#F7B7A3','#EA5F89','#9B3192','#57167E','#47B39C','#00529B']\n",
    " )\n",
    "chart.add_series(\"This week\",list(df['y']))\n",
    "chart.render_notebook()"
   ]
  },
  {
   "cell_type": "markdown",
   "id": "2e3f0b95",
   "metadata": {},
   "source": [
    "**2.LINE CHART**"
   ]
  },
  {
   "cell_type": "markdown",
   "id": "f3a19bc0",
   "metadata": {},
   "source": [
    "#### It makes more sense to draw the line chart for our dataset so that we can see the differences between temperatures of last week and this week."
   ]
  },
  {
   "cell_type": "code",
   "execution_count": 5,
   "id": "6eb44920",
   "metadata": {},
   "outputs": [
    {
     "data": {
      "text/html": [
       "\n",
       "<script>\n",
       "    require.config({\n",
       "        paths: {\n",
       "            'chartXkcd':'https://cdn.jsdelivr.net/npm/chart.xkcd@1.1/dist/chart.xkcd.min'\n",
       "        }\n",
       "    });\n",
       "</script>\n",
       "\n",
       "<div id=\"6b53ec4778014b769e87a5fe12427bc9\" class=\"chart-container\" style=\"width: 500px\">\n",
       "        <svg id=\"chart_6b53ec4778014b769e87a5fe12427bc9\"></svg>\n",
       "    </div>\n",
       "    <script>\n",
       "        require(['chartXkcd'], function(chartXkcd) {\n",
       "            const svg_6b53ec4778014b769e87a5fe12427bc9 = document.querySelector('#chart_6b53ec4778014b769e87a5fe12427bc9')\n",
       "            const chart_6b53ec4778014b769e87a5fe12427bc9 = new chartXkcd.Line(svg_6b53ec4778014b769e87a5fe12427bc9, {\"title\": \"Toronto Temperature\", \"data\": {\"datasets\": [{\"label\": \"This Week\", \"data\": [14.0, 15.0, 17.0, 20.0, 22.3, 23.7, 24.8]}, {\"label\": \"Last Week\", \"data\": [16.0, 16.4, 23.6, 24.5, 19.9, 13.6, 13.4]}], \"labels\": [\"Sun.\", \"Mon.\", \"Tue.\", \"Wed.\", \"Thu.\", \"Fri.\", \"Sat.\"]}, \"xLabel\": \"Days\", \"yLabel\": \"Temperature (Celsius)\", \"options\": {\"yTickCount\": 3, \"legendPosition\": 1}});\n",
       "        })\n",
       "    </script>\n"
      ],
      "text/plain": [
       "<cutecharts.render.engine.HTML at 0x140e6c14910>"
      ]
     },
     "execution_count": 5,
     "metadata": {},
     "output_type": "execute_result"
    }
   ],
   "source": [
    "chart = ctc.Line(\"Toronto Temperature\",width='500px',height='400px')\n",
    "chart.set_options(\n",
    " labels=list(df['x']), \n",
    " x_label=\"Days\",\n",
    " y_label=\"Temperature (Celsius)\" )\n",
    "chart.add_series(\"This Week\", list(df['y'])) \n",
    "chart.add_series(\"Last Week\", list(df['z']))\n",
    "chart.render_notebook()"
   ]
  },
  {
   "cell_type": "markdown",
   "id": "5eea11f8",
   "metadata": {},
   "source": [
    "*When you hover the mouse on the chart, the chart will automatically show labels with numbers and it also draws a dashed line so that the differences of temperatures between this week and last week become more visualized.*"
   ]
  },
  {
   "cell_type": "markdown",
   "id": "653133d7",
   "metadata": {},
   "source": [
    "**3.RADAR CHART**"
   ]
  },
  {
   "cell_type": "markdown",
   "id": "d53833cf",
   "metadata": {},
   "source": [
    "#### To change the line chart to a radar chart, you just need to change the chart type to ctc.Radar."
   ]
  },
  {
   "cell_type": "code",
   "execution_count": 6,
   "id": "6fae21c8",
   "metadata": {},
   "outputs": [
    {
     "data": {
      "text/html": [
       "\n",
       "<script>\n",
       "    require.config({\n",
       "        paths: {\n",
       "            'chartXkcd':'https://cdn.jsdelivr.net/npm/chart.xkcd@1.1/dist/chart.xkcd.min'\n",
       "        }\n",
       "    });\n",
       "</script>\n",
       "\n",
       "<div id=\"2be71b47cb234d84b1bdaae33c1cd957\" class=\"chart-container\" style=\"width: 700px\">\n",
       "        <svg id=\"chart_2be71b47cb234d84b1bdaae33c1cd957\"></svg>\n",
       "    </div>\n",
       "    <script>\n",
       "        require(['chartXkcd'], function(chartXkcd) {\n",
       "            const svg_2be71b47cb234d84b1bdaae33c1cd957 = document.querySelector('#chart_2be71b47cb234d84b1bdaae33c1cd957')\n",
       "            const chart_2be71b47cb234d84b1bdaae33c1cd957 = new chartXkcd.Radar(svg_2be71b47cb234d84b1bdaae33c1cd957, {\"title\": \"Toronto Temperature\", \"data\": {\"datasets\": [{\"label\": \"This week\", \"data\": [14.0, 15.0, 17.0, 20.0, 22.3, 23.7, 24.8]}, {\"label\": \"Last week\", \"data\": [16.0, 16.4, 23.6, 24.5, 19.9, 13.6, 13.4]}], \"labels\": [\"Sun.\", \"Mon.\", \"Tue.\", \"Wed.\", \"Thu.\", \"Fri.\", \"Sat.\"]}, \"options\": {\"showLegend\": true, \"showLabel\": true, \"tickCount\": 3, \"legendPosition\": 2}});\n",
       "        })\n",
       "    </script>\n"
      ],
      "text/plain": [
       "<cutecharts.render.engine.HTML at 0x140e6c256a0>"
      ]
     },
     "execution_count": 6,
     "metadata": {},
     "output_type": "execute_result"
    }
   ],
   "source": [
    "chart = ctc.Radar('Toronto Temperature',width='700px',height='600px')\n",
    "chart.set_options(\n",
    " labels=list(df['x']),\n",
    " is_show_legend=True, #by default, it is true. You can turn it off.\n",
    " legend_pos='upRight'  #location of the legend\n",
    " )\n",
    "chart.add_series('This week',list(df['y']))\n",
    "chart.add_series(\"Last week\",list(df['z']))\n",
    "chart.render_notebook()"
   ]
  },
  {
   "cell_type": "markdown",
   "id": "6ab83906",
   "metadata": {},
   "source": [
    "**4.PIE CHART**"
   ]
  },
  {
   "cell_type": "markdown",
   "id": "48d4cc01",
   "metadata": {},
   "source": [
    "**We will take another dataset to make pie and donut charts.**"
   ]
  },
  {
   "cell_type": "code",
   "execution_count": 7,
   "id": "81382a04",
   "metadata": {},
   "outputs": [],
   "source": [
    "df=pd.DataFrame({'x':['Asia', 'Africa', 'Europe', 'North America', 'South America', 'Australia'],\n",
    " 'y':[59.69, 16, 9.94, 7.79, 5.68, 0.54]})"
   ]
  },
  {
   "cell_type": "markdown",
   "id": "08b988ce",
   "metadata": {},
   "source": [
    "#### The datasets contains names of continents and their percentages of population."
   ]
  },
  {
   "cell_type": "code",
   "execution_count": 8,
   "id": "05841b54",
   "metadata": {},
   "outputs": [
    {
     "data": {
      "text/html": [
       "\n",
       "<script>\n",
       "    require.config({\n",
       "        paths: {\n",
       "            'chartXkcd':'https://cdn.jsdelivr.net/npm/chart.xkcd@1.1/dist/chart.xkcd.min'\n",
       "        }\n",
       "    });\n",
       "</script>\n",
       "\n",
       "<div id=\"ab970e966b654ae7a353896328a7b127\" class=\"chart-container\" style=\"width: 500px\">\n",
       "        <svg id=\"chart_ab970e966b654ae7a353896328a7b127\"></svg>\n",
       "    </div>\n",
       "    <script>\n",
       "        require(['chartXkcd'], function(chartXkcd) {\n",
       "            const svg_ab970e966b654ae7a353896328a7b127 = document.querySelector('#chart_ab970e966b654ae7a353896328a7b127')\n",
       "            const chart_ab970e966b654ae7a353896328a7b127 = new chartXkcd.Pie(svg_ab970e966b654ae7a353896328a7b127, {\"title\": \"% of population by continent\", \"data\": {\"datasets\": [{\"data\": [59.69, 16.0, 9.94, 7.79, 5.68, 0.54]}], \"labels\": [\"Asia\", \"Africa\", \"Europe\", \"North America\", \"South America\", \"Australia\"]}, \"options\": {\"innerRadius\": 0, \"legendPosition\": 1}});\n",
       "        })\n",
       "    </script>\n"
      ],
      "text/plain": [
       "<cutecharts.render.engine.HTML at 0x140e6c25130>"
      ]
     },
     "execution_count": 8,
     "metadata": {},
     "output_type": "execute_result"
    }
   ],
   "source": [
    "chart = ctc.Pie('% of population by continent',width='500px',height='400px')\n",
    "chart.set_options(\n",
    " labels=list(df['x']),\n",
    " inner_radius=0\n",
    " )\n",
    "chart.add_series(list(df['y'])) \n",
    "chart.render_notebook()"
   ]
  },
  {
   "cell_type": "markdown",
   "id": "ef264766",
   "metadata": {},
   "source": [
    "*You can change the colors of each part in the pie chart.*"
   ]
  },
  {
   "cell_type": "markdown",
   "id": "320fa510",
   "metadata": {},
   "source": [
    "**And it is also very easy to turn a pie chart in to a donut chart. You just need to change the parameter of inner_radius.**"
   ]
  },
  {
   "cell_type": "code",
   "execution_count": 9,
   "id": "24e80378",
   "metadata": {},
   "outputs": [
    {
     "data": {
      "text/html": [
       "\n",
       "<script>\n",
       "    require.config({\n",
       "        paths: {\n",
       "            'chartXkcd':'https://cdn.jsdelivr.net/npm/chart.xkcd@1.1/dist/chart.xkcd.min'\n",
       "        }\n",
       "    });\n",
       "</script>\n",
       "\n",
       "<div id=\"c134cd998cbe488db3489658f8290f78\" class=\"chart-container\" style=\"width: 500px\">\n",
       "        <svg id=\"chart_c134cd998cbe488db3489658f8290f78\"></svg>\n",
       "    </div>\n",
       "    <script>\n",
       "        require(['chartXkcd'], function(chartXkcd) {\n",
       "            const svg_c134cd998cbe488db3489658f8290f78 = document.querySelector('#chart_c134cd998cbe488db3489658f8290f78')\n",
       "            const chart_c134cd998cbe488db3489658f8290f78 = new chartXkcd.Pie(svg_c134cd998cbe488db3489658f8290f78, {\"title\": \"% of population by continent\", \"data\": {\"datasets\": [{\"data\": [59.69, 16.0, 9.94, 7.79, 5.68, 0.54]}], \"labels\": [\"Asia\", \"Africa\", \"Europe\", \"North America\", \"South America\", \"Australia\"]}, \"options\": {\"innerRadius\": 0.6, \"legendPosition\": 1}});\n",
       "        })\n",
       "    </script>\n"
      ],
      "text/plain": [
       "<cutecharts.render.engine.HTML at 0x140e7ce5ee0>"
      ]
     },
     "execution_count": 9,
     "metadata": {},
     "output_type": "execute_result"
    }
   ],
   "source": [
    "df=pd.DataFrame({'x':['Asia', 'Africa', 'Europe', 'North America', 'South America', 'Australia'],\n",
    " 'y':[59.69, 16, 9.94, 7.79, 5.68, 0.54]})\n",
    "chart = ctc.Pie('% of population by continent',width='500px',height='400px')\n",
    "chart.set_options(\n",
    " labels=list(df['x']),\n",
    " inner_radius=0.6\n",
    " )\n",
    "chart.add_series(list(df['y'])) \n",
    "chart.render_notebook()"
   ]
  },
  {
   "cell_type": "markdown",
   "id": "0c63681b",
   "metadata": {},
   "source": [
    "**5.SCATTER PLOT**"
   ]
  },
  {
   "cell_type": "markdown",
   "id": "e1262770",
   "metadata": {},
   "source": [
    "#### To plot the scatter plot, We will create a new dataset to map out the relationship between temperature and ice cream sales."
   ]
  },
  {
   "cell_type": "code",
   "execution_count": 10,
   "id": "7547d90f",
   "metadata": {},
   "outputs": [],
   "source": [
    "Temperature = [14.2,16.4,11.9,15.2,18.5,22.1,19.4,25.1,23.4,18.1,22.6,17.2]\n",
    "Sales = [215,325,185,332,406,522,412,614,544,421,445,408]"
   ]
  },
  {
   "cell_type": "markdown",
   "id": "66b2b958",
   "metadata": {},
   "source": [
    "*Then, we can create the scatter plot.*"
   ]
  },
  {
   "cell_type": "code",
   "execution_count": 11,
   "id": "55f9b609",
   "metadata": {},
   "outputs": [
    {
     "data": {
      "text/html": [
       "\n",
       "<script>\n",
       "    require.config({\n",
       "        paths: {\n",
       "            'chartXkcd':'https://cdn.jsdelivr.net/npm/chart.xkcd@1.1/dist/chart.xkcd.min'\n",
       "        }\n",
       "    });\n",
       "</script>\n",
       "\n",
       "<div id=\"b76eb8b50e54473087c9496b1aaa51b8\" class=\"chart-container\" style=\"width: 500px\">\n",
       "        <svg id=\"chart_b76eb8b50e54473087c9496b1aaa51b8\"></svg>\n",
       "    </div>\n",
       "    <script>\n",
       "        require(['chartXkcd'], function(chartXkcd) {\n",
       "            const svg_b76eb8b50e54473087c9496b1aaa51b8 = document.querySelector('#chart_b76eb8b50e54473087c9496b1aaa51b8')\n",
       "            const chart_b76eb8b50e54473087c9496b1aaa51b8 = new chartXkcd.XY(svg_b76eb8b50e54473087c9496b1aaa51b8, {\"title\": \"Ice Cream Sales vs Temperature\", \"data\": {\"datasets\": [{\"label\": \"Temperature\", \"data\": [{\"x\": 14.2, \"y\": 215}, {\"x\": 16.4, \"y\": 325}, {\"x\": 11.9, \"y\": 185}, {\"x\": 15.2, \"y\": 332}, {\"x\": 18.5, \"y\": 406}, {\"x\": 22.1, \"y\": 522}, {\"x\": 19.4, \"y\": 412}, {\"x\": 25.1, \"y\": 614}, {\"x\": 23.4, \"y\": 544}, {\"x\": 18.1, \"y\": 421}, {\"x\": 22.6, \"y\": 445}, {\"x\": 17.2, \"y\": 408}]}]}, \"xLabel\": \"Temperature (Celcius)\", \"yLabel\": \"Icecream Sales\", \"options\": {\"xTickCount\": 3, \"yTickCount\": 3, \"legendPosition\": 1, \"dataColors\": [\"#1EAFAE\"], \"showLine\": false, \"dotSize\": 1}});\n",
       "        })\n",
       "    </script>\n"
      ],
      "text/plain": [
       "<cutecharts.render.engine.HTML at 0x140e6be4be0>"
      ]
     },
     "execution_count": 11,
     "metadata": {},
     "output_type": "execute_result"
    }
   ],
   "source": [
    "chart = ctc.Scatter('Ice Cream Sales vs Temperature',width='500px',height='600px')\n",
    "chart.set_options(\n",
    " x_label=\"Temperature (Celcius)\",\n",
    " y_label=\"Icecream Sales\" ,\n",
    " colors=['#1EAFAE'],\n",
    " is_show_line = False,\n",
    " dot_size=1)\n",
    "chart.add_series(\"Temperature\", [(z[0], z[1]) for z in zip(Temperature, Sales)])\n",
    "chart.render_notebook()"
   ]
  },
  {
   "cell_type": "markdown",
   "id": "8791f2ce",
   "metadata": {},
   "source": [
    "#### We can easily see that that warmer weather leads to more sales."
   ]
  },
  {
   "cell_type": "markdown",
   "id": "c94ab609",
   "metadata": {},
   "source": [
    "### As you can see, the cutechart package can really provide impressively cute charts. The limit of this package is that it can only generate five different kinds charts."
   ]
  }
 ],
 "metadata": {
  "kernelspec": {
   "display_name": "Python 3",
   "language": "python",
   "name": "python3"
  },
  "language_info": {
   "codemirror_mode": {
    "name": "ipython",
    "version": 3
   },
   "file_extension": ".py",
   "mimetype": "text/x-python",
   "name": "python",
   "nbconvert_exporter": "python",
   "pygments_lexer": "ipython3",
   "version": "3.9.5"
  }
 },
 "nbformat": 4,
 "nbformat_minor": 5
}
