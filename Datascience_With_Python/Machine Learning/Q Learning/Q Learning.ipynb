{
 "cells": [
  {
   "cell_type": "markdown",
   "source": [
    "# Q Learning"
   ],
   "metadata": {}
  },
  {
   "cell_type": "markdown",
   "source": [
    "## Q-Learning Example\n",
    "For this example we will use the Q-Learning algorithm to train an agent to navigate a popular enviornment from the [Open AI Gym](https://gym.openai.com/). The Open AI Gym was developed so programmers could practice machine learning using unique enviornments. Intersting fact, Elon Musk is one of the founders of OpenAI!\n",
    "\n",
    "Let's start by looking at what Open AI Gym is. "
   ],
   "metadata": {
    "id": "rwIl0sJgmu4D"
   }
  },
  {
   "cell_type": "code",
   "execution_count": 1,
   "source": [
    "import gym   # all you have to do to import and use open ai gym!"
   ],
   "outputs": [],
   "metadata": {
    "id": "rSETF0zqokYr"
   }
  },
  {
   "cell_type": "markdown",
   "source": [
    "Once you import gym you can load an enviornment using the line ```gym.make(\"enviornment\")```."
   ],
   "metadata": {
    "id": "8cH3AmCzotO1"
   }
  },
  {
   "cell_type": "code",
   "execution_count": 2,
   "source": [
    "env = gym.make('FrozenLake-v1')  # we are going to use the FrozenLake enviornment"
   ],
   "outputs": [],
   "metadata": {
    "id": "UKN1ScBco3dp"
   }
  },
  {
   "cell_type": "markdown",
   "source": [
    "There are a few other commands that can be used to interact and get information about the enviornment."
   ],
   "metadata": {
    "id": "3SvSlmVwo8cY"
   }
  },
  {
   "cell_type": "code",
   "execution_count": 3,
   "source": [
    "print(env.observation_space.n)   # get number of states\r\n",
    "print(env.action_space.n)   # get number of actions"
   ],
   "outputs": [
    {
     "output_type": "stream",
     "name": "stdout",
     "text": [
      "16\n",
      "4\n"
     ]
    }
   ],
   "metadata": {
    "id": "FF3icIeapFct"
   }
  },
  {
   "cell_type": "code",
   "execution_count": 4,
   "source": [
    "env.reset()  # reset enviornment to default state"
   ],
   "outputs": [
    {
     "output_type": "execute_result",
     "data": {
      "text/plain": [
       "0"
      ]
     },
     "metadata": {},
     "execution_count": 4
    }
   ],
   "metadata": {
    "id": "lc9cwp03pQVn"
   }
  },
  {
   "cell_type": "code",
   "execution_count": 5,
   "source": [
    "action = env.action_space.sample()  # get a random action "
   ],
   "outputs": [],
   "metadata": {
    "id": "sngyjPDapUt7"
   }
  },
  {
   "cell_type": "code",
   "execution_count": 6,
   "source": [
    "new_state, reward, done, info = env.step(action)  # take action, notice it returns information about the action"
   ],
   "outputs": [],
   "metadata": {
    "id": "HeEfi8xypXya"
   }
  },
  {
   "cell_type": "code",
   "execution_count": 7,
   "source": [
    "env.render()   # render the GUI for the enviornment "
   ],
   "outputs": [
    {
     "output_type": "stream",
     "name": "stdout",
     "text": [
      "  (Left)\n",
      "SFFF\n",
      "\u001b[41mF\u001b[0mHFH\n",
      "FFFH\n",
      "HFFG\n"
     ]
    }
   ],
   "metadata": {
    "id": "_1W3D81ipdaS"
   }
  },
  {
   "cell_type": "markdown",
   "source": [
    "### Frozen Lake Enviornment\n",
    "Now that we have a basic understanding of how the gym enviornment works it's time to discuss the specific problem we will be solving.\n",
    "\n",
    "The enviornment we loaded above ```FrozenLake-v1``` is one of the simplest enviornments in Open AI Gym. The goal of the agent is to navigate a frozen lake and find the Goal without falling through the ice (render the enviornment above to see an example).\n",
    "\n",
    "There are:\n",
    "- 16 states (one for each square) \n",
    "- 4 possible actions (LEFT, RIGHT, DOWN, UP)\n",
    "- 4 different types of blocks (F: frozen, H: hole, S: start, G: goal)\n",
    "\n"
   ],
   "metadata": {
    "id": "vmW6HAbQp01f"
   }
  },
  {
   "cell_type": "markdown",
   "source": [
    "### Building the Q-Table\n",
    "The first thing we need to do is build an empty Q-Table that we can use to store and update our values."
   ],
   "metadata": {
    "id": "YlWoK75ZrK2b"
   }
  },
  {
   "cell_type": "code",
   "execution_count": 8,
   "source": [
    "import gym\n",
    "import numpy as np\n",
    "import time\n",
    "\n",
    "env = gym.make('FrozenLake-v1')\n",
    "STATES = env.observation_space.n\n",
    "ACTIONS = env.action_space.n"
   ],
   "outputs": [],
   "metadata": {
    "id": "r767K4s0rR2p"
   }
  },
  {
   "cell_type": "code",
   "execution_count": 9,
   "source": [
    "Q = np.zeros((STATES, ACTIONS))  # create a matrix with all 0 values \n",
    "Q"
   ],
   "outputs": [
    {
     "output_type": "execute_result",
     "data": {
      "text/plain": [
       "array([[0., 0., 0., 0.],\n",
       "       [0., 0., 0., 0.],\n",
       "       [0., 0., 0., 0.],\n",
       "       [0., 0., 0., 0.],\n",
       "       [0., 0., 0., 0.],\n",
       "       [0., 0., 0., 0.],\n",
       "       [0., 0., 0., 0.],\n",
       "       [0., 0., 0., 0.],\n",
       "       [0., 0., 0., 0.],\n",
       "       [0., 0., 0., 0.],\n",
       "       [0., 0., 0., 0.],\n",
       "       [0., 0., 0., 0.],\n",
       "       [0., 0., 0., 0.],\n",
       "       [0., 0., 0., 0.],\n",
       "       [0., 0., 0., 0.],\n",
       "       [0., 0., 0., 0.]])"
      ]
     },
     "metadata": {},
     "execution_count": 9
    }
   ],
   "metadata": {
    "id": "UAzMWGatrVIk"
   }
  },
  {
   "cell_type": "markdown",
   "source": [
    "### Constants\n",
    "As we discussed we need to define some constants that will be used to update our Q-Table and tell our agent when to stop training."
   ],
   "metadata": {
    "id": "vc_h8tLSrpmc"
   }
  },
  {
   "cell_type": "code",
   "execution_count": 10,
   "source": [
    "EPISODES = 2000 # how many times to run the enviornment from the beginning\n",
    "MAX_STEPS = 100  # max number of steps allowed for each run of enviornment\n",
    "\n",
    "LEARNING_RATE = 0.81  # learning rate\n",
    "GAMMA = 0.96"
   ],
   "outputs": [],
   "metadata": {
    "id": "-FQapdnnr6P1"
   }
  },
  {
   "cell_type": "markdown",
   "source": [
    "### Picking an Action\n",
    "Remember that we can pick an action using one of two methods:\n",
    "1. Randomly picking a valid action\n",
    "2. Using the current Q-Table to find the best action.\n",
    "\n",
    "Here we will define a new value $\\epsilon$ that will tell us the probabillity of selecting a random action. This value will start off very high and slowly decrease as the agent learns more about the enviornment."
   ],
   "metadata": {
    "id": "NxrAj91rsMfm"
   }
  },
  {
   "cell_type": "code",
   "execution_count": 11,
   "source": [
    "epsilon = 0.9  # start with a 90% chance of picking a random action\n",
    "\n",
    "# code to pick action\n",
    "if np.random.uniform(0, 1) < epsilon:  # we will check if a randomly selected value is less than epsilon.\n",
    "    action = env.action_space.sample()  # take random action\n",
    "else:\n",
    "    action = np.argmax(Q[state, :])  # use Q table to pick best action based on current values"
   ],
   "outputs": [],
   "metadata": {
    "id": "YUAQVyX0sWDb"
   }
  },
  {
   "cell_type": "markdown",
   "source": [
    "### Updating Q Values\n",
    "The code below implements the formula discussed above."
   ],
   "metadata": {
    "id": "5n-i0B7Atige"
   }
  },
  {
   "cell_type": "code",
   "execution_count": null,
   "source": [
    "Q[state, action] = Q[state, action] + LEARNING_RATE * (reward + GAMMA * np.max(Q[new_state, :]) - Q[state, action])"
   ],
   "outputs": [],
   "metadata": {
    "id": "9r7R1W6Qtnh8"
   }
  },
  {
   "cell_type": "markdown",
   "source": [
    "### Putting it Together\n",
    "Now that we know how to do some basic things we can combine these together to create our Q-Learning algorithm,"
   ],
   "metadata": {
    "id": "__afaD62uh8G"
   }
  },
  {
   "cell_type": "code",
   "execution_count": 13,
   "source": [
    "import gym\n",
    "import numpy as np\n",
    "import time\n",
    "\n",
    "env = gym.make('FrozenLake-v1')\n",
    "STATES = env.observation_space.n\n",
    "ACTIONS = env.action_space.n\n",
    "\n",
    "Q = np.zeros((STATES, ACTIONS))\n",
    "\n",
    "EPISODES = 1500 # how many times to run the enviornment from the beginning\n",
    "MAX_STEPS = 100  # max number of steps allowed for each run of enviornment\n",
    "\n",
    "LEARNING_RATE = 0.81  # learning rate\n",
    "GAMMA = 0.96\n",
    "\n",
    "RENDER = False # if you want to see training set to true\n",
    "\n",
    "epsilon = 0.9\n"
   ],
   "outputs": [],
   "metadata": {
    "id": "AGiYCiNuutHz"
   }
  },
  {
   "cell_type": "code",
   "execution_count": 14,
   "source": [
    "rewards = []\n",
    "for episode in range(EPISODES):\n",
    "\n",
    "  state = env.reset()\n",
    "  for _ in range(MAX_STEPS):\n",
    "    \n",
    "    if RENDER:\n",
    "      env.render()\n",
    "\n",
    "    if np.random.uniform(0, 1) < epsilon:\n",
    "      action = env.action_space.sample()  \n",
    "    else:\n",
    "      action = np.argmax(Q[state, :])\n",
    "\n",
    "    next_state, reward, done, _ = env.step(action)\n",
    "\n",
    "    Q[state, action] = Q[state, action] + LEARNING_RATE * (reward + GAMMA * np.max(Q[next_state, :]) - Q[state, action])\n",
    "\n",
    "    state = next_state\n",
    "\n",
    "    if done: \n",
    "      rewards.append(reward)\n",
    "      epsilon -= 0.001\n",
    "      break  # reached goal\n",
    "\n",
    "print(Q)\n",
    "print(f\"Average reward: {sum(rewards)/len(rewards)}:\")\n",
    "# and now we can see our Q values!"
   ],
   "outputs": [
    {
     "output_type": "stream",
     "name": "stdout",
     "text": [
      "[[4.55130020e-01 9.69888058e-03 9.58336349e-03 9.65889939e-03]\n",
      " [3.41806678e-03 3.59269419e-03 2.09486884e-03 7.04298681e-03]\n",
      " [5.66525206e-03 3.85760183e-03 2.62019565e-02 5.92296634e-03]\n",
      " [1.42245017e-03 1.74351386e-03 2.12434213e-03 1.37885687e-02]\n",
      " [4.66002437e-01 8.01398571e-03 6.54275283e-03 1.05452300e-02]\n",
      " [0.00000000e+00 0.00000000e+00 0.00000000e+00 0.00000000e+00]\n",
      " [8.05813689e-05 2.82703960e-05 2.84181100e-01 2.18138370e-04]\n",
      " [0.00000000e+00 0.00000000e+00 0.00000000e+00 0.00000000e+00]\n",
      " [1.03175406e-02 3.30749288e-03 2.22466487e-03 5.19900614e-01]\n",
      " [3.36504640e-03 5.99904708e-01 2.99999892e-03 2.21411837e-03]\n",
      " [8.69001263e-01 1.56766898e-04 1.63156354e-04 6.93030778e-04]\n",
      " [0.00000000e+00 0.00000000e+00 0.00000000e+00 0.00000000e+00]\n",
      " [0.00000000e+00 0.00000000e+00 0.00000000e+00 0.00000000e+00]\n",
      " [1.26716469e-01 8.31278200e-02 6.89009887e-01 3.31004240e-02]\n",
      " [1.88659710e-01 1.46994555e-01 9.77193330e-01 1.69968889e-01]\n",
      " [0.00000000e+00 0.00000000e+00 0.00000000e+00 0.00000000e+00]]\n",
      "Average reward: 0.328:\n"
     ]
    }
   ],
   "metadata": {
    "id": "jFRtn5dUu5ZI"
   }
  },
  {
   "cell_type": "code",
   "execution_count": 15,
   "source": [
    "# we can plot the training progress and see how the agent improved\n",
    "import matplotlib.pyplot as plt\n",
    "\n",
    "def get_average(values):\n",
    "  return sum(values)/len(values)\n",
    "\n",
    "avg_rewards = []\n",
    "for i in range(0, len(rewards), 100):\n",
    "  avg_rewards.append(get_average(rewards[i:i+100])) \n",
    "\n",
    "plt.plot(avg_rewards)\n",
    "plt.ylabel('average reward')\n",
    "plt.xlabel('episodes (100\\'s)')\n",
    "plt.show()"
   ],
   "outputs": [
    {
     "output_type": "display_data",
     "data": {
      "text/plain": [
       "<Figure size 432x288 with 1 Axes>"
      ],
      "image/png": "[encoded data removed]"
     },
     "metadata": {
      "needs_background": "light"
     }
    }
   ],
   "metadata": {
    "id": "Zo-tNznd65US"
   }
  },
  {
   "cell_type": "markdown",
   "source": [
    "## Sources\n",
    "1. Violante, Andre. “Simple Reinforcement Learning: Q-Learning.” Medium, Towards Data Science, 1 July 2019, https://towardsdatascience.com/simple-reinforcement-learning-q-learning-fcddc4b6fe56.\n",
    "\n",
    "2. Openai. “Openai/Gym.” GitHub, https://github.com/openai/gym/wiki/FrozenLake-v0."
   ],
   "metadata": {
    "id": "gy4YH2m9s1ww"
   }
  }
 ],
 "metadata": {
  "accelerator": "GPU",
  "colab": {
   "collapsed_sections": [],
   "name": "Reinforcement Learning.ipynb",
   "provenance": []
  },
  "kernelspec": {
   "display_name": "Python 3",
   "language": "python",
   "name": "python3"
  },
  "language_info": {
   "codemirror_mode": {
    "name": "ipython",
    "version": 3
   },
   "file_extension": ".py",
   "mimetype": "text/x-python",
   "name": "python",
   "nbconvert_exporter": "python",
   "pygments_lexer": "ipython3",
   "version": "3.7.0"
  }
 },
 "nbformat": 4,
 "nbformat_minor": 4
}