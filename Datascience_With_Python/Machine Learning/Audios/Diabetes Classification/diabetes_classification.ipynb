{
 "cells": [
  {
   "cell_type": "raw",
   "id": "e21a70a1",
   "metadata": {},
   "source": [
    "In this tutorial we have used Diabeties dataset and our objective is to classify the\n",
    "data into person having diabeties or not."
   ]
  },
  {
   "cell_type": "markdown",
   "id": "fe18c73c",
   "metadata": {},
   "source": [
    "# Importing libraries"
   ]
  },
  {
   "cell_type": "code",
   "execution_count": 45,
   "id": "20f1764e",
   "metadata": {},
   "outputs": [],
   "source": [
    "import pandas as pd\n",
    "from sklearn.model_selection import train_test_split\n",
    "import seaborn as sns\n",
    "import matplotlib.pyplot as plt\n",
    "from sklearn.metrics import accuracy_score\n",
    "from sklearn.ensemble import RandomForestClassifier,AdaBoostClassifier,BaggingClassifier\n",
    "from sklearn import metrics\n",
    "import matplotlib.pyplot as plt\n",
    "from sklearn.linear_model import LogisticRegression\n",
    "from sklearn.tree import DecisionTreeClassifier"
   ]
  },
  {
   "cell_type": "markdown",
   "id": "0d28cfb8",
   "metadata": {},
   "source": [
    "# Loading the train dataset and test dataset"
   ]
  },
  {
   "cell_type": "code",
   "execution_count": 2,
   "id": "ddbef64a",
   "metadata": {},
   "outputs": [],
   "source": [
    "diab_train=pd.read_csv(\"diab_train.csv\")\n",
    "diab_test=pd.read_csv(\"diab_test.csv\")"
   ]
  },
  {
   "cell_type": "markdown",
   "id": "8dff89a7",
   "metadata": {},
   "source": [
    "# Pre-Processing the train dataset"
   ]
  },
  {
   "cell_type": "raw",
   "id": "062d069a",
   "metadata": {},
   "source": [
    "print of first five diab_train data"
   ]
  },
  {
   "cell_type": "code",
   "execution_count": 3,
   "id": "19afb6ea",
   "metadata": {},
   "outputs": [
    {
     "data": {
      "text/html": [
       "<div>\n",
       "<style scoped>\n",
       "    .dataframe tbody tr th:only-of-type {\n",
       "        vertical-align: middle;\n",
       "    }\n",
       "\n",
       "    .dataframe tbody tr th {\n",
       "        vertical-align: top;\n",
       "    }\n",
       "\n",
       "    .dataframe thead th {\n",
       "        text-align: right;\n",
       "    }\n",
       "</style>\n",
       "<table border=\"1\" class=\"dataframe\">\n",
       "  <thead>\n",
       "    <tr style=\"text-align: right;\">\n",
       "      <th></th>\n",
       "      <th>p_id</th>\n",
       "      <th>no_times_pregnant</th>\n",
       "      <th>glucose_concentration</th>\n",
       "      <th>blood_pressure</th>\n",
       "      <th>skin_fold_thickness</th>\n",
       "      <th>serum_insulin</th>\n",
       "      <th>bmi</th>\n",
       "      <th>diabetes pedigree</th>\n",
       "      <th>age</th>\n",
       "      <th>diabetes</th>\n",
       "    </tr>\n",
       "  </thead>\n",
       "  <tbody>\n",
       "    <tr>\n",
       "      <th>0</th>\n",
       "      <td>316</td>\n",
       "      <td>2</td>\n",
       "      <td>112</td>\n",
       "      <td>68</td>\n",
       "      <td>22</td>\n",
       "      <td>94</td>\n",
       "      <td>34.1</td>\n",
       "      <td>0.315</td>\n",
       "      <td>26</td>\n",
       "      <td>0</td>\n",
       "    </tr>\n",
       "    <tr>\n",
       "      <th>1</th>\n",
       "      <td>25</td>\n",
       "      <td>11</td>\n",
       "      <td>143</td>\n",
       "      <td>94</td>\n",
       "      <td>33</td>\n",
       "      <td>146</td>\n",
       "      <td>36.6</td>\n",
       "      <td>0.254</td>\n",
       "      <td>51</td>\n",
       "      <td>1</td>\n",
       "    </tr>\n",
       "    <tr>\n",
       "      <th>2</th>\n",
       "      <td>710</td>\n",
       "      <td>2</td>\n",
       "      <td>93</td>\n",
       "      <td>64</td>\n",
       "      <td>32</td>\n",
       "      <td>160</td>\n",
       "      <td>38.0</td>\n",
       "      <td>0.674</td>\n",
       "      <td>23</td>\n",
       "      <td>1</td>\n",
       "    </tr>\n",
       "    <tr>\n",
       "      <th>3</th>\n",
       "      <td>658</td>\n",
       "      <td>1</td>\n",
       "      <td>120</td>\n",
       "      <td>80</td>\n",
       "      <td>48</td>\n",
       "      <td>200</td>\n",
       "      <td>38.9</td>\n",
       "      <td>1.162</td>\n",
       "      <td>41</td>\n",
       "      <td>0</td>\n",
       "    </tr>\n",
       "    <tr>\n",
       "      <th>4</th>\n",
       "      <td>542</td>\n",
       "      <td>3</td>\n",
       "      <td>128</td>\n",
       "      <td>72</td>\n",
       "      <td>25</td>\n",
       "      <td>190</td>\n",
       "      <td>32.4</td>\n",
       "      <td>0.549</td>\n",
       "      <td>27</td>\n",
       "      <td>1</td>\n",
       "    </tr>\n",
       "  </tbody>\n",
       "</table>\n",
       "</div>"
      ],
      "text/plain": [
       "   p_id  no_times_pregnant  glucose_concentration  blood_pressure  \\\n",
       "0   316                  2                    112              68   \n",
       "1    25                 11                    143              94   \n",
       "2   710                  2                     93              64   \n",
       "3   658                  1                    120              80   \n",
       "4   542                  3                    128              72   \n",
       "\n",
       "   skin_fold_thickness  serum_insulin   bmi  diabetes pedigree  age  diabetes  \n",
       "0                   22             94  34.1              0.315   26         0  \n",
       "1                   33            146  36.6              0.254   51         1  \n",
       "2                   32            160  38.0              0.674   23         1  \n",
       "3                   48            200  38.9              1.162   41         0  \n",
       "4                   25            190  32.4              0.549   27         1  "
      ]
     },
     "execution_count": 3,
     "metadata": {},
     "output_type": "execute_result"
    }
   ],
   "source": [
    "diab_train.head()"
   ]
  },
  {
   "cell_type": "raw",
   "id": "e571aa2e",
   "metadata": {},
   "source": [
    "print of last five diab_train data"
   ]
  },
  {
   "cell_type": "code",
   "execution_count": 4,
   "id": "57387c7e",
   "metadata": {},
   "outputs": [
    {
     "data": {
      "text/html": [
       "<div>\n",
       "<style scoped>\n",
       "    .dataframe tbody tr th:only-of-type {\n",
       "        vertical-align: middle;\n",
       "    }\n",
       "\n",
       "    .dataframe tbody tr th {\n",
       "        vertical-align: top;\n",
       "    }\n",
       "\n",
       "    .dataframe thead th {\n",
       "        text-align: right;\n",
       "    }\n",
       "</style>\n",
       "<table border=\"1\" class=\"dataframe\">\n",
       "  <thead>\n",
       "    <tr style=\"text-align: right;\">\n",
       "      <th></th>\n",
       "      <th>p_id</th>\n",
       "      <th>no_times_pregnant</th>\n",
       "      <th>glucose_concentration</th>\n",
       "      <th>blood_pressure</th>\n",
       "      <th>skin_fold_thickness</th>\n",
       "      <th>serum_insulin</th>\n",
       "      <th>bmi</th>\n",
       "      <th>diabetes pedigree</th>\n",
       "      <th>age</th>\n",
       "      <th>diabetes</th>\n",
       "    </tr>\n",
       "  </thead>\n",
       "  <tbody>\n",
       "    <tr>\n",
       "      <th>609</th>\n",
       "      <td>14</td>\n",
       "      <td>1</td>\n",
       "      <td>189</td>\n",
       "      <td>60</td>\n",
       "      <td>23</td>\n",
       "      <td>846</td>\n",
       "      <td>30.1</td>\n",
       "      <td>0.398</td>\n",
       "      <td>59</td>\n",
       "      <td>1</td>\n",
       "    </tr>\n",
       "    <tr>\n",
       "      <th>610</th>\n",
       "      <td>555</td>\n",
       "      <td>1</td>\n",
       "      <td>84</td>\n",
       "      <td>64</td>\n",
       "      <td>23</td>\n",
       "      <td>115</td>\n",
       "      <td>36.9</td>\n",
       "      <td>0.471</td>\n",
       "      <td>28</td>\n",
       "      <td>0</td>\n",
       "    </tr>\n",
       "    <tr>\n",
       "      <th>611</th>\n",
       "      <td>730</td>\n",
       "      <td>2</td>\n",
       "      <td>92</td>\n",
       "      <td>52</td>\n",
       "      <td>0</td>\n",
       "      <td>0</td>\n",
       "      <td>30.1</td>\n",
       "      <td>0.141</td>\n",
       "      <td>22</td>\n",
       "      <td>0</td>\n",
       "    </tr>\n",
       "    <tr>\n",
       "      <th>612</th>\n",
       "      <td>103</td>\n",
       "      <td>0</td>\n",
       "      <td>125</td>\n",
       "      <td>96</td>\n",
       "      <td>0</td>\n",
       "      <td>0</td>\n",
       "      <td>22.5</td>\n",
       "      <td>0.262</td>\n",
       "      <td>21</td>\n",
       "      <td>0</td>\n",
       "    </tr>\n",
       "    <tr>\n",
       "      <th>613</th>\n",
       "      <td>603</td>\n",
       "      <td>1</td>\n",
       "      <td>124</td>\n",
       "      <td>74</td>\n",
       "      <td>36</td>\n",
       "      <td>0</td>\n",
       "      <td>27.8</td>\n",
       "      <td>0.100</td>\n",
       "      <td>30</td>\n",
       "      <td>0</td>\n",
       "    </tr>\n",
       "  </tbody>\n",
       "</table>\n",
       "</div>"
      ],
      "text/plain": [
       "     p_id  no_times_pregnant  glucose_concentration  blood_pressure  \\\n",
       "609    14                  1                    189              60   \n",
       "610   555                  1                     84              64   \n",
       "611   730                  2                     92              52   \n",
       "612   103                  0                    125              96   \n",
       "613   603                  1                    124              74   \n",
       "\n",
       "     skin_fold_thickness  serum_insulin   bmi  diabetes pedigree  age  \\\n",
       "609                   23            846  30.1              0.398   59   \n",
       "610                   23            115  36.9              0.471   28   \n",
       "611                    0              0  30.1              0.141   22   \n",
       "612                    0              0  22.5              0.262   21   \n",
       "613                   36              0  27.8              0.100   30   \n",
       "\n",
       "     diabetes  \n",
       "609         1  \n",
       "610         0  \n",
       "611         0  \n",
       "612         0  \n",
       "613         0  "
      ]
     },
     "execution_count": 4,
     "metadata": {},
     "output_type": "execute_result"
    }
   ],
   "source": [
    "diab_train.tail()"
   ]
  },
  {
   "cell_type": "raw",
   "id": "f40188f8",
   "metadata": {},
   "source": [
    "print of some statistical information"
   ]
  },
  {
   "cell_type": "code",
   "execution_count": 5,
   "id": "46d2a735",
   "metadata": {},
   "outputs": [
    {
     "data": {
      "text/html": [
       "<div>\n",
       "<style scoped>\n",
       "    .dataframe tbody tr th:only-of-type {\n",
       "        vertical-align: middle;\n",
       "    }\n",
       "\n",
       "    .dataframe tbody tr th {\n",
       "        vertical-align: top;\n",
       "    }\n",
       "\n",
       "    .dataframe thead th {\n",
       "        text-align: right;\n",
       "    }\n",
       "</style>\n",
       "<table border=\"1\" class=\"dataframe\">\n",
       "  <thead>\n",
       "    <tr style=\"text-align: right;\">\n",
       "      <th></th>\n",
       "      <th>p_id</th>\n",
       "      <th>no_times_pregnant</th>\n",
       "      <th>glucose_concentration</th>\n",
       "      <th>blood_pressure</th>\n",
       "      <th>skin_fold_thickness</th>\n",
       "      <th>serum_insulin</th>\n",
       "      <th>bmi</th>\n",
       "      <th>diabetes pedigree</th>\n",
       "      <th>age</th>\n",
       "      <th>diabetes</th>\n",
       "    </tr>\n",
       "  </thead>\n",
       "  <tbody>\n",
       "    <tr>\n",
       "      <th>count</th>\n",
       "      <td>614.000000</td>\n",
       "      <td>614.000000</td>\n",
       "      <td>614.000000</td>\n",
       "      <td>614.000000</td>\n",
       "      <td>614.000000</td>\n",
       "      <td>614.000000</td>\n",
       "      <td>614.000000</td>\n",
       "      <td>614.000000</td>\n",
       "      <td>614.000000</td>\n",
       "      <td>614.000000</td>\n",
       "    </tr>\n",
       "    <tr>\n",
       "      <th>mean</th>\n",
       "      <td>385.773616</td>\n",
       "      <td>3.853420</td>\n",
       "      <td>120.542345</td>\n",
       "      <td>68.765472</td>\n",
       "      <td>20.244300</td>\n",
       "      <td>79.355049</td>\n",
       "      <td>31.909935</td>\n",
       "      <td>0.466342</td>\n",
       "      <td>33.325733</td>\n",
       "      <td>0.348534</td>\n",
       "    </tr>\n",
       "    <tr>\n",
       "      <th>std</th>\n",
       "      <td>223.603024</td>\n",
       "      <td>3.358126</td>\n",
       "      <td>31.252286</td>\n",
       "      <td>19.914836</td>\n",
       "      <td>15.886083</td>\n",
       "      <td>117.709950</td>\n",
       "      <td>8.007699</td>\n",
       "      <td>0.331090</td>\n",
       "      <td>11.929569</td>\n",
       "      <td>0.476895</td>\n",
       "    </tr>\n",
       "    <tr>\n",
       "      <th>min</th>\n",
       "      <td>1.000000</td>\n",
       "      <td>0.000000</td>\n",
       "      <td>0.000000</td>\n",
       "      <td>0.000000</td>\n",
       "      <td>0.000000</td>\n",
       "      <td>0.000000</td>\n",
       "      <td>0.000000</td>\n",
       "      <td>0.078000</td>\n",
       "      <td>21.000000</td>\n",
       "      <td>0.000000</td>\n",
       "    </tr>\n",
       "    <tr>\n",
       "      <th>25%</th>\n",
       "      <td>191.250000</td>\n",
       "      <td>1.000000</td>\n",
       "      <td>99.000000</td>\n",
       "      <td>62.000000</td>\n",
       "      <td>0.000000</td>\n",
       "      <td>0.000000</td>\n",
       "      <td>27.300000</td>\n",
       "      <td>0.240250</td>\n",
       "      <td>24.000000</td>\n",
       "      <td>0.000000</td>\n",
       "    </tr>\n",
       "    <tr>\n",
       "      <th>50%</th>\n",
       "      <td>387.000000</td>\n",
       "      <td>3.000000</td>\n",
       "      <td>117.000000</td>\n",
       "      <td>72.000000</td>\n",
       "      <td>23.000000</td>\n",
       "      <td>17.000000</td>\n",
       "      <td>32.000000</td>\n",
       "      <td>0.361000</td>\n",
       "      <td>29.000000</td>\n",
       "      <td>0.000000</td>\n",
       "    </tr>\n",
       "    <tr>\n",
       "      <th>75%</th>\n",
       "      <td>572.750000</td>\n",
       "      <td>6.000000</td>\n",
       "      <td>139.000000</td>\n",
       "      <td>80.000000</td>\n",
       "      <td>32.000000</td>\n",
       "      <td>126.000000</td>\n",
       "      <td>36.600000</td>\n",
       "      <td>0.613500</td>\n",
       "      <td>41.000000</td>\n",
       "      <td>1.000000</td>\n",
       "    </tr>\n",
       "    <tr>\n",
       "      <th>max</th>\n",
       "      <td>768.000000</td>\n",
       "      <td>17.000000</td>\n",
       "      <td>197.000000</td>\n",
       "      <td>114.000000</td>\n",
       "      <td>63.000000</td>\n",
       "      <td>846.000000</td>\n",
       "      <td>59.400000</td>\n",
       "      <td>2.420000</td>\n",
       "      <td>81.000000</td>\n",
       "      <td>1.000000</td>\n",
       "    </tr>\n",
       "  </tbody>\n",
       "</table>\n",
       "</div>"
      ],
      "text/plain": [
       "             p_id  no_times_pregnant  glucose_concentration  blood_pressure  \\\n",
       "count  614.000000         614.000000             614.000000      614.000000   \n",
       "mean   385.773616           3.853420             120.542345       68.765472   \n",
       "std    223.603024           3.358126              31.252286       19.914836   \n",
       "min      1.000000           0.000000               0.000000        0.000000   \n",
       "25%    191.250000           1.000000              99.000000       62.000000   \n",
       "50%    387.000000           3.000000             117.000000       72.000000   \n",
       "75%    572.750000           6.000000             139.000000       80.000000   \n",
       "max    768.000000          17.000000             197.000000      114.000000   \n",
       "\n",
       "       skin_fold_thickness  serum_insulin         bmi  diabetes pedigree  \\\n",
       "count           614.000000     614.000000  614.000000         614.000000   \n",
       "mean             20.244300      79.355049   31.909935           0.466342   \n",
       "std              15.886083     117.709950    8.007699           0.331090   \n",
       "min               0.000000       0.000000    0.000000           0.078000   \n",
       "25%               0.000000       0.000000   27.300000           0.240250   \n",
       "50%              23.000000      17.000000   32.000000           0.361000   \n",
       "75%              32.000000     126.000000   36.600000           0.613500   \n",
       "max              63.000000     846.000000   59.400000           2.420000   \n",
       "\n",
       "              age    diabetes  \n",
       "count  614.000000  614.000000  \n",
       "mean    33.325733    0.348534  \n",
       "std     11.929569    0.476895  \n",
       "min     21.000000    0.000000  \n",
       "25%     24.000000    0.000000  \n",
       "50%     29.000000    0.000000  \n",
       "75%     41.000000    1.000000  \n",
       "max     81.000000    1.000000  "
      ]
     },
     "execution_count": 5,
     "metadata": {},
     "output_type": "execute_result"
    }
   ],
   "source": [
    "diab_train.describe()"
   ]
  },
  {
   "cell_type": "raw",
   "id": "91ee1ebe",
   "metadata": {},
   "source": [
    "print of some more information"
   ]
  },
  {
   "cell_type": "code",
   "execution_count": 6,
   "id": "76f839d9",
   "metadata": {},
   "outputs": [
    {
     "name": "stdout",
     "output_type": "stream",
     "text": [
      "<class 'pandas.core.frame.DataFrame'>\n",
      "RangeIndex: 614 entries, 0 to 613\n",
      "Data columns (total 10 columns):\n",
      " #   Column                 Non-Null Count  Dtype  \n",
      "---  ------                 --------------  -----  \n",
      " 0   p_id                   614 non-null    int64  \n",
      " 1   no_times_pregnant      614 non-null    int64  \n",
      " 2   glucose_concentration  614 non-null    int64  \n",
      " 3   blood_pressure         614 non-null    int64  \n",
      " 4   skin_fold_thickness    614 non-null    int64  \n",
      " 5   serum_insulin          614 non-null    int64  \n",
      " 6   bmi                    614 non-null    float64\n",
      " 7   diabetes pedigree      614 non-null    float64\n",
      " 8   age                    614 non-null    int64  \n",
      " 9   diabetes               614 non-null    int64  \n",
      "dtypes: float64(2), int64(8)\n",
      "memory usage: 48.1 KB\n"
     ]
    }
   ],
   "source": [
    "diab_train.info()"
   ]
  },
  {
   "cell_type": "raw",
   "id": "0145fc6b",
   "metadata": {},
   "source": [
    "checking the presence of null values"
   ]
  },
  {
   "cell_type": "code",
   "execution_count": 7,
   "id": "c56271ae",
   "metadata": {},
   "outputs": [
    {
     "data": {
      "text/plain": [
       "p_id                     0\n",
       "no_times_pregnant        0\n",
       "glucose_concentration    0\n",
       "blood_pressure           0\n",
       "skin_fold_thickness      0\n",
       "serum_insulin            0\n",
       "bmi                      0\n",
       "diabetes pedigree        0\n",
       "age                      0\n",
       "diabetes                 0\n",
       "dtype: int64"
      ]
     },
     "execution_count": 7,
     "metadata": {},
     "output_type": "execute_result"
    }
   ],
   "source": [
    "diab_train.isnull().sum()"
   ]
  },
  {
   "cell_type": "code",
   "execution_count": 8,
   "id": "68724737",
   "metadata": {},
   "outputs": [
    {
     "data": {
      "text/plain": [
       "1      1\n",
       "519    1\n",
       "512    1\n",
       "513    1\n",
       "514    1\n",
       "      ..\n",
       "256    1\n",
       "258    1\n",
       "260    1\n",
       "262    1\n",
       "768    1\n",
       "Name: p_id, Length: 614, dtype: int64"
      ]
     },
     "execution_count": 8,
     "metadata": {},
     "output_type": "execute_result"
    }
   ],
   "source": [
    "diab_train[\"p_id\"].value_counts()"
   ]
  },
  {
   "cell_type": "code",
   "execution_count": 9,
   "id": "c99b7148",
   "metadata": {},
   "outputs": [
    {
     "data": {
      "text/plain": [
       "1     100\n",
       "0      90\n",
       "2      84\n",
       "3      65\n",
       "4      59\n",
       "6      42\n",
       "5      41\n",
       "7      32\n",
       "8      30\n",
       "9      25\n",
       "10     20\n",
       "11      9\n",
       "13      8\n",
       "12      6\n",
       "14      1\n",
       "15      1\n",
       "17      1\n",
       "Name: no_times_pregnant, dtype: int64"
      ]
     },
     "execution_count": 9,
     "metadata": {},
     "output_type": "execute_result"
    }
   ],
   "source": [
    "diab_train[\"no_times_pregnant\"].value_counts()"
   ]
  },
  {
   "cell_type": "code",
   "execution_count": 10,
   "id": "0dab3055",
   "metadata": {},
   "outputs": [
    {
     "data": {
      "text/plain": [
       "99     15\n",
       "106    12\n",
       "125    12\n",
       "100    12\n",
       "112    12\n",
       "       ..\n",
       "75      1\n",
       "149     1\n",
       "77      1\n",
       "86      1\n",
       "67      1\n",
       "Name: glucose_concentration, Length: 127, dtype: int64"
      ]
     },
     "execution_count": 10,
     "metadata": {},
     "output_type": "execute_result"
    }
   ],
   "source": [
    "diab_train[\"glucose_concentration\"].value_counts()"
   ]
  },
  {
   "cell_type": "code",
   "execution_count": 11,
   "id": "6be54aa5",
   "metadata": {},
   "outputs": [
    {
     "data": {
      "text/plain": [
       "70     46\n",
       "74     39\n",
       "78     38\n",
       "80     35\n",
       "72     35\n",
       "60     33\n",
       "68     33\n",
       "62     32\n",
       "0      31\n",
       "64     30\n",
       "76     28\n",
       "82     22\n",
       "88     21\n",
       "66     20\n",
       "90     19\n",
       "84     19\n",
       "58     17\n",
       "86     17\n",
       "54     11\n",
       "52     11\n",
       "50      8\n",
       "56      7\n",
       "65      7\n",
       "92      6\n",
       "75      6\n",
       "94      6\n",
       "85      5\n",
       "96      4\n",
       "44      4\n",
       "98      3\n",
       "100     2\n",
       "104     2\n",
       "106     2\n",
       "110     2\n",
       "30      2\n",
       "46      2\n",
       "48      2\n",
       "55      1\n",
       "40      1\n",
       "24      1\n",
       "102     1\n",
       "108     1\n",
       "61      1\n",
       "114     1\n",
       "Name: blood_pressure, dtype: int64"
      ]
     },
     "execution_count": 11,
     "metadata": {},
     "output_type": "execute_result"
    }
   ],
   "source": [
    "diab_train[\"blood_pressure\"].value_counts()"
   ]
  },
  {
   "cell_type": "code",
   "execution_count": 12,
   "id": "92eb7a8e",
   "metadata": {},
   "outputs": [
    {
     "data": {
      "text/plain": [
       "0     187\n",
       "30     25\n",
       "32     24\n",
       "27     20\n",
       "23     19\n",
       "31     17\n",
       "18     15\n",
       "33     14\n",
       "28     14\n",
       "22     14\n",
       "40     14\n",
       "41     13\n",
       "17     12\n",
       "37     12\n",
       "35     12\n",
       "19     12\n",
       "26     12\n",
       "13     11\n",
       "39     11\n",
       "36     11\n",
       "29     11\n",
       "20     11\n",
       "25     11\n",
       "42     10\n",
       "15     10\n",
       "24      9\n",
       "21      8\n",
       "38      7\n",
       "14      6\n",
       "46      5\n",
       "12      5\n",
       "45      5\n",
       "44      5\n",
       "47      4\n",
       "10      4\n",
       "34      4\n",
       "16      4\n",
       "43      3\n",
       "11      3\n",
       "48      3\n",
       "50      3\n",
       "7       2\n",
       "8       2\n",
       "49      2\n",
       "52      2\n",
       "54      2\n",
       "51      1\n",
       "56      1\n",
       "60      1\n",
       "63      1\n",
       "Name: skin_fold_thickness, dtype: int64"
      ]
     },
     "execution_count": 12,
     "metadata": {},
     "output_type": "execute_result"
    }
   ],
   "source": [
    "diab_train[\"skin_fold_thickness\"].value_counts()"
   ]
  },
  {
   "cell_type": "code",
   "execution_count": 13,
   "id": "311b6a30",
   "metadata": {},
   "outputs": [
    {
     "data": {
      "text/plain": [
       "0      304\n",
       "105      9\n",
       "100      7\n",
       "120      7\n",
       "140      7\n",
       "      ... \n",
       "188      1\n",
       "52       1\n",
       "183      1\n",
       "53       1\n",
       "846      1\n",
       "Name: serum_insulin, Length: 163, dtype: int64"
      ]
     },
     "execution_count": 13,
     "metadata": {},
     "output_type": "execute_result"
    }
   ],
   "source": [
    "diab_train[\"serum_insulin\"].value_counts()"
   ]
  },
  {
   "cell_type": "code",
   "execution_count": 14,
   "id": "56f1ac74",
   "metadata": {},
   "outputs": [
    {
     "data": {
      "text/plain": [
       "31.6    11\n",
       "0.0     10\n",
       "32.0    10\n",
       "31.2     9\n",
       "32.4     9\n",
       "        ..\n",
       "19.9     1\n",
       "26.3     1\n",
       "40.7     1\n",
       "40.2     1\n",
       "31.1     1\n",
       "Name: bmi, Length: 237, dtype: int64"
      ]
     },
     "execution_count": 14,
     "metadata": {},
     "output_type": "execute_result"
    }
   ],
   "source": [
    "diab_train[\"bmi\"].value_counts()"
   ]
  },
  {
   "cell_type": "code",
   "execution_count": 15,
   "id": "4a2956af",
   "metadata": {},
   "outputs": [
    {
     "data": {
      "text/plain": [
       "0.254    6\n",
       "0.268    5\n",
       "0.259    5\n",
       "0.237    4\n",
       "0.284    4\n",
       "        ..\n",
       "0.409    1\n",
       "0.485    1\n",
       "0.464    1\n",
       "0.549    1\n",
       "0.804    1\n",
       "Name: diabetes pedigree, Length: 439, dtype: int64"
      ]
     },
     "execution_count": 15,
     "metadata": {},
     "output_type": "execute_result"
    }
   ],
   "source": [
    "diab_train[\"diabetes pedigree\"].value_counts()"
   ]
  },
  {
   "cell_type": "code",
   "execution_count": 16,
   "id": "82984721",
   "metadata": {},
   "outputs": [
    {
     "data": {
      "text/plain": [
       "0    400\n",
       "1    214\n",
       "Name: diabetes, dtype: int64"
      ]
     },
     "execution_count": 16,
     "metadata": {},
     "output_type": "execute_result"
    }
   ],
   "source": [
    "diab_train[\"diabetes\"].value_counts()"
   ]
  },
  {
   "cell_type": "code",
   "execution_count": 17,
   "id": "d42fb4b6",
   "metadata": {},
   "outputs": [
    {
     "data": {
      "text/plain": [
       "<AxesSubplot:xlabel='no_times_pregnant', ylabel='count'>"
      ]
     },
     "execution_count": 17,
     "metadata": {},
     "output_type": "execute_result"
    },
    {
     "data": {
      "image/png": "[encoded data removed]",
      "text/plain": [
       "<Figure size 432x288 with 1 Axes>"
      ]
     },
     "metadata": {
      "needs_background": "light"
     },
     "output_type": "display_data"
    }
   ],
   "source": [
    "sns.countplot(x=\"no_times_pregnant\",data=diab_train)"
   ]
  },
  {
   "cell_type": "code",
   "execution_count": 18,
   "id": "a48e6995",
   "metadata": {},
   "outputs": [
    {
     "data": {
      "text/plain": [
       "<AxesSubplot:xlabel='blood_pressure', ylabel='count'>"
      ]
     },
     "execution_count": 18,
     "metadata": {},
     "output_type": "execute_result"
    },
    {
     "data": {
      "image/png": "[encoded data removed]",
      "text/plain": [
       "<Figure size 2160x2160 with 1 Axes>"
      ]
     },
     "metadata": {
      "needs_background": "light"
     },
     "output_type": "display_data"
    }
   ],
   "source": [
    "plt.figure(figsize=(30,30))\n",
    "sns.countplot(x=\"blood_pressure\",data=diab_train)"
   ]
  },
  {
   "cell_type": "code",
   "execution_count": 19,
   "id": "3e21627a",
   "metadata": {},
   "outputs": [
    {
     "data": {
      "text/plain": [
       "<AxesSubplot:xlabel='skin_fold_thickness', ylabel='count'>"
      ]
     },
     "execution_count": 19,
     "metadata": {},
     "output_type": "execute_result"
    },
    {
     "data": {
      "image/png": "[encoded data removed]",
      "text/plain": [
       "<Figure size 2160x2160 with 1 Axes>"
      ]
     },
     "metadata": {
      "needs_background": "light"
     },
     "output_type": "display_data"
    }
   ],
   "source": [
    "plt.figure(figsize=(30,30))\n",
    "sns.countplot(x=\"skin_fold_thickness\",data=diab_train)"
   ]
  },
  {
   "cell_type": "raw",
   "id": "49b8bc4e",
   "metadata": {},
   "source": [
    "count plot of target column"
   ]
  },
  {
   "cell_type": "code",
   "execution_count": 20,
   "id": "49e49a4d",
   "metadata": {},
   "outputs": [
    {
     "data": {
      "text/plain": [
       "<AxesSubplot:xlabel='diabetes', ylabel='count'>"
      ]
     },
     "execution_count": 20,
     "metadata": {},
     "output_type": "execute_result"
    },
    {
     "data": {
      "image/png": "[encoded data removed]",
      "text/plain": [
       "<Figure size 432x288 with 1 Axes>"
      ]
     },
     "metadata": {
      "needs_background": "light"
     },
     "output_type": "display_data"
    }
   ],
   "source": [
    "sns.countplot(x=\"diabetes\",data=diab_train)"
   ]
  },
  {
   "cell_type": "raw",
   "id": "13f257d6",
   "metadata": {},
   "source": [
    "correlation matrix"
   ]
  },
  {
   "cell_type": "code",
   "execution_count": 21,
   "id": "682d588c",
   "metadata": {},
   "outputs": [
    {
     "data": {
      "text/html": [
       "<div>\n",
       "<style scoped>\n",
       "    .dataframe tbody tr th:only-of-type {\n",
       "        vertical-align: middle;\n",
       "    }\n",
       "\n",
       "    .dataframe tbody tr th {\n",
       "        vertical-align: top;\n",
       "    }\n",
       "\n",
       "    .dataframe thead th {\n",
       "        text-align: right;\n",
       "    }\n",
       "</style>\n",
       "<table border=\"1\" class=\"dataframe\">\n",
       "  <thead>\n",
       "    <tr style=\"text-align: right;\">\n",
       "      <th></th>\n",
       "      <th>p_id</th>\n",
       "      <th>no_times_pregnant</th>\n",
       "      <th>glucose_concentration</th>\n",
       "      <th>blood_pressure</th>\n",
       "      <th>skin_fold_thickness</th>\n",
       "      <th>serum_insulin</th>\n",
       "      <th>bmi</th>\n",
       "      <th>diabetes pedigree</th>\n",
       "      <th>age</th>\n",
       "      <th>diabetes</th>\n",
       "    </tr>\n",
       "  </thead>\n",
       "  <tbody>\n",
       "    <tr>\n",
       "      <th>p_id</th>\n",
       "      <td>1.000000</td>\n",
       "      <td>-0.034607</td>\n",
       "      <td>-0.001407</td>\n",
       "      <td>0.027835</td>\n",
       "      <td>0.008890</td>\n",
       "      <td>0.011636</td>\n",
       "      <td>-0.003948</td>\n",
       "      <td>-0.052759</td>\n",
       "      <td>0.020156</td>\n",
       "      <td>-0.071237</td>\n",
       "    </tr>\n",
       "    <tr>\n",
       "      <th>no_times_pregnant</th>\n",
       "      <td>-0.034607</td>\n",
       "      <td>1.000000</td>\n",
       "      <td>0.123416</td>\n",
       "      <td>0.140526</td>\n",
       "      <td>-0.085653</td>\n",
       "      <td>-0.091123</td>\n",
       "      <td>-0.004101</td>\n",
       "      <td>-0.005811</td>\n",
       "      <td>0.534231</td>\n",
       "      <td>0.209196</td>\n",
       "    </tr>\n",
       "    <tr>\n",
       "      <th>glucose_concentration</th>\n",
       "      <td>-0.001407</td>\n",
       "      <td>0.123416</td>\n",
       "      <td>1.000000</td>\n",
       "      <td>0.160167</td>\n",
       "      <td>0.043053</td>\n",
       "      <td>0.330860</td>\n",
       "      <td>0.222449</td>\n",
       "      <td>0.131274</td>\n",
       "      <td>0.241590</td>\n",
       "      <td>0.469336</td>\n",
       "    </tr>\n",
       "    <tr>\n",
       "      <th>blood_pressure</th>\n",
       "      <td>0.027835</td>\n",
       "      <td>0.140526</td>\n",
       "      <td>0.160167</td>\n",
       "      <td>1.000000</td>\n",
       "      <td>0.214275</td>\n",
       "      <td>0.088827</td>\n",
       "      <td>0.296000</td>\n",
       "      <td>0.042320</td>\n",
       "      <td>0.236387</td>\n",
       "      <td>0.072003</td>\n",
       "    </tr>\n",
       "    <tr>\n",
       "      <th>skin_fold_thickness</th>\n",
       "      <td>0.008890</td>\n",
       "      <td>-0.085653</td>\n",
       "      <td>0.043053</td>\n",
       "      <td>0.214275</td>\n",
       "      <td>1.000000</td>\n",
       "      <td>0.439886</td>\n",
       "      <td>0.413288</td>\n",
       "      <td>0.187470</td>\n",
       "      <td>-0.144741</td>\n",
       "      <td>0.052695</td>\n",
       "    </tr>\n",
       "    <tr>\n",
       "      <th>serum_insulin</th>\n",
       "      <td>0.011636</td>\n",
       "      <td>-0.091123</td>\n",
       "      <td>0.330860</td>\n",
       "      <td>0.088827</td>\n",
       "      <td>0.439886</td>\n",
       "      <td>1.000000</td>\n",
       "      <td>0.200914</td>\n",
       "      <td>0.176183</td>\n",
       "      <td>-0.052863</td>\n",
       "      <td>0.116562</td>\n",
       "    </tr>\n",
       "    <tr>\n",
       "      <th>bmi</th>\n",
       "      <td>-0.003948</td>\n",
       "      <td>-0.004101</td>\n",
       "      <td>0.222449</td>\n",
       "      <td>0.296000</td>\n",
       "      <td>0.413288</td>\n",
       "      <td>0.200914</td>\n",
       "      <td>1.000000</td>\n",
       "      <td>0.116301</td>\n",
       "      <td>0.025209</td>\n",
       "      <td>0.275263</td>\n",
       "    </tr>\n",
       "    <tr>\n",
       "      <th>diabetes pedigree</th>\n",
       "      <td>-0.052759</td>\n",
       "      <td>-0.005811</td>\n",
       "      <td>0.131274</td>\n",
       "      <td>0.042320</td>\n",
       "      <td>0.187470</td>\n",
       "      <td>0.176183</td>\n",
       "      <td>0.116301</td>\n",
       "      <td>1.000000</td>\n",
       "      <td>0.053637</td>\n",
       "      <td>0.173301</td>\n",
       "    </tr>\n",
       "    <tr>\n",
       "      <th>age</th>\n",
       "      <td>0.020156</td>\n",
       "      <td>0.534231</td>\n",
       "      <td>0.241590</td>\n",
       "      <td>0.236387</td>\n",
       "      <td>-0.144741</td>\n",
       "      <td>-0.052863</td>\n",
       "      <td>0.025209</td>\n",
       "      <td>0.053637</td>\n",
       "      <td>1.000000</td>\n",
       "      <td>0.221736</td>\n",
       "    </tr>\n",
       "    <tr>\n",
       "      <th>diabetes</th>\n",
       "      <td>-0.071237</td>\n",
       "      <td>0.209196</td>\n",
       "      <td>0.469336</td>\n",
       "      <td>0.072003</td>\n",
       "      <td>0.052695</td>\n",
       "      <td>0.116562</td>\n",
       "      <td>0.275263</td>\n",
       "      <td>0.173301</td>\n",
       "      <td>0.221736</td>\n",
       "      <td>1.000000</td>\n",
       "    </tr>\n",
       "  </tbody>\n",
       "</table>\n",
       "</div>"
      ],
      "text/plain": [
       "                           p_id  no_times_pregnant  glucose_concentration  \\\n",
       "p_id                   1.000000          -0.034607              -0.001407   \n",
       "no_times_pregnant     -0.034607           1.000000               0.123416   \n",
       "glucose_concentration -0.001407           0.123416               1.000000   \n",
       "blood_pressure         0.027835           0.140526               0.160167   \n",
       "skin_fold_thickness    0.008890          -0.085653               0.043053   \n",
       "serum_insulin          0.011636          -0.091123               0.330860   \n",
       "bmi                   -0.003948          -0.004101               0.222449   \n",
       "diabetes pedigree     -0.052759          -0.005811               0.131274   \n",
       "age                    0.020156           0.534231               0.241590   \n",
       "diabetes              -0.071237           0.209196               0.469336   \n",
       "\n",
       "                       blood_pressure  skin_fold_thickness  serum_insulin  \\\n",
       "p_id                         0.027835             0.008890       0.011636   \n",
       "no_times_pregnant            0.140526            -0.085653      -0.091123   \n",
       "glucose_concentration        0.160167             0.043053       0.330860   \n",
       "blood_pressure               1.000000             0.214275       0.088827   \n",
       "skin_fold_thickness          0.214275             1.000000       0.439886   \n",
       "serum_insulin                0.088827             0.439886       1.000000   \n",
       "bmi                          0.296000             0.413288       0.200914   \n",
       "diabetes pedigree            0.042320             0.187470       0.176183   \n",
       "age                          0.236387            -0.144741      -0.052863   \n",
       "diabetes                     0.072003             0.052695       0.116562   \n",
       "\n",
       "                            bmi  diabetes pedigree       age  diabetes  \n",
       "p_id                  -0.003948          -0.052759  0.020156 -0.071237  \n",
       "no_times_pregnant     -0.004101          -0.005811  0.534231  0.209196  \n",
       "glucose_concentration  0.222449           0.131274  0.241590  0.469336  \n",
       "blood_pressure         0.296000           0.042320  0.236387  0.072003  \n",
       "skin_fold_thickness    0.413288           0.187470 -0.144741  0.052695  \n",
       "serum_insulin          0.200914           0.176183 -0.052863  0.116562  \n",
       "bmi                    1.000000           0.116301  0.025209  0.275263  \n",
       "diabetes pedigree      0.116301           1.000000  0.053637  0.173301  \n",
       "age                    0.025209           0.053637  1.000000  0.221736  \n",
       "diabetes               0.275263           0.173301  0.221736  1.000000  "
      ]
     },
     "execution_count": 21,
     "metadata": {},
     "output_type": "execute_result"
    }
   ],
   "source": [
    "diab_train.corr()"
   ]
  },
  {
   "cell_type": "code",
   "execution_count": 22,
   "id": "9047fcd6",
   "metadata": {},
   "outputs": [
    {
     "data": {
      "image/png": "[encoded data removed]",
      "text/plain": [
       "<Figure size 432x288 with 12 Axes>"
      ]
     },
     "metadata": {
      "needs_background": "light"
     },
     "output_type": "display_data"
    }
   ],
   "source": [
    "diab_train.hist()\n",
    "plt.show()"
   ]
  },
  {
   "cell_type": "code",
   "execution_count": 23,
   "id": "ec923a25",
   "metadata": {},
   "outputs": [
    {
     "data": {
      "text/plain": [
       "<AxesSubplot:>"
      ]
     },
     "execution_count": 23,
     "metadata": {},
     "output_type": "execute_result"
    },
    {
     "data": {
      "image/png": "[encoded data removed]",
      "text/plain": [
       "<Figure size 432x288 with 2 Axes>"
      ]
     },
     "metadata": {
      "needs_background": "light"
     },
     "output_type": "display_data"
    }
   ],
   "source": [
    "sns.heatmap(diab_train)"
   ]
  },
  {
   "cell_type": "markdown",
   "id": "b6f1565f",
   "metadata": {},
   "source": [
    "# Splitting of train data"
   ]
  },
  {
   "cell_type": "code",
   "execution_count": 24,
   "id": "52389e39",
   "metadata": {},
   "outputs": [],
   "source": [
    "x = diab_train.drop('diabetes',axis=1)\n",
    "y = diab_train['diabetes']"
   ]
  },
  {
   "cell_type": "raw",
   "id": "8b454560",
   "metadata": {},
   "source": [
    "splitting into train and test data"
   ]
  },
  {
   "cell_type": "code",
   "execution_count": 25,
   "id": "291d28ba",
   "metadata": {},
   "outputs": [],
   "source": [
    "x_train, x_test, y_train, y_test = train_test_split(x,y,test_size=0.3,stratify=y)"
   ]
  },
  {
   "cell_type": "markdown",
   "id": "172e11c6",
   "metadata": {},
   "source": [
    "# Building the model"
   ]
  },
  {
   "cell_type": "code",
   "execution_count": 26,
   "id": "62754d15",
   "metadata": {},
   "outputs": [
    {
     "data": {
      "text/plain": [
       "array([0, 1, 0, 0, 0, 1, 0, 0, 0, 0, 1, 0, 1, 0, 0, 0, 0, 1, 0, 1, 1, 0,\n",
       "       0, 0, 0, 1, 1, 0, 0, 0, 0, 1, 1, 0, 0, 0, 0, 1, 0, 1, 0, 0, 1, 1,\n",
       "       1, 0, 0, 1, 0, 0, 0, 1, 0, 0, 0, 0, 1, 0, 1, 1, 0, 0, 1, 0, 0, 0,\n",
       "       0, 0, 0, 0, 1, 0, 0, 0, 0, 0, 1, 0, 0, 0, 0, 0, 0, 1, 1, 1, 0, 0,\n",
       "       0, 0, 0, 0, 0, 0, 0, 0, 0, 0, 0, 0, 0, 0, 0, 0, 0, 0, 1, 1, 1, 1,\n",
       "       0, 0, 1, 0, 0, 0, 0, 0, 0, 0, 1, 0, 0, 0, 0, 1, 0, 0, 0, 0, 0, 0,\n",
       "       0, 0, 0, 0, 0, 1, 0, 0, 1, 1, 0, 0, 0, 0, 1, 0, 0, 0, 0, 1, 0, 0,\n",
       "       0, 1, 1, 1, 0, 1, 1, 0, 0, 1, 0, 1, 1, 0, 0, 0, 0, 0, 0, 1, 1, 0,\n",
       "       0, 1, 0, 0, 0, 1, 0, 1, 1], dtype=int64)"
      ]
     },
     "execution_count": 26,
     "metadata": {},
     "output_type": "execute_result"
    }
   ],
   "source": [
    "rt=RandomForestClassifier(max_depth=5,min_samples_split=3)\n",
    "rt.fit(x_train,y_train)\n",
    "rtpredictions = rt.predict(x_test)\n",
    "rtpredictions"
   ]
  },
  {
   "cell_type": "raw",
   "id": "16254ed7",
   "metadata": {},
   "source": [
    "checking the accuracy"
   ]
  },
  {
   "cell_type": "code",
   "execution_count": 27,
   "id": "20226618",
   "metadata": {},
   "outputs": [
    {
     "data": {
      "text/plain": [
       "0.7675675675675676"
      ]
     },
     "execution_count": 27,
     "metadata": {},
     "output_type": "execute_result"
    }
   ],
   "source": [
    "acc = accuracy_score(y_test,rtpredictions)\n",
    "acc"
   ]
  },
  {
   "cell_type": "raw",
   "id": "de5d5049",
   "metadata": {},
   "source": [
    "Training the dataset with logistic regression model."
   ]
  },
  {
   "cell_type": "code",
   "execution_count": 34,
   "id": "6f8e295b",
   "metadata": {},
   "outputs": [
    {
     "name": "stderr",
     "output_type": "stream",
     "text": [
      "C:\\Users\\deept\\anaconda3\\lib\\site-packages\\sklearn\\linear_model\\_logistic.py:763: ConvergenceWarning: lbfgs failed to converge (status=1):\n",
      "STOP: TOTAL NO. of ITERATIONS REACHED LIMIT.\n",
      "\n",
      "Increase the number of iterations (max_iter) or scale the data as shown in:\n",
      "    https://scikit-learn.org/stable/modules/preprocessing.html\n",
      "Please also refer to the documentation for alternative solver options:\n",
      "    https://scikit-learn.org/stable/modules/linear_model.html#logistic-regression\n",
      "  n_iter_i = _check_optimize_result(\n"
     ]
    },
    {
     "data": {
      "text/plain": [
       "LogisticRegression()"
      ]
     },
     "execution_count": 34,
     "metadata": {},
     "output_type": "execute_result"
    }
   ],
   "source": [
    "lr=LogisticRegression()\n",
    "lr.fit(x_train, y_train)"
   ]
  },
  {
   "cell_type": "code",
   "execution_count": 36,
   "id": "58fb708c",
   "metadata": {},
   "outputs": [],
   "source": [
    "y_pred=lr.predict(x_test)"
   ]
  },
  {
   "cell_type": "code",
   "execution_count": 37,
   "id": "e0926af2",
   "metadata": {},
   "outputs": [
    {
     "data": {
      "text/plain": [
       "0.7189189189189189"
      ]
     },
     "execution_count": 37,
     "metadata": {},
     "output_type": "execute_result"
    }
   ],
   "source": [
    "acc = accuracy_score(y_test,y_pred)\n",
    "acc"
   ]
  },
  {
   "cell_type": "raw",
   "id": "f44f0bec",
   "metadata": {},
   "source": [
    "Training the data with decision tree algorithm."
   ]
  },
  {
   "cell_type": "code",
   "execution_count": 51,
   "id": "47e16813",
   "metadata": {},
   "outputs": [],
   "source": [
    "clf_entropy=DecisionTreeClassifier(criterion=\"entropy\",random_state=100,max_depth=3,min_samples_leaf=5)\n",
    "clf_entropy.fit(x_train,y_train)\n",
    "y_pred=clf_entropy.predict(x_test)"
   ]
  },
  {
   "cell_type": "code",
   "execution_count": 53,
   "id": "faff4046",
   "metadata": {},
   "outputs": [
    {
     "data": {
      "text/plain": [
       "0.7351351351351352"
      ]
     },
     "execution_count": 53,
     "metadata": {},
     "output_type": "execute_result"
    }
   ],
   "source": [
    "accuracy_score(y_test,y_pred)"
   ]
  },
  {
   "cell_type": "code",
   "execution_count": null,
   "id": "44f60dd0",
   "metadata": {},
   "outputs": [],
   "source": [
    "From the above models, we have got the high accuracy in decision tree model."
   ]
  },
  {
   "cell_type": "raw",
   "id": "900a983f",
   "metadata": {},
   "source": [
    "Pre-processing the test data "
   ]
  },
  {
   "cell_type": "raw",
   "id": "235918e7",
   "metadata": {},
   "source": [
    "print of number of columns and rows of test data."
   ]
  },
  {
   "cell_type": "code",
   "execution_count": 28,
   "id": "caa38ddb",
   "metadata": {},
   "outputs": [
    {
     "data": {
      "text/plain": [
       "(154, 9)"
      ]
     },
     "execution_count": 28,
     "metadata": {},
     "output_type": "execute_result"
    }
   ],
   "source": [
    "diab_test.shape"
   ]
  },
  {
   "cell_type": "raw",
   "id": "e0aaf490",
   "metadata": {},
   "source": [
    "print of some information of test data"
   ]
  },
  {
   "cell_type": "code",
   "execution_count": 29,
   "id": "66a1f859",
   "metadata": {},
   "outputs": [
    {
     "name": "stdout",
     "output_type": "stream",
     "text": [
      "<class 'pandas.core.frame.DataFrame'>\n",
      "RangeIndex: 154 entries, 0 to 153\n",
      "Data columns (total 9 columns):\n",
      " #   Column                 Non-Null Count  Dtype  \n",
      "---  ------                 --------------  -----  \n",
      " 0   p_id                   154 non-null    int64  \n",
      " 1   no_times_pregnant      154 non-null    int64  \n",
      " 2   glucose_concentration  154 non-null    int64  \n",
      " 3   blood_pressure         154 non-null    int64  \n",
      " 4   skin_fold_thickness    154 non-null    int64  \n",
      " 5   serum_insulin          154 non-null    int64  \n",
      " 6   bmi                    154 non-null    float64\n",
      " 7   diabetes pedigree      154 non-null    float64\n",
      " 8   age                    154 non-null    int64  \n",
      "dtypes: float64(2), int64(7)\n",
      "memory usage: 11.0 KB\n"
     ]
    }
   ],
   "source": [
    "diab_test.info()"
   ]
  },
  {
   "cell_type": "raw",
   "id": "b8588921",
   "metadata": {},
   "source": [
    "print of some statistical information."
   ]
  },
  {
   "cell_type": "code",
   "execution_count": 30,
   "id": "5b0364b0",
   "metadata": {},
   "outputs": [
    {
     "data": {
      "text/html": [
       "<div>\n",
       "<style scoped>\n",
       "    .dataframe tbody tr th:only-of-type {\n",
       "        vertical-align: middle;\n",
       "    }\n",
       "\n",
       "    .dataframe tbody tr th {\n",
       "        vertical-align: top;\n",
       "    }\n",
       "\n",
       "    .dataframe thead th {\n",
       "        text-align: right;\n",
       "    }\n",
       "</style>\n",
       "<table border=\"1\" class=\"dataframe\">\n",
       "  <thead>\n",
       "    <tr style=\"text-align: right;\">\n",
       "      <th></th>\n",
       "      <th>p_id</th>\n",
       "      <th>no_times_pregnant</th>\n",
       "      <th>glucose_concentration</th>\n",
       "      <th>blood_pressure</th>\n",
       "      <th>skin_fold_thickness</th>\n",
       "      <th>serum_insulin</th>\n",
       "      <th>bmi</th>\n",
       "      <th>diabetes pedigree</th>\n",
       "      <th>age</th>\n",
       "    </tr>\n",
       "  </thead>\n",
       "  <tbody>\n",
       "    <tr>\n",
       "      <th>count</th>\n",
       "      <td>154.000000</td>\n",
       "      <td>154.000000</td>\n",
       "      <td>154.000000</td>\n",
       "      <td>154.000000</td>\n",
       "      <td>154.000000</td>\n",
       "      <td>154.000000</td>\n",
       "      <td>154.000000</td>\n",
       "      <td>154.000000</td>\n",
       "      <td>154.000000</td>\n",
       "    </tr>\n",
       "    <tr>\n",
       "      <th>mean</th>\n",
       "      <td>379.422078</td>\n",
       "      <td>3.811688</td>\n",
       "      <td>122.298701</td>\n",
       "      <td>70.461039</td>\n",
       "      <td>21.701299</td>\n",
       "      <td>81.571429</td>\n",
       "      <td>32.322078</td>\n",
       "      <td>0.493942</td>\n",
       "      <td>32.902597</td>\n",
       "    </tr>\n",
       "    <tr>\n",
       "      <th>std</th>\n",
       "      <td>215.338912</td>\n",
       "      <td>3.425719</td>\n",
       "      <td>34.769480</td>\n",
       "      <td>16.935917</td>\n",
       "      <td>16.213095</td>\n",
       "      <td>105.178271</td>\n",
       "      <td>7.386724</td>\n",
       "      <td>0.332439</td>\n",
       "      <td>11.090106</td>\n",
       "    </tr>\n",
       "    <tr>\n",
       "      <th>min</th>\n",
       "      <td>4.000000</td>\n",
       "      <td>0.000000</td>\n",
       "      <td>0.000000</td>\n",
       "      <td>0.000000</td>\n",
       "      <td>0.000000</td>\n",
       "      <td>0.000000</td>\n",
       "      <td>0.000000</td>\n",
       "      <td>0.084000</td>\n",
       "      <td>21.000000</td>\n",
       "    </tr>\n",
       "    <tr>\n",
       "      <th>25%</th>\n",
       "      <td>194.250000</td>\n",
       "      <td>1.000000</td>\n",
       "      <td>97.000000</td>\n",
       "      <td>64.000000</td>\n",
       "      <td>0.000000</td>\n",
       "      <td>0.000000</td>\n",
       "      <td>28.150000</td>\n",
       "      <td>0.248000</td>\n",
       "      <td>24.000000</td>\n",
       "    </tr>\n",
       "    <tr>\n",
       "      <th>50%</th>\n",
       "      <td>383.000000</td>\n",
       "      <td>3.000000</td>\n",
       "      <td>115.000000</td>\n",
       "      <td>72.000000</td>\n",
       "      <td>24.500000</td>\n",
       "      <td>52.000000</td>\n",
       "      <td>32.900000</td>\n",
       "      <td>0.411500</td>\n",
       "      <td>29.500000</td>\n",
       "    </tr>\n",
       "    <tr>\n",
       "      <th>75%</th>\n",
       "      <td>583.250000</td>\n",
       "      <td>6.000000</td>\n",
       "      <td>144.750000</td>\n",
       "      <td>78.000000</td>\n",
       "      <td>33.000000</td>\n",
       "      <td>129.500000</td>\n",
       "      <td>36.200000</td>\n",
       "      <td>0.654750</td>\n",
       "      <td>40.000000</td>\n",
       "    </tr>\n",
       "    <tr>\n",
       "      <th>max</th>\n",
       "      <td>738.000000</td>\n",
       "      <td>14.000000</td>\n",
       "      <td>199.000000</td>\n",
       "      <td>122.000000</td>\n",
       "      <td>99.000000</td>\n",
       "      <td>474.000000</td>\n",
       "      <td>67.100000</td>\n",
       "      <td>2.137000</td>\n",
       "      <td>66.000000</td>\n",
       "    </tr>\n",
       "  </tbody>\n",
       "</table>\n",
       "</div>"
      ],
      "text/plain": [
       "             p_id  no_times_pregnant  glucose_concentration  blood_pressure  \\\n",
       "count  154.000000         154.000000             154.000000      154.000000   \n",
       "mean   379.422078           3.811688             122.298701       70.461039   \n",
       "std    215.338912           3.425719              34.769480       16.935917   \n",
       "min      4.000000           0.000000               0.000000        0.000000   \n",
       "25%    194.250000           1.000000              97.000000       64.000000   \n",
       "50%    383.000000           3.000000             115.000000       72.000000   \n",
       "75%    583.250000           6.000000             144.750000       78.000000   \n",
       "max    738.000000          14.000000             199.000000      122.000000   \n",
       "\n",
       "       skin_fold_thickness  serum_insulin         bmi  diabetes pedigree  \\\n",
       "count           154.000000     154.000000  154.000000         154.000000   \n",
       "mean             21.701299      81.571429   32.322078           0.493942   \n",
       "std              16.213095     105.178271    7.386724           0.332439   \n",
       "min               0.000000       0.000000    0.000000           0.084000   \n",
       "25%               0.000000       0.000000   28.150000           0.248000   \n",
       "50%              24.500000      52.000000   32.900000           0.411500   \n",
       "75%              33.000000     129.500000   36.200000           0.654750   \n",
       "max              99.000000     474.000000   67.100000           2.137000   \n",
       "\n",
       "              age  \n",
       "count  154.000000  \n",
       "mean    32.902597  \n",
       "std     11.090106  \n",
       "min     21.000000  \n",
       "25%     24.000000  \n",
       "50%     29.500000  \n",
       "75%     40.000000  \n",
       "max     66.000000  "
      ]
     },
     "execution_count": 30,
     "metadata": {},
     "output_type": "execute_result"
    }
   ],
   "source": [
    "diab_test.describe()"
   ]
  },
  {
   "cell_type": "raw",
   "id": "c4cc4c80",
   "metadata": {},
   "source": [
    "print of sum of null values."
   ]
  },
  {
   "cell_type": "code",
   "execution_count": 31,
   "id": "87812e00",
   "metadata": {},
   "outputs": [
    {
     "data": {
      "text/plain": [
       "p_id                     0\n",
       "no_times_pregnant        0\n",
       "glucose_concentration    0\n",
       "blood_pressure           0\n",
       "skin_fold_thickness      0\n",
       "serum_insulin            0\n",
       "bmi                      0\n",
       "diabetes pedigree        0\n",
       "age                      0\n",
       "dtype: int64"
      ]
     },
     "execution_count": 31,
     "metadata": {},
     "output_type": "execute_result"
    }
   ],
   "source": [
    "diab_test.isnull().sum()"
   ]
  },
  {
   "cell_type": "raw",
   "id": "144c4951",
   "metadata": {},
   "source": [
    "Prediction on test data."
   ]
  },
  {
   "cell_type": "raw",
   "id": "fd670888",
   "metadata": {},
   "source": [
    "Predicting the output using test data."
   ]
  },
  {
   "cell_type": "code",
   "execution_count": 54,
   "id": "102ea9f1",
   "metadata": {},
   "outputs": [
    {
     "data": {
      "text/plain": [
       "array([0, 0, 0, 0, 0, 0, 1, 0, 0, 0, 0, 0, 0, 0, 0, 0, 0, 0, 1, 1, 0, 0,\n",
       "       0, 1, 0, 0, 0, 0, 0, 0, 0, 0, 0, 0, 0, 0, 0, 0, 0, 0, 0, 1, 0, 1,\n",
       "       0, 0, 1, 1, 0, 0, 0, 0, 0, 1, 0, 0, 0, 0, 0, 0, 1, 0, 0, 0, 1, 0,\n",
       "       0, 0, 0, 0, 1, 0, 0, 0, 0, 0, 0, 0, 0, 0, 0, 0, 0, 0, 0, 0, 0, 0,\n",
       "       0, 0, 0, 0, 0, 0, 1, 0, 0, 1, 0, 0, 1, 1, 0, 0, 0, 0, 0, 0, 0, 0,\n",
       "       1, 0, 0, 1, 0, 1, 1, 0, 0, 0, 0, 0, 1, 0, 0, 0, 0, 0, 0, 0, 0, 0,\n",
       "       1, 0, 1, 0, 0, 0, 0, 0, 0, 0, 0, 0, 1, 0, 0, 0, 0, 0, 1, 0, 0, 0],\n",
       "      dtype=int64)"
      ]
     },
     "execution_count": 54,
     "metadata": {},
     "output_type": "execute_result"
    }
   ],
   "source": [
    "subpredictions = clf_entropy.predict(diab_test)\n",
    "subpredictions"
   ]
  }
 ],
 "metadata": {
  "kernelspec": {
   "display_name": "Python 3",
   "language": "python",
   "name": "python3"
  },
  "language_info": {
   "codemirror_mode": {
    "name": "ipython",
    "version": 3
   },
   "file_extension": ".py",
   "mimetype": "text/x-python",
   "name": "python",
   "nbconvert_exporter": "python",
   "pygments_lexer": "ipython3",
   "version": "3.8.8"
  }
 },
 "nbformat": 4,
 "nbformat_minor": 5
}
