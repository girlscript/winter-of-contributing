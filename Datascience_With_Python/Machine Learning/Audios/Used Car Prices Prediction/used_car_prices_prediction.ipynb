{
 "cells": [
  {
   "cell_type": "markdown",
   "id": "be77d5af",
   "metadata": {},
   "source": [
    "# Objective:\n",
    "To predict the costs of used cars given the data collected from various sources and distributed across various locations in India.\n",
    "# Features:\n",
    "Name: The brand and model of the car.\n",
    "Location: The location in which the car is being sold or is available for purchase.\n",
    "Year: The year or edition of the model.\n",
    "Kilometers_Driven: The total kilometres driven in the car by the previous owner(s) in KM.\n",
    "Fuel_Type: The type of fuel used by the car.\n",
    "Transmission: The type of transmission used by the car.\n",
    "Owner_Type: Whether the ownership is Firsthand, Second hand or other.\n",
    "Mileage: The standard mileage offered by the car company in kmpl or km/kg\n",
    "Engine: The displacement volume of the engine in cc.\n",
    "Power: The maximum power of the engine in bhp.\n",
    "Seats: The number of seats in the car.\n",
    "New_Price: The price of a new car of the same model.\n",
    "Price: The price of the used car in INR Lakhs"
   ]
  },
  {
   "cell_type": "code",
   "execution_count": 30,
   "id": "1ba4af23",
   "metadata": {},
   "outputs": [],
   "source": [
    "import pandas as pd\n",
    "import numpy as np\n",
    "import matplotlib.pyplot as plt\n",
    "import seaborn as sns\n",
    "from sklearn import metrics\n",
    "from sklearn.metrics import mean_squared_error\n",
    "from sklearn.metrics import r2_score\n",
    "%matplotlib inline\n",
    "sns.set_style('darkgrid')\n",
    "from sklearn.model_selection import train_test_split\n",
    "from sklearn.ensemble import RandomForestRegressor\n",
    "from sklearn.linear_model import LinearRegression  \n",
    "from sklearn import metrics\n",
    "from sklearn.metrics import accuracy_score\n",
    "from sklearn.linear_model import Lasso"
   ]
  },
  {
   "cell_type": "code",
   "execution_count": 2,
   "id": "c2756d34",
   "metadata": {},
   "outputs": [],
   "source": [
    "train = pd.read_csv('train-data.csv')"
   ]
  },
  {
   "cell_type": "code",
   "execution_count": 3,
   "id": "41eb5da6",
   "metadata": {},
   "outputs": [
    {
     "data": {
      "text/html": [
       "<div>\n",
       "<style scoped>\n",
       "    .dataframe tbody tr th:only-of-type {\n",
       "        vertical-align: middle;\n",
       "    }\n",
       "\n",
       "    .dataframe tbody tr th {\n",
       "        vertical-align: top;\n",
       "    }\n",
       "\n",
       "    .dataframe thead th {\n",
       "        text-align: right;\n",
       "    }\n",
       "</style>\n",
       "<table border=\"1\" class=\"dataframe\">\n",
       "  <thead>\n",
       "    <tr style=\"text-align: right;\">\n",
       "      <th></th>\n",
       "      <th>Unnamed: 0</th>\n",
       "      <th>Name</th>\n",
       "      <th>Location</th>\n",
       "      <th>Year</th>\n",
       "      <th>Kilometers_Driven</th>\n",
       "      <th>Fuel_Type</th>\n",
       "      <th>Transmission</th>\n",
       "      <th>Owner_Type</th>\n",
       "      <th>Mileage</th>\n",
       "      <th>Engine</th>\n",
       "      <th>Power</th>\n",
       "      <th>Seats</th>\n",
       "      <th>New_Price</th>\n",
       "      <th>Price</th>\n",
       "    </tr>\n",
       "  </thead>\n",
       "  <tbody>\n",
       "    <tr>\n",
       "      <th>0</th>\n",
       "      <td>0</td>\n",
       "      <td>Maruti Wagon R LXI CNG</td>\n",
       "      <td>Mumbai</td>\n",
       "      <td>2010</td>\n",
       "      <td>72000</td>\n",
       "      <td>CNG</td>\n",
       "      <td>Manual</td>\n",
       "      <td>First</td>\n",
       "      <td>26.6 km/kg</td>\n",
       "      <td>998 CC</td>\n",
       "      <td>58.16 bhp</td>\n",
       "      <td>5.0</td>\n",
       "      <td>NaN</td>\n",
       "      <td>1.75</td>\n",
       "    </tr>\n",
       "    <tr>\n",
       "      <th>1</th>\n",
       "      <td>1</td>\n",
       "      <td>Hyundai Creta 1.6 CRDi SX Option</td>\n",
       "      <td>Pune</td>\n",
       "      <td>2015</td>\n",
       "      <td>41000</td>\n",
       "      <td>Diesel</td>\n",
       "      <td>Manual</td>\n",
       "      <td>First</td>\n",
       "      <td>19.67 kmpl</td>\n",
       "      <td>1582 CC</td>\n",
       "      <td>126.2 bhp</td>\n",
       "      <td>5.0</td>\n",
       "      <td>NaN</td>\n",
       "      <td>12.50</td>\n",
       "    </tr>\n",
       "    <tr>\n",
       "      <th>2</th>\n",
       "      <td>2</td>\n",
       "      <td>Honda Jazz V</td>\n",
       "      <td>Chennai</td>\n",
       "      <td>2011</td>\n",
       "      <td>46000</td>\n",
       "      <td>Petrol</td>\n",
       "      <td>Manual</td>\n",
       "      <td>First</td>\n",
       "      <td>18.2 kmpl</td>\n",
       "      <td>1199 CC</td>\n",
       "      <td>88.7 bhp</td>\n",
       "      <td>5.0</td>\n",
       "      <td>8.61 Lakh</td>\n",
       "      <td>4.50</td>\n",
       "    </tr>\n",
       "    <tr>\n",
       "      <th>3</th>\n",
       "      <td>3</td>\n",
       "      <td>Maruti Ertiga VDI</td>\n",
       "      <td>Chennai</td>\n",
       "      <td>2012</td>\n",
       "      <td>87000</td>\n",
       "      <td>Diesel</td>\n",
       "      <td>Manual</td>\n",
       "      <td>First</td>\n",
       "      <td>20.77 kmpl</td>\n",
       "      <td>1248 CC</td>\n",
       "      <td>88.76 bhp</td>\n",
       "      <td>7.0</td>\n",
       "      <td>NaN</td>\n",
       "      <td>6.00</td>\n",
       "    </tr>\n",
       "    <tr>\n",
       "      <th>4</th>\n",
       "      <td>4</td>\n",
       "      <td>Audi A4 New 2.0 TDI Multitronic</td>\n",
       "      <td>Coimbatore</td>\n",
       "      <td>2013</td>\n",
       "      <td>40670</td>\n",
       "      <td>Diesel</td>\n",
       "      <td>Automatic</td>\n",
       "      <td>Second</td>\n",
       "      <td>15.2 kmpl</td>\n",
       "      <td>1968 CC</td>\n",
       "      <td>140.8 bhp</td>\n",
       "      <td>5.0</td>\n",
       "      <td>NaN</td>\n",
       "      <td>17.74</td>\n",
       "    </tr>\n",
       "  </tbody>\n",
       "</table>\n",
       "</div>"
      ],
      "text/plain": [
       "   Unnamed: 0                              Name    Location  Year  \\\n",
       "0           0            Maruti Wagon R LXI CNG      Mumbai  2010   \n",
       "1           1  Hyundai Creta 1.6 CRDi SX Option        Pune  2015   \n",
       "2           2                      Honda Jazz V     Chennai  2011   \n",
       "3           3                 Maruti Ertiga VDI     Chennai  2012   \n",
       "4           4   Audi A4 New 2.0 TDI Multitronic  Coimbatore  2013   \n",
       "\n",
       "   Kilometers_Driven Fuel_Type Transmission Owner_Type     Mileage   Engine  \\\n",
       "0              72000       CNG       Manual      First  26.6 km/kg   998 CC   \n",
       "1              41000    Diesel       Manual      First  19.67 kmpl  1582 CC   \n",
       "2              46000    Petrol       Manual      First   18.2 kmpl  1199 CC   \n",
       "3              87000    Diesel       Manual      First  20.77 kmpl  1248 CC   \n",
       "4              40670    Diesel    Automatic     Second   15.2 kmpl  1968 CC   \n",
       "\n",
       "       Power  Seats  New_Price  Price  \n",
       "0  58.16 bhp    5.0        NaN   1.75  \n",
       "1  126.2 bhp    5.0        NaN  12.50  \n",
       "2   88.7 bhp    5.0  8.61 Lakh   4.50  \n",
       "3  88.76 bhp    7.0        NaN   6.00  \n",
       "4  140.8 bhp    5.0        NaN  17.74  "
      ]
     },
     "execution_count": 3,
     "metadata": {},
     "output_type": "execute_result"
    }
   ],
   "source": [
    "train.head()"
   ]
  },
  {
   "cell_type": "code",
   "execution_count": 4,
   "id": "65a72dc0",
   "metadata": {},
   "outputs": [
    {
     "data": {
      "text/html": [
       "<div>\n",
       "<style scoped>\n",
       "    .dataframe tbody tr th:only-of-type {\n",
       "        vertical-align: middle;\n",
       "    }\n",
       "\n",
       "    .dataframe tbody tr th {\n",
       "        vertical-align: top;\n",
       "    }\n",
       "\n",
       "    .dataframe thead th {\n",
       "        text-align: right;\n",
       "    }\n",
       "</style>\n",
       "<table border=\"1\" class=\"dataframe\">\n",
       "  <thead>\n",
       "    <tr style=\"text-align: right;\">\n",
       "      <th></th>\n",
       "      <th>Unnamed: 0</th>\n",
       "      <th>Name</th>\n",
       "      <th>Location</th>\n",
       "      <th>Year</th>\n",
       "      <th>Kilometers_Driven</th>\n",
       "      <th>Fuel_Type</th>\n",
       "      <th>Transmission</th>\n",
       "      <th>Owner_Type</th>\n",
       "      <th>Mileage</th>\n",
       "      <th>Engine</th>\n",
       "      <th>Power</th>\n",
       "      <th>Seats</th>\n",
       "      <th>New_Price</th>\n",
       "      <th>Price</th>\n",
       "    </tr>\n",
       "  </thead>\n",
       "  <tbody>\n",
       "    <tr>\n",
       "      <th>6014</th>\n",
       "      <td>6014</td>\n",
       "      <td>Maruti Swift VDI</td>\n",
       "      <td>Delhi</td>\n",
       "      <td>2014</td>\n",
       "      <td>27365</td>\n",
       "      <td>Diesel</td>\n",
       "      <td>Manual</td>\n",
       "      <td>First</td>\n",
       "      <td>28.4 kmpl</td>\n",
       "      <td>1248 CC</td>\n",
       "      <td>74 bhp</td>\n",
       "      <td>5.0</td>\n",
       "      <td>7.88 Lakh</td>\n",
       "      <td>4.75</td>\n",
       "    </tr>\n",
       "    <tr>\n",
       "      <th>6015</th>\n",
       "      <td>6015</td>\n",
       "      <td>Hyundai Xcent 1.1 CRDi S</td>\n",
       "      <td>Jaipur</td>\n",
       "      <td>2015</td>\n",
       "      <td>100000</td>\n",
       "      <td>Diesel</td>\n",
       "      <td>Manual</td>\n",
       "      <td>First</td>\n",
       "      <td>24.4 kmpl</td>\n",
       "      <td>1120 CC</td>\n",
       "      <td>71 bhp</td>\n",
       "      <td>5.0</td>\n",
       "      <td>NaN</td>\n",
       "      <td>4.00</td>\n",
       "    </tr>\n",
       "    <tr>\n",
       "      <th>6016</th>\n",
       "      <td>6016</td>\n",
       "      <td>Mahindra Xylo D4 BSIV</td>\n",
       "      <td>Jaipur</td>\n",
       "      <td>2012</td>\n",
       "      <td>55000</td>\n",
       "      <td>Diesel</td>\n",
       "      <td>Manual</td>\n",
       "      <td>Second</td>\n",
       "      <td>14.0 kmpl</td>\n",
       "      <td>2498 CC</td>\n",
       "      <td>112 bhp</td>\n",
       "      <td>8.0</td>\n",
       "      <td>NaN</td>\n",
       "      <td>2.90</td>\n",
       "    </tr>\n",
       "    <tr>\n",
       "      <th>6017</th>\n",
       "      <td>6017</td>\n",
       "      <td>Maruti Wagon R VXI</td>\n",
       "      <td>Kolkata</td>\n",
       "      <td>2013</td>\n",
       "      <td>46000</td>\n",
       "      <td>Petrol</td>\n",
       "      <td>Manual</td>\n",
       "      <td>First</td>\n",
       "      <td>18.9 kmpl</td>\n",
       "      <td>998 CC</td>\n",
       "      <td>67.1 bhp</td>\n",
       "      <td>5.0</td>\n",
       "      <td>NaN</td>\n",
       "      <td>2.65</td>\n",
       "    </tr>\n",
       "    <tr>\n",
       "      <th>6018</th>\n",
       "      <td>6018</td>\n",
       "      <td>Chevrolet Beat Diesel</td>\n",
       "      <td>Hyderabad</td>\n",
       "      <td>2011</td>\n",
       "      <td>47000</td>\n",
       "      <td>Diesel</td>\n",
       "      <td>Manual</td>\n",
       "      <td>First</td>\n",
       "      <td>25.44 kmpl</td>\n",
       "      <td>936 CC</td>\n",
       "      <td>57.6 bhp</td>\n",
       "      <td>5.0</td>\n",
       "      <td>NaN</td>\n",
       "      <td>2.50</td>\n",
       "    </tr>\n",
       "  </tbody>\n",
       "</table>\n",
       "</div>"
      ],
      "text/plain": [
       "      Unnamed: 0                      Name   Location  Year  \\\n",
       "6014        6014          Maruti Swift VDI      Delhi  2014   \n",
       "6015        6015  Hyundai Xcent 1.1 CRDi S     Jaipur  2015   \n",
       "6016        6016     Mahindra Xylo D4 BSIV     Jaipur  2012   \n",
       "6017        6017        Maruti Wagon R VXI    Kolkata  2013   \n",
       "6018        6018     Chevrolet Beat Diesel  Hyderabad  2011   \n",
       "\n",
       "      Kilometers_Driven Fuel_Type Transmission Owner_Type     Mileage  \\\n",
       "6014              27365    Diesel       Manual      First   28.4 kmpl   \n",
       "6015             100000    Diesel       Manual      First   24.4 kmpl   \n",
       "6016              55000    Diesel       Manual     Second   14.0 kmpl   \n",
       "6017              46000    Petrol       Manual      First   18.9 kmpl   \n",
       "6018              47000    Diesel       Manual      First  25.44 kmpl   \n",
       "\n",
       "       Engine     Power  Seats  New_Price  Price  \n",
       "6014  1248 CC    74 bhp    5.0  7.88 Lakh   4.75  \n",
       "6015  1120 CC    71 bhp    5.0        NaN   4.00  \n",
       "6016  2498 CC   112 bhp    8.0        NaN   2.90  \n",
       "6017   998 CC  67.1 bhp    5.0        NaN   2.65  \n",
       "6018   936 CC  57.6 bhp    5.0        NaN   2.50  "
      ]
     },
     "execution_count": 4,
     "metadata": {},
     "output_type": "execute_result"
    }
   ],
   "source": [
    "train.tail()"
   ]
  },
  {
   "cell_type": "code",
   "execution_count": 5,
   "id": "8e7aec34",
   "metadata": {},
   "outputs": [
    {
     "data": {
      "text/plain": [
       "(6019, 14)"
      ]
     },
     "execution_count": 5,
     "metadata": {},
     "output_type": "execute_result"
    }
   ],
   "source": [
    "train.shape"
   ]
  },
  {
   "cell_type": "code",
   "execution_count": 6,
   "id": "128f155c",
   "metadata": {},
   "outputs": [
    {
     "data": {
      "text/plain": [
       "Index(['Unnamed: 0', 'Name', 'Location', 'Year', 'Kilometers_Driven',\n",
       "       'Fuel_Type', 'Transmission', 'Owner_Type', 'Mileage', 'Engine', 'Power',\n",
       "       'Seats', 'New_Price', 'Price'],\n",
       "      dtype='object')"
      ]
     },
     "execution_count": 6,
     "metadata": {},
     "output_type": "execute_result"
    }
   ],
   "source": [
    "train.columns"
   ]
  },
  {
   "cell_type": "code",
   "execution_count": 7,
   "id": "a70eedce",
   "metadata": {},
   "outputs": [
    {
     "data": {
      "text/plain": [
       "Unnamed: 0              0\n",
       "Name                    0\n",
       "Location                0\n",
       "Year                    0\n",
       "Kilometers_Driven       0\n",
       "Fuel_Type               0\n",
       "Transmission            0\n",
       "Owner_Type              0\n",
       "Mileage                 2\n",
       "Engine                 36\n",
       "Power                  36\n",
       "Seats                  42\n",
       "New_Price            5195\n",
       "Price                   0\n",
       "dtype: int64"
      ]
     },
     "execution_count": 7,
     "metadata": {},
     "output_type": "execute_result"
    }
   ],
   "source": [
    "train.isnull().sum()"
   ]
  },
  {
   "cell_type": "code",
   "execution_count": 8,
   "id": "e7ef0cd0",
   "metadata": {},
   "outputs": [
    {
     "name": "stdout",
     "output_type": "stream",
     "text": [
      " kmpl     5951\n",
      " km/kg      66\n",
      "Name: Mileage, dtype: int64\n",
      " CC    5983\n",
      "Name: Engine, dtype: int64\n",
      " bhp        5876\n",
      "null bhp     107\n",
      "Name: Power, dtype: int64\n"
     ]
    },
    {
     "name": "stderr",
     "output_type": "stream",
     "text": [
      "<ipython-input-8-2ff0ce3d71c6>:2: FutureWarning: The default value of regex will change from True to False in a future version.\n",
      "  print(train.Mileage.str.replace('\\d+\\.?\\d+','').value_counts())\n",
      "<ipython-input-8-2ff0ce3d71c6>:3: FutureWarning: The default value of regex will change from True to False in a future version.\n",
      "  print(train.Engine.str.replace('\\d+','').value_counts())\n",
      "<ipython-input-8-2ff0ce3d71c6>:4: FutureWarning: The default value of regex will change from True to False in a future version.\n",
      "  print(train.Power.str.replace('\\d+\\.?\\d+','').value_counts())\n"
     ]
    }
   ],
   "source": [
    "import re\n",
    "print(train.Mileage.str.replace('\\d+\\.?\\d+','').value_counts())\n",
    "print(train.Engine.str.replace('\\d+','').value_counts())\n",
    "print(train.Power.str.replace('\\d+\\.?\\d+','').value_counts())"
   ]
  },
  {
   "cell_type": "code",
   "execution_count": 9,
   "id": "305a13bb",
   "metadata": {},
   "outputs": [],
   "source": [
    "train.Name = train.Name.str.split().str[0]"
   ]
  },
  {
   "cell_type": "code",
   "execution_count": 10,
   "id": "11c0a25b",
   "metadata": {},
   "outputs": [],
   "source": [
    "group = train.groupby('Name').Price.describe()['50%']"
   ]
  },
  {
   "cell_type": "code",
   "execution_count": 11,
   "id": "93b632e7",
   "metadata": {},
   "outputs": [],
   "source": [
    "def myfunc(car):\n",
    "    if group[car]<10:\n",
    "        return 1\n",
    "    elif group[car]>=10 and group[car]<20:\n",
    "        return 2\n",
    "    elif group[car]>=20 and group[car]<50:\n",
    "        return 3\n",
    "    else:\n",
    "        return 4\n",
    "\n",
    "train['Car_Group'] = train.Name.apply(myfunc)"
   ]
  },
  {
   "cell_type": "code",
   "execution_count": 12,
   "id": "268d5790",
   "metadata": {},
   "outputs": [],
   "source": [
    "train['Mileage'] = train['Mileage'].str.replace(' km/kg', '')\n",
    "train['Mileage'] = train['Mileage'].str.replace(' kmpl', '')\n",
    "train['Mileage'] = pd.to_numeric(train['Mileage'], errors='coerce')"
   ]
  },
  {
   "cell_type": "code",
   "execution_count": 13,
   "id": "a35418be",
   "metadata": {},
   "outputs": [],
   "source": [
    "train['Engine'] = train['Engine'].str.replace(' CC', '')\n",
    "train['Engine'] = pd.to_numeric(train['Engine'], errors='coerce')"
   ]
  },
  {
   "cell_type": "code",
   "execution_count": 14,
   "id": "1c19015f",
   "metadata": {},
   "outputs": [],
   "source": [
    "train['Power'] = train['Power'].str.replace(' bhp', '')\n",
    "train['Power'] = train['Power'].str.replace('null', '0.0')\n",
    "train['Power'] = pd.to_numeric(train['Power'], errors='coerce')"
   ]
  },
  {
   "cell_type": "code",
   "execution_count": 16,
   "id": "21818b2e",
   "metadata": {},
   "outputs": [],
   "source": [
    "train['Mileage'].replace(0.0,np.nan,inplace=True)\n",
    "train['Engine'].replace(0.0,np.nan,inplace=True)\n",
    "train['Seats'].replace(0.0,np.nan,inplace=True)"
   ]
  },
  {
   "cell_type": "code",
   "execution_count": 17,
   "id": "746a51ed",
   "metadata": {},
   "outputs": [
    {
     "data": {
      "text/html": [
       "<div>\n",
       "<style scoped>\n",
       "    .dataframe tbody tr th:only-of-type {\n",
       "        vertical-align: middle;\n",
       "    }\n",
       "\n",
       "    .dataframe tbody tr th {\n",
       "        vertical-align: top;\n",
       "    }\n",
       "\n",
       "    .dataframe thead th {\n",
       "        text-align: right;\n",
       "    }\n",
       "</style>\n",
       "<table border=\"1\" class=\"dataframe\">\n",
       "  <thead>\n",
       "    <tr style=\"text-align: right;\">\n",
       "      <th></th>\n",
       "      <th>Unnamed: 0</th>\n",
       "      <th>Year</th>\n",
       "      <th>Kilometers_Driven</th>\n",
       "      <th>Mileage</th>\n",
       "      <th>Engine</th>\n",
       "      <th>Power</th>\n",
       "      <th>Seats</th>\n",
       "      <th>Price</th>\n",
       "      <th>Car_Group</th>\n",
       "    </tr>\n",
       "  </thead>\n",
       "  <tbody>\n",
       "    <tr>\n",
       "      <th>Unnamed: 0</th>\n",
       "      <td>1.000000</td>\n",
       "      <td>0.002354</td>\n",
       "      <td>-0.008734</td>\n",
       "      <td>0.017214</td>\n",
       "      <td>-0.004171</td>\n",
       "      <td>-0.007907</td>\n",
       "      <td>-0.010247</td>\n",
       "      <td>-0.020275</td>\n",
       "      <td>-0.030434</td>\n",
       "    </tr>\n",
       "    <tr>\n",
       "      <th>Year</th>\n",
       "      <td>0.002354</td>\n",
       "      <td>1.000000</td>\n",
       "      <td>-0.173048</td>\n",
       "      <td>0.296718</td>\n",
       "      <td>-0.052197</td>\n",
       "      <td>0.071181</td>\n",
       "      <td>0.011909</td>\n",
       "      <td>0.305327</td>\n",
       "      <td>0.015788</td>\n",
       "    </tr>\n",
       "    <tr>\n",
       "      <th>Kilometers_Driven</th>\n",
       "      <td>-0.008734</td>\n",
       "      <td>-0.173048</td>\n",
       "      <td>1.000000</td>\n",
       "      <td>-0.064283</td>\n",
       "      <td>0.091068</td>\n",
       "      <td>0.024208</td>\n",
       "      <td>0.084209</td>\n",
       "      <td>-0.011493</td>\n",
       "      <td>0.018795</td>\n",
       "    </tr>\n",
       "    <tr>\n",
       "      <th>Mileage</th>\n",
       "      <td>0.017214</td>\n",
       "      <td>0.296718</td>\n",
       "      <td>-0.064283</td>\n",
       "      <td>1.000000</td>\n",
       "      <td>-0.646476</td>\n",
       "      <td>-0.528542</td>\n",
       "      <td>-0.348206</td>\n",
       "      <td>-0.333263</td>\n",
       "      <td>-0.394367</td>\n",
       "    </tr>\n",
       "    <tr>\n",
       "      <th>Engine</th>\n",
       "      <td>-0.004171</td>\n",
       "      <td>-0.052197</td>\n",
       "      <td>0.091068</td>\n",
       "      <td>-0.646476</td>\n",
       "      <td>1.000000</td>\n",
       "      <td>0.840934</td>\n",
       "      <td>0.397848</td>\n",
       "      <td>0.658354</td>\n",
       "      <td>0.644116</td>\n",
       "    </tr>\n",
       "    <tr>\n",
       "      <th>Power</th>\n",
       "      <td>-0.007907</td>\n",
       "      <td>0.071181</td>\n",
       "      <td>0.024208</td>\n",
       "      <td>-0.528542</td>\n",
       "      <td>0.840934</td>\n",
       "      <td>1.000000</td>\n",
       "      <td>0.106954</td>\n",
       "      <td>0.759136</td>\n",
       "      <td>0.721312</td>\n",
       "    </tr>\n",
       "    <tr>\n",
       "      <th>Seats</th>\n",
       "      <td>-0.010247</td>\n",
       "      <td>0.011909</td>\n",
       "      <td>0.084209</td>\n",
       "      <td>-0.348206</td>\n",
       "      <td>0.397848</td>\n",
       "      <td>0.106954</td>\n",
       "      <td>1.000000</td>\n",
       "      <td>0.053247</td>\n",
       "      <td>0.016032</td>\n",
       "    </tr>\n",
       "    <tr>\n",
       "      <th>Price</th>\n",
       "      <td>-0.020275</td>\n",
       "      <td>0.305327</td>\n",
       "      <td>-0.011493</td>\n",
       "      <td>-0.333263</td>\n",
       "      <td>0.658354</td>\n",
       "      <td>0.759136</td>\n",
       "      <td>0.053247</td>\n",
       "      <td>1.000000</td>\n",
       "      <td>0.729917</td>\n",
       "    </tr>\n",
       "    <tr>\n",
       "      <th>Car_Group</th>\n",
       "      <td>-0.030434</td>\n",
       "      <td>0.015788</td>\n",
       "      <td>0.018795</td>\n",
       "      <td>-0.394367</td>\n",
       "      <td>0.644116</td>\n",
       "      <td>0.721312</td>\n",
       "      <td>0.016032</td>\n",
       "      <td>0.729917</td>\n",
       "      <td>1.000000</td>\n",
       "    </tr>\n",
       "  </tbody>\n",
       "</table>\n",
       "</div>"
      ],
      "text/plain": [
       "                   Unnamed: 0      Year  Kilometers_Driven   Mileage  \\\n",
       "Unnamed: 0           1.000000  0.002354          -0.008734  0.017214   \n",
       "Year                 0.002354  1.000000          -0.173048  0.296718   \n",
       "Kilometers_Driven   -0.008734 -0.173048           1.000000 -0.064283   \n",
       "Mileage              0.017214  0.296718          -0.064283  1.000000   \n",
       "Engine              -0.004171 -0.052197           0.091068 -0.646476   \n",
       "Power               -0.007907  0.071181           0.024208 -0.528542   \n",
       "Seats               -0.010247  0.011909           0.084209 -0.348206   \n",
       "Price               -0.020275  0.305327          -0.011493 -0.333263   \n",
       "Car_Group           -0.030434  0.015788           0.018795 -0.394367   \n",
       "\n",
       "                     Engine     Power     Seats     Price  Car_Group  \n",
       "Unnamed: 0        -0.004171 -0.007907 -0.010247 -0.020275  -0.030434  \n",
       "Year              -0.052197  0.071181  0.011909  0.305327   0.015788  \n",
       "Kilometers_Driven  0.091068  0.024208  0.084209 -0.011493   0.018795  \n",
       "Mileage           -0.646476 -0.528542 -0.348206 -0.333263  -0.394367  \n",
       "Engine             1.000000  0.840934  0.397848  0.658354   0.644116  \n",
       "Power              0.840934  1.000000  0.106954  0.759136   0.721312  \n",
       "Seats              0.397848  0.106954  1.000000  0.053247   0.016032  \n",
       "Price              0.658354  0.759136  0.053247  1.000000   0.729917  \n",
       "Car_Group          0.644116  0.721312  0.016032  0.729917   1.000000  "
      ]
     },
     "execution_count": 17,
     "metadata": {},
     "output_type": "execute_result"
    }
   ],
   "source": [
    "train.corr()"
   ]
  },
  {
   "cell_type": "code",
   "execution_count": 18,
   "id": "c7bb415a",
   "metadata": {},
   "outputs": [
    {
     "data": {
      "text/plain": [
       "Unnamed: 0           3.019532e+06\n",
       "Year                 1.069121e+01\n",
       "Kilometers_Driven    8.330002e+09\n",
       "Mileage              1.743459e+01\n",
       "Engine               3.616281e+05\n",
       "Power                3.075914e+03\n",
       "Seats                6.496665e-01\n",
       "Price                1.251695e+02\n",
       "Car_Group            5.623745e-01\n",
       "dtype: float64"
      ]
     },
     "execution_count": 18,
     "metadata": {},
     "output_type": "execute_result"
    }
   ],
   "source": [
    "train.var()"
   ]
  },
  {
   "cell_type": "code",
   "execution_count": 19,
   "id": "966ae422",
   "metadata": {},
   "outputs": [],
   "source": [
    "train.Fuel_Type = train.Fuel_Type.astype('category')"
   ]
  },
  {
   "cell_type": "code",
   "execution_count": 20,
   "id": "977266cb",
   "metadata": {},
   "outputs": [
    {
     "data": {
      "text/plain": [
       "array(['Manual', 'Automatic'], dtype=object)"
      ]
     },
     "execution_count": 20,
     "metadata": {},
     "output_type": "execute_result"
    }
   ],
   "source": [
    "train.Transmission.unique()"
   ]
  },
  {
   "cell_type": "code",
   "execution_count": 21,
   "id": "7299e18f",
   "metadata": {},
   "outputs": [],
   "source": [
    "train.Transmission = train.Transmission.astype('category')"
   ]
  },
  {
   "cell_type": "code",
   "execution_count": 22,
   "id": "58ff05b2",
   "metadata": {},
   "outputs": [],
   "source": [
    "train.Owner_Type = train.Owner_Type.astype('category')"
   ]
  },
  {
   "cell_type": "code",
   "execution_count": 23,
   "id": "9bd06589",
   "metadata": {},
   "outputs": [],
   "source": [
    "train.drop(['Name','New_Price','Unnamed: 0','Seats','Kilometers_Driven'],axis=1,inplace=True)"
   ]
  },
  {
   "cell_type": "code",
   "execution_count": 24,
   "id": "b8b75dca",
   "metadata": {},
   "outputs": [],
   "source": [
    "train.dropna(inplace=True)"
   ]
  },
  {
   "cell_type": "code",
   "execution_count": 25,
   "id": "eab066b2",
   "metadata": {},
   "outputs": [],
   "source": [
    "temp_df = pd.get_dummies(train.Location,drop_first=True)\n",
    "train = pd.concat([train,temp_df],axis=1)\n",
    "train.drop(['Location'],axis=1,inplace=True)"
   ]
  },
  {
   "cell_type": "code",
   "execution_count": 26,
   "id": "812afba2",
   "metadata": {},
   "outputs": [],
   "source": [
    "temp_df = pd.get_dummies(train.Transmission,drop_first=True)\n",
    "train = pd.concat([train,temp_df],axis=1)\n",
    "train.drop(['Transmission'],axis=1,inplace=True)\n",
    "temp_df = pd.get_dummies(train.Owner_Type,drop_first=True)\n",
    "train = pd.concat([train,temp_df],axis=1)\n",
    "train.drop(['Owner_Type'],axis=1,inplace=True)\n",
    "temp_df = pd.get_dummies(train.Fuel_Type,drop_first=True)\n",
    "train = pd.concat([train,temp_df],axis=1)\n",
    "train.drop(['Fuel_Type'],axis=1,inplace=True)"
   ]
  },
  {
   "cell_type": "code",
   "execution_count": 27,
   "id": "c66739e4",
   "metadata": {},
   "outputs": [],
   "source": [
    "train.drop(['Electric'],axis=1,inplace=True)"
   ]
  },
  {
   "cell_type": "code",
   "execution_count": 33,
   "id": "8b68512b",
   "metadata": {},
   "outputs": [],
   "source": [
    "from sklearn.ensemble import RandomForestRegressor\n",
    "features = list(train.columns)\n",
    "features.remove('Price')\n",
    "target = ['Price']\n",
    "x_rf = train[features]\n",
    "y_rf = train[target]\n",
    "X_train, X_test, y_train, y_test = train_test_split(x_rf, y_rf, test_size=0.25, random_state=1)"
   ]
  },
  {
   "cell_type": "code",
   "execution_count": 34,
   "id": "06857d31",
   "metadata": {},
   "outputs": [
    {
     "name": "stderr",
     "output_type": "stream",
     "text": [
      "<ipython-input-34-3329a76a27a8>:2: DataConversionWarning: A column-vector y was passed when a 1d array was expected. Please change the shape of y to (n_samples,), for example using ravel().\n",
      "  regressor.fit(X_train,y_train)\n",
      "<ipython-input-34-3329a76a27a8>:3: DataConversionWarning: A column-vector y was passed when a 1d array was expected. Please change the shape of y to (n_samples,), for example using ravel().\n",
      "  regressor.fit(X_train,y_train)\n"
     ]
    },
    {
     "name": "stdout",
     "output_type": "stream",
     "text": [
      "R squared error :  0.9152907369947201\n"
     ]
    }
   ],
   "source": [
    "regressor = RandomForestRegressor(n_estimators=100)\n",
    "regressor.fit(X_train,y_train)\n",
    "regressor.fit(X_train,y_train)\n",
    "test_data_prediction = regressor.predict(X_test)\n",
    "error_score = metrics.r2_score(y_test,test_data_prediction)\n",
    "print(\"R squared error : \", error_score)"
   ]
  },
  {
   "cell_type": "code",
   "execution_count": 35,
   "id": "1444379f",
   "metadata": {},
   "outputs": [
    {
     "data": {
      "text/plain": [
       "LinearRegression()"
      ]
     },
     "execution_count": 35,
     "metadata": {},
     "output_type": "execute_result"
    }
   ],
   "source": [
    "regressor= LinearRegression()  \n",
    "regressor.fit(X_train, y_train)  "
   ]
  },
  {
   "cell_type": "code",
   "execution_count": 36,
   "id": "823ddee0",
   "metadata": {},
   "outputs": [],
   "source": [
    "y_pred= regressor.predict(X_test)"
   ]
  },
  {
   "cell_type": "code",
   "execution_count": 37,
   "id": "1bfa230e",
   "metadata": {},
   "outputs": [
    {
     "name": "stdout",
     "output_type": "stream",
     "text": [
      "Train Score:  0.7312706723815185\n"
     ]
    }
   ],
   "source": [
    "print('Train Score: ', regressor.score(X_train, y_train)) "
   ]
  },
  {
   "cell_type": "code",
   "execution_count": 38,
   "id": "e80e0387",
   "metadata": {},
   "outputs": [
    {
     "name": "stdout",
     "output_type": "stream",
     "text": [
      "Train Score:  0.692689580706427\n"
     ]
    }
   ],
   "source": [
    "model = Lasso(alpha=1.0)\n",
    "model.fit(X_train,y_train)\n",
    "y_pred = model.predict(X_test)\n",
    "print('Train Score: ', model.score(X_train, y_train))  "
   ]
  },
  {
   "cell_type": "markdown",
   "id": "078fb0ab",
   "metadata": {},
   "source": [
    "# Conclusion:\n",
    "Hence, accuracy of random forest regression is more, we would choose it for building the project."
   ]
  },
  {
   "cell_type": "code",
   "execution_count": null,
   "id": "6fd340fd",
   "metadata": {},
   "outputs": [],
   "source": []
  }
 ],
 "metadata": {
  "kernelspec": {
   "display_name": "Python 3",
   "language": "python",
   "name": "python3"
  },
  "language_info": {
   "codemirror_mode": {
    "name": "ipython",
    "version": 3
   },
   "file_extension": ".py",
   "mimetype": "text/x-python",
   "name": "python",
   "nbconvert_exporter": "python",
   "pygments_lexer": "ipython3",
   "version": "3.8.8"
  }
 },
 "nbformat": 4,
 "nbformat_minor": 5
}
