{
  "nbformat": 4,
  "nbformat_minor": 0,
  "metadata": {
    "colab": {
      "name": "standardization_and_normalization.ipynb",
      "provenance": [],
      "collapsed_sections": []
    },
    "kernelspec": {
      "name": "python3",
      "display_name": "Python 3"
    },
    "language_info": {
      "name": "python"
    }
  },
  "cells": [
    {
      "cell_type": "markdown",
      "metadata": {
        "id": "wEqP-WzeqTju"
      },
      "source": [
        "# **Normalization and Standardization Example**"
      ]
    },
    {
      "cell_type": "markdown",
      "metadata": {
        "id": "xPoNc0Ejp3p2"
      },
      "source": [
        "Download the Data_for_feature_scaling.csv dataset fro DS resources before performing this example"
      ]
    },
    {
      "cell_type": "code",
      "metadata": {
        "id": "Y6DNGR61qITz"
      },
      "source": [
        "# Importing Libraries\n",
        "import numpy as np\n",
        "import matplotlib.pyplot as plt\n",
        "import pandas as pd\n",
        "\n",
        "# Sklearn library \n",
        "from sklearn import preprocessing"
      ],
      "execution_count": 15,
      "outputs": []
    },
    {
      "cell_type": "code",
      "metadata": {
        "colab": {
          "base_uri": "https://localhost:8080/",
          "height": 204
        },
        "id": "FzUgxANcslpn",
        "outputId": "677b26a3-6c67-4db0-fbc2-3cf782df5b9c"
      },
      "source": [
        "# Importing Data\n",
        "   \n",
        "data_set = pd.read_csv('/content/drive/MyDrive/Colab Notebooks/Data_for_Missing_Values.csv')\n",
        "data_set.head()"
      ],
      "execution_count": 23,
      "outputs": [
        {
          "output_type": "execute_result",
          "data": {
            "text/html": [
              "<div>\n",
              "<style scoped>\n",
              "    .dataframe tbody tr th:only-of-type {\n",
              "        vertical-align: middle;\n",
              "    }\n",
              "\n",
              "    .dataframe tbody tr th {\n",
              "        vertical-align: top;\n",
              "    }\n",
              "\n",
              "    .dataframe thead th {\n",
              "        text-align: right;\n",
              "    }\n",
              "</style>\n",
              "<table border=\"1\" class=\"dataframe\">\n",
              "  <thead>\n",
              "    <tr style=\"text-align: right;\">\n",
              "      <th></th>\n",
              "      <th>Country</th>\n",
              "      <th>Age</th>\n",
              "      <th>Salary</th>\n",
              "      <th>Purchased</th>\n",
              "    </tr>\n",
              "  </thead>\n",
              "  <tbody>\n",
              "    <tr>\n",
              "      <th>0</th>\n",
              "      <td>France</td>\n",
              "      <td>44</td>\n",
              "      <td>72000</td>\n",
              "      <td>No</td>\n",
              "    </tr>\n",
              "    <tr>\n",
              "      <th>1</th>\n",
              "      <td>Spain</td>\n",
              "      <td>27</td>\n",
              "      <td>48000</td>\n",
              "      <td>Yes</td>\n",
              "    </tr>\n",
              "    <tr>\n",
              "      <th>2</th>\n",
              "      <td>Germany</td>\n",
              "      <td>30</td>\n",
              "      <td>54000</td>\n",
              "      <td>No</td>\n",
              "    </tr>\n",
              "    <tr>\n",
              "      <th>3</th>\n",
              "      <td>Spain</td>\n",
              "      <td>38</td>\n",
              "      <td>61000</td>\n",
              "      <td>No</td>\n",
              "    </tr>\n",
              "    <tr>\n",
              "      <th>4</th>\n",
              "      <td>Germany</td>\n",
              "      <td>40</td>\n",
              "      <td>1000</td>\n",
              "      <td>Yes</td>\n",
              "    </tr>\n",
              "  </tbody>\n",
              "</table>\n",
              "</div>"
            ],
            "text/plain": [
              "   Country  Age  Salary Purchased\n",
              "0   France   44   72000        No\n",
              "1    Spain   27   48000       Yes\n",
              "2  Germany   30   54000        No\n",
              "3    Spain   38   61000        No\n",
              "4  Germany   40    1000       Yes"
            ]
          },
          "metadata": {},
          "execution_count": 23
        }
      ]
    },
    {
      "cell_type": "code",
      "metadata": {
        "colab": {
          "base_uri": "https://localhost:8080/"
        },
        "id": "vNCtXg7HuPP7",
        "outputId": "d2930a79-d58a-447b-e147-2d74245bbf18"
      },
      "source": [
        "# Slicing features age and salary to handle values with varying magnitude\n",
        "x = data_set.iloc[:, 1:3].values\n",
        "print (\"\\nOriginal data values : \\n\",  x)"
      ],
      "execution_count": 18,
      "outputs": [
        {
          "output_type": "stream",
          "name": "stdout",
          "text": [
            "\n",
            "Original data values : \n",
            " [[   44 72000]\n",
            " [   27 48000]\n",
            " [   30 54000]\n",
            " [   38 61000]\n",
            " [   40  1000]\n",
            " [   35 58000]\n",
            " [   78 52000]\n",
            " [   48 79000]\n",
            " [   50 83000]\n",
            " [   37 67000]]\n"
          ]
        }
      ]
    },
    {
      "cell_type": "code",
      "metadata": {
        "colab": {
          "base_uri": "https://localhost:8080/"
        },
        "id": "iWBR-7Fbu4je",
        "outputId": "316984db-07d1-430f-fdf7-8568f362d2b5"
      },
      "source": [
        "# Applying Normalization\n",
        "normalization = preprocessing.MinMaxScaler(feature_range =(0, 1))\n",
        "\n",
        "# After Normalization\n",
        "after_normalization = normalization.fit_transform(x)\n",
        "print (\"\\nAfter Normalization : \\n\", after_normalization)"
      ],
      "execution_count": 19,
      "outputs": [
        {
          "output_type": "stream",
          "name": "stdout",
          "text": [
            "\n",
            "After Normalization : \n",
            " [[0.33333333 0.86585366]\n",
            " [0.         0.57317073]\n",
            " [0.05882353 0.64634146]\n",
            " [0.21568627 0.73170732]\n",
            " [0.25490196 0.        ]\n",
            " [0.15686275 0.69512195]\n",
            " [1.         0.62195122]\n",
            " [0.41176471 0.95121951]\n",
            " [0.45098039 1.        ]\n",
            " [0.19607843 0.80487805]]\n"
          ]
        }
      ]
    },
    {
      "cell_type": "code",
      "metadata": {
        "colab": {
          "base_uri": "https://localhost:8080/"
        },
        "id": "xUmQhHmFvEn3",
        "outputId": "e23574f4-4394-4438-91a3-b5c009aa007f"
      },
      "source": [
        "# Applying Standardization\n",
        "Standardization = preprocessing.StandardScaler()\n",
        "\n",
        "# After Standardization\n",
        "after_Standardization = Standardization.fit_transform(x)\n",
        "  \n",
        "print (\"\\nAfter Standardization : \\n\", after_Standardization)"
      ],
      "execution_count": 21,
      "outputs": [
        {
          "output_type": "stream",
          "name": "stdout",
          "text": [
            "\n",
            "After Standardization : \n",
            " [[ 0.09536935  0.66527061]\n",
            " [-1.15176827 -0.43586695]\n",
            " [-0.93168516 -0.16058256]\n",
            " [-0.34479687  0.16058256]\n",
            " [-0.1980748  -2.59226136]\n",
            " [-0.56487998  0.02294037]\n",
            " [ 2.58964459 -0.25234403]\n",
            " [ 0.38881349  0.98643574]\n",
            " [ 0.53553557  1.16995867]\n",
            " [-0.41815791  0.43586695]]\n"
          ]
        }
      ]
    },
    {
      "cell_type": "code",
      "metadata": {
        "id": "GLJacIEsydfG"
      },
      "source": [
        ""
      ],
      "execution_count": null,
      "outputs": []
    }
  ]
}