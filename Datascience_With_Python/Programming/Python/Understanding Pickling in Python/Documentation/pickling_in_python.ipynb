{
 "cells": [
  {
   "cell_type": "markdown",
   "source": [
    "# Data Science : Understanding Pickling in Python\r\n",
    "\r\n",
    "## What is Pickling?\r\n",
    "&emsp;**Pickling in Python** or **Data Serialization/De-serialization** is an important tool in a Data Scientist's arsenal!<br><br>\r\n",
    "&emsp;Data serialization is the process of converting structured data (objects) into a series of bytes. This allows sharing or storage of the data by fulfulling an intention of minimizing the data’s size which reduces disk space or bandwidth requirements.<br>\r\n",
    "&emsp;Python pickle module is useful for serializing and de-serializing a Python object structure."
   ],
   "metadata": {}
  },
  {
   "cell_type": "markdown",
   "source": [
    "## Types of Data (based in structure)\r\n",
    "- Flat Data<br>\r\n",
    "    ```{\"Category\" : \"XYZ\", \"parameter1\": \"value1\", \"parameter2\": \"value2\", \"parameter3\": \"value3\" }```\r\n",
    "- Nested Data<br>\r\n",
    "    ```{\"XYZ\" : {\"parameter1\": \"value1\", \"parameter2\": \"value2\", \"parameter3\": \"value3\" }}```\r\n",
    "\r\n",
    "&emsp;As it can be seen clearly Flat Data has one level of properties or “key : value” pairs while Nested Data has multiple levels of data, or has sub-objects with in.\r\n"
   ],
   "metadata": {}
  },
  {
   "cell_type": "markdown",
   "source": [
    "## Using Pickle Module\r\n",
    "&emsp;Pickle is a native module in Python hence it can be directly imported as:"
   ],
   "metadata": {}
  },
  {
   "cell_type": "code",
   "execution_count": 1,
   "source": [
    "import pickle"
   ],
   "outputs": [],
   "metadata": {}
  },
  {
   "cell_type": "markdown",
   "source": [
    "### To serialize data\r\n",
    "Let's take some arbitrary data to \"dump\" it using pickle."
   ],
   "metadata": {}
  },
  {
   "cell_type": "code",
   "execution_count": 2,
   "source": [
    "# An arbitrary collection of objects supported by pickle.\r\n",
    "data = {\r\n",
    "    'area' : [2600,3000,3200,3600,4000,4100],\r\n",
    "    'bedrooms' : [3,4,4,3,5,6],\r\n",
    "    'age' : [20,15,18,30,8,8],\r\n",
    "    'price' : [550000,565000,610000,595000,760000,810000]\r\n",
    "}"
   ],
   "outputs": [],
   "metadata": {}
  },
  {
   "cell_type": "markdown",
   "source": [
    "To serialize an object hierarchy, you simply call the ```dump()``` function. It writes the pickled representation of the object to the open object file."
   ],
   "metadata": {}
  },
  {
   "cell_type": "code",
   "execution_count": 3,
   "source": [
    "with open('mydata.pickle', 'wb') as f:\r\n",
    "    # Pickle the 'data' dictionary using the highest protocol available.\r\n",
    "    pickle.dump(data, f, protocol=pickle.HIGHEST_PROTOCOL)"
   ],
   "outputs": [],
   "metadata": {}
  },
  {
   "cell_type": "markdown",
   "source": [
    "In the above code, we've opened ```mydata.pickle``` file in write binary mode to dump our data object in the ```data``` variable with ```pickle.HIGHEST_PROTOCOL``` (which is basically just a value determining the priority, the other choice is ```DEFAULT_PROTOCOL```). If the file is absent in the working directory, it is automatically created."
   ],
   "metadata": {}
  },
  {
   "cell_type": "markdown",
   "source": [
    "**Advantages of Dumping the file :**\r\n",
    "- As discussed before, this file can be easily shared with anyone due to its compressed nature and we can easily retrive its data back by unpickling it and load it for further usage."
   ],
   "metadata": {}
  },
  {
   "cell_type": "markdown",
   "source": [
    "### To de-serialize data\r\n",
    "Let's take our arbitrary data from ```mydata.pickle``` file and \"load\" it using pickle."
   ],
   "metadata": {}
  },
  {
   "cell_type": "code",
   "execution_count": 5,
   "source": [
    "datafile = open('mydata.pickle', 'rb')     \r\n",
    "unpickled_data = pickle.load(datafile)\r\n",
    "for keys,items in unpickled_data.items():\r\n",
    "    print(keys, ':', items)\r\n",
    "datafile.close()"
   ],
   "outputs": [
    {
     "output_type": "stream",
     "name": "stdout",
     "text": [
      "area : [2600, 3000, 3200, 3600, 4000, 4100]\n",
      "bedrooms : [3, 4, 4, 3, 5, 6]\n",
      "age : [20, 15, 18, 30, 8, 8]\n",
      "price : [550000, 565000, 610000, 595000, 760000, 810000]\n"
     ]
    }
   ],
   "metadata": {}
  },
  {
   "cell_type": "code",
   "execution_count": 6,
   "source": [
    "for keys,items in data.items():\r\n",
    "    print(keys, ':', items)"
   ],
   "outputs": [
    {
     "output_type": "stream",
     "name": "stdout",
     "text": [
      "area : [2600, 3000, 3200, 3600, 4000, 4100]\n",
      "bedrooms : [3, 4, 4, 3, 5, 6]\n",
      "age : [20, 15, 18, 30, 8, 8]\n",
      "price : [550000, 565000, 610000, 595000, 760000, 810000]\n"
     ]
    }
   ],
   "metadata": {}
  },
  {
   "cell_type": "markdown",
   "source": [
    "As you can clearly observe we have the original data retrieved from the ```mydata.pickle``` file. And it is exactly same as the original ```data```."
   ],
   "metadata": {}
  },
  {
   "cell_type": "markdown",
   "source": [
    "There is little warning though as stated by the official Pickle documentation:\r\n",
    "> Warning: The pickle module is not secure. Only unpickle data you trust.\r\n",
    "\r\n",
    "So incase you're trying to unpickle a file provided by someone, do it with utmost care."
   ],
   "metadata": {}
  },
  {
   "cell_type": "markdown",
   "source": [
    "## Practical Usage\r\n",
    "&emsp;We can use this unpickled data to train a simple Linear Regression Model to predict House Prices! Let's give it a try."
   ],
   "metadata": {}
  },
  {
   "cell_type": "code",
   "execution_count": 10,
   "source": [
    "import pandas as pd\r\n",
    "df = pd.DataFrame(data=unpickled_data)\r\n",
    "df"
   ],
   "outputs": [
    {
     "output_type": "execute_result",
     "data": {
      "text/html": [
       "<div>\n",
       "<style scoped>\n",
       "    .dataframe tbody tr th:only-of-type {\n",
       "        vertical-align: middle;\n",
       "    }\n",
       "\n",
       "    .dataframe tbody tr th {\n",
       "        vertical-align: top;\n",
       "    }\n",
       "\n",
       "    .dataframe thead th {\n",
       "        text-align: right;\n",
       "    }\n",
       "</style>\n",
       "<table border=\"1\" class=\"dataframe\">\n",
       "  <thead>\n",
       "    <tr style=\"text-align: right;\">\n",
       "      <th></th>\n",
       "      <th>area</th>\n",
       "      <th>bedrooms</th>\n",
       "      <th>age</th>\n",
       "      <th>price</th>\n",
       "    </tr>\n",
       "  </thead>\n",
       "  <tbody>\n",
       "    <tr>\n",
       "      <th>0</th>\n",
       "      <td>2600</td>\n",
       "      <td>3</td>\n",
       "      <td>20</td>\n",
       "      <td>550000</td>\n",
       "    </tr>\n",
       "    <tr>\n",
       "      <th>1</th>\n",
       "      <td>3000</td>\n",
       "      <td>4</td>\n",
       "      <td>15</td>\n",
       "      <td>565000</td>\n",
       "    </tr>\n",
       "    <tr>\n",
       "      <th>2</th>\n",
       "      <td>3200</td>\n",
       "      <td>4</td>\n",
       "      <td>18</td>\n",
       "      <td>610000</td>\n",
       "    </tr>\n",
       "    <tr>\n",
       "      <th>3</th>\n",
       "      <td>3600</td>\n",
       "      <td>3</td>\n",
       "      <td>30</td>\n",
       "      <td>595000</td>\n",
       "    </tr>\n",
       "    <tr>\n",
       "      <th>4</th>\n",
       "      <td>4000</td>\n",
       "      <td>5</td>\n",
       "      <td>8</td>\n",
       "      <td>760000</td>\n",
       "    </tr>\n",
       "    <tr>\n",
       "      <th>5</th>\n",
       "      <td>4100</td>\n",
       "      <td>6</td>\n",
       "      <td>8</td>\n",
       "      <td>810000</td>\n",
       "    </tr>\n",
       "  </tbody>\n",
       "</table>\n",
       "</div>"
      ],
      "text/plain": [
       "   area  bedrooms  age   price\n",
       "0  2600         3   20  550000\n",
       "1  3000         4   15  565000\n",
       "2  3200         4   18  610000\n",
       "3  3600         3   30  595000\n",
       "4  4000         5    8  760000\n",
       "5  4100         6    8  810000"
      ]
     },
     "metadata": {},
     "execution_count": 10
    }
   ],
   "metadata": {}
  },
  {
   "cell_type": "code",
   "execution_count": 13,
   "source": [
    "from sklearn.linear_model import LinearRegression\r\n",
    "myMLmodel = LinearRegression()\r\n",
    "myMLmodel.fit(df.drop('price',axis='columns'),df['price'])"
   ],
   "outputs": [
    {
     "output_type": "execute_result",
     "data": {
      "text/plain": [
       "LinearRegression()"
      ]
     },
     "metadata": {},
     "execution_count": 13
    }
   ],
   "metadata": {}
  },
  {
   "cell_type": "code",
   "execution_count": 14,
   "source": [
    "myMLmodel.predict([[3000, 3, 40]])"
   ],
   "outputs": [
    {
     "output_type": "execute_result",
     "data": {
      "text/plain": [
       "array([498408.25158031])"
      ]
     },
     "metadata": {},
     "execution_count": 14
    }
   ],
   "metadata": {}
  },
  {
   "cell_type": "markdown",
   "source": [
    "Talking of practical usage, we can even dump our fitted ML model object to a pickle file and that way we have a ready ML model which need not to be trained again and again."
   ],
   "metadata": {}
  },
  {
   "cell_type": "code",
   "execution_count": 15,
   "source": [
    "with open('myMLmodel.pickle', 'wb') as f:\r\n",
    "    # Pickle the ML model using the highest protocol available.\r\n",
    "    pickle.dump(myMLmodel, f, protocol=pickle.HIGHEST_PROTOCOL)"
   ],
   "outputs": [],
   "metadata": {}
  },
  {
   "cell_type": "markdown",
   "source": [
    "Let's test our theory and see whether our model got serialized or not."
   ],
   "metadata": {}
  },
  {
   "cell_type": "code",
   "execution_count": 16,
   "source": [
    "modelfile = open('myMLmodel.pickle', 'rb')     \r\n",
    "unpickled_MLmodel = pickle.load(modelfile)\r\n",
    "modelfile.close()"
   ],
   "outputs": [],
   "metadata": {}
  },
  {
   "cell_type": "code",
   "execution_count": 17,
   "source": [
    "myMLmodel.predict([[3000, 3, 40]])"
   ],
   "outputs": [
    {
     "output_type": "execute_result",
     "data": {
      "text/plain": [
       "array([498408.25158031])"
      ]
     },
     "metadata": {},
     "execution_count": 17
    }
   ],
   "metadata": {}
  },
  {
   "cell_type": "markdown",
   "source": [
    "Voila! That is how pickling can be helpful to a Data Scientist!"
   ],
   "metadata": {}
  }
 ],
 "metadata": {
  "orig_nbformat": 4,
  "language_info": {
   "name": "python",
   "version": "3.8.8",
   "mimetype": "text/x-python",
   "codemirror_mode": {
    "name": "ipython",
    "version": 3
   },
   "pygments_lexer": "ipython3",
   "nbconvert_exporter": "python",
   "file_extension": ".py"
  },
  "kernelspec": {
   "name": "python3",
   "display_name": "Python 3.8.8 64-bit ('machine_learning': conda)"
  },
  "interpreter": {
   "hash": "f9a8a13bfd7e00e7fb386ec6f1c6b4edcadc73667f0d39dfad81e689aa7f69b2"
  }
 },
 "nbformat": 4,
 "nbformat_minor": 2
}
