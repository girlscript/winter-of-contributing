{
 "cells": [
  {
   "cell_type": "markdown",
   "metadata": {},
   "source": [
    "# Introduction to MySQL with Python"
   ]
  },
  {
   "cell_type": "markdown",
   "metadata": {},
   "source": [
    "## Establishig a connection"
   ]
  },
  {
   "cell_type": "code",
   "execution_count": 1,
   "metadata": {},
   "outputs": [
    {
     "name": "stdout",
     "output_type": "stream",
     "text": [
      "Enter username: root\n",
      "Enter password: ········\n",
      "<mysql.connector.connection_cext.CMySQLConnection object at 0x0000020BA362BBB0>\n"
     ]
    }
   ],
   "source": [
    "from getpass import getpass\n",
    "import mysql.connector\n",
    "\n",
    "mydb = mysql.connector.connect(\n",
    "  host=\"localhost\",\n",
    "  user=input(\"Enter username: \"),\n",
    "  password=getpass(\"Enter password: \"),\n",
    ")\n",
    "print(mydb)"
   ]
  },
  {
   "cell_type": "markdown",
   "metadata": {},
   "source": [
    "## Creating a database"
   ]
  },
  {
   "cell_type": "code",
   "execution_count": 2,
   "metadata": {},
   "outputs": [
    {
     "name": "stdout",
     "output_type": "stream",
     "text": [
      "Enter username: root\n",
      "Enter password: ········\n"
     ]
    }
   ],
   "source": [
    "from getpass import getpass\n",
    "import mysql.connector\n",
    "\n",
    "mydb = mysql.connector.connect(\n",
    "  host=\"localhost\",\n",
    "  user=input(\"Enter username: \"),\n",
    "  password=getpass(\"Enter password: \")\n",
    ")\n",
    "\n",
    "mycursor = mydb.cursor()\n",
    "mycursor.execute(\"CREATE DATABASE new_db\")\n"
   ]
  },
  {
   "cell_type": "code",
   "execution_count": 3,
   "metadata": {},
   "outputs": [
    {
     "name": "stdout",
     "output_type": "stream",
     "text": [
      "Enter username: root\n",
      "Enter password: ········\n",
      "('information_schema',)\n",
      "('mysql',)\n",
      "('new_db',)\n",
      "('performance_schema',)\n",
      "('practice',)\n",
      "('sakila',)\n",
      "('test',)\n"
     ]
    }
   ],
   "source": [
    "#show existing database\n",
    "\n",
    "from getpass import getpass\n",
    "import mysql.connector\n",
    "\n",
    "mydb = mysql.connector.connect(\n",
    "  host=\"localhost\",\n",
    "  user=input(\"Enter username: \"),\n",
    "  password=getpass(\"Enter password: \"),\n",
    "  database=\"new_db\"\n",
    ")\n",
    "\n",
    "mycursor = mydb.cursor()\n",
    "mycursor.execute(\"SHOW DATABASES\")\n",
    "for x in mycursor:\n",
    "  print(x)"
   ]
  },
  {
   "cell_type": "markdown",
   "metadata": {},
   "source": [
    "## Creating a table\n"
   ]
  },
  {
   "cell_type": "code",
   "execution_count": 4,
   "metadata": {},
   "outputs": [
    {
     "name": "stdout",
     "output_type": "stream",
     "text": [
      "Enter username: root\n",
      "Enter password: ········\n"
     ]
    }
   ],
   "source": [
    "from getpass import getpass\n",
    "import mysql.connector\n",
    "\n",
    "mydb = mysql.connector.connect(\n",
    "  host=\"localhost\",\n",
    "  user=input(\"Enter username: \"),\n",
    "  password=getpass(\"Enter password: \"),\n",
    "  database=\"new_db\"\n",
    ")\n",
    "\n",
    "mycursor = mydb.cursor()\n",
    "mycursor.execute(\"CREATE TABLE customers (name VARCHAR(255), address VARCHAR(255))\")\n",
    "\n"
   ]
  },
  {
   "cell_type": "code",
   "execution_count": 5,
   "metadata": {},
   "outputs": [
    {
     "name": "stdout",
     "output_type": "stream",
     "text": [
      "Enter username: root\n",
      "Enter password: ········\n",
      "('customers',)\n"
     ]
    }
   ],
   "source": [
    "#show tables in current database\n",
    "\n",
    "from getpass import getpass\n",
    "import mysql.connector\n",
    "\n",
    "mydb = mysql.connector.connect(\n",
    "  host=\"localhost\",\n",
    "  user=input(\"Enter username: \"),\n",
    "  password=getpass(\"Enter password: \"),\n",
    "  database=\"new_db\"\n",
    ")\n",
    "\n",
    "mycursor = mydb.cursor()\n",
    "mycursor.execute(\"SHOW TABLES\")\n",
    "for x in mycursor:\n",
    "  print(x)\n"
   ]
  },
  {
   "cell_type": "markdown",
   "metadata": {},
   "source": [
    "## Inserting records in Table"
   ]
  },
  {
   "cell_type": "code",
   "execution_count": 6,
   "metadata": {},
   "outputs": [
    {
     "name": "stdout",
     "output_type": "stream",
     "text": [
      "Enter username: root\n",
      "Enter password: ········\n",
      "1 record inserted.\n"
     ]
    }
   ],
   "source": [
    "#inserting a single record\n",
    "from getpass import getpass\n",
    "import mysql.connector\n",
    "\n",
    "mydb = mysql.connector.connect(\n",
    "  host=\"localhost\",\n",
    "  user=input(\"Enter username: \"),\n",
    "  password=getpass(\"Enter password: \"),\n",
    "  database=\"new_db\"\n",
    ")\n",
    "mycursor = mydb.cursor()\n",
    "sql = \"INSERT INTO customers (name, address) VALUES (%s, %s)\"\n",
    "val = (\"John\", \"Highway 21\")\n",
    "mycursor.execute(sql, val)\n",
    "mydb.commit()\n",
    "print(mycursor.rowcount, \"record inserted.\")\n"
   ]
  },
  {
   "cell_type": "code",
   "execution_count": 7,
   "metadata": {},
   "outputs": [
    {
     "name": "stdout",
     "output_type": "stream",
     "text": [
      "Enter username: root\n",
      "Enter password: ········\n",
      "Enter the number of entries you want to add: 4\n",
      "Enter name : Amy\n",
      "Enter address : 4th main, Brooklyn\n",
      "Enter name : Rachel\n",
      "Enter address : Green PArk\n",
      "Enter name : Bob\n",
      "Enter address : Maryand\n",
      "Enter name : Peter\n",
      "Enter address : Queens\n",
      "4 entries were inserted\n"
     ]
    }
   ],
   "source": [
    "#insering multiple records\n",
    "from getpass import getpass\n",
    "import mysql.connector\n",
    "\n",
    "mydb = mysql.connector.connect(\n",
    "  host=\"localhost\",\n",
    "  user=input(\"Enter username: \"),\n",
    "  password=getpass(\"Enter password: \"),\n",
    "  database=\"new_db\"\n",
    ")\n",
    "mycursor = mydb.cursor()\n",
    "sql = \"INSERT INTO customers (name, address) VALUES (%s, %s)\"\n",
    "valu=[]\n",
    "n = int(input(\"Enter the number of entries you want to add: \"))\n",
    "for i in range(n):\n",
    "    name = input(\"Enter name : \")\n",
    "    add = input(\"Enter address : \")\n",
    "    entry = (name,add)\n",
    "    valu.append(entry)\n",
    "\n",
    "mycursor.executemany(sql, valu)\n",
    "mydb.commit()\n",
    "print(n,\"entries were inserted\")"
   ]
  },
  {
   "cell_type": "markdown",
   "metadata": {},
   "source": [
    "## Altering records"
   ]
  },
  {
   "cell_type": "code",
   "execution_count": 8,
   "metadata": {},
   "outputs": [
    {
     "name": "stdout",
     "output_type": "stream",
     "text": [
      "Enter username: root\n",
      "Enter password: ········\n"
     ]
    }
   ],
   "source": [
    "from getpass import getpass\n",
    "import mysql.connector\n",
    "\n",
    "mydb = mysql.connector.connect(\n",
    "  host=\"localhost\",\n",
    "  user=input(\"Enter username: \"),\n",
    "  password=getpass(\"Enter password: \"),\n",
    "  database=\"new_db\"\n",
    ")\n",
    "mycursor = mydb.cursor()\n",
    "mycursor.execute(\"ALTER TABLE customers ADD COLUMN id INT AUTO_INCREMENT PRIMARY KEY\")\n"
   ]
  },
  {
   "cell_type": "markdown",
   "metadata": {},
   "source": [
    "## Reading records"
   ]
  },
  {
   "cell_type": "code",
   "execution_count": 9,
   "metadata": {},
   "outputs": [
    {
     "name": "stdout",
     "output_type": "stream",
     "text": [
      "Enter username: root\n",
      "Enter password: ········\n",
      "('John', 'Highway 21', 1)\n",
      "('Amy', '4th main, Brooklyn', 2)\n",
      "('Rachel', 'Green PArk', 3)\n",
      "('Bob', 'Maryand', 4)\n",
      "('Peter', 'Queens', 5)\n"
     ]
    }
   ],
   "source": [
    "#row wise\n",
    "from getpass import getpass\n",
    "import mysql.connector\n",
    "\n",
    "mydb = mysql.connector.connect(\n",
    "  host=\"localhost\",\n",
    "  user=input(\"Enter username: \"),\n",
    "  password=getpass(\"Enter password: \"),\n",
    "  database=\"new_db\"\n",
    ")\n",
    "\n",
    "mycursor = mydb.cursor()\n",
    "mycursor.execute(\"SELECT * FROM customers\")\n",
    "myresult = mycursor.fetchall()\n",
    "for x in myresult:\n",
    "  print(x)\n"
   ]
  },
  {
   "cell_type": "code",
   "execution_count": 10,
   "metadata": {},
   "outputs": [
    {
     "name": "stdout",
     "output_type": "stream",
     "text": [
      "Enter username: root\n",
      "Enter password: ········\n",
      "('John', 'Highway 21', 1)\n"
     ]
    }
   ],
   "source": [
    "#col wise\n",
    "\n",
    "from getpass import getpass\n",
    "import mysql.connector\n",
    "\n",
    "mydb = mysql.connector.connect(\n",
    "  host=\"localhost\",\n",
    "  user=input(\"Enter username: \"),\n",
    "  password=getpass(\"Enter password: \"),\n",
    "  database=\"new_db\"\n",
    ")\n",
    "mycursor = mydb.cursor()\n",
    "mycursor.execute(\"SELECT * FROM customers\")\n",
    "result = mycursor.fetchone()\n",
    "print(result)\n"
   ]
  },
  {
   "cell_type": "markdown",
   "metadata": {},
   "source": [
    "## Update records"
   ]
  },
  {
   "cell_type": "code",
   "execution_count": 1,
   "metadata": {},
   "outputs": [
    {
     "name": "stdout",
     "output_type": "stream",
     "text": [
      "Enter username: root\n",
      "Enter password: ········\n",
      "1 record(s) affected\n"
     ]
    }
   ],
   "source": [
    "from getpass import getpass\n",
    "import mysql.connector\n",
    "\n",
    "mydb = mysql.connector.connect(\n",
    "  host=\"localhost\",\n",
    "  user=input(\"Enter username: \"),\n",
    "  password=getpass(\"Enter password: \"),\n",
    "  database=\"new_db\"\n",
    ")\n",
    "mycursor = mydb.cursor()\n",
    "sql = \"UPDATE customers SET address = 'Canyon 123' WHERE address = 'Green Park'\"\n",
    "mycursor.execute(sql)\n",
    "mydb.commit()\n",
    "print(mycursor.rowcount, \"record(s) affected\")\n"
   ]
  },
  {
   "cell_type": "markdown",
   "metadata": {},
   "source": [
    "## Sorting "
   ]
  },
  {
   "cell_type": "code",
   "execution_count": 2,
   "metadata": {},
   "outputs": [
    {
     "name": "stdout",
     "output_type": "stream",
     "text": [
      "Enter username: root\n",
      "Enter password: ········\n",
      "('Amy', '4th main, Brooklyn', 2)\n",
      "('Bob', 'Maryand', 4)\n",
      "('John', 'Highway 21', 1)\n",
      "('Peter', 'Queens', 5)\n",
      "('Rachel', 'Canyon 123', 3)\n"
     ]
    }
   ],
   "source": [
    "from getpass import getpass\n",
    "import mysql.connector\n",
    "\n",
    "mydb = mysql.connector.connect(\n",
    "  host=\"localhost\",\n",
    "  user=input(\"Enter username: \"),\n",
    "  password=getpass(\"Enter password: \"),\n",
    "  database=\"new_db\"\n",
    ")\n",
    "\n",
    "mycursor = mydb.cursor()\n",
    "sql = \"SELECT * FROM customers ORDER BY name\"\n",
    "mycursor.execute(sql)\n",
    "myresult = mycursor.fetchall()\n",
    "for x in myresult:\n",
    "  print(x)\n"
   ]
  },
  {
   "cell_type": "code",
   "execution_count": 3,
   "metadata": {},
   "outputs": [
    {
     "name": "stdout",
     "output_type": "stream",
     "text": [
      "Enter username: root\n",
      "Enter password: ········\n",
      "('Rachel', 'Canyon 123', 3)\n",
      "('Peter', 'Queens', 5)\n",
      "('John', 'Highway 21', 1)\n",
      "('Bob', 'Maryand', 4)\n",
      "('Amy', '4th main, Brooklyn', 2)\n"
     ]
    }
   ],
   "source": [
    "#desc order \n",
    "\n",
    "from getpass import getpass\n",
    "import mysql.connector\n",
    "\n",
    "mydb = mysql.connector.connect(\n",
    "  host=\"localhost\",\n",
    "  user=input(\"Enter username: \"),\n",
    "  password=getpass(\"Enter password: \"),\n",
    "  database=\"new_db\"\n",
    ")\n",
    "\n",
    "mycursor = mydb.cursor()\n",
    "sql = \"SELECT * FROM customers ORDER BY name DESC\"\n",
    "mycursor.execute(sql)\n",
    "myresult = mycursor.fetchall()\n",
    "for x in myresult:\n",
    "  print(x)\n"
   ]
  },
  {
   "cell_type": "code",
   "execution_count": 4,
   "metadata": {},
   "outputs": [
    {
     "name": "stdout",
     "output_type": "stream",
     "text": [
      "Enter username: root\n",
      "Enter password: ········\n",
      "('John', 'Highway 21', 1)\n"
     ]
    }
   ],
   "source": [
    "#using wildcards\n",
    "\n",
    "from getpass import getpass\n",
    "import mysql.connector\n",
    "\n",
    "mydb = mysql.connector.connect(\n",
    "  host=\"localhost\",\n",
    "  user=input(\"Enter username: \"),\n",
    "  password=getpass(\"Enter password: \"),\n",
    "  database=\"new_db\"\n",
    ")\n",
    "\n",
    "mycursor = mydb.cursor()\n",
    "sql = \"SELECT * FROM customers WHERE address LIKE '%way%'\"\n",
    "mycursor.execute(sql)\n",
    "myresult = mycursor.fetchall()\n",
    "for x in myresult:\n",
    "  print(x)\n"
   ]
  },
  {
   "cell_type": "markdown",
   "metadata": {},
   "source": [
    "## Deleting"
   ]
  },
  {
   "cell_type": "code",
   "execution_count": 5,
   "metadata": {},
   "outputs": [
    {
     "name": "stdout",
     "output_type": "stream",
     "text": [
      "Enter username: root\n",
      "Enter password: ········\n",
      "0 record(s) deleted\n"
     ]
    }
   ],
   "source": [
    "#deleting record\n",
    "from getpass import getpass\n",
    "import mysql.connector\n",
    "\n",
    "mydb = mysql.connector.connect(\n",
    "  host=\"localhost\",\n",
    "  user=input(\"Enter username: \"),\n",
    "  password=getpass(\"Enter password: \"),\n",
    "  database=\"new_db\"\n",
    ")\n",
    "mycursor = mydb.cursor()\n",
    "sql = \"DELETE FROM customers WHERE address = 'Mountain 21'\"\n",
    "mycursor.execute(sql)\n",
    "mydb.commit()\n",
    "print(mycursor.rowcount, \"record(s) deleted\")\n"
   ]
  },
  {
   "cell_type": "code",
   "execution_count": 6,
   "metadata": {},
   "outputs": [
    {
     "name": "stdout",
     "output_type": "stream",
     "text": [
      "Enter username: root\n",
      "Enter password: ········\n"
     ]
    }
   ],
   "source": [
    "#deleting table\n",
    "from getpass import getpass\n",
    "import mysql.connector\n",
    "\n",
    "mydb = mysql.connector.connect(\n",
    "  host=\"localhost\",\n",
    "  user=input(\"Enter username: \"),\n",
    "  password=getpass(\"Enter password: \"),\n",
    "  database=\"new_db\"\n",
    ")\n",
    "mycursor = mydb.cursor()\n",
    "sql = \"DROP TABLE IF EXISTS customers\"\n",
    "mycursor.execute(sql)\n"
   ]
  },
  {
   "cell_type": "code",
   "execution_count": null,
   "metadata": {},
   "outputs": [],
   "source": []
  }
 ],
 "metadata": {
  "interpreter": {
   "hash": "2c59b0fccee056044a731358c3b084cd56fb09d0080b7ff37dc649b44fff2ece"
  },
  "kernelspec": {
   "display_name": "Python 3",
   "language": "python",
   "name": "python3"
  },
  "language_info": {
   "codemirror_mode": {
    "name": "ipython",
    "version": 3
   },
   "file_extension": ".py",
   "mimetype": "text/x-python",
   "name": "python",
   "nbconvert_exporter": "python",
   "pygments_lexer": "ipython3",
   "version": "3.8.8"
  }
 },
 "nbformat": 4,
 "nbformat_minor": 2
}
