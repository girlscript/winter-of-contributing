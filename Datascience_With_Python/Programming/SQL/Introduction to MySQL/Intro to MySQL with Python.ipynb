{
 "cells": [
  {
   "cell_type": "markdown",
   "metadata": {},
   "source": [
    "# Introduction to MySQL with Python"
   ]
  },
  {
   "cell_type": "markdown",
   "metadata": {},
   "source": [
    "## Installing MySQL connector/driver"
   ]
  },
  {
   "cell_type": "markdown",
   "metadata": {},
   "source": [
    "A Python MySQL connector needs to be installed to interact with a MySQL database. This can be done by executing the below mentioned command in the python terminal. \n",
    "\n",
    "```python3\n",
    "pip install mysql-connector-python\n",
    "```"
   ]
  },
  {
   "cell_type": "markdown",
   "metadata": {},
   "source": [
    "To check if it is installed :"
   ]
  },
  {
   "cell_type": "code",
   "execution_count": null,
   "metadata": {},
   "outputs": [],
   "source": [
    "import mysql.connector"
   ]
  },
  {
   "cell_type": "markdown",
   "metadata": {},
   "source": [
    "## Establishig a connection\n",
    "\n",
    "\n",
    "To interact with a database, a connection must be establish with the server. This can be done by the connect() from the mysql.connector module. This function takes in parameters like host, user, and password and returns a MySQLConnection object. These credentials  can be recieved as input from the user or directly entered in the code, and are then passed to connect(). The code for the same is given below: "
   ]
  },
  {
   "cell_type": "code",
   "execution_count": 1,
   "metadata": {},
   "outputs": [
    {
     "name": "stdout",
     "output_type": "stream",
     "text": [
      "Enter username: root\n",
      "Enter password: ········\n",
      "<mysql.connector.connection_cext.CMySQLConnection object at 0x0000020BA362BBB0>\n"
     ]
    }
   ],
   "source": [
    "from getpass import getpass\n",
    "import mysql.connector\n",
    "\n",
    "mydb = mysql.connector.connect(\n",
    "  host=\"localhost\",\n",
    "  user=input(\"Enter username: \"),\n",
    "  password=getpass(\"Enter password: \"),\n",
    ")\n",
    "print(mydb)"
   ]
  },
  {
   "cell_type": "markdown",
   "metadata": {},
   "source": [
    "- The above code uses the entered login credentials to establish a connection with the MySQL server. A MySQLConnection object is created, which is stored in the connection variable. This variable will be used to access the MySQL server.\n",
    "<br>\n",
    "\n",
    "- Always close the connection after you’re done accessing the database. Leaving unused open connections can lead to several unexpected errors and performance issues.\n",
    "<br>\n",
    "\n",
    "- <b>Tip</b> : Never hard-code your login credentials,i.e, your username and password, directly in a Python script. This is not a good practice for deployment and is a serious security threat. \n",
    "<br>\n",
    "\n",
    "- The above code prompts the user for login credentials. The built-in getpass module is used to hide the password. "
   ]
  },
  {
   "cell_type": "markdown",
   "metadata": {},
   "source": [
    "## Creating a database"
   ]
  },
  {
   "cell_type": "markdown",
   "metadata": {},
   "source": [
    "To create a new database, you need to pass the query to cursor.execute(), which accepts a MySQL query and executes the query on the connected MySQL database:"
   ]
  },
  {
   "cell_type": "code",
   "execution_count": 2,
   "metadata": {},
   "outputs": [
    {
     "name": "stdout",
     "output_type": "stream",
     "text": [
      "Enter username: root\n",
      "Enter password: ········\n"
     ]
    }
   ],
   "source": [
    "from getpass import getpass\n",
    "import mysql.connector\n",
    "\n",
    "mydb = mysql.connector.connect(\n",
    "  host=\"localhost\",\n",
    "  user=input(\"Enter username: \"),\n",
    "  password=getpass(\"Enter password: \")\n",
    ")\n",
    "\n",
    "mycursor = mydb.cursor()\n",
    "mycursor.execute(\"CREATE DATABASE new_db\")\n"
   ]
  },
  {
   "cell_type": "markdown",
   "metadata": {},
   "source": [
    "### Show existing databases\n",
    "\n",
    "To view the list of existing databases, the code given below can be used: "
   ]
  },
  {
   "cell_type": "code",
   "execution_count": 3,
   "metadata": {},
   "outputs": [
    {
     "name": "stdout",
     "output_type": "stream",
     "text": [
      "Enter username: root\n",
      "Enter password: ········\n",
      "('information_schema',)\n",
      "('mysql',)\n",
      "('new_db',)\n",
      "('performance_schema',)\n",
      "('practice',)\n",
      "('sakila',)\n",
      "('test',)\n"
     ]
    }
   ],
   "source": [
    "#show existing database\n",
    "\n",
    "from getpass import getpass\n",
    "import mysql.connector\n",
    "\n",
    "mydb = mysql.connector.connect(\n",
    "  host=\"localhost\",\n",
    "  user=input(\"Enter username: \"),\n",
    "  password=getpass(\"Enter password: \"),\n",
    "  database=\"new_db\"\n",
    ")\n",
    "\n",
    "mycursor = mydb.cursor()\n",
    "mycursor.execute(\"SHOW DATABASES\")\n",
    "for x in mycursor:\n",
    "  print(x)"
   ]
  },
  {
   "cell_type": "markdown",
   "metadata": {},
   "source": [
    "## Creating a table\n"
   ]
  },
  {
   "cell_type": "code",
   "execution_count": 4,
   "metadata": {},
   "outputs": [
    {
     "name": "stdout",
     "output_type": "stream",
     "text": [
      "Enter username: root\n",
      "Enter password: ········\n"
     ]
    }
   ],
   "source": [
    "from getpass import getpass\n",
    "import mysql.connector\n",
    "\n",
    "mydb = mysql.connector.connect(\n",
    "  host=\"localhost\",\n",
    "  user=input(\"Enter username: \"),\n",
    "  password=getpass(\"Enter password: \"),\n",
    "  database=\"new_db\"\n",
    ")\n",
    "\n",
    "mycursor = mydb.cursor()\n",
    "mycursor.execute(\"CREATE TABLE customers (name VARCHAR(255), address VARCHAR(255))\")\n",
    "\n"
   ]
  },
  {
   "cell_type": "markdown",
   "metadata": {},
   "source": [
    "### Show all the tables in the current database\n",
    "A list of all the tables in the database can be shown by executing the \"SHOW TABLES\" query, as follows:  "
   ]
  },
  {
   "cell_type": "code",
   "execution_count": 5,
   "metadata": {},
   "outputs": [
    {
     "name": "stdout",
     "output_type": "stream",
     "text": [
      "Enter username: root\n",
      "Enter password: ········\n",
      "('customers',)\n"
     ]
    }
   ],
   "source": [
    "from getpass import getpass\n",
    "import mysql.connector\n",
    "\n",
    "mydb = mysql.connector.connect(\n",
    "  host=\"localhost\",\n",
    "  user=input(\"Enter username: \"),\n",
    "  password=getpass(\"Enter password: \"),\n",
    "  database=\"new_db\"\n",
    ")\n",
    "\n",
    "mycursor = mydb.cursor()\n",
    "mycursor.execute(\"SHOW TABLES\")\n",
    "for x in mycursor:\n",
    "  print(x)\n"
   ]
  },
  {
   "cell_type": "markdown",
   "metadata": {},
   "source": [
    "## Inserting records in Table"
   ]
  },
  {
   "cell_type": "markdown",
   "metadata": {},
   "source": [
    "### Inserting a Single Record\n",
    "\n",
    "To insert data, write the INSERT INTO query in a string and pass it to mydb.execute()."
   ]
  },
  {
   "cell_type": "code",
   "execution_count": 6,
   "metadata": {},
   "outputs": [
    {
     "name": "stdout",
     "output_type": "stream",
     "text": [
      "Enter username: root\n",
      "Enter password: ········\n",
      "1 record inserted.\n"
     ]
    }
   ],
   "source": [
    "#inserting a single record\n",
    "from getpass import getpass\n",
    "import mysql.connector\n",
    "\n",
    "mydb = mysql.connector.connect(\n",
    "  host=\"localhost\",\n",
    "  user=input(\"Enter username: \"),\n",
    "  password=getpass(\"Enter password: \"),\n",
    "  database=\"new_db\"\n",
    ")\n",
    "mycursor = mydb.cursor()\n",
    "sql = \"INSERT INTO customers (name, address) VALUES (%s, %s)\"\n",
    "val = (\"John\", \"Highway 21\")\n",
    "mycursor.execute(sql, val)\n",
    "mydb.commit()\n",
    "print(mycursor.rowcount, \"record inserted.\")\n"
   ]
  },
  {
   "cell_type": "markdown",
   "metadata": {},
   "source": [
    "<u>The mydb.commit() </u>statement at the end of the code - By default, MySQL connector doesn’t autocommit transactions. In MySQL, modifications mentioned in a transaction occur only when you use a COMMIT command in the end. Always call this method after every transaction to perform changes in the actual table."
   ]
  },
  {
   "cell_type": "markdown",
   "metadata": {},
   "source": [
    "### Inserting Multiple Records\n",
    "\n",
    "To insert multiple rows in a table <i> executmany()</i> is used. The second parameter in executmany() is a list of tuples consisting the data to be inserted."
   ]
  },
  {
   "cell_type": "code",
   "execution_count": 7,
   "metadata": {},
   "outputs": [
    {
     "name": "stdout",
     "output_type": "stream",
     "text": [
      "Enter username: root\n",
      "Enter password: ········\n",
      "Enter the number of entries you want to add: 4\n",
      "Enter name : Amy\n",
      "Enter address : 4th main, Brooklyn\n",
      "Enter name : Rachel\n",
      "Enter address : Green PArk\n",
      "Enter name : Bob\n",
      "Enter address : Maryand\n",
      "Enter name : Peter\n",
      "Enter address : Queens\n",
      "4 entries were inserted\n"
     ]
    }
   ],
   "source": [
    "#insering multiple records\n",
    "from getpass import getpass\n",
    "import mysql.connector\n",
    "\n",
    "mydb = mysql.connector.connect(\n",
    "  host=\"localhost\",\n",
    "  user=input(\"Enter username: \"),\n",
    "  password=getpass(\"Enter password: \"),\n",
    "  database=\"new_db\"\n",
    ")\n",
    "mycursor = mydb.cursor()\n",
    "sql = \"INSERT INTO customers (name, address) VALUES (%s, %s)\"\n",
    "valu=[]\n",
    "n = int(input(\"Enter the number of entries you want to add: \"))\n",
    "for i in range(n):\n",
    "    name = input(\"Enter name : \")\n",
    "    add = input(\"Enter address : \")\n",
    "    entry = (name,add)\n",
    "    valu.append(entry)\n",
    "\n",
    "mycursor.executemany(sql, valu)\n",
    "mydb.commit()\n",
    "print(n,\"entries were inserted\")"
   ]
  },
  {
   "cell_type": "markdown",
   "metadata": {},
   "source": [
    "### Display ID of inserted Records\n",
    "\n",
    "To display the position of the inserted row, this line can be added at the end while inserting records. It will show the position where the data is inserted. \n",
    "\n",
    "```.py\n",
    "print(\"1 record inserted, ID:\", mycursor.lastrowid)\n",
    "```\n",
    "If mltiple entries are being made, then this will show the id of the last entry made in the table.\n"
   ]
  },
  {
   "cell_type": "markdown",
   "metadata": {},
   "source": [
    "## Altering records in a Table\n",
    "\n",
    "Altering a table to create a primary key in an already existing table."
   ]
  },
  {
   "cell_type": "code",
   "execution_count": 8,
   "metadata": {},
   "outputs": [
    {
     "name": "stdout",
     "output_type": "stream",
     "text": [
      "Enter username: root\n",
      "Enter password: ········\n"
     ]
    }
   ],
   "source": [
    "from getpass import getpass\n",
    "import mysql.connector\n",
    "\n",
    "mydb = mysql.connector.connect(\n",
    "  host=\"localhost\",\n",
    "  user=input(\"Enter username: \"),\n",
    "  password=getpass(\"Enter password: \"),\n",
    "  database=\"new_db\"\n",
    ")\n",
    "mycursor = mydb.cursor()\n",
    "mycursor.execute(\"ALTER TABLE customers ADD COLUMN id INT AUTO_INCREMENT PRIMARY KEY\")\n"
   ]
  },
  {
   "cell_type": "markdown",
   "metadata": {},
   "source": [
    "## Reading records in a Table"
   ]
  },
  {
   "cell_type": "markdown",
   "metadata": {},
   "source": [
    "### Reading multiple records "
   ]
  },
  {
   "cell_type": "code",
   "execution_count": 9,
   "metadata": {},
   "outputs": [
    {
     "name": "stdout",
     "output_type": "stream",
     "text": [
      "Enter username: root\n",
      "Enter password: ········\n",
      "('John', 'Highway 21', 1)\n",
      "('Amy', '4th main, Brooklyn', 2)\n",
      "('Rachel', 'Green PArk', 3)\n",
      "('Bob', 'Maryand', 4)\n",
      "('Peter', 'Queens', 5)\n"
     ]
    }
   ],
   "source": [
    "from getpass import getpass\n",
    "import mysql.connector\n",
    "\n",
    "mydb = mysql.connector.connect(\n",
    "  host=\"localhost\",\n",
    "  user=input(\"Enter username: \"),\n",
    "  password=getpass(\"Enter password: \"),\n",
    "  database=\"new_db\"\n",
    ")\n",
    "\n",
    "mycursor = mydb.cursor()\n",
    "mycursor.execute(\"SELECT * FROM customers\")\n",
    "myresult = mycursor.fetchall()\n",
    "for x in myresult:\n",
    "  print(x)\n"
   ]
  },
  {
   "cell_type": "markdown",
   "metadata": {},
   "source": [
    "Here, the .fetchall() method is used to fetch all the rows from the executed statement."
   ]
  },
  {
   "cell_type": "markdown",
   "metadata": {},
   "source": [
    "### Reading a single record"
   ]
  },
  {
   "cell_type": "code",
   "execution_count": 10,
   "metadata": {},
   "outputs": [
    {
     "name": "stdout",
     "output_type": "stream",
     "text": [
      "Enter username: root\n",
      "Enter password: ········\n",
      "('John', 'Highway 21', 1)\n"
     ]
    }
   ],
   "source": [
    "from getpass import getpass\n",
    "import mysql.connector\n",
    "\n",
    "mydb = mysql.connector.connect(\n",
    "  host=\"localhost\",\n",
    "  user=input(\"Enter username: \"),\n",
    "  password=getpass(\"Enter password: \"),\n",
    "  database=\"new_db\"\n",
    ")\n",
    "mycursor = mydb.cursor()\n",
    "mycursor.execute(\"SELECT * FROM customers\")\n",
    "result = mycursor.fetchone()\n",
    "print(result)\n"
   ]
  },
  {
   "cell_type": "markdown",
   "metadata": {},
   "source": [
    "Here, the .fetchone() method is used to return one row or a single record at a time."
   ]
  },
  {
   "cell_type": "markdown",
   "metadata": {},
   "source": [
    "## Updating records in a Table"
   ]
  },
  {
   "cell_type": "code",
   "execution_count": 1,
   "metadata": {},
   "outputs": [
    {
     "name": "stdout",
     "output_type": "stream",
     "text": [
      "Enter username: root\n",
      "Enter password: ········\n",
      "1 record(s) affected\n"
     ]
    }
   ],
   "source": [
    "from getpass import getpass\n",
    "import mysql.connector\n",
    "\n",
    "mydb = mysql.connector.connect(\n",
    "  host=\"localhost\",\n",
    "  user=input(\"Enter username: \"),\n",
    "  password=getpass(\"Enter password: \"),\n",
    "  database=\"new_db\"\n",
    ")\n",
    "mycursor = mydb.cursor()\n",
    "sql = \"UPDATE customers SET address = 'Canyon 123' WHERE address = 'Green Park'\"\n",
    "mycursor.execute(sql)\n",
    "mydb.commit()\n",
    "print(mycursor.rowcount, \"record(s) affected\")\n"
   ]
  },
  {
   "cell_type": "markdown",
   "metadata": {},
   "source": [
    "## Sorting records in a Table"
   ]
  },
  {
   "cell_type": "code",
   "execution_count": 2,
   "metadata": {},
   "outputs": [
    {
     "name": "stdout",
     "output_type": "stream",
     "text": [
      "Enter username: root\n",
      "Enter password: ········\n",
      "('Amy', '4th main, Brooklyn', 2)\n",
      "('Bob', 'Maryand', 4)\n",
      "('John', 'Highway 21', 1)\n",
      "('Peter', 'Queens', 5)\n",
      "('Rachel', 'Canyon 123', 3)\n"
     ]
    }
   ],
   "source": [
    "from getpass import getpass\n",
    "import mysql.connector\n",
    "\n",
    "mydb = mysql.connector.connect(\n",
    "  host=\"localhost\",\n",
    "  user=input(\"Enter username: \"),\n",
    "  password=getpass(\"Enter password: \"),\n",
    "  database=\"new_db\"\n",
    ")\n",
    "\n",
    "mycursor = mydb.cursor()\n",
    "sql = \"SELECT * FROM customers ORDER BY name\"\n",
    "mycursor.execute(sql)\n",
    "myresult = mycursor.fetchall()\n",
    "for x in myresult:\n",
    "  print(x)\n"
   ]
  },
  {
   "cell_type": "markdown",
   "metadata": {},
   "source": [
    "In the above code if we write, \n",
    "```\n",
    "sql = \"SELECT * FROM customers ORDER BY name DESC\"\n",
    "```\n",
    "the records will be shown in Descending order by name. As shown below: "
   ]
  },
  {
   "cell_type": "code",
   "execution_count": 3,
   "metadata": {},
   "outputs": [
    {
     "name": "stdout",
     "output_type": "stream",
     "text": [
      "Enter username: root\n",
      "Enter password: ········\n",
      "('Rachel', 'Canyon 123', 3)\n",
      "('Peter', 'Queens', 5)\n",
      "('John', 'Highway 21', 1)\n",
      "('Bob', 'Maryand', 4)\n",
      "('Amy', '4th main, Brooklyn', 2)\n"
     ]
    }
   ],
   "source": [
    "#desc order \n",
    "\n",
    "from getpass import getpass\n",
    "import mysql.connector\n",
    "\n",
    "mydb = mysql.connector.connect(\n",
    "  host=\"localhost\",\n",
    "  user=input(\"Enter username: \"),\n",
    "  password=getpass(\"Enter password: \"),\n",
    "  database=\"new_db\"\n",
    ")\n",
    "\n",
    "mycursor = mydb.cursor()\n",
    "sql = \"SELECT * FROM customers ORDER BY name DESC\"\n",
    "mycursor.execute(sql)\n",
    "myresult = mycursor.fetchall()\n",
    "for x in myresult:\n",
    "  print(x)\n"
   ]
  },
  {
   "cell_type": "markdown",
   "metadata": {},
   "source": [
    "If we write , \n",
    "```\n",
    "sql = \"SELECT * FROM customers WHERE address LIKE '%way%'\"\n",
    "```\n",
    "those records will be shown where the address conatians \"way\" in it."
   ]
  },
  {
   "cell_type": "code",
   "execution_count": 4,
   "metadata": {},
   "outputs": [
    {
     "name": "stdout",
     "output_type": "stream",
     "text": [
      "Enter username: root\n",
      "Enter password: ········\n",
      "('John', 'Highway 21', 1)\n"
     ]
    }
   ],
   "source": [
    "#using wildcards\n",
    "\n",
    "from getpass import getpass\n",
    "import mysql.connector\n",
    "\n",
    "mydb = mysql.connector.connect(\n",
    "  host=\"localhost\",\n",
    "  user=input(\"Enter username: \"),\n",
    "  password=getpass(\"Enter password: \"),\n",
    "  database=\"new_db\"\n",
    ")\n",
    "\n",
    "mycursor = mydb.cursor()\n",
    "sql = \"SELECT * FROM customers WHERE address LIKE '%way%'\"\n",
    "mycursor.execute(sql)\n",
    "myresult = mycursor.fetchall()\n",
    "for x in myresult:\n",
    "  print(x)\n"
   ]
  },
  {
   "cell_type": "markdown",
   "metadata": {},
   "source": [
    "## Deleting "
   ]
  },
  {
   "cell_type": "markdown",
   "metadata": {},
   "source": [
    "### Deleting a Record "
   ]
  },
  {
   "cell_type": "code",
   "execution_count": 5,
   "metadata": {},
   "outputs": [
    {
     "name": "stdout",
     "output_type": "stream",
     "text": [
      "Enter username: root\n",
      "Enter password: ········\n",
      "0 record(s) deleted\n"
     ]
    }
   ],
   "source": [
    "#deleting record\n",
    "from getpass import getpass\n",
    "import mysql.connector\n",
    "\n",
    "mydb = mysql.connector.connect(\n",
    "  host=\"localhost\",\n",
    "  user=input(\"Enter username: \"),\n",
    "  password=getpass(\"Enter password: \"),\n",
    "  database=\"new_db\"\n",
    ")\n",
    "mycursor = mydb.cursor()\n",
    "sql = \"DELETE FROM customers WHERE address = 'Mountain 21'\"\n",
    "mycursor.execute(sql)\n",
    "mydb.commit()\n",
    "print(mycursor.rowcount, \"record(s) deleted\")\n"
   ]
  },
  {
   "cell_type": "markdown",
   "metadata": {},
   "source": [
    "### Dropping a table if it exists"
   ]
  },
  {
   "cell_type": "code",
   "execution_count": 6,
   "metadata": {},
   "outputs": [
    {
     "name": "stdout",
     "output_type": "stream",
     "text": [
      "Enter username: root\n",
      "Enter password: ········\n"
     ]
    }
   ],
   "source": [
    "#drop\n",
    "from getpass import getpass\n",
    "import mysql.connector\n",
    "\n",
    "mydb = mysql.connector.connect(\n",
    "  host=\"localhost\",\n",
    "  user=input(\"Enter username: \"),\n",
    "  password=getpass(\"Enter password: \"),\n",
    "  database=\"new_db\"\n",
    ")\n",
    "mycursor = mydb.cursor()\n",
    "sql = \"DROP TABLE IF EXISTS customers\"\n",
    "mycursor.execute(sql)\n"
   ]
  },
  {
   "cell_type": "code",
   "execution_count": null,
   "metadata": {},
   "outputs": [],
   "source": []
  }
 ],
 "metadata": {
  "interpreter": {
   "hash": "2c59b0fccee056044a731358c3b084cd56fb09d0080b7ff37dc649b44fff2ece"
  },
  "kernelspec": {
   "display_name": "Python 3",
   "language": "python",
   "name": "python3"
  },
  "language_info": {
   "codemirror_mode": {
    "name": "ipython",
    "version": 3
   },
   "file_extension": ".py",
   "mimetype": "text/x-python",
   "name": "python",
   "nbconvert_exporter": "python",
   "pygments_lexer": "ipython3",
   "version": "3.8.8"
  }
 },
 "nbformat": 4,
 "nbformat_minor": 2
}
