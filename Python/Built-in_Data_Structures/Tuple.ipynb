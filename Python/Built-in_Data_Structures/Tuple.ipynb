{
  "nbformat": 4,
  "nbformat_minor": 0,
  "metadata": {
    "colab": {
      "name": "Tuple.ipynb",
      "provenance": [],
      "collapsed_sections": []
    },
    "kernelspec": {
      "name": "python3",
      "display_name": "Python 3"
    },
    "language_info": {
      "name": "python"
    }
  },
  "cells": [
    {
      "cell_type": "markdown",
      "metadata": {
        "id": "aeR808eVKBx_"
      },
      "source": [
        "# TUPLE\n",
        "Tuple is one of the built-in datatype, used to store collections of data. Tuples are representated by{}. \n",
        "\n",
        "* Tuple items are **ordered** i.e. indexing can be done.\n",
        "* Tuples are **unchangeable** or **immutable** i.e. we can't change it's items.\n",
        "```\n",
        "example_of_Tuple = (1, True, \"David\")\n",
        "```"
      ]
    },
    {
      "cell_type": "code",
      "metadata": {
        "id": "N5wFmQBoS6ar",
        "colab": {
          "base_uri": "https://localhost:8080/"
        },
        "outputId": "0e9f5114-e26b-4f9a-f69f-e3b258e98d91"
      },
      "source": [
        "# Tuples Can be created by\n",
        "Tuple1 = (1, 2, 3, \"Hello\", False)\n",
        "Tuple2 = tuple([1, 2, \"World\", 3, 4, True, 5])\n",
        "print('This is Tuple 1 : ',Tuple1)\n",
        "print('This is Tuple 2 : ',Tuple2)"
      ],
      "execution_count": null,
      "outputs": [
        {
          "output_type": "stream",
          "name": "stdout",
          "text": [
            "This is Tuple 1 :  (1, 2, 3, 'Hello', False)\n",
            "This is Tuple 2 :  (1, 2, 'World', 3, 4, True, 5)\n"
          ]
        }
      ]
    },
    {
      "cell_type": "code",
      "metadata": {
        "id": "lqGgjMNhRpEE",
        "colab": {
          "base_uri": "https://localhost:8080/"
        },
        "outputId": "630b2a97-3a7a-4e02-fd63-b9eb7bfc4077"
      },
      "source": [
        "# Tuple items are ordered \n",
        "Tuple1 = (1, 10, -3, False, \"david\", 100, 'john')\n",
        "print(Tuple1)         \n",
        "print(Tuple1[2:5])    "
      ],
      "execution_count": null,
      "outputs": [
        {
          "output_type": "stream",
          "name": "stdout",
          "text": [
            "(1, 10, -3, False, 'david', 100, 'john')\n",
            "(-3, False, 'david')\n"
          ]
        }
      ]
    },
    {
      "cell_type": "code",
      "metadata": {
        "id": "6FdlOTdzWf9z",
        "colab": {
          "base_uri": "https://localhost:8080/",
          "height": 221
        },
        "outputId": "1d2fdbf7-3eaf-42b3-e365-84c0bfa7ce65"
      },
      "source": [
        "# Tuples are unchangeable :- if er try to change its item it will give error\n",
        "Tuple1 = (1, 10, -3, False, \"david\", 100, 'john')\n",
        "Tuple1[3] = 5  # run this to see that it will give error\n",
        "print(Tuple1)"
      ],
      "execution_count": null,
      "outputs": [
        {
          "output_type": "error",
          "ename": "TypeError",
          "evalue": "ignored",
          "traceback": [
            "\u001b[0;31m---------------------------------------------------------------------------\u001b[0m",
            "\u001b[0;31mTypeError\u001b[0m                                 Traceback (most recent call last)",
            "\u001b[0;32m<ipython-input-19-4c05f3bedb89>\u001b[0m in \u001b[0;36m<module>\u001b[0;34m()\u001b[0m\n\u001b[1;32m      1\u001b[0m \u001b[0;31m# Tuples are unchangeable :- if er try to change its item it will give error\u001b[0m\u001b[0;34m\u001b[0m\u001b[0;34m\u001b[0m\u001b[0;34m\u001b[0m\u001b[0m\n\u001b[1;32m      2\u001b[0m \u001b[0mTuple1\u001b[0m \u001b[0;34m=\u001b[0m \u001b[0;34m(\u001b[0m\u001b[0;36m1\u001b[0m\u001b[0;34m,\u001b[0m \u001b[0;36m10\u001b[0m\u001b[0;34m,\u001b[0m \u001b[0;34m-\u001b[0m\u001b[0;36m3\u001b[0m\u001b[0;34m,\u001b[0m \u001b[0;32mFalse\u001b[0m\u001b[0;34m,\u001b[0m \u001b[0;34m\"david\"\u001b[0m\u001b[0;34m,\u001b[0m \u001b[0;36m100\u001b[0m\u001b[0;34m,\u001b[0m \u001b[0;34m'john'\u001b[0m\u001b[0;34m)\u001b[0m\u001b[0;34m\u001b[0m\u001b[0;34m\u001b[0m\u001b[0m\n\u001b[0;32m----> 3\u001b[0;31m \u001b[0mTuple1\u001b[0m\u001b[0;34m[\u001b[0m\u001b[0;36m3\u001b[0m\u001b[0;34m]\u001b[0m \u001b[0;34m=\u001b[0m \u001b[0;36m5\u001b[0m  \u001b[0;31m# run this to see that it will give error\u001b[0m\u001b[0;34m\u001b[0m\u001b[0;34m\u001b[0m\u001b[0m\n\u001b[0m\u001b[1;32m      4\u001b[0m \u001b[0mprint\u001b[0m\u001b[0;34m(\u001b[0m\u001b[0mTuple1\u001b[0m\u001b[0;34m)\u001b[0m\u001b[0;34m\u001b[0m\u001b[0;34m\u001b[0m\u001b[0m\n",
            "\u001b[0;31mTypeError\u001b[0m: 'tuple' object does not support item assignment"
          ]
        }
      ]
    },
    {
      "cell_type": "markdown",
      "metadata": {
        "id": "aFmQUizZ2RnL"
      },
      "source": [
        "# Types Of tuple\n",
        "* Empty Tuple\n",
        "* Tuple with mixed datatypes\n",
        "* Nested tuple\n"
      ]
    },
    {
      "cell_type": "code",
      "metadata": {
        "colab": {
          "base_uri": "https://localhost:8080/"
        },
        "id": "F61noGJc3f99",
        "outputId": "29d64aa7-4fa1-4f8f-e10a-2e04f5cedd1a"
      },
      "source": [
        "# Empty tuple\n",
        "tuple1 = ()\n",
        "print('Example of empty tuple :',tuple1)"
      ],
      "execution_count": 2,
      "outputs": [
        {
          "output_type": "stream",
          "name": "stdout",
          "text": [
            "Example of empty tuple : ()\n"
          ]
        }
      ]
    },
    {
      "cell_type": "code",
      "metadata": {
        "colab": {
          "base_uri": "https://localhost:8080/"
        },
        "id": "kv4GS2-a3zAo",
        "outputId": "19d9ad36-ee1d-4e1d-9b86-1354f72d4561"
      },
      "source": [
        "# Tuple with mixed datatypes\n",
        "tuple1 = (1, 0.3, 'a', -5, True)\n",
        "print('Example of Tuple with mixed datatypes :',tuple1)"
      ],
      "execution_count": 3,
      "outputs": [
        {
          "output_type": "stream",
          "name": "stdout",
          "text": [
            "Example of Tuple with mixed datatypes : (1, 0.3, 'a', -5, True)\n"
          ]
        }
      ]
    },
    {
      "cell_type": "code",
      "metadata": {
        "colab": {
          "base_uri": "https://localhost:8080/"
        },
        "id": "X1C7fzM34b4m",
        "outputId": "a796c961-618e-4c3a-d20c-20ceebeca701"
      },
      "source": [
        "# Nested Tuple\n",
        "tuple1 = (1, 2, (6, 7, 8), 0)\n",
        "print('Example of Nested Tuple :',tuple1)"
      ],
      "execution_count": 4,
      "outputs": [
        {
          "output_type": "stream",
          "name": "stdout",
          "text": [
            "Example of Nested Tuple : (1, 2, (6, 7, 8), 0)\n"
          ]
        }
      ]
    },
    {
      "cell_type": "markdown",
      "metadata": {
        "id": "lmsuJ-5AYID8"
      },
      "source": [
        "# Use of len() and type() function \n",
        "* **len()** is used to get the length of Tuple.\n",
        "* Tuples are defined as objects with the data type 'Tuple' for checking the type of variable we use **type()**."
      ]
    },
    {
      "cell_type": "code",
      "metadata": {
        "id": "77MBHM8RZPqr",
        "colab": {
          "base_uri": "https://localhost:8080/"
        },
        "outputId": "4200bd8f-ccdf-4761-a052-45d261246d4f"
      },
      "source": [
        "# Use of len() function\n",
        "Tuple2 = tuple([1, 1, 1, 2, 2, 3, 3, 3, 4, 'david', 'alex', False])\n",
        "length = len(Tuple2)\n",
        "print(Tuple2,'has',length,'items')"
      ],
      "execution_count": null,
      "outputs": [
        {
          "output_type": "stream",
          "name": "stdout",
          "text": [
            "(1, 1, 1, 2, 2, 3, 3, 3, 4, 'david', 'alex', False) has 12 items\n"
          ]
        }
      ]
    },
    {
      "cell_type": "code",
      "metadata": {
        "id": "ke4LPpWkaAvt",
        "colab": {
          "base_uri": "https://localhost:8080/"
        },
        "outputId": "a78c5307-2d91-463d-a32d-866144bbd323"
      },
      "source": [
        "# Use of type() function\n",
        "Tuple2 = tuple([1, 1, 1, 2, 2, 3, 3, 3, 4, 'david', 'alex', False])\n",
        "print(type(Tuple2))"
      ],
      "execution_count": null,
      "outputs": [
        {
          "output_type": "stream",
          "name": "stdout",
          "text": [
            "<class 'tuple'>\n"
          ]
        }
      ]
    },
    {
      "cell_type": "markdown",
      "metadata": {
        "id": "jTfGS00BRVi3"
      },
      "source": [
        "# Accessing items in Tuple\n",
        "We can access the items of tuple by indexing.\n",
        "\n",
        "Syntax : tuple[start,end,jump]"
      ]
    },
    {
      "cell_type": "code",
      "metadata": {
        "colab": {
          "base_uri": "https://localhost:8080/"
        },
        "id": "xQVAoAD7R6xD",
        "outputId": "240c0cd9-4012-4b9c-8a91-62c302c287f0"
      },
      "source": [
        "tuple1=(1,2,3,'Hello World')\n",
        "print('Tuple is :',tuple1)\n",
        "\n",
        "print('1st item of Tuple is :',tuple1[0])   #indexing always start from 0\n",
        "print('2nd-4th item of Tuple is :',tuple1[1::])\n",
        "print('Reverse of Tuple',tuple1[::-1])\n",
        "print('We can do internal indexing also :',tuple1[3][0:5])"
      ],
      "execution_count": 6,
      "outputs": [
        {
          "output_type": "stream",
          "name": "stdout",
          "text": [
            "Tuple is : (1, 2, 3, 'Hello World')\n",
            "1st item of Tuple is : 1\n",
            "2nd-4th item of Tuple is : (2, 3, 'Hello World')\n",
            "Reverse of Tuple ('Hello World', 3, 2, 1)\n",
            "We can do internal indexing also : Hello\n"
          ]
        }
      ]
    },
    {
      "cell_type": "markdown",
      "metadata": {
        "id": "-i4sqe596aon"
      },
      "source": [
        "# Unpacking a Tuple\n",
        "We can also unpack a tuple -"
      ]
    },
    {
      "cell_type": "code",
      "metadata": {
        "colab": {
          "base_uri": "https://localhost:8080/"
        },
        "id": "jbzskWDu6kh2",
        "outputId": "50cbf850-ac2a-4422-8c9e-e337280f9542"
      },
      "source": [
        "tuple1 = (1, 2, 3)\n",
        "a,b,c = tuple1\n",
        "print(a,b,c)"
      ],
      "execution_count": 7,
      "outputs": [
        {
          "output_type": "stream",
          "name": "stdout",
          "text": [
            "1 2 3\n"
          ]
        }
      ]
    },
    {
      "cell_type": "markdown",
      "metadata": {
        "id": "ADxQiMAheP-Y"
      },
      "source": [
        "# Changing/Adding Items in Tuple\n",
        "* Once a tuple is created, we cannot change its values. Tuples are unchangeable, or immutable.\n",
        "* Directly we can't change it's items, but for doing so we can -- \n",
        ">Convert the tuple into a list >>> change the list >>> convert the list back into a tuple."
      ]
    },
    {
      "cell_type": "code",
      "metadata": {
        "id": "42623zzhfq7d",
        "colab": {
          "base_uri": "https://localhost:8080/"
        },
        "outputId": "36b25261-8d2a-42a2-b962-45ce9ca1ced0"
      },
      "source": [
        "tuple1 = (1, 3, \"harry\")\n",
        "print('original Tuple :',tuple1,'and its\\'s type is',type(tuple1)) \n",
        "\n",
        "tuple_list = list(tuple1)\n",
        "print('converted Tuple(i.e. list) :',tuple_list,'and its\\'s type is',type(tuple_list)) \n",
        "\n",
        "tuple_list[1] = \"kiwi\"\n",
        "tuple_list.append(\"new\")\n",
        "tuple1 = tuple(tuple_list)\n",
        "\n",
        "print('changed tuple :',tuple1)"
      ],
      "execution_count": null,
      "outputs": [
        {
          "output_type": "stream",
          "name": "stdout",
          "text": [
            "original Tuple : (1, 3, 'harry') and its's type is <class 'tuple'>\n",
            "converted Tuple(i.e. list) : [1, 3, 'harry'] and its's type is <class 'list'>\n",
            "changed tuple : (1, 'kiwi', 'harry', 'new')\n"
          ]
        }
      ]
    },
    {
      "cell_type": "markdown",
      "metadata": {
        "id": "gegFfBdnbDBi"
      },
      "source": [
        "# Adding Tuples\n",
        "We can add tuples by using-\n",
        "* '+' for adding two tuples.\n",
        "* **'*'** for replicate tuple."
      ]
    },
    {
      "cell_type": "code",
      "metadata": {
        "id": "UICyYXIIdjMi",
        "colab": {
          "base_uri": "https://localhost:8080/"
        },
        "outputId": "052d40d4-9a36-476d-fe58-25fe7379bef9"
      },
      "source": [
        "# Use of +\n",
        "tuple1 = (1, 2)\n",
        "tuple2 = (3, 4, 5)\n",
        "\n",
        "print('First Tuple :',tuple1)\n",
        "print('Second Tuple :',tuple2)\n",
        "print('New Tuple(1+2) :',tuple1+tuple2)"
      ],
      "execution_count": null,
      "outputs": [
        {
          "output_type": "stream",
          "name": "stdout",
          "text": [
            "First Tuple : (1, 2)\n",
            "Second Tuple : (3, 4, 5)\n",
            "New Tuple(1+2) : (1, 2, 3, 4, 5)\n"
          ]
        }
      ]
    },
    {
      "cell_type": "code",
      "metadata": {
        "colab": {
          "base_uri": "https://localhost:8080/"
        },
        "id": "KKCpOUJZYFEx",
        "outputId": "452b9b91-3b7e-4806-eb41-4652d6700b4e"
      },
      "source": [
        "# Use of *\n",
        "tuple1 = (1, 2)\n",
        "\n",
        "print('Tuple :',tuple1)\n",
        "print('New Tuple(*2) :',tuple1*2)\n",
        "print('New Tuple(*4) :',tuple1*4)"
      ],
      "execution_count": null,
      "outputs": [
        {
          "output_type": "stream",
          "name": "stdout",
          "text": [
            "Tuple : (1, 2)\n",
            "New Tuple(*2) : (1, 2, 1, 2)\n",
            "New Tuple(*4) : (1, 2, 1, 2, 1, 2, 1, 2)\n"
          ]
        }
      ]
    },
    {
      "cell_type": "markdown",
      "metadata": {
        "id": "JFe2oeo5YmvI"
      },
      "source": [
        "# Some tuple methods\n",
        "* **count()** returns the number of times a specified item occurs in a tuple.\n",
        "* **index()** searches the tuple for a specified value and returns the first occuring index of where it was found, if item is not present then it raises error.\n",
        "* **del** deletes the tuple."
      ]
    },
    {
      "cell_type": "code",
      "metadata": {
        "colab": {
          "base_uri": "https://localhost:8080/"
        },
        "id": "xdGLvEqrZXHL",
        "outputId": "dee8999b-f5ed-4c4d-8ea7-62412c02b254"
      },
      "source": [
        "# Use of count()\n",
        "# Syntax : tuple.count(value)\n",
        "\n",
        "tuple1 = (1,2,3,4,6,7,5,4,2,3,1,2,3,2,3,5,2,4,5,3,4,5,6,3,4,6)\n",
        "print('Tuple is :',tuple1)\n",
        "print(\"Count of 3 in tuple is :\",tuple1.count(3))\n"
      ],
      "execution_count": null,
      "outputs": [
        {
          "output_type": "stream",
          "name": "stdout",
          "text": [
            "Tuple is : (1, 2, 3, 4, 6, 7, 5, 4, 2, 3, 1, 2, 3, 2, 3, 5, 2, 4, 5, 3, 4, 5, 6, 3, 4, 6)\n",
            "Count of 3 in tuple is : 6\n"
          ]
        }
      ]
    },
    {
      "cell_type": "code",
      "metadata": {
        "colab": {
          "base_uri": "https://localhost:8080/"
        },
        "id": "YjSjk305aRDL",
        "outputId": "97092256-2758-4466-b196-557c0f571ee9"
      },
      "source": [
        "# Use of index()\n",
        "# Syntax : tuple.index(element, start, end)\n",
        "\n",
        "tuple1 = (1,2,3,4,6,7,5,4,2,3,1,2,3,2,3,5,2,4,5,3,4,5,6,3,4,6)\n",
        "\n",
        "print('Tuple is :',tuple1)\n",
        "print(\"first-occuring Index of 3 in tuple is :\",tuple1.index(3))\n",
        "\n",
        "print(\"Index of 3 in last six items of tuple is :\",tuple1.index(3,20,26))"
      ],
      "execution_count": null,
      "outputs": [
        {
          "output_type": "stream",
          "name": "stdout",
          "text": [
            "Tuple is : (1, 2, 3, 4, 6, 7, 5, 4, 2, 3, 1, 2, 3, 2, 3, 5, 2, 4, 5, 3, 4, 5, 6, 3, 4, 6)\n",
            "first-occuring Index of 3 in tuple is : 2\n",
            "Index of 3 in last six items of tuple is : 23\n"
          ]
        }
      ]
    },
    {
      "cell_type": "code",
      "metadata": {
        "colab": {
          "base_uri": "https://localhost:8080/",
          "height": 221
        },
        "id": "xqjFOddHbsM8",
        "outputId": "d0f8e255-7810-4c34-f6b3-f2b3e266ef95"
      },
      "source": [
        "# Use of del\n",
        "# Syntax : del <tuple_name>\n",
        "\n",
        "tuple1 = (1,2,3,4)\n",
        "\n",
        "print('Tuple is :',tuple1)\n",
        "del tuple1\n",
        "print(tuple1)   # here this line will raises an error as now tuple1 is not present"
      ],
      "execution_count": null,
      "outputs": [
        {
          "output_type": "stream",
          "name": "stdout",
          "text": [
            "Tuple is : (1, 2, 3, 4)\n"
          ]
        },
        {
          "output_type": "error",
          "ename": "NameError",
          "evalue": "ignored",
          "traceback": [
            "\u001b[0;31m---------------------------------------------------------------------------\u001b[0m",
            "\u001b[0;31mNameError\u001b[0m                                 Traceback (most recent call last)",
            "\u001b[0;32m<ipython-input-28-d0d1a0a320f4>\u001b[0m in \u001b[0;36m<module>\u001b[0;34m()\u001b[0m\n\u001b[1;32m      6\u001b[0m \u001b[0mprint\u001b[0m\u001b[0;34m(\u001b[0m\u001b[0;34m'Tuple is :'\u001b[0m\u001b[0;34m,\u001b[0m\u001b[0mtuple1\u001b[0m\u001b[0;34m)\u001b[0m\u001b[0;34m\u001b[0m\u001b[0;34m\u001b[0m\u001b[0m\n\u001b[1;32m      7\u001b[0m \u001b[0;32mdel\u001b[0m \u001b[0mtuple1\u001b[0m\u001b[0;34m\u001b[0m\u001b[0;34m\u001b[0m\u001b[0m\n\u001b[0;32m----> 8\u001b[0;31m \u001b[0mprint\u001b[0m\u001b[0;34m(\u001b[0m\u001b[0mtuple1\u001b[0m\u001b[0;34m)\u001b[0m   \u001b[0;31m# here this line will raises an error as now tuple1 is not present\u001b[0m\u001b[0;34m\u001b[0m\u001b[0;34m\u001b[0m\u001b[0m\n\u001b[0m",
            "\u001b[0;31mNameError\u001b[0m: name 'tuple1' is not defined"
          ]
        }
      ]
    }
  ]
}