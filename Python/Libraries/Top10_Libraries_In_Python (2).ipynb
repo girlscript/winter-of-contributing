{
  "nbformat": 4,
  "nbformat_minor": 0,
  "metadata": {
    "colab": {
      "name": "Top10_Libraries_In_Python",
      "provenance": [],
      "collapsed_sections": []
    },
    "kernelspec": {
      "name": "python3",
      "display_name": "Python 3"
    },
    "language_info": {
      "name": "python"
    }
  },
  "cells": [
    {
      "cell_type": "markdown",
      "metadata": {
        "id": "Cr4SUPnsWpsA"
      },
      "source": [
        "# Top 10 Libraries in Python"
      ]
    },
    {
      "cell_type": "markdown",
      "metadata": {
        "id": "jkTp8xzKWmzI"
      },
      "source": [
        "Python is a very popular programming language that is being used officially by a vast majority of organizations as their primary programming language. The reason why Python is favored a lot more than most other programming languages out there is, due to a couple of reasons.  The most prominent reason is Python’s exhaustive collection of libraries.<br>\n",
        "\n",
        "There are over 270,000 python libraries present today.<br>\n",
        "\n",
        "Python libraries play a vital role in developing machine learning, data science, data visualization, image and data manipulation applications and more. "
      ]
    },
    {
      "cell_type": "markdown",
      "metadata": {
        "id": "iBKYljUTYq7B"
      },
      "source": [
        "## What is a Library?\n",
        "\n",
        "A library is a collection of pre-combined codes that can be used iteratively to reduce the time required to code. They are useful for accessing the pre-written frequently used codes, instead of writing them from scratch. "
      ]
    },
    {
      "cell_type": "markdown",
      "metadata": {
        "id": "ev7oRpQvCm26"
      },
      "source": [
        "## 1. TensorFlow\n",
        "\n",
        "*    **Creator**: Google Brain team\n",
        "\n",
        "*  **Functioning**: It provides the necessary tools for Machine Learning & Deep Learning projects.The most popular deep learning framework, TensorFlow is an open-source software library for high-performance numerical computation.\n",
        "* **Library link**: https://pypi.org/project/tensorflow/\n",
        "\n",
        "\n",
        "\n",
        "\n"
      ]
    },
    {
      "cell_type": "code",
      "metadata": {
        "colab": {
          "base_uri": "https://localhost:8080/"
        },
        "id": "pTiZ2ip6NEe5",
        "outputId": "b0ea98fb-94f9-43db-a7b9-16fca7dc38cc"
      },
      "source": [
        "# Code:\n",
        "import tensorflow as tf\n",
        "print(\"Version:\", tf.__version__)"
      ],
      "execution_count": null,
      "outputs": [
        {
          "output_type": "stream",
          "name": "stdout",
          "text": [
            "Version: 2.6.0\n"
          ]
        }
      ]
    },
    {
      "cell_type": "code",
      "metadata": {
        "id": "7L4UwEfIRHZg"
      },
      "source": [
        "# If you are not in colab then you need to install it first using:\n",
        "!pip install tensorflow"
      ],
      "execution_count": null,
      "outputs": []
    },
    {
      "cell_type": "markdown",
      "metadata": {
        "id": "0eXk6EdcbpnS"
      },
      "source": [
        "## 2. Pandas\n",
        "\n",
        "*   **Creator:** Wes McKinney \n",
        "\n",
        "\n",
        "*   **Functioning**: Provides access to efficient data structures for structured and time-series data.By offering developers access to flexible yet extremely responsive data structures for working with time series and structured data along with the stack of other vital features, Pandas aims to become the best data analysis tool available for solving real-world problems.\n",
        "*  **Library link:** https://pypi.org/project/pandas/\n",
        "\n",
        "\n"
      ]
    },
    {
      "cell_type": "code",
      "metadata": {
        "id": "MCkTKJ4IRHbn"
      },
      "source": [
        "#code\n",
        "import pandas as pd"
      ],
      "execution_count": null,
      "outputs": []
    },
    {
      "cell_type": "code",
      "metadata": {
        "id": "grgRsAmLRHeQ"
      },
      "source": [
        "# installation (if you are not running on colab)\n",
        "!pip install pandas"
      ],
      "execution_count": null,
      "outputs": []
    },
    {
      "cell_type": "markdown",
      "metadata": {
        "id": "WrC5McUlG4aJ"
      },
      "source": [
        "## 3.Numpy\n",
        "\n",
        "\n",
        "\n",
        "\n",
        "*   **Creator**: Travis Oliphant <br>\n",
        "\n",
        "*   **Functioning**: Provides access to N-dimensional arrays and other useful numerical tools.NumPy is one of the most used libraries for tasks involving modern scientific computations and evolving yet powerful domains like Data Science and Machine Learning.Has support for large, multi-dimensional arrays and matrices, along with a large collection of high-level mathematical functions to operate on these. <br>\n",
        "*  **Library link**: https://pypi.org/project/numpy/\n",
        "\n",
        "\n",
        "\n",
        "\n"
      ]
    },
    {
      "cell_type": "code",
      "metadata": {
        "id": "5dDpQS5vIpgY"
      },
      "source": [
        "# code:\n",
        "import numpy as np"
      ],
      "execution_count": null,
      "outputs": []
    },
    {
      "cell_type": "code",
      "metadata": {
        "id": "aAKEzAETItE3"
      },
      "source": [
        "# installation (if you are not running on colab)\n",
        "!pip install numpy"
      ],
      "execution_count": null,
      "outputs": []
    },
    {
      "cell_type": "markdown",
      "metadata": {
        "id": "MhTweL_DHHH3"
      },
      "source": [
        "## 4. Matplotlib \n",
        "\n",
        "\n",
        "\n",
        "*   **Creator**: John D. Hunter\n",
        "\n",
        "*   **Functioning**: Helps developers create stunning visualizations. Matplotlib lets you visualize your data in several different ways.\n",
        "You can use it to create a wide variety of visualizations, including line plots, histograms, bar charts, pie charts, scatter plots, tables, and many other styles.\n",
        "\n",
        "*   **Library link**: https://pypi.org/project/matplotlib/\n",
        "\n"
      ]
    },
    {
      "cell_type": "code",
      "metadata": {
        "id": "2zL4omVfJXpw"
      },
      "source": [
        "#code\n",
        "import matplotlib \n",
        "# More commonly used for plots:\n",
        "import matplotlib.pyplot as plt"
      ],
      "execution_count": null,
      "outputs": []
    },
    {
      "cell_type": "code",
      "metadata": {
        "id": "OV-bBxr4JxDe"
      },
      "source": [
        "# installation (if you are not running on colab)\n",
        "!pip install matplotlib"
      ],
      "execution_count": null,
      "outputs": []
    },
    {
      "cell_type": "markdown",
      "metadata": {
        "id": "Y-ZgDbqAOMBA"
      },
      "source": [
        "## 5. Scikit- learn (sklearn)\n",
        "\n",
        "\n",
        "\n",
        "*   **Creator**: David Cournapeau\n",
        "\n",
        "\n",
        "*   **Functioning**: Its a free software machine learning library for the Python programming language and can be effectively used for a variety of applications which include classification, regression, clustering, model selection, naive Bayes, grade boosting, K-means, and preprocessing.\n",
        "*   **Library Link**: https://scikit-learn.org/stable/\n",
        "\n",
        "scikit-learn requires:\n",
        "\n",
        "*  Python (>= 3.7)\n",
        "* NumPy (>= 1.14.6)\n",
        "* SciPy (>= 1.1.0)\n",
        "* joblib (>= 0.11)\n",
        "* threadpoolctl (>= 2.0.0)\n"
      ]
    },
    {
      "cell_type": "code",
      "metadata": {
        "id": "oXzrNPRwO8gt"
      },
      "source": [
        "#code:\n",
        "import sklearn"
      ],
      "execution_count": null,
      "outputs": []
    },
    {
      "cell_type": "code",
      "metadata": {
        "id": "u-2XXuvMO8jd"
      },
      "source": [
        "pip install -U scikit-learn"
      ],
      "execution_count": null,
      "outputs": []
    },
    {
      "cell_type": "markdown",
      "metadata": {
        "id": "TZhlfPh8QFsu"
      },
      "source": [
        "## 6.Keras\n",
        "* **Creator**: Francois Chollet\n",
        "***Functioning**: Provides Deep Learning tools and libraries. Being a core part of the TensorFlow ecosystem, the scalability provided by Keras lets you effortlessly scale your models to clusters of GPUs when needed.Keras offers plenty of firepower to help you quickly create model prototypes\n",
        "***Library link**: https://pypi.org/project/Keras/"
      ]
    },
    {
      "cell_type": "code",
      "metadata": {
        "id": "LDio_h9tQGAX"
      },
      "source": [
        "# code\n",
        "import keras"
      ],
      "execution_count": null,
      "outputs": []
    },
    {
      "cell_type": "markdown",
      "metadata": {
        "id": "w7wFR4rSQGb0"
      },
      "source": [
        ""
      ]
    },
    {
      "cell_type": "code",
      "metadata": {
        "id": "GOCFTDKJQGnH"
      },
      "source": [
        "pip install Keras"
      ],
      "execution_count": null,
      "outputs": []
    },
    {
      "cell_type": "markdown",
      "metadata": {
        "id": "P8Lk9Fy9Q-me"
      },
      "source": [
        "## 7. SciPy\n",
        "\n",
        "* **Creator**: Travis Oliphant\n",
        "***Functioning**: Provides tools and libraries for mathematical, engineering, and scientific calculations.The SciPy ecosystem is a collection of several Python-based libraries, such as NumPy, Matplotlib, pandas, IPython, and SymPy, along with the SciPy library.\n",
        "The libraries offered by the entire SciPy ecosystem have been curated to provide a convenient library stack that can take on intensive computations from domains like mathematics, science, and engineering, making things easier for data scientists and developers alike.\n",
        "***Library link**: https://pypi.org/project/scipy/"
      ]
    },
    {
      "cell_type": "markdown",
      "metadata": {
        "id": "2kQpXpr3SbId"
      },
      "source": [
        " Some of the topics that SciPy covers are:\n",
        "\n",
        "* Special functions ([scipy.special](http://docs.scipy.org/doc/scipy/reference/special.html))\n",
        "* Integration ([scipy.integrate](http://docs.scipy.org/doc/scipy/reference/integrate.html))\n",
        "* Optimization ([scipy.optimize](http://docs.scipy.org/doc/scipy/reference/optimize.html))\n",
        "* Interpolation ([scipy.interpolate](http://docs.scipy.org/doc/scipy/reference/interpolate.html))\n",
        "* Fourier Transforms ([scipy.fftpack](http://docs.scipy.org/doc/scipy/reference/fftpack.html))\n",
        "* Signal Processing ([scipy.signal](http://docs.scipy.org/doc/scipy/reference/signal.html))\n",
        "* Linear Algebra ([scipy.linalg](http://docs.scipy.org/doc/scipy/reference/linalg.html))\n",
        "* Sparse Eigenvalue Problems ([scipy.sparse](http://docs.scipy.org/doc/scipy/reference/sparse.html))\n",
        "* Statistics ([scipy.stats](http://docs.scipy.org/doc/scipy/reference/stats.html))\n",
        "* Multi-dimensional image processing ([scipy.ndimage](http://docs.scipy.org/doc/scipy/reference/ndimage.html))\n",
        "* File IO ([scipy.io](http://docs.scipy.org/doc/scipy/reference/io.html))\n",
        "\n",
        "Each of these submodules provides a number of functions and classes that can be used to solve problems in their respective topics."
      ]
    },
    {
      "cell_type": "code",
      "metadata": {
        "id": "G7NPP68aRnMF"
      },
      "source": [
        "#code:\n",
        "from scipy import * "
      ],
      "execution_count": null,
      "outputs": []
    },
    {
      "cell_type": "markdown",
      "metadata": {
        "id": "6T0XYWP8SHqP"
      },
      "source": [
        "If we only need to use part of the SciPy framework we can selectively include only those modules we are interested in. For example, to include the linear algebra package under the name `la`, we can do:"
      ]
    },
    {
      "cell_type": "code",
      "metadata": {
        "id": "cbPKuEI5SKZX"
      },
      "source": [
        "import scipy.linalg as la"
      ],
      "execution_count": null,
      "outputs": []
    },
    {
      "cell_type": "code",
      "metadata": {
        "id": "modWlen7Q-3-"
      },
      "source": [
        "pip install scipy"
      ],
      "execution_count": null,
      "outputs": []
    },
    {
      "cell_type": "markdown",
      "metadata": {
        "id": "5jXQ8Mv0Q_CO"
      },
      "source": [
        "## 8. PyTorch\n",
        "\n",
        "* **Creator**: Soumith Chintala\n",
        "***Functioning**: Provides tools and libraries for developing GPU-powered Machine Learning applications. It's library that lets you work with projects involving Machine Learning, Deep Learning, and Neural Networks. Originally based on the high-performance Torch library.\n",
        "***Library link**: https://pypi.org/project/pytorch/"
      ]
    },
    {
      "cell_type": "markdown",
      "metadata": {
        "id": "pchgVgb7TrR1"
      },
      "source": [
        "At its core, PyTorch consists of several vital modules that offer unique functionality, such as:\n",
        "* torch.autograd\n",
        "* torch.nn\n",
        "* torch.optim\n",
        "* torch.jit\n",
        "* torch.utils"
      ]
    },
    {
      "cell_type": "code",
      "metadata": {
        "colab": {
          "base_uri": "https://localhost:8080/"
        },
        "id": "QXo1UzRIQ_Mv",
        "outputId": "9cc0da9f-537c-486c-8da5-35b876d2b53b"
      },
      "source": [
        "# code\n",
        "import torch\n",
        "print(torch.__version__)"
      ],
      "execution_count": null,
      "outputs": [
        {
          "output_type": "stream",
          "name": "stdout",
          "text": [
            "1.9.0+cu111\n"
          ]
        }
      ]
    },
    {
      "cell_type": "code",
      "metadata": {
        "id": "onD_c9bAUWfg"
      },
      "source": [
        "!pip3 install torch"
      ],
      "execution_count": null,
      "outputs": []
    },
    {
      "cell_type": "markdown",
      "metadata": {
        "id": "dXbG0ciIUis2"
      },
      "source": [
        "## 9. Theano\n",
        "* **Creator**: Montreal Institute for Learning Algorithms (MILA)\n",
        "***Functioning**: Performs computations on mathematical expressions. Built on top of NumPy, Theano is essentially a library that excels at carrying out intensive mathematical and scientific calculations. \n",
        "***Library link**: https://pypi.org/project/Theano/"
      ]
    },
    {
      "cell_type": "code",
      "metadata": {
        "id": "8qTXMVeLU64Q"
      },
      "source": [
        "pip install Theano"
      ],
      "execution_count": null,
      "outputs": []
    },
    {
      "cell_type": "markdown",
      "metadata": {
        "id": "bJWRa49RX3l7"
      },
      "source": [
        "## 10. Pygame\n",
        "\n",
        "* **Creator**: Pete Shinners\n",
        "* **Functioning**: Provides developers access to various game development tools and libraries. Among the handful of other game development libraries available for Python, pygame is by far the best and the most popular of them all. pygame is built on top of the SDL(Simple DirectMedia Layer).\n",
        "* **Library link**: https://pypi.org/project/pygame/"
      ]
    },
    {
      "cell_type": "markdown",
      "metadata": {
        "id": "SVKBEPzgY7ro"
      },
      "source": [
        "Games built using pygame can deploy many of the industry-standard game development features, such as multichannel sound, detecting collisions, transformations, drawing support, vector math, pixel-array manipulation, and much more. "
      ]
    },
    {
      "cell_type": "code",
      "metadata": {
        "id": "JxJE_H00YmNr"
      },
      "source": [
        "pip install pygame"
      ],
      "execution_count": null,
      "outputs": []
    },
    {
      "cell_type": "markdown",
      "metadata": {
        "id": "kxu-XuMiZa0w"
      },
      "source": [
        " ## 11. OpenCV Python\n",
        "\n",
        " * **Functioning**: Open Source Computer Vision or OpenCV is used for image processing. It is a Python package that monitors overall functions focused on instant computer vision. OpenCV provides several inbuilt functions, with the help of this you can learn Computer Vision. It allows both read and write images at the same time"
      ]
    },
    {
      "cell_type": "code",
      "metadata": {
        "id": "WmVHeMVYZuck"
      },
      "source": [
        "#code:\n",
        "import cv2 as cv "
      ],
      "execution_count": null,
      "outputs": []
    },
    {
      "cell_type": "code",
      "metadata": {
        "id": "_h14x26IZjlW"
      },
      "source": [
        "pip install opencv-python"
      ],
      "execution_count": null,
      "outputs": []
    },
    {
      "cell_type": "markdown",
      "metadata": {
        "id": "QkPgryoy4tY_"
      },
      "source": [
        "There are of course many more libraries Available in python but the ones listed here are the most used ones."
      ]
    }
  ]
}