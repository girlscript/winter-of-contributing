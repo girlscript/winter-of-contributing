{
  "nbformat": 4,
  "nbformat_minor": 0,
  "metadata": {
    "colab": {
      "name": "Threading_in_Python.ipynb",
      "provenance": []
    },
    "kernelspec": {
      "name": "python3",
      "display_name": "Python 3"
    },
    "language_info": {
      "name": "python"
    }
  },
  "cells": [
    {
      "cell_type": "markdown",
      "metadata": {
        "id": "tEJrDx9R-GP_"
      },
      "source": [
        "## `Threading in Python`\n",
        "\n",
        "## ***Author: [Tisha Jhabak](https://github.com/TishaJhabak1014)***\n",
        "\n",
        ">This notebook will illustrate the intuition of threading with examples as we walk through the notebook."
      ]
    },
    {
      "cell_type": "code",
      "metadata": {
        "id": "fqifzXVXHwep",
        "colab": {
          "base_uri": "https://localhost:8080/"
        },
        "outputId": "a44fa892-8033-4686-c52f-1fc760d7a53a"
      },
      "source": [
        "import time                  # importing the time module\n",
        "\n",
        "start = time.perf_counter()   # starting a counter to keep track of how long it takes to run the script below\n",
        "\n",
        "def do_something():\n",
        "  print('Sleeping for 1 second...')\n",
        "  time.sleep(1)\n",
        "  print('Done Sleeping...')\n",
        "\n",
        "do_something()\n",
        "\n",
        "finish = time.perf_counter()\n",
        "\n",
        "print(f'Finished in {round(finish-start, 2)} second(s)')"
      ],
      "execution_count": 25,
      "outputs": [
        {
          "output_type": "stream",
          "name": "stdout",
          "text": [
            "Sleeping for 1 second...\n",
            "Done Sleeping...\n",
            "Finished in 1.0 second(s)\n"
          ]
        }
      ]
    },
    {
      "cell_type": "markdown",
      "metadata": {
        "id": "JgoGHCy4j5dR"
      },
      "source": [
        "Running the code, it said `Finished in 1.0 second(s)` which is pretty much right as we are running the `do_something()` function one time. \n",
        "Let us see what happens on running the function twice :"
      ]
    },
    {
      "cell_type": "code",
      "metadata": {
        "colab": {
          "base_uri": "https://localhost:8080/"
        },
        "id": "PrvdIFLZkinU",
        "outputId": "94157140-a2e5-46bf-cb7d-18eba911b275"
      },
      "source": [
        "start = time.perf_counter()   # starting a counter to keep track of how long it takes to run the script below\n",
        "\n",
        "do_something()\n",
        "do_something()\n",
        "\n",
        "finish = time.perf_counter()\n",
        "\n",
        "print(f'Finished in {round(finish-start, 2)} second(s)')"
      ],
      "execution_count": 26,
      "outputs": [
        {
          "output_type": "stream",
          "name": "stdout",
          "text": [
            "Sleeping for 1 second...\n"
          ]
        },
        {
          "output_type": "stream",
          "name": "stderr",
          "text": [
            "09:45:14: Thread 1: finishing\n"
          ]
        },
        {
          "output_type": "stream",
          "name": "stdout",
          "text": [
            "Done Sleeping...\n",
            "Sleeping for 1 second...\n",
            "Done Sleeping...\n",
            "Finished in 2.0 second(s)\n"
          ]
        }
      ]
    },
    {
      "cell_type": "markdown",
      "metadata": {
        "id": "1_UpuiDklFrI"
      },
      "source": [
        "So, we can see that each time we run the `do_something` function in our script, it is adding about 1 second to our script. Here, it is not really doing something in the CPU when the function runs. Our script is just waiting around for a second and when that is done, it sets around to wait another second sleeping. As it is done, the script above finishes. Pictorially, the execution of the above script can be depicted as below:\n",
        "\n",
        "![](https://raw.githubusercontent.com/CoreyMSchafer/code_snippets/692ccae54a47a16c8286d91b08707150c20531fc/Python/Threading/threading-1.svg)\n",
        "\n",
        "Running everything in order like this is called `running synchronous`. So, everytime our program runs synchronously, it actually is not doing much on the CPU. It just sits around waiting around like this. Thst is not actually a good way. Here is where we leverage  the use of threading and concurrency. These are called CPU-bound and I/O bound task. CPU task are the one which are using a lot of numbers and CPU. I/O bound task are basically those which just waits for input and output operations to be completed and are not really using the CPU much. Some I/O based tasks are reading and writing from and to file systems, network operations, downloading things from the internet.\n",
        "\n",
        "\n",
        "Generally,\n",
        "- If our task are I/O based, threading helps running our script faster.\n",
        "- However, if our task is doing a lot of data crunching and are CPU-bound, then there is probably not much benefit by the use of threading.\n",
        "- As a matter of fact, some programs actually runs slower using threads because of the added overhead cost when they are creating and storing different threads.\n",
        "- So, if our taskis CPU bound we are more likely to use multi-processing and run it in parallel instead.\n",
        "\n",
        "So, when we run something concurrently using threads, it is not actually going to run the code at the same time. It just gives the illusion of running the code at the same time because when it comes to wait, it is just waiting around, it is just going to go ahead and move forward with the script and run the other code when the I/O operations finishes. The representation can be as:\n",
        "\n",
        "![](https://raw.githubusercontent.com/CoreyMSchafer/code_snippets/692ccae54a47a16c8286d91b08707150c20531fc/Python/Threading/threading-2.svg)\n",
        "\n",
        "There is actually a overlap there but it is never actually running the code at the same time. It is just going to give the illusion of it. And finally we can see we are done a little bit sooner.\n",
        "\n",
        "\n",
        "## Implementation of Threading\n",
        "\n",
        "We can use the standard python library `threading` for this."
      ]
    },
    {
      "cell_type": "code",
      "metadata": {
        "colab": {
          "base_uri": "https://localhost:8080/"
        },
        "id": "Q7aSKVeVusqv",
        "outputId": "cbdc13f0-8565-4fe4-d6ed-8e59cc44e39f"
      },
      "source": [
        "import threading  # importing the thread module\n",
        "\n",
        "start = time.perf_counter()\n",
        "t1 = threading.Thread(target=do_something) # passing the functions as argument\n",
        "t2 = threading.Thread(target=do_something)  # instead of calling the function twice, turning them into threads\n",
        "\n",
        "finish = time.perf_counter()\n",
        "\n",
        "print(f'Finished in {round(finish-start, 2)} second(s)')"
      ],
      "execution_count": 27,
      "outputs": [
        {
          "output_type": "stream",
          "name": "stdout",
          "text": [
            "Finished in 0.0 second(s)\n"
          ]
        }
      ]
    },
    {
      "cell_type": "markdown",
      "metadata": {
        "id": "TJoEnuzjhR3G"
      },
      "source": [
        "Running the above script, we see that our script ended immediately, but nothing actually printed out, so our function did not actually ran. \n",
        "\n",
        "To get our threads to run, we need to use atrat method on each thread as :"
      ]
    },
    {
      "cell_type": "code",
      "metadata": {
        "colab": {
          "base_uri": "https://localhost:8080/"
        },
        "id": "_rxU-h3hh4xb",
        "outputId": "dfa41ed8-f3e3-41df-8f45-e94894188f56"
      },
      "source": [
        "start = time.perf_counter()\n",
        "\n",
        "t1 = threading.Thread(target=do_something) # passing the functions as argument\n",
        "t2 = threading.Thread(target=do_something)  # instead of calling the function twice, turning them into threads\n",
        "\n",
        "t1.start()\n",
        "t2.start()\n",
        "\n",
        "finish = time.perf_counter()\n",
        "\n",
        "print(f'Finished in {round(finish-start, 2)} second(s)')"
      ],
      "execution_count": 28,
      "outputs": [
        {
          "output_type": "stream",
          "name": "stdout",
          "text": [
            "Sleeping for 1 second...Sleeping for 1 second...\n",
            "Finished in 0.01 second(s)\n",
            "\n"
          ]
        }
      ]
    },
    {
      "cell_type": "markdown",
      "metadata": {
        "id": "GoFXF4OoivJV"
      },
      "source": [
        "Here, the reason that it is saying that our script got finished in 0 second is because it started both of the threads and while the sleep statements got executed, the script ran concurrently and continue running the rest of the script. Do, it immediately came down and calculated the finish time while the threads where sleeping. Now, once the sleep time was done, the threads finally gor fully executed.\n",
        "\n",
        "What if we wanted our threads to get finished entirely before moving to a next statement of counting the finish time? In that case we use the method, `join()`."
      ]
    },
    {
      "cell_type": "code",
      "metadata": {
        "colab": {
          "base_uri": "https://localhost:8080/"
        },
        "id": "kCJlHrzmnqYs",
        "outputId": "83dce3f0-7c24-446f-e901-5ceba3df76d9"
      },
      "source": [
        "start = time.perf_counter()\n",
        "\n",
        "t1 = threading.Thread(target=do_something) # passing the functions as argument\n",
        "t2 = threading.Thread(target=do_something)  # instead of calling the function twice, turning them into threads\n",
        "\n",
        "t1.start()\n",
        "t2.start()\n",
        "\n",
        "t1.join()\n",
        "t2.join()\n",
        "\n",
        "finish = time.perf_counter()\n",
        "\n",
        "print(f'Finished in {round(finish-start, 2)} second(s)')"
      ],
      "execution_count": 29,
      "outputs": [
        {
          "output_type": "stream",
          "name": "stdout",
          "text": [
            "Sleeping for 1 second...\n",
            "Sleeping for 1 second...\n",
            "Done Sleeping...\n",
            "Done Sleeping...\n",
            "Done Sleeping...\n",
            "Done Sleeping...\n",
            "Finished in 1.01 second(s)\n"
          ]
        }
      ]
    },
    {
      "cell_type": "markdown",
      "metadata": {
        "id": "uXQEdlIMoMi8"
      },
      "source": [
        "Then, we see both the threads started at the almost exact same time and then printed out they were done sleeping. Then, our script printed out the finish time. Also, our code ran in two seconds before, and now it is running in 1 second.\n",
        "\n",
        "Now what if we want too call the function `do_something` 10 times? Doing it without threads will take almost 10 seconds as it will run synchronously, i.e one after the other, so before the next line of the script starts the previous lines must be completely executed. But if we use threads to run it 10 times, we still get the finish time around 1 second."
      ]
    },
    {
      "cell_type": "code",
      "metadata": {
        "colab": {
          "base_uri": "https://localhost:8080/"
        },
        "id": "iuBZtbiYsM8B",
        "outputId": "227f8819-919c-4395-a1c4-e077a6863a3d"
      },
      "source": [
        "start = time.perf_counter()\n",
        "\n",
        "threads = []\n",
        "\n",
        "for _ in range(10):                 # note that the _ is to signify that it is a throwaway variable\n",
        "    do_something()\n",
        "\n",
        "finish = time.perf_counter()\n",
        "\n",
        "print(f'Finished in {round(finish-start, 2)} second(s)')"
      ],
      "execution_count": 30,
      "outputs": [
        {
          "output_type": "stream",
          "name": "stdout",
          "text": [
            "Sleeping for 1 second...\n",
            "Done Sleeping...\n",
            "Sleeping for 1 second...\n",
            "Done Sleeping...\n",
            "Sleeping for 1 second...\n",
            "Done Sleeping...\n",
            "Sleeping for 1 second...\n",
            "Done Sleeping...\n",
            "Sleeping for 1 second...\n",
            "Done Sleeping...\n",
            "Sleeping for 1 second...\n",
            "Done Sleeping...\n",
            "Sleeping for 1 second...\n",
            "Done Sleeping...\n",
            "Sleeping for 1 second...\n",
            "Done Sleeping...\n",
            "Sleeping for 1 second...\n",
            "Done Sleeping...\n",
            "Sleeping for 1 second...\n",
            "Done Sleeping...\n",
            "Finished in 10.02 second(s)\n"
          ]
        }
      ]
    },
    {
      "cell_type": "code",
      "metadata": {
        "colab": {
          "base_uri": "https://localhost:8080/"
        },
        "id": "cXomEiLZqAfj",
        "outputId": "3bf0d12d-0f2c-4648-c29c-f879a3c71f42"
      },
      "source": [
        "start = time.perf_counter()\n",
        "\n",
        "threads = []\n",
        "\n",
        "for _ in range(10):                 # note that the _ is to signify that it is a throwaway variable\n",
        "    t = threading.Thread(target=do_something)   \n",
        "    t.start()\n",
        "    threads.append(t)\n",
        "\n",
        "for thread in threads:\n",
        "  thread.join()\n",
        "\n",
        "finish = time.perf_counter()\n",
        "\n",
        "print(f'Finished in {round(finish-start, 2)} second(s)')"
      ],
      "execution_count": 31,
      "outputs": [
        {
          "output_type": "stream",
          "name": "stdout",
          "text": [
            "Sleeping for 1 second...\n",
            "Sleeping for 1 second...\n",
            "Sleeping for 1 second...\n",
            "Sleeping for 1 second...\n",
            "Sleeping for 1 second...\n",
            "Sleeping for 1 second...\n",
            "Sleeping for 1 second...\n",
            "Sleeping for 1 second...\n",
            "Sleeping for 1 second...Sleeping for 1 second...\n",
            "\n",
            "Done Sleeping...\n",
            "Done Sleeping...\n",
            "Done Sleeping...\n",
            "Done Sleeping...\n",
            "Done Sleeping...\n",
            "Done Sleeping...Done Sleeping...Done Sleeping...\n",
            "\n",
            "\n",
            "Done Sleeping...\n",
            "Done Sleeping...\n",
            "Finished in 1.02 second(s)\n"
          ]
        }
      ]
    },
    {
      "cell_type": "markdown",
      "metadata": {
        "id": "VhT51bD5rKHI"
      },
      "source": [
        "Above we are running the `do_something` 10 times and it sleeps for 1 second every time. But, since we are using threads, it just going to move forward with the script. So, we can see that all of that go executed still within almost 1 second instead of taking 10 seconds.\n",
        "\n",
        "Now, let us see how we can pass in arguments into our functions:"
      ]
    },
    {
      "cell_type": "code",
      "metadata": {
        "colab": {
          "base_uri": "https://localhost:8080/"
        },
        "id": "bBV3QxLKtqry",
        "outputId": "725c1102-14af-4ad4-d80b-d6db34b46831"
      },
      "source": [
        "start = time.perf_counter()\n",
        "\n",
        "def do_something_n(seconds):\n",
        "  print(f'Sleeping for {seconds} second(s)...')\n",
        "  time.sleep(seconds)\n",
        "  print('Done Sleeping...')\n",
        "\n",
        "threads = []\n",
        "\n",
        "for _ in range(10):                 \n",
        "    t = threading.Thread(target=do_something_n, args=[1.5]) # we need to pass a list containing the arguments to that function.  \n",
        "    t.start()\n",
        "    threads.append(t)\n",
        "\n",
        "for thread in threads:\n",
        "  thread.join()\n",
        "\n",
        "finish = time.perf_counter()\n",
        "\n",
        "print(f'Finished in {round(finish-start, 2)} second(s)')"
      ],
      "execution_count": 32,
      "outputs": [
        {
          "output_type": "stream",
          "name": "stdout",
          "text": [
            "Sleeping for 1.5 second(s)...Sleeping for 1.5 second(s)...\n",
            "Sleeping for 1.5 second(s)...\n",
            "\n",
            "Sleeping for 1.5 second(s)...\n",
            "Sleeping for 1.5 second(s)...\n",
            "Sleeping for 1.5 second(s)...\n",
            "Sleeping for 1.5 second(s)...Sleeping for 1.5 second(s)...\n",
            "\n",
            "Sleeping for 1.5 second(s)...\n",
            "Sleeping for 1.5 second(s)...\n",
            "Done Sleeping...\n",
            "Done Sleeping...Done Sleeping...\n",
            "\n",
            "Done Sleeping...\n",
            "Done Sleeping...\n",
            "Done Sleeping...\n",
            "Done Sleeping...Done Sleeping...\n",
            "\n",
            "Done Sleeping...Done Sleeping...\n",
            "\n",
            "Finished in 1.51 second(s)\n"
          ]
        }
      ]
    },
    {
      "cell_type": "markdown",
      "metadata": {
        "id": "Ax5bNB3VyJsT"
      },
      "source": [
        "In the above script, normally the script gets finished in 15 seconds, but here we complete it within 1.5 seconds almost.\n",
        "\n",
        "After the so far implementation of threads, in `Python 3.2` onwards, we have thread pool executor and in a lot of cases, using that is more easy and efficient way to run threads. It also allows us to use multiple processes depending on the problem we are trying to solve.\n",
        "\n",
        "Now let us use thread pool executors which is actually in the `concurrent.futures` module, and try to implement the above logic again."
      ]
    },
    {
      "cell_type": "code",
      "metadata": {
        "colab": {
          "base_uri": "https://localhost:8080/"
        },
        "id": "PgTjRMHN2imp",
        "outputId": "6abbb0fc-397f-40e0-bb7b-602e06d2afd7"
      },
      "source": [
        "import concurrent.futures   # importing concurrent.futures\n",
        "import time\n",
        "\n",
        "start = time.perf_counter()\n",
        "\n",
        "def do_something_n(seconds):\n",
        "    print(f'Sleeping {seconds} second(s)...')\n",
        "    time.sleep(seconds)\n",
        "    return f'Done Sleeping...'\n",
        "\n",
        "with concurrent.futures.ThreadPoolExecutor() as executor:\n",
        "    f1 = executor.submit(do_something_n, 1)  # the submit method schedules a function to be executed and returns a future object\n",
        "    print(f1.result())   # the result() method will wait around till the functin completes and grabs the return value\n",
        "\n",
        "finish = time.perf_counter()\n",
        "\n",
        "print(f'Finished in {round(finish-start, 2)} second(s)')"
      ],
      "execution_count": 33,
      "outputs": [
        {
          "output_type": "stream",
          "name": "stdout",
          "text": [
            "Sleeping 1 second(s)...\n",
            "Done Sleeping...\n",
            "Finished in 1.01 second(s)\n"
          ]
        }
      ]
    },
    {
      "cell_type": "markdown",
      "metadata": {
        "id": "rgMe62NL3YP3"
      },
      "source": [
        "A future object basically encapsulates the execution of our functiion and allows us to check in on it after it has been scheduled. "
      ]
    },
    {
      "cell_type": "code",
      "metadata": {
        "colab": {
          "base_uri": "https://localhost:8080/"
        },
        "id": "1XxC2ygH4WsZ",
        "outputId": "dcc490f3-3490-44cf-b8e2-494c7febb14f"
      },
      "source": [
        "import concurrent.futures   # importing concurrent.futures\n",
        "\n",
        "start = time.perf_counter()\n",
        "\n",
        "def do_something_n(seconds):\n",
        "    print(f'Sleeping {seconds} second(s)...')\n",
        "    time.sleep(seconds)\n",
        "    return f'Done Sleeping...'\n",
        "\n",
        "with concurrent.futures.ThreadPoolExecutor() as executor:\n",
        "    f1 = executor.submit(do_something_n, 1)  # the submit method schedules a function to be executed and returns a future object\n",
        "    f2 = executor.submit(do_something_n, 1)\n",
        "    print(f1.result())   # the result() method will wait around till the functin completes and grabs the return value\n",
        "    print(f2.result())\n",
        "\n",
        "finish = time.perf_counter()\n",
        "\n",
        "print(f'Finished in {round(finish-start, 2)} second(s)')"
      ],
      "execution_count": 34,
      "outputs": [
        {
          "output_type": "stream",
          "name": "stdout",
          "text": [
            "Sleeping 1 second(s)...\n",
            "Sleeping 1 second(s)...\n",
            "Done Sleeping...\n",
            "Done Sleeping...\n",
            "Finished in 1.01 second(s)\n"
          ]
        }
      ]
    },
    {
      "cell_type": "markdown",
      "metadata": {
        "id": "kWK-i-Uh4mUQ"
      },
      "source": [
        "Also if we create two executors, we see that both of them got kicked off almost the same time and returned the future object. Also we can loop over to execute it 10 times or a list comprehension as below: "
      ]
    },
    {
      "cell_type": "code",
      "metadata": {
        "colab": {
          "base_uri": "https://localhost:8080/"
        },
        "id": "nPz4Gcun5yVU",
        "outputId": "0f61fc05-8031-46b7-f94c-152cf4b10c9b"
      },
      "source": [
        "start = time.perf_counter()\n",
        "\n",
        "with concurrent.futures.ThreadPoolExecutor() as executor:\n",
        "  results = [executor.submit(do_something_n, 1) for _ in range(10)]  # we have created a list comprehension that is running our function 10 different times\n",
        "\n",
        "  for f in concurrent.futures.as_completed(results):   \n",
        "    # as_completed() gives us an iterator that we can loop over and yield the result of the threads as they are completed\n",
        "    print(f.result())\n",
        "\n",
        "finish = time.perf_counter()\n",
        "\n",
        "print(f'Finished in {round(finish-start, 2)} second(s)')"
      ],
      "execution_count": 35,
      "outputs": [
        {
          "output_type": "stream",
          "name": "stdout",
          "text": [
            "Sleeping 1 second(s)...\n",
            "Sleeping 1 second(s)...\n",
            "Sleeping 1 second(s)...\n",
            "Sleeping 1 second(s)...Sleeping 1 second(s)...\n",
            "\n",
            "Sleeping 1 second(s)...\n",
            "Sleeping 1 second(s)...\n",
            "Sleeping 1 second(s)...\n",
            "Sleeping 1 second(s)...Sleeping 1 second(s)...\n",
            "\n",
            "Done Sleeping...\n",
            "Done Sleeping...\n",
            "Done Sleeping...\n",
            "Done Sleeping...\n",
            "Done Sleeping...\n",
            "Done Sleeping...\n",
            "Done Sleeping...\n",
            "Done Sleeping...\n",
            "Done Sleeping...\n",
            "Done Sleeping...\n",
            "Finished in 1.02 second(s)\n"
          ]
        }
      ]
    },
    {
      "cell_type": "markdown",
      "metadata": {
        "id": "9_9Zg_MW7fRK"
      },
      "source": [
        "So it still took around 1 second to complete. Also to verify that they are printing when each future object is returned, we can keep checks by passing different values of seconds as below:"
      ]
    },
    {
      "cell_type": "code",
      "metadata": {
        "colab": {
          "base_uri": "https://localhost:8080/"
        },
        "id": "mkeME9Ui8fpM",
        "outputId": "2e1d057d-2438-4b69-aec1-a21841fa0031"
      },
      "source": [
        "start = time.perf_counter()\n",
        "\n",
        "def do_something_n(seconds):\n",
        "    print(f'Sleeping {seconds} second(s)...')\n",
        "    time.sleep(seconds)\n",
        "    return f'Done Sleeping...{seconds}'\n",
        "\n",
        "with concurrent.futures.ThreadPoolExecutor() as executor:\n",
        "  secs = [5, 4, 3, 2, 1]\n",
        "  results = [executor.submit(do_something_n, sec) for sec in secs]  # we have created a list comprehension that is running our function 10 different times\n",
        "\n",
        "  for f in concurrent.futures.as_completed(results):   \n",
        "    print(f.result())\n",
        "\n",
        "finish = time.perf_counter()\n",
        "\n",
        "print(f'Finished in {round(finish-start, 2)} second(s)')"
      ],
      "execution_count": 36,
      "outputs": [
        {
          "output_type": "stream",
          "name": "stdout",
          "text": [
            "Sleeping 5 second(s)...\n",
            "Sleeping 4 second(s)...\n",
            "Sleeping 3 second(s)...\n",
            "Sleeping 2 second(s)...Sleeping 1 second(s)...\n",
            "\n",
            "Done Sleeping...1\n",
            "Done Sleeping...2\n",
            "Done Sleeping...3\n",
            "Done Sleeping...4\n",
            "Done Sleeping...5\n",
            "Finished in 5.01 second(s)\n"
          ]
        }
      ]
    },
    {
      "cell_type": "markdown",
      "metadata": {
        "id": "9KOHEqZn9bxK"
      },
      "source": [
        "Note that the order in which they are finished was 1->2->3->4->5 with the `submit()` method submitting each function once at a time, though we actually started the 5 second threa first but since we use `as_completed()` method it submitted our results in the order they were finished. And our total script took 5 seconds to complete.\n",
        "\n",
        "We can refine the script above as follows using `map()` function:"
      ]
    },
    {
      "cell_type": "code",
      "metadata": {
        "colab": {
          "base_uri": "https://localhost:8080/"
        },
        "id": "6tu8dKI8JkRU",
        "outputId": "ae4fe7f2-59da-4e95-dd66-875b3327162a"
      },
      "source": [
        "start = time.perf_counter()\n",
        "\n",
        "def do_something_n(seconds):\n",
        "    print(f'Sleeping {seconds} second(s)...')\n",
        "    time.sleep(seconds)\n",
        "    return f'Done Sleeping...{seconds}'\n",
        "\n",
        "with concurrent.futures.ThreadPoolExecutor() as executor:\n",
        "  secs = [5, 4, 3, 2, 1]\n",
        "  results = executor.map(do_something_n, secs)\n",
        "\n",
        "  for result in results:\n",
        "    print(result)\n",
        "\n",
        "finish = time.perf_counter()\n",
        "\n",
        "print(f'Finished in {round(finish-start, 2)} second(s)')"
      ],
      "execution_count": 40,
      "outputs": [
        {
          "output_type": "stream",
          "name": "stdout",
          "text": [
            "Sleeping 5 second(s)...Sleeping 4 second(s)...\n",
            "\n",
            "Sleeping 3 second(s)...Sleeping 2 second(s)...\n",
            "\n",
            "Sleeping 1 second(s)...\n",
            "Done Sleeping...5\n",
            "Done Sleeping...4\n",
            "Done Sleeping...3\n",
            "Done Sleeping...2\n",
            "Done Sleeping...1\n",
            "Finished in 5.01 second(s)\n"
          ]
        }
      ]
    },
    {
      "cell_type": "markdown",
      "metadata": {
        "id": "GK3NhaLXJ9Lg"
      },
      "source": [
        "We we used `submit()` method it returned a future object and when we use map it instead returns the results. In this it is still going to run the threads concurrently but instead of returning the results as they completed like before, `map()` is going to return the results in the order they started.\n",
        "\n",
        "In the above output, the threads all get kicked off almost at the same time, and it looked like they all get completed at the same time. But, the did not actually completed all at the same time but when we loop over the results in the order they started. It still took 5 seconds altogether.\n",
        "\n",
        "Now, below is an more realistic application of threading. In the script below we are downloading 15 images from a website. It isone of the I/O based operation. "
      ]
    },
    {
      "cell_type": "code",
      "metadata": {
        "colab": {
          "base_uri": "https://localhost:8080/"
        },
        "id": "haV_i6LPN8_u",
        "outputId": "8b09e683-105d-4211-ef64-686373e75785"
      },
      "source": [
        "import requests\n",
        "\n",
        "img_urls = [\n",
        "    'https://images.unsplash.com/photo-1516117172878-fd2c41f4a759',\n",
        "    'https://images.unsplash.com/photo-1532009324734-20a7a5813719',\n",
        "    'https://images.unsplash.com/photo-1524429656589-6633a470097c',\n",
        "    'https://images.unsplash.com/photo-1530224264768-7ff8c1789d79',\n",
        "    'https://images.unsplash.com/photo-1564135624576-c5c88640f235',\n",
        "    'https://images.unsplash.com/photo-1541698444083-023c97d3f4b6',\n",
        "    'https://images.unsplash.com/photo-1522364723953-452d3431c267',\n",
        "    'https://images.unsplash.com/photo-1513938709626-033611b8cc03',\n",
        "    'https://images.unsplash.com/photo-1507143550189-fed454f93097',\n",
        "    'https://images.unsplash.com/photo-1493976040374-85c8e12f0c0e',\n",
        "    'https://images.unsplash.com/photo-1504198453319-5ce911bafcde',\n",
        "    'https://images.unsplash.com/photo-1530122037265-a5f1f91d3b99',\n",
        "    'https://images.unsplash.com/photo-1516972810927-80185027ca84',\n",
        "    'https://images.unsplash.com/photo-1550439062-609e1531270e',\n",
        "    'https://images.unsplash.com/photo-1549692520-acc6669e2f0c'\n",
        "]\n",
        "\n",
        "t1 = time.perf_counter()\n",
        "\n",
        "\n",
        "for img_url in img_urls:\n",
        "    img_bytes = requests.get(img_url).content  # using the request library \n",
        "    img_name = img_url.split('/')[3]   # parsing for the image name\n",
        "    img_name = f'{img_name}.jpg'\n",
        "    with open(img_name, 'wb') as img_file:   # opening a file in byte mode\n",
        "        img_file.write(img_bytes)          # writing those image byues into the file \n",
        "        print(f'{img_name} was downloaded...')\n",
        "\n",
        "t2 = time.perf_counter()\n",
        "\n",
        "print(f'Finished in {t2-t1} seconds')"
      ],
      "execution_count": 43,
      "outputs": [
        {
          "output_type": "stream",
          "name": "stdout",
          "text": [
            "photo-1516117172878-fd2c41f4a759.jpg was downloaded...\n",
            "photo-1532009324734-20a7a5813719.jpg was downloaded...\n",
            "photo-1524429656589-6633a470097c.jpg was downloaded...\n",
            "photo-1530224264768-7ff8c1789d79.jpg was downloaded...\n",
            "photo-1564135624576-c5c88640f235.jpg was downloaded...\n",
            "photo-1541698444083-023c97d3f4b6.jpg was downloaded...\n",
            "photo-1522364723953-452d3431c267.jpg was downloaded...\n",
            "photo-1513938709626-033611b8cc03.jpg was downloaded...\n",
            "photo-1507143550189-fed454f93097.jpg was downloaded...\n",
            "photo-1493976040374-85c8e12f0c0e.jpg was downloaded...\n",
            "photo-1504198453319-5ce911bafcde.jpg was downloaded...\n",
            "photo-1530122037265-a5f1f91d3b99.jpg was downloaded...\n",
            "photo-1516972810927-80185027ca84.jpg was downloaded...\n",
            "photo-1550439062-609e1531270e.jpg was downloaded...\n",
            "photo-1549692520-acc6669e2f0c.jpg was downloaded...\n",
            "Finished in 2.2150637459999416 seconds\n"
          ]
        }
      ]
    },
    {
      "cell_type": "markdown",
      "metadata": {
        "id": "ctwUvkI_Pn4N"
      },
      "source": [
        "Here it is actually spending a lot of time waiting. It is waiting for the response from the site and not moving to the next line until it get the entire response back from the site. Let us use threading for this:"
      ]
    },
    {
      "cell_type": "code",
      "metadata": {
        "colab": {
          "base_uri": "https://localhost:8080/"
        },
        "id": "V2CGxo7_N6gj",
        "outputId": "cd2d9052-9514-4cc7-ef6f-2edb59138f79"
      },
      "source": [
        "t1 = time.perf_counter()\n",
        "\n",
        "\n",
        "def download_image(img_url):\n",
        "    img_bytes = requests.get(img_url).content\n",
        "    img_name = img_url.split('/')[3]\n",
        "    img_name = f'{img_name}.jpg'\n",
        "    with open(img_name, 'wb') as img_file:\n",
        "        img_file.write(img_bytes)\n",
        "        print(f'{img_name} was downloaded...')\n",
        "\n",
        "\n",
        "with concurrent.futures.ThreadPoolExecutor() as executor:  # it will request for the images in different threads, running it asynchronously\n",
        "    executor.map(download_image, img_urls)\n",
        "\n",
        "t2 = time.perf_counter()\n",
        "\n",
        "print(f'Finished in {t2-t1} seconds')"
      ],
      "execution_count": 42,
      "outputs": [
        {
          "output_type": "stream",
          "name": "stdout",
          "text": [
            "photo-1516117172878-fd2c41f4a759.jpg was downloaded...\n",
            "photo-1507143550189-fed454f93097.jpg was downloaded...\n",
            "photo-1564135624576-c5c88640f235.jpg was downloaded...\n",
            "photo-1530224264768-7ff8c1789d79.jpg was downloaded...\n",
            "photo-1513938709626-033611b8cc03.jpg was downloaded...\n",
            "photo-1524429656589-6633a470097c.jpg was downloaded...\n",
            "photo-1516972810927-80185027ca84.jpg was downloaded...\n",
            "photo-1504198453319-5ce911bafcde.jpg was downloaded...\n",
            "photo-1522364723953-452d3431c267.jpg was downloaded...\n",
            "photo-1532009324734-20a7a5813719.jpg was downloaded...\n",
            "photo-1530122037265-a5f1f91d3b99.jpg was downloaded...\n",
            "photo-1541698444083-023c97d3f4b6.jpg was downloaded...\n",
            "photo-1493976040374-85c8e12f0c0e.jpg was downloaded...\n",
            "photo-1549692520-acc6669e2f0c.jpg was downloaded...\n",
            "photo-1550439062-609e1531270e.jpg was downloaded...\n",
            "Finished in 1.8038244919989666 seconds\n"
          ]
        }
      ]
    },
    {
      "cell_type": "code",
      "metadata": {
        "id": "cT7h0Vpg-D_x",
        "colab": {
          "base_uri": "https://localhost:8080/"
        },
        "outputId": "dc92c9db-a36f-44bf-fe47-55a75a7e3623"
      },
      "source": [
        "import logging\n",
        "import threading\n",
        "import time\n",
        "\n",
        "def thread_function(name):\n",
        "    logging.info(\"Thread %s: starting\", name)\n",
        "    time.sleep(2)\n",
        "    logging.info(\"Thread %s: finishing\", name)\n",
        "\n",
        "if __name__ == \"__main__\":\n",
        "    format = \"%(asctime)s: %(message)s\"\n",
        "    logging.basicConfig(format=format, level=logging.INFO,\n",
        "                        datefmt=\"%H:%M:%S\")\n",
        "\n",
        "    logging.info(\"Main    : before creating thread\")\n",
        "    x = threading.Thread(target=thread_function, args=(1,))\n",
        "    logging.info(\"Main    : before running thread\")\n",
        "    x.start()\n",
        "    logging.info(\"Main    : wait for the thread to finish\")\n",
        "    # x.join()\n",
        "    logging.info(\"Main    : all done\")"
      ],
      "execution_count": 24,
      "outputs": [
        {
          "output_type": "stream",
          "name": "stderr",
          "text": [
            "09:45:12: Main    : before creating thread\n",
            "09:45:12: Main    : before running thread\n",
            "09:45:12: Thread 1: starting\n",
            "09:45:12: Main    : wait for the thread to finish\n",
            "09:45:12: Main    : all done\n"
          ]
        }
      ]
    },
    {
      "cell_type": "markdown",
      "metadata": {
        "id": "7XeIEEjPRUQR"
      },
      "source": [
        "Now, we can see a bit of speed up in the process of downloading the images by the use of threads. The speed ups can be more drastic depending on what we are actually doing. \n",
        "\n",
        "## Difference between threading and multiprocessing:\n",
        "\n",
        "Now, a lot of time we confuse between threading and multiprocessing: \n",
        "Though both are used to spped up multitasking, the ***threading module*** uses threads, the ***multiprocessing module*** uses processes. The difference is that threads run in the same memory space, while processes have separate memory. This makes it a bit harder to share objects between processes with multiprocessing.\n",
        "\n",
        "![](https://www.lightbringercap.com/uploads/7/2/8/8/72888973/fg_orig.jpg)\n",
        "***Image credits: [Data Science Central](https://www.google.com/url?sa=i&url=https%3A%2F%2Fwww.datasciencecentral.com%2Fprofiles%2Fblogs%2Fneuromancer-blues-threading-vs-multiprocessing&psig=AOvVaw21VHYGg3vjQQy1jjBplMW2&ust=1633689458942000&source=images&cd=vfe&ved=0CAwQjhxqFwoTCNj1r9SNuPMCFQAAAAAdAAAAABAb)***\n",
        "\n",
        "## Conclusion\n",
        "\n",
        "Also if some script is doing a lot of computation that would not be ideal for threading. In such cases it may decrease the spped of execution.\n",
        "\n",
        "So depending upon the type of task we are doing we ned to chose the task. If it involves a lot of processing, we can use multi-processing instead of threading.\n",
        "\n",
        "In the fields like game development, data science and ML/DL, threading have its extensive use, where we do not want to block the entire application due to the loading of any graphics, large data, plots or any other tasks."
      ]
    }
  ]
}
