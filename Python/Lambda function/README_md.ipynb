{
  "nbformat": 4,
  "nbformat_minor": 0,
  "metadata": {
    "colab": {
      "name": "README.md",
      "provenance": [],
      "collapsed_sections": []
    },
    "kernelspec": {
      "name": "python3",
      "display_name": "Python 3"
    },
    "language_info": {
      "name": "python"
    }
  },
  "cells": [
    {
      "cell_type": "markdown",
      "metadata": {
        "id": "eZjqoi5FBk_U"
      },
      "source": [
        "#PYTHON - LAMBDA FUNCTION\n",
        "\n",
        "**Lambda** function is a small , anonymous (without name) function supported by Python.\n",
        "\n",
        "A lambda function takes any number of arguments but will have only one expression to be evaluated, returns its result.\n",
        "\n",
        "Unlike normal functions defined with `def` keyword , `lambda` function doesnot have a return statement.\n",
        "\n",
        "**Use Cases**\n",
        "\n",
        "*   Lambda function is used where a function goes out of scope within short span of time.\n",
        "\n",
        "\n",
        "*   It is also used to return function objects.\n",
        "\n",
        "\n",
        "* It is frequently used with built-in functions like `filter()` , `map()`.\n",
        "\n",
        "\n",
        "**Syntax :**\n",
        "\n",
        "```\n",
        "lambda arguments : expression\n",
        "```\n",
        "\n",
        "**Code Snippets demonstrating Use Cases**\n",
        "\n",
        "\n",
        "\n",
        "\n",
        "**1.**  *Lambda function returning function objects:*\n",
        "\n",
        "\n",
        "\n",
        "Here the lambda function returns the function object and its address.\n",
        "\n",
        "\n",
        "\n",
        "\n",
        "\n",
        "\n",
        "\n",
        "\n",
        "\n",
        "\n",
        "\n",
        "\n",
        "\n",
        "\n",
        "\n",
        "\n",
        "\n",
        "\n"
      ]
    },
    {
      "cell_type": "code",
      "metadata": {
        "colab": {
          "base_uri": "https://localhost:8080/"
        },
        "id": "FTCLLAn0SfAn",
        "outputId": "e8cf0c7f-c168-42a1-9513-5a13c6f628df"
      },
      "source": [
        "s = 'GWOC'\n",
        "print(lambda s : s)"
      ],
      "execution_count": 2,
      "outputs": [
        {
          "output_type": "stream",
          "name": "stdout",
          "text": [
            "<function <lambda> at 0x7fd8bdb01c20>\n"
          ]
        }
      ]
    },
    {
      "cell_type": "markdown",
      "metadata": {
        "id": "CN95YGVibBkx"
      },
      "source": [
        "**2.**  *A simple Lambda function* :\n",
        "\n",
        " Normally, a function to add 10 to the value passed as its argument can be defined as:"
      ]
    },
    {
      "cell_type": "code",
      "metadata": {
        "colab": {
          "base_uri": "https://localhost:8080/"
        },
        "id": "qz1kiSNMVXcR",
        "outputId": "f226e3d0-65e1-4447-f91f-ae7b185c1354"
      },
      "source": [
        "def add(a):  \n",
        "    return a+10  \n",
        "print(add(100))  "
      ],
      "execution_count": 5,
      "outputs": [
        {
          "output_type": "stream",
          "name": "stdout",
          "text": [
            "110\n"
          ]
        }
      ]
    },
    {
      "cell_type": "markdown",
      "metadata": {
        "id": "R6H7JYoEbLYN"
      },
      "source": [
        "The same functionality can be achieved using `lambda` function in one line as:\n"
      ]
    },
    {
      "cell_type": "code",
      "metadata": {
        "colab": {
          "base_uri": "https://localhost:8080/"
        },
        "id": "XIKicJMnWc-C",
        "outputId": "a476b03c-09f8-476a-c881-f09e252bd476"
      },
      "source": [
        "print((lambda x : x+10)(100))"
      ],
      "execution_count": 9,
      "outputs": [
        {
          "output_type": "stream",
          "name": "stdout",
          "text": [
            "110\n"
          ]
        }
      ]
    },
    {
      "cell_type": "markdown",
      "metadata": {
        "id": "AF3FJStuax3p"
      },
      "source": [
        "**3.**  *Lambda function used with `filter()` method*:\n",
        "\n",
        "Here this function returns the elements of list which are odd in sorted order.\n"
      ]
    },
    {
      "cell_type": "code",
      "metadata": {
        "colab": {
          "base_uri": "https://localhost:8080/"
        },
        "id": "6rFhT7whYCXl",
        "outputId": "0807805f-f58f-4bf5-e13a-ec75149a02cd"
      },
      "source": [
        "List=[1,2,3,4,5,6,7,8,9]\n",
        "res=filter(lambda x : x%2!=0,List)\n",
        "print(sorted(res))"
      ],
      "execution_count": 10,
      "outputs": [
        {
          "output_type": "stream",
          "name": "stdout",
          "text": [
            "[1, 3, 5, 7, 9]\n"
          ]
        }
      ]
    },
    {
      "cell_type": "markdown",
      "metadata": {
        "id": "8IDVrfjcbeAZ"
      },
      "source": [
        " **4.** *Lambda function used with `map()` method*:\n",
        "\n",
        "The lambda function is defined here, in such a way that, it squares every list element and returns it. \n",
        "\n"
      ]
    },
    {
      "cell_type": "code",
      "metadata": {
        "colab": {
          "base_uri": "https://localhost:8080/"
        },
        "id": "1qp5Tn4eZUqo",
        "outputId": "2ae8fb36-e6e2-4f6e-fefc-56b277776a17"
      },
      "source": [
        "x=[1,2,3,4,5,6,7,8,9]\n",
        "print(sorted(map((lambda x : x**2),x)))"
      ],
      "execution_count": 16,
      "outputs": [
        {
          "output_type": "stream",
          "name": "stdout",
          "text": [
            "[1, 4, 9, 16, 25, 36, 49, 64, 81]\n"
          ]
        }
      ]
    }
  ]
}