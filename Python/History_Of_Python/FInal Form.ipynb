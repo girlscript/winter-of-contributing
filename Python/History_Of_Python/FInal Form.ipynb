{
 "cells": [
  {
   "cell_type": "markdown",
   "id": "0ad595f8",
   "metadata": {},
   "source": [
    "# Ipython\n",
    "\n",
    "### IPython has more features as compared to the standard Python.There are some of the following :−\n",
    "\n",
    "#### 1.It offers a powerful interactive Python shell.\n",
    "\n",
    "#### 2.Ipython is a main kernel for Jupyter notebook and other front end tools of Project Jupyter.\n",
    "\n",
    "#### 3.It has object introspection ability.(introspection:It is a ability to check properties of an object during runtime)\n",
    "\n",
    "#### 4.It can store the history of the interactions.\n",
    "\n",
    "#### 5.We can use tab for completion of keywords,variables and function names.(more userfriendly)\n",
    "\n",
    "#### 6.It has a magic command system useful for controlling Python environment and performing OS tasks.\n",
    "\n",
    "#### 7.Ability to be embedded in other Python programs.\n",
    "\n",
    "#### 8.Provides access to Python debugger."
   ]
  },
  {
   "cell_type": "markdown",
   "id": "adfcaa60",
   "metadata": {},
   "source": [
    "### Quick install reminder\n",
    "#### Here is a quick reminder of the commands needed for installation if you are already familiar with IPython and are just searching to refresh your memory:\n",
    "\n",
    "`Install IPython:`\n",
    "\n",
    "$ pip install ipython\n",
    "Install and register an IPython kernel with Jupyter:\n",
    "\n",
    "$ python -m pip install ipykernel\n",
    "\n",
    "$ python -m ipykernel install [--user] [--name <machine-readable-name>] [--display-name <\"User Friendly N"
   ]
  },
  {
   "cell_type": "markdown",
   "id": "799ea0ee",
   "metadata": {},
   "source": [
    "### IPython reference\n",
    "`Command-line usage\n",
    "You start IPython with the command:`\n",
    "\n",
    "$ ipython [options] files\n",
    "If invoked with no options, it executes the file and exits, passing the remaining arguments to the script, just as if you had specified the same command with python. You may need to specify -- before args to be passed to the script, to prevent IPython from attempting to parse them. If you add the -i flag, it drops you into the interpreter while still acknowledging any options you may have set in your ipython_config.py. This behavior is different from standard Python, which when called as python -i will only execute one file and ignore your configuration setup.\n",
    "\n",
    "Please note that some of the configuration options are not available at the command line, simply because they are not practical here. Look into your configuration files for details on those. There are separate configuration files for each profile, and the files look like ipython_config.py or ipython_config_frontendname.py. Profile directories look like profile_profilename and are typically installed in the IPYTHONDIR directory, which defaults to $HOME/.ipython. For Windows users, HOME resolves to C:\\Users{YourUserName} in most instances.\n",
    "\n",
    "#### Command-line Options\n",
    "To see the options IPython accepts, use ipython --help (and you probably should run the output through a pager such as ipython --help | less for more convenient reading). This shows all the options that have a single-word alias to control them, but IPython lets you configure all of its objects from the command-line by passing the full class name and a corresponding value; type ipython --help-all to see this full list. \n",
    "\n",
    "#### For example:\n",
    "\n",
    "`$ ipython --help-all\n",
    "<...snip...>\n",
    "--matplotlib=<CaselessStrEnum> (InteractiveShellApp.matplotlib)\n",
    "    Default: None\n",
    "    Choices: ['auto', 'gtk', 'gtk3', 'gtk4', 'inline', 'nbagg', 'notebook', 'osx', 'qt', 'qt4', 'qt5', 'tk', 'wx']\n",
    "    Configure matplotlib for interactive use with the default matplotlib\n",
    "    backend.\n",
    "<...snip...>\n",
    "Indicate that the following:\n",
    "\n",
    "`$ ipython --matplotlib qt\n",
    "is equivalent to:\n",
    "\n",
    "$ ipython --TerminalIPythonApp.matplotlib='qt'\n",
    "Note that in the second form, you must use the equal sign, as the expression is evaluated as an actual Python assignment. While in the above example the short form is more convenient, only the most common options have a short form, while any configurable variable in IPython can be set at the command-line by using the long form. This long form is the same syntax used in the configuration files, if you want to set these options permanently."
   ]
  },
  {
   "cell_type": "markdown",
   "id": "8433b269",
   "metadata": {},
   "source": [
    "# Jython\n",
    "\n",
    "\n",
    "### Jython is a Java implementation of Python that combines expressive power with clarity. Jython is freely available for both commercial and non-commercial use and is distributed with source code under the PSF License v2. Jython is complementary to Java and is especially suited for the following tasks:\n",
    "### Embedded scripting - Java programmers can add the Jython libraries to their system to allow end users to write simple or complicated scripts that add functionality to the application.\n",
    "Interactive experimentation - Jython provides an interactive interpreter that can be used to interact with Java packages or with running Java applications. This allows programmers to experiment and debug any Java system using Jython.Rapid application development - Python programs are typically 2-10x shorter than the equivalent Java program. This translates directly to increased programmer productivity. The seamless interaction between Python and Java allows developers to freely mix the two languages both during development and in shipping products."
   ]
  },
  {
   "cell_type": "markdown",
   "id": "ce50cd60",
   "metadata": {},
   "source": [
    "### Jython Specific Documentation\n",
    "The following documentation is specific to Jython:\n",
    "For a one-page introduction to what Jython is, and why you should care, check out What is Jython?.\n",
    "Here is information on invoking the Jython interpreter by typing jython at the shell prompt.\n",
    "The Jython registry replaces environment variables for PYTHONPATH and more.\n",
    "The embedding document describes how to call Jython from a Java application.\n",
    "The generated JavaDoc documentation of the API is available as frame and as non-frame versions.\n",
    "You might also be interested in building Jython from the source code."
   ]
  },
  {
   "cell_type": "markdown",
   "id": "be9d08b4",
   "metadata": {},
   "source": [
    "### Installation\n",
    "Jython is distributed as a self-extracting .class file created by LiftOff. To install Jython, open the command line to the directory in which you have placed the jython-21.class file and then type:\n",
    "\n",
    "<java interpreter> jython-21\n",
    "\n",
    "You will probably type one of the following three lines, depending on your system. Be sure not to put \".class\" at the end of the file name.\n",
    "\n",
    "java jython-21\n",
    "\n",
    "jre jython-21\n",
    "\n",
    "jview jython-21\n",
    "\n",
    "It can be necessay to set the CLASSPATH to include the current directory\n",
    "\n",
    "env CLASSPATH=. java jython-21\n",
    "\n",
    "java -cp . jython-21\n",
    "\n",
    "java -classpath . jython-21\n",
    "\n",
    "jview /cp:. jython-21\n",
    "\n",
    "Which command to use depends on your operating system and java version. If you have more than one java installed, you may have to supply an explicit path the java command. When installing the JDK 1.2 from javasoft, the default is it install both the JDK and a plugin JRE. The plugin JRE is added to your PATH, so running the java jython-21 command will make jython use the JRE. Specify the full path if you want to use JDK instead, ie: c:\\Programs\\JDK1.2\\bin\\java -cp . jython-21.\n",
    "\n",
    "If you do not have a GUI, then add -o dir_to_install_to to the command above. Jython will install to the specified directory without bringing up the graphical installer. E.g. to install all modules to a Jython-2.1 subdirectory in the current directory do:\n",
    "\n",
    "<java interpreter> jython-21 -o Jython-2.1 demo lib source\n",
    "\n",
    "After completing installation, you should be able to run Jython by typing:\n",
    "\n",
    "jython"
   ]
  },
  {
   "cell_type": "markdown",
   "id": "a16d528d",
   "metadata": {},
   "source": [
    "# Cpython\n",
    "## Introduction to CPython\n",
    "#### CPython is that it contains both a runtime and the shared language specification that all Python runtimes use. CPython is the “official,” or reference implementation of Python.\n",
    "### What’s in the Source Code?\n",
    "The CPython source distribution comes with a whole range of tools, libraries, and components. We’ll explore those in this article. First we are going to focus on the compiler.To download a copy of the CPython source code, you can use git to pull the latest version to a working copy locally:\n",
    "$ git clone https://github.com/python/cpython\n",
    "\n"
   ]
  },
  {
   "cell_type": "markdown",
   "id": "a22b36dc",
   "metadata": {},
   "source": [
    "### Compiling CPython (Windows)\n",
    "\n",
    "Inside the PC folder is a Visual Studio project file for building and exploring CPython. To use this, you need to have Visual Studio installed on your PC.The newest version of Visual Studio, Visual Studio 2019, makes it easier to work with Python and the CPython source code, so it is recommended for use in this tutorial. If you already have Visual Studio 2017 installed, that would also work fine.None of the paid features are required for compiling CPython or this tutorial. You can use the Community edition of Visual Studio, which is available for free from Microsoft’s Visual Studio website.Once you’ve downloaded the installer, you’ll be asked to select which components you want to install. The bare minimum for this tutorial is:\n",
    "The optional Python native development tools\n",
    "Python 3 64-bit (3.7.2) (can be deselected if you already have Python 3.7 installed)\n",
    "### Why Is CPython Written in C and Not Python?\n",
    "The C in CPython is a reference to the C programming language, implying that this Python distribution is written in the C language.This statement is largely true: the compiler in CPython is written in pure C. However, many of the standard library modules are written in pure Python or a combination of C and Python.\n",
    "### why is CPython written in C and not Python?\n",
    "The answer is located in how compilers work. There are two types of compiler:\n",
    "Self-hosted compilers are compilers written in the language they compile, such as the Go compiler.Source-to-source compilers are compilers written in another language that already have a compiler.If you’re writing a new programming language from scratch, you need an executable application to compile your compiler! You need a compiler to execute anything, so when new languages are developed, they’re often written first in an older, more established language.\n",
    "#### `CPython kept its C heritage:`\n",
    "Many of the standard library modules, like the ssl module or the sockets module, are written in C to access low-level operating system APIs. The APIs in the Windows and Linux kernels for creating network sockets, working with the filesystem or interacting with the display are all written in C. It made sense for Python’s extensibility layer to be focused on the C language. Later in this article, we will cover the Python Standard Library and the C modules."
   ]
  },
  {
   "cell_type": "markdown",
   "id": "be770803",
   "metadata": {},
   "source": [
    "# Pypy\n",
    "## What is PyPy?\n",
    "### Historically, PyPy has been used to mean two things. The first is the RPython translation toolchain for generating interpreters for dynamic programming languages. And the second is one particular implementation of Python produced with it. Because RPython uses the same syntax as Python, this generated version became known as Python interpreter written in Python. It is designed to be flexible and easy to experiment with.To make it more clear, we start with source code written in RPython, apply the RPython translation toolchain, and end up with PyPy as a binary executable. This executable is the Python interpreter.\n",
    "\n",
    "### Double usage has proven to be confusing, so we’ve moved away from using the word PyPy to mean both toolchain and generated interpreter. Now we use word PyPy to refer to the Python implementation, and explicitly mention RPython translation toolchain when we mean the framework.We target a large variety of platforms, small and large, by providing a compiler toolsuite that can produce custom Python versions. Platform, memory and threading models, as well as the JIT compiler itself, are aspects of the translation process - as opposed to encoding low level details into the language implementation itself."
   ]
  },
  {
   "cell_type": "markdown",
   "id": "ffc8a7f6",
   "metadata": {},
   "source": [
    "### PyPy Python Interpreter\n",
    "#### PyPy’s Python Interpreter is written in RPython and implements the full Python language. This interpreter very closely emulates the behavior of CPython. It contains the following key components:\n",
    "\n",
    "#### 1.A bytecode compiler responsible for producing Python code objects from the source code of a user application;\n",
    "#### 2.A bytecode evaluator responsible for interpreting Python code objects;\n",
    "#### 3.A standard object space, responsible for creating and manipulating the Python objects seen by the application.\n",
    "#### 4.The bytecode compiler is the preprocessing phase that produces a compact bytecode format via a chain of flexible passes (tokenizer, lexer, parser, abstract syntax tree builder, bytecode generator). The bytecode evaluator interprets this bytecode. It does most of its work by delegating all actual manipulations of user objects to the object space. The latter can be thought of as the library of built-in types. It defines the implementation of the user objects, like integers and lists, as well as the operations between them, like addition or truth-value-testing.\n",
    "\n"
   ]
  },
  {
   "cell_type": "markdown",
   "id": "2fe0a922",
   "metadata": {},
   "source": [
    "\n",
    "### This is in the pypy directory. pypy/interpreter is a standard interpreter for Python written in RPython. The fact that it is RPython is not apparent at first. Built-in modules are written in pypy/module/*. Some modules that CPython implements in C are simply written in pure Python; they are in the top-level lib_pypy directory. The standard library of Python (with a few changes to accomodate PyPy) is in lib-python."
   ]
  },
  {
   "cell_type": "markdown",
   "id": "70237d62",
   "metadata": {},
   "source": [
    "## Installing PyPy\n",
    "### PyPy is ready to be executed as soon as you unpack the tarball or the zip file, with no need to install it in any specific location:\n",
    "​\n",
    "#### tar xf pypy-x.y.z.tar.bz2\n",
    "#### ./pypy-x.y.z/bin/pypy\n",
    "#### Python 2.7.x (xxxxxxxxxxxx, Date, Time)\n",
    "#### [PyPy x.y.z with GCC x.y.z] on linux2\n"
   ]
  },
  {
   "cell_type": "markdown",
   "id": "aed84d59",
   "metadata": {},
   "source": [
    "### Building PyPy from Source\n",
    "#### For building PyPy, we recommend installing a pre-built PyPy first (see Downloading and Installing PyPy). It is possible to build PyPy with CPython, but it will take a lot longer to run – depending on your architecture, between two and three times as long.Even when using PyPy to build PyPy, translation is time-consuming – 30 minutes on a fast machine – and RAM-hungry. You will need at least 2 GB of memory on a 32-bit machine and 4GB on a 64-bit machine.\n",
    "\n",
    "#### Our normal development workflow avoids a full translation by using test-driven development. You can read more about how to develop PyPy here, and latest translated (hopefully functional) binary packages are available on our buildbot’s nightly builds\n",
    "\n",
    "### Clone the repository\n",
    " If you prefer to compile your own PyPy, or if you want to modify it, you will need to obtain a copy of the sources. This can be done either by downloading them from the download page or by checking them out from the repository using mercurial. We suggest using mercurial if you want to access the current development.\n",
    "\n",
    "#### You must issue the following command on your command line, DOS box, or terminal:\n",
    "\n",
    "hg clone https://foss.heptapod.net/pypy/pypy pypy\n",
    "This will clone the repository and place it into a directory named pypy, and will get you the PyPy source in pypy/pypy and documentation files in pypy/pypy/doc. We try to ensure that the tip is always stable, but it might occasionally be broken. You may want to check out our nightly tests: find a revision (12-chars alphanumeric string, e.g. “963e808156b3”) that passed at least the {linux32} tests (corresponding to a + sign on the line success) and then, in your cloned repository, switch to this revision using:\n",
    "\n",
    "hg up -r XXXXX\n",
    "where XXXXX is the revision id.\n",
    "\n",
    "#### Install build-time dependencies\n",
    "(Note: for some hints on how to translate the Python interpreter under Windows, see the windows document .\n",
    "\n",
    "The host Python needs to have CFFI installed. If translating on PyPy, CFFI is already installed. If translating on CPython, you need to install it, e.g. using python -mpip install cffi.\n",
    "\n",
    "To build PyPy on Unix using the C translation backend, you need at least a C compiler and make installed. Further, some optional modules have additional dependencies:\n",
    "\n",
    "cffi, ctypes\n",
    "libffi, pkg-config\n",
    "zlib\n",
    "libz\n",
    "bz2\n",
    "libbz2\n",
    "pyexpat\n",
    "libexpat1\n",
    "_vmprof\n",
    "libunwind (optional, loaded dynamically at runtime)\n",
    "Make sure to have these libraries (with development headers) installed before building PyPy, otherwise the resulting binary will not contain these modules. Furthermore, the following libraries should be present after building PyPy, otherwise the corresponding CFFI modules are not built (you can run or re-run lib_pypy/pypy_tools/build_cffi_imports.py to build them; you don’t need to re-translate the whole PyPy):\n",
    "\n",
    "sqlite3\n",
    "libsqlite3\n",
    "_ssl, _hashlib\n",
    "libssl\n",
    "curses\n",
    "libncurses-dev (for PyPy2) libncursesw-dev (for PyPy3)\n",
    "gdbm\n",
    "libgdbm-dev\n",
    "tk\n",
    "tk-dev"
   ]
  },
  {
   "cell_type": "code",
   "execution_count": null,
   "id": "0b64daa8",
   "metadata": {},
   "outputs": [],
   "source": []
  }
 ],
 "metadata": {
  "kernelspec": {
   "display_name": "Python 3",
   "language": "python",
   "name": "python3"
  },
  "language_info": {
   "codemirror_mode": {
    "name": "ipython",
    "version": 3
   },
   "file_extension": ".py",
   "mimetype": "text/x-python",
   "name": "python",
   "nbconvert_exporter": "python",
   "pygments_lexer": "ipython3",
   "version": "3.8.8"
  }
 },
 "nbformat": 4,
 "nbformat_minor": 5
}
