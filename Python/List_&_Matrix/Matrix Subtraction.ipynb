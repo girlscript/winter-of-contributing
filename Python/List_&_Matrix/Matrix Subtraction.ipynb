{
 "cells": [
  {
   "cell_type": "code",
   "execution_count": 1,
   "id": "d43a7206",
   "metadata": {},
   "outputs": [
    {
     "name": "stdout",
     "output_type": "stream",
     "text": [
      "The element wise addition of matrix is : \n",
      "[[-6 -6]\n",
      " [-5 -5]]\n"
     ]
    }
   ],
   "source": [
    "import numpy\n",
    "  \n",
    "# initializing matrices\n",
    "x = numpy.array([[1, 2], [4, 5]])\n",
    "y = numpy.array([[7, 8], [9, 10]])\n",
    "  \n",
    "\"\"\"\n",
    "##Taking all numbers of the matric one by one from the user\n",
    "# initializing an empty matrix\n",
    "matrix = []\n",
    "# taking 2x2 matrix from the user\n",
    "for i in range(2):\n",
    "   # empty row\n",
    "   row = []\n",
    "   for j in range(2):\n",
    "      # asking the user to input the number\n",
    "      # converts the input to int as the default one is string\n",
    "      element = int(input())\n",
    "      # appending the element to the 'row'\n",
    "      row.append(element)\n",
    "   # appending the 'row' to the 'matrix'\n",
    "   matrix.append(row)\n",
    "\"\"\"\n",
    "    \n",
    "    \n",
    "    \n",
    "# using add() to add matrices\n",
    "print (\"The element wise addition of matrix is : \")\n",
    "print (numpy.subtract(x,y))"
   ]
  },
  {
   "cell_type": "code",
   "execution_count": null,
   "id": "e2627412",
   "metadata": {},
   "outputs": [],
   "source": []
  }
 ],
 "metadata": {
  "kernelspec": {
   "display_name": "Python 3",
   "language": "python",
   "name": "python3"
  },
  "language_info": {
   "codemirror_mode": {
    "name": "ipython",
    "version": 3
   },
   "file_extension": ".py",
   "mimetype": "text/x-python",
   "name": "python",
   "nbconvert_exporter": "python",
   "pygments_lexer": "ipython3",
   "version": "3.8.8"
  }
 },
 "nbformat": 4,
 "nbformat_minor": 5
}
