{
  "nbformat": 4,
  "nbformat_minor": 0,
  "metadata": {
    "colab": {
      "name": "Stacks.ipynb",
      "provenance": [],
      "collapsed_sections": [],
      "authorship_tag": "ABX9TyOwFDKNt6zuCC5eLjqXEM6G",
      "include_colab_link": true
    },
    "kernelspec": {
      "name": "python3",
      "display_name": "Python 3"
    },
    "language_info": {
      "name": "python"
    }
  },
  "cells": [
    {
      "cell_type": "markdown",
      "metadata": {
        "id": "view-in-github",
        "colab_type": "text"
      },
      "source": [
        "<a href=\"https://colab.research.google.com/github/itsKiranay/winter-of-contributing/blob/Python/Python/Stack_and_Queue/Stacks.ipynb\" target=\"_parent\"><img src=\"https://colab.research.google.com/assets/colab-badge.svg\" alt=\"Open In Colab\"/></a>"
      ]
    },
    {
      "cell_type": "markdown",
      "metadata": {
        "id": "NPNymq-0ZUMs"
      },
      "source": [
        "# **Stacks**\n",
        "### **What is stack?**\n",
        "\n",
        "> Stack is a type of data structure that works in LIFO (Last In/First Out) manner. You're already familier with LIFO if you have ever played tower of hanoi game.\n",
        "> <p align=center>\n",
        ">  <img src = \"https://user-images.githubusercontent.com/76274213/133957518-3e1c971f-32fc-4aff-a0d5-203b144d1f97.png\">\n",
        "> </p>\n",
        "> \n",
        "> Undo function in various texteditors also implement stack data structure to revert back to previous state when provoked.\n",
        "> \n",
        "### **Implementing Stack data structure in Python**\n",
        "\n",
        "> Python provides a number of ways to implement stacks in your program. You can even write your own code base from scratch or use in-built libraries for that purpose. \n",
        "> Every stack must atleast support two methods : **push** to add data and **pop** to remove. We are gonna look at some in-built methods to do so :\n",
        ">\n",
        "> **Built-in methods**\n",
        ">    \n",
        ">> 1. List\n",
        ">> 2. collections.deque\n",
        ">> 3. queue.LifoQueue \n",
        "> \n",
        " ### **Using lists to implement stack**\n",
        " \n",
        "> Lists in python are very easy to implement and manipulate. We will be using built-in append and pop method on our stack.\n"
      ]
    },
    {
      "cell_type": "code",
      "metadata": {
        "colab": {
          "base_uri": "https://localhost:8080/"
        },
        "id": "DB0HOCvCbEZu",
        "outputId": "34a3d93b-187d-4fce-b7ff-082c1f455fcf"
      },
      "source": [
        "# Intializing\n",
        "my_stack = list()\n",
        "\n",
        "# adding elements to my_stack\n",
        "my_stack.append(10)\n",
        "my_stack.append(20) \n",
        "my_stack.append(30)\n",
        "print(my_stack)\n",
        "\n",
        "# removing elements from my_stack\n",
        "my_stack.pop() \n",
        "print(my_stack)\n",
        "my_stack.pop() \n",
        "print(my_stack.pop())  # returns 10 and removes it from the stack\n",
        "# my_stack.pop() # results in error\n",
        "print(my_stack)\n"
      ],
      "execution_count": 7,
      "outputs": [
        {
          "output_type": "stream",
          "name": "stdout",
          "text": [
            "[10, 20, 30]\n",
            "[10, 20]\n",
            "10\n",
            "[]\n"
          ]
        }
      ]
    },
    {
      "cell_type": "markdown",
      "metadata": {
        "id": "OCmJGj81bkcq"
      },
      "source": [
        "### **Using collections.deque**\n",
        "\n",
        "> To use collections.deque, we first need to import it. Usage of collection.deque is almost similar to that of list but underneath, it implements linked lists structure.\n",
        ">"
      ]
    },
    {
      "cell_type": "code",
      "metadata": {
        "colab": {
          "base_uri": "https://localhost:8080/"
        },
        "id": "lRTaAjLmbt_0",
        "outputId": "a4670910-d73c-468e-a5cf-ac9219c242b6"
      },
      "source": [
        "# Import module\n",
        "from collections import deque\n",
        "\n",
        "# Intializing\n",
        "my_stack = deque()\n",
        "\n",
        "# adding elements to my_stack\n",
        "my_stack.append('A')\n",
        "my_stack.append('B') \n",
        "my_stack.append('C')\n",
        "\n",
        "print(my_stack)\n",
        "# removing elements from my_stack\n",
        "my_stack.pop()\n",
        "print(my_stack)\n",
        "print(my_stack.pop())  # returns 'B' and removes it from the stack\n",
        "my_stack.pop() \n",
        "# my_stack.pop() # results in error\n",
        "print(my_stack) # empty stack "
      ],
      "execution_count": 6,
      "outputs": [
        {
          "output_type": "stream",
          "name": "stdout",
          "text": [
            "deque(['A', 'B', 'C'])\n",
            "deque(['A', 'B'])\n",
            "B\n",
            "deque([])\n"
          ]
        }
      ]
    },
    {
      "cell_type": "markdown",
      "metadata": {
        "id": "meCgKXAsdVF-"
      },
      "source": [
        ">Deque's stacks are faster compared to list's when it comes to appending elements. Since list uses continous location in memory to add new elements, \n",
        "> call to append method can be much more than just adding an element cause python might have to allocate new memory if it is filled out.\n",
        "\n",
        "### **Using queue.LifoQueue**\n",
        "\n",
        "> LifoQueue from queue library can also be used to create a stack but instead of append and pop, it uses put and get methods. \n"
      ]
    },
    {
      "cell_type": "markdown",
      "metadata": {
        "id": "OuxP_hJzbQEp"
      },
      "source": [
        ""
      ]
    },
    {
      "cell_type": "code",
      "metadata": {
        "colab": {
          "base_uri": "https://localhost:8080/"
        },
        "id": "tFi5hhzedi6B",
        "outputId": "da14ca94-edb0-439d-9cd5-82cee28b049b"
      },
      "source": [
        "# Import module\n",
        "from queue import LifoQueue\n",
        "\n",
        "# Intializing\n",
        "my_stack = LifoQueue()\n",
        "\n",
        "# adding elements to my_stack\n",
        "my_stack.put('a')\n",
        "my_stack.put('b') \n",
        "my_stack.put('c')\n",
        "\n",
        "# removing elements from my_stack\n",
        "my_stack.get()\n",
        "print(my_stack.get())  # returns 'b' and removes it from the stack\n",
        "my_stack.get() \n",
        "# my_stack.get() # waits indefinitely \n",
        "# my_stack.get_nowait() # use this instead. This will raise an error\n",
        "print(my_stack.full()) # return false\n",
        "print(my_stack.empty()) # return true"
      ],
      "execution_count": 13,
      "outputs": [
        {
          "output_type": "stream",
          "name": "stdout",
          "text": [
            "b\n",
            "False\n",
            "True\n"
          ]
        }
      ]
    },
    {
      "cell_type": "markdown",
      "metadata": {
        "id": "ey8PbesKhTdq"
      },
      "source": [
        ""
      ]
    }
  ]
}
