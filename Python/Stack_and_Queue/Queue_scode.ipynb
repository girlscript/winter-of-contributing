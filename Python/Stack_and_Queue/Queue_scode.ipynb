{
  "nbformat": 4,
  "nbformat_minor": 0,
  "metadata": {
    "colab": {
      "name": "Untitled0.ipynb",
      "provenance": [],
      "authorship_tag": "ABX9TyNIJCouepj8OIQweyJUaoCF",
      "include_colab_link": true
    },
    "kernelspec": {
      "name": "python3",
      "display_name": "Python 3"
    },
    "language_info": {
      "name": "python"
    }
  },
  "cells": [
    {
      "cell_type": "markdown",
      "metadata": {
        "id": "view-in-github",
        "colab_type": "text"
      },
      "source": [
        "<a href=\"https://colab.research.google.com/github/itsKiranay/winter-of-contributing/blob/Python/Python/Stack_and_Queue/Queue_scode.ipynb\" target=\"_parent\"><img src=\"https://colab.research.google.com/assets/colab-badge.svg\" alt=\"Open In Colab\"/></a>"
      ]
    },
    {
      "cell_type": "markdown",
      "metadata": {
        "id": "h-FDdNbAe9Qy"
      },
      "source": [
        "# **Source code - Queue**\n",
        "> We are gonna be implementing queue via list underneath. Some must have methods are:\n",
        "> \n",
        "> 1. **Enqueue** - Add elements to the queue\n",
        "> 2. **Dequeue** - Drop elements from the queue\n",
        ">\n",
        "> One can use *collections.deque* or *queue.Queue* for the same purpose."
      ]
    },
    {
      "cell_type": "code",
      "metadata": {
        "id": "gM32Pc-EcjmE"
      },
      "source": [
        "class Queue():\n",
        "  # constructor for Queue class. Initiates a list. \n",
        "  def __init__(self):\n",
        "    self.data = list()\n",
        "  \n",
        "  # add elements to the queue  \n",
        "  def enqueue(self, value):\n",
        "    self.data.append(value)\n",
        "\n",
        "  # removes elements from the queue\n",
        "  def dequeue(self):\n",
        "    return self.data.pop(0)\n",
        "\n",
        "  # return queue elements in string format\n",
        "  def __str__(self):\n",
        "    return ' '.join(self.data)"
      ],
      "execution_count": 8,
      "outputs": []
    },
    {
      "cell_type": "code",
      "metadata": {
        "colab": {
          "base_uri": "https://localhost:8080/"
        },
        "id": "rmAKMclHdKcg",
        "outputId": "769b7b9f-f1b8-4e6c-8405-eea6648b1673"
      },
      "source": [
        "# create a queue object\n",
        "my_queue = Queue()\n",
        "my_queue\n"
      ],
      "execution_count": 5,
      "outputs": [
        {
          "output_type": "execute_result",
          "data": {
            "text/plain": [
              "<__main__.Queue at 0x7f4566883850>"
            ]
          },
          "metadata": {},
          "execution_count": 5
        }
      ]
    },
    {
      "cell_type": "code",
      "metadata": {
        "colab": {
          "base_uri": "https://localhost:8080/"
        },
        "id": "56H7bkmAdX6p",
        "outputId": "bc6af4c5-8542-4af4-8d22-557e6c055926"
      },
      "source": [
        "# add elements to the queue\n",
        "my_queue.enqueue('person1')\n",
        "my_queue.enqueue('person2')\n",
        "my_queue.enqueue('person3')\n",
        "print(my_queue) # prints \"person1 person2 person3\""
      ],
      "execution_count": 6,
      "outputs": [
        {
          "output_type": "stream",
          "name": "stdout",
          "text": [
            "person1 person2 person3\n"
          ]
        }
      ]
    },
    {
      "cell_type": "code",
      "metadata": {
        "colab": {
          "base_uri": "https://localhost:8080/"
        },
        "id": "dQGOgxpBeEx0",
        "outputId": "6e3d4f5a-ffe9-447c-abc9-bdc262ec4fab"
      },
      "source": [
        "# remove elements from the queue\n",
        "my_queue.dequeue()\n",
        "my_queue.dequeue()\n",
        "print(my_queue.dequeue()) # removes person3 and returns it\n",
        "print(my_queue) # prints nothing"
      ],
      "execution_count": 7,
      "outputs": [
        {
          "output_type": "stream",
          "name": "stdout",
          "text": [
            "person3\n",
            "\n"
          ]
        }
      ]
    }
  ]
}