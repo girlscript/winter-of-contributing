{
  "nbformat": 4,
  "nbformat_minor": 0,
  "metadata": {
    "colab": {
      "name": "queue.ipynb",
      "provenance": [],
      "authorship_tag": "ABX9TyP7EArajGC1GzAkAClJgxDC",
      "include_colab_link": true
    },
    "kernelspec": {
      "name": "python3",
      "display_name": "Python 3"
    },
    "language_info": {
      "name": "python"
    }
  },
  "cells": [
    {
      "cell_type": "markdown",
      "metadata": {
        "id": "view-in-github",
        "colab_type": "text"
      },
      "source": [
        "<a href=\"https://colab.research.google.com/github/itsKiranay/winter-of-contributing/blob/Python/Python/Stack_and_Queue/queue.ipynb\" target=\"_parent\"><img src=\"https://colab.research.google.com/assets/colab-badge.svg\" alt=\"Open In Colab\"/></a>"
      ]
    },
    {
      "cell_type": "markdown",
      "metadata": {
        "id": "bEjlNjSrmKGa"
      },
      "source": [
        "## **QUEUE**\n",
        "\n",
        "### **What is queue?**\n",
        "\n",
        ">\n",
        "> Queue is a data structure which works in FIFO (first in/first out) manner. Imagine a queue of persons. Whoever comes late has to stand in the back and queue gets\n",
        "> shorter from the front. \n",
        ">\n",
        "> <p align=center>\n",
        "> <img src = \"https://user-images.githubusercontent.com/76274213/133967990-e6d9f1a8-8f5d-4e5b-833d-c2b480a61149.png\">\n",
        "> </p>\n",
        ">\n",
        " ### **Methods to implement a queue**\n",
        "\n",
        "> Python provides a number of in-built methods to implement a queue. You can also write your own class. Every queue must\n",
        " have these methods atleast : \n",
        "> **enqueue** to add data and **dequeue** to remove data from the front of the queue.\n",
        "> We are gonna be looking at some in-built methods to do so:\n",
        ">\n",
        "> **Built-in Methods** \n",
        ">> 1. List\n",
        ">> 2. collections.deque\n",
        ">> 3. queue.Queue \n",
        "> \n",
        "### **Using lists to implement queue**\n",
        "> \n",
        "> Implementing queue using lists is almost similar to that of stack."
      ]
    },
    {
      "cell_type": "code",
      "metadata": {
        "colab": {
          "base_uri": "https://localhost:8080/"
        },
        "id": "LtmNaQF6mab2",
        "outputId": "a322aeae-926b-4313-8832-8608b1d166a7"
      },
      "source": [
        "# initializing \n",
        "my_queue = list()\n",
        "\n",
        "# adding elements to my_queue\n",
        "my_queue.append('10')\n",
        "my_queue.append('20') \n",
        "my_queue.append('30')\n",
        "print(my_queue)\n",
        "\n",
        "# removing elements from my_queue\n",
        "my_queue.pop(0)\n",
        "print(my_queue) \n",
        "print(my_queue.pop(0)) # returns 20 and removes it from my_queue \n",
        "my_queue.pop(0) \n",
        "# my_queue.pop(0) results in error as queue is empty\n",
        "print(my_queue)"
      ],
      "execution_count": 1,
      "outputs": [
        {
          "output_type": "stream",
          "name": "stdout",
          "text": [
            "['10', '20', '30']\n",
            "['20', '30']\n",
            "20\n",
            "[]\n"
          ]
        }
      ]
    },
    {
      "cell_type": "markdown",
      "metadata": {
        "id": "4m5vvYw4nPPA"
      },
      "source": [
        "\n",
        "### **Using collections.deque**\n",
        "\n",
        "> Using popleft() method of deque, we can remove elements from the left of the queue.\n",
        ">"
      ]
    },
    {
      "cell_type": "code",
      "metadata": {
        "colab": {
          "base_uri": "https://localhost:8080/"
        },
        "id": "UTs44nLCnZgH",
        "outputId": "6829a055-250f-488e-8571-6f11241e8d67"
      },
      "source": [
        "# importing module\n",
        "from collections import deque\n",
        "\n",
        "# initializing \n",
        "my_queue = deque()\n",
        "\n",
        "# adding elements to my_queue\n",
        "my_queue.append('A')\n",
        "my_queue.append('B') \n",
        "my_queue.append('C')\n",
        "print(my_queue)\n",
        "\n",
        "# removing elements from my_queue\n",
        "my_queue.popleft()\n",
        "print(my_queue) \n",
        "print(my_queue.popleft()) # returns B and removes it from my_queue \n",
        "my_queue.popleft()  \n",
        "# my_queue.popleft() results in error\n",
        "print(my_queue)"
      ],
      "execution_count": 2,
      "outputs": [
        {
          "output_type": "stream",
          "name": "stdout",
          "text": [
            "deque(['A', 'B', 'C'])\n",
            "deque(['B', 'C'])\n",
            "B\n",
            "deque([])\n"
          ]
        }
      ]
    },
    {
      "cell_type": "markdown",
      "metadata": {
        "id": "AUEXyIVWn4co"
      },
      "source": [
        "###  **Using queue.Queue**\n",
        "\n",
        "> This library( queue ) is specially designed for creating various type of queues.\n",
        "> "
      ]
    },
    {
      "cell_type": "code",
      "metadata": {
        "colab": {
          "base_uri": "https://localhost:8080/"
        },
        "id": "XLW1e_p9oD1o",
        "outputId": "0ce3c470-4f97-4e66-ad97-932d39a1caae"
      },
      "source": [
        "# importing module\n",
        "from queue import Queue\n",
        "\n",
        "# initializing \n",
        "my_queue = Queue()\n",
        "\n",
        "# adding elements to my_queue\n",
        "my_queue.put('a')\n",
        "my_queue.put('b') \n",
        "my_queue.put('c')\n",
        "\n",
        "\n",
        "# removing elements from my_queue\n",
        "my_queue.get()\n",
        "print(my_queue.get()) # returns b and removes it from my_queue \n",
        "my_queue.get()  \n",
        "# my_queue.get() results in indefinite excution.\n",
        "# my_queue.get_nowait() errors when no queue is empty \n",
        "print(my_queue.empty()) # return true\n",
        "print(my_queue.full()) # return false"
      ],
      "execution_count": 4,
      "outputs": [
        {
          "output_type": "stream",
          "name": "stdout",
          "text": [
            "b\n",
            "True\n",
            "False\n"
          ]
        }
      ]
    }
  ]
}
