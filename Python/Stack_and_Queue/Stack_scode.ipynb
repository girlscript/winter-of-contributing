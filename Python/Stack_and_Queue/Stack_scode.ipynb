{
  "nbformat": 4,
  "nbformat_minor": 0,
  "metadata": {
    "colab": {
      "name": "Stack_scode.ipynb",
      "provenance": [],
      "authorship_tag": "ABX9TyORROxTnYE/s9XnXHSJd4F/",
      "include_colab_link": true
    },
    "kernelspec": {
      "name": "python3",
      "display_name": "Python 3"
    },
    "language_info": {
      "name": "python"
    }
  },
  "cells": [
    {
      "cell_type": "markdown",
      "metadata": {
        "id": "view-in-github",
        "colab_type": "text"
      },
      "source": [
        "<a href=\"https://colab.research.google.com/github/itsKiranay/winter-of-contributing/blob/Python/Python/Stack_and_Queue/Stack_scode.ipynb\" target=\"_parent\"><img src=\"https://colab.research.google.com/assets/colab-badge.svg\" alt=\"Open In Colab\"/></a>"
      ]
    },
    {
      "cell_type": "markdown",
      "metadata": {
        "id": "lrBxroSaY-g_"
      },
      "source": [
        "# **Implementation of Stack data structure**\n",
        "> Stack class must have two methods to begin with:\n",
        ">> 1. **push**  - to push data onto stack\n",
        ">>\n",
        ">> 2. **pop** - to pop data off the stack\n",
        "> \n",
        "> We are gonna be using <i>Lists</i> to implement stack underneath. You can also do it using <i>collections.deque</i> or <i>queue.LifoQueue</i> if you like. "
      ]
    },
    {
      "cell_type": "code",
      "metadata": {
        "id": "H4WBRr1tVrhR"
      },
      "source": [
        "\n",
        "class Stack():\n",
        "  # constructor for Stack class \n",
        "  def __init__(self): \n",
        "    self.data = list()\n",
        "\n",
        "  # push value onto the stack\n",
        "  def push(self, value):\n",
        "    self.data.append(value)\n",
        "\n",
        "  # pop value from stack and return it\n",
        "  def pop(self):\n",
        "    return self.data.pop()\n",
        "\n",
        "  # return stack data into string format\n",
        "  def __str__(self):\n",
        "    return ' '.join(self.data)                      \n"
      ],
      "execution_count": 13,
      "outputs": []
    },
    {
      "cell_type": "code",
      "metadata": {
        "colab": {
          "base_uri": "https://localhost:8080/"
        },
        "id": "qxY-1Cp0XP0Q",
        "outputId": "ac69beb1-d24f-4d34-dbe8-58d581d10c84"
      },
      "source": [
        "# initialize a new stack\n",
        "my_stack = Stack();\n",
        "my_stack"
      ],
      "execution_count": 25,
      "outputs": [
        {
          "output_type": "execute_result",
          "data": {
            "text/plain": [
              "<__main__.Stack at 0x7f1949cbb510>"
            ]
          },
          "metadata": {},
          "execution_count": 25
        }
      ]
    },
    {
      "cell_type": "code",
      "metadata": {
        "colab": {
          "base_uri": "https://localhost:8080/"
        },
        "id": "-LtDC5a1Xc6A",
        "outputId": "bbc69ebe-ceef-4e08-f325-737dc87ec723"
      },
      "source": [
        "# push value onto stack\n",
        "my_stack.push('task1')\n",
        "my_stack.push('task2')\n",
        "my_stack.push('task3')\n",
        "print(my_stack)"
      ],
      "execution_count": 26,
      "outputs": [
        {
          "output_type": "stream",
          "name": "stdout",
          "text": [
            "task1 task2 task3\n"
          ]
        }
      ]
    },
    {
      "cell_type": "code",
      "metadata": {
        "colab": {
          "base_uri": "https://localhost:8080/"
        },
        "id": "oDq6nss0YgQp",
        "outputId": "a47ee7e6-1e18-4b6f-82fd-19aaed44e613"
      },
      "source": [
        "# pop value from stack\n",
        "my_stack.pop()\n",
        "my_stack.pop()\n",
        "print(my_stack) # prints task1 "
      ],
      "execution_count": 27,
      "outputs": [
        {
          "output_type": "stream",
          "name": "stdout",
          "text": [
            "task1\n"
          ]
        }
      ]
    }
  ]
}