{
  "nbformat": 4,
  "nbformat_minor": 2,
  "metadata": {
    "orig_nbformat": 4,
    "language_info": {
      "name": "python",
      "version": "3.9.6",
      "mimetype": "text/x-python",
      "codemirror_mode": {
        "name": "ipython",
        "version": 3
      },
      "pygments_lexer": "ipython3",
      "nbconvert_exporter": "python",
      "file_extension": ".py"
    },
    "kernelspec": {
      "name": "python3",
      "display_name": "Python 3.9.6 64-bit"
    },
    "interpreter": {
      "hash": "b63051761bc9c893b781bab2eed7f3f89da86f0eff1e316113abb72dc8c6cc21"
    },
    "colab": {
      "name": "Django.ipynb",
      "provenance": [],
      "collapsed_sections": []
    }
  },
  "cells": [
    {
      "cell_type": "markdown",
      "source": [
        "<h1 align = \"center\">\n",
        "Django Framework\n",
        "</h1>"
      ],
      "metadata": {
        "id": "BTzJ2zTPL7mY"
      }
    },
    {
      "cell_type": "markdown",
      "source": [
        "## Why Django\n",
        "Django is a high-level Python web framework that perfoms rapid development and clean design. It takes care of much of the hassle of web development, so you can focus on writing your app. It’s free and open source. Python includes a lightweight database called SQLite so you won’t need to set up a database just yet"
      ],
      "metadata": {
        "id": "FYMbBv7oL7mj"
      }
    },
    {
      "cell_type": "markdown",
      "source": [
        "## Install Django\n",
        "\n",
        "Windows\n",
        "```bat\n",
        "pip install Django\n",
        "```\n",
        "Mac/Linux\n",
        "```bat\n",
        "python -m pip install Django\n",
        "```\n",
        "\n"
      ],
      "metadata": {
        "id": "h1CWu6W6L7ml"
      }
    },
    {
      "cell_type": "markdown",
      "source": [
        "## Verify \r\n",
        "\r\n",
        "We can verify if Django is Installed is successfully by import it and printing it\r\n",
        "\r\n",
        "```python\r\n",
        "import django\r\n",
        "print(django.get_version())\r\n",
        "```"
      ],
      "metadata": {
        "id": "P2PFnJaOL7mq"
      }
    },
    {
      "cell_type": "markdown",
      "source": [
        "## Your First Python Project\n",
        "You need to open the command prompt or Terminal in the directory according to your operating system\n",
        "\n",
        "For Mac/Linux User:\n",
        "```bat\n",
        "django-admin startproject first-project\n",
        "```\n",
        "\n",
        "For Windows Uesr:\n",
        "```bat\n",
        "django-admin startproject first-project\n",
        "```\n",
        "\n"
      ],
      "metadata": {
        "id": "iGrklm2NL7mw"
      }
    },
    {
      "cell_type": "markdown",
      "source": [
        "## Files Created\n",
        "\n",
        "> first-project/\n",
        " >>  manage.py<br>\n",
        " >>  first-project/ <br>\n",
        "     >>>   __init__.py <br>\n",
        "       >>> settings.py <br>\n",
        "        >>> urls.py <br>\n",
        "        >>> asgi.py <br>\n",
        "        >>> wsgi.py<br>\n",
        "\n",
        "### The Use of the files are as given below\n",
        " \n",
        "* The outer first-project/ root directory is a container for your project. Its name doesn’t matter to Django; you can rename it to anything you like.\n",
        "* manage.py: A command-line utility that lets you interact with this Django project in various ways. You can read all the details about manage.py in django-admin and manage.py.\n",
        "The inner first-project/ directory is the actual Python package for your project. Its name is the Python package name you’ll need to use to import anything inside it (e.g. first-project.urls).\n",
        "* first-project/__init__.py: An empty file that tells Python that this directory should be considered a Python package. If you’re a Python beginner, read more about packages in the official Python docs.\n",
        "* first-project/settings.py: Settings/configuration for this Django project. Django settings will tell you all about how settings work.\n",
        "* first-project/urls.py: The URL declarations for this Django project; a “table of contents” of your Django-powered site. You can read more about URLs in URL dispatcher.\n",
        "* first-project/asgi.py: An entry-point for ASGI-compatible web servers to serve your project. See How to deploy with ASGI for more details.\n",
        "* first-project/wsgi.py: An entry-point for WSGI-compatible web servers to serve your project. See How to deploy with WSGI for more details."
      ],
      "metadata": {
        "id": "O5uJ28Y8L7mx"
      }
    },
    {
      "cell_type": "markdown",
      "source": [
        "## Starting a Development Server\n",
        "\n",
        "For Mac/Linux User:\n",
        "```bat\n",
        "python manage.py runserver\n",
        "```\n",
        "\n",
        "For Windows Uesr:\n",
        "```bat\n",
        "manage.py runserver\n",
        "```\n",
        "\n",
        "This will start the Development Server at Port: 8000\n",
        "\n",
        "```console\n",
        "Performing system checks...\n",
        "\n",
        "System check identified no issues (0 silenced).\n",
        "\n",
        "You have unapplied migrations; your app may not work properly until they are applied.\n",
        "Run 'python manage.py migrate' to apply them.\n",
        "\n",
        "September 28, 2021 - 15:50:53\n",
        "Django version 3.2, using settings 'first-project.settings'\n",
        "Starting development server at http://127.0.0.1:8000/\n",
        "Quit the server with CONTROL-C.\n",
        "```"
      ],
      "metadata": {
        "id": "u2FlZsXBL7m1"
      }
    },
    {
      "cell_type": "markdown",
      "source": [
        "## Now Lets Create an App for your project\n",
        "\n",
        "For Mac/Linux User:\n",
        "```bat\n",
        "python manage.py startapp polls\n",
        "```\n",
        "\n",
        "For Windows Uesr:\n",
        "```bat\n",
        "manage.py startapp polls\n",
        "```\n",
        "\n",
        "The File Structure now is:\n",
        "\n",
        "> polls/\n",
        " >>  __init__.py <br>\n",
        "  >>  admin.py <br>\n",
        "  >>  apps.py <br>\n",
        " >>  models.py <br>\n",
        " >>   tests.py <br>\n",
        " >>   views.py <br>\n",
        " >>  migrations/ <br>\n",
        "     >>>   __init__.py <br>\n"
      ],
      "metadata": {
        "id": "ZIaQgoO1L7m-"
      }
    },
    {
      "cell_type": "markdown",
      "source": [
        "## Writing into the .py files \n",
        "\n",
        "<h3 align = \"center\">1. views.py</h2>\n",
        "\n",
        "polls/views.py\n",
        "```python\n",
        "from django.http import HttpResponse\n",
        "\n",
        "def index(request):\n",
        "    return HttpResponse(\"Hello, world. Welcome to Django Tutorial.\")\n",
        "```\n",
        "\n",
        "<h3 align = \"center\">2. urls.py</h2>\n",
        "\n",
        "polls/urls.py\n",
        "```python\n",
        "from django.urls import path\n",
        "from . import views\n",
        "\n",
        "urlpatterns = [\n",
        "    path('', views.index, name='index'),\n",
        "]\n",
        "```\n",
        "first-project/urls.py\n",
        "```python\n",
        "from django.contrib import admin\n",
        "from django.urls import include, path\n",
        "\n",
        "urlpatterns = [\n",
        "    path('polls/', include('polls.urls')),\n",
        "    path('admin/', admin.site.urls),\n",
        "]\n",
        "```\n"
      ],
      "metadata": {
        "id": "27EKEF1xL7nB"
      }
    },
    {
      "cell_type": "markdown",
      "source": [
        "## Admin Panel\n",
        "Django provides a default admin interface which can be used to perform create, read, update and delete operations on the model directly. It reads set of data that explain and gives information about data from the model, to provide an instant interface where the user can adjust contents of the application . This is an in-built module and design to execute admin related work to the user.\n",
        "\n",
        "To get started \n",
        "```bat\n",
        "python manage.py createsuperuser\n",
        "```\n",
        "\n",
        "Now start your server go to /admin, add your credentials and you are all set!!!"
      ],
      "metadata": {
        "id": "oiUTJHDMfV6s"
      }
    }
  ]
}