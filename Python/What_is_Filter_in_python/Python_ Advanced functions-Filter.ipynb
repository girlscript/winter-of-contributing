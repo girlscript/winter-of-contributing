{
 "cells": [
  {
   "cell_type": "markdown",
   "source": [
    "# Python: Advanced functions-Filter #571\r\n",
    "# What is Filter in python?\r\n",
    "- **Filter** is an inbuilt function in Python.\r\n",
    "- Syntax: filter(function, sequence)\r\n",
    "- As name says it filters elements and returns result accordingly.\r\n",
    "- As per in syntax it takes two parameters i.e function and sequence.\r\n",
    "   - **sequence** parameter can be of any sequence eg.list,tuple,set,dictionary etc.\r\n",
    "   - **function** parameter takes function which we need to apply on each and every  element in given sequence.\r\n",
    "- so filter function iterates through **sequence** and apply **fuction** to each element in given sequence. If function returns true it will print result as per in given function. In short it will check either true or false for each and every element in sequence and returns result accordingly."
   ],
   "metadata": {}
  },
  {
   "cell_type": "code",
   "execution_count": null,
   "source": [
    "#1. Example of filter function \r\n",
    "def is_even(num):\r\n",
    " if num%2==0:\r\n",
    "  return num\r\n",
    "\r\n",
    "list1=[1,2,3,4,5,6,7,8]\r\n",
    "result=list(filter(is_even,list1))\r\n",
    "print(\"Even numbers in given sequence: \",result) "
   ],
   "outputs": [],
   "metadata": {}
  },
  {
   "cell_type": "markdown",
   "source": [
    "Output:- Even numbers in given sequence:  [2, 4, 6, 8]\r\n",
    "\r\n",
    "- Let's take look at above code\r\n",
    "\r\n",
    "  1. We created function here called is_even(num), it takes num as parameter and  checks whether is it even number? If it is even number it returns number.\r\n",
    "  2. Then we created list of 8 elements.\r\n",
    "  3. So the task is to find and print even numbers from list.\r\n",
    "  4. To complete this task we used filter function here, is_even i.e function, list1 i.e sequence is passed to filter function.\r\n",
    "  5. So filter function will iterate through elements of sequence i.e list1 and will pass those elements to function i.e is_even(num), and will check whether it returns number or not. \r\n",
    "  6. So here we get final output of even numbers. Here we typecasted final result into list, because we have to convert filter object into python list datatype.  \r\n",
    "\r\n"
   ],
   "metadata": {}
  },
  {
   "cell_type": "code",
   "execution_count": null,
   "source": [
    "#2. Example of filter using lambda function\r\n",
    "list1=[1,2,3,4,5,6,7,8]\r\n",
    "result=list(filter(lambda n:(n>4),list1))\r\n",
    "print(\"Numbers greater than 6: \",result)"
   ],
   "outputs": [],
   "metadata": {}
  },
  {
   "cell_type": "markdown",
   "source": [
    "Output: Numbers greater than 4:  [5, 6, 7, 8]\r\n",
    "\r\n",
    "- Lets take look at above code.\r\n",
    "  1. Here we used filter function with other function called lambda.\r\n",
    "  2. Lambda is an anonymous function in python, which has many parameters but has only one expression and returns value according to the expression. It also helps to compact our code. Here according to the expression lambda function will return number greater than 4.\r\n",
    "  3. So here we passed lambda function and list1 of 8 elements to the filter function.\r\n",
    "  4. Then filter function will iterate through list elements and will pass element to lambda function, and function will return number greater than 4.\r\n",
    "  5.  We typecasted final result into list, because we have to convert filter object into python list datatype. So we get numbers grater than 4 in the final output.\r\n"
   ],
   "metadata": {}
  },
  {
   "cell_type": "code",
   "execution_count": null,
   "source": [
    "#3. Example of filter function using tuple\r\n",
    "tup1=(4,3,3,8,9,10)\r\n",
    "result=list(filter(lambda n:(n%2!=0),tup1))\r\n",
    "print(\"Odd Numbers: \",result)"
   ],
   "outputs": [],
   "metadata": {}
  },
  {
   "cell_type": "markdown",
   "source": [
    "Output: Odd Numbers:  [3, 3, 9]\r\n",
    "- Lets take look at above code.\r\n",
    "  1. Here we passed lambda function and tup1 of 6 elements to the filter function.\r\n",
    "  2. Then filter function will iterate through tuple elements and will pass an element to lambda function, and function will check and return odd numbers.\r\n",
    "  3.  We typecasted final result into list, because we have to convert filter object into python list datatype. So we get list of odd numbers as the final output."
   ],
   "metadata": {}
  },
  {
   "cell_type": "code",
   "execution_count": null,
   "source": [
    "#4. Example of filter function using set\r\n",
    "set1={\"apple\", \"banana\", \"cherry\",\"orange\",\"Mango\"}\r\n",
    "result=list(filter(lambda s:(len(s)>5),set1))\r\n",
    "print(\"Strings consist of length more than 5 : \",result)"
   ],
   "outputs": [],
   "metadata": {}
  },
  {
   "cell_type": "markdown",
   "source": [
    "Output: Strings consist of length more than 5 :  ['banana', 'orange', 'cherry']\r\n",
    "- Lets take look at above code.\r\n",
    "  1. Here we passed lambda function and set of 5 elements to the filter function.\r\n",
    "  2. Then filter function will iterate through set elements and will pass an element to lambda function, and function will check and return strings having length more than 5.\r\n",
    "  3.  We typecasted final result into list, because we have to convert filter object into python list datatype. So we get list of strings having length more than 5 as final output."
   ],
   "metadata": {}
  },
  {
   "cell_type": "code",
   "execution_count": null,
   "source": [
    "#5. Example of filter function using dictionary\r\n",
    "dict1={'aniket': 80,'Sony': 90,'Shubham': 95,'priya': 96,'Sameer':91,'Rutuja':85,'sarika':97,'Atharv':75}\r\n",
    "result=list(filter(lambda d:(dict1[d]>=90),dict1))\r\n",
    "print(\"Scored More than and equal to 90: \",result)\r\n"
   ],
   "outputs": [],
   "metadata": {}
  },
  {
   "cell_type": "markdown",
   "source": [
    "Output: Scored More than and equal to 90:  ['Sony', 'Shubham', 'priya', 'Sameer', 'sarika']\r\n",
    "- Lets take look at above code.\r\n",
    "  1. Here we passed lambda function and dictionary of 8 elements to the filter function.\r\n",
    "  2. Then filter function will iterate through dictionary elements and will pass an element to lambda function, and function will check and return students scored more than and equal to 90.\r\n",
    "  3. We typecasted final result into list, because we have to convert filter object into python list datatype. So we get students scored more than and equal to 90 as final output."
   ],
   "metadata": {}
  },
  {
   "cell_type": "markdown",
   "source": [
    "\r\n",
    "- Why to use filter?\r\n",
    "\r\n",
    "  - Yes, we have an alternative also we can just run for loop for sequence, will put our desire condition in it and will filter our elements, why to use such function?\r\n",
    "\r\n",
    "  - Yes, it is correct. But what will you do when you have sequence of 100+ elements, then it is not best way to iterate for loop for 100+ elements. So we use filter function here, it provides high optimization, time efficiency and also helps to compact our code. \r\n"
   ],
   "metadata": {}
  }
 ],
 "metadata": {
  "orig_nbformat": 4,
  "language_info": {
   "name": "python"
  }
 },
 "nbformat": 4,
 "nbformat_minor": 2
}