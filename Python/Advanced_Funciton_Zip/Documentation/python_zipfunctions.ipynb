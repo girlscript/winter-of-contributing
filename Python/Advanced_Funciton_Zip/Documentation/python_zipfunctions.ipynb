{
  "nbformat": 4,
  "nbformat_minor": 2,
  "metadata": {
    "colab": {
      "name": "Python Zip",
      "provenance": [],
      "collapsed_sections": []
    },
    "kernelspec": {
      "name": "python3",
      "display_name": "Python 3"
    },
    "language_info": {
      "name": "python"
    }
  },
  "cells": [
    {
      "cell_type": "markdown",
      "source": [
        "###  **ADVANCED FUNCTION ZIP**\r\n",
        "---"
      ],
      "metadata": {
        "id": "pgUKKSHzFGSj"
      }
    },
    {
      "cell_type": "markdown",
      "source": [
        "Lets Talk About Another Advanced Function in Python Named **ZIP**,<br>\r\n",
        "We are going to discuss Zip in detail in this Tutorial , but for now think zip (as the name suggest) as a function which combines two or more iterables like: [List,Dict, Tuples]"
      ],
      "metadata": {
        "id": "uLlJ_tJvmZHW"
      }
    },
    {
      "cell_type": "markdown",
      "source": [
        "The Syantax is : **zip(iterables)**<br>\r\n",
        "Input Type is : **Iterables like [List, Dict, Tuples]**<br>\r\n",
        "Output Type is : **Mapped values**<br>\r\n",
        "Lets See with one Example"
      ],
      "metadata": {
        "id": "eMdml9bBofda"
      }
    },
    {
      "cell_type": "code",
      "execution_count": null,
      "source": [
        "list1 = [1, 2, 3]\r\n",
        "list2 = [10, 20, 30] \r\n",
        "zipping = zip(list1, list2) # zipping Files\r\n",
        "print(zipping) #printing the zipped Files"
      ],
      "outputs": [
        {
          "output_type": "stream",
          "name": "stdout",
          "text": [
            "<zip object at 0x7fc9f57a2eb0>\n"
          ]
        }
      ],
      "metadata": {
        "colab": {
          "base_uri": "https://localhost:8080/"
        },
        "id": "VFi-8KU-EkrS",
        "outputId": "1f16e5e8-a570-4a75-9117-7a1dc358ced3"
      }
    },
    {
      "cell_type": "markdown",
      "source": [
        "It prints Mapped Values of the 2 lists"
      ],
      "metadata": {
        "id": "WS8eoM7mE31V"
      }
    },
    {
      "cell_type": "markdown",
      "source": [
        "We can convert mapped value in desired form as given in code below"
      ],
      "metadata": {
        "id": "VY3TrneqHgeg"
      }
    },
    {
      "cell_type": "code",
      "execution_count": null,
      "source": [
        "list1 = [\"A\", \"B\", \"C\"]\r\n",
        "list2 = [10, 20, 30]\r\n",
        "print(\"\\nOutput in List : \")\r\n",
        "print(list(zip(list1, list2))) # Printing in List Format \r\n",
        "print(\"\\nOutput in Tuple : \")\r\n",
        "print(tuple(zip(list1, list2))) # Printing in Tuple Format\r\n",
        "print(\"\\nOutput in Dictionary : \")\r\n",
        "print(dict(zip(list1, list2))) # Printing in dictionary Format"
      ],
      "outputs": [
        {
          "output_type": "stream",
          "name": "stdout",
          "text": [
            "\n",
            "Output in List : \n",
            "[('A', 10), ('B', 20), ('C', 30)]\n",
            "\n",
            "Output in Tuple : \n",
            "(('A', 10), ('B', 20), ('C', 30))\n",
            "\n",
            "Output in Dictionary : \n",
            "{'A': 10, 'B': 20, 'C': 30}\n"
          ]
        }
      ],
      "metadata": {
        "colab": {
          "base_uri": "https://localhost:8080/"
        },
        "id": "l51NXQ9TFBw1",
        "outputId": "d8095808-44a8-4ec6-be61-47c60a62f836"
      }
    },
    {
      "cell_type": "markdown",
      "source": [
        "We can also iterate using a loop"
      ],
      "metadata": {
        "id": "iIbYGmqPLGf3"
      }
    },
    {
      "cell_type": "code",
      "execution_count": null,
      "source": [
        "Name = [\"Rahul\", \"Omkar\", \"Rohit\"]\r\n",
        "Score = [70, 80, 90]\r\n",
        "zipped = zip(Name, Score)\r\n",
        "\r\n",
        "for value in zipped: # Lopping through the values\r\n",
        "  print(value)"
      ],
      "outputs": [
        {
          "output_type": "stream",
          "name": "stdout",
          "text": [
            "('Rahul', 70)\n",
            "('Omkar', 80)\n",
            "('Rohit', 90)\n"
          ]
        }
      ],
      "metadata": {
        "colab": {
          "base_uri": "https://localhost:8080/"
        },
        "id": "T-vOdqWpITwk",
        "outputId": "29cb0dd9-e708-43c8-cb19-cdf670f7c37d"
      }
    },
    {
      "cell_type": "markdown",
      "source": [
        "Lets Take a scenario when the lists are not of equal Length<br>\r\n",
        "It maps only the elements which are also present in corresponding location in another iterables\r\n"
      ],
      "metadata": {
        "id": "OCkRe8k4KVgO"
      }
    },
    {
      "cell_type": "code",
      "execution_count": null,
      "source": [
        "City = [\"Pune\", \"Tokyo\", \"New York\", \"London\"] # 4 Elements\r\n",
        "Temp = [30, 40, 60] # 3 Elements\r\n",
        "zipped = zip(City, Temp)\r\n",
        "\r\n",
        "print(list(zipped))"
      ],
      "outputs": [
        {
          "output_type": "stream",
          "name": "stdout",
          "text": [
            "[('Pune', 30), ('Tokyo', 40), ('New York', 60)]\n"
          ]
        }
      ],
      "metadata": {
        "colab": {
          "base_uri": "https://localhost:8080/"
        },
        "id": "joO8nCjQKnXV",
        "outputId": "845b92fd-d783-4c86-abe0-ab8758fad067"
      }
    },
    {
      "cell_type": "markdown",
      "source": [
        "Now What if You are given a zipped Function and asked to unzip it into individual tuples(iterables)<br>\r\n",
        "We use \"*\" to unzip it.\r\n"
      ],
      "metadata": {
        "id": "ClcWeipTI_MV"
      }
    },
    {
      "cell_type": "code",
      "execution_count": null,
      "source": [
        "Fruits = [\"Mango\", \"Grapes\", \"Orange\"]\r\n",
        "Prize = [80, 90, 120]\r\n",
        "zipped = zip(Fruits, Prize)\r\n",
        "\r\n",
        "fruits, prize = zip(*zipped) # unzipping the zipped object\r\n",
        "print(fruits)\r\n",
        "print(prize)\r\n"
      ],
      "outputs": [
        {
          "output_type": "stream",
          "name": "stdout",
          "text": [
            "('Mango', 'Grapes', 'Orange')\n",
            "(80, 90, 120)\n"
          ]
        }
      ],
      "metadata": {
        "colab": {
          "base_uri": "https://localhost:8080/"
        },
        "id": "LpbIwt_zJOEP",
        "outputId": "b415441c-890c-4b4d-e59c-33116f5c9c59"
      }
    }
  ]
}