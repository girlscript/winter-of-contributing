{
  "nbformat": 4,
  "nbformat_minor": 0,
  "metadata": {
    "colab": {
      "name": "String Method.ipynb",
      "provenance": [],
      "collapsed_sections": []
    },
    "kernelspec": {
      "name": "python3",
      "display_name": "Python 3"
    },
    "language_info": {
      "name": "python"
    }
  },
  "cells": [
    {
      "cell_type": "code",
      "metadata": {
        "id": "PZ3XS8CmwE8Q"
      },
      "source": [
        "# What are String Methods?"
      ],
      "execution_count": 123,
      "outputs": []
    },
    {
      "cell_type": "code",
      "metadata": {
        "id": "RtBuXUVNz2fl"
      },
      "source": [
        "#Python has a set of built-in methods that you can use on strings.\n",
        "#<stringobject>. <methodname> ()"
      ],
      "execution_count": 124,
      "outputs": []
    },
    {
      "cell_type": "code",
      "metadata": {
        "id": "F1Slqb9kF-Dq"
      },
      "source": [
        "#Strings can be used to handle textual data in Python\n",
        "#Python Strings are immutable sequences of Unicode points"
      ],
      "execution_count": 125,
      "outputs": []
    },
    {
      "cell_type": "code",
      "metadata": {
        "id": "wmTGrpstGiW1"
      },
      "source": [
        "#Main Purpose of strings methods are to create strings or change the contents of a mutable string"
      ],
      "execution_count": 126,
      "outputs": []
    },
    {
      "cell_type": "code",
      "metadata": {
        "id": "UiQSRijE_upc",
        "colab": {
          "base_uri": "https://localhost:8080/",
          "height": 35
        },
        "outputId": "ba910d6c-7d56-409f-ebf0-df02e4c3552e"
      },
      "source": [
        "str=\"strings in Python\"\n",
        "str.capitalize() # Capitalize First character and rest lower case in string"
      ],
      "execution_count": 127,
      "outputs": [
        {
          "output_type": "execute_result",
          "data": {
            "application/vnd.google.colaboratory.intrinsic+json": {
              "type": "string"
            },
            "text/plain": [
              "'Strings in python'"
            ]
          },
          "metadata": {},
          "execution_count": 127
        }
      ]
    },
    {
      "cell_type": "code",
      "metadata": {
        "colab": {
          "base_uri": "https://localhost:8080/",
          "height": 35
        },
        "id": "DbIw3y83_m2P",
        "outputId": "0c82232c-ab0a-4f5b-ee7a-8722db5dfd32"
      },
      "source": [
        "str.casefold() # Convert String in lower case"
      ],
      "execution_count": 128,
      "outputs": [
        {
          "output_type": "execute_result",
          "data": {
            "application/vnd.google.colaboratory.intrinsic+json": {
              "type": "string"
            },
            "text/plain": [
              "'strings in python'"
            ]
          },
          "metadata": {},
          "execution_count": 128
        }
      ]
    },
    {
      "cell_type": "code",
      "metadata": {
        "colab": {
          "base_uri": "https://localhost:8080/"
        },
        "id": "uia6ekrq_x0h",
        "outputId": "f6a1ccdf-4e7a-4c22-a335-a85ca30526b9"
      },
      "source": [
        "str.count(\"Python\") # Count Python in String (Occurence)"
      ],
      "execution_count": 129,
      "outputs": [
        {
          "output_type": "execute_result",
          "data": {
            "text/plain": [
              "1"
            ]
          },
          "metadata": {},
          "execution_count": 129
        }
      ]
    },
    {
      "cell_type": "code",
      "metadata": {
        "colab": {
          "base_uri": "https://localhost:8080/",
          "height": 35
        },
        "id": "6Y24YbQ5F0ar",
        "outputId": "437b8b25-2175-4df7-e8d5-cc7cfeb8c29a"
      },
      "source": [
        "str.center(20) # Return a centered String"
      ],
      "execution_count": 130,
      "outputs": [
        {
          "output_type": "execute_result",
          "data": {
            "application/vnd.google.colaboratory.intrinsic+json": {
              "type": "string"
            },
            "text/plain": [
              "' strings in Python  '"
            ]
          },
          "metadata": {},
          "execution_count": 130
        }
      ]
    },
    {
      "cell_type": "code",
      "metadata": {
        "colab": {
          "base_uri": "https://localhost:8080/"
        },
        "id": "B9Jqw4fcGAmD",
        "outputId": "06cd8361-6867-471f-c3b5-33410e20e9d0"
      },
      "source": [
        "str.endswith(\"n\") # Returns true if the string ends with the n"
      ],
      "execution_count": 131,
      "outputs": [
        {
          "output_type": "execute_result",
          "data": {
            "text/plain": [
              "True"
            ]
          },
          "metadata": {},
          "execution_count": 131
        }
      ]
    },
    {
      "cell_type": "code",
      "metadata": {
        "colab": {
          "base_uri": "https://localhost:8080/"
        },
        "id": "z_Zo4zzxEc-u",
        "outputId": "9a883f7f-479e-43cf-c64e-4866f63fdc6d"
      },
      "source": [
        "str.find(\"P\")# searches the particular string in given string and return its position"
      ],
      "execution_count": 132,
      "outputs": [
        {
          "output_type": "execute_result",
          "data": {
            "text/plain": [
              "11"
            ]
          },
          "metadata": {},
          "execution_count": 132
        }
      ]
    },
    {
      "cell_type": "code",
      "metadata": {
        "colab": {
          "base_uri": "https://localhost:8080/"
        },
        "id": "3raDUzSoEzfp",
        "outputId": "7fc3f216-3a15-41bb-8faa-bea8361a8a56"
      },
      "source": [
        "str.index(\"y\") # Searches the string for a specified value and returns the position of where it was found"
      ],
      "execution_count": 133,
      "outputs": [
        {
          "output_type": "execute_result",
          "data": {
            "text/plain": [
              "12"
            ]
          },
          "metadata": {},
          "execution_count": 133
        }
      ]
    },
    {
      "cell_type": "code",
      "metadata": {
        "colab": {
          "base_uri": "https://localhost:8080/"
        },
        "id": "o0F9gXrVFBrq",
        "outputId": "01f9c075-1648-4ef0-f79e-b9e6988499b0"
      },
      "source": [
        "str.isalnum() # Returns True if all characters in the string are alphanumeric"
      ],
      "execution_count": 134,
      "outputs": [
        {
          "output_type": "execute_result",
          "data": {
            "text/plain": [
              "False"
            ]
          },
          "metadata": {},
          "execution_count": 134
        }
      ]
    },
    {
      "cell_type": "code",
      "metadata": {
        "colab": {
          "base_uri": "https://localhost:8080/"
        },
        "id": "TuZJ60cwPaNF",
        "outputId": "8e99c13e-2947-4da5-dfbf-b92bc3bf04ac"
      },
      "source": [
        "str.isalpha() # Returns True if all characters in the string are in the alphabet"
      ],
      "execution_count": 135,
      "outputs": [
        {
          "output_type": "execute_result",
          "data": {
            "text/plain": [
              "False"
            ]
          },
          "metadata": {},
          "execution_count": 135
        }
      ]
    },
    {
      "cell_type": "code",
      "metadata": {
        "colab": {
          "base_uri": "https://localhost:8080/"
        },
        "id": "-EDed3bYFKCl",
        "outputId": "0856057c-b051-45fa-86f7-b94f8f2cbe32"
      },
      "source": [
        "str.isascii() # Returns True if all characters in the string are ascii characters"
      ],
      "execution_count": 136,
      "outputs": [
        {
          "output_type": "execute_result",
          "data": {
            "text/plain": [
              "True"
            ]
          },
          "metadata": {},
          "execution_count": 136
        }
      ]
    },
    {
      "cell_type": "code",
      "metadata": {
        "colab": {
          "base_uri": "https://localhost:8080/"
        },
        "id": "UkGhwYZ-FPjJ",
        "outputId": "215851c9-614b-45a1-f275-505d7d2151c6"
      },
      "source": [
        "str.isdecimal() # Returns True if all characters in the string are decimals"
      ],
      "execution_count": 137,
      "outputs": [
        {
          "output_type": "execute_result",
          "data": {
            "text/plain": [
              "False"
            ]
          },
          "metadata": {},
          "execution_count": 137
        }
      ]
    },
    {
      "cell_type": "code",
      "metadata": {
        "colab": {
          "base_uri": "https://localhost:8080/"
        },
        "id": "EiAc_iU1FTOd",
        "outputId": "ae7813e7-8379-4abb-9ab8-606c38eb0035"
      },
      "source": [
        "str.isdigit() # Returns True if all characters in the string are digits"
      ],
      "execution_count": 138,
      "outputs": [
        {
          "output_type": "execute_result",
          "data": {
            "text/plain": [
              "False"
            ]
          },
          "metadata": {},
          "execution_count": 138
        }
      ]
    },
    {
      "cell_type": "code",
      "metadata": {
        "colab": {
          "base_uri": "https://localhost:8080/"
        },
        "id": "teTp8wKQFW99",
        "outputId": "c7b07ed0-46ec-42fa-b92f-68372933fee9"
      },
      "source": [
        "str.isidentifier() # Returns True if the string is an identifier"
      ],
      "execution_count": 139,
      "outputs": [
        {
          "output_type": "execute_result",
          "data": {
            "text/plain": [
              "False"
            ]
          },
          "metadata": {},
          "execution_count": 139
        }
      ]
    },
    {
      "cell_type": "code",
      "metadata": {
        "colab": {
          "base_uri": "https://localhost:8080/"
        },
        "id": "7qTZgAonFbWR",
        "outputId": "a8ced24c-8766-44f7-ec3e-7fff6e48b120"
      },
      "source": [
        "str.islower() # Returns True if all characters in the string are lower case"
      ],
      "execution_count": 140,
      "outputs": [
        {
          "output_type": "execute_result",
          "data": {
            "text/plain": [
              "False"
            ]
          },
          "metadata": {},
          "execution_count": 140
        }
      ]
    },
    {
      "cell_type": "code",
      "metadata": {
        "colab": {
          "base_uri": "https://localhost:8080/"
        },
        "id": "whI2vX-_Fd1V",
        "outputId": "b8721474-facc-4aab-f691-adcb12d8e7c4"
      },
      "source": [
        "str.isnumeric() # Returns True if all characters in the string are numeric"
      ],
      "execution_count": 141,
      "outputs": [
        {
          "output_type": "execute_result",
          "data": {
            "text/plain": [
              "False"
            ]
          },
          "metadata": {},
          "execution_count": 141
        }
      ]
    },
    {
      "cell_type": "code",
      "metadata": {
        "colab": {
          "base_uri": "https://localhost:8080/"
        },
        "id": "2v5UBbURFgSY",
        "outputId": "c265f27e-bd10-4733-f75e-f9f5200415b4"
      },
      "source": [
        "str.isprintable() # Returns True if all characters in the string are printable"
      ],
      "execution_count": 142,
      "outputs": [
        {
          "output_type": "execute_result",
          "data": {
            "text/plain": [
              "True"
            ]
          },
          "metadata": {},
          "execution_count": 142
        }
      ]
    },
    {
      "cell_type": "code",
      "metadata": {
        "colab": {
          "base_uri": "https://localhost:8080/"
        },
        "id": "XZC1dJ_vFliS",
        "outputId": "e76093e8-694f-4268-e084-1abd120911a4"
      },
      "source": [
        "str.isspace() # Returns True if all characters in the string are whitespaces"
      ],
      "execution_count": 143,
      "outputs": [
        {
          "output_type": "execute_result",
          "data": {
            "text/plain": [
              "False"
            ]
          },
          "metadata": {},
          "execution_count": 143
        }
      ]
    },
    {
      "cell_type": "code",
      "metadata": {
        "colab": {
          "base_uri": "https://localhost:8080/"
        },
        "id": "1NpMR1ahFnSB",
        "outputId": "441d00a3-ef72-4370-9084-e827c67879ef"
      },
      "source": [
        "str.istitle() # Returns True if the string follows the rules of a title"
      ],
      "execution_count": 144,
      "outputs": [
        {
          "output_type": "execute_result",
          "data": {
            "text/plain": [
              "False"
            ]
          },
          "metadata": {},
          "execution_count": 144
        }
      ]
    },
    {
      "cell_type": "code",
      "metadata": {
        "colab": {
          "base_uri": "https://localhost:8080/"
        },
        "id": "5OGaL9UDFsEA",
        "outputId": "e0c97b04-9669-403e-cc64-8ad15c814897"
      },
      "source": [
        "str.isupper() # Returns True if all characters in the string are upper case"
      ],
      "execution_count": 145,
      "outputs": [
        {
          "output_type": "execute_result",
          "data": {
            "text/plain": [
              "False"
            ]
          },
          "metadata": {},
          "execution_count": 145
        }
      ]
    },
    {
      "cell_type": "code",
      "metadata": {
        "colab": {
          "base_uri": "https://localhost:8080/",
          "height": 35
        },
        "id": "t2_8mK7xFxul",
        "outputId": "0f2868ef-a248-42ff-8dff-1a26cf0a436c"
      },
      "source": [
        "str.upper() # Returns string in uppercase"
      ],
      "execution_count": 146,
      "outputs": [
        {
          "output_type": "execute_result",
          "data": {
            "application/vnd.google.colaboratory.intrinsic+json": {
              "type": "string"
            },
            "text/plain": [
              "'STRINGS IN PYTHON'"
            ]
          },
          "metadata": {},
          "execution_count": 146
        }
      ]
    },
    {
      "cell_type": "code",
      "metadata": {
        "colab": {
          "base_uri": "https://localhost:8080/",
          "height": 35
        },
        "id": "mOB5kqE3HDFN",
        "outputId": "6982d603-e41b-40c7-ea19-85c10d76d161"
      },
      "source": [
        "str.replace(\"strings\",\"List\") # Replaces string with another string "
      ],
      "execution_count": 147,
      "outputs": [
        {
          "output_type": "execute_result",
          "data": {
            "application/vnd.google.colaboratory.intrinsic+json": {
              "type": "string"
            },
            "text/plain": [
              "'List in Python'"
            ]
          },
          "metadata": {},
          "execution_count": 147
        }
      ]
    },
    {
      "cell_type": "code",
      "metadata": {
        "colab": {
          "base_uri": "https://localhost:8080/"
        },
        "id": "bnSIlK_3I-2y",
        "outputId": "f9c62465-3bd5-4c72-8d6a-a3cf5593579b"
      },
      "source": [
        "str.split() # Splits the string at the specified separator, and returns a list"
      ],
      "execution_count": 148,
      "outputs": [
        {
          "output_type": "execute_result",
          "data": {
            "text/plain": [
              "['strings', 'in', 'Python']"
            ]
          },
          "metadata": {},
          "execution_count": 148
        }
      ]
    },
    {
      "cell_type": "code",
      "metadata": {
        "colab": {
          "base_uri": "https://localhost:8080/",
          "height": 35
        },
        "id": "vPfeUNWFJpL7",
        "outputId": "89842998-2620-479d-de94-714f47cb0fac"
      },
      "source": [
        "str.swapcase() # convert string from lowercase to uppercase and vice versa"
      ],
      "execution_count": 149,
      "outputs": [
        {
          "output_type": "execute_result",
          "data": {
            "application/vnd.google.colaboratory.intrinsic+json": {
              "type": "string"
            },
            "text/plain": [
              "'STRINGS IN pYTHON'"
            ]
          },
          "metadata": {},
          "execution_count": 149
        }
      ]
    },
    {
      "cell_type": "code",
      "metadata": {
        "colab": {
          "base_uri": "https://localhost:8080/",
          "height": 35
        },
        "id": "a5Ka4KvNKJhK",
        "outputId": "a1cb3b1e-c028-485c-80e0-242976f4a1cc"
      },
      "source": [
        "z= \"   python  \"\n",
        "z.strip() # Remove extra whitespace from starting and ending"
      ],
      "execution_count": 150,
      "outputs": [
        {
          "output_type": "execute_result",
          "data": {
            "application/vnd.google.colaboratory.intrinsic+json": {
              "type": "string"
            },
            "text/plain": [
              "'python'"
            ]
          },
          "metadata": {},
          "execution_count": 150
        }
      ]
    },
    {
      "cell_type": "code",
      "metadata": {
        "colab": {
          "base_uri": "https://localhost:8080/",
          "height": 35
        },
        "id": "OOrm6dB8LHLQ",
        "outputId": "0efd2642-994e-4a54-c53f-f1c0a307e322"
      },
      "source": [
        "z.title() #\tConverts the first character of each word to upper case"
      ],
      "execution_count": 151,
      "outputs": [
        {
          "output_type": "execute_result",
          "data": {
            "application/vnd.google.colaboratory.intrinsic+json": {
              "type": "string"
            },
            "text/plain": [
              "'   Python  '"
            ]
          },
          "metadata": {},
          "execution_count": 151
        }
      ]
    },
    {
      "cell_type": "code",
      "metadata": {
        "colab": {
          "base_uri": "https://localhost:8080/"
        },
        "id": "ERJB7ysxLzeO",
        "outputId": "6fa7293a-d3fc-4f2d-a338-eeaac7a81594"
      },
      "source": [
        "str.splitlines() # Splits the string at line breaks and returns a list"
      ],
      "execution_count": 152,
      "outputs": [
        {
          "output_type": "execute_result",
          "data": {
            "text/plain": [
              "['strings in Python']"
            ]
          },
          "metadata": {},
          "execution_count": 152
        }
      ]
    },
    {
      "cell_type": "code",
      "metadata": {
        "id": "asw3kt46VAIh"
      },
      "source": [
        "# Advantage- Strings formatting is easier. "
      ],
      "execution_count": 153,
      "outputs": []
    },
    {
      "cell_type": "code",
      "metadata": {
        "id": "dUNfurNanpna"
      },
      "source": [
        "# Conclusion-String methods always return new values and do not change or manipulate the original string."
      ],
      "execution_count": 154,
      "outputs": []
    }
  ]
}