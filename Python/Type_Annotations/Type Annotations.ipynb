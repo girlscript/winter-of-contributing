{
 "cells": [
  {
   "cell_type": "markdown",
   "id": "c69210b8",
   "metadata": {},
   "source": [
    "# Introduction: \n",
    "- Type Annotations were added in Python 3.5. \n",
    "- This allows us to write a descriptive and neat Python code.\n",
    "- It also helps us to avoid ```TypeErrors``` which are very obnoxious to in a Dynamic Programming Language 😥.   \n",
    "- When we assign a specific Type to any function parameter, return or a variable.\n",
    "- It's truely Pythonic and lets other fellow programmer get a grasp about what this code is exactly supposed to do. \n",
    "- Even *PEP 8* encourages programmers to Annotate their programs everywhere.\n"
   ]
  },
  {
   "cell_type": "markdown",
   "id": "15f4a8e8",
   "metadata": {},
   "source": [
    "# Primitive Variable Declaration: \n",
    "These are some primitive types of Annotations we can assign to a variable. There are many more which you can explore 😉:\n"
   ]
  },
  {
   "cell_type": "code",
   "execution_count": 13,
   "id": "cb45e5f8",
   "metadata": {},
   "outputs": [],
   "source": [
    "# Declare the type of a variable type in Python Ver >= 3.6 like this: \n",
    "var1: int = 1\n",
    "var2: float = 1.0\n",
    "var3: str = \"1\"\n",
    "var4: bytes = b\"Test\"\n",
    "var5: bool = True\n",
    "\n",
    "# Declare the type of a variable type in Python Ver 3.5 like this: \n",
    "var1 = 1  # type: int\n",
    "var2 = 1.0  # type: float\n",
    "var3 = \"1\"  # type: str\n",
    "var4 = b\"Test\" # type: bytes\n",
    "var5 = True # type: bool\n"
   ]
  },
  {
   "cell_type": "markdown",
   "id": "69404281",
   "metadata": {},
   "source": [
    "# Declaring variables without assigning:\n",
    "- Annotations allow us a bonus feature which is unimmaginable without it 🤩. \n",
    "- It allows us to declare variables without assigning a value to them. \n",
    "- This is very handy for a programmer comming from other C/C++ backgrounds.  \n",
    "Lets have a look at an example code below: "
   ]
  },
  {
   "cell_type": "code",
   "execution_count": null,
   "id": "7c6e14bf",
   "metadata": {},
   "outputs": [],
   "source": [
    "can_vote # ❌ This is not a valid Variable assignment\n",
    "can_vote: bool  # ✔️ This variable is not assigned any value but assigned a type so it is a Valid variable assignment\n",
    "legal_age: int = 18\n",
    "if legal_age <= 18:\n",
    "    can_vote = False\n",
    "else:\n",
    "    can_vote = True\n",
    "print(can_vote)\n"
   ]
  },
  {
   "cell_type": "markdown",
   "id": "23ef9f1f",
   "metadata": {},
   "source": [
    "# Verbose Variable Annotations:\n",
    "- Sometimes variable annotations can be more descriptive of what type a primitive datatype is storing. \n",
    "- This helps the programmer to understand the code indepth, and gives a better overview of the type of the variable.  \n",
    "Look at the example given below"
   ]
  },
  {
   "cell_type": "code",
   "execution_count": null,
   "id": "fc356859",
   "metadata": {},
   "outputs": [],
   "source": [
    "array: list[int] = [1, 2, 3, 4]  # Declaring a List of integers\n",
    "\n",
    "matrix: list[list[int]] = [[1, 2, 3], [4, 5, 6]]  # Declaring a Matrix\n",
    "\n",
    "hash_map: dict[int, str] = {1: \"A\", 2: \"B\", 3: \"C\"}  # Declaring a Dictionary\n",
    "\n",
    "tup: tuple[int, ...] = (1, 2, 3, 4, 5)  # Declaring a multivariable tuple of same type\n",
    "\n",
    "point: tuple[float, float] = (1.4, 3.5) # Declaring a 2 variable tuple\n"
   ]
  },
  {
   "cell_type": "markdown",
   "id": "fe4cf0a3",
   "metadata": {},
   "source": [
    "# Importance of Annotations in Function declarations:\n",
    "- If a function header doesn't mention the variable types it becomes very uncertain to pass arguments in it in a dynamic type Programming language.   \n",
    "Lets look at some example below:"
   ]
  },
  {
   "cell_type": "code",
   "execution_count": null,
   "id": "47e407dc",
   "metadata": {},
   "outputs": [],
   "source": [
    "# Creating a function without Type Annotations\n",
    "def function(var1, var2):\n",
    "    var3 = var1 + var2\n",
    "    print(var3)\n",
    "\n",
    "\n",
    "# TEST CASES\n",
    "function(1, 2)  # ✔️ 3 Works with ints\n",
    "function([1, 2, 3], [4, 5, 6])  # ✔️  [1, 2, 3, 4, 5, 6] Works with Lists\n",
    "function((1, 2, 3), (4, 5, 6))  # ✔️  (1, 2, 3, 4, 5, 6) Works with Tuples\n",
    "function(\"ABC\", \"BCD\")  # ✔️  \"ABCBCD\" Works with Strings\n"
   ]
  },
  {
   "cell_type": "markdown",
   "id": "73874499",
   "metadata": {},
   "source": [
    "## Deeper Analysis:\n",
    "- As we can see there is nothing wrong in the program, the function runs perfectly fine with all data types.  \n",
    "- But there is a vague ambiguity that what is the actual type of parameters that the function must accept.  \n",
    "Lets analyse it a bit further now with some more Test Cases."
   ]
  },
  {
   "cell_type": "code",
   "execution_count": null,
   "id": "755126ec",
   "metadata": {},
   "outputs": [],
   "source": [
    "# TEST CASES\n",
    "function({1, 2, 3}, {3, 2, 1})  # ❌ TypeError: unsupported operand type(s) for +: 'set' and 'set'\n",
    "function(\"ABC\", 1)  # ❌ TypeError: can only concatenate str (not \"int\") to str\n",
    "function((1,2,3), [1, 2, 3])  # ❌ TypeError: can only concatenate tuple (not \"list\") to tuple\n",
    "print(function(\"1\", \"2\"))  # ❌ None\n"
   ]
  },
  {
   "cell_type": "markdown",
   "id": "c62afc1d",
   "metadata": {},
   "source": [
    "## Post Analysis\n",
    "- The above function calls were made with the uncertainty that what types should be avoided while using the function and hence it threw exceptions.  \n",
    "- The last call was made with the hope that the function should return a value which it didn't.\n",
    "- This justifies the need for Type Annotations in our daily Lives"
   ]
  },
  {
   "cell_type": "markdown",
   "id": "32b51014",
   "metadata": {},
   "source": [
    "# How to annotate a Function Header:\n",
    "- To fix the above issue we must use Type Annotations. \n",
    "- As per our analysis the above function is supposed to take 2 integers as parameter, we use ```int``` in this case\n",
    "- Also the funtion must return noting, we can annotate it with ```None```.\n",
    "\n",
    "Now lets Look at the code below: "
   ]
  },
  {
   "cell_type": "code",
   "execution_count": null,
   "id": "fce10f6d",
   "metadata": {},
   "outputs": [],
   "source": [
    "# Creating a function with Type Annotations\n",
    "def function(var1: int, var2: int) -> None:\n",
    "    var3 = var1 + var2\n",
    "    print(var3)\n"
   ]
  },
  {
   "cell_type": "markdown",
   "id": "34eb5619",
   "metadata": {},
   "source": [
    "# Default Arguments in function:\n",
    "- Sometimes there is a need to declare a default arguments.  \n",
    "- In that case you don't need to explicitly declare a function type  \n",
    "Example:"
   ]
  },
  {
   "cell_type": "code",
   "execution_count": null,
   "id": "c89e9642",
   "metadata": {},
   "outputs": [],
   "source": [
    "# Creating a function with Type Annotations\n",
    "def function(var1: int, var2=3) -> None:\n",
    "    var3 = var1 + var2\n",
    "    print(var3)\n"
   ]
  },
  {
   "cell_type": "markdown",
   "id": "f473bce6",
   "metadata": {},
   "source": [
    "# Annotating a Function Itself:\n",
    "- As we know that Python treats functions like first class members\n",
    "- So we can assign any function to a variable and pass it to another function and return it from another\n",
    "- How can we annotate a variable which holds a function itself ? 🤔\n",
    "- This can be achieved by a special datatype called ```Callable```.\n",
    "\n",
    "## SYNTAX ⭐:\n",
    "- As this is a special Datatype we need to import it first.\n",
    "- ```Callable[[param1_type, param2_type, ...], return_type]```\n",
    "\n",
    "## NOTE: \n",
    "- To remember this DType, we can say as we call the function so we call it ```Callable```\n",
    "\n",
    "Lets take the example of the above code."
   ]
  },
  {
   "cell_type": "code",
   "execution_count": null,
   "id": "02dcdaa9",
   "metadata": {},
   "outputs": [],
   "source": [
    "from typing import Callable\n",
    "\n",
    "# Here the function takes 2 arguemnts int, int\n",
    "# And returns nothing hence None\n",
    "x: Callable[[int, int], None] = function\n",
    "x(1, 99) # ✔️ 100 Works fine \n"
   ]
  },
  {
   "cell_type": "markdown",
   "id": "4a080f10",
   "metadata": {},
   "source": [
    "# Other Special Handy Datatypes Types:\n",
    "- ```Union```: \n",
    "    - This type is used to declare a variable when it can hold multiple Types of data in runtime\n",
    "- ```Optional```:\n",
    "    - This type is used to declare a variable when it can either hold a single Type of variable or None\n",
    "- ```Any```:\n",
    "    - This type is used to declare a variable when it can hold any type of variable.\n",
    "    - Often used to supress Type Checker errors.\n",
    "- ```Iterator```:\n",
    "    - This type is used to declare a variable having ```__iter__``` function defined Eg: Lists, Tuples, Dictionaries, Strings, etc .\n",
    "    - Often used to annotate a generator function\n",
    "\n",
    "## SYNTAX ⭐:\n",
    "- ```Union[type1, type2, type3, ...]``` This is also equivalent to ```Union[type1, Union[type2, type3], ...]``` \n",
    "- ```Optional[type]``` This is also equivalent to ```Union[type, None]```\n",
    "- ```x: Any = mystery_function()``` This does'nt have a special synatax\n",
    "- ```Iterator[type]```\n",
    "\n",
    "Lets Look at some examples to understand the concepts Better:\n"
   ]
  },
  {
   "cell_type": "markdown",
   "id": "81c20cc3",
   "metadata": {},
   "source": [
    "\n",
    "## Union:"
   ]
  },
  {
   "cell_type": "code",
   "execution_count": null,
   "id": "e3c554ae",
   "metadata": {},
   "outputs": [],
   "source": [
    "from typing import Union\n",
    "\n",
    "# Union\n",
    "def get_number(number: int) -> Union[int, str]:\n",
    "    return number if number % 2 else str(number)\n",
    "\n",
    "\n",
    "print(get_number(2))  # \"2\"\n",
    "print(get_number(1))  # 1\n"
   ]
  },
  {
   "cell_type": "markdown",
   "id": "65021383",
   "metadata": {},
   "source": [
    "## NOTE: \n",
    "Python 3.10+ will have a much cleaner syntax for declaring Union Types, i.e. ```type1 | type2``` 💖 .[Learn More](https://www.python.org/dev/peps/pep-0604/)\n",
    "## Any:"
   ]
  },
  {
   "cell_type": "code",
   "execution_count": 25,
   "id": "cb7fa0ad",
   "metadata": {},
   "outputs": [],
   "source": [
    "from typing import Any\n",
    "\n",
    "# Any\n",
    "def mystery_funtion() -> Any: # This function is supposed to return any type of data\n",
    "    ...\n",
    "\n",
    "\n",
    "x: Any = mystery_funtion()\n"
   ]
  },
  {
   "cell_type": "markdown",
   "id": "28daf489",
   "metadata": {},
   "source": [
    "## Iterator:"
   ]
  },
  {
   "cell_type": "code",
   "execution_count": null,
   "id": "a8f4e374",
   "metadata": {},
   "outputs": [],
   "source": [
    "from typing import Iterator\n",
    "\n",
    "# Iterator \n",
    "def range_(start: int, stop: int, step=1) -> Iterator[int]: # This Function is a generator\n",
    "    while start < stop:\n",
    "        yield start\n",
    "        start += step\n",
    "\n",
    "rng: Iterator[int] = range_(2, 10, 2)\n",
    "for i in rng:\n",
    "    print(i)\n"
   ]
  },
  {
   "cell_type": "markdown",
   "id": "1b78ecec",
   "metadata": {},
   "source": [
    "# Type Aliases:\n",
    "We can alias a certain datatype with its alias. In the below example we have aliased the type `Matrix` to `list[list[int]] `\n"
   ]
  },
  {
   "cell_type": "code",
   "execution_count": null,
   "id": "51479671",
   "metadata": {},
   "outputs": [],
   "source": [
    "Matrix = list[list[int]] # ✔️ This is a valid type Alias, here list[list[int]] is aliased by Matrix\n",
    "Matrix: list[list[int]] # ❌ This is an invalid type Alias, This should'nt be used\n",
    "\n",
    "def print_matrix(x: Matrix):\n",
    "    for i in x:\n",
    "        print(i)\n",
    "\n",
    "\n",
    "print_matrix([[1, 2, 3], [4, 5, 6], [7, 8, 9]])\n",
    "# [1, 2, 3]\n",
    "# [4, 5, 6]\n",
    "# [7, 8, 9]\n"
   ]
  },
  {
   "cell_type": "markdown",
   "id": "cbc3e5da",
   "metadata": {},
   "source": [
    "# Annotating user Defined Types:\n",
    "Sometimes we need to define our own datatypes, for example a Point, Node, LinkedList, Tree etc.  \n",
    "Lets have a look at some examples:\n"
   ]
  },
  {
   "cell_type": "code",
   "execution_count": 30,
   "id": "7a8d7caf",
   "metadata": {},
   "outputs": [],
   "source": [
    "# ✨ EXAMPLE: 1\n",
    "class Node:\n",
    "    # Some variables\n",
    "    ...\n",
    "\n",
    "# ✨ EXAMPLE: 2\n",
    "class LinkedList:\n",
    "    def __init__(self):\n",
    "        self.head = Node()\n",
    "\n",
    "\n",
    "single_node: Node = Node()\n",
    "x: LinkedList = LinkedList()\n"
   ]
  },
  {
   "cell_type": "markdown",
   "id": "759b0fc7",
   "metadata": {},
   "source": [
    "# Forward Referencing: \n",
    "- This is a very important concept of Type Annotating and very easy also.\n",
    "- Sometimes we need to annotate a datatype of the same type of its class. For example ```next``` of a ```Node``` Class or ```left``` and ```right``` children of a ```Tree``` Class.\n",
    "- This can not be done trivially as before in Python ver < 10.0 since Type annotations are assigned at Runtime.\n",
    "- This problem can be solved using 2 ways:\n",
    "    - 1st: ```Python 3.7+``` We need to import ```annotations``` from ```__future__``` library\n",
    "    - 2nd: ```Python ver < 3.7``` We need to stringify the type in quotation marks ```'type'```\n",
    "  \n",
    "Lets look at some examples:"
   ]
  },
  {
   "cell_type": "markdown",
   "id": "9bef0f60",
   "metadata": {},
   "source": [
    "\n",
    "## Trivial Erronious Way"
   ]
  },
  {
   "cell_type": "code",
   "execution_count": null,
   "id": "a48d2e01",
   "metadata": {},
   "outputs": [],
   "source": [
    "# ✨ EXAMPLE: 1\n",
    "class node:\n",
    "    next: node\n",
    "    data: int\n",
    "\n",
    "# ❌ NameError: name 'node' is not defined\n",
    "\n",
    "# ✨ EXAMPLE: 2\n",
    "class Tree:\n",
    "    left: Tree\n",
    "    data: int\n",
    "    right:Tree\n",
    "\n",
    "# ❌ NameError: name 'Tree' is not defined"
   ]
  },
  {
   "cell_type": "markdown",
   "id": "ca3c0941",
   "metadata": {},
   "source": [
    "## Python 3.10+"
   ]
  },
  {
   "cell_type": "code",
   "execution_count": null,
   "id": "d37904c9",
   "metadata": {},
   "outputs": [],
   "source": [
    "from __future__ import annotations\n",
    "\n",
    "# ✨ EXAMPLE: 1\n",
    "class Node:\n",
    "    next: Node\n",
    "    data: int\n",
    "\n",
    "# ✨ EXAMPLE: 2\n",
    "class Tree:\n",
    "    left: Tree\n",
    "    data: int\n",
    "    right: Tree\n"
   ]
  },
  {
   "cell_type": "markdown",
   "id": "ec1ac520",
   "metadata": {},
   "source": [
    "## Python < 3.7"
   ]
  },
  {
   "cell_type": "code",
   "execution_count": null,
   "id": "869686d3",
   "metadata": {},
   "outputs": [],
   "source": [
    "# ✨ EXAMPLE: 1\n",
    "class Node:\n",
    "    next: \"Node\"\n",
    "    data: int\n",
    "\n",
    "# ✨ EXAMPLE: 2\n",
    "class Tree:\n",
    "    left: \"Tree\"\n",
    "    data: int\n",
    "    right: \"Tree\"\n"
   ]
  },
  {
   "cell_type": "markdown",
   "metadata": {},
   "source": [
    "# [Mypy](https://mypy.readthedocs.io/en/stable/):\n",
    "- Mypy is a static Type checker for Python 3 and 2.7\n",
    "- As it's a 3rd party Library we need to install it using:   \n",
    "```$ pip install mypy```\n",
    "\n",
    "## How to use mypy \n",
    "- Open cmd in your working directory\n",
    "- Write the command:\n",
    "```$ mypy your_filename.py```\n",
    "- If your code stub has valid annotations, You will see a green signal ✔️:  \n",
    "![passed Image](img/passed.png)\n",
    "\n",
    "- If your code stub has errors or Invalid annotations you will see Red Error messages ❌:  \n",
    "![failed Image](img/error.png)\n",
    "\n",
    "- If you want to Type check a complete directory, you can use the command:  \n",
    "```$ mypy '.\\directoryname'```\n"
   ]
  },
  {
   "cell_type": "markdown",
   "id": "e5d49a88",
   "metadata": {},
   "source": [
    "# Miscellaneous:\n",
    "- Ignoring Type Annotations:\n",
    "    - Sometimes some modules don't have proper Annotation stubs mentioned and it shows errors in Type checkings.\n",
    "    - Also sometimes we need to develop applications faster for testing purposes and that time we can't prioritize Annotating our codes.\n",
    "    - To avoid Type hinting Missing errors we use a ```#ignore``` comment beside the import statements and the variables.\n",
    "- Match:\n",
    "    - To annotate regex patterns from re module we use a special type ```Match```.\n",
    "- IO:\n",
    "    - To annotate objects having ```Open()``` function defined in them we use a special type ```IO```.\n",
    "- Mutable Mapping/ Mapping:\n",
    "    - To annotate ```dict``` type objects having ```__getitem__()``` and ```__setitem()__```  defined in them we use ```Mutable Mapping```.\n",
    "    - To annotate ```dict``` type objects having ```__getitem__()``` but not ```__setitem()__```  defined in them we use ```Mapping```.\n",
    "- Type Revealing:\n",
    "    - Sometimes we are unsure about the type of a variable, we can get it using ```reveal_type(data)```\n",
    "\n",
    "# Sources: \n",
    "- [Mypy Documentations](https://mypy.readthedocs.io/en/stable/)\n",
    "- [Mypy Github](https://github.com/python/mypy)\n",
    "- [Mypy Cheatsheet](https://mypy.readthedocs.io/en/stable/cheat_sheet_py3.html)\n",
    "- [Self Referencing/Forward Referencing](https://stackoverflow.com/questions/33533148/how-do-i-type-hint-a-method-with-the-type-of-the-enclosing-class)"
   ]
  }
 ],
 "metadata": {
  "interpreter": {
   "hash": "ad770396c1213ebb2440441b71f15912f02b7a66d6cb40a85ae49dae023e5ad0"
  },
  "kernelspec": {
   "display_name": "Python 3",
   "language": "python",
   "name": "python3"
  },
  "language_info": {
   "codemirror_mode": {
    "name": "ipython",
    "version": 3
   },
   "file_extension": ".py",
   "mimetype": "text/x-python",
   "name": "python",
   "nbconvert_exporter": "python",
   "pygments_lexer": "ipython3",
   "version": "3.9.6"
  }
 },
 "nbformat": 4,
 "nbformat_minor": 5
}
