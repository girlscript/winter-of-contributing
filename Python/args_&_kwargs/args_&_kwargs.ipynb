{
  "nbformat": 4,
  "nbformat_minor": 0,
  "metadata": {
    "colab": {
      "name": "*args_&_**kwargs .ipynb",
      "provenance": [],
      "collapsed_sections": [],
      "authorship_tag": "ABX9TyOG13mKxSWu24GudhN0S+mw",
      "include_colab_link": true
    },
    "kernelspec": {
      "name": "python3",
      "display_name": "Python 3"
    },
    "language_info": {
      "name": "python"
    }
  },
  "cells": [
    {
      "cell_type": "markdown",
      "metadata": {
        "id": "view-in-github",
        "colab_type": "text"
      },
      "source": [
        "<a href=\"https://colab.research.google.com/github/itsKiranay/winter-of-contributing/blob/Python/Python/args_%26_kwargs/args_%26_kwargs.ipynb\" target=\"_parent\"><img src=\"https://colab.research.google.com/assets/colab-badge.svg\" alt=\"Open In Colab\"/></a>"
      ]
    },
    {
      "cell_type": "markdown",
      "metadata": {
        "id": "H-E5-tnjQepA"
      },
      "source": [
        "# Extended Arguments\n",
        "> In a function call, you can pass any number of arguments or keyword arguments and act on each one of them independently using wildcard expression (*). Its neat and concise when you have no idea how many arguments are there gonna be. Check code below for syntax. \n",
        "\n",
        "Note: args and kwargs is just conventional naming. You are free to call them whatever you like.  "
      ]
    },
    {
      "cell_type": "code",
      "metadata": {
        "colab": {
          "base_uri": "https://localhost:8080/"
        },
        "id": "t5Ao2Q1FQdzj",
        "outputId": "94d15674-e37a-4b4f-83ad-e3a5a44c68b1"
      },
      "source": [
        "# arguments are stored in a tuple\n",
        "def print_all(*args):\n",
        "  print(type(args))\n",
        "  for val in args:\n",
        "    print(val,end=' ')\n",
        "  print('')\n",
        "\n",
        "\n",
        "# passing variable number of arguments \n",
        "print_all(1,2,3,4,5)\n",
        "print_all('a','b','c')\n",
        "print_all('G','W','o','C')"
      ],
      "execution_count": 43,
      "outputs": [
        {
          "output_type": "stream",
          "name": "stdout",
          "text": [
            "<class 'tuple'>\n",
            "1 2 3 4 5 \n",
            "<class 'tuple'>\n",
            "a b c \n",
            "<class 'tuple'>\n",
            "G W o C \n"
          ]
        }
      ]
    },
    {
      "cell_type": "markdown",
      "metadata": {
        "id": "rELE7sHGfa-e"
      },
      "source": [
        "> As you might have guessed from the above example, that's how print() function works under the hood in python. Arguments are stored in form of a tuple. \n",
        "\n",
        "## Combination of keyword argument and extended arguments"
      ]
    },
    {
      "cell_type": "code",
      "metadata": {
        "colab": {
          "base_uri": "https://localhost:8080/"
        },
        "id": "cRaIIMN4gW2M",
        "outputId": "b7ac926c-467a-4544-b8d6-9674f237f1cd"
      },
      "source": [
        "# this order should be followed when passing keyword arguments\n",
        "# def func(*args, arg) -> results in error\n",
        "def n_dim_arr(dim, *args):\n",
        "  for i in range(dim):\n",
        "    for j in range(dim):\n",
        "      print(args[j-i], end=' ')\n",
        "    print('')\n",
        "\n",
        "n_dim_arr(6,'G','W','o','C','2','1')\n",
        "print('')\n",
        "n_dim_arr(3, '+','*','-')"
      ],
      "execution_count": 44,
      "outputs": [
        {
          "output_type": "stream",
          "name": "stdout",
          "text": [
            "G W o C 2 1 \n",
            "1 G W o C 2 \n",
            "2 1 G W o C \n",
            "C 2 1 G W o \n",
            "o C 2 1 G W \n",
            "W o C 2 1 G \n",
            "\n",
            "+ * - \n",
            "- + * \n",
            "* - + \n"
          ]
        }
      ]
    },
    {
      "cell_type": "markdown",
      "metadata": {
        "id": "Dy1YCV2Ujqbw"
      },
      "source": [
        "## Passing multiple arguments to function call\n"
      ]
    },
    {
      "cell_type": "code",
      "metadata": {
        "colab": {
          "base_uri": "https://localhost:8080/"
        },
        "id": "bfzCwN9CkXxu",
        "outputId": "d63efc8c-a649-459e-8fa5-d121f33abd5a"
      },
      "source": [
        "def peri(a,b,c,d):  # collecting values passed in vars a, b, c and d\n",
        "  return a+b+c+d\n",
        "\n",
        "shape = (23,24,56,43)\n",
        "print(peri(*shape)) # passing values of shape separately\n",
        "print(*shape,sep=' ') # print individual value separately without using loops"
      ],
      "execution_count": 45,
      "outputs": [
        {
          "output_type": "stream",
          "name": "stdout",
          "text": [
            "146\n",
            "23 24 56 43\n"
          ]
        }
      ]
    },
    {
      "cell_type": "markdown",
      "metadata": {
        "id": "7nTfpI6Onzel"
      },
      "source": [
        "# Extended Keyword Arguments\n",
        "> Just as args, we can pass multiple keyword arguments to a function. Kwargs values are stored in form of a dictionary. You can access them like any other key-value pair from a dictionary."
      ]
    },
    {
      "cell_type": "code",
      "metadata": {
        "colab": {
          "base_uri": "https://localhost:8080/"
        },
        "id": "dpAT2DLmoQDt",
        "outputId": "bb1a864b-49ef-4585-ad5d-c14bafaf1b6c"
      },
      "source": [
        "# Stores in form of a dict\n",
        "def func(**kwargs):\n",
        "  print(type(kwargs))\n",
        "  for key,value in kwargs.items():  # accessing items is same as with dict\n",
        "    print(f'key = {key}, value = {value}')\n",
        "\n",
        "func(a ='1', b = '2')\n",
        "func(exp1='GirlScript', exp2 ='Summer', exp3 = 'Of', exp4 = 'Code')"
      ],
      "execution_count": 46,
      "outputs": [
        {
          "output_type": "stream",
          "name": "stdout",
          "text": [
            "<class 'dict'>\n",
            "key = a, value = 1\n",
            "key = b, value = 2\n",
            "<class 'dict'>\n",
            "key = exp1, value = GirlScript\n",
            "key = exp2, value = Summer\n",
            "key = exp3, value = Of\n",
            "key = exp4, value = Code\n"
          ]
        }
      ]
    },
    {
      "cell_type": "markdown",
      "metadata": {
        "id": "C9j1zJH6qMkE"
      },
      "source": [
        " > Just as with args, when passing a specific keyword argument along with bunch of others key-value pairs, specific ones should be mentioned first."
      ]
    },
    {
      "cell_type": "code",
      "metadata": {
        "colab": {
          "base_uri": "https://localhost:8080/"
        },
        "id": "w08jiX1cqhMz",
        "outputId": "0a080c98-9b7f-45c2-bbb9-d502136e6200"
      },
      "source": [
        "# dim is written before kwargs. Intializing it to 0 acts as a default value\n",
        "def obj_dims(dim = 0, **kwargs):\n",
        "\n",
        "  data = {0: 'Point', 1: 'Line', 2: 'Square', 3: 'Cube', 4:'HyperCube'}\n",
        "  if dim <= 4:\n",
        "    print(f\"Object is : {data[dim]}\")\n",
        "  else:\n",
        "    print(f\"Object is of {dim} dim\")\n",
        "\n",
        "  # do something with values passed\n",
        "\n",
        "\n",
        "obj_dims(3, a=1, b=1, c=1)\n",
        "obj_dims(a=2) # value of dim defaults to 0.\n"
      ],
      "execution_count": 47,
      "outputs": [
        {
          "output_type": "stream",
          "name": "stdout",
          "text": [
            "Object is : Cube\n",
            "Object is : Point\n"
          ]
        }
      ]
    },
    {
      "cell_type": "markdown",
      "metadata": {
        "id": "QFgIEoKguVrB"
      },
      "source": [
        "## Passing multiple keyword arguments to a function call\n",
        "\n",
        "> Multiple keyword arguments can passed to function in same way as arguments."
      ]
    },
    {
      "cell_type": "code",
      "metadata": {
        "colab": {
          "base_uri": "https://localhost:8080/"
        },
        "id": "bntMH4OvuqSZ",
        "outputId": "0b596062-c906-4cfc-9665-7319bbe10424"
      },
      "source": [
        "sample_dict = {\"loki\":'We have hulk !', \"thor\": 'I\\'m thor, son of odin..', \"hulk\": 'Hulk smash!!!', \"panther\": 'We don\\'t do that here'}\n",
        "\n",
        "def dialogue(loki, thor, hulk, panther): # values are collected in similar keys.\n",
        "  print(\"Loki says: \", loki)\n",
        "  print(\"Thor says: \", thor)\n",
        "  print(\"Hulk says: \", hulk)\n",
        "  print(\"Panther says: \", panther)\n",
        "\n",
        "dialogue(**sample_dict) # passes values of sample_dict\n"
      ],
      "execution_count": 48,
      "outputs": [
        {
          "output_type": "stream",
          "name": "stdout",
          "text": [
            "Loki says:  We have hulk !\n",
            "Thor says:  I'm thor, son of odin..\n",
            "Hulk says:  Hulk smash!!!\n",
            "Panther says:  We don't do that here\n"
          ]
        }
      ]
    },
    {
      "cell_type": "markdown",
      "metadata": {
        "id": "uJJE0a1L9Ev0"
      },
      "source": [
        "## Passing ***args and **kwargs* at same time"
      ]
    },
    {
      "cell_type": "code",
      "metadata": {
        "colab": {
          "base_uri": "https://localhost:8080/"
        },
        "id": "xbbytql49M5m",
        "outputId": "c22a9320-0cf8-43ff-ef08-fdeb9e469874"
      },
      "source": [
        "def print_with_style(*args, **kwargs):\n",
        "    print(*args, sep=kwargs[\"sep_by\"])\n",
        "\n",
        "print_with_style(\"GirlScript\",\"Winter\",\"of\",\"Contributing\", sep_by = ' ')\n",
        "print_with_style(\"GirlScript\",\"Winter\",\"of\",\"Contributing\", sep_by = ' * ')\n",
        "print_with_style(\"GirlScript\",\"Winter\",\"of\",\"Contributing\", sep_by = '')"
      ],
      "execution_count": 49,
      "outputs": [
        {
          "output_type": "stream",
          "name": "stdout",
          "text": [
            "GirlScript Winter of Contributing\n",
            "GirlScript * Winter * of * Contributing\n",
            "GirlScriptWinterofContributing\n"
          ]
        }
      ]
    }
  ]
}