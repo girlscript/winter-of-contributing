{
  "nbformat": 4,
  "nbformat_minor": 0,
  "metadata": {
    "colab": {
      "name": "Tuples.ipynb",
      "provenance": []
    },
    "kernelspec": {
      "name": "python3",
      "display_name": "Python 3"
    },
    "language_info": {
      "name": "python"
    }
  },
  "cells": [
    {
      "cell_type": "markdown",
      "metadata": {
        "id": "7OIu4iJ6BuIh"
      },
      "source": [
        "# Tuples\n",
        "Tuple is a data structure used to store mutiple items in a single variable <br>\n",
        "Tuple is one of 4 built-in data types in Python used to store collections of data\n"
      ]
    },
    {
      "cell_type": "code",
      "metadata": {
        "id": "6wzLo3Q-ADJ8",
        "colab": {
          "base_uri": "https://localhost:8080/"
        },
        "outputId": "5625e395-706e-47d5-e4ac-73e043db6983"
      },
      "source": [
        "#initializing ways\n",
        "t = (1,2,3,4)\n",
        "type(t)\n",
        "t = tuple((1,2,3,4))\n",
        "t"
      ],
      "execution_count": 25,
      "outputs": [
        {
          "output_type": "execute_result",
          "data": {
            "text/plain": [
              "(1, 2, 3, 4)"
            ]
          },
          "metadata": {},
          "execution_count": 25
        }
      ]
    },
    {
      "cell_type": "code",
      "metadata": {
        "id": "pqp4Dn1ZCc3_",
        "colab": {
          "base_uri": "https://localhost:8080/"
        },
        "outputId": "f9e6e9fa-f2bd-4a7d-dbb3-c340dac529ec"
      },
      "source": [
        "#identifying length\n",
        "len(t)"
      ],
      "execution_count": null,
      "outputs": [
        {
          "output_type": "execute_result",
          "data": {
            "text/plain": [
              "4"
            ]
          },
          "metadata": {},
          "execution_count": 32
        }
      ]
    },
    {
      "cell_type": "markdown",
      "metadata": {
        "id": "Vu5hhHcQAM2E"
      },
      "source": [
        "**Properties**"
      ]
    },
    {
      "cell_type": "markdown",
      "metadata": {
        "id": "jKdfrRg4BVHA"
      },
      "source": [
        "Some basic properties include\n",
        " >Ordered <br>\n",
        " >Unchangable"
      ]
    },
    {
      "cell_type": "code",
      "metadata": {
        "id": "qUnKEEa9Aoip",
        "colab": {
          "base_uri": "https://localhost:8080/"
        },
        "outputId": "67fcb47a-71c1-414c-dcf2-0ed92f0384fa"
      },
      "source": [
        "#tuples are indexed\n",
        "t[2]\n",
        "#slicing\n",
        "t[0:3]"
      ],
      "execution_count": 28,
      "outputs": [
        {
          "output_type": "execute_result",
          "data": {
            "text/plain": [
              "(1, 2, 3)"
            ]
          },
          "metadata": {},
          "execution_count": 28
        }
      ]
    },
    {
      "cell_type": "code",
      "metadata": {
        "id": "aR4xfQOyA886",
        "colab": {
          "base_uri": "https://localhost:8080/"
        },
        "outputId": "dd6a783b-7cbb-4ba5-ff63-57ab978f7b35"
      },
      "source": [
        "#allows duplicates\n",
        "t1 = (\"a\",\"a\",\"b\")\n",
        "t1"
      ],
      "execution_count": null,
      "outputs": [
        {
          "output_type": "execute_result",
          "data": {
            "text/plain": [
              "('a', 'a', 'b')"
            ]
          },
          "metadata": {},
          "execution_count": 34
        }
      ]
    },
    {
      "cell_type": "code",
      "metadata": {
        "id": "oNDCLMAwBDoF",
        "colab": {
          "base_uri": "https://localhost:8080/"
        },
        "outputId": "9cdddb46-8f73-4171-9187-e7f752abbcc3"
      },
      "source": [
        "#can contain different datatypes\n",
        "t2 = (False,4.6,\"gh\",2)\n",
        "t2"
      ],
      "execution_count": null,
      "outputs": [
        {
          "output_type": "execute_result",
          "data": {
            "text/plain": [
              "(False, 4.6, 'gh', 2)"
            ]
          },
          "metadata": {},
          "execution_count": 35
        }
      ]
    },
    {
      "cell_type": "markdown",
      "metadata": {
        "id": "pBKih5VnDSSk"
      },
      "source": [
        "<b>When to use?</b> <br>\n",
        "When you need a data structure which can hold duplicates, or which cannot get modified later or which can store multiple data types at a time."
      ]
    },
    {
      "cell_type": "markdown",
      "metadata": {
        "id": "sK3IsPZG8AtJ"
      },
      "source": [
        "#Some more helpful properties"
      ]
    },
    {
      "cell_type": "code",
      "metadata": {
        "colab": {
          "base_uri": "https://localhost:8080/"
        },
        "id": "hEiq3gKL8Ghl",
        "outputId": "0d258cf8-8ea7-42f9-8347-02f4bec128fd"
      },
      "source": [
        "#Tuples are heterogenous i.e. they can also contain other composite objects\n",
        "t3 = (1,2,[3,4],(5,6))\n",
        "t3\n",
        "t3 = (1,2,(3,4)) #nested tuple\n",
        "t3"
      ],
      "execution_count": 20,
      "outputs": [
        {
          "output_type": "execute_result",
          "data": {
            "text/plain": [
              "(1, 2, (3, 4))"
            ]
          },
          "metadata": {},
          "execution_count": 20
        }
      ]
    },
    {
      "cell_type": "code",
      "metadata": {
        "colab": {
          "base_uri": "https://localhost:8080/"
        },
        "id": "FW6aroNN8gXx",
        "outputId": "6c46354d-101b-439f-fd42-4320d77b4d9f"
      },
      "source": [
        "#modifications in objects in a tuple\n",
        "li = [4,5,6]\n",
        "t4 = (1,2,3,li)\n",
        "t4\n",
        "li.append(7)\n",
        "t4"
      ],
      "execution_count": 22,
      "outputs": [
        {
          "output_type": "execute_result",
          "data": {
            "text/plain": [
              "(1, 2, 3, [4, 5, 6, 7])"
            ]
          },
          "metadata": {},
          "execution_count": 22
        }
      ]
    },
    {
      "cell_type": "code",
      "metadata": {
        "colab": {
          "base_uri": "https://localhost:8080/"
        },
        "id": "19r1HT9n97CM",
        "outputId": "b311518b-9d1f-4c08-f106-56a7fa0be5cf"
      },
      "source": [
        "#modifications\n",
        "t5 = (1,2,3)\n",
        "t6 = (4,5,6)\n",
        "t7 = t5+t6\n",
        "t7"
      ],
      "execution_count": 23,
      "outputs": [
        {
          "output_type": "execute_result",
          "data": {
            "text/plain": [
              "(1, 2, 3, 4, 5, 6)"
            ]
          },
          "metadata": {},
          "execution_count": 23
        }
      ]
    },
    {
      "cell_type": "code",
      "metadata": {
        "colab": {
          "base_uri": "https://localhost:8080/"
        },
        "id": "6A8T2dcJA9s0",
        "outputId": "ff938cac-a713-447d-dad5-66130bdc1c91"
      },
      "source": [
        "t8 = (1,3,4)\n",
        "t9 = (2,)\n",
        "t10 = t8[:1] + t9 + t8[1:]\n",
        "t10"
      ],
      "execution_count": 31,
      "outputs": [
        {
          "output_type": "execute_result",
          "data": {
            "text/plain": [
              "(1, 2, 3, 4)"
            ]
          },
          "metadata": {},
          "execution_count": 31
        }
      ]
    }
  ]
}