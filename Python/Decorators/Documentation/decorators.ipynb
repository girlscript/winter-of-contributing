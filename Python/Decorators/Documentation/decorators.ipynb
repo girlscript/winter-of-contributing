{
 "cells": [
  {
   "cell_type": "markdown",
   "metadata": {},
   "source": [
    "# @decorators in Python\n",
    "## What are decorators?\n",
    "Python provides a feature of decorators which basically **adds functionality to an existing code**. It takes in a function, adds some functionality to it and then returns an augmented function with those added functionalities.<br>\n",
    "This allows the user to perform **metaprogramming** i.e. the concept when a part of the program tries to modify another part of the program at compile time."
   ]
  },
  {
   "cell_type": "code",
   "execution_count": 1,
   "metadata": {},
   "outputs": [],
   "source": [
    "def my_decorator_function(function_to_decorate):\n",
    "    def decorated_function():\n",
    "        # Adding stars as \"decoration\"\n",
    "        print('*'*25)\n",
    "        function_to_decorate()\n",
    "        print('*'*25)\n",
    "    return decorated_function\n",
    "\n",
    "@my_decorator_function\n",
    "def function_to_decorate():\n",
    "    print(\"I am an ordinary message.\")\n",
    "\n",
    "def function_without_decoration():\n",
    "    print(\"I am an ordinary message.\")"
   ]
  },
  {
   "cell_type": "code",
   "execution_count": 2,
   "metadata": {},
   "outputs": [
    {
     "name": "stdout",
     "output_type": "stream",
     "text": [
      "*************************\n",
      "I am an ordinary message.\n",
      "*************************\n"
     ]
    }
   ],
   "source": [
    "function_to_decorate()"
   ]
  },
  {
   "cell_type": "code",
   "execution_count": 3,
   "metadata": {},
   "outputs": [
    {
     "name": "stdout",
     "output_type": "stream",
     "text": [
      "I am an ordinary message.\n"
     ]
    }
   ],
   "source": [
    "function_without_decoration()"
   ]
  },
  {
   "cell_type": "markdown",
   "metadata": {},
   "source": [
    "The `@` symbol along with the name of the decorator function is how decorators are used.<br>"
   ]
  },
  {
   "cell_type": "markdown",
   "metadata": {},
   "source": [
    "## How and Why do decorators work?\n",
    "In Python, EVERYTHING is an object including the functions or the classes. The variables we use are identifers bound to these objects.<br>\n",
    "Functions, being objects, can be assigned to other variables (as objects) as shown below:"
   ]
  },
  {
   "cell_type": "code",
   "execution_count": 4,
   "metadata": {},
   "outputs": [
    {
     "name": "stdout",
     "output_type": "stream",
     "text": [
      "my function's message\n"
     ]
    }
   ],
   "source": [
    "def my_func():\n",
    "    print(\"my function's message\")\n",
    "\n",
    "my_func()"
   ]
  },
  {
   "cell_type": "code",
   "execution_count": 5,
   "metadata": {},
   "outputs": [
    {
     "name": "stdout",
     "output_type": "stream",
     "text": [
      "my function's message\n"
     ]
    }
   ],
   "source": [
    "xyz = my_func\n",
    "\n",
    "xyz()"
   ]
  },
  {
   "cell_type": "markdown",
   "metadata": {},
   "source": [
    "Now, in Python functions can also be passed as arguments! This was how we were able to \"decorate\" it in the first code snippet."
   ]
  },
  {
   "cell_type": "code",
   "execution_count": 6,
   "metadata": {},
   "outputs": [],
   "source": [
    "def times5(num):\n",
    "    return num*5\n",
    "\n",
    "\n",
    "def times10(num):\n",
    "    return num*10\n",
    "\n",
    "\n",
    "def multiplier(function, number):\n",
    "    result = function(number)\n",
    "    return result"
   ]
  },
  {
   "cell_type": "code",
   "execution_count": 7,
   "metadata": {},
   "outputs": [
    {
     "name": "stdout",
     "output_type": "stream",
     "text": [
      "50\n",
      "100\n"
     ]
    }
   ],
   "source": [
    "print(multiplier(times5,10))\n",
    "print(multiplier(times10,10))"
   ]
  },
  {
   "cell_type": "markdown",
   "metadata": {},
   "source": [
    "Lastly, in Python we can define and return a function inside a function."
   ]
  },
  {
   "cell_type": "code",
   "execution_count": 8,
   "metadata": {},
   "outputs": [
    {
     "name": "stdout",
     "output_type": "stream",
     "text": [
      "Inner Function.\n"
     ]
    }
   ],
   "source": [
    "def function_called():\n",
    "    def function_returned():\n",
    "        print(\"Inner Function.\")\n",
    "    return function_returned\n",
    "\n",
    "my_func = function_called()\n",
    "\n",
    "my_func()"
   ]
  },
  {
   "cell_type": "markdown",
   "metadata": {},
   "source": [
    "These are the basic prerequisites for understanding Decorators in Python. To summarize:\n",
    "1. **functions** (infact everything) **in Python are objects**.\n",
    "2. a **function can be passed as an argument in another function**.\n",
    "3. a **function can be defined and returned by a function** (known as a **high order function**)."
   ]
  },
  {
   "cell_type": "markdown",
   "metadata": {},
   "source": [
    "## Back to Decorators..."
   ]
  },
  {
   "cell_type": "markdown",
   "metadata": {},
   "source": [
    "Functions and methods are called callable since they can be called.<br>\n",
    "Any object which implements the special `__call__()` method in Python is termed callable. In the most basic sense, **a decorator is a callable that returns a callable**."
   ]
  },
  {
   "cell_type": "code",
   "execution_count": 9,
   "metadata": {},
   "outputs": [],
   "source": [
    "def decorate(function):\n",
    "    def inner_func():\n",
    "        print(\"Decorated!\")\n",
    "        function()\n",
    "    return inner_func\n",
    "\n",
    "\n",
    "def simple_msg():\n",
    "    print(\"Simple Message.\")"
   ]
  },
  {
   "cell_type": "code",
   "execution_count": 10,
   "metadata": {},
   "outputs": [
    {
     "name": "stdout",
     "output_type": "stream",
     "text": [
      "Simple Message.\n"
     ]
    }
   ],
   "source": [
    "simple_msg()"
   ]
  },
  {
   "cell_type": "code",
   "execution_count": 11,
   "metadata": {},
   "outputs": [
    {
     "name": "stdout",
     "output_type": "stream",
     "text": [
      "Decorated!\n",
      "Simple Message.\n"
     ]
    }
   ],
   "source": [
    "result = decorate(simple_msg)\n",
    "result()"
   ]
  },
  {
   "cell_type": "markdown",
   "metadata": {},
   "source": [
    "Now the above code is simply passing a function as argument and performing the task. Using decorators it will look like this:"
   ]
  },
  {
   "cell_type": "code",
   "execution_count": 12,
   "metadata": {},
   "outputs": [
    {
     "name": "stdout",
     "output_type": "stream",
     "text": [
      "Decorated!\n",
      "My Message.\n"
     ]
    }
   ],
   "source": [
    "@decorate\n",
    "def my_msg():\n",
    "    print(\"My Message.\")\n",
    "\n",
    "my_msg()"
   ]
  },
  {
   "cell_type": "markdown",
   "metadata": {},
   "source": [
    "## Decorating Functions with Parameters\n",
    "Suppose a function defined as:\n",
    "```\n",
    "def find_max(x,y):\n",
    "    if(x>y):\n",
    "        return x\n",
    "    else\n",
    "        return y\n",
    "```\n",
    "needs to be decorated using our `@decorate` decorator. It would result in a `TypeError` since there is mismatch in the no. of arguments within our decorator and the original function."
   ]
  },
  {
   "cell_type": "code",
   "execution_count": 13,
   "metadata": {},
   "outputs": [
    {
     "ename": "TypeError",
     "evalue": "inner_func() takes 0 positional arguments but 2 were given",
     "output_type": "error",
     "traceback": [
      "\u001b[1;31m---------------------------------------------------------------------------\u001b[0m",
      "\u001b[1;31mTypeError\u001b[0m                                 Traceback (most recent call last)",
      "\u001b[1;32m<ipython-input-13-69efab994356>\u001b[0m in \u001b[0;36m<module>\u001b[1;34m\u001b[0m\n\u001b[0;32m      6\u001b[0m         \u001b[0mprint\u001b[0m\u001b[1;33m(\u001b[0m\u001b[0my\u001b[0m\u001b[1;33m)\u001b[0m\u001b[1;33m\u001b[0m\u001b[1;33m\u001b[0m\u001b[0m\n\u001b[0;32m      7\u001b[0m \u001b[1;33m\u001b[0m\u001b[0m\n\u001b[1;32m----> 8\u001b[1;33m \u001b[0mfind_max\u001b[0m\u001b[1;33m(\u001b[0m\u001b[1;36m10\u001b[0m\u001b[1;33m,\u001b[0m\u001b[1;36m20\u001b[0m\u001b[1;33m)\u001b[0m\u001b[1;33m\u001b[0m\u001b[1;33m\u001b[0m\u001b[0m\n\u001b[0m",
      "\u001b[1;31mTypeError\u001b[0m: inner_func() takes 0 positional arguments but 2 were given"
     ]
    }
   ],
   "source": [
    "@decorate\n",
    "def find_max(x,y):\n",
    "    if(x>y):\n",
    "        print(x)\n",
    "    else:\n",
    "        print(y)\n",
    "\n",
    "find_max(10,20)"
   ]
  },
  {
   "cell_type": "markdown",
   "metadata": {},
   "source": [
    "Now the way to go about it is to either create a decorator with the same number of arguments as the function. However this also has its drawbacks like if we have a new function with different number of arguments for the same decorator.. we are again stuck with the same problem as before."
   ]
  },
  {
   "cell_type": "code",
   "execution_count": null,
   "metadata": {},
   "outputs": [],
   "source": [
    "def decorate(function):\n",
    "    def inner_func(x,y):\n",
    "        print(\"Decorated!\")\n",
    "        function(x,y)\n",
    "    return inner_func"
   ]
  },
  {
   "cell_type": "code",
   "execution_count": null,
   "metadata": {},
   "outputs": [],
   "source": [
    "@decorate\n",
    "def find_max(x,y):\n",
    "    if(x>y):\n",
    "        print(x)\n",
    "    else:\n",
    "        print(y)\n",
    "\n",
    "find_max(10,20)"
   ]
  },
  {
   "cell_type": "markdown",
   "metadata": {},
   "source": [
    "The Drawback:"
   ]
  },
  {
   "cell_type": "code",
   "execution_count": null,
   "metadata": {},
   "outputs": [],
   "source": [
    "@decorate\n",
    "def find_avg(x,y,z):\n",
    "    print((x+y+z)/3)\n",
    "\n",
    "find_avg(10,20,30)"
   ]
  },
  {
   "cell_type": "markdown",
   "metadata": {},
   "source": [
    "### using `*args` and `**kwargs`\n",
    "We can create general decorators that work with any number of parameters.<br>\n",
    "In Python, this is done as `function(*args, **kwargs)` where, args will be the tuple of positional arguments and kwargs will be the dictionary of keyword arguments. It can be implemented as:"
   ]
  },
  {
   "cell_type": "code",
   "execution_count": null,
   "metadata": {},
   "outputs": [],
   "source": [
    "def decorate(function):\n",
    "    def inner_func(*args,**kwargs):\n",
    "        print(\"Decorated!\")\n",
    "        print(args)\n",
    "        print(kwargs)\n",
    "        function(*args, **kwargs)\n",
    "    return inner_func"
   ]
  },
  {
   "cell_type": "code",
   "execution_count": null,
   "metadata": {},
   "outputs": [],
   "source": [
    "@decorate\n",
    "def find_max(x,y):\n",
    "    if(x>y):\n",
    "        print(x)\n",
    "    else:\n",
    "        print(y)\n",
    "\n",
    "find_max(10,20)"
   ]
  },
  {
   "cell_type": "code",
   "execution_count": null,
   "metadata": {},
   "outputs": [],
   "source": [
    "@decorate\n",
    "def find_avg(x,y,z):\n",
    "    print((x+y+z)/3)\n",
    "\n",
    "find_avg(10,20,30)"
   ]
  },
  {
   "cell_type": "markdown",
   "metadata": {},
   "source": [
    "## Chaining Decorators in Python\n",
    "Multiple decorators can be chained in Python i.e. a function can be decorated multiple times with different or same decorators by simply placing the decorators above the desired function."
   ]
  },
  {
   "cell_type": "code",
   "execution_count": null,
   "metadata": {},
   "outputs": [],
   "source": [
    "def star_decoration(func):\n",
    "    def inner(*args, **kwargs):\n",
    "        print(\"*\"*15)\n",
    "        func(*args, **kwargs)\n",
    "        print(\"*\"*15)\n",
    "    return inner\n",
    "\n",
    "\n",
    "def hash_decoration(func):\n",
    "    def inner(*args, **kwargs):\n",
    "        print(\"#\"*15)\n",
    "        func(*args, **kwargs)\n",
    "        print(\"#\"*15)\n",
    "    return inner"
   ]
  },
  {
   "cell_type": "code",
   "execution_count": null,
   "metadata": {},
   "outputs": [],
   "source": [
    "@star_decoration\n",
    "@hash_decoration\n",
    "def my_msg_printer(msg):\n",
    "    print(msg)\n",
    "\n",
    "my_msg_printer(\"I am a message!\")"
   ]
  },
  {
   "cell_type": "markdown",
   "metadata": {},
   "source": [
    "The above snippet of,\n",
    "```\n",
    "@star_decoration\n",
    "@hash_decoration\n",
    "def my_msg_printer(msg):\n",
    "    print(msg)\n",
    "```\n",
    "is equivalent to\n",
    "```\n",
    "def my_msg_printer(msg):\n",
    "    print(msg)\n",
    "my_msg_printer = star_decoration(hash_decoration(my_msg_printer))\n",
    "```\n",
    "It must be noted that the order in which we chain decorators matter.\n",
    "```\n",
    "@star_decoration\n",
    "@hash_decoration\n",
    "def my_msg_printer(msg):\n",
    "    print(msg)\n",
    "```\n",
    "is different from\n",
    "```\n",
    "@hash_decoration\n",
    "@star_decoration\n",
    "def my_msg_printer(msg):\n",
    "    print(msg)\n",
    "```"
   ]
  },
  {
   "cell_type": "markdown",
   "metadata": {},
   "source": [
    "## Decorator with arguments (decorator factory)\n",
    "We know that a decorator takes just one argument i.e. the function to be decorated and there is no way to pass other arguments.\n",
    "However it can be made possible by creating a function which takes arbitrary arguments and returns a decorator."
   ]
  },
  {
   "cell_type": "code",
   "execution_count": null,
   "metadata": {},
   "outputs": [],
   "source": [
    "def decoratorfactory(message):\n",
    "    def decorator(func):\n",
    "        def inner(*args, **kwargs):\n",
    "            print('Message passed to the decorator: {}'.format(message))\n",
    "            return func(*args, **kwargs)\n",
    "        return inner\n",
    "    return decorator"
   ]
  },
  {
   "cell_type": "code",
   "execution_count": null,
   "metadata": {},
   "outputs": [],
   "source": [
    "@decoratorfactory('Decorator Factory')\n",
    "def my_func():\n",
    "    print(\"my function's message\")\n",
    "\n",
    "my_func()"
   ]
  },
  {
   "cell_type": "markdown",
   "metadata": {},
   "source": [
    "## Decorator class\n",
    "As mentioned before, a decorator is a function that can be applied to another function to augment its\n",
    "behavior.<br>\n",
    "But what if the decorator was instead a class? The syntax would still work, except that now function will get replaced with an instance of the decorator class.<br><br>\n",
    "Now, if the decorator class implements the `__call__()` method, then it would still be possible to use the function as it was."
   ]
  },
  {
   "cell_type": "code",
   "execution_count": null,
   "metadata": {},
   "outputs": [],
   "source": [
    "class Decorator(object):\n",
    "    def __init__(self, func):\n",
    "        self.func = func\n",
    "    def __call__(self, *args, **kwargs):\n",
    "        print('my decorator')\n",
    "        return self.func(*args, **kwargs)"
   ]
  },
  {
   "cell_type": "code",
   "execution_count": null,
   "metadata": {},
   "outputs": [],
   "source": [
    "@Decorator\n",
    "def my_func():\n",
    "    print('my function')\n",
    "\n",
    "my_func()"
   ]
  },
  {
   "cell_type": "markdown",
   "metadata": {},
   "source": [
    "**Note**: A function decorated with a class decorator will no longer be considered a \"function\". If we test it's Type it will no longer be a `FunctionType`."
   ]
  },
  {
   "cell_type": "markdown",
   "metadata": {},
   "source": [
    "### Decorating Class Methods\n",
    "For decorating class methods an additional `__get__` method is defined."
   ]
  },
  {
   "cell_type": "code",
   "execution_count": null,
   "metadata": {},
   "outputs": [],
   "source": [
    "from types import MethodType\n",
    "\n",
    "class Decorator(object):\n",
    "    def __init__(self, func):\n",
    "        self.func = func\n",
    "    def __call__(self, *args, **kwargs):\n",
    "        print('my decorator')\n",
    "        return self.func(*args, **kwargs)\n",
    "    def __get__(self, instance, cls):\n",
    "        return self if instance is None else MethodType(self, instance)"
   ]
  },
  {
   "cell_type": "code",
   "execution_count": null,
   "metadata": {},
   "outputs": [],
   "source": [
    "class Test(object):\n",
    "    def __init__(self):\n",
    "        pass\n",
    "    @Decorator\n",
    "    def my_test_method(self):\n",
    "        print(\"my test method\")"
   ]
  },
  {
   "cell_type": "code",
   "execution_count": null,
   "metadata": {},
   "outputs": [],
   "source": [
    "test = Test()\n",
    "test.my_test_method()"
   ]
  }
 ],
 "metadata": {
  "kernelspec": {
   "display_name": "Python 3",
   "language": "python",
   "name": "python3"
  },
  "language_info": {
   "codemirror_mode": {
    "name": "ipython",
    "version": 3
   },
   "file_extension": ".py",
   "mimetype": "text/x-python",
   "name": "python",
   "nbconvert_exporter": "python",
   "pygments_lexer": "ipython3",
   "version": "3.8.3"
  }
 },
 "nbformat": 4,
 "nbformat_minor": 4
}
