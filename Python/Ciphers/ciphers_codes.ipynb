{
  "nbformat": 4,
  "nbformat_minor": 0,
  "metadata": {
    "colab": {
      "name": "ciphers_codes.ipynb",
      "provenance": []
    },
    "kernelspec": {
      "name": "python3",
      "display_name": "Python 3"
    },
    "language_info": {
      "name": "python"
    }
  },
  "cells": [
    {
      "cell_type": "markdown",
      "metadata": {
        "id": "GFZQNoEx9K2K"
      },
      "source": [
        "# Ciphers in Python\n"
      ]
    },
    {
      "cell_type": "markdown",
      "metadata": {
        "id": "V1AKhBRU9OvQ"
      },
      "source": [
        "Here we will be discussing a few of the cipher codes using Python"
      ]
    },
    {
      "cell_type": "markdown",
      "metadata": {
        "id": "zpJqq5xA9I53"
      },
      "source": [
        "**Caesar Cipher**"
      ]
    },
    {
      "cell_type": "code",
      "metadata": {
        "colab": {
          "base_uri": "https://localhost:8080/"
        },
        "id": "2kQNi-_M9Cn9",
        "outputId": "773099c9-d1df-4674-ea8b-07129abe8146"
      },
      "source": [
        "from random import choice\n",
        "\n",
        "def decrypt(encrypted_string,key_val):\n",
        "    '''This is the decryption function\n",
        "    It takes in input encrypted string and key value\n",
        "    Prints nothing and return the decrypted string value'''\n",
        "    final = '\"'\n",
        "    encrypted_string = encrypted_string.upper()\n",
        "    for i in range(len(encrypted_string)):\n",
        "        decrypt_char = ord(encrypted_string[i]) + key_val\n",
        "        if (decrypt_char > 90):\n",
        "            decrypt_char = 65 - ( 90 - decrypt_char)\n",
        "        decrypt_char = chr(decrypt_char)\n",
        "        final += decrypt_char\n",
        "    return final\n",
        "\n",
        "\n",
        "def encrypt(input_string,key_val):\n",
        "    '''This is the encryption function\n",
        "    It takes in input string and key value.\n",
        "    Prints nothing and return the Encrypted string value'''\n",
        "    final = \"\"\n",
        "    input_string = input_string.upper()\n",
        "    for i in range(len(input_string)):\n",
        "        encrypt_char = ord(input_string[i]) + key_val\n",
        "        if (encrypt_char > 90):\n",
        "            encrypt_char = 65 - ( 90 - encrypt_char)\n",
        "        encrypt_char = chr(encrypt_char)\n",
        "        final += encrypt_char\n",
        "    final = ''.join(choice((str.upper, str.lower))(char) for char in final)\n",
        "    return final\n",
        "\n",
        "#This is the code for menu , chosing whether to encrypt or decrypt\n",
        "choose =int(input('CHOOSE FROM THE FOLLOWING : \\n 1. Encrypt String \\n 2. Decrypt String \\n')) \n",
        "\n",
        "#This is the code for encryption choice , it calls the function and prints the  encrypted value\n",
        "if (choose == 1):\n",
        "    input_string = input('Enter the input text ')\n",
        "    key_val = int(input('Enter the key value '))\n",
        "    print('Encrypted string is : ' + encrypt(input_string,key_val))\n",
        "    \n",
        "#This is the code for decryption choice , it calls the function and prints the decrypted value\n",
        "if (choose == 2):\n",
        "    encrypted_string = input('Enter the encrypted text ')\n",
        "    key_val = int(input('Enter the key value '))\n",
        "    print('Decrypted string is : ' + decrypt(encrypted_string,key_val))"
      ],
      "execution_count": 1,
      "outputs": [
        {
          "output_type": "stream",
          "name": "stdout",
          "text": [
            "CHOOSE FROM THE FOLLOWING : \n",
            " 1. Encrypt String \n",
            " 2. Decrypt String \n",
            "2\n",
            "Enter the encrypted text llasa123q\n",
            "Enter the key value 12\n",
            "Decrypted string is : \"XXMFM=>?D\n"
          ]
        }
      ]
    },
    {
      "cell_type": "markdown",
      "metadata": {
        "id": "K03sygON9oyV"
      },
      "source": [
        "Reverse Cipher"
      ]
    },
    {
      "cell_type": "code",
      "metadata": {
        "colab": {
          "base_uri": "https://localhost:8080/"
        },
        "id": "iPlSDrDy9oJx",
        "outputId": "30e812e7-0f33-4799-84b5-77050dd2d5b6"
      },
      "source": [
        "#Reverse Cipher function to reverse the inputted string\n",
        "def revers_cipher(input_string):\n",
        "    #return the reversed string\n",
        "    return input_string[::-1]\n",
        "\n",
        "#getting input from the user\n",
        "input_string = input('Enter the string which you would like to encrypt or decrypt : ')\n",
        "\n",
        "#printing the output\n",
        "print('The inputted String was ',input_string)\n",
        "print('Reversed String is ', revers_cipher(input_string))\n",
        "\n",
        "# '''\n",
        "# Note : Since in reverse Cipher the working remains the same. i.e to reverse the \n",
        "#        inputted string , hence we haven't segregated encryption and decryption as inputs.\n",
        "# '''\n",
        "\n",
        "# \n",
        "# Sample input  : ok so it is cool\n",
        "# Sample output : looc si ti os ko\n",
        "# Explaination:\n",
        "# The user enters either an encrypted/decrypted string . \n",
        "# After the user has provided the input the variable in which the string \n",
        "# is stored is passed onto a Revers_cipher function.\n",
        "# The Revers_cipher function reverses the string and returns the reversed string.\n",
        "# "
      ],
      "execution_count": 3,
      "outputs": [
        {
          "output_type": "stream",
          "name": "stdout",
          "text": [
            "Enter the string which you would like to encrypt or decrypt : qwsawe1\n",
            "The inputted String was  qwsawe1\n",
            "Reversed String is  1ewaswq\n"
          ]
        }
      ]
    },
    {
      "cell_type": "markdown",
      "metadata": {
        "id": "moLytp2C9--t"
      },
      "source": [
        "**Transposition Ciphers**"
      ]
    },
    {
      "cell_type": "code",
      "metadata": {
        "colab": {
          "base_uri": "https://localhost:8080/"
        },
        "id": "Cq50CQtp-BmF",
        "outputId": "1adb8780-9120-41b0-ae5d-ff421fc226f9"
      },
      "source": [
        "import math\n",
        "\n",
        "key = int(input(\"Enter key: \"))\n",
        "  \n",
        "# Encryption\n",
        "def encryption(msg):\n",
        "    cipher = \"\"\n",
        "    text_len = float(len(msg))\n",
        "    text_list = list(msg)\n",
        "    col = key\n",
        "      \n",
        "    # maximum row of the matrix\n",
        "    row = int(math.ceil(text_len / col))\n",
        "  \n",
        "    # the empty cells at the end are filled with '/'\n",
        "    fill_null = int((row * col) - text_len)\n",
        "    text_list.extend('/' * fill_null)\n",
        "  \n",
        "    # create Matrix and insert message  \n",
        "    matrix = [text_list[i: i + col] for i in range(0, len(text_list), col)]\n",
        "\n",
        "#print matrix\n",
        "    for i in matrix:\n",
        "      print(i)\n",
        "  \n",
        "    # read matrix column-wise \n",
        "    key_index = 0\n",
        "    for i in range(col):\n",
        "        cipher += ''.join([row[key_index] for row in matrix])\n",
        "        key_index += 1\n",
        "  \n",
        "    return cipher\n",
        "\n",
        "\n",
        "def decryption(c, key):\n",
        "    col = key\n",
        "    col, row = key, math.ceil(len(c)/key)\n",
        "    no_of_blanks = row*col-len(c)\n",
        "    filled = row - no_of_blanks\n",
        "      \n",
        "    chars = list(c)\n",
        "    if no_of_blanks != 0:\n",
        "        for i in range (filled,1+key):\n",
        "            chars.insert(row*i-1, \" \")\n",
        "        \n",
        "    tmp = [chars[j+i]  for j in range(row) for i in range(0,len(chars),row) if (j+i)<len(chars)]\n",
        "    return ''.join(tmp)\n",
        "  \n",
        "msg = input(\"Enter message: \")\n",
        "  \n",
        "cipher = encryption(msg)\n",
        "print(\"Encrypted Message: {}\".format(cipher))\n",
        "  \n",
        "print(\"Decryped Message: {}\".\n",
        "       format(decryption(cipher,key)))"
      ],
      "execution_count": 4,
      "outputs": [
        {
          "output_type": "stream",
          "name": "stdout",
          "text": [
            "Enter key: 12\n",
            "Enter message: qwadqwra\n",
            "['q', 'w', 'a', 'd', 'q', 'w', 'r', 'a', '/', '/', '/', '/']\n",
            "Encrypted Message: qwadqwra////\n",
            "Decryped Message: qwadqwra////\n"
          ]
        }
      ]
    }
  ]
}