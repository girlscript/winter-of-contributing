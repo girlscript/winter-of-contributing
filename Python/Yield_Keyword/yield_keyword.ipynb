{
  "nbformat": 4,
  "nbformat_minor": 0,
  "metadata": {
    "colab": {
      "name": "yield-keyword.ipynb",
      "provenance": [],
      "collapsed_sections": []
    },
    "kernelspec": {
      "name": "python3",
      "display_name": "Python 3"
    },
    "language_info": {
      "name": "python"
    }
  },
  "cells": [
    {
      "cell_type": "markdown",
      "metadata": {
        "id": "ZAPNn-b9GIW7"
      },
      "source": [
        "# **yield Keyword**\n",
        "Yield is a keyword in Python that is used to return from a function without destroying the states of its local variable and when the function is called, the execution starts from the last yield statement. Any function that contains a yield keyword is termed a generator. Hence, yield is what makes a generator. The yield keyword in Python is less known off but has a greater utility which one can think of.\n"
      ]
    },
    {
      "cell_type": "markdown",
      "metadata": {
        "id": "juejZn3cGaJE"
      },
      "source": [
        "To understand what yield does, you must understand what generators are. And before you can understand generators, you must understand iterables.\n",
        "\n",
        "**Iterables**"
      ]
    },
    {
      "cell_type": "code",
      "metadata": {
        "colab": {
          "base_uri": "https://localhost:8080/"
        },
        "id": "eFyccsJBFPfZ",
        "outputId": "c98528f8-94e7-4c45-c456-85cd89994b6d"
      },
      "source": [
        "mylist = [1, 2, 3]\n",
        "for i in mylist:\n",
        "  print(i)"
      ],
      "execution_count": 1,
      "outputs": [
        {
          "output_type": "stream",
          "name": "stdout",
          "text": [
            "1\n",
            "2\n",
            "3\n"
          ]
        }
      ]
    },
    {
      "cell_type": "markdown",
      "metadata": {
        "id": "Gyrn4ppNGPlg"
      },
      "source": [
        "`mylist` is an iterable. When you use a list comprehension, you create a list, and so an iterable:\n",
        "\n"
      ]
    },
    {
      "cell_type": "code",
      "metadata": {
        "colab": {
          "base_uri": "https://localhost:8080/"
        },
        "id": "JPkihZD2Gnyv",
        "outputId": "0251429b-07a8-4ee4-92a0-818b34e87f11"
      },
      "source": [
        "mylist = [x*x for x in range(3)]\n",
        "for i in mylist:\n",
        "  print(i)"
      ],
      "execution_count": 2,
      "outputs": [
        {
          "output_type": "stream",
          "name": "stdout",
          "text": [
            "0\n",
            "1\n",
            "4\n"
          ]
        }
      ]
    },
    {
      "cell_type": "markdown",
      "metadata": {
        "id": "HcT795HdGyUI"
      },
      "source": [
        "Everything you can use \"`for`... `in`...\" on is an iterable; `lists`, `strings`, files...\n",
        "These iterables are handy because you can read them as much as you wish, but you store all the values in memory and this is not always what you want when you have a lot of values.\n",
        "\n"
      ]
    },
    {
      "cell_type": "markdown",
      "metadata": {
        "id": "QxcL5I2uHHNP"
      },
      "source": [
        "**Generators**\n",
        "\n",
        "Generators are iterators, a kind of iterable you can only iterate over once. Generators do not store all the values in memory, they generate the values on the fly:\n",
        "\n"
      ]
    },
    {
      "cell_type": "code",
      "metadata": {
        "colab": {
          "base_uri": "https://localhost:8080/"
        },
        "id": "nYpNecGrGxfQ",
        "outputId": "97eb9b7b-61f9-491d-9c91-9bd0ab2e021e"
      },
      "source": [
        "mygenerator = (x*x for x in range(3))\n",
        "for i in mygenerator:\n",
        "  print(i)"
      ],
      "execution_count": 3,
      "outputs": [
        {
          "output_type": "stream",
          "name": "stdout",
          "text": [
            "0\n",
            "1\n",
            "4\n"
          ]
        }
      ]
    },
    {
      "cell_type": "markdown",
      "metadata": {
        "id": "Lf0MJCipHVlw"
      },
      "source": [
        "It is just the same except you used `()` instead of `[]`. BUT, you cannot perform `for i in mygenerator` a second time since generators can only be used once: they calculate 0, then forget about it and calculate 1, and end calculating 4, one by one."
      ]
    },
    {
      "cell_type": "markdown",
      "metadata": {
        "id": "xdClrpm2Hewo"
      },
      "source": [
        "**Yield**\n",
        "\n",
        "`yield` is a keyword that is used like `return`, except the function will return a generator."
      ]
    },
    {
      "cell_type": "code",
      "metadata": {
        "colab": {
          "base_uri": "https://localhost:8080/"
        },
        "id": "2jWLEkW4HSWd",
        "outputId": "45518ec9-e0b7-4c48-8b45-b25d92fbc858"
      },
      "source": [
        "def create_generator():\n",
        "    mylist = range(3)\n",
        "    for i in mylist:\n",
        "        yield i*i\n",
        "\n",
        "mygenerator = create_generator() # create a generator\n",
        "print(mygenerator) # mygenerator is an object!"
      ],
      "execution_count": 7,
      "outputs": [
        {
          "output_type": "stream",
          "name": "stdout",
          "text": [
            "<generator object create_generator at 0x7fc9fe271ad0>\n"
          ]
        }
      ]
    },
    {
      "cell_type": "code",
      "metadata": {
        "colab": {
          "base_uri": "https://localhost:8080/"
        },
        "id": "y6F3KwbUH4Kk",
        "outputId": "c8c29d27-e2cf-4156-d3ab-8aa83be14472"
      },
      "source": [
        "for i in mygenerator:\n",
        "     print(i)"
      ],
      "execution_count": 8,
      "outputs": [
        {
          "output_type": "stream",
          "name": "stdout",
          "text": [
            "0\n",
            "1\n",
            "4\n"
          ]
        }
      ]
    },
    {
      "cell_type": "code",
      "metadata": {
        "colab": {
          "base_uri": "https://localhost:8080/"
        },
        "id": "28uSCWtDH_nP",
        "outputId": "6f2956ed-8b5d-48c8-8763-8fa6fc7e8609"
      },
      "source": [
        "\"\"\"\n",
        "A Python program to generate squares from 1\n",
        "to 100 using yield and therefore generator\n",
        "\n",
        "An infinite generator function that prints next square number.\n",
        "\"\"\"\n",
        "\n",
        "def nextSquare():\n",
        "\ti = 1\n",
        "\n",
        "\t# An Infinite loop to generate squares\n",
        "\twhile True:\n",
        "\t\tyield i*i\t\t\t\t\n",
        "\t\ti += 1 # Next execution resumes from this point\t\n",
        "\n",
        "\n",
        "for num in nextSquare():\n",
        "\tif num > 100:\n",
        "\t\tbreak\n",
        "\tprint(num)"
      ],
      "execution_count": 9,
      "outputs": [
        {
          "output_type": "stream",
          "name": "stdout",
          "text": [
            "1\n",
            "4\n",
            "9\n",
            "16\n",
            "25\n",
            "36\n",
            "49\n",
            "64\n",
            "81\n",
            "100\n"
          ]
        }
      ]
    }
  ]
}