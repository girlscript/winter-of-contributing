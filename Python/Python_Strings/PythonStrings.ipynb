{
  "nbformat": 4,
  "nbformat_minor": 0,
  "metadata": {
    "colab": {
      "name": "Untitled0.ipynb",
      "provenance": []
    },
    "kernelspec": {
      "name": "python3",
      "display_name": "Python 3"
    },
    "language_info": {
      "name": "python"
    }
  },
  "cells": [
    {
      "cell_type": "markdown",
      "metadata": {
        "id": "whX-PsgOxz8Z"
      },
      "source": [
        "# Python Strings\n",
        "\n",
        "- Strings is one of the most important data types.\n",
        "- Let's know how it is declared, defined, accessed and common operations performed on the python strings."
      ]
    },
    {
      "cell_type": "markdown",
      "metadata": {
        "id": "U4p2b_-5D8M9"
      },
      "source": [
        "## Strings\n",
        "\n",
        "- A string is a collection or series of characters.\n",
        "- An important point to remember is that python strings are **immutable**. Once,we created a string object, we cannot change them. \n",
        "- However, observe that python doesn't have character data type. It just treats a single character as a string of length one.\n",
        "- Anything enclosed in quotes(either single or double) is considered as a string.\n",
        "- Indexing in strings starts from 0."
      ]
    },
    {
      "cell_type": "markdown",
      "metadata": {
        "id": "q9U22qIpEutL"
      },
      "source": [
        "## Declaration Of Strings\n",
        "\n",
        "- The declaration of a string is very simple. It is similar to declaration as that of any other basic data type.\n",
        "- **Syntax**\n",
        "> *var_name = 'some text within quotes'* or *var_name = \"some text within quotes\"*\n",
        "- Lets look at an example!"
      ]
    },
    {
      "cell_type": "code",
      "metadata": {
        "id": "CpENIAzYF90Z"
      },
      "source": [
        "MyString = \"Hello World!\""
      ],
      "execution_count": 4,
      "outputs": []
    },
    {
      "cell_type": "markdown",
      "metadata": {
        "id": "0Z0covFKGEth"
      },
      "source": [
        "## Accessing Strings\n",
        "- Now, that we know how to initialise strings, lets look at how to access them.\n",
        "- We can use name of the variable to which the string is assigned, if we want to access the complete string.\n",
        "- To access only one character of a string ,we use indices.\n",
        "- To access a substring (a subsequence/part of total string), we use slicing.\n",
        "\n",
        "**Syntax**:\n",
        "> 1) *var_name* - to access the whole string.\\\n",
        "  2) *var_name[index]* - to access a certain character at 'index' position.\\\n",
        "  3) *var_name[index1:index2]* - to access a sequence of characters from index1 to index2-1 positions in the string.\n",
        "\n",
        "- Let's look at few examples of accessing strings.\n"
      ]
    },
    {
      "cell_type": "code",
      "metadata": {
        "colab": {
          "base_uri": "https://localhost:8080/"
        },
        "id": "nZuedR9-Kdw3",
        "outputId": "c83e2da7-0715-4325-dd00-126062147ec2"
      },
      "source": [
        "MyString = \"I love GirlScript\"\n",
        "print(MyString)\n",
        "print(MyString[0])\n",
        "print(MyString[7:]) #if index2 is left empty it prints upto the end."
      ],
      "execution_count": 5,
      "outputs": [
        {
          "output_type": "stream",
          "name": "stdout",
          "text": [
            "I love GirlScript\n",
            "I\n",
            "GirlScript\n"
          ]
        }
      ]
    },
    {
      "cell_type": "markdown",
      "metadata": {
        "id": "q-rKRxYxLBMd"
      },
      "source": [
        "## Operations On Strings\n",
        "\n",
        " Now, we had the basic knowledge of what string is, how they are declared and accessed . Let's see the operations that can be performed on strings.\\\n",
        " Some of the common operations are \n",
        "- length \n",
        "- Copy\n",
        "- Concatenation\n",
        "- Comparison\n",
        "- Finding if a substring exists in a string.\n",
        "\n",
        "These are some of the common operations performed on strings. Let's look at how these are performed.\n",
        "\n",
        "### Finding length of string\n",
        "\n",
        "- The *len()* function in python gives us the length of string. \n",
        "- This can be done as follows:\n",
        "\n"
      ]
    },
    {
      "cell_type": "code",
      "metadata": {
        "colab": {
          "base_uri": "https://localhost:8080/"
        },
        "id": "ZV-eseGYOJXq",
        "outputId": "26f4a6f6-eedf-4244-fcee-d0145479337b"
      },
      "source": [
        "MyString = \"I love GirlScript\"\n",
        "print(\"The length of MyString is \"+ str(len(MyString))) # At this point, all you have to notice is that len(MyString) is giving the length of MyString variable.\n",
        "# I'll get back to the part of str() and '+' later in this tutorial."
      ],
      "execution_count": 7,
      "outputs": [
        {
          "output_type": "stream",
          "name": "stdout",
          "text": [
            "The length of MyString is 17\n"
          ]
        }
      ]
    },
    {
      "cell_type": "markdown",
      "metadata": {
        "id": "2dxMJlDmO-Uu"
      },
      "source": [
        "### Copying Strings\n",
        "\n",
        "- There are many ways to copy strings in python. However, most of them creates a copy of the object but the new and old variables points same object.\n",
        "- Lets look into the ways how strings can be copied.\n",
        "1. Using **Slice operator**:\n",
        "- We can create a new variable and then use the actual variable that holds the string along with [ : ].\n",
        "- Let's look at an example."
      ]
    },
    {
      "cell_type": "code",
      "metadata": {
        "colab": {
          "base_uri": "https://localhost:8080/"
        },
        "id": "iAsAI_2BRWTo",
        "outputId": "412ad00b-251f-4782-b973-3345a6c6bb7c"
      },
      "source": [
        "MyString = \"I love GirlScript\"\n",
        "MyString2 = MyString[:]\n",
        "print(MyString2)"
      ],
      "execution_count": 8,
      "outputs": [
        {
          "output_type": "stream",
          "name": "stdout",
          "text": [
            "I love GirlScript\n"
          ]
        }
      ]
    },
    {
      "cell_type": "markdown",
      "metadata": {
        "id": "71Jm7PokRolA"
      },
      "source": [
        "2. Using **Assignment Operator**\n",
        "- We could simply use '=' to make a copy of string and now both the old and new variables refer same string object.\n",
        "- An example is as shown:"
      ]
    },
    {
      "cell_type": "code",
      "metadata": {
        "colab": {
          "base_uri": "https://localhost:8080/"
        },
        "id": "ha3inlWjR8_g",
        "outputId": "bdab26f8-5730-4182-e724-2705fcd0d6da"
      },
      "source": [
        "MyString = \"I love GirlScript\"\n",
        "MyString2 = MyString\n",
        "print(MyString2)"
      ],
      "execution_count": 9,
      "outputs": [
        {
          "output_type": "stream",
          "name": "stdout",
          "text": [
            "I love GirlScript\n"
          ]
        }
      ]
    },
    {
      "cell_type": "markdown",
      "metadata": {
        "id": "eKtn0KWhSCpv"
      },
      "source": [
        "3. Using **str()**\n",
        "- Now, lets learn about str() function in python.\n",
        "- str() converts any value within braces into string object and returns it.\n",
        "- Copying via str() can be done as shown:"
      ]
    },
    {
      "cell_type": "code",
      "metadata": {
        "colab": {
          "base_uri": "https://localhost:8080/"
        },
        "id": "JbWQ5GDlS-lP",
        "outputId": "1d8a3d36-73cb-456a-97aa-cdcc5bfad12d"
      },
      "source": [
        "MyString = \"I love GirlScript\"\n",
        "MyString2 = str(MyString)\n",
        "print(MyString2)"
      ],
      "execution_count": 10,
      "outputs": [
        {
          "output_type": "stream",
          "name": "stdout",
          "text": [
            "I love GirlScript\n"
          ]
        }
      ]
    },
    {
      "cell_type": "markdown",
      "metadata": {
        "id": "KRUitu03TNGK"
      },
      "source": [
        "4.We can even come up with our own program to copy strings. Here is one, to copy strings.\n"
      ]
    },
    {
      "cell_type": "code",
      "metadata": {
        "colab": {
          "base_uri": "https://localhost:8080/"
        },
        "id": "SoeEWbpJTc6B",
        "outputId": "373858c0-0408-40b9-a9e4-0875389fde77"
      },
      "source": [
        "MyString = \"I love GirlScript\"\n",
        "MyString2 = '' # currently an empty string.\n",
        "for i in MyString:\n",
        "  MyString2 += i  #appending i to previous MyString2 and assigning new value to MyString. + is a way of cancatenation which we shall learn in detail in next section.\n",
        "print(MyString2)"
      ],
      "execution_count": 11,
      "outputs": [
        {
          "output_type": "stream",
          "name": "stdout",
          "text": [
            "I love GirlScript\n"
          ]
        }
      ]
    },
    {
      "cell_type": "markdown",
      "metadata": {
        "id": "Unj5hgAsUGh2"
      },
      "source": [
        "## Concatenation\n",
        "\n",
        "Concatenation is adding two or more strings and forming a larger string. This can be done using '+' operator.\\\n",
        "An example is as shown:"
      ]
    },
    {
      "cell_type": "code",
      "metadata": {
        "colab": {
          "base_uri": "https://localhost:8080/"
        },
        "id": "AnOUJ8F6VOed",
        "outputId": "c23968cf-d9f6-48c9-858a-a330351387a5"
      },
      "source": [
        "MyString = \"I love GirlScript\"\n",
        "MyString2 = \" Winter of Contribution\"\n",
        "MyString3 = MyString + MyString2\n",
        "print(MyString3)"
      ],
      "execution_count": 14,
      "outputs": [
        {
          "output_type": "stream",
          "name": "stdout",
          "text": [
            "I love GirlScript Winter of Contribution\n"
          ]
        }
      ]
    },
    {
      "cell_type": "markdown",
      "metadata": {
        "id": "WhO9ioQRVuW2"
      },
      "source": [
        "However, print() has its special of treating all its parameters.\\\n",
        "Anything written in print() seperated by comma(,) is first converted to a string object and concatenated by adding a space in between. Lets see an example:\n"
      ]
    },
    {
      "cell_type": "code",
      "metadata": {
        "colab": {
          "base_uri": "https://localhost:8080/"
        },
        "id": "806g_fZ0WGyI",
        "outputId": "9adb2e34-9938-460b-864c-df5d115e3a92"
      },
      "source": [
        "print(MyString,MyString2)"
      ],
      "execution_count": 17,
      "outputs": [
        {
          "output_type": "stream",
          "name": "stdout",
          "text": [
            "I love GirlScript  Winter of Contribution\n"
          ]
        }
      ]
    },
    {
      "cell_type": "markdown",
      "metadata": {
        "id": "sXDGnbmvWqEz"
      },
      "source": [
        "# Comparison\n",
        "\n",
        "String comparison is one of the most frequently used operations. \\\n",
        "Strings can be considered just like basic data type such as int and comparison can be one using \n",
        "- ==\n",
        "-  &lt;\n",
        "-  &gt;\n",
        "-  &lt;=\n",
        "- &gt;=\n",
        "\n",
        "What these comparison operators generally does is, it checks the ascii value of each character until a mismatched value occurs, if there's no mismatch the strings are equal. \n",
        "\n"
      ]
    },
    {
      "cell_type": "code",
      "metadata": {
        "colab": {
          "base_uri": "https://localhost:8080/"
        },
        "id": "rsAij8qSYwZ8",
        "outputId": "b60eaa11-8269-4fc5-8ae8-21aae45d6f35"
      },
      "source": [
        "print('a' > 'b') #output is false as ascii value of 'a' 97 is less than ascii value of 'b' 98\n",
        "print('ab' == 'ab') #returns true as strings are same\n",
        "print('ac' >= 'abd') #prints true as 'c'(99) is greater than 'b'(98)\n",
        "print('ac' <= 'abd') #false as 'c' is greater than 'b'\n",
        "print('ac' < 'abd') #result follows from above discussion"
      ],
      "execution_count": 19,
      "outputs": [
        {
          "output_type": "stream",
          "name": "stdout",
          "text": [
            "False\n",
            "True\n",
            "True\n",
            "False\n",
            "False\n"
          ]
        }
      ]
    },
    {
      "cell_type": "markdown",
      "metadata": {
        "id": "JodwRL4cZ9jc"
      },
      "source": [
        "## Finding a substring in a given string\n",
        "\n",
        "find() return the index at which substring occurs in given string and -1 if substring is not found.\\\n",
        "find() takes in 3 parameters\n",
        "- str -> points substring\n",
        "-  beginning index -> specifies starting index from where search should start(this is 0 by default)\n",
        "- ending index -> This is the ending index, by default it is equal to the length of the string.\n",
        "\n",
        "Lets look at an example of how its done:"
      ]
    },
    {
      "cell_type": "code",
      "metadata": {
        "colab": {
          "base_uri": "https://localhost:8080/"
        },
        "id": "ZaI8p8c8boWH",
        "outputId": "70408bb4-7bc7-4241-8fac-5a462a4b954f"
      },
      "source": [
        "MyString = \"I love GirlScript\"\n",
        "Substr = \"GirlScript\"\n",
        "print(MyString.find(Substr))"
      ],
      "execution_count": 20,
      "outputs": [
        {
          "output_type": "stream",
          "name": "stdout",
          "text": [
            "7\n"
          ]
        }
      ]
    },
    {
      "cell_type": "markdown",
      "metadata": {
        "id": "yGVLNESzeeUm"
      },
      "source": [
        "These are the common operations that are performed on the strings. There are several other built-in string methods such as islower(),isupper(), strip(), split(), capitalisze(),count() etc. "
      ]
    },
    {
      "cell_type": "markdown",
      "metadata": {
        "id": "iOqYjX4gfNiz"
      },
      "source": [
        "# Conclusion\n",
        "\n",
        "Python strings are very much helpful and are also easy to handle. However, one must perform manipulations on strings keeping in mind that they are immutable. performing operations such as :\n",
        "\n",
        "> MyString[1] = '$'\n",
        "\n",
        "throws an error. Every programmer needs a firm knowledge of strings."
      ]
    }
  ]
}
