{
  "nbformat": 4,
  "nbformat_minor": 0,
  "metadata": {
    "colab": {
      "name": "Datatypes_of_Python.ipynb",
      "provenance": [],
      "collapsed_sections": [],
      "authorship_tag": "ABX9TyMXA33mwm+dimic30tcO2cP",
      "include_colab_link": true
    },
    "kernelspec": {
      "name": "python3",
      "display_name": "Python 3"
    },
    "language_info": {
      "name": "python"
    }
  },
  "cells": [
    {
      "cell_type": "markdown",
      "metadata": {
        "id": "view-in-github",
        "colab_type": "text"
      },
      "source": [
        "<a href=\"https://colab.research.google.com/github/itika1/winter-of-contributing/blob/Python/Python/Datatypes/Datatypes_of_Python.ipynb\" target=\"_parent\"><img src=\"https://colab.research.google.com/assets/colab-badge.svg\" alt=\"Open In Colab\"/></a>"
      ]
    },
    {
      "cell_type": "markdown",
      "metadata": {
        "id": "UXqX_oTjXFpU"
      },
      "source": [
        "# Basic Datatypes of Python- int, str & float\n",
        "This documentation is all about Python datatypes. Datatype is one of the important concept of any programming language."
      ]
    },
    {
      "cell_type": "markdown",
      "metadata": {
        "id": "d2NSHAP9Y9DX"
      },
      "source": [
        "## Introduction\n",
        "Variables can hold values of different types called data types. Based on the data type of a variable, the interpreter reserves memory for it and also determines the type of data that can be stored in the reserved memory. The five standard data types supported by Python include numbers, strings, list, tuples, and dictionary. We can also create our own data type in Python (like classes).\n",
        "\n",
        "*You will get to know easily the data type of a variable by simply using the **type()** function*\n",
        "\n",
        "But in this documentation we will be solely focus on the three built-in datatypes that are int,str and float.\n"
      ]
    },
    {
      "cell_type": "markdown",
      "metadata": {
        "id": "o7tCYL5IacVU"
      },
      "source": [
        "## Numeric types\n",
        "\n",
        "\n",
        "1.   int\n",
        "2.   float\n",
        "\n",
        "## Text types\n",
        "\n",
        "\n",
        "1.   str\n",
        "\n",
        "\n"
      ]
    },
    {
      "cell_type": "markdown",
      "metadata": {
        "id": "JYlAYMhQa_4K"
      },
      "source": [
        "# Datatype int\n",
        "In order to set/assign some integer value the used datatype for every programming language is int and also it's same for python.\n",
        "## Source code\n",
        "\n",
        "\n",
        "```\n",
        "x = 5 //Initialize the value 5 to the object x\n",
        "print(x) //Print the value of x i.e 5\n",
        "print(type(x) // get the type of datatype\n",
        "```\n",
        "##Output\n",
        "\n",
        "\n",
        "```\n",
        "5\n",
        "<class 'int'>\n",
        "```\n",
        "##Run to check it"
      ]
    },
    {
      "cell_type": "code",
      "metadata": {
        "colab": {
          "base_uri": "https://localhost:8080/"
        },
        "id": "Tu6u27nEdvar",
        "outputId": "25d50036-63de-487e-e196-5670eebe2152"
      },
      "source": [
        "x = 5 \n",
        "print(x) \n",
        "print(type(x))"
      ],
      "execution_count": null,
      "outputs": [
        {
          "output_type": "stream",
          "name": "stdout",
          "text": [
            "5\n",
            "<class 'int'>\n"
          ]
        }
      ]
    },
    {
      "cell_type": "markdown",
      "metadata": {
        "id": "CrWgwjftgpgA"
      },
      "source": [
        "## Using Constructor function\n",
        "Also, by using the int() constructor function we can specify a datatype.\n",
        "##Source code\n",
        "\n",
        "\n"
      ]
    },
    {
      "cell_type": "code",
      "metadata": {
        "colab": {
          "base_uri": "https://localhost:8080/"
        },
        "id": "y4hg5bVfhJxk",
        "outputId": "ce39dd03-2895-44c7-d37e-a294e4ce7114"
      },
      "source": [
        "x=int(5)\n",
        "print(x)\n",
        "print(type(x))"
      ],
      "execution_count": null,
      "outputs": [
        {
          "output_type": "stream",
          "name": "stdout",
          "text": [
            "5\n",
            "<class 'int'>\n"
          ]
        }
      ]
    },
    {
      "cell_type": "markdown",
      "metadata": {
        "id": "1BzUKt1deRUh"
      },
      "source": [
        "# Datatype float\n",
        "In order to set/assign some non-integer value that includes fraction represented in decimal format, the used datatype is float.\n",
        "##Source code\n",
        "\n",
        "\n",
        "```\n",
        "x = 40.5//Initialize the value 40.5 to the object x\n",
        "print(x) //Print the value of x i.e 40.5\n",
        "print(type(x)) // get the type of datatype\n",
        "```\n",
        "##Output\n",
        "\n",
        "\n",
        "```\n",
        "40.5\n",
        "<class 'float'>\n",
        "```\n",
        "##Run to check it\n"
      ]
    },
    {
      "cell_type": "code",
      "metadata": {
        "colab": {
          "base_uri": "https://localhost:8080/"
        },
        "id": "SboFaE-rf1wn",
        "outputId": "fff7668e-52da-4e99-c1e7-4e154b3a7b50"
      },
      "source": [
        "x=40.5\n",
        "print(x)\n",
        "print(type(x))"
      ],
      "execution_count": null,
      "outputs": [
        {
          "output_type": "stream",
          "name": "stdout",
          "text": [
            "40.5\n",
            "<class 'float'>\n"
          ]
        }
      ]
    },
    {
      "cell_type": "markdown",
      "metadata": {
        "id": "45LdVnazhZ-O"
      },
      "source": [
        "## Using Constructor function\n",
        "Also, by using the float() constructor function we can specify a datatype.\n",
        "\n",
        "## Source code"
      ]
    },
    {
      "cell_type": "code",
      "metadata": {
        "colab": {
          "base_uri": "https://localhost:8080/"
        },
        "id": "mc0Y_4Pxh84d",
        "outputId": "dce5e3df-2fb5-4313-8462-f5907c1c3154"
      },
      "source": [
        "x=float(40.5)\n",
        "print(x)\n",
        "print(type(x))"
      ],
      "execution_count": null,
      "outputs": [
        {
          "output_type": "stream",
          "name": "stdout",
          "text": [
            "40.5\n",
            "<class 'float'>\n"
          ]
        }
      ]
    },
    {
      "cell_type": "markdown",
      "metadata": {
        "id": "QIcWjORzgD4R"
      },
      "source": [
        "# Datatype str\n",
        "In order to set/assign some string/chaacter value, the used datatype is float.\n",
        "\n",
        "## Source code\n",
        "\n",
        "\n",
        "```\n",
        "x = \"Hello World\" //Initialize the string Hello World to x\n",
        "print(x) //Print the value of x i.e., Hello World\n",
        "print(type(x)) //Print the type of the datatype\n",
        "```\n",
        "##Output\n",
        "\n",
        "\n",
        "```\n",
        "Hello World\n",
        "<class 'str'>\n",
        "```\n",
        "##Run to check \n",
        "\n"
      ]
    },
    {
      "cell_type": "code",
      "metadata": {
        "colab": {
          "base_uri": "https://localhost:8080/"
        },
        "id": "NiLMP0k_jAwi",
        "outputId": "25bb7da9-f504-493d-cd70-1ee8368a8fa0"
      },
      "source": [
        "x = \"Hello World\"\n",
        "print(x)\n",
        "print(type(x))"
      ],
      "execution_count": null,
      "outputs": [
        {
          "output_type": "stream",
          "name": "stdout",
          "text": [
            "Hello World\n",
            "<class 'str'>\n"
          ]
        }
      ]
    },
    {
      "cell_type": "markdown",
      "metadata": {
        "id": "2YiE7CkXjrS6"
      },
      "source": [
        "## Using Constructor function\n",
        "Also, by using the float() constructor function we can specify a datatype.\n",
        "\n",
        "## Source code\n",
        "\n"
      ]
    },
    {
      "cell_type": "code",
      "metadata": {
        "colab": {
          "base_uri": "https://localhost:8080/"
        },
        "id": "YWCRQDg_kYSL",
        "outputId": "9aa2487d-ec12-4fe8-e0b4-3cbd65a275ea"
      },
      "source": [
        "x= str(\"Hello World\")\n",
        "print(x)"
      ],
      "execution_count": null,
      "outputs": [
        {
          "output_type": "stream",
          "name": "stdout",
          "text": [
            "Hello World\n"
          ]
        }
      ]
    },
    {
      "cell_type": "markdown",
      "metadata": {
        "id": "4M9tJhaXktAB"
      },
      "source": [
        "# Conclusion\n",
        "Bingo! 👍 You've succesfully leant some of the built-in datatypes of Python.\n",
        "\n",
        "Happy Coding!"
      ]
    },
    {
      "cell_type": "markdown",
      "metadata": {
        "id": "s0PgQjYGlM6e"
      },
      "source": [
        "**Documentation contributed by [Itika](github.com/itika1) with 💖**"
      ]
    }
  ]
}