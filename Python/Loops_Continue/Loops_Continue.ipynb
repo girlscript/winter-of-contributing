{
  "nbformat": 4,
  "nbformat_minor": 0,
  "metadata": {
    "colab": {
      "name": "Loops-Continue.ipynb",
      "provenance": [],
      "collapsed_sections": []
    },
    "kernelspec": {
      "name": "python3",
      "display_name": "Python 3"
    },
    "language_info": {
      "name": "python"
    }
  },
  "cells": [
    {
      "cell_type": "markdown",
      "metadata": {
        "id": "Oa8_B9STntwz"
      },
      "source": [
        "Created by: Sreemoyee Sadhukhan\n",
        "\n",
        "Batch: 4\n",
        "\n",
        "Serial Number: 220\n",
        "\n",
        "Domain: Python\n",
        "\n",
        "Topic: Loops-Continue"
      ]
    },
    {
      "cell_type": "markdown",
      "metadata": {
        "id": "H9w3fBpBor3L"
      },
      "source": [
        "**This documentation is about CONTINUE statement.**"
      ]
    },
    {
      "cell_type": "markdown",
      "metadata": {
        "id": "DKU7sRHLpFOt"
      },
      "source": [
        "Let's first look into a brief introduction about loops."
      ]
    },
    {
      "cell_type": "markdown",
      "metadata": {
        "id": "s6_7atpLpasL"
      },
      "source": [
        "**Looping or iteration statements are used to iterate through a piece of code a specific number of times.**\n",
        "\n",
        "Here is a basic syntax of loops in python:\n",
        "\n",
        "    loop expression:\n",
        "\n",
        "        iteration statement(s)\n"
      ]
    },
    {
      "cell_type": "markdown",
      "metadata": {
        "id": "IlqjzIHKquVG"
      },
      "source": [
        "There are 2 types of loops in python:\n",
        "\n",
        "\n",
        "*   While loop\n",
        "*   For loop\n",
        "\n"
      ]
    },
    {
      "cell_type": "markdown",
      "metadata": {
        "id": "n99ENfjsq-za"
      },
      "source": [
        "### **While loop:**\n",
        "\n",
        "Basic syntax:\n",
        "\n",
        "    while expression:\n",
        "    statement(s)"
      ]
    },
    {
      "cell_type": "markdown",
      "metadata": {
        "id": "oKAN0ZRErTmP"
      },
      "source": [
        "Here is a code fragment for a standard while loop expression:"
      ]
    },
    {
      "cell_type": "code",
      "metadata": {
        "colab": {
          "base_uri": "https://localhost:8080/"
        },
        "id": "rebBKaPTrbPG",
        "outputId": "eb5ee27e-efa7-44a6-82a6-0f6c68ee0c5e"
      },
      "source": [
        "count = 0\n",
        "while (count < 3):    \n",
        "    count = count+1\n",
        "    print(\"Hello World\")"
      ],
      "execution_count": 1,
      "outputs": [
        {
          "output_type": "stream",
          "name": "stdout",
          "text": [
            "Hello World\n",
            "Hello World\n",
            "Hello World\n"
          ]
        }
      ]
    },
    {
      "cell_type": "markdown",
      "metadata": {
        "id": "yFkQ61czr180"
      },
      "source": [
        "This code will print \"Hello World\" thrice."
      ]
    },
    {
      "cell_type": "markdown",
      "metadata": {
        "id": "fRjZVxTlr-U6"
      },
      "source": [
        "### **For loop:**\n",
        "Basic syntax\n",
        "\n",
        "    for iterator_var in sequence:\n",
        "    statements(s)"
      ]
    },
    {
      "cell_type": "markdown",
      "metadata": {
        "id": "2B6wbl9Msa9f"
      },
      "source": [
        "Here is a code fragment for a standard while loop expression:"
      ]
    },
    {
      "cell_type": "code",
      "metadata": {
        "colab": {
          "base_uri": "https://localhost:8080/"
        },
        "id": "MF-JVbZvs_pM",
        "outputId": "2a888502-e709-4dce-86d8-b1dc7b94f119"
      },
      "source": [
        "print(\"List Iteration\")\n",
        "l = [\"Hello\", \"World\", \"!\"]\n",
        "for i in l:\n",
        "    print(i)"
      ],
      "execution_count": 2,
      "outputs": [
        {
          "output_type": "stream",
          "name": "stdout",
          "text": [
            "List Iteration\n",
            "Hello\n",
            "World\n",
            "!\n"
          ]
        }
      ]
    },
    {
      "cell_type": "markdown",
      "metadata": {
        "id": "7yonQ_w9tM4v"
      },
      "source": [
        "This code prints elements of the list l"
      ]
    },
    {
      "cell_type": "markdown",
      "metadata": {
        "id": "0ysri5LVtTtG"
      },
      "source": [
        "## **Loop Control Statements:**"
      ]
    },
    {
      "cell_type": "markdown",
      "metadata": {
        "id": "KFfbonWdtess"
      },
      "source": [
        "Loop control statements change execution from its normal sequence. When execution leaves a scope, all automatic objects that were created in that scope are destroyed."
      ]
    },
    {
      "cell_type": "markdown",
      "metadata": {
        "id": "qat26tkGtkDc"
      },
      "source": [
        " Python supports the following control statements:\n",
        "\n",
        "\n",
        "1.   Break\n",
        "2.   Continue\n",
        "3. Pass\n",
        "\n",
        "\n",
        "\n",
        "\n",
        "\n"
      ]
    },
    {
      "cell_type": "markdown",
      "metadata": {
        "id": "fQCNp3Uht68q"
      },
      "source": [
        "Here we will focus on continue statement in this documentation."
      ]
    },
    {
      "cell_type": "markdown",
      "metadata": {
        "id": "sgtKDXIiuDoj"
      },
      "source": [
        "### **Continue Statement**"
      ]
    },
    {
      "cell_type": "markdown",
      "metadata": {
        "id": "byIOp3o8uLTN"
      },
      "source": [
        " Continue statement is a loop control statement that forces to execute the next iteration of the loop while skipping the rest of the code inside the loop for the current iteration only i.e. when the continue statement is executed in the loop, the code inside the loop following the continue statement will be skipped for the current iteration and the next iteration of the loop will begin."
      ]
    },
    {
      "cell_type": "markdown",
      "metadata": {
        "id": "jBPVpaGtwLXf"
      },
      "source": [
        "![continue-statement-flowchart.webp](data:image/webp;base64,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)"
      ]
    },
    {
      "cell_type": "markdown",
      "metadata": {
        "id": "t-HJkENlunhe"
      },
      "source": [
        "Let's see some example programs of continue statement in python."
      ]
    },
    {
      "cell_type": "markdown",
      "metadata": {
        "id": "D9bNMCuavS4-"
      },
      "source": [
        "Consider the situation when you need to write a program which prints the number from 1 to 10 and but not 6. It is specified that you have to do this using loop and only one loop is allowed to use. Here comes the usage of continue statement. What we can do here is we can run a loop from 1 to 10 and every time we have to compare the value of the iterator with 6. If it is equal to 6 we will use the continue statement to continue to the next iteration without printing anything otherwise we will print the value.\n",
        "\n",
        "Below is the implementation of the above idea:"
      ]
    },
    {
      "cell_type": "code",
      "metadata": {
        "colab": {
          "base_uri": "https://localhost:8080/"
        },
        "id": "lFEcn4s1vUln",
        "outputId": "b6ead2b4-3bfa-4c80-f1f3-bc493303d2af"
      },
      "source": [
        "# loop to print numbers from 1 to 10 except 6\n",
        "for i in range(1, 11):\n",
        " \n",
        "    # If i is equals to 6,\n",
        "    # continue to next iteration\n",
        "    # without printing\n",
        "    if i == 6:\n",
        "        continue\n",
        "    else:\n",
        "        # otherwise print the value\n",
        "        # of i\n",
        "        print(i, end=\" \")"
      ],
      "execution_count": 3,
      "outputs": [
        {
          "output_type": "stream",
          "name": "stdout",
          "text": [
            "1 2 3 4 5 7 8 9 10 "
          ]
        }
      ]
    },
    {
      "cell_type": "markdown",
      "metadata": {
        "id": "kpDr3GajwZX6"
      },
      "source": [
        "The continue statement can be used with any other loop also like while loop in a similar way as it is used with for loop above."
      ]
    },
    {
      "cell_type": "markdown",
      "metadata": {
        "id": "VIDMfPe9wZbg"
      },
      "source": [
        "Let's now check another program using the continue statement with a for loop."
      ]
    },
    {
      "cell_type": "code",
      "metadata": {
        "id": "9Vnql4yDdkP0",
        "colab": {
          "base_uri": "https://localhost:8080/"
        },
        "outputId": "bdfc4bbf-8d65-4a46-8426-7837aced178f"
      },
      "source": [
        "students = [\"Paul\", \"Erin\", \"Connie\", \"Moira\"]\n",
        "\n",
        "for student in range(0, len(students)):\n",
        "\tif student == 2:\n",
        "\t\tcontinue\n",
        "\telse:\n",
        "\t\tprint(students[student])\n",
        "\n",
        "\tprint(\"Counter is \" + str(student))\n",
        "\n",
        "print(\"Program Complete\")"
      ],
      "execution_count": 4,
      "outputs": [
        {
          "output_type": "stream",
          "name": "stdout",
          "text": [
            "Paul\n",
            "Counter is 0\n",
            "Erin\n",
            "Counter is 1\n",
            "Moira\n",
            "Counter is 3\n",
            "Program Complete\n"
          ]
        }
      ]
    },
    {
      "cell_type": "markdown",
      "metadata": {
        "id": "e3w9WyAqfXZR"
      },
      "source": [
        "Here, we use a continue statement to skip printing the second name in our array and then continue iterating."
      ]
    },
    {
      "cell_type": "markdown",
      "metadata": {
        "id": "60aboRR8ekat"
      },
      "source": [
        "## **Conclusion:**\n",
        "So in this documentation we came to know that when you’re working with loops in Python, you may want to skip over an iteration. This is where continue statements are useful."
      ]
    }
  ]
}