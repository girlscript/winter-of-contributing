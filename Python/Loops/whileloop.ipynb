{
 "cells": [
  {
   "cell_type": "markdown",
   "source": [
    "## While Loop in Python 🐍\r\n",
    "The loop iterates while the condition is true.It is an indefinite iteration. Initialization is always outside the loop.Increment can be done before or after the execution of the statement(s)"
   ],
   "metadata": {}
  },
  {
   "cell_type": "code",
   "execution_count": null,
   "source": [
    "## Example for while loop\r\n",
    "i = 1\r\n",
    "while i < 6:\r\n",
    "## aslong as i < 6 it prints \"Hello World\"\r\n",
    "  print(\"Hello World\")\r\n",
    "  i += 1\r\n",
    "## incrementing the i value\r\n",
    "## Note: remember to increment i,else the loop will fall into an infinte forever."
   ],
   "outputs": [],
   "metadata": {}
  },
  {
   "cell_type": "markdown",
   "source": [
    "### `Break Statement`\r\n",
    "We can stop the while loop using **break** even the condition of while loop is **true**"
   ],
   "metadata": {}
  },
  {
   "cell_type": "code",
   "execution_count": null,
   "source": [
    "## Example for break\r\n",
    "i = 1\r\n",
    "while i < 6:\r\n",
    "  print(\"Hello world\")\r\n",
    "  if i == 3:\r\n",
    "    break\r\n",
    "## we are breaking the while loop when i==3, therefore it prints only 3 Hello world.\r\n",
    "## In other words the while loop does'nt continue futher when i == 3\r\n",
    "  i += 1"
   ],
   "outputs": [],
   "metadata": {}
  },
  {
   "cell_type": "markdown",
   "source": [
    "### `Contitnue Statement`\r\n",
    "Using this we can stop the current iteration, and continue with the next"
   ],
   "metadata": {}
  },
  {
   "cell_type": "code",
   "execution_count": null,
   "source": [
    "## Example for while loop\r\n",
    "var = 10                    \r\n",
    "while var > 0:              \r\n",
    "   var = var -1\r\n",
    "   if var == 5:\r\n",
    "    continue\r\n",
    "   print var\r\n",
    "print \"Good bye!\"\r\n",
    "## this skips the 5 and print rest of the value till 1"
   ],
   "outputs": [],
   "metadata": {}
  },
  {
   "cell_type": "markdown",
   "source": [
    "### `The else Statement`\r\n",
    "With the else statement we can run a block of code once when the condition no longer is true"
   ],
   "metadata": {}
  },
  {
   "cell_type": "code",
   "execution_count": null,
   "source": [
    "## Example for else statement\r\n",
    "i = 1\r\n",
    "while i < 6:\r\n",
    "  print(i)\r\n",
    "  i += 1\r\n",
    "else:\r\n",
    "  print(\"i is not less than 6\")\r\n"
   ],
   "outputs": [],
   "metadata": {}
  },
  {
   "cell_type": "markdown",
   "source": [
    "# Summary\r\n",
    "Hope you have got some idea on ` What is while loop` and it's `statements`."
   ],
   "metadata": {}
  }
 ],
 "metadata": {
  "orig_nbformat": 4,
  "language_info": {
   "name": "plaintext"
  }
 },
 "nbformat": 4,
 "nbformat_minor": 2
}