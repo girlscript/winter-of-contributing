{
  "nbformat": 4,
  "nbformat_minor": 0,
  "metadata": {
    "colab": {
      "name": "Python: Concepts-List comprehension.ipynb",
      "provenance": [],
      "collapsed_sections": []
    },
    "kernelspec": {
      "name": "python3",
      "display_name": "Python 3"
    },
    "language_info": {
      "name": "python"
    }
  },
  "cells": [
    {
      "cell_type": "markdown",
      "metadata": {
        "id": "rvxSVk8GJSfF"
      },
      "source": [
        "**Introduction**\n",
        "\n",
        "List comprehension allows us to write a code in shorter and better way, when we need to create a new list based on the existing list. \n",
        "It's a truly pythonic way of coding. Less code and more effectiveness.\n",
        "\n",
        "Let us understand with an example:\n",
        "\n",
        "Suppose if you want to create a list of numbers which are divisible by 3 from 1 to 10000 and wrote the following code..\n"
      ]
    },
    {
      "cell_type": "code",
      "metadata": {
        "id": "p-oEgFEvL0yV",
        "colab": {
          "base_uri": "https://localhost:8080/"
        },
        "outputId": "345b3757-58f3-4cd1-83f0-81f85a8910dd"
      },
      "source": [
        "# Creating a new list\n",
        "my_list= []\n",
        "#Iterating through the list \n",
        "for i in range(1,100):\n",
        "  if i%3==0: # checking if the value of i is divisible by 3 \n",
        "    my_list.append(i) # if the condition satisfies the value will be appended to the list\n",
        "print(my_list)\n"
      ],
      "execution_count": null,
      "outputs": [
        {
          "output_type": "stream",
          "name": "stdout",
          "text": [
            "[3, 6, 9, 12, 15, 18, 21, 24, 27, 30, 33, 36, 39, 42, 45, 48, 51, 54, 57, 60, 63, 66, 69, 72, 75, 78, 81, 84, 87, 90, 93, 96, 99]\n"
          ]
        }
      ]
    },
    {
      "cell_type": "markdown",
      "metadata": {
        "id": "Oaxq9dIaV2Ug"
      },
      "source": [
        "There is nothing wrong with the above code but what if I say that we can write the same in single line?\n",
        "\n",
        "Lets see how it goes:"
      ]
    },
    {
      "cell_type": "code",
      "metadata": {
        "colab": {
          "base_uri": "https://localhost:8080/"
        },
        "id": "rAOzKXN2WG70",
        "outputId": "dce27cbc-428e-436c-bdba-995954746642"
      },
      "source": [
        "\n",
        "my_list1 = [i for i in range(1,101) if i%3==0]\n",
        "print(my_list1)"
      ],
      "execution_count": null,
      "outputs": [
        {
          "output_type": "stream",
          "name": "stdout",
          "text": [
            "[3, 6, 9, 12, 15, 18, 21, 24, 27, 30, 33, 36, 39, 42, 45, 48, 51, 54, 57, 60, 63, 66, 69, 72, 75, 78, 81, 84, 87, 90, 93, 96, 99]\n"
          ]
        }
      ]
    },
    {
      "cell_type": "markdown",
      "metadata": {
        "id": "jiV7WtyMW3dK"
      },
      "source": [
        "This is how **List Comprehension** makes everything simple and easy.They are even faster than a for loop which is very useful.\n",
        "\n",
        "\n",
        "\n",
        "\n"
      ]
    },
    {
      "cell_type": "markdown",
      "metadata": {
        "id": "C3M-Plz3eG7s"
      },
      "source": [
        "\n",
        "Now we will try to understand the **Syntax** of Lists Comprehension:\n",
        "\n",
        "**list = [expression for item in iterable if condition == true]**\n",
        "\n",
        "The return value is a new list, leaving the old list unchanged.\n",
        "\n",
        "**Condition**\n",
        "\n",
        "It accepts only the elements which satisfies the condition.\n",
        "\n",
        "Example: "
      ]
    },
    {
      "cell_type": "code",
      "metadata": {
        "colab": {
          "base_uri": "https://localhost:8080/"
        },
        "id": "vPPTpLtUtdth",
        "outputId": "8096562c-6872-4098-8492-7ea089e5fa1c"
      },
      "source": [
        "my_list3 = [16,13,24,12,22,18,13]\n",
        "eligibity = [age for age in my_list3 if age>=18]\n",
        "print(eligibity)"
      ],
      "execution_count": null,
      "outputs": [
        {
          "output_type": "stream",
          "name": "stdout",
          "text": [
            "[24, 22, 18]\n"
          ]
        }
      ]
    },
    {
      "cell_type": "markdown",
      "metadata": {
        "id": "yUFwbiMgvy_6"
      },
      "source": [
        "Condition is optional and can be excluded.\n",
        "\n",
        "Example:"
      ]
    },
    {
      "cell_type": "markdown",
      "metadata": {
        "id": "n3sJUTF3q2_K"
      },
      "source": [
        ""
      ]
    },
    {
      "cell_type": "code",
      "metadata": {
        "colab": {
          "base_uri": "https://localhost:8080/"
        },
        "id": "M4QNU9b0b-VN",
        "outputId": "b7a6b764-97ba-4dc0-9f71-28e8889b76ee"
      },
      "source": [
        "my_list2 = [ i for i in range(100)]\n",
        "print(my_list2)"
      ],
      "execution_count": null,
      "outputs": [
        {
          "output_type": "stream",
          "name": "stdout",
          "text": [
            "[0, 1, 2, 3, 4, 5, 6, 7, 8, 9, 10, 11, 12, 13, 14, 15, 16, 17, 18, 19, 20, 21, 22, 23, 24, 25, 26, 27, 28, 29, 30, 31, 32, 33, 34, 35, 36, 37, 38, 39, 40, 41, 42, 43, 44, 45, 46, 47, 48, 49, 50, 51, 52, 53, 54, 55, 56, 57, 58, 59, 60, 61, 62, 63, 64, 65, 66, 67, 68, 69, 70, 71, 72, 73, 74, 75, 76, 77, 78, 79, 80, 81, 82, 83, 84, 85, 86, 87, 88, 89, 90, 91, 92, 93, 94, 95, 96, 97, 98, 99]\n"
          ]
        }
      ]
    },
    {
      "cell_type": "markdown",
      "metadata": {
        "id": "ii4SDBFFwijl"
      },
      "source": [
        "**Iterable**\n",
        "\n",
        "Iterable is a sequence of data that you can iterate over using a loop. \n",
        "We use **range()** function to create an iterable.\n",
        "\n",
        "Lets look at an example:"
      ]
    },
    {
      "cell_type": "code",
      "metadata": {
        "colab": {
          "base_uri": "https://localhost:8080/"
        },
        "id": "ngrcqV4rTid2",
        "outputId": "c6f860db-5704-4b67-90ab-b95ec4a1c14a"
      },
      "source": [
        " # program to find out even numbers from 0 to 100\n",
        " my_list4=[i for i in range(0,100) if i%2==0]\n",
        " print(my_list4)"
      ],
      "execution_count": null,
      "outputs": [
        {
          "output_type": "stream",
          "name": "stdout",
          "text": [
            "[0, 2, 4, 6, 8, 10, 12, 14, 16, 18, 20, 22, 24, 26, 28, 30, 32, 34, 36, 38, 40, 42, 44, 46, 48, 50, 52, 54, 56, 58, 60, 62, 64, 66, 68, 70, 72, 74, 76, 78, 80, 82, 84, 86, 88, 90, 92, 94, 96, 98]\n"
          ]
        }
      ]
    },
    {
      "cell_type": "markdown",
      "metadata": {
        "id": "uQG_CdkjV3Mb"
      },
      "source": [
        "**Expression**\n",
        "\n",
        "It is current element in the iteration and also the outcome.\n",
        "\n",
        "Here is an other example:"
      ]
    },
    {
      "cell_type": "code",
      "metadata": {
        "colab": {
          "base_uri": "https://localhost:8080/"
        },
        "id": "DaM03wpxyX3p",
        "outputId": "f65eba9f-38db-4fa9-a7dc-2fc1acad1f93"
      },
      "source": [
        "# Program to find out number of spaces in a given string using list comprehension\n",
        "\n",
        "string = input() \n",
        "my_list5 = list(string)\n",
        "my_list6=[i for i in my_list4 if i == ' ']\n",
        "print(len(my_list6))\n"
      ],
      "execution_count": null,
      "outputs": [
        {
          "output_type": "stream",
          "name": "stdout",
          "text": [
            "hi sravani sannidhi kovela\n",
            "3\n"
          ]
        }
      ]
    },
    {
      "cell_type": "markdown",
      "metadata": {
        "id": "ll9bgyBqWJNl"
      },
      "source": [
        " Now that we know all the basics of lists comprehension we will try to solve few problems."
      ]
    },
    {
      "cell_type": "code",
      "metadata": {
        "colab": {
          "base_uri": "https://localhost:8080/"
        },
        "id": "jrQSR_97W9BK",
        "outputId": "e2daec3a-1a3f-4e72-c088-d3c549bfde77"
      },
      "source": [
        " # Problem 1: Set all the values in the list to upper case\n",
        "my_list7 = ['Sravani','Revanth','Srija','Kowshika']\n",
        "my_list8 = [i.upper() for i in my_list7] # \n",
        "print(my_list8)"
      ],
      "execution_count": null,
      "outputs": [
        {
          "output_type": "stream",
          "name": "stdout",
          "text": [
            "['SRAVS', 'REVANTH', 'SRIJA', 'KOWSHIKA']\n"
          ]
        }
      ]
    },
    {
      "cell_type": "code",
      "metadata": {
        "colab": {
          "base_uri": "https://localhost:8080/"
        },
        "id": "Mjwrl9QUYNjo",
        "outputId": "f3d8b34b-3142-4164-9689-d6b6a0c8cdeb"
      },
      "source": [
        " #Remove all the vowels in the given string\n",
        " string= input()\n",
        " my_list9= list(string)\n",
        " my_list10= \"\".join([i for i in my_list9 if i not in ['a','e','i','o','u']])\n",
        " print(my_list10)"
      ],
      "execution_count": null,
      "outputs": [
        {
          "output_type": "stream",
          "name": "stdout",
          "text": [
            "sravani\n",
            "srvn\n"
          ]
        }
      ]
    },
    {
      "cell_type": "code",
      "metadata": {
        "colab": {
          "base_uri": "https://localhost:8080/"
        },
        "id": "jLEy5FsqX0uy",
        "outputId": "0a54376a-9991-4ed2-c4cb-67d051a94c64"
      },
      "source": [
        "#Find all the words in a string that are less than 5 letters\n",
        "\n",
        "string = input()\n",
        "my_list11 = string.split(\" \")\n",
        "my_list12 =\" \".join( [i for i in my_list11 if len(i)<5])\n",
        "print(my_list12)\n"
      ],
      "execution_count": null,
      "outputs": [
        {
          "output_type": "stream",
          "name": "stdout",
          "text": [
            "hi these\n",
            "hi\n"
          ]
        }
      ]
    },
    {
      "cell_type": "code",
      "metadata": {
        "id": "RWPcuIIbuzmG"
      },
      "source": [
        "\n"
      ],
      "execution_count": null,
      "outputs": []
    },
    {
      "cell_type": "markdown",
      "metadata": {
        "id": "SuYbNs1PcjLv"
      },
      "source": [
        ""
      ]
    }
  ]
}