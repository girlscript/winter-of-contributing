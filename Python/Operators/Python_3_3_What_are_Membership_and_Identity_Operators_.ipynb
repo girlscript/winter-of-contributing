{
  "nbformat": 4,
  "nbformat_minor": 2,
  "metadata": {
    "colab": {
      "name": "Python 3.3: What are Membership and Identity Operators?.ipynb",
      "provenance": []
    },
    "kernelspec": {
      "name": "python3",
      "display_name": "Python 3"
    },
    "language_info": {
      "name": "python"
    }
  },
  "cells": [
    {
      "cell_type": "markdown",
      "source": [
        "# **Membership Operator in Python🐍**"
      ],
      "metadata": {
        "id": "UyOeoIVvDS-I"
      }
    },
    {
      "cell_type": "markdown",
      "source": [
        "Python **Membership operators** are used to validate the membership of a value. It tests for memberships in sequences, for example, strings, lists and tuples.\n",
        "\n",
        "**In simple words**, *Membership operators are used to test if a sequence is present in an object*. \n",
        "\n",
        "\n",
        "\n",
        "*   `in` operator checks whether an element is present in a sequence or not. It evaluates to `True` if the element is present, else it evaluates to `False`.\n",
        "\n",
        "*   Whereas, the `not in` operator evaluates to `True` if the element is not present in the sequence, else it evaluates to `False`.\n",
        "\n"
      ],
      "metadata": {
        "id": "TNxg6_-IDeSO"
      }
    },
    {
      "cell_type": "code",
      "execution_count": null,
      "source": [
        "# Example of in operator\r\n",
        "x = 'Participant'\r\n",
        "gwoc_list = ['Contributor','Mentor','Supervisor']\r\n",
        "\r\n",
        "print(x in gwoc_list)\r\n"
      ],
      "outputs": [
        {
          "output_type": "stream",
          "name": "stdout",
          "text": [
            "False\n"
          ]
        }
      ],
      "metadata": {
        "colab": {
          "base_uri": "https://localhost:8080/"
        },
        "id": "YEZRDjG0CVaY",
        "outputId": "0715e897-6599-4254-83ab-ab1c1c0307bf"
      }
    },
    {
      "cell_type": "code",
      "execution_count": null,
      "source": [
        "# Example of not in operator\r\n",
        "x = 'Participant'\r\n",
        "gwoc_list = ['Contributor','Mentor','Supervisor']\r\n",
        "\r\n",
        "print(x not in gwoc_list)"
      ],
      "outputs": [
        {
          "output_type": "stream",
          "name": "stdout",
          "text": [
            "True\n"
          ]
        }
      ],
      "metadata": {
        "colab": {
          "base_uri": "https://localhost:8080/"
        },
        "id": "earHgoGyGfGX",
        "outputId": "edadd055-1488-4f8b-f8e9-6d05e42a7251"
      }
    },
    {
      "cell_type": "markdown",
      "source": [
        "# **Identity Operators in Python**🐍\n"
      ],
      "metadata": {
        "id": "d0eb-IC4G10G"
      }
    },
    {
      "cell_type": "markdown",
      "source": [
        "Before learning about **Identity Operators** in Python, we should keep something in mind.\n",
        "\n",
        "***Everything in Python is an object, and each object is stored in a specific memory location.***\n",
        "\n",
        "\n",
        "*   `is` operator checks whether two variables refer to the same object in memory or not. It evaluates to `True` if both operands refer to the same object, else it evaluates to `False`.\n",
        "\n",
        "*  Whereas, the `is not` operator evaluates to `False` if both operands refer to the same object, else it evaluates to `True`\n",
        "\n",
        "The `is` and `is not` operators can be used to \n",
        "\n",
        "\n"
      ],
      "metadata": {
        "id": "-id1PavqLkD7"
      }
    },
    {
      "cell_type": "code",
      "execution_count": null,
      "source": [
        "  #Example of is operator\r\n",
        "  a = 5\r\n",
        "  if type(a) is int:\r\n",
        "    print(\"Yes\")\r\n",
        "  else:\r\n",
        "    print(\"No\")\r\n"
      ],
      "outputs": [
        {
          "output_type": "stream",
          "name": "stdout",
          "text": [
            "Yes\n"
          ]
        }
      ],
      "metadata": {
        "colab": {
          "base_uri": "https://localhost:8080/"
        },
        "id": "kmjnD52bIxAK",
        "outputId": "db51c7fd-79ef-42d0-cf1f-f52b7d5a89ba"
      }
    },
    {
      "cell_type": "code",
      "execution_count": null,
      "source": [
        "#Example of is not operator\r\n",
        "a = 5.5\r\n",
        "if type(a) is not int:\r\n",
        "  print(\"not int\")\r\n",
        "else:\r\n",
        "  print(\"int\")\r\n"
      ],
      "outputs": [
        {
          "output_type": "stream",
          "name": "stdout",
          "text": [
            "not int\n"
          ]
        }
      ],
      "metadata": {
        "colab": {
          "base_uri": "https://localhost:8080/"
        },
        "id": "TnopwDYWNzwt",
        "outputId": "fc453384-18ed-4417-8215-7edc2ee93fca"
      }
    },
    {
      "cell_type": "markdown",
      "source": [
        "\n",
        "**What is the difference between `==` , `!=` and `is` and `is not` operator?**\n",
        "\n",
        "\n",
        "\n",
        "*   When do we use `==` and `!=`?\n",
        "\n",
        "    In this case, we are checking for the **equality** of two objects.\n",
        "    We are not concerned about the memory addresses of the objects in question.\n",
        "*   When do we use `is` and `is not`?\n",
        "\n",
        "    In this case, we check whether or not two variables point to the same  object in **memory**. \n",
        "\n",
        " *The main use case for these operators is when you’re comparing to `None`.*\n"
      ],
      "metadata": {
        "id": "QsUI-UAFOiCP"
      }
    }
  ]
}