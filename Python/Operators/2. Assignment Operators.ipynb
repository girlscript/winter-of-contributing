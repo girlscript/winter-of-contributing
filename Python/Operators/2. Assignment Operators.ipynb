{
 "cells": [
  {
   "cell_type": "markdown",
   "id": "082fb6e3-832b-41cb-a9d3-229eb304a719",
   "metadata": {},
   "source": [
    "# Assignment Operators\n",
    "Assignment operators are used to assign values to variables."
   ]
  },
  {
   "cell_type": "markdown",
   "id": "b02a0cc5-f82e-4b11-b353-a3930f7022ef",
   "metadata": {},
   "source": [
    " "
   ]
  },
  {
   "cell_type": "markdown",
   "id": "00bf77bd-b1a9-40b1-bb5e-2bf7b7c8cc0b",
   "metadata": {},
   "source": [
    "## Types of Assignment Operators"
   ]
  },
  {
   "cell_type": "markdown",
   "id": "90649f1a-5ad9-49ed-b969-74398f3e2637",
   "metadata": {},
   "source": [
    "#### 1. Simple assignment operator  ( = ) : \n",
    "It assigns the right side operand expression or value to the left side operand."
   ]
  },
  {
   "cell_type": "code",
   "execution_count": 1,
   "id": "192e3730-3043-4578-994d-85526c27e433",
   "metadata": {},
   "outputs": [
    {
     "name": "stdout",
     "output_type": "stream",
     "text": [
      "Output =  5\n"
     ]
    }
   ],
   "source": [
    "a = 5     # assign value  \n",
    "b = a     # assign the expression/value to the left operand  \n",
    "\n",
    "print( \"Output = \", b)  "
   ]
  },
  {
   "cell_type": "markdown",
   "id": "a17550b2-e681-4cde-b19b-1643ea64873f",
   "metadata": {},
   "source": [
    "#### 2. Add and Assignment Operator  ( += ) :\n",
    "It adds the right side operand or value to the left operand before assigning the result to the left operand."
   ]
  },
  {
   "cell_type": "code",
   "execution_count": 2,
   "id": "d62b2c93-631a-4755-a95b-43955eaaafce",
   "metadata": {},
   "outputs": [
    {
     "name": "stdout",
     "output_type": "stream",
     "text": [
      "Output =  8\n"
     ]
    }
   ],
   "source": [
    "a = 5     # assign value of a\n",
    "b = 3     # assign value of b\n",
    "\n",
    "a += b    # this is same as a = a + b\n",
    "  \n",
    "print( \"Output = \", a)  "
   ]
  },
  {
   "cell_type": "markdown",
   "id": "2423f0ed-6157-473e-a906-3b8d7ffcc433",
   "metadata": {},
   "source": [
    "#### 3. Subtract and Assignment Operator  ( -= ) :\n",
    "It subtracts the right side operand or value from the left operand and stores the value to the left operand."
   ]
  },
  {
   "cell_type": "code",
   "execution_count": 3,
   "id": "4b220f2e-a289-4033-b32d-1d97327df2e9",
   "metadata": {},
   "outputs": [
    {
     "name": "stdout",
     "output_type": "stream",
     "text": [
      "Output =  2\n"
     ]
    }
   ],
   "source": [
    "a = 5     # assign value of a\n",
    "b = 3     # assign value of b\n",
    "\n",
    "a -= b    # this is same as a = a - b\n",
    "\n",
    "print( \"Output = \", a)  "
   ]
  },
  {
   "cell_type": "markdown",
   "id": "f5d2d40e-06f7-461c-aa4c-c8c0fd063048",
   "metadata": {},
   "source": [
    "#### 4. Multiply and Assignment Operator  ( *= ) : \n",
    "It multiplies the right side operand or value to the left operand and stores the product to the left operand."
   ]
  },
  {
   "cell_type": "code",
   "execution_count": 4,
   "id": "0aa9f8fa-1587-49f4-8f1f-ebb35d5a9f2a",
   "metadata": {},
   "outputs": [
    {
     "name": "stdout",
     "output_type": "stream",
     "text": [
      "Output =  60\n"
     ]
    }
   ],
   "source": [
    "a = 15     # assign value of a\n",
    "b = 4      # assign value of b\n",
    "\n",
    "a *= b     # this is same as a = a * b\n",
    "\n",
    "print( \"Output = \", a)  "
   ]
  },
  {
   "cell_type": "markdown",
   "id": "cec31082-ce1c-476e-9f3a-5b39009b5ed9",
   "metadata": {},
   "source": [
    "#### 5. Divide and Assignment Operator  ( /= ) :\n",
    "It divides the left operand by the right operand before assigning the result to the left operand."
   ]
  },
  {
   "cell_type": "code",
   "execution_count": 5,
   "id": "0096169d-f67a-4bc0-8050-141d37ca7215",
   "metadata": {},
   "outputs": [
    {
     "name": "stdout",
     "output_type": "stream",
     "text": [
      "Output =  20.0\n"
     ]
    }
   ],
   "source": [
    "a = 80     # assign value of a\n",
    "b = 4      # assign value of b\n",
    "\n",
    "a /= b     # this is same as a = a / b\n",
    "\n",
    "print( \"Output = \", a)  "
   ]
  },
  {
   "cell_type": "markdown",
   "id": "842d7a48-4fbf-440a-b8c2-239cf55230ef",
   "metadata": {},
   "source": [
    "#### 6. Modulus and Assignment Operator  ( %= ) :\n",
    "Itr divides the left operand by the right side operand or value and places the remainder to the left side operand."
   ]
  },
  {
   "cell_type": "code",
   "execution_count": 6,
   "id": "0765a349-d881-48bb-91d8-e24864eab263",
   "metadata": {},
   "outputs": [
    {
     "name": "stdout",
     "output_type": "stream",
     "text": [
      "Output =  2\n"
     ]
    }
   ],
   "source": [
    "a = 80     # assign value of a\n",
    "b = 6      # assign value of b\n",
    "  \n",
    "a %= b     # this is same as a = a % b \n",
    "\n",
    "print( \"Output = \", a)  "
   ]
  },
  {
   "cell_type": "markdown",
   "id": "2ba5dba9-5c2e-4322-97bb-7e0a6f1f3803",
   "metadata": {},
   "source": [
    "#### 7. Floor division and Assignment Operator  ( //= ) :\n",
    "It divides the left operand by the right side operand or value and then assigns floor (value) to the left operand."
   ]
  },
  {
   "cell_type": "code",
   "execution_count": 7,
   "id": "b56188a9-50a3-4982-92ca-b004c5bb993f",
   "metadata": {},
   "outputs": [
    {
     "name": "stdout",
     "output_type": "stream",
     "text": [
      "Output =  21\n"
     ]
    }
   ],
   "source": [
    "a = 131    # assign value of a \n",
    "b = 6      # assign value of b \n",
    "\n",
    "a //= b    # this is same as a = a // b\n",
    " \n",
    "print( \"Output = \", a)  "
   ]
  },
  {
   "cell_type": "markdown",
   "id": "46825d89-9eed-4962-a8b3-7663c9a53e84",
   "metadata": {},
   "source": [
    "#### 8. Exponent and Assignment Operator  ( **= ) : \n",
    "It is used to get the exponent value using both operands and assign the result into the left operand."
   ]
  },
  {
   "cell_type": "code",
   "execution_count": 8,
   "id": "55bb1bda-a7dc-484b-8e32-378cd7806a2e",
   "metadata": {},
   "outputs": [
    {
     "name": "stdout",
     "output_type": "stream",
     "text": [
      "Output =  64\n"
     ]
    }
   ],
   "source": [
    "a = 4     # assign value of a \n",
    "b = 3     # assign value of b\n",
    "  \n",
    "a **= b   # this is same as a = a ** b\n",
    "\n",
    "print( \"Output = \", a)  "
   ]
  },
  {
   "cell_type": "markdown",
   "id": "d7fcb254-361f-47b4-ae83-d555cbd4e20a",
   "metadata": {},
   "source": [
    " "
   ]
  },
  {
   "cell_type": "markdown",
   "id": "aa6e160b-3da7-4549-9b29-382d5e708335",
   "metadata": {},
   "source": [
    "## Summary"
   ]
  },
  {
   "cell_type": "markdown",
   "id": "9a88a1ad-86c4-4463-b16e-49e539f69704",
   "metadata": {},
   "source": [
    "| Operator \t| Expression \t|   Same as  \t|\n",
    "|:--------:\t|:----------:\t|:----------:\t|\n",
    "|     =    \t|    x = y   \t|    x = y   \t|\n",
    "|    +=    \t|   x += y   \t|  x = x + y \t|\n",
    "|    -=    \t|   x -= y   \t|  x = x - y \t|\n",
    "|    *=    \t|   x *= y   \t|  x = x * y \t|\n",
    "|    /=    \t|   x /= y   \t|  x = x / y \t|\n",
    "|    %=    \t|   x %= y   \t|  x = x % y \t|\n",
    "|    //=   \t|   x //= y  \t| x = x // y \t|\n",
    "|    **=   \t|   x **= y  \t| x = x ** y \t|"
   ]
  }
 ],
 "metadata": {
  "kernelspec": {
   "display_name": "Python 3",
   "language": "python",
   "name": "python3"
  },
  "language_info": {
   "codemirror_mode": {
    "name": "ipython",
    "version": 3
   },
   "file_extension": ".py",
   "mimetype": "text/x-python",
   "name": "python",
   "nbconvert_exporter": "python",
   "pygments_lexer": "ipython3",
   "version": "3.7.0"
  }
 },
 "nbformat": 4,
 "nbformat_minor": 5
}
