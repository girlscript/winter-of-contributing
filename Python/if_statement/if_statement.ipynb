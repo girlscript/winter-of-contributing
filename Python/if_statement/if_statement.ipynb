{
  "nbformat": 4,
  "nbformat_minor": 0,
  "metadata": {
    "colab": {
      "name": "if_statement.ipynb",
      "provenance": [],
      "collapsed_sections": []
    },
    "kernelspec": {
      "name": "python3",
      "display_name": "Python 3"
    },
    "language_info": {
      "name": "python"
    }
  },
  "cells": [
    {
      "cell_type": "code",
      "metadata": {
        "id": "6gGQ9y9EGpsg"
      },
      "source": [
        "#What is if statement in python"
      ],
      "execution_count": null,
      "outputs": []
    },
    {
      "cell_type": "code",
      "metadata": {
        "id": "sbMpOG6nH4M-"
      },
      "source": [
        "#if statement is written using if keyword\n",
        "#if condition is in multiple forms: simple if conditional , if-else conditional and if-elif conditional."
      ],
      "execution_count": null,
      "outputs": []
    },
    {
      "cell_type": "code",
      "metadata": {
        "id": "r_7gYe7_olM6"
      },
      "source": [
        "#Main Purpose is used for decision making."
      ],
      "execution_count": null,
      "outputs": []
    },
    {
      "cell_type": "code",
      "metadata": {
        "id": "369Q9GRqKDRU"
      },
      "source": [
        "#Simple if conditional statement\n",
        "#if statement tests a particular condition; if the condition evaluates to true, a course-of-action is followed i.e a statement is executed. if the condition is false, it does nothing. "
      ],
      "execution_count": null,
      "outputs": []
    },
    {
      "cell_type": "code",
      "metadata": {
        "colab": {
          "base_uri": "https://localhost:8080/"
        },
        "id": "MkmrvM6jLUvo",
        "outputId": "c475874b-f461-4472-b48b-dcff316a2d71"
      },
      "source": [
        "#Sample Code\n",
        "A=int(input(\"Enter no: \"))\n",
        "if (A>0):\n",
        "  print(A,\" is Positive \")\n",
        "print(\"if Statement is working\")  "
      ],
      "execution_count": null,
      "outputs": [
        {
          "output_type": "stream",
          "name": "stdout",
          "text": [
            "Enter no: 9\n",
            "9  is Positive \n",
            "if Statement is working\n"
          ]
        }
      ]
    },
    {
      "cell_type": "code",
      "metadata": {
        "id": "h8ZupJ6CUqEX"
      },
      "source": [
        "#In the above example A is 7 which is a positive number, so if condition will work and 7 is Positive ,if Statement is working will be printed."
      ],
      "execution_count": null,
      "outputs": []
    },
    {
      "cell_type": "code",
      "metadata": {
        "id": "wZ2rufbRM__G"
      },
      "source": [
        "#if-else conditional statement\n",
        "#It test a condition and if the condition evaluates to true , it carries out statements indented below if and in case condition evaluates to false, it carries out statement indented below else."
      ],
      "execution_count": null,
      "outputs": []
    },
    {
      "cell_type": "code",
      "metadata": {
        "colab": {
          "base_uri": "https://localhost:8080/"
        },
        "id": "b7XPAkNbOJNT",
        "outputId": "42d1f6d8-f5e7-4702-c942-0bffa43459ba"
      },
      "source": [
        "A = int(input(\"Enter First Number \"))\n",
        "B = int(input(\"Enter Second Number \"))\n",
        "if (A>B):\n",
        "  print(\"A is greater than B\")\n",
        "else:\n",
        "  print(\"B is greater than A\")  "
      ],
      "execution_count": null,
      "outputs": [
        {
          "output_type": "stream",
          "name": "stdout",
          "text": [
            "Enter First Number 3\n",
            "Enter Second Number 7\n",
            "B is greater than A\n"
          ]
        }
      ]
    },
    {
      "cell_type": "code",
      "metadata": {
        "id": "CzNyZtbWU5kg"
      },
      "source": [
        "#In the above example b is greater than A, So if will not work and only else will work, so B is greater than A will be printed."
      ],
      "execution_count": null,
      "outputs": []
    },
    {
      "cell_type": "code",
      "metadata": {
        "id": "BboSse7UO0C8"
      },
      "source": [
        "#if -elif Conditional Statement\n",
        "#Sometime we want to check a condition when control reaches else . i.e condition test in the form of else if. To serve the conditions, Python provides if-elif and if-elif-else statement."
      ],
      "execution_count": null,
      "outputs": []
    },
    {
      "cell_type": "code",
      "metadata": {
        "colab": {
          "base_uri": "https://localhost:8080/"
        },
        "id": "-8rDwICePYnf",
        "outputId": "e13c4fbd-79c9-40e7-adcc-f60eb0d7a4d1"
      },
      "source": [
        "A= int(input(\"Enter First Number \"))\n",
        "B= int(input(\"Enter Second Number \"))\n",
        "C= int(input(\"Enter Third Number \"))\n",
        "if (A>B and A>C):\n",
        "  print(\"A is greater than B and C\")\n",
        "elif (B>C):\n",
        "  print(\"B is greater than A and C\")\n",
        "else:\n",
        "  print(\"C is greater than A and B\")    "
      ],
      "execution_count": null,
      "outputs": [
        {
          "output_type": "stream",
          "name": "stdout",
          "text": [
            "Enter First Number 2\n",
            "Enter Second Number 9\n",
            "Enter Third Number 5\n",
            "B is greater than A and C\n"
          ]
        }
      ]
    },
    {
      "cell_type": "code",
      "metadata": {
        "id": "Yu6RZZ4HVNy_"
      },
      "source": [
        "#In the above example B is greater than A and C, if will not work and elif will work and else will not work, So B is greater than A and C will be printed."
      ],
      "execution_count": null,
      "outputs": []
    },
    {
      "cell_type": "code",
      "metadata": {
        "colab": {
          "base_uri": "https://localhost:8080/"
        },
        "id": "iWi6y_qBQBVy",
        "outputId": "3710f015-fc4f-43f4-9ce2-1b27ac9d6e4b"
      },
      "source": [
        "A= int(input(\"Enter First Number\"))\n",
        "if (A>0):\n",
        "  print(\"A is Positive\")\n",
        "elif(A==0):\n",
        "  print(\"A is 0\")\n",
        "else:\n",
        "  print(\"A is negative\")    "
      ],
      "execution_count": null,
      "outputs": [
        {
          "output_type": "stream",
          "name": "stdout",
          "text": [
            "Enter First Number5\n",
            "A is Positive\n"
          ]
        }
      ]
    },
    {
      "cell_type": "code",
      "metadata": {
        "id": "cPP3T3mPQ2zb"
      },
      "source": [
        "#Nested if Statement\n",
        "#Sometimes we need to test additional statement. For such situations, Python also supports nested-if form of if. A nested if is an if that has another if in its if's body or in elif's body or in its else's body."
      ],
      "execution_count": null,
      "outputs": []
    },
    {
      "cell_type": "code",
      "metadata": {
        "colab": {
          "base_uri": "https://localhost:8080/"
        },
        "id": "F3RH9ZMRT_Nz",
        "outputId": "7c8f27ad-70f0-4983-bc76-3e60d16df15b"
      },
      "source": [
        "i = 100\n",
        "if (i == 100):\n",
        "    if (i < 150):\n",
        "        print (\"i is smaller than 150\")\n",
        "    if (i < 120):\n",
        "        print (\"i is smaller than 120 \")\n",
        "    else:\n",
        "        print (\"i is greater than 150\")"
      ],
      "execution_count": null,
      "outputs": [
        {
          "output_type": "stream",
          "name": "stdout",
          "text": [
            "i is smaller than 150\n",
            "i is smaller than 120 \n"
          ]
        }
      ]
    },
    {
      "cell_type": "code",
      "metadata": {
        "id": "TnkretumXgii"
      },
      "source": [
        "#In the above example i = 100 and first if condition will work and then second if condition will work i is smaller than 150 and i is smaller than 120 will be printed."
      ],
      "execution_count": null,
      "outputs": []
    },
    {
      "cell_type": "code",
      "metadata": {
        "id": "hDZnVVg9fUbK"
      },
      "source": [
        "# Advantage- It makes a program robust by allowing few portion of program to run\n"
      ],
      "execution_count": null,
      "outputs": []
    },
    {
      "cell_type": "code",
      "metadata": {
        "id": "CXb3xGZFotjX"
      },
      "source": [
        "# Conclusion- if Statement is a condition statement and is used to check a condition and evaluate result on basis of it."
      ],
      "execution_count": null,
      "outputs": []
    }
  ]
}