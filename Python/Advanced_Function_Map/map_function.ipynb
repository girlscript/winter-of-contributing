{
  "nbformat": 4,
  "nbformat_minor": 0,
  "metadata": {
    "colab": {
      "name": "map_function.ipynb",
      "provenance": []
    },
    "kernelspec": {
      "name": "python3",
      "display_name": "Python 3"
    },
    "language_info": {
      "name": "python"
    }
  },
  "cells": [
    {
      "cell_type": "markdown",
      "metadata": {
        "id": "aJzTawO8-uPC"
      },
      "source": [
        "## Consider an example:\n",
        "Raising elements of a list to powers indicated in another list"
      ]
    },
    {
      "cell_type": "code",
      "metadata": {
        "id": "8g6cNvyO7wwZ"
      },
      "source": [
        "list1 = [1, 2, 3 ,4]\n",
        "list2 = [4, 5, 6, 7, 8]"
      ],
      "execution_count": 12,
      "outputs": []
    },
    {
      "cell_type": "markdown",
      "metadata": {
        "id": "N9XhJ3WvBrH1"
      },
      "source": [
        "Now if you want to calculate the answer and save the result in the list, your approach would be following"
      ]
    },
    {
      "cell_type": "code",
      "metadata": {
        "id": "i70hz2-gA8Bb"
      },
      "source": [
        "# Delivering the answer using for loop\n",
        "power_list = []\n",
        "for x, y in zip(list1, list2):\n",
        "  power = pow(x, y)\n",
        "  power_list.append(power)"
      ],
      "execution_count": 14,
      "outputs": []
    },
    {
      "cell_type": "code",
      "metadata": {
        "colab": {
          "base_uri": "https://localhost:8080/"
        },
        "id": "L8SAw7q6AoyK",
        "outputId": "be486d8c-cfdf-49d6-af84-28b530e6b1a6"
      },
      "source": [
        "power_list"
      ],
      "execution_count": 15,
      "outputs": [
        {
          "output_type": "execute_result",
          "data": {
            "text/plain": [
              "[1, 32, 729, 16384]"
            ]
          },
          "metadata": {},
          "execution_count": 15
        }
      ]
    },
    {
      "cell_type": "markdown",
      "metadata": {
        "id": "sgUrWK3aCQRa"
      },
      "source": [
        "See the complexity of the code. Now I am implementing the same with the help of list keeping the values of list1 and list2 as same"
      ]
    },
    {
      "cell_type": "code",
      "metadata": {
        "colab": {
          "base_uri": "https://localhost:8080/"
        },
        "id": "89NtKcFw1i8K",
        "outputId": "ad32dca9-4c56-40b4-ce8e-445f1012d827"
      },
      "source": [
        "# Delivering the answer using map function\n",
        "list(map(pow, list1, list2))"
      ],
      "execution_count": 16,
      "outputs": [
        {
          "output_type": "execute_result",
          "data": {
            "text/plain": [
              "[1, 32, 729, 16384]"
            ]
          },
          "metadata": {},
          "execution_count": 16
        }
      ]
    },
    {
      "cell_type": "markdown",
      "metadata": {
        "id": "kCQhExWd69rK"
      },
      "source": [
        "So we don't need any kind of loop and no zip function is required for such. With map function in python, our work becomes super easy."
      ]
    }
  ]
}