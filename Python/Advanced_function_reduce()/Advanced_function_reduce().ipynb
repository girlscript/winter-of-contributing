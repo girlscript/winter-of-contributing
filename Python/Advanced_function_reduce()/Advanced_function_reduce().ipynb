{
  "nbformat": 4,
  "nbformat_minor": 0,
  "metadata": {
    "colab": {
      "name": "Untitled0.ipynb",
      "provenance": []
    },
    "kernelspec": {
      "name": "python3",
      "display_name": "Python 3"
    },
    "language_info": {
      "name": "python"
    }
  },
  "cells": [
    {
      "cell_type": "markdown",
      "metadata": {
        "id": "R6oDhdFWmoHf"
      },
      "source": [
        "#**ADVANCED PYTHON FUNCTION - reduce()**\n",
        "As the name suggests, the function implements folding or reduction.It is useful when you need to apply a function to an iterable and reduce it to a single cumulative value.\n",
        "And as said, it works for all iterables and not simply lists."
      ]
    },
    {
      "cell_type": "markdown",
      "metadata": {
        "id": "HGpyF3n9qe9U"
      },
      "source": [
        "## **WORKING ALGORITHM**\n",
        "1. Takes the first two elements of the iterable and apply the function(or callable) and genertes a partial result.\n",
        "2. Next the function is applied to the partial result and the very next element of the iterable and again this result is stored\n",
        "3. This process continues till the iterable empties out.\n",
        "The result can then be printed in the console."
      ]
    },
    {
      "cell_type": "markdown",
      "metadata": {
        "id": "HIJDysp1yltD"
      },
      "source": [
        "## **WORKING ALGO ACCORDING TO OFFICIAL DOCUMENTATION (PYTHON)**\n",
        ">This has been taken from the official python documentation at https://docs.python.org/3/library/functools.html   \n",
        "=> Apply function of two arguments cumulatively to the items of iterable, from left to right, so as to reduce the iterable to a single value. \n",
        "\n",
        "For example,  **reduce(lambda x, y: x+y, [1, 2, 3, 4, 5])** calculates **((((1+2)+3)+4)+5).**\n",
        "> The left argument, x, is the accumulated value and the right argument, y, is the update value from the iterable. If the optional initializer is present, it is placed before the items of the iterable in the calculation, and serves as a default when the iterable is empty. If initializer is not given and iterable contains only one item, the first item is returned.\n",
        "\n",
        "Roughly equivalent to:\n",
        "\n",
        "\n",
        "```\n",
        "def reduce(function, iterable, initializer=None):\n",
        "    it = iter(iterable)\n",
        "    if initializer is None:\n",
        "        value = next(it)\n",
        "    else:\n",
        "        value = initializer\n",
        "    for element in it:\n",
        "        value = function(value, element)\n",
        "    return value\n",
        "\n",
        "```\n",
        "\n"
      ]
    },
    {
      "cell_type": "markdown",
      "metadata": {
        "id": "UPKX40hex5yP"
      },
      "source": [
        "##**GENERAL SYNTAX**\n",
        "**reduce(function, iterable):**\n",
        "\n",
        "FIRST ARGUMENT OF reduce()\n",
        "> The first argument is a **function of two arguments** wherein you can pass any callable (instance methods, class methods, static methods, and functions) as long as it accepts two arguments\n",
        "\n",
        "SECOND ARGUMENT OF reduce()\n",
        "> The second argument is an **iterable**, this can be anything one can iterate over including lists, tuples, range objects, generators, iterators, sets, dictionary keys and values, and any other iterable Python objects.\n",
        "\n",
        "\n",
        "\n",
        "\n",
        "\n",
        "\n",
        "\n",
        "\n",
        "\n",
        "\n",
        "\n",
        "\n",
        "\n",
        "\n",
        "\n",
        "\n"
      ]
    },
    {
      "cell_type": "markdown",
      "metadata": {
        "id": "BvnoYFLthbt-"
      },
      "source": [
        "##**IMPORTING reduce()**\n",
        "To use reduce(), we first need to import the function using an import statement in any one of the following ways:\n",
        "1.\timport functools and then use functools.reduce().\n",
        "2.\tfrom functools import reduce and then directly call reduce().\n"
      ]
    },
    {
      "cell_type": "markdown",
      "metadata": {
        "id": "OXRK_0dqiu8I"
      },
      "source": [
        "So, here is how it WORKS!\n",
        "We first defined a function add() that adds two numbers given to it and we then pass this function to reduce() in order to calculate the sum of a List of numbers."
      ]
    },
    {
      "cell_type": "code",
      "metadata": {
        "colab": {
          "base_uri": "https://localhost:8080/"
        },
        "id": "DOa0wadNhWzP",
        "outputId": "86181d40-9d71-4480-bbe0-b98984ff9d1a"
      },
      "source": [
        "def add(a, b):\n",
        "  c= a+b\n",
        "  return c\n",
        "\n",
        "from functools import reduce\n",
        "numbers = [0, 2, 4, 6, 8]\n",
        "\n",
        "print(\"Sum of numbers = \",reduce(add, numbers))\n"
      ],
      "execution_count": null,
      "outputs": [
        {
          "output_type": "stream",
          "name": "stdout",
          "text": [
            "Sum of numbers =  20\n"
          ]
        }
      ]
    },
    {
      "cell_type": "markdown",
      "metadata": {
        "id": "t-TeyFzDkGHh"
      },
      "source": [
        "This is what the code is actually doing:-\n",
        "first element =0\n",
        "second element=2\n",
        "partial result =2\n",
        "now function works on the partial result and the rhird element and so on..\n",
        "0 + 2 = 2\n",
        "2 + 4 = 6\n",
        "6 + 6 = 12\n",
        "12 + 8 = 20\n",
        "20\n",
        "\n",
        "***NOTE: You can use add from the operators module (import operator and use operator.add) for this purpose of adding numbers instead of explicitly defining a function to do the same.*** "
      ]
    },
    {
      "cell_type": "markdown",
      "metadata": {
        "id": "VXYjgnTs42KS"
      },
      "source": [
        "##**initialiser () -> THIRD ARGUMENT of reduce()** **[OPTIONAL]**\n",
        "> **reduce(function, iterable, initializer)**\n",
        "\n",
        "The third argument is an **initialiser**, its an optional argument.If present, as the name suggests it \"initialises\", the function first operates over this initialiser and the first element of the iterable followed by the second element with the partial result the former two.  \n",
        "But if its value is assigned None.The program works normally with the operation happening on the first two elements of the iterator first and so on..\n",
        "\n",
        "Here, is an example:-  \n",
        "A program finding out the difference of a list of numbers with initializer =100\n",
        "\n"
      ]
    },
    {
      "cell_type": "code",
      "metadata": {
        "id": "qh24JHmFmcsl",
        "colab": {
          "base_uri": "https://localhost:8080/"
        },
        "outputId": "d6ba29d4-3b81-43f7-81b8-ecc91cd87a60"
      },
      "source": [
        "from functools import reduce\n",
        "import operator as op\n",
        "\n",
        "numbers=[1,2,3,4,5]\n",
        "print(\"Difference of numbers with initializer(100) is = \",reduce(op.sub, numbers, 100))                 # (((((100-1)-2)-3)-4)-5)\n"
      ],
      "execution_count": null,
      "outputs": [
        {
          "output_type": "stream",
          "name": "stdout",
          "text": [
            "Difference of numbers with initializer(100) is =  85\n"
          ]
        }
      ]
    },
    {
      "cell_type": "markdown",
      "metadata": {
        "id": "vwQKLs6vfjP5"
      },
      "source": [
        "###**An initializer is also required when you are using an empty iterable, python would treat it as a default run value inplace of raising a type error which it otherwise would if an initializer was not used with an empty iterble**\n",
        "\n",
        "WITH INTIALISER\n",
        "```\n",
        ">>from functools import reduce\n",
        "\n",
        ">>print(reduce(sum,[],0))\n",
        "0\n",
        "\n",
        "```\n",
        "\n",
        "WITHOUT INITIALISER\n",
        "```\n",
        ">>from functools import reduce\n",
        "\n",
        ">>print(reduce(sum,[]))\n",
        "\n",
        "TypeError: reduce() of empty sequence with no initial value\n",
        "```\n",
        "\n",
        "\n"
      ]
    },
    {
      "cell_type": "markdown",
      "metadata": {
        "id": "MCwz0mvUm7mC"
      },
      "source": [
        "##**LAMBDA WITH reduce()**\n",
        "Lambda is an anonymous function that can take any number of arguments but returns only one expression.\n",
        "Since in reduce() we need a function that takes in two arguments, Lambda can be utilized effectively also this would mean that we don't have to explicitly define a function to use it; we can use lambda instead.\n",
        "\n",
        "### SYNTAX => lambda arguments:expression\n",
        "```\n",
        "x = lambda a, b : a + b\n",
        "print(x(4, 6))\n",
        "```\n",
        "**OUTPUT**: 10  \n",
        "Here, are some examples of how lambda can be used in reduce()\n",
        "\n",
        "\n",
        "\n"
      ]
    },
    {
      "cell_type": "code",
      "metadata": {
        "id": "EHjGcX4yB0pA",
        "colab": {
          "base_uri": "https://localhost:8080/"
        },
        "outputId": "127174d6-5e1b-45b9-c1ea-5314bc80726e"
      },
      "source": [
        "from functools import reduce\n",
        "\n",
        "\n",
        "numbers=[2,6,8,9]\n",
        "\n",
        "print(\"Minimum of the given list = \",reduce(lambda a,b : a if a<b else b,numbers))  # printing the minimum value from the list\n",
        "print(\"Maximum of the given list = \",reduce(lambda a,b : a if a>b else b,numbers))  # printing the maximum value from the list"
      ],
      "execution_count": null,
      "outputs": [
        {
          "output_type": "stream",
          "name": "stdout",
          "text": [
            "Minimum of the given list =  2\n",
            "Maximum of the given list =  9\n"
          ]
        }
      ]
    },
    {
      "cell_type": "code",
      "metadata": {
        "colab": {
          "base_uri": "https://localhost:8080/"
        },
        "id": "XgkV26iIelS9",
        "outputId": "561fbce5-1f91-4e9e-d44d-8a3c4541c664"
      },
      "source": [
        "from functools import reduce\n",
        "\n",
        "numbers=(1,3,5,6,7)\n",
        "\n",
        "print(\"product of all numbers from the tuple = \", reduce(lambda x,y :x*y,numbers))\n",
        "\n"
      ],
      "execution_count": null,
      "outputs": [
        {
          "output_type": "stream",
          "name": "stdout",
          "text": [
            "product of all numbers from the tuple =  630\n"
          ]
        }
      ]
    },
    {
      "cell_type": "markdown",
      "metadata": {
        "id": "3TbmIvrxAUNI"
      },
      "source": [
        "## **COMPARING reduce() AND  accumulate()**\n",
        "> accumulate() can be imported from the itertools module. It basically takes one argument which is the iterable (any python iterable). The second optional argument is the function (or any callable) that takes two arguments and returns a single value.\n",
        "\n",
        "\n",
        "> accumulate() returns an iterator.If a function is not provided to it, then each time the new item in the resulting iterator ould be the sum of the previous items and the current item.\n",
        "\n",
        "**NOTE: Since, accumulate() returns an iterator it has to be stored in an iterable like a list,tuple etc.**\n",
        "\n",
        "WITHOUT USING FUNCTION IN accumulate()\n",
        "```\n",
        ">>from itertools import accumulate \n",
        ">>from functools import reduce\n",
        ">>from operator import add\n",
        "\n",
        ">>numbers = [10,20,30,40]\n",
        "\n",
        ">>print(tupple(accumulate(numbers)))  #using accumulate()\n",
        "(10,30,60,100)\n",
        "\n",
        ">>print(reduce (add,numbers))         #using reduce()\n",
        "100\n",
        "```\n",
        "USING FUNCTION IN accumulate()\n",
        "```\n",
        ">>from itertools import accumulate \n",
        ">>from functools import reduce\n",
        ">>from operator import add\n",
        "\n",
        ">>numbers = [10,20,30,40]\n",
        "\n",
        ">>print(tupple(accumulate(numbers,mul)))  #using accumulate()\n",
        "(10,200,6000,240000)\n",
        "\n",
        ">>print(reduce (mul,numbers))         #using reduce()\n",
        "240000\n",
        "```\n",
        "This is thus well evident that the last element accumulte() iterable has the value same as reduce().\n",
        "\n",
        "\n",
        "\n",
        "\n",
        "\n",
        "\n",
        "\n",
        "\n"
      ]
    },
    {
      "cell_type": "markdown",
      "metadata": {
        "id": "HmqgfzqcOH0V"
      },
      "source": [
        "## **ADVANTAGES OF USING reduce()**\n",
        "\n",
        "\n",
        "*   In general, Python’s reduce() can be used easily in processing iterables \n",
        "without writing explicit for loops.  \n",
        "\n",
        " \n",
        "*   Since reduce() is written in C, its internal loop can be faster than an explicit Python for loop.\n",
        "\n",
        "\n",
        " \n",
        "\n"
      ]
    },
    {
      "cell_type": "markdown",
      "metadata": {
        "id": "sQEDfR7GIVJs"
      },
      "source": [
        "This was all about the Python Advanced Function **reduce()**  \n",
        "Hope you had fun learning!  \n",
        "***HAPPY CODING :)***"
      ]
    },
    {
      "cell_type": "markdown",
      "metadata": {
        "id": "bWvsdTljqyLP"
      },
      "source": [
        "##**REFERENCES**\n",
        "\n",
        "https://docs.python.org/3/library/functools.html  \n",
        "https://docs.python.org/3/library/operator.html  \n",
        "www.realpython.com  \n",
        "www.geeksforgeeks.org  \n",
        "www.w3schools.com (for some help on lambda)  \n",
        "www.stackoverflow.com (in clearing out certain errors and queries)\n"
      ]
    }
  ]
}