{
  "nbformat": 4,
  "nbformat_minor": 0,
  "metadata": {
    "colab": {
      "name": "OOP-class.ipynb",
      "provenance": [],
      "collapsed_sections": []
    },
    "kernelspec": {
      "name": "python3",
      "display_name": "Python 3"
    },
    "language_info": {
      "name": "python"
    }
  },
  "cells": [
    {
      "cell_type": "markdown",
      "metadata": {
        "id": "j5kQX0js8KwS"
      },
      "source": [
        "**Declaring a Class Syntax**"
      ]
    },
    {
      "cell_type": "code",
      "metadata": {
        "id": "iReGrEsN75Pw"
      },
      "source": [
        "class Employee:\n",
        "  pass"
      ],
      "execution_count": null,
      "outputs": []
    },
    {
      "cell_type": "markdown",
      "metadata": {
        "id": "lpM002qE8Y_7"
      },
      "source": [
        "**Creating a Class with Attributes and Declaring a Object**"
      ]
    },
    {
      "cell_type": "code",
      "metadata": {
        "colab": {
          "base_uri": "https://localhost:8080/"
        },
        "id": "R9O7Sj5Z8oS8",
        "outputId": "f7cc8cd7-f16e-45d2-c84f-2b86dcfbc468"
      },
      "source": [
        "class Employee:\n",
        "  #class attributes\n",
        "  role = \"Developer\"\n",
        "  dateofjoining=\"2021-09-21\"\n",
        "\n",
        "  def getrole(self):\n",
        "    print(\"Role: \",self.role)\n",
        "\n",
        "#Driver code\n",
        "shyam = Employee()\n",
        "\n",
        "\n",
        "#get object value of a attribute\n",
        "print(shyam.role)\n",
        "\n",
        "#call a function from object\n",
        "shyam.getrole()"
      ],
      "execution_count": 1,
      "outputs": [
        {
          "output_type": "stream",
          "name": "stdout",
          "text": [
            "Developer\n",
            "Role:  Developer\n"
          ]
        }
      ]
    },
    {
      "cell_type": "markdown",
      "metadata": {
        "id": "M21ltveC-cN8"
      },
      "source": [
        "**Class using __init__ method and self parameter**"
      ]
    },
    {
      "cell_type": "code",
      "metadata": {
        "colab": {
          "base_uri": "https://localhost:8080/"
        },
        "id": "eH65_TNI-iHJ",
        "outputId": "3b81e7bf-3cc7-4582-bc68-4a34be8765bc"
      },
      "source": [
        "class Employee:\n",
        "\n",
        "  def __init__(self,role):\n",
        "    self.role = role\n",
        "\n",
        "  def getrole(self):\n",
        "    print(\"Role: \",self.role)\n",
        "\n",
        "#Driver code\n",
        "shyam = Employee('Developer')\n",
        "shyam.getrole()\n"
      ],
      "execution_count": 2,
      "outputs": [
        {
          "output_type": "stream",
          "name": "stdout",
          "text": [
            "Role:  Developer\n"
          ]
        }
      ]
    }
  ]
}