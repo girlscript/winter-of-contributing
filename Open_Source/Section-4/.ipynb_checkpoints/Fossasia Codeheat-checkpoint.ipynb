{
 "cells": [
  {
   "cell_type": "markdown",
   "id": "b070f5f7",
   "metadata": {},
   "source": [
    "# FOSSASIA CODEHEAT CONTEST"
   ]
  },
  {
   "attachments": {},
   "cell_type": "markdown",
   "id": "52ae829d",
   "metadata": {},
   "source": [
    "Codeheat is a coding contest for FOSSASIA projects on GitHub.!\n",
    "[codeheat.png](attachment:codeheat.png)"
   ]
  },
  {
   "attachments": {},
   "cell_type": "markdown",
   "id": "e91279c4",
   "metadata": {},
   "source": [
    "Fossasia contest is proudly powered by OpenTech and fossasia.\n",
    "\n",
    "Codeheat is a coding contest for developers interested in contributing to Open Source software and hardware projects at FOSSASIA. Join development of real world software applications, build up your developer profile, learn new new coding skills, collaborate with the community and make new friends from around the world!!\n",
    "[opentech.png](attachment:opentech.png)          "
   ]
  },
  {
   "cell_type": "code",
   "execution_count": null,
   "id": "19869df9",
   "metadata": {},
   "outputs": [],
   "source": []
  },
  {
   "cell_type": "markdown",
   "id": "195ddbb6",
   "metadata": {},
   "source": [
    "What is Fossaia Codeheat -\n",
    "\n",
    "This is one of the most awaited and big contest where developers take part and work on many Github repositories offered by Fossasia throughout it's journey.\n",
    "The idea of the contest is to introduce developers to the FOSSASIA projects and to provide an opportunity to build up their development profile, learn how to work according to Best Development Practices and ultimately become part of the development team. The contest also provides an entry point and preparation for future coding programs like the FOSSASIA Google Summer of Code.\n",
    "\n",
    "Many young developers are not yet deeply familiar with Open Source and the contest is an easy way to get involved in this international community of developers, who want to help you learn and succeed. The contest is a gateway to learning new skills as well as learning to work in a collaborative software development team. At the end of the contest, developers can show their friends, teachers, co-developers and family members the work they did on public repositories and the project applications itself - used by people around the world.\n",
    "Fossasia encourages to build up Projects with collaboration as well as individual to increase the experience in Open source and level up your profile with Fossasia.\n",
    "This contest happens every year and was Started in 2016 year."
   ]
  },
  {
   "cell_type": "markdown",
   "id": "af923cf4",
   "metadata": {},
   "source": [
    "To take part in Fossaisa contest , you need to sigh up for the contest by filling the form available in fossasia official website.\n",
    "All you need to do to just brush up your git & github skills with your interest domain Projects."
   ]
  },
  {
   "cell_type": "markdown",
   "id": "52796cb8",
   "metadata": {},
   "source": [
    "Duration -\n",
    "\n",
    "The contest is separated into two months period after which winners of each period are announced."
   ]
  },
  {
   "cell_type": "markdown",
   "id": "ff9fa8d1",
   "metadata": {},
   "source": [
    "Participation Criteria -\n",
    "\n",
    "Fossasia looks for great coders and there is no restriction or contraints for status, age, gender or background."
   ]
  },
  {
   "cell_type": "markdown",
   "id": "00b3b2ee",
   "metadata": {},
   "source": [
    "Schedule of Previously conducted Fossaian Contest- \n",
    "\n",
    "The contest began at 9:00 AM (SGT/GMT+8) on October 1, 2020 and ran until 11:00 PM (SGT/GMT+8) on June 1, 2020.\n",
    "Interested developers can join the contest at any time during the program.\n"
   ]
  },
  {
   "cell_type": "markdown",
   "id": "baac6165",
   "metadata": {},
   "source": [
    "Winner Selection and Participation kickshaws Criteria - \n",
    "\n",
    "The jury of Fossasia Codeheat will choose the winners from the top 10 contributors according to code quality and relevance of commits for the project each period. The jury also takes other contributions like submitted scrum reports and technical blog posts into account, but of course awesome code is the most important item on the list.\n",
    "Other participants will have the chance to win Tshirts and Swag and will get certificates of participation too."
   ]
  },
  {
   "cell_type": "markdown",
   "id": "3ff4ead9",
   "metadata": {},
   "source": [
    "Programming Languages Boundation(if any) - \n",
    "\n",
    "There are various programming languages used in FOSSASIA projects ranging from web front-end to back-end technologies and Linux technologies. \n",
    "You could even code on hardware firmwares and design hardware as a project. Here are a few languages that are popular: Java, Kotlin, Javascript, HTML, Python, C++, Shell Scripts."
   ]
  },
  {
   "cell_type": "markdown",
   "id": "a84ae525",
   "metadata": {},
   "source": [
    "How to contribute code in the contest?\n",
    "\n",
    "Step 1-\n",
    "At first developers sign up on a Google form here to participate.\n",
    "\n",
    "Step 2-\n",
    "Then join the FOSSASIA org on GitHub through this linke here.\n",
    "\n",
    "Step 3-\n",
    "Each developer then searches for issues labeled Codeheat that interests them and claims ownership of a particular issue. The developer works on the issue and if there are questions asks on the chat channel of the project. The main channel for decision making is however always the GitHub issue itself.\n",
    "\n",
    "Step 4-\n",
    "Once finished, the developers make a pull request from his/her own forked repository to the development branch of the project and submit their work for review.\n",
    "\n",
    "Step 5-\n",
    "Pull requests need to pass Travis builds, code CI tests and ensure migrations work.\n",
    "\n",
    "Step 6-\n",
    "Mentors and maintainers from the organization evaluate the work submitted. If the work is accepted, the developer earns 1 point for each accepted pull request and 1 point if they close an issue. So you could earn two points if you close an issue with a pull requests. [Please Note: Sometimes developers try to “beat the system” by submitting lots of small improvements as pull requests. Please consider that the jury is mainly interested in the substantiality and quality of code contributions and the sheer number is not the main criteria.]\n",
    "\n",
    "Step 7-\n",
    "After the pull request has been merged developers can claim another issue to work on if they wish.\n",
    "\n",
    "Step 8-\n",
    "If the work needs polishing, the task remains open and the core-developer may give the submitter additional time and guidance on improving their work.\n",
    "\n",
    "STEP 9-\n",
    "If the work does not meet expectations, the task can be reopened for another developer contestant to claim and work on."
   ]
  },
  {
   "cell_type": "markdown",
   "id": "b4f5013c",
   "metadata": {},
   "source": [
    "Contest Prizzes and benefits - \n",
    "\n",
    "1. Everyone who gets five pull requests merged during the entire contest (October 2020 - June 2021) will receive a digital certificate of participation from the FOSSASIA organization. \n",
    "\n",
    "2. Developers with 10 merged PRs or more in the contest will receive a Tshirt or other cool items from FOSSASIA (if postal distribution is feasible).\n",
    "\n",
    "3. Out of the top ten contributors in each contest period three grand prize winners will be chosen by the jury. \n",
    "\n",
    "4. The grand prize winners will receive a 100 SGD cash prize as a token of appreciation. Plus, they will have the chance to present their work at the Codeheat online event. \n",
    "\n",
    "5. An additional three finalists will receive a 50 SGD appreciation token."
   ]
  },
  {
   "cell_type": "markdown",
   "id": "d9362dc5",
   "metadata": {},
   "source": [
    "How do developers register for the contest?\n",
    "\n",
    "Developers should join the community and sign up for the following channels\n",
    "* Signup for the FOSSASIA Newsletter\n",
    "\n",
    "* Star and fork repositories you are interested in on GitHub\n",
    "\n",
    "* Join the FOSSASIA Chat on Gitter\n",
    "\n",
    "* Follow FOSSASIA on Twitter and the Codeheat Twitter account\n",
    "\n",
    "* Like FOSSASIA on Facebook\n",
    "\n",
    "* Join the FOSSASIA Group on Linkedin\n",
    "\n",
    "* Follow the FOSSASIA Linkedin Page\n",
    "\n",
    "* Subscribe to the FOSSASIA YouTube Channel\n",
    "\n",
    "* Once the contest is open developers will be able to sign up on a Google form\n",
    "\n",
    "All developers should then make their participation public by showing their membership as “public” in their GitHub profile."
   ]
  },
  {
   "cell_type": "markdown",
   "id": "c0c4a4f3",
   "metadata": {},
   "source": [
    "You can join the Fossasia Organization on Github and explore the projects and observe how , when and upto what expectation the developers work to make a repository successful and happening.\n",
    "Each and every detail is available on the official website https://codeheat.org/\n",
    "and Fossasia codeheat official webiste https://github.com/fossasia\n",
    "Twitter handle https://twitter.com/codeheat_\n"
   ]
  },
  {
   "cell_type": "markdown",
   "id": "a3ac15a5",
   "metadata": {},
   "source": [
    "All the issues are available on Github issues section and you can directly navigate to that section and Start contributing during the contest.\n",
    "\n",
    "Github Issue section - https://www.google.com/url?q=https://github.com/search?l%3D%26o%3Ddesc%26q%3Dorg%253Afossasia%2Borg%253Avoicerepublic%2Blabel%253Acodeheat%2Bstate%253Aopen%26s%3Dcreated%26type%3DIssues&sa=D&source=editors&ust=1631967661572000&usg=AFQjCNGszHwnBAuQAlb7hebZoGQc-FPO6A"
   ]
  },
  {
   "cell_type": "markdown",
   "id": "e2328f5e",
   "metadata": {},
   "source": [
    "This is all about the big Fossasia Codeheat Contest.\n",
    "If you are interested and want to contribute and become a open source enthusiastic participant \n",
    "visit the official website and explore more https://codeheat.org/\n",
    "\n"
   ]
  }
 ],
 "metadata": {
  "kernelspec": {
   "display_name": "Python 3 (ipykernel)",
   "language": "python",
   "name": "python3"
  },
  "language_info": {
   "codemirror_mode": {
    "name": "ipython",
    "version": 3
   },
   "file_extension": ".py",
   "mimetype": "text/x-python",
   "name": "python",
   "nbconvert_exporter": "python",
   "pygments_lexer": "ipython3",
   "version": "3.9.6"
  }
 },
 "nbformat": 4,
 "nbformat_minor": 5
}
