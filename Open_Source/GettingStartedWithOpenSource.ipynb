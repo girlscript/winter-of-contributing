{
  "nbformat": 4,
  "nbformat_minor": 0,
  "metadata": {
    "colab": {
      "name": "GettingStartedWithOpenSource.ipynb",
      "provenance": [],
      "authorship_tag": "ABX9TyPVt4ww6xyuXkCThr2I7DnS"
    },
    "kernelspec": {
      "name": "python3",
      "display_name": "Python 3"
    },
    "language_info": {
      "name": "python"
    }
  },
  "cells": [
    {
      "cell_type": "markdown",
      "metadata": {
        "id": "Wp4_xw6n0-Tq"
      },
      "source": [
        "#Getting Started With Open Source\n",
        "\n",
        "Open source is a software that is open for all which mean there is no genuine owner of it.Open source is source code that is made freely available for possible modification and redistribution.\n",
        "\n",
        "Some popular open source software are Mozilla Firefox,GIMP, VLC Media Player, Linux, Python, etc.open source dosent really mean to contributing to big repositories you can start by contributing to small repositories.\n",
        "\n",
        "## Why should I contribute to open-source?\n",
        "Open source is the best way to test your understanding in the respective domain By contributing to an open source project, you receive immediate feedback on your development and programming skills. You may get suggestions about the choice of a function name, the way you used conditional logic, or how using a goroutine you didn't know about speeds up the execution of your program. This is all invaluable feedback to receive when you're learning something new.\n",
        "\n",
        "In addition to building your skills and increasing your confidence, all of your open source contributions are public and demonstrate the skills you have mastered and the projects you've tackled.hence creating a strong portfolio\n",
        "\n",
        "## How do I get started?\n",
        "There are Prerequisites one should know before starting to contribute\n",
        "\n",
        "### Learn a programming language\n",
        "if you want to be involved in the development you must learn a programming language. you can choose a programming language of your choice.you can find a lot of resources on youtube for that\n",
        "\n",
        "Many people go with documentation, translation, etc as well which does not require programming. If you do not want to contribute as a developer then you can go ahead with this.\n",
        "\n",
        "\n",
        "### Version Control Systems\n",
        "Version control, also known as source control, is the practice of tracking and managing changes to software code. Version control systems are software tools that help software teams manage changes to source code over time.They also allow us to go through older versions and revert to an old version if required\n",
        "you can find more information about VCS [here](https://www.atlassian.com/git/tutorials/what-is-version-control)\n",
        "\n",
        "here are few version control system Git,CVS,SVN just to name a few\n",
        "\n",
        "### Git\n",
        "It is a free and open-source version control system used to handle small to very large projects efficiently. Git is used to tracking changes in the source code, enabling multiple developers to work together on non-linear development\n",
        "\n",
        "### Github\n",
        "GitHub is a Git repository hosting service, but it adds many of its own features. While Git is a command line tool, GitHub provides a Web-based graphical interface. It also provides access control and several collaboration features, such as a wikis and basic task management tools for every project.\n",
        "\n",
        "## Open-Source Programs/Contests\n",
        "Here are various programs that are available for university students and even for working professionals to get involved in open source.\n",
        "\n",
        "### Google Summer of Code (GSoC)\n",
        "[Google Summer of Code ](https://summerofcode.withgoogle.com/)is a global program focused on bringing more student developers into open source software development.  \n",
        "\n",
        "### Hacktoberfest\n",
        "[Hacktoberfest](https://hacktoberfest.digitalocean.com/) encourages participation in giving back to the open source community by completing pull requests, participating in events, and donating to open source projects. \n",
        "\n",
        "###  MLH Fellowship\n",
        " [MLH Fellowship](https://fellowship.mlh.io/)  recently launched a program known as MLH fellowship which is a 12-week remote program where students collaborate on Open Source projects that align their personal interests with the general requirements of the industry and students can participate from their homes. It has mainly three tracks – Explorer, Open Source, and Externship. Here you will gain those skills that you require to be a successful engineer like writing good documentation, open-source best practices, communication, etc. Also, make sure you meet the eligibility criteria before applying for the program.\n",
        "\n",
        "### GirlScript Summer of Code \n",
        "[GirlScript Summer of Code](https://gssoc.girlscript.tech/) is a 3 month long Open Source program during summers conducted by GirlScript Foundation, started in 2018, to help beginners get started with Open Source Development while encouraging diversity. this program is open for all not just for girls\n",
        "\n",
        "### Linux Kernel Mentorship Program \n",
        "[Linux Kernel Mentorship Program ](https://wiki.linuxfoundation.org/lkmp)\n",
        "offers a structured remote learning opportunity to aspiring Linux Kernel developers. Experienced Linux Kernel developers and maintainers mentor volunteer mentees and help them become contributors to the Linux Kernel.\n",
        "\n",
        "### All credits goes to \n",
        "[workat](https://workat.tech/general/article/open-source-contribution-guide-xmhf1k601vdj)\n",
        "\n",
        "[geeksforgeeks](https://www.geeksforgeeks.org/)\n",
        "\n",
        "[hackerearth](https://www.hackerearth.com/)\n",
        "\n"
      ]
    }
  ]
}