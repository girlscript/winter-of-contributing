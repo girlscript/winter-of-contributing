References: https://machinelearningmastery.com/model-based-outlier-detection-and-removal-in-python/#:~:text=One%2DClass%20SVM-,Outlier%20Detection%20and%20Removal,t%20fit%20in%20some%20way.&text=In%20this%20case%2C%20simple%20statistical,deviations%20or%20the%20interquartile%20range.

https://towardsdatascience.com/a-brief-overview-of-outlier-detection-techniques-1e0b2c19e561

http://scikit-learn.org/stable/modules/outlier_detection.html

https://www.sciencedirect.com/topics/computer-science/outlier-detection

https://www.kdnuggets.com/2018/12/four-techniques-outlier-detection.html

https://en.wikipedia.org/wiki/Anomaly_detection
